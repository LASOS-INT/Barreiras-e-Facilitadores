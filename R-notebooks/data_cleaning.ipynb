{
 "cells": [
  {
   "cell_type": "markdown",
   "metadata": {},
   "source": [
    "# Importing and Loading packages\n"
   ]
  },
  {
   "cell_type": "code",
   "execution_count": 233,
   "metadata": {},
   "outputs": [
    {
     "data": {
      "text/html": [
       "<ol>\n",
       "\t<li>TRUE</li>\n",
       "\t<li>TRUE</li>\n",
       "\t<li>TRUE</li>\n",
       "\t<li>TRUE</li>\n",
       "\t<li>TRUE</li>\n",
       "\t<li>TRUE</li>\n",
       "\t<li>TRUE</li>\n",
       "\t<li>TRUE</li>\n",
       "\t<li>TRUE</li>\n",
       "\t<li>TRUE</li>\n",
       "\t<li>TRUE</li>\n",
       "\t<li>TRUE</li>\n",
       "\t<li>TRUE</li>\n",
       "\t<li>TRUE</li>\n",
       "\t<li>TRUE</li>\n",
       "\t<li>TRUE</li>\n",
       "\t<li>TRUE</li>\n",
       "\t<li>TRUE</li>\n",
       "\t<li>TRUE</li>\n",
       "\t<li>TRUE</li>\n",
       "\t<li>TRUE</li>\n",
       "\t<li>TRUE</li>\n",
       "\t<li>TRUE</li>\n",
       "\t<li>TRUE</li>\n",
       "\t<li>TRUE</li>\n",
       "\t<li>TRUE</li>\n",
       "\t<li>TRUE</li>\n",
       "\t<li>TRUE</li>\n",
       "</ol>\n"
      ],
      "text/latex": [
       "\\begin{enumerate}\n",
       "\\item TRUE\n",
       "\\item TRUE\n",
       "\\item TRUE\n",
       "\\item TRUE\n",
       "\\item TRUE\n",
       "\\item TRUE\n",
       "\\item TRUE\n",
       "\\item TRUE\n",
       "\\item TRUE\n",
       "\\item TRUE\n",
       "\\item TRUE\n",
       "\\item TRUE\n",
       "\\item TRUE\n",
       "\\item TRUE\n",
       "\\item TRUE\n",
       "\\item TRUE\n",
       "\\item TRUE\n",
       "\\item TRUE\n",
       "\\item TRUE\n",
       "\\item TRUE\n",
       "\\item TRUE\n",
       "\\item TRUE\n",
       "\\item TRUE\n",
       "\\item TRUE\n",
       "\\item TRUE\n",
       "\\item TRUE\n",
       "\\item TRUE\n",
       "\\item TRUE\n",
       "\\end{enumerate}\n"
      ],
      "text/markdown": [
       "1. TRUE\n",
       "2. TRUE\n",
       "3. TRUE\n",
       "4. TRUE\n",
       "5. TRUE\n",
       "6. TRUE\n",
       "7. TRUE\n",
       "8. TRUE\n",
       "9. TRUE\n",
       "10. TRUE\n",
       "11. TRUE\n",
       "12. TRUE\n",
       "13. TRUE\n",
       "14. TRUE\n",
       "15. TRUE\n",
       "16. TRUE\n",
       "17. TRUE\n",
       "18. TRUE\n",
       "19. TRUE\n",
       "20. TRUE\n",
       "21. TRUE\n",
       "22. TRUE\n",
       "23. TRUE\n",
       "24. TRUE\n",
       "25. TRUE\n",
       "26. TRUE\n",
       "27. TRUE\n",
       "28. TRUE\n",
       "\n",
       "\n"
      ],
      "text/plain": [
       "[[1]]\n",
       "[1] TRUE\n",
       "\n",
       "[[2]]\n",
       "[1] TRUE\n",
       "\n",
       "[[3]]\n",
       "[1] TRUE\n",
       "\n",
       "[[4]]\n",
       "[1] TRUE\n",
       "\n",
       "[[5]]\n",
       "[1] TRUE\n",
       "\n",
       "[[6]]\n",
       "[1] TRUE\n",
       "\n",
       "[[7]]\n",
       "[1] TRUE\n",
       "\n",
       "[[8]]\n",
       "[1] TRUE\n",
       "\n",
       "[[9]]\n",
       "[1] TRUE\n",
       "\n",
       "[[10]]\n",
       "[1] TRUE\n",
       "\n",
       "[[11]]\n",
       "[1] TRUE\n",
       "\n",
       "[[12]]\n",
       "[1] TRUE\n",
       "\n",
       "[[13]]\n",
       "[1] TRUE\n",
       "\n",
       "[[14]]\n",
       "[1] TRUE\n",
       "\n",
       "[[15]]\n",
       "[1] TRUE\n",
       "\n",
       "[[16]]\n",
       "[1] TRUE\n",
       "\n",
       "[[17]]\n",
       "[1] TRUE\n",
       "\n",
       "[[18]]\n",
       "[1] TRUE\n",
       "\n",
       "[[19]]\n",
       "[1] TRUE\n",
       "\n",
       "[[20]]\n",
       "[1] TRUE\n",
       "\n",
       "[[21]]\n",
       "[1] TRUE\n",
       "\n",
       "[[22]]\n",
       "[1] TRUE\n",
       "\n",
       "[[23]]\n",
       "[1] TRUE\n",
       "\n",
       "[[24]]\n",
       "[1] TRUE\n",
       "\n",
       "[[25]]\n",
       "[1] TRUE\n",
       "\n",
       "[[26]]\n",
       "[1] TRUE\n",
       "\n",
       "[[27]]\n",
       "[1] TRUE\n",
       "\n",
       "[[28]]\n",
       "[1] TRUE\n"
      ]
     },
     "metadata": {},
     "output_type": "display_data"
    }
   ],
   "source": [
    "#install.packages(\"here\")\n",
    "library(here, help, pos = 2, lib.loc = NULL)\n",
    "source(here('Modules','modules.R'))\n",
    "#install_all_packages()\n",
    "load_library_packages()"
   ]
  },
  {
   "cell_type": "markdown",
   "metadata": {},
   "source": [
    "# Importing and Exploring the Dataset"
   ]
  },
  {
   "cell_type": "code",
   "execution_count": 234,
   "metadata": {},
   "outputs": [
    {
     "data": {
      "text/html": [
       "<style>\n",
       ".list-inline {list-style: none; margin:0; padding: 0}\n",
       ".list-inline>li {display: inline-block}\n",
       ".list-inline>li:not(:last-child)::after {content: \"\\00b7\"; padding: 0 .5ex}\n",
       "</style>\n",
       "<ol class=list-inline><li>1255</li><li>78</li></ol>\n"
      ],
      "text/latex": [
       "\\begin{enumerate*}\n",
       "\\item 1255\n",
       "\\item 78\n",
       "\\end{enumerate*}\n"
      ],
      "text/markdown": [
       "1. 1255\n",
       "2. 78\n",
       "\n",
       "\n"
      ],
      "text/plain": [
       "[1] 1255   78"
      ]
     },
     "metadata": {},
     "output_type": "display_data"
    },
    {
     "data": {
      "text/html": [
       "'numeric'"
      ],
      "text/latex": [
       "'numeric'"
      ],
      "text/markdown": [
       "'numeric'"
      ],
      "text/plain": [
       "[1] \"numeric\""
      ]
     },
     "metadata": {},
     "output_type": "display_data"
    },
    {
     "data": {
      "text/html": [
       "<table class=\"dataframe\">\n",
       "<caption>A data.frame: 6 × 78</caption>\n",
       "<thead>\n",
       "\t<tr><th></th><th scope=col>sex</th><th scope=col>age_range</th><th scope=col>martialStatus</th><th scope=col>state</th><th scope=col>zone</th><th scope=col>co.resident_range</th><th scope=col>rooms_range</th><th scope=col>income_range</th><th scope=col>scholarity</th><th scope=col>diabetes</th><th scope=col>...</th><th scope=col>PA_barriers_before_time_family_responsabilities</th><th scope=col>PA_barriers_before_tiredness</th><th scope=col>PA_barriers_before_location_distance</th><th scope=col>PA_barriers_before_money</th><th scope=col>PA_barriers_before_time_convenience</th><th scope=col>PA_barriers_before_hard_task</th><th scope=col>PA_barriers_before_interest</th><th scope=col>PA_barriers_before_none</th><th scope=col>PA_practice_during</th><th scope=col>sedentary_time_range_during</th></tr>\n",
       "\t<tr><th></th><th scope=col>&lt;dbl&gt;</th><th scope=col>&lt;dbl&gt;</th><th scope=col>&lt;dbl&gt;</th><th scope=col>&lt;dbl&gt;</th><th scope=col>&lt;dbl&gt;</th><th scope=col>&lt;dbl&gt;</th><th scope=col>&lt;dbl&gt;</th><th scope=col>&lt;dbl&gt;</th><th scope=col>&lt;dbl&gt;</th><th scope=col>&lt;dbl&gt;</th><th scope=col>...</th><th scope=col>&lt;dbl&gt;</th><th scope=col>&lt;dbl&gt;</th><th scope=col>&lt;dbl&gt;</th><th scope=col>&lt;dbl&gt;</th><th scope=col>&lt;dbl&gt;</th><th scope=col>&lt;dbl&gt;</th><th scope=col>&lt;dbl&gt;</th><th scope=col>&lt;dbl&gt;</th><th scope=col>&lt;dbl&gt;</th><th scope=col>&lt;dbl&gt;</th></tr>\n",
       "</thead>\n",
       "<tbody>\n",
       "\t<tr><th scope=row>1</th><td>1</td><td>2</td><td>1</td><td>25</td><td>2</td><td>1</td><td>1</td><td>4</td><td>4</td><td>0</td><td>...</td><td>0</td><td>0</td><td>0</td><td>0</td><td>1</td><td>0</td><td>0</td><td>0</td><td>1</td><td>5</td></tr>\n",
       "\t<tr><th scope=row>2</th><td>2</td><td>3</td><td>1</td><td>21</td><td>1</td><td>2</td><td>3</td><td>6</td><td>4</td><td>0</td><td>...</td><td>0</td><td>1</td><td>0</td><td>0</td><td>0</td><td>0</td><td>0</td><td>0</td><td>0</td><td>4</td></tr>\n",
       "\t<tr><th scope=row>3</th><td>1</td><td>3</td><td>1</td><td>21</td><td>1</td><td>2</td><td>2</td><td>5</td><td>3</td><td>0</td><td>...</td><td>0</td><td>0</td><td>0</td><td>1</td><td>0</td><td>0</td><td>0</td><td>0</td><td>0</td><td>2</td></tr>\n",
       "\t<tr><th scope=row>4</th><td>1</td><td>3</td><td>1</td><td>21</td><td>1</td><td>1</td><td>1</td><td>3</td><td>4</td><td>0</td><td>...</td><td>0</td><td>0</td><td>0</td><td>0</td><td>1</td><td>0</td><td>0</td><td>0</td><td>0</td><td>3</td></tr>\n",
       "\t<tr><th scope=row>5</th><td>1</td><td>2</td><td>2</td><td>25</td><td>2</td><td>2</td><td>2</td><td>6</td><td>4</td><td>0</td><td>...</td><td>1</td><td>0</td><td>0</td><td>0</td><td>0</td><td>0</td><td>0</td><td>0</td><td>0</td><td>5</td></tr>\n",
       "\t<tr><th scope=row>6</th><td>2</td><td>3</td><td>2</td><td>21</td><td>1</td><td>2</td><td>2</td><td>6</td><td>6</td><td>0</td><td>...</td><td>1</td><td>0</td><td>0</td><td>0</td><td>0</td><td>0</td><td>0</td><td>0</td><td>0</td><td>2</td></tr>\n",
       "</tbody>\n",
       "</table>\n"
      ],
      "text/latex": [
       "A data.frame: 6 × 78\n",
       "\\begin{tabular}{r|lllllllllllllllllllll}\n",
       "  & sex & age\\_range & martialStatus & state & zone & co.resident\\_range & rooms\\_range & income\\_range & scholarity & diabetes & ... & PA\\_barriers\\_before\\_time\\_family\\_responsabilities & PA\\_barriers\\_before\\_tiredness & PA\\_barriers\\_before\\_location\\_distance & PA\\_barriers\\_before\\_money & PA\\_barriers\\_before\\_time\\_convenience & PA\\_barriers\\_before\\_hard\\_task & PA\\_barriers\\_before\\_interest & PA\\_barriers\\_before\\_none & PA\\_practice\\_during & sedentary\\_time\\_range\\_during\\\\\n",
       "  & <dbl> & <dbl> & <dbl> & <dbl> & <dbl> & <dbl> & <dbl> & <dbl> & <dbl> & <dbl> & ... & <dbl> & <dbl> & <dbl> & <dbl> & <dbl> & <dbl> & <dbl> & <dbl> & <dbl> & <dbl>\\\\\n",
       "\\hline\n",
       "\t1 & 1 & 2 & 1 & 25 & 2 & 1 & 1 & 4 & 4 & 0 & ... & 0 & 0 & 0 & 0 & 1 & 0 & 0 & 0 & 1 & 5\\\\\n",
       "\t2 & 2 & 3 & 1 & 21 & 1 & 2 & 3 & 6 & 4 & 0 & ... & 0 & 1 & 0 & 0 & 0 & 0 & 0 & 0 & 0 & 4\\\\\n",
       "\t3 & 1 & 3 & 1 & 21 & 1 & 2 & 2 & 5 & 3 & 0 & ... & 0 & 0 & 0 & 1 & 0 & 0 & 0 & 0 & 0 & 2\\\\\n",
       "\t4 & 1 & 3 & 1 & 21 & 1 & 1 & 1 & 3 & 4 & 0 & ... & 0 & 0 & 0 & 0 & 1 & 0 & 0 & 0 & 0 & 3\\\\\n",
       "\t5 & 1 & 2 & 2 & 25 & 2 & 2 & 2 & 6 & 4 & 0 & ... & 1 & 0 & 0 & 0 & 0 & 0 & 0 & 0 & 0 & 5\\\\\n",
       "\t6 & 2 & 3 & 2 & 21 & 1 & 2 & 2 & 6 & 6 & 0 & ... & 1 & 0 & 0 & 0 & 0 & 0 & 0 & 0 & 0 & 2\\\\\n",
       "\\end{tabular}\n"
      ],
      "text/markdown": [
       "\n",
       "A data.frame: 6 × 78\n",
       "\n",
       "| <!--/--> | sex &lt;dbl&gt; | age_range &lt;dbl&gt; | martialStatus &lt;dbl&gt; | state &lt;dbl&gt; | zone &lt;dbl&gt; | co.resident_range &lt;dbl&gt; | rooms_range &lt;dbl&gt; | income_range &lt;dbl&gt; | scholarity &lt;dbl&gt; | diabetes &lt;dbl&gt; | ... ... | PA_barriers_before_time_family_responsabilities &lt;dbl&gt; | PA_barriers_before_tiredness &lt;dbl&gt; | PA_barriers_before_location_distance &lt;dbl&gt; | PA_barriers_before_money &lt;dbl&gt; | PA_barriers_before_time_convenience &lt;dbl&gt; | PA_barriers_before_hard_task &lt;dbl&gt; | PA_barriers_before_interest &lt;dbl&gt; | PA_barriers_before_none &lt;dbl&gt; | PA_practice_during &lt;dbl&gt; | sedentary_time_range_during &lt;dbl&gt; |\n",
       "|---|---|---|---|---|---|---|---|---|---|---|---|---|---|---|---|---|---|---|---|---|---|\n",
       "| 1 | 1 | 2 | 1 | 25 | 2 | 1 | 1 | 4 | 4 | 0 | ... | 0 | 0 | 0 | 0 | 1 | 0 | 0 | 0 | 1 | 5 |\n",
       "| 2 | 2 | 3 | 1 | 21 | 1 | 2 | 3 | 6 | 4 | 0 | ... | 0 | 1 | 0 | 0 | 0 | 0 | 0 | 0 | 0 | 4 |\n",
       "| 3 | 1 | 3 | 1 | 21 | 1 | 2 | 2 | 5 | 3 | 0 | ... | 0 | 0 | 0 | 1 | 0 | 0 | 0 | 0 | 0 | 2 |\n",
       "| 4 | 1 | 3 | 1 | 21 | 1 | 1 | 1 | 3 | 4 | 0 | ... | 0 | 0 | 0 | 0 | 1 | 0 | 0 | 0 | 0 | 3 |\n",
       "| 5 | 1 | 2 | 2 | 25 | 2 | 2 | 2 | 6 | 4 | 0 | ... | 1 | 0 | 0 | 0 | 0 | 0 | 0 | 0 | 0 | 5 |\n",
       "| 6 | 2 | 3 | 2 | 21 | 1 | 2 | 2 | 6 | 6 | 0 | ... | 1 | 0 | 0 | 0 | 0 | 0 | 0 | 0 | 0 | 2 |\n",
       "\n"
      ],
      "text/plain": [
       "  sex age_range martialStatus state zone co.resident_range rooms_range\n",
       "1 1   2         1             25    2    1                 1          \n",
       "2 2   3         1             21    1    2                 3          \n",
       "3 1   3         1             21    1    2                 2          \n",
       "4 1   3         1             21    1    1                 1          \n",
       "5 1   2         2             25    2    2                 2          \n",
       "6 2   3         2             21    1    2                 2          \n",
       "  income_range scholarity diabetes ...\n",
       "1 4            4          0        ...\n",
       "2 6            4          0        ...\n",
       "3 5            3          0        ...\n",
       "4 3            4          0        ...\n",
       "5 6            4          0        ...\n",
       "6 6            6          0        ...\n",
       "  PA_barriers_before_time_family_responsabilities PA_barriers_before_tiredness\n",
       "1 0                                               0                           \n",
       "2 0                                               1                           \n",
       "3 0                                               0                           \n",
       "4 0                                               0                           \n",
       "5 1                                               0                           \n",
       "6 1                                               0                           \n",
       "  PA_barriers_before_location_distance PA_barriers_before_money\n",
       "1 0                                    0                       \n",
       "2 0                                    0                       \n",
       "3 0                                    1                       \n",
       "4 0                                    0                       \n",
       "5 0                                    0                       \n",
       "6 0                                    0                       \n",
       "  PA_barriers_before_time_convenience PA_barriers_before_hard_task\n",
       "1 1                                   0                           \n",
       "2 0                                   0                           \n",
       "3 0                                   0                           \n",
       "4 1                                   0                           \n",
       "5 0                                   0                           \n",
       "6 0                                   0                           \n",
       "  PA_barriers_before_interest PA_barriers_before_none PA_practice_during\n",
       "1 0                           0                       1                 \n",
       "2 0                           0                       0                 \n",
       "3 0                           0                       0                 \n",
       "4 0                           0                       0                 \n",
       "5 0                           0                       0                 \n",
       "6 0                           0                       0                 \n",
       "  sedentary_time_range_during\n",
       "1 5                          \n",
       "2 4                          \n",
       "3 2                          \n",
       "4 3                          \n",
       "5 5                          \n",
       "6 2                          "
      ]
     },
     "metadata": {},
     "output_type": "display_data"
    }
   ],
   "source": [
    "df <- read_excel(path = here('Data','before_pa.xlsx'))\n",
    "df <- data.frame(df)\n",
    "dim(df)\n",
    "unique(sapply(df, class))\n",
    "head(df)"
   ]
  },
  {
   "cell_type": "markdown",
   "metadata": {},
   "source": [
    "# Adding new Columns"
   ]
  },
  {
   "cell_type": "code",
   "execution_count": 235,
   "metadata": {},
   "outputs": [],
   "source": [
    "sports = c('running_before','hiking_before','cycling_before','muscle_training_before',\n",
    "'soccer_before','tennis_before','volleyball_before','basketball_before',\n",
    "'swimming_before','surfing_before','yoga_before','pilates_before',\n",
    "'fighting_before','other_sports_before')\n",
    "    \n",
    "df[, \"pa_number_before\"] = rowSums(df[, sports])"
   ]
  },
  {
   "cell_type": "markdown",
   "metadata": {},
   "source": [
    "# Treating missing data\n",
    "\n",
    "### As the dataset had little missing data, we chose to omit them"
   ]
  },
  {
   "cell_type": "code",
   "execution_count": 236,
   "metadata": {},
   "outputs": [
    {
     "data": {
      "text/html": [
       "<style>\n",
       ".list-inline {list-style: none; margin:0; padding: 0}\n",
       ".list-inline>li {display: inline-block}\n",
       ".list-inline>li:not(:last-child)::after {content: \"\\00b7\"; padding: 0 .5ex}\n",
       "</style>\n",
       "<ol class=list-inline><li>1242</li><li>79</li></ol>\n"
      ],
      "text/latex": [
       "\\begin{enumerate*}\n",
       "\\item 1242\n",
       "\\item 79\n",
       "\\end{enumerate*}\n"
      ],
      "text/markdown": [
       "1. 1242\n",
       "2. 79\n",
       "\n",
       "\n"
      ],
      "text/plain": [
       "[1] 1242   79"
      ]
     },
     "metadata": {},
     "output_type": "display_data"
    }
   ],
   "source": [
    "df <- df[complete.cases(df), ]\n",
    "row.names(df) <- NULL\n",
    "dim(df)"
   ]
  },
  {
   "cell_type": "markdown",
   "metadata": {},
   "source": [
    "# Treating variables type"
   ]
  },
  {
   "cell_type": "markdown",
   "metadata": {},
   "source": [
    "### Changing some class names to make insights easier with clear lables\n",
    "For columns PA_practice_before and PA_practive_during:\n",
    " - 0 -> practice\n",
    " - 1 -> dont_practice\n",
    "\n",
    "For columns PA_intesity:\n",
    " - 4 -> 0 (class 4 means don't practice, we need to make it smaller then other intensities)\n",
    "\n",
    "\n",
    "For column PA_duration_before:\n",
    " - 5 -> 0 (class 5 means don't practice, we need to make it smaller then other durations )\n"
   ]
  },
  {
   "cell_type": "code",
   "execution_count": 237,
   "metadata": {},
   "outputs": [],
   "source": [
    "df$PA_practice_before[df$PA_practice_before == 0] <- \"practice\"\n",
    "df$PA_practice_before[df$PA_practice_before == 1] <- \"dont_practice\"\n",
    "df$PA_practice_during[df$PA_practice_during == 0] <- \"practice\"\n",
    "df$PA_practice_during[df$PA_practice_during == 1] <- \"dont_practice\"\n",
    "df$PA_intensity_before[df$PA_intensity_before == 4] <- 0\n",
    "df$PA_duration_before[df$PA_duration_before == 5] <- 0\n",
    "\n",
    "\n",
    "df$sedentary_time_range_during[df$sedentary_time_range_during < 5] <- \"less_then_8_hours\"\n",
    "df$sedentary_time_range_during[df$sedentary_time_range_during == 5] <- \"8_hour_or_more\"\n",
    "\n",
    "df$sedentary_time_range_before[df$sedentary_time_range_before < 5] <- \"less_then_8_hours\"\n",
    "df$sedentary_time_range_before[df$sedentary_time_range_before == 5] <- \"8_hour_or_more\""
   ]
  },
  {
   "cell_type": "code",
   "execution_count": 238,
   "metadata": {},
   "outputs": [],
   "source": [
    "pa_behavior1 <- df[df$PA_practice_before == \"practice\", ]\n",
    "pa_behavior2 <- df[df$PA_practice_before == \"dont_practice\", ]\n",
    "\n",
    "convert_pa_behavior <- function (row) {\n",
    "    if(row[\"PA_practice_before\"] == \"dont_practice\" && row[\"PA_practice_during\"] == \"dont_practice\"){\n",
    "        \"still_dont_practice\"\n",
    "    } else if (row[\"PA_practice_before\"] == \"dont_practice\" && row[\"PA_practice_during\"] == \"practice\"){\n",
    "        \"change_to_practice\"\n",
    "    } else if (row[\"PA_practice_before\"] == \"practice\" && row[\"PA_practice_during\"] == \"practice\"){\n",
    "        \"still_practice\"\n",
    "    } else {\n",
    "        \"change_to_dont_practice\"\n",
    "    }\n",
    "\n",
    "}\n",
    "\n",
    "\n",
    "df[\"pa_behavior\"] <- apply(df, MARGIN=1, convert_pa_behavior)"
   ]
  },
  {
   "cell_type": "markdown",
   "metadata": {},
   "source": [
    "### Columns with some sense of order needs to be numeric \n",
    "(this type has better support then ordered factor)"
   ]
  },
  {
   "cell_type": "code",
   "execution_count": 239,
   "metadata": {},
   "outputs": [
    {
     "data": {
      "text/html": [
       "TRUE"
      ],
      "text/latex": [
       "TRUE"
      ],
      "text/markdown": [
       "TRUE"
      ],
      "text/plain": [
       "[1] TRUE"
      ]
     },
     "metadata": {},
     "output_type": "display_data"
    },
    {
     "data": {
      "text/html": [
       "<table class=\"dataframe\">\n",
       "<caption>A data.frame: 6 × 9</caption>\n",
       "<thead>\n",
       "\t<tr><th></th><th scope=col>age_range</th><th scope=col>rooms_range</th><th scope=col>income_range</th><th scope=col>scholarity</th><th scope=col>co.resident_range</th><th scope=col>PA_weekly_frequency_before</th><th scope=col>PA_intensity_before</th><th scope=col>PA_duration_before</th><th scope=col>pa_number_before</th></tr>\n",
       "\t<tr><th></th><th scope=col>&lt;int&gt;</th><th scope=col>&lt;int&gt;</th><th scope=col>&lt;int&gt;</th><th scope=col>&lt;int&gt;</th><th scope=col>&lt;int&gt;</th><th scope=col>&lt;int&gt;</th><th scope=col>&lt;int&gt;</th><th scope=col>&lt;int&gt;</th><th scope=col>&lt;int&gt;</th></tr>\n",
       "</thead>\n",
       "<tbody>\n",
       "\t<tr><th scope=row>1</th><td>2</td><td>1</td><td>4</td><td>4</td><td>1</td><td>4</td><td>1</td><td>2</td><td>1</td></tr>\n",
       "\t<tr><th scope=row>2</th><td>3</td><td>3</td><td>6</td><td>4</td><td>2</td><td>3</td><td>2</td><td>3</td><td>4</td></tr>\n",
       "\t<tr><th scope=row>3</th><td>3</td><td>2</td><td>5</td><td>3</td><td>2</td><td>2</td><td>3</td><td>2</td><td>2</td></tr>\n",
       "\t<tr><th scope=row>4</th><td>3</td><td>1</td><td>3</td><td>4</td><td>1</td><td>4</td><td>3</td><td>3</td><td>2</td></tr>\n",
       "\t<tr><th scope=row>5</th><td>2</td><td>2</td><td>6</td><td>4</td><td>2</td><td>4</td><td>3</td><td>3</td><td>2</td></tr>\n",
       "\t<tr><th scope=row>6</th><td>3</td><td>2</td><td>6</td><td>6</td><td>2</td><td>3</td><td>2</td><td>2</td><td>3</td></tr>\n",
       "</tbody>\n",
       "</table>\n"
      ],
      "text/latex": [
       "A data.frame: 6 × 9\n",
       "\\begin{tabular}{r|lllllllll}\n",
       "  & age\\_range & rooms\\_range & income\\_range & scholarity & co.resident\\_range & PA\\_weekly\\_frequency\\_before & PA\\_intensity\\_before & PA\\_duration\\_before & pa\\_number\\_before\\\\\n",
       "  & <int> & <int> & <int> & <int> & <int> & <int> & <int> & <int> & <int>\\\\\n",
       "\\hline\n",
       "\t1 & 2 & 1 & 4 & 4 & 1 & 4 & 1 & 2 & 1\\\\\n",
       "\t2 & 3 & 3 & 6 & 4 & 2 & 3 & 2 & 3 & 4\\\\\n",
       "\t3 & 3 & 2 & 5 & 3 & 2 & 2 & 3 & 2 & 2\\\\\n",
       "\t4 & 3 & 1 & 3 & 4 & 1 & 4 & 3 & 3 & 2\\\\\n",
       "\t5 & 2 & 2 & 6 & 4 & 2 & 4 & 3 & 3 & 2\\\\\n",
       "\t6 & 3 & 2 & 6 & 6 & 2 & 3 & 2 & 2 & 3\\\\\n",
       "\\end{tabular}\n"
      ],
      "text/markdown": [
       "\n",
       "A data.frame: 6 × 9\n",
       "\n",
       "| <!--/--> | age_range &lt;int&gt; | rooms_range &lt;int&gt; | income_range &lt;int&gt; | scholarity &lt;int&gt; | co.resident_range &lt;int&gt; | PA_weekly_frequency_before &lt;int&gt; | PA_intensity_before &lt;int&gt; | PA_duration_before &lt;int&gt; | pa_number_before &lt;int&gt; |\n",
       "|---|---|---|---|---|---|---|---|---|---|\n",
       "| 1 | 2 | 1 | 4 | 4 | 1 | 4 | 1 | 2 | 1 |\n",
       "| 2 | 3 | 3 | 6 | 4 | 2 | 3 | 2 | 3 | 4 |\n",
       "| 3 | 3 | 2 | 5 | 3 | 2 | 2 | 3 | 2 | 2 |\n",
       "| 4 | 3 | 1 | 3 | 4 | 1 | 4 | 3 | 3 | 2 |\n",
       "| 5 | 2 | 2 | 6 | 4 | 2 | 4 | 3 | 3 | 2 |\n",
       "| 6 | 3 | 2 | 6 | 6 | 2 | 3 | 2 | 2 | 3 |\n",
       "\n"
      ],
      "text/plain": [
       "  age_range rooms_range income_range scholarity co.resident_range\n",
       "1 2         1           4            4          1                \n",
       "2 3         3           6            4          2                \n",
       "3 3         2           5            3          2                \n",
       "4 3         1           3            4          1                \n",
       "5 2         2           6            4          2                \n",
       "6 3         2           6            6          2                \n",
       "  PA_weekly_frequency_before PA_intensity_before PA_duration_before\n",
       "1 4                          1                   2                 \n",
       "2 3                          2                   3                 \n",
       "3 2                          3                   2                 \n",
       "4 4                          3                   3                 \n",
       "5 4                          3                   3                 \n",
       "6 3                          2                   2                 \n",
       "  pa_number_before\n",
       "1 1               \n",
       "2 4               \n",
       "3 2               \n",
       "4 2               \n",
       "5 2               \n",
       "6 3               "
      ]
     },
     "metadata": {},
     "output_type": "display_data"
    }
   ],
   "source": [
    "numeric_columns = c(\n",
    "    'age_range',\n",
    "    'rooms_range',\n",
    "    'income_range',\n",
    "    'scholarity',\n",
    "    'co.resident_range',\n",
    "    \"PA_weekly_frequency_before\",\n",
    "    'PA_intensity_before',\n",
    "    'PA_duration_before',\n",
    "    \"pa_number_before\"\n",
    ")\n",
    "columns = names(df)\n",
    "categorical_columns <- columns[!columns %in% numeric_columns]\n",
    "\n",
    "\n",
    "df[, categorical_columns] <- lapply(df[, categorical_columns], as.factor)\n",
    "df[, numeric_columns] <- lapply(df[, numeric_columns], as.integer)\n",
    "\n",
    "\n",
    "df[1, 2] < df[2, 2] \n",
    "\n",
    "head(df[, numeric_columns])\n"
   ]
  },
  {
   "cell_type": "markdown",
   "metadata": {},
   "source": [
    "# Sanity Check"
   ]
  },
  {
   "cell_type": "markdown",
   "metadata": {},
   "source": [
    "### There was no occurrence of DA (Alzheimer) and DP (Parkinson) in the dataset"
   ]
  },
  {
   "cell_type": "code",
   "execution_count": 240,
   "metadata": {},
   "outputs": [
    {
     "data": {
      "text/html": [
       "<dl>\n",
       "\t<dt>$DA</dt>\n",
       "\t\t<dd>'0'</dd>\n",
       "\t<dt>$DP</dt>\n",
       "\t\t<dd>'0'</dd>\n",
       "</dl>\n"
      ],
      "text/latex": [
       "\\begin{description}\n",
       "\\item[\\$DA] '0'\n",
       "\\item[\\$DP] '0'\n",
       "\\end{description}\n"
      ],
      "text/markdown": [
       "$DA\n",
       ":   '0'\n",
       "$DP\n",
       ":   '0'\n",
       "\n",
       "\n"
      ],
      "text/plain": [
       "$DA\n",
       "[1] \"0\"\n",
       "\n",
       "$DP\n",
       "[1] \"0\"\n"
      ]
     },
     "metadata": {},
     "output_type": "display_data"
    }
   ],
   "source": [
    "lapply(df, levels)[c(\"DA\", \"DP\")]\n",
    "df <- subset(df, select = -c(DA, DP, state, zone))"
   ]
  },
  {
   "cell_type": "markdown",
   "metadata": {},
   "source": [
    "### More then one column have the class \"dont_practice\", we need to check if they agree."
   ]
  },
  {
   "cell_type": "code",
   "execution_count": 241,
   "metadata": {},
   "outputs": [
    {
     "data": {
      "text/plain": [
       "                  PA_duration_before\n",
       "PA_practice_before   0   1   2   3   4\n",
       "     dont_practice 131   8   4   2   0\n",
       "     practice        4  60 654 324  55"
      ]
     },
     "metadata": {},
     "output_type": "display_data"
    },
    {
     "data": {
      "text/plain": [
       "                  PA_intensity_before\n",
       "PA_practice_before   0   1   2   3\n",
       "     dont_practice 131  14   0   0\n",
       "     practice        2 148 590 357"
      ]
     },
     "metadata": {},
     "output_type": "display_data"
    },
    {
     "data": {
      "text/plain": [
       "                  PA_weekly_frequency_before\n",
       "PA_practice_before   1   2   3   4\n",
       "     dont_practice 144   0   1   0\n",
       "     practice        2 424 473 198"
      ]
     },
     "metadata": {},
     "output_type": "display_data"
    },
    {
     "data": {
      "text/plain": [
       "                  pa_number_before\n",
       "PA_practice_before   0   1   2   3   4   5   6   7   9  14\n",
       "     dont_practice 144   1   0   0   0   0   0   0   0   0\n",
       "     practice        0 388 364 217  95  22   4   5   1   1"
      ]
     },
     "metadata": {},
     "output_type": "display_data"
    }
   ],
   "source": [
    "table(df[, c(\"PA_practice_before\", \"PA_duration_before\")])\n",
    "table(df[, c(\"PA_practice_before\", \"PA_intensity_before\")])\n",
    "table(df[, c(\"PA_practice_before\", \"PA_weekly_frequency_before\")])\n",
    "table(df[, c(\"PA_practice_before\", \"pa_number_before\")])\n"
   ]
  },
  {
   "cell_type": "code",
   "execution_count": 242,
   "metadata": {},
   "outputs": [
    {
     "data": {
      "text/plain": [
       "strange_p\n",
       "FALSE  TRUE \n",
       " 1236     6 "
      ]
     },
     "metadata": {},
     "output_type": "display_data"
    }
   ],
   "source": [
    "differ_p <- (   df$PA_duration_before == 0 \n",
    "                | df$PA_intensity_before == 0 \n",
    "                | df$PA_weekly_frequency_before == 1\n",
    "                | df$pa_number_before == 0\n",
    "            )\n",
    "strange_p <- df$PA_practice_before == \"practice\" & differ_p\n",
    "table(strange_p)\n"
   ]
  },
  {
   "cell_type": "code",
   "execution_count": 243,
   "metadata": {},
   "outputs": [],
   "source": [
    "differ_dp <- ( df$PA_duration_before != 0 \n",
    "                | df$PA_intensity_before != 0 \n",
    "                | df$PA_weekly_frequency_before != 1 \n",
    "                | df$pa_number_before != 0\n",
    "            ) \n",
    "strange_dp <- df$PA_practice_before == \"dont_practice\" & differ_dp \n",
    "\n"
   ]
  },
  {
   "cell_type": "markdown",
   "metadata": {},
   "source": [
    "Seems that some answers are inconsistent. We found out \"strange practice\" and \"strange don't practice\":\n",
    "\n",
    "- Strange practice: people who said that practiced an exercise before the pandemic, but when asked about the exercise duration or the exercise intesity or the exercise frequency or the exercise type marked as if weren't practicing.\n",
    "- Strange don't practice: people who said that weren't practicing any exercise before the pandemic, but when asked about the exercise duration or the exercise intesity or the exercise frequency or the exercise type marked as if they were practicing\n",
    "\n",
    "To avoid losing data (mainly from our minority class), we chose to analyse, with unsupervised machine learning methods, where are those people in our data clusters. "
   ]
  },
  {
   "cell_type": "markdown",
   "metadata": {},
   "source": [
    "# Dividing Dataset by output variable"
   ]
  },
  {
   "cell_type": "code",
   "execution_count": 244,
   "metadata": {},
   "outputs": [],
   "source": [
    "output_variables = c(\n",
    "    \"sedentary_time_range_during\",\n",
    "    \"pa_behavior\",\n",
    "    \"PA_practice_during\"\n",
    ")\n",
    "\n",
    "before_dataset <- df[, !(names(df) %in% output_variables)]\n",
    "pa_dataset <-  df[, !(names(df) %in% output_variables[-(3)])]\n",
    "sedentary_dataset <- df[, !(names(df) %in% output_variables[-(1)])]\n",
    "pa_behavior_dataset <- df[, !(names(df) %in% append( output_variables[-(2)], \"PA_practice_before\"))]\n",
    "\n"
   ]
  }
 ],
 "metadata": {
  "kernelspec": {
   "display_name": "R",
   "language": "R",
   "name": "ir"
  },
  "language_info": {
   "codemirror_mode": "r",
   "file_extension": ".r",
   "mimetype": "text/x-r-source",
   "name": "R",
   "pygments_lexer": "r",
   "version": "4.1.0"
  },
  "orig_nbformat": 4
 },
 "nbformat": 4,
 "nbformat_minor": 2
}
