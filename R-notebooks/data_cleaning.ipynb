{
 "cells": [
  {
   "cell_type": "markdown",
   "metadata": {},
   "source": [
    "# Importing and Loading packages\n"
   ]
  },
  {
   "cell_type": "code",
   "execution_count": 50,
   "metadata": {},
   "outputs": [
    {
     "data": {
      "text/html": [
       "<ol>\n",
       "\t<li>TRUE</li>\n",
       "\t<li>TRUE</li>\n",
       "\t<li>TRUE</li>\n",
       "\t<li>TRUE</li>\n",
       "\t<li>TRUE</li>\n",
       "\t<li>TRUE</li>\n",
       "\t<li>TRUE</li>\n",
       "\t<li>TRUE</li>\n",
       "\t<li>TRUE</li>\n",
       "\t<li>TRUE</li>\n",
       "\t<li>TRUE</li>\n",
       "\t<li>TRUE</li>\n",
       "\t<li>TRUE</li>\n",
       "\t<li>TRUE</li>\n",
       "\t<li>TRUE</li>\n",
       "\t<li>TRUE</li>\n",
       "\t<li>TRUE</li>\n",
       "\t<li>TRUE</li>\n",
       "\t<li>TRUE</li>\n",
       "\t<li>TRUE</li>\n",
       "\t<li>TRUE</li>\n",
       "\t<li>TRUE</li>\n",
       "\t<li>TRUE</li>\n",
       "\t<li>TRUE</li>\n",
       "\t<li>TRUE</li>\n",
       "\t<li>TRUE</li>\n",
       "\t<li>TRUE</li>\n",
       "\t<li>TRUE</li>\n",
       "</ol>\n"
      ],
      "text/latex": [
       "\\begin{enumerate}\n",
       "\\item TRUE\n",
       "\\item TRUE\n",
       "\\item TRUE\n",
       "\\item TRUE\n",
       "\\item TRUE\n",
       "\\item TRUE\n",
       "\\item TRUE\n",
       "\\item TRUE\n",
       "\\item TRUE\n",
       "\\item TRUE\n",
       "\\item TRUE\n",
       "\\item TRUE\n",
       "\\item TRUE\n",
       "\\item TRUE\n",
       "\\item TRUE\n",
       "\\item TRUE\n",
       "\\item TRUE\n",
       "\\item TRUE\n",
       "\\item TRUE\n",
       "\\item TRUE\n",
       "\\item TRUE\n",
       "\\item TRUE\n",
       "\\item TRUE\n",
       "\\item TRUE\n",
       "\\item TRUE\n",
       "\\item TRUE\n",
       "\\item TRUE\n",
       "\\item TRUE\n",
       "\\end{enumerate}\n"
      ],
      "text/markdown": [
       "1. TRUE\n",
       "2. TRUE\n",
       "3. TRUE\n",
       "4. TRUE\n",
       "5. TRUE\n",
       "6. TRUE\n",
       "7. TRUE\n",
       "8. TRUE\n",
       "9. TRUE\n",
       "10. TRUE\n",
       "11. TRUE\n",
       "12. TRUE\n",
       "13. TRUE\n",
       "14. TRUE\n",
       "15. TRUE\n",
       "16. TRUE\n",
       "17. TRUE\n",
       "18. TRUE\n",
       "19. TRUE\n",
       "20. TRUE\n",
       "21. TRUE\n",
       "22. TRUE\n",
       "23. TRUE\n",
       "24. TRUE\n",
       "25. TRUE\n",
       "26. TRUE\n",
       "27. TRUE\n",
       "28. TRUE\n",
       "\n",
       "\n"
      ],
      "text/plain": [
       "[[1]]\n",
       "[1] TRUE\n",
       "\n",
       "[[2]]\n",
       "[1] TRUE\n",
       "\n",
       "[[3]]\n",
       "[1] TRUE\n",
       "\n",
       "[[4]]\n",
       "[1] TRUE\n",
       "\n",
       "[[5]]\n",
       "[1] TRUE\n",
       "\n",
       "[[6]]\n",
       "[1] TRUE\n",
       "\n",
       "[[7]]\n",
       "[1] TRUE\n",
       "\n",
       "[[8]]\n",
       "[1] TRUE\n",
       "\n",
       "[[9]]\n",
       "[1] TRUE\n",
       "\n",
       "[[10]]\n",
       "[1] TRUE\n",
       "\n",
       "[[11]]\n",
       "[1] TRUE\n",
       "\n",
       "[[12]]\n",
       "[1] TRUE\n",
       "\n",
       "[[13]]\n",
       "[1] TRUE\n",
       "\n",
       "[[14]]\n",
       "[1] TRUE\n",
       "\n",
       "[[15]]\n",
       "[1] TRUE\n",
       "\n",
       "[[16]]\n",
       "[1] TRUE\n",
       "\n",
       "[[17]]\n",
       "[1] TRUE\n",
       "\n",
       "[[18]]\n",
       "[1] TRUE\n",
       "\n",
       "[[19]]\n",
       "[1] TRUE\n",
       "\n",
       "[[20]]\n",
       "[1] TRUE\n",
       "\n",
       "[[21]]\n",
       "[1] TRUE\n",
       "\n",
       "[[22]]\n",
       "[1] TRUE\n",
       "\n",
       "[[23]]\n",
       "[1] TRUE\n",
       "\n",
       "[[24]]\n",
       "[1] TRUE\n",
       "\n",
       "[[25]]\n",
       "[1] TRUE\n",
       "\n",
       "[[26]]\n",
       "[1] TRUE\n",
       "\n",
       "[[27]]\n",
       "[1] TRUE\n",
       "\n",
       "[[28]]\n",
       "[1] TRUE\n"
      ]
     },
     "metadata": {},
     "output_type": "display_data"
    }
   ],
   "source": [
    "#install.packages(\"here\")\n",
    "library(here, help, pos = 2, lib.loc = NULL)\n",
    "source(here('Modules','modules.R'))\n",
    "#install_all_packages()\n",
    "load_library_packages()"
   ]
  },
  {
   "cell_type": "markdown",
   "metadata": {},
   "source": [
    "# Importing and Exploring the Dataset"
   ]
  },
  {
   "cell_type": "code",
   "execution_count": 51,
   "metadata": {},
   "outputs": [
    {
     "data": {
      "text/html": [
       "<style>\n",
       ".list-inline {list-style: none; margin:0; padding: 0}\n",
       ".list-inline>li {display: inline-block}\n",
       ".list-inline>li:not(:last-child)::after {content: \"\\00b7\"; padding: 0 .5ex}\n",
       "</style>\n",
       "<ol class=list-inline><li>1255</li><li>79</li></ol>\n"
      ],
      "text/latex": [
       "\\begin{enumerate*}\n",
       "\\item 1255\n",
       "\\item 79\n",
       "\\end{enumerate*}\n"
      ],
      "text/markdown": [
       "1. 1255\n",
       "2. 79\n",
       "\n",
       "\n"
      ],
      "text/plain": [
       "[1] 1255   79"
      ]
     },
     "metadata": {},
     "output_type": "display_data"
    },
    {
     "data": {
      "text/html": [
       "'numeric'"
      ],
      "text/latex": [
       "'numeric'"
      ],
      "text/markdown": [
       "'numeric'"
      ],
      "text/plain": [
       "[1] \"numeric\""
      ]
     },
     "metadata": {},
     "output_type": "display_data"
    },
    {
     "data": {
      "text/html": [
       "<table class=\"dataframe\">\n",
       "<caption>A data.frame: 6 × 79</caption>\n",
       "<thead>\n",
       "\t<tr><th></th><th scope=col>sex</th><th scope=col>age_range</th><th scope=col>martialStatus</th><th scope=col>state</th><th scope=col>zone</th><th scope=col>co.resident_range</th><th scope=col>rooms_range</th><th scope=col>income_range</th><th scope=col>scholarity</th><th scope=col>diabetes</th><th scope=col>...</th><th scope=col>PA_barriers_before_tiredness</th><th scope=col>PA_barriers_before_location_distance</th><th scope=col>PA_barriers_before_money</th><th scope=col>PA_barriers_before_time_convenience</th><th scope=col>PA_barriers_before_hard_task</th><th scope=col>PA_barriers_before_interest</th><th scope=col>PA_barriers_before_none</th><th scope=col>PA_practice_during</th><th scope=col>sedentary_time_range_during</th><th scope=col>PA_intensity_during</th></tr>\n",
       "\t<tr><th></th><th scope=col>&lt;dbl&gt;</th><th scope=col>&lt;dbl&gt;</th><th scope=col>&lt;dbl&gt;</th><th scope=col>&lt;dbl&gt;</th><th scope=col>&lt;dbl&gt;</th><th scope=col>&lt;dbl&gt;</th><th scope=col>&lt;dbl&gt;</th><th scope=col>&lt;dbl&gt;</th><th scope=col>&lt;dbl&gt;</th><th scope=col>&lt;dbl&gt;</th><th scope=col>...</th><th scope=col>&lt;dbl&gt;</th><th scope=col>&lt;dbl&gt;</th><th scope=col>&lt;dbl&gt;</th><th scope=col>&lt;dbl&gt;</th><th scope=col>&lt;dbl&gt;</th><th scope=col>&lt;dbl&gt;</th><th scope=col>&lt;dbl&gt;</th><th scope=col>&lt;dbl&gt;</th><th scope=col>&lt;dbl&gt;</th><th scope=col>&lt;dbl&gt;</th></tr>\n",
       "</thead>\n",
       "<tbody>\n",
       "\t<tr><th scope=row>1</th><td>1</td><td>2</td><td>1</td><td>25</td><td>2</td><td>1</td><td>1</td><td>4</td><td>4</td><td>0</td><td>...</td><td>0</td><td>0</td><td>0</td><td>1</td><td>0</td><td>0</td><td>0</td><td>1</td><td>5</td><td>1</td></tr>\n",
       "\t<tr><th scope=row>2</th><td>2</td><td>3</td><td>1</td><td>21</td><td>1</td><td>2</td><td>3</td><td>6</td><td>4</td><td>0</td><td>...</td><td>1</td><td>0</td><td>0</td><td>0</td><td>0</td><td>0</td><td>0</td><td>0</td><td>4</td><td>2</td></tr>\n",
       "\t<tr><th scope=row>3</th><td>1</td><td>3</td><td>1</td><td>21</td><td>1</td><td>2</td><td>2</td><td>5</td><td>3</td><td>0</td><td>...</td><td>0</td><td>0</td><td>1</td><td>0</td><td>0</td><td>0</td><td>0</td><td>0</td><td>2</td><td>2</td></tr>\n",
       "\t<tr><th scope=row>4</th><td>1</td><td>3</td><td>1</td><td>21</td><td>1</td><td>1</td><td>1</td><td>3</td><td>4</td><td>0</td><td>...</td><td>0</td><td>0</td><td>0</td><td>1</td><td>0</td><td>0</td><td>0</td><td>0</td><td>3</td><td>2</td></tr>\n",
       "\t<tr><th scope=row>5</th><td>1</td><td>2</td><td>2</td><td>25</td><td>2</td><td>2</td><td>2</td><td>6</td><td>4</td><td>0</td><td>...</td><td>0</td><td>0</td><td>0</td><td>0</td><td>0</td><td>0</td><td>0</td><td>0</td><td>5</td><td>2</td></tr>\n",
       "\t<tr><th scope=row>6</th><td>2</td><td>3</td><td>2</td><td>21</td><td>1</td><td>2</td><td>2</td><td>6</td><td>6</td><td>0</td><td>...</td><td>0</td><td>0</td><td>0</td><td>0</td><td>0</td><td>0</td><td>0</td><td>0</td><td>2</td><td>3</td></tr>\n",
       "</tbody>\n",
       "</table>\n"
      ],
      "text/latex": [
       "A data.frame: 6 × 79\n",
       "\\begin{tabular}{r|lllllllllllllllllllll}\n",
       "  & sex & age\\_range & martialStatus & state & zone & co.resident\\_range & rooms\\_range & income\\_range & scholarity & diabetes & ... & PA\\_barriers\\_before\\_tiredness & PA\\_barriers\\_before\\_location\\_distance & PA\\_barriers\\_before\\_money & PA\\_barriers\\_before\\_time\\_convenience & PA\\_barriers\\_before\\_hard\\_task & PA\\_barriers\\_before\\_interest & PA\\_barriers\\_before\\_none & PA\\_practice\\_during & sedentary\\_time\\_range\\_during & PA\\_intensity\\_during\\\\\n",
       "  & <dbl> & <dbl> & <dbl> & <dbl> & <dbl> & <dbl> & <dbl> & <dbl> & <dbl> & <dbl> & ... & <dbl> & <dbl> & <dbl> & <dbl> & <dbl> & <dbl> & <dbl> & <dbl> & <dbl> & <dbl>\\\\\n",
       "\\hline\n",
       "\t1 & 1 & 2 & 1 & 25 & 2 & 1 & 1 & 4 & 4 & 0 & ... & 0 & 0 & 0 & 1 & 0 & 0 & 0 & 1 & 5 & 1\\\\\n",
       "\t2 & 2 & 3 & 1 & 21 & 1 & 2 & 3 & 6 & 4 & 0 & ... & 1 & 0 & 0 & 0 & 0 & 0 & 0 & 0 & 4 & 2\\\\\n",
       "\t3 & 1 & 3 & 1 & 21 & 1 & 2 & 2 & 5 & 3 & 0 & ... & 0 & 0 & 1 & 0 & 0 & 0 & 0 & 0 & 2 & 2\\\\\n",
       "\t4 & 1 & 3 & 1 & 21 & 1 & 1 & 1 & 3 & 4 & 0 & ... & 0 & 0 & 0 & 1 & 0 & 0 & 0 & 0 & 3 & 2\\\\\n",
       "\t5 & 1 & 2 & 2 & 25 & 2 & 2 & 2 & 6 & 4 & 0 & ... & 0 & 0 & 0 & 0 & 0 & 0 & 0 & 0 & 5 & 2\\\\\n",
       "\t6 & 2 & 3 & 2 & 21 & 1 & 2 & 2 & 6 & 6 & 0 & ... & 0 & 0 & 0 & 0 & 0 & 0 & 0 & 0 & 2 & 3\\\\\n",
       "\\end{tabular}\n"
      ],
      "text/markdown": [
       "\n",
       "A data.frame: 6 × 79\n",
       "\n",
       "| <!--/--> | sex &lt;dbl&gt; | age_range &lt;dbl&gt; | martialStatus &lt;dbl&gt; | state &lt;dbl&gt; | zone &lt;dbl&gt; | co.resident_range &lt;dbl&gt; | rooms_range &lt;dbl&gt; | income_range &lt;dbl&gt; | scholarity &lt;dbl&gt; | diabetes &lt;dbl&gt; | ... ... | PA_barriers_before_tiredness &lt;dbl&gt; | PA_barriers_before_location_distance &lt;dbl&gt; | PA_barriers_before_money &lt;dbl&gt; | PA_barriers_before_time_convenience &lt;dbl&gt; | PA_barriers_before_hard_task &lt;dbl&gt; | PA_barriers_before_interest &lt;dbl&gt; | PA_barriers_before_none &lt;dbl&gt; | PA_practice_during &lt;dbl&gt; | sedentary_time_range_during &lt;dbl&gt; | PA_intensity_during &lt;dbl&gt; |\n",
       "|---|---|---|---|---|---|---|---|---|---|---|---|---|---|---|---|---|---|---|---|---|---|\n",
       "| 1 | 1 | 2 | 1 | 25 | 2 | 1 | 1 | 4 | 4 | 0 | ... | 0 | 0 | 0 | 1 | 0 | 0 | 0 | 1 | 5 | 1 |\n",
       "| 2 | 2 | 3 | 1 | 21 | 1 | 2 | 3 | 6 | 4 | 0 | ... | 1 | 0 | 0 | 0 | 0 | 0 | 0 | 0 | 4 | 2 |\n",
       "| 3 | 1 | 3 | 1 | 21 | 1 | 2 | 2 | 5 | 3 | 0 | ... | 0 | 0 | 1 | 0 | 0 | 0 | 0 | 0 | 2 | 2 |\n",
       "| 4 | 1 | 3 | 1 | 21 | 1 | 1 | 1 | 3 | 4 | 0 | ... | 0 | 0 | 0 | 1 | 0 | 0 | 0 | 0 | 3 | 2 |\n",
       "| 5 | 1 | 2 | 2 | 25 | 2 | 2 | 2 | 6 | 4 | 0 | ... | 0 | 0 | 0 | 0 | 0 | 0 | 0 | 0 | 5 | 2 |\n",
       "| 6 | 2 | 3 | 2 | 21 | 1 | 2 | 2 | 6 | 6 | 0 | ... | 0 | 0 | 0 | 0 | 0 | 0 | 0 | 0 | 2 | 3 |\n",
       "\n"
      ],
      "text/plain": [
       "  sex age_range martialStatus state zone co.resident_range rooms_range\n",
       "1 1   2         1             25    2    1                 1          \n",
       "2 2   3         1             21    1    2                 3          \n",
       "3 1   3         1             21    1    2                 2          \n",
       "4 1   3         1             21    1    1                 1          \n",
       "5 1   2         2             25    2    2                 2          \n",
       "6 2   3         2             21    1    2                 2          \n",
       "  income_range scholarity diabetes ... PA_barriers_before_tiredness\n",
       "1 4            4          0        ... 0                           \n",
       "2 6            4          0        ... 1                           \n",
       "3 5            3          0        ... 0                           \n",
       "4 3            4          0        ... 0                           \n",
       "5 6            4          0        ... 0                           \n",
       "6 6            6          0        ... 0                           \n",
       "  PA_barriers_before_location_distance PA_barriers_before_money\n",
       "1 0                                    0                       \n",
       "2 0                                    0                       \n",
       "3 0                                    1                       \n",
       "4 0                                    0                       \n",
       "5 0                                    0                       \n",
       "6 0                                    0                       \n",
       "  PA_barriers_before_time_convenience PA_barriers_before_hard_task\n",
       "1 1                                   0                           \n",
       "2 0                                   0                           \n",
       "3 0                                   0                           \n",
       "4 1                                   0                           \n",
       "5 0                                   0                           \n",
       "6 0                                   0                           \n",
       "  PA_barriers_before_interest PA_barriers_before_none PA_practice_during\n",
       "1 0                           0                       1                 \n",
       "2 0                           0                       0                 \n",
       "3 0                           0                       0                 \n",
       "4 0                           0                       0                 \n",
       "5 0                           0                       0                 \n",
       "6 0                           0                       0                 \n",
       "  sedentary_time_range_during PA_intensity_during\n",
       "1 5                           1                  \n",
       "2 4                           2                  \n",
       "3 2                           2                  \n",
       "4 3                           2                  \n",
       "5 5                           2                  \n",
       "6 2                           3                  "
      ]
     },
     "metadata": {},
     "output_type": "display_data"
    }
   ],
   "source": [
    "df <- read_excel(path = here('Data','before_pa.xlsx'))\n",
    "df <- data.frame(df)\n",
    "dim(df)\n",
    "unique(sapply(df, class))\n",
    "head(df)"
   ]
  },
  {
   "cell_type": "markdown",
   "metadata": {},
   "source": [
    "# Adding new Columns"
   ]
  },
  {
   "cell_type": "code",
   "execution_count": 52,
   "metadata": {},
   "outputs": [],
   "source": [
    "sports = c('running_before','hiking_before','cycling_before','muscle_training_before',\n",
    "'soccer_before','tennis_before','volleyball_before','basketball_before',\n",
    "'swimming_before','surfing_before','yoga_before','pilates_before',\n",
    "'fighting_before','other_sports_before')\n",
    "    \n",
    "df[, \"pa_number_before\"] = rowSums(df[, sports])"
   ]
  },
  {
   "cell_type": "markdown",
   "metadata": {},
   "source": [
    "# Treating missing data\n",
    "\n",
    "### As the dataset had little missing data, we chose to omit them"
   ]
  },
  {
   "cell_type": "code",
   "execution_count": 53,
   "metadata": {},
   "outputs": [
    {
     "data": {
      "text/html": [
       "<style>\n",
       ".list-inline {list-style: none; margin:0; padding: 0}\n",
       ".list-inline>li {display: inline-block}\n",
       ".list-inline>li:not(:last-child)::after {content: \"\\00b7\"; padding: 0 .5ex}\n",
       "</style>\n",
       "<ol class=list-inline><li>1242</li><li>80</li></ol>\n"
      ],
      "text/latex": [
       "\\begin{enumerate*}\n",
       "\\item 1242\n",
       "\\item 80\n",
       "\\end{enumerate*}\n"
      ],
      "text/markdown": [
       "1. 1242\n",
       "2. 80\n",
       "\n",
       "\n"
      ],
      "text/plain": [
       "[1] 1242   80"
      ]
     },
     "metadata": {},
     "output_type": "display_data"
    }
   ],
   "source": [
    "df <- df[complete.cases(df), ]\n",
    "dim(df)"
   ]
  },
  {
   "cell_type": "markdown",
   "metadata": {},
   "source": [
    "# Treating variables type"
   ]
  },
  {
   "cell_type": "markdown",
   "metadata": {},
   "source": [
    "### Changing some class names to make insights easier with clear lables\n",
    "For columns PA_practice_before and PA_practive_during:\n",
    " - 0 -> practice\n",
    " - 1 -> dont_practice\n",
    "\n",
    "For columns PA_intesity:\n",
    " - 4 -> 0 (class 4 means don't practice, we need to make it smaller then other intensities)\n",
    "\n",
    "\n",
    "For column PA_duration_before:\n",
    " - 5 -> 0 (class 5 means don't practice, we need to make it smaller then other durations )\n"
   ]
  },
  {
   "cell_type": "code",
   "execution_count": 54,
   "metadata": {},
   "outputs": [],
   "source": [
    "df$PA_practice_before[df$PA_practice_before == 0] <- \"practice\"\n",
    "df$PA_practice_before[df$PA_practice_before == 1] <- \"dont_practice\"\n",
    "df$PA_practice_during[df$PA_practice_during == 0] <- \"practice\"\n",
    "df$PA_practice_during[df$PA_practice_during == 1] <- \"dont_practice\"\n",
    "df$PA_intensity_before[df$PA_intensity_before == 4] <- 0\n",
    "df$PA_intensity_during[df$PA_intensity_during == 4] <- 0\n",
    "df$PA_duration_before[df$PA_duration_before == 5] <- 0\n"
   ]
  },
  {
   "cell_type": "markdown",
   "metadata": {},
   "source": [
    "### Columns with some sense of order needs to be numeric \n",
    "(this type has better support then ordered factor)"
   ]
  },
  {
   "cell_type": "code",
   "execution_count": 55,
   "metadata": {},
   "outputs": [
    {
     "data": {
      "text/html": [
       "TRUE"
      ],
      "text/latex": [
       "TRUE"
      ],
      "text/markdown": [
       "TRUE"
      ],
      "text/plain": [
       "[1] TRUE"
      ]
     },
     "metadata": {},
     "output_type": "display_data"
    },
    {
     "data": {
      "text/html": [
       "<table class=\"dataframe\">\n",
       "<caption>A data.frame: 6 × 11</caption>\n",
       "<thead>\n",
       "\t<tr><th></th><th scope=col>age_range</th><th scope=col>rooms_range</th><th scope=col>income_range</th><th scope=col>scholarity</th><th scope=col>sedentary_time_range_before</th><th scope=col>co.resident_range</th><th scope=col>PA_weekly_frequency_before</th><th scope=col>PA_intensity_before</th><th scope=col>PA_intensity_during</th><th scope=col>PA_duration_before</th><th scope=col>pa_number_before</th></tr>\n",
       "\t<tr><th></th><th scope=col>&lt;int&gt;</th><th scope=col>&lt;int&gt;</th><th scope=col>&lt;int&gt;</th><th scope=col>&lt;int&gt;</th><th scope=col>&lt;int&gt;</th><th scope=col>&lt;int&gt;</th><th scope=col>&lt;int&gt;</th><th scope=col>&lt;int&gt;</th><th scope=col>&lt;int&gt;</th><th scope=col>&lt;int&gt;</th><th scope=col>&lt;int&gt;</th></tr>\n",
       "</thead>\n",
       "<tbody>\n",
       "\t<tr><th scope=row>1</th><td>2</td><td>1</td><td>4</td><td>4</td><td>4</td><td>1</td><td>4</td><td>1</td><td>1</td><td>2</td><td>1</td></tr>\n",
       "\t<tr><th scope=row>2</th><td>3</td><td>3</td><td>6</td><td>4</td><td>3</td><td>2</td><td>3</td><td>2</td><td>2</td><td>3</td><td>4</td></tr>\n",
       "\t<tr><th scope=row>3</th><td>3</td><td>2</td><td>5</td><td>3</td><td>1</td><td>2</td><td>2</td><td>3</td><td>2</td><td>2</td><td>2</td></tr>\n",
       "\t<tr><th scope=row>4</th><td>3</td><td>1</td><td>3</td><td>4</td><td>2</td><td>1</td><td>4</td><td>3</td><td>2</td><td>3</td><td>2</td></tr>\n",
       "\t<tr><th scope=row>5</th><td>2</td><td>2</td><td>6</td><td>4</td><td>4</td><td>2</td><td>4</td><td>3</td><td>2</td><td>3</td><td>2</td></tr>\n",
       "\t<tr><th scope=row>6</th><td>3</td><td>2</td><td>6</td><td>6</td><td>2</td><td>2</td><td>3</td><td>2</td><td>3</td><td>2</td><td>3</td></tr>\n",
       "</tbody>\n",
       "</table>\n"
      ],
      "text/latex": [
       "A data.frame: 6 × 11\n",
       "\\begin{tabular}{r|lllllllllll}\n",
       "  & age\\_range & rooms\\_range & income\\_range & scholarity & sedentary\\_time\\_range\\_before & co.resident\\_range & PA\\_weekly\\_frequency\\_before & PA\\_intensity\\_before & PA\\_intensity\\_during & PA\\_duration\\_before & pa\\_number\\_before\\\\\n",
       "  & <int> & <int> & <int> & <int> & <int> & <int> & <int> & <int> & <int> & <int> & <int>\\\\\n",
       "\\hline\n",
       "\t1 & 2 & 1 & 4 & 4 & 4 & 1 & 4 & 1 & 1 & 2 & 1\\\\\n",
       "\t2 & 3 & 3 & 6 & 4 & 3 & 2 & 3 & 2 & 2 & 3 & 4\\\\\n",
       "\t3 & 3 & 2 & 5 & 3 & 1 & 2 & 2 & 3 & 2 & 2 & 2\\\\\n",
       "\t4 & 3 & 1 & 3 & 4 & 2 & 1 & 4 & 3 & 2 & 3 & 2\\\\\n",
       "\t5 & 2 & 2 & 6 & 4 & 4 & 2 & 4 & 3 & 2 & 3 & 2\\\\\n",
       "\t6 & 3 & 2 & 6 & 6 & 2 & 2 & 3 & 2 & 3 & 2 & 3\\\\\n",
       "\\end{tabular}\n"
      ],
      "text/markdown": [
       "\n",
       "A data.frame: 6 × 11\n",
       "\n",
       "| <!--/--> | age_range &lt;int&gt; | rooms_range &lt;int&gt; | income_range &lt;int&gt; | scholarity &lt;int&gt; | sedentary_time_range_before &lt;int&gt; | co.resident_range &lt;int&gt; | PA_weekly_frequency_before &lt;int&gt; | PA_intensity_before &lt;int&gt; | PA_intensity_during &lt;int&gt; | PA_duration_before &lt;int&gt; | pa_number_before &lt;int&gt; |\n",
       "|---|---|---|---|---|---|---|---|---|---|---|---|\n",
       "| 1 | 2 | 1 | 4 | 4 | 4 | 1 | 4 | 1 | 1 | 2 | 1 |\n",
       "| 2 | 3 | 3 | 6 | 4 | 3 | 2 | 3 | 2 | 2 | 3 | 4 |\n",
       "| 3 | 3 | 2 | 5 | 3 | 1 | 2 | 2 | 3 | 2 | 2 | 2 |\n",
       "| 4 | 3 | 1 | 3 | 4 | 2 | 1 | 4 | 3 | 2 | 3 | 2 |\n",
       "| 5 | 2 | 2 | 6 | 4 | 4 | 2 | 4 | 3 | 2 | 3 | 2 |\n",
       "| 6 | 3 | 2 | 6 | 6 | 2 | 2 | 3 | 2 | 3 | 2 | 3 |\n",
       "\n"
      ],
      "text/plain": [
       "  age_range rooms_range income_range scholarity sedentary_time_range_before\n",
       "1 2         1           4            4          4                          \n",
       "2 3         3           6            4          3                          \n",
       "3 3         2           5            3          1                          \n",
       "4 3         1           3            4          2                          \n",
       "5 2         2           6            4          4                          \n",
       "6 3         2           6            6          2                          \n",
       "  co.resident_range PA_weekly_frequency_before PA_intensity_before\n",
       "1 1                 4                          1                  \n",
       "2 2                 3                          2                  \n",
       "3 2                 2                          3                  \n",
       "4 1                 4                          3                  \n",
       "5 2                 4                          3                  \n",
       "6 2                 3                          2                  \n",
       "  PA_intensity_during PA_duration_before pa_number_before\n",
       "1 1                   2                  1               \n",
       "2 2                   3                  4               \n",
       "3 2                   2                  2               \n",
       "4 2                   3                  2               \n",
       "5 2                   3                  2               \n",
       "6 3                   2                  3               "
      ]
     },
     "metadata": {},
     "output_type": "display_data"
    }
   ],
   "source": [
    "numeric_columns = c(\n",
    "    'age_range',\n",
    "    'rooms_range',\n",
    "    'income_range',\n",
    "    'scholarity',\n",
    "    'sedentary_time_range_before',\n",
    "    'co.resident_range',\n",
    "    \"PA_weekly_frequency_before\",\n",
    "    'PA_intensity_before',\n",
    "    'PA_intensity_during',\n",
    "    'PA_duration_before',\n",
    "    \"pa_number_before\"\n",
    ")\n",
    "columns = names(df)\n",
    "categorical_columns <- columns[!columns %in% numeric_columns]\n",
    "\n",
    "\n",
    "df[, categorical_columns] <- lapply(df[, categorical_columns], as.factor)\n",
    "df[, numeric_columns] <- lapply(df[, numeric_columns], as.integer)\n",
    "\n",
    "\n",
    "df[1, 2] < df[2, 2] \n",
    "\n",
    "head(df[, numeric_columns])\n"
   ]
  },
  {
   "cell_type": "markdown",
   "metadata": {},
   "source": [
    "# Sanity Check"
   ]
  },
  {
   "cell_type": "markdown",
   "metadata": {},
   "source": [
    "### There was no occurrence of DA (Alzheimer) and DP (Parkinson) in the dataset"
   ]
  },
  {
   "cell_type": "code",
   "execution_count": 56,
   "metadata": {},
   "outputs": [
    {
     "data": {
      "text/html": [
       "<dl>\n",
       "\t<dt>$DA</dt>\n",
       "\t\t<dd>'0'</dd>\n",
       "\t<dt>$DP</dt>\n",
       "\t\t<dd>'0'</dd>\n",
       "</dl>\n"
      ],
      "text/latex": [
       "\\begin{description}\n",
       "\\item[\\$DA] '0'\n",
       "\\item[\\$DP] '0'\n",
       "\\end{description}\n"
      ],
      "text/markdown": [
       "$DA\n",
       ":   '0'\n",
       "$DP\n",
       ":   '0'\n",
       "\n",
       "\n"
      ],
      "text/plain": [
       "$DA\n",
       "[1] \"0\"\n",
       "\n",
       "$DP\n",
       "[1] \"0\"\n"
      ]
     },
     "metadata": {},
     "output_type": "display_data"
    }
   ],
   "source": [
    "lapply(df, levels)[c(\"DA\", \"DP\")]\n",
    "df <- subset(df, select = -c(DA, DP, state, zone))"
   ]
  },
  {
   "cell_type": "markdown",
   "metadata": {},
   "source": [
    "### More then one column have the class \"dont_practice\", we need to check if they agree."
   ]
  },
  {
   "cell_type": "code",
   "execution_count": 57,
   "metadata": {},
   "outputs": [
    {
     "data": {
      "text/plain": [
       "                  PA_duration_before\n",
       "PA_practice_before   0   1   2   3   4\n",
       "     dont_practice 131   8   4   2   0\n",
       "     practice        4  60 654 324  55"
      ]
     },
     "metadata": {},
     "output_type": "display_data"
    },
    {
     "data": {
      "text/plain": [
       "                  PA_intensity_before\n",
       "PA_practice_before   0   1   2   3\n",
       "     dont_practice 131  14   0   0\n",
       "     practice        2 148 590 357"
      ]
     },
     "metadata": {},
     "output_type": "display_data"
    },
    {
     "data": {
      "text/plain": [
       "                  PA_weekly_frequency_before\n",
       "PA_practice_before   1   2   3   4\n",
       "     dont_practice 144   0   1   0\n",
       "     practice        2 424 473 198"
      ]
     },
     "metadata": {},
     "output_type": "display_data"
    },
    {
     "data": {
      "text/plain": [
       "                  pa_number_before\n",
       "PA_practice_before   0   1   2   3   4   5   6   7   9  14\n",
       "     dont_practice 144   1   0   0   0   0   0   0   0   0\n",
       "     practice        0 388 364 217  95  22   4   5   1   1"
      ]
     },
     "metadata": {},
     "output_type": "display_data"
    }
   ],
   "source": [
    "table(df[, c(\"PA_practice_before\", \"PA_duration_before\")])\n",
    "table(df[, c(\"PA_practice_before\", \"PA_intensity_before\")])\n",
    "table(df[, c(\"PA_practice_before\", \"PA_weekly_frequency_before\")])\n",
    "table(df[, c(\"PA_practice_before\", \"pa_number_before\")])\n"
   ]
  },
  {
   "cell_type": "code",
   "execution_count": 58,
   "metadata": {},
   "outputs": [
    {
     "data": {
      "text/plain": [
       "strange_dp\n",
       "FALSE  TRUE \n",
       " 1227    15 "
      ]
     },
     "metadata": {},
     "output_type": "display_data"
    }
   ],
   "source": [
    "differ_dp <- ( df$PA_duration_before != 0 \n",
    "                | df$PA_intensity_before != 0 \n",
    "                | df$PA_weekly_frequency_before != 1 \n",
    "                | df$pa_number_before != 0\n",
    "            ) \n",
    "strange_dp <- df$PA_practice_before == \"dont_practice\" & differ_dp \n",
    "\n",
    "table(strange_dp)\n"
   ]
  },
  {
   "cell_type": "code",
   "execution_count": 59,
   "metadata": {},
   "outputs": [
    {
     "data": {
      "text/plain": [
       "strange_p\n",
       "FALSE  TRUE \n",
       " 1236     6 "
      ]
     },
     "metadata": {},
     "output_type": "display_data"
    }
   ],
   "source": [
    "differ_p <- (   df$PA_duration_before == 0 \n",
    "                | df$PA_intensity_before == 0 \n",
    "                | df$PA_weekly_frequency_before == 1\n",
    "                | df$pa_number_before == 0\n",
    "            )\n",
    "strange_p <- df$PA_practice_before == \"practice\" & differ_p\n",
    "table(strange_p)\n",
    "\n"
   ]
  },
  {
   "cell_type": "markdown",
   "metadata": {},
   "source": [
    "Seems that some answers are inconsistent. We found out \"strange practice\" and \"strange don't practice\":\n",
    "\n",
    "- Strange practice: people who said that practiced an exercise before the pandemic, but when asked about the exercise duration or the exercise intesity or the exercise frequency or the exercise type marked as if weren't practicing.\n",
    "- Strange don't practice: people who said that weren't practicing any exercise before the pandemic, but when asked about the exercise duration or the exercise intesity or the exercise frequency or the exercise type marked as if they were practicing\n",
    "\n",
    "To avoid losing data (mainly from our minority class), we chose to analyse, with unsupervised machine learning methods, where are those people in our data clusters. "
   ]
  },
  {
   "cell_type": "markdown",
   "metadata": {},
   "source": [
    "# Dividing Dataset by output variable"
   ]
  },
  {
   "cell_type": "code",
   "execution_count": 60,
   "metadata": {},
   "outputs": [],
   "source": [
    "output_variables = c(\n",
    "    \"sedentary_time_range_during\",\n",
    "    \"PA_intensity_during\",\n",
    "    \"PA_practice_during\"\n",
    ")\n",
    "\n",
    "before_dataset <- df[, !(names(df) %in% output_variables)]\n",
    "pa_dataset <-  df[, !(names(df) %in% output_variables[-(3)])]\n",
    "sedentary_dataset <- df[, !(names(df) %in% output_variables[-(1)])]\n",
    "intesity_dataset <- df[, !(names(df) %in% output_variables[-(2)])]\n",
    "before_dataset <- before_dataset\n",
    "pa_dataset <- pa_dataset\n",
    "sedentary_dataset <- sedentary_dataset\n",
    "intesity_dataset <- intesity_dataset\n"
   ]
  },
  {
   "cell_type": "markdown",
   "metadata": {},
   "source": [
    "# Unsupervised Learning"
   ]
  },
  {
   "cell_type": "markdown",
   "metadata": {},
   "source": [
    "### Those model needs the one hot encoded version of our data"
   ]
  },
  {
   "cell_type": "code",
   "execution_count": 61,
   "metadata": {},
   "outputs": [],
   "source": [
    "df_copy <- df\n",
    "df_copy[, \"strange_dp\"] <- strange_dp\n",
    "df_copy[, \"strange_p\"] <- strange_p\n",
    "has_tag_depression <- df$TAG == \"1\" | df$depression  == \"1\" \n",
    "df_copy[, \"has_tag_depression\"] <- has_tag_depression\n",
    "dummy <- dummyVars(\" ~ .\", data=before_dataset)\n",
    "before_encoded_dataset <- data.frame(predict(dummy, newdata = before_dataset)) "
   ]
  },
  {
   "cell_type": "markdown",
   "metadata": {},
   "source": [
    "## PCA"
   ]
  },
  {
   "cell_type": "code",
   "execution_count": 62,
   "metadata": {},
   "outputs": [
    {
     "data": {
      "text/plain": [
       "Importance of components:\n",
       "                           PC1     PC2     PC3     PC4     PC5     PC6     PC7\n",
       "Standard deviation     2.90318 2.28711 2.27063 2.13388 1.95700 1.90935 1.89493\n",
       "Proportion of Variance 0.05936 0.03684 0.03631 0.03207 0.02697 0.02567 0.02529\n",
       "Cumulative Proportion  0.05936 0.09619 0.13250 0.16457 0.19154 0.21721 0.24250\n",
       "                           PC8     PC9   PC10   PC11    PC12    PC13    PC14\n",
       "Standard deviation     1.81427 1.77926 1.7390 1.7018 1.66114 1.64506 1.60614\n",
       "Proportion of Variance 0.02318 0.02229 0.0213 0.0204 0.01943 0.01906 0.01817\n",
       "Cumulative Proportion  0.26568 0.28797 0.3093 0.3297 0.34910 0.36816 0.38632\n",
       "                          PC15    PC16    PC17    PC18    PC19   PC20    PC21\n",
       "Standard deviation     1.58309 1.57145 1.55611 1.54833 1.53428 1.5167 1.49605\n",
       "Proportion of Variance 0.01765 0.01739 0.01705 0.01688 0.01658 0.0162 0.01576\n",
       "Cumulative Proportion  0.40397 0.42136 0.43842 0.45530 0.47188 0.4881 0.50384\n",
       "                          PC22    PC23    PC24    PC25   PC26    PC27    PC28\n",
       "Standard deviation     1.48532 1.46728 1.46017 1.43916 1.4198 1.41054 1.40820\n",
       "Proportion of Variance 0.01554 0.01516 0.01501 0.01459 0.0142 0.01401 0.01396\n",
       "Cumulative Proportion  0.51937 0.53453 0.54955 0.56413 0.5783 0.59234 0.60631\n",
       "                          PC29    PC30   PC31    PC32    PC33    PC34    PC35\n",
       "Standard deviation     1.40222 1.37577 1.3638 1.35600 1.32930 1.31779 1.31165\n",
       "Proportion of Variance 0.01385 0.01333 0.0131 0.01295 0.01244 0.01223 0.01212\n",
       "Cumulative Proportion  0.62015 0.63348 0.6466 0.65953 0.67197 0.68420 0.69632\n",
       "                          PC36    PC37    PC38    PC39    PC40    PC41    PC42\n",
       "Standard deviation     1.29824 1.28472 1.27836 1.25380 1.24164 1.23591 1.22204\n",
       "Proportion of Variance 0.01187 0.01162 0.01151 0.01107 0.01086 0.01076 0.01052\n",
       "Cumulative Proportion  0.70819 0.71981 0.73132 0.74239 0.75325 0.76400 0.77452\n",
       "                          PC43    PC44    PC45    PC46   PC47    PC48    PC49\n",
       "Standard deviation     1.21162 1.19720 1.18492 1.17733 1.1738 1.15799 1.15114\n",
       "Proportion of Variance 0.01034 0.01009 0.00989 0.00976 0.0097 0.00944 0.00933\n",
       "Cumulative Proportion  0.78486 0.79495 0.80484 0.81460 0.8243 0.83375 0.84308\n",
       "                          PC50    PC51    PC52    PC53    PC54    PC55    PC56\n",
       "Standard deviation     1.13488 1.12649 1.11417 1.09554 1.09139 1.07810 1.05056\n",
       "Proportion of Variance 0.00907 0.00894 0.00874 0.00845 0.00839 0.00819 0.00777\n",
       "Cumulative Proportion  0.85215 0.86109 0.86983 0.87828 0.88667 0.89485 0.90263\n",
       "                          PC57    PC58   PC59    PC60    PC61    PC62    PC63\n",
       "Standard deviation     1.03340 0.99947 0.9895 0.98562 0.95872 0.95390 0.94364\n",
       "Proportion of Variance 0.00752 0.00703 0.0069 0.00684 0.00647 0.00641 0.00627\n",
       "Cumulative Proportion  0.91015 0.91718 0.9241 0.93092 0.93739 0.94380 0.95007\n",
       "                          PC64    PC65   PC66    PC67    PC68    PC69    PC70\n",
       "Standard deviation     0.93484 0.90224 0.8998 0.87855 0.81451 0.80665 0.73565\n",
       "Proportion of Variance 0.00615 0.00573 0.0057 0.00544 0.00467 0.00458 0.00381\n",
       "Cumulative Proportion  0.95622 0.96196 0.9677 0.97310 0.97777 0.98235 0.98616\n",
       "                          PC71    PC72    PC73   PC74    PC75    PC76    PC77\n",
       "Standard deviation     0.69562 0.59655 0.58767 0.5462 0.50180 0.45260 0.15821\n",
       "Proportion of Variance 0.00341 0.00251 0.00243 0.0021 0.00177 0.00144 0.00018\n",
       "Cumulative Proportion  0.98957 0.99207 0.99451 0.9966 0.99838 0.99982 1.00000\n",
       "                            PC78      PC79      PC80     PC81      PC82\n",
       "Standard deviation     9.576e-15 4.627e-15 3.663e-15 3.49e-15 2.614e-15\n",
       "Proportion of Variance 0.000e+00 0.000e+00 0.000e+00 0.00e+00 0.000e+00\n",
       "Cumulative Proportion  1.000e+00 1.000e+00 1.000e+00 1.00e+00 1.000e+00\n",
       "                            PC83     PC84      PC85      PC86      PC87\n",
       "Standard deviation     2.448e-15 2.31e-15 2.144e-15 2.015e-15 1.977e-15\n",
       "Proportion of Variance 0.000e+00 0.00e+00 0.000e+00 0.000e+00 0.000e+00\n",
       "Cumulative Proportion  1.000e+00 1.00e+00 1.000e+00 1.000e+00 1.000e+00\n",
       "                            PC88      PC89      PC90     PC91      PC92\n",
       "Standard deviation     1.896e-15 1.737e-15 1.634e-15 1.61e-15 1.519e-15\n",
       "Proportion of Variance 0.000e+00 0.000e+00 0.000e+00 0.00e+00 0.000e+00\n",
       "Cumulative Proportion  1.000e+00 1.000e+00 1.000e+00 1.00e+00 1.000e+00\n",
       "                            PC93      PC94      PC95      PC96      PC97\n",
       "Standard deviation     1.483e-15 1.482e-15 1.399e-15 1.382e-15 1.303e-15\n",
       "Proportion of Variance 0.000e+00 0.000e+00 0.000e+00 0.000e+00 0.000e+00\n",
       "Cumulative Proportion  1.000e+00 1.000e+00 1.000e+00 1.000e+00 1.000e+00\n",
       "                            PC98      PC99    PC100    PC101     PC102    PC103\n",
       "Standard deviation     1.256e-15 1.256e-15 1.24e-15 1.24e-15 1.174e-15 1.17e-15\n",
       "Proportion of Variance 0.000e+00 0.000e+00 0.00e+00 0.00e+00 0.000e+00 0.00e+00\n",
       "Cumulative Proportion  1.000e+00 1.000e+00 1.00e+00 1.00e+00 1.000e+00 1.00e+00\n",
       "                           PC104    PC105     PC106     PC107     PC108\n",
       "Standard deviation     1.168e-15 1.08e-15 1.034e-15 9.967e-16 8.978e-16\n",
       "Proportion of Variance 0.000e+00 0.00e+00 0.000e+00 0.000e+00 0.000e+00\n",
       "Cumulative Proportion  1.000e+00 1.00e+00 1.000e+00 1.000e+00 1.000e+00\n",
       "                          PC109     PC110     PC111    PC112     PC113\n",
       "Standard deviation     8.91e-16 8.626e-16 8.129e-16 7.85e-16 7.447e-16\n",
       "Proportion of Variance 0.00e+00 0.000e+00 0.000e+00 0.00e+00 0.000e+00\n",
       "Cumulative Proportion  1.00e+00 1.000e+00 1.000e+00 1.00e+00 1.000e+00\n",
       "                           PC114     PC115     PC116     PC117     PC118\n",
       "Standard deviation     7.394e-16 7.098e-16 6.617e-16 6.594e-16 6.404e-16\n",
       "Proportion of Variance 0.000e+00 0.000e+00 0.000e+00 0.000e+00 0.000e+00\n",
       "Cumulative Proportion  1.000e+00 1.000e+00 1.000e+00 1.000e+00 1.000e+00\n",
       "                           PC119     PC120    PC121     PC122     PC123\n",
       "Standard deviation     6.369e-16 6.106e-16 5.74e-16 5.606e-16 5.389e-16\n",
       "Proportion of Variance 0.000e+00 0.000e+00 0.00e+00 0.000e+00 0.000e+00\n",
       "Cumulative Proportion  1.000e+00 1.000e+00 1.00e+00 1.000e+00 1.000e+00\n",
       "                           PC124    PC125     PC126     PC127     PC128   PC129\n",
       "Standard deviation     5.107e-16 4.91e-16 4.715e-16 4.351e-16 4.331e-16 4.3e-16\n",
       "Proportion of Variance 0.000e+00 0.00e+00 0.000e+00 0.000e+00 0.000e+00 0.0e+00\n",
       "Cumulative Proportion  1.000e+00 1.00e+00 1.000e+00 1.000e+00 1.000e+00 1.0e+00\n",
       "                           PC130     PC131     PC132     PC133    PC134\n",
       "Standard deviation     3.951e-16 3.587e-16 3.326e-16 2.975e-16 2.59e-16\n",
       "Proportion of Variance 0.000e+00 0.000e+00 0.000e+00 0.000e+00 0.00e+00\n",
       "Cumulative Proportion  1.000e+00 1.000e+00 1.000e+00 1.000e+00 1.00e+00\n",
       "                           PC135     PC136    PC137     PC138     PC139\n",
       "Standard deviation     2.333e-16 1.892e-16 1.87e-16 1.856e-16 1.612e-16\n",
       "Proportion of Variance 0.000e+00 0.000e+00 0.00e+00 0.000e+00 0.000e+00\n",
       "Cumulative Proportion  1.000e+00 1.000e+00 1.00e+00 1.000e+00 1.000e+00\n",
       "                           PC140     PC141     PC142\n",
       "Standard deviation     1.331e-16 8.046e-17 1.439e-17\n",
       "Proportion of Variance 0.000e+00 0.000e+00 0.000e+00\n",
       "Cumulative Proportion  1.000e+00 1.000e+00 1.000e+00"
      ]
     },
     "metadata": {},
     "output_type": "display_data"
    }
   ],
   "source": [
    "before_encoded_dataset.pca <- prcomp(before_encoded_dataset , center = TRUE,scale. = TRUE)\n",
    "summary(before_encoded_dataset.pca) "
   ]
  },
  {
   "cell_type": "markdown",
   "metadata": {},
   "source": [
    "Seems that PC1 and PC2 do not explain much about out that variance. TSNE should be a better solution"
   ]
  },
  {
   "cell_type": "markdown",
   "metadata": {},
   "source": [
    "### Colouring exercise practice before the pandemic"
   ]
  },
  {
   "cell_type": "code",
   "execution_count": 63,
   "metadata": {},
   "outputs": [
    {
     "data": {
      "image/png": "[encoded data removed]",
      "text/plain": [
       "plot without title"
      ]
     },
     "metadata": {
      "image/png": {
       "height": 420,
       "width": 420
      }
     },
     "output_type": "display_data"
    }
   ],
   "source": [
    "autoplot(before_encoded_dataset.pca, colour=\"PA_practice_before\", data=before_dataset)"
   ]
  },
  {
   "cell_type": "markdown",
   "metadata": {},
   "source": [
    "## TSNE"
   ]
  },
  {
   "cell_type": "code",
   "execution_count": 64,
   "metadata": {},
   "outputs": [
    {
     "name": "stdout",
     "output_type": "stream",
     "text": [
      "Performing PCA\n",
      "Read the 1242 x 50 data matrix successfully!\n",
      "OpenMP is working. 1 threads.\n",
      "Using no_dims = 2, perplexity = 30.000000, and theta = 0.500000\n",
      "Computing input similarities...\n",
      "Building tree...\n",
      "Done in 0.35 seconds (sparsity = 0.103850)!\n",
      "Learning embedding...\n",
      "Iteration 50: error is 71.353052 (50 iterations in 0.31 seconds)\n",
      "Iteration 100: error is 71.271667 (50 iterations in 0.21 seconds)\n",
      "Iteration 150: error is 70.719728 (50 iterations in 0.21 seconds)\n",
      "Iteration 200: error is 70.716835 (50 iterations in 0.21 seconds)\n",
      "Iteration 250: error is 70.717029 (50 iterations in 0.21 seconds)\n",
      "Iteration 300: error is 2.126399 (50 iterations in 0.19 seconds)\n",
      "Iteration 350: error is 1.953390 (50 iterations in 0.23 seconds)\n",
      "Iteration 400: error is 1.885247 (50 iterations in 0.25 seconds)\n",
      "Iteration 450: error is 1.858076 (50 iterations in 0.25 seconds)\n",
      "Iteration 500: error is 1.839188 (50 iterations in 0.24 seconds)\n",
      "Iteration 550: error is 1.823929 (50 iterations in 0.28 seconds)\n",
      "Iteration 600: error is 1.813449 (50 iterations in 0.28 seconds)\n",
      "Iteration 650: error is 1.804502 (50 iterations in 0.31 seconds)\n",
      "Iteration 700: error is 1.800649 (50 iterations in 0.29 seconds)\n",
      "Iteration 750: error is 1.795565 (50 iterations in 0.28 seconds)\n",
      "Iteration 800: error is 1.791634 (50 iterations in 0.27 seconds)\n",
      "Iteration 850: error is 1.788150 (50 iterations in 0.25 seconds)\n",
      "Iteration 900: error is 1.783551 (50 iterations in 0.24 seconds)\n",
      "Iteration 950: error is 1.779915 (50 iterations in 0.25 seconds)\n",
      "Iteration 1000: error is 1.776376 (50 iterations in 0.24 seconds)\n",
      "Fitting performed in 4.97 seconds.\n"
     ]
    }
   ],
   "source": [
    "tsne <- Rtsne(before_encoded_dataset, dims = 2, perplexity=30, check_duplicates = FALSE, verbose=TRUE)"
   ]
  },
  {
   "cell_type": "markdown",
   "metadata": {},
   "source": [
    "### Colouring exercise practice before the pandemic"
   ]
  },
  {
   "cell_type": "code",
   "execution_count": 65,
   "metadata": {},
   "outputs": [
    {
     "data": {
      "image/png": "[encoded data removed]",
      "text/plain": [
       "plot without title"
      ]
     },
     "metadata": {
      "image/png": {
       "height": 420,
       "width": 420
      }
     },
     "output_type": "display_data"
    }
   ],
   "source": [
    "metadata <- data.frame(sample_id = rownames(df_copy),\n",
    "                       colour = df_copy$PA_practice_before )\n",
    "tsne_df <- data.frame(\n",
    "    x = tsne$Y[,1],\n",
    "    y = tsne$Y[,2],\n",
    "    colour = metadata$colour)\n",
    "\n",
    "ggplot(tsne_df, aes(x, y, colour = colour)) + geom_point()"
   ]
  },
  {
   "cell_type": "markdown",
   "metadata": {},
   "source": [
    "We found out 2 well separare clusters"
   ]
  },
  {
   "cell_type": "markdown",
   "metadata": {},
   "source": [
    "### Colouring exercise practice during the pandemic"
   ]
  },
  {
   "cell_type": "code",
   "execution_count": 66,
   "metadata": {},
   "outputs": [
    {
     "data": {
      "image/png": "[encoded data removed]",
      "text/plain": [
       "plot without title"
      ]
     },
     "metadata": {
      "image/png": {
       "height": 420,
       "width": 420
      }
     },
     "output_type": "display_data"
    }
   ],
   "source": [
    "metadata <- data.frame(sample_id = rownames(df_copy),\n",
    "                       colour = df_copy$PA_practice_during )\n",
    "tsne_df <- data.frame(\n",
    "    x = tsne$Y[,1],\n",
    "    y = tsne$Y[,2],\n",
    "    colour = metadata$colour)\n",
    "\n",
    "ggplot(tsne_df, aes(x, y, colour = colour)) + geom_point()"
   ]
  },
  {
   "cell_type": "markdown",
   "metadata": {},
   "source": [
    "Clusters now are not well defined"
   ]
  },
  {
   "cell_type": "markdown",
   "metadata": {},
   "source": [
    "### Strange don't practice"
   ]
  },
  {
   "cell_type": "code",
   "execution_count": 67,
   "metadata": {},
   "outputs": [
    {
     "data": {
      "image/png": "[encoded data removed]",
      "text/plain": [
       "plot without title"
      ]
     },
     "metadata": {
      "image/png": {
       "height": 420,
       "width": 420
      }
     },
     "output_type": "display_data"
    }
   ],
   "source": [
    "metadata <- data.frame(sample_id = rownames(df_copy),\n",
    "                       colour = df_copy$strange_dp)\n",
    "tsne_df <- data.frame(\n",
    "    x = tsne$Y[,1],\n",
    "    y = tsne$Y[,2],\n",
    "    colour = metadata$colour)\n",
    "\n",
    "ggplot(tsne_df, aes(x, y, colour = colour)) + geom_point()"
   ]
  },
  {
   "cell_type": "markdown",
   "metadata": {},
   "source": [
    "Most of strange don't practice belong to the don't practice cluster, we can keep that data and exclude the ones far from that cluster.\n"
   ]
  },
  {
   "cell_type": "markdown",
   "metadata": {},
   "source": [
    "### Strange practice"
   ]
  },
  {
   "cell_type": "code",
   "execution_count": 68,
   "metadata": {},
   "outputs": [
    {
     "data": {
      "image/png": "[encoded data removed]",
      "text/plain": [
       "plot without title"
      ]
     },
     "metadata": {
      "image/png": {
       "height": 420,
       "width": 420
      }
     },
     "output_type": "display_data"
    }
   ],
   "source": [
    "metadata <- data.frame(sample_id = rownames(df_copy),\n",
    "                       colour = df_copy$strange_p)\n",
    "tsne_df <- data.frame(\n",
    "    x = tsne$Y[,1],\n",
    "    y = tsne$Y[,2],\n",
    "    colour = metadata$colour)\n",
    "\n",
    "ggplot(tsne_df, aes(x, y, colour = colour)) + geom_point()\n"
   ]
  },
  {
   "cell_type": "markdown",
   "metadata": {},
   "source": [
    "We can keep the strange practice people that belongs to the practice cluster, but exclude the others."
   ]
  },
  {
   "cell_type": "markdown",
   "metadata": {},
   "source": [
    "### Has tag or depression"
   ]
  },
  {
   "cell_type": "code",
   "execution_count": 70,
   "metadata": {},
   "outputs": [
    {
     "data": {
      "image/png": "[encoded data removed]",
      "text/plain": [
       "plot without title"
      ]
     },
     "metadata": {
      "image/png": {
       "height": 420,
       "width": 420
      }
     },
     "output_type": "display_data"
    }
   ],
   "source": [
    "metadata <- data.frame(sample_id = rownames(df_copy),\n",
    "                       colour = df_copy$depression_anxiety)\n",
    "tsne_df <- data.frame(\n",
    "    x = tsne$Y[,1],\n",
    "    y = tsne$Y[,2],\n",
    "    colour = metadata$colour)\n",
    "\n",
    "ggplot(tsne_df, aes(x, y, colour = colour)) + geom_point()"
   ]
  }
 ],
 "metadata": {
  "kernelspec": {
   "display_name": "R",
   "language": "R",
   "name": "ir"
  },
  "language_info": {
   "codemirror_mode": "r",
   "file_extension": ".r",
   "mimetype": "text/x-r-source",
   "name": "R",
   "pygments_lexer": "r",
   "version": "4.1.0"
  },
  "orig_nbformat": 4
 },
 "nbformat": 4,
 "nbformat_minor": 2
}
