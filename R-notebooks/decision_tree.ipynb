{
 "cells": [
  {
   "cell_type": "markdown",
   "metadata": {},
   "source": [
    "# Importing packages"
   ]
  },
  {
   "cell_type": "code",
   "execution_count": 3,
   "metadata": {},
   "outputs": [
    {
     "name": "stderr",
     "output_type": "stream",
     "text": [
      "Warning message:\n",
      "\"package 'here' was built under R version 4.1.1\"\n",
      "here() starts at C:/Users/maria/Desktop/Programacao/IC/projetos/Barreiras-e-Facilitadores\n",
      "\n",
      "Warning message:\n",
      "\"package 'ggplot2' was built under R version 4.1.1\"\n",
      "Warning message:\n",
      "\"package 'cowplot' was built under R version 4.1.1\"\n",
      "Warning message:\n",
      "\"package 'randomForest' was built under R version 4.1.1\"\n",
      "randomForest 4.6-14\n",
      "\n",
      "Type rfNews() to see new features/changes/bug fixes.\n",
      "\n",
      "\n",
      "Attaching package: 'randomForest'\n",
      "\n",
      "\n",
      "The following object is masked from 'package:ggplot2':\n",
      "\n",
      "    margin\n",
      "\n",
      "\n",
      "Warning message:\n",
      "\"package 'caret' was built under R version 4.1.1\"\n",
      "Carregando pacotes exigidos: lattice\n",
      "\n",
      "Warning message:\n",
      "\"package 'lattice' was built under R version 4.1.1\"\n",
      "Warning message:\n",
      "\"package 'rpart.plot' was built under R version 4.1.1\"\n",
      "Carregando pacotes exigidos: rpart\n",
      "\n",
      "Warning message:\n",
      "\"package 'readxl' was built under R version 4.1.1\"\n",
      "Warning message:\n",
      "\"package 'e1071' was built under R version 4.1.1\"\n",
      "Warning message:\n",
      "\"package 'AugmenterR' was built under R version 4.1.1\"\n",
      "Warning message:\n",
      "\"package 'smotefamily' was built under R version 4.1.1\"\n",
      "Warning message:\n",
      "\"package 'ROSE' was built under R version 4.1.1\"\n",
      "Loaded ROSE 0.0-4\n",
      "\n",
      "\n",
      "Warning message:\n",
      "\"package 'xgboost' was built under R version 4.1.1\"\n",
      "Warning message:\n",
      "\"package 'ROCR' was built under R version 4.1.1\"\n",
      "Warning message:\n",
      "\"package 'MASS' was built under R version 4.1.1\"\n",
      "Warning message:\n",
      "\"package 'DescTools' was built under R version 4.1.1\"\n",
      "\n",
      "Attaching package: 'DescTools'\n",
      "\n",
      "\n",
      "The following objects are masked from 'package:caret':\n",
      "\n",
      "    MAE, RMSE\n",
      "\n",
      "\n",
      "Warning message:\n",
      "\"package 'dplyr' was built under R version 4.1.1\"\n",
      "\n",
      "Attaching package: 'dplyr'\n",
      "\n",
      "\n",
      "The following object is masked from 'package:MASS':\n",
      "\n",
      "    select\n",
      "\n",
      "\n",
      "The following object is masked from 'package:xgboost':\n",
      "\n",
      "    slice\n",
      "\n",
      "\n",
      "The following object is masked from 'package:randomForest':\n",
      "\n",
      "    combine\n",
      "\n",
      "\n",
      "The following objects are masked from 'package:stats':\n",
      "\n",
      "    filter, lag\n",
      "\n",
      "\n",
      "The following objects are masked from 'package:base':\n",
      "\n",
      "    intersect, setdiff, setequal, union\n",
      "\n",
      "\n",
      "\n",
      "Attaching package: 'kernlab'\n",
      "\n",
      "\n",
      "The following object is masked from 'package:ggplot2':\n",
      "\n",
      "    alpha\n",
      "\n",
      "\n",
      "Warning message:\n",
      "\"package 'fastAdaboost' was built under R version 4.1.1\"\n",
      "Warning message:\n",
      "\"package 'DataExplorer' was built under R version 4.1.1\"\n",
      "dummies-1.5.6 provided by Decision Patterns\n",
      "\n",
      "\n",
      "Warning message:\n",
      "\"package 'mlbench' was built under R version 4.1.1\"\n",
      "Warning message:\n",
      "\"package 'h2o' was built under R version 4.1.1\"\n",
      "\n",
      "----------------------------------------------------------------------\n",
      "\n",
      "Your next step is to start H2O:\n",
      "    > h2o.init()\n",
      "\n",
      "For H2O package documentation, ask for help:\n",
      "    > ??h2o\n",
      "\n",
      "After starting H2O, you can use the Web UI at http://localhost:54321\n",
      "For more information visit https://docs.h2o.ai\n",
      "\n",
      "----------------------------------------------------------------------\n",
      "\n",
      "\n",
      "\n",
      "Attaching package: 'h2o'\n",
      "\n",
      "\n",
      "The following objects are masked from 'package:stats':\n",
      "\n",
      "    cor, sd, var\n",
      "\n",
      "\n",
      "The following objects are masked from 'package:base':\n",
      "\n",
      "    %*%, %in%, &&, ||, apply, as.factor, as.numeric, colnames,\n",
      "    colnames<-, ifelse, is.character, is.factor, is.numeric, log,\n",
      "    log10, log1p, log2, round, signif, trunc\n",
      "\n",
      "\n",
      "Warning message:\n",
      "\"package 'rattle' was built under R version 4.1.1\"\n",
      "Carregando pacotes exigidos: tibble\n",
      "\n",
      "Carregando pacotes exigidos: bitops\n",
      "\n",
      "\n",
      "Attaching package: 'bitops'\n",
      "\n",
      "\n",
      "The following object is masked from 'package:DescTools':\n",
      "\n",
      "    %^%\n",
      "\n",
      "\n",
      "Rattle: A free graphical interface for data science with R.\n",
      "Version 5.4.0 Copyright (c) 2006-2020 Togaware Pty Ltd.\n",
      "Type 'rattle()' to shake, rattle, and roll your data.\n",
      "\n",
      "\n",
      "Attaching package: 'rattle'\n",
      "\n",
      "\n",
      "The following object is masked from 'package:xgboost':\n",
      "\n",
      "    xgboost\n",
      "\n",
      "\n",
      "The following object is masked from 'package:randomForest':\n",
      "\n",
      "    importance\n",
      "\n",
      "\n",
      "Warning message:\n",
      "\"package 'MLmetrics' was built under R version 4.1.1\"\n",
      "\n",
      "Attaching package: 'MLmetrics'\n",
      "\n",
      "\n",
      "The following objects are masked from 'package:DescTools':\n",
      "\n",
      "    AUC, Gini, MAE, MAPE, MSE, RMSE\n",
      "\n",
      "\n",
      "The following objects are masked from 'package:caret':\n",
      "\n",
      "    MAE, RMSE\n",
      "\n",
      "\n",
      "The following object is masked from 'package:base':\n",
      "\n",
      "    Recall\n",
      "\n",
      "\n",
      "Warning message:\n",
      "\"package 'ggfortify' was built under R version 4.1.1\"\n",
      "Warning message:\n",
      "\"package 'Rtsne' was built under R version 4.1.1\"\n"
     ]
    },
    {
     "data": {
      "text/html": [
       "<ol>\n",
       "\t<li>TRUE</li>\n",
       "\t<li>TRUE</li>\n",
       "\t<li>TRUE</li>\n",
       "\t<li>TRUE</li>\n",
       "\t<li>TRUE</li>\n",
       "\t<li>TRUE</li>\n",
       "\t<li>TRUE</li>\n",
       "\t<li>TRUE</li>\n",
       "\t<li>TRUE</li>\n",
       "\t<li>TRUE</li>\n",
       "\t<li>TRUE</li>\n",
       "\t<li>TRUE</li>\n",
       "\t<li>TRUE</li>\n",
       "\t<li>TRUE</li>\n",
       "\t<li>TRUE</li>\n",
       "\t<li>TRUE</li>\n",
       "\t<li>TRUE</li>\n",
       "\t<li>TRUE</li>\n",
       "\t<li>TRUE</li>\n",
       "\t<li>TRUE</li>\n",
       "\t<li>TRUE</li>\n",
       "\t<li>TRUE</li>\n",
       "\t<li>TRUE</li>\n",
       "\t<li>TRUE</li>\n",
       "\t<li>TRUE</li>\n",
       "\t<li>TRUE</li>\n",
       "\t<li>TRUE</li>\n",
       "\t<li>TRUE</li>\n",
       "</ol>\n"
      ],
      "text/latex": [
       "\\begin{enumerate}\n",
       "\\item TRUE\n",
       "\\item TRUE\n",
       "\\item TRUE\n",
       "\\item TRUE\n",
       "\\item TRUE\n",
       "\\item TRUE\n",
       "\\item TRUE\n",
       "\\item TRUE\n",
       "\\item TRUE\n",
       "\\item TRUE\n",
       "\\item TRUE\n",
       "\\item TRUE\n",
       "\\item TRUE\n",
       "\\item TRUE\n",
       "\\item TRUE\n",
       "\\item TRUE\n",
       "\\item TRUE\n",
       "\\item TRUE\n",
       "\\item TRUE\n",
       "\\item TRUE\n",
       "\\item TRUE\n",
       "\\item TRUE\n",
       "\\item TRUE\n",
       "\\item TRUE\n",
       "\\item TRUE\n",
       "\\item TRUE\n",
       "\\item TRUE\n",
       "\\item TRUE\n",
       "\\end{enumerate}\n"
      ],
      "text/markdown": [
       "1. TRUE\n",
       "2. TRUE\n",
       "3. TRUE\n",
       "4. TRUE\n",
       "5. TRUE\n",
       "6. TRUE\n",
       "7. TRUE\n",
       "8. TRUE\n",
       "9. TRUE\n",
       "10. TRUE\n",
       "11. TRUE\n",
       "12. TRUE\n",
       "13. TRUE\n",
       "14. TRUE\n",
       "15. TRUE\n",
       "16. TRUE\n",
       "17. TRUE\n",
       "18. TRUE\n",
       "19. TRUE\n",
       "20. TRUE\n",
       "21. TRUE\n",
       "22. TRUE\n",
       "23. TRUE\n",
       "24. TRUE\n",
       "25. TRUE\n",
       "26. TRUE\n",
       "27. TRUE\n",
       "28. TRUE\n",
       "\n",
       "\n"
      ],
      "text/plain": [
       "[[1]]\n",
       "[1] TRUE\n",
       "\n",
       "[[2]]\n",
       "[1] TRUE\n",
       "\n",
       "[[3]]\n",
       "[1] TRUE\n",
       "\n",
       "[[4]]\n",
       "[1] TRUE\n",
       "\n",
       "[[5]]\n",
       "[1] TRUE\n",
       "\n",
       "[[6]]\n",
       "[1] TRUE\n",
       "\n",
       "[[7]]\n",
       "[1] TRUE\n",
       "\n",
       "[[8]]\n",
       "[1] TRUE\n",
       "\n",
       "[[9]]\n",
       "[1] TRUE\n",
       "\n",
       "[[10]]\n",
       "[1] TRUE\n",
       "\n",
       "[[11]]\n",
       "[1] TRUE\n",
       "\n",
       "[[12]]\n",
       "[1] TRUE\n",
       "\n",
       "[[13]]\n",
       "[1] TRUE\n",
       "\n",
       "[[14]]\n",
       "[1] TRUE\n",
       "\n",
       "[[15]]\n",
       "[1] TRUE\n",
       "\n",
       "[[16]]\n",
       "[1] TRUE\n",
       "\n",
       "[[17]]\n",
       "[1] TRUE\n",
       "\n",
       "[[18]]\n",
       "[1] TRUE\n",
       "\n",
       "[[19]]\n",
       "[1] TRUE\n",
       "\n",
       "[[20]]\n",
       "[1] TRUE\n",
       "\n",
       "[[21]]\n",
       "[1] TRUE\n",
       "\n",
       "[[22]]\n",
       "[1] TRUE\n",
       "\n",
       "[[23]]\n",
       "[1] TRUE\n",
       "\n",
       "[[24]]\n",
       "[1] TRUE\n",
       "\n",
       "[[25]]\n",
       "[1] TRUE\n",
       "\n",
       "[[26]]\n",
       "[1] TRUE\n",
       "\n",
       "[[27]]\n",
       "[1] TRUE\n",
       "\n",
       "[[28]]\n",
       "[1] TRUE\n"
      ]
     },
     "metadata": {},
     "output_type": "display_data"
    }
   ],
   "source": [
    "#install.packages(\"here\")\n",
    "library(here, help, pos = 2, lib.loc = NULL)\n",
    "source(here('Modules','modules.R'))\n",
    "source(here('Modules','data_cleaning.R'))\n",
    "#install_all_packages()\n",
    "load_library_packages()"
   ]
  },
  {
   "cell_type": "markdown",
   "metadata": {},
   "source": [
    "# Decision Trees for all people"
   ]
  },
  {
   "cell_type": "markdown",
   "metadata": {},
   "source": [
    "## Output variable: Practice of exercise During"
   ]
  },
  {
   "cell_type": "code",
   "execution_count": 4,
   "metadata": {},
   "outputs": [
    {
     "data": {
      "text/plain": [
       "\n",
       "dont_practice      practice \n",
       "          346           896 "
      ]
     },
     "metadata": {},
     "output_type": "display_data"
    }
   ],
   "source": [
    "table(pa_dataset[, \"PA_practice_during\"])"
   ]
  },
  {
   "cell_type": "markdown",
   "metadata": {},
   "source": [
    "There is a majority class, we should apply data augmentation. We chose kappa metrict to optimize becouse data is unbalanced."
   ]
  },
  {
   "cell_type": "markdown",
   "metadata": {},
   "source": [
    "### Creating the dataset partition"
   ]
  },
  {
   "cell_type": "code",
   "execution_count": 5,
   "metadata": {},
   "outputs": [],
   "source": [
    "set.seed(2)\n",
    "lista_treino <- createDataPartition(pa_dataset$PA_practice_during, p=0.7, list=FALSE)\n",
    "treino <- pa_dataset[lista_treino,]\n",
    "teste <- pa_dataset[-lista_treino,]"
   ]
  },
  {
   "cell_type": "markdown",
   "metadata": {},
   "source": [
    "### Applying augmentation into the training set"
   ]
  },
  {
   "cell_type": "code",
   "execution_count": 6,
   "metadata": {},
   "outputs": [
    {
     "data": {
      "text/plain": [
       "\n",
       "dont_practice      practice \n",
       "          628           628 "
      ]
     },
     "metadata": {},
     "output_type": "display_data"
    }
   ],
   "source": [
    "treino.aug <- data_augmentation(\n",
    "    train_data=treino,\n",
    "    yname=\"PA_practice_during\",\n",
    "    maj_class = \"practice\",\n",
    "    min_classes = c(\"dont_practice\"),\n",
    "    ycol=match(\"PA_practice_during\",names(pa_dataset))\n",
    ")\n",
    "\n",
    "table(treino.aug[, \"PA_practice_during\"])\n"
   ]
  },
  {
   "cell_type": "markdown",
   "metadata": {},
   "source": [
    "### Kappa metric without augmentation"
   ]
  },
  {
   "cell_type": "code",
   "execution_count": 7,
   "metadata": {},
   "outputs": [
    {
     "name": "stdout",
     "output_type": "stream",
     "text": [
      "Confusion Matrix and Statistics\n",
      "\n",
      "               Reference\n",
      "Prediction      dont_practice practice\n",
      "  dont_practice            50       43\n",
      "  practice                 53      225\n",
      "                                          \n",
      "               Accuracy : 0.7412          \n",
      "                 95% CI : (0.6935, 0.7851)\n",
      "    No Information Rate : 0.7224          \n",
      "    P-Value [Acc > NIR] : 0.2267          \n",
      "                                          \n",
      "                  Kappa : 0.335           \n",
      "                                          \n",
      " Mcnemar's Test P-Value : 0.3583          \n",
      "                                          \n",
      "            Sensitivity : 0.4854          \n",
      "            Specificity : 0.8396          \n",
      "         Pos Pred Value : 0.5376          \n",
      "         Neg Pred Value : 0.8094          \n",
      "             Prevalence : 0.2776          \n",
      "         Detection Rate : 0.1348          \n",
      "   Detection Prevalence : 0.2507          \n",
      "      Balanced Accuracy : 0.6625          \n",
      "                                          \n",
      "       'Positive' Class : dont_practice   \n",
      "                                          \n"
     ]
    },
    {
     "data": {
      "image/png": "[encoded data removed]",
      "text/plain": [
       "plot without title"
      ]
     },
     "metadata": {
      "image/png": {
       "height": 420,
       "width": 420
      }
     },
     "output_type": "display_data"
    }
   ],
   "source": [
    "model <- fit_model(\n",
    "    model_method=\"rpart\",\n",
    "    model_metric=\"Kappa\",\n",
    "    trControl_func = trainControl(method = \"cv\"),\n",
    "    train_data = treino,\n",
    "    test_data=teste,\n",
    "    yname=\"PA_practice_during\",\n",
    "    length = 3\n",
    ")\n",
    "print(model$matrix)\n",
    "# print(model$result)\n",
    "rpart.plot(model$result$finalModel)\n",
    "\n"
   ]
  },
  {
   "cell_type": "code",
   "execution_count": 9,
   "metadata": {},
   "outputs": [
    {
     "name": "stdout",
     "output_type": "stream",
     "text": [
      "    Kappa \n",
      "0.3350013 \n"
     ]
    }
   ],
   "source": [
    "print(model$matrix$overall[\"Kappa\"])"
   ]
  },
  {
   "cell_type": "code",
   "execution_count": 10,
   "metadata": {},
   "outputs": [
    {
     "name": "stdout",
     "output_type": "stream",
     "text": [
      "CART \n",
      "\n",
      "871 samples\n",
      " 73 predictor\n",
      "  2 classes: 'dont_practice', 'practice' \n",
      "\n",
      "No pre-processing\n",
      "Resampling: Cross-Validated (10 fold) \n",
      "Summary of sample sizes: 784, 784, 785, 784, 784, 783, ... \n",
      "Resampling results across tuning parameters:\n",
      "\n",
      "  cp          Accuracy   Kappa     \n",
      "  0.02057613  0.7085025  0.15479434\n",
      "  0.02469136  0.7073528  0.16684425\n",
      "  0.04115226  0.7050272  0.06584984\n",
      "\n",
      "Kappa was used to select the optimal model using the largest value.\n",
      "The final value used for the model was cp = 0.02469136.\n"
     ]
    }
   ],
   "source": []
  },
  {
   "cell_type": "markdown",
   "metadata": {},
   "source": [
    "### Kappa metric with augmentation"
   ]
  },
  {
   "cell_type": "code",
   "execution_count": 11,
   "metadata": {},
   "outputs": [
    {
     "name": "stdout",
     "output_type": "stream",
     "text": [
      "Confusion Matrix and Statistics\n",
      "\n",
      "               Reference\n",
      "Prediction      dont_practice practice\n",
      "  dont_practice            76      117\n",
      "  practice                 27      151\n",
      "                                          \n",
      "               Accuracy : 0.6119          \n",
      "                 95% CI : (0.5602, 0.6617)\n",
      "    No Information Rate : 0.7224          \n",
      "    P-Value [Acc > NIR] : 1               \n",
      "                                          \n",
      "                  Kappa : 0.2374          \n",
      "                                          \n",
      " Mcnemar's Test P-Value : 1.201e-13       \n",
      "                                          \n",
      "            Sensitivity : 0.7379          \n",
      "            Specificity : 0.5634          \n",
      "         Pos Pred Value : 0.3938          \n",
      "         Neg Pred Value : 0.8483          \n",
      "             Prevalence : 0.2776          \n",
      "         Detection Rate : 0.2049          \n",
      "   Detection Prevalence : 0.5202          \n",
      "      Balanced Accuracy : 0.6506          \n",
      "                                          \n",
      "       'Positive' Class : dont_practice   \n",
      "                                          \n"
     ]
    },
    {
     "data": {
      "image/png": "[encoded data removed]",
      "text/plain": [
       "plot without title"
      ]
     },
     "metadata": {
      "image/png": {
       "height": 420,
       "width": 420
      }
     },
     "output_type": "display_data"
    }
   ],
   "source": [
    "model <- fit_model(\n",
    "    model_method=\"rpart\",\n",
    "    model_metric=\"Kappa\",\n",
    "    trControl_func = trainControl(method = \"cv\"),\n",
    "    train_data = treino.aug,\n",
    "    test_data=teste,\n",
    "    yname=\"PA_practice_during\",\n",
    "    length=3\n",
    ")\n",
    "print(model$matrix)\n",
    "rpart.plot(model$result$finalModel)"
   ]
  },
  {
   "cell_type": "code",
   "execution_count": 12,
   "metadata": {},
   "outputs": [
    {
     "name": "stdout",
     "output_type": "stream",
     "text": [
      "CART \n",
      "\n",
      "1256 samples\n",
      "  73 predictor\n",
      "   2 classes: 'dont_practice', 'practice' \n",
      "\n",
      "No pre-processing\n",
      "Resampling: Cross-Validated (10 fold) \n",
      "Summary of sample sizes: 1131, 1131, 1130, 1130, 1130, 1130, ... \n",
      "Resampling results across tuning parameters:\n",
      "\n",
      "  cp          Accuracy   Kappa    \n",
      "  0.04617834  0.7109651  0.4222568\n",
      "  0.05414013  0.6815302  0.3631202\n",
      "  0.37738854  0.5564444  0.1153971\n",
      "\n",
      "Kappa was used to select the optimal model using the largest value.\n",
      "The final value used for the model was cp = 0.04617834.\n"
     ]
    }
   ],
   "source": [
    "print(model$result)"
   ]
  },
  {
   "cell_type": "markdown",
   "metadata": {},
   "source": [
    "### F-beta metric without augmentation"
   ]
  },
  {
   "cell_type": "code",
   "execution_count": 13,
   "metadata": {},
   "outputs": [],
   "source": [
    "fbeta <- function (data, lev=NULL, model = NULL){\n",
    "    fb_val <- FBeta_Score(data$obs, data$pred, positive=\"practice\", beta = 0.1)\n",
    "    c(FB = fb_val)\n",
    "}"
   ]
  },
  {
   "cell_type": "code",
   "execution_count": 14,
   "metadata": {},
   "outputs": [
    {
     "name": "stdout",
     "output_type": "stream",
     "text": [
      "Confusion Matrix and Statistics\n",
      "\n",
      "               Reference\n",
      "Prediction      dont_practice practice\n",
      "  dont_practice            35       23\n",
      "  practice                 68      245\n",
      "                                          \n",
      "               Accuracy : 0.7547          \n",
      "                 95% CI : (0.7077, 0.7977)\n",
      "    No Information Rate : 0.7224          \n",
      "    P-Value [Acc > NIR] : 0.09004         \n",
      "                                          \n",
      "                  Kappa : 0.2935          \n",
      "                                          \n",
      " Mcnemar's Test P-Value : 3.979e-06       \n",
      "                                          \n",
      "            Sensitivity : 0.33981         \n",
      "            Specificity : 0.91418         \n",
      "         Pos Pred Value : 0.60345         \n",
      "         Neg Pred Value : 0.78275         \n",
      "             Prevalence : 0.27763         \n",
      "         Detection Rate : 0.09434         \n",
      "   Detection Prevalence : 0.15633         \n",
      "      Balanced Accuracy : 0.62699         \n",
      "                                          \n",
      "       'Positive' Class : dont_practice   \n",
      "                                          \n"
     ]
    },
    {
     "data": {
      "image/png": "[encoded data removed]",
      "text/plain": [
       "plot without title"
      ]
     },
     "metadata": {
      "image/png": {
       "height": 420,
       "width": 420
      }
     },
     "output_type": "display_data"
    }
   ],
   "source": [
    "model <- fit_model(\n",
    "    model_method=\"rpart\",\n",
    "    model_metric=\"FB\",\n",
    "    trControl_func = trainControl(method = \"boot\", summaryFunction=fbeta, classProbs = TRUE),\n",
    "    train_data = treino,\n",
    "    test_data=teste,\n",
    "    yname=\"PA_practice_during\"\n",
    ")\n",
    "print(model$matrix)\n",
    "rpart.plot(model$result$finalModel)"
   ]
  },
  {
   "cell_type": "markdown",
   "metadata": {},
   "source": [
    "### F-beta metric with augmentation"
   ]
  },
  {
   "cell_type": "code",
   "execution_count": 15,
   "metadata": {},
   "outputs": [
    {
     "name": "stderr",
     "output_type": "stream",
     "text": [
      "Warning message in nominalTrainWorkflow(x = x, y = y, wts = weights, info = trainInfo, :\n",
      "\"There were missing values in resampled performance measures.\"\n"
     ]
    },
    {
     "name": "stdout",
     "output_type": "stream",
     "text": [
      "Confusion Matrix and Statistics\n",
      "\n",
      "               Reference\n",
      "Prediction      dont_practice practice\n",
      "  dont_practice            48       47\n",
      "  practice                 55      221\n",
      "                                          \n",
      "               Accuracy : 0.7251          \n",
      "                 95% CI : (0.6766, 0.7699)\n",
      "    No Information Rate : 0.7224          \n",
      "    P-Value [Acc > NIR] : 0.4803          \n",
      "                                          \n",
      "                  Kappa : 0.2978          \n",
      "                                          \n",
      " Mcnemar's Test P-Value : 0.4882          \n",
      "                                          \n",
      "            Sensitivity : 0.4660          \n",
      "            Specificity : 0.8246          \n",
      "         Pos Pred Value : 0.5053          \n",
      "         Neg Pred Value : 0.8007          \n",
      "             Prevalence : 0.2776          \n",
      "         Detection Rate : 0.1294          \n",
      "   Detection Prevalence : 0.2561          \n",
      "      Balanced Accuracy : 0.6453          \n",
      "                                          \n",
      "       'Positive' Class : dont_practice   \n",
      "                                          \n"
     ]
    },
    {
     "data": {
      "image/png": "[encoded data removed]",
      "text/plain": [
       "plot without title"
      ]
     },
     "metadata": {
      "image/png": {
       "height": 420,
       "width": 420
      }
     },
     "output_type": "display_data"
    }
   ],
   "source": [
    "model <- fit_model(\n",
    "    model_method=\"rpart\",\n",
    "    model_metric=\"FB\",\n",
    "    trControl_func = trainControl(method = \"boot\", summaryFunction=fbeta, classProbs = TRUE),\n",
    "    train_data = treino.aug,\n",
    "    test_data=teste,\n",
    "    yname=\"PA_practice_during\"\n",
    ")\n",
    "print(model$matrix)\n",
    "rpart.plot(model$result$finalModel)"
   ]
  },
  {
   "cell_type": "markdown",
   "metadata": {},
   "source": [
    "## Output variable: sedentary time range"
   ]
  },
  {
   "cell_type": "markdown",
   "metadata": {},
   "source": [
    "### Creating dataset partition"
   ]
  },
  {
   "cell_type": "code",
   "execution_count": 16,
   "metadata": {},
   "outputs": [],
   "source": [
    "set.seed(2)\n",
    "lista_treino <- createDataPartition(sedentary_dataset$sedentary_time_range_during, p=0.7, list=FALSE)\n",
    "treino <- sedentary_dataset[lista_treino,]\n",
    "teste <- sedentary_dataset[-lista_treino,]"
   ]
  },
  {
   "cell_type": "markdown",
   "metadata": {},
   "source": [
    "### Kappa metric withou augmentation"
   ]
  },
  {
   "cell_type": "code",
   "execution_count": 17,
   "metadata": {},
   "outputs": [
    {
     "name": "stdout",
     "output_type": "stream",
     "text": [
      "Confusion Matrix and Statistics\n",
      "\n",
      "          Reference\n",
      "Prediction   1   2   3   4   5\n",
      "         1   0   0   0   0   0\n",
      "         2   0   0   0   0   0\n",
      "         3  12  35  43  29  10\n",
      "         4   1   3  16  15   5\n",
      "         5   2   6  19  59 116\n",
      "\n",
      "Overall Statistics\n",
      "                                          \n",
      "               Accuracy : 0.469           \n",
      "                 95% CI : (0.4173, 0.5212)\n",
      "    No Information Rate : 0.3531          \n",
      "    P-Value [Acc > NIR] : 2.9e-06         \n",
      "                                          \n",
      "                  Kappa : 0.2465          \n",
      "                                          \n",
      " Mcnemar's Test P-Value : NA              \n",
      "\n",
      "Statistics by Class:\n",
      "\n",
      "                     Class: 1 Class: 2 Class: 3 Class: 4 Class: 5\n",
      "Sensitivity           0.00000   0.0000   0.5513  0.14563   0.8855\n",
      "Specificity           1.00000   1.0000   0.7065  0.90672   0.6417\n",
      "Pos Pred Value            NaN      NaN   0.3333  0.37500   0.5743\n",
      "Neg Pred Value        0.95957   0.8814   0.8554  0.73414   0.9112\n",
      "Prevalence            0.04043   0.1186   0.2102  0.27763   0.3531\n",
      "Detection Rate        0.00000   0.0000   0.1159  0.04043   0.3127\n",
      "Detection Prevalence  0.00000   0.0000   0.3477  0.10782   0.5445\n",
      "Balanced Accuracy     0.50000   0.5000   0.6289  0.52617   0.7636\n"
     ]
    },
    {
     "data": {
      "image/png": "[encoded data removed]",
      "text/plain": [
       "plot without title"
      ]
     },
     "metadata": {
      "image/png": {
       "height": 420,
       "width": 420
      }
     },
     "output_type": "display_data"
    }
   ],
   "source": [
    "model <- fit_model(\n",
    "    model_method=\"rpart\",\n",
    "    model_metric=\"Kappa\",\n",
    "    trControl_func = trainControl(method = \"cv\"),\n",
    "    train_data = treino,\n",
    "    test_data=teste,\n",
    "    yname=\"sedentary_time_range_during\",\n",
    "    length = 3\n",
    ")\n",
    "print(model$matrix)\n",
    "# print(model$result)\n",
    "rpart.plot(model$result$finalModel, extra=101)\n",
    "\n"
   ]
  },
  {
   "cell_type": "markdown",
   "metadata": {},
   "source": [
    "# Decision Trees Separing people with TAG and Depression"
   ]
  },
  {
   "cell_type": "markdown",
   "metadata": {},
   "source": [
    "## Output variable: sedentary time range during\n",
    "### People with Tag or Depression"
   ]
  },
  {
   "cell_type": "markdown",
   "metadata": {},
   "source": [
    "### Creating the dataset partition"
   ]
  },
  {
   "cell_type": "code",
   "execution_count": 18,
   "metadata": {},
   "outputs": [],
   "source": [
    "sedentary_dataset_disorder <- sedentary_dataset[has_tag_depression, ]\n",
    "set.seed(2)\n",
    "lista_treino <- createDataPartition(sedentary_dataset_disorder$sedentary_time_range_during, p=0.7, list=FALSE)\n",
    "treino <- sedentary_dataset_disorder[lista_treino,]\n",
    "teste <- sedentary_dataset_disorder[-lista_treino,]\n"
   ]
  },
  {
   "cell_type": "markdown",
   "metadata": {},
   "source": [
    "### Kappa metric without augmentation"
   ]
  },
  {
   "cell_type": "code",
   "execution_count": 19,
   "metadata": {},
   "outputs": [
    {
     "name": "stdout",
     "output_type": "stream",
     "text": [
      "Confusion Matrix and Statistics\n",
      "\n",
      "          Reference\n",
      "Prediction  1  2  3  4  5\n",
      "         1  0  0  0  0  0\n",
      "         2  0  0  0  0  0\n",
      "         3  1  0  2  0  3\n",
      "         4  0  1  2  3  2\n",
      "         5  0  1  2  9 16\n",
      "\n",
      "Overall Statistics\n",
      "                                          \n",
      "               Accuracy : 0.5             \n",
      "                 95% CI : (0.3419, 0.6581)\n",
      "    No Information Rate : 0.5             \n",
      "    P-Value [Acc > NIR] : 0.5612          \n",
      "                                          \n",
      "                  Kappa : 0.1552          \n",
      "                                          \n",
      " Mcnemar's Test P-Value : NA              \n",
      "\n",
      "Statistics by Class:\n",
      "\n",
      "                     Class: 1 Class: 2 Class: 3 Class: 4 Class: 5\n",
      "Sensitivity           0.00000  0.00000  0.33333  0.25000   0.7619\n",
      "Specificity           1.00000  1.00000  0.88889  0.83333   0.4286\n",
      "Pos Pred Value            NaN      NaN  0.33333  0.37500   0.5714\n",
      "Neg Pred Value        0.97619  0.95238  0.88889  0.73529   0.6429\n",
      "Prevalence            0.02381  0.04762  0.14286  0.28571   0.5000\n",
      "Detection Rate        0.00000  0.00000  0.04762  0.07143   0.3810\n",
      "Detection Prevalence  0.00000  0.00000  0.14286  0.19048   0.6667\n",
      "Balanced Accuracy     0.50000  0.50000  0.61111  0.54167   0.5952\n"
     ]
    },
    {
     "data": {
      "image/png": "[encoded data removed]",
      "text/plain": [
       "plot without title"
      ]
     },
     "metadata": {
      "image/png": {
       "height": 420,
       "width": 420
      }
     },
     "output_type": "display_data"
    }
   ],
   "source": [
    "model <- fit_model(\n",
    "    model_method=\"rpart\",\n",
    "    model_metric=\"Kappa\",\n",
    "    trControl_func = trainControl(method = \"cv\"),\n",
    "    train_data = treino,\n",
    "    test_data=teste,\n",
    "    yname=\"sedentary_time_range_during\",\n",
    "    length = 3\n",
    ")\n",
    "print(model$matrix)\n",
    "# print(model$result)\n",
    "rpart.plot(model$result$finalModel, extra=101)\n",
    "\n"
   ]
  },
  {
   "cell_type": "markdown",
   "metadata": {},
   "source": [
    "## Output variable: sedentary time range during\n",
    "### People without Tag or Depression"
   ]
  },
  {
   "cell_type": "code",
   "execution_count": 20,
   "metadata": {},
   "outputs": [],
   "source": [
    "sedentary_dataset_disorder <- sedentary_dataset[!has_tag_depression, ]\n",
    "\n",
    "set.seed(2)\n",
    "lista_treino <- createDataPartition(sedentary_dataset_disorder$sedentary_time_range_during, p=0.7, list=FALSE)\n",
    "treino <- sedentary_dataset_disorder[lista_treino,]\n",
    "teste <- sedentary_dataset_disorder[-lista_treino,]\n"
   ]
  },
  {
   "cell_type": "code",
   "execution_count": 21,
   "metadata": {},
   "outputs": [
    {
     "name": "stdout",
     "output_type": "stream",
     "text": [
      "Confusion Matrix and Statistics\n",
      "\n",
      "          Reference\n",
      "Prediction  1  2  3  4  5\n",
      "         1  0  0  0  0  0\n",
      "         2  0  0  0  0  0\n",
      "         3 12 32 40 28 17\n",
      "         4  1  4 20 32 32\n",
      "         5  0  5 11 31 60\n",
      "\n",
      "Overall Statistics\n",
      "                                          \n",
      "               Accuracy : 0.4062          \n",
      "                 95% CI : (0.3523, 0.4617)\n",
      "    No Information Rate : 0.3354          \n",
      "    P-Value [Acc > NIR] : 0.004523        \n",
      "                                          \n",
      "                  Kappa : 0.1822          \n",
      "                                          \n",
      " Mcnemar's Test P-Value : NA              \n",
      "\n",
      "Statistics by Class:\n",
      "\n",
      "                     Class: 1 Class: 2 Class: 3 Class: 4 Class: 5\n",
      "Sensitivity              0.00   0.0000   0.5634  0.35165   0.5505\n",
      "Specificity              1.00   1.0000   0.6496  0.75641   0.7824\n",
      "Pos Pred Value            NaN      NaN   0.3101  0.35955   0.5607\n",
      "Neg Pred Value           0.96   0.8738   0.8418  0.75000   0.7752\n",
      "Prevalence               0.04   0.1262   0.2185  0.28000   0.3354\n",
      "Detection Rate           0.00   0.0000   0.1231  0.09846   0.1846\n",
      "Detection Prevalence     0.00   0.0000   0.3969  0.27385   0.3292\n",
      "Balanced Accuracy        0.50   0.5000   0.6065  0.55403   0.6664\n"
     ]
    },
    {
     "data": {
      "image/png": "[encoded data removed]",
      "text/plain": [
       "plot without title"
      ]
     },
     "metadata": {
      "image/png": {
       "height": 420,
       "width": 420
      }
     },
     "output_type": "display_data"
    }
   ],
   "source": [
    "model <- fit_model(\n",
    "    model_method=\"rpart\",\n",
    "    model_metric=\"Kappa\",\n",
    "    trControl_func = trainControl(method = \"cv\"),\n",
    "    train_data = treino,\n",
    "    test_data=teste,\n",
    "    yname=\"sedentary_time_range_during\",\n",
    "    length = 3\n",
    ")\n",
    "print(model$matrix)\n",
    "# print(model$result)\n",
    "rpart.plot(model$result$finalModel, extra=101)\n",
    "\n"
   ]
  }
 ],
 "metadata": {
  "kernelspec": {
   "display_name": "R",
   "language": "R",
   "name": "ir"
  },
  "language_info": {
   "codemirror_mode": "r",
   "file_extension": ".r",
   "mimetype": "text/x-r-source",
   "name": "R",
   "pygments_lexer": "r",
   "version": "4.1.0"
  },
  "orig_nbformat": 4
 },
 "nbformat": 4,
 "nbformat_minor": 2
}
