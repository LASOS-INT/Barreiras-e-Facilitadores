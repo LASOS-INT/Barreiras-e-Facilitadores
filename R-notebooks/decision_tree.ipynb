{
 "cells": [
  {
   "cell_type": "markdown",
   "metadata": {},
   "source": [
    "# Importing packages"
   ]
  },
  {
   "cell_type": "code",
   "execution_count": null,
   "metadata": {},
   "outputs": [],
   "source": [
    "#install.packages(\"here\")\n",
    "library(here, help, pos = 2, lib.loc = NULL)\n",
    "source(here('Modules','modules.R'))\n",
    "source(here('Modules','data_cleaning.R'))\n",
    "source(here('Modules','unsupervised_learning.R'))\n",
    "#install_all_packages()\n",
    "load_library_packages()"
   ]
  },
  {
   "cell_type": "markdown",
   "metadata": {},
   "source": [
    "# Decision Trees"
   ]
  },
  {
   "cell_type": "markdown",
   "metadata": {},
   "source": [
    "## Output variable: Practice of exercise During"
   ]
  },
  {
   "cell_type": "code",
   "execution_count": 6,
   "metadata": {},
   "outputs": [
    {
     "data": {
      "text/html": [
       "<style>\n",
       ".list-inline {list-style: none; margin:0; padding: 0}\n",
       ".list-inline>li {display: inline-block}\n",
       ".list-inline>li:not(:last-child)::after {content: \"\\00b7\"; padding: 0 .5ex}\n",
       "</style>\n",
       "<ol class=list-inline><li>1241</li><li>74</li></ol>\n"
      ],
      "text/latex": [
       "\\begin{enumerate*}\n",
       "\\item 1241\n",
       "\\item 74\n",
       "\\end{enumerate*}\n"
      ],
      "text/markdown": [
       "1. 1241\n",
       "2. 74\n",
       "\n",
       "\n"
      ],
      "text/plain": [
       "[1] 1241   74"
      ]
     },
     "metadata": {},
     "output_type": "display_data"
    }
   ],
   "source": [
    "dim(pa_dataset)"
   ]
  },
  {
   "cell_type": "code",
   "execution_count": 7,
   "metadata": {},
   "outputs": [
    {
     "data": {
      "text/plain": [
       "\n",
       "dont_practice      practice \n",
       "          345           896 "
      ]
     },
     "metadata": {},
     "output_type": "display_data"
    }
   ],
   "source": [
    "table(pa_dataset[, \"PA_practice_during\"])"
   ]
  },
  {
   "cell_type": "markdown",
   "metadata": {},
   "source": [
    "There is a majority class, we should apply data augmentation. We chose kappa metrict to optimize becouse data is unbalanced."
   ]
  },
  {
   "cell_type": "markdown",
   "metadata": {},
   "source": [
    "### Creating the dataset partition"
   ]
  },
  {
   "cell_type": "code",
   "execution_count": 6,
   "metadata": {},
   "outputs": [],
   "source": [
    "set.seed(2)\n",
    "lista_treino <- createDataPartition(pa_dataset$PA_practice_during, p=0.7, list=FALSE)\n",
    "treino <- pa_dataset[lista_treino,]\n",
    "teste <- pa_dataset[-lista_treino,]"
   ]
  },
  {
   "cell_type": "markdown",
   "metadata": {},
   "source": [
    "### Applying augmentation into the training set"
   ]
  },
  {
   "cell_type": "code",
   "execution_count": 7,
   "metadata": {},
   "outputs": [
    {
     "data": {
      "text/plain": [
       "\n",
       "dont_practice      practice \n",
       "          627           627 "
      ]
     },
     "metadata": {},
     "output_type": "display_data"
    }
   ],
   "source": [
    "treino.aug <- data_augmentation(\n",
    "    train_data=treino,\n",
    "    yname=\"PA_practice_during\",\n",
    "    maj_class = \"practice\",\n",
    "    min_classes = c(\"dont_practice\"),\n",
    "    ycol=match(\"PA_practice_during\",names(pa_dataset))\n",
    ")\n",
    "\n",
    "table(treino.aug[, \"PA_practice_during\"])\n"
   ]
  },
  {
   "cell_type": "markdown",
   "metadata": {},
   "source": [
    "### Kappa metric without augmentation"
   ]
  },
  {
   "cell_type": "code",
   "execution_count": 8,
   "metadata": {},
   "outputs": [
    {
     "name": "stdout",
     "output_type": "stream",
     "text": [
      "Confusion Matrix and Statistics\n",
      "\n",
      "               Reference\n",
      "Prediction      dont_practice practice\n",
      "  dont_practice            50       47\n",
      "  practice                 53      221\n",
      "                                         \n",
      "               Accuracy : 0.7305         \n",
      "                 95% CI : (0.6822, 0.775)\n",
      "    No Information Rate : 0.7224         \n",
      "    P-Value [Acc > NIR] : 0.3890         \n",
      "                                         \n",
      "                  Kappa : 0.3157         \n",
      "                                         \n",
      " Mcnemar's Test P-Value : 0.6171         \n",
      "                                         \n",
      "            Sensitivity : 0.4854         \n",
      "            Specificity : 0.8246         \n",
      "         Pos Pred Value : 0.5155         \n",
      "         Neg Pred Value : 0.8066         \n",
      "             Prevalence : 0.2776         \n",
      "         Detection Rate : 0.1348         \n",
      "   Detection Prevalence : 0.2615         \n",
      "      Balanced Accuracy : 0.6550         \n",
      "                                         \n",
      "       'Positive' Class : dont_practice  \n",
      "                                         \n"
     ]
    },
    {
     "data": {
      "image/png": "[encoded data removed]",
      "text/plain": [
       "plot without title"
      ]
     },
     "metadata": {
      "image/png": {
       "height": 420,
       "width": 420
      }
     },
     "output_type": "display_data"
    }
   ],
   "source": [
    "set.seed(2)\n",
    "model <- fit_model(\n",
    "    model_method=\"rpart\",\n",
    "    model_metric=\"Kappa\",\n",
    "    trControl_func = trainControl(method = \"cv\"),\n",
    "    train_data = treino,\n",
    "    test_data=teste,\n",
    "    yname=\"PA_practice_during\",\n",
    "    length = 3\n",
    ")\n",
    "print(model$matrix)\n",
    "# print(model$result)\n",
    "rpart.plot(model$result$finalModel)\n",
    "\n"
   ]
  },
  {
   "cell_type": "markdown",
   "metadata": {},
   "source": [
    "### Kappa metric with augmentation"
   ]
  },
  {
   "cell_type": "code",
   "execution_count": 10,
   "metadata": {},
   "outputs": [
    {
     "name": "stdout",
     "output_type": "stream",
     "text": [
      "Confusion Matrix and Statistics\n",
      "\n",
      "               Reference\n",
      "Prediction      dont_practice practice\n",
      "  dont_practice            67       94\n",
      "  practice                 36      174\n",
      "                                          \n",
      "               Accuracy : 0.6496          \n",
      "                 95% CI : (0.5987, 0.6981)\n",
      "    No Information Rate : 0.7224          \n",
      "    P-Value [Acc > NIR] : 0.9991          \n",
      "                                          \n",
      "                  Kappa : 0.2555          \n",
      "                                          \n",
      " Mcnemar's Test P-Value : 5.756e-07       \n",
      "                                          \n",
      "            Sensitivity : 0.6505          \n",
      "            Specificity : 0.6493          \n",
      "         Pos Pred Value : 0.4161          \n",
      "         Neg Pred Value : 0.8286          \n",
      "             Prevalence : 0.2776          \n",
      "         Detection Rate : 0.1806          \n",
      "   Detection Prevalence : 0.4340          \n",
      "      Balanced Accuracy : 0.6499          \n",
      "                                          \n",
      "       'Positive' Class : dont_practice   \n",
      "                                          \n"
     ]
    },
    {
     "data": {
      "image/png": "[encoded data removed]",
      "text/plain": [
       "plot without title"
      ]
     },
     "metadata": {
      "image/png": {
       "height": 420,
       "width": 420
      }
     },
     "output_type": "display_data"
    }
   ],
   "source": [
    "model <- fit_model(\n",
    "    model_method=\"rpart\",\n",
    "    model_metric=\"Kappa\",\n",
    "    trControl_func = trainControl(method = \"cv\"),\n",
    "    train_data = treino.aug,\n",
    "    test_data=teste,\n",
    "    yname=\"PA_practice_during\",\n",
    "    length=3\n",
    ")\n",
    "print(model$matrix)\n",
    "rpart.plot(model$result$finalModel)"
   ]
  },
  {
   "cell_type": "code",
   "execution_count": 11,
   "metadata": {},
   "outputs": [
    {
     "name": "stdout",
     "output_type": "stream",
     "text": [
      "CART \n",
      "\n",
      "1254 samples\n",
      "  73 predictor\n",
      "   2 classes: 'dont_practice', 'practice' \n",
      "\n",
      "No pre-processing\n",
      "Resampling: Cross-Validated (10 fold) \n",
      "Summary of sample sizes: 1129, 1128, 1129, 1128, 1128, 1129, ... \n",
      "Resampling results across tuning parameters:\n",
      "\n",
      "  cp          Accuracy   Kappa    \n",
      "  0.03508772  0.7321333  0.4641411\n",
      "  0.03748006  0.7105968  0.4211205\n",
      "  0.38915470  0.5773841  0.1571127\n",
      "\n",
      "Kappa was used to select the optimal model using the largest value.\n",
      "The final value used for the model was cp = 0.03508772.\n"
     ]
    }
   ],
   "source": [
    "print(model$result)"
   ]
  },
  {
   "cell_type": "markdown",
   "metadata": {},
   "source": [
    "## Output variable: sedentary time range"
   ]
  },
  {
   "cell_type": "code",
   "execution_count": 10,
   "metadata": {},
   "outputs": [
    {
     "data": {
      "text/plain": [
       "\n",
       "   8_hour_or_more less_then_8_hours \n",
       "              437               805 "
      ]
     },
     "metadata": {},
     "output_type": "display_data"
    }
   ],
   "source": [
    "table(sedentary_dataset[, \"sedentary_time_range_during\"])"
   ]
  },
  {
   "cell_type": "markdown",
   "metadata": {},
   "source": [
    "### Creating dataset partition"
   ]
  },
  {
   "cell_type": "code",
   "execution_count": 11,
   "metadata": {},
   "outputs": [],
   "source": [
    "set.seed(2)\n",
    "lista_treino <- createDataPartition(sedentary_dataset$sedentary_time_range_during, p=0.7, list=FALSE)\n",
    "treino <- sedentary_dataset[lista_treino,]\n",
    "teste <- sedentary_dataset[-lista_treino,]"
   ]
  },
  {
   "cell_type": "markdown",
   "metadata": {},
   "source": [
    "### Applying augmentation into the training set"
   ]
  },
  {
   "cell_type": "code",
   "execution_count": 13,
   "metadata": {},
   "outputs": [],
   "source": [
    "treino.aug <- data_augmentation(\n",
    "    train_data=treino,\n",
    "    yname=\"sedentary_time_range_during\",\n",
    "    maj_class = \"less_then_8_hours\",\n",
    "    min_classes = c(\"8_hour_or_more\"),\n",
    "    ycol=match(\"sedentary_time_range_during\",names(sedentary_dataset))\n",
    ")\n",
    "\n",
    "table(treino.aug[, \"sedentary_time_range_during\"])\n"
   ]
  },
  {
   "cell_type": "markdown",
   "metadata": {},
   "source": [
    "### Kappa metric without augmentation"
   ]
  },
  {
   "cell_type": "code",
   "execution_count": 19,
   "metadata": {},
   "outputs": [
    {
     "data": {
      "text/plain": [
       "\n",
       " mais de 8 horas menos de 8 horas \n",
       "             437              805 "
      ]
     },
     "metadata": {},
     "output_type": "display_data"
    }
   ],
   "source": [
    "table(sedentary_dataset[, \"sedentary_time_range_during\"])"
   ]
  },
  {
   "cell_type": "code",
   "execution_count": 21,
   "metadata": {},
   "outputs": [
    {
     "name": "stdout",
     "output_type": "stream",
     "text": [
      "Confusion Matrix and Statistics\n",
      "\n",
      "                  Reference\n",
      "Prediction         mais de 8 horas menos de 8 horas\n",
      "  mais de 8 horas               67               38\n",
      "  menos de 8 horas              64              203\n",
      "                                          \n",
      "               Accuracy : 0.7258          \n",
      "                 95% CI : (0.6774, 0.7705)\n",
      "    No Information Rate : 0.6478          \n",
      "    P-Value [Acc > NIR] : 0.0008209       \n",
      "                                          \n",
      "                  Kappa : 0.3706          \n",
      "                                          \n",
      " Mcnemar's Test P-Value : 0.0133099       \n",
      "                                          \n",
      "            Sensitivity : 0.5115          \n",
      "            Specificity : 0.8423          \n",
      "         Pos Pred Value : 0.6381          \n",
      "         Neg Pred Value : 0.7603          \n",
      "             Prevalence : 0.3522          \n",
      "         Detection Rate : 0.1801          \n",
      "   Detection Prevalence : 0.2823          \n",
      "      Balanced Accuracy : 0.6769          \n",
      "                                          \n",
      "       'Positive' Class : mais de 8 horas \n",
      "                                          \n"
     ]
    },
    {
     "data": {
      "image/png": "[encoded data removed]",
      "text/plain": [
       "plot without title"
      ]
     },
     "metadata": {
      "image/png": {
       "height": 420,
       "width": 420
      }
     },
     "output_type": "display_data"
    }
   ],
   "source": [
    "set.seed(2)\n",
    "model <- fit_model(\n",
    "    model_method=\"rpart\",\n",
    "    model_metric=\"Kappa\",\n",
    "    trControl_func = trainControl(method = \"cv\"),\n",
    "    train_data = treino,\n",
    "    test_data=teste,\n",
    "    yname=\"sedentary_time_range_during\",\n",
    "    length = 3\n",
    ")\n",
    "print(model$matrix)\n",
    "# print(model$result)\n",
    "rpart.plot(model$result$finalModel, extra=101)\n",
    "\n"
   ]
  },
  {
   "cell_type": "markdown",
   "metadata": {},
   "source": [
    "### Kappa metric with augmentation"
   ]
  },
  {
   "cell_type": "code",
   "execution_count": 1,
   "metadata": {},
   "outputs": [
    {
     "ename": "ERROR",
     "evalue": "Error in table(sedentary_dataset[, \"scholarity\"]): objeto 'sedentary_dataset' não encontrado\n",
     "output_type": "error",
     "traceback": [
      "Error in table(sedentary_dataset[, \"scholarity\"]): objeto 'sedentary_dataset' não encontrado\nTraceback:\n",
      "1. table(sedentary_dataset[, \"scholarity\"])"
     ]
    }
   ],
   "source": [
    "set.seed(2)\n",
    "model <- fit_model(\n",
    "    model_method=\"rpart\",\n",
    "    model_metric=\"Kappa\",\n",
    "    trControl_func = trainControl(method = \"cv\"),\n",
    "    train_data = treino.aug,\n",
    "    test_data=teste,\n",
    "    yname=\"sedentary_time_range_during\",\n",
    "    length = 3\n",
    ")\n",
    "print(model$matrix)\n",
    "# print(model$result)\n",
    "rpart.plot(model$result$finalModel, extra=101)\n",
    "\n"
   ]
  }
 ],
 "metadata": {
  "kernelspec": {
   "display_name": "R",
   "language": "R",
   "name": "ir"
  },
  "language_info": {
   "codemirror_mode": "r",
   "file_extension": ".r",
   "mimetype": "text/x-r-source",
   "name": "R",
   "pygments_lexer": "r",
   "version": "4.1.0"
  },
  "orig_nbformat": 4
 },
 "nbformat": 4,
 "nbformat_minor": 2
}
