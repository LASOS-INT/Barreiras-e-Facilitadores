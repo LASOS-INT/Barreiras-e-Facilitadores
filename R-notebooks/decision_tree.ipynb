{
 "cells": [
  {
   "cell_type": "markdown",
   "metadata": {},
   "source": [
    "# Importing packages"
   ]
  },
  {
   "cell_type": "code",
   "execution_count": null,
   "metadata": {},
   "outputs": [],
   "source": [
    "#install.packages(\"here\")\n",
    "library(here, help, pos = 2, lib.loc = NULL)\n",
    "source(here('Modules','modules.R'))\n",
    "source(here('Modules','data_cleaning.R'))\n",
    "source(here('Modules','unsupervised_learning.R'))\n",
    "#install_all_packages()\n",
    "load_library_packages()"
   ]
  },
  {
   "cell_type": "markdown",
   "metadata": {},
   "source": [
    "# Decision Trees and Random Fortest"
   ]
  },
  {
   "cell_type": "markdown",
   "metadata": {},
   "source": [
    "## Output variable: Practice of exercise During"
   ]
  },
  {
   "cell_type": "code",
   "execution_count": 177,
   "metadata": {},
   "outputs": [
    {
     "data": {
      "text/html": [
       "<style>\n",
       ".list-inline {list-style: none; margin:0; padding: 0}\n",
       ".list-inline>li {display: inline-block}\n",
       ".list-inline>li:not(:last-child)::after {content: \"\\00b7\"; padding: 0 .5ex}\n",
       "</style>\n",
       "<ol class=list-inline><li>1241</li><li>74</li></ol>\n"
      ],
      "text/latex": [
       "\\begin{enumerate*}\n",
       "\\item 1241\n",
       "\\item 74\n",
       "\\end{enumerate*}\n"
      ],
      "text/markdown": [
       "1. 1241\n",
       "2. 74\n",
       "\n",
       "\n"
      ],
      "text/plain": [
       "[1] 1241   74"
      ]
     },
     "metadata": {},
     "output_type": "display_data"
    }
   ],
   "source": [
    "dim(pa_dataset)"
   ]
  },
  {
   "cell_type": "code",
   "execution_count": 145,
   "metadata": {},
   "outputs": [
    {
     "data": {
      "text/plain": [
       "\n",
       "dont_practice      practice \n",
       "          345           896 "
      ]
     },
     "metadata": {},
     "output_type": "display_data"
    }
   ],
   "source": [
    "table(pa_dataset[, \"PA_practice_during\"])"
   ]
  },
  {
   "cell_type": "markdown",
   "metadata": {},
   "source": [
    "There is a majority class, we should apply data augmentation. We chose kappa metrict to optimize becouse data is unbalanced."
   ]
  },
  {
   "cell_type": "markdown",
   "metadata": {},
   "source": [
    "### Creating the dataset partition"
   ]
  },
  {
   "cell_type": "code",
   "execution_count": 146,
   "metadata": {},
   "outputs": [],
   "source": [
    "set.seed(2)\n",
    "lista_treino <- createDataPartition(pa_dataset$PA_practice_during, p=0.7, list=FALSE)\n",
    "treino <- pa_dataset[lista_treino,]\n",
    "teste <- pa_dataset[-lista_treino,]"
   ]
  },
  {
   "cell_type": "markdown",
   "metadata": {},
   "source": [
    "### Applying augmentation into the training set"
   ]
  },
  {
   "cell_type": "code",
   "execution_count": 147,
   "metadata": {},
   "outputs": [
    {
     "name": "stdout",
     "output_type": "stream",
     "text": [
      "[1] \"entrei\"\n"
     ]
    },
    {
     "data": {
      "text/plain": [
       "\n",
       "dont_practice      practice \n",
       "          628           628 "
      ]
     },
     "metadata": {},
     "output_type": "display_data"
    }
   ],
   "source": [
    "treino.aug <- data_augmentation(\n",
    "    train_data=treino,\n",
    "    yname=\"PA_practice_during\",\n",
    "    maj_class = \"practice\",\n",
    "    min_classes = c(\"dont_practice\"),\n",
    "    ycol=match(\"PA_practice_during\",names(pa_dataset))\n",
    ")\n",
    "\n",
    "table(treino.aug[, \"PA_practice_during\"])\n"
   ]
  },
  {
   "cell_type": "markdown",
   "metadata": {},
   "source": [
    "### Decision Tree: Kappa metric without augmentation"
   ]
  },
  {
   "cell_type": "code",
   "execution_count": 148,
   "metadata": {},
   "outputs": [
    {
     "name": "stdout",
     "output_type": "stream",
     "text": [
      "Confusion Matrix and Statistics\n",
      "\n",
      "               Reference\n",
      "Prediction      dont_practice practice\n",
      "  dont_practice            34       44\n",
      "  practice                 69      224\n",
      "                                          \n",
      "               Accuracy : 0.6954          \n",
      "                 95% CI : (0.6458, 0.7419)\n",
      "    No Information Rate : 0.7224          \n",
      "    P-Value [Acc > NIR] : 0.88753         \n",
      "                                          \n",
      "                  Kappa : 0.1793          \n",
      "                                          \n",
      " Mcnemar's Test P-Value : 0.02396         \n",
      "                                          \n",
      "            Sensitivity : 0.33010         \n",
      "            Specificity : 0.83582         \n",
      "         Pos Pred Value : 0.43590         \n",
      "         Neg Pred Value : 0.76451         \n",
      "             Prevalence : 0.27763         \n",
      "         Detection Rate : 0.09164         \n",
      "   Detection Prevalence : 0.21024         \n",
      "      Balanced Accuracy : 0.58296         \n",
      "                                          \n",
      "       'Positive' Class : dont_practice   \n",
      "                                          \n"
     ]
    },
    {
     "data": {
      "image/png": "[encoded data removed]",
      "text/plain": [
       "plot without title"
      ]
     },
     "metadata": {
      "image/png": {
       "height": 420,
       "width": 420
      }
     },
     "output_type": "display_data"
    }
   ],
   "source": [
    "set.seed(2)\n",
    "model <- fit_model(\n",
    "    model_method=\"rpart\",\n",
    "    model_metric=\"Kappa\",\n",
    "    trControl_func = trainControl(method = \"cv\"),\n",
    "    train_data = treino,\n",
    "    test_data=teste,\n",
    "    yname=\"PA_practice_during\",\n",
    "    length = 3\n",
    ")\n",
    "print(model$matrix)\n",
    "# print(model$result)\n",
    "rpart.plot(model$result$finalModel)\n",
    "\n"
   ]
  },
  {
   "cell_type": "markdown",
   "metadata": {},
   "source": [
    "### Decision Tree: Kappa metric with augmentation"
   ]
  },
  {
   "cell_type": "code",
   "execution_count": 149,
   "metadata": {},
   "outputs": [
    {
     "name": "stdout",
     "output_type": "stream",
     "text": [
      "Confusion Matrix and Statistics\n",
      "\n",
      "               Reference\n",
      "Prediction      dont_practice practice\n",
      "  dont_practice            46       66\n",
      "  practice                 57      202\n",
      "                                         \n",
      "               Accuracy : 0.6685         \n",
      "                 95% CI : (0.618, 0.7162)\n",
      "    No Information Rate : 0.7224         \n",
      "    P-Value [Acc > NIR] : 0.9904         \n",
      "                                         \n",
      "                  Kappa : 0.1951         \n",
      "                                         \n",
      " Mcnemar's Test P-Value : 0.4707         \n",
      "                                         \n",
      "            Sensitivity : 0.4466         \n",
      "            Specificity : 0.7537         \n",
      "         Pos Pred Value : 0.4107         \n",
      "         Neg Pred Value : 0.7799         \n",
      "             Prevalence : 0.2776         \n",
      "         Detection Rate : 0.1240         \n",
      "   Detection Prevalence : 0.3019         \n",
      "      Balanced Accuracy : 0.6002         \n",
      "                                         \n",
      "       'Positive' Class : dont_practice  \n",
      "                                         \n"
     ]
    },
    {
     "data": {
      "image/png": "[encoded data removed]",
      "text/plain": [
       "plot without title"
      ]
     },
     "metadata": {
      "image/png": {
       "height": 420,
       "width": 420
      }
     },
     "output_type": "display_data"
    }
   ],
   "source": [
    "model <- fit_model(\n",
    "    model_method=\"rpart\",\n",
    "    model_metric=\"Kappa\",\n",
    "    trControl_func = trainControl(method = \"cv\"),\n",
    "    train_data = treino.aug,\n",
    "    test_data=teste,\n",
    "    yname=\"PA_practice_during\",\n",
    "    length=3\n",
    ")\n",
    "print(model$matrix)\n",
    "rpart.plot(model$result$finalModel)"
   ]
  },
  {
   "cell_type": "markdown",
   "metadata": {},
   "source": [
    "### RF: Kappa metric without augmentation"
   ]
  },
  {
   "cell_type": "code",
   "execution_count": 150,
   "metadata": {},
   "outputs": [
    {
     "name": "stdout",
     "output_type": "stream",
     "text": [
      "Confusion Matrix and Statistics\n",
      "\n",
      "               Reference\n",
      "Prediction      dont_practice practice\n",
      "  dont_practice            35       31\n",
      "  practice                 68      237\n",
      "                                          \n",
      "               Accuracy : 0.7332          \n",
      "                 95% CI : (0.6851, 0.7775)\n",
      "    No Information Rate : 0.7224          \n",
      "    P-Value [Acc > NIR] : 0.3451409       \n",
      "                                          \n",
      "                  Kappa : 0.252           \n",
      "                                          \n",
      " Mcnemar's Test P-Value : 0.0002967       \n",
      "                                          \n",
      "            Sensitivity : 0.33981         \n",
      "            Specificity : 0.88433         \n",
      "         Pos Pred Value : 0.53030         \n",
      "         Neg Pred Value : 0.77705         \n",
      "             Prevalence : 0.27763         \n",
      "         Detection Rate : 0.09434         \n",
      "   Detection Prevalence : 0.17790         \n",
      "      Balanced Accuracy : 0.61207         \n",
      "                                          \n",
      "       'Positive' Class : dont_practice   \n",
      "                                          \n"
     ]
    }
   ],
   "source": [
    "set.seed(2)\n",
    "model <- fit_model(\n",
    "    model_method=\"rf\",\n",
    "    model_metric=\"Kappa\",\n",
    "    trControl_func = trainControl(method = \"cv\", search=\"grid\"),\n",
    "    train_data = treino,\n",
    "    test_data=teste,\n",
    "    yname=\"PA_practice_during\",\n",
    "    length = 3\n",
    ")\n",
    "print(model$matrix)"
   ]
  },
  {
   "cell_type": "code",
   "execution_count": 151,
   "metadata": {},
   "outputs": [
    {
     "data": {
      "text/plain": [
       "rf variable importance\n",
       "\n",
       "  only 20 most important variables shown (out of 79)\n",
       "\n",
       "                                     Overall\n",
       "PA_intensity_before                   100.00\n",
       "age_range                              44.95\n",
       "PA_duration_before                     38.61\n",
       "PA_weekly_frequency_before             37.71\n",
       "income_range                           33.87\n",
       "pa_number_before                       29.42\n",
       "scholarity                             29.01\n",
       "rooms_range                            28.04\n",
       "PA_easiness_before1                    27.50\n",
       "co.resident_range                      21.61\n",
       "PA_easiness_collective_before1         17.78\n",
       "anxious_before1                        15.60\n",
       "happy_before1                          14.40\n",
       "hopeful_before1                        14.34\n",
       "optimistic_before1                     14.05\n",
       "PA_easiness_others_before1             13.62\n",
       "PA_barriers_before_time_convenience1   13.13\n",
       "martialStatus2                         12.76\n",
       "Health_professional1                   12.67\n",
       "hiking_before1                         12.59"
      ]
     },
     "metadata": {},
     "output_type": "display_data"
    },
    {
     "data": {
      "image/png": "[encoded data removed]",
      "text/plain": [
       "plot without title"
      ]
     },
     "metadata": {
      "image/png": {
       "height": 420,
       "width": 420
      }
     },
     "output_type": "display_data"
    }
   ],
   "source": [
    "plot(varImp(model$result), top=20)\n",
    "varImp(model$result)\n"
   ]
  },
  {
   "cell_type": "markdown",
   "metadata": {},
   "source": [
    "### RF: Kappa metric with augmentation"
   ]
  },
  {
   "cell_type": "code",
   "execution_count": 152,
   "metadata": {},
   "outputs": [
    {
     "name": "stdout",
     "output_type": "stream",
     "text": [
      "Confusion Matrix and Statistics\n",
      "\n",
      "               Reference\n",
      "Prediction      dont_practice practice\n",
      "  dont_practice            36       29\n",
      "  practice                 67      239\n",
      "                                          \n",
      "               Accuracy : 0.7412          \n",
      "                 95% CI : (0.6935, 0.7851)\n",
      "    No Information Rate : 0.7224          \n",
      "    P-Value [Acc > NIR] : 0.2266945       \n",
      "                                          \n",
      "                  Kappa : 0.2722          \n",
      "                                          \n",
      " Mcnemar's Test P-Value : 0.0001592       \n",
      "                                          \n",
      "            Sensitivity : 0.34951         \n",
      "            Specificity : 0.89179         \n",
      "         Pos Pred Value : 0.55385         \n",
      "         Neg Pred Value : 0.78105         \n",
      "             Prevalence : 0.27763         \n",
      "         Detection Rate : 0.09704         \n",
      "   Detection Prevalence : 0.17520         \n",
      "      Balanced Accuracy : 0.62065         \n",
      "                                          \n",
      "       'Positive' Class : dont_practice   \n",
      "                                          \n"
     ]
    }
   ],
   "source": [
    "set.seed(2)\n",
    "model <- fit_model(\n",
    "    model_method=\"rf\",\n",
    "    model_metric=\"Kappa\",\n",
    "    trControl_func = trainControl(method = \"cv\", search=\"grid\"),\n",
    "    train_data = treino.aug,\n",
    "    test_data=teste,\n",
    "    yname=\"PA_practice_during\",\n",
    "    length = 3\n",
    ")\n",
    "print(model$matrix)"
   ]
  },
  {
   "cell_type": "code",
   "execution_count": 153,
   "metadata": {},
   "outputs": [
    {
     "data": {
      "text/plain": [
       "rf variable importance\n",
       "\n",
       "  only 20 most important variables shown (out of 79)\n",
       "\n",
       "                                    Overall\n",
       "pa_number_before                    100.000\n",
       "co.resident_range                    84.271\n",
       "PA_intensity_before                  61.342\n",
       "rooms_range                          46.342\n",
       "age_range                            41.306\n",
       "muscle_training_before1              23.580\n",
       "PA_weekly_frequency_before           22.459\n",
       "income_range                         21.452\n",
       "scholarity                           15.893\n",
       "PA_duration_before                   14.911\n",
       "PA_easiness_before1                  11.320\n",
       "PA_easiness_collective_before1        9.295\n",
       "happy_before1                         8.547\n",
       "PA_easiness_home_equipament_before1   8.100\n",
       "PA_barriers_before_none1              7.597\n",
       "optimistic_before1                    7.590\n",
       "anxious_before1                       7.321\n",
       "running_before1                       7.315\n",
       "hopeful_before1                       7.075\n",
       "martialStatus2                        6.809"
      ]
     },
     "metadata": {},
     "output_type": "display_data"
    },
    {
     "data": {
      "image/png": "[encoded data removed]",
      "text/plain": [
       "plot without title"
      ]
     },
     "metadata": {
      "image/png": {
       "height": 420,
       "width": 420
      }
     },
     "output_type": "display_data"
    }
   ],
   "source": [
    "plot(varImp(model$result), top=20)\n",
    "varImp(model$result)\n"
   ]
  },
  {
   "cell_type": "markdown",
   "metadata": {},
   "source": [
    "## Output variable: sedentary time range"
   ]
  },
  {
   "cell_type": "code",
   "execution_count": 154,
   "metadata": {},
   "outputs": [
    {
     "data": {
      "text/plain": [
       "\n",
       "   8_hour_or_more less_then_8_hours \n",
       "              437               805 "
      ]
     },
     "metadata": {},
     "output_type": "display_data"
    }
   ],
   "source": [
    "table(sedentary_dataset[, \"sedentary_time_range_during\"])"
   ]
  },
  {
   "cell_type": "markdown",
   "metadata": {},
   "source": [
    "### Creating dataset partition"
   ]
  },
  {
   "cell_type": "code",
   "execution_count": 155,
   "metadata": {},
   "outputs": [],
   "source": [
    "set.seed(2)\n",
    "lista_treino <- createDataPartition(sedentary_dataset$sedentary_time_range_during, p=0.7, list=FALSE)\n",
    "treino <- sedentary_dataset[lista_treino,]\n",
    "teste <- sedentary_dataset[-lista_treino,]"
   ]
  },
  {
   "cell_type": "markdown",
   "metadata": {},
   "source": [
    "### Applying augmentation into the training set"
   ]
  },
  {
   "cell_type": "code",
   "execution_count": 156,
   "metadata": {},
   "outputs": [
    {
     "name": "stdout",
     "output_type": "stream",
     "text": [
      "[1] \"entrei\"\n"
     ]
    },
    {
     "data": {
      "text/plain": [
       "\n",
       "   8_hour_or_more less_then_8_hours \n",
       "              564               564 "
      ]
     },
     "metadata": {},
     "output_type": "display_data"
    }
   ],
   "source": [
    "treino.aug <- data_augmentation(\n",
    "    train_data=treino,\n",
    "    yname=\"sedentary_time_range_during\",\n",
    "    maj_class = \"less_then_8_hours\",\n",
    "    min_classes = c(\"8_hour_or_more\"),\n",
    "    ycol=match(\"sedentary_time_range_during\",names(sedentary_dataset))\n",
    ")\n",
    "\n",
    "table(treino.aug[, \"sedentary_time_range_during\"])\n"
   ]
  },
  {
   "cell_type": "markdown",
   "metadata": {},
   "source": [
    "### Kappa metric without augmentation"
   ]
  },
  {
   "cell_type": "code",
   "execution_count": 157,
   "metadata": {},
   "outputs": [
    {
     "name": "stdout",
     "output_type": "stream",
     "text": [
      "Confusion Matrix and Statistics\n",
      "\n",
      "                   Reference\n",
      "Prediction          8_hour_or_more less_then_8_hours\n",
      "  8_hour_or_more                40                14\n",
      "  less_then_8_hours             91               227\n",
      "                                         \n",
      "               Accuracy : 0.7177         \n",
      "                 95% CI : (0.669, 0.7629)\n",
      "    No Information Rate : 0.6478         \n",
      "    P-Value [Acc > NIR] : 0.002479       \n",
      "                                         \n",
      "                  Kappa : 0.2856         \n",
      "                                         \n",
      " Mcnemar's Test P-Value : 1.199e-13      \n",
      "                                         \n",
      "            Sensitivity : 0.3053         \n",
      "            Specificity : 0.9419         \n",
      "         Pos Pred Value : 0.7407         \n",
      "         Neg Pred Value : 0.7138         \n",
      "             Prevalence : 0.3522         \n",
      "         Detection Rate : 0.1075         \n",
      "   Detection Prevalence : 0.1452         \n",
      "      Balanced Accuracy : 0.6236         \n",
      "                                         \n",
      "       'Positive' Class : 8_hour_or_more \n",
      "                                         \n"
     ]
    },
    {
     "data": {
      "image/png": "[encoded data removed]",
      "text/plain": [
       "plot without title"
      ]
     },
     "metadata": {
      "image/png": {
       "height": 420,
       "width": 420
      }
     },
     "output_type": "display_data"
    }
   ],
   "source": [
    "set.seed(2)\n",
    "model <- fit_model(\n",
    "    model_method=\"rpart\",\n",
    "    model_metric=\"Kappa\",\n",
    "    trControl_func = trainControl(method = \"cv\"),\n",
    "    train_data = treino,\n",
    "    test_data=teste,\n",
    "    yname=\"sedentary_time_range_during\",\n",
    "    length = 3\n",
    ")\n",
    "print(model$matrix)\n",
    "# print(model$result)\n",
    "rpart.plot(model$result$finalModel, extra=101)\n",
    "\n"
   ]
  },
  {
   "cell_type": "markdown",
   "metadata": {},
   "source": [
    "### Kappa metric with augmentation"
   ]
  },
  {
   "cell_type": "code",
   "execution_count": 158,
   "metadata": {},
   "outputs": [
    {
     "name": "stdout",
     "output_type": "stream",
     "text": [
      "Confusion Matrix and Statistics\n",
      "\n",
      "                   Reference\n",
      "Prediction          8_hour_or_more less_then_8_hours\n",
      "  8_hour_or_more                59                31\n",
      "  less_then_8_hours             72               210\n",
      "                                         \n",
      "               Accuracy : 0.7231         \n",
      "                 95% CI : (0.6746, 0.768)\n",
      "    No Information Rate : 0.6478         \n",
      "    P-Value [Acc > NIR] : 0.001201       \n",
      "                                         \n",
      "                  Kappa : 0.3465         \n",
      "                                         \n",
      " Mcnemar's Test P-Value : 8.104e-05      \n",
      "                                         \n",
      "            Sensitivity : 0.4504         \n",
      "            Specificity : 0.8714         \n",
      "         Pos Pred Value : 0.6556         \n",
      "         Neg Pred Value : 0.7447         \n",
      "             Prevalence : 0.3522         \n",
      "         Detection Rate : 0.1586         \n",
      "   Detection Prevalence : 0.2419         \n",
      "      Balanced Accuracy : 0.6609         \n",
      "                                         \n",
      "       'Positive' Class : 8_hour_or_more \n",
      "                                         \n"
     ]
    },
    {
     "data": {
      "image/png": "[encoded data removed]",
      "text/plain": [
       "plot without title"
      ]
     },
     "metadata": {
      "image/png": {
       "height": 420,
       "width": 420
      }
     },
     "output_type": "display_data"
    }
   ],
   "source": [
    "set.seed(2)\n",
    "model <- fit_model(\n",
    "    model_method=\"rpart\",\n",
    "    model_metric=\"Accuracy\",\n",
    "    trControl_func = trainControl(method = \"cv\"),\n",
    "    train_data = treino.aug,\n",
    "    test_data=teste,\n",
    "    yname=\"sedentary_time_range_during\",\n",
    "    length = 3\n",
    ")\n",
    "print(model$matrix)\n",
    "# print(model$result)\n",
    "rpart.plot(model$result$finalModel, extra=101)\n",
    "\n"
   ]
  },
  {
   "cell_type": "markdown",
   "metadata": {},
   "source": [
    "### RF: Kappa metric without augmentation"
   ]
  },
  {
   "cell_type": "code",
   "execution_count": 159,
   "metadata": {},
   "outputs": [
    {
     "name": "stdout",
     "output_type": "stream",
     "text": [
      "Confusion Matrix and Statistics\n",
      "\n",
      "                   Reference\n",
      "Prediction          8_hour_or_more less_then_8_hours\n",
      "  8_hour_or_more                58                26\n",
      "  less_then_8_hours             73               215\n",
      "                                          \n",
      "               Accuracy : 0.7339          \n",
      "                 95% CI : (0.6859, 0.7781)\n",
      "    No Information Rate : 0.6478          \n",
      "    P-Value [Acc > NIR] : 0.0002426       \n",
      "                                          \n",
      "                  Kappa : 0.3647          \n",
      "                                          \n",
      " Mcnemar's Test P-Value : 3.779e-06       \n",
      "                                          \n",
      "            Sensitivity : 0.4427          \n",
      "            Specificity : 0.8921          \n",
      "         Pos Pred Value : 0.6905          \n",
      "         Neg Pred Value : 0.7465          \n",
      "             Prevalence : 0.3522          \n",
      "         Detection Rate : 0.1559          \n",
      "   Detection Prevalence : 0.2258          \n",
      "      Balanced Accuracy : 0.6674          \n",
      "                                          \n",
      "       'Positive' Class : 8_hour_or_more  \n",
      "                                          \n"
     ]
    }
   ],
   "source": [
    "set.seed(2)\n",
    "model <- fit_model(\n",
    "    model_method=\"rf\",\n",
    "    model_metric=\"Kappa\",\n",
    "    trControl_func = trainControl(method = \"cv\", search=\"grid\"),\n",
    "    train_data = treino,\n",
    "    test_data=teste,\n",
    "    yname=\"sedentary_time_range_during\",\n",
    "    length = 3\n",
    ")\n",
    "print(model$matrix)"
   ]
  },
  {
   "cell_type": "code",
   "execution_count": 160,
   "metadata": {},
   "outputs": [
    {
     "data": {
      "text/plain": [
       "rf variable importance\n",
       "\n",
       "  only 20 most important variables shown (out of 79)\n",
       "\n",
       "                                             Overall\n",
       "sedentary_time_range_beforeless_then_8_hours  100.00\n",
       "age_range                                      72.97\n",
       "income_range                                   34.12\n",
       "pa_number_before                               33.53\n",
       "rooms_range                                    31.91\n",
       "PA_duration_before                             29.03\n",
       "scholarity                                     29.02\n",
       "PA_intensity_before                            26.13\n",
       "co.resident_range                              22.61\n",
       "PA_weekly_frequency_before                     21.02\n",
       "martialStatus2                                 16.99\n",
       "PA_easiness_before1                            16.87\n",
       "happy_before1                                  16.36\n",
       "sex2                                           15.36\n",
       "hopeful_before1                                15.31\n",
       "PA_easiness_professional_guidance_before1      15.10\n",
       "optimistic_before1                             15.02\n",
       "PA_easiness_music_before1                      14.70\n",
       "PA_barriers_before_time_convenience1           14.39\n",
       "PA_easiness_family_before1                     14.26"
      ]
     },
     "metadata": {},
     "output_type": "display_data"
    },
    {
     "data": {
      "image/png": "[encoded data removed]",
      "text/plain": [
       "plot without title"
      ]
     },
     "metadata": {
      "image/png": {
       "height": 420,
       "width": 420
      }
     },
     "output_type": "display_data"
    }
   ],
   "source": [
    "plot(varImp(model$result), top=20)\n",
    "varImp(model$result)\n"
   ]
  },
  {
   "cell_type": "markdown",
   "metadata": {},
   "source": [
    "### RF: Kappa metric with augmentation"
   ]
  },
  {
   "cell_type": "code",
   "execution_count": 161,
   "metadata": {},
   "outputs": [
    {
     "name": "stdout",
     "output_type": "stream",
     "text": [
      "Confusion Matrix and Statistics\n",
      "\n",
      "                   Reference\n",
      "Prediction          8_hour_or_more less_then_8_hours\n",
      "  8_hour_or_more                62                23\n",
      "  less_then_8_hours             69               218\n",
      "                                          \n",
      "               Accuracy : 0.7527          \n",
      "                 95% CI : (0.7056, 0.7957)\n",
      "    No Information Rate : 0.6478          \n",
      "    P-Value [Acc > NIR] : 8.892e-06       \n",
      "                                          \n",
      "                  Kappa : 0.4108          \n",
      "                                          \n",
      " Mcnemar's Test P-Value : 2.711e-06       \n",
      "                                          \n",
      "            Sensitivity : 0.4733          \n",
      "            Specificity : 0.9046          \n",
      "         Pos Pred Value : 0.7294          \n",
      "         Neg Pred Value : 0.7596          \n",
      "             Prevalence : 0.3522          \n",
      "         Detection Rate : 0.1667          \n",
      "   Detection Prevalence : 0.2285          \n",
      "      Balanced Accuracy : 0.6889          \n",
      "                                          \n",
      "       'Positive' Class : 8_hour_or_more  \n",
      "                                          \n"
     ]
    }
   ],
   "source": [
    "set.seed(2)\n",
    "model <- fit_model(\n",
    "    model_method=\"rf\",\n",
    "    model_metric=\"Kappa\",\n",
    "    trControl_func = trainControl(method = \"cv\", search=\"grid\"),\n",
    "    train_data = treino.aug,\n",
    "    test_data=teste,\n",
    "    yname=\"sedentary_time_range_during\",\n",
    "    length = 3\n",
    ")\n",
    "print(model$matrix)"
   ]
  },
  {
   "cell_type": "code",
   "execution_count": 162,
   "metadata": {},
   "outputs": [
    {
     "data": {
      "text/plain": [
       "rf variable importance\n",
       "\n",
       "  only 20 most important variables shown (out of 79)\n",
       "\n",
       "                                             Overall\n",
       "age_range                                    100.000\n",
       "sedentary_time_range_beforeless_then_8_hours  73.045\n",
       "rooms_range                                   59.514\n",
       "co.resident_range                             46.899\n",
       "income_range                                  25.701\n",
       "pa_number_before                              21.448\n",
       "PA_duration_before                            19.177\n",
       "scholarity                                    18.543\n",
       "PA_intensity_before                           16.068\n",
       "TAG1                                          15.834\n",
       "PA_weekly_frequency_before                    15.045\n",
       "depression_anxiety2                           14.829\n",
       "PA_easiness_before1                           12.610\n",
       "PA_barriers_before_time_convenience1          11.298\n",
       "martialStatus2                                10.934\n",
       "happy_before1                                 10.561\n",
       "running_before1                               10.321\n",
       "PA_easiness_professional_guidance_before1     10.058\n",
       "PA_easiness_music_before1                      9.992\n",
       "hopeful_before1                                9.883"
      ]
     },
     "metadata": {},
     "output_type": "display_data"
    },
    {
     "data": {
      "image/png": "[encoded data removed]",
      "text/plain": [
       "plot without title"
      ]
     },
     "metadata": {
      "image/png": {
       "height": 420,
       "width": 420
      }
     },
     "output_type": "display_data"
    }
   ],
   "source": [
    "plot(varImp(model$result), top=20)\n",
    "varImp(model$result)\n"
   ]
  },
  {
   "cell_type": "markdown",
   "metadata": {},
   "source": [
    "## Output variable: Practice of exercise behavior"
   ]
  },
  {
   "cell_type": "code",
   "execution_count": 163,
   "metadata": {},
   "outputs": [
    {
     "data": {
      "text/html": [
       "<style>\n",
       ".list-inline {list-style: none; margin:0; padding: 0}\n",
       ".list-inline>li {display: inline-block}\n",
       ".list-inline>li:not(:last-child)::after {content: \"\\00b7\"; padding: 0 .5ex}\n",
       "</style>\n",
       "<ol class=list-inline><li>1235</li><li>73</li></ol>\n"
      ],
      "text/latex": [
       "\\begin{enumerate*}\n",
       "\\item 1235\n",
       "\\item 73\n",
       "\\end{enumerate*}\n"
      ],
      "text/markdown": [
       "1. 1235\n",
       "2. 73\n",
       "\n",
       "\n"
      ],
      "text/plain": [
       "[1] 1235   73"
      ]
     },
     "metadata": {},
     "output_type": "display_data"
    }
   ],
   "source": [
    "dim(pa_behavior_dataset)"
   ]
  },
  {
   "cell_type": "code",
   "execution_count": 164,
   "metadata": {},
   "outputs": [
    {
     "data": {
      "text/plain": [
       "\n",
       "change_to_dont_practice      change_to_practice     still_dont_practice \n",
       "                    270                      67                      72 \n",
       "         still_practice \n",
       "                    826 "
      ]
     },
     "metadata": {},
     "output_type": "display_data"
    },
    {
     "data": {
      "text/plain": [
       "\n",
       "change_to_dont_practice          still_practice \n",
       "                    270                     826 "
      ]
     },
     "metadata": {},
     "output_type": "display_data"
    },
    {
     "data": {
      "text/plain": [
       "\n",
       " change_to_practice still_dont_practice \n",
       "                 67                  72 "
      ]
     },
     "metadata": {},
     "output_type": "display_data"
    }
   ],
   "source": [
    "table(pa_behavior_dataset[, \"pa_behavior\"])\n",
    "practice_before <- c(\"change_to_dont_practice\", \"still_practice\")\n",
    "dont_practice_before <- c(\"change_to_practice\", \"still_dont_practice\")\n",
    "pa_behavior_dataset_1 <- pa_behavior_dataset[pa_behavior_dataset$pa_behavior %in% practice_before, ]\n",
    "pa_behavior_dataset_2 <- pa_behavior_dataset[pa_behavior_dataset$pa_behavior %in% dont_practice_before, ]\n",
    "\n",
    "\n",
    "new_levels <- droplevels(pa_behavior_dataset_1[, \"pa_behavior\"], exclude = levels(pa_behavior_dataset_1[, \"pa_behavior\"]) %in% dont_practice_before)\n",
    "pa_behavior_dataset_1[, \"pa_behavior\"] <- new_levels\n",
    "\n",
    "new_levels <- droplevels(pa_behavior_dataset_2[, \"pa_behavior\"], exclude = levels(pa_behavior_dataset_1[, \"pa_behavior\"]) %in% practice_before)\n",
    "pa_behavior_dataset_2[, \"pa_behavior\"] <- new_levels\n",
    "table(pa_behavior_dataset_1[, \"pa_behavior\"])\n",
    "table(pa_behavior_dataset_2[, \"pa_behavior\"])\n"
   ]
  },
  {
   "cell_type": "markdown",
   "metadata": {},
   "source": [
    "There is a majority class, we should apply data augmentation. We chose kappa metrict to optimize becouse data is unbalanced."
   ]
  },
  {
   "cell_type": "markdown",
   "metadata": {},
   "source": [
    "### Creating the dataset partition: practice before"
   ]
  },
  {
   "cell_type": "code",
   "execution_count": 165,
   "metadata": {},
   "outputs": [],
   "source": [
    "set.seed(2)\n",
    "lista_treino <- createDataPartition(pa_behavior_dataset_1$pa_behavior, p=0.7, list=FALSE)\n",
    "treino <- pa_behavior_dataset_1[lista_treino,]\n",
    "teste <- pa_behavior_dataset_1[-lista_treino,]"
   ]
  },
  {
   "cell_type": "markdown",
   "metadata": {},
   "source": [
    "### Applying augmentation into the training set: practice before"
   ]
  },
  {
   "cell_type": "code",
   "execution_count": 166,
   "metadata": {},
   "outputs": [
    {
     "name": "stdout",
     "output_type": "stream",
     "text": [
      "[1] \"entrei\"\n"
     ]
    },
    {
     "data": {
      "text/plain": [
       "\n",
       "change_to_dont_practice          still_practice \n",
       "                    579                     579 "
      ]
     },
     "metadata": {},
     "output_type": "display_data"
    }
   ],
   "source": [
    "treino.aug <- data_augmentation(\n",
    "    train_data=treino,\n",
    "    yname=\"pa_behavior\",\n",
    "    maj_class = \"still_practice\",\n",
    "    min_classes = c(\"change_to_dont_practice\"),\n",
    "    ycol=match(\"pa_behavior\",names(pa_behavior_dataset_1))\n",
    ")\n",
    "\n",
    "table(treino.aug[, \"pa_behavior\"])\n"
   ]
  },
  {
   "cell_type": "markdown",
   "metadata": {},
   "source": [
    "### Kappa metric without augmentation: practice before"
   ]
  },
  {
   "cell_type": "code",
   "execution_count": 167,
   "metadata": {},
   "outputs": [
    {
     "name": "stdout",
     "output_type": "stream",
     "text": [
      "Confusion Matrix and Statistics\n",
      "\n",
      "                         Reference\n",
      "Prediction                change_to_dont_practice still_practice\n",
      "  change_to_dont_practice                      12              6\n",
      "  still_practice                               69            241\n",
      "                                                 \n",
      "               Accuracy : 0.7713                 \n",
      "                 95% CI : (0.722, 0.8157)        \n",
      "    No Information Rate : 0.753                  \n",
      "    P-Value [Acc > NIR] : 0.2424                 \n",
      "                                                 \n",
      "                  Kappa : 0.1677                 \n",
      "                                                 \n",
      " Mcnemar's Test P-Value : 8.118e-13              \n",
      "                                                 \n",
      "            Sensitivity : 0.14815                \n",
      "            Specificity : 0.97571                \n",
      "         Pos Pred Value : 0.66667                \n",
      "         Neg Pred Value : 0.77742                \n",
      "             Prevalence : 0.24695                \n",
      "         Detection Rate : 0.03659                \n",
      "   Detection Prevalence : 0.05488                \n",
      "      Balanced Accuracy : 0.56193                \n",
      "                                                 \n",
      "       'Positive' Class : change_to_dont_practice\n",
      "                                                 \n"
     ]
    },
    {
     "data": {
      "image/png": "[encoded data removed]",
      "text/plain": [
       "plot without title"
      ]
     },
     "metadata": {
      "image/png": {
       "height": 420,
       "width": 420
      }
     },
     "output_type": "display_data"
    }
   ],
   "source": [
    "set.seed(2)\n",
    "model <- fit_model(\n",
    "    model_method=\"rpart\",\n",
    "    model_metric=\"Kappa\",\n",
    "    trControl_func = trainControl(method = \"cv\"),\n",
    "    train_data = treino,\n",
    "    test_data=teste,\n",
    "    yname=\"pa_behavior\",\n",
    "    length = 3\n",
    ")\n",
    "print(model$matrix)\n",
    "# print(model$result)\n",
    "rpart.plot(model$result$finalModel)\n",
    "\n"
   ]
  },
  {
   "cell_type": "markdown",
   "metadata": {},
   "source": [
    "### Kappa metric with augmentation: practice before"
   ]
  },
  {
   "cell_type": "code",
   "execution_count": 168,
   "metadata": {},
   "outputs": [
    {
     "name": "stdout",
     "output_type": "stream",
     "text": [
      "Confusion Matrix and Statistics\n",
      "\n",
      "                         Reference\n",
      "Prediction                change_to_dont_practice still_practice\n",
      "  change_to_dont_practice                      46             80\n",
      "  still_practice                               35            167\n",
      "                                                 \n",
      "               Accuracy : 0.6494                 \n",
      "                 95% CI : (0.5951, 0.701)        \n",
      "    No Information Rate : 0.753                  \n",
      "    P-Value [Acc > NIR] : 1                      \n",
      "                                                 \n",
      "                  Kappa : 0.2056                 \n",
      "                                                 \n",
      " Mcnemar's Test P-Value : 4.078e-05              \n",
      "                                                 \n",
      "            Sensitivity : 0.5679                 \n",
      "            Specificity : 0.6761                 \n",
      "         Pos Pred Value : 0.3651                 \n",
      "         Neg Pred Value : 0.8267                 \n",
      "             Prevalence : 0.2470                 \n",
      "         Detection Rate : 0.1402                 \n",
      "   Detection Prevalence : 0.3841                 \n",
      "      Balanced Accuracy : 0.6220                 \n",
      "                                                 \n",
      "       'Positive' Class : change_to_dont_practice\n",
      "                                                 \n"
     ]
    },
    {
     "data": {
      "image/png": "[encoded data removed]",
      "text/plain": [
       "plot without title"
      ]
     },
     "metadata": {
      "image/png": {
       "height": 420,
       "width": 420
      }
     },
     "output_type": "display_data"
    }
   ],
   "source": [
    "model <- fit_model(\n",
    "    model_method=\"rpart\",\n",
    "    model_metric=\"Kappa\",\n",
    "    trControl_func = trainControl(method = \"cv\"),\n",
    "    train_data = treino.aug,\n",
    "    test_data=teste,\n",
    "    yname=\"pa_behavior\",\n",
    "    length=3\n",
    ")\n",
    "print(model$matrix)\n",
    "rpart.plot(model$result$finalModel)"
   ]
  },
  {
   "cell_type": "markdown",
   "metadata": {},
   "source": [
    "### RF practice before: Kappa metric without augmentation"
   ]
  },
  {
   "cell_type": "code",
   "execution_count": 169,
   "metadata": {},
   "outputs": [
    {
     "name": "stdout",
     "output_type": "stream",
     "text": [
      "Confusion Matrix and Statistics\n",
      "\n",
      "                         Reference\n",
      "Prediction                change_to_dont_practice still_practice\n",
      "  change_to_dont_practice                      26             17\n",
      "  still_practice                               55            230\n",
      "                                                 \n",
      "               Accuracy : 0.7805                 \n",
      "                 95% CI : (0.7317, 0.8241)       \n",
      "    No Information Rate : 0.753                  \n",
      "    P-Value [Acc > NIR] : 0.1377                 \n",
      "                                                 \n",
      "                  Kappa : 0.2994                 \n",
      "                                                 \n",
      " Mcnemar's Test P-Value : 1.298e-05              \n",
      "                                                 \n",
      "            Sensitivity : 0.32099                \n",
      "            Specificity : 0.93117                \n",
      "         Pos Pred Value : 0.60465                \n",
      "         Neg Pred Value : 0.80702                \n",
      "             Prevalence : 0.24695                \n",
      "         Detection Rate : 0.07927                \n",
      "   Detection Prevalence : 0.13110                \n",
      "      Balanced Accuracy : 0.62608                \n",
      "                                                 \n",
      "       'Positive' Class : change_to_dont_practice\n",
      "                                                 \n"
     ]
    }
   ],
   "source": [
    "set.seed(2)\n",
    "model <- fit_model(\n",
    "    model_method=\"rf\",\n",
    "    model_metric=\"Kappa\",\n",
    "    trControl_func = trainControl(method = \"cv\", search=\"grid\"),\n",
    "    train_data = treino,\n",
    "    test_data=teste,\n",
    "    yname=\"pa_behavior\",\n",
    "    length = 3\n",
    ")\n",
    "print(model$matrix)"
   ]
  },
  {
   "cell_type": "code",
   "execution_count": 170,
   "metadata": {},
   "outputs": [
    {
     "data": {
      "text/plain": [
       "rf variable importance\n",
       "\n",
       "  only 20 most important variables shown (out of 78)\n",
       "\n",
       "                                     Overall\n",
       "PA_intensity_before                   100.00\n",
       "income_range                           66.76\n",
       "age_range                              64.65\n",
       "pa_number_before                       51.79\n",
       "PA_duration_before                     49.37\n",
       "PA_weekly_frequency_before             45.99\n",
       "rooms_range                            41.51\n",
       "scholarity                             39.45\n",
       "PA_easiness_before1                    32.49\n",
       "co.resident_range                      27.92\n",
       "PA_easiness_music_before1              27.09\n",
       "PA_barriers_before_none1               26.57\n",
       "hopeful_before1                        24.69\n",
       "PA_easiness_collective_before1         24.32\n",
       "anxious_before1                        22.23\n",
       "optimistic_before1                     21.60\n",
       "PA_barriers_before_time_convenience1   19.74\n",
       "happy_before1                          19.68\n",
       "hiking_before1                         19.22\n",
       "Health_professional1                   18.99"
      ]
     },
     "metadata": {},
     "output_type": "display_data"
    },
    {
     "data": {
      "image/png": "[encoded data removed]",
      "text/plain": [
       "plot without title"
      ]
     },
     "metadata": {
      "image/png": {
       "height": 420,
       "width": 420
      }
     },
     "output_type": "display_data"
    }
   ],
   "source": [
    "plot(varImp(model$result), top=20)\n",
    "varImp(model$result)\n"
   ]
  },
  {
   "cell_type": "markdown",
   "metadata": {},
   "source": [
    "### RF practice before: Kappa metric with augmentation"
   ]
  },
  {
   "cell_type": "code",
   "execution_count": 171,
   "metadata": {},
   "outputs": [
    {
     "name": "stdout",
     "output_type": "stream",
     "text": [
      "Confusion Matrix and Statistics\n",
      "\n",
      "                         Reference\n",
      "Prediction                change_to_dont_practice still_practice\n",
      "  change_to_dont_practice                      25             18\n",
      "  still_practice                               56            229\n",
      "                                                 \n",
      "               Accuracy : 0.7744                 \n",
      "                 95% CI : (0.7253, 0.8185)       \n",
      "    No Information Rate : 0.753                  \n",
      "    P-Value [Acc > NIR] : 0.2036                 \n",
      "                                                 \n",
      "                  Kappa : 0.2799                 \n",
      "                                                 \n",
      " Mcnemar's Test P-Value : 1.699e-05              \n",
      "                                                 \n",
      "            Sensitivity : 0.30864                \n",
      "            Specificity : 0.92713                \n",
      "         Pos Pred Value : 0.58140                \n",
      "         Neg Pred Value : 0.80351                \n",
      "             Prevalence : 0.24695                \n",
      "         Detection Rate : 0.07622                \n",
      "   Detection Prevalence : 0.13110                \n",
      "      Balanced Accuracy : 0.61788                \n",
      "                                                 \n",
      "       'Positive' Class : change_to_dont_practice\n",
      "                                                 \n"
     ]
    }
   ],
   "source": [
    "set.seed(2)\n",
    "model <- fit_model(\n",
    "    model_method=\"rf\",\n",
    "    model_metric=\"Kappa\",\n",
    "    trControl_func = trainControl(method = \"cv\", search=\"grid\"),\n",
    "    train_data = treino.aug,\n",
    "    test_data=teste,\n",
    "    yname=\"pa_behavior\",\n",
    "    length = 3\n",
    ")\n",
    "print(model$matrix)"
   ]
  },
  {
   "cell_type": "code",
   "execution_count": 172,
   "metadata": {},
   "outputs": [
    {
     "data": {
      "text/plain": [
       "rf variable importance\n",
       "\n",
       "  only 20 most important variables shown (out of 78)\n",
       "\n",
       "                                     Overall\n",
       "co.resident_range                     100.00\n",
       "age_range                              88.60\n",
       "pa_number_before                       87.97\n",
       "rooms_range                            84.26\n",
       "PA_intensity_before                    62.78\n",
       "PA_weekly_frequency_before             41.00\n",
       "income_range                           40.45\n",
       "scholarity                             24.33\n",
       "PA_duration_before                     21.12\n",
       "PA_easiness_before1                    19.37\n",
       "PA_barriers_before_none1               19.33\n",
       "PA_easiness_music_before1              17.00\n",
       "anxious_before1                        12.94\n",
       "muscle_training_before1                12.67\n",
       "running_before1                        11.85\n",
       "optimistic_before1                     11.73\n",
       "martialStatus2                         11.37\n",
       "hopeful_before1                        11.31\n",
       "hiking_before1                         11.20\n",
       "PA_barriers_before_time_convenience1   10.85"
      ]
     },
     "metadata": {},
     "output_type": "display_data"
    },
    {
     "data": {
      "image/png": "[encoded data removed]",
      "text/plain": [
       "plot without title"
      ]
     },
     "metadata": {
      "image/png": {
       "height": 420,
       "width": 420
      }
     },
     "output_type": "display_data"
    }
   ],
   "source": [
    "plot(varImp(model$result), top=20)\n",
    "varImp(model$result)\n"
   ]
  },
  {
   "cell_type": "markdown",
   "metadata": {},
   "source": [
    "### Creating the dataset partition: dont practice before"
   ]
  },
  {
   "cell_type": "code",
   "execution_count": 173,
   "metadata": {},
   "outputs": [],
   "source": [
    "set.seed(2)\n",
    "lista_treino <- createDataPartition(pa_behavior_dataset_2$pa_behavior, p=0.7, list=FALSE)\n",
    "treino <- pa_behavior_dataset_2[lista_treino,]\n",
    "teste <- pa_behavior_dataset_2[-lista_treino,]"
   ]
  },
  {
   "cell_type": "markdown",
   "metadata": {},
   "source": [
    "### Accuracy metric without augmentation: dont practice before"
   ]
  },
  {
   "cell_type": "code",
   "execution_count": 174,
   "metadata": {},
   "outputs": [
    {
     "name": "stdout",
     "output_type": "stream",
     "text": [
      "Confusion Matrix and Statistics\n",
      "\n",
      "                     Reference\n",
      "Prediction            change_to_practice still_dont_practice\n",
      "  change_to_practice                  15                  15\n",
      "  still_dont_practice                  5                   6\n",
      "                                            \n",
      "               Accuracy : 0.5122            \n",
      "                 95% CI : (0.3513, 0.6712)  \n",
      "    No Information Rate : 0.5122            \n",
      "    P-Value [Acc > NIR] : 0.56244           \n",
      "                                            \n",
      "                  Kappa : 0.0353            \n",
      "                                            \n",
      " Mcnemar's Test P-Value : 0.04417           \n",
      "                                            \n",
      "            Sensitivity : 0.7500            \n",
      "            Specificity : 0.2857            \n",
      "         Pos Pred Value : 0.5000            \n",
      "         Neg Pred Value : 0.5455            \n",
      "             Prevalence : 0.4878            \n",
      "         Detection Rate : 0.3659            \n",
      "   Detection Prevalence : 0.7317            \n",
      "      Balanced Accuracy : 0.5179            \n",
      "                                            \n",
      "       'Positive' Class : change_to_practice\n",
      "                                            \n"
     ]
    },
    {
     "data": {
      "image/png": "[encoded data removed]",
      "text/plain": [
       "plot without title"
      ]
     },
     "metadata": {
      "image/png": {
       "height": 420,
       "width": 420
      }
     },
     "output_type": "display_data"
    }
   ],
   "source": [
    "set.seed(2)\n",
    "model <- fit_model(\n",
    "    model_method=\"rpart\",\n",
    "    model_metric=\"Accuracy\",\n",
    "    trControl_func = trainControl(method = \"cv\"),\n",
    "    train_data = treino,\n",
    "    test_data=teste,\n",
    "    yname=\"pa_behavior\",\n",
    "    length = 3\n",
    ")\n",
    "print(model$matrix)\n",
    "# print(model$result)\n",
    "rpart.plot(model$result$finalModel)\n",
    "\n"
   ]
  },
  {
   "cell_type": "markdown",
   "metadata": {},
   "source": [
    "### RF dont practice before: Accuracy metric without augmentation"
   ]
  },
  {
   "cell_type": "code",
   "execution_count": 175,
   "metadata": {},
   "outputs": [
    {
     "name": "stdout",
     "output_type": "stream",
     "text": [
      "Confusion Matrix and Statistics\n",
      "\n",
      "                     Reference\n",
      "Prediction            change_to_practice still_dont_practice\n",
      "  change_to_practice                  11                   8\n",
      "  still_dont_practice                  9                  13\n",
      "                                            \n",
      "               Accuracy : 0.5854            \n",
      "                 95% CI : (0.4211, 0.7368)  \n",
      "    No Information Rate : 0.5122            \n",
      "    P-Value [Acc > NIR] : 0.2177            \n",
      "                                            \n",
      "                  Kappa : 0.1692            \n",
      "                                            \n",
      " Mcnemar's Test P-Value : 1.0000            \n",
      "                                            \n",
      "            Sensitivity : 0.5500            \n",
      "            Specificity : 0.6190            \n",
      "         Pos Pred Value : 0.5789            \n",
      "         Neg Pred Value : 0.5909            \n",
      "             Prevalence : 0.4878            \n",
      "         Detection Rate : 0.2683            \n",
      "   Detection Prevalence : 0.4634            \n",
      "      Balanced Accuracy : 0.5845            \n",
      "                                            \n",
      "       'Positive' Class : change_to_practice\n",
      "                                            \n"
     ]
    }
   ],
   "source": [
    "set.seed(2)\n",
    "model <- fit_model(\n",
    "    model_method=\"rf\",\n",
    "    model_metric=\"Accuracy\",\n",
    "    trControl_func = trainControl(method = \"cv\", search=\"grid\"),\n",
    "    train_data = treino,\n",
    "    test_data=teste,\n",
    "    yname=\"pa_behavior\",\n",
    "    length = 3\n",
    ")\n",
    "print(model$matrix)"
   ]
  },
  {
   "cell_type": "code",
   "execution_count": 176,
   "metadata": {},
   "outputs": [
    {
     "data": {
      "text/plain": [
       "rf variable importance\n",
       "\n",
       "  only 20 most important variables shown (out of 78)\n",
       "\n",
       "                                                 Overall\n",
       "age_range                                         100.00\n",
       "hypertension1                                      49.24\n",
       "rooms_range                                        48.50\n",
       "scholarity                                         44.61\n",
       "co.resident_range                                  41.77\n",
       "hopeless_before1                                   39.46\n",
       "PA_easiness_music_before1                          36.10\n",
       "income_range                                       35.33\n",
       "PA_easiness_before1                                33.48\n",
       "dyslipidemia1                                      29.67\n",
       "PA_barriers_before_location_distance1              25.46\n",
       "PA_easiness_unguided_before1                       23.02\n",
       "PA_barriers_before_time_convenience1               22.68\n",
       "PA_barriers_before_none1                           22.55\n",
       "PA_easiness_home_equipament_before1                22.48\n",
       "optimistic_before1                                 21.05\n",
       "PA_barriers_before_time_family_responsabilities1   18.99\n",
       "Health_professional1                               17.50\n",
       "DT1                                                17.22\n",
       "PA_barriers_before_money1                          17.11"
      ]
     },
     "metadata": {},
     "output_type": "display_data"
    },
    {
     "data": {
      "image/png": "[encoded data removed]",
      "text/plain": [
       "plot without title"
      ]
     },
     "metadata": {
      "image/png": {
       "height": 420,
       "width": 420
      }
     },
     "output_type": "display_data"
    }
   ],
   "source": [
    "plot(varImp(model$result), top=20)\n",
    "varImp(model$result)\n"
   ]
  }
 ],
 "metadata": {
  "kernelspec": {
   "display_name": "R",
   "language": "R",
   "name": "ir"
  },
  "language_info": {
   "codemirror_mode": "r",
   "file_extension": ".r",
   "mimetype": "text/x-r-source",
   "name": "R",
   "pygments_lexer": "r",
   "version": "4.1.0"
  },
  "orig_nbformat": 4
 },
 "nbformat": 4,
 "nbformat_minor": 2
}
