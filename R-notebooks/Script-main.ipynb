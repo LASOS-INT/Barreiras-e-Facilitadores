{
 "cells": [
  {
   "cell_type": "markdown",
   "source": [
    "# Importing and Loading packages\n",
    "\n",
    "### First, we need to install the package \"here\" so that we can call all mudules without thinking about path. \n",
    "\n",
    "### Then, we can load and install the rest of the packages from the file module.R \n"
   ],
   "metadata": {}
  },
  {
   "cell_type": "code",
   "execution_count": 85,
   "source": [
    "install.packages(\"ggfortify\")\n",
    "library(here, help, pos = 2, lib.loc = NULL)\n",
    "source(here('Modules','modules.R'))\n",
    "#install_all_packages()\n",
    "load_library_packages()"
   ],
   "outputs": [
    {
     "output_type": "stream",
     "name": "stderr",
     "text": [
      "Installing package into 'C:/Users/maria/Documents/R/win-library/4.1'\n",
      "(as 'lib' is unspecified)\n",
      "\n"
     ]
    },
    {
     "output_type": "stream",
     "name": "stdout",
     "text": [
      "package 'ggfortify' successfully unpacked and MD5 sums checked\n",
      "\n",
      "The downloaded binary packages are in\n",
      "\tC:\\Users\\maria\\AppData\\Local\\Temp\\RtmpmMvA4B\\downloaded_packages\n"
     ]
    },
    {
     "output_type": "stream",
     "name": "stderr",
     "text": [
      "Warning message:\n",
      "\"package 'ggfortify' was built under R version 4.1.1\"\n"
     ]
    },
    {
     "output_type": "display_data",
     "data": {
      "text/html": [
       "<ol>\n",
       "\t<li>TRUE</li>\n",
       "\t<li>TRUE</li>\n",
       "\t<li>TRUE</li>\n",
       "\t<li>TRUE</li>\n",
       "\t<li>TRUE</li>\n",
       "\t<li>TRUE</li>\n",
       "\t<li>TRUE</li>\n",
       "\t<li>TRUE</li>\n",
       "\t<li>TRUE</li>\n",
       "\t<li>TRUE</li>\n",
       "\t<li>TRUE</li>\n",
       "\t<li>TRUE</li>\n",
       "\t<li>TRUE</li>\n",
       "\t<li>TRUE</li>\n",
       "\t<li>TRUE</li>\n",
       "\t<li>TRUE</li>\n",
       "\t<li>TRUE</li>\n",
       "\t<li>TRUE</li>\n",
       "\t<li>TRUE</li>\n",
       "\t<li>TRUE</li>\n",
       "\t<li>TRUE</li>\n",
       "\t<li>TRUE</li>\n",
       "\t<li>TRUE</li>\n",
       "\t<li>TRUE</li>\n",
       "\t<li>TRUE</li>\n",
       "\t<li>TRUE</li>\n",
       "\t<li>TRUE</li>\n",
       "</ol>\n"
      ],
      "text/latex": [
       "\\begin{enumerate}\n",
       "\\item TRUE\n",
       "\\item TRUE\n",
       "\\item TRUE\n",
       "\\item TRUE\n",
       "\\item TRUE\n",
       "\\item TRUE\n",
       "\\item TRUE\n",
       "\\item TRUE\n",
       "\\item TRUE\n",
       "\\item TRUE\n",
       "\\item TRUE\n",
       "\\item TRUE\n",
       "\\item TRUE\n",
       "\\item TRUE\n",
       "\\item TRUE\n",
       "\\item TRUE\n",
       "\\item TRUE\n",
       "\\item TRUE\n",
       "\\item TRUE\n",
       "\\item TRUE\n",
       "\\item TRUE\n",
       "\\item TRUE\n",
       "\\item TRUE\n",
       "\\item TRUE\n",
       "\\item TRUE\n",
       "\\item TRUE\n",
       "\\item TRUE\n",
       "\\end{enumerate}\n"
      ],
      "text/markdown": [
       "1. TRUE\n",
       "2. TRUE\n",
       "3. TRUE\n",
       "4. TRUE\n",
       "5. TRUE\n",
       "6. TRUE\n",
       "7. TRUE\n",
       "8. TRUE\n",
       "9. TRUE\n",
       "10. TRUE\n",
       "11. TRUE\n",
       "12. TRUE\n",
       "13. TRUE\n",
       "14. TRUE\n",
       "15. TRUE\n",
       "16. TRUE\n",
       "17. TRUE\n",
       "18. TRUE\n",
       "19. TRUE\n",
       "20. TRUE\n",
       "21. TRUE\n",
       "22. TRUE\n",
       "23. TRUE\n",
       "24. TRUE\n",
       "25. TRUE\n",
       "26. TRUE\n",
       "27. TRUE\n",
       "\n",
       "\n"
      ],
      "text/plain": [
       "[[1]]\n",
       "[1] TRUE\n",
       "\n",
       "[[2]]\n",
       "[1] TRUE\n",
       "\n",
       "[[3]]\n",
       "[1] TRUE\n",
       "\n",
       "[[4]]\n",
       "[1] TRUE\n",
       "\n",
       "[[5]]\n",
       "[1] TRUE\n",
       "\n",
       "[[6]]\n",
       "[1] TRUE\n",
       "\n",
       "[[7]]\n",
       "[1] TRUE\n",
       "\n",
       "[[8]]\n",
       "[1] TRUE\n",
       "\n",
       "[[9]]\n",
       "[1] TRUE\n",
       "\n",
       "[[10]]\n",
       "[1] TRUE\n",
       "\n",
       "[[11]]\n",
       "[1] TRUE\n",
       "\n",
       "[[12]]\n",
       "[1] TRUE\n",
       "\n",
       "[[13]]\n",
       "[1] TRUE\n",
       "\n",
       "[[14]]\n",
       "[1] TRUE\n",
       "\n",
       "[[15]]\n",
       "[1] TRUE\n",
       "\n",
       "[[16]]\n",
       "[1] TRUE\n",
       "\n",
       "[[17]]\n",
       "[1] TRUE\n",
       "\n",
       "[[18]]\n",
       "[1] TRUE\n",
       "\n",
       "[[19]]\n",
       "[1] TRUE\n",
       "\n",
       "[[20]]\n",
       "[1] TRUE\n",
       "\n",
       "[[21]]\n",
       "[1] TRUE\n",
       "\n",
       "[[22]]\n",
       "[1] TRUE\n",
       "\n",
       "[[23]]\n",
       "[1] TRUE\n",
       "\n",
       "[[24]]\n",
       "[1] TRUE\n",
       "\n",
       "[[25]]\n",
       "[1] TRUE\n",
       "\n",
       "[[26]]\n",
       "[1] TRUE\n",
       "\n",
       "[[27]]\n",
       "[1] TRUE\n"
      ]
     },
     "metadata": {}
    }
   ],
   "metadata": {}
  },
  {
   "cell_type": "markdown",
   "source": [
    "# Importing and Exploring the Dataset"
   ],
   "metadata": {}
  },
  {
   "cell_type": "code",
   "execution_count": 36,
   "source": [
    "before_dataset <- read_excel(path = here('Data','before_pa.xlsx'))\n",
    "before_dataset <- data.frame(before_dataset)\n",
    "dim(before_dataset)\n",
    "unique(sapply(before_dataset, class))\n",
    "head(before_dataset)\n"
   ],
   "outputs": [
    {
     "output_type": "display_data",
     "data": {
      "text/html": [
       "<style>\n",
       ".list-inline {list-style: none; margin:0; padding: 0}\n",
       ".list-inline>li {display: inline-block}\n",
       ".list-inline>li:not(:last-child)::after {content: \"\\00b7\"; padding: 0 .5ex}\n",
       "</style>\n",
       "<ol class=list-inline><li>1255</li><li>77</li></ol>\n"
      ],
      "text/latex": [
       "\\begin{enumerate*}\n",
       "\\item 1255\n",
       "\\item 77\n",
       "\\end{enumerate*}\n"
      ],
      "text/markdown": [
       "1. 1255\n",
       "2. 77\n",
       "\n",
       "\n"
      ],
      "text/plain": [
       "[1] 1255   77"
      ]
     },
     "metadata": {}
    },
    {
     "output_type": "display_data",
     "data": {
      "text/html": [
       "'numeric'"
      ],
      "text/latex": [
       "'numeric'"
      ],
      "text/markdown": [
       "'numeric'"
      ],
      "text/plain": [
       "[1] \"numeric\""
      ]
     },
     "metadata": {}
    },
    {
     "output_type": "display_data",
     "data": {
      "text/html": [
       "<table class=\"dataframe\">\n",
       "<caption>A data.frame: 6 × 77</caption>\n",
       "<thead>\n",
       "\t<tr><th></th><th scope=col>sex</th><th scope=col>age_range</th><th scope=col>martialStatus</th><th scope=col>state</th><th scope=col>zone</th><th scope=col>co.resident_range</th><th scope=col>rooms_range</th><th scope=col>income_range</th><th scope=col>scholarity</th><th scope=col>diabetes</th><th scope=col>...</th><th scope=col>PA_easiness_others_before</th><th scope=col>PA_barriers_before_time_family_responsabilities</th><th scope=col>PA_barriers_before_tiredness</th><th scope=col>PA_barriers_before_location_distance</th><th scope=col>PA_barriers_before_money</th><th scope=col>PA_barriers_before_time_convenience</th><th scope=col>PA_barriers_before_hard_task</th><th scope=col>PA_barriers_before_interest</th><th scope=col>PA_barriers_before_none</th><th scope=col>PA_practice_during</th></tr>\n",
       "\t<tr><th></th><th scope=col>&lt;dbl&gt;</th><th scope=col>&lt;dbl&gt;</th><th scope=col>&lt;dbl&gt;</th><th scope=col>&lt;dbl&gt;</th><th scope=col>&lt;dbl&gt;</th><th scope=col>&lt;dbl&gt;</th><th scope=col>&lt;dbl&gt;</th><th scope=col>&lt;dbl&gt;</th><th scope=col>&lt;dbl&gt;</th><th scope=col>&lt;dbl&gt;</th><th scope=col>...</th><th scope=col>&lt;dbl&gt;</th><th scope=col>&lt;dbl&gt;</th><th scope=col>&lt;dbl&gt;</th><th scope=col>&lt;dbl&gt;</th><th scope=col>&lt;dbl&gt;</th><th scope=col>&lt;dbl&gt;</th><th scope=col>&lt;dbl&gt;</th><th scope=col>&lt;dbl&gt;</th><th scope=col>&lt;dbl&gt;</th><th scope=col>&lt;dbl&gt;</th></tr>\n",
       "</thead>\n",
       "<tbody>\n",
       "\t<tr><th scope=row>1</th><td>1</td><td>2</td><td>1</td><td>25</td><td>2</td><td>1</td><td>1</td><td>4</td><td>4</td><td>0</td><td>...</td><td>0</td><td>0</td><td>0</td><td>0</td><td>0</td><td>1</td><td>0</td><td>0</td><td>0</td><td>1</td></tr>\n",
       "\t<tr><th scope=row>2</th><td>2</td><td>3</td><td>1</td><td>21</td><td>1</td><td>2</td><td>3</td><td>6</td><td>4</td><td>0</td><td>...</td><td>0</td><td>0</td><td>1</td><td>0</td><td>0</td><td>0</td><td>0</td><td>0</td><td>0</td><td>0</td></tr>\n",
       "\t<tr><th scope=row>3</th><td>1</td><td>3</td><td>1</td><td>21</td><td>1</td><td>2</td><td>2</td><td>5</td><td>3</td><td>0</td><td>...</td><td>0</td><td>0</td><td>0</td><td>0</td><td>1</td><td>0</td><td>0</td><td>0</td><td>0</td><td>0</td></tr>\n",
       "\t<tr><th scope=row>4</th><td>1</td><td>3</td><td>1</td><td>21</td><td>1</td><td>1</td><td>1</td><td>3</td><td>4</td><td>0</td><td>...</td><td>0</td><td>0</td><td>0</td><td>0</td><td>0</td><td>1</td><td>0</td><td>0</td><td>0</td><td>0</td></tr>\n",
       "\t<tr><th scope=row>5</th><td>1</td><td>2</td><td>2</td><td>25</td><td>2</td><td>2</td><td>2</td><td>6</td><td>4</td><td>0</td><td>...</td><td>0</td><td>1</td><td>0</td><td>0</td><td>0</td><td>0</td><td>0</td><td>0</td><td>0</td><td>0</td></tr>\n",
       "\t<tr><th scope=row>6</th><td>2</td><td>3</td><td>2</td><td>21</td><td>1</td><td>2</td><td>2</td><td>6</td><td>6</td><td>0</td><td>...</td><td>0</td><td>1</td><td>0</td><td>0</td><td>0</td><td>0</td><td>0</td><td>0</td><td>0</td><td>0</td></tr>\n",
       "</tbody>\n",
       "</table>\n"
      ],
      "text/latex": [
       "A data.frame: 6 × 77\n",
       "\\begin{tabular}{r|lllllllllllllllllllll}\n",
       "  & sex & age\\_range & martialStatus & state & zone & co.resident\\_range & rooms\\_range & income\\_range & scholarity & diabetes & ... & PA\\_easiness\\_others\\_before & PA\\_barriers\\_before\\_time\\_family\\_responsabilities & PA\\_barriers\\_before\\_tiredness & PA\\_barriers\\_before\\_location\\_distance & PA\\_barriers\\_before\\_money & PA\\_barriers\\_before\\_time\\_convenience & PA\\_barriers\\_before\\_hard\\_task & PA\\_barriers\\_before\\_interest & PA\\_barriers\\_before\\_none & PA\\_practice\\_during\\\\\n",
       "  & <dbl> & <dbl> & <dbl> & <dbl> & <dbl> & <dbl> & <dbl> & <dbl> & <dbl> & <dbl> & ... & <dbl> & <dbl> & <dbl> & <dbl> & <dbl> & <dbl> & <dbl> & <dbl> & <dbl> & <dbl>\\\\\n",
       "\\hline\n",
       "\t1 & 1 & 2 & 1 & 25 & 2 & 1 & 1 & 4 & 4 & 0 & ... & 0 & 0 & 0 & 0 & 0 & 1 & 0 & 0 & 0 & 1\\\\\n",
       "\t2 & 2 & 3 & 1 & 21 & 1 & 2 & 3 & 6 & 4 & 0 & ... & 0 & 0 & 1 & 0 & 0 & 0 & 0 & 0 & 0 & 0\\\\\n",
       "\t3 & 1 & 3 & 1 & 21 & 1 & 2 & 2 & 5 & 3 & 0 & ... & 0 & 0 & 0 & 0 & 1 & 0 & 0 & 0 & 0 & 0\\\\\n",
       "\t4 & 1 & 3 & 1 & 21 & 1 & 1 & 1 & 3 & 4 & 0 & ... & 0 & 0 & 0 & 0 & 0 & 1 & 0 & 0 & 0 & 0\\\\\n",
       "\t5 & 1 & 2 & 2 & 25 & 2 & 2 & 2 & 6 & 4 & 0 & ... & 0 & 1 & 0 & 0 & 0 & 0 & 0 & 0 & 0 & 0\\\\\n",
       "\t6 & 2 & 3 & 2 & 21 & 1 & 2 & 2 & 6 & 6 & 0 & ... & 0 & 1 & 0 & 0 & 0 & 0 & 0 & 0 & 0 & 0\\\\\n",
       "\\end{tabular}\n"
      ],
      "text/markdown": [
       "\n",
       "A data.frame: 6 × 77\n",
       "\n",
       "| <!--/--> | sex &lt;dbl&gt; | age_range &lt;dbl&gt; | martialStatus &lt;dbl&gt; | state &lt;dbl&gt; | zone &lt;dbl&gt; | co.resident_range &lt;dbl&gt; | rooms_range &lt;dbl&gt; | income_range &lt;dbl&gt; | scholarity &lt;dbl&gt; | diabetes &lt;dbl&gt; | ... ... | PA_easiness_others_before &lt;dbl&gt; | PA_barriers_before_time_family_responsabilities &lt;dbl&gt; | PA_barriers_before_tiredness &lt;dbl&gt; | PA_barriers_before_location_distance &lt;dbl&gt; | PA_barriers_before_money &lt;dbl&gt; | PA_barriers_before_time_convenience &lt;dbl&gt; | PA_barriers_before_hard_task &lt;dbl&gt; | PA_barriers_before_interest &lt;dbl&gt; | PA_barriers_before_none &lt;dbl&gt; | PA_practice_during &lt;dbl&gt; |\n",
       "|---|---|---|---|---|---|---|---|---|---|---|---|---|---|---|---|---|---|---|---|---|---|\n",
       "| 1 | 1 | 2 | 1 | 25 | 2 | 1 | 1 | 4 | 4 | 0 | ... | 0 | 0 | 0 | 0 | 0 | 1 | 0 | 0 | 0 | 1 |\n",
       "| 2 | 2 | 3 | 1 | 21 | 1 | 2 | 3 | 6 | 4 | 0 | ... | 0 | 0 | 1 | 0 | 0 | 0 | 0 | 0 | 0 | 0 |\n",
       "| 3 | 1 | 3 | 1 | 21 | 1 | 2 | 2 | 5 | 3 | 0 | ... | 0 | 0 | 0 | 0 | 1 | 0 | 0 | 0 | 0 | 0 |\n",
       "| 4 | 1 | 3 | 1 | 21 | 1 | 1 | 1 | 3 | 4 | 0 | ... | 0 | 0 | 0 | 0 | 0 | 1 | 0 | 0 | 0 | 0 |\n",
       "| 5 | 1 | 2 | 2 | 25 | 2 | 2 | 2 | 6 | 4 | 0 | ... | 0 | 1 | 0 | 0 | 0 | 0 | 0 | 0 | 0 | 0 |\n",
       "| 6 | 2 | 3 | 2 | 21 | 1 | 2 | 2 | 6 | 6 | 0 | ... | 0 | 1 | 0 | 0 | 0 | 0 | 0 | 0 | 0 | 0 |\n",
       "\n"
      ],
      "text/plain": [
       "  sex age_range martialStatus state zone co.resident_range rooms_range\n",
       "1 1   2         1             25    2    1                 1          \n",
       "2 2   3         1             21    1    2                 3          \n",
       "3 1   3         1             21    1    2                 2          \n",
       "4 1   3         1             21    1    1                 1          \n",
       "5 1   2         2             25    2    2                 2          \n",
       "6 2   3         2             21    1    2                 2          \n",
       "  income_range scholarity diabetes ... PA_easiness_others_before\n",
       "1 4            4          0        ... 0                        \n",
       "2 6            4          0        ... 0                        \n",
       "3 5            3          0        ... 0                        \n",
       "4 3            4          0        ... 0                        \n",
       "5 6            4          0        ... 0                        \n",
       "6 6            6          0        ... 0                        \n",
       "  PA_barriers_before_time_family_responsabilities PA_barriers_before_tiredness\n",
       "1 0                                               0                           \n",
       "2 0                                               1                           \n",
       "3 0                                               0                           \n",
       "4 0                                               0                           \n",
       "5 1                                               0                           \n",
       "6 1                                               0                           \n",
       "  PA_barriers_before_location_distance PA_barriers_before_money\n",
       "1 0                                    0                       \n",
       "2 0                                    0                       \n",
       "3 0                                    1                       \n",
       "4 0                                    0                       \n",
       "5 0                                    0                       \n",
       "6 0                                    0                       \n",
       "  PA_barriers_before_time_convenience PA_barriers_before_hard_task\n",
       "1 1                                   0                           \n",
       "2 0                                   0                           \n",
       "3 0                                   0                           \n",
       "4 1                                   0                           \n",
       "5 0                                   0                           \n",
       "6 0                                   0                           \n",
       "  PA_barriers_before_interest PA_barriers_before_none PA_practice_during\n",
       "1 0                           0                       1                 \n",
       "2 0                           0                       0                 \n",
       "3 0                           0                       0                 \n",
       "4 0                           0                       0                 \n",
       "5 0                           0                       0                 \n",
       "6 0                           0                       0                 "
      ]
     },
     "metadata": {}
    }
   ],
   "metadata": {}
  },
  {
   "cell_type": "markdown",
   "source": [
    "# Adding new Columns"
   ],
   "metadata": {}
  },
  {
   "cell_type": "code",
   "execution_count": 37,
   "source": [
    "sports = c('running_before','hiking_before','cycling_before','muscle_training_before',\n",
    "'soccer_before','tennis_before','volleyball_before','basketball_before',\n",
    "'swimming_before','surfing_before','yoga_before','pilates_before',\n",
    "'fighting_before','other_sports_before')\n",
    "    \n",
    "before_dataset[, \"pa_number_before\"] = rowSums(before_dataset[, sports])"
   ],
   "outputs": [],
   "metadata": {}
  },
  {
   "cell_type": "markdown",
   "source": [
    "# Treating missing data\n",
    "\n",
    "### As the dataset had little missing data, we chose to omit them"
   ],
   "metadata": {}
  },
  {
   "cell_type": "code",
   "execution_count": 38,
   "source": [
    "before_dataset <- before_dataset[complete.cases(before_dataset),]\n",
    "dim(before_dataset)\n"
   ],
   "outputs": [
    {
     "output_type": "display_data",
     "data": {
      "text/html": [
       "<style>\n",
       ".list-inline {list-style: none; margin:0; padding: 0}\n",
       ".list-inline>li {display: inline-block}\n",
       ".list-inline>li:not(:last-child)::after {content: \"\\00b7\"; padding: 0 .5ex}\n",
       "</style>\n",
       "<ol class=list-inline><li>1242</li><li>78</li></ol>\n"
      ],
      "text/latex": [
       "\\begin{enumerate*}\n",
       "\\item 1242\n",
       "\\item 78\n",
       "\\end{enumerate*}\n"
      ],
      "text/markdown": [
       "1. 1242\n",
       "2. 78\n",
       "\n",
       "\n"
      ],
      "text/plain": [
       "[1] 1242   78"
      ]
     },
     "metadata": {}
    }
   ],
   "metadata": {}
  },
  {
   "cell_type": "markdown",
   "source": [
    "# Treating variables type"
   ],
   "metadata": {}
  },
  {
   "cell_type": "code",
   "execution_count": 39,
   "source": [
    "before_dataset$PA_practice_before[before_dataset$PA_practice_before == 0] <- \"practice\"\n",
    "before_dataset$PA_practice_before[before_dataset$PA_practice_before == 1] <- \"dont_practice\"\n",
    "before_dataset$PA_practice_during[before_dataset$PA_practice_during == 0] <- \"practice\"\n",
    "before_dataset$PA_practice_during[before_dataset$PA_practice_during == 1] <- \"dont_practice\"\n",
    "\n",
    "before_dataset$PA_intensity_before[before_dataset$PA_intensity_before == 4] <- 0\n",
    "before_dataset$PA_duration_before[before_dataset$PA_duration_before == 5] <- 0\n"
   ],
   "outputs": [],
   "metadata": {}
  },
  {
   "cell_type": "code",
   "execution_count": 40,
   "source": [
    "numeric_columns = c(\n",
    "    'age_range',\n",
    "    'rooms_range',\n",
    "    'income_range',\n",
    "    'scholarity',\n",
    "    'sedentary_time_range_before',\n",
    "    'co.resident_range',\n",
    "    \"PA_weekly_frequency_before\",\n",
    "    'PA_intensity_before',\n",
    "    'PA_duration_before',\n",
    "    \"pa_number_before\"\n",
    ")\n",
    "columns = names(before_dataset)\n",
    "categorical_columns <- columns[!columns %in% numeric_columns]\n",
    "\n",
    "\n",
    "before_dataset[, categorical_columns] <- lapply(before_dataset[, categorical_columns], as.factor)\n",
    "before_dataset[, numeric_columns] <- lapply(before_dataset[, numeric_columns], as.integer)\n",
    "\n",
    "\n",
    "before_dataset[1, 2] < before_dataset[2, 2] \n",
    "\n",
    "head(before_dataset[, numeric_columns])\n"
   ],
   "outputs": [
    {
     "output_type": "display_data",
     "data": {
      "text/html": [
       "TRUE"
      ],
      "text/latex": [
       "TRUE"
      ],
      "text/markdown": [
       "TRUE"
      ],
      "text/plain": [
       "[1] TRUE"
      ]
     },
     "metadata": {}
    },
    {
     "output_type": "display_data",
     "data": {
      "text/html": [
       "<table class=\"dataframe\">\n",
       "<caption>A data.frame: 6 × 10</caption>\n",
       "<thead>\n",
       "\t<tr><th></th><th scope=col>age_range</th><th scope=col>rooms_range</th><th scope=col>income_range</th><th scope=col>scholarity</th><th scope=col>sedentary_time_range_before</th><th scope=col>co.resident_range</th><th scope=col>PA_weekly_frequency_before</th><th scope=col>PA_intensity_before</th><th scope=col>PA_duration_before</th><th scope=col>pa_number_before</th></tr>\n",
       "\t<tr><th></th><th scope=col>&lt;int&gt;</th><th scope=col>&lt;int&gt;</th><th scope=col>&lt;int&gt;</th><th scope=col>&lt;int&gt;</th><th scope=col>&lt;int&gt;</th><th scope=col>&lt;int&gt;</th><th scope=col>&lt;int&gt;</th><th scope=col>&lt;int&gt;</th><th scope=col>&lt;int&gt;</th><th scope=col>&lt;int&gt;</th></tr>\n",
       "</thead>\n",
       "<tbody>\n",
       "\t<tr><th scope=row>1</th><td>2</td><td>1</td><td>4</td><td>4</td><td>4</td><td>1</td><td>4</td><td>1</td><td>2</td><td>1</td></tr>\n",
       "\t<tr><th scope=row>2</th><td>3</td><td>3</td><td>6</td><td>4</td><td>3</td><td>2</td><td>3</td><td>2</td><td>3</td><td>4</td></tr>\n",
       "\t<tr><th scope=row>3</th><td>3</td><td>2</td><td>5</td><td>3</td><td>1</td><td>2</td><td>2</td><td>3</td><td>2</td><td>2</td></tr>\n",
       "\t<tr><th scope=row>4</th><td>3</td><td>1</td><td>3</td><td>4</td><td>2</td><td>1</td><td>4</td><td>3</td><td>3</td><td>2</td></tr>\n",
       "\t<tr><th scope=row>5</th><td>2</td><td>2</td><td>6</td><td>4</td><td>4</td><td>2</td><td>4</td><td>3</td><td>3</td><td>2</td></tr>\n",
       "\t<tr><th scope=row>6</th><td>3</td><td>2</td><td>6</td><td>6</td><td>2</td><td>2</td><td>3</td><td>2</td><td>2</td><td>3</td></tr>\n",
       "</tbody>\n",
       "</table>\n"
      ],
      "text/latex": [
       "A data.frame: 6 × 10\n",
       "\\begin{tabular}{r|llllllllll}\n",
       "  & age\\_range & rooms\\_range & income\\_range & scholarity & sedentary\\_time\\_range\\_before & co.resident\\_range & PA\\_weekly\\_frequency\\_before & PA\\_intensity\\_before & PA\\_duration\\_before & pa\\_number\\_before\\\\\n",
       "  & <int> & <int> & <int> & <int> & <int> & <int> & <int> & <int> & <int> & <int>\\\\\n",
       "\\hline\n",
       "\t1 & 2 & 1 & 4 & 4 & 4 & 1 & 4 & 1 & 2 & 1\\\\\n",
       "\t2 & 3 & 3 & 6 & 4 & 3 & 2 & 3 & 2 & 3 & 4\\\\\n",
       "\t3 & 3 & 2 & 5 & 3 & 1 & 2 & 2 & 3 & 2 & 2\\\\\n",
       "\t4 & 3 & 1 & 3 & 4 & 2 & 1 & 4 & 3 & 3 & 2\\\\\n",
       "\t5 & 2 & 2 & 6 & 4 & 4 & 2 & 4 & 3 & 3 & 2\\\\\n",
       "\t6 & 3 & 2 & 6 & 6 & 2 & 2 & 3 & 2 & 2 & 3\\\\\n",
       "\\end{tabular}\n"
      ],
      "text/markdown": [
       "\n",
       "A data.frame: 6 × 10\n",
       "\n",
       "| <!--/--> | age_range &lt;int&gt; | rooms_range &lt;int&gt; | income_range &lt;int&gt; | scholarity &lt;int&gt; | sedentary_time_range_before &lt;int&gt; | co.resident_range &lt;int&gt; | PA_weekly_frequency_before &lt;int&gt; | PA_intensity_before &lt;int&gt; | PA_duration_before &lt;int&gt; | pa_number_before &lt;int&gt; |\n",
       "|---|---|---|---|---|---|---|---|---|---|---|\n",
       "| 1 | 2 | 1 | 4 | 4 | 4 | 1 | 4 | 1 | 2 | 1 |\n",
       "| 2 | 3 | 3 | 6 | 4 | 3 | 2 | 3 | 2 | 3 | 4 |\n",
       "| 3 | 3 | 2 | 5 | 3 | 1 | 2 | 2 | 3 | 2 | 2 |\n",
       "| 4 | 3 | 1 | 3 | 4 | 2 | 1 | 4 | 3 | 3 | 2 |\n",
       "| 5 | 2 | 2 | 6 | 4 | 4 | 2 | 4 | 3 | 3 | 2 |\n",
       "| 6 | 3 | 2 | 6 | 6 | 2 | 2 | 3 | 2 | 2 | 3 |\n",
       "\n"
      ],
      "text/plain": [
       "  age_range rooms_range income_range scholarity sedentary_time_range_before\n",
       "1 2         1           4            4          4                          \n",
       "2 3         3           6            4          3                          \n",
       "3 3         2           5            3          1                          \n",
       "4 3         1           3            4          2                          \n",
       "5 2         2           6            4          4                          \n",
       "6 3         2           6            6          2                          \n",
       "  co.resident_range PA_weekly_frequency_before PA_intensity_before\n",
       "1 1                 4                          1                  \n",
       "2 2                 3                          2                  \n",
       "3 2                 2                          3                  \n",
       "4 1                 4                          3                  \n",
       "5 2                 4                          3                  \n",
       "6 2                 3                          2                  \n",
       "  PA_duration_before pa_number_before\n",
       "1 2                  1               \n",
       "2 3                  4               \n",
       "3 2                  2               \n",
       "4 3                  2               \n",
       "5 3                  2               \n",
       "6 2                  3               "
      ]
     },
     "metadata": {}
    }
   ],
   "metadata": {}
  },
  {
   "cell_type": "markdown",
   "source": [
    "# Sanity Check\n",
    "\n",
    "### More then one column have the class \"dont_practice\", we need to check if they agree"
   ],
   "metadata": {}
  },
  {
   "cell_type": "code",
   "execution_count": 41,
   "source": [
    "table(before_dataset[, c(\"PA_practice_before\", \"PA_duration_before\")])\n",
    "table(before_dataset[, c(\"PA_practice_before\", \"PA_intensity_before\")])\n",
    "table(before_dataset[, c(\"PA_practice_before\", \"PA_weekly_frequency_before\")])\n",
    "table(before_dataset[, c(\"PA_practice_before\", \"pa_number_before\")])\n"
   ],
   "outputs": [
    {
     "output_type": "display_data",
     "data": {
      "text/plain": [
       "                  PA_duration_before\n",
       "PA_practice_before   0   1   2   3   4\n",
       "     dont_practice 131   8   4   2   0\n",
       "     practice        4  60 654 324  55"
      ]
     },
     "metadata": {}
    },
    {
     "output_type": "display_data",
     "data": {
      "text/plain": [
       "                  PA_intensity_before\n",
       "PA_practice_before   0   1   2   3\n",
       "     dont_practice 131  14   0   0\n",
       "     practice        2 148 590 357"
      ]
     },
     "metadata": {}
    },
    {
     "output_type": "display_data",
     "data": {
      "text/plain": [
       "                  PA_weekly_frequency_before\n",
       "PA_practice_before   1   2   3   4\n",
       "     dont_practice 144   0   1   0\n",
       "     practice        2 424 473 198"
      ]
     },
     "metadata": {}
    },
    {
     "output_type": "display_data",
     "data": {
      "text/plain": [
       "                  pa_number_before\n",
       "PA_practice_before   0   1   2   3   4   5   6   7   9  14\n",
       "     dont_practice 144   1   0   0   0   0   0   0   0   0\n",
       "     practice        0 388 364 217  95  22   4   5   1   1"
      ]
     },
     "metadata": {}
    }
   ],
   "metadata": {}
  },
  {
   "cell_type": "code",
   "execution_count": 42,
   "source": [
    "differ_dp <- ( before_dataset$PA_duration_before != 0 \n",
    "                | before_dataset$PA_intensity_before != 0 \n",
    "                | before_dataset$PA_weekly_frequency_before != 1 \n",
    "                | before_dataset$pa_number_before != 0\n",
    "            ) \n",
    "strange_dp <- before_dataset$PA_practice_before == \"dont_practice\" & differ_dp \n",
    "dim(before_dataset[strange_dp, ])\n",
    "before_dataset <- before_dataset[!strange_dp,]"
   ],
   "outputs": [
    {
     "output_type": "display_data",
     "data": {
      "text/html": [
       "<style>\n",
       ".list-inline {list-style: none; margin:0; padding: 0}\n",
       ".list-inline>li {display: inline-block}\n",
       ".list-inline>li:not(:last-child)::after {content: \"\\00b7\"; padding: 0 .5ex}\n",
       "</style>\n",
       "<ol class=list-inline><li>15</li><li>78</li></ol>\n"
      ],
      "text/latex": [
       "\\begin{enumerate*}\n",
       "\\item 15\n",
       "\\item 78\n",
       "\\end{enumerate*}\n"
      ],
      "text/markdown": [
       "1. 15\n",
       "2. 78\n",
       "\n",
       "\n"
      ],
      "text/plain": [
       "[1] 15 78"
      ]
     },
     "metadata": {}
    }
   ],
   "metadata": {}
  },
  {
   "cell_type": "code",
   "execution_count": 43,
   "source": [
    "differ_p <- (   before_dataset$PA_duration_before == 0 \n",
    "                | before_dataset$PA_intensity_before == 0 \n",
    "                | before_dataset$PA_weekly_frequency_before == 1\n",
    "                | before_dataset$pa_number_before == 0\n",
    "            )\n",
    "strange_p <- before_dataset$PA_practice_before == \"practice\" & differ_p\n",
    "dim(before_dataset[strange_p, ])\n",
    "before_dataset <- before_dataset[!strange_p,]\n"
   ],
   "outputs": [
    {
     "output_type": "display_data",
     "data": {
      "text/html": [
       "<style>\n",
       ".list-inline {list-style: none; margin:0; padding: 0}\n",
       ".list-inline>li {display: inline-block}\n",
       ".list-inline>li:not(:last-child)::after {content: \"\\00b7\"; padding: 0 .5ex}\n",
       "</style>\n",
       "<ol class=list-inline><li>6</li><li>78</li></ol>\n"
      ],
      "text/latex": [
       "\\begin{enumerate*}\n",
       "\\item 6\n",
       "\\item 78\n",
       "\\end{enumerate*}\n"
      ],
      "text/markdown": [
       "1. 6\n",
       "2. 78\n",
       "\n",
       "\n"
      ],
      "text/plain": [
       "[1]  6 78"
      ]
     },
     "metadata": {}
    }
   ],
   "metadata": {}
  },
  {
   "cell_type": "markdown",
   "source": [
    "### We found out that some columns have bias"
   ],
   "metadata": {}
  },
  {
   "cell_type": "code",
   "execution_count": 44,
   "source": [
    "lapply(before_dataset, levels)[c(\"DA\", \"DP\")]\n",
    "before_dataset <- subset(before_dataset, select = -c(DA, DP, state, zone))"
   ],
   "outputs": [
    {
     "output_type": "display_data",
     "data": {
      "text/html": [
       "<dl>\n",
       "\t<dt>$DA</dt>\n",
       "\t\t<dd>'0'</dd>\n",
       "\t<dt>$DP</dt>\n",
       "\t\t<dd>'0'</dd>\n",
       "</dl>\n"
      ],
      "text/latex": [
       "\\begin{description}\n",
       "\\item[\\$DA] '0'\n",
       "\\item[\\$DP] '0'\n",
       "\\end{description}\n"
      ],
      "text/markdown": [
       "$DA\n",
       ":   '0'\n",
       "$DP\n",
       ":   '0'\n",
       "\n",
       "\n"
      ],
      "text/plain": [
       "$DA\n",
       "[1] \"0\"\n",
       "\n",
       "$DP\n",
       "[1] \"0\"\n"
      ]
     },
     "metadata": {}
    }
   ],
   "metadata": {}
  },
  {
   "cell_type": "markdown",
   "source": [
    "# PCA"
   ],
   "metadata": {}
  },
  {
   "cell_type": "code",
   "execution_count": 60,
   "source": [
    "dummy <- dummyVars(\" ~ .\", data=before_dataset)\n",
    "encoded_dataset <- data.frame(predict(dummy, newdata = before_dataset)) \n",
    "dummy"
   ],
   "outputs": [
    {
     "output_type": "display_data",
     "data": {
      "text/plain": [
       "Dummy Variable Object\n",
       "\n",
       "Formula: ~.\n",
       "<environment: 0x00000000071f6138>\n",
       "74 variables, 64 factors\n",
       "Variables and levels will be separated by '.'\n",
       "A less than full rank encoding is used"
      ]
     },
     "metadata": {}
    }
   ],
   "metadata": {}
  },
  {
   "cell_type": "code",
   "execution_count": 77,
   "source": [
    "encoded_dataset.pca <- prcomp(encoded_dataset , center = TRUE,scale. = TRUE)\n",
    "summary(encoded_dataset.pca) "
   ],
   "outputs": [
    {
     "output_type": "display_data",
     "data": {
      "text/plain": [
       "Importance of components:\n",
       "                           PC1     PC2     PC3     PC4    PC5     PC6     PC7\n",
       "Standard deviation     2.93919 2.29526 2.26582 2.13675 1.9609 1.92110 1.90912\n",
       "Proportion of Variance 0.05999 0.03658 0.03565 0.03171 0.0267 0.02563 0.02531\n",
       "Cumulative Proportion  0.05999 0.09658 0.13223 0.16394 0.1906 0.21627 0.24158\n",
       "                           PC8     PC9    PC10    PC11    PC12    PC13    PC14\n",
       "Standard deviation     1.81839 1.77620 1.74660 1.71057 1.66534 1.64701 1.60355\n",
       "Proportion of Variance 0.02296 0.02191 0.02118 0.02032 0.01926 0.01884 0.01786\n",
       "Cumulative Proportion  0.26454 0.28645 0.30763 0.32795 0.34721 0.36605 0.38391\n",
       "                          PC15    PC16    PC17    PC18    PC19    PC20   PC21\n",
       "Standard deviation     1.59916 1.59161 1.56115 1.55166 1.53632 1.51714 1.4938\n",
       "Proportion of Variance 0.01776 0.01759 0.01692 0.01672 0.01639 0.01598 0.0155\n",
       "Cumulative Proportion  0.40167 0.41926 0.43618 0.45290 0.46929 0.48528 0.5008\n",
       "                          PC22    PC23    PC24    PC25   PC26    PC27    PC28\n",
       "Standard deviation     1.48407 1.47529 1.46173 1.44822 1.4251 1.41049 1.40681\n",
       "Proportion of Variance 0.01529 0.01511 0.01484 0.01456 0.0141 0.01382 0.01374\n",
       "Cumulative Proportion  0.51607 0.53118 0.54602 0.56058 0.5747 0.58850 0.60225\n",
       "                          PC29    PC30    PC31    PC32    PC33    PC34    PC35\n",
       "Standard deviation     1.39916 1.38164 1.37019 1.36343 1.35098 1.32226 1.31741\n",
       "Proportion of Variance 0.01359 0.01326 0.01304 0.01291 0.01267 0.01214 0.01205\n",
       "Cumulative Proportion  0.61584 0.62910 0.64214 0.65505 0.66772 0.67986 0.69192\n",
       "                          PC36    PC37    PC38    PC39    PC40    PC41    PC42\n",
       "Standard deviation     1.30602 1.29462 1.27621 1.26686 1.24742 1.23740 1.23165\n",
       "Proportion of Variance 0.01185 0.01164 0.01131 0.01115 0.01081 0.01063 0.01053\n",
       "Cumulative Proportion  0.70376 0.71540 0.72671 0.73786 0.74866 0.75929 0.76983\n",
       "                          PC43    PC44    PC45    PC46    PC47    PC48    PC49\n",
       "Standard deviation     1.22036 1.20960 1.19362 1.17950 1.17528 1.16785 1.15047\n",
       "Proportion of Variance 0.01034 0.01016 0.00989 0.00966 0.00959 0.00947 0.00919\n",
       "Cumulative Proportion  0.78017 0.79033 0.80023 0.80989 0.81948 0.82895 0.83814\n",
       "                          PC50    PC51    PC52    PC53    PC54    PC55    PC56\n",
       "Standard deviation     1.13971 1.13761 1.10950 1.10835 1.09166 1.08115 1.05690\n",
       "Proportion of Variance 0.00902 0.00899 0.00855 0.00853 0.00828 0.00812 0.00776\n",
       "Cumulative Proportion  0.84716 0.85615 0.86470 0.87323 0.88151 0.88962 0.89738\n",
       "                          PC57    PC58    PC59    PC60    PC61    PC62    PC63\n",
       "Standard deviation     1.04550 1.03068 1.00485 0.99153 0.97379 0.95694 0.94854\n",
       "Proportion of Variance 0.00759 0.00738 0.00701 0.00683 0.00659 0.00636 0.00625\n",
       "Cumulative Proportion  0.90497 0.91235 0.91936 0.92619 0.93277 0.93913 0.94538\n",
       "                          PC64    PC65    PC66    PC67   PC68    PC69   PC70\n",
       "Standard deviation     0.94053 0.91753 0.90519 0.89652 0.8820 0.80947 0.8046\n",
       "Proportion of Variance 0.00614 0.00585 0.00569 0.00558 0.0054 0.00455 0.0045\n",
       "Cumulative Proportion  0.95152 0.95737 0.96306 0.96864 0.9740 0.97859 0.9831\n",
       "                          PC71    PC72    PC73    PC74    PC75    PC76   PC77\n",
       "Standard deviation     0.73252 0.68558 0.58962 0.58209 0.53046 0.48419 0.4482\n",
       "Proportion of Variance 0.00373 0.00326 0.00241 0.00235 0.00195 0.00163 0.0014\n",
       "Cumulative Proportion  0.98681 0.99008 0.99249 0.99485 0.99680 0.99843 0.9998\n",
       "                          PC78      PC79      PC80     PC81      PC82      PC83\n",
       "Standard deviation     0.15956 1.812e-14 3.424e-15 2.74e-15 2.674e-15 2.466e-15\n",
       "Proportion of Variance 0.00018 0.000e+00 0.000e+00 0.00e+00 0.000e+00 0.000e+00\n",
       "Cumulative Proportion  1.00000 1.000e+00 1.000e+00 1.00e+00 1.000e+00 1.000e+00\n",
       "                            PC84     PC85      PC86      PC87      PC88\n",
       "Standard deviation     2.238e-15 2.11e-15 1.877e-15 1.842e-15 1.754e-15\n",
       "Proportion of Variance 0.000e+00 0.00e+00 0.000e+00 0.000e+00 0.000e+00\n",
       "Cumulative Proportion  1.000e+00 1.00e+00 1.000e+00 1.000e+00 1.000e+00\n",
       "                            PC89      PC90      PC91     PC92     PC93\n",
       "Standard deviation     1.598e-15 1.597e-15 1.594e-15 1.54e-15 1.49e-15\n",
       "Proportion of Variance 0.000e+00 0.000e+00 0.000e+00 0.00e+00 0.00e+00\n",
       "Cumulative Proportion  1.000e+00 1.000e+00 1.000e+00 1.00e+00 1.00e+00\n",
       "                            PC94      PC95      PC96      PC97      PC98\n",
       "Standard deviation     1.411e-15 1.381e-15 1.356e-15 1.342e-15 1.285e-15\n",
       "Proportion of Variance 0.000e+00 0.000e+00 0.000e+00 0.000e+00 0.000e+00\n",
       "Cumulative Proportion  1.000e+00 1.000e+00 1.000e+00 1.000e+00 1.000e+00\n",
       "                            PC99     PC100     PC101     PC102    PC103\n",
       "Standard deviation     1.268e-15 1.257e-15 1.227e-15 1.227e-15 1.18e-15\n",
       "Proportion of Variance 0.000e+00 0.000e+00 0.000e+00 0.000e+00 0.00e+00\n",
       "Cumulative Proportion  1.000e+00 1.000e+00 1.000e+00 1.000e+00 1.00e+00\n",
       "                           PC104     PC105     PC106     PC107     PC108\n",
       "Standard deviation     1.133e-15 1.111e-15 1.066e-15 1.052e-15 1.017e-15\n",
       "Proportion of Variance 0.000e+00 0.000e+00 0.000e+00 0.000e+00 0.000e+00\n",
       "Cumulative Proportion  1.000e+00 1.000e+00 1.000e+00 1.000e+00 1.000e+00\n",
       "                           PC109     PC110     PC111     PC112    PC113\n",
       "Standard deviation     9.625e-16 9.403e-16 9.183e-16 8.939e-16 8.54e-16\n",
       "Proportion of Variance 0.000e+00 0.000e+00 0.000e+00 0.000e+00 0.00e+00\n",
       "Cumulative Proportion  1.000e+00 1.000e+00 1.000e+00 1.000e+00 1.00e+00\n",
       "                           PC114     PC115    PC116     PC117     PC118\n",
       "Standard deviation     8.302e-16 7.918e-16 7.78e-16 7.236e-16 6.842e-16\n",
       "Proportion of Variance 0.000e+00 0.000e+00 0.00e+00 0.000e+00 0.000e+00\n",
       "Cumulative Proportion  1.000e+00 1.000e+00 1.00e+00 1.000e+00 1.000e+00\n",
       "                          PC119    PC120     PC121     PC122     PC123\n",
       "Standard deviation     6.66e-16 6.25e-16 5.675e-16 5.379e-16 5.012e-16\n",
       "Proportion of Variance 0.00e+00 0.00e+00 0.000e+00 0.000e+00 0.000e+00\n",
       "Cumulative Proportion  1.00e+00 1.00e+00 1.000e+00 1.000e+00 1.000e+00\n",
       "                           PC124     PC125     PC126     PC127     PC128\n",
       "Standard deviation     4.499e-16 4.369e-16 4.244e-16 4.069e-16 4.033e-16\n",
       "Proportion of Variance 0.000e+00 0.000e+00 0.000e+00 0.000e+00 0.000e+00\n",
       "Cumulative Proportion  1.000e+00 1.000e+00 1.000e+00 1.000e+00 1.000e+00\n",
       "                           PC129     PC130     PC131     PC132     PC133\n",
       "Standard deviation     3.795e-16 3.441e-16 3.359e-16 3.203e-16 3.052e-16\n",
       "Proportion of Variance 0.000e+00 0.000e+00 0.000e+00 0.000e+00 0.000e+00\n",
       "Cumulative Proportion  1.000e+00 1.000e+00 1.000e+00 1.000e+00 1.000e+00\n",
       "                           PC134     PC135     PC136    PC137     PC138\n",
       "Standard deviation     2.795e-16 2.555e-16 2.441e-16 1.94e-16 1.898e-16\n",
       "Proportion of Variance 0.000e+00 0.000e+00 0.000e+00 0.00e+00 0.000e+00\n",
       "Cumulative Proportion  1.000e+00 1.000e+00 1.000e+00 1.00e+00 1.000e+00\n",
       "                           PC139     PC140     PC141     PC142     PC143\n",
       "Standard deviation     1.817e-16 1.382e-16 1.098e-16 1.025e-16 7.699e-17\n",
       "Proportion of Variance 0.000e+00 0.000e+00 0.000e+00 0.000e+00 0.000e+00\n",
       "Cumulative Proportion  1.000e+00 1.000e+00 1.000e+00 1.000e+00 1.000e+00\n",
       "                           PC144\n",
       "Standard deviation     1.747e-17\n",
       "Proportion of Variance 0.000e+00\n",
       "Cumulative Proportion  1.000e+00"
      ]
     },
     "metadata": {}
    }
   ],
   "metadata": {}
  },
  {
   "cell_type": "code",
   "execution_count": 94,
   "source": [
    "autoplot(encoded_dataset.pca, colour=\"PA_practice_during\", data=before_dataset)"
   ],
   "outputs": [
    {
     "output_type": "display_data",
     "data": {
      "image/png": "[encoded data removed]",
      "text/plain": [
       "plot without title"
      ]
     },
     "metadata": {
      "image/png": {
       "width": 420,
       "height": 420
      }
     }
    }
   ],
   "metadata": {}
  },
  {
   "cell_type": "markdown",
   "source": [
    "# Decision Trees"
   ],
   "metadata": {}
  },
  {
   "cell_type": "markdown",
   "source": [
    "## Finding out the majority class\n"
   ],
   "metadata": {}
  },
  {
   "cell_type": "code",
   "execution_count": 67,
   "source": [
    "table(before_dataset[, \"PA_practice_during\"])"
   ],
   "outputs": [
    {
     "output_type": "display_data",
     "data": {
      "text/plain": [
       "\n",
       "dont_practice      practice \n",
       "          337           884 "
      ]
     },
     "metadata": {}
    }
   ],
   "metadata": {}
  },
  {
   "cell_type": "markdown",
   "source": [
    "## Creating the dataset partition"
   ],
   "metadata": {}
  },
  {
   "cell_type": "code",
   "execution_count": 68,
   "source": [
    "set.seed(2)\n",
    "lista_treino <- createDataPartition(before_dataset$PA_practice_during, p=0.7, list=FALSE)\n",
    "treino <- before_dataset[lista_treino,]\n",
    "teste <- before_dataset[-lista_treino,]"
   ],
   "outputs": [],
   "metadata": {}
  },
  {
   "cell_type": "markdown",
   "source": [
    "## Applying augmentation into the training set"
   ],
   "metadata": {}
  },
  {
   "cell_type": "code",
   "execution_count": 69,
   "source": [
    "treino.aug <- data_augmentation(\n",
    "    train_data=treino,\n",
    "    yname=\"PA_practice_during\",\n",
    "    maj_class = \"practice\",\n",
    "    min_classes = c(\"dont_practice\"),\n",
    "    ycol=match(\"PA_practice_during\",names(before_dataset))\n",
    ")\n",
    "\n",
    "table(treino.aug[, \"PA_practice_during\"])"
   ],
   "outputs": [
    {
     "output_type": "display_data",
     "data": {
      "text/plain": [
       "\n",
       "dont_practice      practice \n",
       "          618           619 "
      ]
     },
     "metadata": {}
    }
   ],
   "metadata": {}
  },
  {
   "cell_type": "markdown",
   "source": [
    "## Kappa metric without augmentation"
   ],
   "metadata": {}
  },
  {
   "cell_type": "code",
   "execution_count": 73,
   "source": [
    "model <- fit_model(\n",
    "    model_method=\"rpart\",\n",
    "    model_metric=\"Kappa\",\n",
    "    trControl_func = trainControl(method = \"boot\"),\n",
    "    train_data = treino,\n",
    "    test_data=teste,\n",
    "    yname=\"PA_practice_during\"\n",
    ")\n",
    "print(model$matrix)\n",
    "print(model$matrix$table[2, 2])\n",
    "rpart.plot(model$result$finalModel)"
   ],
   "outputs": [
    {
     "output_type": "stream",
     "name": "stdout",
     "text": [
      "[1] 242\n"
     ]
    }
   ],
   "metadata": {}
  },
  {
   "cell_type": "markdown",
   "source": [
    "## Kappa metric with augmentation"
   ],
   "metadata": {}
  },
  {
   "cell_type": "code",
   "execution_count": 49,
   "source": [
    "model <- fit_model(\n",
    "    model_method=\"rpart\",\n",
    "    model_metric=\"Kappa\",\n",
    "    trControl_func = trainControl(method = \"boot\"),\n",
    "    train_data = treino.aug,\n",
    "    test_data=teste,\n",
    "    yname=\"PA_practice_during\"\n",
    ")\n",
    "print(model$matrix)\n",
    "rpart.plot(model$result$finalModel)"
   ],
   "outputs": [
    {
     "output_type": "stream",
     "name": "stdout",
     "text": [
      "Confusion Matrix and Statistics\n",
      "\n",
      "               Reference\n",
      "Prediction      dont_practice practice\n",
      "  dont_practice            52       56\n",
      "  practice                 49      209\n",
      "                                          \n",
      "               Accuracy : 0.7131          \n",
      "                 95% CI : (0.6638, 0.7589)\n",
      "    No Information Rate : 0.724           \n",
      "    P-Value [Acc > NIR] : 0.7028          \n",
      "                                          \n",
      "                  Kappa : 0.2972          \n",
      "                                          \n",
      " Mcnemar's Test P-Value : 0.5582          \n",
      "                                          \n",
      "            Sensitivity : 0.5149          \n",
      "            Specificity : 0.7887          \n",
      "         Pos Pred Value : 0.4815          \n",
      "         Neg Pred Value : 0.8101          \n",
      "             Prevalence : 0.2760          \n",
      "         Detection Rate : 0.1421          \n",
      "   Detection Prevalence : 0.2951          \n",
      "      Balanced Accuracy : 0.6518          \n",
      "                                          \n",
      "       'Positive' Class : dont_practice   \n",
      "                                          \n"
     ]
    },
    {
     "output_type": "display_data",
     "data": {
      "image/png": "[encoded data removed]",
      "text/plain": [
       "plot without title"
      ]
     },
     "metadata": {
      "image/png": {
       "width": 420,
       "height": 420
      }
     }
    }
   ],
   "metadata": {}
  },
  {
   "cell_type": "markdown",
   "source": [
    "## F-beta score without augmentation"
   ],
   "metadata": {}
  },
  {
   "cell_type": "code",
   "execution_count": 50,
   "source": [
    "fbeta <- function (data, lev=NULL, model = NULL){\n",
    "    fb_val <- FBeta_Score(data$obs, data$pred, positive=\"practice\", beta = 0.1)\n",
    "    c(FB = fb_val)\n",
    "}"
   ],
   "outputs": [],
   "metadata": {}
  },
  {
   "cell_type": "code",
   "execution_count": 51,
   "source": [
    "model <- fit_model(\n",
    "    model_method=\"rpart\",\n",
    "    model_metric=\"FB\",\n",
    "    trControl_func = trainControl(method = \"boot\", summaryFunction=fbeta, classProbs = TRUE),\n",
    "    train_data = treino,\n",
    "    test_data=teste,\n",
    "    yname=\"PA_practice_during\"\n",
    ")\n",
    "print(model$matrix)\n",
    "rpart.plot(model$result$finalModel)"
   ],
   "outputs": [
    {
     "output_type": "stream",
     "name": "stdout",
     "text": [
      "Confusion Matrix and Statistics\n",
      "\n",
      "               Reference\n",
      "Prediction      dont_practice practice\n",
      "  dont_practice            32       23\n",
      "  practice                 69      242\n",
      "                                          \n",
      "               Accuracy : 0.7486          \n",
      "                 95% CI : (0.7009, 0.7923)\n",
      "    No Information Rate : 0.724           \n",
      "    P-Value [Acc > NIR] : 0.1601          \n",
      "                                          \n",
      "                  Kappa : 0.2678          \n",
      "                                          \n",
      " Mcnemar's Test P-Value : 2.711e-06       \n",
      "                                          \n",
      "            Sensitivity : 0.31683         \n",
      "            Specificity : 0.91321         \n",
      "         Pos Pred Value : 0.58182         \n",
      "         Neg Pred Value : 0.77814         \n",
      "             Prevalence : 0.27596         \n",
      "         Detection Rate : 0.08743         \n",
      "   Detection Prevalence : 0.15027         \n",
      "      Balanced Accuracy : 0.61502         \n",
      "                                          \n",
      "       'Positive' Class : dont_practice   \n",
      "                                          \n"
     ]
    },
    {
     "output_type": "display_data",
     "data": {
      "image/png": "[encoded data removed]",
      "text/plain": [
       "plot without title"
      ]
     },
     "metadata": {
      "image/png": {
       "width": 420,
       "height": 420
      }
     }
    }
   ],
   "metadata": {}
  },
  {
   "cell_type": "code",
   "execution_count": 52,
   "source": [
    "gini = varImp(model$result$finalModel)\n",
    "#gini[order(gini)]\n",
    "head(gini, 10)\n",
    "# plot(varImp(model$result$finalModel), main=\"Variables Importance - Decision Tree\") "
   ],
   "outputs": [
    {
     "output_type": "display_data",
     "data": {
      "text/html": [
       "<table class=\"dataframe\">\n",
       "<caption>A data.frame: 10 × 1</caption>\n",
       "<thead>\n",
       "\t<tr><th></th><th scope=col>Overall</th></tr>\n",
       "\t<tr><th></th><th scope=col>&lt;dbl&gt;</th></tr>\n",
       "</thead>\n",
       "<tbody>\n",
       "\t<tr><th scope=row>age_range</th><td> 8.204233</td></tr>\n",
       "\t<tr><th scope=row>PA_barriers_before_time_convenience1</th><td> 2.542328</td></tr>\n",
       "\t<tr><th scope=row>PA_barriers_before_tiredness1</th><td> 6.305880</td></tr>\n",
       "\t<tr><th scope=row>PA_duration_before</th><td>25.205848</td></tr>\n",
       "\t<tr><th scope=row>PA_easiness_before1</th><td> 4.596828</td></tr>\n",
       "\t<tr><th scope=row>PA_easiness_collective_before1</th><td> 3.007673</td></tr>\n",
       "\t<tr><th scope=row>PA_easiness_home_activity_before1</th><td>10.565588</td></tr>\n",
       "\t<tr><th scope=row>PA_intensity_before</th><td>29.577372</td></tr>\n",
       "\t<tr><th scope=row>pa_number_before</th><td>23.255563</td></tr>\n",
       "\t<tr><th scope=row>PA_practice_beforepractice</th><td>13.522006</td></tr>\n",
       "</tbody>\n",
       "</table>\n"
      ],
      "text/latex": [
       "A data.frame: 10 × 1\n",
       "\\begin{tabular}{r|l}\n",
       "  & Overall\\\\\n",
       "  & <dbl>\\\\\n",
       "\\hline\n",
       "\tage\\_range &  8.204233\\\\\n",
       "\tPA\\_barriers\\_before\\_time\\_convenience1 &  2.542328\\\\\n",
       "\tPA\\_barriers\\_before\\_tiredness1 &  6.305880\\\\\n",
       "\tPA\\_duration\\_before & 25.205848\\\\\n",
       "\tPA\\_easiness\\_before1 &  4.596828\\\\\n",
       "\tPA\\_easiness\\_collective\\_before1 &  3.007673\\\\\n",
       "\tPA\\_easiness\\_home\\_activity\\_before1 & 10.565588\\\\\n",
       "\tPA\\_intensity\\_before & 29.577372\\\\\n",
       "\tpa\\_number\\_before & 23.255563\\\\\n",
       "\tPA\\_practice\\_beforepractice & 13.522006\\\\\n",
       "\\end{tabular}\n"
      ],
      "text/markdown": [
       "\n",
       "A data.frame: 10 × 1\n",
       "\n",
       "| <!--/--> | Overall &lt;dbl&gt; |\n",
       "|---|---|\n",
       "| age_range |  8.204233 |\n",
       "| PA_barriers_before_time_convenience1 |  2.542328 |\n",
       "| PA_barriers_before_tiredness1 |  6.305880 |\n",
       "| PA_duration_before | 25.205848 |\n",
       "| PA_easiness_before1 |  4.596828 |\n",
       "| PA_easiness_collective_before1 |  3.007673 |\n",
       "| PA_easiness_home_activity_before1 | 10.565588 |\n",
       "| PA_intensity_before | 29.577372 |\n",
       "| pa_number_before | 23.255563 |\n",
       "| PA_practice_beforepractice | 13.522006 |\n",
       "\n"
      ],
      "text/plain": [
       "                                     Overall  \n",
       "age_range                             8.204233\n",
       "PA_barriers_before_time_convenience1  2.542328\n",
       "PA_barriers_before_tiredness1         6.305880\n",
       "PA_duration_before                   25.205848\n",
       "PA_easiness_before1                   4.596828\n",
       "PA_easiness_collective_before1        3.007673\n",
       "PA_easiness_home_activity_before1    10.565588\n",
       "PA_intensity_before                  29.577372\n",
       "pa_number_before                     23.255563\n",
       "PA_practice_beforepractice           13.522006"
      ]
     },
     "metadata": {}
    }
   ],
   "metadata": {}
  },
  {
   "cell_type": "markdown",
   "source": [
    "## F-beta score with augmentation"
   ],
   "metadata": {}
  },
  {
   "cell_type": "code",
   "execution_count": 53,
   "source": [
    "model <- fit_model(\n",
    "    model_method=\"rpart\",\n",
    "    model_metric=\"FB\",\n",
    "    trControl_func = trainControl(method = \"boot\", summaryFunction=fbeta, classProbs = TRUE),\n",
    "    train_data = treino.aug,\n",
    "    test_data=teste,\n",
    "    yname=\"PA_practice_during\"\n",
    ")\n",
    "print(model$matrix)\n",
    "rpart.plot(model$result$finalModel)"
   ],
   "outputs": [
    {
     "output_type": "stream",
     "name": "stderr",
     "text": [
      "Warning message in nominalTrainWorkflow(x = x, y = y, wts = weights, info = trainInfo, :\n",
      "\"There were missing values in resampled performance measures.\"\n"
     ]
    },
    {
     "output_type": "stream",
     "name": "stdout",
     "text": [
      "Confusion Matrix and Statistics\n",
      "\n",
      "               Reference\n",
      "Prediction      dont_practice practice\n",
      "  dont_practice            52       56\n",
      "  practice                 49      209\n",
      "                                          \n",
      "               Accuracy : 0.7131          \n",
      "                 95% CI : (0.6638, 0.7589)\n",
      "    No Information Rate : 0.724           \n",
      "    P-Value [Acc > NIR] : 0.7028          \n",
      "                                          \n",
      "                  Kappa : 0.2972          \n",
      "                                          \n",
      " Mcnemar's Test P-Value : 0.5582          \n",
      "                                          \n",
      "            Sensitivity : 0.5149          \n",
      "            Specificity : 0.7887          \n",
      "         Pos Pred Value : 0.4815          \n",
      "         Neg Pred Value : 0.8101          \n",
      "             Prevalence : 0.2760          \n",
      "         Detection Rate : 0.1421          \n",
      "   Detection Prevalence : 0.2951          \n",
      "      Balanced Accuracy : 0.6518          \n",
      "                                          \n",
      "       'Positive' Class : dont_practice   \n",
      "                                          \n"
     ]
    },
    {
     "output_type": "display_data",
     "data": {
      "image/png": "[encoded data removed]",
      "text/plain": [
       "plot without title"
      ]
     },
     "metadata": {
      "image/png": {
       "width": 420,
       "height": 420
      }
     }
    }
   ],
   "metadata": {}
  }
 ],
 "metadata": {
  "orig_nbformat": 4,
  "language_info": {
   "name": "R",
   "codemirror_mode": "r",
   "pygments_lexer": "r",
   "mimetype": "text/x-r-source",
   "file_extension": ".r",
   "version": "4.1.0"
  },
  "kernelspec": {
   "name": "ir",
   "display_name": "R",
   "language": "R"
  }
 },
 "nbformat": 4,
 "nbformat_minor": 2
}