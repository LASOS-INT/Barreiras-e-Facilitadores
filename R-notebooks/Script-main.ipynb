{
 "cells": [
  {
   "cell_type": "markdown",
   "source": [
    "# Importing and Loading packages\n",
    "\n",
    "### First, we need to install the package \"here\" so that we can call all mudules without thinking about path. \n",
    "\n",
    "### Then, we can load and install the rest of the packages from the file module.R \n"
   ],
   "metadata": {}
  },
  {
   "cell_type": "code",
   "execution_count": 117,
   "source": [
    "#install.packages(\"here\")\n",
    "library(here, help, pos = 2, lib.loc = NULL)\n",
    "source(here('Modules','modules.R'))\n",
    "#install_all_packages()\n",
    "load_library_packages()"
   ],
   "outputs": [
    {
     "output_type": "display_data",
     "data": {
      "text/html": [
       "<ol>\n",
       "\t<li>TRUE</li>\n",
       "\t<li>TRUE</li>\n",
       "\t<li>TRUE</li>\n",
       "\t<li>TRUE</li>\n",
       "\t<li>TRUE</li>\n",
       "\t<li>TRUE</li>\n",
       "\t<li>TRUE</li>\n",
       "\t<li>TRUE</li>\n",
       "\t<li>TRUE</li>\n",
       "\t<li>TRUE</li>\n",
       "\t<li>TRUE</li>\n",
       "\t<li>TRUE</li>\n",
       "\t<li>TRUE</li>\n",
       "\t<li>TRUE</li>\n",
       "\t<li>TRUE</li>\n",
       "\t<li>TRUE</li>\n",
       "\t<li>TRUE</li>\n",
       "\t<li>TRUE</li>\n",
       "\t<li>TRUE</li>\n",
       "\t<li>TRUE</li>\n",
       "\t<li>TRUE</li>\n",
       "\t<li>TRUE</li>\n",
       "\t<li>TRUE</li>\n",
       "\t<li>TRUE</li>\n",
       "\t<li>TRUE</li>\n",
       "\t<li>TRUE</li>\n",
       "\t<li>TRUE</li>\n",
       "\t<li>TRUE</li>\n",
       "</ol>\n"
      ],
      "text/latex": [
       "\\begin{enumerate}\n",
       "\\item TRUE\n",
       "\\item TRUE\n",
       "\\item TRUE\n",
       "\\item TRUE\n",
       "\\item TRUE\n",
       "\\item TRUE\n",
       "\\item TRUE\n",
       "\\item TRUE\n",
       "\\item TRUE\n",
       "\\item TRUE\n",
       "\\item TRUE\n",
       "\\item TRUE\n",
       "\\item TRUE\n",
       "\\item TRUE\n",
       "\\item TRUE\n",
       "\\item TRUE\n",
       "\\item TRUE\n",
       "\\item TRUE\n",
       "\\item TRUE\n",
       "\\item TRUE\n",
       "\\item TRUE\n",
       "\\item TRUE\n",
       "\\item TRUE\n",
       "\\item TRUE\n",
       "\\item TRUE\n",
       "\\item TRUE\n",
       "\\item TRUE\n",
       "\\item TRUE\n",
       "\\end{enumerate}\n"
      ],
      "text/markdown": [
       "1. TRUE\n",
       "2. TRUE\n",
       "3. TRUE\n",
       "4. TRUE\n",
       "5. TRUE\n",
       "6. TRUE\n",
       "7. TRUE\n",
       "8. TRUE\n",
       "9. TRUE\n",
       "10. TRUE\n",
       "11. TRUE\n",
       "12. TRUE\n",
       "13. TRUE\n",
       "14. TRUE\n",
       "15. TRUE\n",
       "16. TRUE\n",
       "17. TRUE\n",
       "18. TRUE\n",
       "19. TRUE\n",
       "20. TRUE\n",
       "21. TRUE\n",
       "22. TRUE\n",
       "23. TRUE\n",
       "24. TRUE\n",
       "25. TRUE\n",
       "26. TRUE\n",
       "27. TRUE\n",
       "28. TRUE\n",
       "\n",
       "\n"
      ],
      "text/plain": [
       "[[1]]\n",
       "[1] TRUE\n",
       "\n",
       "[[2]]\n",
       "[1] TRUE\n",
       "\n",
       "[[3]]\n",
       "[1] TRUE\n",
       "\n",
       "[[4]]\n",
       "[1] TRUE\n",
       "\n",
       "[[5]]\n",
       "[1] TRUE\n",
       "\n",
       "[[6]]\n",
       "[1] TRUE\n",
       "\n",
       "[[7]]\n",
       "[1] TRUE\n",
       "\n",
       "[[8]]\n",
       "[1] TRUE\n",
       "\n",
       "[[9]]\n",
       "[1] TRUE\n",
       "\n",
       "[[10]]\n",
       "[1] TRUE\n",
       "\n",
       "[[11]]\n",
       "[1] TRUE\n",
       "\n",
       "[[12]]\n",
       "[1] TRUE\n",
       "\n",
       "[[13]]\n",
       "[1] TRUE\n",
       "\n",
       "[[14]]\n",
       "[1] TRUE\n",
       "\n",
       "[[15]]\n",
       "[1] TRUE\n",
       "\n",
       "[[16]]\n",
       "[1] TRUE\n",
       "\n",
       "[[17]]\n",
       "[1] TRUE\n",
       "\n",
       "[[18]]\n",
       "[1] TRUE\n",
       "\n",
       "[[19]]\n",
       "[1] TRUE\n",
       "\n",
       "[[20]]\n",
       "[1] TRUE\n",
       "\n",
       "[[21]]\n",
       "[1] TRUE\n",
       "\n",
       "[[22]]\n",
       "[1] TRUE\n",
       "\n",
       "[[23]]\n",
       "[1] TRUE\n",
       "\n",
       "[[24]]\n",
       "[1] TRUE\n",
       "\n",
       "[[25]]\n",
       "[1] TRUE\n",
       "\n",
       "[[26]]\n",
       "[1] TRUE\n",
       "\n",
       "[[27]]\n",
       "[1] TRUE\n",
       "\n",
       "[[28]]\n",
       "[1] TRUE\n"
      ]
     },
     "metadata": {}
    }
   ],
   "metadata": {}
  },
  {
   "cell_type": "markdown",
   "source": [
    "# Importing and Exploring the Dataset"
   ],
   "metadata": {}
  },
  {
   "cell_type": "code",
   "execution_count": 118,
   "source": [
    "before_dataset <- read_excel(path = here('Data','before_pa.xlsx'))\n",
    "before_dataset <- data.frame(before_dataset)\n",
    "dim(before_dataset)\n",
    "unique(sapply(before_dataset, class))\n",
    "head(before_dataset)\n"
   ],
   "outputs": [
    {
     "output_type": "display_data",
     "data": {
      "text/html": [
       "<style>\n",
       ".list-inline {list-style: none; margin:0; padding: 0}\n",
       ".list-inline>li {display: inline-block}\n",
       ".list-inline>li:not(:last-child)::after {content: \"\\00b7\"; padding: 0 .5ex}\n",
       "</style>\n",
       "<ol class=list-inline><li>1255</li><li>77</li></ol>\n"
      ],
      "text/latex": [
       "\\begin{enumerate*}\n",
       "\\item 1255\n",
       "\\item 77\n",
       "\\end{enumerate*}\n"
      ],
      "text/markdown": [
       "1. 1255\n",
       "2. 77\n",
       "\n",
       "\n"
      ],
      "text/plain": [
       "[1] 1255   77"
      ]
     },
     "metadata": {}
    },
    {
     "output_type": "display_data",
     "data": {
      "text/html": [
       "'numeric'"
      ],
      "text/latex": [
       "'numeric'"
      ],
      "text/markdown": [
       "'numeric'"
      ],
      "text/plain": [
       "[1] \"numeric\""
      ]
     },
     "metadata": {}
    },
    {
     "output_type": "display_data",
     "data": {
      "text/html": [
       "<table class=\"dataframe\">\n",
       "<caption>A data.frame: 6 × 77</caption>\n",
       "<thead>\n",
       "\t<tr><th></th><th scope=col>sex</th><th scope=col>age_range</th><th scope=col>martialStatus</th><th scope=col>state</th><th scope=col>zone</th><th scope=col>co.resident_range</th><th scope=col>rooms_range</th><th scope=col>income_range</th><th scope=col>scholarity</th><th scope=col>diabetes</th><th scope=col>...</th><th scope=col>PA_easiness_others_before</th><th scope=col>PA_barriers_before_time_family_responsabilities</th><th scope=col>PA_barriers_before_tiredness</th><th scope=col>PA_barriers_before_location_distance</th><th scope=col>PA_barriers_before_money</th><th scope=col>PA_barriers_before_time_convenience</th><th scope=col>PA_barriers_before_hard_task</th><th scope=col>PA_barriers_before_interest</th><th scope=col>PA_barriers_before_none</th><th scope=col>PA_practice_during</th></tr>\n",
       "\t<tr><th></th><th scope=col>&lt;dbl&gt;</th><th scope=col>&lt;dbl&gt;</th><th scope=col>&lt;dbl&gt;</th><th scope=col>&lt;dbl&gt;</th><th scope=col>&lt;dbl&gt;</th><th scope=col>&lt;dbl&gt;</th><th scope=col>&lt;dbl&gt;</th><th scope=col>&lt;dbl&gt;</th><th scope=col>&lt;dbl&gt;</th><th scope=col>&lt;dbl&gt;</th><th scope=col>...</th><th scope=col>&lt;dbl&gt;</th><th scope=col>&lt;dbl&gt;</th><th scope=col>&lt;dbl&gt;</th><th scope=col>&lt;dbl&gt;</th><th scope=col>&lt;dbl&gt;</th><th scope=col>&lt;dbl&gt;</th><th scope=col>&lt;dbl&gt;</th><th scope=col>&lt;dbl&gt;</th><th scope=col>&lt;dbl&gt;</th><th scope=col>&lt;dbl&gt;</th></tr>\n",
       "</thead>\n",
       "<tbody>\n",
       "\t<tr><th scope=row>1</th><td>1</td><td>2</td><td>1</td><td>25</td><td>2</td><td>1</td><td>1</td><td>4</td><td>4</td><td>0</td><td>...</td><td>0</td><td>0</td><td>0</td><td>0</td><td>0</td><td>1</td><td>0</td><td>0</td><td>0</td><td>1</td></tr>\n",
       "\t<tr><th scope=row>2</th><td>2</td><td>3</td><td>1</td><td>21</td><td>1</td><td>2</td><td>3</td><td>6</td><td>4</td><td>0</td><td>...</td><td>0</td><td>0</td><td>1</td><td>0</td><td>0</td><td>0</td><td>0</td><td>0</td><td>0</td><td>0</td></tr>\n",
       "\t<tr><th scope=row>3</th><td>1</td><td>3</td><td>1</td><td>21</td><td>1</td><td>2</td><td>2</td><td>5</td><td>3</td><td>0</td><td>...</td><td>0</td><td>0</td><td>0</td><td>0</td><td>1</td><td>0</td><td>0</td><td>0</td><td>0</td><td>0</td></tr>\n",
       "\t<tr><th scope=row>4</th><td>1</td><td>3</td><td>1</td><td>21</td><td>1</td><td>1</td><td>1</td><td>3</td><td>4</td><td>0</td><td>...</td><td>0</td><td>0</td><td>0</td><td>0</td><td>0</td><td>1</td><td>0</td><td>0</td><td>0</td><td>0</td></tr>\n",
       "\t<tr><th scope=row>5</th><td>1</td><td>2</td><td>2</td><td>25</td><td>2</td><td>2</td><td>2</td><td>6</td><td>4</td><td>0</td><td>...</td><td>0</td><td>1</td><td>0</td><td>0</td><td>0</td><td>0</td><td>0</td><td>0</td><td>0</td><td>0</td></tr>\n",
       "\t<tr><th scope=row>6</th><td>2</td><td>3</td><td>2</td><td>21</td><td>1</td><td>2</td><td>2</td><td>6</td><td>6</td><td>0</td><td>...</td><td>0</td><td>1</td><td>0</td><td>0</td><td>0</td><td>0</td><td>0</td><td>0</td><td>0</td><td>0</td></tr>\n",
       "</tbody>\n",
       "</table>\n"
      ],
      "text/latex": [
       "A data.frame: 6 × 77\n",
       "\\begin{tabular}{r|lllllllllllllllllllll}\n",
       "  & sex & age\\_range & martialStatus & state & zone & co.resident\\_range & rooms\\_range & income\\_range & scholarity & diabetes & ... & PA\\_easiness\\_others\\_before & PA\\_barriers\\_before\\_time\\_family\\_responsabilities & PA\\_barriers\\_before\\_tiredness & PA\\_barriers\\_before\\_location\\_distance & PA\\_barriers\\_before\\_money & PA\\_barriers\\_before\\_time\\_convenience & PA\\_barriers\\_before\\_hard\\_task & PA\\_barriers\\_before\\_interest & PA\\_barriers\\_before\\_none & PA\\_practice\\_during\\\\\n",
       "  & <dbl> & <dbl> & <dbl> & <dbl> & <dbl> & <dbl> & <dbl> & <dbl> & <dbl> & <dbl> & ... & <dbl> & <dbl> & <dbl> & <dbl> & <dbl> & <dbl> & <dbl> & <dbl> & <dbl> & <dbl>\\\\\n",
       "\\hline\n",
       "\t1 & 1 & 2 & 1 & 25 & 2 & 1 & 1 & 4 & 4 & 0 & ... & 0 & 0 & 0 & 0 & 0 & 1 & 0 & 0 & 0 & 1\\\\\n",
       "\t2 & 2 & 3 & 1 & 21 & 1 & 2 & 3 & 6 & 4 & 0 & ... & 0 & 0 & 1 & 0 & 0 & 0 & 0 & 0 & 0 & 0\\\\\n",
       "\t3 & 1 & 3 & 1 & 21 & 1 & 2 & 2 & 5 & 3 & 0 & ... & 0 & 0 & 0 & 0 & 1 & 0 & 0 & 0 & 0 & 0\\\\\n",
       "\t4 & 1 & 3 & 1 & 21 & 1 & 1 & 1 & 3 & 4 & 0 & ... & 0 & 0 & 0 & 0 & 0 & 1 & 0 & 0 & 0 & 0\\\\\n",
       "\t5 & 1 & 2 & 2 & 25 & 2 & 2 & 2 & 6 & 4 & 0 & ... & 0 & 1 & 0 & 0 & 0 & 0 & 0 & 0 & 0 & 0\\\\\n",
       "\t6 & 2 & 3 & 2 & 21 & 1 & 2 & 2 & 6 & 6 & 0 & ... & 0 & 1 & 0 & 0 & 0 & 0 & 0 & 0 & 0 & 0\\\\\n",
       "\\end{tabular}\n"
      ],
      "text/markdown": [
       "\n",
       "A data.frame: 6 × 77\n",
       "\n",
       "| <!--/--> | sex &lt;dbl&gt; | age_range &lt;dbl&gt; | martialStatus &lt;dbl&gt; | state &lt;dbl&gt; | zone &lt;dbl&gt; | co.resident_range &lt;dbl&gt; | rooms_range &lt;dbl&gt; | income_range &lt;dbl&gt; | scholarity &lt;dbl&gt; | diabetes &lt;dbl&gt; | ... ... | PA_easiness_others_before &lt;dbl&gt; | PA_barriers_before_time_family_responsabilities &lt;dbl&gt; | PA_barriers_before_tiredness &lt;dbl&gt; | PA_barriers_before_location_distance &lt;dbl&gt; | PA_barriers_before_money &lt;dbl&gt; | PA_barriers_before_time_convenience &lt;dbl&gt; | PA_barriers_before_hard_task &lt;dbl&gt; | PA_barriers_before_interest &lt;dbl&gt; | PA_barriers_before_none &lt;dbl&gt; | PA_practice_during &lt;dbl&gt; |\n",
       "|---|---|---|---|---|---|---|---|---|---|---|---|---|---|---|---|---|---|---|---|---|---|\n",
       "| 1 | 1 | 2 | 1 | 25 | 2 | 1 | 1 | 4 | 4 | 0 | ... | 0 | 0 | 0 | 0 | 0 | 1 | 0 | 0 | 0 | 1 |\n",
       "| 2 | 2 | 3 | 1 | 21 | 1 | 2 | 3 | 6 | 4 | 0 | ... | 0 | 0 | 1 | 0 | 0 | 0 | 0 | 0 | 0 | 0 |\n",
       "| 3 | 1 | 3 | 1 | 21 | 1 | 2 | 2 | 5 | 3 | 0 | ... | 0 | 0 | 0 | 0 | 1 | 0 | 0 | 0 | 0 | 0 |\n",
       "| 4 | 1 | 3 | 1 | 21 | 1 | 1 | 1 | 3 | 4 | 0 | ... | 0 | 0 | 0 | 0 | 0 | 1 | 0 | 0 | 0 | 0 |\n",
       "| 5 | 1 | 2 | 2 | 25 | 2 | 2 | 2 | 6 | 4 | 0 | ... | 0 | 1 | 0 | 0 | 0 | 0 | 0 | 0 | 0 | 0 |\n",
       "| 6 | 2 | 3 | 2 | 21 | 1 | 2 | 2 | 6 | 6 | 0 | ... | 0 | 1 | 0 | 0 | 0 | 0 | 0 | 0 | 0 | 0 |\n",
       "\n"
      ],
      "text/plain": [
       "  sex age_range martialStatus state zone co.resident_range rooms_range\n",
       "1 1   2         1             25    2    1                 1          \n",
       "2 2   3         1             21    1    2                 3          \n",
       "3 1   3         1             21    1    2                 2          \n",
       "4 1   3         1             21    1    1                 1          \n",
       "5 1   2         2             25    2    2                 2          \n",
       "6 2   3         2             21    1    2                 2          \n",
       "  income_range scholarity diabetes ... PA_easiness_others_before\n",
       "1 4            4          0        ... 0                        \n",
       "2 6            4          0        ... 0                        \n",
       "3 5            3          0        ... 0                        \n",
       "4 3            4          0        ... 0                        \n",
       "5 6            4          0        ... 0                        \n",
       "6 6            6          0        ... 0                        \n",
       "  PA_barriers_before_time_family_responsabilities PA_barriers_before_tiredness\n",
       "1 0                                               0                           \n",
       "2 0                                               1                           \n",
       "3 0                                               0                           \n",
       "4 0                                               0                           \n",
       "5 1                                               0                           \n",
       "6 1                                               0                           \n",
       "  PA_barriers_before_location_distance PA_barriers_before_money\n",
       "1 0                                    0                       \n",
       "2 0                                    0                       \n",
       "3 0                                    1                       \n",
       "4 0                                    0                       \n",
       "5 0                                    0                       \n",
       "6 0                                    0                       \n",
       "  PA_barriers_before_time_convenience PA_barriers_before_hard_task\n",
       "1 1                                   0                           \n",
       "2 0                                   0                           \n",
       "3 0                                   0                           \n",
       "4 1                                   0                           \n",
       "5 0                                   0                           \n",
       "6 0                                   0                           \n",
       "  PA_barriers_before_interest PA_barriers_before_none PA_practice_during\n",
       "1 0                           0                       1                 \n",
       "2 0                           0                       0                 \n",
       "3 0                           0                       0                 \n",
       "4 0                           0                       0                 \n",
       "5 0                           0                       0                 \n",
       "6 0                           0                       0                 "
      ]
     },
     "metadata": {}
    }
   ],
   "metadata": {}
  },
  {
   "cell_type": "markdown",
   "source": [
    "# Adding new Columns"
   ],
   "metadata": {}
  },
  {
   "cell_type": "code",
   "execution_count": 119,
   "source": [
    "sports = c('running_before','hiking_before','cycling_before','muscle_training_before',\n",
    "'soccer_before','tennis_before','volleyball_before','basketball_before',\n",
    "'swimming_before','surfing_before','yoga_before','pilates_before',\n",
    "'fighting_before','other_sports_before')\n",
    "    \n",
    "before_dataset[, \"pa_number_before\"] = rowSums(before_dataset[, sports])"
   ],
   "outputs": [],
   "metadata": {}
  },
  {
   "cell_type": "markdown",
   "source": [
    "# Treating missing data\n",
    "\n",
    "### As the dataset had little missing data, we chose to omit them"
   ],
   "metadata": {}
  },
  {
   "cell_type": "code",
   "execution_count": 120,
   "source": [
    "before_dataset <- before_dataset[complete.cases(before_dataset), ]\n",
    "dim(before_dataset)\n"
   ],
   "outputs": [
    {
     "output_type": "display_data",
     "data": {
      "text/html": [
       "<style>\n",
       ".list-inline {list-style: none; margin:0; padding: 0}\n",
       ".list-inline>li {display: inline-block}\n",
       ".list-inline>li:not(:last-child)::after {content: \"\\00b7\"; padding: 0 .5ex}\n",
       "</style>\n",
       "<ol class=list-inline><li>1242</li><li>78</li></ol>\n"
      ],
      "text/latex": [
       "\\begin{enumerate*}\n",
       "\\item 1242\n",
       "\\item 78\n",
       "\\end{enumerate*}\n"
      ],
      "text/markdown": [
       "1. 1242\n",
       "2. 78\n",
       "\n",
       "\n"
      ],
      "text/plain": [
       "[1] 1242   78"
      ]
     },
     "metadata": {}
    }
   ],
   "metadata": {}
  },
  {
   "cell_type": "markdown",
   "source": [
    "# Treating variables type"
   ],
   "metadata": {}
  },
  {
   "cell_type": "code",
   "execution_count": 121,
   "source": [
    "before_dataset$PA_practice_before[before_dataset$PA_practice_before == 0] <- \"practice\"\n",
    "before_dataset$PA_practice_before[before_dataset$PA_practice_before == 1] <- \"dont_practice\"\n",
    "before_dataset$PA_practice_during[before_dataset$PA_practice_during == 0] <- \"practice\"\n",
    "before_dataset$PA_practice_during[before_dataset$PA_practice_during == 1] <- \"dont_practice\"\n",
    "\n",
    "before_dataset$PA_intensity_before[before_dataset$PA_intensity_before == 4] <- 0\n",
    "before_dataset$PA_duration_before[before_dataset$PA_duration_before == 5] <- 0\n"
   ],
   "outputs": [],
   "metadata": {}
  },
  {
   "cell_type": "code",
   "execution_count": 122,
   "source": [
    "numeric_columns = c(\n",
    "    'age_range',\n",
    "    'rooms_range',\n",
    "    'income_range',\n",
    "    'scholarity',\n",
    "    'sedentary_time_range_before',\n",
    "    'co.resident_range',\n",
    "    \"PA_weekly_frequency_before\",\n",
    "    'PA_intensity_before',\n",
    "    'PA_duration_before',\n",
    "    \"pa_number_before\"\n",
    ")\n",
    "columns = names(before_dataset)\n",
    "categorical_columns <- columns[!columns %in% numeric_columns]\n",
    "\n",
    "\n",
    "before_dataset[, categorical_columns] <- lapply(before_dataset[, categorical_columns], as.factor)\n",
    "before_dataset[, numeric_columns] <- lapply(before_dataset[, numeric_columns], as.integer)\n",
    "\n",
    "\n",
    "before_dataset[1, 2] < before_dataset[2, 2] \n",
    "\n",
    "head(before_dataset[, numeric_columns])\n"
   ],
   "outputs": [
    {
     "output_type": "display_data",
     "data": {
      "text/html": [
       "TRUE"
      ],
      "text/latex": [
       "TRUE"
      ],
      "text/markdown": [
       "TRUE"
      ],
      "text/plain": [
       "[1] TRUE"
      ]
     },
     "metadata": {}
    },
    {
     "output_type": "display_data",
     "data": {
      "text/html": [
       "<table class=\"dataframe\">\n",
       "<caption>A data.frame: 6 × 10</caption>\n",
       "<thead>\n",
       "\t<tr><th></th><th scope=col>age_range</th><th scope=col>rooms_range</th><th scope=col>income_range</th><th scope=col>scholarity</th><th scope=col>sedentary_time_range_before</th><th scope=col>co.resident_range</th><th scope=col>PA_weekly_frequency_before</th><th scope=col>PA_intensity_before</th><th scope=col>PA_duration_before</th><th scope=col>pa_number_before</th></tr>\n",
       "\t<tr><th></th><th scope=col>&lt;int&gt;</th><th scope=col>&lt;int&gt;</th><th scope=col>&lt;int&gt;</th><th scope=col>&lt;int&gt;</th><th scope=col>&lt;int&gt;</th><th scope=col>&lt;int&gt;</th><th scope=col>&lt;int&gt;</th><th scope=col>&lt;int&gt;</th><th scope=col>&lt;int&gt;</th><th scope=col>&lt;int&gt;</th></tr>\n",
       "</thead>\n",
       "<tbody>\n",
       "\t<tr><th scope=row>1</th><td>2</td><td>1</td><td>4</td><td>4</td><td>4</td><td>1</td><td>4</td><td>1</td><td>2</td><td>1</td></tr>\n",
       "\t<tr><th scope=row>2</th><td>3</td><td>3</td><td>6</td><td>4</td><td>3</td><td>2</td><td>3</td><td>2</td><td>3</td><td>4</td></tr>\n",
       "\t<tr><th scope=row>3</th><td>3</td><td>2</td><td>5</td><td>3</td><td>1</td><td>2</td><td>2</td><td>3</td><td>2</td><td>2</td></tr>\n",
       "\t<tr><th scope=row>4</th><td>3</td><td>1</td><td>3</td><td>4</td><td>2</td><td>1</td><td>4</td><td>3</td><td>3</td><td>2</td></tr>\n",
       "\t<tr><th scope=row>5</th><td>2</td><td>2</td><td>6</td><td>4</td><td>4</td><td>2</td><td>4</td><td>3</td><td>3</td><td>2</td></tr>\n",
       "\t<tr><th scope=row>6</th><td>3</td><td>2</td><td>6</td><td>6</td><td>2</td><td>2</td><td>3</td><td>2</td><td>2</td><td>3</td></tr>\n",
       "</tbody>\n",
       "</table>\n"
      ],
      "text/latex": [
       "A data.frame: 6 × 10\n",
       "\\begin{tabular}{r|llllllllll}\n",
       "  & age\\_range & rooms\\_range & income\\_range & scholarity & sedentary\\_time\\_range\\_before & co.resident\\_range & PA\\_weekly\\_frequency\\_before & PA\\_intensity\\_before & PA\\_duration\\_before & pa\\_number\\_before\\\\\n",
       "  & <int> & <int> & <int> & <int> & <int> & <int> & <int> & <int> & <int> & <int>\\\\\n",
       "\\hline\n",
       "\t1 & 2 & 1 & 4 & 4 & 4 & 1 & 4 & 1 & 2 & 1\\\\\n",
       "\t2 & 3 & 3 & 6 & 4 & 3 & 2 & 3 & 2 & 3 & 4\\\\\n",
       "\t3 & 3 & 2 & 5 & 3 & 1 & 2 & 2 & 3 & 2 & 2\\\\\n",
       "\t4 & 3 & 1 & 3 & 4 & 2 & 1 & 4 & 3 & 3 & 2\\\\\n",
       "\t5 & 2 & 2 & 6 & 4 & 4 & 2 & 4 & 3 & 3 & 2\\\\\n",
       "\t6 & 3 & 2 & 6 & 6 & 2 & 2 & 3 & 2 & 2 & 3\\\\\n",
       "\\end{tabular}\n"
      ],
      "text/markdown": [
       "\n",
       "A data.frame: 6 × 10\n",
       "\n",
       "| <!--/--> | age_range &lt;int&gt; | rooms_range &lt;int&gt; | income_range &lt;int&gt; | scholarity &lt;int&gt; | sedentary_time_range_before &lt;int&gt; | co.resident_range &lt;int&gt; | PA_weekly_frequency_before &lt;int&gt; | PA_intensity_before &lt;int&gt; | PA_duration_before &lt;int&gt; | pa_number_before &lt;int&gt; |\n",
       "|---|---|---|---|---|---|---|---|---|---|---|\n",
       "| 1 | 2 | 1 | 4 | 4 | 4 | 1 | 4 | 1 | 2 | 1 |\n",
       "| 2 | 3 | 3 | 6 | 4 | 3 | 2 | 3 | 2 | 3 | 4 |\n",
       "| 3 | 3 | 2 | 5 | 3 | 1 | 2 | 2 | 3 | 2 | 2 |\n",
       "| 4 | 3 | 1 | 3 | 4 | 2 | 1 | 4 | 3 | 3 | 2 |\n",
       "| 5 | 2 | 2 | 6 | 4 | 4 | 2 | 4 | 3 | 3 | 2 |\n",
       "| 6 | 3 | 2 | 6 | 6 | 2 | 2 | 3 | 2 | 2 | 3 |\n",
       "\n"
      ],
      "text/plain": [
       "  age_range rooms_range income_range scholarity sedentary_time_range_before\n",
       "1 2         1           4            4          4                          \n",
       "2 3         3           6            4          3                          \n",
       "3 3         2           5            3          1                          \n",
       "4 3         1           3            4          2                          \n",
       "5 2         2           6            4          4                          \n",
       "6 3         2           6            6          2                          \n",
       "  co.resident_range PA_weekly_frequency_before PA_intensity_before\n",
       "1 1                 4                          1                  \n",
       "2 2                 3                          2                  \n",
       "3 2                 2                          3                  \n",
       "4 1                 4                          3                  \n",
       "5 2                 4                          3                  \n",
       "6 2                 3                          2                  \n",
       "  PA_duration_before pa_number_before\n",
       "1 2                  1               \n",
       "2 3                  4               \n",
       "3 2                  2               \n",
       "4 3                  2               \n",
       "5 3                  2               \n",
       "6 2                  3               "
      ]
     },
     "metadata": {}
    }
   ],
   "metadata": {}
  },
  {
   "cell_type": "code",
   "execution_count": 123,
   "source": [
    "lapply(before_dataset, levels)[c(\"DA\", \"DP\")]\n",
    "before_dataset <- subset(before_dataset, select = -c(DA, DP, state, zone))"
   ],
   "outputs": [
    {
     "output_type": "display_data",
     "data": {
      "text/html": [
       "<dl>\n",
       "\t<dt>$DA</dt>\n",
       "\t\t<dd>'0'</dd>\n",
       "\t<dt>$DP</dt>\n",
       "\t\t<dd>'0'</dd>\n",
       "</dl>\n"
      ],
      "text/latex": [
       "\\begin{description}\n",
       "\\item[\\$DA] '0'\n",
       "\\item[\\$DP] '0'\n",
       "\\end{description}\n"
      ],
      "text/markdown": [
       "$DA\n",
       ":   '0'\n",
       "$DP\n",
       ":   '0'\n",
       "\n",
       "\n"
      ],
      "text/plain": [
       "$DA\n",
       "[1] \"0\"\n",
       "\n",
       "$DP\n",
       "[1] \"0\"\n"
      ]
     },
     "metadata": {}
    }
   ],
   "metadata": {}
  },
  {
   "cell_type": "markdown",
   "source": [
    "# Sanity Check\n",
    "\n",
    "### More then one column have the class \"dont_practice\", we need to check if they agree."
   ],
   "metadata": {}
  },
  {
   "cell_type": "code",
   "execution_count": 124,
   "source": [
    "table(before_dataset[, c(\"PA_practice_before\", \"PA_duration_before\")])\n",
    "table(before_dataset[, c(\"PA_practice_before\", \"PA_intensity_before\")])\n",
    "table(before_dataset[, c(\"PA_practice_before\", \"PA_weekly_frequency_before\")])\n",
    "table(before_dataset[, c(\"PA_practice_before\", \"pa_number_before\")])\n"
   ],
   "outputs": [
    {
     "output_type": "display_data",
     "data": {
      "text/plain": [
       "                  PA_duration_before\n",
       "PA_practice_before   0   1   2   3   4\n",
       "     dont_practice 131   8   4   2   0\n",
       "     practice        4  60 654 324  55"
      ]
     },
     "metadata": {}
    },
    {
     "output_type": "display_data",
     "data": {
      "text/plain": [
       "                  PA_intensity_before\n",
       "PA_practice_before   0   1   2   3\n",
       "     dont_practice 131  14   0   0\n",
       "     practice        2 148 590 357"
      ]
     },
     "metadata": {}
    },
    {
     "output_type": "display_data",
     "data": {
      "text/plain": [
       "                  PA_weekly_frequency_before\n",
       "PA_practice_before   1   2   3   4\n",
       "     dont_practice 144   0   1   0\n",
       "     practice        2 424 473 198"
      ]
     },
     "metadata": {}
    },
    {
     "output_type": "display_data",
     "data": {
      "text/plain": [
       "                  pa_number_before\n",
       "PA_practice_before   0   1   2   3   4   5   6   7   9  14\n",
       "     dont_practice 144   1   0   0   0   0   0   0   0   0\n",
       "     practice        0 388 364 217  95  22   4   5   1   1"
      ]
     },
     "metadata": {}
    }
   ],
   "metadata": {}
  },
  {
   "cell_type": "code",
   "execution_count": 125,
   "source": [
    "differ_dp <- ( before_dataset$PA_duration_before != 0 \n",
    "                | before_dataset$PA_intensity_before != 0 \n",
    "                | before_dataset$PA_weekly_frequency_before != 1 \n",
    "                | before_dataset$pa_number_before != 0\n",
    "            ) \n",
    "strange_dp <- before_dataset$PA_practice_before == \"dont_practice\" & differ_dp \n",
    "\n",
    "table(strange_dp)\n",
    "# before_dataset <- before_dataset[!strange_dp,]"
   ],
   "outputs": [
    {
     "output_type": "display_data",
     "data": {
      "text/plain": [
       "strange_dp\n",
       "FALSE  TRUE \n",
       " 1227    15 "
      ]
     },
     "metadata": {}
    }
   ],
   "metadata": {}
  },
  {
   "cell_type": "code",
   "execution_count": 65,
   "source": [
    "differ_p <- (   before_dataset$PA_duration_before == 0 \n",
    "                | before_dataset$PA_intensity_before == 0 \n",
    "                | before_dataset$PA_weekly_frequency_before == 1\n",
    "                | before_dataset$pa_number_before == 0\n",
    "            )\n",
    "strange_p <- before_dataset$PA_practice_before == \"practice\" & differ_p\n",
    "table(strange_p)\n",
    "# before_dataset <- before_dataset[!strange_p,]\n"
   ],
   "outputs": [
    {
     "output_type": "display_data",
     "data": {
      "text/plain": [
       "strange_p\n",
       "FALSE  TRUE \n",
       " 1236     6 "
      ]
     },
     "metadata": {}
    }
   ],
   "metadata": {}
  },
  {
   "cell_type": "markdown",
   "source": [
    "### We found out that some columns have bias"
   ],
   "metadata": {}
  },
  {
   "cell_type": "markdown",
   "source": [
    "# PCA"
   ],
   "metadata": {}
  },
  {
   "cell_type": "code",
   "execution_count": 128,
   "source": [
    "before_dataset_insanity <- before_dataset\n",
    "before_dataset_insanity[, \"strange_dp\"] <- strange_dp\n",
    "before_dataset_insanity[, \"strange_p\"] <- strange_p\n",
    "\n",
    "\n",
    "dummy <- dummyVars(\" ~ .\", data=before_dataset_insanity)\n",
    "encoded_dataset <- data.frame(predict(dummy, newdata = before_dataset_insanity)) \n",
    "dummy"
   ],
   "outputs": [
    {
     "output_type": "display_data",
     "data": {
      "text/plain": [
       "Dummy Variable Object\n",
       "\n",
       "Formula: ~.\n",
       "<environment: 0x000000002eac5920>\n",
       "76 variables, 64 factors\n",
       "Variables and levels will be separated by '.'\n",
       "A less than full rank encoding is used"
      ]
     },
     "metadata": {}
    }
   ],
   "metadata": {}
  },
  {
   "cell_type": "code",
   "execution_count": 129,
   "source": [
    "encoded_dataset.pca <- prcomp(encoded_dataset , center = TRUE,scale. = TRUE)\n",
    "summary(encoded_dataset.pca) "
   ],
   "outputs": [
    {
     "output_type": "display_data",
     "data": {
      "text/plain": [
       "Importance of components:\n",
       "                           PC1     PC2     PC3     PC4     PC5     PC6     PC7\n",
       "Standard deviation     2.95084 2.29104 2.28316 2.13541 1.96201 1.92146 1.89664\n",
       "Proportion of Variance 0.05883 0.03547 0.03522 0.03081 0.02601 0.02495 0.02431\n",
       "Cumulative Proportion  0.05883 0.09430 0.12952 0.16033 0.18634 0.21129 0.23559\n",
       "                           PC8     PC9    PC10    PC11    PC12    PC13    PC14\n",
       "Standard deviation     1.82214 1.79856 1.73943 1.72022 1.66928 1.65693 1.61877\n",
       "Proportion of Variance 0.02243 0.02186 0.02044 0.01999 0.01883 0.01855 0.01771\n",
       "Cumulative Proportion  0.25803 0.27988 0.30033 0.32032 0.33915 0.35770 0.37541\n",
       "                          PC15    PC16    PC17   PC18    PC19    PC20    PC21\n",
       "Standard deviation     1.58800 1.58391 1.56701 1.5578 1.54811 1.53846 1.51189\n",
       "Proportion of Variance 0.01704 0.01695 0.01659 0.0164 0.01619 0.01599 0.01544\n",
       "Cumulative Proportion  0.39244 0.40940 0.42599 0.4424 0.45858 0.47457 0.49001\n",
       "                          PC22    PC23    PC24    PC25    PC26    PC27    PC28\n",
       "Standard deviation     1.49426 1.48386 1.46967 1.45391 1.44487 1.43127 1.42047\n",
       "Proportion of Variance 0.01509 0.01488 0.01459 0.01428 0.01411 0.01384 0.01363\n",
       "Cumulative Proportion  0.50510 0.51998 0.53457 0.54885 0.56296 0.57680 0.59043\n",
       "                         PC29    PC30    PC31    PC32    PC33    PC34    PC35\n",
       "Standard deviation     1.4028 1.40082 1.38218 1.36867 1.35753 1.34855 1.33992\n",
       "Proportion of Variance 0.0133 0.01326 0.01291 0.01266 0.01245 0.01229 0.01213\n",
       "Cumulative Proportion  0.6037 0.61699 0.62990 0.64255 0.65501 0.66729 0.67943\n",
       "                          PC36    PC37    PC38    PC39    PC40    PC41    PC42\n",
       "Standard deviation     1.31821 1.31403 1.30029 1.27762 1.26361 1.25600 1.24352\n",
       "Proportion of Variance 0.01174 0.01167 0.01142 0.01103 0.01079 0.01066 0.01045\n",
       "Cumulative Proportion  0.69117 0.70283 0.71426 0.72529 0.73607 0.74673 0.75718\n",
       "                          PC43   PC44    PC45    PC46    PC47    PC48    PC49\n",
       "Standard deviation     1.23212 1.2284 1.21887 1.20373 1.18861 1.17434 1.16611\n",
       "Proportion of Variance 0.01026 0.0102 0.01004 0.00979 0.00955 0.00932 0.00919\n",
       "Cumulative Proportion  0.76744 0.7776 0.78767 0.79746 0.80701 0.81633 0.82551\n",
       "                          PC50   PC51    PC52   PC53    PC54   PC55   PC56\n",
       "Standard deviation     1.16417 1.1476 1.13834 1.1282 1.11095 1.1082 1.0881\n",
       "Proportion of Variance 0.00916 0.0089 0.00876 0.0086 0.00834 0.0083 0.0080\n",
       "Cumulative Proportion  0.83467 0.8436 0.85233 0.8609 0.86926 0.8776 0.8856\n",
       "                          PC57    PC58    PC59    PC60    PC61    PC62    PC63\n",
       "Standard deviation     1.08236 1.04964 1.04030 1.03141 0.99770 0.98281 0.97527\n",
       "Proportion of Variance 0.00792 0.00744 0.00731 0.00719 0.00673 0.00653 0.00643\n",
       "Cumulative Proportion  0.89348 0.90092 0.90823 0.91542 0.92215 0.92867 0.93510\n",
       "                          PC64    PC65    PC66    PC67    PC68    PC69    PC70\n",
       "Standard deviation     0.95467 0.94967 0.93939 0.91352 0.90071 0.87889 0.86748\n",
       "Proportion of Variance 0.00616 0.00609 0.00596 0.00564 0.00548 0.00522 0.00508\n",
       "Cumulative Proportion  0.94126 0.94735 0.95332 0.95895 0.96444 0.96966 0.97474\n",
       "                          PC71    PC72    PC73    PC74    PC75    PC76    PC77\n",
       "Standard deviation     0.81159 0.80455 0.73126 0.69348 0.59208 0.57556 0.53109\n",
       "Proportion of Variance 0.00445 0.00437 0.00361 0.00325 0.00237 0.00224 0.00191\n",
       "Cumulative Proportion  0.97919 0.98356 0.98718 0.99043 0.99280 0.99503 0.99694\n",
       "                          PC78    PC79    PC80      PC81      PC82      PC83\n",
       "Standard deviation     0.48118 0.44334 0.15787 9.581e-15 4.327e-15 3.634e-15\n",
       "Proportion of Variance 0.00156 0.00133 0.00017 0.000e+00 0.000e+00 0.000e+00\n",
       "Cumulative Proportion  0.99850 0.99983 1.00000 1.000e+00 1.000e+00 1.000e+00\n",
       "                            PC84      PC85      PC86      PC87      PC88\n",
       "Standard deviation     3.175e-15 2.561e-15 2.475e-15 2.359e-15 2.185e-15\n",
       "Proportion of Variance 0.000e+00 0.000e+00 0.000e+00 0.000e+00 0.000e+00\n",
       "Cumulative Proportion  1.000e+00 1.000e+00 1.000e+00 1.000e+00 1.000e+00\n",
       "                            PC89      PC90      PC91     PC92      PC93\n",
       "Standard deviation     2.028e-15 1.922e-15 1.847e-15 1.76e-15 1.731e-15\n",
       "Proportion of Variance 0.000e+00 0.000e+00 0.000e+00 0.00e+00 0.000e+00\n",
       "Cumulative Proportion  1.000e+00 1.000e+00 1.000e+00 1.00e+00 1.000e+00\n",
       "                            PC94      PC95      PC96      PC97      PC98\n",
       "Standard deviation     1.697e-15 1.645e-15 1.542e-15 1.462e-15 1.449e-15\n",
       "Proportion of Variance 0.000e+00 0.000e+00 0.000e+00 0.000e+00 0.000e+00\n",
       "Cumulative Proportion  1.000e+00 1.000e+00 1.000e+00 1.000e+00 1.000e+00\n",
       "                            PC99     PC100     PC101     PC102     PC103\n",
       "Standard deviation     1.415e-15 1.374e-15 1.327e-15 1.264e-15 1.225e-15\n",
       "Proportion of Variance 0.000e+00 0.000e+00 0.000e+00 0.000e+00 0.000e+00\n",
       "Cumulative Proportion  1.000e+00 1.000e+00 1.000e+00 1.000e+00 1.000e+00\n",
       "                           PC104     PC105     PC106     PC107     PC108\n",
       "Standard deviation     1.225e-15 1.213e-15 1.168e-15 1.138e-15 1.122e-15\n",
       "Proportion of Variance 0.000e+00 0.000e+00 0.000e+00 0.000e+00 0.000e+00\n",
       "Cumulative Proportion  1.000e+00 1.000e+00 1.000e+00 1.000e+00 1.000e+00\n",
       "                           PC109     PC110     PC111     PC112     PC113\n",
       "Standard deviation     1.107e-15 1.046e-15 1.029e-15 1.023e-15 1.018e-15\n",
       "Proportion of Variance 0.000e+00 0.000e+00 0.000e+00 0.000e+00 0.000e+00\n",
       "Cumulative Proportion  1.000e+00 1.000e+00 1.000e+00 1.000e+00 1.000e+00\n",
       "                           PC114     PC115    PC116     PC117     PC118\n",
       "Standard deviation     9.503e-16 9.172e-16 7.93e-16 7.732e-16 7.592e-16\n",
       "Proportion of Variance 0.000e+00 0.000e+00 0.00e+00 0.000e+00 0.000e+00\n",
       "Cumulative Proportion  1.000e+00 1.000e+00 1.00e+00 1.000e+00 1.000e+00\n",
       "                          PC119     PC120     PC121    PC122     PC123\n",
       "Standard deviation     7.34e-16 7.002e-16 6.912e-16 6.46e-16 6.127e-16\n",
       "Proportion of Variance 0.00e+00 0.000e+00 0.000e+00 0.00e+00 0.000e+00\n",
       "Cumulative Proportion  1.00e+00 1.000e+00 1.000e+00 1.00e+00 1.000e+00\n",
       "                           PC124     PC125     PC126     PC127     PC128\n",
       "Standard deviation     6.021e-16 5.856e-16 5.783e-16 5.661e-16 5.464e-16\n",
       "Proportion of Variance 0.000e+00 0.000e+00 0.000e+00 0.000e+00 0.000e+00\n",
       "Cumulative Proportion  1.000e+00 1.000e+00 1.000e+00 1.000e+00 1.000e+00\n",
       "                           PC129     PC130     PC131     PC132   PC133    PC134\n",
       "Standard deviation     5.056e-16 4.134e-16 4.089e-16 4.012e-16 3.8e-16 3.68e-16\n",
       "Proportion of Variance 0.000e+00 0.000e+00 0.000e+00 0.000e+00 0.0e+00 0.00e+00\n",
       "Cumulative Proportion  1.000e+00 1.000e+00 1.000e+00 1.000e+00 1.0e+00 1.00e+00\n",
       "                           PC135     PC136     PC137     PC138    PC139\n",
       "Standard deviation     3.549e-16 3.532e-16 3.374e-16 3.111e-16 3.01e-16\n",
       "Proportion of Variance 0.000e+00 0.000e+00 0.000e+00 0.000e+00 0.00e+00\n",
       "Cumulative Proportion  1.000e+00 1.000e+00 1.000e+00 1.000e+00 1.00e+00\n",
       "                           PC140     PC141    PC142     PC143     PC144\n",
       "Standard deviation     2.779e-16 2.648e-16 2.26e-16 2.103e-16 2.002e-16\n",
       "Proportion of Variance 0.000e+00 0.000e+00 0.00e+00 0.000e+00 0.000e+00\n",
       "Cumulative Proportion  1.000e+00 1.000e+00 1.00e+00 1.000e+00 1.000e+00\n",
       "                           PC145     PC146     PC147     PC148\n",
       "Standard deviation     1.401e-16 1.239e-16 1.052e-16 5.811e-17\n",
       "Proportion of Variance 0.000e+00 0.000e+00 0.000e+00 0.000e+00\n",
       "Cumulative Proportion  1.000e+00 1.000e+00 1.000e+00 1.000e+00"
      ]
     },
     "metadata": {}
    }
   ],
   "metadata": {}
  },
  {
   "cell_type": "code",
   "execution_count": 130,
   "source": [
    "autoplot(encoded_dataset.pca, colour=\"PA_practice_before\", data=before_dataset)"
   ],
   "outputs": [
    {
     "output_type": "display_data",
     "data": {
      "image/png": "[encoded data removed]",
      "text/plain": [
       "plot without title"
      ]
     },
     "metadata": {
      "image/png": {
       "width": 420,
       "height": 420
      }
     }
    }
   ],
   "metadata": {}
  },
  {
   "cell_type": "markdown",
   "source": [
    "# TSNE"
   ],
   "metadata": {}
  },
  {
   "cell_type": "code",
   "execution_count": 131,
   "source": [
    "tsne <- Rtsne(encoded_dataset, dims = 2, perplexity=30, check_duplicates = FALSE, verbose=TRUE)"
   ],
   "outputs": [
    {
     "output_type": "stream",
     "name": "stdout",
     "text": [
      "Performing PCA\n",
      "Read the 1242 x 50 data matrix successfully!\n",
      "OpenMP is working. 1 threads.\n",
      "Using no_dims = 2, perplexity = 30.000000, and theta = 0.500000\n",
      "Computing input similarities...\n",
      "Building tree...\n",
      "Done in 0.45 seconds (sparsity = 0.103565)!\n",
      "Learning embedding...\n",
      "Iteration 50: error is 71.394410 (50 iterations in 0.34 seconds)\n",
      "Iteration 100: error is 71.338815 (50 iterations in 0.37 seconds)\n",
      "Iteration 150: error is 70.772467 (50 iterations in 0.30 seconds)\n",
      "Iteration 200: error is 70.771767 (50 iterations in 0.22 seconds)\n",
      "Iteration 250: error is 70.771805 (50 iterations in 0.22 seconds)\n",
      "Iteration 300: error is 2.182648 (50 iterations in 0.27 seconds)\n",
      "Iteration 350: error is 1.993102 (50 iterations in 0.26 seconds)\n",
      "Iteration 400: error is 1.911183 (50 iterations in 0.28 seconds)\n",
      "Iteration 450: error is 1.871217 (50 iterations in 0.32 seconds)\n",
      "Iteration 500: error is 1.848412 (50 iterations in 0.31 seconds)\n",
      "Iteration 550: error is 1.833351 (50 iterations in 0.33 seconds)\n",
      "Iteration 600: error is 1.823855 (50 iterations in 0.35 seconds)\n",
      "Iteration 650: error is 1.817063 (50 iterations in 0.34 seconds)\n",
      "Iteration 700: error is 1.811198 (50 iterations in 0.36 seconds)\n",
      "Iteration 750: error is 1.805803 (50 iterations in 0.39 seconds)\n",
      "Iteration 800: error is 1.800468 (50 iterations in 0.36 seconds)\n",
      "Iteration 850: error is 1.795529 (50 iterations in 0.42 seconds)\n",
      "Iteration 900: error is 1.792200 (50 iterations in 0.41 seconds)\n",
      "Iteration 950: error is 1.789593 (50 iterations in 0.30 seconds)\n",
      "Iteration 1000: error is 1.787357 (50 iterations in 0.34 seconds)\n",
      "Fitting performed in 6.50 seconds.\n"
     ]
    }
   ],
   "metadata": {}
  },
  {
   "cell_type": "code",
   "execution_count": 134,
   "source": [
    "metadata <- data.frame(sample_id = rownames(before_dataset_insanity),\n",
    "                       colour = before_dataset_insanity$PA_practice_before)\n",
    "tsne_df <- data.frame(\n",
    "    x = tsne$Y[,1],\n",
    "    y = tsne$Y[,2],\n",
    "    colour = metadata$colour)\n",
    "\n",
    "ggplot(tsne_df, aes(x, y, colour = colour)) + geom_point()"
   ],
   "outputs": [
    {
     "output_type": "display_data",
     "data": {
      "image/png": "[encoded data removed]",
      "text/plain": [
       "plot without title"
      ]
     },
     "metadata": {
      "image/png": {
       "width": 420,
       "height": 420
      }
     }
    }
   ],
   "metadata": {}
  },
  {
   "cell_type": "code",
   "execution_count": 135,
   "source": [
    "metadata <- data.frame(sample_id = rownames(before_dataset_insanity),\n",
    "                       colour = before_dataset_insanity$strange_dp)\n",
    "tsne_df <- data.frame(\n",
    "    x = tsne$Y[,1],\n",
    "    y = tsne$Y[,2],\n",
    "    colour = metadata$colour)\n",
    "\n",
    "ggplot(tsne_df, aes(x, y, colour = colour)) + geom_point()"
   ],
   "outputs": [
    {
     "output_type": "display_data",
     "data": {
      "image/png": "[encoded data removed]",
      "text/plain": [
       "plot without title"
      ]
     },
     "metadata": {
      "image/png": {
       "width": 420,
       "height": 420
      }
     }
    }
   ],
   "metadata": {}
  },
  {
   "cell_type": "code",
   "execution_count": 136,
   "source": [
    "metadata <- data.frame(sample_id = rownames(before_dataset_insanity),\n",
    "                       colour = before_dataset_insanity$strange_p)\n",
    "tsne_df <- data.frame(\n",
    "    x = tsne$Y[,1],\n",
    "    y = tsne$Y[,2],\n",
    "    colour = metadata$colour)\n",
    "\n",
    "ggplot(tsne_df, aes(x, y, colour = colour)) + geom_point()"
   ],
   "outputs": [
    {
     "output_type": "display_data",
     "data": {
      "image/png": "[encoded data removed]",
      "text/plain": [
       "plot without title"
      ]
     },
     "metadata": {
      "image/png": {
       "width": 420,
       "height": 420
      }
     }
    }
   ],
   "metadata": {}
  },
  {
   "cell_type": "markdown",
   "source": [
    "# Decision Trees"
   ],
   "metadata": {}
  },
  {
   "cell_type": "markdown",
   "source": [
    "## Finding out the majority class\n"
   ],
   "metadata": {}
  },
  {
   "cell_type": "code",
   "execution_count": 137,
   "source": [
    "table(before_dataset[, \"PA_practice_during\"])"
   ],
   "outputs": [
    {
     "output_type": "display_data",
     "data": {
      "text/plain": [
       "\n",
       "dont_practice      practice \n",
       "          346           896 "
      ]
     },
     "metadata": {}
    }
   ],
   "metadata": {}
  },
  {
   "cell_type": "markdown",
   "source": [
    "## Creating the dataset partition"
   ],
   "metadata": {}
  },
  {
   "cell_type": "code",
   "execution_count": 138,
   "source": [
    "set.seed(2)\n",
    "lista_treino <- createDataPartition(before_dataset$PA_practice_during, p=0.7, list=FALSE)\n",
    "treino <- before_dataset[lista_treino,]\n",
    "teste <- before_dataset[-lista_treino,]\n",
    "\n"
   ],
   "outputs": [],
   "metadata": {}
  },
  {
   "cell_type": "markdown",
   "source": [
    "## Applying augmentation into the training set"
   ],
   "metadata": {}
  },
  {
   "cell_type": "code",
   "execution_count": 139,
   "source": [
    "treino.aug <- data_augmentation(\n",
    "    train_data=treino,\n",
    "    yname=\"PA_practice_during\",\n",
    "    maj_class = \"practice\",\n",
    "    min_classes = c(\"dont_practice\"),\n",
    "    ycol=match(\"PA_practice_during\",names(before_dataset))\n",
    ")\n",
    "\n",
    "table(treino.aug[, \"PA_practice_during\"])\n"
   ],
   "outputs": [
    {
     "output_type": "display_data",
     "data": {
      "text/plain": [
       "\n",
       "dont_practice      practice \n",
       "          627           628 "
      ]
     },
     "metadata": {}
    }
   ],
   "metadata": {}
  },
  {
   "cell_type": "markdown",
   "source": [
    "## Kappa metric without augmentation"
   ],
   "metadata": {}
  },
  {
   "cell_type": "code",
   "execution_count": 173,
   "source": [
    "model <- fit_model(\n",
    "    model_method=\"rpart\",\n",
    "    model_metric=\"Kappa\",\n",
    "    trControl_func = trainControl(method = \"cv\"),\n",
    "    train_data = treino,\n",
    "    test_data=teste,\n",
    "    yname=\"PA_practice_during\",\n",
    "    length = 3\n",
    ")\n",
    "print(model$matrix)\n",
    "# print(model$result)\n",
    "rpart.plot(model$result$finalModel)\n",
    "\n"
   ],
   "outputs": [
    {
     "output_type": "stream",
     "name": "stdout",
     "text": [
      "Confusion Matrix and Statistics\n",
      "\n",
      "               Reference\n",
      "Prediction      dont_practice practice\n",
      "  dont_practice            50       43\n",
      "  practice                 53      225\n",
      "                                          \n",
      "               Accuracy : 0.7412          \n",
      "                 95% CI : (0.6935, 0.7851)\n",
      "    No Information Rate : 0.7224          \n",
      "    P-Value [Acc > NIR] : 0.2267          \n",
      "                                          \n",
      "                  Kappa : 0.335           \n",
      "                                          \n",
      " Mcnemar's Test P-Value : 0.3583          \n",
      "                                          \n",
      "            Sensitivity : 0.4854          \n",
      "            Specificity : 0.8396          \n",
      "         Pos Pred Value : 0.5376          \n",
      "         Neg Pred Value : 0.8094          \n",
      "             Prevalence : 0.2776          \n",
      "         Detection Rate : 0.1348          \n",
      "   Detection Prevalence : 0.2507          \n",
      "      Balanced Accuracy : 0.6625          \n",
      "                                          \n",
      "       'Positive' Class : dont_practice   \n",
      "                                          \n"
     ]
    },
    {
     "output_type": "display_data",
     "data": {
      "image/png": "[encoded data removed]",
      "text/plain": [
       "plot without title"
      ]
     },
     "metadata": {
      "image/png": {
       "width": 420,
       "height": 420
      }
     }
    }
   ],
   "metadata": {}
  },
  {
   "cell_type": "markdown",
   "source": [
    "## Kappa metric with augmentation"
   ],
   "metadata": {}
  },
  {
   "cell_type": "code",
   "execution_count": 180,
   "source": [
    "model <- fit_model(\n",
    "    model_method=\"rpart\",\n",
    "    model_metric=\"Kappa\",\n",
    "    trControl_func = trainControl(method = \"boot\"),\n",
    "    train_data = treino.aug,\n",
    "    test_data=teste,\n",
    "    yname=\"PA_practice_during\",\n",
    "    length=3\n",
    ")\n",
    "print(model$matrix)\n",
    "rpart.plot(model$result$finalModel)"
   ],
   "outputs": [
    {
     "output_type": "stream",
     "name": "stdout",
     "text": [
      "Confusion Matrix and Statistics\n",
      "\n",
      "               Reference\n",
      "Prediction      dont_practice practice\n",
      "  dont_practice            76      117\n",
      "  practice                 27      151\n",
      "                                          \n",
      "               Accuracy : 0.6119          \n",
      "                 95% CI : (0.5602, 0.6617)\n",
      "    No Information Rate : 0.7224          \n",
      "    P-Value [Acc > NIR] : 1               \n",
      "                                          \n",
      "                  Kappa : 0.2374          \n",
      "                                          \n",
      " Mcnemar's Test P-Value : 1.201e-13       \n",
      "                                          \n",
      "            Sensitivity : 0.7379          \n",
      "            Specificity : 0.5634          \n",
      "         Pos Pred Value : 0.3938          \n",
      "         Neg Pred Value : 0.8483          \n",
      "             Prevalence : 0.2776          \n",
      "         Detection Rate : 0.2049          \n",
      "   Detection Prevalence : 0.5202          \n",
      "      Balanced Accuracy : 0.6506          \n",
      "                                          \n",
      "       'Positive' Class : dont_practice   \n",
      "                                          \n"
     ]
    },
    {
     "output_type": "display_data",
     "data": {
      "image/png": "[encoded data removed]",
      "text/plain": [
       "plot without title"
      ]
     },
     "metadata": {
      "image/png": {
       "width": 420,
       "height": 420
      }
     }
    }
   ],
   "metadata": {}
  },
  {
   "cell_type": "code",
   "execution_count": 178,
   "source": [
    "print(model$result)"
   ],
   "outputs": [
    {
     "output_type": "stream",
     "name": "stdout",
     "text": [
      "CART \n",
      "\n",
      "1255 samples\n",
      "  73 predictor\n",
      "   2 classes: 'dont_practice', 'practice' \n",
      "\n",
      "No pre-processing\n",
      "Resampling: Bootstrapped (25 reps) \n",
      "Summary of sample sizes: 1255, 1255, 1255, 1255, 1255, 1255, ... \n",
      "Resampling results across tuning parameters:\n",
      "\n",
      "  cp          Accuracy   Kappa    \n",
      "  0.04625199  0.7157290  0.4338954\n",
      "  0.05263158  0.7025752  0.4071955\n",
      "  0.37799043  0.5456202  0.1098930\n",
      "\n",
      "Kappa was used to select the optimal model using the largest value.\n",
      "The final value used for the model was cp = 0.04625199.\n"
     ]
    }
   ],
   "metadata": {}
  },
  {
   "cell_type": "markdown",
   "source": [
    "## F-beta score without augmentation"
   ],
   "metadata": {}
  },
  {
   "cell_type": "code",
   "execution_count": 142,
   "source": [
    "fbeta <- function (data, lev=NULL, model = NULL){\n",
    "    fb_val <- FBeta_Score(data$obs, data$pred, positive=\"practice\", beta = 0.1)\n",
    "    c(FB = fb_val)\n",
    "}"
   ],
   "outputs": [],
   "metadata": {}
  },
  {
   "cell_type": "code",
   "execution_count": 143,
   "source": [
    "model <- fit_model(\n",
    "    model_method=\"rpart\",\n",
    "    model_metric=\"FB\",\n",
    "    trControl_func = trainControl(method = \"boot\", summaryFunction=fbeta, classProbs = TRUE),\n",
    "    train_data = treino,\n",
    "    test_data=teste,\n",
    "    yname=\"PA_practice_during\"\n",
    ")\n",
    "print(model$matrix)\n",
    "rpart.plot(model$result$finalModel)"
   ],
   "outputs": [
    {
     "output_type": "stream",
     "name": "stdout",
     "text": [
      "Confusion Matrix and Statistics\n",
      "\n",
      "               Reference\n",
      "Prediction      dont_practice practice\n",
      "  dont_practice            35       23\n",
      "  practice                 68      245\n",
      "                                          \n",
      "               Accuracy : 0.7547          \n",
      "                 95% CI : (0.7077, 0.7977)\n",
      "    No Information Rate : 0.7224          \n",
      "    P-Value [Acc > NIR] : 0.09004         \n",
      "                                          \n",
      "                  Kappa : 0.2935          \n",
      "                                          \n",
      " Mcnemar's Test P-Value : 3.979e-06       \n",
      "                                          \n",
      "            Sensitivity : 0.33981         \n",
      "            Specificity : 0.91418         \n",
      "         Pos Pred Value : 0.60345         \n",
      "         Neg Pred Value : 0.78275         \n",
      "             Prevalence : 0.27763         \n",
      "         Detection Rate : 0.09434         \n",
      "   Detection Prevalence : 0.15633         \n",
      "      Balanced Accuracy : 0.62699         \n",
      "                                          \n",
      "       'Positive' Class : dont_practice   \n",
      "                                          \n"
     ]
    },
    {
     "output_type": "display_data",
     "data": {
      "image/png": "[encoded data removed]",
      "text/plain": [
       "plot without title"
      ]
     },
     "metadata": {
      "image/png": {
       "width": 420,
       "height": 420
      }
     }
    }
   ],
   "metadata": {}
  },
  {
   "cell_type": "code",
   "execution_count": 144,
   "source": [
    "gini = varImp(model$result$finalModel)\n",
    "#gini[order(gini)]\n",
    "head(gini, 20)\n",
    "# plot(varImp(model$result$finalModel), main=\"Variables Importance - Decision Tree\") "
   ],
   "outputs": [
    {
     "output_type": "display_data",
     "data": {
      "text/html": [
       "<table class=\"dataframe\">\n",
       "<caption>A data.frame: 20 × 1</caption>\n",
       "<thead>\n",
       "\t<tr><th></th><th scope=col>Overall</th></tr>\n",
       "\t<tr><th></th><th scope=col>&lt;dbl&gt;</th></tr>\n",
       "</thead>\n",
       "<tbody>\n",
       "\t<tr><th scope=row>anxious_before1</th><td> 2.111111</td></tr>\n",
       "\t<tr><th scope=row>co.resident_range</th><td> 1.707012</td></tr>\n",
       "\t<tr><th scope=row>confused_before1</th><td> 4.338105</td></tr>\n",
       "\t<tr><th scope=row>hypertension1</th><td> 4.942340</td></tr>\n",
       "\t<tr><th scope=row>optimistic_before1</th><td> 1.502500</td></tr>\n",
       "\t<tr><th scope=row>other_sports_before1</th><td> 4.627577</td></tr>\n",
       "\t<tr><th scope=row>PA_barriers_before_time_convenience1</th><td> 1.065756</td></tr>\n",
       "\t<tr><th scope=row>PA_barriers_before_tiredness1</th><td> 1.058610</td></tr>\n",
       "\t<tr><th scope=row>PA_duration_before</th><td>19.932053</td></tr>\n",
       "\t<tr><th scope=row>PA_easiness_family_before1</th><td> 4.696998</td></tr>\n",
       "\t<tr><th scope=row>PA_easiness_home_activity_before1</th><td> 2.090139</td></tr>\n",
       "\t<tr><th scope=row>PA_easiness_home_equipament_before1</th><td> 1.127085</td></tr>\n",
       "\t<tr><th scope=row>PA_easiness_home_space_before1</th><td> 2.350002</td></tr>\n",
       "\t<tr><th scope=row>PA_easiness_unguided_before1</th><td> 3.189200</td></tr>\n",
       "\t<tr><th scope=row>PA_intensity_before</th><td>31.769159</td></tr>\n",
       "\t<tr><th scope=row>pa_number_before</th><td>21.367552</td></tr>\n",
       "\t<tr><th scope=row>PA_practice_beforepractice</th><td>12.871697</td></tr>\n",
       "\t<tr><th scope=row>PA_weekly_frequency_before</th><td>35.395360</td></tr>\n",
       "\t<tr><th scope=row>scholarity</th><td> 1.386930</td></tr>\n",
       "\t<tr><th scope=row>sedentary_time_range_before</th><td> 4.501546</td></tr>\n",
       "</tbody>\n",
       "</table>\n"
      ],
      "text/latex": [
       "A data.frame: 20 × 1\n",
       "\\begin{tabular}{r|l}\n",
       "  & Overall\\\\\n",
       "  & <dbl>\\\\\n",
       "\\hline\n",
       "\tanxious\\_before1 &  2.111111\\\\\n",
       "\tco.resident\\_range &  1.707012\\\\\n",
       "\tconfused\\_before1 &  4.338105\\\\\n",
       "\thypertension1 &  4.942340\\\\\n",
       "\toptimistic\\_before1 &  1.502500\\\\\n",
       "\tother\\_sports\\_before1 &  4.627577\\\\\n",
       "\tPA\\_barriers\\_before\\_time\\_convenience1 &  1.065756\\\\\n",
       "\tPA\\_barriers\\_before\\_tiredness1 &  1.058610\\\\\n",
       "\tPA\\_duration\\_before & 19.932053\\\\\n",
       "\tPA\\_easiness\\_family\\_before1 &  4.696998\\\\\n",
       "\tPA\\_easiness\\_home\\_activity\\_before1 &  2.090139\\\\\n",
       "\tPA\\_easiness\\_home\\_equipament\\_before1 &  1.127085\\\\\n",
       "\tPA\\_easiness\\_home\\_space\\_before1 &  2.350002\\\\\n",
       "\tPA\\_easiness\\_unguided\\_before1 &  3.189200\\\\\n",
       "\tPA\\_intensity\\_before & 31.769159\\\\\n",
       "\tpa\\_number\\_before & 21.367552\\\\\n",
       "\tPA\\_practice\\_beforepractice & 12.871697\\\\\n",
       "\tPA\\_weekly\\_frequency\\_before & 35.395360\\\\\n",
       "\tscholarity &  1.386930\\\\\n",
       "\tsedentary\\_time\\_range\\_before &  4.501546\\\\\n",
       "\\end{tabular}\n"
      ],
      "text/markdown": [
       "\n",
       "A data.frame: 20 × 1\n",
       "\n",
       "| <!--/--> | Overall &lt;dbl&gt; |\n",
       "|---|---|\n",
       "| anxious_before1 |  2.111111 |\n",
       "| co.resident_range |  1.707012 |\n",
       "| confused_before1 |  4.338105 |\n",
       "| hypertension1 |  4.942340 |\n",
       "| optimistic_before1 |  1.502500 |\n",
       "| other_sports_before1 |  4.627577 |\n",
       "| PA_barriers_before_time_convenience1 |  1.065756 |\n",
       "| PA_barriers_before_tiredness1 |  1.058610 |\n",
       "| PA_duration_before | 19.932053 |\n",
       "| PA_easiness_family_before1 |  4.696998 |\n",
       "| PA_easiness_home_activity_before1 |  2.090139 |\n",
       "| PA_easiness_home_equipament_before1 |  1.127085 |\n",
       "| PA_easiness_home_space_before1 |  2.350002 |\n",
       "| PA_easiness_unguided_before1 |  3.189200 |\n",
       "| PA_intensity_before | 31.769159 |\n",
       "| pa_number_before | 21.367552 |\n",
       "| PA_practice_beforepractice | 12.871697 |\n",
       "| PA_weekly_frequency_before | 35.395360 |\n",
       "| scholarity |  1.386930 |\n",
       "| sedentary_time_range_before |  4.501546 |\n",
       "\n"
      ],
      "text/plain": [
       "                                     Overall  \n",
       "anxious_before1                       2.111111\n",
       "co.resident_range                     1.707012\n",
       "confused_before1                      4.338105\n",
       "hypertension1                         4.942340\n",
       "optimistic_before1                    1.502500\n",
       "other_sports_before1                  4.627577\n",
       "PA_barriers_before_time_convenience1  1.065756\n",
       "PA_barriers_before_tiredness1         1.058610\n",
       "PA_duration_before                   19.932053\n",
       "PA_easiness_family_before1            4.696998\n",
       "PA_easiness_home_activity_before1     2.090139\n",
       "PA_easiness_home_equipament_before1   1.127085\n",
       "PA_easiness_home_space_before1        2.350002\n",
       "PA_easiness_unguided_before1          3.189200\n",
       "PA_intensity_before                  31.769159\n",
       "pa_number_before                     21.367552\n",
       "PA_practice_beforepractice           12.871697\n",
       "PA_weekly_frequency_before           35.395360\n",
       "scholarity                            1.386930\n",
       "sedentary_time_range_before           4.501546"
      ]
     },
     "metadata": {}
    }
   ],
   "metadata": {}
  },
  {
   "cell_type": "markdown",
   "source": [
    "## F-beta score with augmentation"
   ],
   "metadata": {}
  },
  {
   "cell_type": "code",
   "execution_count": 116,
   "source": [
    "model <- fit_model(\n",
    "    model_method=\"rpart\",\n",
    "    model_metric=\"FB\",\n",
    "    trControl_func = trainControl(method = \"boot\", summaryFunction=fbeta, classProbs = TRUE),\n",
    "    train_data = treino.aug,\n",
    "    test_data=teste,\n",
    "    yname=\"PA_practice_during\"\n",
    ")\n",
    "print(model$matrix)\n",
    "rpart.plot(model$result$finalModel)"
   ],
   "outputs": [
    {
     "output_type": "stream",
     "name": "stderr",
     "text": [
      "Warning message in nominalTrainWorkflow(x = x, y = y, wts = weights, info = trainInfo, :\n",
      "\"There were missing values in resampled performance measures.\"\n"
     ]
    },
    {
     "output_type": "stream",
     "name": "stdout",
     "text": [
      "Confusion Matrix and Statistics\n",
      "\n",
      "               Reference\n",
      "Prediction      dont_practice practice\n",
      "  dont_practice            50       48\n",
      "  practice                 53      220\n",
      "                                          \n",
      "               Accuracy : 0.7278          \n",
      "                 95% CI : (0.6794, 0.7724)\n",
      "    No Information Rate : 0.7224          \n",
      "    P-Value [Acc > NIR] : 0.4343          \n",
      "                                          \n",
      "                  Kappa : 0.311           \n",
      "                                          \n",
      " Mcnemar's Test P-Value : 0.6906          \n",
      "                                          \n",
      "            Sensitivity : 0.4854          \n",
      "            Specificity : 0.8209          \n",
      "         Pos Pred Value : 0.5102          \n",
      "         Neg Pred Value : 0.8059          \n",
      "             Prevalence : 0.2776          \n",
      "         Detection Rate : 0.1348          \n",
      "   Detection Prevalence : 0.2642          \n",
      "      Balanced Accuracy : 0.6532          \n",
      "                                          \n",
      "       'Positive' Class : dont_practice   \n",
      "                                          \n"
     ]
    },
    {
     "output_type": "display_data",
     "data": {
      "image/png": "[encoded data removed]",
      "text/plain": [
       "plot without title"
      ]
     },
     "metadata": {
      "image/png": {
       "width": 420,
       "height": 420
      }
     }
    }
   ],
   "metadata": {}
  }
 ],
 "metadata": {
  "orig_nbformat": 4,
  "language_info": {
   "name": "R",
   "codemirror_mode": "r",
   "pygments_lexer": "r",
   "mimetype": "text/x-r-source",
   "file_extension": ".r",
   "version": "4.1.0"
  },
  "kernelspec": {
   "name": "ir",
   "display_name": "R",
   "language": "R"
  }
 },
 "nbformat": 4,
 "nbformat_minor": 2
}