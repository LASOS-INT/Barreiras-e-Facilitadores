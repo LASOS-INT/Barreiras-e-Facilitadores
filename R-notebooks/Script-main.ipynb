{
 "cells": [
  {
   "cell_type": "markdown",
   "source": [
    "# Importing and Loading packages\n",
    "\n",
    "### First, we need to install the package \"here\" so that we can call all mudules without thinking about path. \n",
    "\n",
    "### Then, we can load and install the rest of the packages from the file module.R \n"
   ],
   "metadata": {}
  },
  {
   "cell_type": "code",
   "execution_count": null,
   "source": [
    "# install.packages(\"here\")\n",
    "library(here, help, pos = 2, lib.loc = NULL)\n",
    "source(here('Modules','modules.R'))\n",
    "#install_all_packages()\n",
    "load_library_packages()"
   ],
   "outputs": [],
   "metadata": {}
  },
  {
   "cell_type": "markdown",
   "source": [
    "# Importing and Exploring the Dataset"
   ],
   "metadata": {}
  },
  {
   "cell_type": "code",
   "execution_count": 135,
   "source": [
    "before_dataset <- read_excel(path = here('Data','before_pa.xlsx'))\n",
    "before_dataset <- data.frame(before_dataset)\n",
    "dim(before_dataset)\n",
    "head(before_dataset)\n"
   ],
   "outputs": [
    {
     "output_type": "display_data",
     "data": {
      "text/html": [
       "<style>\n",
       ".list-inline {list-style: none; margin:0; padding: 0}\n",
       ".list-inline>li {display: inline-block}\n",
       ".list-inline>li:not(:last-child)::after {content: \"\\00b7\"; padding: 0 .5ex}\n",
       "</style>\n",
       "<ol class=list-inline><li>1255</li><li>77</li></ol>\n"
      ],
      "text/latex": [
       "\\begin{enumerate*}\n",
       "\\item 1255\n",
       "\\item 77\n",
       "\\end{enumerate*}\n"
      ],
      "text/markdown": [
       "1. 1255\n",
       "2. 77\n",
       "\n",
       "\n"
      ],
      "text/plain": [
       "[1] 1255   77"
      ]
     },
     "metadata": {}
    },
    {
     "output_type": "display_data",
     "data": {
      "text/html": [
       "<table class=\"dataframe\">\n",
       "<caption>A data.frame: 6 × 77</caption>\n",
       "<thead>\n",
       "\t<tr><th></th><th scope=col>sex</th><th scope=col>age_range</th><th scope=col>martialStatus</th><th scope=col>state</th><th scope=col>zone</th><th scope=col>co.resident_range</th><th scope=col>rooms_range</th><th scope=col>income_range</th><th scope=col>scholarity</th><th scope=col>diabetes</th><th scope=col>...</th><th scope=col>PA_easiness_others_before</th><th scope=col>PA_barriers_before_time_family_responsabilities</th><th scope=col>PA_barriers_before_tiredness</th><th scope=col>PA_barriers_before_location_distance</th><th scope=col>PA_barriers_before_money</th><th scope=col>PA_barriers_before_time_convenience</th><th scope=col>PA_barriers_before_hard_task</th><th scope=col>PA_barriers_before_interest</th><th scope=col>PA_barriers_before_none</th><th scope=col>PA_practice_during</th></tr>\n",
       "\t<tr><th></th><th scope=col>&lt;dbl&gt;</th><th scope=col>&lt;dbl&gt;</th><th scope=col>&lt;dbl&gt;</th><th scope=col>&lt;dbl&gt;</th><th scope=col>&lt;dbl&gt;</th><th scope=col>&lt;dbl&gt;</th><th scope=col>&lt;dbl&gt;</th><th scope=col>&lt;dbl&gt;</th><th scope=col>&lt;dbl&gt;</th><th scope=col>&lt;dbl&gt;</th><th scope=col>...</th><th scope=col>&lt;dbl&gt;</th><th scope=col>&lt;dbl&gt;</th><th scope=col>&lt;dbl&gt;</th><th scope=col>&lt;dbl&gt;</th><th scope=col>&lt;dbl&gt;</th><th scope=col>&lt;dbl&gt;</th><th scope=col>&lt;dbl&gt;</th><th scope=col>&lt;dbl&gt;</th><th scope=col>&lt;dbl&gt;</th><th scope=col>&lt;dbl&gt;</th></tr>\n",
       "</thead>\n",
       "<tbody>\n",
       "\t<tr><th scope=row>1</th><td>1</td><td>2</td><td>1</td><td>25</td><td>2</td><td>1</td><td>1</td><td>4</td><td>4</td><td>0</td><td>...</td><td>0</td><td>0</td><td>0</td><td>0</td><td>0</td><td>1</td><td>0</td><td>0</td><td>0</td><td>1</td></tr>\n",
       "\t<tr><th scope=row>2</th><td>2</td><td>3</td><td>1</td><td>21</td><td>1</td><td>2</td><td>3</td><td>6</td><td>4</td><td>0</td><td>...</td><td>0</td><td>0</td><td>1</td><td>0</td><td>0</td><td>0</td><td>0</td><td>0</td><td>0</td><td>0</td></tr>\n",
       "\t<tr><th scope=row>3</th><td>1</td><td>3</td><td>1</td><td>21</td><td>1</td><td>2</td><td>2</td><td>5</td><td>3</td><td>0</td><td>...</td><td>0</td><td>0</td><td>0</td><td>0</td><td>1</td><td>0</td><td>0</td><td>0</td><td>0</td><td>0</td></tr>\n",
       "\t<tr><th scope=row>4</th><td>1</td><td>3</td><td>1</td><td>21</td><td>1</td><td>1</td><td>1</td><td>3</td><td>4</td><td>0</td><td>...</td><td>0</td><td>0</td><td>0</td><td>0</td><td>0</td><td>1</td><td>0</td><td>0</td><td>0</td><td>0</td></tr>\n",
       "\t<tr><th scope=row>5</th><td>1</td><td>2</td><td>2</td><td>25</td><td>2</td><td>2</td><td>2</td><td>6</td><td>4</td><td>0</td><td>...</td><td>0</td><td>1</td><td>0</td><td>0</td><td>0</td><td>0</td><td>0</td><td>0</td><td>0</td><td>0</td></tr>\n",
       "\t<tr><th scope=row>6</th><td>2</td><td>3</td><td>2</td><td>21</td><td>1</td><td>2</td><td>2</td><td>6</td><td>6</td><td>0</td><td>...</td><td>0</td><td>1</td><td>0</td><td>0</td><td>0</td><td>0</td><td>0</td><td>0</td><td>0</td><td>0</td></tr>\n",
       "</tbody>\n",
       "</table>\n"
      ],
      "text/latex": [
       "A data.frame: 6 × 77\n",
       "\\begin{tabular}{r|lllllllllllllllllllll}\n",
       "  & sex & age\\_range & martialStatus & state & zone & co.resident\\_range & rooms\\_range & income\\_range & scholarity & diabetes & ... & PA\\_easiness\\_others\\_before & PA\\_barriers\\_before\\_time\\_family\\_responsabilities & PA\\_barriers\\_before\\_tiredness & PA\\_barriers\\_before\\_location\\_distance & PA\\_barriers\\_before\\_money & PA\\_barriers\\_before\\_time\\_convenience & PA\\_barriers\\_before\\_hard\\_task & PA\\_barriers\\_before\\_interest & PA\\_barriers\\_before\\_none & PA\\_practice\\_during\\\\\n",
       "  & <dbl> & <dbl> & <dbl> & <dbl> & <dbl> & <dbl> & <dbl> & <dbl> & <dbl> & <dbl> & ... & <dbl> & <dbl> & <dbl> & <dbl> & <dbl> & <dbl> & <dbl> & <dbl> & <dbl> & <dbl>\\\\\n",
       "\\hline\n",
       "\t1 & 1 & 2 & 1 & 25 & 2 & 1 & 1 & 4 & 4 & 0 & ... & 0 & 0 & 0 & 0 & 0 & 1 & 0 & 0 & 0 & 1\\\\\n",
       "\t2 & 2 & 3 & 1 & 21 & 1 & 2 & 3 & 6 & 4 & 0 & ... & 0 & 0 & 1 & 0 & 0 & 0 & 0 & 0 & 0 & 0\\\\\n",
       "\t3 & 1 & 3 & 1 & 21 & 1 & 2 & 2 & 5 & 3 & 0 & ... & 0 & 0 & 0 & 0 & 1 & 0 & 0 & 0 & 0 & 0\\\\\n",
       "\t4 & 1 & 3 & 1 & 21 & 1 & 1 & 1 & 3 & 4 & 0 & ... & 0 & 0 & 0 & 0 & 0 & 1 & 0 & 0 & 0 & 0\\\\\n",
       "\t5 & 1 & 2 & 2 & 25 & 2 & 2 & 2 & 6 & 4 & 0 & ... & 0 & 1 & 0 & 0 & 0 & 0 & 0 & 0 & 0 & 0\\\\\n",
       "\t6 & 2 & 3 & 2 & 21 & 1 & 2 & 2 & 6 & 6 & 0 & ... & 0 & 1 & 0 & 0 & 0 & 0 & 0 & 0 & 0 & 0\\\\\n",
       "\\end{tabular}\n"
      ],
      "text/markdown": [
       "\n",
       "A data.frame: 6 × 77\n",
       "\n",
       "| <!--/--> | sex &lt;dbl&gt; | age_range &lt;dbl&gt; | martialStatus &lt;dbl&gt; | state &lt;dbl&gt; | zone &lt;dbl&gt; | co.resident_range &lt;dbl&gt; | rooms_range &lt;dbl&gt; | income_range &lt;dbl&gt; | scholarity &lt;dbl&gt; | diabetes &lt;dbl&gt; | ... ... | PA_easiness_others_before &lt;dbl&gt; | PA_barriers_before_time_family_responsabilities &lt;dbl&gt; | PA_barriers_before_tiredness &lt;dbl&gt; | PA_barriers_before_location_distance &lt;dbl&gt; | PA_barriers_before_money &lt;dbl&gt; | PA_barriers_before_time_convenience &lt;dbl&gt; | PA_barriers_before_hard_task &lt;dbl&gt; | PA_barriers_before_interest &lt;dbl&gt; | PA_barriers_before_none &lt;dbl&gt; | PA_practice_during &lt;dbl&gt; |\n",
       "|---|---|---|---|---|---|---|---|---|---|---|---|---|---|---|---|---|---|---|---|---|---|\n",
       "| 1 | 1 | 2 | 1 | 25 | 2 | 1 | 1 | 4 | 4 | 0 | ... | 0 | 0 | 0 | 0 | 0 | 1 | 0 | 0 | 0 | 1 |\n",
       "| 2 | 2 | 3 | 1 | 21 | 1 | 2 | 3 | 6 | 4 | 0 | ... | 0 | 0 | 1 | 0 | 0 | 0 | 0 | 0 | 0 | 0 |\n",
       "| 3 | 1 | 3 | 1 | 21 | 1 | 2 | 2 | 5 | 3 | 0 | ... | 0 | 0 | 0 | 0 | 1 | 0 | 0 | 0 | 0 | 0 |\n",
       "| 4 | 1 | 3 | 1 | 21 | 1 | 1 | 1 | 3 | 4 | 0 | ... | 0 | 0 | 0 | 0 | 0 | 1 | 0 | 0 | 0 | 0 |\n",
       "| 5 | 1 | 2 | 2 | 25 | 2 | 2 | 2 | 6 | 4 | 0 | ... | 0 | 1 | 0 | 0 | 0 | 0 | 0 | 0 | 0 | 0 |\n",
       "| 6 | 2 | 3 | 2 | 21 | 1 | 2 | 2 | 6 | 6 | 0 | ... | 0 | 1 | 0 | 0 | 0 | 0 | 0 | 0 | 0 | 0 |\n",
       "\n"
      ],
      "text/plain": [
       "  sex age_range martialStatus state zone co.resident_range rooms_range\n",
       "1 1   2         1             25    2    1                 1          \n",
       "2 2   3         1             21    1    2                 3          \n",
       "3 1   3         1             21    1    2                 2          \n",
       "4 1   3         1             21    1    1                 1          \n",
       "5 1   2         2             25    2    2                 2          \n",
       "6 2   3         2             21    1    2                 2          \n",
       "  income_range scholarity diabetes ... PA_easiness_others_before\n",
       "1 4            4          0        ... 0                        \n",
       "2 6            4          0        ... 0                        \n",
       "3 5            3          0        ... 0                        \n",
       "4 3            4          0        ... 0                        \n",
       "5 6            4          0        ... 0                        \n",
       "6 6            6          0        ... 0                        \n",
       "  PA_barriers_before_time_family_responsabilities PA_barriers_before_tiredness\n",
       "1 0                                               0                           \n",
       "2 0                                               1                           \n",
       "3 0                                               0                           \n",
       "4 0                                               0                           \n",
       "5 1                                               0                           \n",
       "6 1                                               0                           \n",
       "  PA_barriers_before_location_distance PA_barriers_before_money\n",
       "1 0                                    0                       \n",
       "2 0                                    0                       \n",
       "3 0                                    1                       \n",
       "4 0                                    0                       \n",
       "5 0                                    0                       \n",
       "6 0                                    0                       \n",
       "  PA_barriers_before_time_convenience PA_barriers_before_hard_task\n",
       "1 1                                   0                           \n",
       "2 0                                   0                           \n",
       "3 0                                   0                           \n",
       "4 1                                   0                           \n",
       "5 0                                   0                           \n",
       "6 0                                   0                           \n",
       "  PA_barriers_before_interest PA_barriers_before_none PA_practice_during\n",
       "1 0                           0                       1                 \n",
       "2 0                           0                       0                 \n",
       "3 0                           0                       0                 \n",
       "4 0                           0                       0                 \n",
       "5 0                           0                       0                 \n",
       "6 0                           0                       0                 "
      ]
     },
     "metadata": {}
    }
   ],
   "metadata": {}
  },
  {
   "cell_type": "markdown",
   "source": [
    "### As we expected, R is interpreting almost all variables as numerical data"
   ],
   "metadata": {}
  },
  {
   "cell_type": "code",
   "execution_count": 136,
   "source": [
    "unique(sapply(before_dataset, class))"
   ],
   "outputs": [
    {
     "output_type": "display_data",
     "data": {
      "text/html": [
       "'numeric'"
      ],
      "text/latex": [
       "'numeric'"
      ],
      "text/markdown": [
       "'numeric'"
      ],
      "text/plain": [
       "[1] \"numeric\""
      ]
     },
     "metadata": {}
    }
   ],
   "metadata": {}
  },
  {
   "cell_type": "markdown",
   "source": [
    "# Treating missing data\n",
    "\n",
    "### As the dataset had little missing data, we chose to omit them"
   ],
   "metadata": {}
  },
  {
   "cell_type": "code",
   "execution_count": 137,
   "source": [
    "before_dataset <- before_dataset[complete.cases(before_dataset),]\n",
    "dim(before_dataset)\n"
   ],
   "outputs": [
    {
     "output_type": "display_data",
     "data": {
      "text/html": [
       "<style>\n",
       ".list-inline {list-style: none; margin:0; padding: 0}\n",
       ".list-inline>li {display: inline-block}\n",
       ".list-inline>li:not(:last-child)::after {content: \"\\00b7\"; padding: 0 .5ex}\n",
       "</style>\n",
       "<ol class=list-inline><li>1242</li><li>77</li></ol>\n"
      ],
      "text/latex": [
       "\\begin{enumerate*}\n",
       "\\item 1242\n",
       "\\item 77\n",
       "\\end{enumerate*}\n"
      ],
      "text/markdown": [
       "1. 1242\n",
       "2. 77\n",
       "\n",
       "\n"
      ],
      "text/plain": [
       "[1] 1242   77"
      ]
     },
     "metadata": {}
    }
   ],
   "metadata": {}
  },
  {
   "cell_type": "markdown",
   "source": [
    "# Treating variables type\n",
    "\n",
    "### First we should interpret all variables as factors, then we can apply a different logic for the ordinal ones "
   ],
   "metadata": {}
  },
  {
   "cell_type": "code",
   "execution_count": 138,
   "source": [
    "before_dataset$PA_practice_before[before_dataset$PA_practice_before == 0] <- \"practice\"\n",
    "before_dataset$PA_practice_before[before_dataset$PA_practice_before == 1] <- \"dont_practice\"\n",
    "before_dataset$PA_practice_during[before_dataset$PA_practice_during == 0] <- \"practice\"\n",
    "before_dataset$PA_practice_during[before_dataset$PA_practice_during == 1] <- \"dont_practice\"\n",
    "\n",
    "\n",
    "before_dataset$PA_intensity_before[before_dataset$PA_intensity_before == 4] <- \"0\"\n",
    "\n",
    "before_dataset$PA_duration_before[before_dataset$PA_duration_before == 5] <- \"0\"\n",
    "\n",
    "\n",
    "\n",
    "before_dataset[] <- lapply(before_dataset, as.factor)\n",
    "\n",
    "before_dataset[1190:1200, c(\"PA_duration_before\", \"PA_intensity_before\")]"
   ],
   "outputs": [
    {
     "output_type": "display_data",
     "data": {
      "text/html": [
       "<table class=\"dataframe\">\n",
       "<caption>A data.frame: 11 × 2</caption>\n",
       "<thead>\n",
       "\t<tr><th></th><th scope=col>PA_duration_before</th><th scope=col>PA_intensity_before</th></tr>\n",
       "\t<tr><th></th><th scope=col>&lt;fct&gt;</th><th scope=col>&lt;fct&gt;</th></tr>\n",
       "</thead>\n",
       "<tbody>\n",
       "\t<tr><th scope=row>1203</th><td>2</td><td>2</td></tr>\n",
       "\t<tr><th scope=row>1204</th><td>1</td><td>2</td></tr>\n",
       "\t<tr><th scope=row>1205</th><td>0</td><td>0</td></tr>\n",
       "\t<tr><th scope=row>1206</th><td>3</td><td>3</td></tr>\n",
       "\t<tr><th scope=row>1207</th><td>3</td><td>2</td></tr>\n",
       "\t<tr><th scope=row>1208</th><td>3</td><td>2</td></tr>\n",
       "\t<tr><th scope=row>1209</th><td>2</td><td>2</td></tr>\n",
       "\t<tr><th scope=row>1210</th><td>2</td><td>2</td></tr>\n",
       "\t<tr><th scope=row>1211</th><td>1</td><td>3</td></tr>\n",
       "\t<tr><th scope=row>1212</th><td>2</td><td>2</td></tr>\n",
       "\t<tr><th scope=row>1213</th><td>0</td><td>0</td></tr>\n",
       "</tbody>\n",
       "</table>\n"
      ],
      "text/latex": [
       "A data.frame: 11 × 2\n",
       "\\begin{tabular}{r|ll}\n",
       "  & PA\\_duration\\_before & PA\\_intensity\\_before\\\\\n",
       "  & <fct> & <fct>\\\\\n",
       "\\hline\n",
       "\t1203 & 2 & 2\\\\\n",
       "\t1204 & 1 & 2\\\\\n",
       "\t1205 & 0 & 0\\\\\n",
       "\t1206 & 3 & 3\\\\\n",
       "\t1207 & 3 & 2\\\\\n",
       "\t1208 & 3 & 2\\\\\n",
       "\t1209 & 2 & 2\\\\\n",
       "\t1210 & 2 & 2\\\\\n",
       "\t1211 & 1 & 3\\\\\n",
       "\t1212 & 2 & 2\\\\\n",
       "\t1213 & 0 & 0\\\\\n",
       "\\end{tabular}\n"
      ],
      "text/markdown": [
       "\n",
       "A data.frame: 11 × 2\n",
       "\n",
       "| <!--/--> | PA_duration_before &lt;fct&gt; | PA_intensity_before &lt;fct&gt; |\n",
       "|---|---|---|\n",
       "| 1203 | 2 | 2 |\n",
       "| 1204 | 1 | 2 |\n",
       "| 1205 | 0 | 0 |\n",
       "| 1206 | 3 | 3 |\n",
       "| 1207 | 3 | 2 |\n",
       "| 1208 | 3 | 2 |\n",
       "| 1209 | 2 | 2 |\n",
       "| 1210 | 2 | 2 |\n",
       "| 1211 | 1 | 3 |\n",
       "| 1212 | 2 | 2 |\n",
       "| 1213 | 0 | 0 |\n",
       "\n"
      ],
      "text/plain": [
       "     PA_duration_before PA_intensity_before\n",
       "1203 2                  2                  \n",
       "1204 1                  2                  \n",
       "1205 0                  0                  \n",
       "1206 3                  3                  \n",
       "1207 3                  2                  \n",
       "1208 3                  2                  \n",
       "1209 2                  2                  \n",
       "1210 2                  2                  \n",
       "1211 1                  3                  \n",
       "1212 2                  2                  \n",
       "1213 0                  0                  "
      ]
     },
     "metadata": {}
    }
   ],
   "metadata": {}
  },
  {
   "cell_type": "code",
   "execution_count": 139,
   "source": [
    "ordinal_columns = c(\n",
    "    'age_range',\n",
    "    'rooms_range',\n",
    "    'income_range',\n",
    "    'scholarity',\n",
    "    'sedentary_time_range_before',\n",
    "    'co.resident_range',\n",
    "    \"PA_weekly_frequency_before\",\n",
    "    'PA_intensity_before',\n",
    "    'PA_duration_before'\n",
    "    \n",
    ")\n",
    "before_dataset[, ordinal_columns] <- lapply(before_dataset[, ordinal_columns], as.integer)\n",
    "\n",
    "\n",
    "\n",
    "before_dataset[1, 2] < before_dataset[2, 2] \n",
    "head(before_dataset[, ordinal_columns])"
   ],
   "outputs": [
    {
     "output_type": "display_data",
     "data": {
      "text/html": [
       "TRUE"
      ],
      "text/latex": [
       "TRUE"
      ],
      "text/markdown": [
       "TRUE"
      ],
      "text/plain": [
       "[1] TRUE"
      ]
     },
     "metadata": {}
    },
    {
     "output_type": "display_data",
     "data": {
      "text/html": [
       "<table class=\"dataframe\">\n",
       "<caption>A data.frame: 6 × 9</caption>\n",
       "<thead>\n",
       "\t<tr><th></th><th scope=col>age_range</th><th scope=col>rooms_range</th><th scope=col>income_range</th><th scope=col>scholarity</th><th scope=col>sedentary_time_range_before</th><th scope=col>co.resident_range</th><th scope=col>PA_weekly_frequency_before</th><th scope=col>PA_intensity_before</th><th scope=col>PA_duration_before</th></tr>\n",
       "\t<tr><th></th><th scope=col>&lt;int&gt;</th><th scope=col>&lt;int&gt;</th><th scope=col>&lt;int&gt;</th><th scope=col>&lt;int&gt;</th><th scope=col>&lt;int&gt;</th><th scope=col>&lt;int&gt;</th><th scope=col>&lt;int&gt;</th><th scope=col>&lt;int&gt;</th><th scope=col>&lt;int&gt;</th></tr>\n",
       "</thead>\n",
       "<tbody>\n",
       "\t<tr><th scope=row>1</th><td>2</td><td>1</td><td>4</td><td>3</td><td>4</td><td>1</td><td>4</td><td>2</td><td>3</td></tr>\n",
       "\t<tr><th scope=row>2</th><td>3</td><td>3</td><td>6</td><td>3</td><td>3</td><td>2</td><td>3</td><td>3</td><td>4</td></tr>\n",
       "\t<tr><th scope=row>3</th><td>3</td><td>2</td><td>5</td><td>2</td><td>1</td><td>2</td><td>2</td><td>4</td><td>3</td></tr>\n",
       "\t<tr><th scope=row>4</th><td>3</td><td>1</td><td>3</td><td>3</td><td>2</td><td>1</td><td>4</td><td>4</td><td>4</td></tr>\n",
       "\t<tr><th scope=row>5</th><td>2</td><td>2</td><td>6</td><td>3</td><td>4</td><td>2</td><td>4</td><td>4</td><td>4</td></tr>\n",
       "\t<tr><th scope=row>6</th><td>3</td><td>2</td><td>6</td><td>5</td><td>2</td><td>2</td><td>3</td><td>3</td><td>3</td></tr>\n",
       "</tbody>\n",
       "</table>\n"
      ],
      "text/latex": [
       "A data.frame: 6 × 9\n",
       "\\begin{tabular}{r|lllllllll}\n",
       "  & age\\_range & rooms\\_range & income\\_range & scholarity & sedentary\\_time\\_range\\_before & co.resident\\_range & PA\\_weekly\\_frequency\\_before & PA\\_intensity\\_before & PA\\_duration\\_before\\\\\n",
       "  & <int> & <int> & <int> & <int> & <int> & <int> & <int> & <int> & <int>\\\\\n",
       "\\hline\n",
       "\t1 & 2 & 1 & 4 & 3 & 4 & 1 & 4 & 2 & 3\\\\\n",
       "\t2 & 3 & 3 & 6 & 3 & 3 & 2 & 3 & 3 & 4\\\\\n",
       "\t3 & 3 & 2 & 5 & 2 & 1 & 2 & 2 & 4 & 3\\\\\n",
       "\t4 & 3 & 1 & 3 & 3 & 2 & 1 & 4 & 4 & 4\\\\\n",
       "\t5 & 2 & 2 & 6 & 3 & 4 & 2 & 4 & 4 & 4\\\\\n",
       "\t6 & 3 & 2 & 6 & 5 & 2 & 2 & 3 & 3 & 3\\\\\n",
       "\\end{tabular}\n"
      ],
      "text/markdown": [
       "\n",
       "A data.frame: 6 × 9\n",
       "\n",
       "| <!--/--> | age_range &lt;int&gt; | rooms_range &lt;int&gt; | income_range &lt;int&gt; | scholarity &lt;int&gt; | sedentary_time_range_before &lt;int&gt; | co.resident_range &lt;int&gt; | PA_weekly_frequency_before &lt;int&gt; | PA_intensity_before &lt;int&gt; | PA_duration_before &lt;int&gt; |\n",
       "|---|---|---|---|---|---|---|---|---|---|\n",
       "| 1 | 2 | 1 | 4 | 3 | 4 | 1 | 4 | 2 | 3 |\n",
       "| 2 | 3 | 3 | 6 | 3 | 3 | 2 | 3 | 3 | 4 |\n",
       "| 3 | 3 | 2 | 5 | 2 | 1 | 2 | 2 | 4 | 3 |\n",
       "| 4 | 3 | 1 | 3 | 3 | 2 | 1 | 4 | 4 | 4 |\n",
       "| 5 | 2 | 2 | 6 | 3 | 4 | 2 | 4 | 4 | 4 |\n",
       "| 6 | 3 | 2 | 6 | 5 | 2 | 2 | 3 | 3 | 3 |\n",
       "\n"
      ],
      "text/plain": [
       "  age_range rooms_range income_range scholarity sedentary_time_range_before\n",
       "1 2         1           4            3          4                          \n",
       "2 3         3           6            3          3                          \n",
       "3 3         2           5            2          1                          \n",
       "4 3         1           3            3          2                          \n",
       "5 2         2           6            3          4                          \n",
       "6 3         2           6            5          2                          \n",
       "  co.resident_range PA_weekly_frequency_before PA_intensity_before\n",
       "1 1                 4                          2                  \n",
       "2 2                 3                          3                  \n",
       "3 2                 2                          4                  \n",
       "4 1                 4                          4                  \n",
       "5 2                 4                          4                  \n",
       "6 2                 3                          3                  \n",
       "  PA_duration_before\n",
       "1 3                 \n",
       "2 4                 \n",
       "3 3                 \n",
       "4 4                 \n",
       "5 4                 \n",
       "6 3                 "
      ]
     },
     "metadata": {}
    }
   ],
   "metadata": {}
  },
  {
   "cell_type": "markdown",
   "source": [
    "# Sanity Check\n",
    "\n",
    "### More then one column have the class \"dont_practice\", we need to check if they agree"
   ],
   "metadata": {}
  },
  {
   "cell_type": "code",
   "execution_count": 140,
   "source": [
    "table(before_dataset[, c(\"PA_practice_before\", \"PA_duration_before\")])\n",
    "table(before_dataset[, c(\"PA_practice_before\", \"PA_intensity_before\")])\n",
    "table(before_dataset[, c(\"PA_practice_before\", \"PA_weekly_frequency_before\")])\n"
   ],
   "outputs": [
    {
     "output_type": "display_data",
     "data": {
      "text/plain": [
       "                  PA_duration_before\n",
       "PA_practice_before   1   2   3   4   5\n",
       "     dont_practice 131   8   4   2   0\n",
       "     practice        4  60 654 324  55"
      ]
     },
     "metadata": {}
    },
    {
     "output_type": "display_data",
     "data": {
      "text/plain": [
       "                  PA_intensity_before\n",
       "PA_practice_before   1   2   3   4\n",
       "     dont_practice 131  14   0   0\n",
       "     practice        2 148 590 357"
      ]
     },
     "metadata": {}
    },
    {
     "output_type": "display_data",
     "data": {
      "text/plain": [
       "                  PA_weekly_frequency_before\n",
       "PA_practice_before   1   2   3   4\n",
       "     dont_practice 144   0   1   0\n",
       "     practice        2 424 473 198"
      ]
     },
     "metadata": {}
    }
   ],
   "metadata": {}
  },
  {
   "cell_type": "code",
   "execution_count": 141,
   "source": [
    "differ_dp <- ( before_dataset$PA_duration_before != 1 | before_dataset$PA_intensity_before != 1 | before_dataset$PA_weekly_frequency_before != 1 ) \n",
    "strange_dp <- before_dataset$PA_practice_before == \"dont_practice\" & differ_dp \n",
    "dim(before_dataset[strange_dp, ])\n",
    "before_dataset <- before_dataset[!strange_dp,]"
   ],
   "outputs": [
    {
     "output_type": "display_data",
     "data": {
      "text/html": [
       "<style>\n",
       ".list-inline {list-style: none; margin:0; padding: 0}\n",
       ".list-inline>li {display: inline-block}\n",
       ".list-inline>li:not(:last-child)::after {content: \"\\00b7\"; padding: 0 .5ex}\n",
       "</style>\n",
       "<ol class=list-inline><li>15</li><li>77</li></ol>\n"
      ],
      "text/latex": [
       "\\begin{enumerate*}\n",
       "\\item 15\n",
       "\\item 77\n",
       "\\end{enumerate*}\n"
      ],
      "text/markdown": [
       "1. 15\n",
       "2. 77\n",
       "\n",
       "\n"
      ],
      "text/plain": [
       "[1] 15 77"
      ]
     },
     "metadata": {}
    }
   ],
   "metadata": {}
  },
  {
   "cell_type": "code",
   "execution_count": 142,
   "source": [
    "differ_p <- before_dataset$PA_duration_before == 1 | before_dataset$PA_intensity_before == 1 | before_dataset$PA_weekly_frequency_before == 1\n",
    "strange_p <- before_dataset$PA_practice_before == \"practice\" & differ_p\n",
    "dim(before_dataset[strange_p, ])\n",
    "before_dataset <- before_dataset[!strange_p,]\n"
   ],
   "outputs": [
    {
     "output_type": "display_data",
     "data": {
      "text/html": [
       "<style>\n",
       ".list-inline {list-style: none; margin:0; padding: 0}\n",
       ".list-inline>li {display: inline-block}\n",
       ".list-inline>li:not(:last-child)::after {content: \"\\00b7\"; padding: 0 .5ex}\n",
       "</style>\n",
       "<ol class=list-inline><li>6</li><li>77</li></ol>\n"
      ],
      "text/latex": [
       "\\begin{enumerate*}\n",
       "\\item 6\n",
       "\\item 77\n",
       "\\end{enumerate*}\n"
      ],
      "text/markdown": [
       "1. 6\n",
       "2. 77\n",
       "\n",
       "\n"
      ],
      "text/plain": [
       "[1]  6 77"
      ]
     },
     "metadata": {}
    }
   ],
   "metadata": {}
  },
  {
   "cell_type": "markdown",
   "source": [
    "### We found out that some columns have bias"
   ],
   "metadata": {}
  },
  {
   "cell_type": "code",
   "execution_count": 144,
   "source": [
    "lapply(before_dataset, levels)[c(\"DA\", \"DP\", \"state\", \"zone\")]\n",
    "\n",
    "before_dataset <- subset(before_dataset, select = -c(DA, DP, state, zone))"
   ],
   "outputs": [
    {
     "output_type": "display_data",
     "data": {
      "text/html": [
       "<dl>\n",
       "\t<dt>$DA</dt>\n",
       "\t\t<dd>'0'</dd>\n",
       "\t<dt>$DP</dt>\n",
       "\t\t<dd>'0'</dd>\n",
       "\t<dt>$state</dt>\n",
       "\t\t<dd><style>\n",
       ".list-inline {list-style: none; margin:0; padding: 0}\n",
       ".list-inline>li {display: inline-block}\n",
       ".list-inline>li:not(:last-child)::after {content: \"\\00b7\"; padding: 0 .5ex}\n",
       "</style>\n",
       "<ol class=list-inline><li>'1'</li><li>'2'</li><li>'3'</li><li>'5'</li><li>'6'</li><li>'7'</li><li>'8'</li><li>'9'</li><li>'10'</li><li>'13'</li><li>'14'</li><li>'15'</li><li>'16'</li><li>'17'</li><li>'19'</li><li>'20'</li><li>'21'</li><li>'22'</li><li>'23'</li><li>'24'</li><li>'25'</li><li>'26'</li></ol>\n",
       "</dd>\n",
       "\t<dt>$zone</dt>\n",
       "\t\t<dd><style>\n",
       ".list-inline {list-style: none; margin:0; padding: 0}\n",
       ".list-inline>li {display: inline-block}\n",
       ".list-inline>li:not(:last-child)::after {content: \"\\00b7\"; padding: 0 .5ex}\n",
       "</style>\n",
       "<ol class=list-inline><li>'1'</li><li>'2'</li><li>'3'</li><li>'4'</li><li>'5'</li></ol>\n",
       "</dd>\n",
       "</dl>\n"
      ],
      "text/latex": [
       "\\begin{description}\n",
       "\\item[\\$DA] '0'\n",
       "\\item[\\$DP] '0'\n",
       "\\item[\\$state] \\begin{enumerate*}\n",
       "\\item '1'\n",
       "\\item '2'\n",
       "\\item '3'\n",
       "\\item '5'\n",
       "\\item '6'\n",
       "\\item '7'\n",
       "\\item '8'\n",
       "\\item '9'\n",
       "\\item '10'\n",
       "\\item '13'\n",
       "\\item '14'\n",
       "\\item '15'\n",
       "\\item '16'\n",
       "\\item '17'\n",
       "\\item '19'\n",
       "\\item '20'\n",
       "\\item '21'\n",
       "\\item '22'\n",
       "\\item '23'\n",
       "\\item '24'\n",
       "\\item '25'\n",
       "\\item '26'\n",
       "\\end{enumerate*}\n",
       "\n",
       "\\item[\\$zone] \\begin{enumerate*}\n",
       "\\item '1'\n",
       "\\item '2'\n",
       "\\item '3'\n",
       "\\item '4'\n",
       "\\item '5'\n",
       "\\end{enumerate*}\n",
       "\n",
       "\\end{description}\n"
      ],
      "text/markdown": [
       "$DA\n",
       ":   '0'\n",
       "$DP\n",
       ":   '0'\n",
       "$state\n",
       ":   1. '1'\n",
       "2. '2'\n",
       "3. '3'\n",
       "4. '5'\n",
       "5. '6'\n",
       "6. '7'\n",
       "7. '8'\n",
       "8. '9'\n",
       "9. '10'\n",
       "10. '13'\n",
       "11. '14'\n",
       "12. '15'\n",
       "13. '16'\n",
       "14. '17'\n",
       "15. '19'\n",
       "16. '20'\n",
       "17. '21'\n",
       "18. '22'\n",
       "19. '23'\n",
       "20. '24'\n",
       "21. '25'\n",
       "22. '26'\n",
       "\n",
       "\n",
       "\n",
       "$zone\n",
       ":   1. '1'\n",
       "2. '2'\n",
       "3. '3'\n",
       "4. '4'\n",
       "5. '5'\n",
       "\n",
       "\n",
       "\n",
       "\n",
       "\n"
      ],
      "text/plain": [
       "$DA\n",
       "[1] \"0\"\n",
       "\n",
       "$DP\n",
       "[1] \"0\"\n",
       "\n",
       "$state\n",
       " [1] \"1\"  \"2\"  \"3\"  \"5\"  \"6\"  \"7\"  \"8\"  \"9\"  \"10\" \"13\" \"14\" \"15\" \"16\" \"17\" \"19\"\n",
       "[16] \"20\" \"21\" \"22\" \"23\" \"24\" \"25\" \"26\"\n",
       "\n",
       "$zone\n",
       "[1] \"1\" \"2\" \"3\" \"4\" \"5\"\n"
      ]
     },
     "metadata": {}
    }
   ],
   "metadata": {}
  },
  {
   "cell_type": "markdown",
   "source": [
    "# Finnaly apply the model\n"
   ],
   "metadata": {}
  },
  {
   "cell_type": "code",
   "execution_count": 145,
   "source": [
    "summary(before_dataset[, ncol(before_dataset)])"
   ],
   "outputs": [
    {
     "output_type": "display_data",
     "data": {
      "text/html": [
       "<style>\n",
       ".dl-inline {width: auto; margin:0; padding: 0}\n",
       ".dl-inline>dt, .dl-inline>dd {float: none; width: auto; display: inline-block}\n",
       ".dl-inline>dt::after {content: \":\\0020\"; padding-right: .5ex}\n",
       ".dl-inline>dt:not(:first-of-type) {padding-left: .5ex}\n",
       "</style><dl class=dl-inline><dt>dont_practice</dt><dd>337</dd><dt>practice</dt><dd>884</dd></dl>\n"
      ],
      "text/latex": [
       "\\begin{description*}\n",
       "\\item[dont\\textbackslash{}\\_practice] 337\n",
       "\\item[practice] 884\n",
       "\\end{description*}\n"
      ],
      "text/markdown": [
       "dont_practice\n",
       ":   337practice\n",
       ":   884\n",
       "\n"
      ],
      "text/plain": [
       "dont_practice      practice \n",
       "          337           884 "
      ]
     },
     "metadata": {}
    }
   ],
   "metadata": {}
  },
  {
   "cell_type": "code",
   "execution_count": 146,
   "source": [
    "set.seed(2)\n",
    "lista_treino <- createDataPartition(before_dataset$PA_practice_during, p=0.7, list=FALSE)\n",
    "treino <- before_dataset[lista_treino,]\n",
    "teste <- before_dataset[-lista_treino,]"
   ],
   "outputs": [],
   "metadata": {}
  },
  {
   "cell_type": "code",
   "execution_count": 147,
   "source": [
    "form = as.formula(paste(\"PA_practice_during\",'~.'))\n",
    "modelo <<- train(form , data=treino, method=\"rpart\", metric=\"Kappa\", trControl = trainControl(method = \"boot\"), tuneLength = 5)\n",
    "print(modelo)\n",
    "pred <<- predict(modelo, teste)\n",
    "confM <<- confusionMatrix(pred, teste[,ncol(before_dataset)])\n",
    "rpart.plot(modelo$finalModel)"
   ],
   "outputs": [
    {
     "output_type": "stream",
     "name": "stdout",
     "text": [
      "CART \n",
      "\n",
      "855 samples\n",
      " 72 predictor\n",
      "  2 classes: 'dont_practice', 'practice' \n",
      "\n",
      "No pre-processing\n",
      "Resampling: Bootstrapped (25 reps) \n",
      "Summary of sample sizes: 855, 855, 855, 855, 855, 855, ... \n",
      "Resampling results across tuning parameters:\n",
      "\n",
      "  cp          Accuracy   Kappa    \n",
      "  0.01271186  0.7271390  0.2131784\n",
      "  0.01694915  0.7315722  0.2124227\n",
      "  0.02966102  0.7333800  0.1754339\n",
      "  0.03813559  0.7292694  0.1697857\n",
      "  0.04661017  0.7255472  0.1329453\n",
      "\n",
      "Kappa was used to select the optimal model using the largest value.\n",
      "The final value used for the model was cp = 0.01271186.\n"
     ]
    },
    {
     "output_type": "display_data",
     "data": {
      "image/png": "[encoded data removed]",
      "text/plain": [
       "plot without title"
      ]
     },
     "metadata": {
      "image/png": {
       "width": 420,
       "height": 420
      }
     }
    }
   ],
   "metadata": {}
  },
  {
   "cell_type": "code",
   "execution_count": 148,
   "source": [
    "print(confM)"
   ],
   "outputs": [
    {
     "output_type": "stream",
     "name": "stdout",
     "text": [
      "Confusion Matrix and Statistics\n",
      "\n",
      "               Reference\n",
      "Prediction      dont_practice practice\n",
      "  dont_practice            32       23\n",
      "  practice                 69      242\n",
      "                                          \n",
      "               Accuracy : 0.7486          \n",
      "                 95% CI : (0.7009, 0.7923)\n",
      "    No Information Rate : 0.724           \n",
      "    P-Value [Acc > NIR] : 0.1601          \n",
      "                                          \n",
      "                  Kappa : 0.2678          \n",
      "                                          \n",
      " Mcnemar's Test P-Value : 2.711e-06       \n",
      "                                          \n",
      "            Sensitivity : 0.31683         \n",
      "            Specificity : 0.91321         \n",
      "         Pos Pred Value : 0.58182         \n",
      "         Neg Pred Value : 0.77814         \n",
      "             Prevalence : 0.27596         \n",
      "         Detection Rate : 0.08743         \n",
      "   Detection Prevalence : 0.15027         \n",
      "      Balanced Accuracy : 0.61502         \n",
      "                                          \n",
      "       'Positive' Class : dont_practice   \n",
      "                                          \n"
     ]
    }
   ],
   "metadata": {}
  },
  {
   "cell_type": "code",
   "execution_count": 149,
   "source": [
    "treino.aug <<- treino\n",
    "\n",
    "n = nrow(treino[treino[\"PA_practice_during\"]==\"practice\",]) - nrow(treino[treino[\"PA_practice_during\"]==\"dont_practice\",])\n",
    "print(n)\n",
    "j=1\n",
    "while(j<n){\n",
    "  cand = GenerateMultipleCandidates(data=treino, Class=\"dont_practice\", col=ncol(before_dataset), Prob=0.9, amount=1)\n",
    "  if(!anyNA(cand)){\n",
    "    treino.aug <<- rbind(treino.aug, cand)\n",
    "    j=j+1\n",
    "  }\n",
    "}\n"
   ],
   "outputs": [
    {
     "output_type": "stream",
     "name": "stdout",
     "text": [
      "[1] 383\n"
     ]
    }
   ],
   "metadata": {}
  },
  {
   "cell_type": "code",
   "execution_count": 150,
   "source": [
    "summary(treino.aug[, \"PA_practice_during\"]) "
   ],
   "outputs": [
    {
     "output_type": "display_data",
     "data": {
      "text/html": [
       "<style>\n",
       ".dl-inline {width: auto; margin:0; padding: 0}\n",
       ".dl-inline>dt, .dl-inline>dd {float: none; width: auto; display: inline-block}\n",
       ".dl-inline>dt::after {content: \":\\0020\"; padding-right: .5ex}\n",
       ".dl-inline>dt:not(:first-of-type) {padding-left: .5ex}\n",
       "</style><dl class=dl-inline><dt>dont_practice</dt><dd>618</dd><dt>practice</dt><dd>619</dd></dl>\n"
      ],
      "text/latex": [
       "\\begin{description*}\n",
       "\\item[dont\\textbackslash{}\\_practice] 618\n",
       "\\item[practice] 619\n",
       "\\end{description*}\n"
      ],
      "text/markdown": [
       "dont_practice\n",
       ":   618practice\n",
       ":   619\n",
       "\n"
      ],
      "text/plain": [
       "dont_practice      practice \n",
       "          618           619 "
      ]
     },
     "metadata": {}
    }
   ],
   "metadata": {}
  },
  {
   "cell_type": "code",
   "execution_count": 151,
   "source": [
    "form = as.formula(paste(\"PA_practice_during\",'~.'))\n",
    "modelo.aug <<- train(form , data=treino.aug, method=\"rpart\", metric=\"Kappa\", trControl = trainControl(method = \"boot\"), tuneLength = 5)\n",
    "print(modelo.aug)\n",
    "pred.aug <<- predict(modelo.aug, teste)\n",
    "confM.aug <<- confusionMatrix(pred.aug, teste[,ncol(before_dataset)])\n",
    "\n",
    "\n",
    "rpart.plot(modelo.aug$finalModel)"
   ],
   "outputs": [
    {
     "output_type": "stream",
     "name": "stdout",
     "text": [
      "CART \n",
      "\n",
      "1237 samples\n",
      "  72 predictor\n",
      "   2 classes: 'dont_practice', 'practice' \n",
      "\n",
      "No pre-processing\n",
      "Resampling: Bootstrapped (25 reps) \n",
      "Summary of sample sizes: 1237, 1237, 1237, 1237, 1237, 1237, ... \n",
      "Resampling results across tuning parameters:\n",
      "\n",
      "  cp           Accuracy   Kappa    \n",
      "  0.009708738  0.7807347  0.5608914\n",
      "  0.045307443  0.7100287  0.4202063\n",
      "  0.066343042  0.6855978  0.3701115\n",
      "  0.171521036  0.6424964  0.2837597\n",
      "  0.281553398  0.5933965  0.1966888\n",
      "\n",
      "Kappa was used to select the optimal model using the largest value.\n",
      "The final value used for the model was cp = 0.009708738.\n"
     ]
    },
    {
     "output_type": "display_data",
     "data": {
      "image/png": "[encoded data removed]",
      "text/plain": [
       "plot without title"
      ]
     },
     "metadata": {
      "image/png": {
       "width": 420,
       "height": 420
      }
     }
    }
   ],
   "metadata": {}
  },
  {
   "cell_type": "code",
   "execution_count": 152,
   "source": [
    "print(confM.aug)"
   ],
   "outputs": [
    {
     "output_type": "stream",
     "name": "stdout",
     "text": [
      "Confusion Matrix and Statistics\n",
      "\n",
      "               Reference\n",
      "Prediction      dont_practice practice\n",
      "  dont_practice            46       40\n",
      "  practice                 55      225\n",
      "                                          \n",
      "               Accuracy : 0.7404          \n",
      "                 95% CI : (0.6923, 0.7846)\n",
      "    No Information Rate : 0.724           \n",
      "    P-Value [Acc > NIR] : 0.2618          \n",
      "                                          \n",
      "                  Kappa : 0.3192          \n",
      "                                          \n",
      " Mcnemar's Test P-Value : 0.1509          \n",
      "                                          \n",
      "            Sensitivity : 0.4554          \n",
      "            Specificity : 0.8491          \n",
      "         Pos Pred Value : 0.5349          \n",
      "         Neg Pred Value : 0.8036          \n",
      "             Prevalence : 0.2760          \n",
      "         Detection Rate : 0.1257          \n",
      "   Detection Prevalence : 0.2350          \n",
      "      Balanced Accuracy : 0.6523          \n",
      "                                          \n",
      "       'Positive' Class : dont_practice   \n",
      "                                          \n"
     ]
    }
   ],
   "metadata": {}
  }
 ],
 "metadata": {
  "orig_nbformat": 4,
  "language_info": {
   "name": "R",
   "codemirror_mode": "r",
   "pygments_lexer": "r",
   "mimetype": "text/x-r-source",
   "file_extension": ".r",
   "version": "4.1.0"
  },
  "kernelspec": {
   "name": "ir",
   "display_name": "R",
   "language": "R"
  }
 },
 "nbformat": 4,
 "nbformat_minor": 2
}