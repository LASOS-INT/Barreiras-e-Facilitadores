{
 "cells": [
  {
   "cell_type": "markdown",
   "metadata": {},
   "source": [
    "# Importing and Loading packages\n",
    "\n",
    "### First, we need to install the package \"here\" so that we can call all mudules without thinking about path. \n",
    "\n",
    "### Then, we can load and install the rest of the packages from the file module.R \n"
   ]
  },
  {
   "cell_type": "code",
   "execution_count": 45,
   "metadata": {},
   "outputs": [
    {
     "data": {
      "text/html": [
       "<ol>\n",
       "\t<li>TRUE</li>\n",
       "\t<li>TRUE</li>\n",
       "\t<li>TRUE</li>\n",
       "\t<li>TRUE</li>\n",
       "\t<li>TRUE</li>\n",
       "\t<li>TRUE</li>\n",
       "\t<li>TRUE</li>\n",
       "\t<li>TRUE</li>\n",
       "\t<li>TRUE</li>\n",
       "\t<li>TRUE</li>\n",
       "\t<li>TRUE</li>\n",
       "\t<li>TRUE</li>\n",
       "\t<li>TRUE</li>\n",
       "\t<li>TRUE</li>\n",
       "\t<li>TRUE</li>\n",
       "\t<li>TRUE</li>\n",
       "\t<li>TRUE</li>\n",
       "\t<li>TRUE</li>\n",
       "\t<li>TRUE</li>\n",
       "\t<li>TRUE</li>\n",
       "\t<li>TRUE</li>\n",
       "\t<li>TRUE</li>\n",
       "\t<li>TRUE</li>\n",
       "\t<li>TRUE</li>\n",
       "\t<li>TRUE</li>\n",
       "\t<li>TRUE</li>\n",
       "\t<li>TRUE</li>\n",
       "\t<li>TRUE</li>\n",
       "</ol>\n"
      ],
      "text/latex": [
       "\\begin{enumerate}\n",
       "\\item TRUE\n",
       "\\item TRUE\n",
       "\\item TRUE\n",
       "\\item TRUE\n",
       "\\item TRUE\n",
       "\\item TRUE\n",
       "\\item TRUE\n",
       "\\item TRUE\n",
       "\\item TRUE\n",
       "\\item TRUE\n",
       "\\item TRUE\n",
       "\\item TRUE\n",
       "\\item TRUE\n",
       "\\item TRUE\n",
       "\\item TRUE\n",
       "\\item TRUE\n",
       "\\item TRUE\n",
       "\\item TRUE\n",
       "\\item TRUE\n",
       "\\item TRUE\n",
       "\\item TRUE\n",
       "\\item TRUE\n",
       "\\item TRUE\n",
       "\\item TRUE\n",
       "\\item TRUE\n",
       "\\item TRUE\n",
       "\\item TRUE\n",
       "\\item TRUE\n",
       "\\end{enumerate}\n"
      ],
      "text/markdown": [
       "1. TRUE\n",
       "2. TRUE\n",
       "3. TRUE\n",
       "4. TRUE\n",
       "5. TRUE\n",
       "6. TRUE\n",
       "7. TRUE\n",
       "8. TRUE\n",
       "9. TRUE\n",
       "10. TRUE\n",
       "11. TRUE\n",
       "12. TRUE\n",
       "13. TRUE\n",
       "14. TRUE\n",
       "15. TRUE\n",
       "16. TRUE\n",
       "17. TRUE\n",
       "18. TRUE\n",
       "19. TRUE\n",
       "20. TRUE\n",
       "21. TRUE\n",
       "22. TRUE\n",
       "23. TRUE\n",
       "24. TRUE\n",
       "25. TRUE\n",
       "26. TRUE\n",
       "27. TRUE\n",
       "28. TRUE\n",
       "\n",
       "\n"
      ],
      "text/plain": [
       "[[1]]\n",
       "[1] TRUE\n",
       "\n",
       "[[2]]\n",
       "[1] TRUE\n",
       "\n",
       "[[3]]\n",
       "[1] TRUE\n",
       "\n",
       "[[4]]\n",
       "[1] TRUE\n",
       "\n",
       "[[5]]\n",
       "[1] TRUE\n",
       "\n",
       "[[6]]\n",
       "[1] TRUE\n",
       "\n",
       "[[7]]\n",
       "[1] TRUE\n",
       "\n",
       "[[8]]\n",
       "[1] TRUE\n",
       "\n",
       "[[9]]\n",
       "[1] TRUE\n",
       "\n",
       "[[10]]\n",
       "[1] TRUE\n",
       "\n",
       "[[11]]\n",
       "[1] TRUE\n",
       "\n",
       "[[12]]\n",
       "[1] TRUE\n",
       "\n",
       "[[13]]\n",
       "[1] TRUE\n",
       "\n",
       "[[14]]\n",
       "[1] TRUE\n",
       "\n",
       "[[15]]\n",
       "[1] TRUE\n",
       "\n",
       "[[16]]\n",
       "[1] TRUE\n",
       "\n",
       "[[17]]\n",
       "[1] TRUE\n",
       "\n",
       "[[18]]\n",
       "[1] TRUE\n",
       "\n",
       "[[19]]\n",
       "[1] TRUE\n",
       "\n",
       "[[20]]\n",
       "[1] TRUE\n",
       "\n",
       "[[21]]\n",
       "[1] TRUE\n",
       "\n",
       "[[22]]\n",
       "[1] TRUE\n",
       "\n",
       "[[23]]\n",
       "[1] TRUE\n",
       "\n",
       "[[24]]\n",
       "[1] TRUE\n",
       "\n",
       "[[25]]\n",
       "[1] TRUE\n",
       "\n",
       "[[26]]\n",
       "[1] TRUE\n",
       "\n",
       "[[27]]\n",
       "[1] TRUE\n",
       "\n",
       "[[28]]\n",
       "[1] TRUE\n"
      ]
     },
     "metadata": {},
     "output_type": "display_data"
    }
   ],
   "source": [
    "#install.packages(\"here\")\n",
    "library(here, help, pos = 2, lib.loc = NULL)\n",
    "source(here('Modules','modules.R'))\n",
    "#install_all_packages()\n",
    "load_library_packages()"
   ]
  },
  {
   "cell_type": "markdown",
   "metadata": {},
   "source": [
    "# Importing and Exploring the Dataset"
   ]
  },
  {
   "cell_type": "code",
   "execution_count": 46,
   "metadata": {},
   "outputs": [
    {
     "data": {
      "text/html": [
       "<style>\n",
       ".list-inline {list-style: none; margin:0; padding: 0}\n",
       ".list-inline>li {display: inline-block}\n",
       ".list-inline>li:not(:last-child)::after {content: \"\\00b7\"; padding: 0 .5ex}\n",
       "</style>\n",
       "<ol class=list-inline><li>1226</li><li>86</li></ol>\n"
      ],
      "text/latex": [
       "\\begin{enumerate*}\n",
       "\\item 1226\n",
       "\\item 86\n",
       "\\end{enumerate*}\n"
      ],
      "text/markdown": [
       "1. 1226\n",
       "2. 86\n",
       "\n",
       "\n"
      ],
      "text/plain": [
       "[1] 1226   86"
      ]
     },
     "metadata": {},
     "output_type": "display_data"
    },
    {
     "data": {
      "text/html": [
       "'numeric'"
      ],
      "text/latex": [
       "'numeric'"
      ],
      "text/markdown": [
       "'numeric'"
      ],
      "text/plain": [
       "[1] \"numeric\""
      ]
     },
     "metadata": {},
     "output_type": "display_data"
    },
    {
     "data": {
      "text/html": [
       "<table class=\"dataframe\">\n",
       "<caption>A data.frame: 6 × 86</caption>\n",
       "<thead>\n",
       "\t<tr><th></th><th scope=col>PA_practice_during</th><th scope=col>sex</th><th scope=col>age_range</th><th scope=col>martialStatus</th><th scope=col>state</th><th scope=col>zone</th><th scope=col>co.resident_range</th><th scope=col>rooms_range</th><th scope=col>income_range</th><th scope=col>scholarity</th><th scope=col>...</th><th scope=col>PA_easiness_home_equipament_before</th><th scope=col>PA_easiness_others_before</th><th scope=col>PA_barriers_before_time_family_responsabilities</th><th scope=col>PA_barriers_before_tiredness</th><th scope=col>PA_barriers_before_location_distance</th><th scope=col>PA_barriers_before_money</th><th scope=col>PA_barriers_before_time_convenience</th><th scope=col>PA_barriers_before_hard_task</th><th scope=col>PA_barriers_before_interest</th><th scope=col>PA_barriers_before_none</th></tr>\n",
       "\t<tr><th></th><th scope=col>&lt;dbl&gt;</th><th scope=col>&lt;dbl&gt;</th><th scope=col>&lt;dbl&gt;</th><th scope=col>&lt;dbl&gt;</th><th scope=col>&lt;dbl&gt;</th><th scope=col>&lt;dbl&gt;</th><th scope=col>&lt;dbl&gt;</th><th scope=col>&lt;dbl&gt;</th><th scope=col>&lt;dbl&gt;</th><th scope=col>&lt;dbl&gt;</th><th scope=col>...</th><th scope=col>&lt;dbl&gt;</th><th scope=col>&lt;dbl&gt;</th><th scope=col>&lt;dbl&gt;</th><th scope=col>&lt;dbl&gt;</th><th scope=col>&lt;dbl&gt;</th><th scope=col>&lt;dbl&gt;</th><th scope=col>&lt;dbl&gt;</th><th scope=col>&lt;dbl&gt;</th><th scope=col>&lt;dbl&gt;</th><th scope=col>&lt;dbl&gt;</th></tr>\n",
       "</thead>\n",
       "<tbody>\n",
       "\t<tr><th scope=row>1</th><td>1</td><td>1</td><td>2</td><td>1</td><td>25</td><td>2</td><td>1</td><td>1</td><td>4</td><td>4</td><td>...</td><td>0</td><td>0</td><td>0</td><td>0</td><td>0</td><td>0</td><td>1</td><td>0</td><td>0</td><td>0</td></tr>\n",
       "\t<tr><th scope=row>2</th><td>0</td><td>2</td><td>3</td><td>1</td><td>21</td><td>1</td><td>2</td><td>3</td><td>6</td><td>4</td><td>...</td><td>0</td><td>0</td><td>0</td><td>1</td><td>0</td><td>0</td><td>0</td><td>0</td><td>0</td><td>0</td></tr>\n",
       "\t<tr><th scope=row>3</th><td>0</td><td>1</td><td>3</td><td>1</td><td>21</td><td>1</td><td>2</td><td>2</td><td>5</td><td>3</td><td>...</td><td>0</td><td>0</td><td>0</td><td>0</td><td>0</td><td>1</td><td>0</td><td>0</td><td>0</td><td>0</td></tr>\n",
       "\t<tr><th scope=row>4</th><td>0</td><td>1</td><td>3</td><td>1</td><td>21</td><td>1</td><td>1</td><td>1</td><td>3</td><td>4</td><td>...</td><td>0</td><td>0</td><td>0</td><td>0</td><td>0</td><td>0</td><td>1</td><td>0</td><td>0</td><td>0</td></tr>\n",
       "\t<tr><th scope=row>5</th><td>0</td><td>1</td><td>2</td><td>2</td><td>25</td><td>2</td><td>2</td><td>2</td><td>6</td><td>4</td><td>...</td><td>0</td><td>0</td><td>1</td><td>0</td><td>0</td><td>0</td><td>0</td><td>0</td><td>0</td><td>0</td></tr>\n",
       "\t<tr><th scope=row>6</th><td>0</td><td>2</td><td>3</td><td>2</td><td>21</td><td>1</td><td>2</td><td>2</td><td>6</td><td>6</td><td>...</td><td>0</td><td>0</td><td>1</td><td>0</td><td>0</td><td>0</td><td>0</td><td>0</td><td>0</td><td>0</td></tr>\n",
       "</tbody>\n",
       "</table>\n"
      ],
      "text/latex": [
       "A data.frame: 6 × 86\n",
       "\\begin{tabular}{r|lllllllllllllllllllll}\n",
       "  & PA\\_practice\\_during & sex & age\\_range & martialStatus & state & zone & co.resident\\_range & rooms\\_range & income\\_range & scholarity & ... & PA\\_easiness\\_home\\_equipament\\_before & PA\\_easiness\\_others\\_before & PA\\_barriers\\_before\\_time\\_family\\_responsabilities & PA\\_barriers\\_before\\_tiredness & PA\\_barriers\\_before\\_location\\_distance & PA\\_barriers\\_before\\_money & PA\\_barriers\\_before\\_time\\_convenience & PA\\_barriers\\_before\\_hard\\_task & PA\\_barriers\\_before\\_interest & PA\\_barriers\\_before\\_none\\\\\n",
       "  & <dbl> & <dbl> & <dbl> & <dbl> & <dbl> & <dbl> & <dbl> & <dbl> & <dbl> & <dbl> & ... & <dbl> & <dbl> & <dbl> & <dbl> & <dbl> & <dbl> & <dbl> & <dbl> & <dbl> & <dbl>\\\\\n",
       "\\hline\n",
       "\t1 & 1 & 1 & 2 & 1 & 25 & 2 & 1 & 1 & 4 & 4 & ... & 0 & 0 & 0 & 0 & 0 & 0 & 1 & 0 & 0 & 0\\\\\n",
       "\t2 & 0 & 2 & 3 & 1 & 21 & 1 & 2 & 3 & 6 & 4 & ... & 0 & 0 & 0 & 1 & 0 & 0 & 0 & 0 & 0 & 0\\\\\n",
       "\t3 & 0 & 1 & 3 & 1 & 21 & 1 & 2 & 2 & 5 & 3 & ... & 0 & 0 & 0 & 0 & 0 & 1 & 0 & 0 & 0 & 0\\\\\n",
       "\t4 & 0 & 1 & 3 & 1 & 21 & 1 & 1 & 1 & 3 & 4 & ... & 0 & 0 & 0 & 0 & 0 & 0 & 1 & 0 & 0 & 0\\\\\n",
       "\t5 & 0 & 1 & 2 & 2 & 25 & 2 & 2 & 2 & 6 & 4 & ... & 0 & 0 & 1 & 0 & 0 & 0 & 0 & 0 & 0 & 0\\\\\n",
       "\t6 & 0 & 2 & 3 & 2 & 21 & 1 & 2 & 2 & 6 & 6 & ... & 0 & 0 & 1 & 0 & 0 & 0 & 0 & 0 & 0 & 0\\\\\n",
       "\\end{tabular}\n"
      ],
      "text/markdown": [
       "\n",
       "A data.frame: 6 × 86\n",
       "\n",
       "| <!--/--> | PA_practice_during &lt;dbl&gt; | sex &lt;dbl&gt; | age_range &lt;dbl&gt; | martialStatus &lt;dbl&gt; | state &lt;dbl&gt; | zone &lt;dbl&gt; | co.resident_range &lt;dbl&gt; | rooms_range &lt;dbl&gt; | income_range &lt;dbl&gt; | scholarity &lt;dbl&gt; | ... ... | PA_easiness_home_equipament_before &lt;dbl&gt; | PA_easiness_others_before &lt;dbl&gt; | PA_barriers_before_time_family_responsabilities &lt;dbl&gt; | PA_barriers_before_tiredness &lt;dbl&gt; | PA_barriers_before_location_distance &lt;dbl&gt; | PA_barriers_before_money &lt;dbl&gt; | PA_barriers_before_time_convenience &lt;dbl&gt; | PA_barriers_before_hard_task &lt;dbl&gt; | PA_barriers_before_interest &lt;dbl&gt; | PA_barriers_before_none &lt;dbl&gt; |\n",
       "|---|---|---|---|---|---|---|---|---|---|---|---|---|---|---|---|---|---|---|---|---|---|\n",
       "| 1 | 1 | 1 | 2 | 1 | 25 | 2 | 1 | 1 | 4 | 4 | ... | 0 | 0 | 0 | 0 | 0 | 0 | 1 | 0 | 0 | 0 |\n",
       "| 2 | 0 | 2 | 3 | 1 | 21 | 1 | 2 | 3 | 6 | 4 | ... | 0 | 0 | 0 | 1 | 0 | 0 | 0 | 0 | 0 | 0 |\n",
       "| 3 | 0 | 1 | 3 | 1 | 21 | 1 | 2 | 2 | 5 | 3 | ... | 0 | 0 | 0 | 0 | 0 | 1 | 0 | 0 | 0 | 0 |\n",
       "| 4 | 0 | 1 | 3 | 1 | 21 | 1 | 1 | 1 | 3 | 4 | ... | 0 | 0 | 0 | 0 | 0 | 0 | 1 | 0 | 0 | 0 |\n",
       "| 5 | 0 | 1 | 2 | 2 | 25 | 2 | 2 | 2 | 6 | 4 | ... | 0 | 0 | 1 | 0 | 0 | 0 | 0 | 0 | 0 | 0 |\n",
       "| 6 | 0 | 2 | 3 | 2 | 21 | 1 | 2 | 2 | 6 | 6 | ... | 0 | 0 | 1 | 0 | 0 | 0 | 0 | 0 | 0 | 0 |\n",
       "\n"
      ],
      "text/plain": [
       "  PA_practice_during sex age_range martialStatus state zone co.resident_range\n",
       "1 1                  1   2         1             25    2    1                \n",
       "2 0                  2   3         1             21    1    2                \n",
       "3 0                  1   3         1             21    1    2                \n",
       "4 0                  1   3         1             21    1    1                \n",
       "5 0                  1   2         2             25    2    2                \n",
       "6 0                  2   3         2             21    1    2                \n",
       "  rooms_range income_range scholarity ... PA_easiness_home_equipament_before\n",
       "1 1           4            4          ... 0                                 \n",
       "2 3           6            4          ... 0                                 \n",
       "3 2           5            3          ... 0                                 \n",
       "4 1           3            4          ... 0                                 \n",
       "5 2           6            4          ... 0                                 \n",
       "6 2           6            6          ... 0                                 \n",
       "  PA_easiness_others_before PA_barriers_before_time_family_responsabilities\n",
       "1 0                         0                                              \n",
       "2 0                         0                                              \n",
       "3 0                         0                                              \n",
       "4 0                         0                                              \n",
       "5 0                         1                                              \n",
       "6 0                         1                                              \n",
       "  PA_barriers_before_tiredness PA_barriers_before_location_distance\n",
       "1 0                            0                                   \n",
       "2 1                            0                                   \n",
       "3 0                            0                                   \n",
       "4 0                            0                                   \n",
       "5 0                            0                                   \n",
       "6 0                            0                                   \n",
       "  PA_barriers_before_money PA_barriers_before_time_convenience\n",
       "1 0                        1                                  \n",
       "2 0                        0                                  \n",
       "3 1                        0                                  \n",
       "4 0                        1                                  \n",
       "5 0                        0                                  \n",
       "6 0                        0                                  \n",
       "  PA_barriers_before_hard_task PA_barriers_before_interest\n",
       "1 0                            0                          \n",
       "2 0                            0                          \n",
       "3 0                            0                          \n",
       "4 0                            0                          \n",
       "5 0                            0                          \n",
       "6 0                            0                          \n",
       "  PA_barriers_before_none\n",
       "1 0                      \n",
       "2 0                      \n",
       "3 0                      \n",
       "4 0                      \n",
       "5 0                      \n",
       "6 0                      "
      ]
     },
     "metadata": {},
     "output_type": "display_data"
    }
   ],
   "source": [
    "before_dataset <- read_excel(path = here('Data','before_pa.xlsx'))\n",
    "before_dataset <- data.frame(before_dataset)\n",
    "dim(before_dataset)\n",
    "unique(sapply(before_dataset, class))\n",
    "head(before_dataset)\n"
   ]
  },
  {
   "cell_type": "markdown",
   "metadata": {},
   "source": [
    "# Adding new Columns"
   ]
  },
  {
   "cell_type": "code",
   "execution_count": 47,
   "metadata": {},
   "outputs": [],
   "source": [
    "sports = c('running_before','hiking_before','cycling_before','muscle_training_before',\n",
    "'soccer_before','tennis_before','volleyball_before','basketball_before',\n",
    "'swimming_before','surfing_before','yoga_before','pilates_before',\n",
    "'fighting_before','other_sports_before')\n",
    "    \n",
    "before_dataset[, \"pa_number_before\"] = rowSums(before_dataset[, sports])"
   ]
  },
  {
   "cell_type": "markdown",
   "metadata": {},
   "source": [
    "# Treating missing data\n",
    "\n",
    "### As the dataset had little missing data, we chose to omit them"
   ]
  },
  {
   "cell_type": "code",
   "execution_count": 48,
   "metadata": {},
   "outputs": [
    {
     "data": {
      "text/html": [
       "<style>\n",
       ".list-inline {list-style: none; margin:0; padding: 0}\n",
       ".list-inline>li {display: inline-block}\n",
       ".list-inline>li:not(:last-child)::after {content: \"\\00b7\"; padding: 0 .5ex}\n",
       "</style>\n",
       "<ol class=list-inline><li>1226</li><li>87</li></ol>\n"
      ],
      "text/latex": [
       "\\begin{enumerate*}\n",
       "\\item 1226\n",
       "\\item 87\n",
       "\\end{enumerate*}\n"
      ],
      "text/markdown": [
       "1. 1226\n",
       "2. 87\n",
       "\n",
       "\n"
      ],
      "text/plain": [
       "[1] 1226   87"
      ]
     },
     "metadata": {},
     "output_type": "display_data"
    }
   ],
   "source": [
    "before_dataset <- before_dataset[complete.cases(before_dataset), ]\n",
    "dim(before_dataset)\n"
   ]
  },
  {
   "cell_type": "markdown",
   "metadata": {},
   "source": [
    "# Treating variables type"
   ]
  },
  {
   "cell_type": "code",
   "execution_count": 49,
   "metadata": {},
   "outputs": [],
   "source": [
    "before_dataset$PA_practice_before[before_dataset$PA_practice_before == 0] <- \"practice\"\n",
    "before_dataset$PA_practice_before[before_dataset$PA_practice_before == 1] <- \"dont_practice\"\n",
    "before_dataset$PA_practice_during[before_dataset$PA_practice_during == 0] <- \"practice\"\n",
    "before_dataset$PA_practice_during[before_dataset$PA_practice_during == 1] <- \"dont_practice\"\n",
    "\n",
    "before_dataset$PA_intensity_before[before_dataset$PA_intensity_before == 4] <- 0\n",
    "before_dataset$PA_duration_before[before_dataset$PA_duration_before == 5] <- 0\n"
   ]
  },
  {
   "cell_type": "code",
   "execution_count": 50,
   "metadata": {},
   "outputs": [
    {
     "name": "stderr",
     "output_type": "stream",
     "text": [
      "Warning message in Ops.factor(before_dataset[1, 2], before_dataset[2, 2]):\n",
      "\"'<' not meaningful for factors\"\n"
     ]
    },
    {
     "data": {
      "text/html": [
       "&lt;NA&gt;"
      ],
      "text/latex": [
       "<NA>"
      ],
      "text/markdown": [
       "&lt;NA&gt;"
      ],
      "text/plain": [
       "[1] NA"
      ]
     },
     "metadata": {},
     "output_type": "display_data"
    },
    {
     "data": {
      "text/html": [
       "<table class=\"dataframe\">\n",
       "<caption>A data.frame: 6 × 10</caption>\n",
       "<thead>\n",
       "\t<tr><th></th><th scope=col>age_range</th><th scope=col>rooms_range</th><th scope=col>income_range</th><th scope=col>scholarity</th><th scope=col>sedentary_time_range_before</th><th scope=col>co.resident_range</th><th scope=col>PA_weekly_frequency_before</th><th scope=col>PA_intensity_before</th><th scope=col>PA_duration_before</th><th scope=col>pa_number_before</th></tr>\n",
       "\t<tr><th></th><th scope=col>&lt;int&gt;</th><th scope=col>&lt;int&gt;</th><th scope=col>&lt;int&gt;</th><th scope=col>&lt;int&gt;</th><th scope=col>&lt;int&gt;</th><th scope=col>&lt;int&gt;</th><th scope=col>&lt;int&gt;</th><th scope=col>&lt;int&gt;</th><th scope=col>&lt;int&gt;</th><th scope=col>&lt;int&gt;</th></tr>\n",
       "</thead>\n",
       "<tbody>\n",
       "\t<tr><th scope=row>1</th><td>2</td><td>1</td><td>4</td><td>4</td><td>4</td><td>1</td><td>4</td><td>1</td><td>2</td><td>1</td></tr>\n",
       "\t<tr><th scope=row>2</th><td>3</td><td>3</td><td>6</td><td>4</td><td>3</td><td>2</td><td>3</td><td>2</td><td>3</td><td>4</td></tr>\n",
       "\t<tr><th scope=row>3</th><td>3</td><td>2</td><td>5</td><td>3</td><td>1</td><td>2</td><td>2</td><td>3</td><td>2</td><td>2</td></tr>\n",
       "\t<tr><th scope=row>4</th><td>3</td><td>1</td><td>3</td><td>4</td><td>2</td><td>1</td><td>4</td><td>3</td><td>3</td><td>2</td></tr>\n",
       "\t<tr><th scope=row>5</th><td>2</td><td>2</td><td>6</td><td>4</td><td>4</td><td>2</td><td>4</td><td>3</td><td>3</td><td>2</td></tr>\n",
       "\t<tr><th scope=row>6</th><td>3</td><td>2</td><td>6</td><td>6</td><td>2</td><td>2</td><td>3</td><td>2</td><td>2</td><td>3</td></tr>\n",
       "</tbody>\n",
       "</table>\n"
      ],
      "text/latex": [
       "A data.frame: 6 × 10\n",
       "\\begin{tabular}{r|llllllllll}\n",
       "  & age\\_range & rooms\\_range & income\\_range & scholarity & sedentary\\_time\\_range\\_before & co.resident\\_range & PA\\_weekly\\_frequency\\_before & PA\\_intensity\\_before & PA\\_duration\\_before & pa\\_number\\_before\\\\\n",
       "  & <int> & <int> & <int> & <int> & <int> & <int> & <int> & <int> & <int> & <int>\\\\\n",
       "\\hline\n",
       "\t1 & 2 & 1 & 4 & 4 & 4 & 1 & 4 & 1 & 2 & 1\\\\\n",
       "\t2 & 3 & 3 & 6 & 4 & 3 & 2 & 3 & 2 & 3 & 4\\\\\n",
       "\t3 & 3 & 2 & 5 & 3 & 1 & 2 & 2 & 3 & 2 & 2\\\\\n",
       "\t4 & 3 & 1 & 3 & 4 & 2 & 1 & 4 & 3 & 3 & 2\\\\\n",
       "\t5 & 2 & 2 & 6 & 4 & 4 & 2 & 4 & 3 & 3 & 2\\\\\n",
       "\t6 & 3 & 2 & 6 & 6 & 2 & 2 & 3 & 2 & 2 & 3\\\\\n",
       "\\end{tabular}\n"
      ],
      "text/markdown": [
       "\n",
       "A data.frame: 6 × 10\n",
       "\n",
       "| <!--/--> | age_range &lt;int&gt; | rooms_range &lt;int&gt; | income_range &lt;int&gt; | scholarity &lt;int&gt; | sedentary_time_range_before &lt;int&gt; | co.resident_range &lt;int&gt; | PA_weekly_frequency_before &lt;int&gt; | PA_intensity_before &lt;int&gt; | PA_duration_before &lt;int&gt; | pa_number_before &lt;int&gt; |\n",
       "|---|---|---|---|---|---|---|---|---|---|---|\n",
       "| 1 | 2 | 1 | 4 | 4 | 4 | 1 | 4 | 1 | 2 | 1 |\n",
       "| 2 | 3 | 3 | 6 | 4 | 3 | 2 | 3 | 2 | 3 | 4 |\n",
       "| 3 | 3 | 2 | 5 | 3 | 1 | 2 | 2 | 3 | 2 | 2 |\n",
       "| 4 | 3 | 1 | 3 | 4 | 2 | 1 | 4 | 3 | 3 | 2 |\n",
       "| 5 | 2 | 2 | 6 | 4 | 4 | 2 | 4 | 3 | 3 | 2 |\n",
       "| 6 | 3 | 2 | 6 | 6 | 2 | 2 | 3 | 2 | 2 | 3 |\n",
       "\n"
      ],
      "text/plain": [
       "  age_range rooms_range income_range scholarity sedentary_time_range_before\n",
       "1 2         1           4            4          4                          \n",
       "2 3         3           6            4          3                          \n",
       "3 3         2           5            3          1                          \n",
       "4 3         1           3            4          2                          \n",
       "5 2         2           6            4          4                          \n",
       "6 3         2           6            6          2                          \n",
       "  co.resident_range PA_weekly_frequency_before PA_intensity_before\n",
       "1 1                 4                          1                  \n",
       "2 2                 3                          2                  \n",
       "3 2                 2                          3                  \n",
       "4 1                 4                          3                  \n",
       "5 2                 4                          3                  \n",
       "6 2                 3                          2                  \n",
       "  PA_duration_before pa_number_before\n",
       "1 2                  1               \n",
       "2 3                  4               \n",
       "3 2                  2               \n",
       "4 3                  2               \n",
       "5 3                  2               \n",
       "6 2                  3               "
      ]
     },
     "metadata": {},
     "output_type": "display_data"
    }
   ],
   "source": [
    "numeric_columns = c(\n",
    "    'age_range',\n",
    "    'rooms_range',\n",
    "    'income_range',\n",
    "    'scholarity',\n",
    "    'sedentary_time_range_before',\n",
    "    'co.resident_range',\n",
    "    \"PA_weekly_frequency_before\",\n",
    "    'PA_intensity_before',\n",
    "    'PA_duration_before',\n",
    "    \"pa_number_before\"\n",
    ")\n",
    "columns = names(before_dataset)\n",
    "categorical_columns <- columns[!columns %in% numeric_columns]\n",
    "\n",
    "\n",
    "before_dataset[, categorical_columns] <- lapply(before_dataset[, categorical_columns], as.factor)\n",
    "before_dataset[, numeric_columns] <- lapply(before_dataset[, numeric_columns], as.integer)\n",
    "\n",
    "\n",
    "before_dataset[1, 2] < before_dataset[2, 2] \n",
    "\n",
    "head(before_dataset[, numeric_columns])\n"
   ]
  },
  {
   "cell_type": "code",
   "execution_count": 51,
   "metadata": {},
   "outputs": [
    {
     "data": {
      "text/html": [
       "<dl>\n",
       "\t<dt>$&lt;NA&gt;</dt>\n",
       "\t\t<dd>NULL</dd>\n",
       "\t<dt>$&lt;NA&gt;</dt>\n",
       "\t\t<dd>NULL</dd>\n",
       "</dl>\n"
      ],
      "text/latex": [
       "\\begin{description}\n",
       "\\item[\\$<NA>] NULL\n",
       "\\item[\\$<NA>] NULL\n",
       "\\end{description}\n"
      ],
      "text/markdown": [
       "$&lt;NA&gt;\n",
       ":   NULL\n",
       "$&lt;NA&gt;\n",
       ":   NULL\n",
       "\n",
       "\n"
      ],
      "text/plain": [
       "$<NA>\n",
       "NULL\n",
       "\n",
       "$<NA>\n",
       "NULL\n"
      ]
     },
     "metadata": {},
     "output_type": "display_data"
    }
   ],
   "source": [
    "lapply(before_dataset, levels)[c(\"DA\", \"DP\")]\n",
    "before_dataset <- subset(before_dataset, select = columns[!columns %in% c('DA', 'DP', 'state', 'zone')])"
   ]
  },
  {
   "cell_type": "markdown",
   "metadata": {},
   "source": [
    "# Sanity Check\n",
    "\n",
    "### More then one column have the class \"dont_practice\", we need to check if they agree."
   ]
  },
  {
   "cell_type": "code",
   "execution_count": 52,
   "metadata": {},
   "outputs": [
    {
     "data": {
      "text/plain": [
       "                  PA_duration_before\n",
       "PA_practice_before   0   1   2   3   4\n",
       "     dont_practice 129   8   4   2   0\n",
       "     practice        4  57 649 318  55"
      ]
     },
     "metadata": {},
     "output_type": "display_data"
    },
    {
     "data": {
      "text/plain": [
       "                  PA_intensity_before\n",
       "PA_practice_before   0   1   2   3\n",
       "     dont_practice 129  14   0   0\n",
       "     practice        2 145 584 352"
      ]
     },
     "metadata": {},
     "output_type": "display_data"
    },
    {
     "data": {
      "text/plain": [
       "                  PA_weekly_frequency_before\n",
       "PA_practice_before   1   2   3   4\n",
       "     dont_practice 142   0   1   0\n",
       "     practice        1 419 466 197"
      ]
     },
     "metadata": {},
     "output_type": "display_data"
    },
    {
     "data": {
      "text/plain": [
       "                  pa_number_before\n",
       "PA_practice_before   0   1   2   3   4   5   6   7   9\n",
       "     dont_practice 142   1   0   0   0   0   0   0   0\n",
       "     practice        0 380 361 215  95  22   4   5   1"
      ]
     },
     "metadata": {},
     "output_type": "display_data"
    }
   ],
   "source": [
    "table(before_dataset[, c(\"PA_practice_before\", \"PA_duration_before\")])\n",
    "table(before_dataset[, c(\"PA_practice_before\", \"PA_intensity_before\")])\n",
    "table(before_dataset[, c(\"PA_practice_before\", \"PA_weekly_frequency_before\")])\n",
    "table(before_dataset[, c(\"PA_practice_before\", \"pa_number_before\")])\n"
   ]
  },
  {
   "cell_type": "code",
   "execution_count": 53,
   "metadata": {},
   "outputs": [
    {
     "data": {
      "text/plain": [
       "strange_dp\n",
       "FALSE  TRUE \n",
       " 1211    15 "
      ]
     },
     "metadata": {},
     "output_type": "display_data"
    }
   ],
   "source": [
    "differ_dp <- ( before_dataset$PA_duration_before != 0 \n",
    "                | before_dataset$PA_intensity_before != 0 \n",
    "                | before_dataset$PA_weekly_frequency_before != 1 \n",
    "                | before_dataset$pa_number_before != 0\n",
    "            ) \n",
    "strange_dp <- before_dataset$PA_practice_before == \"dont_practice\" & differ_dp \n",
    "\n",
    "table(strange_dp)\n",
    "# before_dataset <- before_dataset[!strange_dp,]"
   ]
  },
  {
   "cell_type": "code",
   "execution_count": 54,
   "metadata": {},
   "outputs": [
    {
     "data": {
      "text/plain": [
       "strange_p\n",
       "FALSE  TRUE \n",
       " 1221     5 "
      ]
     },
     "metadata": {},
     "output_type": "display_data"
    }
   ],
   "source": [
    "differ_p <- (   before_dataset$PA_duration_before == 0 \n",
    "                | before_dataset$PA_intensity_before == 0 \n",
    "                | before_dataset$PA_weekly_frequency_before == 1\n",
    "                | before_dataset$pa_number_before == 0\n",
    "            )\n",
    "strange_p <- before_dataset$PA_practice_before == \"practice\" & differ_p\n",
    "table(strange_p)\n",
    "# before_dataset <- before_dataset[!strange_p,]\n"
   ]
  },
  {
   "cell_type": "markdown",
   "metadata": {},
   "source": [
    "### We found out that some columns have bias"
   ]
  },
  {
   "cell_type": "markdown",
   "metadata": {},
   "source": [
    "# Unsupervised Learning"
   ]
  },
  {
   "cell_type": "code",
   "execution_count": 55,
   "metadata": {},
   "outputs": [],
   "source": [
    "before_dataset_copy <- before_dataset\n",
    "before_dataset_copy[, \"strange_dp\"] <- strange_dp\n",
    "before_dataset_copy[, \"strange_p\"] <- strange_p\n",
    "has_GAD_depression <- before_dataset$GAD == \"1\" | before_dataset$depression  == \"1\" \n",
    "before_dataset_copy[, \"has_GAD_depression\"] <- has_GAD_depression\n",
    "\n",
    "dummy <- dummyVars(\" ~ .\", data=before_dataset)\n",
    "encoded_dataset <- data.frame(predict(dummy, newdata = before_dataset)) "
   ]
  },
  {
   "cell_type": "markdown",
   "metadata": {},
   "source": [
    "## PCA"
   ]
  },
  {
   "cell_type": "code",
   "execution_count": 56,
   "metadata": {},
   "outputs": [
    {
     "data": {
      "text/plain": [
       "Importance of components:\n",
       "                           PC1     PC2     PC3     PC4     PC5     PC6     PC7\n",
       "Standard deviation     2.96556 2.39524 2.29879 2.16209 2.04970 1.99503 1.95289\n",
       "Proportion of Variance 0.04997 0.03260 0.03003 0.02656 0.02387 0.02261 0.02167\n",
       "Cumulative Proportion  0.04997 0.08257 0.11259 0.13915 0.16302 0.18564 0.20731\n",
       "                           PC8     PC9    PC10    PC11    PC12    PC13    PC14\n",
       "Standard deviation     1.90452 1.82116 1.81249 1.76081 1.73274 1.70054 1.67768\n",
       "Proportion of Variance 0.02061 0.01884 0.01867 0.01762 0.01706 0.01643 0.01599\n",
       "Cumulative Proportion  0.22792 0.24676 0.26543 0.28304 0.30010 0.31653 0.33252\n",
       "                          PC15    PC16    PC17    PC18    PC19    PC20   PC21\n",
       "Standard deviation     1.63781 1.63068 1.61778 1.60227 1.59366 1.57371 1.5528\n",
       "Proportion of Variance 0.01524 0.01511 0.01487 0.01459 0.01443 0.01407 0.0137\n",
       "Cumulative Proportion  0.34776 0.36287 0.37774 0.39233 0.40676 0.42083 0.4345\n",
       "                         PC22    PC23    PC24   PC25    PC26    PC27   PC28\n",
       "Standard deviation     1.5472 1.52706 1.51956 1.5127 1.49937 1.48018 1.4770\n",
       "Proportion of Variance 0.0136 0.01325 0.01312 0.0130 0.01277 0.01245 0.0124\n",
       "Cumulative Proportion  0.4481 0.46138 0.47450 0.4875 0.50028 0.51273 0.5251\n",
       "                          PC29   PC30    PC31    PC32    PC33    PC34    PC35\n",
       "Standard deviation     1.46673 1.4534 1.42542 1.41835 1.40621 1.40186 1.38819\n",
       "Proportion of Variance 0.01222 0.0120 0.01154 0.01143 0.01124 0.01117 0.01095\n",
       "Cumulative Proportion  0.53734 0.5494 0.56089 0.57232 0.58356 0.59472 0.60567\n",
       "                          PC36    PC37    PC38    PC39   PC40    PC41    PC42\n",
       "Standard deviation     1.38002 1.37458 1.36031 1.34699 1.3331 1.32601 1.31709\n",
       "Proportion of Variance 0.01082 0.01074 0.01051 0.01031 0.0101 0.00999 0.00986\n",
       "Cumulative Proportion  0.61649 0.62723 0.63774 0.64805 0.6582 0.66814 0.67800\n",
       "                          PC43    PC44    PC45   PC46    PC47    PC48    PC49\n",
       "Standard deviation     1.30082 1.28658 1.28387 1.2652 1.25564 1.25390 1.22935\n",
       "Proportion of Variance 0.00961 0.00941 0.00937 0.0091 0.00896 0.00893 0.00859\n",
       "Cumulative Proportion  0.68761 0.69702 0.70638 0.7155 0.72444 0.73337 0.74196\n",
       "                          PC50    PC51    PC52    PC53    PC54    PC55   PC56\n",
       "Standard deviation     1.22614 1.21298 1.20435 1.19350 1.18282 1.16871 1.1492\n",
       "Proportion of Variance 0.00854 0.00836 0.00824 0.00809 0.00795 0.00776 0.0075\n",
       "Cumulative Proportion  0.75050 0.75886 0.76710 0.77519 0.78314 0.79090 0.7984\n",
       "                          PC57    PC58    PC59    PC60    PC61    PC62    PC63\n",
       "Standard deviation     1.14642 1.14232 1.13636 1.12375 1.10597 1.10484 1.09356\n",
       "Proportion of Variance 0.00747 0.00741 0.00734 0.00718 0.00695 0.00694 0.00679\n",
       "Cumulative Proportion  0.80587 0.81329 0.82062 0.82780 0.83475 0.84169 0.84848\n",
       "                          PC64    PC65    PC66    PC67    PC68    PC69   PC70\n",
       "Standard deviation     1.07201 1.07033 1.05877 1.04999 1.04208 1.03459 1.0191\n",
       "Proportion of Variance 0.00653 0.00651 0.00637 0.00626 0.00617 0.00608 0.0059\n",
       "Cumulative Proportion  0.85501 0.86152 0.86789 0.87415 0.88032 0.88640 0.8923\n",
       "                          PC71   PC72    PC73    PC74    PC75   PC76    PC77\n",
       "Standard deviation     1.00738 0.9929 0.98829 0.97366 0.96252 0.9566 0.94660\n",
       "Proportion of Variance 0.00577 0.0056 0.00555 0.00539 0.00526 0.0052 0.00509\n",
       "Cumulative Proportion  0.89807 0.9037 0.90922 0.91461 0.91987 0.9251 0.93016\n",
       "                          PC78    PC79    PC80    PC81    PC82   PC83    PC84\n",
       "Standard deviation     0.93728 0.91981 0.91535 0.90163 0.88728 0.8798 0.86424\n",
       "Proportion of Variance 0.00499 0.00481 0.00476 0.00462 0.00447 0.0044 0.00424\n",
       "Cumulative Proportion  0.93515 0.93996 0.94472 0.94934 0.95381 0.9582 0.96246\n",
       "                          PC85    PC86    PC87    PC88    PC89    PC90    PC91\n",
       "Standard deviation     0.86200 0.85711 0.82937 0.78420 0.77223 0.72777 0.68830\n",
       "Proportion of Variance 0.00422 0.00417 0.00391 0.00349 0.00339 0.00301 0.00269\n",
       "Cumulative Proportion  0.96668 0.97085 0.97476 0.97825 0.98164 0.98465 0.98734\n",
       "                          PC92    PC93    PC94    PC95   PC96    PC97   PC98\n",
       "Standard deviation     0.68220 0.60251 0.57465 0.56914 0.5304 0.49538 0.4400\n",
       "Proportion of Variance 0.00264 0.00206 0.00188 0.00184 0.0016 0.00139 0.0011\n",
       "Cumulative Proportion  0.98999 0.99205 0.99393 0.99577 0.9974 0.99876 0.9999\n",
       "                          PC99     PC100     PC101     PC102     PC103\n",
       "Standard deviation     0.15694 1.526e-14 7.099e-15 3.615e-15 2.874e-15\n",
       "Proportion of Variance 0.00014 0.000e+00 0.000e+00 0.000e+00 0.000e+00\n",
       "Cumulative Proportion  1.00000 1.000e+00 1.000e+00 1.000e+00 1.000e+00\n",
       "                           PC104     PC105     PC106     PC107     PC108\n",
       "Standard deviation     2.505e-15 2.318e-15 2.153e-15 2.123e-15 1.959e-15\n",
       "Proportion of Variance 0.000e+00 0.000e+00 0.000e+00 0.000e+00 0.000e+00\n",
       "Cumulative Proportion  1.000e+00 1.000e+00 1.000e+00 1.000e+00 1.000e+00\n",
       "                           PC109     PC110     PC111    PC112     PC113\n",
       "Standard deviation     1.854e-15 1.813e-15 1.741e-15 1.66e-15 1.618e-15\n",
       "Proportion of Variance 0.000e+00 0.000e+00 0.000e+00 0.00e+00 0.000e+00\n",
       "Cumulative Proportion  1.000e+00 1.000e+00 1.000e+00 1.00e+00 1.000e+00\n",
       "                           PC114     PC115    PC116     PC117     PC118\n",
       "Standard deviation     1.612e-15 1.608e-15 1.55e-15 1.544e-15 1.522e-15\n",
       "Proportion of Variance 0.000e+00 0.000e+00 0.00e+00 0.000e+00 0.000e+00\n",
       "Cumulative Proportion  1.000e+00 1.000e+00 1.00e+00 1.000e+00 1.000e+00\n",
       "                           PC119     PC120     PC121     PC122     PC123\n",
       "Standard deviation     1.472e-15 1.453e-15 1.382e-15 1.351e-15 1.344e-15\n",
       "Proportion of Variance 0.000e+00 0.000e+00 0.000e+00 0.000e+00 0.000e+00\n",
       "Cumulative Proportion  1.000e+00 1.000e+00 1.000e+00 1.000e+00 1.000e+00\n",
       "                           PC124     PC125     PC126     PC127    PC128\n",
       "Standard deviation     1.322e-15 1.289e-15 1.275e-15 1.253e-15 1.22e-15\n",
       "Proportion of Variance 0.000e+00 0.000e+00 0.000e+00 0.000e+00 0.00e+00\n",
       "Cumulative Proportion  1.000e+00 1.000e+00 1.000e+00 1.000e+00 1.00e+00\n",
       "                           PC129     PC130     PC131     PC132     PC133\n",
       "Standard deviation     1.194e-15 1.177e-15 1.155e-15 1.148e-15 1.148e-15\n",
       "Proportion of Variance 0.000e+00 0.000e+00 0.000e+00 0.000e+00 0.000e+00\n",
       "Cumulative Proportion  1.000e+00 1.000e+00 1.000e+00 1.000e+00 1.000e+00\n",
       "                           PC134     PC135     PC136     PC137     PC138\n",
       "Standard deviation     1.137e-15 1.122e-15 1.074e-15 1.047e-15 1.043e-15\n",
       "Proportion of Variance 0.000e+00 0.000e+00 0.000e+00 0.000e+00 0.000e+00\n",
       "Cumulative Proportion  1.000e+00 1.000e+00 1.000e+00 1.000e+00 1.000e+00\n",
       "                           PC139     PC140     PC141    PC142     PC143\n",
       "Standard deviation     9.816e-16 9.419e-16 9.348e-16 9.03e-16 8.891e-16\n",
       "Proportion of Variance 0.000e+00 0.000e+00 0.000e+00 0.00e+00 0.000e+00\n",
       "Cumulative Proportion  1.000e+00 1.000e+00 1.000e+00 1.00e+00 1.000e+00\n",
       "                           PC144     PC145     PC146    PC147     PC148\n",
       "Standard deviation     8.414e-16 8.264e-16 7.801e-16 7.22e-16 7.073e-16\n",
       "Proportion of Variance 0.000e+00 0.000e+00 0.000e+00 0.00e+00 0.000e+00\n",
       "Cumulative Proportion  1.000e+00 1.000e+00 1.000e+00 1.00e+00 1.000e+00\n",
       "                           PC149     PC150     PC151     PC152     PC153\n",
       "Standard deviation     6.983e-16 6.782e-16 6.715e-16 6.397e-16 5.951e-16\n",
       "Proportion of Variance 0.000e+00 0.000e+00 0.000e+00 0.000e+00 0.000e+00\n",
       "Cumulative Proportion  1.000e+00 1.000e+00 1.000e+00 1.000e+00 1.000e+00\n",
       "                           PC154     PC155     PC156     PC157     PC158\n",
       "Standard deviation     5.942e-16 5.732e-16 5.576e-16 5.566e-16 5.452e-16\n",
       "Proportion of Variance 0.000e+00 0.000e+00 0.000e+00 0.000e+00 0.000e+00\n",
       "Cumulative Proportion  1.000e+00 1.000e+00 1.000e+00 1.000e+00 1.000e+00\n",
       "                           PC159     PC160     PC161     PC162     PC163\n",
       "Standard deviation     5.279e-16 5.195e-16 4.507e-16 4.387e-16 4.221e-16\n",
       "Proportion of Variance 0.000e+00 0.000e+00 0.000e+00 0.000e+00 0.000e+00\n",
       "Cumulative Proportion  1.000e+00 1.000e+00 1.000e+00 1.000e+00 1.000e+00\n",
       "                           PC164     PC165     PC166     PC167     PC168\n",
       "Standard deviation     4.148e-16 3.802e-16 3.445e-16 3.383e-16 3.261e-16\n",
       "Proportion of Variance 0.000e+00 0.000e+00 0.000e+00 0.000e+00 0.000e+00\n",
       "Cumulative Proportion  1.000e+00 1.000e+00 1.000e+00 1.000e+00 1.000e+00\n",
       "                           PC169     PC170     PC171     PC172     PC173\n",
       "Standard deviation     3.116e-16 2.609e-16 1.862e-16 1.353e-16 1.056e-16\n",
       "Proportion of Variance 0.000e+00 0.000e+00 0.000e+00 0.000e+00 0.000e+00\n",
       "Cumulative Proportion  1.000e+00 1.000e+00 1.000e+00 1.000e+00 1.000e+00\n",
       "                           PC174     PC175     PC176\n",
       "Standard deviation     8.678e-17 2.978e-17 5.533e-18\n",
       "Proportion of Variance 0.000e+00 0.000e+00 0.000e+00\n",
       "Cumulative Proportion  1.000e+00 1.000e+00 1.000e+00"
      ]
     },
     "metadata": {},
     "output_type": "display_data"
    }
   ],
   "source": [
    "encoded_dataset.pca <- prcomp(encoded_dataset , center = TRUE,scale. = TRUE)\n",
    "summary(encoded_dataset.pca) "
   ]
  },
  {
   "cell_type": "code",
   "execution_count": 57,
   "metadata": {},
   "outputs": [
    {
     "data": {
      "image/png": "[encoded data removed]",
      "text/plain": [
       "plot without title"
      ]
     },
     "metadata": {
      "image/png": {
       "height": 420,
       "width": 420
      }
     },
     "output_type": "display_data"
    }
   ],
   "source": [
    "autoplot(encoded_dataset.pca, colour=\"PA_practice_before\", data=before_dataset)"
   ]
  },
  {
   "cell_type": "markdown",
   "metadata": {},
   "source": [
    "## TSNE"
   ]
  },
  {
   "cell_type": "code",
   "execution_count": 58,
   "metadata": {},
   "outputs": [
    {
     "name": "stdout",
     "output_type": "stream",
     "text": [
      "Performing PCA\n",
      "Read the 1226 x 50 data matrix successfully!\n",
      "OpenMP is working. 1 threads.\n",
      "Using no_dims = 2, perplexity = 30.000000, and theta = 0.500000\n",
      "Computing input similarities...\n",
      "Building tree...\n",
      "Done in 0.17 seconds (sparsity = 0.102636)!\n",
      "Learning embedding...\n",
      "Iteration 50: error is 71.569534 (50 iterations in 0.16 seconds)\n",
      "Iteration 100: error is 71.567361 (50 iterations in 0.16 seconds)\n",
      "Iteration 150: error is 71.148887 (50 iterations in 0.15 seconds)\n",
      "Iteration 200: error is 71.125280 (50 iterations in 0.11 seconds)\n",
      "Iteration 250: error is 71.125312 (50 iterations in 0.10 seconds)\n",
      "Iteration 300: error is 2.184420 (50 iterations in 0.12 seconds)\n",
      "Iteration 350: error is 1.990204 (50 iterations in 0.12 seconds)\n",
      "Iteration 400: error is 1.915054 (50 iterations in 0.13 seconds)\n",
      "Iteration 450: error is 1.875717 (50 iterations in 0.13 seconds)\n",
      "Iteration 500: error is 1.852794 (50 iterations in 0.13 seconds)\n",
      "Iteration 550: error is 1.838945 (50 iterations in 0.13 seconds)\n",
      "Iteration 600: error is 1.829135 (50 iterations in 0.14 seconds)\n",
      "Iteration 650: error is 1.822223 (50 iterations in 0.14 seconds)\n",
      "Iteration 700: error is 1.817118 (50 iterations in 0.14 seconds)\n",
      "Iteration 750: error is 1.812735 (50 iterations in 0.14 seconds)\n",
      "Iteration 800: error is 1.809565 (50 iterations in 0.14 seconds)\n",
      "Iteration 850: error is 1.806783 (50 iterations in 0.14 seconds)\n",
      "Iteration 900: error is 1.804197 (50 iterations in 0.14 seconds)\n",
      "Iteration 950: error is 1.801977 (50 iterations in 0.14 seconds)\n",
      "Iteration 1000: error is 1.799590 (50 iterations in 0.14 seconds)\n",
      "Fitting performed in 2.69 seconds.\n"
     ]
    }
   ],
   "source": [
    "tsne <- Rtsne(encoded_dataset, dims = 2, perplexity=30, check_duplicates = FALSE, verbose=TRUE)"
   ]
  },
  {
   "cell_type": "markdown",
   "metadata": {},
   "source": [
    "### Practive before x dont Practice before"
   ]
  },
  {
   "cell_type": "code",
   "execution_count": 103,
   "metadata": {},
   "outputs": [
    {
     "data": {
      "image/png": "[encoded data removed]",
      "text/plain": [
       "plot without title"
      ]
     },
     "metadata": {
      "image/png": {
       "height": 420,
       "width": 420
      }
     },
     "output_type": "display_data"
    }
   ],
   "source": [
    "metadata <- data.frame(sample_id = rownames(before_dataset_copy),\n",
    "                       colour = before_dataset_copy$PA_practice_before)\n",
    "tsne_df <- data.frame(\n",
    "    x = tsne$Y[,1],\n",
    "    y = tsne$Y[,2],\n",
    "    colour = metadata$colour)\n",
    "\n",
    "ggplot(tsne_df, aes(x, y, colour = colour)) + geom_point()"
   ]
  },
  {
   "cell_type": "markdown",
   "metadata": {},
   "source": [
    "### Strange dont practice"
   ]
  },
  {
   "cell_type": "code",
   "execution_count": 60,
   "metadata": {},
   "outputs": [
    {
     "data": {
      "image/png": "[encoded data removed]",
      "text/plain": [
       "plot without title"
      ]
     },
     "metadata": {
      "image/png": {
       "height": 420,
       "width": 420
      }
     },
     "output_type": "display_data"
    }
   ],
   "source": [
    "metadata <- data.frame(sample_id = rownames(before_dataset_copy),\n",
    "                       colour = before_dataset_copy$strange_dp)\n",
    "tsne_df <- data.frame(\n",
    "    x = tsne$Y[,1],\n",
    "    y = tsne$Y[,2],\n",
    "    colour = metadata$colour)\n",
    "\n",
    "ggplot(tsne_df, aes(x, y, colour = colour)) + geom_point()"
   ]
  },
  {
   "cell_type": "markdown",
   "metadata": {},
   "source": [
    "### Strange practice"
   ]
  },
  {
   "cell_type": "code",
   "execution_count": 61,
   "metadata": {},
   "outputs": [
    {
     "data": {
      "image/png": "[encoded data removed]",
      "text/plain": [
       "plot without title"
      ]
     },
     "metadata": {
      "image/png": {
       "height": 420,
       "width": 420
      }
     },
     "output_type": "display_data"
    }
   ],
   "source": [
    "metadata <- data.frame(sample_id = rownames(before_dataset_copy),\n",
    "                       colour = before_dataset_copy$strange_p)\n",
    "tsne_df <- data.frame(\n",
    "    x = tsne$Y[,1],\n",
    "    y = tsne$Y[,2],\n",
    "    colour = metadata$colour)\n",
    "\n",
    "ggplot(tsne_df, aes(x, y, colour = colour)) + geom_point()"
   ]
  },
  {
   "cell_type": "markdown",
   "metadata": {},
   "source": [
    "### Has GAD or depression"
   ]
  },
  {
   "cell_type": "code",
   "execution_count": 62,
   "metadata": {},
   "outputs": [
    {
     "data": {
      "image/png": "[encoded data removed]",
      "text/plain": [
       "plot without title"
      ]
     },
     "metadata": {
      "image/png": {
       "height": 420,
       "width": 420
      }
     },
     "output_type": "display_data"
    }
   ],
   "source": [
    "metadata <- data.frame(sample_id = rownames(before_dataset_copy),\n",
    "                       colour = before_dataset_copy$has_GAD_depression)\n",
    "tsne_df <- data.frame(\n",
    "    x = tsne$Y[,1],\n",
    "    y = tsne$Y[,2],\n",
    "    colour = metadata$colour)\n",
    "\n",
    "ggplot(tsne_df, aes(x, y, colour = colour)) + geom_point()"
   ]
  },
  {
   "cell_type": "markdown",
   "metadata": {},
   "source": [
    "# Decision Trees for people with and without GAD and depression"
   ]
  },
  {
   "cell_type": "markdown",
   "metadata": {},
   "source": [
    "## Finding out the majority class\n"
   ]
  },
  {
   "cell_type": "code",
   "execution_count": 63,
   "metadata": {},
   "outputs": [
    {
     "data": {
      "text/plain": [
       "\n",
       "dont_practice      practice \n",
       "          338           888 "
      ]
     },
     "metadata": {},
     "output_type": "display_data"
    }
   ],
   "source": [
    "table(before_dataset[, \"PA_practice_during\"])"
   ]
  },
  {
   "cell_type": "markdown",
   "metadata": {},
   "source": [
    "## Creating the dataset partition"
   ]
  },
  {
   "cell_type": "code",
   "execution_count": 64,
   "metadata": {},
   "outputs": [],
   "source": [
    "set.seed(2)\n",
    "lista_treino <- createDataPartition(before_dataset$PA_practice_during, p=0.7, list=FALSE)\n",
    "treino <- before_dataset[lista_treino,]\n",
    "teste <- before_dataset[-lista_treino,]\n",
    "\n"
   ]
  },
  {
   "cell_type": "markdown",
   "metadata": {},
   "source": [
    "## Applying augmentation into the training set"
   ]
  },
  {
   "cell_type": "code",
   "execution_count": 65,
   "metadata": {},
   "outputs": [
    {
     "data": {
      "text/plain": [
       "\n",
       "dont_practice      practice \n",
       "          622           622 "
      ]
     },
     "metadata": {},
     "output_type": "display_data"
    }
   ],
   "source": [
    "treino.aug <- data_augmentation(\n",
    "    train_data=treino,\n",
    "    yname=\"PA_practice_during\",\n",
    "    maj_class = \"practice\",\n",
    "    min_classes = c(\"dont_practice\"),\n",
    "    ycol=match(\"PA_practice_during\",names(before_dataset))\n",
    ")\n",
    "\n",
    "table(treino.aug[, \"PA_practice_during\"])\n"
   ]
  },
  {
   "cell_type": "markdown",
   "metadata": {},
   "source": [
    "## Kappa metric without augmentation"
   ]
  },
  {
   "cell_type": "code",
   "execution_count": 66,
   "metadata": {},
   "outputs": [
    {
     "name": "stdout",
     "output_type": "stream",
     "text": [
      "Confusion Matrix and Statistics\n",
      "\n",
      "               Reference\n",
      "Prediction      dont_practice practice\n",
      "  dont_practice            38       21\n",
      "  practice                 63      245\n",
      "                                          \n",
      "               Accuracy : 0.7711          \n",
      "                 95% CI : (0.7247, 0.8131)\n",
      "    No Information Rate : 0.7248          \n",
      "    P-Value [Acc > NIR] : 0.0253          \n",
      "                                          \n",
      "                  Kappa : 0.3413          \n",
      "                                          \n",
      " Mcnemar's Test P-Value : 7.696e-06       \n",
      "                                          \n",
      "            Sensitivity : 0.3762          \n",
      "            Specificity : 0.9211          \n",
      "         Pos Pred Value : 0.6441          \n",
      "         Neg Pred Value : 0.7955          \n",
      "             Prevalence : 0.2752          \n",
      "         Detection Rate : 0.1035          \n",
      "   Detection Prevalence : 0.1608          \n",
      "      Balanced Accuracy : 0.6486          \n",
      "                                          \n",
      "       'Positive' Class : dont_practice   \n",
      "                                          \n"
     ]
    },
    {
     "data": {
      "image/png": "[encoded data removed]",
      "text/plain": [
       "plot without title"
      ]
     },
     "metadata": {
      "image/png": {
       "height": 420,
       "width": 420
      }
     },
     "output_type": "display_data"
    }
   ],
   "source": [
    "model <- fit_model(\n",
    "    model_method=\"rpart\",\n",
    "    model_metric=\"Kappa\",\n",
    "    trControl_func = trainControl(method = \"cv\"),\n",
    "    train_data = treino,\n",
    "    test_data=teste,\n",
    "    yname=\"PA_practice_during\",\n",
    "    length = 3\n",
    ")\n",
    "print(model$matrix)\n",
    "# print(model$result)\n",
    "rpart.plot(model$result$finalModel, type=1, extra=101)\n",
    "\n"
   ]
  },
  {
   "cell_type": "code",
   "execution_count": 67,
   "metadata": {},
   "outputs": [
    {
     "name": "stdout",
     "output_type": "stream",
     "text": [
      "CART \n",
      "\n",
      "859 samples\n",
      " 84 predictor\n",
      "  2 classes: 'dont_practice', 'practice' \n",
      "\n",
      "No pre-processing\n",
      "Resampling: Cross-Validated (10 fold) \n",
      "Summary of sample sizes: 773, 773, 773, 773, 773, 774, ... \n",
      "Resampling results across tuning parameters:\n",
      "\n",
      "  cp          Accuracy   Kappa    \n",
      "  0.02109705  0.7461643  0.2861515\n",
      "  0.02531646  0.7461643  0.2845634\n",
      "  0.06540084  0.7299788  0.1602493\n",
      "\n",
      "Kappa was used to select the optimal model using the largest value.\n",
      "The final value used for the model was cp = 0.02109705.\n"
     ]
    }
   ],
   "source": [
    "print(model$result)"
   ]
  },
  {
   "cell_type": "markdown",
   "metadata": {},
   "source": [
    "## Kappa metric with augmentation"
   ]
  },
  {
   "cell_type": "code",
   "execution_count": 68,
   "metadata": {},
   "outputs": [
    {
     "name": "stdout",
     "output_type": "stream",
     "text": [
      "Confusion Matrix and Statistics\n",
      "\n",
      "               Reference\n",
      "Prediction      dont_practice practice\n",
      "  dont_practice            56       44\n",
      "  practice                 45      222\n",
      "                                          \n",
      "               Accuracy : 0.7575          \n",
      "                 95% CI : (0.7103, 0.8005)\n",
      "    No Information Rate : 0.7248          \n",
      "    P-Value [Acc > NIR] : 0.08822         \n",
      "                                          \n",
      "                  Kappa : 0.3902          \n",
      "                                          \n",
      " Mcnemar's Test P-Value : 1.00000         \n",
      "                                          \n",
      "            Sensitivity : 0.5545          \n",
      "            Specificity : 0.8346          \n",
      "         Pos Pred Value : 0.5600          \n",
      "         Neg Pred Value : 0.8315          \n",
      "             Prevalence : 0.2752          \n",
      "         Detection Rate : 0.1526          \n",
      "   Detection Prevalence : 0.2725          \n",
      "      Balanced Accuracy : 0.6945          \n",
      "                                          \n",
      "       'Positive' Class : dont_practice   \n",
      "                                          \n"
     ]
    },
    {
     "data": {
      "image/png": "[encoded data removed]",
      "text/plain": [
       "plot without title"
      ]
     },
     "metadata": {
      "image/png": {
       "height": 420,
       "width": 420
      }
     },
     "output_type": "display_data"
    }
   ],
   "source": [
    "model <- fit_model(\n",
    "    model_method=\"rpart\",\n",
    "    model_metric=\"Kappa\",\n",
    "    trControl_func = trainControl(method = \"cv\"),\n",
    "    train_data = treino.aug,\n",
    "    test_data=teste,\n",
    "    yname=\"PA_practice_during\",\n",
    "    length=3\n",
    ")\n",
    "print(model$matrix)\n",
    "rpart.plot(model$result$finalModel, type=1, extra=101)"
   ]
  },
  {
   "cell_type": "code",
   "execution_count": 69,
   "metadata": {},
   "outputs": [
    {
     "name": "stdout",
     "output_type": "stream",
     "text": [
      "CART \n",
      "\n",
      "1244 samples\n",
      "  84 predictor\n",
      "   2 classes: 'dont_practice', 'practice' \n",
      "\n",
      "No pre-processing\n",
      "Resampling: Cross-Validated (10 fold) \n",
      "Summary of sample sizes: 1120, 1120, 1120, 1120, 1120, 1120, ... \n",
      "Resampling results across tuning parameters:\n",
      "\n",
      "  cp          Accuracy   Kappa    \n",
      "  0.03536977  0.7748839  0.5498665\n",
      "  0.10128617  0.7090065  0.4181227\n",
      "  0.34565916  0.5594323  0.1205215\n",
      "\n",
      "Kappa was used to select the optimal model using the largest value.\n",
      "The final value used for the model was cp = 0.03536977.\n"
     ]
    }
   ],
   "source": [
    "print(model$result)"
   ]
  },
  {
   "cell_type": "markdown",
   "metadata": {},
   "source": [
    "## F-beta score without augmentation"
   ]
  },
  {
   "cell_type": "code",
   "execution_count": 70,
   "metadata": {},
   "outputs": [],
   "source": [
    "fbeta <- function (data, lev=NULL, model = NULL){\n",
    "    fb_val <- FBeta_Score(data$obs, data$pred, positive=\"practice\", beta = 0.1)\n",
    "    c(FB = fb_val)\n",
    "}"
   ]
  },
  {
   "cell_type": "code",
   "execution_count": 71,
   "metadata": {},
   "outputs": [
    {
     "name": "stdout",
     "output_type": "stream",
     "text": [
      "Confusion Matrix and Statistics\n",
      "\n",
      "               Reference\n",
      "Prediction      dont_practice practice\n",
      "  dont_practice            38       21\n",
      "  practice                 63      245\n",
      "                                          \n",
      "               Accuracy : 0.7711          \n",
      "                 95% CI : (0.7247, 0.8131)\n",
      "    No Information Rate : 0.7248          \n",
      "    P-Value [Acc > NIR] : 0.0253          \n",
      "                                          \n",
      "                  Kappa : 0.3413          \n",
      "                                          \n",
      " Mcnemar's Test P-Value : 7.696e-06       \n",
      "                                          \n",
      "            Sensitivity : 0.3762          \n",
      "            Specificity : 0.9211          \n",
      "         Pos Pred Value : 0.6441          \n",
      "         Neg Pred Value : 0.7955          \n",
      "             Prevalence : 0.2752          \n",
      "         Detection Rate : 0.1035          \n",
      "   Detection Prevalence : 0.1608          \n",
      "      Balanced Accuracy : 0.6486          \n",
      "                                          \n",
      "       'Positive' Class : dont_practice   \n",
      "                                          \n"
     ]
    },
    {
     "data": {
      "image/png": "[encoded data removed]",
      "text/plain": [
       "plot without title"
      ]
     },
     "metadata": {
      "image/png": {
       "height": 420,
       "width": 420
      }
     },
     "output_type": "display_data"
    }
   ],
   "source": [
    "model <- fit_model(\n",
    "    model_method=\"rpart\",\n",
    "    model_metric=\"FB\",\n",
    "    trControl_func = trainControl(method = \"cv\", summaryFunction=fbeta, classProbs = TRUE),\n",
    "    train_data = treino,\n",
    "    test_data=teste,\n",
    "    yname=\"PA_practice_during\"\n",
    ")\n",
    "print(model$matrix)\n",
    "rpart.plot(model$result$finalModel, type=1, extra=101)"
   ]
  },
  {
   "cell_type": "code",
   "execution_count": 72,
   "metadata": {},
   "outputs": [
    {
     "data": {
      "text/html": [
       "<table class=\"dataframe\">\n",
       "<caption>A data.frame: 20 × 1</caption>\n",
       "<thead>\n",
       "\t<tr><th></th><th scope=col>Overall</th></tr>\n",
       "\t<tr><th></th><th scope=col>&lt;dbl&gt;</th></tr>\n",
       "</thead>\n",
       "<tbody>\n",
       "\t<tr><th scope=row>covid.presented_symptoms_suspicion1</th><td> 2.457483</td></tr>\n",
       "\t<tr><th scope=row>hypertension1</th><td> 2.234082</td></tr>\n",
       "\t<tr><th scope=row>isolation.sleep_quality2</th><td> 2.311031</td></tr>\n",
       "\t<tr><th scope=row>leaving_home_frequency2</th><td>26.440498</td></tr>\n",
       "\t<tr><th scope=row>leaving_home_frequency4</th><td>33.264103</td></tr>\n",
       "\t<tr><th scope=row>PA_duration_before</th><td>39.519487</td></tr>\n",
       "\t<tr><th scope=row>PA_easiness_home_activity_before1</th><td> 2.229903</td></tr>\n",
       "\t<tr><th scope=row>PA_easiness_home_space_before1</th><td> 2.609257</td></tr>\n",
       "\t<tr><th scope=row>PA_intensity_before</th><td>56.099308</td></tr>\n",
       "\t<tr><th scope=row>pa_number_before</th><td>15.683320</td></tr>\n",
       "\t<tr><th scope=row>PA_practice_beforepractice</th><td> 9.437182</td></tr>\n",
       "\t<tr><th scope=row>PA_weekly_frequency_before</th><td>49.141555</td></tr>\n",
       "\t<tr><th scope=row>sex2</th><td> 0.000000</td></tr>\n",
       "\t<tr><th scope=row>age_range</th><td> 0.000000</td></tr>\n",
       "\t<tr><th scope=row>martialStatus2</th><td> 0.000000</td></tr>\n",
       "\t<tr><th scope=row>martialStatus3</th><td> 0.000000</td></tr>\n",
       "\t<tr><th scope=row>martialStatus4</th><td> 0.000000</td></tr>\n",
       "\t<tr><th scope=row>co.resident_range</th><td> 0.000000</td></tr>\n",
       "\t<tr><th scope=row>rooms_range</th><td> 0.000000</td></tr>\n",
       "\t<tr><th scope=row>income_range</th><td> 0.000000</td></tr>\n",
       "</tbody>\n",
       "</table>\n"
      ],
      "text/latex": [
       "A data.frame: 20 × 1\n",
       "\\begin{tabular}{r|l}\n",
       "  & Overall\\\\\n",
       "  & <dbl>\\\\\n",
       "\\hline\n",
       "\tcovid.presented\\_symptoms\\_suspicion1 &  2.457483\\\\\n",
       "\thypertension1 &  2.234082\\\\\n",
       "\tisolation.sleep\\_quality2 &  2.311031\\\\\n",
       "\tleaving\\_home\\_frequency2 & 26.440498\\\\\n",
       "\tleaving\\_home\\_frequency4 & 33.264103\\\\\n",
       "\tPA\\_duration\\_before & 39.519487\\\\\n",
       "\tPA\\_easiness\\_home\\_activity\\_before1 &  2.229903\\\\\n",
       "\tPA\\_easiness\\_home\\_space\\_before1 &  2.609257\\\\\n",
       "\tPA\\_intensity\\_before & 56.099308\\\\\n",
       "\tpa\\_number\\_before & 15.683320\\\\\n",
       "\tPA\\_practice\\_beforepractice &  9.437182\\\\\n",
       "\tPA\\_weekly\\_frequency\\_before & 49.141555\\\\\n",
       "\tsex2 &  0.000000\\\\\n",
       "\tage\\_range &  0.000000\\\\\n",
       "\tmartialStatus2 &  0.000000\\\\\n",
       "\tmartialStatus3 &  0.000000\\\\\n",
       "\tmartialStatus4 &  0.000000\\\\\n",
       "\tco.resident\\_range &  0.000000\\\\\n",
       "\trooms\\_range &  0.000000\\\\\n",
       "\tincome\\_range &  0.000000\\\\\n",
       "\\end{tabular}\n"
      ],
      "text/markdown": [
       "\n",
       "A data.frame: 20 × 1\n",
       "\n",
       "| <!--/--> | Overall &lt;dbl&gt; |\n",
       "|---|---|\n",
       "| covid.presented_symptoms_suspicion1 |  2.457483 |\n",
       "| hypertension1 |  2.234082 |\n",
       "| isolation.sleep_quality2 |  2.311031 |\n",
       "| leaving_home_frequency2 | 26.440498 |\n",
       "| leaving_home_frequency4 | 33.264103 |\n",
       "| PA_duration_before | 39.519487 |\n",
       "| PA_easiness_home_activity_before1 |  2.229903 |\n",
       "| PA_easiness_home_space_before1 |  2.609257 |\n",
       "| PA_intensity_before | 56.099308 |\n",
       "| pa_number_before | 15.683320 |\n",
       "| PA_practice_beforepractice |  9.437182 |\n",
       "| PA_weekly_frequency_before | 49.141555 |\n",
       "| sex2 |  0.000000 |\n",
       "| age_range |  0.000000 |\n",
       "| martialStatus2 |  0.000000 |\n",
       "| martialStatus3 |  0.000000 |\n",
       "| martialStatus4 |  0.000000 |\n",
       "| co.resident_range |  0.000000 |\n",
       "| rooms_range |  0.000000 |\n",
       "| income_range |  0.000000 |\n",
       "\n"
      ],
      "text/plain": [
       "                                    Overall  \n",
       "covid.presented_symptoms_suspicion1  2.457483\n",
       "hypertension1                        2.234082\n",
       "isolation.sleep_quality2             2.311031\n",
       "leaving_home_frequency2             26.440498\n",
       "leaving_home_frequency4             33.264103\n",
       "PA_duration_before                  39.519487\n",
       "PA_easiness_home_activity_before1    2.229903\n",
       "PA_easiness_home_space_before1       2.609257\n",
       "PA_intensity_before                 56.099308\n",
       "pa_number_before                    15.683320\n",
       "PA_practice_beforepractice           9.437182\n",
       "PA_weekly_frequency_before          49.141555\n",
       "sex2                                 0.000000\n",
       "age_range                            0.000000\n",
       "martialStatus2                       0.000000\n",
       "martialStatus3                       0.000000\n",
       "martialStatus4                       0.000000\n",
       "co.resident_range                    0.000000\n",
       "rooms_range                          0.000000\n",
       "income_range                         0.000000"
      ]
     },
     "metadata": {},
     "output_type": "display_data"
    }
   ],
   "source": [
    "gini = varImp(model$result$finalModel)\n",
    "#gini[order(gini)]\n",
    "head(gini, 20)\n",
    "# plot(varImp(model$result$finalModel), main=\"Variables Importance - Decision Tree\") "
   ]
  },
  {
   "cell_type": "markdown",
   "metadata": {},
   "source": [
    "## F-beta score with augmentation"
   ]
  },
  {
   "cell_type": "code",
   "execution_count": 73,
   "metadata": {},
   "outputs": [
    {
     "name": "stderr",
     "output_type": "stream",
     "text": [
      "Warning message in nominalTrainWorkflow(x = x, y = y, wts = weights, info = trainInfo, :\n",
      "\"There were missing values in resampled performance measures.\"\n"
     ]
    },
    {
     "name": "stdout",
     "output_type": "stream",
     "text": [
      "Confusion Matrix and Statistics\n",
      "\n",
      "               Reference\n",
      "Prediction      dont_practice practice\n",
      "  dont_practice            99      161\n",
      "  practice                  2      105\n",
      "                                          \n",
      "               Accuracy : 0.5559          \n",
      "                 95% CI : (0.5034, 0.6074)\n",
      "    No Information Rate : 0.7248          \n",
      "    P-Value [Acc > NIR] : 1               \n",
      "                                          \n",
      "                  Kappa : 0.2519          \n",
      "                                          \n",
      " Mcnemar's Test P-Value : <2e-16          \n",
      "                                          \n",
      "            Sensitivity : 0.9802          \n",
      "            Specificity : 0.3947          \n",
      "         Pos Pred Value : 0.3808          \n",
      "         Neg Pred Value : 0.9813          \n",
      "             Prevalence : 0.2752          \n",
      "         Detection Rate : 0.2698          \n",
      "   Detection Prevalence : 0.7084          \n",
      "      Balanced Accuracy : 0.6875          \n",
      "                                          \n",
      "       'Positive' Class : dont_practice   \n",
      "                                          \n"
     ]
    },
    {
     "data": {
      "image/png": "[encoded data removed]",
      "text/plain": [
       "plot without title"
      ]
     },
     "metadata": {
      "image/png": {
       "height": 420,
       "width": 420
      }
     },
     "output_type": "display_data"
    }
   ],
   "source": [
    "model <- fit_model(\n",
    "    model_method=\"rpart\",\n",
    "    model_metric=\"FB\",\n",
    "    trControl_func = trainControl(method = \"cv\", summaryFunction=fbeta, classProbs = TRUE),\n",
    "    train_data = treino.aug,\n",
    "    test_data=teste,\n",
    "    yname=\"PA_practice_during\"\n",
    ")\n",
    "print(model$matrix)\n",
    "rpart.plot(model$result$finalModel, type=1, extra=101)"
   ]
  },
  {
   "cell_type": "markdown",
   "metadata": {},
   "source": [
    "# Decision tree for people with GAD or depression"
   ]
  },
  {
   "cell_type": "markdown",
   "metadata": {},
   "source": [
    "## Filtering dataset and finding out the majority class\n"
   ]
  },
  {
   "cell_type": "code",
   "execution_count": 74,
   "metadata": {},
   "outputs": [
    {
     "name": "stdout",
     "output_type": "stream",
     "text": [
      "\n",
      "dont_practice      practice \n",
      "           49            97 \n"
     ]
    },
    {
     "data": {
      "text/html": [
       "<style>\n",
       ".list-inline {list-style: none; margin:0; padding: 0}\n",
       ".list-inline>li {display: inline-block}\n",
       ".list-inline>li:not(:last-child)::after {content: \"\\00b7\"; padding: 0 .5ex}\n",
       "</style>\n",
       "<ol class=list-inline><li>146</li><li>83</li></ol>\n"
      ],
      "text/latex": [
       "\\begin{enumerate*}\n",
       "\\item 146\n",
       "\\item 83\n",
       "\\end{enumerate*}\n"
      ],
      "text/markdown": [
       "1. 146\n",
       "2. 83\n",
       "\n",
       "\n"
      ],
      "text/plain": [
       "[1] 146  83"
      ]
     },
     "metadata": {},
     "output_type": "display_data"
    }
   ],
   "source": [
    "before_datase_disorders <- before_dataset[has_GAD_depression, ]\n",
    "before_datase_disorders <- subset(before_datase_disorders, select = -c(GAD, depression))\n",
    "\n",
    "print(table(before_datase_disorders[, \"PA_practice_during\"]))\n",
    "dim(before_datase_disorders)\n",
    "\n"
   ]
  },
  {
   "cell_type": "markdown",
   "metadata": {},
   "source": [
    "## Creating the dataset partition"
   ]
  },
  {
   "cell_type": "code",
   "execution_count": 75,
   "metadata": {},
   "outputs": [],
   "source": [
    "set.seed(2)\n",
    "lista_treino <- createDataPartition(before_datase_disorders$PA_practice_during, p=0.7, list=FALSE)\n",
    "treino <- before_datase_disorders[lista_treino,]\n",
    "teste <- before_datase_disorders[-lista_treino,]\n",
    "\n"
   ]
  },
  {
   "cell_type": "markdown",
   "metadata": {},
   "source": [
    "## Applying augmentation into the training set"
   ]
  },
  {
   "cell_type": "code",
   "execution_count": 76,
   "metadata": {},
   "outputs": [
    {
     "data": {
      "text/plain": [
       "\n",
       "dont_practice      practice \n",
       "           68            68 "
      ]
     },
     "metadata": {},
     "output_type": "display_data"
    }
   ],
   "source": [
    "treino.aug <- data_augmentation(\n",
    "    train_data=treino,\n",
    "    yname=\"PA_practice_during\",\n",
    "    maj_class = \"practice\",\n",
    "    min_classes = c(\"dont_practice\"),\n",
    "    ycol=match(\"PA_practice_during\",names(before_datase_disorders))\n",
    ")\n",
    "\n",
    "table(treino.aug[, \"PA_practice_during\"])\n"
   ]
  },
  {
   "cell_type": "markdown",
   "metadata": {},
   "source": [
    "## Kappa metric without augmentation"
   ]
  },
  {
   "cell_type": "code",
   "execution_count": 77,
   "metadata": {},
   "outputs": [
    {
     "name": "stdout",
     "output_type": "stream",
     "text": [
      "Confusion Matrix and Statistics\n",
      "\n",
      "               Reference\n",
      "Prediction      dont_practice practice\n",
      "  dont_practice             4        6\n",
      "  practice                 10       23\n",
      "                                          \n",
      "               Accuracy : 0.6279          \n",
      "                 95% CI : (0.4673, 0.7702)\n",
      "    No Information Rate : 0.6744          \n",
      "    P-Value [Acc > NIR] : 0.7938          \n",
      "                                          \n",
      "                  Kappa : 0.0851          \n",
      "                                          \n",
      " Mcnemar's Test P-Value : 0.4533          \n",
      "                                          \n",
      "            Sensitivity : 0.28571         \n",
      "            Specificity : 0.79310         \n",
      "         Pos Pred Value : 0.40000         \n",
      "         Neg Pred Value : 0.69697         \n",
      "             Prevalence : 0.32558         \n",
      "         Detection Rate : 0.09302         \n",
      "   Detection Prevalence : 0.23256         \n",
      "      Balanced Accuracy : 0.53941         \n",
      "                                          \n",
      "       'Positive' Class : dont_practice   \n",
      "                                          \n"
     ]
    },
    {
     "data": {
      "image/png": "[encoded data removed]",
      "text/plain": [
       "plot without title"
      ]
     },
     "metadata": {
      "image/png": {
       "height": 420,
       "width": 420
      }
     },
     "output_type": "display_data"
    }
   ],
   "source": [
    "model <- fit_model(\n",
    "    model_method=\"rpart\",\n",
    "    model_metric=\"Kappa\",\n",
    "    trControl_func = trainControl(method = \"cv\"),\n",
    "    train_data = treino,\n",
    "    test_data=teste,\n",
    "    yname=\"PA_practice_during\",\n",
    "    length = 3\n",
    ")\n",
    "print(model$matrix)\n",
    "# print(model$result)\n",
    "rpart.plot(model$result$finalModel)\n",
    "\n"
   ]
  },
  {
   "cell_type": "markdown",
   "metadata": {},
   "source": [
    "## Kappa metric with augmentation"
   ]
  },
  {
   "cell_type": "code",
   "execution_count": 78,
   "metadata": {},
   "outputs": [
    {
     "name": "stdout",
     "output_type": "stream",
     "text": [
      "Confusion Matrix and Statistics\n",
      "\n",
      "               Reference\n",
      "Prediction      dont_practice practice\n",
      "  dont_practice            10       13\n",
      "  practice                  4       16\n",
      "                                          \n",
      "               Accuracy : 0.6047          \n",
      "                 95% CI : (0.4441, 0.7502)\n",
      "    No Information Rate : 0.6744          \n",
      "    P-Value [Acc > NIR] : 0.87178         \n",
      "                                          \n",
      "                  Kappa : 0.2281          \n",
      "                                          \n",
      " Mcnemar's Test P-Value : 0.05235         \n",
      "                                          \n",
      "            Sensitivity : 0.7143          \n",
      "            Specificity : 0.5517          \n",
      "         Pos Pred Value : 0.4348          \n",
      "         Neg Pred Value : 0.8000          \n",
      "             Prevalence : 0.3256          \n",
      "         Detection Rate : 0.2326          \n",
      "   Detection Prevalence : 0.5349          \n",
      "      Balanced Accuracy : 0.6330          \n",
      "                                          \n",
      "       'Positive' Class : dont_practice   \n",
      "                                          \n"
     ]
    },
    {
     "data": {
      "image/png": "[encoded data removed]",
      "text/plain": [
       "plot without title"
      ]
     },
     "metadata": {
      "image/png": {
       "height": 420,
       "width": 420
      }
     },
     "output_type": "display_data"
    }
   ],
   "source": [
    "model <- fit_model(\n",
    "    model_method=\"rpart\",\n",
    "    model_metric=\"Kappa\",\n",
    "    trControl_func = trainControl(method = \"boot\"),\n",
    "    train_data = treino.aug,\n",
    "    test_data=teste,\n",
    "    yname=\"PA_practice_during\",\n",
    "    length=3\n",
    ")\n",
    "print(model$matrix)\n",
    "rpart.plot(model$result$finalModel)"
   ]
  }
 ],
 "metadata": {
  "kernelspec": {
   "display_name": "R",
   "language": "R",
   "name": "ir"
  },
  "language_info": {
   "codemirror_mode": "r",
   "file_extension": ".r",
   "mimetype": "text/x-r-source",
   "name": "R",
   "pygments_lexer": "r",
   "version": "4.1.1"
  },
  "orig_nbformat": 4
 },
 "nbformat": 4,
 "nbformat_minor": 2
}
