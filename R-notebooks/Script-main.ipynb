{
 "cells": [
  {
   "cell_type": "markdown",
   "metadata": {},
   "source": [
    "# Importing and Loading packages\n",
    "\n",
    "### First, we need to install the package \"here\" so that we can call all mudules without thinking about path. \n",
    "\n",
    "### Then, we can load and install the rest of the packages from the file module.R \n"
   ]
  },
  {
   "cell_type": "code",
   "execution_count": 3,
   "metadata": {},
   "outputs": [
    {
     "name": "stderr",
     "output_type": "stream",
     "text": [
      "Warning message:\n",
      "\"package 'here' was built under R version 4.1.1\"\n",
      "here() starts at C:/Users/maria/Desktop/Programacao/IC/projetos/Barreiras-e-Facilitadores\n",
      "\n",
      "Warning message:\n",
      "\"package 'ggplot2' was built under R version 4.1.1\"\n",
      "Warning message:\n",
      "\"package 'cowplot' was built under R version 4.1.1\"\n",
      "Warning message:\n",
      "\"package 'randomForest' was built under R version 4.1.1\"\n",
      "randomForest 4.6-14\n",
      "\n",
      "Type rfNews() to see new features/changes/bug fixes.\n",
      "\n",
      "\n",
      "Attaching package: 'randomForest'\n",
      "\n",
      "\n",
      "The following object is masked from 'package:ggplot2':\n",
      "\n",
      "    margin\n",
      "\n",
      "\n",
      "Warning message:\n",
      "\"package 'caret' was built under R version 4.1.1\"\n",
      "Carregando pacotes exigidos: lattice\n",
      "\n",
      "Warning message:\n",
      "\"package 'lattice' was built under R version 4.1.1\"\n",
      "Warning message:\n",
      "\"package 'rpart.plot' was built under R version 4.1.1\"\n",
      "Carregando pacotes exigidos: rpart\n",
      "\n",
      "Warning message:\n",
      "\"package 'readxl' was built under R version 4.1.1\"\n",
      "Warning message:\n",
      "\"package 'e1071' was built under R version 4.1.1\"\n",
      "Warning message:\n",
      "\"package 'AugmenterR' was built under R version 4.1.1\"\n",
      "Warning message:\n",
      "\"package 'smotefamily' was built under R version 4.1.1\"\n",
      "Warning message:\n",
      "\"package 'ROSE' was built under R version 4.1.1\"\n",
      "Loaded ROSE 0.0-4\n",
      "\n",
      "\n",
      "Warning message:\n",
      "\"package 'xgboost' was built under R version 4.1.1\"\n",
      "Warning message:\n",
      "\"package 'ROCR' was built under R version 4.1.1\"\n",
      "Warning message:\n",
      "\"package 'MASS' was built under R version 4.1.1\"\n",
      "\n",
      "Attaching package: 'MASS'\n",
      "\n",
      "\n",
      "The following object is masked _by_ '.GlobalEnv':\n",
      "\n",
      "    fbeta\n",
      "\n",
      "\n",
      "Warning message:\n",
      "\"package 'DescTools' was built under R version 4.1.1\"\n",
      "\n",
      "Attaching package: 'DescTools'\n",
      "\n",
      "\n",
      "The following objects are masked from 'package:caret':\n",
      "\n",
      "    MAE, RMSE\n",
      "\n",
      "\n",
      "Warning message:\n",
      "\"package 'dplyr' was built under R version 4.1.1\"\n",
      "\n",
      "Attaching package: 'dplyr'\n",
      "\n",
      "\n",
      "The following object is masked from 'package:MASS':\n",
      "\n",
      "    select\n",
      "\n",
      "\n",
      "The following object is masked from 'package:xgboost':\n",
      "\n",
      "    slice\n",
      "\n",
      "\n",
      "The following object is masked from 'package:randomForest':\n",
      "\n",
      "    combine\n",
      "\n",
      "\n",
      "The following objects are masked from 'package:stats':\n",
      "\n",
      "    filter, lag\n",
      "\n",
      "\n",
      "The following objects are masked from 'package:base':\n",
      "\n",
      "    intersect, setdiff, setequal, union\n",
      "\n",
      "\n",
      "\n",
      "Attaching package: 'kernlab'\n",
      "\n",
      "\n",
      "The following object is masked from 'package:ggplot2':\n",
      "\n",
      "    alpha\n",
      "\n",
      "\n",
      "Warning message:\n",
      "\"package 'fastAdaboost' was built under R version 4.1.1\"\n",
      "Warning message:\n",
      "\"package 'DataExplorer' was built under R version 4.1.1\"\n",
      "dummies-1.5.6 provided by Decision Patterns\n",
      "\n",
      "\n",
      "Warning message:\n",
      "\"package 'mlbench' was built under R version 4.1.1\"\n",
      "Warning message:\n",
      "\"package 'h2o' was built under R version 4.1.1\"\n",
      "\n",
      "----------------------------------------------------------------------\n",
      "\n",
      "Your next step is to start H2O:\n",
      "    > h2o.init()\n",
      "\n",
      "For H2O package documentation, ask for help:\n",
      "    > ??h2o\n",
      "\n",
      "After starting H2O, you can use the Web UI at http://localhost:54321\n",
      "For more information visit https://docs.h2o.ai\n",
      "\n",
      "----------------------------------------------------------------------\n",
      "\n",
      "\n",
      "\n",
      "Attaching package: 'h2o'\n",
      "\n",
      "\n",
      "The following objects are masked from 'package:stats':\n",
      "\n",
      "    cor, sd, var\n",
      "\n",
      "\n",
      "The following objects are masked from 'package:base':\n",
      "\n",
      "    %*%, %in%, &&, ||, apply, as.factor, as.numeric, colnames,\n",
      "    colnames<-, ifelse, is.character, is.factor, is.numeric, log,\n",
      "    log10, log1p, log2, round, signif, trunc\n",
      "\n",
      "\n",
      "Warning message:\n",
      "\"package 'rattle' was built under R version 4.1.1\"\n",
      "Carregando pacotes exigidos: tibble\n",
      "\n",
      "Carregando pacotes exigidos: bitops\n",
      "\n",
      "\n",
      "Attaching package: 'bitops'\n",
      "\n",
      "\n",
      "The following object is masked from 'package:DescTools':\n",
      "\n",
      "    %^%\n",
      "\n",
      "\n",
      "Rattle: A free graphical interface for data science with R.\n",
      "Version 5.4.0 Copyright (c) 2006-2020 Togaware Pty Ltd.\n",
      "Type 'rattle()' to shake, rattle, and roll your data.\n",
      "\n",
      "\n",
      "Attaching package: 'rattle'\n",
      "\n",
      "\n",
      "The following object is masked from 'package:xgboost':\n",
      "\n",
      "    xgboost\n",
      "\n",
      "\n",
      "The following object is masked from 'package:randomForest':\n",
      "\n",
      "    importance\n",
      "\n",
      "\n",
      "Warning message:\n",
      "\"package 'MLmetrics' was built under R version 4.1.1\"\n",
      "\n",
      "Attaching package: 'MLmetrics'\n",
      "\n",
      "\n",
      "The following objects are masked from 'package:DescTools':\n",
      "\n",
      "    AUC, Gini, MAE, MAPE, MSE, RMSE\n",
      "\n",
      "\n",
      "The following objects are masked from 'package:caret':\n",
      "\n",
      "    MAE, RMSE\n",
      "\n",
      "\n",
      "The following object is masked from 'package:base':\n",
      "\n",
      "    Recall\n",
      "\n",
      "\n",
      "Warning message:\n",
      "\"package 'ggfortify' was built under R version 4.1.1\"\n",
      "Warning message:\n",
      "\"package 'Rtsne' was built under R version 4.1.1\"\n"
     ]
    },
    {
     "data": {
      "text/html": [
       "<ol>\n",
       "\t<li>TRUE</li>\n",
       "\t<li>TRUE</li>\n",
       "\t<li>TRUE</li>\n",
       "\t<li>TRUE</li>\n",
       "\t<li>TRUE</li>\n",
       "\t<li>TRUE</li>\n",
       "\t<li>TRUE</li>\n",
       "\t<li>TRUE</li>\n",
       "\t<li>TRUE</li>\n",
       "\t<li>TRUE</li>\n",
       "\t<li>TRUE</li>\n",
       "\t<li>TRUE</li>\n",
       "\t<li>TRUE</li>\n",
       "\t<li>TRUE</li>\n",
       "\t<li>TRUE</li>\n",
       "\t<li>TRUE</li>\n",
       "\t<li>TRUE</li>\n",
       "\t<li>TRUE</li>\n",
       "\t<li>TRUE</li>\n",
       "\t<li>TRUE</li>\n",
       "\t<li>TRUE</li>\n",
       "\t<li>TRUE</li>\n",
       "\t<li>TRUE</li>\n",
       "\t<li>TRUE</li>\n",
       "\t<li>TRUE</li>\n",
       "\t<li>TRUE</li>\n",
       "\t<li>TRUE</li>\n",
       "\t<li>TRUE</li>\n",
       "</ol>\n"
      ],
      "text/latex": [
       "\\begin{enumerate}\n",
       "\\item TRUE\n",
       "\\item TRUE\n",
       "\\item TRUE\n",
       "\\item TRUE\n",
       "\\item TRUE\n",
       "\\item TRUE\n",
       "\\item TRUE\n",
       "\\item TRUE\n",
       "\\item TRUE\n",
       "\\item TRUE\n",
       "\\item TRUE\n",
       "\\item TRUE\n",
       "\\item TRUE\n",
       "\\item TRUE\n",
       "\\item TRUE\n",
       "\\item TRUE\n",
       "\\item TRUE\n",
       "\\item TRUE\n",
       "\\item TRUE\n",
       "\\item TRUE\n",
       "\\item TRUE\n",
       "\\item TRUE\n",
       "\\item TRUE\n",
       "\\item TRUE\n",
       "\\item TRUE\n",
       "\\item TRUE\n",
       "\\item TRUE\n",
       "\\item TRUE\n",
       "\\end{enumerate}\n"
      ],
      "text/markdown": [
       "1. TRUE\n",
       "2. TRUE\n",
       "3. TRUE\n",
       "4. TRUE\n",
       "5. TRUE\n",
       "6. TRUE\n",
       "7. TRUE\n",
       "8. TRUE\n",
       "9. TRUE\n",
       "10. TRUE\n",
       "11. TRUE\n",
       "12. TRUE\n",
       "13. TRUE\n",
       "14. TRUE\n",
       "15. TRUE\n",
       "16. TRUE\n",
       "17. TRUE\n",
       "18. TRUE\n",
       "19. TRUE\n",
       "20. TRUE\n",
       "21. TRUE\n",
       "22. TRUE\n",
       "23. TRUE\n",
       "24. TRUE\n",
       "25. TRUE\n",
       "26. TRUE\n",
       "27. TRUE\n",
       "28. TRUE\n",
       "\n",
       "\n"
      ],
      "text/plain": [
       "[[1]]\n",
       "[1] TRUE\n",
       "\n",
       "[[2]]\n",
       "[1] TRUE\n",
       "\n",
       "[[3]]\n",
       "[1] TRUE\n",
       "\n",
       "[[4]]\n",
       "[1] TRUE\n",
       "\n",
       "[[5]]\n",
       "[1] TRUE\n",
       "\n",
       "[[6]]\n",
       "[1] TRUE\n",
       "\n",
       "[[7]]\n",
       "[1] TRUE\n",
       "\n",
       "[[8]]\n",
       "[1] TRUE\n",
       "\n",
       "[[9]]\n",
       "[1] TRUE\n",
       "\n",
       "[[10]]\n",
       "[1] TRUE\n",
       "\n",
       "[[11]]\n",
       "[1] TRUE\n",
       "\n",
       "[[12]]\n",
       "[1] TRUE\n",
       "\n",
       "[[13]]\n",
       "[1] TRUE\n",
       "\n",
       "[[14]]\n",
       "[1] TRUE\n",
       "\n",
       "[[15]]\n",
       "[1] TRUE\n",
       "\n",
       "[[16]]\n",
       "[1] TRUE\n",
       "\n",
       "[[17]]\n",
       "[1] TRUE\n",
       "\n",
       "[[18]]\n",
       "[1] TRUE\n",
       "\n",
       "[[19]]\n",
       "[1] TRUE\n",
       "\n",
       "[[20]]\n",
       "[1] TRUE\n",
       "\n",
       "[[21]]\n",
       "[1] TRUE\n",
       "\n",
       "[[22]]\n",
       "[1] TRUE\n",
       "\n",
       "[[23]]\n",
       "[1] TRUE\n",
       "\n",
       "[[24]]\n",
       "[1] TRUE\n",
       "\n",
       "[[25]]\n",
       "[1] TRUE\n",
       "\n",
       "[[26]]\n",
       "[1] TRUE\n",
       "\n",
       "[[27]]\n",
       "[1] TRUE\n",
       "\n",
       "[[28]]\n",
       "[1] TRUE\n"
      ]
     },
     "metadata": {},
     "output_type": "display_data"
    }
   ],
   "source": [
    "#install.packages(\"here\")\n",
    "library(here, help, pos = 2, lib.loc = NULL)\n",
    "source(here('Modules','modules.R'))\n",
    "#install_all_packages()\n",
    "load_library_packages()"
   ]
  },
  {
   "cell_type": "markdown",
   "metadata": {},
   "source": [
    "# Importing and Exploring the Dataset"
   ]
  },
  {
   "cell_type": "code",
   "execution_count": 4,
   "metadata": {},
   "outputs": [
    {
     "data": {
      "text/html": [
       "<style>\n",
       ".list-inline {list-style: none; margin:0; padding: 0}\n",
       ".list-inline>li {display: inline-block}\n",
       ".list-inline>li:not(:last-child)::after {content: \"\\00b7\"; padding: 0 .5ex}\n",
       "</style>\n",
       "<ol class=list-inline><li>1255</li><li>77</li></ol>\n"
      ],
      "text/latex": [
       "\\begin{enumerate*}\n",
       "\\item 1255\n",
       "\\item 77\n",
       "\\end{enumerate*}\n"
      ],
      "text/markdown": [
       "1. 1255\n",
       "2. 77\n",
       "\n",
       "\n"
      ],
      "text/plain": [
       "[1] 1255   77"
      ]
     },
     "metadata": {},
     "output_type": "display_data"
    },
    {
     "data": {
      "text/html": [
       "'numeric'"
      ],
      "text/latex": [
       "'numeric'"
      ],
      "text/markdown": [
       "'numeric'"
      ],
      "text/plain": [
       "[1] \"numeric\""
      ]
     },
     "metadata": {},
     "output_type": "display_data"
    },
    {
     "data": {
      "text/html": [
       "<table class=\"dataframe\">\n",
       "<caption>A data.frame: 6 × 77</caption>\n",
       "<thead>\n",
       "\t<tr><th></th><th scope=col>sex</th><th scope=col>age_range</th><th scope=col>martialStatus</th><th scope=col>state</th><th scope=col>zone</th><th scope=col>co.resident_range</th><th scope=col>rooms_range</th><th scope=col>income_range</th><th scope=col>scholarity</th><th scope=col>diabetes</th><th scope=col>...</th><th scope=col>PA_easiness_others_before</th><th scope=col>PA_barriers_before_time_family_responsabilities</th><th scope=col>PA_barriers_before_tiredness</th><th scope=col>PA_barriers_before_location_distance</th><th scope=col>PA_barriers_before_money</th><th scope=col>PA_barriers_before_time_convenience</th><th scope=col>PA_barriers_before_hard_task</th><th scope=col>PA_barriers_before_interest</th><th scope=col>PA_barriers_before_none</th><th scope=col>PA_practice_during</th></tr>\n",
       "\t<tr><th></th><th scope=col>&lt;dbl&gt;</th><th scope=col>&lt;dbl&gt;</th><th scope=col>&lt;dbl&gt;</th><th scope=col>&lt;dbl&gt;</th><th scope=col>&lt;dbl&gt;</th><th scope=col>&lt;dbl&gt;</th><th scope=col>&lt;dbl&gt;</th><th scope=col>&lt;dbl&gt;</th><th scope=col>&lt;dbl&gt;</th><th scope=col>&lt;dbl&gt;</th><th scope=col>...</th><th scope=col>&lt;dbl&gt;</th><th scope=col>&lt;dbl&gt;</th><th scope=col>&lt;dbl&gt;</th><th scope=col>&lt;dbl&gt;</th><th scope=col>&lt;dbl&gt;</th><th scope=col>&lt;dbl&gt;</th><th scope=col>&lt;dbl&gt;</th><th scope=col>&lt;dbl&gt;</th><th scope=col>&lt;dbl&gt;</th><th scope=col>&lt;dbl&gt;</th></tr>\n",
       "</thead>\n",
       "<tbody>\n",
       "\t<tr><th scope=row>1</th><td>1</td><td>2</td><td>1</td><td>25</td><td>2</td><td>1</td><td>1</td><td>4</td><td>4</td><td>0</td><td>...</td><td>0</td><td>0</td><td>0</td><td>0</td><td>0</td><td>1</td><td>0</td><td>0</td><td>0</td><td>1</td></tr>\n",
       "\t<tr><th scope=row>2</th><td>2</td><td>3</td><td>1</td><td>21</td><td>1</td><td>2</td><td>3</td><td>6</td><td>4</td><td>0</td><td>...</td><td>0</td><td>0</td><td>1</td><td>0</td><td>0</td><td>0</td><td>0</td><td>0</td><td>0</td><td>0</td></tr>\n",
       "\t<tr><th scope=row>3</th><td>1</td><td>3</td><td>1</td><td>21</td><td>1</td><td>2</td><td>2</td><td>5</td><td>3</td><td>0</td><td>...</td><td>0</td><td>0</td><td>0</td><td>0</td><td>1</td><td>0</td><td>0</td><td>0</td><td>0</td><td>0</td></tr>\n",
       "\t<tr><th scope=row>4</th><td>1</td><td>3</td><td>1</td><td>21</td><td>1</td><td>1</td><td>1</td><td>3</td><td>4</td><td>0</td><td>...</td><td>0</td><td>0</td><td>0</td><td>0</td><td>0</td><td>1</td><td>0</td><td>0</td><td>0</td><td>0</td></tr>\n",
       "\t<tr><th scope=row>5</th><td>1</td><td>2</td><td>2</td><td>25</td><td>2</td><td>2</td><td>2</td><td>6</td><td>4</td><td>0</td><td>...</td><td>0</td><td>1</td><td>0</td><td>0</td><td>0</td><td>0</td><td>0</td><td>0</td><td>0</td><td>0</td></tr>\n",
       "\t<tr><th scope=row>6</th><td>2</td><td>3</td><td>2</td><td>21</td><td>1</td><td>2</td><td>2</td><td>6</td><td>6</td><td>0</td><td>...</td><td>0</td><td>1</td><td>0</td><td>0</td><td>0</td><td>0</td><td>0</td><td>0</td><td>0</td><td>0</td></tr>\n",
       "</tbody>\n",
       "</table>\n"
      ],
      "text/latex": [
       "A data.frame: 6 × 77\n",
       "\\begin{tabular}{r|lllllllllllllllllllll}\n",
       "  & sex & age\\_range & martialStatus & state & zone & co.resident\\_range & rooms\\_range & income\\_range & scholarity & diabetes & ... & PA\\_easiness\\_others\\_before & PA\\_barriers\\_before\\_time\\_family\\_responsabilities & PA\\_barriers\\_before\\_tiredness & PA\\_barriers\\_before\\_location\\_distance & PA\\_barriers\\_before\\_money & PA\\_barriers\\_before\\_time\\_convenience & PA\\_barriers\\_before\\_hard\\_task & PA\\_barriers\\_before\\_interest & PA\\_barriers\\_before\\_none & PA\\_practice\\_during\\\\\n",
       "  & <dbl> & <dbl> & <dbl> & <dbl> & <dbl> & <dbl> & <dbl> & <dbl> & <dbl> & <dbl> & ... & <dbl> & <dbl> & <dbl> & <dbl> & <dbl> & <dbl> & <dbl> & <dbl> & <dbl> & <dbl>\\\\\n",
       "\\hline\n",
       "\t1 & 1 & 2 & 1 & 25 & 2 & 1 & 1 & 4 & 4 & 0 & ... & 0 & 0 & 0 & 0 & 0 & 1 & 0 & 0 & 0 & 1\\\\\n",
       "\t2 & 2 & 3 & 1 & 21 & 1 & 2 & 3 & 6 & 4 & 0 & ... & 0 & 0 & 1 & 0 & 0 & 0 & 0 & 0 & 0 & 0\\\\\n",
       "\t3 & 1 & 3 & 1 & 21 & 1 & 2 & 2 & 5 & 3 & 0 & ... & 0 & 0 & 0 & 0 & 1 & 0 & 0 & 0 & 0 & 0\\\\\n",
       "\t4 & 1 & 3 & 1 & 21 & 1 & 1 & 1 & 3 & 4 & 0 & ... & 0 & 0 & 0 & 0 & 0 & 1 & 0 & 0 & 0 & 0\\\\\n",
       "\t5 & 1 & 2 & 2 & 25 & 2 & 2 & 2 & 6 & 4 & 0 & ... & 0 & 1 & 0 & 0 & 0 & 0 & 0 & 0 & 0 & 0\\\\\n",
       "\t6 & 2 & 3 & 2 & 21 & 1 & 2 & 2 & 6 & 6 & 0 & ... & 0 & 1 & 0 & 0 & 0 & 0 & 0 & 0 & 0 & 0\\\\\n",
       "\\end{tabular}\n"
      ],
      "text/markdown": [
       "\n",
       "A data.frame: 6 × 77\n",
       "\n",
       "| <!--/--> | sex &lt;dbl&gt; | age_range &lt;dbl&gt; | martialStatus &lt;dbl&gt; | state &lt;dbl&gt; | zone &lt;dbl&gt; | co.resident_range &lt;dbl&gt; | rooms_range &lt;dbl&gt; | income_range &lt;dbl&gt; | scholarity &lt;dbl&gt; | diabetes &lt;dbl&gt; | ... ... | PA_easiness_others_before &lt;dbl&gt; | PA_barriers_before_time_family_responsabilities &lt;dbl&gt; | PA_barriers_before_tiredness &lt;dbl&gt; | PA_barriers_before_location_distance &lt;dbl&gt; | PA_barriers_before_money &lt;dbl&gt; | PA_barriers_before_time_convenience &lt;dbl&gt; | PA_barriers_before_hard_task &lt;dbl&gt; | PA_barriers_before_interest &lt;dbl&gt; | PA_barriers_before_none &lt;dbl&gt; | PA_practice_during &lt;dbl&gt; |\n",
       "|---|---|---|---|---|---|---|---|---|---|---|---|---|---|---|---|---|---|---|---|---|---|\n",
       "| 1 | 1 | 2 | 1 | 25 | 2 | 1 | 1 | 4 | 4 | 0 | ... | 0 | 0 | 0 | 0 | 0 | 1 | 0 | 0 | 0 | 1 |\n",
       "| 2 | 2 | 3 | 1 | 21 | 1 | 2 | 3 | 6 | 4 | 0 | ... | 0 | 0 | 1 | 0 | 0 | 0 | 0 | 0 | 0 | 0 |\n",
       "| 3 | 1 | 3 | 1 | 21 | 1 | 2 | 2 | 5 | 3 | 0 | ... | 0 | 0 | 0 | 0 | 1 | 0 | 0 | 0 | 0 | 0 |\n",
       "| 4 | 1 | 3 | 1 | 21 | 1 | 1 | 1 | 3 | 4 | 0 | ... | 0 | 0 | 0 | 0 | 0 | 1 | 0 | 0 | 0 | 0 |\n",
       "| 5 | 1 | 2 | 2 | 25 | 2 | 2 | 2 | 6 | 4 | 0 | ... | 0 | 1 | 0 | 0 | 0 | 0 | 0 | 0 | 0 | 0 |\n",
       "| 6 | 2 | 3 | 2 | 21 | 1 | 2 | 2 | 6 | 6 | 0 | ... | 0 | 1 | 0 | 0 | 0 | 0 | 0 | 0 | 0 | 0 |\n",
       "\n"
      ],
      "text/plain": [
       "  sex age_range martialStatus state zone co.resident_range rooms_range\n",
       "1 1   2         1             25    2    1                 1          \n",
       "2 2   3         1             21    1    2                 3          \n",
       "3 1   3         1             21    1    2                 2          \n",
       "4 1   3         1             21    1    1                 1          \n",
       "5 1   2         2             25    2    2                 2          \n",
       "6 2   3         2             21    1    2                 2          \n",
       "  income_range scholarity diabetes ... PA_easiness_others_before\n",
       "1 4            4          0        ... 0                        \n",
       "2 6            4          0        ... 0                        \n",
       "3 5            3          0        ... 0                        \n",
       "4 3            4          0        ... 0                        \n",
       "5 6            4          0        ... 0                        \n",
       "6 6            6          0        ... 0                        \n",
       "  PA_barriers_before_time_family_responsabilities PA_barriers_before_tiredness\n",
       "1 0                                               0                           \n",
       "2 0                                               1                           \n",
       "3 0                                               0                           \n",
       "4 0                                               0                           \n",
       "5 1                                               0                           \n",
       "6 1                                               0                           \n",
       "  PA_barriers_before_location_distance PA_barriers_before_money\n",
       "1 0                                    0                       \n",
       "2 0                                    0                       \n",
       "3 0                                    1                       \n",
       "4 0                                    0                       \n",
       "5 0                                    0                       \n",
       "6 0                                    0                       \n",
       "  PA_barriers_before_time_convenience PA_barriers_before_hard_task\n",
       "1 1                                   0                           \n",
       "2 0                                   0                           \n",
       "3 0                                   0                           \n",
       "4 1                                   0                           \n",
       "5 0                                   0                           \n",
       "6 0                                   0                           \n",
       "  PA_barriers_before_interest PA_barriers_before_none PA_practice_during\n",
       "1 0                           0                       1                 \n",
       "2 0                           0                       0                 \n",
       "3 0                           0                       0                 \n",
       "4 0                           0                       0                 \n",
       "5 0                           0                       0                 \n",
       "6 0                           0                       0                 "
      ]
     },
     "metadata": {},
     "output_type": "display_data"
    }
   ],
   "source": [
    "before_dataset <- read_excel(path = here('Data','before_pa.xlsx'))\n",
    "before_dataset <- data.frame(before_dataset)\n",
    "dim(before_dataset)\n",
    "unique(sapply(before_dataset, class))\n",
    "head(before_dataset)\n"
   ]
  },
  {
   "cell_type": "markdown",
   "metadata": {},
   "source": [
    "# Adding new Columns"
   ]
  },
  {
   "cell_type": "code",
   "execution_count": 5,
   "metadata": {},
   "outputs": [],
   "source": [
    "sports = c('running_before','hiking_before','cycling_before','muscle_training_before',\n",
    "'soccer_before','tennis_before','volleyball_before','basketball_before',\n",
    "'swimming_before','surfing_before','yoga_before','pilates_before',\n",
    "'fighting_before','other_sports_before')\n",
    "    \n",
    "before_dataset[, \"pa_number_before\"] = rowSums(before_dataset[, sports])"
   ]
  },
  {
   "cell_type": "markdown",
   "metadata": {},
   "source": [
    "# Treating missing data\n",
    "\n",
    "### As the dataset had little missing data, we chose to omit them"
   ]
  },
  {
   "cell_type": "code",
   "execution_count": 6,
   "metadata": {},
   "outputs": [
    {
     "data": {
      "text/html": [
       "<style>\n",
       ".list-inline {list-style: none; margin:0; padding: 0}\n",
       ".list-inline>li {display: inline-block}\n",
       ".list-inline>li:not(:last-child)::after {content: \"\\00b7\"; padding: 0 .5ex}\n",
       "</style>\n",
       "<ol class=list-inline><li>1242</li><li>78</li></ol>\n"
      ],
      "text/latex": [
       "\\begin{enumerate*}\n",
       "\\item 1242\n",
       "\\item 78\n",
       "\\end{enumerate*}\n"
      ],
      "text/markdown": [
       "1. 1242\n",
       "2. 78\n",
       "\n",
       "\n"
      ],
      "text/plain": [
       "[1] 1242   78"
      ]
     },
     "metadata": {},
     "output_type": "display_data"
    }
   ],
   "source": [
    "before_dataset <- before_dataset[complete.cases(before_dataset), ]\n",
    "dim(before_dataset)\n"
   ]
  },
  {
   "cell_type": "markdown",
   "metadata": {},
   "source": [
    "# Treating variables type"
   ]
  },
  {
   "cell_type": "code",
   "execution_count": 7,
   "metadata": {},
   "outputs": [],
   "source": [
    "before_dataset$PA_practice_before[before_dataset$PA_practice_before == 0] <- \"practice\"\n",
    "before_dataset$PA_practice_before[before_dataset$PA_practice_before == 1] <- \"dont_practice\"\n",
    "before_dataset$PA_practice_during[before_dataset$PA_practice_during == 0] <- \"practice\"\n",
    "before_dataset$PA_practice_during[before_dataset$PA_practice_during == 1] <- \"dont_practice\"\n",
    "\n",
    "before_dataset$PA_intensity_before[before_dataset$PA_intensity_before == 4] <- 0\n",
    "before_dataset$PA_duration_before[before_dataset$PA_duration_before == 5] <- 0\n"
   ]
  },
  {
   "cell_type": "code",
   "execution_count": 8,
   "metadata": {},
   "outputs": [
    {
     "data": {
      "text/html": [
       "TRUE"
      ],
      "text/latex": [
       "TRUE"
      ],
      "text/markdown": [
       "TRUE"
      ],
      "text/plain": [
       "[1] TRUE"
      ]
     },
     "metadata": {},
     "output_type": "display_data"
    },
    {
     "data": {
      "text/html": [
       "<table class=\"dataframe\">\n",
       "<caption>A data.frame: 6 × 10</caption>\n",
       "<thead>\n",
       "\t<tr><th></th><th scope=col>age_range</th><th scope=col>rooms_range</th><th scope=col>income_range</th><th scope=col>scholarity</th><th scope=col>sedentary_time_range_before</th><th scope=col>co.resident_range</th><th scope=col>PA_weekly_frequency_before</th><th scope=col>PA_intensity_before</th><th scope=col>PA_duration_before</th><th scope=col>pa_number_before</th></tr>\n",
       "\t<tr><th></th><th scope=col>&lt;int&gt;</th><th scope=col>&lt;int&gt;</th><th scope=col>&lt;int&gt;</th><th scope=col>&lt;int&gt;</th><th scope=col>&lt;int&gt;</th><th scope=col>&lt;int&gt;</th><th scope=col>&lt;int&gt;</th><th scope=col>&lt;int&gt;</th><th scope=col>&lt;int&gt;</th><th scope=col>&lt;int&gt;</th></tr>\n",
       "</thead>\n",
       "<tbody>\n",
       "\t<tr><th scope=row>1</th><td>2</td><td>1</td><td>4</td><td>4</td><td>4</td><td>1</td><td>4</td><td>1</td><td>2</td><td>1</td></tr>\n",
       "\t<tr><th scope=row>2</th><td>3</td><td>3</td><td>6</td><td>4</td><td>3</td><td>2</td><td>3</td><td>2</td><td>3</td><td>4</td></tr>\n",
       "\t<tr><th scope=row>3</th><td>3</td><td>2</td><td>5</td><td>3</td><td>1</td><td>2</td><td>2</td><td>3</td><td>2</td><td>2</td></tr>\n",
       "\t<tr><th scope=row>4</th><td>3</td><td>1</td><td>3</td><td>4</td><td>2</td><td>1</td><td>4</td><td>3</td><td>3</td><td>2</td></tr>\n",
       "\t<tr><th scope=row>5</th><td>2</td><td>2</td><td>6</td><td>4</td><td>4</td><td>2</td><td>4</td><td>3</td><td>3</td><td>2</td></tr>\n",
       "\t<tr><th scope=row>6</th><td>3</td><td>2</td><td>6</td><td>6</td><td>2</td><td>2</td><td>3</td><td>2</td><td>2</td><td>3</td></tr>\n",
       "</tbody>\n",
       "</table>\n"
      ],
      "text/latex": [
       "A data.frame: 6 × 10\n",
       "\\begin{tabular}{r|llllllllll}\n",
       "  & age\\_range & rooms\\_range & income\\_range & scholarity & sedentary\\_time\\_range\\_before & co.resident\\_range & PA\\_weekly\\_frequency\\_before & PA\\_intensity\\_before & PA\\_duration\\_before & pa\\_number\\_before\\\\\n",
       "  & <int> & <int> & <int> & <int> & <int> & <int> & <int> & <int> & <int> & <int>\\\\\n",
       "\\hline\n",
       "\t1 & 2 & 1 & 4 & 4 & 4 & 1 & 4 & 1 & 2 & 1\\\\\n",
       "\t2 & 3 & 3 & 6 & 4 & 3 & 2 & 3 & 2 & 3 & 4\\\\\n",
       "\t3 & 3 & 2 & 5 & 3 & 1 & 2 & 2 & 3 & 2 & 2\\\\\n",
       "\t4 & 3 & 1 & 3 & 4 & 2 & 1 & 4 & 3 & 3 & 2\\\\\n",
       "\t5 & 2 & 2 & 6 & 4 & 4 & 2 & 4 & 3 & 3 & 2\\\\\n",
       "\t6 & 3 & 2 & 6 & 6 & 2 & 2 & 3 & 2 & 2 & 3\\\\\n",
       "\\end{tabular}\n"
      ],
      "text/markdown": [
       "\n",
       "A data.frame: 6 × 10\n",
       "\n",
       "| <!--/--> | age_range &lt;int&gt; | rooms_range &lt;int&gt; | income_range &lt;int&gt; | scholarity &lt;int&gt; | sedentary_time_range_before &lt;int&gt; | co.resident_range &lt;int&gt; | PA_weekly_frequency_before &lt;int&gt; | PA_intensity_before &lt;int&gt; | PA_duration_before &lt;int&gt; | pa_number_before &lt;int&gt; |\n",
       "|---|---|---|---|---|---|---|---|---|---|---|\n",
       "| 1 | 2 | 1 | 4 | 4 | 4 | 1 | 4 | 1 | 2 | 1 |\n",
       "| 2 | 3 | 3 | 6 | 4 | 3 | 2 | 3 | 2 | 3 | 4 |\n",
       "| 3 | 3 | 2 | 5 | 3 | 1 | 2 | 2 | 3 | 2 | 2 |\n",
       "| 4 | 3 | 1 | 3 | 4 | 2 | 1 | 4 | 3 | 3 | 2 |\n",
       "| 5 | 2 | 2 | 6 | 4 | 4 | 2 | 4 | 3 | 3 | 2 |\n",
       "| 6 | 3 | 2 | 6 | 6 | 2 | 2 | 3 | 2 | 2 | 3 |\n",
       "\n"
      ],
      "text/plain": [
       "  age_range rooms_range income_range scholarity sedentary_time_range_before\n",
       "1 2         1           4            4          4                          \n",
       "2 3         3           6            4          3                          \n",
       "3 3         2           5            3          1                          \n",
       "4 3         1           3            4          2                          \n",
       "5 2         2           6            4          4                          \n",
       "6 3         2           6            6          2                          \n",
       "  co.resident_range PA_weekly_frequency_before PA_intensity_before\n",
       "1 1                 4                          1                  \n",
       "2 2                 3                          2                  \n",
       "3 2                 2                          3                  \n",
       "4 1                 4                          3                  \n",
       "5 2                 4                          3                  \n",
       "6 2                 3                          2                  \n",
       "  PA_duration_before pa_number_before\n",
       "1 2                  1               \n",
       "2 3                  4               \n",
       "3 2                  2               \n",
       "4 3                  2               \n",
       "5 3                  2               \n",
       "6 2                  3               "
      ]
     },
     "metadata": {},
     "output_type": "display_data"
    }
   ],
   "source": [
    "numeric_columns = c(\n",
    "    'age_range',\n",
    "    'rooms_range',\n",
    "    'income_range',\n",
    "    'scholarity',\n",
    "    'sedentary_time_range_before',\n",
    "    'co.resident_range',\n",
    "    \"PA_weekly_frequency_before\",\n",
    "    'PA_intensity_before',\n",
    "    'PA_duration_before',\n",
    "    \"pa_number_before\"\n",
    ")\n",
    "columns = names(before_dataset)\n",
    "categorical_columns <- columns[!columns %in% numeric_columns]\n",
    "\n",
    "\n",
    "before_dataset[, categorical_columns] <- lapply(before_dataset[, categorical_columns], as.factor)\n",
    "before_dataset[, numeric_columns] <- lapply(before_dataset[, numeric_columns], as.integer)\n",
    "\n",
    "\n",
    "before_dataset[1, 2] < before_dataset[2, 2] \n",
    "\n",
    "head(before_dataset[, numeric_columns])\n"
   ]
  },
  {
   "cell_type": "code",
   "execution_count": 9,
   "metadata": {},
   "outputs": [
    {
     "data": {
      "text/html": [
       "<dl>\n",
       "\t<dt>$DA</dt>\n",
       "\t\t<dd>'0'</dd>\n",
       "\t<dt>$DP</dt>\n",
       "\t\t<dd>'0'</dd>\n",
       "</dl>\n"
      ],
      "text/latex": [
       "\\begin{description}\n",
       "\\item[\\$DA] '0'\n",
       "\\item[\\$DP] '0'\n",
       "\\end{description}\n"
      ],
      "text/markdown": [
       "$DA\n",
       ":   '0'\n",
       "$DP\n",
       ":   '0'\n",
       "\n",
       "\n"
      ],
      "text/plain": [
       "$DA\n",
       "[1] \"0\"\n",
       "\n",
       "$DP\n",
       "[1] \"0\"\n"
      ]
     },
     "metadata": {},
     "output_type": "display_data"
    }
   ],
   "source": [
    "lapply(before_dataset, levels)[c(\"DA\", \"DP\")]\n",
    "before_dataset <- subset(before_dataset, select = -c(DA, DP, state, zone))"
   ]
  },
  {
   "cell_type": "markdown",
   "metadata": {},
   "source": [
    "# Sanity Check\n",
    "\n",
    "### More then one column have the class \"dont_practice\", we need to check if they agree."
   ]
  },
  {
   "cell_type": "code",
   "execution_count": 10,
   "metadata": {},
   "outputs": [
    {
     "data": {
      "text/plain": [
       "                  PA_duration_before\n",
       "PA_practice_before   0   1   2   3   4\n",
       "     dont_practice 131   8   4   2   0\n",
       "     practice        4  60 654 324  55"
      ]
     },
     "metadata": {},
     "output_type": "display_data"
    },
    {
     "data": {
      "text/plain": [
       "                  PA_intensity_before\n",
       "PA_practice_before   0   1   2   3\n",
       "     dont_practice 131  14   0   0\n",
       "     practice        2 148 590 357"
      ]
     },
     "metadata": {},
     "output_type": "display_data"
    },
    {
     "data": {
      "text/plain": [
       "                  PA_weekly_frequency_before\n",
       "PA_practice_before   1   2   3   4\n",
       "     dont_practice 144   0   1   0\n",
       "     practice        2 424 473 198"
      ]
     },
     "metadata": {},
     "output_type": "display_data"
    },
    {
     "data": {
      "text/plain": [
       "                  pa_number_before\n",
       "PA_practice_before   0   1   2   3   4   5   6   7   9  14\n",
       "     dont_practice 144   1   0   0   0   0   0   0   0   0\n",
       "     practice        0 388 364 217  95  22   4   5   1   1"
      ]
     },
     "metadata": {},
     "output_type": "display_data"
    }
   ],
   "source": [
    "table(before_dataset[, c(\"PA_practice_before\", \"PA_duration_before\")])\n",
    "table(before_dataset[, c(\"PA_practice_before\", \"PA_intensity_before\")])\n",
    "table(before_dataset[, c(\"PA_practice_before\", \"PA_weekly_frequency_before\")])\n",
    "table(before_dataset[, c(\"PA_practice_before\", \"pa_number_before\")])\n"
   ]
  },
  {
   "cell_type": "code",
   "execution_count": 11,
   "metadata": {},
   "outputs": [
    {
     "data": {
      "text/plain": [
       "strange_dp\n",
       "FALSE  TRUE \n",
       " 1227    15 "
      ]
     },
     "metadata": {},
     "output_type": "display_data"
    }
   ],
   "source": [
    "differ_dp <- ( before_dataset$PA_duration_before != 0 \n",
    "                | before_dataset$PA_intensity_before != 0 \n",
    "                | before_dataset$PA_weekly_frequency_before != 1 \n",
    "                | before_dataset$pa_number_before != 0\n",
    "            ) \n",
    "strange_dp <- before_dataset$PA_practice_before == \"dont_practice\" & differ_dp \n",
    "\n",
    "table(strange_dp)\n",
    "# before_dataset <- before_dataset[!strange_dp,]"
   ]
  },
  {
   "cell_type": "code",
   "execution_count": 12,
   "metadata": {},
   "outputs": [
    {
     "data": {
      "text/plain": [
       "strange_p\n",
       "FALSE  TRUE \n",
       " 1236     6 "
      ]
     },
     "metadata": {},
     "output_type": "display_data"
    }
   ],
   "source": [
    "differ_p <- (   before_dataset$PA_duration_before == 0 \n",
    "                | before_dataset$PA_intensity_before == 0 \n",
    "                | before_dataset$PA_weekly_frequency_before == 1\n",
    "                | before_dataset$pa_number_before == 0\n",
    "            )\n",
    "strange_p <- before_dataset$PA_practice_before == \"practice\" & differ_p\n",
    "table(strange_p)\n",
    "# before_dataset <- before_dataset[!strange_p,]\n"
   ]
  },
  {
   "cell_type": "markdown",
   "metadata": {},
   "source": [
    "### We found out that some columns have bias"
   ]
  },
  {
   "cell_type": "markdown",
   "metadata": {},
   "source": [
    "# Unsupervised Learning"
   ]
  },
  {
   "cell_type": "code",
   "execution_count": 13,
   "metadata": {},
   "outputs": [],
   "source": [
    "before_dataset_copy <- before_dataset\n",
    "before_dataset_copy[, \"strange_dp\"] <- strange_dp\n",
    "before_dataset_copy[, \"strange_p\"] <- strange_p\n",
    "has_tag_depression <- before_dataset$TAG == \"1\" | before_dataset$depression  == \"1\" \n",
    "before_dataset_copy[, \"has_tag_depression\"] <- has_tag_depression\n",
    "\n",
    "dummy <- dummyVars(\" ~ .\", data=before_dataset)\n",
    "encoded_dataset <- data.frame(predict(dummy, newdata = before_dataset)) "
   ]
  },
  {
   "cell_type": "markdown",
   "metadata": {},
   "source": [
    "## PCA"
   ]
  },
  {
   "cell_type": "code",
   "execution_count": 14,
   "metadata": {},
   "outputs": [
    {
     "data": {
      "text/plain": [
       "Importance of components:\n",
       "                           PC1     PC2     PC3     PC4     PC5     PC6     PC7\n",
       "Standard deviation     2.93882 2.28870 2.27467 2.13523 1.95841 1.91904 1.89626\n",
       "Proportion of Variance 0.05998 0.03638 0.03593 0.03166 0.02663 0.02557 0.02497\n",
       "Cumulative Proportion  0.05998 0.09635 0.13228 0.16395 0.19058 0.21615 0.24113\n",
       "                           PC8     PC9    PC10    PC11    PC12   PC13    PC14\n",
       "Standard deviation     1.81572 1.77938 1.73941 1.70716 1.66443 1.6451 1.60646\n",
       "Proportion of Variance 0.02289 0.02199 0.02101 0.02024 0.01924 0.0188 0.01792\n",
       "Cumulative Proportion  0.26402 0.28601 0.30702 0.32726 0.34650 0.3653 0.38321\n",
       "                          PC15    PC16    PC17    PC18    PC19  PC20    PC21\n",
       "Standard deviation     1.58789 1.58254 1.56073 1.54877 1.53443 1.518 1.49757\n",
       "Proportion of Variance 0.01751 0.01739 0.01692 0.01666 0.01635 0.016 0.01557\n",
       "Cumulative Proportion  0.40072 0.41811 0.43503 0.45169 0.46804 0.484 0.49961\n",
       "                          PC22    PC23    PC24    PC25    PC26    PC27    PC28\n",
       "Standard deviation     1.48960 1.47716 1.46149 1.44565 1.42132 1.41134 1.40833\n",
       "Proportion of Variance 0.01541 0.01515 0.01483 0.01451 0.01403 0.01383 0.01377\n",
       "Cumulative Proportion  0.51502 0.53017 0.54500 0.55952 0.57355 0.58738 0.60115\n",
       "                          PC29    PC30  PC31    PC32    PC33   PC34   PC35\n",
       "Standard deviation     1.40272 1.37766 1.368 1.36337 1.34900 1.3201 1.3145\n",
       "Proportion of Variance 0.01366 0.01318 0.013 0.01291 0.01264 0.0121 0.0120\n",
       "Cumulative Proportion  0.61482 0.62800 0.641 0.65390 0.66654 0.6786 0.6906\n",
       "                          PC36   PC37    PC38    PC39    PC40    PC41    PC42\n",
       "Standard deviation     1.31131 1.2926 1.27959 1.26525 1.24365 1.23658 1.23188\n",
       "Proportion of Variance 0.01194 0.0116 0.01137 0.01112 0.01074 0.01062 0.01054\n",
       "Cumulative Proportion  0.70258 0.7142 0.72556 0.73667 0.74741 0.75803 0.76857\n",
       "                          PC43    PC44    PC45   PC46    PC47    PC48   PC49\n",
       "Standard deviation     1.22103 1.20419 1.19672 1.1816 1.17414 1.17245 1.1570\n",
       "Proportion of Variance 0.01035 0.01007 0.00995 0.0097 0.00957 0.00955 0.0093\n",
       "Cumulative Proportion  0.77893 0.78900 0.79894 0.8086 0.81821 0.82776 0.8370\n",
       "                          PC50    PC51    PC52    PC53    PC54    PC55    PC56\n",
       "Standard deviation     1.14993 1.13428 1.11421 1.10952 1.09210 1.08814 1.06713\n",
       "Proportion of Variance 0.00918 0.00893 0.00862 0.00855 0.00828 0.00822 0.00791\n",
       "Cumulative Proportion  0.84623 0.85517 0.86379 0.87234 0.88062 0.88884 0.89675\n",
       "                          PC57    PC58    PC59   PC60    PC61    PC62    PC63\n",
       "Standard deviation     1.04871 1.03324 0.99936 0.9895 0.97554 0.95485 0.95372\n",
       "Proportion of Variance 0.00764 0.00741 0.00694 0.0068 0.00661 0.00633 0.00632\n",
       "Cumulative Proportion  0.90439 0.91180 0.91874 0.9255 0.93215 0.93848 0.94480\n",
       "                          PC64    PC65    PC66    PC67    PC68    PC69    PC70\n",
       "Standard deviation     0.93965 0.93475 0.90217 0.89947 0.87793 0.81445 0.80599\n",
       "Proportion of Variance 0.00613 0.00607 0.00565 0.00562 0.00535 0.00461 0.00451\n",
       "Cumulative Proportion  0.95093 0.95699 0.96265 0.96827 0.97362 0.97822 0.98274\n",
       "                          PC71    PC72    PC73    PC74    PC75    PC76   PC77\n",
       "Standard deviation     0.73196 0.69435 0.59512 0.58330 0.54550 0.49962 0.4490\n",
       "Proportion of Variance 0.00372 0.00335 0.00246 0.00236 0.00207 0.00173 0.0014\n",
       "Cumulative Proportion  0.98646 0.98980 0.99226 0.99463 0.99669 0.99843 0.9998\n",
       "                          PC78      PC79      PC80      PC81      PC82     PC83\n",
       "Standard deviation     0.15796 8.893e-15 4.274e-15 3.701e-15 3.517e-15 2.66e-15\n",
       "Proportion of Variance 0.00017 0.000e+00 0.000e+00 0.000e+00 0.000e+00 0.00e+00\n",
       "Cumulative Proportion  1.00000 1.000e+00 1.000e+00 1.000e+00 1.000e+00 1.00e+00\n",
       "                            PC84      PC85      PC86      PC87      PC88\n",
       "Standard deviation     2.557e-15 2.523e-15 2.346e-15 2.095e-15 2.029e-15\n",
       "Proportion of Variance 0.000e+00 0.000e+00 0.000e+00 0.000e+00 0.000e+00\n",
       "Cumulative Proportion  1.000e+00 1.000e+00 1.000e+00 1.000e+00 1.000e+00\n",
       "                            PC89     PC90      PC91      PC92      PC93\n",
       "Standard deviation     1.894e-15 1.79e-15 1.725e-15 1.718e-15 1.599e-15\n",
       "Proportion of Variance 0.000e+00 0.00e+00 0.000e+00 0.000e+00 0.000e+00\n",
       "Cumulative Proportion  1.000e+00 1.00e+00 1.000e+00 1.000e+00 1.000e+00\n",
       "                            PC94      PC95      PC96      PC97      PC98\n",
       "Standard deviation     1.594e-15 1.501e-15 1.423e-15 1.372e-15 1.327e-15\n",
       "Proportion of Variance 0.000e+00 0.000e+00 0.000e+00 0.000e+00 0.000e+00\n",
       "Cumulative Proportion  1.000e+00 1.000e+00 1.000e+00 1.000e+00 1.000e+00\n",
       "                            PC99     PC100     PC101     PC102     PC103\n",
       "Standard deviation     1.295e-15 1.229e-15 1.225e-15 1.218e-15 1.205e-15\n",
       "Proportion of Variance 0.000e+00 0.000e+00 0.000e+00 0.000e+00 0.000e+00\n",
       "Cumulative Proportion  1.000e+00 1.000e+00 1.000e+00 1.000e+00 1.000e+00\n",
       "                           PC104     PC105     PC106     PC107     PC108\n",
       "Standard deviation     1.147e-15 1.137e-15 1.131e-15 1.108e-15 1.074e-15\n",
       "Proportion of Variance 0.000e+00 0.000e+00 0.000e+00 0.000e+00 0.000e+00\n",
       "Cumulative Proportion  1.000e+00 1.000e+00 1.000e+00 1.000e+00 1.000e+00\n",
       "                           PC109     PC110     PC111     PC112     PC113\n",
       "Standard deviation     9.814e-16 9.199e-16 9.033e-16 8.818e-16 8.417e-16\n",
       "Proportion of Variance 0.000e+00 0.000e+00 0.000e+00 0.000e+00 0.000e+00\n",
       "Cumulative Proportion  1.000e+00 1.000e+00 1.000e+00 1.000e+00 1.000e+00\n",
       "                           PC114     PC115     PC116     PC117     PC118\n",
       "Standard deviation     8.199e-16 7.885e-16 7.728e-16 7.281e-16 7.039e-16\n",
       "Proportion of Variance 0.000e+00 0.000e+00 0.000e+00 0.000e+00 0.000e+00\n",
       "Cumulative Proportion  1.000e+00 1.000e+00 1.000e+00 1.000e+00 1.000e+00\n",
       "                           PC119     PC120     PC121     PC122     PC123\n",
       "Standard deviation     6.368e-16 6.113e-16 6.098e-16 5.912e-16 5.494e-16\n",
       "Proportion of Variance 0.000e+00 0.000e+00 0.000e+00 0.000e+00 0.000e+00\n",
       "Cumulative Proportion  1.000e+00 1.000e+00 1.000e+00 1.000e+00 1.000e+00\n",
       "                           PC124    PC125     PC126     PC127     PC128\n",
       "Standard deviation     5.286e-16 5.18e-16 4.711e-16 4.687e-16 4.585e-16\n",
       "Proportion of Variance 0.000e+00 0.00e+00 0.000e+00 0.000e+00 0.000e+00\n",
       "Cumulative Proportion  1.000e+00 1.00e+00 1.000e+00 1.000e+00 1.000e+00\n",
       "                           PC129     PC130     PC131     PC132     PC133\n",
       "Standard deviation     4.581e-16 4.359e-16 4.233e-16 4.156e-16 4.116e-16\n",
       "Proportion of Variance 0.000e+00 0.000e+00 0.000e+00 0.000e+00 0.000e+00\n",
       "Cumulative Proportion  1.000e+00 1.000e+00 1.000e+00 1.000e+00 1.000e+00\n",
       "                           PC134     PC135     PC136     PC137     PC138\n",
       "Standard deviation     3.907e-16 3.069e-16 2.668e-16 2.664e-16 2.144e-16\n",
       "Proportion of Variance 0.000e+00 0.000e+00 0.000e+00 0.000e+00 0.000e+00\n",
       "Cumulative Proportion  1.000e+00 1.000e+00 1.000e+00 1.000e+00 1.000e+00\n",
       "                           PC139     PC140     PC141    PC142     PC143\n",
       "Standard deviation     1.871e-16 1.859e-16 1.801e-16 1.72e-16 1.225e-16\n",
       "Proportion of Variance 0.000e+00 0.000e+00 0.000e+00 0.00e+00 0.000e+00\n",
       "Cumulative Proportion  1.000e+00 1.000e+00 1.000e+00 1.00e+00 1.000e+00\n",
       "                           PC144\n",
       "Standard deviation     8.513e-17\n",
       "Proportion of Variance 0.000e+00\n",
       "Cumulative Proportion  1.000e+00"
      ]
     },
     "metadata": {},
     "output_type": "display_data"
    }
   ],
   "source": [
    "encoded_dataset.pca <- prcomp(encoded_dataset , center = TRUE,scale. = TRUE)\n",
    "summary(encoded_dataset.pca) "
   ]
  },
  {
   "cell_type": "code",
   "execution_count": 15,
   "metadata": {},
   "outputs": [
    {
     "data": {
      "image/png": "[encoded data removed]",
      "text/plain": [
       "plot without title"
      ]
     },
     "metadata": {
      "image/png": {
       "height": 420,
       "width": 420
      }
     },
     "output_type": "display_data"
    }
   ],
   "source": [
    "autoplot(encoded_dataset.pca, colour=\"PA_practice_before\", data=before_dataset)"
   ]
  },
  {
   "cell_type": "markdown",
   "metadata": {},
   "source": [
    "## TSNE"
   ]
  },
  {
   "cell_type": "code",
   "execution_count": 16,
   "metadata": {},
   "outputs": [
    {
     "name": "stdout",
     "output_type": "stream",
     "text": [
      "Performing PCA\n",
      "Read the 1242 x 50 data matrix successfully!\n",
      "OpenMP is working. 1 threads.\n",
      "Using no_dims = 2, perplexity = 30.000000, and theta = 0.500000\n",
      "Computing input similarities...\n",
      "Building tree...\n",
      "Done in 0.38 seconds (sparsity = 0.103546)!\n",
      "Learning embedding...\n",
      "Iteration 50: error is 71.395093 (50 iterations in 0.34 seconds)\n",
      "Iteration 100: error is 71.312321 (50 iterations in 0.42 seconds)\n",
      "Iteration 150: error is 70.786628 (50 iterations in 0.30 seconds)\n",
      "Iteration 200: error is 70.786279 (50 iterations in 0.20 seconds)\n",
      "Iteration 250: error is 70.786314 (50 iterations in 0.22 seconds)\n",
      "Iteration 300: error is 2.165784 (50 iterations in 0.26 seconds)\n",
      "Iteration 350: error is 1.958262 (50 iterations in 0.25 seconds)\n",
      "Iteration 400: error is 1.873071 (50 iterations in 0.26 seconds)\n",
      "Iteration 450: error is 1.832456 (50 iterations in 0.26 seconds)\n",
      "Iteration 500: error is 1.808934 (50 iterations in 0.28 seconds)\n",
      "Iteration 550: error is 1.793292 (50 iterations in 0.29 seconds)\n",
      "Iteration 600: error is 1.780846 (50 iterations in 0.27 seconds)\n",
      "Iteration 650: error is 1.772736 (50 iterations in 0.28 seconds)\n",
      "Iteration 700: error is 1.766564 (50 iterations in 0.28 seconds)\n",
      "Iteration 750: error is 1.762394 (50 iterations in 0.29 seconds)\n",
      "Iteration 800: error is 1.757906 (50 iterations in 0.31 seconds)\n",
      "Iteration 850: error is 1.752952 (50 iterations in 0.26 seconds)\n",
      "Iteration 900: error is 1.747973 (50 iterations in 0.60 seconds)\n",
      "Iteration 950: error is 1.743709 (50 iterations in 0.81 seconds)\n",
      "Iteration 1000: error is 1.741111 (50 iterations in 0.41 seconds)\n",
      "Fitting performed in 6.60 seconds.\n"
     ]
    }
   ],
   "source": [
    "tsne <- Rtsne(encoded_dataset, dims = 2, perplexity=30, check_duplicates = FALSE, verbose=TRUE)"
   ]
  },
  {
   "cell_type": "markdown",
   "metadata": {},
   "source": [
    "### Practive before x dont Practice before"
   ]
  },
  {
   "cell_type": "code",
   "execution_count": 17,
   "metadata": {},
   "outputs": [
    {
     "data": {
      "image/png": "[encoded data removed]",
      "text/plain": [
       "plot without title"
      ]
     },
     "metadata": {
      "image/png": {
       "height": 420,
       "width": 420
      }
     },
     "output_type": "display_data"
    }
   ],
   "source": [
    "metadata <- data.frame(sample_id = rownames(before_dataset_copy),\n",
    "                       colour = before_dataset_copy$PA_practice_before)\n",
    "tsne_df <- data.frame(\n",
    "    x = tsne$Y[,1],\n",
    "    y = tsne$Y[,2],\n",
    "    colour = metadata$colour)\n",
    "\n",
    "ggplot(tsne_df, aes(x, y, colour = colour)) + geom_point()"
   ]
  },
  {
   "cell_type": "markdown",
   "metadata": {},
   "source": [
    "### Strange dont practice"
   ]
  },
  {
   "cell_type": "code",
   "execution_count": 18,
   "metadata": {},
   "outputs": [
    {
     "data": {
      "image/png": "[encoded data removed]",
      "text/plain": [
       "plot without title"
      ]
     },
     "metadata": {
      "image/png": {
       "height": 420,
       "width": 420
      }
     },
     "output_type": "display_data"
    }
   ],
   "source": [
    "metadata <- data.frame(sample_id = rownames(before_dataset_copy),\n",
    "                       colour = before_dataset_copy$strange_dp)\n",
    "tsne_df <- data.frame(\n",
    "    x = tsne$Y[,1],\n",
    "    y = tsne$Y[,2],\n",
    "    colour = metadata$colour)\n",
    "\n",
    "ggplot(tsne_df, aes(x, y, colour = colour)) + geom_point()"
   ]
  },
  {
   "cell_type": "markdown",
   "metadata": {},
   "source": [
    "### Strange practice"
   ]
  },
  {
   "cell_type": "code",
   "execution_count": 36,
   "metadata": {},
   "outputs": [
    {
     "data": {
      "image/png": "[encoded data removed]",
      "text/plain": [
       "plot without title"
      ]
     },
     "metadata": {
      "image/png": {
       "height": 420,
       "width": 420
      }
     },
     "output_type": "display_data"
    }
   ],
   "source": [
    "metadata <- data.frame(sample_id = rownames(before_dataset_copy),\n",
    "                       colour = before_dataset_copy$strange_p)\n",
    "tsne_df <- data.frame(\n",
    "    x = tsne$Y[,1],\n",
    "    y = tsne$Y[,2],\n",
    "    colour = metadata$colour)\n",
    "\n",
    "ggplot(tsne_df, aes(x, y, colour = colour)) + geom_point()"
   ]
  },
  {
   "cell_type": "markdown",
   "metadata": {},
   "source": [
    "### Has tag or depression"
   ]
  },
  {
   "cell_type": "code",
   "execution_count": 20,
   "metadata": {},
   "outputs": [
    {
     "data": {
      "image/png": "[encoded data removed]",
      "text/plain": [
       "plot without title"
      ]
     },
     "metadata": {
      "image/png": {
       "height": 420,
       "width": 420
      }
     },
     "output_type": "display_data"
    }
   ],
   "source": [
    "metadata <- data.frame(sample_id = rownames(before_dataset_copy),\n",
    "                       colour = before_dataset_copy$has_tag_depression)\n",
    "tsne_df <- data.frame(\n",
    "    x = tsne$Y[,1],\n",
    "    y = tsne$Y[,2],\n",
    "    colour = metadata$colour)\n",
    "\n",
    "ggplot(tsne_df, aes(x, y, colour = colour)) + geom_point()"
   ]
  },
  {
   "cell_type": "markdown",
   "metadata": {},
   "source": [
    "# Decision Trees for people with and without Tag and depression"
   ]
  },
  {
   "cell_type": "markdown",
   "metadata": {},
   "source": [
    "## Finding out the majority class\n"
   ]
  },
  {
   "cell_type": "code",
   "execution_count": 21,
   "metadata": {},
   "outputs": [
    {
     "data": {
      "text/plain": [
       "\n",
       "dont_practice      practice \n",
       "          346           896 "
      ]
     },
     "metadata": {},
     "output_type": "display_data"
    }
   ],
   "source": [
    "table(before_dataset[, \"PA_practice_during\"])"
   ]
  },
  {
   "cell_type": "markdown",
   "metadata": {},
   "source": [
    "## Creating the dataset partition"
   ]
  },
  {
   "cell_type": "code",
   "execution_count": 38,
   "metadata": {},
   "outputs": [],
   "source": [
    "set.seed(2)\n",
    "lista_treino <- createDataPartition(before_dataset$PA_practice_during, p=0.7, list=FALSE)\n",
    "treino <- before_dataset[lista_treino,]\n",
    "teste <- before_dataset[-lista_treino,]\n",
    "\n"
   ]
  },
  {
   "cell_type": "markdown",
   "metadata": {},
   "source": [
    "## Applying augmentation into the training set"
   ]
  },
  {
   "cell_type": "code",
   "execution_count": 39,
   "metadata": {},
   "outputs": [
    {
     "data": {
      "text/plain": [
       "\n",
       "dont_practice      practice \n",
       "          627           628 "
      ]
     },
     "metadata": {},
     "output_type": "display_data"
    }
   ],
   "source": [
    "treino.aug <- data_augmentation(\n",
    "    train_data=treino,\n",
    "    yname=\"PA_practice_during\",\n",
    "    maj_class = \"practice\",\n",
    "    min_classes = c(\"dont_practice\"),\n",
    "    ycol=match(\"PA_practice_during\",names(before_dataset))\n",
    ")\n",
    "\n",
    "table(treino.aug[, \"PA_practice_during\"])\n"
   ]
  },
  {
   "cell_type": "markdown",
   "metadata": {},
   "source": [
    "## Kappa metric without augmentation"
   ]
  },
  {
   "cell_type": "code",
   "execution_count": 60,
   "metadata": {},
   "outputs": [
    {
     "name": "stdout",
     "output_type": "stream",
     "text": [
      "Confusion Matrix and Statistics\n",
      "\n",
      "               Reference\n",
      "Prediction      dont_practice practice\n",
      "  dont_practice            40       31\n",
      "  practice                 63      237\n",
      "                                          \n",
      "               Accuracy : 0.7466          \n",
      "                 95% CI : (0.6992, 0.7901)\n",
      "    No Information Rate : 0.7224          \n",
      "    P-Value [Acc > NIR] : 0.162248        \n",
      "                                          \n",
      "                  Kappa : 0.3015          \n",
      "                                          \n",
      " Mcnemar's Test P-Value : 0.001387        \n",
      "                                          \n",
      "            Sensitivity : 0.3883          \n",
      "            Specificity : 0.8843          \n",
      "         Pos Pred Value : 0.5634          \n",
      "         Neg Pred Value : 0.7900          \n",
      "             Prevalence : 0.2776          \n",
      "         Detection Rate : 0.1078          \n",
      "   Detection Prevalence : 0.1914          \n",
      "      Balanced Accuracy : 0.6363          \n",
      "                                          \n",
      "       'Positive' Class : dont_practice   \n",
      "                                          \n"
     ]
    },
    {
     "data": {
      "image/png": "[encoded data removed]",
      "text/plain": [
       "plot without title"
      ]
     },
     "metadata": {
      "image/png": {
       "height": 420,
       "width": 420
      }
     },
     "output_type": "display_data"
    }
   ],
   "source": [
    "model <- fit_model(\n",
    "    model_method=\"rpart\",\n",
    "    model_metric=\"Kappa\",\n",
    "    trControl_func = trainControl(method = \"cv\"),\n",
    "    train_data = treino,\n",
    "    test_data=teste,\n",
    "    yname=\"PA_practice_during\",\n",
    "    length = 3\n",
    ")\n",
    "print(model$matrix)\n",
    "# print(model$result)\n",
    "rpart.plot(model$result$finalModel)\n",
    "\n"
   ]
  },
  {
   "cell_type": "code",
   "execution_count": 59,
   "metadata": {},
   "outputs": [
    {
     "name": "stdout",
     "output_type": "stream",
     "text": [
      "CART \n",
      "\n",
      "871 samples\n",
      " 73 predictor\n",
      "  2 classes: 'dont_practice', 'practice' \n",
      "\n",
      "No pre-processing\n",
      "Resampling: Cross-Validated (10 fold) \n",
      "Summary of sample sizes: 784, 784, 784, 784, 784, 784, ... \n",
      "Resampling results across tuning parameters:\n",
      "\n",
      "  cp          Accuracy   Kappa     \n",
      "  0.02057613  0.7072884  0.14031890\n",
      "  0.02469136  0.7106975  0.15258256\n",
      "  0.04115226  0.7083986  0.07859955\n",
      "\n",
      "Kappa was used to select the optimal model using the largest value.\n",
      "The final value used for the model was cp = 0.02469136.\n"
     ]
    }
   ],
   "source": [
    "print(model$result)"
   ]
  },
  {
   "cell_type": "markdown",
   "metadata": {},
   "source": [
    "## Kappa metric with augmentation"
   ]
  },
  {
   "cell_type": "code",
   "execution_count": 41,
   "metadata": {},
   "outputs": [
    {
     "name": "stdout",
     "output_type": "stream",
     "text": [
      "Confusion Matrix and Statistics\n",
      "\n",
      "               Reference\n",
      "Prediction      dont_practice practice\n",
      "  dont_practice            76      117\n",
      "  practice                 27      151\n",
      "                                          \n",
      "               Accuracy : 0.6119          \n",
      "                 95% CI : (0.5602, 0.6617)\n",
      "    No Information Rate : 0.7224          \n",
      "    P-Value [Acc > NIR] : 1               \n",
      "                                          \n",
      "                  Kappa : 0.2374          \n",
      "                                          \n",
      " Mcnemar's Test P-Value : 1.201e-13       \n",
      "                                          \n",
      "            Sensitivity : 0.7379          \n",
      "            Specificity : 0.5634          \n",
      "         Pos Pred Value : 0.3938          \n",
      "         Neg Pred Value : 0.8483          \n",
      "             Prevalence : 0.2776          \n",
      "         Detection Rate : 0.2049          \n",
      "   Detection Prevalence : 0.5202          \n",
      "      Balanced Accuracy : 0.6506          \n",
      "                                          \n",
      "       'Positive' Class : dont_practice   \n",
      "                                          \n"
     ]
    },
    {
     "data": {
      "image/png": "[encoded data removed]",
      "text/plain": [
       "plot without title"
      ]
     },
     "metadata": {
      "image/png": {
       "height": 420,
       "width": 420
      }
     },
     "output_type": "display_data"
    }
   ],
   "source": [
    "model <- fit_model(\n",
    "    model_method=\"rpart\",\n",
    "    model_metric=\"Kappa\",\n",
    "    trControl_func = trainControl(method = \"cv\"),\n",
    "    train_data = treino.aug,\n",
    "    test_data=teste,\n",
    "    yname=\"PA_practice_during\",\n",
    "    length=3\n",
    ")\n",
    "print(model$matrix)\n",
    "rpart.plot(model$result$finalModel)"
   ]
  },
  {
   "cell_type": "code",
   "execution_count": 26,
   "metadata": {},
   "outputs": [
    {
     "name": "stdout",
     "output_type": "stream",
     "text": [
      "CART \n",
      "\n",
      "1255 samples\n",
      "  73 predictor\n",
      "   2 classes: 'dont_practice', 'practice' \n",
      "\n",
      "No pre-processing\n",
      "Resampling: Bootstrapped (25 reps) \n",
      "Summary of sample sizes: 1255, 1255, 1255, 1255, 1255, 1255, ... \n",
      "Resampling results across tuning parameters:\n",
      "\n",
      "  cp          Accuracy   Kappa    \n",
      "  0.04625199  0.7082148  0.4171885\n",
      "  0.05263158  0.7000215  0.4009198\n",
      "  0.37799043  0.5676777  0.1512966\n",
      "\n",
      "Kappa was used to select the optimal model using the largest value.\n",
      "The final value used for the model was cp = 0.04625199.\n"
     ]
    }
   ],
   "source": [
    "print(model$result)"
   ]
  },
  {
   "cell_type": "markdown",
   "metadata": {},
   "source": [
    "## F-beta score without augmentation"
   ]
  },
  {
   "cell_type": "code",
   "execution_count": 27,
   "metadata": {},
   "outputs": [],
   "source": [
    "fbeta <- function (data, lev=NULL, model = NULL){\n",
    "    fb_val <- FBeta_Score(data$obs, data$pred, positive=\"practice\", beta = 0.1)\n",
    "    c(FB = fb_val)\n",
    "}"
   ]
  },
  {
   "cell_type": "code",
   "execution_count": 28,
   "metadata": {},
   "outputs": [
    {
     "name": "stdout",
     "output_type": "stream",
     "text": [
      "Confusion Matrix and Statistics\n",
      "\n",
      "               Reference\n",
      "Prediction      dont_practice practice\n",
      "  dont_practice            35       23\n",
      "  practice                 68      245\n",
      "                                          \n",
      "               Accuracy : 0.7547          \n",
      "                 95% CI : (0.7077, 0.7977)\n",
      "    No Information Rate : 0.7224          \n",
      "    P-Value [Acc > NIR] : 0.09004         \n",
      "                                          \n",
      "                  Kappa : 0.2935          \n",
      "                                          \n",
      " Mcnemar's Test P-Value : 3.979e-06       \n",
      "                                          \n",
      "            Sensitivity : 0.33981         \n",
      "            Specificity : 0.91418         \n",
      "         Pos Pred Value : 0.60345         \n",
      "         Neg Pred Value : 0.78275         \n",
      "             Prevalence : 0.27763         \n",
      "         Detection Rate : 0.09434         \n",
      "   Detection Prevalence : 0.15633         \n",
      "      Balanced Accuracy : 0.62699         \n",
      "                                          \n",
      "       'Positive' Class : dont_practice   \n",
      "                                          \n"
     ]
    },
    {
     "data": {
      "image/png": "[encoded data removed]",
      "text/plain": [
       "plot without title"
      ]
     },
     "metadata": {
      "image/png": {
       "height": 420,
       "width": 420
      }
     },
     "output_type": "display_data"
    }
   ],
   "source": [
    "model <- fit_model(\n",
    "    model_method=\"rpart\",\n",
    "    model_metric=\"FB\",\n",
    "    trControl_func = trainControl(method = \"boot\", summaryFunction=fbeta, classProbs = TRUE),\n",
    "    train_data = treino,\n",
    "    test_data=teste,\n",
    "    yname=\"PA_practice_during\"\n",
    ")\n",
    "print(model$matrix)\n",
    "rpart.plot(model$result$finalModel)"
   ]
  },
  {
   "cell_type": "code",
   "execution_count": 29,
   "metadata": {},
   "outputs": [
    {
     "data": {
      "text/html": [
       "<table class=\"dataframe\">\n",
       "<caption>A data.frame: 20 × 1</caption>\n",
       "<thead>\n",
       "\t<tr><th></th><th scope=col>Overall</th></tr>\n",
       "\t<tr><th></th><th scope=col>&lt;dbl&gt;</th></tr>\n",
       "</thead>\n",
       "<tbody>\n",
       "\t<tr><th scope=row>anxious_before1</th><td> 2.111111</td></tr>\n",
       "\t<tr><th scope=row>co.resident_range</th><td> 1.707012</td></tr>\n",
       "\t<tr><th scope=row>confused_before1</th><td> 4.338105</td></tr>\n",
       "\t<tr><th scope=row>hypertension1</th><td> 4.942340</td></tr>\n",
       "\t<tr><th scope=row>optimistic_before1</th><td> 1.502500</td></tr>\n",
       "\t<tr><th scope=row>other_sports_before1</th><td> 4.627577</td></tr>\n",
       "\t<tr><th scope=row>PA_barriers_before_time_convenience1</th><td> 1.065756</td></tr>\n",
       "\t<tr><th scope=row>PA_barriers_before_tiredness1</th><td> 1.058610</td></tr>\n",
       "\t<tr><th scope=row>PA_duration_before</th><td>19.932053</td></tr>\n",
       "\t<tr><th scope=row>PA_easiness_family_before1</th><td> 4.696998</td></tr>\n",
       "\t<tr><th scope=row>PA_easiness_home_activity_before1</th><td> 2.090139</td></tr>\n",
       "\t<tr><th scope=row>PA_easiness_home_equipament_before1</th><td> 1.127085</td></tr>\n",
       "\t<tr><th scope=row>PA_easiness_home_space_before1</th><td> 2.350002</td></tr>\n",
       "\t<tr><th scope=row>PA_easiness_unguided_before1</th><td> 3.189200</td></tr>\n",
       "\t<tr><th scope=row>PA_intensity_before</th><td>31.769159</td></tr>\n",
       "\t<tr><th scope=row>pa_number_before</th><td>21.367552</td></tr>\n",
       "\t<tr><th scope=row>PA_practice_beforepractice</th><td>12.871697</td></tr>\n",
       "\t<tr><th scope=row>PA_weekly_frequency_before</th><td>35.395360</td></tr>\n",
       "\t<tr><th scope=row>scholarity</th><td> 1.386930</td></tr>\n",
       "\t<tr><th scope=row>sedentary_time_range_before</th><td> 4.501546</td></tr>\n",
       "</tbody>\n",
       "</table>\n"
      ],
      "text/latex": [
       "A data.frame: 20 × 1\n",
       "\\begin{tabular}{r|l}\n",
       "  & Overall\\\\\n",
       "  & <dbl>\\\\\n",
       "\\hline\n",
       "\tanxious\\_before1 &  2.111111\\\\\n",
       "\tco.resident\\_range &  1.707012\\\\\n",
       "\tconfused\\_before1 &  4.338105\\\\\n",
       "\thypertension1 &  4.942340\\\\\n",
       "\toptimistic\\_before1 &  1.502500\\\\\n",
       "\tother\\_sports\\_before1 &  4.627577\\\\\n",
       "\tPA\\_barriers\\_before\\_time\\_convenience1 &  1.065756\\\\\n",
       "\tPA\\_barriers\\_before\\_tiredness1 &  1.058610\\\\\n",
       "\tPA\\_duration\\_before & 19.932053\\\\\n",
       "\tPA\\_easiness\\_family\\_before1 &  4.696998\\\\\n",
       "\tPA\\_easiness\\_home\\_activity\\_before1 &  2.090139\\\\\n",
       "\tPA\\_easiness\\_home\\_equipament\\_before1 &  1.127085\\\\\n",
       "\tPA\\_easiness\\_home\\_space\\_before1 &  2.350002\\\\\n",
       "\tPA\\_easiness\\_unguided\\_before1 &  3.189200\\\\\n",
       "\tPA\\_intensity\\_before & 31.769159\\\\\n",
       "\tpa\\_number\\_before & 21.367552\\\\\n",
       "\tPA\\_practice\\_beforepractice & 12.871697\\\\\n",
       "\tPA\\_weekly\\_frequency\\_before & 35.395360\\\\\n",
       "\tscholarity &  1.386930\\\\\n",
       "\tsedentary\\_time\\_range\\_before &  4.501546\\\\\n",
       "\\end{tabular}\n"
      ],
      "text/markdown": [
       "\n",
       "A data.frame: 20 × 1\n",
       "\n",
       "| <!--/--> | Overall &lt;dbl&gt; |\n",
       "|---|---|\n",
       "| anxious_before1 |  2.111111 |\n",
       "| co.resident_range |  1.707012 |\n",
       "| confused_before1 |  4.338105 |\n",
       "| hypertension1 |  4.942340 |\n",
       "| optimistic_before1 |  1.502500 |\n",
       "| other_sports_before1 |  4.627577 |\n",
       "| PA_barriers_before_time_convenience1 |  1.065756 |\n",
       "| PA_barriers_before_tiredness1 |  1.058610 |\n",
       "| PA_duration_before | 19.932053 |\n",
       "| PA_easiness_family_before1 |  4.696998 |\n",
       "| PA_easiness_home_activity_before1 |  2.090139 |\n",
       "| PA_easiness_home_equipament_before1 |  1.127085 |\n",
       "| PA_easiness_home_space_before1 |  2.350002 |\n",
       "| PA_easiness_unguided_before1 |  3.189200 |\n",
       "| PA_intensity_before | 31.769159 |\n",
       "| pa_number_before | 21.367552 |\n",
       "| PA_practice_beforepractice | 12.871697 |\n",
       "| PA_weekly_frequency_before | 35.395360 |\n",
       "| scholarity |  1.386930 |\n",
       "| sedentary_time_range_before |  4.501546 |\n",
       "\n"
      ],
      "text/plain": [
       "                                     Overall  \n",
       "anxious_before1                       2.111111\n",
       "co.resident_range                     1.707012\n",
       "confused_before1                      4.338105\n",
       "hypertension1                         4.942340\n",
       "optimistic_before1                    1.502500\n",
       "other_sports_before1                  4.627577\n",
       "PA_barriers_before_time_convenience1  1.065756\n",
       "PA_barriers_before_tiredness1         1.058610\n",
       "PA_duration_before                   19.932053\n",
       "PA_easiness_family_before1            4.696998\n",
       "PA_easiness_home_activity_before1     2.090139\n",
       "PA_easiness_home_equipament_before1   1.127085\n",
       "PA_easiness_home_space_before1        2.350002\n",
       "PA_easiness_unguided_before1          3.189200\n",
       "PA_intensity_before                  31.769159\n",
       "pa_number_before                     21.367552\n",
       "PA_practice_beforepractice           12.871697\n",
       "PA_weekly_frequency_before           35.395360\n",
       "scholarity                            1.386930\n",
       "sedentary_time_range_before           4.501546"
      ]
     },
     "metadata": {},
     "output_type": "display_data"
    }
   ],
   "source": [
    "gini = varImp(model$result$finalModel)\n",
    "#gini[order(gini)]\n",
    "head(gini, 20)\n",
    "# plot(varImp(model$result$finalModel), main=\"Variables Importance - Decision Tree\") "
   ]
  },
  {
   "cell_type": "markdown",
   "metadata": {},
   "source": [
    "## F-beta score with augmentation"
   ]
  },
  {
   "cell_type": "code",
   "execution_count": 30,
   "metadata": {},
   "outputs": [
    {
     "name": "stderr",
     "output_type": "stream",
     "text": [
      "Warning message in nominalTrainWorkflow(x = x, y = y, wts = weights, info = trainInfo, :\n",
      "\"There were missing values in resampled performance measures.\"\n"
     ]
    },
    {
     "name": "stdout",
     "output_type": "stream",
     "text": [
      "Confusion Matrix and Statistics\n",
      "\n",
      "               Reference\n",
      "Prediction      dont_practice practice\n",
      "  dont_practice            48       47\n",
      "  practice                 55      221\n",
      "                                          \n",
      "               Accuracy : 0.7251          \n",
      "                 95% CI : (0.6766, 0.7699)\n",
      "    No Information Rate : 0.7224          \n",
      "    P-Value [Acc > NIR] : 0.4803          \n",
      "                                          \n",
      "                  Kappa : 0.2978          \n",
      "                                          \n",
      " Mcnemar's Test P-Value : 0.4882          \n",
      "                                          \n",
      "            Sensitivity : 0.4660          \n",
      "            Specificity : 0.8246          \n",
      "         Pos Pred Value : 0.5053          \n",
      "         Neg Pred Value : 0.8007          \n",
      "             Prevalence : 0.2776          \n",
      "         Detection Rate : 0.1294          \n",
      "   Detection Prevalence : 0.2561          \n",
      "      Balanced Accuracy : 0.6453          \n",
      "                                          \n",
      "       'Positive' Class : dont_practice   \n",
      "                                          \n"
     ]
    },
    {
     "data": {
      "image/png": "[encoded data removed]",
      "text/plain": [
       "plot without title"
      ]
     },
     "metadata": {
      "image/png": {
       "height": 420,
       "width": 420
      }
     },
     "output_type": "display_data"
    }
   ],
   "source": [
    "model <- fit_model(\n",
    "    model_method=\"rpart\",\n",
    "    model_metric=\"FB\",\n",
    "    trControl_func = trainControl(method = \"boot\", summaryFunction=fbeta, classProbs = TRUE),\n",
    "    train_data = treino.aug,\n",
    "    test_data=teste,\n",
    "    yname=\"PA_practice_during\"\n",
    ")\n",
    "print(model$matrix)\n",
    "rpart.plot(model$result$finalModel)"
   ]
  },
  {
   "cell_type": "markdown",
   "metadata": {},
   "source": [
    "# Decision tree for people with Tag or depression"
   ]
  },
  {
   "cell_type": "markdown",
   "metadata": {},
   "source": [
    "## Filtering dataset and finding out the majority class\n"
   ]
  },
  {
   "cell_type": "code",
   "execution_count": 31,
   "metadata": {},
   "outputs": [
    {
     "name": "stdout",
     "output_type": "stream",
     "text": [
      "\n",
      "dont_practice      practice \n",
      "           50            99 \n"
     ]
    },
    {
     "data": {
      "text/html": [
       "<style>\n",
       ".list-inline {list-style: none; margin:0; padding: 0}\n",
       ".list-inline>li {display: inline-block}\n",
       ".list-inline>li:not(:last-child)::after {content: \"\\00b7\"; padding: 0 .5ex}\n",
       "</style>\n",
       "<ol class=list-inline><li>149</li><li>72</li></ol>\n"
      ],
      "text/latex": [
       "\\begin{enumerate*}\n",
       "\\item 149\n",
       "\\item 72\n",
       "\\end{enumerate*}\n"
      ],
      "text/markdown": [
       "1. 149\n",
       "2. 72\n",
       "\n",
       "\n"
      ],
      "text/plain": [
       "[1] 149  72"
      ]
     },
     "metadata": {},
     "output_type": "display_data"
    }
   ],
   "source": [
    "before_datase_disorders <- before_dataset[has_tag_depression, ]\n",
    "before_datase_disorders <- subset(before_datase_disorders, select = -c(TAG, depression))\n",
    "\n",
    "print(table(before_datase_disorders[, \"PA_practice_during\"]))\n",
    "dim(before_datase_disorders)\n",
    "\n"
   ]
  },
  {
   "cell_type": "markdown",
   "metadata": {},
   "source": [
    "## Creating the dataset partition"
   ]
  },
  {
   "cell_type": "code",
   "execution_count": 32,
   "metadata": {},
   "outputs": [],
   "source": [
    "set.seed(2)\n",
    "lista_treino <- createDataPartition(before_datase_disorders$PA_practice_during, p=0.7, list=FALSE)\n",
    "treino <- before_datase_disorders[lista_treino,]\n",
    "teste <- before_datase_disorders[-lista_treino,]\n",
    "\n"
   ]
  },
  {
   "cell_type": "markdown",
   "metadata": {},
   "source": [
    "## Applying augmentation into the training set"
   ]
  },
  {
   "cell_type": "code",
   "execution_count": 33,
   "metadata": {},
   "outputs": [
    {
     "data": {
      "text/plain": [
       "\n",
       "dont_practice      practice \n",
       "           69            70 "
      ]
     },
     "metadata": {},
     "output_type": "display_data"
    }
   ],
   "source": [
    "treino.aug <- data_augmentation(\n",
    "    train_data=treino,\n",
    "    yname=\"PA_practice_during\",\n",
    "    maj_class = \"practice\",\n",
    "    min_classes = c(\"dont_practice\"),\n",
    "    ycol=match(\"PA_practice_during\",names(before_datase_disorders))\n",
    ")\n",
    "\n",
    "table(treino.aug[, \"PA_practice_during\"])\n"
   ]
  },
  {
   "cell_type": "markdown",
   "metadata": {},
   "source": [
    "## Kappa metric without augmentation"
   ]
  },
  {
   "cell_type": "code",
   "execution_count": 34,
   "metadata": {},
   "outputs": [
    {
     "name": "stdout",
     "output_type": "stream",
     "text": [
      "Confusion Matrix and Statistics\n",
      "\n",
      "               Reference\n",
      "Prediction      dont_practice practice\n",
      "  dont_practice             2        8\n",
      "  practice                 13       21\n",
      "                                          \n",
      "               Accuracy : 0.5227          \n",
      "                 95% CI : (0.3669, 0.6754)\n",
      "    No Information Rate : 0.6591          \n",
      "    P-Value [Acc > NIR] : 0.9787          \n",
      "                                          \n",
      "                  Kappa : -0.155          \n",
      "                                          \n",
      " Mcnemar's Test P-Value : 0.3827          \n",
      "                                          \n",
      "            Sensitivity : 0.13333         \n",
      "            Specificity : 0.72414         \n",
      "         Pos Pred Value : 0.20000         \n",
      "         Neg Pred Value : 0.61765         \n",
      "             Prevalence : 0.34091         \n",
      "         Detection Rate : 0.04545         \n",
      "   Detection Prevalence : 0.22727         \n",
      "      Balanced Accuracy : 0.42874         \n",
      "                                          \n",
      "       'Positive' Class : dont_practice   \n",
      "                                          \n"
     ]
    },
    {
     "data": {
      "image/png": "[encoded data removed]",
      "text/plain": [
       "plot without title"
      ]
     },
     "metadata": {
      "image/png": {
       "height": 420,
       "width": 420
      }
     },
     "output_type": "display_data"
    }
   ],
   "source": [
    "model <- fit_model(\n",
    "    model_method=\"rpart\",\n",
    "    model_metric=\"Kappa\",\n",
    "    trControl_func = trainControl(method = \"cv\"),\n",
    "    train_data = treino,\n",
    "    test_data=teste,\n",
    "    yname=\"PA_practice_during\",\n",
    "    length = 3\n",
    ")\n",
    "print(model$matrix)\n",
    "# print(model$result)\n",
    "rpart.plot(model$result$finalModel)\n",
    "\n"
   ]
  },
  {
   "cell_type": "markdown",
   "metadata": {},
   "source": [
    "## Kappa metric with augmentation"
   ]
  },
  {
   "cell_type": "code",
   "execution_count": 35,
   "metadata": {},
   "outputs": [
    {
     "name": "stdout",
     "output_type": "stream",
     "text": [
      "Confusion Matrix and Statistics\n",
      "\n",
      "               Reference\n",
      "Prediction      dont_practice practice\n",
      "  dont_practice             2        9\n",
      "  practice                 13       20\n",
      "                                          \n",
      "               Accuracy : 0.5             \n",
      "                 95% CI : (0.3456, 0.6544)\n",
      "    No Information Rate : 0.6591          \n",
      "    P-Value [Acc > NIR] : 0.9901          \n",
      "                                          \n",
      "                  Kappa : -0.1892         \n",
      "                                          \n",
      " Mcnemar's Test P-Value : 0.5224          \n",
      "                                          \n",
      "            Sensitivity : 0.13333         \n",
      "            Specificity : 0.68966         \n",
      "         Pos Pred Value : 0.18182         \n",
      "         Neg Pred Value : 0.60606         \n",
      "             Prevalence : 0.34091         \n",
      "         Detection Rate : 0.04545         \n",
      "   Detection Prevalence : 0.25000         \n",
      "      Balanced Accuracy : 0.41149         \n",
      "                                          \n",
      "       'Positive' Class : dont_practice   \n",
      "                                          \n"
     ]
    },
    {
     "data": {
      "image/png": "[encoded data removed]",
      "text/plain": [
       "plot without title"
      ]
     },
     "metadata": {
      "image/png": {
       "height": 420,
       "width": 420
      }
     },
     "output_type": "display_data"
    }
   ],
   "source": [
    "model <- fit_model(\n",
    "    model_method=\"rpart\",\n",
    "    model_metric=\"Kappa\",\n",
    "    trControl_func = trainControl(method = \"boot\"),\n",
    "    train_data = treino.aug,\n",
    "    test_data=teste,\n",
    "    yname=\"PA_practice_during\",\n",
    "    length=3\n",
    ")\n",
    "print(model$matrix)\n",
    "rpart.plot(model$result$finalModel)"
   ]
  }
 ],
 "metadata": {
  "kernelspec": {
   "display_name": "R",
   "language": "R",
   "name": "ir"
  },
  "language_info": {
   "codemirror_mode": "r",
   "file_extension": ".r",
   "mimetype": "text/x-r-source",
   "name": "R",
   "pygments_lexer": "r",
   "version": "4.1.0"
  },
  "orig_nbformat": 4
 },
 "nbformat": 4,
 "nbformat_minor": 2
}
