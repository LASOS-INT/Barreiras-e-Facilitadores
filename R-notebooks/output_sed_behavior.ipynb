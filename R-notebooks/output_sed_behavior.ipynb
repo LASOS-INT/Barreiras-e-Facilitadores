{
 "cells": [
  {
   "cell_type": "markdown",
   "metadata": {},
   "source": [
    "## Importing packages"
   ]
  },
  {
   "cell_type": "code",
   "execution_count": 1,
   "metadata": {},
   "outputs": [
    {
     "name": "stderr",
     "output_type": "stream",
     "text": [
      "Warning message:\n",
      "\"package 'here' was built under R version 4.1.1\"\n",
      "here() starts at C:/Users/maria/Desktop/Programacao/IC/projetos/Barreiras-e-Facilitadores\n",
      "\n",
      "Warning message:\n",
      "\"package 'ggplot2' was built under R version 4.1.1\"\n",
      "Warning message:\n",
      "\"package 'cowplot' was built under R version 4.1.1\"\n",
      "Warning message:\n",
      "\"package 'randomForest' was built under R version 4.1.1\"\n",
      "randomForest 4.6-14\n",
      "\n",
      "Type rfNews() to see new features/changes/bug fixes.\n",
      "\n",
      "\n",
      "Attaching package: 'randomForest'\n",
      "\n",
      "\n",
      "The following object is masked from 'package:ggplot2':\n",
      "\n",
      "    margin\n",
      "\n",
      "\n",
      "Warning message:\n",
      "\"package 'caret' was built under R version 4.1.1\"\n",
      "Carregando pacotes exigidos: lattice\n",
      "\n",
      "Warning message:\n",
      "\"package 'lattice' was built under R version 4.1.1\"\n",
      "Warning message:\n",
      "\"package 'rpart.plot' was built under R version 4.1.1\"\n",
      "Carregando pacotes exigidos: rpart\n",
      "\n",
      "Warning message:\n",
      "\"package 'readxl' was built under R version 4.1.2\"\n",
      "Warning message:\n",
      "\"package 'e1071' was built under R version 4.1.1\"\n",
      "Warning message:\n",
      "\"package 'AugmenterR' was built under R version 4.1.1\"\n",
      "Warning message:\n",
      "\"package 'smotefamily' was built under R version 4.1.1\"\n",
      "Warning message:\n",
      "\"package 'ROSE' was built under R version 4.1.1\"\n",
      "Loaded ROSE 0.0-4\n",
      "\n",
      "\n",
      "Warning message:\n",
      "\"package 'xgboost' was built under R version 4.1.1\"\n",
      "Type 'citation(\"pROC\")' for a citation.\n",
      "\n",
      "\n",
      "Attaching package: 'pROC'\n",
      "\n",
      "\n",
      "The following objects are masked from 'package:stats':\n",
      "\n",
      "    cov, smooth, var\n",
      "\n",
      "\n",
      "Warning message:\n",
      "\"package 'MASS' was built under R version 4.1.1\"\n",
      "\n",
      "Attaching package: 'MASS'\n",
      "\n",
      "\n",
      "The following object is masked _by_ '.GlobalEnv':\n",
      "\n",
      "    fbeta\n",
      "\n",
      "\n",
      "Warning message:\n",
      "\"package 'DescTools' was built under R version 4.1.1\"\n",
      "\n",
      "Attaching package: 'DescTools'\n",
      "\n",
      "\n",
      "The following objects are masked from 'package:caret':\n",
      "\n",
      "    MAE, RMSE\n",
      "\n",
      "\n",
      "Warning message:\n",
      "\"package 'dplyr' was built under R version 4.1.1\"\n",
      "\n",
      "Attaching package: 'dplyr'\n",
      "\n",
      "\n",
      "The following object is masked from 'package:MASS':\n",
      "\n",
      "    select\n",
      "\n",
      "\n",
      "The following object is masked from 'package:xgboost':\n",
      "\n",
      "    slice\n",
      "\n",
      "\n",
      "The following object is masked from 'package:randomForest':\n",
      "\n",
      "    combine\n",
      "\n",
      "\n",
      "The following objects are masked from 'package:stats':\n",
      "\n",
      "    filter, lag\n",
      "\n",
      "\n",
      "The following objects are masked from 'package:base':\n",
      "\n",
      "    intersect, setdiff, setequal, union\n",
      "\n",
      "\n",
      "\n",
      "Attaching package: 'kernlab'\n",
      "\n",
      "\n",
      "The following object is masked from 'package:ggplot2':\n",
      "\n",
      "    alpha\n",
      "\n",
      "\n",
      "Warning message:\n",
      "\"package 'fastAdaboost' was built under R version 4.1.1\"\n",
      "Warning message:\n",
      "\"package 'DataExplorer' was built under R version 4.1.1\"\n",
      "dummies-1.5.6 provided by Decision Patterns\n",
      "\n",
      "\n",
      "Warning message:\n",
      "\"package 'mlbench' was built under R version 4.1.1\"\n",
      "Warning message:\n",
      "\"package 'h2o' was built under R version 4.1.1\"\n",
      "\n",
      "----------------------------------------------------------------------\n",
      "\n",
      "Your next step is to start H2O:\n",
      "    > h2o.init()\n",
      "\n",
      "For H2O package documentation, ask for help:\n",
      "    > ??h2o\n",
      "\n",
      "After starting H2O, you can use the Web UI at http://localhost:54321\n",
      "For more information visit https://docs.h2o.ai\n",
      "\n",
      "----------------------------------------------------------------------\n",
      "\n",
      "\n",
      "\n",
      "Attaching package: 'h2o'\n",
      "\n",
      "\n",
      "The following object is masked from 'package:pROC':\n",
      "\n",
      "    var\n",
      "\n",
      "\n",
      "The following objects are masked from 'package:stats':\n",
      "\n",
      "    cor, sd, var\n",
      "\n",
      "\n",
      "The following objects are masked from 'package:base':\n",
      "\n",
      "    %*%, %in%, &&, ||, apply, as.factor, as.numeric, colnames,\n",
      "    colnames<-, ifelse, is.character, is.factor, is.numeric, log,\n",
      "    log10, log1p, log2, round, signif, trunc\n",
      "\n",
      "\n",
      "Warning message:\n",
      "\"package 'rattle' was built under R version 4.1.1\"\n",
      "Carregando pacotes exigidos: tibble\n",
      "\n",
      "Carregando pacotes exigidos: bitops\n",
      "\n",
      "\n",
      "Attaching package: 'bitops'\n",
      "\n",
      "\n",
      "The following object is masked from 'package:DescTools':\n",
      "\n",
      "    %^%\n",
      "\n",
      "\n",
      "Rattle: A free graphical interface for data science with R.\n",
      "Version 5.4.0 Copyright (c) 2006-2020 Togaware Pty Ltd.\n",
      "Type 'rattle()' to shake, rattle, and roll your data.\n",
      "\n",
      "\n",
      "Attaching package: 'rattle'\n",
      "\n",
      "\n",
      "The following object is masked from 'package:xgboost':\n",
      "\n",
      "    xgboost\n",
      "\n",
      "\n",
      "The following object is masked from 'package:randomForest':\n",
      "\n",
      "    importance\n",
      "\n",
      "\n",
      "Warning message:\n",
      "\"package 'MLmetrics' was built under R version 4.1.1\"\n",
      "\n",
      "Attaching package: 'MLmetrics'\n",
      "\n",
      "\n",
      "The following objects are masked from 'package:DescTools':\n",
      "\n",
      "    AUC, Gini, MAE, MAPE, MSE, RMSE\n",
      "\n",
      "\n",
      "The following objects are masked from 'package:caret':\n",
      "\n",
      "    MAE, RMSE\n",
      "\n",
      "\n",
      "The following object is masked from 'package:base':\n",
      "\n",
      "    Recall\n",
      "\n",
      "\n",
      "Warning message:\n",
      "\"package 'ggfortify' was built under R version 4.1.1\"\n",
      "Warning message:\n",
      "\"package 'Rtsne' was built under R version 4.1.1\"\n",
      "Warning message:\n",
      "\"package 'obliqueRF' was built under R version 4.1.2\"\n",
      "Carregando pacotes exigidos: ROCR\n",
      "\n",
      "Warning message:\n",
      "\"package 'ROCR' was built under R version 4.1.1\"\n",
      "Carregando pacotes exigidos: pls\n",
      "\n",
      "Warning message:\n",
      "\"package 'pls' was built under R version 4.1.2\"\n",
      "\n",
      "Attaching package: 'pls'\n",
      "\n",
      "\n",
      "The following object is masked from 'package:caret':\n",
      "\n",
      "    R2\n",
      "\n",
      "\n",
      "The following object is masked from 'package:stats':\n",
      "\n",
      "    loadings\n",
      "\n",
      "\n",
      "Carregando pacotes exigidos: mda\n",
      "\n",
      "Warning message:\n",
      "\"package 'mda' was built under R version 4.1.2\"\n",
      "Carregando pacotes exigidos: class\n",
      "\n",
      "Loaded mda 0.5-2\n",
      "\n",
      "\n",
      "obliqueRF 0.3\n",
      "\n",
      "Type orfNews() to see new features/changes/bug fixes.\n",
      "\n",
      "\n",
      "Attaching package: 'obliqueRF'\n",
      "\n",
      "\n",
      "The following object is masked from 'package:rattle':\n",
      "\n",
      "    importance\n",
      "\n",
      "\n",
      "The following object is masked from 'package:randomForest':\n",
      "\n",
      "    importance\n",
      "\n",
      "\n",
      "Warning message:\n",
      "\"package 'gbm' was built under R version 4.1.2\"\n",
      "Loaded gbm 2.1.8\n",
      "\n",
      "Warning message:\n",
      "\"package 'MLeval' was built under R version 4.1.2\"\n"
     ]
    },
    {
     "name": "stdout",
     "output_type": "stream",
     "text": [
      "Performing PCA\n",
      "Read the 1242 x 50 data matrix successfully!\n",
      "OpenMP is working. 1 threads.\n",
      "Using no_dims = 2, perplexity = 100.000000, and theta = 0.500000\n",
      "Computing input similarities...\n",
      "Building tree...\n",
      "Done in 2.39 seconds (sparsity = 0.326346)!\n",
      "Learning embedding...\n",
      "Iteration 50: error is 57.596822 (50 iterations in 2.82 seconds)\n",
      "Iteration 100: error is 57.596822 (50 iterations in 2.95 seconds)\n",
      "Iteration 150: error is 57.596822 (50 iterations in 3.33 seconds)\n",
      "Iteration 200: error is 57.596822 (50 iterations in 6.17 seconds)\n",
      "Iteration 250: error is 57.596830 (50 iterations in 7.05 seconds)\n",
      "Iteration 300: error is 2.314829 (50 iterations in 6.89 seconds)\n",
      "Iteration 350: error is 1.308008 (50 iterations in 5.45 seconds)\n",
      "Iteration 400: error is 1.263160 (50 iterations in 5.24 seconds)\n",
      "Iteration 450: error is 1.258562 (50 iterations in 4.86 seconds)\n",
      "Iteration 500: error is 1.254343 (50 iterations in 5.77 seconds)\n",
      "Iteration 550: error is 1.251567 (50 iterations in 6.70 seconds)\n",
      "Iteration 600: error is 1.249091 (50 iterations in 7.60 seconds)\n",
      "Iteration 650: error is 1.247671 (50 iterations in 5.37 seconds)\n",
      "Iteration 700: error is 1.246860 (50 iterations in 6.65 seconds)\n",
      "Iteration 750: error is 1.245604 (50 iterations in 6.71 seconds)\n",
      "Iteration 800: error is 1.244255 (50 iterations in 8.17 seconds)\n",
      "Iteration 850: error is 1.244026 (50 iterations in 6.18 seconds)\n",
      "Iteration 900: error is 1.243845 (50 iterations in 4.68 seconds)\n",
      "Iteration 950: error is 1.243040 (50 iterations in 5.18 seconds)\n",
      "Iteration 1000: error is 1.242951 (50 iterations in 4.35 seconds)\n",
      "Fitting performed in 112.13 seconds.\n"
     ]
    },
    {
     "data": {
      "text/html": [
       "<ol>\n",
       "\t<li>TRUE</li>\n",
       "\t<li>TRUE</li>\n",
       "\t<li>TRUE</li>\n",
       "\t<li>TRUE</li>\n",
       "\t<li>TRUE</li>\n",
       "\t<li>TRUE</li>\n",
       "\t<li>TRUE</li>\n",
       "\t<li>TRUE</li>\n",
       "\t<li>TRUE</li>\n",
       "\t<li>TRUE</li>\n",
       "\t<li>TRUE</li>\n",
       "\t<li>TRUE</li>\n",
       "\t<li>TRUE</li>\n",
       "\t<li>TRUE</li>\n",
       "\t<li>TRUE</li>\n",
       "\t<li>TRUE</li>\n",
       "\t<li>TRUE</li>\n",
       "\t<li>TRUE</li>\n",
       "\t<li>TRUE</li>\n",
       "\t<li>TRUE</li>\n",
       "\t<li>TRUE</li>\n",
       "\t<li>TRUE</li>\n",
       "\t<li>TRUE</li>\n",
       "\t<li>TRUE</li>\n",
       "\t<li>TRUE</li>\n",
       "\t<li>TRUE</li>\n",
       "\t<li>TRUE</li>\n",
       "\t<li>TRUE</li>\n",
       "\t<li>TRUE</li>\n",
       "\t<li>TRUE</li>\n",
       "\t<li>TRUE</li>\n",
       "</ol>\n"
      ],
      "text/latex": [
       "\\begin{enumerate}\n",
       "\\item TRUE\n",
       "\\item TRUE\n",
       "\\item TRUE\n",
       "\\item TRUE\n",
       "\\item TRUE\n",
       "\\item TRUE\n",
       "\\item TRUE\n",
       "\\item TRUE\n",
       "\\item TRUE\n",
       "\\item TRUE\n",
       "\\item TRUE\n",
       "\\item TRUE\n",
       "\\item TRUE\n",
       "\\item TRUE\n",
       "\\item TRUE\n",
       "\\item TRUE\n",
       "\\item TRUE\n",
       "\\item TRUE\n",
       "\\item TRUE\n",
       "\\item TRUE\n",
       "\\item TRUE\n",
       "\\item TRUE\n",
       "\\item TRUE\n",
       "\\item TRUE\n",
       "\\item TRUE\n",
       "\\item TRUE\n",
       "\\item TRUE\n",
       "\\item TRUE\n",
       "\\item TRUE\n",
       "\\item TRUE\n",
       "\\item TRUE\n",
       "\\end{enumerate}\n"
      ],
      "text/markdown": [
       "1. TRUE\n",
       "2. TRUE\n",
       "3. TRUE\n",
       "4. TRUE\n",
       "5. TRUE\n",
       "6. TRUE\n",
       "7. TRUE\n",
       "8. TRUE\n",
       "9. TRUE\n",
       "10. TRUE\n",
       "11. TRUE\n",
       "12. TRUE\n",
       "13. TRUE\n",
       "14. TRUE\n",
       "15. TRUE\n",
       "16. TRUE\n",
       "17. TRUE\n",
       "18. TRUE\n",
       "19. TRUE\n",
       "20. TRUE\n",
       "21. TRUE\n",
       "22. TRUE\n",
       "23. TRUE\n",
       "24. TRUE\n",
       "25. TRUE\n",
       "26. TRUE\n",
       "27. TRUE\n",
       "28. TRUE\n",
       "29. TRUE\n",
       "30. TRUE\n",
       "31. TRUE\n",
       "\n",
       "\n"
      ],
      "text/plain": [
       "[[1]]\n",
       "[1] TRUE\n",
       "\n",
       "[[2]]\n",
       "[1] TRUE\n",
       "\n",
       "[[3]]\n",
       "[1] TRUE\n",
       "\n",
       "[[4]]\n",
       "[1] TRUE\n",
       "\n",
       "[[5]]\n",
       "[1] TRUE\n",
       "\n",
       "[[6]]\n",
       "[1] TRUE\n",
       "\n",
       "[[7]]\n",
       "[1] TRUE\n",
       "\n",
       "[[8]]\n",
       "[1] TRUE\n",
       "\n",
       "[[9]]\n",
       "[1] TRUE\n",
       "\n",
       "[[10]]\n",
       "[1] TRUE\n",
       "\n",
       "[[11]]\n",
       "[1] TRUE\n",
       "\n",
       "[[12]]\n",
       "[1] TRUE\n",
       "\n",
       "[[13]]\n",
       "[1] TRUE\n",
       "\n",
       "[[14]]\n",
       "[1] TRUE\n",
       "\n",
       "[[15]]\n",
       "[1] TRUE\n",
       "\n",
       "[[16]]\n",
       "[1] TRUE\n",
       "\n",
       "[[17]]\n",
       "[1] TRUE\n",
       "\n",
       "[[18]]\n",
       "[1] TRUE\n",
       "\n",
       "[[19]]\n",
       "[1] TRUE\n",
       "\n",
       "[[20]]\n",
       "[1] TRUE\n",
       "\n",
       "[[21]]\n",
       "[1] TRUE\n",
       "\n",
       "[[22]]\n",
       "[1] TRUE\n",
       "\n",
       "[[23]]\n",
       "[1] TRUE\n",
       "\n",
       "[[24]]\n",
       "[1] TRUE\n",
       "\n",
       "[[25]]\n",
       "[1] TRUE\n",
       "\n",
       "[[26]]\n",
       "[1] TRUE\n",
       "\n",
       "[[27]]\n",
       "[1] TRUE\n",
       "\n",
       "[[28]]\n",
       "[1] TRUE\n",
       "\n",
       "[[29]]\n",
       "[1] TRUE\n",
       "\n",
       "[[30]]\n",
       "[1] TRUE\n",
       "\n",
       "[[31]]\n",
       "[1] TRUE\n"
      ]
     },
     "metadata": {},
     "output_type": "display_data"
    }
   ],
   "source": [
    "#install.packages(\"here\")\n",
    "library(here, help, pos = 2, lib.loc = NULL)\n",
    "source(here('Modules','modules.R'))\n",
    "source(here('Modules','data_cleaning.R'))\n",
    "source(here('Modules','unsupervised_learning.R'))\n",
    "#install_all_packages()\n",
    "load_library_packages()"
   ]
  },
  {
   "cell_type": "markdown",
   "metadata": {},
   "source": [
    "## Outliers"
   ]
  },
  {
   "cell_type": "code",
   "execution_count": 2,
   "metadata": {},
   "outputs": [
    {
     "data": {
      "text/plain": [
       "\n",
       "change_to_not_sedentary     change_to_sedentary     still_not_sedentary \n",
       "                     25                     330                     780 \n",
       "        still_sedentary \n",
       "                    107 "
      ]
     },
     "metadata": {},
     "output_type": "display_data"
    },
    {
     "data": {
      "text/plain": [
       "\n",
       "change_to_sedentary still_not_sedentary \n",
       "                330                 780 "
      ]
     },
     "metadata": {},
     "output_type": "display_data"
    }
   ],
   "source": [
    "table(sedentary_behavior_dataset[, \"sedentary_behavior\"])\n",
    "sedentary_before <- c(\"still_sedentary\", \"change_to_not_sedentary\")\n",
    "active_before <- c(\"still_not_sedentary\", \"change_to_sedentary\")\n",
    "sedentary_behavior_dataset_1 <- sedentary_behavior_dataset[sedentary_behavior_dataset$sedentary_behavior %in% active_before, ]\n",
    "\n",
    "new_levels <- droplevels(sedentary_behavior_dataset_1[, \"sedentary_behavior\"], exclude = levels(sedentary_behavior_dataset_1[, \"sedentary_behavior\"]) %in% sedentary_before)\n",
    "sedentary_behavior_dataset_1[, \"sedentary_behavior\"] <- new_levels\n",
    "\n",
    "table(sedentary_behavior_dataset_1[, \"sedentary_behavior\"])"
   ]
  },
  {
   "cell_type": "markdown",
   "metadata": {},
   "source": [
    "### Outlier: Strange Dont Practice"
   ]
  },
  {
   "cell_type": "code",
   "execution_count": 3,
   "metadata": {},
   "outputs": [
    {
     "name": "stderr",
     "output_type": "stream",
     "text": [
      "Setting levels: control = 1, case = 2\n",
      "\n",
      "Setting direction: controls < cases\n",
      "\n",
      "Setting levels: control = 1, case = 2\n",
      "\n",
      "Setting direction: controls < cases\n",
      "\n",
      "Setting levels: control = 1, case = 2\n",
      "\n",
      "Setting direction: controls < cases\n",
      "\n",
      "Setting levels: control = 1, case = 2\n",
      "\n",
      "Setting direction: controls < cases\n",
      "\n",
      "Setting levels: control = 1, case = 2\n",
      "\n",
      "Setting direction: controls < cases\n",
      "\n",
      "Setting levels: control = 1, case = 2\n",
      "\n",
      "Setting direction: controls < cases\n",
      "\n",
      "Setting levels: control = 1, case = 2\n",
      "\n",
      "Setting direction: controls < cases\n",
      "\n",
      "Setting levels: control = 1, case = 2\n",
      "\n",
      "Setting direction: controls < cases\n",
      "\n",
      "Setting levels: control = 1, case = 2\n",
      "\n",
      "Setting direction: controls < cases\n",
      "\n",
      "Setting levels: control = 1, case = 2\n",
      "\n",
      "Setting direction: controls < cases\n",
      "\n",
      "Setting levels: control = 1, case = 2\n",
      "\n",
      "Setting direction: controls < cases\n",
      "\n",
      "Setting levels: control = 1, case = 2\n",
      "\n",
      "Setting direction: controls < cases\n",
      "\n",
      "Setting levels: control = 1, case = 2\n",
      "\n",
      "Setting direction: controls < cases\n",
      "\n",
      "Setting levels: control = 1, case = 2\n",
      "\n",
      "Setting direction: controls < cases\n",
      "\n",
      "Setting levels: control = 1, case = 2\n",
      "\n",
      "Setting direction: controls < cases\n",
      "\n",
      "Setting levels: control = 1, case = 2\n",
      "\n",
      "Setting direction: controls < cases\n",
      "\n"
     ]
    }
   ],
   "source": [
    "sedentary_behavior_dataset_copy <- sedentary_behavior_dataset_1\n",
    "sedentary_behavior_dataset_copy[\"outlier\"] <- strange_dp[as.numeric(rownames(sedentary_behavior_dataset_1))]\n",
    "outliers_result_dp <- outliers_checker(distances_sdp, sedentary_behavior_dataset_copy, \"sedentary_behavior\")"
   ]
  },
  {
   "cell_type": "code",
   "execution_count": 11,
   "metadata": {},
   "outputs": [
    {
     "data": {
      "image/png": "[encoded data removed]",
      "text/plain": [
       "plot without title"
      ]
     },
     "metadata": {
      "image/png": {
       "height": 420,
       "width": 420
      }
     },
     "output_type": "display_data"
    }
   ],
   "source": [
    "plot <- outliers_result_dp$kappa_x_alpha\n",
    "ggplot(plot, aes(plot[, \"alpha\"], plot[, \"kappa\"] )) + geom_point()"
   ]
  },
  {
   "cell_type": "markdown",
   "metadata": {},
   "source": [
    "#### Outlier: Strange Practice"
   ]
  },
  {
   "cell_type": "code",
   "execution_count": 13,
   "metadata": {},
   "outputs": [],
   "source": [
    "sedentary_behavior_dataset_copy <- sedentary_behavior_dataset_1\n",
    "sedentary_behavior_dataset_copy[\"outlier\"] <- strange_p[as.numeric(rownames(sedentary_behavior_dataset_1))]\n",
    "outliers_result_sp <- outliers_checker(distances_sp, sedentary_behavior_dataset_copy, \"sedentary_behavior\")"
   ]
  },
  {
   "cell_type": "code",
   "execution_count": 14,
   "metadata": {},
   "outputs": [
    {
     "data": {
      "image/png": "[encoded data removed]",
      "text/plain": [
       "plot without title"
      ]
     },
     "metadata": {
      "image/png": {
       "height": 420,
       "width": 420
      }
     },
     "output_type": "display_data"
    }
   ],
   "source": [
    "plot <- outliers_result_sp$kappa_x_alpha\n",
    "ggplot(plot, aes(plot[, \"alpha\"], plot[, \"kappa\"] )) + geom_point()"
   ]
  },
  {
   "cell_type": "markdown",
   "metadata": {},
   "source": [
    "#### New Train and Test\n",
    "The outliers check in the strange dont practice showed that there is no need to delete records"
   ]
  },
  {
   "cell_type": "code",
   "execution_count": 4,
   "metadata": {},
   "outputs": [],
   "source": [
    "sed_behavior_train <- outliers_result_dp$best_model$train\n",
    "sed_behavior_test <- outliers_result_dp$best_model$test"
   ]
  },
  {
   "cell_type": "markdown",
   "metadata": {},
   "source": [
    "## Models for not Sedentary Before"
   ]
  },
  {
   "cell_type": "code",
   "execution_count": 17,
   "metadata": {},
   "outputs": [
    {
     "data": {
      "text/html": [
       "<style>\n",
       ".list-inline {list-style: none; margin:0; padding: 0}\n",
       ".list-inline>li {display: inline-block}\n",
       ".list-inline>li:not(:last-child)::after {content: \"\\00b7\"; padding: 0 .5ex}\n",
       "</style>\n",
       "<ol class=list-inline><li>1110</li><li>73</li></ol>\n"
      ],
      "text/latex": [
       "\\begin{enumerate*}\n",
       "\\item 1110\n",
       "\\item 73\n",
       "\\end{enumerate*}\n"
      ],
      "text/markdown": [
       "1. 1110\n",
       "2. 73\n",
       "\n",
       "\n"
      ],
      "text/plain": [
       "[1] 1110   73"
      ]
     },
     "metadata": {},
     "output_type": "display_data"
    },
    {
     "data": {
      "text/plain": [
       "\n",
       "change_to_sedentary still_not_sedentary \n",
       "                330                 780 "
      ]
     },
     "metadata": {},
     "output_type": "display_data"
    }
   ],
   "source": [
    "dim(sedentary_behavior_dataset_1)\n",
    "table(sedentary_behavior_dataset_1[, \"sedentary_behavior\"])"
   ]
  },
  {
   "cell_type": "markdown",
   "metadata": {},
   "source": [
    "There is a majority class, we should apply data augmentation. We chose kappa metrict to optimize becouse data is unbalanced."
   ]
  },
  {
   "cell_type": "markdown",
   "metadata": {},
   "source": [
    "### Applying augmentation into the training set: sedentary before"
   ]
  },
  {
   "cell_type": "code",
   "execution_count": 20,
   "metadata": {},
   "outputs": [
    {
     "data": {
      "text/plain": [
       "\n",
       "change_to_sedentary still_not_sedentary \n",
       "                546                 546 "
      ]
     },
     "metadata": {},
     "output_type": "display_data"
    }
   ],
   "source": [
    "sed_behavior_train.aug <- data_augmentation(\n",
    "    train_data=sed_behavior_train,\n",
    "    yname=\"sedentary_behavior\",\n",
    "    maj_class = \"still_not_sedentary\",\n",
    "    min_classes = c(\"change_to_sedentary\"),\n",
    "    ycol=match(\"sedentary_behavior\",names(sedentary_behavior_dataset_1))\n",
    ")\n",
    "\n",
    "table(sed_behavior_train.aug[, \"sedentary_behavior\"])\n"
   ]
  },
  {
   "cell_type": "markdown",
   "metadata": {},
   "source": [
    "### Kappa metric without augmentation: not Sedentary Before"
   ]
  },
  {
   "cell_type": "code",
   "execution_count": 21,
   "metadata": {},
   "outputs": [
    {
     "name": "stdout",
     "output_type": "stream",
     "text": [
      "Confusion Matrix and Statistics\n",
      "\n",
      "                     Reference\n",
      "Prediction            change_to_sedentary still_not_sedentary\n",
      "  change_to_sedentary                  18                  14\n",
      "  still_not_sedentary                  81                 220\n",
      "                                             \n",
      "               Accuracy : 0.7147             \n",
      "                 95% CI : (0.6629, 0.7626)   \n",
      "    No Information Rate : 0.7027             \n",
      "    P-Value [Acc > NIR] : 0.3399             \n",
      "                                             \n",
      "                  Kappa : 0.1516             \n",
      "                                             \n",
      " Mcnemar's Test P-Value : 1.275e-11          \n",
      "                                             \n",
      "            Sensitivity : 0.18182            \n",
      "            Specificity : 0.94017            \n",
      "         Pos Pred Value : 0.56250            \n",
      "         Neg Pred Value : 0.73090            \n",
      "              Precision : 0.56250            \n",
      "                 Recall : 0.18182            \n",
      "                     F1 : 0.27481            \n",
      "             Prevalence : 0.29730            \n",
      "         Detection Rate : 0.05405            \n",
      "   Detection Prevalence : 0.09610            \n",
      "      Balanced Accuracy : 0.56099            \n",
      "                                             \n",
      "       'Positive' Class : change_to_sedentary\n",
      "                                             \n"
     ]
    },
    {
     "data": {
      "image/png": "[encoded data removed]",
      "text/plain": [
       "plot without title"
      ]
     },
     "metadata": {
      "image/png": {
       "height": 420,
       "width": 420
      }
     },
     "output_type": "display_data"
    }
   ],
   "source": [
    "set.seed(2)\n",
    "model <- fit_model(\n",
    "    model_method=\"rpart\",\n",
    "    model_metric=\"Kappa\",\n",
    "    trControl_func = trainControl(method = \"cv\"),\n",
    "    train_data = sed_behavior_train,\n",
    "    test_data=sed_behavior_test,\n",
    "    yname=\"sedentary_behavior\",\n",
    "    length = 3\n",
    ")\n",
    "print(model$matrix)\n",
    "# print(model$result)\n",
    "rpart.plot(model$result$finalModel)\n",
    "\n"
   ]
  },
  {
   "cell_type": "markdown",
   "metadata": {},
   "source": [
    "### Accuracy metric with augmentation: not Sedentary Before"
   ]
  },
  {
   "cell_type": "code",
   "execution_count": 22,
   "metadata": {},
   "outputs": [
    {
     "name": "stdout",
     "output_type": "stream",
     "text": [
      "Confusion Matrix and Statistics\n",
      "\n",
      "                     Reference\n",
      "Prediction            change_to_sedentary still_not_sedentary\n",
      "  change_to_sedentary                   3                  11\n",
      "  still_not_sedentary                  96                 223\n",
      "                                             \n",
      "               Accuracy : 0.6787             \n",
      "                 95% CI : (0.6256, 0.7285)   \n",
      "    No Information Rate : 0.7027             \n",
      "    P-Value [Acc > NIR] : 0.8459             \n",
      "                                             \n",
      "                  Kappa : -0.0222            \n",
      "                                             \n",
      " Mcnemar's Test P-Value : 4.639e-16          \n",
      "                                             \n",
      "            Sensitivity : 0.030303           \n",
      "            Specificity : 0.952991           \n",
      "         Pos Pred Value : 0.214286           \n",
      "         Neg Pred Value : 0.699060           \n",
      "              Precision : 0.214286           \n",
      "                 Recall : 0.030303           \n",
      "                     F1 : 0.053097           \n",
      "             Prevalence : 0.297297           \n",
      "         Detection Rate : 0.009009           \n",
      "   Detection Prevalence : 0.042042           \n",
      "      Balanced Accuracy : 0.491647           \n",
      "                                             \n",
      "       'Positive' Class : change_to_sedentary\n",
      "                                             \n"
     ]
    },
    {
     "data": {
      "image/png": "[encoded data removed]",
      "text/plain": [
       "plot without title"
      ]
     },
     "metadata": {
      "image/png": {
       "height": 420,
       "width": 420
      }
     },
     "output_type": "display_data"
    }
   ],
   "source": [
    "set.seed(2)\n",
    "model <- fit_model(\n",
    "    model_method=\"rpart\",\n",
    "    model_metric=\"Kappa\",\n",
    "    trControl_func = trainControl(method = \"cv\"),\n",
    "    train_data = sed_behavior_train.aug,\n",
    "    test_data=sed_behavior_test,\n",
    "    yname=\"sedentary_behavior\",\n",
    "    length = 3\n",
    ")\n",
    "print(model$matrix)\n",
    "# print(model$result)\n",
    "rpart.plot(model$result$finalModel)\n",
    "\n"
   ]
  },
  {
   "cell_type": "markdown",
   "metadata": {},
   "source": [
    "### RF practice before: Kappa metric without augmentation"
   ]
  },
  {
   "cell_type": "code",
   "execution_count": 23,
   "metadata": {},
   "outputs": [
    {
     "name": "stdout",
     "output_type": "stream",
     "text": [
      "Confusion Matrix and Statistics\n",
      "\n",
      "                     Reference\n",
      "Prediction            change_to_sedentary still_not_sedentary\n",
      "  change_to_sedentary                  34                  27\n",
      "  still_not_sedentary                  65                 207\n",
      "                                             \n",
      "               Accuracy : 0.7237             \n",
      "                 95% CI : (0.6723, 0.7711)   \n",
      "    No Information Rate : 0.7027             \n",
      "    P-Value [Acc > NIR] : 0.2188553          \n",
      "                                             \n",
      "                  Kappa : 0.2564             \n",
      "                                             \n",
      " Mcnemar's Test P-Value : 0.0001145          \n",
      "                                             \n",
      "            Sensitivity : 0.3434             \n",
      "            Specificity : 0.8846             \n",
      "         Pos Pred Value : 0.5574             \n",
      "         Neg Pred Value : 0.7610             \n",
      "              Precision : 0.5574             \n",
      "                 Recall : 0.3434             \n",
      "                     F1 : 0.4250             \n",
      "             Prevalence : 0.2973             \n",
      "         Detection Rate : 0.1021             \n",
      "   Detection Prevalence : 0.1832             \n",
      "      Balanced Accuracy : 0.6140             \n",
      "                                             \n",
      "       'Positive' Class : change_to_sedentary\n",
      "                                             \n"
     ]
    }
   ],
   "source": [
    "set.seed(2)\n",
    "model <- fit_model(\n",
    "    model_method=\"rf\",\n",
    "    model_metric=\"Kappa\",\n",
    "    trControl_func = trainControl(method = \"cv\", search=\"grid\"),\n",
    "    train_data = sed_behavior_train,\n",
    "    test_data=sed_behavior_test,\n",
    "    yname=\"sedentary_behavior\",\n",
    "    length = 15\n",
    ")\n",
    "print(model$matrix)"
   ]
  },
  {
   "cell_type": "code",
   "execution_count": 24,
   "metadata": {},
   "outputs": [
    {
     "data": {
      "image/png": "[encoded data removed]",
      "text/plain": [
       "plot without title"
      ]
     },
     "metadata": {
      "image/png": {
       "height": 420,
       "width": 420
      }
     },
     "output_type": "display_data"
    },
    {
     "data": {
      "image/png": "[encoded data removed]",
      "text/plain": [
       "plot without title"
      ]
     },
     "metadata": {
      "image/png": {
       "height": 420,
       "width": 420
      }
     },
     "output_type": "display_data"
    }
   ],
   "source": [
    "plot(varImp(model$result), top=20)\n",
    "plot(model$result)\n"
   ]
  },
  {
   "cell_type": "markdown",
   "metadata": {},
   "source": [
    "### RF practice before: Accuracy metric with augmentation"
   ]
  },
  {
   "cell_type": "code",
   "execution_count": 25,
   "metadata": {},
   "outputs": [
    {
     "name": "stdout",
     "output_type": "stream",
     "text": [
      "Confusion Matrix and Statistics\n",
      "\n",
      "                     Reference\n",
      "Prediction            change_to_sedentary still_not_sedentary\n",
      "  change_to_sedentary                  22                   6\n",
      "  still_not_sedentary                  77                 228\n",
      "                                             \n",
      "               Accuracy : 0.7508             \n",
      "                 95% CI : (0.7007, 0.7963)   \n",
      "    No Information Rate : 0.7027             \n",
      "    P-Value [Acc > NIR] : 0.03002            \n",
      "                                             \n",
      "                  Kappa : 0.2479             \n",
      "                                             \n",
      " Mcnemar's Test P-Value : 1.548e-14          \n",
      "                                             \n",
      "            Sensitivity : 0.22222            \n",
      "            Specificity : 0.97436            \n",
      "         Pos Pred Value : 0.78571            \n",
      "         Neg Pred Value : 0.74754            \n",
      "              Precision : 0.78571            \n",
      "                 Recall : 0.22222            \n",
      "                     F1 : 0.34646            \n",
      "             Prevalence : 0.29730            \n",
      "         Detection Rate : 0.06607            \n",
      "   Detection Prevalence : 0.08408            \n",
      "      Balanced Accuracy : 0.59829            \n",
      "                                             \n",
      "       'Positive' Class : change_to_sedentary\n",
      "                                             \n"
     ]
    }
   ],
   "source": [
    "set.seed(2)\n",
    "model <- fit_model(\n",
    "    model_method=\"rf\",\n",
    "    model_metric=\"Accuracy\",\n",
    "    trControl_func = trainControl(method = \"cv\", search=\"grid\"),\n",
    "    train_data = sed_behavior_train.aug,\n",
    "    test_data=sed_behavior_test,\n",
    "    yname=\"sedentary_behavior\",\n",
    "    length = 15\n",
    ")\n",
    "print(model$matrix)"
   ]
  },
  {
   "cell_type": "code",
   "execution_count": 26,
   "metadata": {},
   "outputs": [
    {
     "data": {
      "image/png": "[encoded data removed]",
      "text/plain": [
       "plot without title"
      ]
     },
     "metadata": {
      "image/png": {
       "height": 420,
       "width": 420
      }
     },
     "output_type": "display_data"
    },
    {
     "data": {
      "image/png": "[encoded data removed]",
      "text/plain": [
       "plot without title"
      ]
     },
     "metadata": {
      "image/png": {
       "height": 420,
       "width": 420
      }
     },
     "output_type": "display_data"
    }
   ],
   "source": [
    "plot(varImp(model$result), top=20)\n",
    "plot(model$result)\n"
   ]
  },
  {
   "cell_type": "markdown",
   "metadata": {},
   "source": [
    "## Sensibility and Specificity Analysis"
   ]
  },
  {
   "cell_type": "markdown",
   "metadata": {},
   "source": [
    "### Vectorized Metrics"
   ]
  },
  {
   "cell_type": "code",
   "execution_count": 5,
   "metadata": {},
   "outputs": [],
   "source": [
    "f1 <- function(ths){\n",
    "    \n",
    "  diff <- abs(ths$Sensitivity - ths$Specificity)\n",
    "  indexOfMin = match(min(diff), diff)\n",
    "  return(ths[indexOfMin, \"prob_threshold\"])\n",
    "}\n",
    "\n",
    "f2 <- function(ths){\n",
    "    desv <- function(x){\n",
    "      sd(c(unname(x[\"Sensitivity\"]), unname(x[\"Specificity\"])))\n",
    "    }\n",
    "    avg <- (ths$Sensitivity + ths$Specificity)/2\n",
    "    deviation <- apply(ths, desv, MARGIN=1)\n",
    "    metric <- avg - deviation\n",
    "    indexOfMin = match(max(metric), metric)\n",
    "    return(ths[indexOfMin, \"prob_threshold\"])\n",
    "}"
   ]
  },
  {
   "cell_type": "markdown",
   "metadata": {},
   "source": [
    "#### Find Optimal threshhold"
   ]
  },
  {
   "cell_type": "code",
   "execution_count": 6,
   "metadata": {},
   "outputs": [
    {
     "name": "stderr",
     "output_type": "stream",
     "text": [
      "Warning message in .fun(piece, ...):\n",
      "\"The following columns have missing values (NA), which have been removed: 'F1'.\n",
      "\"\n",
      "Warning message in .fun(piece, ...):\n",
      "\"The following columns have missing values (NA), which have been removed: 'F1'.\n",
      "\"\n",
      "Warning message in .fun(piece, ...):\n",
      "\"The following columns have missing values (NA), which have been removed: 'F1'.\n",
      "\"\n",
      "Warning message in .fun(piece, ...):\n",
      "\"The following columns have missing values (NA), which have been removed: 'Pos Pred Value', 'Precision', 'F1'.\n",
      "\"\n",
      "Warning message in .fun(piece, ...):\n",
      "\"The following columns have missing values (NA), which have been removed: 'Pos Pred Value', 'Precision', 'F1'.\n",
      "\"\n",
      "Warning message in .fun(piece, ...):\n",
      "\"The following columns have missing values (NA), which have been removed: 'Pos Pred Value', 'Precision', 'F1'.\n",
      "\"\n",
      "Warning message in .fun(piece, ...):\n",
      "\"The following columns have missing values (NA), which have been removed: 'Pos Pred Value', 'Precision', 'F1'.\n",
      "\"\n",
      "Warning message in .fun(piece, ...):\n",
      "\"The following columns have missing values (NA), which have been removed: 'Pos Pred Value', 'Precision', 'F1'.\n",
      "\"\n",
      "Warning message in .fun(piece, ...):\n",
      "\"The following columns have missing values (NA), which have been removed: 'Pos Pred Value', 'Precision', 'F1'.\n",
      "\"\n",
      "Warning message in .fun(piece, ...):\n",
      "\"The following columns have missing values (NA), which have been removed: 'Pos Pred Value', 'Precision', 'F1'.\n",
      "\"\n",
      "Warning message in .fun(piece, ...):\n",
      "\"The following columns have missing values (NA), which have been removed: 'Pos Pred Value', 'Precision', 'F1'.\n",
      "\"\n"
     ]
    },
    {
     "name": "stdout",
     "output_type": "stream",
     "text": [
      "[1] 0.32\n",
      "Confusion Matrix and Statistics\n",
      "\n",
      "                     Reference\n",
      "Prediction            change_to_sedentary still_not_sedentary\n",
      "  change_to_sedentary                  64                  89\n",
      "  still_not_sedentary                  35                 145\n",
      "                                             \n",
      "               Accuracy : 0.6276             \n",
      "                 95% CI : (0.5733, 0.6797)   \n",
      "    No Information Rate : 0.7027             \n",
      "    P-Value [Acc > NIR] : 0.9986             \n",
      "                                             \n",
      "                  Kappa : 0.2299             \n",
      "                                             \n",
      " Mcnemar's Test P-Value : 1.94e-06           \n",
      "                                             \n",
      "            Sensitivity : 0.6465             \n",
      "            Specificity : 0.6197             \n",
      "         Pos Pred Value : 0.4183             \n",
      "         Neg Pred Value : 0.8056             \n",
      "              Precision : 0.4183             \n",
      "                 Recall : 0.6465             \n",
      "                     F1 : 0.5079             \n",
      "             Prevalence : 0.2973             \n",
      "         Detection Rate : 0.1922             \n",
      "   Detection Prevalence : 0.4595             \n",
      "      Balanced Accuracy : 0.6331             \n",
      "                                             \n",
      "       'Positive' Class : change_to_sedentary\n",
      "                                             \n"
     ]
    },
    {
     "data": {
      "image/png": "[encoded data removed]",
      "text/plain": [
       "plot without title"
      ]
     },
     "metadata": {
      "image/png": {
       "height": 420,
       "width": 420
      }
     },
     "output_type": "display_data"
    }
   ],
   "source": [
    "source(here('Modules','modules.R'))\n",
    "set.seed(2)\n",
    "model <- fit_model_thresholder(\n",
    "    model_method=\"rf\",\n",
    "    model_metric=\"Kappa\",\n",
    "    trControl_func = trainControl(method = \"cv\", search=\"grid\",  classProbs=TRUE, savePredictions=TRUE),\n",
    "    train_data = sed_behavior_train,\n",
    "    test_data=sed_behavior_test,\n",
    "    yname=\"sedentary_behavior\",\n",
    "    length = 15,\n",
    "    best_th = f2\n",
    ")\n",
    "\n",
    "print(model$matrix)"
   ]
  }
 ],
 "metadata": {
  "kernelspec": {
   "display_name": "R",
   "language": "R",
   "name": "ir"
  },
  "language_info": {
   "codemirror_mode": "r",
   "file_extension": ".r",
   "mimetype": "text/x-r-source",
   "name": "R",
   "pygments_lexer": "r",
   "version": "4.1.0"
  },
  "orig_nbformat": 4
 },
 "nbformat": 4,
 "nbformat_minor": 2
}
