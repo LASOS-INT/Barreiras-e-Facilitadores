{
 "cells": [
  {
   "cell_type": "markdown",
   "metadata": {},
   "source": [
    "## Importing packages"
   ]
  },
  {
   "cell_type": "code",
   "execution_count": 50,
   "metadata": {
    "vscode": {
     "languageId": "r"
    }
   },
   "outputs": [
    {
     "name": "stderr",
     "output_type": "stream",
     "text": [
      "Warning message:\n",
      "\"package 'cluster' was built under R version 4.1.3\"\n"
     ]
    },
    {
     "data": {
      "text/html": [
       "<ol>\n",
       "\t<li>TRUE</li>\n",
       "\t<li>TRUE</li>\n",
       "\t<li>TRUE</li>\n",
       "\t<li>TRUE</li>\n",
       "\t<li>TRUE</li>\n",
       "\t<li>TRUE</li>\n",
       "\t<li>TRUE</li>\n",
       "\t<li>TRUE</li>\n",
       "\t<li>TRUE</li>\n",
       "\t<li>TRUE</li>\n",
       "\t<li>TRUE</li>\n",
       "\t<li>TRUE</li>\n",
       "\t<li>TRUE</li>\n",
       "\t<li>TRUE</li>\n",
       "\t<li>TRUE</li>\n",
       "\t<li>TRUE</li>\n",
       "\t<li>TRUE</li>\n",
       "\t<li>TRUE</li>\n",
       "\t<li>TRUE</li>\n",
       "\t<li>TRUE</li>\n",
       "\t<li>TRUE</li>\n",
       "\t<li>TRUE</li>\n",
       "\t<li>TRUE</li>\n",
       "\t<li>TRUE</li>\n",
       "\t<li>TRUE</li>\n",
       "\t<li>TRUE</li>\n",
       "\t<li>TRUE</li>\n",
       "\t<li>TRUE</li>\n",
       "\t<li>TRUE</li>\n",
       "\t<li>TRUE</li>\n",
       "\t<li>TRUE</li>\n",
       "\t<li>TRUE</li>\n",
       "\t<li>TRUE</li>\n",
       "\t<li>TRUE</li>\n",
       "\t<li>TRUE</li>\n",
       "\t<li>TRUE</li>\n",
       "\t<li>TRUE</li>\n",
       "\t<li>TRUE</li>\n",
       "</ol>\n"
      ],
      "text/latex": [
       "\\begin{enumerate}\n",
       "\\item TRUE\n",
       "\\item TRUE\n",
       "\\item TRUE\n",
       "\\item TRUE\n",
       "\\item TRUE\n",
       "\\item TRUE\n",
       "\\item TRUE\n",
       "\\item TRUE\n",
       "\\item TRUE\n",
       "\\item TRUE\n",
       "\\item TRUE\n",
       "\\item TRUE\n",
       "\\item TRUE\n",
       "\\item TRUE\n",
       "\\item TRUE\n",
       "\\item TRUE\n",
       "\\item TRUE\n",
       "\\item TRUE\n",
       "\\item TRUE\n",
       "\\item TRUE\n",
       "\\item TRUE\n",
       "\\item TRUE\n",
       "\\item TRUE\n",
       "\\item TRUE\n",
       "\\item TRUE\n",
       "\\item TRUE\n",
       "\\item TRUE\n",
       "\\item TRUE\n",
       "\\item TRUE\n",
       "\\item TRUE\n",
       "\\item TRUE\n",
       "\\item TRUE\n",
       "\\item TRUE\n",
       "\\item TRUE\n",
       "\\item TRUE\n",
       "\\item TRUE\n",
       "\\item TRUE\n",
       "\\item TRUE\n",
       "\\end{enumerate}\n"
      ],
      "text/markdown": [
       "1. TRUE\n",
       "2. TRUE\n",
       "3. TRUE\n",
       "4. TRUE\n",
       "5. TRUE\n",
       "6. TRUE\n",
       "7. TRUE\n",
       "8. TRUE\n",
       "9. TRUE\n",
       "10. TRUE\n",
       "11. TRUE\n",
       "12. TRUE\n",
       "13. TRUE\n",
       "14. TRUE\n",
       "15. TRUE\n",
       "16. TRUE\n",
       "17. TRUE\n",
       "18. TRUE\n",
       "19. TRUE\n",
       "20. TRUE\n",
       "21. TRUE\n",
       "22. TRUE\n",
       "23. TRUE\n",
       "24. TRUE\n",
       "25. TRUE\n",
       "26. TRUE\n",
       "27. TRUE\n",
       "28. TRUE\n",
       "29. TRUE\n",
       "30. TRUE\n",
       "31. TRUE\n",
       "32. TRUE\n",
       "33. TRUE\n",
       "34. TRUE\n",
       "35. TRUE\n",
       "36. TRUE\n",
       "37. TRUE\n",
       "38. TRUE\n",
       "\n",
       "\n"
      ],
      "text/plain": [
       "[[1]]\n",
       "[1] TRUE\n",
       "\n",
       "[[2]]\n",
       "[1] TRUE\n",
       "\n",
       "[[3]]\n",
       "[1] TRUE\n",
       "\n",
       "[[4]]\n",
       "[1] TRUE\n",
       "\n",
       "[[5]]\n",
       "[1] TRUE\n",
       "\n",
       "[[6]]\n",
       "[1] TRUE\n",
       "\n",
       "[[7]]\n",
       "[1] TRUE\n",
       "\n",
       "[[8]]\n",
       "[1] TRUE\n",
       "\n",
       "[[9]]\n",
       "[1] TRUE\n",
       "\n",
       "[[10]]\n",
       "[1] TRUE\n",
       "\n",
       "[[11]]\n",
       "[1] TRUE\n",
       "\n",
       "[[12]]\n",
       "[1] TRUE\n",
       "\n",
       "[[13]]\n",
       "[1] TRUE\n",
       "\n",
       "[[14]]\n",
       "[1] TRUE\n",
       "\n",
       "[[15]]\n",
       "[1] TRUE\n",
       "\n",
       "[[16]]\n",
       "[1] TRUE\n",
       "\n",
       "[[17]]\n",
       "[1] TRUE\n",
       "\n",
       "[[18]]\n",
       "[1] TRUE\n",
       "\n",
       "[[19]]\n",
       "[1] TRUE\n",
       "\n",
       "[[20]]\n",
       "[1] TRUE\n",
       "\n",
       "[[21]]\n",
       "[1] TRUE\n",
       "\n",
       "[[22]]\n",
       "[1] TRUE\n",
       "\n",
       "[[23]]\n",
       "[1] TRUE\n",
       "\n",
       "[[24]]\n",
       "[1] TRUE\n",
       "\n",
       "[[25]]\n",
       "[1] TRUE\n",
       "\n",
       "[[26]]\n",
       "[1] TRUE\n",
       "\n",
       "[[27]]\n",
       "[1] TRUE\n",
       "\n",
       "[[28]]\n",
       "[1] TRUE\n",
       "\n",
       "[[29]]\n",
       "[1] TRUE\n",
       "\n",
       "[[30]]\n",
       "[1] TRUE\n",
       "\n",
       "[[31]]\n",
       "[1] TRUE\n",
       "\n",
       "[[32]]\n",
       "[1] TRUE\n",
       "\n",
       "[[33]]\n",
       "[1] TRUE\n",
       "\n",
       "[[34]]\n",
       "[1] TRUE\n",
       "\n",
       "[[35]]\n",
       "[1] TRUE\n",
       "\n",
       "[[36]]\n",
       "[1] TRUE\n",
       "\n",
       "[[37]]\n",
       "[1] TRUE\n",
       "\n",
       "[[38]]\n",
       "[1] TRUE\n"
      ]
     },
     "metadata": {},
     "output_type": "display_data"
    }
   ],
   "source": [
    "library(here, help, pos = 2, lib.loc = NULL)\n",
    "source(here('Modules','modules.R'))\n",
    "#install_all_packages()\n",
    "load_library_packages()"
   ]
  },
  {
   "cell_type": "markdown",
   "metadata": {},
   "source": [
    "## Importing and Cleaning dataset"
   ]
  },
  {
   "cell_type": "code",
   "execution_count": 4,
   "metadata": {
    "vscode": {
     "languageId": "r"
    }
   },
   "outputs": [
    {
     "data": {
      "text/html": [
       "'numeric'"
      ],
      "text/latex": [
       "'numeric'"
      ],
      "text/markdown": [
       "'numeric'"
      ],
      "text/plain": [
       "[1] \"numeric\""
      ]
     },
     "metadata": {},
     "output_type": "display_data"
    },
    {
     "data": {
      "text/html": [
       "<style>\n",
       ".list-inline {list-style: none; margin:0; padding: 0}\n",
       ".list-inline>li {display: inline-block}\n",
       ".list-inline>li:not(:last-child)::after {content: \"\\00b7\"; padding: 0 .5ex}\n",
       "</style>\n",
       "<ol class=list-inline><li>1250</li><li>44</li></ol>\n"
      ],
      "text/latex": [
       "\\begin{enumerate*}\n",
       "\\item 1250\n",
       "\\item 44\n",
       "\\end{enumerate*}\n"
      ],
      "text/markdown": [
       "1. 1250\n",
       "2. 44\n",
       "\n",
       "\n"
      ],
      "text/plain": [
       "[1] 1250   44"
      ]
     },
     "metadata": {},
     "output_type": "display_data"
    },
    {
     "data": {
      "text/html": [
       "<table class=\"dataframe\">\n",
       "<caption>A data.frame: 6 × 44</caption>\n",
       "<thead>\n",
       "\t<tr><th></th><th scope=col>PA_barrier_time_family_responsabilities</th><th scope=col>PA_barrier__tiredness</th><th scope=col>PA_barrier_places_closed_dangerous</th><th scope=col>PA_barrier_money</th><th scope=col>PA_barrier_time_convenience</th><th scope=col>PA_barrier_hard_work</th><th scope=col>PA_barrier_no_interest</th><th scope=col>PA_barrier_none</th><th scope=col>PA_easiness_outdoor_activities</th><th scope=col>PA_easiness_professional_guidance</th><th scope=col>...</th><th scope=col>soccer</th><th scope=col>tennis</th><th scope=col>volleyball</th><th scope=col>basketball</th><th scope=col>swimming</th><th scope=col>surfing</th><th scope=col>yoga</th><th scope=col>pilates</th><th scope=col>fighting</th><th scope=col>other_sports</th></tr>\n",
       "\t<tr><th></th><th scope=col>&lt;dbl&gt;</th><th scope=col>&lt;dbl&gt;</th><th scope=col>&lt;dbl&gt;</th><th scope=col>&lt;dbl&gt;</th><th scope=col>&lt;dbl&gt;</th><th scope=col>&lt;dbl&gt;</th><th scope=col>&lt;dbl&gt;</th><th scope=col>&lt;dbl&gt;</th><th scope=col>&lt;dbl&gt;</th><th scope=col>&lt;dbl&gt;</th><th scope=col>...</th><th scope=col>&lt;dbl&gt;</th><th scope=col>&lt;dbl&gt;</th><th scope=col>&lt;dbl&gt;</th><th scope=col>&lt;dbl&gt;</th><th scope=col>&lt;dbl&gt;</th><th scope=col>&lt;dbl&gt;</th><th scope=col>&lt;dbl&gt;</th><th scope=col>&lt;dbl&gt;</th><th scope=col>&lt;dbl&gt;</th><th scope=col>&lt;dbl&gt;</th></tr>\n",
       "</thead>\n",
       "<tbody>\n",
       "\t<tr><th scope=row>1</th><td>0</td><td>0</td><td>1</td><td>0</td><td>0</td><td>1</td><td>0</td><td>0</td><td>0</td><td>0</td><td>...</td><td>0</td><td>0</td><td>0</td><td>0</td><td>0</td><td>0</td><td>0</td><td>0</td><td>0</td><td>0</td></tr>\n",
       "\t<tr><th scope=row>2</th><td>0</td><td>0</td><td>1</td><td>0</td><td>0</td><td>0</td><td>0</td><td>0</td><td>1</td><td>0</td><td>...</td><td>0</td><td>0</td><td>0</td><td>0</td><td>0</td><td>0</td><td>0</td><td>0</td><td>0</td><td>0</td></tr>\n",
       "\t<tr><th scope=row>3</th><td>0</td><td>0</td><td>1</td><td>0</td><td>0</td><td>0</td><td>1</td><td>0</td><td>0</td><td>0</td><td>...</td><td>0</td><td>0</td><td>0</td><td>0</td><td>0</td><td>0</td><td>0</td><td>0</td><td>0</td><td>1</td></tr>\n",
       "\t<tr><th scope=row>4</th><td>0</td><td>0</td><td>1</td><td>0</td><td>0</td><td>0</td><td>0</td><td>0</td><td>1</td><td>1</td><td>...</td><td>0</td><td>0</td><td>0</td><td>0</td><td>0</td><td>0</td><td>0</td><td>0</td><td>0</td><td>0</td></tr>\n",
       "\t<tr><th scope=row>5</th><td>0</td><td>0</td><td>1</td><td>0</td><td>0</td><td>0</td><td>0</td><td>0</td><td>0</td><td>0</td><td>...</td><td>0</td><td>0</td><td>0</td><td>0</td><td>0</td><td>0</td><td>0</td><td>0</td><td>0</td><td>0</td></tr>\n",
       "\t<tr><th scope=row>6</th><td>1</td><td>0</td><td>0</td><td>0</td><td>0</td><td>0</td><td>0</td><td>0</td><td>1</td><td>0</td><td>...</td><td>0</td><td>0</td><td>0</td><td>0</td><td>0</td><td>0</td><td>0</td><td>0</td><td>0</td><td>1</td></tr>\n",
       "</tbody>\n",
       "</table>\n"
      ],
      "text/latex": [
       "A data.frame: 6 × 44\n",
       "\\begin{tabular}{r|lllllllllllllllllllll}\n",
       "  & PA\\_barrier\\_time\\_family\\_responsabilities & PA\\_barrier\\_\\_tiredness & PA\\_barrier\\_places\\_closed\\_dangerous & PA\\_barrier\\_money & PA\\_barrier\\_time\\_convenience & PA\\_barrier\\_hard\\_work & PA\\_barrier\\_no\\_interest & PA\\_barrier\\_none & PA\\_easiness\\_outdoor\\_activities & PA\\_easiness\\_professional\\_guidance & ... & soccer & tennis & volleyball & basketball & swimming & surfing & yoga & pilates & fighting & other\\_sports\\\\\n",
       "  & <dbl> & <dbl> & <dbl> & <dbl> & <dbl> & <dbl> & <dbl> & <dbl> & <dbl> & <dbl> & ... & <dbl> & <dbl> & <dbl> & <dbl> & <dbl> & <dbl> & <dbl> & <dbl> & <dbl> & <dbl>\\\\\n",
       "\\hline\n",
       "\t1 & 0 & 0 & 1 & 0 & 0 & 1 & 0 & 0 & 0 & 0 & ... & 0 & 0 & 0 & 0 & 0 & 0 & 0 & 0 & 0 & 0\\\\\n",
       "\t2 & 0 & 0 & 1 & 0 & 0 & 0 & 0 & 0 & 1 & 0 & ... & 0 & 0 & 0 & 0 & 0 & 0 & 0 & 0 & 0 & 0\\\\\n",
       "\t3 & 0 & 0 & 1 & 0 & 0 & 0 & 1 & 0 & 0 & 0 & ... & 0 & 0 & 0 & 0 & 0 & 0 & 0 & 0 & 0 & 1\\\\\n",
       "\t4 & 0 & 0 & 1 & 0 & 0 & 0 & 0 & 0 & 1 & 1 & ... & 0 & 0 & 0 & 0 & 0 & 0 & 0 & 0 & 0 & 0\\\\\n",
       "\t5 & 0 & 0 & 1 & 0 & 0 & 0 & 0 & 0 & 0 & 0 & ... & 0 & 0 & 0 & 0 & 0 & 0 & 0 & 0 & 0 & 0\\\\\n",
       "\t6 & 1 & 0 & 0 & 0 & 0 & 0 & 0 & 0 & 1 & 0 & ... & 0 & 0 & 0 & 0 & 0 & 0 & 0 & 0 & 0 & 1\\\\\n",
       "\\end{tabular}\n"
      ],
      "text/markdown": [
       "\n",
       "A data.frame: 6 × 44\n",
       "\n",
       "| <!--/--> | PA_barrier_time_family_responsabilities &lt;dbl&gt; | PA_barrier__tiredness &lt;dbl&gt; | PA_barrier_places_closed_dangerous &lt;dbl&gt; | PA_barrier_money &lt;dbl&gt; | PA_barrier_time_convenience &lt;dbl&gt; | PA_barrier_hard_work &lt;dbl&gt; | PA_barrier_no_interest &lt;dbl&gt; | PA_barrier_none &lt;dbl&gt; | PA_easiness_outdoor_activities &lt;dbl&gt; | PA_easiness_professional_guidance &lt;dbl&gt; | ... ... | soccer &lt;dbl&gt; | tennis &lt;dbl&gt; | volleyball &lt;dbl&gt; | basketball &lt;dbl&gt; | swimming &lt;dbl&gt; | surfing &lt;dbl&gt; | yoga &lt;dbl&gt; | pilates &lt;dbl&gt; | fighting &lt;dbl&gt; | other_sports &lt;dbl&gt; |\n",
       "|---|---|---|---|---|---|---|---|---|---|---|---|---|---|---|---|---|---|---|---|---|---|\n",
       "| 1 | 0 | 0 | 1 | 0 | 0 | 1 | 0 | 0 | 0 | 0 | ... | 0 | 0 | 0 | 0 | 0 | 0 | 0 | 0 | 0 | 0 |\n",
       "| 2 | 0 | 0 | 1 | 0 | 0 | 0 | 0 | 0 | 1 | 0 | ... | 0 | 0 | 0 | 0 | 0 | 0 | 0 | 0 | 0 | 0 |\n",
       "| 3 | 0 | 0 | 1 | 0 | 0 | 0 | 1 | 0 | 0 | 0 | ... | 0 | 0 | 0 | 0 | 0 | 0 | 0 | 0 | 0 | 1 |\n",
       "| 4 | 0 | 0 | 1 | 0 | 0 | 0 | 0 | 0 | 1 | 1 | ... | 0 | 0 | 0 | 0 | 0 | 0 | 0 | 0 | 0 | 0 |\n",
       "| 5 | 0 | 0 | 1 | 0 | 0 | 0 | 0 | 0 | 0 | 0 | ... | 0 | 0 | 0 | 0 | 0 | 0 | 0 | 0 | 0 | 0 |\n",
       "| 6 | 1 | 0 | 0 | 0 | 0 | 0 | 0 | 0 | 1 | 0 | ... | 0 | 0 | 0 | 0 | 0 | 0 | 0 | 0 | 0 | 1 |\n",
       "\n"
      ],
      "text/plain": [
       "  PA_barrier_time_family_responsabilities PA_barrier__tiredness\n",
       "1 0                                       0                    \n",
       "2 0                                       0                    \n",
       "3 0                                       0                    \n",
       "4 0                                       0                    \n",
       "5 0                                       0                    \n",
       "6 1                                       0                    \n",
       "  PA_barrier_places_closed_dangerous PA_barrier_money\n",
       "1 1                                  0               \n",
       "2 1                                  0               \n",
       "3 1                                  0               \n",
       "4 1                                  0               \n",
       "5 1                                  0               \n",
       "6 0                                  0               \n",
       "  PA_barrier_time_convenience PA_barrier_hard_work PA_barrier_no_interest\n",
       "1 0                           1                    0                     \n",
       "2 0                           0                    0                     \n",
       "3 0                           0                    1                     \n",
       "4 0                           0                    0                     \n",
       "5 0                           0                    0                     \n",
       "6 0                           0                    0                     \n",
       "  PA_barrier_none PA_easiness_outdoor_activities\n",
       "1 0               0                             \n",
       "2 0               1                             \n",
       "3 0               0                             \n",
       "4 0               1                             \n",
       "5 0               0                             \n",
       "6 0               1                             \n",
       "  PA_easiness_professional_guidance ... soccer tennis volleyball basketball\n",
       "1 0                                 ... 0      0      0          0         \n",
       "2 0                                 ... 0      0      0          0         \n",
       "3 0                                 ... 0      0      0          0         \n",
       "4 1                                 ... 0      0      0          0         \n",
       "5 0                                 ... 0      0      0          0         \n",
       "6 0                                 ... 0      0      0          0         \n",
       "  swimming surfing yoga pilates fighting other_sports\n",
       "1 0        0       0    0       0        0           \n",
       "2 0        0       0    0       0        0           \n",
       "3 0        0       0    0       0        1           \n",
       "4 0        0       0    0       0        0           \n",
       "5 0        0       0    0       0        0           \n",
       "6 0        0       0    0       0        1           "
      ]
     },
     "metadata": {},
     "output_type": "display_data"
    }
   ],
   "source": [
    "df_during <- read_excel(path = here('Data','during_dataset.xlsx'))\n",
    "df_during <- data.frame(df_during)\n",
    "unique(sapply(df_during, class))\n",
    "df_during <- df_during[complete.cases(df_during), ]\n",
    "dim(df_during)\n",
    "head(df_during)"
   ]
  },
  {
   "cell_type": "markdown",
   "metadata": {},
   "source": [
    "### Converting dataset types and labels"
   ]
  },
  {
   "cell_type": "code",
   "execution_count": 5,
   "metadata": {
    "vscode": {
     "languageId": "r"
    }
   },
   "outputs": [
    {
     "data": {
      "text/html": [
       "900"
      ],
      "text/latex": [
       "900"
      ],
      "text/markdown": [
       "900"
      ],
      "text/plain": [
       "[1] 900"
      ]
     },
     "metadata": {},
     "output_type": "display_data"
    }
   ],
   "source": [
    "df_during$PA_intensity[df_during$PA_intensity == 4] <- 0\n",
    "df_during$PA_duration[df_during$PA_duration == 5] <- 0\n",
    "df_during$PA_weekly_frequency[df_during$PA_weekly_frequency == 4] <- 0\n",
    "df_during$PA_practice_during <- ifelse(df_during$PA_practice_during == 0, 1, 0)\n",
    "df_during$sedentary_time_range_during[df_during$sedentary_time_range_during < 5] <- 0\n",
    "df_during$sedentary_time_range_during[df_during$sedentary_time_range_during == 5] <- 1\n",
    "sum(df_during[, \"PA_practice_during\"])"
   ]
  },
  {
   "cell_type": "code",
   "execution_count": 6,
   "metadata": {
    "vscode": {
     "languageId": "r"
    }
   },
   "outputs": [],
   "source": [
    "sports <- c(\"running\",\"hiking\",\"cycling\",\n",
    "            \"muscle_training\",\"soccer\",\"tennis\",\n",
    "            \"volleyball\",\"basketball\",\"swimming\",\n",
    "            \"surfing\",\"yoga\",\"pilates\",\"fighting\",\"other_sports\")\n",
    "\n",
    "df_during$PA_number <- rowSums(df_during[, sports])"
   ]
  },
  {
   "cell_type": "markdown",
   "metadata": {},
   "source": [
    "### Separing barriers from dataset"
   ]
  },
  {
   "cell_type": "code",
   "execution_count": 7,
   "metadata": {
    "vscode": {
     "languageId": "r"
    }
   },
   "outputs": [
    {
     "data": {
      "text/html": [
       "<style>\n",
       ".list-inline {list-style: none; margin:0; padding: 0}\n",
       ".list-inline>li {display: inline-block}\n",
       ".list-inline>li:not(:last-child)::after {content: \"\\00b7\"; padding: 0 .5ex}\n",
       "</style>\n",
       "<ol class=list-inline><li>'PA_barrier_time_family_responsabilities'</li><li>'PA_barrier__tiredness'</li><li>'PA_barrier_places_closed_dangerous'</li><li>'PA_barrier_money'</li><li>'PA_barrier_time_convenience'</li><li>'PA_barrier_hard_work'</li><li>'PA_barrier_no_interest'</li><li>'PA_barrier_none'</li><li>'PA_easiness_outdoor_activities'</li><li>'PA_easiness_professional_guidance'</li><li>'PA_easiness_unguided'</li><li>'PA_easiness_music'</li><li>'PA_easiness_collective'</li><li>'PA_easiness_home_activity'</li><li>'PA_easiness_family_activity'</li><li>'PA_easiness_home_space'</li><li>'PA_easiness_home_equipament'</li><li>'PA_easiness_others'</li><li>'PA_weekly_frequency'</li><li>'PA_intensity'</li><li>'PA_duration'</li><li>'PA_practice_during'</li><li>'sedentary_time_range_during'</li><li>'sex'</li><li>'age_range'</li><li>'martialStatus'</li><li>'co.resident_range'</li><li>'rooms_range'</li><li>'income_range'</li><li>'scholarity'</li><li>'running'</li><li>'hiking'</li><li>'cycling'</li><li>'muscle_training'</li><li>'soccer'</li><li>'tennis'</li><li>'volleyball'</li><li>'basketball'</li><li>'swimming'</li><li>'surfing'</li><li>'yoga'</li><li>'pilates'</li><li>'fighting'</li><li>'other_sports'</li><li>'PA_number'</li></ol>\n"
      ],
      "text/latex": [
       "\\begin{enumerate*}\n",
       "\\item 'PA\\_barrier\\_time\\_family\\_responsabilities'\n",
       "\\item 'PA\\_barrier\\_\\_tiredness'\n",
       "\\item 'PA\\_barrier\\_places\\_closed\\_dangerous'\n",
       "\\item 'PA\\_barrier\\_money'\n",
       "\\item 'PA\\_barrier\\_time\\_convenience'\n",
       "\\item 'PA\\_barrier\\_hard\\_work'\n",
       "\\item 'PA\\_barrier\\_no\\_interest'\n",
       "\\item 'PA\\_barrier\\_none'\n",
       "\\item 'PA\\_easiness\\_outdoor\\_activities'\n",
       "\\item 'PA\\_easiness\\_professional\\_guidance'\n",
       "\\item 'PA\\_easiness\\_unguided'\n",
       "\\item 'PA\\_easiness\\_music'\n",
       "\\item 'PA\\_easiness\\_collective'\n",
       "\\item 'PA\\_easiness\\_home\\_activity'\n",
       "\\item 'PA\\_easiness\\_family\\_activity'\n",
       "\\item 'PA\\_easiness\\_home\\_space'\n",
       "\\item 'PA\\_easiness\\_home\\_equipament'\n",
       "\\item 'PA\\_easiness\\_others'\n",
       "\\item 'PA\\_weekly\\_frequency'\n",
       "\\item 'PA\\_intensity'\n",
       "\\item 'PA\\_duration'\n",
       "\\item 'PA\\_practice\\_during'\n",
       "\\item 'sedentary\\_time\\_range\\_during'\n",
       "\\item 'sex'\n",
       "\\item 'age\\_range'\n",
       "\\item 'martialStatus'\n",
       "\\item 'co.resident\\_range'\n",
       "\\item 'rooms\\_range'\n",
       "\\item 'income\\_range'\n",
       "\\item 'scholarity'\n",
       "\\item 'running'\n",
       "\\item 'hiking'\n",
       "\\item 'cycling'\n",
       "\\item 'muscle\\_training'\n",
       "\\item 'soccer'\n",
       "\\item 'tennis'\n",
       "\\item 'volleyball'\n",
       "\\item 'basketball'\n",
       "\\item 'swimming'\n",
       "\\item 'surfing'\n",
       "\\item 'yoga'\n",
       "\\item 'pilates'\n",
       "\\item 'fighting'\n",
       "\\item 'other\\_sports'\n",
       "\\item 'PA\\_number'\n",
       "\\end{enumerate*}\n"
      ],
      "text/markdown": [
       "1. 'PA_barrier_time_family_responsabilities'\n",
       "2. 'PA_barrier__tiredness'\n",
       "3. 'PA_barrier_places_closed_dangerous'\n",
       "4. 'PA_barrier_money'\n",
       "5. 'PA_barrier_time_convenience'\n",
       "6. 'PA_barrier_hard_work'\n",
       "7. 'PA_barrier_no_interest'\n",
       "8. 'PA_barrier_none'\n",
       "9. 'PA_easiness_outdoor_activities'\n",
       "10. 'PA_easiness_professional_guidance'\n",
       "11. 'PA_easiness_unguided'\n",
       "12. 'PA_easiness_music'\n",
       "13. 'PA_easiness_collective'\n",
       "14. 'PA_easiness_home_activity'\n",
       "15. 'PA_easiness_family_activity'\n",
       "16. 'PA_easiness_home_space'\n",
       "17. 'PA_easiness_home_equipament'\n",
       "18. 'PA_easiness_others'\n",
       "19. 'PA_weekly_frequency'\n",
       "20. 'PA_intensity'\n",
       "21. 'PA_duration'\n",
       "22. 'PA_practice_during'\n",
       "23. 'sedentary_time_range_during'\n",
       "24. 'sex'\n",
       "25. 'age_range'\n",
       "26. 'martialStatus'\n",
       "27. 'co.resident_range'\n",
       "28. 'rooms_range'\n",
       "29. 'income_range'\n",
       "30. 'scholarity'\n",
       "31. 'running'\n",
       "32. 'hiking'\n",
       "33. 'cycling'\n",
       "34. 'muscle_training'\n",
       "35. 'soccer'\n",
       "36. 'tennis'\n",
       "37. 'volleyball'\n",
       "38. 'basketball'\n",
       "39. 'swimming'\n",
       "40. 'surfing'\n",
       "41. 'yoga'\n",
       "42. 'pilates'\n",
       "43. 'fighting'\n",
       "44. 'other_sports'\n",
       "45. 'PA_number'\n",
       "\n",
       "\n"
      ],
      "text/plain": [
       " [1] \"PA_barrier_time_family_responsabilities\"\n",
       " [2] \"PA_barrier__tiredness\"                  \n",
       " [3] \"PA_barrier_places_closed_dangerous\"     \n",
       " [4] \"PA_barrier_money\"                       \n",
       " [5] \"PA_barrier_time_convenience\"            \n",
       " [6] \"PA_barrier_hard_work\"                   \n",
       " [7] \"PA_barrier_no_interest\"                 \n",
       " [8] \"PA_barrier_none\"                        \n",
       " [9] \"PA_easiness_outdoor_activities\"         \n",
       "[10] \"PA_easiness_professional_guidance\"      \n",
       "[11] \"PA_easiness_unguided\"                   \n",
       "[12] \"PA_easiness_music\"                      \n",
       "[13] \"PA_easiness_collective\"                 \n",
       "[14] \"PA_easiness_home_activity\"              \n",
       "[15] \"PA_easiness_family_activity\"            \n",
       "[16] \"PA_easiness_home_space\"                 \n",
       "[17] \"PA_easiness_home_equipament\"            \n",
       "[18] \"PA_easiness_others\"                     \n",
       "[19] \"PA_weekly_frequency\"                    \n",
       "[20] \"PA_intensity\"                           \n",
       "[21] \"PA_duration\"                            \n",
       "[22] \"PA_practice_during\"                     \n",
       "[23] \"sedentary_time_range_during\"            \n",
       "[24] \"sex\"                                    \n",
       "[25] \"age_range\"                              \n",
       "[26] \"martialStatus\"                          \n",
       "[27] \"co.resident_range\"                      \n",
       "[28] \"rooms_range\"                            \n",
       "[29] \"income_range\"                           \n",
       "[30] \"scholarity\"                             \n",
       "[31] \"running\"                                \n",
       "[32] \"hiking\"                                 \n",
       "[33] \"cycling\"                                \n",
       "[34] \"muscle_training\"                        \n",
       "[35] \"soccer\"                                 \n",
       "[36] \"tennis\"                                 \n",
       "[37] \"volleyball\"                             \n",
       "[38] \"basketball\"                             \n",
       "[39] \"swimming\"                               \n",
       "[40] \"surfing\"                                \n",
       "[41] \"yoga\"                                   \n",
       "[42] \"pilates\"                                \n",
       "[43] \"fighting\"                               \n",
       "[44] \"other_sports\"                           \n",
       "[45] \"PA_number\"                              "
      ]
     },
     "metadata": {},
     "output_type": "display_data"
    },
    {
     "data": {
      "text/html": [
       "<table class=\"dataframe\">\n",
       "<caption>A data.frame: 6 × 45</caption>\n",
       "<thead>\n",
       "\t<tr><th></th><th scope=col>PA_barrier_time_family_responsabilities</th><th scope=col>PA_barrier__tiredness</th><th scope=col>PA_barrier_places_closed_dangerous</th><th scope=col>PA_barrier_money</th><th scope=col>PA_barrier_time_convenience</th><th scope=col>PA_barrier_hard_work</th><th scope=col>PA_barrier_no_interest</th><th scope=col>PA_barrier_none</th><th scope=col>PA_easiness_outdoor_activities</th><th scope=col>PA_easiness_professional_guidance</th><th scope=col>...</th><th scope=col>tennis</th><th scope=col>volleyball</th><th scope=col>basketball</th><th scope=col>swimming</th><th scope=col>surfing</th><th scope=col>yoga</th><th scope=col>pilates</th><th scope=col>fighting</th><th scope=col>other_sports</th><th scope=col>PA_number</th></tr>\n",
       "\t<tr><th></th><th scope=col>&lt;dbl&gt;</th><th scope=col>&lt;dbl&gt;</th><th scope=col>&lt;dbl&gt;</th><th scope=col>&lt;dbl&gt;</th><th scope=col>&lt;dbl&gt;</th><th scope=col>&lt;dbl&gt;</th><th scope=col>&lt;dbl&gt;</th><th scope=col>&lt;dbl&gt;</th><th scope=col>&lt;dbl&gt;</th><th scope=col>&lt;dbl&gt;</th><th scope=col>...</th><th scope=col>&lt;dbl&gt;</th><th scope=col>&lt;dbl&gt;</th><th scope=col>&lt;dbl&gt;</th><th scope=col>&lt;dbl&gt;</th><th scope=col>&lt;dbl&gt;</th><th scope=col>&lt;dbl&gt;</th><th scope=col>&lt;dbl&gt;</th><th scope=col>&lt;dbl&gt;</th><th scope=col>&lt;dbl&gt;</th><th scope=col>&lt;dbl&gt;</th></tr>\n",
       "</thead>\n",
       "<tbody>\n",
       "\t<tr><th scope=row>1</th><td>0</td><td>0</td><td>1</td><td>0</td><td>0</td><td>1</td><td>0</td><td>0</td><td>0</td><td>0</td><td>...</td><td>0</td><td>0</td><td>0</td><td>0</td><td>0</td><td>0</td><td>0</td><td>0</td><td>0</td><td>0</td></tr>\n",
       "\t<tr><th scope=row>2</th><td>0</td><td>0</td><td>1</td><td>0</td><td>0</td><td>0</td><td>0</td><td>0</td><td>1</td><td>0</td><td>...</td><td>0</td><td>0</td><td>0</td><td>0</td><td>0</td><td>0</td><td>0</td><td>0</td><td>0</td><td>2</td></tr>\n",
       "\t<tr><th scope=row>3</th><td>0</td><td>0</td><td>1</td><td>0</td><td>0</td><td>0</td><td>1</td><td>0</td><td>0</td><td>0</td><td>...</td><td>0</td><td>0</td><td>0</td><td>0</td><td>0</td><td>0</td><td>0</td><td>0</td><td>1</td><td>2</td></tr>\n",
       "\t<tr><th scope=row>4</th><td>0</td><td>0</td><td>1</td><td>0</td><td>0</td><td>0</td><td>0</td><td>0</td><td>1</td><td>1</td><td>...</td><td>0</td><td>0</td><td>0</td><td>0</td><td>0</td><td>0</td><td>0</td><td>0</td><td>0</td><td>3</td></tr>\n",
       "\t<tr><th scope=row>5</th><td>0</td><td>0</td><td>1</td><td>0</td><td>0</td><td>0</td><td>0</td><td>0</td><td>0</td><td>0</td><td>...</td><td>0</td><td>0</td><td>0</td><td>0</td><td>0</td><td>0</td><td>0</td><td>0</td><td>0</td><td>2</td></tr>\n",
       "\t<tr><th scope=row>6</th><td>1</td><td>0</td><td>0</td><td>0</td><td>0</td><td>0</td><td>0</td><td>0</td><td>1</td><td>0</td><td>...</td><td>0</td><td>0</td><td>0</td><td>0</td><td>0</td><td>0</td><td>0</td><td>0</td><td>1</td><td>2</td></tr>\n",
       "</tbody>\n",
       "</table>\n"
      ],
      "text/latex": [
       "A data.frame: 6 × 45\n",
       "\\begin{tabular}{r|lllllllllllllllllllll}\n",
       "  & PA\\_barrier\\_time\\_family\\_responsabilities & PA\\_barrier\\_\\_tiredness & PA\\_barrier\\_places\\_closed\\_dangerous & PA\\_barrier\\_money & PA\\_barrier\\_time\\_convenience & PA\\_barrier\\_hard\\_work & PA\\_barrier\\_no\\_interest & PA\\_barrier\\_none & PA\\_easiness\\_outdoor\\_activities & PA\\_easiness\\_professional\\_guidance & ... & tennis & volleyball & basketball & swimming & surfing & yoga & pilates & fighting & other\\_sports & PA\\_number\\\\\n",
       "  & <dbl> & <dbl> & <dbl> & <dbl> & <dbl> & <dbl> & <dbl> & <dbl> & <dbl> & <dbl> & ... & <dbl> & <dbl> & <dbl> & <dbl> & <dbl> & <dbl> & <dbl> & <dbl> & <dbl> & <dbl>\\\\\n",
       "\\hline\n",
       "\t1 & 0 & 0 & 1 & 0 & 0 & 1 & 0 & 0 & 0 & 0 & ... & 0 & 0 & 0 & 0 & 0 & 0 & 0 & 0 & 0 & 0\\\\\n",
       "\t2 & 0 & 0 & 1 & 0 & 0 & 0 & 0 & 0 & 1 & 0 & ... & 0 & 0 & 0 & 0 & 0 & 0 & 0 & 0 & 0 & 2\\\\\n",
       "\t3 & 0 & 0 & 1 & 0 & 0 & 0 & 1 & 0 & 0 & 0 & ... & 0 & 0 & 0 & 0 & 0 & 0 & 0 & 0 & 1 & 2\\\\\n",
       "\t4 & 0 & 0 & 1 & 0 & 0 & 0 & 0 & 0 & 1 & 1 & ... & 0 & 0 & 0 & 0 & 0 & 0 & 0 & 0 & 0 & 3\\\\\n",
       "\t5 & 0 & 0 & 1 & 0 & 0 & 0 & 0 & 0 & 0 & 0 & ... & 0 & 0 & 0 & 0 & 0 & 0 & 0 & 0 & 0 & 2\\\\\n",
       "\t6 & 1 & 0 & 0 & 0 & 0 & 0 & 0 & 0 & 1 & 0 & ... & 0 & 0 & 0 & 0 & 0 & 0 & 0 & 0 & 1 & 2\\\\\n",
       "\\end{tabular}\n"
      ],
      "text/markdown": [
       "\n",
       "A data.frame: 6 × 45\n",
       "\n",
       "| <!--/--> | PA_barrier_time_family_responsabilities &lt;dbl&gt; | PA_barrier__tiredness &lt;dbl&gt; | PA_barrier_places_closed_dangerous &lt;dbl&gt; | PA_barrier_money &lt;dbl&gt; | PA_barrier_time_convenience &lt;dbl&gt; | PA_barrier_hard_work &lt;dbl&gt; | PA_barrier_no_interest &lt;dbl&gt; | PA_barrier_none &lt;dbl&gt; | PA_easiness_outdoor_activities &lt;dbl&gt; | PA_easiness_professional_guidance &lt;dbl&gt; | ... ... | tennis &lt;dbl&gt; | volleyball &lt;dbl&gt; | basketball &lt;dbl&gt; | swimming &lt;dbl&gt; | surfing &lt;dbl&gt; | yoga &lt;dbl&gt; | pilates &lt;dbl&gt; | fighting &lt;dbl&gt; | other_sports &lt;dbl&gt; | PA_number &lt;dbl&gt; |\n",
       "|---|---|---|---|---|---|---|---|---|---|---|---|---|---|---|---|---|---|---|---|---|---|\n",
       "| 1 | 0 | 0 | 1 | 0 | 0 | 1 | 0 | 0 | 0 | 0 | ... | 0 | 0 | 0 | 0 | 0 | 0 | 0 | 0 | 0 | 0 |\n",
       "| 2 | 0 | 0 | 1 | 0 | 0 | 0 | 0 | 0 | 1 | 0 | ... | 0 | 0 | 0 | 0 | 0 | 0 | 0 | 0 | 0 | 2 |\n",
       "| 3 | 0 | 0 | 1 | 0 | 0 | 0 | 1 | 0 | 0 | 0 | ... | 0 | 0 | 0 | 0 | 0 | 0 | 0 | 0 | 1 | 2 |\n",
       "| 4 | 0 | 0 | 1 | 0 | 0 | 0 | 0 | 0 | 1 | 1 | ... | 0 | 0 | 0 | 0 | 0 | 0 | 0 | 0 | 0 | 3 |\n",
       "| 5 | 0 | 0 | 1 | 0 | 0 | 0 | 0 | 0 | 0 | 0 | ... | 0 | 0 | 0 | 0 | 0 | 0 | 0 | 0 | 0 | 2 |\n",
       "| 6 | 1 | 0 | 0 | 0 | 0 | 0 | 0 | 0 | 1 | 0 | ... | 0 | 0 | 0 | 0 | 0 | 0 | 0 | 0 | 1 | 2 |\n",
       "\n"
      ],
      "text/plain": [
       "  PA_barrier_time_family_responsabilities PA_barrier__tiredness\n",
       "1 0                                       0                    \n",
       "2 0                                       0                    \n",
       "3 0                                       0                    \n",
       "4 0                                       0                    \n",
       "5 0                                       0                    \n",
       "6 1                                       0                    \n",
       "  PA_barrier_places_closed_dangerous PA_barrier_money\n",
       "1 1                                  0               \n",
       "2 1                                  0               \n",
       "3 1                                  0               \n",
       "4 1                                  0               \n",
       "5 1                                  0               \n",
       "6 0                                  0               \n",
       "  PA_barrier_time_convenience PA_barrier_hard_work PA_barrier_no_interest\n",
       "1 0                           1                    0                     \n",
       "2 0                           0                    0                     \n",
       "3 0                           0                    1                     \n",
       "4 0                           0                    0                     \n",
       "5 0                           0                    0                     \n",
       "6 0                           0                    0                     \n",
       "  PA_barrier_none PA_easiness_outdoor_activities\n",
       "1 0               0                             \n",
       "2 0               1                             \n",
       "3 0               0                             \n",
       "4 0               1                             \n",
       "5 0               0                             \n",
       "6 0               1                             \n",
       "  PA_easiness_professional_guidance ... tennis volleyball basketball swimming\n",
       "1 0                                 ... 0      0          0          0       \n",
       "2 0                                 ... 0      0          0          0       \n",
       "3 0                                 ... 0      0          0          0       \n",
       "4 1                                 ... 0      0          0          0       \n",
       "5 0                                 ... 0      0          0          0       \n",
       "6 0                                 ... 0      0          0          0       \n",
       "  surfing yoga pilates fighting other_sports PA_number\n",
       "1 0       0    0       0        0            0        \n",
       "2 0       0    0       0        0            2        \n",
       "3 0       0    0       0        1            2        \n",
       "4 0       0    0       0        0            3        \n",
       "5 0       0    0       0        0            2        \n",
       "6 0       0    0       0        1            2        "
      ]
     },
     "metadata": {},
     "output_type": "display_data"
    }
   ],
   "source": [
    "colnames(df_during)\n",
    "head(df_during)"
   ]
  },
  {
   "cell_type": "code",
   "execution_count": 8,
   "metadata": {
    "vscode": {
     "languageId": "r"
    }
   },
   "outputs": [
    {
     "data": {
      "text/html": [
       "<style>\n",
       ".list-inline {list-style: none; margin:0; padding: 0}\n",
       ".list-inline>li {display: inline-block}\n",
       ".list-inline>li:not(:last-child)::after {content: \"\\00b7\"; padding: 0 .5ex}\n",
       "</style>\n",
       "<ol class=list-inline><li>1250</li><li>18</li></ol>\n"
      ],
      "text/latex": [
       "\\begin{enumerate*}\n",
       "\\item 1250\n",
       "\\item 18\n",
       "\\end{enumerate*}\n"
      ],
      "text/markdown": [
       "1. 1250\n",
       "2. 18\n",
       "\n",
       "\n"
      ],
      "text/plain": [
       "[1] 1250   18"
      ]
     },
     "metadata": {},
     "output_type": "display_data"
    },
    {
     "data": {
      "text/html": [
       "<table class=\"dataframe\">\n",
       "<caption>A data.frame: 6 × 18</caption>\n",
       "<thead>\n",
       "\t<tr><th></th><th scope=col>PA_barrier_time_family_responsabilities</th><th scope=col>PA_barrier__tiredness</th><th scope=col>PA_barrier_places_closed_dangerous</th><th scope=col>PA_barrier_money</th><th scope=col>PA_barrier_time_convenience</th><th scope=col>PA_barrier_hard_work</th><th scope=col>PA_barrier_no_interest</th><th scope=col>PA_barrier_none</th><th scope=col>PA_easiness_outdoor_activities</th><th scope=col>PA_easiness_professional_guidance</th><th scope=col>PA_easiness_unguided</th><th scope=col>PA_easiness_music</th><th scope=col>PA_easiness_collective</th><th scope=col>PA_easiness_home_activity</th><th scope=col>PA_easiness_family_activity</th><th scope=col>PA_easiness_home_space</th><th scope=col>PA_easiness_home_equipament</th><th scope=col>PA_easiness_others</th></tr>\n",
       "\t<tr><th></th><th scope=col>&lt;fct&gt;</th><th scope=col>&lt;fct&gt;</th><th scope=col>&lt;fct&gt;</th><th scope=col>&lt;fct&gt;</th><th scope=col>&lt;fct&gt;</th><th scope=col>&lt;fct&gt;</th><th scope=col>&lt;fct&gt;</th><th scope=col>&lt;fct&gt;</th><th scope=col>&lt;fct&gt;</th><th scope=col>&lt;fct&gt;</th><th scope=col>&lt;fct&gt;</th><th scope=col>&lt;fct&gt;</th><th scope=col>&lt;fct&gt;</th><th scope=col>&lt;fct&gt;</th><th scope=col>&lt;fct&gt;</th><th scope=col>&lt;fct&gt;</th><th scope=col>&lt;fct&gt;</th><th scope=col>&lt;fct&gt;</th></tr>\n",
       "</thead>\n",
       "<tbody>\n",
       "\t<tr><th scope=row>1</th><td>0</td><td>0</td><td>1</td><td>0</td><td>0</td><td>1</td><td>0</td><td>0</td><td>0</td><td>0</td><td>0</td><td>0</td><td>0</td><td>1</td><td>0</td><td>0</td><td>0</td><td>0</td></tr>\n",
       "\t<tr><th scope=row>2</th><td>0</td><td>0</td><td>1</td><td>0</td><td>0</td><td>0</td><td>0</td><td>0</td><td>1</td><td>0</td><td>0</td><td>0</td><td>0</td><td>0</td><td>0</td><td>1</td><td>1</td><td>0</td></tr>\n",
       "\t<tr><th scope=row>3</th><td>0</td><td>0</td><td>1</td><td>0</td><td>0</td><td>0</td><td>1</td><td>0</td><td>0</td><td>0</td><td>1</td><td>0</td><td>0</td><td>0</td><td>0</td><td>0</td><td>0</td><td>0</td></tr>\n",
       "\t<tr><th scope=row>4</th><td>0</td><td>0</td><td>1</td><td>0</td><td>0</td><td>0</td><td>0</td><td>0</td><td>1</td><td>1</td><td>0</td><td>0</td><td>0</td><td>1</td><td>0</td><td>1</td><td>1</td><td>0</td></tr>\n",
       "\t<tr><th scope=row>5</th><td>0</td><td>0</td><td>1</td><td>0</td><td>0</td><td>0</td><td>0</td><td>0</td><td>0</td><td>0</td><td>0</td><td>0</td><td>0</td><td>1</td><td>1</td><td>1</td><td>1</td><td>0</td></tr>\n",
       "\t<tr><th scope=row>6</th><td>1</td><td>0</td><td>0</td><td>0</td><td>0</td><td>0</td><td>0</td><td>0</td><td>1</td><td>0</td><td>0</td><td>0</td><td>0</td><td>0</td><td>0</td><td>0</td><td>1</td><td>0</td></tr>\n",
       "</tbody>\n",
       "</table>\n"
      ],
      "text/latex": [
       "A data.frame: 6 × 18\n",
       "\\begin{tabular}{r|llllllllllllllllll}\n",
       "  & PA\\_barrier\\_time\\_family\\_responsabilities & PA\\_barrier\\_\\_tiredness & PA\\_barrier\\_places\\_closed\\_dangerous & PA\\_barrier\\_money & PA\\_barrier\\_time\\_convenience & PA\\_barrier\\_hard\\_work & PA\\_barrier\\_no\\_interest & PA\\_barrier\\_none & PA\\_easiness\\_outdoor\\_activities & PA\\_easiness\\_professional\\_guidance & PA\\_easiness\\_unguided & PA\\_easiness\\_music & PA\\_easiness\\_collective & PA\\_easiness\\_home\\_activity & PA\\_easiness\\_family\\_activity & PA\\_easiness\\_home\\_space & PA\\_easiness\\_home\\_equipament & PA\\_easiness\\_others\\\\\n",
       "  & <fct> & <fct> & <fct> & <fct> & <fct> & <fct> & <fct> & <fct> & <fct> & <fct> & <fct> & <fct> & <fct> & <fct> & <fct> & <fct> & <fct> & <fct>\\\\\n",
       "\\hline\n",
       "\t1 & 0 & 0 & 1 & 0 & 0 & 1 & 0 & 0 & 0 & 0 & 0 & 0 & 0 & 1 & 0 & 0 & 0 & 0\\\\\n",
       "\t2 & 0 & 0 & 1 & 0 & 0 & 0 & 0 & 0 & 1 & 0 & 0 & 0 & 0 & 0 & 0 & 1 & 1 & 0\\\\\n",
       "\t3 & 0 & 0 & 1 & 0 & 0 & 0 & 1 & 0 & 0 & 0 & 1 & 0 & 0 & 0 & 0 & 0 & 0 & 0\\\\\n",
       "\t4 & 0 & 0 & 1 & 0 & 0 & 0 & 0 & 0 & 1 & 1 & 0 & 0 & 0 & 1 & 0 & 1 & 1 & 0\\\\\n",
       "\t5 & 0 & 0 & 1 & 0 & 0 & 0 & 0 & 0 & 0 & 0 & 0 & 0 & 0 & 1 & 1 & 1 & 1 & 0\\\\\n",
       "\t6 & 1 & 0 & 0 & 0 & 0 & 0 & 0 & 0 & 1 & 0 & 0 & 0 & 0 & 0 & 0 & 0 & 1 & 0\\\\\n",
       "\\end{tabular}\n"
      ],
      "text/markdown": [
       "\n",
       "A data.frame: 6 × 18\n",
       "\n",
       "| <!--/--> | PA_barrier_time_family_responsabilities &lt;fct&gt; | PA_barrier__tiredness &lt;fct&gt; | PA_barrier_places_closed_dangerous &lt;fct&gt; | PA_barrier_money &lt;fct&gt; | PA_barrier_time_convenience &lt;fct&gt; | PA_barrier_hard_work &lt;fct&gt; | PA_barrier_no_interest &lt;fct&gt; | PA_barrier_none &lt;fct&gt; | PA_easiness_outdoor_activities &lt;fct&gt; | PA_easiness_professional_guidance &lt;fct&gt; | PA_easiness_unguided &lt;fct&gt; | PA_easiness_music &lt;fct&gt; | PA_easiness_collective &lt;fct&gt; | PA_easiness_home_activity &lt;fct&gt; | PA_easiness_family_activity &lt;fct&gt; | PA_easiness_home_space &lt;fct&gt; | PA_easiness_home_equipament &lt;fct&gt; | PA_easiness_others &lt;fct&gt; |\n",
       "|---|---|---|---|---|---|---|---|---|---|---|---|---|---|---|---|---|---|---|\n",
       "| 1 | 0 | 0 | 1 | 0 | 0 | 1 | 0 | 0 | 0 | 0 | 0 | 0 | 0 | 1 | 0 | 0 | 0 | 0 |\n",
       "| 2 | 0 | 0 | 1 | 0 | 0 | 0 | 0 | 0 | 1 | 0 | 0 | 0 | 0 | 0 | 0 | 1 | 1 | 0 |\n",
       "| 3 | 0 | 0 | 1 | 0 | 0 | 0 | 1 | 0 | 0 | 0 | 1 | 0 | 0 | 0 | 0 | 0 | 0 | 0 |\n",
       "| 4 | 0 | 0 | 1 | 0 | 0 | 0 | 0 | 0 | 1 | 1 | 0 | 0 | 0 | 1 | 0 | 1 | 1 | 0 |\n",
       "| 5 | 0 | 0 | 1 | 0 | 0 | 0 | 0 | 0 | 0 | 0 | 0 | 0 | 0 | 1 | 1 | 1 | 1 | 0 |\n",
       "| 6 | 1 | 0 | 0 | 0 | 0 | 0 | 0 | 0 | 1 | 0 | 0 | 0 | 0 | 0 | 0 | 0 | 1 | 0 |\n",
       "\n"
      ],
      "text/plain": [
       "  PA_barrier_time_family_responsabilities PA_barrier__tiredness\n",
       "1 0                                       0                    \n",
       "2 0                                       0                    \n",
       "3 0                                       0                    \n",
       "4 0                                       0                    \n",
       "5 0                                       0                    \n",
       "6 1                                       0                    \n",
       "  PA_barrier_places_closed_dangerous PA_barrier_money\n",
       "1 1                                  0               \n",
       "2 1                                  0               \n",
       "3 1                                  0               \n",
       "4 1                                  0               \n",
       "5 1                                  0               \n",
       "6 0                                  0               \n",
       "  PA_barrier_time_convenience PA_barrier_hard_work PA_barrier_no_interest\n",
       "1 0                           1                    0                     \n",
       "2 0                           0                    0                     \n",
       "3 0                           0                    1                     \n",
       "4 0                           0                    0                     \n",
       "5 0                           0                    0                     \n",
       "6 0                           0                    0                     \n",
       "  PA_barrier_none PA_easiness_outdoor_activities\n",
       "1 0               0                             \n",
       "2 0               1                             \n",
       "3 0               0                             \n",
       "4 0               1                             \n",
       "5 0               0                             \n",
       "6 0               1                             \n",
       "  PA_easiness_professional_guidance PA_easiness_unguided PA_easiness_music\n",
       "1 0                                 0                    0                \n",
       "2 0                                 0                    0                \n",
       "3 0                                 1                    0                \n",
       "4 1                                 0                    0                \n",
       "5 0                                 0                    0                \n",
       "6 0                                 0                    0                \n",
       "  PA_easiness_collective PA_easiness_home_activity PA_easiness_family_activity\n",
       "1 0                      1                         0                          \n",
       "2 0                      0                         0                          \n",
       "3 0                      0                         0                          \n",
       "4 0                      1                         0                          \n",
       "5 0                      1                         1                          \n",
       "6 0                      0                         0                          \n",
       "  PA_easiness_home_space PA_easiness_home_equipament PA_easiness_others\n",
       "1 0                      0                           0                 \n",
       "2 1                      1                           0                 \n",
       "3 0                      0                           0                 \n",
       "4 1                      1                           0                 \n",
       "5 1                      1                           0                 \n",
       "6 0                      1                           0                 "
      ]
     },
     "metadata": {},
     "output_type": "display_data"
    }
   ],
   "source": [
    "df_during[1:18] <- lapply(df_during[1:18], as.factor)\n",
    "df_during_barriers_facilitators <- df_during[, 1:18]\n",
    "dim(df_during_barriers_facilitators)\n",
    "head(df_during_barriers_facilitators)"
   ]
  },
  {
   "cell_type": "markdown",
   "metadata": {},
   "source": [
    "### Removing Strangers"
   ]
  },
  {
   "cell_type": "code",
   "execution_count": 9,
   "metadata": {
    "vscode": {
     "languageId": "r"
    }
   },
   "outputs": [
    {
     "data": {
      "text/plain": [
       "strange_p\n",
       "FALSE  TRUE \n",
       " 1244     6 "
      ]
     },
     "metadata": {},
     "output_type": "display_data"
    },
    {
     "data": {
      "text/plain": [
       "strange_dp\n",
       "FALSE  TRUE \n",
       " 1218    26 "
      ]
     },
     "metadata": {},
     "output_type": "display_data"
    }
   ],
   "source": [
    "differ_p <- (   df_during$PA_duration == 0 \n",
    "                | df_during$PA_intensity == 0 \n",
    "                | df_during$PA_weekly_frequency == 0\n",
    "                | df_during$PA_number == 0\n",
    "            )\n",
    "strange_p <- df_during$PA_practice_during == 1 & differ_p\n",
    "df_during <- df_during[!strange_p, ]\n",
    "df_during_barriers_facilitators <- df_during_barriers_facilitators[!strange_p, ]\n",
    "table(strange_p)\n",
    "\n",
    "differ_dp <- ( df_during$PA_duration != 0 \n",
    "                | df_during$PA_intensity != 0 \n",
    "                | df_during$PA_weekly_frequency != 0\n",
    "                | df_during$PA_number != 0\n",
    "            ) \n",
    "strange_dp <- df_during$PA_practice_during == 0 & differ_dp \n",
    "\n",
    "\n",
    "table(strange_dp)\n",
    "df_during <- df_during[!strange_dp, ]\n",
    "df_during_barriers_facilitators <- df_during_barriers_facilitators[!strange_dp, ]"
   ]
  },
  {
   "cell_type": "markdown",
   "metadata": {},
   "source": [
    "### Agregate barriers and clean them\n"
   ]
  },
  {
   "cell_type": "code",
   "execution_count": 17,
   "metadata": {
    "vscode": {
     "languageId": "r"
    }
   },
   "outputs": [
    {
     "data": {
      "text/html": [
       "<style>\n",
       ".list-inline {list-style: none; margin:0; padding: 0}\n",
       ".list-inline>li {display: inline-block}\n",
       ".list-inline>li:not(:last-child)::after {content: \"\\00b7\"; padding: 0 .5ex}\n",
       "</style>\n",
       "<ol class=list-inline><li>'PA_barrier_time_family_responsabilities'</li><li>'PA_barrier__tiredness'</li><li>'PA_barrier_places_closed_dangerous'</li><li>'PA_barrier_money'</li><li>'PA_barrier_time_convenience'</li><li>'PA_barrier_hard_work'</li><li>'PA_barrier_no_interest'</li><li>'PA_easiness_outdoor_activities'</li><li>'PA_easiness_professional_guidance'</li><li>'PA_easiness_unguided'</li><li>'PA_easiness_music'</li><li>'PA_easiness_collective'</li><li>'PA_easiness_home_activity'</li><li>'PA_easiness_family_activity'</li><li>'PA_easiness_home_space'</li><li>'PA_easiness_home_equipament'</li></ol>\n"
      ],
      "text/latex": [
       "\\begin{enumerate*}\n",
       "\\item 'PA\\_barrier\\_time\\_family\\_responsabilities'\n",
       "\\item 'PA\\_barrier\\_\\_tiredness'\n",
       "\\item 'PA\\_barrier\\_places\\_closed\\_dangerous'\n",
       "\\item 'PA\\_barrier\\_money'\n",
       "\\item 'PA\\_barrier\\_time\\_convenience'\n",
       "\\item 'PA\\_barrier\\_hard\\_work'\n",
       "\\item 'PA\\_barrier\\_no\\_interest'\n",
       "\\item 'PA\\_easiness\\_outdoor\\_activities'\n",
       "\\item 'PA\\_easiness\\_professional\\_guidance'\n",
       "\\item 'PA\\_easiness\\_unguided'\n",
       "\\item 'PA\\_easiness\\_music'\n",
       "\\item 'PA\\_easiness\\_collective'\n",
       "\\item 'PA\\_easiness\\_home\\_activity'\n",
       "\\item 'PA\\_easiness\\_family\\_activity'\n",
       "\\item 'PA\\_easiness\\_home\\_space'\n",
       "\\item 'PA\\_easiness\\_home\\_equipament'\n",
       "\\end{enumerate*}\n"
      ],
      "text/markdown": [
       "1. 'PA_barrier_time_family_responsabilities'\n",
       "2. 'PA_barrier__tiredness'\n",
       "3. 'PA_barrier_places_closed_dangerous'\n",
       "4. 'PA_barrier_money'\n",
       "5. 'PA_barrier_time_convenience'\n",
       "6. 'PA_barrier_hard_work'\n",
       "7. 'PA_barrier_no_interest'\n",
       "8. 'PA_easiness_outdoor_activities'\n",
       "9. 'PA_easiness_professional_guidance'\n",
       "10. 'PA_easiness_unguided'\n",
       "11. 'PA_easiness_music'\n",
       "12. 'PA_easiness_collective'\n",
       "13. 'PA_easiness_home_activity'\n",
       "14. 'PA_easiness_family_activity'\n",
       "15. 'PA_easiness_home_space'\n",
       "16. 'PA_easiness_home_equipament'\n",
       "\n",
       "\n"
      ],
      "text/plain": [
       " [1] \"PA_barrier_time_family_responsabilities\"\n",
       " [2] \"PA_barrier__tiredness\"                  \n",
       " [3] \"PA_barrier_places_closed_dangerous\"     \n",
       " [4] \"PA_barrier_money\"                       \n",
       " [5] \"PA_barrier_time_convenience\"            \n",
       " [6] \"PA_barrier_hard_work\"                   \n",
       " [7] \"PA_barrier_no_interest\"                 \n",
       " [8] \"PA_easiness_outdoor_activities\"         \n",
       " [9] \"PA_easiness_professional_guidance\"      \n",
       "[10] \"PA_easiness_unguided\"                   \n",
       "[11] \"PA_easiness_music\"                      \n",
       "[12] \"PA_easiness_collective\"                 \n",
       "[13] \"PA_easiness_home_activity\"              \n",
       "[14] \"PA_easiness_family_activity\"            \n",
       "[15] \"PA_easiness_home_space\"                 \n",
       "[16] \"PA_easiness_home_equipament\"            "
      ]
     },
     "metadata": {},
     "output_type": "display_data"
    }
   ],
   "source": [
    "df_during_barriers_facilitators$PA_easiness_others <- NULL\n",
    "df_during_barriers_facilitators$PA_barrier_none <- NULL\n",
    "names(df_during_barriers_facilitators)"
   ]
  },
  {
   "cell_type": "code",
   "execution_count": 39,
   "metadata": {
    "vscode": {
     "languageId": "r"
    }
   },
   "outputs": [],
   "source": [
    "\n",
    "time_barrier_1 <- ifelse(df_during_barriers_facilitators$PA_barrier_time_family_responsabilities=='0',0,1)\n",
    "time_barrier_2 <- ifelse(df_during_barriers_facilitators$PA_barrier_time_convenience=='0',0,1)\n",
    "\n",
    "\n",
    "hard_barrier_1 <- ifelse(df_during_barriers_facilitators$PA_barrier__tiredness=='0',0,1)\n",
    "hard_barrier_2 <- ifelse(df_during_barriers_facilitators$PA_barrier_hard_work=='0',0,1)\n",
    "\n",
    "group_easiness_1 <- ifelse(df_during_barriers_facilitators$PA_easiness_family_activity=='0',0,1)\n",
    "group_easiness_2 <- ifelse(df_during_barriers_facilitators$PA_easiness_collective=='0',0,1)\n",
    "\n",
    "\n",
    "home_easiness_1 <- ifelse(df_during_barriers_facilitators$PA_easiness_home_space=='0',0,1)\n",
    "home_easiness_2 <- ifelse(df_during_barriers_facilitators$PA_easiness_home_equipament=='0',0,1)\n",
    "\n",
    "\n",
    "df_during_barriers_facilitators$PA_barrier_time <- time_barrier_1 | time_barrier_2\n",
    "df_during_barriers_facilitators$PA_barrier_hard <- hard_barrier_1 | hard_barrier_2\n",
    "df_during_barriers_facilitators$PA_easiness_group <- group_easiness_1 | group_easiness_2\n",
    "df_during_barriers_facilitators$PA_easiness_home <- home_easiness_1 | home_easiness_2\n"
   ]
  },
  {
   "cell_type": "code",
   "execution_count": 40,
   "metadata": {
    "vscode": {
     "languageId": "r"
    }
   },
   "outputs": [],
   "source": [
    "df_during_barriers_facilitators$PA_barrier_time_family_responsabilities <- NULL\n",
    "df_during_barriers_facilitators$PA_barrier_time_convenience <- NULL\n",
    "\n",
    "df_during_barriers_facilitators$PA_barrier__tiredness <- NULL\n",
    "df_during_barriers_facilitators$PA_barrier_hard_work <- NULL\n",
    "\n",
    "df_during_barriers_facilitators$PA_easiness_family_activity <- NULL\n",
    "df_during_barriers_facilitators$PA_easiness_collective <- NULL\n",
    "\n",
    "df_during_barriers_facilitators$PA_easiness_home_space <- NULL\n",
    "df_during_barriers_facilitators$PA_easiness_home_equipament <- NULL"
   ]
  },
  {
   "cell_type": "code",
   "execution_count": 43,
   "metadata": {
    "vscode": {
     "languageId": "r"
    }
   },
   "outputs": [
    {
     "data": {
      "text/html": [
       "<style>\n",
       ".list-inline {list-style: none; margin:0; padding: 0}\n",
       ".list-inline>li {display: inline-block}\n",
       ".list-inline>li:not(:last-child)::after {content: \"\\00b7\"; padding: 0 .5ex}\n",
       "</style>\n",
       "<ol class=list-inline><li>'PA_barrier_places_closed_dangerous'</li><li>'PA_barrier_money'</li><li>'PA_barrier_no_interest'</li><li>'PA_easiness_outdoor_activities'</li><li>'PA_easiness_professional_guidance'</li><li>'PA_easiness_unguided'</li><li>'PA_easiness_music'</li><li>'PA_easiness_home_activity'</li><li>'PA_barrier_time'</li><li>'PA_barrier_hard'</li><li>'PA_easiness_group'</li><li>'PA_easiness_home'</li></ol>\n"
      ],
      "text/latex": [
       "\\begin{enumerate*}\n",
       "\\item 'PA\\_barrier\\_places\\_closed\\_dangerous'\n",
       "\\item 'PA\\_barrier\\_money'\n",
       "\\item 'PA\\_barrier\\_no\\_interest'\n",
       "\\item 'PA\\_easiness\\_outdoor\\_activities'\n",
       "\\item 'PA\\_easiness\\_professional\\_guidance'\n",
       "\\item 'PA\\_easiness\\_unguided'\n",
       "\\item 'PA\\_easiness\\_music'\n",
       "\\item 'PA\\_easiness\\_home\\_activity'\n",
       "\\item 'PA\\_barrier\\_time'\n",
       "\\item 'PA\\_barrier\\_hard'\n",
       "\\item 'PA\\_easiness\\_group'\n",
       "\\item 'PA\\_easiness\\_home'\n",
       "\\end{enumerate*}\n"
      ],
      "text/markdown": [
       "1. 'PA_barrier_places_closed_dangerous'\n",
       "2. 'PA_barrier_money'\n",
       "3. 'PA_barrier_no_interest'\n",
       "4. 'PA_easiness_outdoor_activities'\n",
       "5. 'PA_easiness_professional_guidance'\n",
       "6. 'PA_easiness_unguided'\n",
       "7. 'PA_easiness_music'\n",
       "8. 'PA_easiness_home_activity'\n",
       "9. 'PA_barrier_time'\n",
       "10. 'PA_barrier_hard'\n",
       "11. 'PA_easiness_group'\n",
       "12. 'PA_easiness_home'\n",
       "\n",
       "\n"
      ],
      "text/plain": [
       " [1] \"PA_barrier_places_closed_dangerous\" \"PA_barrier_money\"                  \n",
       " [3] \"PA_barrier_no_interest\"             \"PA_easiness_outdoor_activities\"    \n",
       " [5] \"PA_easiness_professional_guidance\"  \"PA_easiness_unguided\"              \n",
       " [7] \"PA_easiness_music\"                  \"PA_easiness_home_activity\"         \n",
       " [9] \"PA_barrier_time\"                    \"PA_barrier_hard\"                   \n",
       "[11] \"PA_easiness_group\"                  \"PA_easiness_home\"                  "
      ]
     },
     "metadata": {},
     "output_type": "display_data"
    }
   ],
   "source": [
    "names(df_during_barriers_facilitators)"
   ]
  },
  {
   "cell_type": "markdown",
   "metadata": {},
   "source": [
    "## Silhouette method"
   ]
  },
  {
   "cell_type": "code",
   "execution_count": 44,
   "metadata": {
    "vscode": {
     "languageId": "r"
    }
   },
   "outputs": [
    {
     "data": {
      "text/html": [
       "<table class=\"dataframe\">\n",
       "<caption>A matrix: 6 × 1218 of type dbl</caption>\n",
       "<thead>\n",
       "\t<tr><th></th><th scope=col>2</th><th scope=col>3</th><th scope=col>4</th><th scope=col>5</th><th scope=col>6</th><th scope=col>8</th><th scope=col>9</th><th scope=col>11</th><th scope=col>12</th><th scope=col>14</th><th scope=col>...</th><th scope=col>1246</th><th scope=col>1247</th><th scope=col>1248</th><th scope=col>1249</th><th scope=col>1250</th><th scope=col>1251</th><th scope=col>1252</th><th scope=col>1253</th><th scope=col>1254</th><th scope=col>1255</th></tr>\n",
       "</thead>\n",
       "<tbody>\n",
       "\t<tr><th scope=row>2</th><td>0</td><td>4</td><td>2</td><td>3</td><td>2</td><td>5</td><td>4</td><td>6</td><td>2</td><td>4</td><td>...</td><td>2</td><td>4</td><td>2</td><td>6</td><td>3</td><td>0</td><td>5</td><td>3</td><td>4</td><td>1</td></tr>\n",
       "\t<tr><th scope=row>3</th><td>4</td><td>0</td><td>6</td><td>5</td><td>6</td><td>7</td><td>6</td><td>6</td><td>2</td><td>6</td><td>...</td><td>4</td><td>4</td><td>6</td><td>8</td><td>3</td><td>4</td><td>5</td><td>3</td><td>4</td><td>3</td></tr>\n",
       "\t<tr><th scope=row>4</th><td>2</td><td>6</td><td>0</td><td>3</td><td>4</td><td>5</td><td>4</td><td>6</td><td>4</td><td>4</td><td>...</td><td>4</td><td>4</td><td>2</td><td>4</td><td>5</td><td>2</td><td>5</td><td>5</td><td>6</td><td>3</td></tr>\n",
       "\t<tr><th scope=row>5</th><td>3</td><td>5</td><td>3</td><td>0</td><td>5</td><td>4</td><td>5</td><td>5</td><td>3</td><td>3</td><td>...</td><td>3</td><td>5</td><td>3</td><td>3</td><td>4</td><td>3</td><td>2</td><td>6</td><td>5</td><td>4</td></tr>\n",
       "\t<tr><th scope=row>6</th><td>2</td><td>6</td><td>4</td><td>5</td><td>0</td><td>7</td><td>6</td><td>6</td><td>4</td><td>6</td><td>...</td><td>2</td><td>4</td><td>2</td><td>6</td><td>3</td><td>2</td><td>5</td><td>5</td><td>4</td><td>3</td></tr>\n",
       "\t<tr><th scope=row>8</th><td>5</td><td>7</td><td>5</td><td>4</td><td>7</td><td>0</td><td>7</td><td>5</td><td>5</td><td>3</td><td>...</td><td>5</td><td>5</td><td>7</td><td>3</td><td>6</td><td>5</td><td>6</td><td>6</td><td>5</td><td>6</td></tr>\n",
       "</tbody>\n",
       "</table>\n"
      ],
      "text/latex": [
       "A matrix: 6 × 1218 of type dbl\n",
       "\\begin{tabular}{r|lllllllllllllllllllll}\n",
       "  & 2 & 3 & 4 & 5 & 6 & 8 & 9 & 11 & 12 & 14 & ... & 1246 & 1247 & 1248 & 1249 & 1250 & 1251 & 1252 & 1253 & 1254 & 1255\\\\\n",
       "\\hline\n",
       "\t2 & 0 & 4 & 2 & 3 & 2 & 5 & 4 & 6 & 2 & 4 & ... & 2 & 4 & 2 & 6 & 3 & 0 & 5 & 3 & 4 & 1\\\\\n",
       "\t3 & 4 & 0 & 6 & 5 & 6 & 7 & 6 & 6 & 2 & 6 & ... & 4 & 4 & 6 & 8 & 3 & 4 & 5 & 3 & 4 & 3\\\\\n",
       "\t4 & 2 & 6 & 0 & 3 & 4 & 5 & 4 & 6 & 4 & 4 & ... & 4 & 4 & 2 & 4 & 5 & 2 & 5 & 5 & 6 & 3\\\\\n",
       "\t5 & 3 & 5 & 3 & 0 & 5 & 4 & 5 & 5 & 3 & 3 & ... & 3 & 5 & 3 & 3 & 4 & 3 & 2 & 6 & 5 & 4\\\\\n",
       "\t6 & 2 & 6 & 4 & 5 & 0 & 7 & 6 & 6 & 4 & 6 & ... & 2 & 4 & 2 & 6 & 3 & 2 & 5 & 5 & 4 & 3\\\\\n",
       "\t8 & 5 & 7 & 5 & 4 & 7 & 0 & 7 & 5 & 5 & 3 & ... & 5 & 5 & 7 & 3 & 6 & 5 & 6 & 6 & 5 & 6\\\\\n",
       "\\end{tabular}\n"
      ],
      "text/markdown": [
       "\n",
       "A matrix: 6 × 1218 of type dbl\n",
       "\n",
       "| <!--/--> | 2 | 3 | 4 | 5 | 6 | 8 | 9 | 11 | 12 | 14 | ... | 1246 | 1247 | 1248 | 1249 | 1250 | 1251 | 1252 | 1253 | 1254 | 1255 |\n",
       "|---|---|---|---|---|---|---|---|---|---|---|---|---|---|---|---|---|---|---|---|---|---|\n",
       "| 2 | 0 | 4 | 2 | 3 | 2 | 5 | 4 | 6 | 2 | 4 | ... | 2 | 4 | 2 | 6 | 3 | 0 | 5 | 3 | 4 | 1 |\n",
       "| 3 | 4 | 0 | 6 | 5 | 6 | 7 | 6 | 6 | 2 | 6 | ... | 4 | 4 | 6 | 8 | 3 | 4 | 5 | 3 | 4 | 3 |\n",
       "| 4 | 2 | 6 | 0 | 3 | 4 | 5 | 4 | 6 | 4 | 4 | ... | 4 | 4 | 2 | 4 | 5 | 2 | 5 | 5 | 6 | 3 |\n",
       "| 5 | 3 | 5 | 3 | 0 | 5 | 4 | 5 | 5 | 3 | 3 | ... | 3 | 5 | 3 | 3 | 4 | 3 | 2 | 6 | 5 | 4 |\n",
       "| 6 | 2 | 6 | 4 | 5 | 0 | 7 | 6 | 6 | 4 | 6 | ... | 2 | 4 | 2 | 6 | 3 | 2 | 5 | 5 | 4 | 3 |\n",
       "| 8 | 5 | 7 | 5 | 4 | 7 | 0 | 7 | 5 | 5 | 3 | ... | 5 | 5 | 7 | 3 | 6 | 5 | 6 | 6 | 5 | 6 |\n",
       "\n"
      ],
      "text/plain": [
       "  2 3 4 5 6 8 9 11 12 14 ... 1246 1247 1248 1249 1250 1251 1252 1253 1254 1255\n",
       "2 0 4 2 3 2 5 4 6  2  4  ... 2    4    2    6    3    0    5    3    4    1   \n",
       "3 4 0 6 5 6 7 6 6  2  6  ... 4    4    6    8    3    4    5    3    4    3   \n",
       "4 2 6 0 3 4 5 4 6  4  4  ... 4    4    2    4    5    2    5    5    6    3   \n",
       "5 3 5 3 0 5 4 5 5  3  3  ... 3    5    3    3    4    3    2    6    5    4   \n",
       "6 2 6 4 5 0 7 6 6  4  6  ... 2    4    2    6    3    2    5    5    4    3   \n",
       "8 5 7 5 4 7 0 7 5  5  3  ... 5    5    7    3    6    5    6    6    5    6   "
      ]
     },
     "metadata": {},
     "output_type": "display_data"
    }
   ],
   "source": [
    "df_matrix <- data.matrix(df_during_barriers_facilitators) - 1\n",
    "similarity_matrix <- df_matrix %*% t(df_matrix) + ((!df_matrix) + 0) %*% ((!t(df_matrix)) + 0)\n",
    "dissimilarity_matrix <- ncol(df_during_barriers_facilitators) - similarity_matrix\n",
    "head(dissimilarity_matrix)"
   ]
  },
  {
   "cell_type": "markdown",
   "metadata": {},
   "source": [
    "Genrating Ks samples"
   ]
  },
  {
   "cell_type": "code",
   "execution_count": 48,
   "metadata": {
    "vscode": {
     "languageId": "r"
    }
   },
   "outputs": [],
   "source": [
    "num_seeds = 100\n",
    "max_indexs <- c()\n",
    "max_values <- c()\n",
    "seed_k <- data.frame(matrix(NA, ncol=num_seeds))\n",
    "for(seed in 1:num_seeds){\n",
    "    silhouette_scs <- c()\n",
    "    for(k in 2:8){\n",
    "        sc <- silhouette_values(num_clusters=k, df=df_during, diss_matrix=dissimilarity_matrix, iters=200, s=seed)[[1]]\n",
    "\n",
    "        silhouette_scs <- append(sc, silhouette_scs)\n",
    "    }\n",
    "    mvalue <- max(silhouette_scs)\n",
    "    max_values <- append(mvalue, max_values)\n",
    "    max_indexs <- append(9 - match(max(mvalue), silhouette_scs), max_indexs)\n",
    "}\n",
    "\n",
    "\n",
    "write.csv(data.frame(k=rev(max_indexs), sc=rev(max_values)),\"../Data/silhouette.csv\", row.names = FALSE)"
   ]
  },
  {
   "cell_type": "code",
   "execution_count": 51,
   "metadata": {
    "vscode": {
     "languageId": "r"
    }
   },
   "outputs": [
    {
     "data": {
      "text/html": [
       "<table class=\"dataframe\">\n",
       "<caption>A data.frame: 10 × 3</caption>\n",
       "<thead>\n",
       "\t<tr><th></th><th scope=col>k</th><th scope=col>sc</th><th scope=col>seed</th></tr>\n",
       "\t<tr><th></th><th scope=col>&lt;int&gt;</th><th scope=col>&lt;dbl&gt;</th><th scope=col>&lt;int&gt;</th></tr>\n",
       "</thead>\n",
       "<tbody>\n",
       "\t<tr><th scope=row>68</th><td>3</td><td>0.1843959</td><td>68</td></tr>\n",
       "\t<tr><th scope=row>46</th><td>2</td><td>0.1771349</td><td>46</td></tr>\n",
       "\t<tr><th scope=row>62</th><td>4</td><td>0.1621042</td><td>62</td></tr>\n",
       "\t<tr><th scope=row>73</th><td>3</td><td>0.1615957</td><td>73</td></tr>\n",
       "\t<tr><th scope=row>32</th><td>2</td><td>0.1610452</td><td>32</td></tr>\n",
       "\t<tr><th scope=row>33</th><td>2</td><td>0.1596450</td><td>33</td></tr>\n",
       "\t<tr><th scope=row>21</th><td>2</td><td>0.1553791</td><td>21</td></tr>\n",
       "\t<tr><th scope=row>84</th><td>2</td><td>0.1507815</td><td>84</td></tr>\n",
       "\t<tr><th scope=row>69</th><td>2</td><td>0.1491713</td><td>69</td></tr>\n",
       "\t<tr><th scope=row>65</th><td>4</td><td>0.1489659</td><td>65</td></tr>\n",
       "</tbody>\n",
       "</table>\n"
      ],
      "text/latex": [
       "A data.frame: 10 × 3\n",
       "\\begin{tabular}{r|lll}\n",
       "  & k & sc & seed\\\\\n",
       "  & <int> & <dbl> & <int>\\\\\n",
       "\\hline\n",
       "\t68 & 3 & 0.1843959 & 68\\\\\n",
       "\t46 & 2 & 0.1771349 & 46\\\\\n",
       "\t62 & 4 & 0.1621042 & 62\\\\\n",
       "\t73 & 3 & 0.1615957 & 73\\\\\n",
       "\t32 & 2 & 0.1610452 & 32\\\\\n",
       "\t33 & 2 & 0.1596450 & 33\\\\\n",
       "\t21 & 2 & 0.1553791 & 21\\\\\n",
       "\t84 & 2 & 0.1507815 & 84\\\\\n",
       "\t69 & 2 & 0.1491713 & 69\\\\\n",
       "\t65 & 4 & 0.1489659 & 65\\\\\n",
       "\\end{tabular}\n"
      ],
      "text/markdown": [
       "\n",
       "A data.frame: 10 × 3\n",
       "\n",
       "| <!--/--> | k &lt;int&gt; | sc &lt;dbl&gt; | seed &lt;int&gt; |\n",
       "|---|---|---|---|\n",
       "| 68 | 3 | 0.1843959 | 68 |\n",
       "| 46 | 2 | 0.1771349 | 46 |\n",
       "| 62 | 4 | 0.1621042 | 62 |\n",
       "| 73 | 3 | 0.1615957 | 73 |\n",
       "| 32 | 2 | 0.1610452 | 32 |\n",
       "| 33 | 2 | 0.1596450 | 33 |\n",
       "| 21 | 2 | 0.1553791 | 21 |\n",
       "| 84 | 2 | 0.1507815 | 84 |\n",
       "| 69 | 2 | 0.1491713 | 69 |\n",
       "| 65 | 4 | 0.1489659 | 65 |\n",
       "\n"
      ],
      "text/plain": [
       "   k sc        seed\n",
       "68 3 0.1843959 68  \n",
       "46 2 0.1771349 46  \n",
       "62 4 0.1621042 62  \n",
       "73 3 0.1615957 73  \n",
       "32 2 0.1610452 32  \n",
       "33 2 0.1596450 33  \n",
       "21 2 0.1553791 21  \n",
       "84 2 0.1507815 84  \n",
       "69 2 0.1491713 69  \n",
       "65 4 0.1489659 65  "
      ]
     },
     "metadata": {},
     "output_type": "display_data"
    }
   ],
   "source": [
    "best_silhouettes <- read.csv('../Data/silhouette.csv')\n",
    "best_silhouettes$seed <- seq.int(nrow(best_silhouettes))\n",
    "head(best_silhouettes[order(best_silhouettes$sc, decreasing=TRUE), ], 10)"
   ]
  },
  {
   "cell_type": "code",
   "execution_count": null,
   "metadata": {
    "vscode": {
     "languageId": "r"
    }
   },
   "outputs": [],
   "source": [
    "# silhoutte_result <-  silhouette_values(num_clusters=3, df=df_during, diss_matrix=dissimilarity_matrix, iters=200, s=68)\n",
    "# coef_data <- data.frame(coef=silhoutte_result[[2]], clust=silhoutte_result[[3]]$cluster)\n",
    "# coef_data <- coef_data[order(coef_data$coef, decreasing=TRUE), ]\n",
    "# coef_data <- coef_data[order(coef_data$clust, decreasing=TRUE), ]\n",
    "# coef_data$clust <- as.factor(coef_data$clust )\n",
    "# coef_data$ID <- seq.int(nrow(coef_data))\n",
    "\n",
    "# ggplot(data = coef_data, aes(y=coef, x=ID, fill=clust)) + \n",
    "#   geom_bar(stat = \"identity\") + \n",
    "#   geom_hline(yintercept=mean(coef_data$coef), linetype=\"dashed\", color = \"red\") + \n",
    "#   coord_flip() + \n",
    "#   scale_x_reverse() + \n",
    "#   theme(panel.grid.major = element_blank(), panel.grid.minor = element_blank())"
   ]
  },
  {
   "cell_type": "code",
   "execution_count": null,
   "metadata": {
    "vscode": {
     "languageId": "r"
    }
   },
   "outputs": [],
   "source": [
    "# silhoutte_result <-  silhouette_values(num_clusters=4, df=df_during, diss_matrix=dissimilarity_matrix, iters=200, s=62)\n",
    "# coef_data <- data.frame(coef=silhoutte_result[[2]], clust=silhoutte_result[[3]]$cluster)\n",
    "# coef_data <- coef_data[order(coef_data$coef, decreasing=TRUE), ]\n",
    "# coef_data <- coef_data[order(coef_data$clust, decreasing=TRUE), ]\n",
    "# coef_data$clust <- as.factor(coef_data$clust )\n",
    "# coef_data$ID <- seq.int(nrow(coef_data))\n",
    "\n",
    "# ggplot(data = coef_data, aes(y=coef, x=ID, fill=clust)) + \n",
    "#   geom_bar(stat = \"identity\") + \n",
    "#   geom_hline(yintercept=mean(coef_data$coef), linetype=\"dashed\", color = \"red\") + \n",
    "#   coord_flip() + \n",
    "#   scale_x_reverse() "
   ]
  },
  {
   "cell_type": "code",
   "execution_count": null,
   "metadata": {
    "vscode": {
     "languageId": "r"
    }
   },
   "outputs": [],
   "source": [
    "# silhoutte_result <-  silhouette_values(num_clusters=3, df=df_during, diss_matrix=dissimilarity_matrix, iters=200, s=13)\n",
    "# coef_data <- data.frame(coef=silhoutte_result[[2]], clust=silhoutte_result[[3]]$cluster)\n",
    "# coef_data <- coef_data[order(coef_data$coef, decreasing=TRUE), ]\n",
    "# coef_data <- coef_data[order(coef_data$clust, decreasing=TRUE), ]\n",
    "# coef_data$clust <- as.factor(coef_data$clust )\n",
    "# coef_data$ID <- seq.int(nrow(coef_data))\n",
    "\n",
    "# ggplot(data = coef_data, aes(y=coef, x=ID, fill=clust)) + \n",
    "#   geom_bar(stat = \"identity\") + \n",
    "#   geom_hline(yintercept=mean(coef_data$coef), linetype=\"dashed\", color = \"red\") + \n",
    "#   coord_flip() + \n",
    "#   scale_x_reverse() "
   ]
  }
 ],
 "metadata": {
  "kernelspec": {
   "display_name": "R",
   "language": "R",
   "name": "ir"
  },
  "language_info": {
   "codemirror_mode": "r",
   "file_extension": ".r",
   "mimetype": "text/x-r-source",
   "name": "R",
   "pygments_lexer": "r",
   "version": "4.1.0"
  },
  "orig_nbformat": 4
 },
 "nbformat": 4,
 "nbformat_minor": 2
}
