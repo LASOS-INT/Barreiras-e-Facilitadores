{
 "cells": [
  {
   "cell_type": "markdown",
   "metadata": {},
   "source": [
    "# Centering Analysis in Barriers Variables"
   ]
  },
  {
   "cell_type": "markdown",
   "metadata": {},
   "source": [
    "## Importing packages"
   ]
  },
  {
   "cell_type": "code",
   "execution_count": null,
   "metadata": {},
   "outputs": [],
   "source": [
    "#install.packages(\"here\")\n",
    "library(here, help, pos = 2, lib.loc = NULL)\n",
    "source(here('Modules','modules.R'))\n",
    "source(here('Modules','data_cleaning.R'))\n",
    "source(here('Modules','unsupervised_learning.R'))\n",
    "#install_all_packages()\n",
    "load_library_packages()"
   ]
  },
  {
   "cell_type": "markdown",
   "metadata": {},
   "source": [
    "## Predicting"
   ]
  },
  {
   "cell_type": "markdown",
   "metadata": {},
   "source": [
    "### Output Barrier: I have no interest in in practicing PA"
   ]
  },
  {
   "cell_type": "code",
   "execution_count": 26,
   "metadata": {},
   "outputs": [
    {
     "data": {
      "text/html": [
       "<table class=\"dataframe\">\n",
       "<caption>A data.frame: 6 × 74</caption>\n",
       "<thead>\n",
       "\t<tr><th></th><th scope=col>sex</th><th scope=col>age_range</th><th scope=col>martialStatus</th><th scope=col>co.resident_range</th><th scope=col>rooms_range</th><th scope=col>income_range</th><th scope=col>scholarity</th><th scope=col>diabetes</th><th scope=col>hypertension</th><th scope=col>dyslipidemia</th><th scope=col>...</th><th scope=col>PA_barriers_before_time_family_responsabilities</th><th scope=col>PA_barriers_before_tiredness</th><th scope=col>PA_barriers_before_location_distance</th><th scope=col>PA_barriers_before_money</th><th scope=col>PA_barriers_before_time_convenience</th><th scope=col>PA_barriers_before_hard_task</th><th scope=col>PA_barriers_before_interest</th><th scope=col>PA_barriers_before_none</th><th scope=col>PA_barrier_no_interest</th><th scope=col>pa_number_before</th></tr>\n",
       "\t<tr><th></th><th scope=col>&lt;fct&gt;</th><th scope=col>&lt;int&gt;</th><th scope=col>&lt;fct&gt;</th><th scope=col>&lt;int&gt;</th><th scope=col>&lt;int&gt;</th><th scope=col>&lt;int&gt;</th><th scope=col>&lt;int&gt;</th><th scope=col>&lt;fct&gt;</th><th scope=col>&lt;fct&gt;</th><th scope=col>&lt;fct&gt;</th><th scope=col>...</th><th scope=col>&lt;fct&gt;</th><th scope=col>&lt;fct&gt;</th><th scope=col>&lt;fct&gt;</th><th scope=col>&lt;fct&gt;</th><th scope=col>&lt;fct&gt;</th><th scope=col>&lt;fct&gt;</th><th scope=col>&lt;fct&gt;</th><th scope=col>&lt;fct&gt;</th><th scope=col>&lt;fct&gt;</th><th scope=col>&lt;int&gt;</th></tr>\n",
       "</thead>\n",
       "<tbody>\n",
       "\t<tr><th scope=row>1</th><td>1</td><td>2</td><td>1</td><td>1</td><td>1</td><td>4</td><td>4</td><td>0</td><td>1</td><td>0</td><td>...</td><td>0</td><td>0</td><td>0</td><td>0</td><td>1</td><td>0</td><td>0</td><td>0</td><td>no </td><td>1</td></tr>\n",
       "\t<tr><th scope=row>2</th><td>2</td><td>3</td><td>1</td><td>2</td><td>3</td><td>6</td><td>4</td><td>0</td><td>0</td><td>0</td><td>...</td><td>0</td><td>1</td><td>0</td><td>0</td><td>0</td><td>0</td><td>0</td><td>0</td><td>no </td><td>4</td></tr>\n",
       "\t<tr><th scope=row>3</th><td>1</td><td>3</td><td>1</td><td>2</td><td>2</td><td>5</td><td>3</td><td>0</td><td>0</td><td>0</td><td>...</td><td>0</td><td>0</td><td>0</td><td>1</td><td>0</td><td>0</td><td>0</td><td>0</td><td>yes</td><td>2</td></tr>\n",
       "\t<tr><th scope=row>4</th><td>1</td><td>3</td><td>1</td><td>1</td><td>1</td><td>3</td><td>4</td><td>0</td><td>0</td><td>0</td><td>...</td><td>0</td><td>0</td><td>0</td><td>0</td><td>1</td><td>0</td><td>0</td><td>0</td><td>no </td><td>2</td></tr>\n",
       "\t<tr><th scope=row>5</th><td>1</td><td>2</td><td>2</td><td>2</td><td>2</td><td>6</td><td>4</td><td>0</td><td>0</td><td>0</td><td>...</td><td>1</td><td>0</td><td>0</td><td>0</td><td>0</td><td>0</td><td>0</td><td>0</td><td>no </td><td>2</td></tr>\n",
       "\t<tr><th scope=row>6</th><td>2</td><td>3</td><td>2</td><td>2</td><td>2</td><td>6</td><td>6</td><td>0</td><td>0</td><td>0</td><td>...</td><td>1</td><td>0</td><td>0</td><td>0</td><td>0</td><td>0</td><td>0</td><td>0</td><td>no </td><td>3</td></tr>\n",
       "</tbody>\n",
       "</table>\n"
      ],
      "text/latex": [
       "A data.frame: 6 × 74\n",
       "\\begin{tabular}{r|lllllllllllllllllllll}\n",
       "  & sex & age\\_range & martialStatus & co.resident\\_range & rooms\\_range & income\\_range & scholarity & diabetes & hypertension & dyslipidemia & ... & PA\\_barriers\\_before\\_time\\_family\\_responsabilities & PA\\_barriers\\_before\\_tiredness & PA\\_barriers\\_before\\_location\\_distance & PA\\_barriers\\_before\\_money & PA\\_barriers\\_before\\_time\\_convenience & PA\\_barriers\\_before\\_hard\\_task & PA\\_barriers\\_before\\_interest & PA\\_barriers\\_before\\_none & PA\\_barrier\\_no\\_interest & pa\\_number\\_before\\\\\n",
       "  & <fct> & <int> & <fct> & <int> & <int> & <int> & <int> & <fct> & <fct> & <fct> & ... & <fct> & <fct> & <fct> & <fct> & <fct> & <fct> & <fct> & <fct> & <fct> & <int>\\\\\n",
       "\\hline\n",
       "\t1 & 1 & 2 & 1 & 1 & 1 & 4 & 4 & 0 & 1 & 0 & ... & 0 & 0 & 0 & 0 & 1 & 0 & 0 & 0 & no  & 1\\\\\n",
       "\t2 & 2 & 3 & 1 & 2 & 3 & 6 & 4 & 0 & 0 & 0 & ... & 0 & 1 & 0 & 0 & 0 & 0 & 0 & 0 & no  & 4\\\\\n",
       "\t3 & 1 & 3 & 1 & 2 & 2 & 5 & 3 & 0 & 0 & 0 & ... & 0 & 0 & 0 & 1 & 0 & 0 & 0 & 0 & yes & 2\\\\\n",
       "\t4 & 1 & 3 & 1 & 1 & 1 & 3 & 4 & 0 & 0 & 0 & ... & 0 & 0 & 0 & 0 & 1 & 0 & 0 & 0 & no  & 2\\\\\n",
       "\t5 & 1 & 2 & 2 & 2 & 2 & 6 & 4 & 0 & 0 & 0 & ... & 1 & 0 & 0 & 0 & 0 & 0 & 0 & 0 & no  & 2\\\\\n",
       "\t6 & 2 & 3 & 2 & 2 & 2 & 6 & 6 & 0 & 0 & 0 & ... & 1 & 0 & 0 & 0 & 0 & 0 & 0 & 0 & no  & 3\\\\\n",
       "\\end{tabular}\n"
      ],
      "text/markdown": [
       "\n",
       "A data.frame: 6 × 74\n",
       "\n",
       "| <!--/--> | sex &lt;fct&gt; | age_range &lt;int&gt; | martialStatus &lt;fct&gt; | co.resident_range &lt;int&gt; | rooms_range &lt;int&gt; | income_range &lt;int&gt; | scholarity &lt;int&gt; | diabetes &lt;fct&gt; | hypertension &lt;fct&gt; | dyslipidemia &lt;fct&gt; | ... ... | PA_barriers_before_time_family_responsabilities &lt;fct&gt; | PA_barriers_before_tiredness &lt;fct&gt; | PA_barriers_before_location_distance &lt;fct&gt; | PA_barriers_before_money &lt;fct&gt; | PA_barriers_before_time_convenience &lt;fct&gt; | PA_barriers_before_hard_task &lt;fct&gt; | PA_barriers_before_interest &lt;fct&gt; | PA_barriers_before_none &lt;fct&gt; | PA_barrier_no_interest &lt;fct&gt; | pa_number_before &lt;int&gt; |\n",
       "|---|---|---|---|---|---|---|---|---|---|---|---|---|---|---|---|---|---|---|---|---|---|\n",
       "| 1 | 1 | 2 | 1 | 1 | 1 | 4 | 4 | 0 | 1 | 0 | ... | 0 | 0 | 0 | 0 | 1 | 0 | 0 | 0 | no  | 1 |\n",
       "| 2 | 2 | 3 | 1 | 2 | 3 | 6 | 4 | 0 | 0 | 0 | ... | 0 | 1 | 0 | 0 | 0 | 0 | 0 | 0 | no  | 4 |\n",
       "| 3 | 1 | 3 | 1 | 2 | 2 | 5 | 3 | 0 | 0 | 0 | ... | 0 | 0 | 0 | 1 | 0 | 0 | 0 | 0 | yes | 2 |\n",
       "| 4 | 1 | 3 | 1 | 1 | 1 | 3 | 4 | 0 | 0 | 0 | ... | 0 | 0 | 0 | 0 | 1 | 0 | 0 | 0 | no  | 2 |\n",
       "| 5 | 1 | 2 | 2 | 2 | 2 | 6 | 4 | 0 | 0 | 0 | ... | 1 | 0 | 0 | 0 | 0 | 0 | 0 | 0 | no  | 2 |\n",
       "| 6 | 2 | 3 | 2 | 2 | 2 | 6 | 6 | 0 | 0 | 0 | ... | 1 | 0 | 0 | 0 | 0 | 0 | 0 | 0 | no  | 3 |\n",
       "\n"
      ],
      "text/plain": [
       "  sex age_range martialStatus co.resident_range rooms_range income_range\n",
       "1 1   2         1             1                 1           4           \n",
       "2 2   3         1             2                 3           6           \n",
       "3 1   3         1             2                 2           5           \n",
       "4 1   3         1             1                 1           3           \n",
       "5 1   2         2             2                 2           6           \n",
       "6 2   3         2             2                 2           6           \n",
       "  scholarity diabetes hypertension dyslipidemia ...\n",
       "1 4          0        1            0            ...\n",
       "2 4          0        0            0            ...\n",
       "3 3          0        0            0            ...\n",
       "4 4          0        0            0            ...\n",
       "5 4          0        0            0            ...\n",
       "6 6          0        0            0            ...\n",
       "  PA_barriers_before_time_family_responsabilities PA_barriers_before_tiredness\n",
       "1 0                                               0                           \n",
       "2 0                                               1                           \n",
       "3 0                                               0                           \n",
       "4 0                                               0                           \n",
       "5 1                                               0                           \n",
       "6 1                                               0                           \n",
       "  PA_barriers_before_location_distance PA_barriers_before_money\n",
       "1 0                                    0                       \n",
       "2 0                                    0                       \n",
       "3 0                                    1                       \n",
       "4 0                                    0                       \n",
       "5 0                                    0                       \n",
       "6 0                                    0                       \n",
       "  PA_barriers_before_time_convenience PA_barriers_before_hard_task\n",
       "1 1                                   0                           \n",
       "2 0                                   0                           \n",
       "3 0                                   0                           \n",
       "4 1                                   0                           \n",
       "5 0                                   0                           \n",
       "6 0                                   0                           \n",
       "  PA_barriers_before_interest PA_barriers_before_none PA_barrier_no_interest\n",
       "1 0                           0                       no                    \n",
       "2 0                           0                       no                    \n",
       "3 0                           0                       yes                   \n",
       "4 0                           0                       no                    \n",
       "5 0                           0                       no                    \n",
       "6 0                           0                       no                    \n",
       "  pa_number_before\n",
       "1 1               \n",
       "2 4               \n",
       "3 2               \n",
       "4 2               \n",
       "5 2               \n",
       "6 3               "
      ]
     },
     "metadata": {},
     "output_type": "display_data"
    },
    {
     "data": {
      "text/html": [
       "<style>\n",
       ".dl-inline {width: auto; margin:0; padding: 0}\n",
       ".dl-inline>dt, .dl-inline>dd {float: none; width: auto; display: inline-block}\n",
       ".dl-inline>dt::after {content: \":\\0020\"; padding-right: .5ex}\n",
       ".dl-inline>dt:not(:first-of-type) {padding-left: .5ex}\n",
       "</style><dl class=dl-inline><dt>no</dt><dd>1146</dd><dt>yes</dt><dd>96</dd></dl>\n"
      ],
      "text/latex": [
       "\\begin{description*}\n",
       "\\item[no] 1146\n",
       "\\item[yes] 96\n",
       "\\end{description*}\n"
      ],
      "text/markdown": [
       "no\n",
       ":   1146yes\n",
       ":   96\n",
       "\n"
      ],
      "text/plain": [
       "  no  yes \n",
       "1146   96 "
      ]
     },
     "metadata": {},
     "output_type": "display_data"
    }
   ],
   "source": [
    "head(no_interst_barrier_dataset)\n",
    "summary(no_interst_barrier_dataset[, \"PA_barrier_no_interest\"])"
   ]
  },
  {
   "cell_type": "markdown",
   "metadata": {},
   "source": [
    "####  Outliers"
   ]
  },
  {
   "cell_type": "markdown",
   "metadata": {},
   "source": [
    "- Outlier: Strange Dont Practice"
   ]
  },
  {
   "cell_type": "code",
   "execution_count": null,
   "metadata": {},
   "outputs": [],
   "source": [
    "no_interst_barrier_dataset_copy <-no_interst_barrier_dataset\n",
    "no_interst_barrier_dataset_copy[\"outlier\"] <- strange_dp\n",
    "outliers_result_sdp <- outliers_checker(distances_sdp,no_interst_barrier_dataset_copy, \"PA_barrier_no_interest\")"
   ]
  },
  {
   "cell_type": "code",
   "execution_count": 28,
   "metadata": {},
   "outputs": [
    {
     "data": {
      "image/png": "[encoded data removed]",
      "text/plain": [
       "plot without title"
      ]
     },
     "metadata": {
      "image/png": {
       "height": 420,
       "width": 420
      }
     },
     "output_type": "display_data"
    }
   ],
   "source": [
    "plot <- outliers_result_sdp$kappa_x_alpha\n",
    "ggplot(plot, aes(plot[, \"alpha\"], plot[, \"kappa\"] )) + geom_point()"
   ]
  },
  {
   "cell_type": "markdown",
   "metadata": {},
   "source": [
    "- Outlier: Strange Practice"
   ]
  },
  {
   "cell_type": "code",
   "execution_count": null,
   "metadata": {},
   "outputs": [],
   "source": [
    "no_interst_barrier_dataset_copy <-no_interst_barrier_dataset\n",
    "no_interst_barrier_dataset_copy[\"outlier\"] <- strange_p\n",
    "outliers_result_sp <- outliers_checker(distances_sp,no_interst_barrier_dataset_copy, \"PA_barrier_no_interest\")"
   ]
  },
  {
   "cell_type": "code",
   "execution_count": 116,
   "metadata": {},
   "outputs": [
    {
     "data": {
      "image/png": "[encoded data removed]",
      "text/plain": [
       "plot without title"
      ]
     },
     "metadata": {
      "image/png": {
       "height": 420,
       "width": 420
      }
     },
     "output_type": "display_data"
    }
   ],
   "source": [
    "plot <- outliers_result_sp$kappa_x_alpha\n",
    "ggplot(plot, aes(plot[, \"alpha\"], plot[, \"kappa\"] )) + geom_point()"
   ]
  },
  {
   "cell_type": "markdown",
   "metadata": {},
   "source": [
    "- New Train and Test:\n",
    "The outliers check in the strange dont need to delete records"
   ]
  },
  {
   "cell_type": "code",
   "execution_count": 29,
   "metadata": {},
   "outputs": [],
   "source": [
    "no_interst_barrier_train <- outliers_result_sdp$best_model$train\n",
    "no_interst_barrier_test <- outliers_result_sdp$best_model$test"
   ]
  },
  {
   "cell_type": "markdown",
   "metadata": {},
   "source": [
    "#### RF: Kappa with 50% of probability threshold"
   ]
  },
  {
   "cell_type": "code",
   "execution_count": 30,
   "metadata": {},
   "outputs": [
    {
     "name": "stderr",
     "output_type": "stream",
     "text": [
      "Setting levels: control = 1, case = 2\n",
      "\n",
      "Setting direction: controls < cases\n",
      "\n"
     ]
    },
    {
     "name": "stdout",
     "output_type": "stream",
     "text": [
      "Confusion Matrix and Statistics\n",
      "\n",
      "          Reference\n",
      "Prediction  no yes\n",
      "       no  341  25\n",
      "       yes   2   3\n",
      "                                          \n",
      "               Accuracy : 0.9272          \n",
      "                 95% CI : (0.8959, 0.9515)\n",
      "    No Information Rate : 0.9245          \n",
      "    P-Value [Acc > NIR] : 0.4719          \n",
      "                                          \n",
      "                  Kappa : 0.1627          \n",
      "                                          \n",
      " Mcnemar's Test P-Value : 2.297e-05       \n",
      "                                          \n",
      "            Sensitivity : 0.9942          \n",
      "            Specificity : 0.1071          \n",
      "         Pos Pred Value : 0.9317          \n",
      "         Neg Pred Value : 0.6000          \n",
      "              Precision : 0.9317          \n",
      "                 Recall : 0.9942          \n",
      "                     F1 : 0.9619          \n",
      "             Prevalence : 0.9245          \n",
      "         Detection Rate : 0.9191          \n",
      "   Detection Prevalence : 0.9865          \n",
      "      Balanced Accuracy : 0.5507          \n",
      "                                          \n",
      "       'Positive' Class : no              \n",
      "                                          \n"
     ]
    }
   ],
   "source": [
    "set.seed(2)\n",
    "model <- fit_model(\n",
    "    model_method=\"rf\",\n",
    "    model_metric=\"Kappa\",\n",
    "    trControl_func = trainControl(method = \"cv\", search=\"grid\"),\n",
    "    train_data = no_interst_barrier_train,\n",
    "    test_data=no_interst_barrier_test,\n",
    "    yname=\"PA_barrier_no_interest\",\n",
    "    length = 15\n",
    ")\n",
    "print(model$matrix)\n"
   ]
  },
  {
   "cell_type": "code",
   "execution_count": 31,
   "metadata": {},
   "outputs": [
    {
     "data": {
      "image/png": "[encoded data removed]",
      "text/plain": [
       "plot without title"
      ]
     },
     "metadata": {
      "image/png": {
       "height": 420,
       "width": 420
      }
     },
     "output_type": "display_data"
    },
    {
     "data": {
      "image/png": "[encoded data removed]",
      "text/plain": [
       "plot without title"
      ]
     },
     "metadata": {
      "image/png": {
       "height": 420,
       "width": 420
      }
     },
     "output_type": "display_data"
    }
   ],
   "source": [
    "plot(varImp(model$result), top=20)\n",
    "plot(model$result)"
   ]
  },
  {
   "cell_type": "markdown",
   "metadata": {},
   "source": [
    "#### RF: Kappa with antoher probability threshold"
   ]
  },
  {
   "cell_type": "code",
   "execution_count": 32,
   "metadata": {},
   "outputs": [
    {
     "name": "stderr",
     "output_type": "stream",
     "text": [
      "Warning message in .fun(piece, ...):\n",
      "\"The following columns have missing values (NA), which have been removed: 'Neg Pred Value'.\n",
      "\"\n",
      "Warning message in .fun(piece, ...):\n",
      "\"The following columns have missing values (NA), which have been removed: 'Neg Pred Value'.\n",
      "\"\n",
      "Warning message in .fun(piece, ...):\n",
      "\"The following columns have missing values (NA), which have been removed: 'Neg Pred Value'.\n",
      "\"\n",
      "Warning message in .fun(piece, ...):\n",
      "\"The following columns have missing values (NA), which have been removed: 'Neg Pred Value'.\n",
      "\"\n",
      "Warning message in .fun(piece, ...):\n",
      "\"The following columns have missing values (NA), which have been removed: 'Neg Pred Value'.\n",
      "\"\n",
      "Warning message in .fun(piece, ...):\n",
      "\"The following columns have missing values (NA), which have been removed: 'Neg Pred Value'.\n",
      "\"\n",
      "Warning message in .fun(piece, ...):\n",
      "\"The following columns have missing values (NA), which have been removed: 'Neg Pred Value'.\n",
      "\"\n",
      "Warning message in .fun(piece, ...):\n",
      "\"The following columns have missing values (NA), which have been removed: 'Neg Pred Value'.\n",
      "\"\n",
      "Warning message in .fun(piece, ...):\n",
      "\"The following columns have missing values (NA), which have been removed: 'Neg Pred Value'.\n",
      "\"\n",
      "Warning message in .fun(piece, ...):\n",
      "\"The following columns have missing values (NA), which have been removed: 'Neg Pred Value'.\n",
      "\"\n",
      "Warning message in .fun(piece, ...):\n",
      "\"The following columns have missing values (NA), which have been removed: 'Neg Pred Value'.\n",
      "\"\n",
      "Warning message in .fun(piece, ...):\n",
      "\"The following columns have missing values (NA), which have been removed: 'Neg Pred Value'.\n",
      "\"\n",
      "Warning message in .fun(piece, ...):\n",
      "\"The following columns have missing values (NA), which have been removed: 'Neg Pred Value'.\n",
      "\"\n",
      "Warning message in .fun(piece, ...):\n",
      "\"The following columns have missing values (NA), which have been removed: 'Neg Pred Value'.\n",
      "\"\n",
      "Warning message in .fun(piece, ...):\n",
      "\"The following columns have missing values (NA), which have been removed: 'Neg Pred Value'.\n",
      "\"\n",
      "Warning message in .fun(piece, ...):\n",
      "\"The following columns have missing values (NA), which have been removed: 'Neg Pred Value'.\n",
      "\"\n",
      "Warning message in .fun(piece, ...):\n",
      "\"The following columns have missing values (NA), which have been removed: 'Neg Pred Value'.\n",
      "\"\n",
      "Warning message in .fun(piece, ...):\n",
      "\"The following columns have missing values (NA), which have been removed: 'Neg Pred Value'.\n",
      "\"\n",
      "Warning message in .fun(piece, ...):\n",
      "\"The following columns have missing values (NA), which have been removed: 'Neg Pred Value'.\n",
      "\"\n",
      "Warning message in .fun(piece, ...):\n",
      "\"The following columns have missing values (NA), which have been removed: 'Neg Pred Value'.\n",
      "\"\n",
      "Warning message in .fun(piece, ...):\n",
      "\"The following columns have missing values (NA), which have been removed: 'Neg Pred Value'.\n",
      "\"\n",
      "Warning message in .fun(piece, ...):\n",
      "\"The following columns have missing values (NA), which have been removed: 'Neg Pred Value'.\n",
      "\"\n",
      "Warning message in .fun(piece, ...):\n",
      "\"The following columns have missing values (NA), which have been removed: 'Neg Pred Value'.\n",
      "\"\n",
      "Warning message in .fun(piece, ...):\n",
      "\"The following columns have missing values (NA), which have been removed: 'Neg Pred Value'.\n",
      "\"\n",
      "Warning message in .fun(piece, ...):\n",
      "\"The following columns have missing values (NA), which have been removed: 'Neg Pred Value'.\n",
      "\"\n",
      "Warning message in .fun(piece, ...):\n",
      "\"The following columns have missing values (NA), which have been removed: 'Neg Pred Value'.\n",
      "\"\n",
      "Warning message in .fun(piece, ...):\n",
      "\"The following columns have missing values (NA), which have been removed: 'Neg Pred Value'.\n",
      "\"\n",
      "Warning message in .fun(piece, ...):\n",
      "\"The following columns have missing values (NA), which have been removed: 'Neg Pred Value'.\n",
      "\"\n"
     ]
    },
    {
     "name": "stdout",
     "output_type": "stream",
     "text": [
      "[1] 0.9\n",
      "Confusion Matrix and Statistics\n",
      "\n",
      "          Reference\n",
      "Prediction  no yes\n",
      "       no  259  12\n",
      "       yes  84  16\n",
      "                                          \n",
      "               Accuracy : 0.7412          \n",
      "                 95% CI : (0.6935, 0.7851)\n",
      "    No Information Rate : 0.9245          \n",
      "    P-Value [Acc > NIR] : 1               \n",
      "                                          \n",
      "                  Kappa : 0.1497          \n",
      "                                          \n",
      " Mcnemar's Test P-Value : 4.28e-13        \n",
      "                                          \n",
      "            Sensitivity : 0.7551          \n",
      "            Specificity : 0.5714          \n",
      "         Pos Pred Value : 0.9557          \n",
      "         Neg Pred Value : 0.1600          \n",
      "              Precision : 0.9557          \n",
      "                 Recall : 0.7551          \n",
      "                     F1 : 0.8436          \n",
      "             Prevalence : 0.9245          \n",
      "         Detection Rate : 0.6981          \n",
      "   Detection Prevalence : 0.7305          \n",
      "      Balanced Accuracy : 0.6633          \n",
      "                                          \n",
      "       'Positive' Class : no              \n",
      "                                          \n"
     ]
    },
    {
     "data": {
      "image/png": "[encoded data removed]",
      "text/plain": [
       "plot without title"
      ]
     },
     "metadata": {
      "image/png": {
       "height": 420,
       "width": 420
      }
     },
     "output_type": "display_data"
    }
   ],
   "source": [
    "set.seed(2)\n",
    "model <- fit_model_thresholder(\n",
    "    model_method=\"rf\",\n",
    "    model_metric=\"Kappa\",\n",
    "    trControl_func = trainControl(method = \"cv\", search=\"grid\",  classProbs=TRUE, savePredictions=TRUE),\n",
    "    train_data = no_interst_barrier_train,\n",
    "    test_data=no_interst_barrier_test,\n",
    "    yname=\"PA_barrier_no_interest\",\n",
    "    length = 15,\n",
    "    best_th = f2\n",
    ")\n",
    "print(model$matrix)\n"
   ]
  },
  {
   "cell_type": "markdown",
   "metadata": {},
   "source": [
    "### Output Barrier: PA takes too much time from family responabilities"
   ]
  },
  {
   "cell_type": "code",
   "execution_count": 121,
   "metadata": {},
   "outputs": [
    {
     "data": {
      "text/html": [
       "<table class=\"dataframe\">\n",
       "<caption>A data.frame: 6 × 74</caption>\n",
       "<thead>\n",
       "\t<tr><th></th><th scope=col>sex</th><th scope=col>age_range</th><th scope=col>martialStatus</th><th scope=col>co.resident_range</th><th scope=col>rooms_range</th><th scope=col>income_range</th><th scope=col>scholarity</th><th scope=col>diabetes</th><th scope=col>hypertension</th><th scope=col>dyslipidemia</th><th scope=col>...</th><th scope=col>PA_barriers_before_time_family_responsabilities</th><th scope=col>PA_barriers_before_tiredness</th><th scope=col>PA_barriers_before_location_distance</th><th scope=col>PA_barriers_before_money</th><th scope=col>PA_barriers_before_time_convenience</th><th scope=col>PA_barriers_before_hard_task</th><th scope=col>PA_barriers_before_interest</th><th scope=col>PA_barriers_before_none</th><th scope=col>PA_barrier_family_responsabilities</th><th scope=col>pa_number_before</th></tr>\n",
       "\t<tr><th></th><th scope=col>&lt;fct&gt;</th><th scope=col>&lt;int&gt;</th><th scope=col>&lt;fct&gt;</th><th scope=col>&lt;int&gt;</th><th scope=col>&lt;int&gt;</th><th scope=col>&lt;int&gt;</th><th scope=col>&lt;int&gt;</th><th scope=col>&lt;fct&gt;</th><th scope=col>&lt;fct&gt;</th><th scope=col>&lt;fct&gt;</th><th scope=col>...</th><th scope=col>&lt;fct&gt;</th><th scope=col>&lt;fct&gt;</th><th scope=col>&lt;fct&gt;</th><th scope=col>&lt;fct&gt;</th><th scope=col>&lt;fct&gt;</th><th scope=col>&lt;fct&gt;</th><th scope=col>&lt;fct&gt;</th><th scope=col>&lt;fct&gt;</th><th scope=col>&lt;fct&gt;</th><th scope=col>&lt;int&gt;</th></tr>\n",
       "</thead>\n",
       "<tbody>\n",
       "\t<tr><th scope=row>1</th><td>1</td><td>2</td><td>1</td><td>1</td><td>1</td><td>4</td><td>4</td><td>0</td><td>1</td><td>0</td><td>...</td><td>0</td><td>0</td><td>0</td><td>0</td><td>1</td><td>0</td><td>0</td><td>0</td><td>0</td><td>1</td></tr>\n",
       "\t<tr><th scope=row>2</th><td>2</td><td>3</td><td>1</td><td>2</td><td>3</td><td>6</td><td>4</td><td>0</td><td>0</td><td>0</td><td>...</td><td>0</td><td>1</td><td>0</td><td>0</td><td>0</td><td>0</td><td>0</td><td>0</td><td>0</td><td>4</td></tr>\n",
       "\t<tr><th scope=row>3</th><td>1</td><td>3</td><td>1</td><td>2</td><td>2</td><td>5</td><td>3</td><td>0</td><td>0</td><td>0</td><td>...</td><td>0</td><td>0</td><td>0</td><td>1</td><td>0</td><td>0</td><td>0</td><td>0</td><td>0</td><td>2</td></tr>\n",
       "\t<tr><th scope=row>4</th><td>1</td><td>3</td><td>1</td><td>1</td><td>1</td><td>3</td><td>4</td><td>0</td><td>0</td><td>0</td><td>...</td><td>0</td><td>0</td><td>0</td><td>0</td><td>1</td><td>0</td><td>0</td><td>0</td><td>0</td><td>2</td></tr>\n",
       "\t<tr><th scope=row>5</th><td>1</td><td>2</td><td>2</td><td>2</td><td>2</td><td>6</td><td>4</td><td>0</td><td>0</td><td>0</td><td>...</td><td>1</td><td>0</td><td>0</td><td>0</td><td>0</td><td>0</td><td>0</td><td>0</td><td>0</td><td>2</td></tr>\n",
       "\t<tr><th scope=row>6</th><td>2</td><td>3</td><td>2</td><td>2</td><td>2</td><td>6</td><td>6</td><td>0</td><td>0</td><td>0</td><td>...</td><td>1</td><td>0</td><td>0</td><td>0</td><td>0</td><td>0</td><td>0</td><td>0</td><td>1</td><td>3</td></tr>\n",
       "</tbody>\n",
       "</table>\n"
      ],
      "text/latex": [
       "A data.frame: 6 × 74\n",
       "\\begin{tabular}{r|lllllllllllllllllllll}\n",
       "  & sex & age\\_range & martialStatus & co.resident\\_range & rooms\\_range & income\\_range & scholarity & diabetes & hypertension & dyslipidemia & ... & PA\\_barriers\\_before\\_time\\_family\\_responsabilities & PA\\_barriers\\_before\\_tiredness & PA\\_barriers\\_before\\_location\\_distance & PA\\_barriers\\_before\\_money & PA\\_barriers\\_before\\_time\\_convenience & PA\\_barriers\\_before\\_hard\\_task & PA\\_barriers\\_before\\_interest & PA\\_barriers\\_before\\_none & PA\\_barrier\\_family\\_responsabilities & pa\\_number\\_before\\\\\n",
       "  & <fct> & <int> & <fct> & <int> & <int> & <int> & <int> & <fct> & <fct> & <fct> & ... & <fct> & <fct> & <fct> & <fct> & <fct> & <fct> & <fct> & <fct> & <fct> & <int>\\\\\n",
       "\\hline\n",
       "\t1 & 1 & 2 & 1 & 1 & 1 & 4 & 4 & 0 & 1 & 0 & ... & 0 & 0 & 0 & 0 & 1 & 0 & 0 & 0 & 0 & 1\\\\\n",
       "\t2 & 2 & 3 & 1 & 2 & 3 & 6 & 4 & 0 & 0 & 0 & ... & 0 & 1 & 0 & 0 & 0 & 0 & 0 & 0 & 0 & 4\\\\\n",
       "\t3 & 1 & 3 & 1 & 2 & 2 & 5 & 3 & 0 & 0 & 0 & ... & 0 & 0 & 0 & 1 & 0 & 0 & 0 & 0 & 0 & 2\\\\\n",
       "\t4 & 1 & 3 & 1 & 1 & 1 & 3 & 4 & 0 & 0 & 0 & ... & 0 & 0 & 0 & 0 & 1 & 0 & 0 & 0 & 0 & 2\\\\\n",
       "\t5 & 1 & 2 & 2 & 2 & 2 & 6 & 4 & 0 & 0 & 0 & ... & 1 & 0 & 0 & 0 & 0 & 0 & 0 & 0 & 0 & 2\\\\\n",
       "\t6 & 2 & 3 & 2 & 2 & 2 & 6 & 6 & 0 & 0 & 0 & ... & 1 & 0 & 0 & 0 & 0 & 0 & 0 & 0 & 1 & 3\\\\\n",
       "\\end{tabular}\n"
      ],
      "text/markdown": [
       "\n",
       "A data.frame: 6 × 74\n",
       "\n",
       "| <!--/--> | sex &lt;fct&gt; | age_range &lt;int&gt; | martialStatus &lt;fct&gt; | co.resident_range &lt;int&gt; | rooms_range &lt;int&gt; | income_range &lt;int&gt; | scholarity &lt;int&gt; | diabetes &lt;fct&gt; | hypertension &lt;fct&gt; | dyslipidemia &lt;fct&gt; | ... ... | PA_barriers_before_time_family_responsabilities &lt;fct&gt; | PA_barriers_before_tiredness &lt;fct&gt; | PA_barriers_before_location_distance &lt;fct&gt; | PA_barriers_before_money &lt;fct&gt; | PA_barriers_before_time_convenience &lt;fct&gt; | PA_barriers_before_hard_task &lt;fct&gt; | PA_barriers_before_interest &lt;fct&gt; | PA_barriers_before_none &lt;fct&gt; | PA_barrier_family_responsabilities &lt;fct&gt; | pa_number_before &lt;int&gt; |\n",
       "|---|---|---|---|---|---|---|---|---|---|---|---|---|---|---|---|---|---|---|---|---|---|\n",
       "| 1 | 1 | 2 | 1 | 1 | 1 | 4 | 4 | 0 | 1 | 0 | ... | 0 | 0 | 0 | 0 | 1 | 0 | 0 | 0 | 0 | 1 |\n",
       "| 2 | 2 | 3 | 1 | 2 | 3 | 6 | 4 | 0 | 0 | 0 | ... | 0 | 1 | 0 | 0 | 0 | 0 | 0 | 0 | 0 | 4 |\n",
       "| 3 | 1 | 3 | 1 | 2 | 2 | 5 | 3 | 0 | 0 | 0 | ... | 0 | 0 | 0 | 1 | 0 | 0 | 0 | 0 | 0 | 2 |\n",
       "| 4 | 1 | 3 | 1 | 1 | 1 | 3 | 4 | 0 | 0 | 0 | ... | 0 | 0 | 0 | 0 | 1 | 0 | 0 | 0 | 0 | 2 |\n",
       "| 5 | 1 | 2 | 2 | 2 | 2 | 6 | 4 | 0 | 0 | 0 | ... | 1 | 0 | 0 | 0 | 0 | 0 | 0 | 0 | 0 | 2 |\n",
       "| 6 | 2 | 3 | 2 | 2 | 2 | 6 | 6 | 0 | 0 | 0 | ... | 1 | 0 | 0 | 0 | 0 | 0 | 0 | 0 | 1 | 3 |\n",
       "\n"
      ],
      "text/plain": [
       "  sex age_range martialStatus co.resident_range rooms_range income_range\n",
       "1 1   2         1             1                 1           4           \n",
       "2 2   3         1             2                 3           6           \n",
       "3 1   3         1             2                 2           5           \n",
       "4 1   3         1             1                 1           3           \n",
       "5 1   2         2             2                 2           6           \n",
       "6 2   3         2             2                 2           6           \n",
       "  scholarity diabetes hypertension dyslipidemia ...\n",
       "1 4          0        1            0            ...\n",
       "2 4          0        0            0            ...\n",
       "3 3          0        0            0            ...\n",
       "4 4          0        0            0            ...\n",
       "5 4          0        0            0            ...\n",
       "6 6          0        0            0            ...\n",
       "  PA_barriers_before_time_family_responsabilities PA_barriers_before_tiredness\n",
       "1 0                                               0                           \n",
       "2 0                                               1                           \n",
       "3 0                                               0                           \n",
       "4 0                                               0                           \n",
       "5 1                                               0                           \n",
       "6 1                                               0                           \n",
       "  PA_barriers_before_location_distance PA_barriers_before_money\n",
       "1 0                                    0                       \n",
       "2 0                                    0                       \n",
       "3 0                                    1                       \n",
       "4 0                                    0                       \n",
       "5 0                                    0                       \n",
       "6 0                                    0                       \n",
       "  PA_barriers_before_time_convenience PA_barriers_before_hard_task\n",
       "1 1                                   0                           \n",
       "2 0                                   0                           \n",
       "3 0                                   0                           \n",
       "4 1                                   0                           \n",
       "5 0                                   0                           \n",
       "6 0                                   0                           \n",
       "  PA_barriers_before_interest PA_barriers_before_none\n",
       "1 0                           0                      \n",
       "2 0                           0                      \n",
       "3 0                           0                      \n",
       "4 0                           0                      \n",
       "5 0                           0                      \n",
       "6 0                           0                      \n",
       "  PA_barrier_family_responsabilities pa_number_before\n",
       "1 0                                  1               \n",
       "2 0                                  4               \n",
       "3 0                                  2               \n",
       "4 0                                  2               \n",
       "5 0                                  2               \n",
       "6 1                                  3               "
      ]
     },
     "metadata": {},
     "output_type": "display_data"
    },
    {
     "data": {
      "text/html": [
       "<style>\n",
       ".dl-inline {width: auto; margin:0; padding: 0}\n",
       ".dl-inline>dt, .dl-inline>dd {float: none; width: auto; display: inline-block}\n",
       ".dl-inline>dt::after {content: \":\\0020\"; padding-right: .5ex}\n",
       ".dl-inline>dt:not(:first-of-type) {padding-left: .5ex}\n",
       "</style><dl class=dl-inline><dt>0</dt><dd>1084</dd><dt>1</dt><dd>158</dd></dl>\n"
      ],
      "text/latex": [
       "\\begin{description*}\n",
       "\\item[0] 1084\n",
       "\\item[1] 158\n",
       "\\end{description*}\n"
      ],
      "text/markdown": [
       "0\n",
       ":   10841\n",
       ":   158\n",
       "\n"
      ],
      "text/plain": [
       "   0    1 \n",
       "1084  158 "
      ]
     },
     "metadata": {},
     "output_type": "display_data"
    }
   ],
   "source": [
    "head(family_responsabilities_barrier_dataset)\n",
    "summary(family_responsabilities_barrier_dataset[, \"PA_barrier_family_responsabilities\"])"
   ]
  },
  {
   "cell_type": "markdown",
   "metadata": {},
   "source": [
    "####  Outliers"
   ]
  },
  {
   "cell_type": "markdown",
   "metadata": {},
   "source": [
    "- Outlier: Strange Dont Practice"
   ]
  },
  {
   "cell_type": "code",
   "execution_count": null,
   "metadata": {},
   "outputs": [],
   "source": [
    "family_responsabilities_barrier_dataset_copy <-family_responsabilities_barrier_dataset\n",
    "family_responsabilities_barrier_dataset_copy[\"outlier\"] <- strange_dp\n",
    "outliers_result_sdp <- outliers_checker(distances_sdp,family_responsabilities_barrier_dataset_copy, \"PA_barrier_family_responsabilities\")"
   ]
  },
  {
   "cell_type": "code",
   "execution_count": 19,
   "metadata": {},
   "outputs": [
    {
     "data": {
      "image/png": "[encoded data removed]",
      "text/plain": [
       "plot without title"
      ]
     },
     "metadata": {
      "image/png": {
       "height": 420,
       "width": 420
      }
     },
     "output_type": "display_data"
    }
   ],
   "source": [
    "plot <- outliers_result_sdp$kappa_x_alpha\n",
    "ggplot(plot, aes(plot[, \"alpha\"], plot[, \"kappa\"] )) + geom_point()"
   ]
  },
  {
   "cell_type": "markdown",
   "metadata": {},
   "source": [
    "- Outlier: Strange Practice"
   ]
  },
  {
   "cell_type": "code",
   "execution_count": null,
   "metadata": {},
   "outputs": [],
   "source": [
    "family_responsabilities_barrier_dataset_copy <-family_responsabilities_barrier_dataset\n",
    "family_responsabilities_barrier_dataset_copy[\"outlier\"] <- strange_p\n",
    "outliers_result_sp <- outliers_checker(distances_sp,family_responsabilities_barrier_dataset_copy, \"PA_barrier_family_responsabilities\")"
   ]
  },
  {
   "cell_type": "code",
   "execution_count": 21,
   "metadata": {},
   "outputs": [
    {
     "data": {
      "image/png": "[encoded data removed]",
      "text/plain": [
       "plot without title"
      ]
     },
     "metadata": {
      "image/png": {
       "height": 420,
       "width": 420
      }
     },
     "output_type": "display_data"
    }
   ],
   "source": [
    "plot <- outliers_result_sp$kappa_x_alpha\n",
    "ggplot(plot, aes(plot[, \"alpha\"], plot[, \"kappa\"] )) + geom_point()"
   ]
  },
  {
   "cell_type": "markdown",
   "metadata": {},
   "source": [
    "- New Train and Test:\n",
    "The outliers check in the strange dont need to delete records"
   ]
  },
  {
   "cell_type": "code",
   "execution_count": 22,
   "metadata": {},
   "outputs": [],
   "source": [
    "family_responsabilities_barrier_train <- outliers_result_sdp$best_model$train\n",
    "family_responsabilities_barrier_test <- outliers_result_sdp$best_model$test"
   ]
  },
  {
   "cell_type": "markdown",
   "metadata": {},
   "source": [
    "#### RF: Kappa with 50% of probability threshold"
   ]
  },
  {
   "cell_type": "code",
   "execution_count": 23,
   "metadata": {},
   "outputs": [
    {
     "name": "stderr",
     "output_type": "stream",
     "text": [
      "Setting levels: control = 1, case = 2\n",
      "\n",
      "Setting direction: controls < cases\n",
      "\n"
     ]
    },
    {
     "name": "stdout",
     "output_type": "stream",
     "text": [
      "Confusion Matrix and Statistics\n",
      "\n",
      "          Reference\n",
      "Prediction  no yes\n",
      "       no  316  26\n",
      "       yes   9  21\n",
      "                                          \n",
      "               Accuracy : 0.9059          \n",
      "                 95% CI : (0.8716, 0.9336)\n",
      "    No Information Rate : 0.8737          \n",
      "    P-Value [Acc > NIR] : 0.032565        \n",
      "                                          \n",
      "                  Kappa : 0.4958          \n",
      "                                          \n",
      " Mcnemar's Test P-Value : 0.006841        \n",
      "                                          \n",
      "            Sensitivity : 0.9723          \n",
      "            Specificity : 0.4468          \n",
      "         Pos Pred Value : 0.9240          \n",
      "         Neg Pred Value : 0.7000          \n",
      "              Precision : 0.9240          \n",
      "                 Recall : 0.9723          \n",
      "                     F1 : 0.9475          \n",
      "             Prevalence : 0.8737          \n",
      "         Detection Rate : 0.8495          \n",
      "   Detection Prevalence : 0.9194          \n",
      "      Balanced Accuracy : 0.7096          \n",
      "                                          \n",
      "       'Positive' Class : no              \n",
      "                                          \n"
     ]
    }
   ],
   "source": [
    "set.seed(2)\n",
    "model <- fit_model(\n",
    "    model_method=\"rf\",\n",
    "    model_metric=\"Kappa\",\n",
    "    trControl_func = trainControl(method = \"cv\", search=\"grid\"),\n",
    "    train_data = family_responsabilities_barrier_train,\n",
    "    test_data=family_responsabilities_barrier_test,\n",
    "    yname=\"PA_barrier_family_responsabilities\",\n",
    "    length = 15\n",
    ")\n",
    "print(model$matrix)\n"
   ]
  },
  {
   "cell_type": "code",
   "execution_count": 24,
   "metadata": {},
   "outputs": [
    {
     "data": {
      "image/png": "[encoded data removed]",
      "text/plain": [
       "plot without title"
      ]
     },
     "metadata": {
      "image/png": {
       "height": 420,
       "width": 420
      }
     },
     "output_type": "display_data"
    },
    {
     "data": {
      "image/png": "[encoded data removed]",
      "text/plain": [
       "plot without title"
      ]
     },
     "metadata": {
      "image/png": {
       "height": 420,
       "width": 420
      }
     },
     "output_type": "display_data"
    }
   ],
   "source": [
    "plot(varImp(model$result), top=20)\n",
    "plot(model$result)"
   ]
  },
  {
   "cell_type": "markdown",
   "metadata": {},
   "source": [
    "#### RF: Kappa with antoher probability threshold"
   ]
  },
  {
   "cell_type": "code",
   "execution_count": 25,
   "metadata": {},
   "outputs": [
    {
     "name": "stderr",
     "output_type": "stream",
     "text": [
      "Warning message in .fun(piece, ...):\n",
      "\"The following columns have missing values (NA), which have been removed: 'Neg Pred Value'.\n",
      "\"\n",
      "Warning message in .fun(piece, ...):\n",
      "\"The following columns have missing values (NA), which have been removed: 'Neg Pred Value'.\n",
      "\"\n",
      "Warning message in .fun(piece, ...):\n",
      "\"The following columns have missing values (NA), which have been removed: 'Neg Pred Value'.\n",
      "\"\n",
      "Warning message in .fun(piece, ...):\n",
      "\"The following columns have missing values (NA), which have been removed: 'Neg Pred Value'.\n",
      "\"\n",
      "Warning message in .fun(piece, ...):\n",
      "\"The following columns have missing values (NA), which have been removed: 'Neg Pred Value'.\n",
      "\"\n",
      "Warning message in .fun(piece, ...):\n",
      "\"The following columns have missing values (NA), which have been removed: 'Neg Pred Value'.\n",
      "\"\n",
      "Warning message in .fun(piece, ...):\n",
      "\"The following columns have missing values (NA), which have been removed: 'Neg Pred Value'.\n",
      "\"\n"
     ]
    },
    {
     "name": "stdout",
     "output_type": "stream",
     "text": [
      "[1] 0.86\n",
      "Confusion Matrix and Statistics\n",
      "\n",
      "          Reference\n",
      "Prediction  no yes\n",
      "       no  232  14\n",
      "       yes  93  33\n",
      "                                          \n",
      "               Accuracy : 0.7124          \n",
      "                 95% CI : (0.6635, 0.7579)\n",
      "    No Information Rate : 0.8737          \n",
      "    P-Value [Acc > NIR] : 1               \n",
      "                                          \n",
      "                  Kappa : 0.242           \n",
      "                                          \n",
      " Mcnemar's Test P-Value : 4.68e-14        \n",
      "                                          \n",
      "            Sensitivity : 0.7138          \n",
      "            Specificity : 0.7021          \n",
      "         Pos Pred Value : 0.9431          \n",
      "         Neg Pred Value : 0.2619          \n",
      "              Precision : 0.9431          \n",
      "                 Recall : 0.7138          \n",
      "                     F1 : 0.8126          \n",
      "             Prevalence : 0.8737          \n",
      "         Detection Rate : 0.6237          \n",
      "   Detection Prevalence : 0.6613          \n",
      "      Balanced Accuracy : 0.7080          \n",
      "                                          \n",
      "       'Positive' Class : no              \n",
      "                                          \n"
     ]
    },
    {
     "data": {
      "image/png": "[encoded data removed]",
      "text/plain": [
       "plot without title"
      ]
     },
     "metadata": {
      "image/png": {
       "height": 420,
       "width": 420
      }
     },
     "output_type": "display_data"
    }
   ],
   "source": [
    "set.seed(2)\n",
    "model <- fit_model_thresholder(\n",
    "    model_method=\"rf\",\n",
    "    model_metric=\"Kappa\",\n",
    "    trControl_func = trainControl(method = \"cv\", search=\"grid\",  classProbs=TRUE, savePredictions=TRUE),\n",
    "    train_data = family_responsabilities_barrier_train,\n",
    "    test_data=family_responsabilities_barrier_test,\n",
    "    yname=\"PA_barrier_family_responsabilities\",\n",
    "    length = 15,\n",
    "    best_th = f2\n",
    ")\n",
    "print(model$matrix)\n"
   ]
  },
  {
   "cell_type": "markdown",
   "metadata": {},
   "source": [
    "### Output Barrier: I percieve barriers"
   ]
  },
  {
   "cell_type": "code",
   "execution_count": 149,
   "metadata": {},
   "outputs": [
    {
     "data": {
      "text/html": [
       "<table class=\"dataframe\">\n",
       "<caption>A data.frame: 6 × 74</caption>\n",
       "<thead>\n",
       "\t<tr><th></th><th scope=col>sex</th><th scope=col>age_range</th><th scope=col>martialStatus</th><th scope=col>co.resident_range</th><th scope=col>rooms_range</th><th scope=col>income_range</th><th scope=col>scholarity</th><th scope=col>diabetes</th><th scope=col>hypertension</th><th scope=col>dyslipidemia</th><th scope=col>...</th><th scope=col>PA_barriers_before_time_family_responsabilities</th><th scope=col>PA_barriers_before_tiredness</th><th scope=col>PA_barriers_before_location_distance</th><th scope=col>PA_barriers_before_money</th><th scope=col>PA_barriers_before_time_convenience</th><th scope=col>PA_barriers_before_hard_task</th><th scope=col>PA_barriers_before_interest</th><th scope=col>PA_barriers_before_none</th><th scope=col>PA_dont_perceive_barriers</th><th scope=col>pa_number_before</th></tr>\n",
       "\t<tr><th></th><th scope=col>&lt;fct&gt;</th><th scope=col>&lt;int&gt;</th><th scope=col>&lt;fct&gt;</th><th scope=col>&lt;int&gt;</th><th scope=col>&lt;int&gt;</th><th scope=col>&lt;int&gt;</th><th scope=col>&lt;int&gt;</th><th scope=col>&lt;fct&gt;</th><th scope=col>&lt;fct&gt;</th><th scope=col>&lt;fct&gt;</th><th scope=col>...</th><th scope=col>&lt;fct&gt;</th><th scope=col>&lt;fct&gt;</th><th scope=col>&lt;fct&gt;</th><th scope=col>&lt;fct&gt;</th><th scope=col>&lt;fct&gt;</th><th scope=col>&lt;fct&gt;</th><th scope=col>&lt;fct&gt;</th><th scope=col>&lt;fct&gt;</th><th scope=col>&lt;fct&gt;</th><th scope=col>&lt;int&gt;</th></tr>\n",
       "</thead>\n",
       "<tbody>\n",
       "\t<tr><th scope=row>1</th><td>1</td><td>2</td><td>1</td><td>1</td><td>1</td><td>4</td><td>4</td><td>0</td><td>1</td><td>0</td><td>...</td><td>0</td><td>0</td><td>0</td><td>0</td><td>1</td><td>0</td><td>0</td><td>0</td><td>no</td><td>1</td></tr>\n",
       "\t<tr><th scope=row>2</th><td>2</td><td>3</td><td>1</td><td>2</td><td>3</td><td>6</td><td>4</td><td>0</td><td>0</td><td>0</td><td>...</td><td>0</td><td>1</td><td>0</td><td>0</td><td>0</td><td>0</td><td>0</td><td>0</td><td>no</td><td>4</td></tr>\n",
       "\t<tr><th scope=row>3</th><td>1</td><td>3</td><td>1</td><td>2</td><td>2</td><td>5</td><td>3</td><td>0</td><td>0</td><td>0</td><td>...</td><td>0</td><td>0</td><td>0</td><td>1</td><td>0</td><td>0</td><td>0</td><td>0</td><td>no</td><td>2</td></tr>\n",
       "\t<tr><th scope=row>4</th><td>1</td><td>3</td><td>1</td><td>1</td><td>1</td><td>3</td><td>4</td><td>0</td><td>0</td><td>0</td><td>...</td><td>0</td><td>0</td><td>0</td><td>0</td><td>1</td><td>0</td><td>0</td><td>0</td><td>no</td><td>2</td></tr>\n",
       "\t<tr><th scope=row>5</th><td>1</td><td>2</td><td>2</td><td>2</td><td>2</td><td>6</td><td>4</td><td>0</td><td>0</td><td>0</td><td>...</td><td>1</td><td>0</td><td>0</td><td>0</td><td>0</td><td>0</td><td>0</td><td>0</td><td>no</td><td>2</td></tr>\n",
       "\t<tr><th scope=row>6</th><td>2</td><td>3</td><td>2</td><td>2</td><td>2</td><td>6</td><td>6</td><td>0</td><td>0</td><td>0</td><td>...</td><td>1</td><td>0</td><td>0</td><td>0</td><td>0</td><td>0</td><td>0</td><td>0</td><td>no</td><td>3</td></tr>\n",
       "</tbody>\n",
       "</table>\n"
      ],
      "text/latex": [
       "A data.frame: 6 × 74\n",
       "\\begin{tabular}{r|lllllllllllllllllllll}\n",
       "  & sex & age\\_range & martialStatus & co.resident\\_range & rooms\\_range & income\\_range & scholarity & diabetes & hypertension & dyslipidemia & ... & PA\\_barriers\\_before\\_time\\_family\\_responsabilities & PA\\_barriers\\_before\\_tiredness & PA\\_barriers\\_before\\_location\\_distance & PA\\_barriers\\_before\\_money & PA\\_barriers\\_before\\_time\\_convenience & PA\\_barriers\\_before\\_hard\\_task & PA\\_barriers\\_before\\_interest & PA\\_barriers\\_before\\_none & PA\\_dont\\_perceive\\_barriers & pa\\_number\\_before\\\\\n",
       "  & <fct> & <int> & <fct> & <int> & <int> & <int> & <int> & <fct> & <fct> & <fct> & ... & <fct> & <fct> & <fct> & <fct> & <fct> & <fct> & <fct> & <fct> & <fct> & <int>\\\\\n",
       "\\hline\n",
       "\t1 & 1 & 2 & 1 & 1 & 1 & 4 & 4 & 0 & 1 & 0 & ... & 0 & 0 & 0 & 0 & 1 & 0 & 0 & 0 & no & 1\\\\\n",
       "\t2 & 2 & 3 & 1 & 2 & 3 & 6 & 4 & 0 & 0 & 0 & ... & 0 & 1 & 0 & 0 & 0 & 0 & 0 & 0 & no & 4\\\\\n",
       "\t3 & 1 & 3 & 1 & 2 & 2 & 5 & 3 & 0 & 0 & 0 & ... & 0 & 0 & 0 & 1 & 0 & 0 & 0 & 0 & no & 2\\\\\n",
       "\t4 & 1 & 3 & 1 & 1 & 1 & 3 & 4 & 0 & 0 & 0 & ... & 0 & 0 & 0 & 0 & 1 & 0 & 0 & 0 & no & 2\\\\\n",
       "\t5 & 1 & 2 & 2 & 2 & 2 & 6 & 4 & 0 & 0 & 0 & ... & 1 & 0 & 0 & 0 & 0 & 0 & 0 & 0 & no & 2\\\\\n",
       "\t6 & 2 & 3 & 2 & 2 & 2 & 6 & 6 & 0 & 0 & 0 & ... & 1 & 0 & 0 & 0 & 0 & 0 & 0 & 0 & no & 3\\\\\n",
       "\\end{tabular}\n"
      ],
      "text/markdown": [
       "\n",
       "A data.frame: 6 × 74\n",
       "\n",
       "| <!--/--> | sex &lt;fct&gt; | age_range &lt;int&gt; | martialStatus &lt;fct&gt; | co.resident_range &lt;int&gt; | rooms_range &lt;int&gt; | income_range &lt;int&gt; | scholarity &lt;int&gt; | diabetes &lt;fct&gt; | hypertension &lt;fct&gt; | dyslipidemia &lt;fct&gt; | ... ... | PA_barriers_before_time_family_responsabilities &lt;fct&gt; | PA_barriers_before_tiredness &lt;fct&gt; | PA_barriers_before_location_distance &lt;fct&gt; | PA_barriers_before_money &lt;fct&gt; | PA_barriers_before_time_convenience &lt;fct&gt; | PA_barriers_before_hard_task &lt;fct&gt; | PA_barriers_before_interest &lt;fct&gt; | PA_barriers_before_none &lt;fct&gt; | PA_dont_perceive_barriers &lt;fct&gt; | pa_number_before &lt;int&gt; |\n",
       "|---|---|---|---|---|---|---|---|---|---|---|---|---|---|---|---|---|---|---|---|---|---|\n",
       "| 1 | 1 | 2 | 1 | 1 | 1 | 4 | 4 | 0 | 1 | 0 | ... | 0 | 0 | 0 | 0 | 1 | 0 | 0 | 0 | no | 1 |\n",
       "| 2 | 2 | 3 | 1 | 2 | 3 | 6 | 4 | 0 | 0 | 0 | ... | 0 | 1 | 0 | 0 | 0 | 0 | 0 | 0 | no | 4 |\n",
       "| 3 | 1 | 3 | 1 | 2 | 2 | 5 | 3 | 0 | 0 | 0 | ... | 0 | 0 | 0 | 1 | 0 | 0 | 0 | 0 | no | 2 |\n",
       "| 4 | 1 | 3 | 1 | 1 | 1 | 3 | 4 | 0 | 0 | 0 | ... | 0 | 0 | 0 | 0 | 1 | 0 | 0 | 0 | no | 2 |\n",
       "| 5 | 1 | 2 | 2 | 2 | 2 | 6 | 4 | 0 | 0 | 0 | ... | 1 | 0 | 0 | 0 | 0 | 0 | 0 | 0 | no | 2 |\n",
       "| 6 | 2 | 3 | 2 | 2 | 2 | 6 | 6 | 0 | 0 | 0 | ... | 1 | 0 | 0 | 0 | 0 | 0 | 0 | 0 | no | 3 |\n",
       "\n"
      ],
      "text/plain": [
       "  sex age_range martialStatus co.resident_range rooms_range income_range\n",
       "1 1   2         1             1                 1           4           \n",
       "2 2   3         1             2                 3           6           \n",
       "3 1   3         1             2                 2           5           \n",
       "4 1   3         1             1                 1           3           \n",
       "5 1   2         2             2                 2           6           \n",
       "6 2   3         2             2                 2           6           \n",
       "  scholarity diabetes hypertension dyslipidemia ...\n",
       "1 4          0        1            0            ...\n",
       "2 4          0        0            0            ...\n",
       "3 3          0        0            0            ...\n",
       "4 4          0        0            0            ...\n",
       "5 4          0        0            0            ...\n",
       "6 6          0        0            0            ...\n",
       "  PA_barriers_before_time_family_responsabilities PA_barriers_before_tiredness\n",
       "1 0                                               0                           \n",
       "2 0                                               1                           \n",
       "3 0                                               0                           \n",
       "4 0                                               0                           \n",
       "5 1                                               0                           \n",
       "6 1                                               0                           \n",
       "  PA_barriers_before_location_distance PA_barriers_before_money\n",
       "1 0                                    0                       \n",
       "2 0                                    0                       \n",
       "3 0                                    1                       \n",
       "4 0                                    0                       \n",
       "5 0                                    0                       \n",
       "6 0                                    0                       \n",
       "  PA_barriers_before_time_convenience PA_barriers_before_hard_task\n",
       "1 1                                   0                           \n",
       "2 0                                   0                           \n",
       "3 0                                   0                           \n",
       "4 1                                   0                           \n",
       "5 0                                   0                           \n",
       "6 0                                   0                           \n",
       "  PA_barriers_before_interest PA_barriers_before_none PA_dont_perceive_barriers\n",
       "1 0                           0                       no                       \n",
       "2 0                           0                       no                       \n",
       "3 0                           0                       no                       \n",
       "4 0                           0                       no                       \n",
       "5 0                           0                       no                       \n",
       "6 0                           0                       no                       \n",
       "  pa_number_before\n",
       "1 1               \n",
       "2 4               \n",
       "3 2               \n",
       "4 2               \n",
       "5 2               \n",
       "6 3               "
      ]
     },
     "metadata": {},
     "output_type": "display_data"
    },
    {
     "data": {
      "text/html": [
       "<style>\n",
       ".dl-inline {width: auto; margin:0; padding: 0}\n",
       ".dl-inline>dt, .dl-inline>dd {float: none; width: auto; display: inline-block}\n",
       ".dl-inline>dt::after {content: \":\\0020\"; padding-right: .5ex}\n",
       ".dl-inline>dt:not(:first-of-type) {padding-left: .5ex}\n",
       "</style><dl class=dl-inline><dt>no</dt><dd>945</dd><dt>yes</dt><dd>297</dd></dl>\n"
      ],
      "text/latex": [
       "\\begin{description*}\n",
       "\\item[no] 945\n",
       "\\item[yes] 297\n",
       "\\end{description*}\n"
      ],
      "text/markdown": [
       "no\n",
       ":   945yes\n",
       ":   297\n",
       "\n"
      ],
      "text/plain": [
       " no yes \n",
       "945 297 "
      ]
     },
     "metadata": {},
     "output_type": "display_data"
    }
   ],
   "source": [
    "head(percieve_barriers_dataset)\n",
    "summary(percieve_barriers_dataset[, \"PA_perceive_barriers\"])"
   ]
  },
  {
   "cell_type": "markdown",
   "metadata": {},
   "source": [
    "####  Outliers"
   ]
  },
  {
   "cell_type": "markdown",
   "metadata": {},
   "source": [
    "- Outlier: Strange Dont Practice"
   ]
  },
  {
   "cell_type": "code",
   "execution_count": 153,
   "metadata": {},
   "outputs": [
    {
     "name": "stderr",
     "output_type": "stream",
     "text": [
      "Warning message in train_copy[train_copy$outlier, ]$outlier & rejected:\n",
      "\"comprimento do objeto maior não é múltiplo do comprimento do objeto menor\"\n",
      "Setting levels: control = 1, case = 2\n",
      "\n",
      "Setting direction: controls < cases\n",
      "\n",
      "Warning message in train_copy[train_copy$outlier, ]$outlier & rejected:\n",
      "\"comprimento do objeto maior não é múltiplo do comprimento do objeto menor\"\n",
      "Setting levels: control = 1, case = 2\n",
      "\n",
      "Setting direction: controls < cases\n",
      "\n",
      "Warning message in train_copy[train_copy$outlier, ]$outlier & rejected:\n",
      "\"comprimento do objeto maior não é múltiplo do comprimento do objeto menor\"\n",
      "Setting levels: control = 1, case = 2\n",
      "\n",
      "Setting direction: controls < cases\n",
      "\n",
      "Warning message in train_copy[train_copy$outlier, ]$outlier & rejected:\n",
      "\"comprimento do objeto maior não é múltiplo do comprimento do objeto menor\"\n",
      "Setting levels: control = 1, case = 2\n",
      "\n",
      "Setting direction: controls < cases\n",
      "\n",
      "Warning message in train_copy[train_copy$outlier, ]$outlier & rejected:\n",
      "\"comprimento do objeto maior não é múltiplo do comprimento do objeto menor\"\n",
      "Setting levels: control = 1, case = 2\n",
      "\n",
      "Setting direction: controls < cases\n",
      "\n",
      "Warning message in train_copy[train_copy$outlier, ]$outlier & rejected:\n",
      "\"comprimento do objeto maior não é múltiplo do comprimento do objeto menor\"\n",
      "Setting levels: control = 1, case = 2\n",
      "\n",
      "Setting direction: controls < cases\n",
      "\n",
      "Warning message in train_copy[train_copy$outlier, ]$outlier & rejected:\n",
      "\"comprimento do objeto maior não é múltiplo do comprimento do objeto menor\"\n",
      "Setting levels: control = 1, case = 2\n",
      "\n",
      "Setting direction: controls < cases\n",
      "\n",
      "Warning message in train_copy[train_copy$outlier, ]$outlier & rejected:\n",
      "\"comprimento do objeto maior não é múltiplo do comprimento do objeto menor\"\n",
      "Setting levels: control = 1, case = 2\n",
      "\n",
      "Setting direction: controls < cases\n",
      "\n",
      "Warning message in train_copy[train_copy$outlier, ]$outlier & rejected:\n",
      "\"comprimento do objeto maior não é múltiplo do comprimento do objeto menor\"\n",
      "Setting levels: control = 1, case = 2\n",
      "\n",
      "Setting direction: controls < cases\n",
      "\n",
      "Warning message in train_copy[train_copy$outlier, ]$outlier & rejected:\n",
      "\"comprimento do objeto maior não é múltiplo do comprimento do objeto menor\"\n",
      "Setting levels: control = 1, case = 2\n",
      "\n",
      "Setting direction: controls < cases\n",
      "\n",
      "Warning message in train_copy[train_copy$outlier, ]$outlier & rejected:\n",
      "\"comprimento do objeto maior não é múltiplo do comprimento do objeto menor\"\n",
      "Setting levels: control = 1, case = 2\n",
      "\n",
      "Setting direction: controls < cases\n",
      "\n",
      "Warning message in train_copy[train_copy$outlier, ]$outlier & rejected:\n",
      "\"comprimento do objeto maior não é múltiplo do comprimento do objeto menor\"\n",
      "Setting levels: control = 1, case = 2\n",
      "\n",
      "Setting direction: controls < cases\n",
      "\n",
      "Warning message in train_copy[train_copy$outlier, ]$outlier & rejected:\n",
      "\"comprimento do objeto maior não é múltiplo do comprimento do objeto menor\"\n",
      "Setting levels: control = 1, case = 2\n",
      "\n",
      "Setting direction: controls < cases\n",
      "\n",
      "Warning message in train_copy[train_copy$outlier, ]$outlier & rejected:\n",
      "\"comprimento do objeto maior não é múltiplo do comprimento do objeto menor\"\n",
      "Setting levels: control = 1, case = 2\n",
      "\n",
      "Setting direction: controls < cases\n",
      "\n",
      "Warning message in train_copy[train_copy$outlier, ]$outlier & rejected:\n",
      "\"comprimento do objeto maior não é múltiplo do comprimento do objeto menor\"\n",
      "Setting levels: control = 1, case = 2\n",
      "\n",
      "Setting direction: controls < cases\n",
      "\n",
      "Warning message in train_copy[train_copy$outlier, ]$outlier & rejected:\n",
      "\"comprimento do objeto maior não é múltiplo do comprimento do objeto menor\"\n",
      "Setting levels: control = 1, case = 2\n",
      "\n",
      "Setting direction: controls < cases\n",
      "\n"
     ]
    }
   ],
   "source": [
    "percieve_barriers_dataset_copy <-percieve_barriers_dataset\n",
    "percieve_barriers_dataset_copy[\"outlier\"] <- strange_dp\n",
    "outliers_result_sdp <- outliers_checker(distances_sdp,percieve_barriers_dataset_copy, \"PA_perceive_barriers\")"
   ]
  },
  {
   "cell_type": "code",
   "execution_count": 125,
   "metadata": {},
   "outputs": [
    {
     "data": {
      "image/png": "[encoded data removed]",
      "text/plain": [
       "plot without title"
      ]
     },
     "metadata": {
      "image/png": {
       "height": 420,
       "width": 420
      }
     },
     "output_type": "display_data"
    }
   ],
   "source": [
    "plot <- outliers_result_sdp$kappa_x_alpha\n",
    "ggplot(plot, aes(plot[, \"alpha\"], plot[, \"kappa\"] )) + geom_point()"
   ]
  },
  {
   "cell_type": "markdown",
   "metadata": {},
   "source": [
    "- Outlier: Strange Practice"
   ]
  },
  {
   "cell_type": "code",
   "execution_count": 152,
   "metadata": {},
   "outputs": [
    {
     "name": "stderr",
     "output_type": "stream",
     "text": [
      "Setting levels: control = 1, case = 2\n",
      "\n",
      "Setting direction: controls < cases\n",
      "\n",
      "Setting levels: control = 1, case = 2\n",
      "\n",
      "Setting direction: controls < cases\n",
      "\n",
      "Setting levels: control = 1, case = 2\n",
      "\n",
      "Setting direction: controls < cases\n",
      "\n",
      "Setting levels: control = 1, case = 2\n",
      "\n",
      "Setting direction: controls < cases\n",
      "\n",
      "Setting levels: control = 1, case = 2\n",
      "\n",
      "Setting direction: controls < cases\n",
      "\n",
      "Setting levels: control = 1, case = 2\n",
      "\n",
      "Setting direction: controls < cases\n",
      "\n",
      "Setting levels: control = 1, case = 2\n",
      "\n",
      "Setting direction: controls < cases\n",
      "\n"
     ]
    }
   ],
   "source": [
    "percieve_barriers_dataset_copy <-percieve_barriers_dataset\n",
    "percieve_barriers_dataset_copy[\"outlier\"] <- strange_p\n",
    "outliers_result_sp <- outliers_checker(distances_sp,percieve_barriers_dataset_copy, \"PA_perceive_barriers\")"
   ]
  },
  {
   "cell_type": "code",
   "execution_count": 127,
   "metadata": {},
   "outputs": [
    {
     "data": {
      "image/png": "[encoded data removed]",
      "text/plain": [
       "plot without title"
      ]
     },
     "metadata": {
      "image/png": {
       "height": 420,
       "width": 420
      }
     },
     "output_type": "display_data"
    }
   ],
   "source": [
    "plot <- outliers_result_sp$kappa_x_alpha\n",
    "ggplot(plot, aes(plot[, \"alpha\"], plot[, \"kappa\"] )) + geom_point()"
   ]
  },
  {
   "cell_type": "markdown",
   "metadata": {},
   "source": [
    "- New Train and Test:\n",
    "The outliers check in the strange dont need to delete records"
   ]
  },
  {
   "cell_type": "code",
   "execution_count": 154,
   "metadata": {},
   "outputs": [],
   "source": [
    "percieve_barriers_train <- outliers_result_sdp$best_model$train\n",
    "percieve_barriers_test <- outliers_result_sdp$best_model$test"
   ]
  },
  {
   "cell_type": "markdown",
   "metadata": {},
   "source": [
    "#### RF: Kappa with 50% of probability threshold"
   ]
  },
  {
   "cell_type": "code",
   "execution_count": 130,
   "metadata": {},
   "outputs": [
    {
     "name": "stderr",
     "output_type": "stream",
     "text": [
      "Setting levels: control = 1, case = 2\n",
      "\n",
      "Setting direction: controls < cases\n",
      "\n"
     ]
    },
    {
     "name": "stdout",
     "output_type": "stream",
     "text": [
      "Confusion Matrix and Statistics\n",
      "\n",
      "          Reference\n",
      "Prediction   0   1\n",
      "         0 266  65\n",
      "         1  17  24\n",
      "                                         \n",
      "               Accuracy : 0.7796         \n",
      "                 95% CI : (0.734, 0.8207)\n",
      "    No Information Rate : 0.7608         \n",
      "    P-Value [Acc > NIR] : 0.216          \n",
      "                                         \n",
      "                  Kappa : 0.2571         \n",
      "                                         \n",
      " Mcnemar's Test P-Value : 2.1e-07        \n",
      "                                         \n",
      "            Sensitivity : 0.9399         \n",
      "            Specificity : 0.2697         \n",
      "         Pos Pred Value : 0.8036         \n",
      "         Neg Pred Value : 0.5854         \n",
      "              Precision : 0.8036         \n",
      "                 Recall : 0.9399         \n",
      "                     F1 : 0.8664         \n",
      "             Prevalence : 0.7608         \n",
      "         Detection Rate : 0.7151         \n",
      "   Detection Prevalence : 0.8898         \n",
      "      Balanced Accuracy : 0.6048         \n",
      "                                         \n",
      "       'Positive' Class : 0              \n",
      "                                         \n"
     ]
    }
   ],
   "source": [
    "set.seed(2)\n",
    "model <- fit_model(\n",
    "    model_method=\"rf\",\n",
    "    model_metric=\"Kappa\",\n",
    "    trControl_func = trainControl(method = \"cv\", search=\"grid\"),\n",
    "    train_data = percieve_barriers_train,\n",
    "    test_data=percieve_barriers_test,\n",
    "    yname=\"PA_perceive_barriers\",\n",
    "    length = 15\n",
    ")\n",
    "print(model$matrix)\n"
   ]
  },
  {
   "cell_type": "code",
   "execution_count": 131,
   "metadata": {},
   "outputs": [
    {
     "data": {
      "image/png": "[encoded data removed]",
      "text/plain": [
       "plot without title"
      ]
     },
     "metadata": {
      "image/png": {
       "height": 420,
       "width": 420
      }
     },
     "output_type": "display_data"
    },
    {
     "data": {
      "image/png": "[encoded data removed]",
      "text/plain": [
       "plot without title"
      ]
     },
     "metadata": {
      "image/png": {
       "height": 420,
       "width": 420
      }
     },
     "output_type": "display_data"
    }
   ],
   "source": [
    "plot(varImp(model$result), top=20)\n",
    "plot(model$result)"
   ]
  },
  {
   "cell_type": "markdown",
   "metadata": {},
   "source": [
    "#### RF: Kappa with antoher probability threshold"
   ]
  },
  {
   "cell_type": "code",
   "execution_count": 155,
   "metadata": {},
   "outputs": [
    {
     "name": "stderr",
     "output_type": "stream",
     "text": [
      "Warning message in .fun(piece, ...):\n",
      "\"The following columns have missing values (NA), which have been removed: 'Neg Pred Value'.\n",
      "\"\n",
      "Warning message in .fun(piece, ...):\n",
      "\"The following columns have missing values (NA), which have been removed: 'Neg Pred Value'.\n",
      "\"\n",
      "Warning message in .fun(piece, ...):\n",
      "\"The following columns have missing values (NA), which have been removed: 'Neg Pred Value'.\n",
      "\"\n",
      "Warning message in .fun(piece, ...):\n",
      "\"The following columns have missing values (NA), which have been removed: 'Neg Pred Value'.\n",
      "\"\n",
      "Warning message in .fun(piece, ...):\n",
      "\"The following columns have missing values (NA), which have been removed: 'Neg Pred Value'.\n",
      "\"\n",
      "Warning message in .fun(piece, ...):\n",
      "\"The following columns have missing values (NA), which have been removed: 'Neg Pred Value'.\n",
      "\"\n",
      "Warning message in .fun(piece, ...):\n",
      "\"The following columns have missing values (NA), which have been removed: 'Neg Pred Value'.\n",
      "\"\n",
      "Warning message in .fun(piece, ...):\n",
      "\"The following columns have missing values (NA), which have been removed: 'Neg Pred Value'.\n",
      "\"\n",
      "Warning message in .fun(piece, ...):\n",
      "\"The following columns have missing values (NA), which have been removed: 'Neg Pred Value'.\n",
      "\"\n",
      "Warning message in .fun(piece, ...):\n",
      "\"The following columns have missing values (NA), which have been removed: 'Neg Pred Value'.\n",
      "\"\n",
      "Warning message in .fun(piece, ...):\n",
      "\"The following columns have missing values (NA), which have been removed: 'Neg Pred Value'.\n",
      "\"\n",
      "Warning message in .fun(piece, ...):\n",
      "\"The following columns have missing values (NA), which have been removed: 'Neg Pred Value'.\n",
      "\"\n",
      "Warning message in .fun(piece, ...):\n",
      "\"The following columns have missing values (NA), which have been removed: 'Neg Pred Value'.\n",
      "\"\n"
     ]
    },
    {
     "name": "stdout",
     "output_type": "stream",
     "text": [
      "[1] 0.72\n",
      "Confusion Matrix and Statistics\n",
      "\n",
      "          Reference\n",
      "Prediction  no yes\n",
      "       no  199  32\n",
      "       yes  84  57\n",
      "                                          \n",
      "               Accuracy : 0.6882          \n",
      "                 95% CI : (0.6384, 0.7349)\n",
      "    No Information Rate : 0.7608          \n",
      "    P-Value [Acc > NIR] : 0.9994          \n",
      "                                          \n",
      "                  Kappa : 0.2863          \n",
      "                                          \n",
      " Mcnemar's Test P-Value : 2.188e-06       \n",
      "                                          \n",
      "            Sensitivity : 0.7032          \n",
      "            Specificity : 0.6404          \n",
      "         Pos Pred Value : 0.8615          \n",
      "         Neg Pred Value : 0.4043          \n",
      "              Precision : 0.8615          \n",
      "                 Recall : 0.7032          \n",
      "                     F1 : 0.7743          \n",
      "             Prevalence : 0.7608          \n",
      "         Detection Rate : 0.5349          \n",
      "   Detection Prevalence : 0.6210          \n",
      "      Balanced Accuracy : 0.6718          \n",
      "                                          \n",
      "       'Positive' Class : no              \n",
      "                                          \n"
     ]
    },
    {
     "data": {
      "image/png": "[encoded data removed]",
      "text/plain": [
       "plot without title"
      ]
     },
     "metadata": {
      "image/png": {
       "height": 420,
       "width": 420
      }
     },
     "output_type": "display_data"
    }
   ],
   "source": [
    "set.seed(2)\n",
    "model <- fit_model_thresholder(\n",
    "    model_method=\"rf\",\n",
    "    model_metric=\"Kappa\",\n",
    "    trControl_func = trainControl(method = \"cv\", search=\"grid\",  classProbs=TRUE, savePredictions=TRUE),\n",
    "    train_data = percieve_barriers_train,\n",
    "    test_data=percieve_barriers_test,\n",
    "    yname=\"PA_perceive_barriers\",\n",
    "    length = 15,\n",
    "    best_th = f2\n",
    ")\n",
    "print(model$matrix)\n"
   ]
  },
  {
   "cell_type": "markdown",
   "metadata": {},
   "source": [
    "### Output Barrier: hard work barrier"
   ]
  },
  {
   "cell_type": "code",
   "execution_count": 5,
   "metadata": {},
   "outputs": [
    {
     "data": {
      "text/html": [
       "<table class=\"dataframe\">\n",
       "<caption>A data.frame: 6 × 74</caption>\n",
       "<thead>\n",
       "\t<tr><th></th><th scope=col>sex</th><th scope=col>age_range</th><th scope=col>martialStatus</th><th scope=col>co.resident_range</th><th scope=col>rooms_range</th><th scope=col>income_range</th><th scope=col>scholarity</th><th scope=col>diabetes</th><th scope=col>hypertension</th><th scope=col>dyslipidemia</th><th scope=col>...</th><th scope=col>PA_barriers_before_time_family_responsabilities</th><th scope=col>PA_barriers_before_tiredness</th><th scope=col>PA_barriers_before_location_distance</th><th scope=col>PA_barriers_before_money</th><th scope=col>PA_barriers_before_time_convenience</th><th scope=col>PA_barriers_before_hard_task</th><th scope=col>PA_barriers_before_interest</th><th scope=col>PA_barriers_before_none</th><th scope=col>PA_barrier_hard_work</th><th scope=col>pa_number_before</th></tr>\n",
       "\t<tr><th></th><th scope=col>&lt;fct&gt;</th><th scope=col>&lt;int&gt;</th><th scope=col>&lt;fct&gt;</th><th scope=col>&lt;int&gt;</th><th scope=col>&lt;int&gt;</th><th scope=col>&lt;int&gt;</th><th scope=col>&lt;int&gt;</th><th scope=col>&lt;fct&gt;</th><th scope=col>&lt;fct&gt;</th><th scope=col>&lt;fct&gt;</th><th scope=col>...</th><th scope=col>&lt;fct&gt;</th><th scope=col>&lt;fct&gt;</th><th scope=col>&lt;fct&gt;</th><th scope=col>&lt;fct&gt;</th><th scope=col>&lt;fct&gt;</th><th scope=col>&lt;fct&gt;</th><th scope=col>&lt;fct&gt;</th><th scope=col>&lt;fct&gt;</th><th scope=col>&lt;fct&gt;</th><th scope=col>&lt;int&gt;</th></tr>\n",
       "</thead>\n",
       "<tbody>\n",
       "\t<tr><th scope=row>1</th><td>1</td><td>2</td><td>1</td><td>1</td><td>1</td><td>4</td><td>4</td><td>0</td><td>1</td><td>0</td><td>...</td><td>0</td><td>0</td><td>0</td><td>0</td><td>1</td><td>0</td><td>0</td><td>0</td><td>yes</td><td>1</td></tr>\n",
       "\t<tr><th scope=row>2</th><td>2</td><td>3</td><td>1</td><td>2</td><td>3</td><td>6</td><td>4</td><td>0</td><td>0</td><td>0</td><td>...</td><td>0</td><td>1</td><td>0</td><td>0</td><td>0</td><td>0</td><td>0</td><td>0</td><td>no </td><td>4</td></tr>\n",
       "\t<tr><th scope=row>3</th><td>1</td><td>3</td><td>1</td><td>2</td><td>2</td><td>5</td><td>3</td><td>0</td><td>0</td><td>0</td><td>...</td><td>0</td><td>0</td><td>0</td><td>1</td><td>0</td><td>0</td><td>0</td><td>0</td><td>no </td><td>2</td></tr>\n",
       "\t<tr><th scope=row>4</th><td>1</td><td>3</td><td>1</td><td>1</td><td>1</td><td>3</td><td>4</td><td>0</td><td>0</td><td>0</td><td>...</td><td>0</td><td>0</td><td>0</td><td>0</td><td>1</td><td>0</td><td>0</td><td>0</td><td>no </td><td>2</td></tr>\n",
       "\t<tr><th scope=row>5</th><td>1</td><td>2</td><td>2</td><td>2</td><td>2</td><td>6</td><td>4</td><td>0</td><td>0</td><td>0</td><td>...</td><td>1</td><td>0</td><td>0</td><td>0</td><td>0</td><td>0</td><td>0</td><td>0</td><td>no </td><td>2</td></tr>\n",
       "\t<tr><th scope=row>6</th><td>2</td><td>3</td><td>2</td><td>2</td><td>2</td><td>6</td><td>6</td><td>0</td><td>0</td><td>0</td><td>...</td><td>1</td><td>0</td><td>0</td><td>0</td><td>0</td><td>0</td><td>0</td><td>0</td><td>no </td><td>3</td></tr>\n",
       "</tbody>\n",
       "</table>\n"
      ],
      "text/latex": [
       "A data.frame: 6 × 74\n",
       "\\begin{tabular}{r|lllllllllllllllllllll}\n",
       "  & sex & age\\_range & martialStatus & co.resident\\_range & rooms\\_range & income\\_range & scholarity & diabetes & hypertension & dyslipidemia & ... & PA\\_barriers\\_before\\_time\\_family\\_responsabilities & PA\\_barriers\\_before\\_tiredness & PA\\_barriers\\_before\\_location\\_distance & PA\\_barriers\\_before\\_money & PA\\_barriers\\_before\\_time\\_convenience & PA\\_barriers\\_before\\_hard\\_task & PA\\_barriers\\_before\\_interest & PA\\_barriers\\_before\\_none & PA\\_barrier\\_hard\\_work & pa\\_number\\_before\\\\\n",
       "  & <fct> & <int> & <fct> & <int> & <int> & <int> & <int> & <fct> & <fct> & <fct> & ... & <fct> & <fct> & <fct> & <fct> & <fct> & <fct> & <fct> & <fct> & <fct> & <int>\\\\\n",
       "\\hline\n",
       "\t1 & 1 & 2 & 1 & 1 & 1 & 4 & 4 & 0 & 1 & 0 & ... & 0 & 0 & 0 & 0 & 1 & 0 & 0 & 0 & yes & 1\\\\\n",
       "\t2 & 2 & 3 & 1 & 2 & 3 & 6 & 4 & 0 & 0 & 0 & ... & 0 & 1 & 0 & 0 & 0 & 0 & 0 & 0 & no  & 4\\\\\n",
       "\t3 & 1 & 3 & 1 & 2 & 2 & 5 & 3 & 0 & 0 & 0 & ... & 0 & 0 & 0 & 1 & 0 & 0 & 0 & 0 & no  & 2\\\\\n",
       "\t4 & 1 & 3 & 1 & 1 & 1 & 3 & 4 & 0 & 0 & 0 & ... & 0 & 0 & 0 & 0 & 1 & 0 & 0 & 0 & no  & 2\\\\\n",
       "\t5 & 1 & 2 & 2 & 2 & 2 & 6 & 4 & 0 & 0 & 0 & ... & 1 & 0 & 0 & 0 & 0 & 0 & 0 & 0 & no  & 2\\\\\n",
       "\t6 & 2 & 3 & 2 & 2 & 2 & 6 & 6 & 0 & 0 & 0 & ... & 1 & 0 & 0 & 0 & 0 & 0 & 0 & 0 & no  & 3\\\\\n",
       "\\end{tabular}\n"
      ],
      "text/markdown": [
       "\n",
       "A data.frame: 6 × 74\n",
       "\n",
       "| <!--/--> | sex &lt;fct&gt; | age_range &lt;int&gt; | martialStatus &lt;fct&gt; | co.resident_range &lt;int&gt; | rooms_range &lt;int&gt; | income_range &lt;int&gt; | scholarity &lt;int&gt; | diabetes &lt;fct&gt; | hypertension &lt;fct&gt; | dyslipidemia &lt;fct&gt; | ... ... | PA_barriers_before_time_family_responsabilities &lt;fct&gt; | PA_barriers_before_tiredness &lt;fct&gt; | PA_barriers_before_location_distance &lt;fct&gt; | PA_barriers_before_money &lt;fct&gt; | PA_barriers_before_time_convenience &lt;fct&gt; | PA_barriers_before_hard_task &lt;fct&gt; | PA_barriers_before_interest &lt;fct&gt; | PA_barriers_before_none &lt;fct&gt; | PA_barrier_hard_work &lt;fct&gt; | pa_number_before &lt;int&gt; |\n",
       "|---|---|---|---|---|---|---|---|---|---|---|---|---|---|---|---|---|---|---|---|---|---|\n",
       "| 1 | 1 | 2 | 1 | 1 | 1 | 4 | 4 | 0 | 1 | 0 | ... | 0 | 0 | 0 | 0 | 1 | 0 | 0 | 0 | yes | 1 |\n",
       "| 2 | 2 | 3 | 1 | 2 | 3 | 6 | 4 | 0 | 0 | 0 | ... | 0 | 1 | 0 | 0 | 0 | 0 | 0 | 0 | no  | 4 |\n",
       "| 3 | 1 | 3 | 1 | 2 | 2 | 5 | 3 | 0 | 0 | 0 | ... | 0 | 0 | 0 | 1 | 0 | 0 | 0 | 0 | no  | 2 |\n",
       "| 4 | 1 | 3 | 1 | 1 | 1 | 3 | 4 | 0 | 0 | 0 | ... | 0 | 0 | 0 | 0 | 1 | 0 | 0 | 0 | no  | 2 |\n",
       "| 5 | 1 | 2 | 2 | 2 | 2 | 6 | 4 | 0 | 0 | 0 | ... | 1 | 0 | 0 | 0 | 0 | 0 | 0 | 0 | no  | 2 |\n",
       "| 6 | 2 | 3 | 2 | 2 | 2 | 6 | 6 | 0 | 0 | 0 | ... | 1 | 0 | 0 | 0 | 0 | 0 | 0 | 0 | no  | 3 |\n",
       "\n"
      ],
      "text/plain": [
       "  sex age_range martialStatus co.resident_range rooms_range income_range\n",
       "1 1   2         1             1                 1           4           \n",
       "2 2   3         1             2                 3           6           \n",
       "3 1   3         1             2                 2           5           \n",
       "4 1   3         1             1                 1           3           \n",
       "5 1   2         2             2                 2           6           \n",
       "6 2   3         2             2                 2           6           \n",
       "  scholarity diabetes hypertension dyslipidemia ...\n",
       "1 4          0        1            0            ...\n",
       "2 4          0        0            0            ...\n",
       "3 3          0        0            0            ...\n",
       "4 4          0        0            0            ...\n",
       "5 4          0        0            0            ...\n",
       "6 6          0        0            0            ...\n",
       "  PA_barriers_before_time_family_responsabilities PA_barriers_before_tiredness\n",
       "1 0                                               0                           \n",
       "2 0                                               1                           \n",
       "3 0                                               0                           \n",
       "4 0                                               0                           \n",
       "5 1                                               0                           \n",
       "6 1                                               0                           \n",
       "  PA_barriers_before_location_distance PA_barriers_before_money\n",
       "1 0                                    0                       \n",
       "2 0                                    0                       \n",
       "3 0                                    1                       \n",
       "4 0                                    0                       \n",
       "5 0                                    0                       \n",
       "6 0                                    0                       \n",
       "  PA_barriers_before_time_convenience PA_barriers_before_hard_task\n",
       "1 1                                   0                           \n",
       "2 0                                   0                           \n",
       "3 0                                   0                           \n",
       "4 1                                   0                           \n",
       "5 0                                   0                           \n",
       "6 0                                   0                           \n",
       "  PA_barriers_before_interest PA_barriers_before_none PA_barrier_hard_work\n",
       "1 0                           0                       yes                 \n",
       "2 0                           0                       no                  \n",
       "3 0                           0                       no                  \n",
       "4 0                           0                       no                  \n",
       "5 0                           0                       no                  \n",
       "6 0                           0                       no                  \n",
       "  pa_number_before\n",
       "1 1               \n",
       "2 4               \n",
       "3 2               \n",
       "4 2               \n",
       "5 2               \n",
       "6 3               "
      ]
     },
     "metadata": {},
     "output_type": "display_data"
    },
    {
     "data": {
      "text/html": [
       "<style>\n",
       ".dl-inline {width: auto; margin:0; padding: 0}\n",
       ".dl-inline>dt, .dl-inline>dd {float: none; width: auto; display: inline-block}\n",
       ".dl-inline>dt::after {content: \":\\0020\"; padding-right: .5ex}\n",
       ".dl-inline>dt:not(:first-of-type) {padding-left: .5ex}\n",
       "</style><dl class=dl-inline><dt>no</dt><dd>901</dd><dt>yes</dt><dd>341</dd></dl>\n"
      ],
      "text/latex": [
       "\\begin{description*}\n",
       "\\item[no] 901\n",
       "\\item[yes] 341\n",
       "\\end{description*}\n"
      ],
      "text/markdown": [
       "no\n",
       ":   901yes\n",
       ":   341\n",
       "\n"
      ],
      "text/plain": [
       " no yes \n",
       "901 341 "
      ]
     },
     "metadata": {},
     "output_type": "display_data"
    }
   ],
   "source": [
    "head(hard_work_barrier_dataset)\n",
    "summary(hard_work_barrier_dataset[, \"PA_barrier_hard_work\"])"
   ]
  },
  {
   "cell_type": "markdown",
   "metadata": {},
   "source": [
    "####  Outliers"
   ]
  },
  {
   "cell_type": "markdown",
   "metadata": {},
   "source": [
    "- Outlier: Strange Dont Practice"
   ]
  },
  {
   "cell_type": "code",
   "execution_count": null,
   "metadata": {},
   "outputs": [],
   "source": [
    "hard_work_barrier_dataset_copy <-hard_work_barrier_dataset\n",
    "hard_work_barrier_dataset_copy[\"outlier\"] <- strange_dp\n",
    "outliers_result_sdp <- outliers_checker(distances_sdp,hard_work_barrier_dataset_copy, \"PA_barrier_hard_work\")"
   ]
  },
  {
   "cell_type": "code",
   "execution_count": 7,
   "metadata": {},
   "outputs": [
    {
     "data": {
      "image/png": "[encoded data removed]",
      "text/plain": [
       "plot without title"
      ]
     },
     "metadata": {
      "image/png": {
       "height": 420,
       "width": 420
      }
     },
     "output_type": "display_data"
    }
   ],
   "source": [
    "plot <- outliers_result_sdp$kappa_x_alpha\n",
    "ggplot(plot, aes(plot[, \"alpha\"], plot[, \"kappa\"] )) + geom_point()"
   ]
  },
  {
   "cell_type": "markdown",
   "metadata": {},
   "source": [
    "- Outlier: Strange Practice"
   ]
  },
  {
   "cell_type": "code",
   "execution_count": 8,
   "metadata": {},
   "outputs": [
    {
     "name": "stderr",
     "output_type": "stream",
     "text": [
      "Setting levels: control = 1, case = 2\n",
      "\n",
      "Setting direction: controls < cases\n",
      "\n",
      "Setting levels: control = 1, case = 2\n",
      "\n",
      "Setting direction: controls < cases\n",
      "\n",
      "Setting levels: control = 1, case = 2\n",
      "\n",
      "Setting direction: controls < cases\n",
      "\n",
      "Setting levels: control = 1, case = 2\n",
      "\n",
      "Setting direction: controls < cases\n",
      "\n",
      "Setting levels: control = 1, case = 2\n",
      "\n",
      "Setting direction: controls < cases\n",
      "\n",
      "Setting levels: control = 1, case = 2\n",
      "\n",
      "Setting direction: controls < cases\n",
      "\n",
      "Setting levels: control = 1, case = 2\n",
      "\n",
      "Setting direction: controls < cases\n",
      "\n"
     ]
    }
   ],
   "source": [
    "hard_work_barrier_dataset_copy <-hard_work_barrier_dataset\n",
    "hard_work_barrier_dataset_copy[\"outlier\"] <- strange_p\n",
    "outliers_result_sp <- outliers_checker(distances_sp,hard_work_barrier_dataset_copy, \"PA_barrier_hard_work\")"
   ]
  },
  {
   "cell_type": "code",
   "execution_count": 9,
   "metadata": {},
   "outputs": [
    {
     "data": {
      "image/png": "[encoded data removed]",
      "text/plain": [
       "plot without title"
      ]
     },
     "metadata": {
      "image/png": {
       "height": 420,
       "width": 420
      }
     },
     "output_type": "display_data"
    }
   ],
   "source": [
    "plot <- outliers_result_sp$kappa_x_alpha\n",
    "ggplot(plot, aes(plot[, \"alpha\"], plot[, \"kappa\"] )) + geom_point()"
   ]
  },
  {
   "cell_type": "markdown",
   "metadata": {},
   "source": [
    "- New Train and Test:\n",
    "The outliers check in the strange dont need to delete records"
   ]
  },
  {
   "cell_type": "code",
   "execution_count": 13,
   "metadata": {},
   "outputs": [],
   "source": [
    "hard_work_barriers_train <- outliers_result_sdp$best_model$train\n",
    "hard_work_barriers_test <- outliers_result_sdp$best_model$test"
   ]
  },
  {
   "cell_type": "markdown",
   "metadata": {},
   "source": [
    "#### RF: Kappa with 50% of probability threshold"
   ]
  },
  {
   "cell_type": "code",
   "execution_count": 14,
   "metadata": {},
   "outputs": [
    {
     "name": "stderr",
     "output_type": "stream",
     "text": [
      "Setting levels: control = 1, case = 2\n",
      "\n",
      "Setting direction: controls < cases\n",
      "\n"
     ]
    },
    {
     "name": "stdout",
     "output_type": "stream",
     "text": [
      "Confusion Matrix and Statistics\n",
      "\n",
      "          Reference\n",
      "Prediction  no yes\n",
      "       no  257  77\n",
      "       yes  13  25\n",
      "                                          \n",
      "               Accuracy : 0.7581          \n",
      "                 95% CI : (0.7112, 0.8007)\n",
      "    No Information Rate : 0.7258          \n",
      "    P-Value [Acc > NIR] : 0.08947         \n",
      "                                          \n",
      "                  Kappa : 0.2447          \n",
      "                                          \n",
      " Mcnemar's Test P-Value : 3.12e-11        \n",
      "                                          \n",
      "            Sensitivity : 0.9519          \n",
      "            Specificity : 0.2451          \n",
      "         Pos Pred Value : 0.7695          \n",
      "         Neg Pred Value : 0.6579          \n",
      "              Precision : 0.7695          \n",
      "                 Recall : 0.9519          \n",
      "                     F1 : 0.8510          \n",
      "             Prevalence : 0.7258          \n",
      "         Detection Rate : 0.6909          \n",
      "   Detection Prevalence : 0.8978          \n",
      "      Balanced Accuracy : 0.5985          \n",
      "                                          \n",
      "       'Positive' Class : no              \n",
      "                                          \n"
     ]
    }
   ],
   "source": [
    "set.seed(2)\n",
    "model <- fit_model(\n",
    "    model_method=\"rf\",\n",
    "    model_metric=\"Kappa\",\n",
    "    trControl_func = trainControl(method = \"cv\", search=\"grid\"),\n",
    "    train_data = hard_work_barriers_train,\n",
    "    test_data=hard_work_barriers_test,\n",
    "    yname=\"PA_barrier_hard_work\",\n",
    "    length = 15\n",
    ")\n",
    "print(model$matrix)\n"
   ]
  },
  {
   "cell_type": "code",
   "execution_count": null,
   "metadata": {},
   "outputs": [
    {
     "data": {
      "image/png": "[encoded data removed]",
      "text/plain": [
       "plot without title"
      ]
     },
     "metadata": {},
     "output_type": "display_data"
    },
    {
     "data": {
      "image/png": "[encoded data removed]",
      "text/plain": [
       "plot without title"
      ]
     },
     "metadata": {},
     "output_type": "display_data"
    }
   ],
   "source": [
    "plot(varImp(model$result), top=20)\n",
    "plot(model$result)"
   ]
  },
  {
   "cell_type": "markdown",
   "metadata": {},
   "source": [
    "#### RF: Kappa with antoher probability threshold"
   ]
  },
  {
   "cell_type": "code",
   "execution_count": 16,
   "metadata": {},
   "outputs": [
    {
     "name": "stderr",
     "output_type": "stream",
     "text": [
      "Warning message in .fun(piece, ...):\n",
      "\"The following columns have missing values (NA), which have been removed: 'Neg Pred Value'.\n",
      "\"\n",
      "Warning message in .fun(piece, ...):\n",
      "\"The following columns have missing values (NA), which have been removed: 'Neg Pred Value'.\n",
      "\"\n",
      "Warning message in .fun(piece, ...):\n",
      "\"The following columns have missing values (NA), which have been removed: 'Neg Pred Value'.\n",
      "\"\n",
      "Warning message in .fun(piece, ...):\n",
      "\"The following columns have missing values (NA), which have been removed: 'Neg Pred Value'.\n",
      "\"\n",
      "Warning message in .fun(piece, ...):\n",
      "\"The following columns have missing values (NA), which have been removed: 'Neg Pred Value'.\n",
      "\"\n",
      "Warning message in .fun(piece, ...):\n",
      "\"The following columns have missing values (NA), which have been removed: 'Neg Pred Value'.\n",
      "\"\n",
      "Warning message in .fun(piece, ...):\n",
      "\"The following columns have missing values (NA), which have been removed: 'Neg Pred Value'.\n",
      "\"\n"
     ]
    },
    {
     "name": "stdout",
     "output_type": "stream",
     "text": [
      "[1] 0.68\n",
      "Confusion Matrix and Statistics\n",
      "\n",
      "          Reference\n",
      "Prediction  no yes\n",
      "       no  183  43\n",
      "       yes  87  59\n",
      "                                         \n",
      "               Accuracy : 0.6505         \n",
      "                 95% CI : (0.5997, 0.699)\n",
      "    No Information Rate : 0.7258         \n",
      "    P-Value [Acc > NIR] : 0.9993971      \n",
      "                                         \n",
      "                  Kappa : 0.2259         \n",
      "                                         \n",
      " Mcnemar's Test P-Value : 0.0001624      \n",
      "                                         \n",
      "            Sensitivity : 0.6778         \n",
      "            Specificity : 0.5784         \n",
      "         Pos Pred Value : 0.8097         \n",
      "         Neg Pred Value : 0.4041         \n",
      "              Precision : 0.8097         \n",
      "                 Recall : 0.6778         \n",
      "                     F1 : 0.7379         \n",
      "             Prevalence : 0.7258         \n",
      "         Detection Rate : 0.4919         \n",
      "   Detection Prevalence : 0.6075         \n",
      "      Balanced Accuracy : 0.6281         \n",
      "                                         \n",
      "       'Positive' Class : no             \n",
      "                                         \n"
     ]
    },
    {
     "data": {
      "image/png": "[encoded data removed]",
      "text/plain": [
       "plot without title"
      ]
     },
     "metadata": {
      "image/png": {
       "height": 420,
       "width": 420
      }
     },
     "output_type": "display_data"
    }
   ],
   "source": [
    "set.seed(2)\n",
    "model <- fit_model_thresholder(\n",
    "    model_method=\"rf\",\n",
    "    model_metric=\"Kappa\",\n",
    "    trControl_func = trainControl(method = \"cv\", search=\"grid\",  classProbs=TRUE, savePredictions=TRUE),\n",
    "    train_data = hard_work_barriers_train,\n",
    "    test_data=hard_work_barriers_test,\n",
    "    yname=\"PA_barrier_hard_work\",\n",
    "    length = 15,\n",
    "    best_th = f2\n",
    ")\n",
    "print(model$matrix)\n"
   ]
  },
  {
   "cell_type": "markdown",
   "metadata": {},
   "source": [
    "#### Output: Practice of exercise during"
   ]
  },
  {
   "cell_type": "code",
   "execution_count": 43,
   "metadata": {},
   "outputs": [
    {
     "data": {
      "text/html": [
       "<style>\n",
       ".list-inline {list-style: none; margin:0; padding: 0}\n",
       ".list-inline>li {display: inline-block}\n",
       ".list-inline>li:not(:last-child)::after {content: \"\\00b7\"; padding: 0 .5ex}\n",
       "</style>\n",
       "<ol class=list-inline><li>1242</li><li>19</li></ol>\n"
      ],
      "text/latex": [
       "\\begin{enumerate*}\n",
       "\\item 1242\n",
       "\\item 19\n",
       "\\end{enumerate*}\n"
      ],
      "text/markdown": [
       "1. 1242\n",
       "2. 19\n",
       "\n",
       "\n"
      ],
      "text/plain": [
       "[1] 1242   19"
      ]
     },
     "metadata": {},
     "output_type": "display_data"
    }
   ],
   "source": [
    "pa_bf_dataset <- pa_dataset[, c(barriers, \"PA_practice_during\")]\n",
    "dim(pa_bf_dataset)"
   ]
  },
  {
   "cell_type": "markdown",
   "metadata": {},
   "source": [
    "### Output Barrier: places barrier"
   ]
  },
  {
   "cell_type": "code",
   "execution_count": 5,
   "metadata": {},
   "outputs": [
    {
     "data": {
      "text/html": [
       "<table class=\"dataframe\">\n",
       "<caption>A data.frame: 6 × 74</caption>\n",
       "<thead>\n",
       "\t<tr><th></th><th scope=col>sex</th><th scope=col>age_range</th><th scope=col>martialStatus</th><th scope=col>co.resident_range</th><th scope=col>rooms_range</th><th scope=col>income_range</th><th scope=col>scholarity</th><th scope=col>diabetes</th><th scope=col>hypertension</th><th scope=col>dyslipidemia</th><th scope=col>...</th><th scope=col>PA_barriers_before_time_family_responsabilities</th><th scope=col>PA_barriers_before_tiredness</th><th scope=col>PA_barriers_before_location_distance</th><th scope=col>PA_barriers_before_money</th><th scope=col>PA_barriers_before_time_convenience</th><th scope=col>PA_barriers_before_hard_task</th><th scope=col>PA_barriers_before_interest</th><th scope=col>PA_barriers_before_none</th><th scope=col>PA_barrier_places</th><th scope=col>pa_number_before</th></tr>\n",
       "\t<tr><th></th><th scope=col>&lt;fct&gt;</th><th scope=col>&lt;int&gt;</th><th scope=col>&lt;fct&gt;</th><th scope=col>&lt;int&gt;</th><th scope=col>&lt;int&gt;</th><th scope=col>&lt;int&gt;</th><th scope=col>&lt;int&gt;</th><th scope=col>&lt;fct&gt;</th><th scope=col>&lt;fct&gt;</th><th scope=col>&lt;fct&gt;</th><th scope=col>...</th><th scope=col>&lt;fct&gt;</th><th scope=col>&lt;fct&gt;</th><th scope=col>&lt;fct&gt;</th><th scope=col>&lt;fct&gt;</th><th scope=col>&lt;fct&gt;</th><th scope=col>&lt;fct&gt;</th><th scope=col>&lt;fct&gt;</th><th scope=col>&lt;fct&gt;</th><th scope=col>&lt;fct&gt;</th><th scope=col>&lt;int&gt;</th></tr>\n",
       "</thead>\n",
       "<tbody>\n",
       "\t<tr><th scope=row>1</th><td>1</td><td>2</td><td>1</td><td>1</td><td>1</td><td>4</td><td>4</td><td>0</td><td>1</td><td>0</td><td>...</td><td>0</td><td>0</td><td>0</td><td>0</td><td>1</td><td>0</td><td>0</td><td>0</td><td>yes</td><td>1</td></tr>\n",
       "\t<tr><th scope=row>2</th><td>2</td><td>3</td><td>1</td><td>2</td><td>3</td><td>6</td><td>4</td><td>0</td><td>0</td><td>0</td><td>...</td><td>0</td><td>1</td><td>0</td><td>0</td><td>0</td><td>0</td><td>0</td><td>0</td><td>yes</td><td>4</td></tr>\n",
       "\t<tr><th scope=row>3</th><td>1</td><td>3</td><td>1</td><td>2</td><td>2</td><td>5</td><td>3</td><td>0</td><td>0</td><td>0</td><td>...</td><td>0</td><td>0</td><td>0</td><td>1</td><td>0</td><td>0</td><td>0</td><td>0</td><td>yes</td><td>2</td></tr>\n",
       "\t<tr><th scope=row>4</th><td>1</td><td>3</td><td>1</td><td>1</td><td>1</td><td>3</td><td>4</td><td>0</td><td>0</td><td>0</td><td>...</td><td>0</td><td>0</td><td>0</td><td>0</td><td>1</td><td>0</td><td>0</td><td>0</td><td>yes</td><td>2</td></tr>\n",
       "\t<tr><th scope=row>5</th><td>1</td><td>2</td><td>2</td><td>2</td><td>2</td><td>6</td><td>4</td><td>0</td><td>0</td><td>0</td><td>...</td><td>1</td><td>0</td><td>0</td><td>0</td><td>0</td><td>0</td><td>0</td><td>0</td><td>yes</td><td>2</td></tr>\n",
       "\t<tr><th scope=row>6</th><td>2</td><td>3</td><td>2</td><td>2</td><td>2</td><td>6</td><td>6</td><td>0</td><td>0</td><td>0</td><td>...</td><td>1</td><td>0</td><td>0</td><td>0</td><td>0</td><td>0</td><td>0</td><td>0</td><td>no </td><td>3</td></tr>\n",
       "</tbody>\n",
       "</table>\n"
      ],
      "text/latex": [
       "A data.frame: 6 × 74\n",
       "\\begin{tabular}{r|lllllllllllllllllllll}\n",
       "  & sex & age\\_range & martialStatus & co.resident\\_range & rooms\\_range & income\\_range & scholarity & diabetes & hypertension & dyslipidemia & ... & PA\\_barriers\\_before\\_time\\_family\\_responsabilities & PA\\_barriers\\_before\\_tiredness & PA\\_barriers\\_before\\_location\\_distance & PA\\_barriers\\_before\\_money & PA\\_barriers\\_before\\_time\\_convenience & PA\\_barriers\\_before\\_hard\\_task & PA\\_barriers\\_before\\_interest & PA\\_barriers\\_before\\_none & PA\\_barrier\\_places & pa\\_number\\_before\\\\\n",
       "  & <fct> & <int> & <fct> & <int> & <int> & <int> & <int> & <fct> & <fct> & <fct> & ... & <fct> & <fct> & <fct> & <fct> & <fct> & <fct> & <fct> & <fct> & <fct> & <int>\\\\\n",
       "\\hline\n",
       "\t1 & 1 & 2 & 1 & 1 & 1 & 4 & 4 & 0 & 1 & 0 & ... & 0 & 0 & 0 & 0 & 1 & 0 & 0 & 0 & yes & 1\\\\\n",
       "\t2 & 2 & 3 & 1 & 2 & 3 & 6 & 4 & 0 & 0 & 0 & ... & 0 & 1 & 0 & 0 & 0 & 0 & 0 & 0 & yes & 4\\\\\n",
       "\t3 & 1 & 3 & 1 & 2 & 2 & 5 & 3 & 0 & 0 & 0 & ... & 0 & 0 & 0 & 1 & 0 & 0 & 0 & 0 & yes & 2\\\\\n",
       "\t4 & 1 & 3 & 1 & 1 & 1 & 3 & 4 & 0 & 0 & 0 & ... & 0 & 0 & 0 & 0 & 1 & 0 & 0 & 0 & yes & 2\\\\\n",
       "\t5 & 1 & 2 & 2 & 2 & 2 & 6 & 4 & 0 & 0 & 0 & ... & 1 & 0 & 0 & 0 & 0 & 0 & 0 & 0 & yes & 2\\\\\n",
       "\t6 & 2 & 3 & 2 & 2 & 2 & 6 & 6 & 0 & 0 & 0 & ... & 1 & 0 & 0 & 0 & 0 & 0 & 0 & 0 & no  & 3\\\\\n",
       "\\end{tabular}\n"
      ],
      "text/markdown": [
       "\n",
       "A data.frame: 6 × 74\n",
       "\n",
       "| <!--/--> | sex &lt;fct&gt; | age_range &lt;int&gt; | martialStatus &lt;fct&gt; | co.resident_range &lt;int&gt; | rooms_range &lt;int&gt; | income_range &lt;int&gt; | scholarity &lt;int&gt; | diabetes &lt;fct&gt; | hypertension &lt;fct&gt; | dyslipidemia &lt;fct&gt; | ... ... | PA_barriers_before_time_family_responsabilities &lt;fct&gt; | PA_barriers_before_tiredness &lt;fct&gt; | PA_barriers_before_location_distance &lt;fct&gt; | PA_barriers_before_money &lt;fct&gt; | PA_barriers_before_time_convenience &lt;fct&gt; | PA_barriers_before_hard_task &lt;fct&gt; | PA_barriers_before_interest &lt;fct&gt; | PA_barriers_before_none &lt;fct&gt; | PA_barrier_places &lt;fct&gt; | pa_number_before &lt;int&gt; |\n",
       "|---|---|---|---|---|---|---|---|---|---|---|---|---|---|---|---|---|---|---|---|---|---|\n",
       "| 1 | 1 | 2 | 1 | 1 | 1 | 4 | 4 | 0 | 1 | 0 | ... | 0 | 0 | 0 | 0 | 1 | 0 | 0 | 0 | yes | 1 |\n",
       "| 2 | 2 | 3 | 1 | 2 | 3 | 6 | 4 | 0 | 0 | 0 | ... | 0 | 1 | 0 | 0 | 0 | 0 | 0 | 0 | yes | 4 |\n",
       "| 3 | 1 | 3 | 1 | 2 | 2 | 5 | 3 | 0 | 0 | 0 | ... | 0 | 0 | 0 | 1 | 0 | 0 | 0 | 0 | yes | 2 |\n",
       "| 4 | 1 | 3 | 1 | 1 | 1 | 3 | 4 | 0 | 0 | 0 | ... | 0 | 0 | 0 | 0 | 1 | 0 | 0 | 0 | yes | 2 |\n",
       "| 5 | 1 | 2 | 2 | 2 | 2 | 6 | 4 | 0 | 0 | 0 | ... | 1 | 0 | 0 | 0 | 0 | 0 | 0 | 0 | yes | 2 |\n",
       "| 6 | 2 | 3 | 2 | 2 | 2 | 6 | 6 | 0 | 0 | 0 | ... | 1 | 0 | 0 | 0 | 0 | 0 | 0 | 0 | no  | 3 |\n",
       "\n"
      ],
      "text/plain": [
       "  sex age_range martialStatus co.resident_range rooms_range income_range\n",
       "1 1   2         1             1                 1           4           \n",
       "2 2   3         1             2                 3           6           \n",
       "3 1   3         1             2                 2           5           \n",
       "4 1   3         1             1                 1           3           \n",
       "5 1   2         2             2                 2           6           \n",
       "6 2   3         2             2                 2           6           \n",
       "  scholarity diabetes hypertension dyslipidemia ...\n",
       "1 4          0        1            0            ...\n",
       "2 4          0        0            0            ...\n",
       "3 3          0        0            0            ...\n",
       "4 4          0        0            0            ...\n",
       "5 4          0        0            0            ...\n",
       "6 6          0        0            0            ...\n",
       "  PA_barriers_before_time_family_responsabilities PA_barriers_before_tiredness\n",
       "1 0                                               0                           \n",
       "2 0                                               1                           \n",
       "3 0                                               0                           \n",
       "4 0                                               0                           \n",
       "5 1                                               0                           \n",
       "6 1                                               0                           \n",
       "  PA_barriers_before_location_distance PA_barriers_before_money\n",
       "1 0                                    0                       \n",
       "2 0                                    0                       \n",
       "3 0                                    1                       \n",
       "4 0                                    0                       \n",
       "5 0                                    0                       \n",
       "6 0                                    0                       \n",
       "  PA_barriers_before_time_convenience PA_barriers_before_hard_task\n",
       "1 1                                   0                           \n",
       "2 0                                   0                           \n",
       "3 0                                   0                           \n",
       "4 1                                   0                           \n",
       "5 0                                   0                           \n",
       "6 0                                   0                           \n",
       "  PA_barriers_before_interest PA_barriers_before_none PA_barrier_places\n",
       "1 0                           0                       yes              \n",
       "2 0                           0                       yes              \n",
       "3 0                           0                       yes              \n",
       "4 0                           0                       yes              \n",
       "5 0                           0                       yes              \n",
       "6 0                           0                       no               \n",
       "  pa_number_before\n",
       "1 1               \n",
       "2 4               \n",
       "3 2               \n",
       "4 2               \n",
       "5 2               \n",
       "6 3               "
      ]
     },
     "metadata": {},
     "output_type": "display_data"
    },
    {
     "data": {
      "text/html": [
       "<style>\n",
       ".dl-inline {width: auto; margin:0; padding: 0}\n",
       ".dl-inline>dt, .dl-inline>dd {float: none; width: auto; display: inline-block}\n",
       ".dl-inline>dt::after {content: \":\\0020\"; padding-right: .5ex}\n",
       ".dl-inline>dt:not(:first-of-type) {padding-left: .5ex}\n",
       "</style><dl class=dl-inline><dt>no</dt><dd>615</dd><dt>yes</dt><dd>627</dd></dl>\n"
      ],
      "text/latex": [
       "\\begin{description*}\n",
       "\\item[no] 615\n",
       "\\item[yes] 627\n",
       "\\end{description*}\n"
      ],
      "text/markdown": [
       "no\n",
       ":   615yes\n",
       ":   627\n",
       "\n"
      ],
      "text/plain": [
       " no yes \n",
       "615 627 "
      ]
     },
     "metadata": {},
     "output_type": "display_data"
    }
   ],
   "source": [
    "head(places_barrier_dataset)\n",
    "summary(places_barrier_dataset[, \"PA_barrier_places\"])"
   ]
  },
  {
   "cell_type": "markdown",
   "metadata": {},
   "source": [
    "####  Outliers"
   ]
  },
  {
   "cell_type": "markdown",
   "metadata": {},
   "source": [
    "- Outlier: Strange Dont Practice"
   ]
  },
  {
   "cell_type": "code",
   "execution_count": null,
   "metadata": {},
   "outputs": [],
   "source": [
    "places_barrier_dataset_copy <-places_barrier_dataset\n",
    "places_barrier_dataset_copy[\"outlier\"] <- strange_dp\n",
    "outliers_result_sdp <- outliers_checker(distances_sdp,places_barrier_dataset_copy, \"PA_barrier_places\")"
   ]
  },
  {
   "cell_type": "code",
   "execution_count": 7,
   "metadata": {},
   "outputs": [
    {
     "data": {
      "image/png": "[encoded data removed]",
      "text/plain": [
       "plot without title"
      ]
     },
     "metadata": {
      "image/png": {
       "height": 420,
       "width": 420
      }
     },
     "output_type": "display_data"
    }
   ],
   "source": [
    "plot <- outliers_result_sdp$kappa_x_alpha\n",
    "ggplot(plot, aes(plot[, \"alpha\"], plot[, \"kappa\"] )) + geom_point()"
   ]
  },
  {
   "cell_type": "markdown",
   "metadata": {},
   "source": [
    "- Outlier: Strange Practice"
   ]
  },
  {
   "cell_type": "code",
   "execution_count": null,
   "metadata": {},
   "outputs": [],
   "source": [
    "places_barrier_dataset_copy <-places_barrier_dataset\n",
    "places_barrier_dataset_copy[\"outlier\"] <- strange_p\n",
    "outliers_result_sp <- outliers_checker(distances_sp,places_barrier_dataset_copy, \"PA_barrier_places\")"
   ]
  },
  {
   "cell_type": "code",
   "execution_count": 9,
   "metadata": {},
   "outputs": [
    {
     "data": {
      "image/png": "[encoded data removed]",
      "text/plain": [
       "plot without title"
      ]
     },
     "metadata": {
      "image/png": {
       "height": 420,
       "width": 420
      }
     },
     "output_type": "display_data"
    }
   ],
   "source": [
    "plot <- outliers_result_sp$kappa_x_alpha\n",
    "ggplot(plot, aes(plot[, \"alpha\"], plot[, \"kappa\"] )) + geom_point()"
   ]
  },
  {
   "cell_type": "markdown",
   "metadata": {},
   "source": [
    "- New Train and Test:\n",
    "The outliers check in the strange dont need to delete records"
   ]
  },
  {
   "cell_type": "code",
   "execution_count": 10,
   "metadata": {},
   "outputs": [],
   "source": [
    "places_barriers_train <- outliers_result_sdp$best_model$train\n",
    "places_barriers_test <- outliers_result_sdp$best_model$test"
   ]
  },
  {
   "cell_type": "markdown",
   "metadata": {},
   "source": [
    "#### RF: Kappa with 50% of probability threshold"
   ]
  },
  {
   "cell_type": "code",
   "execution_count": 11,
   "metadata": {},
   "outputs": [],
   "source": [
    "set.seed(2)\n",
    "model <- fit_model(\n",
    "    model_method=\"rf\",\n",
    "    model_metric=\"Kappa\",\n",
    "    trControl_func = trainControl(method = \"cv\", search=\"grid\"),\n",
    "    train_data = places_barriers_train,\n",
    "    test_data=places_barriers_test,\n",
    "    yname=\"PA_barrier_places\",\n",
    "    length = 15\n",
    ")\n",
    "print(model$matrix)\n"
   ]
  },
  {
   "cell_type": "code",
   "execution_count": null,
   "metadata": {},
   "outputs": [
    {
     "data": {
      "image/png": "[encoded data removed]",
      "text/plain": [
       "plot without title"
      ]
     },
     "metadata": {},
     "output_type": "display_data"
    },
    {
     "data": {
      "image/png": "[encoded data removed]",
      "text/plain": [
       "plot without title"
      ]
     },
     "metadata": {},
     "output_type": "display_data"
    }
   ],
   "source": [
    "plot(varImp(model$result), top=20)\n",
    "plot(model$result)"
   ]
  },
  {
   "cell_type": "markdown",
   "metadata": {},
   "source": [
    "#### RF: Kappa with antoher probability threshold"
   ]
  },
  {
   "cell_type": "code",
   "execution_count": null,
   "metadata": {},
   "outputs": [
    {
     "name": "stderr",
     "output_type": "stream",
     "text": [
      "Warning message in .fun(piece, ...):\n",
      "\"The following columns have missing values (NA), which have been removed: 'Neg Pred Value'.\n",
      "\"\n",
      "Warning message in .fun(piece, ...):\n",
      "\"The following columns have missing values (NA), which have been removed: 'Neg Pred Value'.\n",
      "\"\n",
      "Warning message in .fun(piece, ...):\n",
      "\"The following columns have missing values (NA), which have been removed: 'Neg Pred Value'.\n",
      "\"\n",
      "Warning message in .fun(piece, ...):\n",
      "\"The following columns have missing values (NA), which have been removed: 'Neg Pred Value'.\n",
      "\"\n",
      "Warning message in .fun(piece, ...):\n",
      "\"The following columns have missing values (NA), which have been removed: 'Neg Pred Value'.\n",
      "\"\n",
      "Warning message in .fun(piece, ...):\n",
      "\"The following columns have missing values (NA), which have been removed: 'Neg Pred Value'.\n",
      "\"\n",
      "Warning message in .fun(piece, ...):\n",
      "\"The following columns have missing values (NA), which have been removed: 'Neg Pred Value'.\n",
      "\"\n"
     ]
    },
    {
     "name": "stdout",
     "output_type": "stream",
     "text": [
      "[1] 0.68\n",
      "Confusion Matrix and Statistics\n",
      "\n",
      "          Reference\n",
      "Prediction  no yes\n",
      "       no  183  43\n",
      "       yes  87  59\n",
      "                                         \n",
      "               Accuracy : 0.6505         \n",
      "                 95% CI : (0.5997, 0.699)\n",
      "    No Information Rate : 0.7258         \n",
      "    P-Value [Acc > NIR] : 0.9993971      \n",
      "                                         \n",
      "                  Kappa : 0.2259         \n",
      "                                         \n",
      " Mcnemar's Test P-Value : 0.0001624      \n",
      "                                         \n",
      "            Sensitivity : 0.6778         \n",
      "            Specificity : 0.5784         \n",
      "         Pos Pred Value : 0.8097         \n",
      "         Neg Pred Value : 0.4041         \n",
      "              Precision : 0.8097         \n",
      "                 Recall : 0.6778         \n",
      "                     F1 : 0.7379         \n",
      "             Prevalence : 0.7258         \n",
      "         Detection Rate : 0.4919         \n",
      "   Detection Prevalence : 0.6075         \n",
      "      Balanced Accuracy : 0.6281         \n",
      "                                         \n",
      "       'Positive' Class : no             \n",
      "                                         \n"
     ]
    },
    {
     "data": {
      "image/png": "[encoded data removed]",
      "text/plain": [
       "plot without title"
      ]
     },
     "metadata": {},
     "output_type": "display_data"
    }
   ],
   "source": [
    "set.seed(2)\n",
    "model <- fit_model_thresholder(\n",
    "    model_method=\"rf\",\n",
    "    model_metric=\"Kappa\",\n",
    "    trControl_func = trainControl(method = \"cv\", search=\"grid\",  classProbs=TRUE, savePredictions=TRUE),\n",
    "    train_data = places_barriers_train,\n",
    "    test_data=places_barriers_test,\n",
    "    yname=\"PA_barrier_places\",\n",
    "    length = 15,\n",
    "    best_th = f2\n",
    ")\n",
    "print(model$matrix)\n"
   ]
  },
  {
   "cell_type": "markdown",
   "metadata": {},
   "source": [
    "#### Output: Practice of exercise during"
   ]
  },
  {
   "cell_type": "code",
   "execution_count": null,
   "metadata": {},
   "outputs": [
    {
     "data": {
      "text/html": [
       "<style>\n",
       ".list-inline {list-style: none; margin:0; padding: 0}\n",
       ".list-inline>li {display: inline-block}\n",
       ".list-inline>li:not(:last-child)::after {content: \"\\00b7\"; padding: 0 .5ex}\n",
       "</style>\n",
       "<ol class=list-inline><li>1242</li><li>19</li></ol>\n"
      ],
      "text/latex": [
       "\\begin{enumerate*}\n",
       "\\item 1242\n",
       "\\item 19\n",
       "\\end{enumerate*}\n"
      ],
      "text/markdown": [
       "1. 1242\n",
       "2. 19\n",
       "\n",
       "\n"
      ],
      "text/plain": [
       "[1] 1242   19"
      ]
     },
     "metadata": {},
     "output_type": "display_data"
    }
   ],
   "source": [
    "pa_bf_dataset <- pa_dataset[, c(barriers, \"PA_practice_during\")]\n",
    "dim(pa_bf_dataset)"
   ]
  }
 ],
 "metadata": {
  "interpreter": {
   "hash": "2db524e06e9f5f4ffedc911c917cb75e12dbc923643829bf417064a77eb14d37"
  },
  "kernelspec": {
   "display_name": "R",
   "language": "R",
   "name": "ir"
  },
  "language_info": {
   "codemirror_mode": "r",
   "file_extension": ".r",
   "mimetype": "text/x-r-source",
   "name": "R",
   "pygments_lexer": "r",
   "version": "4.1.0"
  },
  "orig_nbformat": 4
 },
 "nbformat": 4,
 "nbformat_minor": 2
}
