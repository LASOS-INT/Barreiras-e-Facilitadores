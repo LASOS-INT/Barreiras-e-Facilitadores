{
 "cells": [
  {
   "cell_type": "markdown",
   "metadata": {},
   "source": [
    "# Installing and loading packages"
   ]
  },
  {
   "cell_type": "code",
   "execution_count": 291,
   "metadata": {},
   "outputs": [
    {
     "data": {
      "text/html": [
       "<ol>\n",
       "\t<li>TRUE</li>\n",
       "\t<li>TRUE</li>\n",
       "\t<li>TRUE</li>\n",
       "\t<li>TRUE</li>\n",
       "\t<li>TRUE</li>\n",
       "\t<li>TRUE</li>\n",
       "\t<li>TRUE</li>\n",
       "\t<li>TRUE</li>\n",
       "\t<li>TRUE</li>\n",
       "\t<li>TRUE</li>\n",
       "\t<li>TRUE</li>\n",
       "\t<li>TRUE</li>\n",
       "\t<li>TRUE</li>\n",
       "\t<li>TRUE</li>\n",
       "\t<li>TRUE</li>\n",
       "\t<li>TRUE</li>\n",
       "\t<li>TRUE</li>\n",
       "\t<li>TRUE</li>\n",
       "\t<li>TRUE</li>\n",
       "\t<li>TRUE</li>\n",
       "\t<li>TRUE</li>\n",
       "\t<li>TRUE</li>\n",
       "\t<li>TRUE</li>\n",
       "\t<li>TRUE</li>\n",
       "\t<li>TRUE</li>\n",
       "\t<li>TRUE</li>\n",
       "\t<li>TRUE</li>\n",
       "\t<li>TRUE</li>\n",
       "</ol>\n"
      ],
      "text/latex": [
       "\\begin{enumerate}\n",
       "\\item TRUE\n",
       "\\item TRUE\n",
       "\\item TRUE\n",
       "\\item TRUE\n",
       "\\item TRUE\n",
       "\\item TRUE\n",
       "\\item TRUE\n",
       "\\item TRUE\n",
       "\\item TRUE\n",
       "\\item TRUE\n",
       "\\item TRUE\n",
       "\\item TRUE\n",
       "\\item TRUE\n",
       "\\item TRUE\n",
       "\\item TRUE\n",
       "\\item TRUE\n",
       "\\item TRUE\n",
       "\\item TRUE\n",
       "\\item TRUE\n",
       "\\item TRUE\n",
       "\\item TRUE\n",
       "\\item TRUE\n",
       "\\item TRUE\n",
       "\\item TRUE\n",
       "\\item TRUE\n",
       "\\item TRUE\n",
       "\\item TRUE\n",
       "\\item TRUE\n",
       "\\end{enumerate}\n"
      ],
      "text/markdown": [
       "1. TRUE\n",
       "2. TRUE\n",
       "3. TRUE\n",
       "4. TRUE\n",
       "5. TRUE\n",
       "6. TRUE\n",
       "7. TRUE\n",
       "8. TRUE\n",
       "9. TRUE\n",
       "10. TRUE\n",
       "11. TRUE\n",
       "12. TRUE\n",
       "13. TRUE\n",
       "14. TRUE\n",
       "15. TRUE\n",
       "16. TRUE\n",
       "17. TRUE\n",
       "18. TRUE\n",
       "19. TRUE\n",
       "20. TRUE\n",
       "21. TRUE\n",
       "22. TRUE\n",
       "23. TRUE\n",
       "24. TRUE\n",
       "25. TRUE\n",
       "26. TRUE\n",
       "27. TRUE\n",
       "28. TRUE\n",
       "\n",
       "\n"
      ],
      "text/plain": [
       "[[1]]\n",
       "[1] TRUE\n",
       "\n",
       "[[2]]\n",
       "[1] TRUE\n",
       "\n",
       "[[3]]\n",
       "[1] TRUE\n",
       "\n",
       "[[4]]\n",
       "[1] TRUE\n",
       "\n",
       "[[5]]\n",
       "[1] TRUE\n",
       "\n",
       "[[6]]\n",
       "[1] TRUE\n",
       "\n",
       "[[7]]\n",
       "[1] TRUE\n",
       "\n",
       "[[8]]\n",
       "[1] TRUE\n",
       "\n",
       "[[9]]\n",
       "[1] TRUE\n",
       "\n",
       "[[10]]\n",
       "[1] TRUE\n",
       "\n",
       "[[11]]\n",
       "[1] TRUE\n",
       "\n",
       "[[12]]\n",
       "[1] TRUE\n",
       "\n",
       "[[13]]\n",
       "[1] TRUE\n",
       "\n",
       "[[14]]\n",
       "[1] TRUE\n",
       "\n",
       "[[15]]\n",
       "[1] TRUE\n",
       "\n",
       "[[16]]\n",
       "[1] TRUE\n",
       "\n",
       "[[17]]\n",
       "[1] TRUE\n",
       "\n",
       "[[18]]\n",
       "[1] TRUE\n",
       "\n",
       "[[19]]\n",
       "[1] TRUE\n",
       "\n",
       "[[20]]\n",
       "[1] TRUE\n",
       "\n",
       "[[21]]\n",
       "[1] TRUE\n",
       "\n",
       "[[22]]\n",
       "[1] TRUE\n",
       "\n",
       "[[23]]\n",
       "[1] TRUE\n",
       "\n",
       "[[24]]\n",
       "[1] TRUE\n",
       "\n",
       "[[25]]\n",
       "[1] TRUE\n",
       "\n",
       "[[26]]\n",
       "[1] TRUE\n",
       "\n",
       "[[27]]\n",
       "[1] TRUE\n",
       "\n",
       "[[28]]\n",
       "[1] TRUE\n"
      ]
     },
     "metadata": {},
     "output_type": "display_data"
    }
   ],
   "source": [
    "#install.packages(\"here\")\n",
    "library(here, help, pos = 2, lib.loc = NULL)\n",
    "source(here('Modules','modules.R'))\n",
    "source(here('Modules','data_cleaning.R'))\n",
    "#install_all_packages()\n",
    "load_library_packages()"
   ]
  },
  {
   "cell_type": "markdown",
   "metadata": {},
   "source": [
    "# Unsupervised Learning"
   ]
  },
  {
   "cell_type": "markdown",
   "metadata": {},
   "source": [
    "Those model needs the one hot encoded version of our data"
   ]
  },
  {
   "cell_type": "code",
   "execution_count": 292,
   "metadata": {},
   "outputs": [],
   "source": [
    "df_copy <- df\n",
    "df_copy[, \"strange_dp\"] <- strange_dp\n",
    "df_copy[, \"strange_p\"] <- strange_p\n",
    "has_tag_depression <- df$TAG == \"1\" | df$depression  == \"1\" \n",
    "df_copy[, \"has_tag_depression\"] <- has_tag_depression\n",
    "dummy <- dummyVars(\" ~ .\", data=before_dataset)\n",
    "before_encoded_dataset <- data.frame(predict(dummy, newdata = before_dataset)) "
   ]
  },
  {
   "cell_type": "markdown",
   "metadata": {},
   "source": [
    "## PCA"
   ]
  },
  {
   "cell_type": "code",
   "execution_count": 293,
   "metadata": {},
   "outputs": [
    {
     "data": {
      "text/plain": [
       "Importance of components:\n",
       "                           PC1     PC2     PC3     PC4     PC5     PC6     PC7\n",
       "Standard deviation     2.90072 2.28745 2.27099 2.13297 1.95698 1.90873 1.89503\n",
       "Proportion of Variance 0.05884 0.03659 0.03607 0.03182 0.02678 0.02548 0.02511\n",
       "Cumulative Proportion  0.05884 0.09543 0.13150 0.16331 0.19009 0.21557 0.24068\n",
       "                           PC8     PC9    PC10    PC11   PC12    PC13    PC14\n",
       "Standard deviation     1.81437 1.77883 1.74038 1.70459 1.6612 1.64502 1.60818\n",
       "Proportion of Variance 0.02302 0.02213 0.02118 0.02032 0.0193 0.01892 0.01809\n",
       "Cumulative Proportion  0.26370 0.28583 0.30701 0.32733 0.3466 0.36555 0.38364\n",
       "                          PC15    PC16    PC17    PC18    PC19    PC20    PC21\n",
       "Standard deviation     1.58608 1.57239 1.57084 1.54867 1.54488 1.52518 1.49256\n",
       "Proportion of Variance 0.01759 0.01729 0.01726 0.01677 0.01669 0.01627 0.01558\n",
       "Cumulative Proportion  0.40123 0.41852 0.43578 0.45255 0.46924 0.48551 0.50108\n",
       "                          PC22    PC23    PC24    PC25    PC26    PC27    PC28\n",
       "Standard deviation     1.48509 1.46910 1.46383 1.44638 1.42461 1.41311 1.41041\n",
       "Proportion of Variance 0.01542 0.01509 0.01498 0.01463 0.01419 0.01396 0.01391\n",
       "Cumulative Proportion  0.51651 0.53160 0.54658 0.56121 0.57541 0.58937 0.60328\n",
       "                          PC29    PC30    PC31   PC32    PC33    PC34    PC35\n",
       "Standard deviation     1.40005 1.39621 1.37108 1.3633 1.33250 1.32930 1.31672\n",
       "Proportion of Variance 0.01371 0.01363 0.01315 0.0130 0.01242 0.01236 0.01212\n",
       "Cumulative Proportion  0.61699 0.63062 0.64377 0.6568 0.66918 0.68154 0.69366\n",
       "                          PC36    PC37    PC38   PC39    PC40    PC41   PC42\n",
       "Standard deviation     1.29993 1.29467 1.28448 1.2767 1.25233 1.24094 1.2256\n",
       "Proportion of Variance 0.01182 0.01172 0.01154 0.0114 0.01097 0.01077 0.0105\n",
       "Cumulative Proportion  0.70548 0.71720 0.72874 0.7401 0.75110 0.76187 0.7724\n",
       "                          PC43    PC44    PC45    PC46    PC47   PC48    PC49\n",
       "Standard deviation     1.21986 1.20950 1.19146 1.17705 1.17483 1.1593 1.15386\n",
       "Proportion of Variance 0.01041 0.01023 0.00993 0.00969 0.00965 0.0094 0.00931\n",
       "Cumulative Proportion  0.78278 0.79301 0.80294 0.81263 0.82228 0.8317 0.84099\n",
       "                          PC50    PC51    PC52    PC53    PC54    PC55    PC56\n",
       "Standard deviation     1.15073 1.13353 1.12429 1.11416 1.09551 1.07857 1.07403\n",
       "Proportion of Variance 0.00926 0.00899 0.00884 0.00868 0.00839 0.00813 0.00807\n",
       "Cumulative Proportion  0.85025 0.85923 0.86807 0.87675 0.88515 0.89328 0.90135\n",
       "                          PC57    PC58    PC59    PC60    PC61    PC62    PC63\n",
       "Standard deviation     1.04862 1.03121 0.98916 0.98733 0.97472 0.95797 0.94233\n",
       "Proportion of Variance 0.00769 0.00744 0.00684 0.00682 0.00664 0.00642 0.00621\n",
       "Cumulative Proportion  0.90904 0.91647 0.92332 0.93013 0.93678 0.94319 0.94940\n",
       "                         PC64    PC65    PC66   PC67    PC68    PC69    PC70\n",
       "Standard deviation     0.9339 0.92064 0.89968 0.8785 0.86345 0.81344 0.75085\n",
       "Proportion of Variance 0.0061 0.00593 0.00566 0.0054 0.00521 0.00463 0.00394\n",
       "Cumulative Proportion  0.9555 0.96143 0.96709 0.9725 0.97770 0.98233 0.98627\n",
       "                          PC71    PC72    PC73    PC74    PC75    PC76    PC77\n",
       "Standard deviation     0.69528 0.60027 0.58676 0.54088 0.50222 0.45309 0.15839\n",
       "Proportion of Variance 0.00338 0.00252 0.00241 0.00205 0.00176 0.00144 0.00018\n",
       "Cumulative Proportion  0.98965 0.99217 0.99458 0.99663 0.99839 0.99982 1.00000\n",
       "                            PC78      PC79      PC80     PC81      PC82\n",
       "Standard deviation     9.223e-15 4.419e-15 3.431e-15 3.37e-15 2.703e-15\n",
       "Proportion of Variance 0.000e+00 0.000e+00 0.000e+00 0.00e+00 0.000e+00\n",
       "Cumulative Proportion  1.000e+00 1.000e+00 1.000e+00 1.00e+00 1.000e+00\n",
       "                           PC83      PC84      PC85      PC86      PC87\n",
       "Standard deviation     2.67e-15 2.395e-15 2.309e-15 2.109e-15 1.776e-15\n",
       "Proportion of Variance 0.00e+00 0.000e+00 0.000e+00 0.000e+00 0.000e+00\n",
       "Cumulative Proportion  1.00e+00 1.000e+00 1.000e+00 1.000e+00 1.000e+00\n",
       "                            PC88      PC89      PC90      PC91     PC92\n",
       "Standard deviation     1.716e-15 1.677e-15 1.558e-15 1.506e-15 1.49e-15\n",
       "Proportion of Variance 0.000e+00 0.000e+00 0.000e+00 0.000e+00 0.00e+00\n",
       "Cumulative Proportion  1.000e+00 1.000e+00 1.000e+00 1.000e+00 1.00e+00\n",
       "                            PC93      PC94      PC95      PC96      PC97\n",
       "Standard deviation     1.441e-15 1.436e-15 1.327e-15 1.256e-15 1.232e-15\n",
       "Proportion of Variance 0.000e+00 0.000e+00 0.000e+00 0.000e+00 0.000e+00\n",
       "Cumulative Proportion  1.000e+00 1.000e+00 1.000e+00 1.000e+00 1.000e+00\n",
       "                            PC98      PC99     PC100     PC101     PC102\n",
       "Standard deviation     1.232e-15 1.172e-15 1.151e-15 1.127e-15 1.106e-15\n",
       "Proportion of Variance 0.000e+00 0.000e+00 0.000e+00 0.000e+00 0.000e+00\n",
       "Cumulative Proportion  1.000e+00 1.000e+00 1.000e+00 1.000e+00 1.000e+00\n",
       "                           PC103     PC104     PC105     PC106     PC107\n",
       "Standard deviation     1.075e-15 1.006e-15 9.974e-16 9.533e-16 9.222e-16\n",
       "Proportion of Variance 0.000e+00 0.000e+00 0.000e+00 0.000e+00 0.000e+00\n",
       "Cumulative Proportion  1.000e+00 1.000e+00 1.000e+00 1.000e+00 1.000e+00\n",
       "                           PC108     PC109     PC110     PC111     PC112\n",
       "Standard deviation     8.445e-16 8.422e-16 8.349e-16 8.118e-16 7.642e-16\n",
       "Proportion of Variance 0.000e+00 0.000e+00 0.000e+00 0.000e+00 0.000e+00\n",
       "Cumulative Proportion  1.000e+00 1.000e+00 1.000e+00 1.000e+00 1.000e+00\n",
       "                          PC113     PC114     PC115    PC116     PC117\n",
       "Standard deviation     7.25e-16 6.903e-16 6.761e-16 6.45e-16 6.244e-16\n",
       "Proportion of Variance 0.00e+00 0.000e+00 0.000e+00 0.00e+00 0.000e+00\n",
       "Cumulative Proportion  1.00e+00 1.000e+00 1.000e+00 1.00e+00 1.000e+00\n",
       "                           PC118     PC119     PC120     PC121    PC122\n",
       "Standard deviation     5.829e-16 5.793e-16 5.747e-16 5.441e-16 5.11e-16\n",
       "Proportion of Variance 0.000e+00 0.000e+00 0.000e+00 0.000e+00 0.00e+00\n",
       "Cumulative Proportion  1.000e+00 1.000e+00 1.000e+00 1.000e+00 1.00e+00\n",
       "                          PC123     PC124     PC125     PC126    PC127\n",
       "Standard deviation     5.02e-16 4.682e-16 4.596e-16 4.074e-16 3.81e-16\n",
       "Proportion of Variance 0.00e+00 0.000e+00 0.000e+00 0.000e+00 0.00e+00\n",
       "Cumulative Proportion  1.00e+00 1.000e+00 1.000e+00 1.000e+00 1.00e+00\n",
       "                           PC128     PC129    PC130    PC131     PC132\n",
       "Standard deviation     3.809e-16 3.757e-16 3.73e-16 3.61e-16 3.414e-16\n",
       "Proportion of Variance 0.000e+00 0.000e+00 0.00e+00 0.00e+00 0.000e+00\n",
       "Cumulative Proportion  1.000e+00 1.000e+00 1.00e+00 1.00e+00 1.000e+00\n",
       "                           PC133     PC134     PC135     PC136     PC137\n",
       "Standard deviation     3.256e-16 2.932e-16 2.832e-16 2.635e-16 2.295e-16\n",
       "Proportion of Variance 0.000e+00 0.000e+00 0.000e+00 0.000e+00 0.000e+00\n",
       "Cumulative Proportion  1.000e+00 1.000e+00 1.000e+00 1.000e+00 1.000e+00\n",
       "                           PC138     PC139     PC140     PC141     PC142\n",
       "Standard deviation     1.788e-16 1.673e-16 1.643e-16 1.321e-16 2.886e-17\n",
       "Proportion of Variance 0.000e+00 0.000e+00 0.000e+00 0.000e+00 0.000e+00\n",
       "Cumulative Proportion  1.000e+00 1.000e+00 1.000e+00 1.000e+00 1.000e+00\n",
       "                           PC143\n",
       "Standard deviation     1.721e-17\n",
       "Proportion of Variance 0.000e+00\n",
       "Cumulative Proportion  1.000e+00"
      ]
     },
     "metadata": {},
     "output_type": "display_data"
    }
   ],
   "source": [
    "before_encoded_dataset.pca <- prcomp(before_encoded_dataset , center = TRUE,scale. = TRUE)\n",
    "summary(before_encoded_dataset.pca) "
   ]
  },
  {
   "cell_type": "markdown",
   "metadata": {},
   "source": [
    "Seems that PC1 and PC2 do not explain much about out that variance. TSNE could be a better solution"
   ]
  },
  {
   "cell_type": "markdown",
   "metadata": {},
   "source": [
    "### Colouring exercise practice before the pandemic"
   ]
  },
  {
   "cell_type": "code",
   "execution_count": 294,
   "metadata": {},
   "outputs": [
    {
     "data": {
      "image/png": "[encoded data removed]",
      "text/plain": [
       "plot without title"
      ]
     },
     "metadata": {
      "image/png": {
       "height": 420,
       "width": 420
      }
     },
     "output_type": "display_data"
    }
   ],
   "source": [
    "autoplot(before_encoded_dataset.pca, colour=\"PA_practice_before\", data=before_dataset)"
   ]
  },
  {
   "cell_type": "markdown",
   "metadata": {},
   "source": [
    "## TSNE"
   ]
  },
  {
   "cell_type": "code",
   "execution_count": 295,
   "metadata": {},
   "outputs": [
    {
     "name": "stdout",
     "output_type": "stream",
     "text": [
      "Performing PCA\n",
      "Read the 1242 x 50 data matrix successfully!\n",
      "OpenMP is working. 1 threads.\n",
      "Using no_dims = 2, perplexity = 100.000000, and theta = 0.500000\n",
      "Computing input similarities...\n",
      "Building tree...\n",
      "Done in 0.99 seconds (sparsity = 0.326346)!\n",
      "Learning embedding...\n",
      "Iteration 50: error is 57.596822 (50 iterations in 0.50 seconds)\n",
      "Iteration 100: error is 57.596822 (50 iterations in 0.50 seconds)\n",
      "Iteration 150: error is 57.596822 (50 iterations in 0.62 seconds)\n",
      "Iteration 200: error is 57.596822 (50 iterations in 0.80 seconds)\n",
      "Iteration 250: error is 57.596830 (50 iterations in 0.96 seconds)\n",
      "Iteration 300: error is 2.314829 (50 iterations in 0.79 seconds)\n",
      "Iteration 350: error is 1.307825 (50 iterations in 0.35 seconds)\n",
      "Iteration 400: error is 1.264104 (50 iterations in 0.26 seconds)\n",
      "Iteration 450: error is 1.259163 (50 iterations in 0.24 seconds)\n",
      "Iteration 500: error is 1.254181 (50 iterations in 0.28 seconds)\n",
      "Iteration 550: error is 1.251289 (50 iterations in 0.26 seconds)\n",
      "Iteration 600: error is 1.249738 (50 iterations in 0.25 seconds)\n",
      "Iteration 650: error is 1.247943 (50 iterations in 0.26 seconds)\n",
      "Iteration 700: error is 1.246239 (50 iterations in 0.28 seconds)\n",
      "Iteration 750: error is 1.245424 (50 iterations in 0.27 seconds)\n",
      "Iteration 800: error is 1.244529 (50 iterations in 0.27 seconds)\n",
      "Iteration 850: error is 1.244411 (50 iterations in 0.29 seconds)\n",
      "Iteration 900: error is 1.244227 (50 iterations in 0.28 seconds)\n",
      "Iteration 950: error is 1.243720 (50 iterations in 0.35 seconds)\n",
      "Iteration 1000: error is 1.243327 (50 iterations in 0.29 seconds)\n",
      "Fitting performed in 8.11 seconds.\n"
     ]
    }
   ],
   "source": [
    "set.seed(2)\n",
    "tsne <- Rtsne(before_encoded_dataset, dims = 2, perplexity=100, check_duplicates = FALSE, verbose=TRUE)"
   ]
  },
  {
   "cell_type": "markdown",
   "metadata": {},
   "source": [
    "### Colouring exercise practice before the pandemic"
   ]
  },
  {
   "cell_type": "code",
   "execution_count": 296,
   "metadata": {},
   "outputs": [
    {
     "data": {
      "image/png": "[encoded data removed]",
      "text/plain": [
       "plot without title"
      ]
     },
     "metadata": {
      "image/png": {
       "height": 420,
       "width": 420
      }
     },
     "output_type": "display_data"
    }
   ],
   "source": [
    "metadata <- data.frame(sample_id = rownames(df_copy),\n",
    "                       colour = df_copy$PA_practice_before )\n",
    "\n",
    "\n",
    "main_tsne_df <- data.frame(\n",
    "    x = tsne$Y[,1],\n",
    "    y = tsne$Y[,2],\n",
    "    colour = metadata$colour)\n",
    "\n",
    "tsne_df_centroids <- main_tsne_df\n",
    "# Defining the practice centroid points\n",
    "practice_centroid_x <- mean(tsne_df_centroids[tsne_df_centroids[\"colour\"] == \"practice\", ]$x)\n",
    "practice_centroid_y <- mean(tsne_df_centroids[tsne_df_centroids[\"colour\"] == \"practice\", ]$y)\n",
    "\n",
    "# Defining the dont_practice centroid points\n",
    "dont_practice_centroid_x <- mean(tsne_df_centroids[tsne_df_centroids[\"colour\"] == \"dont_practice\", ]$x)\n",
    "dont_practice_centroid_y <- mean(tsne_df_centroids[tsne_df_centroids[\"colour\"] == \"dont_practice\", ]$y)\n",
    "\n",
    "# Adding centroids to dataset\n",
    "levels(tsne_df_centroids$colour) <- c(levels(tsne_df_centroids$colour), \"centroid_1\", \"centroid_2\")\n",
    "\n",
    "# Plotting the data points\n",
    "tsne_df_centroids[nrow(tsne_df_centroids) + 1, ] <- list(practice_centroid_x, practice_centroid_y, \"centroid_1\")\n",
    "tsne_df_centroids[nrow(tsne_df_centroids) + 1, ] <- list(dont_practice_centroid_x, dont_practice_centroid_y, \"centroid_2\")\n",
    "ggplot(tsne_df_centroids, aes(x, y, colour = colour)) + geom_point()\n"
   ]
  },
  {
   "cell_type": "markdown",
   "metadata": {},
   "source": [
    "### Colouring exercise practice during the pandemic"
   ]
  },
  {
   "cell_type": "code",
   "execution_count": 297,
   "metadata": {},
   "outputs": [
    {
     "data": {
      "image/png": "[encoded data removed]",
      "text/plain": [
       "plot without title"
      ]
     },
     "metadata": {
      "image/png": {
       "height": 420,
       "width": 420
      }
     },
     "output_type": "display_data"
    }
   ],
   "source": [
    "metadata <- data.frame(sample_id = rownames(df_copy),\n",
    "                       colour = df_copy$PA_practice_during )\n",
    "tsne_df <- data.frame(\n",
    "    x = tsne$Y[,1],\n",
    "    y = tsne$Y[,2],\n",
    "    colour = metadata$colour)\n",
    "\n",
    "ggplot(tsne_df, aes(x, y, colour = colour)) + geom_point()"
   ]
  },
  {
   "cell_type": "markdown",
   "metadata": {},
   "source": [
    "Clusters now are not well defined"
   ]
  },
  {
   "cell_type": "markdown",
   "metadata": {},
   "source": [
    "### Strange don't practice"
   ]
  },
  {
   "cell_type": "code",
   "execution_count": 298,
   "metadata": {},
   "outputs": [
    {
     "data": {
      "image/png": "[encoded data removed]",
      "text/plain": [
       "plot without title"
      ]
     },
     "metadata": {
      "image/png": {
       "height": 420,
       "width": 420
      }
     },
     "output_type": "display_data"
    }
   ],
   "source": [
    "metadata <- data.frame(sample_id = rownames(df_copy),\n",
    "                       colour = df_copy$strange_dp)\n",
    "tsne_df <- data.frame(\n",
    "    x = tsne$Y[,1],\n",
    "    y = tsne$Y[,2],\n",
    "    colour = metadata$colour)\n",
    "\n",
    "ggplot(tsne_df, aes(x, y, colour = colour)) + geom_point()"
   ]
  },
  {
   "cell_type": "markdown",
   "metadata": {},
   "source": [
    "### Strange practice"
   ]
  },
  {
   "cell_type": "code",
   "execution_count": 299,
   "metadata": {},
   "outputs": [
    {
     "data": {
      "image/png": "[encoded data removed]",
      "text/plain": [
       "plot without title"
      ]
     },
     "metadata": {
      "image/png": {
       "height": 420,
       "width": 420
      }
     },
     "output_type": "display_data"
    }
   ],
   "source": [
    "metadata <- data.frame(sample_id = rownames(df_copy),\n",
    "                       colour = df_copy$strange_p)\n",
    "tsne_df <- data.frame(\n",
    "    x = tsne$Y[,1],\n",
    "    y = tsne$Y[,2],\n",
    "    colour = metadata$colour)\n",
    "\n",
    "ggplot(tsne_df, aes(x, y, colour = colour)) + geom_point()"
   ]
  },
  {
   "cell_type": "markdown",
   "metadata": {},
   "source": [
    "### Has tag or depression"
   ]
  },
  {
   "cell_type": "code",
   "execution_count": 300,
   "metadata": {},
   "outputs": [
    {
     "data": {
      "image/png": "[encoded data removed]",
      "text/plain": [
       "plot without title"
      ]
     },
     "metadata": {
      "image/png": {
       "height": 420,
       "width": 420
      }
     },
     "output_type": "display_data"
    }
   ],
   "source": [
    "metadata <- data.frame(sample_id = rownames(df_copy),\n",
    "                       colour = df_copy$depression_anxiety)\n",
    "tsne_df <- data.frame(\n",
    "    x = tsne$Y[,1],\n",
    "    y = tsne$Y[,2],\n",
    "    colour = metadata$colour)\n",
    "\n",
    "ggplot(tsne_df, aes(x, y, colour = colour)) + geom_point()"
   ]
  },
  {
   "cell_type": "markdown",
   "metadata": {},
   "source": [
    "## Rejecting the outliers "
   ]
  },
  {
   "cell_type": "markdown",
   "metadata": {},
   "source": [
    "### Finding the distance between centroinds and outliers "
   ]
  },
  {
   "cell_type": "code",
   "execution_count": 301,
   "metadata": {},
   "outputs": [
    {
     "data": {
      "text/html": [
       "<table class=\"dataframe\">\n",
       "<caption>A data.frame: 15 × 3</caption>\n",
       "<thead>\n",
       "\t<tr><th scope=col>id</th><th scope=col>d1</th><th scope=col>d2</th></tr>\n",
       "\t<tr><th scope=col>&lt;chr&gt;</th><th scope=col>&lt;dbl&gt;</th><th scope=col>&lt;dbl&gt;</th></tr>\n",
       "</thead>\n",
       "<tbody>\n",
       "\t<tr><td>18 </td><td>10.903040</td><td>1.151440</td></tr>\n",
       "\t<tr><td>32 </td><td>12.733988</td><td>1.663894</td></tr>\n",
       "\t<tr><td>55 </td><td>11.870024</td><td>1.845715</td></tr>\n",
       "\t<tr><td>64 </td><td> 8.542975</td><td>4.421450</td></tr>\n",
       "\t<tr><td>77 </td><td>11.350225</td><td>2.227792</td></tr>\n",
       "\t<tr><td>87 </td><td> 7.453873</td><td>4.294264</td></tr>\n",
       "\t<tr><td>112</td><td> 9.463549</td><td>2.291237</td></tr>\n",
       "\t<tr><td>125</td><td> 8.793654</td><td>2.803827</td></tr>\n",
       "\t<tr><td>128</td><td> 9.279600</td><td>2.713854</td></tr>\n",
       "\t<tr><td>159</td><td> 9.279564</td><td>2.713895</td></tr>\n",
       "\t<tr><td>253</td><td>10.902965</td><td>1.151474</td></tr>\n",
       "\t<tr><td>278</td><td>10.270827</td><td>1.461065</td></tr>\n",
       "\t<tr><td>281</td><td> 8.542741</td><td>4.421342</td></tr>\n",
       "\t<tr><td>616</td><td> 9.279695</td><td>2.713825</td></tr>\n",
       "\t<tr><td>923</td><td>10.903053</td><td>1.151425</td></tr>\n",
       "</tbody>\n",
       "</table>\n"
      ],
      "text/latex": [
       "A data.frame: 15 × 3\n",
       "\\begin{tabular}{lll}\n",
       " id & d1 & d2\\\\\n",
       " <chr> & <dbl> & <dbl>\\\\\n",
       "\\hline\n",
       "\t 18  & 10.903040 & 1.151440\\\\\n",
       "\t 32  & 12.733988 & 1.663894\\\\\n",
       "\t 55  & 11.870024 & 1.845715\\\\\n",
       "\t 64  &  8.542975 & 4.421450\\\\\n",
       "\t 77  & 11.350225 & 2.227792\\\\\n",
       "\t 87  &  7.453873 & 4.294264\\\\\n",
       "\t 112 &  9.463549 & 2.291237\\\\\n",
       "\t 125 &  8.793654 & 2.803827\\\\\n",
       "\t 128 &  9.279600 & 2.713854\\\\\n",
       "\t 159 &  9.279564 & 2.713895\\\\\n",
       "\t 253 & 10.902965 & 1.151474\\\\\n",
       "\t 278 & 10.270827 & 1.461065\\\\\n",
       "\t 281 &  8.542741 & 4.421342\\\\\n",
       "\t 616 &  9.279695 & 2.713825\\\\\n",
       "\t 923 & 10.903053 & 1.151425\\\\\n",
       "\\end{tabular}\n"
      ],
      "text/markdown": [
       "\n",
       "A data.frame: 15 × 3\n",
       "\n",
       "| id &lt;chr&gt; | d1 &lt;dbl&gt; | d2 &lt;dbl&gt; |\n",
       "|---|---|---|\n",
       "| 18  | 10.903040 | 1.151440 |\n",
       "| 32  | 12.733988 | 1.663894 |\n",
       "| 55  | 11.870024 | 1.845715 |\n",
       "| 64  |  8.542975 | 4.421450 |\n",
       "| 77  | 11.350225 | 2.227792 |\n",
       "| 87  |  7.453873 | 4.294264 |\n",
       "| 112 |  9.463549 | 2.291237 |\n",
       "| 125 |  8.793654 | 2.803827 |\n",
       "| 128 |  9.279600 | 2.713854 |\n",
       "| 159 |  9.279564 | 2.713895 |\n",
       "| 253 | 10.902965 | 1.151474 |\n",
       "| 278 | 10.270827 | 1.461065 |\n",
       "| 281 |  8.542741 | 4.421342 |\n",
       "| 616 |  9.279695 | 2.713825 |\n",
       "| 923 | 10.903053 | 1.151425 |\n",
       "\n"
      ],
      "text/plain": [
       "   id  d1        d2      \n",
       "1  18  10.903040 1.151440\n",
       "2  32  12.733988 1.663894\n",
       "3  55  11.870024 1.845715\n",
       "4  64   8.542975 4.421450\n",
       "5  77  11.350225 2.227792\n",
       "6  87   7.453873 4.294264\n",
       "7  112  9.463549 2.291237\n",
       "8  125  8.793654 2.803827\n",
       "9  128  9.279600 2.713854\n",
       "10 159  9.279564 2.713895\n",
       "11 253 10.902965 1.151474\n",
       "12 278 10.270827 1.461065\n",
       "13 281  8.542741 4.421342\n",
       "14 616  9.279695 2.713825\n",
       "15 923 10.903053 1.151425"
      ]
     },
     "metadata": {},
     "output_type": "display_data"
    },
    {
     "data": {
      "text/html": [
       "<table class=\"dataframe\">\n",
       "<caption>A data.frame: 6 × 3</caption>\n",
       "<thead>\n",
       "\t<tr><th scope=col>id</th><th scope=col>d1</th><th scope=col>d2</th></tr>\n",
       "\t<tr><th scope=col>&lt;chr&gt;</th><th scope=col>&lt;dbl&gt;</th><th scope=col>&lt;dbl&gt;</th></tr>\n",
       "</thead>\n",
       "<tbody>\n",
       "\t<tr><td>96  </td><td> 7.514671</td><td>5.305998</td></tr>\n",
       "\t<tr><td>245 </td><td>10.749262</td><td>3.231983</td></tr>\n",
       "\t<tr><td>270 </td><td> 7.879108</td><td>9.252380</td></tr>\n",
       "\t<tr><td>369 </td><td> 7.225859</td><td>4.828075</td></tr>\n",
       "\t<tr><td>429 </td><td> 6.310171</td><td>6.549476</td></tr>\n",
       "\t<tr><td>1117</td><td>11.524174</td><td>3.485959</td></tr>\n",
       "</tbody>\n",
       "</table>\n"
      ],
      "text/latex": [
       "A data.frame: 6 × 3\n",
       "\\begin{tabular}{lll}\n",
       " id & d1 & d2\\\\\n",
       " <chr> & <dbl> & <dbl>\\\\\n",
       "\\hline\n",
       "\t 96   &  7.514671 & 5.305998\\\\\n",
       "\t 245  & 10.749262 & 3.231983\\\\\n",
       "\t 270  &  7.879108 & 9.252380\\\\\n",
       "\t 369  &  7.225859 & 4.828075\\\\\n",
       "\t 429  &  6.310171 & 6.549476\\\\\n",
       "\t 1117 & 11.524174 & 3.485959\\\\\n",
       "\\end{tabular}\n"
      ],
      "text/markdown": [
       "\n",
       "A data.frame: 6 × 3\n",
       "\n",
       "| id &lt;chr&gt; | d1 &lt;dbl&gt; | d2 &lt;dbl&gt; |\n",
       "|---|---|---|\n",
       "| 96   |  7.514671 | 5.305998 |\n",
       "| 245  | 10.749262 | 3.231983 |\n",
       "| 270  |  7.879108 | 9.252380 |\n",
       "| 369  |  7.225859 | 4.828075 |\n",
       "| 429  |  6.310171 | 6.549476 |\n",
       "| 1117 | 11.524174 | 3.485959 |\n",
       "\n"
      ],
      "text/plain": [
       "  id   d1        d2      \n",
       "1 96    7.514671 5.305998\n",
       "2 245  10.749262 3.231983\n",
       "3 270   7.879108 9.252380\n",
       "4 369   7.225859 4.828075\n",
       "5 429   6.310171 6.549476\n",
       "6 1117 11.524174 3.485959"
      ]
     },
     "metadata": {},
     "output_type": "display_data"
    }
   ],
   "source": [
    "distances_sdp <- distance_to_centroids(main_tsne_df, strange_dp, \"practice\", \"dont_practice\")\n",
    "distances_sdp\n",
    "distances_sp <- distance_to_centroids(main_tsne_df, strange_p, \"practice\", \"dont_practice\")\n",
    "distances_sp"
   ]
  },
  {
   "cell_type": "markdown",
   "metadata": {},
   "source": [
    "### Output: PA_during"
   ]
  },
  {
   "cell_type": "markdown",
   "metadata": {},
   "source": [
    "#### Outlier: Strange Dont Practice"
   ]
  },
  {
   "cell_type": "code",
   "execution_count": 302,
   "metadata": {},
   "outputs": [],
   "source": [
    "pa_dataset_copy <- pa_dataset\n",
    "pa_dataset_copy[\"outlier\"] <- strange_dp\n",
    "outliers_result <- outliers_checker(distances_sdp, pa_dataset_copy, \"PA_practice_during\")"
   ]
  },
  {
   "cell_type": "code",
   "execution_count": 303,
   "metadata": {},
   "outputs": [
    {
     "data": {
      "image/png": "[encoded data removed]",
      "text/plain": [
       "plot without title"
      ]
     },
     "metadata": {
      "image/png": {
       "height": 420,
       "width": 420
      }
     },
     "output_type": "display_data"
    }
   ],
   "source": [
    "plot <- outliers_result$kappa_x_alpha\n",
    "ggplot(plot, aes(plot[, \"alpha\"], plot[, \"kappa\"] )) + geom_point()"
   ]
  },
  {
   "cell_type": "code",
   "execution_count": 304,
   "metadata": {},
   "outputs": [
    {
     "data": {
      "text/html": [
       "<style>\n",
       ".list-inline {list-style: none; margin:0; padding: 0}\n",
       ".list-inline>li {display: inline-block}\n",
       ".list-inline>li:not(:last-child)::after {content: \"\\00b7\"; padding: 0 .5ex}\n",
       "</style>\n",
       "<ol class=list-inline><li>1242</li><li>74</li></ol>\n"
      ],
      "text/latex": [
       "\\begin{enumerate*}\n",
       "\\item 1242\n",
       "\\item 74\n",
       "\\end{enumerate*}\n"
      ],
      "text/markdown": [
       "1. 1242\n",
       "2. 74\n",
       "\n",
       "\n"
      ],
      "text/plain": [
       "[1] 1242   74"
      ]
     },
     "metadata": {},
     "output_type": "display_data"
    },
    {
     "data": {
      "text/html": [
       "<style>\n",
       ".list-inline {list-style: none; margin:0; padding: 0}\n",
       ".list-inline>li {display: inline-block}\n",
       ".list-inline>li:not(:last-child)::after {content: \"\\00b7\"; padding: 0 .5ex}\n",
       "</style>\n",
       "<ol class=list-inline><li>1241</li><li>74</li></ol>\n"
      ],
      "text/latex": [
       "\\begin{enumerate*}\n",
       "\\item 1241\n",
       "\\item 74\n",
       "\\end{enumerate*}\n"
      ],
      "text/markdown": [
       "1. 1241\n",
       "2. 74\n",
       "\n",
       "\n"
      ],
      "text/plain": [
       "[1] 1241   74"
      ]
     },
     "metadata": {},
     "output_type": "display_data"
    }
   ],
   "source": [
    "dim(pa_dataset)\n",
    "dim(pa_dataset[outliers_result$best_model$remaining_data, ])\n",
    "pa_dataset <- pa_dataset[outliers_result$best_model$remaining_data, ]"
   ]
  },
  {
   "cell_type": "markdown",
   "metadata": {},
   "source": [
    "#### Outlier: Strange Practice"
   ]
  },
  {
   "cell_type": "code",
   "execution_count": 305,
   "metadata": {},
   "outputs": [],
   "source": [
    "pa_dataset_copy <- pa_dataset\n",
    "pa_dataset_copy[\"outlier\"] <- strange_p[as.numeric(outliers_result$best_model$remaining_data)]\n",
    "outliers_result <- outliers_checker(distances_sp, pa_dataset_copy, \"PA_practice_during\")"
   ]
  },
  {
   "cell_type": "code",
   "execution_count": 306,
   "metadata": {},
   "outputs": [
    {
     "data": {
      "image/png": "[encoded data removed]",
      "text/plain": [
       "plot without title"
      ]
     },
     "metadata": {
      "image/png": {
       "height": 420,
       "width": 420
      }
     },
     "output_type": "display_data"
    }
   ],
   "source": [
    "plot <- outliers_result$kappa_x_alpha\n",
    "ggplot(plot, aes(plot[, \"alpha\"], plot[, \"kappa\"] )) + geom_point()"
   ]
  },
  {
   "cell_type": "code",
   "execution_count": 307,
   "metadata": {},
   "outputs": [
    {
     "data": {
      "text/html": [
       "<style>\n",
       ".list-inline {list-style: none; margin:0; padding: 0}\n",
       ".list-inline>li {display: inline-block}\n",
       ".list-inline>li:not(:last-child)::after {content: \"\\00b7\"; padding: 0 .5ex}\n",
       "</style>\n",
       "<ol class=list-inline><li>1241</li><li>74</li></ol>\n"
      ],
      "text/latex": [
       "\\begin{enumerate*}\n",
       "\\item 1241\n",
       "\\item 74\n",
       "\\end{enumerate*}\n"
      ],
      "text/markdown": [
       "1. 1241\n",
       "2. 74\n",
       "\n",
       "\n"
      ],
      "text/plain": [
       "[1] 1241   74"
      ]
     },
     "metadata": {},
     "output_type": "display_data"
    },
    {
     "data": {
      "text/html": [
       "<style>\n",
       ".list-inline {list-style: none; margin:0; padding: 0}\n",
       ".list-inline>li {display: inline-block}\n",
       ".list-inline>li:not(:last-child)::after {content: \"\\00b7\"; padding: 0 .5ex}\n",
       "</style>\n",
       "<ol class=list-inline><li>1241</li><li>74</li></ol>\n"
      ],
      "text/latex": [
       "\\begin{enumerate*}\n",
       "\\item 1241\n",
       "\\item 74\n",
       "\\end{enumerate*}\n"
      ],
      "text/markdown": [
       "1. 1241\n",
       "2. 74\n",
       "\n",
       "\n"
      ],
      "text/plain": [
       "[1] 1241   74"
      ]
     },
     "metadata": {},
     "output_type": "display_data"
    }
   ],
   "source": [
    "dim(pa_dataset)\n",
    "dim(pa_dataset[outliers_result$best_model$remaining_data, ])\n",
    "pa_dataset <- pa_dataset[outliers_result$best_model$remaining_data, ]"
   ]
  },
  {
   "cell_type": "markdown",
   "metadata": {},
   "source": [
    "### Output Sedentary Time"
   ]
  },
  {
   "cell_type": "markdown",
   "metadata": {},
   "source": [
    "#### Outlier: Strange Dont Practice"
   ]
  },
  {
   "cell_type": "code",
   "execution_count": 308,
   "metadata": {},
   "outputs": [],
   "source": [
    "sedentery_dataset_copy <- sedentary_dataset\n",
    "sedentery_dataset_copy[\"outlier\"] <- strange_dp\n",
    "outliers_result <- outliers_checker(distances_sdp, sedentery_dataset_copy, \"sedentary_time_range_during\")"
   ]
  },
  {
   "cell_type": "code",
   "execution_count": 309,
   "metadata": {},
   "outputs": [
    {
     "data": {
      "image/png": "[encoded data removed]",
      "text/plain": [
       "plot without title"
      ]
     },
     "metadata": {
      "image/png": {
       "height": 420,
       "width": 420
      }
     },
     "output_type": "display_data"
    }
   ],
   "source": [
    "plot <- outliers_result$kappa_x_alpha\n",
    "\n",
    "ggplot(plot, aes(plot[, \"alpha\"], plot[, \"kappa\"] )) + geom_point()"
   ]
  },
  {
   "cell_type": "code",
   "execution_count": 310,
   "metadata": {},
   "outputs": [
    {
     "data": {
      "text/html": [
       "<style>\n",
       ".list-inline {list-style: none; margin:0; padding: 0}\n",
       ".list-inline>li {display: inline-block}\n",
       ".list-inline>li:not(:last-child)::after {content: \"\\00b7\"; padding: 0 .5ex}\n",
       "</style>\n",
       "<ol class=list-inline><li>1242</li><li>74</li></ol>\n"
      ],
      "text/latex": [
       "\\begin{enumerate*}\n",
       "\\item 1242\n",
       "\\item 74\n",
       "\\end{enumerate*}\n"
      ],
      "text/markdown": [
       "1. 1242\n",
       "2. 74\n",
       "\n",
       "\n"
      ],
      "text/plain": [
       "[1] 1242   74"
      ]
     },
     "metadata": {},
     "output_type": "display_data"
    },
    {
     "data": {
      "text/html": [
       "<style>\n",
       ".list-inline {list-style: none; margin:0; padding: 0}\n",
       ".list-inline>li {display: inline-block}\n",
       ".list-inline>li:not(:last-child)::after {content: \"\\00b7\"; padding: 0 .5ex}\n",
       "</style>\n",
       "<ol class=list-inline><li>1242</li><li>74</li></ol>\n"
      ],
      "text/latex": [
       "\\begin{enumerate*}\n",
       "\\item 1242\n",
       "\\item 74\n",
       "\\end{enumerate*}\n"
      ],
      "text/markdown": [
       "1. 1242\n",
       "2. 74\n",
       "\n",
       "\n"
      ],
      "text/plain": [
       "[1] 1242   74"
      ]
     },
     "metadata": {},
     "output_type": "display_data"
    }
   ],
   "source": [
    "dim(sedentary_dataset)\n",
    "dim(sedentary_dataset[outliers_result$best_model$remaining_data, ])"
   ]
  },
  {
   "cell_type": "markdown",
   "metadata": {},
   "source": [
    "#### Outlier: Strange Practice"
   ]
  },
  {
   "cell_type": "code",
   "execution_count": 311,
   "metadata": {},
   "outputs": [],
   "source": [
    "sedentary_dataset_copy <- sedentary_dataset\n",
    "sedentary_dataset_copy[\"outlier\"] <- strange_p\n",
    "outliers_result <- outliers_checker(distances_sp, sedentary_dataset_copy, \"sedentary_time_range_during\")"
   ]
  },
  {
   "cell_type": "code",
   "execution_count": 312,
   "metadata": {},
   "outputs": [
    {
     "data": {
      "image/png": "[encoded data removed]",
      "text/plain": [
       "plot without title"
      ]
     },
     "metadata": {
      "image/png": {
       "height": 420,
       "width": 420
      }
     },
     "output_type": "display_data"
    }
   ],
   "source": [
    "plot <- outliers_result$kappa_x_alpha\n",
    "ggplot(plot, aes(plot[, \"alpha\"], plot[, \"kappa\"] )) + geom_point()"
   ]
  },
  {
   "cell_type": "code",
   "execution_count": 313,
   "metadata": {},
   "outputs": [
    {
     "data": {
      "text/html": [
       "<style>\n",
       ".list-inline {list-style: none; margin:0; padding: 0}\n",
       ".list-inline>li {display: inline-block}\n",
       ".list-inline>li:not(:last-child)::after {content: \"\\00b7\"; padding: 0 .5ex}\n",
       "</style>\n",
       "<ol class=list-inline><li>1242</li><li>74</li></ol>\n"
      ],
      "text/latex": [
       "\\begin{enumerate*}\n",
       "\\item 1242\n",
       "\\item 74\n",
       "\\end{enumerate*}\n"
      ],
      "text/markdown": [
       "1. 1242\n",
       "2. 74\n",
       "\n",
       "\n"
      ],
      "text/plain": [
       "[1] 1242   74"
      ]
     },
     "metadata": {},
     "output_type": "display_data"
    },
    {
     "data": {
      "text/html": [
       "<style>\n",
       ".list-inline {list-style: none; margin:0; padding: 0}\n",
       ".list-inline>li {display: inline-block}\n",
       ".list-inline>li:not(:last-child)::after {content: \"\\00b7\"; padding: 0 .5ex}\n",
       "</style>\n",
       "<ol class=list-inline><li>1242</li><li>74</li></ol>\n"
      ],
      "text/latex": [
       "\\begin{enumerate*}\n",
       "\\item 1242\n",
       "\\item 74\n",
       "\\end{enumerate*}\n"
      ],
      "text/markdown": [
       "1. 1242\n",
       "2. 74\n",
       "\n",
       "\n"
      ],
      "text/plain": [
       "[1] 1242   74"
      ]
     },
     "metadata": {},
     "output_type": "display_data"
    }
   ],
   "source": [
    "dim(sedentary_dataset)\n",
    "dim(sedentary_dataset[outliers_result$best_model$remaining_data, ])\n",
    "sedentary_dataset <- sedentary_dataset[outliers_result$best_model$remaining_data, ]"
   ]
  },
  {
   "cell_type": "markdown",
   "metadata": {},
   "source": [
    "### Output: PA_behavior"
   ]
  },
  {
   "cell_type": "markdown",
   "metadata": {},
   "source": [
    "#### Outlier: Strange Dont Practice"
   ]
  },
  {
   "cell_type": "code",
   "execution_count": 317,
   "metadata": {},
   "outputs": [],
   "source": [
    "pa_behavior_dataset_copy <- pa_behavior_dataset\n",
    "pa_behavior_dataset_copy[\"outlier\"] <- strange_dp\n",
    "outliers_result <- outliers_checker(distances_sdp, pa_behavior_dataset_copy, \"pa_behavior\")"
   ]
  },
  {
   "cell_type": "code",
   "execution_count": 318,
   "metadata": {},
   "outputs": [
    {
     "data": {
      "image/png": "[encoded data removed]",
      "text/plain": [
       "plot without title"
      ]
     },
     "metadata": {
      "image/png": {
       "height": 420,
       "width": 420
      }
     },
     "output_type": "display_data"
    }
   ],
   "source": [
    "plot <- outliers_result$kappa_x_alpha\n",
    "ggplot(plot, aes(plot[, \"alpha\"], plot[, \"kappa\"] )) + geom_point()"
   ]
  },
  {
   "cell_type": "code",
   "execution_count": 319,
   "metadata": {},
   "outputs": [
    {
     "data": {
      "text/html": [
       "<style>\n",
       ".list-inline {list-style: none; margin:0; padding: 0}\n",
       ".list-inline>li {display: inline-block}\n",
       ".list-inline>li:not(:last-child)::after {content: \"\\00b7\"; padding: 0 .5ex}\n",
       "</style>\n",
       "<ol class=list-inline><li>1242</li><li>73</li></ol>\n"
      ],
      "text/latex": [
       "\\begin{enumerate*}\n",
       "\\item 1242\n",
       "\\item 73\n",
       "\\end{enumerate*}\n"
      ],
      "text/markdown": [
       "1. 1242\n",
       "2. 73\n",
       "\n",
       "\n"
      ],
      "text/plain": [
       "[1] 1242   73"
      ]
     },
     "metadata": {},
     "output_type": "display_data"
    },
    {
     "data": {
      "text/html": [
       "<style>\n",
       ".list-inline {list-style: none; margin:0; padding: 0}\n",
       ".list-inline>li {display: inline-block}\n",
       ".list-inline>li:not(:last-child)::after {content: \"\\00b7\"; padding: 0 .5ex}\n",
       "</style>\n",
       "<ol class=list-inline><li>1236</li><li>73</li></ol>\n"
      ],
      "text/latex": [
       "\\begin{enumerate*}\n",
       "\\item 1236\n",
       "\\item 73\n",
       "\\end{enumerate*}\n"
      ],
      "text/markdown": [
       "1. 1236\n",
       "2. 73\n",
       "\n",
       "\n"
      ],
      "text/plain": [
       "[1] 1236   73"
      ]
     },
     "metadata": {},
     "output_type": "display_data"
    }
   ],
   "source": [
    "dim(pa_behavior_dataset)\n",
    "dim(pa_behavior_dataset[outliers_result$best_model$remaining_data, ])\n",
    "pa_behavior_dataset <- pa_behavior_dataset[outliers_result$best_model$remaining_data, ]"
   ]
  },
  {
   "cell_type": "markdown",
   "metadata": {},
   "source": [
    "#### Outlier: Strange Practice"
   ]
  },
  {
   "cell_type": "code",
   "execution_count": 320,
   "metadata": {},
   "outputs": [],
   "source": [
    "pa_behavior_dataset_copy <- pa_behavior_dataset\n",
    "pa_behavior_dataset_copy[\"outlier\"] <- strange_p[as.numeric(outliers_result$best_model$remaining_data)]\n",
    "outliers_result <- outliers_checker(distances_sp, pa_behavior_dataset_copy, \"pa_behavior\")"
   ]
  },
  {
   "cell_type": "code",
   "execution_count": 321,
   "metadata": {},
   "outputs": [
    {
     "data": {
      "image/png": "[encoded data removed]",
      "text/plain": [
       "plot without title"
      ]
     },
     "metadata": {
      "image/png": {
       "height": 420,
       "width": 420
      }
     },
     "output_type": "display_data"
    }
   ],
   "source": [
    "plot <- outliers_result$kappa_x_alpha\n",
    "ggplot(plot, aes(plot[, \"alpha\"], plot[, \"kappa\"] )) + geom_point()"
   ]
  },
  {
   "cell_type": "code",
   "execution_count": 322,
   "metadata": {},
   "outputs": [
    {
     "data": {
      "text/html": [
       "<style>\n",
       ".list-inline {list-style: none; margin:0; padding: 0}\n",
       ".list-inline>li {display: inline-block}\n",
       ".list-inline>li:not(:last-child)::after {content: \"\\00b7\"; padding: 0 .5ex}\n",
       "</style>\n",
       "<ol class=list-inline><li>1236</li><li>73</li></ol>\n"
      ],
      "text/latex": [
       "\\begin{enumerate*}\n",
       "\\item 1236\n",
       "\\item 73\n",
       "\\end{enumerate*}\n"
      ],
      "text/markdown": [
       "1. 1236\n",
       "2. 73\n",
       "\n",
       "\n"
      ],
      "text/plain": [
       "[1] 1236   73"
      ]
     },
     "metadata": {},
     "output_type": "display_data"
    },
    {
     "data": {
      "text/html": [
       "<style>\n",
       ".list-inline {list-style: none; margin:0; padding: 0}\n",
       ".list-inline>li {display: inline-block}\n",
       ".list-inline>li:not(:last-child)::after {content: \"\\00b7\"; padding: 0 .5ex}\n",
       "</style>\n",
       "<ol class=list-inline><li>1235</li><li>73</li></ol>\n"
      ],
      "text/latex": [
       "\\begin{enumerate*}\n",
       "\\item 1235\n",
       "\\item 73\n",
       "\\end{enumerate*}\n"
      ],
      "text/markdown": [
       "1. 1235\n",
       "2. 73\n",
       "\n",
       "\n"
      ],
      "text/plain": [
       "[1] 1235   73"
      ]
     },
     "metadata": {},
     "output_type": "display_data"
    }
   ],
   "source": [
    "dim(pa_behavior_dataset)\n",
    "dim(pa_behavior_dataset[outliers_result$best_model$remaining_data, ])\n",
    "pa_behavior_dataset <- pa_behavior_dataset[outliers_result$best_model$remaining_data, ]"
   ]
  }
 ],
 "metadata": {
  "kernelspec": {
   "display_name": "R",
   "language": "R",
   "name": "ir"
  },
  "language_info": {
   "codemirror_mode": "r",
   "file_extension": ".r",
   "mimetype": "text/x-r-source",
   "name": "R",
   "pygments_lexer": "r",
   "version": "4.1.0"
  },
  "orig_nbformat": 4
 },
 "nbformat": 4,
 "nbformat_minor": 2
}
