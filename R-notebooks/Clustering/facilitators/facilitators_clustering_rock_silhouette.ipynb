{
 "cells": [
  {
   "cell_type": "markdown",
   "metadata": {},
   "source": [
    "## Importing packages"
   ]
  },
  {
   "cell_type": "code",
   "execution_count": 18,
   "metadata": {
    "vscode": {
     "languageId": "r"
    }
   },
   "outputs": [
    {
     "data": {
      "text/html": [
       "<ol>\n",
       "\t<li>TRUE</li>\n",
       "\t<li>TRUE</li>\n",
       "\t<li>TRUE</li>\n",
       "\t<li>TRUE</li>\n",
       "\t<li>TRUE</li>\n",
       "\t<li>TRUE</li>\n",
       "\t<li>TRUE</li>\n",
       "\t<li>TRUE</li>\n",
       "\t<li>TRUE</li>\n",
       "\t<li>TRUE</li>\n",
       "\t<li>TRUE</li>\n",
       "\t<li>TRUE</li>\n",
       "\t<li>TRUE</li>\n",
       "\t<li>TRUE</li>\n",
       "\t<li>TRUE</li>\n",
       "\t<li>TRUE</li>\n",
       "\t<li>TRUE</li>\n",
       "\t<li>TRUE</li>\n",
       "\t<li>TRUE</li>\n",
       "\t<li>TRUE</li>\n",
       "\t<li>TRUE</li>\n",
       "\t<li>TRUE</li>\n",
       "\t<li>TRUE</li>\n",
       "\t<li>TRUE</li>\n",
       "\t<li>TRUE</li>\n",
       "\t<li>TRUE</li>\n",
       "\t<li>TRUE</li>\n",
       "\t<li>TRUE</li>\n",
       "\t<li>TRUE</li>\n",
       "\t<li>TRUE</li>\n",
       "\t<li>TRUE</li>\n",
       "\t<li>TRUE</li>\n",
       "\t<li>TRUE</li>\n",
       "\t<li>TRUE</li>\n",
       "\t<li>TRUE</li>\n",
       "\t<li>TRUE</li>\n",
       "\t<li>TRUE</li>\n",
       "\t<li>TRUE</li>\n",
       "\t<li>TRUE</li>\n",
       "\t<li>TRUE</li>\n",
       "\t<li>TRUE</li>\n",
       "</ol>\n"
      ],
      "text/latex": [
       "\\begin{enumerate}\n",
       "\\item TRUE\n",
       "\\item TRUE\n",
       "\\item TRUE\n",
       "\\item TRUE\n",
       "\\item TRUE\n",
       "\\item TRUE\n",
       "\\item TRUE\n",
       "\\item TRUE\n",
       "\\item TRUE\n",
       "\\item TRUE\n",
       "\\item TRUE\n",
       "\\item TRUE\n",
       "\\item TRUE\n",
       "\\item TRUE\n",
       "\\item TRUE\n",
       "\\item TRUE\n",
       "\\item TRUE\n",
       "\\item TRUE\n",
       "\\item TRUE\n",
       "\\item TRUE\n",
       "\\item TRUE\n",
       "\\item TRUE\n",
       "\\item TRUE\n",
       "\\item TRUE\n",
       "\\item TRUE\n",
       "\\item TRUE\n",
       "\\item TRUE\n",
       "\\item TRUE\n",
       "\\item TRUE\n",
       "\\item TRUE\n",
       "\\item TRUE\n",
       "\\item TRUE\n",
       "\\item TRUE\n",
       "\\item TRUE\n",
       "\\item TRUE\n",
       "\\item TRUE\n",
       "\\item TRUE\n",
       "\\item TRUE\n",
       "\\item TRUE\n",
       "\\item TRUE\n",
       "\\item TRUE\n",
       "\\end{enumerate}\n"
      ],
      "text/markdown": [
       "1. TRUE\n",
       "2. TRUE\n",
       "3. TRUE\n",
       "4. TRUE\n",
       "5. TRUE\n",
       "6. TRUE\n",
       "7. TRUE\n",
       "8. TRUE\n",
       "9. TRUE\n",
       "10. TRUE\n",
       "11. TRUE\n",
       "12. TRUE\n",
       "13. TRUE\n",
       "14. TRUE\n",
       "15. TRUE\n",
       "16. TRUE\n",
       "17. TRUE\n",
       "18. TRUE\n",
       "19. TRUE\n",
       "20. TRUE\n",
       "21. TRUE\n",
       "22. TRUE\n",
       "23. TRUE\n",
       "24. TRUE\n",
       "25. TRUE\n",
       "26. TRUE\n",
       "27. TRUE\n",
       "28. TRUE\n",
       "29. TRUE\n",
       "30. TRUE\n",
       "31. TRUE\n",
       "32. TRUE\n",
       "33. TRUE\n",
       "34. TRUE\n",
       "35. TRUE\n",
       "36. TRUE\n",
       "37. TRUE\n",
       "38. TRUE\n",
       "39. TRUE\n",
       "40. TRUE\n",
       "41. TRUE\n",
       "\n",
       "\n"
      ],
      "text/plain": [
       "[[1]]\n",
       "[1] TRUE\n",
       "\n",
       "[[2]]\n",
       "[1] TRUE\n",
       "\n",
       "[[3]]\n",
       "[1] TRUE\n",
       "\n",
       "[[4]]\n",
       "[1] TRUE\n",
       "\n",
       "[[5]]\n",
       "[1] TRUE\n",
       "\n",
       "[[6]]\n",
       "[1] TRUE\n",
       "\n",
       "[[7]]\n",
       "[1] TRUE\n",
       "\n",
       "[[8]]\n",
       "[1] TRUE\n",
       "\n",
       "[[9]]\n",
       "[1] TRUE\n",
       "\n",
       "[[10]]\n",
       "[1] TRUE\n",
       "\n",
       "[[11]]\n",
       "[1] TRUE\n",
       "\n",
       "[[12]]\n",
       "[1] TRUE\n",
       "\n",
       "[[13]]\n",
       "[1] TRUE\n",
       "\n",
       "[[14]]\n",
       "[1] TRUE\n",
       "\n",
       "[[15]]\n",
       "[1] TRUE\n",
       "\n",
       "[[16]]\n",
       "[1] TRUE\n",
       "\n",
       "[[17]]\n",
       "[1] TRUE\n",
       "\n",
       "[[18]]\n",
       "[1] TRUE\n",
       "\n",
       "[[19]]\n",
       "[1] TRUE\n",
       "\n",
       "[[20]]\n",
       "[1] TRUE\n",
       "\n",
       "[[21]]\n",
       "[1] TRUE\n",
       "\n",
       "[[22]]\n",
       "[1] TRUE\n",
       "\n",
       "[[23]]\n",
       "[1] TRUE\n",
       "\n",
       "[[24]]\n",
       "[1] TRUE\n",
       "\n",
       "[[25]]\n",
       "[1] TRUE\n",
       "\n",
       "[[26]]\n",
       "[1] TRUE\n",
       "\n",
       "[[27]]\n",
       "[1] TRUE\n",
       "\n",
       "[[28]]\n",
       "[1] TRUE\n",
       "\n",
       "[[29]]\n",
       "[1] TRUE\n",
       "\n",
       "[[30]]\n",
       "[1] TRUE\n",
       "\n",
       "[[31]]\n",
       "[1] TRUE\n",
       "\n",
       "[[32]]\n",
       "[1] TRUE\n",
       "\n",
       "[[33]]\n",
       "[1] TRUE\n",
       "\n",
       "[[34]]\n",
       "[1] TRUE\n",
       "\n",
       "[[35]]\n",
       "[1] TRUE\n",
       "\n",
       "[[36]]\n",
       "[1] TRUE\n",
       "\n",
       "[[37]]\n",
       "[1] TRUE\n",
       "\n",
       "[[38]]\n",
       "[1] TRUE\n",
       "\n",
       "[[39]]\n",
       "[1] TRUE\n",
       "\n",
       "[[40]]\n",
       "[1] TRUE\n",
       "\n",
       "[[41]]\n",
       "[1] TRUE\n"
      ]
     },
     "metadata": {},
     "output_type": "display_data"
    }
   ],
   "source": [
    "library(here, help, pos = 2, lib.loc = NULL)\n",
    "source(here('Modules','modules.R'))\n",
    "source(here('Modules','preprocessing_clustering.R'))\n",
    "# install_all_packages()\n",
    "load_library_packages()"
   ]
  },
  {
   "cell_type": "markdown",
   "metadata": {},
   "source": [
    "## Clustering - Kmodes Silhoette"
   ]
  },
  {
   "cell_type": "code",
   "execution_count": 19,
   "metadata": {
    "vscode": {
     "languageId": "r"
    }
   },
   "outputs": [
    {
     "data": {
      "text/html": [
       "50"
      ],
      "text/latex": [
       "50"
      ],
      "text/markdown": [
       "50"
      ],
      "text/plain": [
       "[1] 50"
      ]
     },
     "metadata": {},
     "output_type": "display_data"
    }
   ],
   "source": [
    "df_during_facilitators_dist <- distinct(df_during_facilitators)\n",
    "nrow(df_during_facilitators_dist)"
   ]
  },
  {
   "cell_type": "code",
   "execution_count": 20,
   "metadata": {
    "vscode": {
     "languageId": "r"
    }
   },
   "outputs": [
    {
     "data": {
      "text/html": [
       "<table class=\"dataframe\">\n",
       "<caption>A matrix: 6 × 50 of type dbl</caption>\n",
       "<tbody>\n",
       "\t<tr><td>0</td><td>2</td><td>1</td><td>2</td><td>4</td><td>1</td><td>2</td><td>1</td><td>3</td><td>2</td><td>...</td><td>2</td><td>3</td><td>3</td><td>3</td><td>3</td><td>4</td><td>5</td><td>4</td><td>1</td><td>2</td></tr>\n",
       "\t<tr><td>2</td><td>0</td><td>3</td><td>2</td><td>4</td><td>3</td><td>2</td><td>1</td><td>1</td><td>2</td><td>...</td><td>4</td><td>3</td><td>3</td><td>3</td><td>3</td><td>4</td><td>5</td><td>2</td><td>3</td><td>4</td></tr>\n",
       "\t<tr><td>1</td><td>3</td><td>0</td><td>3</td><td>3</td><td>2</td><td>3</td><td>2</td><td>4</td><td>1</td><td>...</td><td>3</td><td>2</td><td>2</td><td>2</td><td>4</td><td>5</td><td>4</td><td>3</td><td>2</td><td>1</td></tr>\n",
       "\t<tr><td>2</td><td>2</td><td>3</td><td>0</td><td>2</td><td>3</td><td>2</td><td>1</td><td>3</td><td>2</td><td>...</td><td>2</td><td>5</td><td>3</td><td>3</td><td>5</td><td>2</td><td>3</td><td>4</td><td>3</td><td>4</td></tr>\n",
       "\t<tr><td>4</td><td>4</td><td>3</td><td>2</td><td>0</td><td>3</td><td>2</td><td>3</td><td>3</td><td>2</td><td>...</td><td>2</td><td>5</td><td>3</td><td>3</td><td>5</td><td>2</td><td>1</td><td>4</td><td>5</td><td>4</td></tr>\n",
       "\t<tr><td>1</td><td>3</td><td>2</td><td>3</td><td>3</td><td>0</td><td>1</td><td>2</td><td>2</td><td>3</td><td>...</td><td>1</td><td>4</td><td>4</td><td>4</td><td>2</td><td>3</td><td>4</td><td>5</td><td>2</td><td>3</td></tr>\n",
       "</tbody>\n",
       "</table>\n"
      ],
      "text/latex": [
       "A matrix: 6 × 50 of type dbl\n",
       "\\begin{tabular}{lllllllllllllllllllll}\n",
       "\t 0 & 2 & 1 & 2 & 4 & 1 & 2 & 1 & 3 & 2 & ... & 2 & 3 & 3 & 3 & 3 & 4 & 5 & 4 & 1 & 2\\\\\n",
       "\t 2 & 0 & 3 & 2 & 4 & 3 & 2 & 1 & 1 & 2 & ... & 4 & 3 & 3 & 3 & 3 & 4 & 5 & 2 & 3 & 4\\\\\n",
       "\t 1 & 3 & 0 & 3 & 3 & 2 & 3 & 2 & 4 & 1 & ... & 3 & 2 & 2 & 2 & 4 & 5 & 4 & 3 & 2 & 1\\\\\n",
       "\t 2 & 2 & 3 & 0 & 2 & 3 & 2 & 1 & 3 & 2 & ... & 2 & 5 & 3 & 3 & 5 & 2 & 3 & 4 & 3 & 4\\\\\n",
       "\t 4 & 4 & 3 & 2 & 0 & 3 & 2 & 3 & 3 & 2 & ... & 2 & 5 & 3 & 3 & 5 & 2 & 1 & 4 & 5 & 4\\\\\n",
       "\t 1 & 3 & 2 & 3 & 3 & 0 & 1 & 2 & 2 & 3 & ... & 1 & 4 & 4 & 4 & 2 & 3 & 4 & 5 & 2 & 3\\\\\n",
       "\\end{tabular}\n"
      ],
      "text/markdown": [
       "\n",
       "A matrix: 6 × 50 of type dbl\n",
       "\n",
       "| 0 | 2 | 1 | 2 | 4 | 1 | 2 | 1 | 3 | 2 | ... | 2 | 3 | 3 | 3 | 3 | 4 | 5 | 4 | 1 | 2 |\n",
       "| 2 | 0 | 3 | 2 | 4 | 3 | 2 | 1 | 1 | 2 | ... | 4 | 3 | 3 | 3 | 3 | 4 | 5 | 2 | 3 | 4 |\n",
       "| 1 | 3 | 0 | 3 | 3 | 2 | 3 | 2 | 4 | 1 | ... | 3 | 2 | 2 | 2 | 4 | 5 | 4 | 3 | 2 | 1 |\n",
       "| 2 | 2 | 3 | 0 | 2 | 3 | 2 | 1 | 3 | 2 | ... | 2 | 5 | 3 | 3 | 5 | 2 | 3 | 4 | 3 | 4 |\n",
       "| 4 | 4 | 3 | 2 | 0 | 3 | 2 | 3 | 3 | 2 | ... | 2 | 5 | 3 | 3 | 5 | 2 | 1 | 4 | 5 | 4 |\n",
       "| 1 | 3 | 2 | 3 | 3 | 0 | 1 | 2 | 2 | 3 | ... | 1 | 4 | 4 | 4 | 2 | 3 | 4 | 5 | 2 | 3 |\n",
       "\n"
      ],
      "text/plain": [
       "     [,1] [,2] [,3] [,4] [,5] [,6] [,7] [,8] [,9] [,10] [,11] [,12] [,13] [,14]\n",
       "[1,] 0    2    1    2    4    1    2    1    3    2     ...   2     3     3    \n",
       "[2,] 2    0    3    2    4    3    2    1    1    2     ...   4     3     3    \n",
       "[3,] 1    3    0    3    3    2    3    2    4    1     ...   3     2     2    \n",
       "[4,] 2    2    3    0    2    3    2    1    3    2     ...   2     5     3    \n",
       "[5,] 4    4    3    2    0    3    2    3    3    2     ...   2     5     3    \n",
       "[6,] 1    3    2    3    3    0    1    2    2    3     ...   1     4     4    \n",
       "     [,15] [,16] [,17] [,18] [,19] [,20] [,21]\n",
       "[1,] 3     3     4     5     4     1     2    \n",
       "[2,] 3     3     4     5     2     3     4    \n",
       "[3,] 2     4     5     4     3     2     1    \n",
       "[4,] 3     5     2     3     4     3     4    \n",
       "[5,] 3     5     2     1     4     5     4    \n",
       "[6,] 4     2     3     4     5     2     3    "
      ]
     },
     "metadata": {},
     "output_type": "display_data"
    }
   ],
   "source": [
    "df_matrix <- data.matrix(df_during_facilitators_dist) - 1\n",
    "similarity_matrix <- df_matrix %*% t(df_matrix) + ((!df_matrix) + 0) %*% ((!t(df_matrix)) + 0)\n",
    "dissimilarity_matrix <- ncol(df_during_facilitators_dist) - similarity_matrix\n",
    "head(dissimilarity_matrix)"
   ]
  },
  {
   "cell_type": "markdown",
   "metadata": {},
   "source": [
    "### Silhoette \n",
    "<hr />"
   ]
  },
  {
   "cell_type": "code",
   "execution_count": 21,
   "metadata": {
    "vscode": {
     "languageId": "r"
    }
   },
   "outputs": [
    {
     "data": {
      "text/html": [
       "<table class=\"dataframe\">\n",
       "<caption>A matrix: 6 × 50 of type dbl</caption>\n",
       "<tbody>\n",
       "\t<tr><td>0</td><td>2</td><td>1</td><td>2</td><td>4</td><td>1</td><td>2</td><td>1</td><td>3</td><td>2</td><td>...</td><td>2</td><td>3</td><td>3</td><td>3</td><td>3</td><td>4</td><td>5</td><td>4</td><td>1</td><td>2</td></tr>\n",
       "\t<tr><td>2</td><td>0</td><td>3</td><td>2</td><td>4</td><td>3</td><td>2</td><td>1</td><td>1</td><td>2</td><td>...</td><td>4</td><td>3</td><td>3</td><td>3</td><td>3</td><td>4</td><td>5</td><td>2</td><td>3</td><td>4</td></tr>\n",
       "\t<tr><td>1</td><td>3</td><td>0</td><td>3</td><td>3</td><td>2</td><td>3</td><td>2</td><td>4</td><td>1</td><td>...</td><td>3</td><td>2</td><td>2</td><td>2</td><td>4</td><td>5</td><td>4</td><td>3</td><td>2</td><td>1</td></tr>\n",
       "\t<tr><td>2</td><td>2</td><td>3</td><td>0</td><td>2</td><td>3</td><td>2</td><td>1</td><td>3</td><td>2</td><td>...</td><td>2</td><td>5</td><td>3</td><td>3</td><td>5</td><td>2</td><td>3</td><td>4</td><td>3</td><td>4</td></tr>\n",
       "\t<tr><td>4</td><td>4</td><td>3</td><td>2</td><td>0</td><td>3</td><td>2</td><td>3</td><td>3</td><td>2</td><td>...</td><td>2</td><td>5</td><td>3</td><td>3</td><td>5</td><td>2</td><td>1</td><td>4</td><td>5</td><td>4</td></tr>\n",
       "\t<tr><td>1</td><td>3</td><td>2</td><td>3</td><td>3</td><td>0</td><td>1</td><td>2</td><td>2</td><td>3</td><td>...</td><td>1</td><td>4</td><td>4</td><td>4</td><td>2</td><td>3</td><td>4</td><td>5</td><td>2</td><td>3</td></tr>\n",
       "</tbody>\n",
       "</table>\n"
      ],
      "text/latex": [
       "A matrix: 6 × 50 of type dbl\n",
       "\\begin{tabular}{lllllllllllllllllllll}\n",
       "\t 0 & 2 & 1 & 2 & 4 & 1 & 2 & 1 & 3 & 2 & ... & 2 & 3 & 3 & 3 & 3 & 4 & 5 & 4 & 1 & 2\\\\\n",
       "\t 2 & 0 & 3 & 2 & 4 & 3 & 2 & 1 & 1 & 2 & ... & 4 & 3 & 3 & 3 & 3 & 4 & 5 & 2 & 3 & 4\\\\\n",
       "\t 1 & 3 & 0 & 3 & 3 & 2 & 3 & 2 & 4 & 1 & ... & 3 & 2 & 2 & 2 & 4 & 5 & 4 & 3 & 2 & 1\\\\\n",
       "\t 2 & 2 & 3 & 0 & 2 & 3 & 2 & 1 & 3 & 2 & ... & 2 & 5 & 3 & 3 & 5 & 2 & 3 & 4 & 3 & 4\\\\\n",
       "\t 4 & 4 & 3 & 2 & 0 & 3 & 2 & 3 & 3 & 2 & ... & 2 & 5 & 3 & 3 & 5 & 2 & 1 & 4 & 5 & 4\\\\\n",
       "\t 1 & 3 & 2 & 3 & 3 & 0 & 1 & 2 & 2 & 3 & ... & 1 & 4 & 4 & 4 & 2 & 3 & 4 & 5 & 2 & 3\\\\\n",
       "\\end{tabular}\n"
      ],
      "text/markdown": [
       "\n",
       "A matrix: 6 × 50 of type dbl\n",
       "\n",
       "| 0 | 2 | 1 | 2 | 4 | 1 | 2 | 1 | 3 | 2 | ... | 2 | 3 | 3 | 3 | 3 | 4 | 5 | 4 | 1 | 2 |\n",
       "| 2 | 0 | 3 | 2 | 4 | 3 | 2 | 1 | 1 | 2 | ... | 4 | 3 | 3 | 3 | 3 | 4 | 5 | 2 | 3 | 4 |\n",
       "| 1 | 3 | 0 | 3 | 3 | 2 | 3 | 2 | 4 | 1 | ... | 3 | 2 | 2 | 2 | 4 | 5 | 4 | 3 | 2 | 1 |\n",
       "| 2 | 2 | 3 | 0 | 2 | 3 | 2 | 1 | 3 | 2 | ... | 2 | 5 | 3 | 3 | 5 | 2 | 3 | 4 | 3 | 4 |\n",
       "| 4 | 4 | 3 | 2 | 0 | 3 | 2 | 3 | 3 | 2 | ... | 2 | 5 | 3 | 3 | 5 | 2 | 1 | 4 | 5 | 4 |\n",
       "| 1 | 3 | 2 | 3 | 3 | 0 | 1 | 2 | 2 | 3 | ... | 1 | 4 | 4 | 4 | 2 | 3 | 4 | 5 | 2 | 3 |\n",
       "\n"
      ],
      "text/plain": [
       "     [,1] [,2] [,3] [,4] [,5] [,6] [,7] [,8] [,9] [,10] [,11] [,12] [,13] [,14]\n",
       "[1,] 0    2    1    2    4    1    2    1    3    2     ...   2     3     3    \n",
       "[2,] 2    0    3    2    4    3    2    1    1    2     ...   4     3     3    \n",
       "[3,] 1    3    0    3    3    2    3    2    4    1     ...   3     2     2    \n",
       "[4,] 2    2    3    0    2    3    2    1    3    2     ...   2     5     3    \n",
       "[5,] 4    4    3    2    0    3    2    3    3    2     ...   2     5     3    \n",
       "[6,] 1    3    2    3    3    0    1    2    2    3     ...   1     4     4    \n",
       "     [,15] [,16] [,17] [,18] [,19] [,20] [,21]\n",
       "[1,] 3     3     4     5     4     1     2    \n",
       "[2,] 3     3     4     5     2     3     4    \n",
       "[3,] 2     4     5     4     3     2     1    \n",
       "[4,] 3     5     2     3     4     3     4    \n",
       "[5,] 3     5     2     1     4     5     4    \n",
       "[6,] 4     2     3     4     5     2     3    "
      ]
     },
     "metadata": {},
     "output_type": "display_data"
    }
   ],
   "source": [
    "df_matrix <- data.matrix(df_during_facilitators_dist) - 1\n",
    "similarity_matrix <- df_matrix %*% t(df_matrix) + ((!df_matrix) + 0) %*% ((!t(df_matrix)) + 0)\n",
    "dissimilarity_matrix <- ncol(df_during_facilitators_dist) - similarity_matrix\n",
    "head(dissimilarity_matrix)"
   ]
  },
  {
   "cell_type": "markdown",
   "metadata": {},
   "source": [
    "#### Scanning parameters\n"
   ]
  },
  {
   "cell_type": "code",
   "execution_count": 22,
   "metadata": {
    "vscode": {
     "languageId": "r"
    }
   },
   "outputs": [],
   "source": [
    "source(here('Modules','modules.R'))\n",
    "dists <- c(\"cosine\", \"jaccard\", \"hamman\", \"simple matching\", \"faith\")\n",
    "thetas <- linspace(0, 0.99, 15)\n",
    "nt <- length(thetas)\n",
    "nd <- length(dists)\n",
    "nk <- nrow(distinct(df_during_facilitators))\n",
    "scs <- c()\n",
    "# for (t in thetas) {\n",
    "#     for (d in dists){\n",
    "#         for (k in 2:nk) {\n",
    "#             sc <- silhouette_values_rock(\n",
    "#                 num_clusters = k,\n",
    "#                 theta = t,\n",
    "#                 df = df_during_facilitators_dist,\n",
    "#                 distmethod = d,\n",
    "#                 diss_matrix = dissimilarity_matrix)[[1]]\n",
    "#             scs <- append(scs, sc)\n",
    "#         }\n",
    "#     }\n",
    "# }\n"
   ]
  },
  {
   "cell_type": "code",
   "execution_count": 23,
   "metadata": {
    "vscode": {
     "languageId": "r"
    }
   },
   "outputs": [],
   "source": [
    "# ks_by_theta <- data.frame(\n",
    "#     theta=rep(thetas, each=((nk-1)*nd)), \n",
    "#     dist=rep(rep(dists, each=(nk-1)), nt), \n",
    "#     k=rep(2:nk, nd*nt), scs=scs\n",
    "# )\n",
    "\n",
    "# write.csv(\n",
    "#     ks_by_theta,\n",
    "#     \"../../../Data/silhouette_rock_facilitators.csv\", row.names = FALSE\n",
    "# )"
   ]
  },
  {
   "cell_type": "markdown",
   "metadata": {},
   "source": [
    "####  Best Situations"
   ]
  },
  {
   "cell_type": "code",
   "execution_count": 24,
   "metadata": {
    "vscode": {
     "languageId": "r"
    }
   },
   "outputs": [
    {
     "data": {
      "text/html": [
       "<table class=\"dataframe\">\n",
       "<caption>A grouped_df: 5 × 4</caption>\n",
       "<thead>\n",
       "\t<tr><th scope=col>theta</th><th scope=col>dist</th><th scope=col>k</th><th scope=col>scs</th></tr>\n",
       "\t<tr><th scope=col>&lt;dbl&gt;</th><th scope=col>&lt;chr&gt;</th><th scope=col>&lt;int&gt;</th><th scope=col>&lt;dbl&gt;</th></tr>\n",
       "</thead>\n",
       "<tbody>\n",
       "\t<tr><td>0.1414286</td><td>cosine         </td><td>15</td><td>0.27551969</td></tr>\n",
       "\t<tr><td>0.2121429</td><td>faith          </td><td> 8</td><td>0.27622018</td></tr>\n",
       "\t<tr><td>0.0000000</td><td>hamman         </td><td> 6</td><td>0.06613642</td></tr>\n",
       "\t<tr><td>0.1414286</td><td>jaccard        </td><td>15</td><td>0.27551969</td></tr>\n",
       "\t<tr><td>0.3535714</td><td>simple matching</td><td>14</td><td>0.20897274</td></tr>\n",
       "</tbody>\n",
       "</table>\n"
      ],
      "text/latex": [
       "A grouped\\_df: 5 × 4\n",
       "\\begin{tabular}{llll}\n",
       " theta & dist & k & scs\\\\\n",
       " <dbl> & <chr> & <int> & <dbl>\\\\\n",
       "\\hline\n",
       "\t 0.1414286 & cosine          & 15 & 0.27551969\\\\\n",
       "\t 0.2121429 & faith           &  8 & 0.27622018\\\\\n",
       "\t 0.0000000 & hamman          &  6 & 0.06613642\\\\\n",
       "\t 0.1414286 & jaccard         & 15 & 0.27551969\\\\\n",
       "\t 0.3535714 & simple matching & 14 & 0.20897274\\\\\n",
       "\\end{tabular}\n"
      ],
      "text/markdown": [
       "\n",
       "A grouped_df: 5 × 4\n",
       "\n",
       "| theta &lt;dbl&gt; | dist &lt;chr&gt; | k &lt;int&gt; | scs &lt;dbl&gt; |\n",
       "|---|---|---|---|\n",
       "| 0.1414286 | cosine          | 15 | 0.27551969 |\n",
       "| 0.2121429 | faith           |  8 | 0.27622018 |\n",
       "| 0.0000000 | hamman          |  6 | 0.06613642 |\n",
       "| 0.1414286 | jaccard         | 15 | 0.27551969 |\n",
       "| 0.3535714 | simple matching | 14 | 0.20897274 |\n",
       "\n"
      ],
      "text/plain": [
       "  theta     dist            k  scs       \n",
       "1 0.1414286 cosine          15 0.27551969\n",
       "2 0.2121429 faith            8 0.27622018\n",
       "3 0.0000000 hamman           6 0.06613642\n",
       "4 0.1414286 jaccard         15 0.27551969\n",
       "5 0.3535714 simple matching 14 0.20897274"
      ]
     },
     "metadata": {},
     "output_type": "display_data"
    }
   ],
   "source": [
    "scs <- read.csv(\"../../../Data/silhouette_rock_facilitators.csv\")\n",
    "scs %>% group_by(dist) %>% slice(which.max(scs))"
   ]
  },
  {
   "cell_type": "code",
   "execution_count": 25,
   "metadata": {
    "vscode": {
     "languageId": "r"
    }
   },
   "outputs": [
    {
     "data": {
      "text/html": [
       "<table class=\"dataframe\">\n",
       "<caption>A data.frame: 1 × 4</caption>\n",
       "<thead>\n",
       "\t<tr><th></th><th scope=col>theta</th><th scope=col>dist</th><th scope=col>k</th><th scope=col>scs</th></tr>\n",
       "\t<tr><th></th><th scope=col>&lt;dbl&gt;</th><th scope=col>&lt;chr&gt;</th><th scope=col>&lt;int&gt;</th><th scope=col>&lt;dbl&gt;</th></tr>\n",
       "</thead>\n",
       "<tbody>\n",
       "\t<tr><th scope=row>938</th><td>0.2121429</td><td>faith</td><td>8</td><td>0.2762202</td></tr>\n",
       "</tbody>\n",
       "</table>\n"
      ],
      "text/latex": [
       "A data.frame: 1 × 4\n",
       "\\begin{tabular}{r|llll}\n",
       "  & theta & dist & k & scs\\\\\n",
       "  & <dbl> & <chr> & <int> & <dbl>\\\\\n",
       "\\hline\n",
       "\t938 & 0.2121429 & faith & 8 & 0.2762202\\\\\n",
       "\\end{tabular}\n"
      ],
      "text/markdown": [
       "\n",
       "A data.frame: 1 × 4\n",
       "\n",
       "| <!--/--> | theta &lt;dbl&gt; | dist &lt;chr&gt; | k &lt;int&gt; | scs &lt;dbl&gt; |\n",
       "|---|---|---|---|---|\n",
       "| 938 | 0.2121429 | faith | 8 | 0.2762202 |\n",
       "\n"
      ],
      "text/plain": [
       "    theta     dist  k scs      \n",
       "938 0.2121429 faith 8 0.2762202"
      ]
     },
     "metadata": {},
     "output_type": "display_data"
    }
   ],
   "source": [
    "best_situtation <- scs[scs['scs'] == max(scs['scs']), ]\n",
    "best_situtation"
   ]
  },
  {
   "cell_type": "code",
   "execution_count": 26,
   "metadata": {
    "vscode": {
     "languageId": "r"
    }
   },
   "outputs": [],
   "source": [
    "best_theta_rock <- best_situtation[1, 'theta']\n",
    "best_dist_rock <- best_situtation[1, 'dist']\n",
    "best_K_rock <- best_situtation[1, 'k']"
   ]
  },
  {
   "cell_type": "markdown",
   "metadata": {},
   "source": [
    "#### Evaluating the silhuette coefficient for best seed"
   ]
  },
  {
   "cell_type": "code",
   "execution_count": 27,
   "metadata": {
    "vscode": {
     "languageId": "r"
    }
   },
   "outputs": [],
   "source": [
    "# silhoutte_result <-  silhouette_values(num_clusters=3, df=df_during, diss_matrix=dissimilarity_matrix, iters=200, s=68)\n",
    "# coef_data <- data.frame(coef=silhoutte_result[[2]], clust=silhoutte_result[[3]]$cluster)\n",
    "# coef_data <- coef_data[order(coef_data$coef, decreasing=TRUE), ]\n",
    "# coef_data <- coef_data[order(coef_data$clust, decreasing=TRUE), ]\n",
    "# coef_data$clust <- as.factor(coef_data$clust )\n",
    "# coef_data$ID <- seq.int(nrow(coef_data))\n",
    "\n",
    "# ggplot(data = coef_data, aes(y=coef, x=ID, fill=clust)) + \n",
    "#   geom_bar(stat = \"identity\") + \n",
    "#   geom_hline(yintercept=mean(coef_data$coef), linetype=\"dashed\", color = \"red\") + \n",
    "#   coord_flip() + \n",
    "#   scale_x_reverse() + \n",
    "#   theme(panel.grid.major = element_blank(), panel.grid.minor = element_blank())"
   ]
  },
  {
   "cell_type": "code",
   "execution_count": 28,
   "metadata": {
    "vscode": {
     "languageId": "r"
    }
   },
   "outputs": [],
   "source": [
    "# silhoutte_result <-  silhouette_values(num_clusters=4, df=df_during, diss_matrix=dissimilarity_matrix, iters=200, s=62)\n",
    "# coef_data <- data.frame(coef=silhoutte_result[[2]], clust=silhoutte_result[[3]]$cluster)\n",
    "# coef_data <- coef_data[order(coef_data$coef, decreasing=TRUE), ]\n",
    "# coef_data <- coef_data[order(coef_data$clust, decreasing=TRUE), ]\n",
    "# coef_data$clust <- as.factor(coef_data$clust )\n",
    "# coef_data$ID <- seq.int(nrow(coef_data))\n",
    "\n",
    "# ggplot(data = coef_data, aes(y=coef, x=ID, fill=clust)) + \n",
    "#   geom_bar(stat = \"identity\") + \n",
    "#   geom_hline(yintercept=mean(coef_data$coef), linetype=\"dashed\", color = \"red\") + \n",
    "#   coord_flip() + \n",
    "#   scale_x_reverse() "
   ]
  },
  {
   "cell_type": "code",
   "execution_count": 29,
   "metadata": {
    "vscode": {
     "languageId": "r"
    }
   },
   "outputs": [],
   "source": [
    "# silhoutte_result <-  silhouette_values(num_clusters=3, df=df_during, diss_matrix=dissimilarity_matrix, iters=200, s=13)\n",
    "# coef_data <- data.frame(coef=silhoutte_result[[2]], clust=silhoutte_result[[3]]$cluster)\n",
    "# coef_data <- coef_data[order(coef_data$coef, decreasing=TRUE), ]\n",
    "# coef_data <- coef_data[order(coef_data$clust, decreasing=TRUE), ]\n",
    "# coef_data$clust <- as.factor(coef_data$clust )\n",
    "# coef_data$ID <- seq.int(nrow(coef_data))\n",
    "\n",
    "# ggplot(data = coef_data, aes(y=coef, x=ID, fill=clust)) + \n",
    "#   geom_bar(stat = \"identity\") + \n",
    "#   geom_hline(yintercept=mean(coef_data$coef), linetype=\"dashed\", color = \"red\") + \n",
    "#   coord_flip() + \n",
    "#   scale_x_reverse() "
   ]
  },
  {
   "cell_type": "markdown",
   "metadata": {},
   "source": [
    "## Exploring Kmodes best k"
   ]
  },
  {
   "cell_type": "code",
   "execution_count": 30,
   "metadata": {
    "vscode": {
     "languageId": "r"
    }
   },
   "outputs": [
    {
     "name": "stdout",
     "output_type": "stream",
     "text": [
      "Clustering:\n",
      "computing distances ...\n",
      "computing links ...\n",
      "computing clusters ...\n"
     ]
    },
    {
     "data": {
      "text/plain": [
       " data: x \n",
       " beta: 0.7878571 \n",
       "theta: 0.2121429 \n",
       "  fun: dist \n",
       " args: list(\"faith\") \n",
       " 1  2  3  4  5  6  7  8 \n",
       " 6 12  4  4  7  8  5  4 "
      ]
     },
     "metadata": {},
     "output_type": "display_data"
    }
   ],
   "source": [
    "rockCluster(df_matrix, n=best_K_rock, theta=best_theta_rock, fun = \"dist\", funArgs = list(method=best_dist_rock))"
   ]
  },
  {
   "cell_type": "code",
   "execution_count": 31,
   "metadata": {
    "vscode": {
     "languageId": "r"
    }
   },
   "outputs": [
    {
     "name": "stdout",
     "output_type": "stream",
     "text": [
      "Clustering:\n",
      "computing distances ...\n",
      "computing links ...\n",
      "computing clusters ...\n"
     ]
    },
    {
     "data": {
      "text/html": [
       "<table class=\"dataframe\">\n",
       "<caption>A data.frame: 6 × 7</caption>\n",
       "<thead>\n",
       "\t<tr><th></th><th scope=col>PA_easiness_outdoor_activities</th><th scope=col>PA_easiness_professional_guidance</th><th scope=col>PA_easiness_music</th><th scope=col>PA_easiness_others</th><th scope=col>PA_facilitator_home</th><th scope=col>PA_facilitator_group</th><th scope=col>cluster</th></tr>\n",
       "\t<tr><th></th><th scope=col>&lt;fct&gt;</th><th scope=col>&lt;fct&gt;</th><th scope=col>&lt;fct&gt;</th><th scope=col>&lt;fct&gt;</th><th scope=col>&lt;dbl&gt;</th><th scope=col>&lt;dbl&gt;</th><th scope=col>&lt;fct&gt;</th></tr>\n",
       "</thead>\n",
       "<tbody>\n",
       "\t<tr><th scope=row>1</th><td>1</td><td>0</td><td>0</td><td>0</td><td>1</td><td>0</td><td>1</td></tr>\n",
       "\t<tr><th scope=row>2</th><td>0</td><td>0</td><td>0</td><td>0</td><td>0</td><td>0</td><td>2</td></tr>\n",
       "\t<tr><th scope=row>3</th><td>1</td><td>1</td><td>0</td><td>0</td><td>1</td><td>0</td><td>3</td></tr>\n",
       "\t<tr><th scope=row>4</th><td>0</td><td>0</td><td>0</td><td>0</td><td>1</td><td>1</td><td>2</td></tr>\n",
       "\t<tr><th scope=row>5</th><td>0</td><td>1</td><td>1</td><td>0</td><td>1</td><td>1</td><td>4</td></tr>\n",
       "\t<tr><th scope=row>6</th><td>1</td><td>0</td><td>1</td><td>0</td><td>1</td><td>0</td><td>3</td></tr>\n",
       "</tbody>\n",
       "</table>\n"
      ],
      "text/latex": [
       "A data.frame: 6 × 7\n",
       "\\begin{tabular}{r|lllllll}\n",
       "  & PA\\_easiness\\_outdoor\\_activities & PA\\_easiness\\_professional\\_guidance & PA\\_easiness\\_music & PA\\_easiness\\_others & PA\\_facilitator\\_home & PA\\_facilitator\\_group & cluster\\\\\n",
       "  & <fct> & <fct> & <fct> & <fct> & <dbl> & <dbl> & <fct>\\\\\n",
       "\\hline\n",
       "\t1 & 1 & 0 & 0 & 0 & 1 & 0 & 1\\\\\n",
       "\t2 & 0 & 0 & 0 & 0 & 0 & 0 & 2\\\\\n",
       "\t3 & 1 & 1 & 0 & 0 & 1 & 0 & 3\\\\\n",
       "\t4 & 0 & 0 & 0 & 0 & 1 & 1 & 2\\\\\n",
       "\t5 & 0 & 1 & 1 & 0 & 1 & 1 & 4\\\\\n",
       "\t6 & 1 & 0 & 1 & 0 & 1 & 0 & 3\\\\\n",
       "\\end{tabular}\n"
      ],
      "text/markdown": [
       "\n",
       "A data.frame: 6 × 7\n",
       "\n",
       "| <!--/--> | PA_easiness_outdoor_activities &lt;fct&gt; | PA_easiness_professional_guidance &lt;fct&gt; | PA_easiness_music &lt;fct&gt; | PA_easiness_others &lt;fct&gt; | PA_facilitator_home &lt;dbl&gt; | PA_facilitator_group &lt;dbl&gt; | cluster &lt;fct&gt; |\n",
       "|---|---|---|---|---|---|---|---|\n",
       "| 1 | 1 | 0 | 0 | 0 | 1 | 0 | 1 |\n",
       "| 2 | 0 | 0 | 0 | 0 | 0 | 0 | 2 |\n",
       "| 3 | 1 | 1 | 0 | 0 | 1 | 0 | 3 |\n",
       "| 4 | 0 | 0 | 0 | 0 | 1 | 1 | 2 |\n",
       "| 5 | 0 | 1 | 1 | 0 | 1 | 1 | 4 |\n",
       "| 6 | 1 | 0 | 1 | 0 | 1 | 0 | 3 |\n",
       "\n"
      ],
      "text/plain": [
       "  PA_easiness_outdoor_activities PA_easiness_professional_guidance\n",
       "1 1                              0                                \n",
       "2 0                              0                                \n",
       "3 1                              1                                \n",
       "4 0                              0                                \n",
       "5 0                              1                                \n",
       "6 1                              0                                \n",
       "  PA_easiness_music PA_easiness_others PA_facilitator_home PA_facilitator_group\n",
       "1 0                 0                  1                   0                   \n",
       "2 0                 0                  0                   0                   \n",
       "3 0                 0                  1                   0                   \n",
       "4 0                 0                  1                   1                   \n",
       "5 1                 0                  1                   1                   \n",
       "6 1                 0                  1                   0                   \n",
       "  cluster\n",
       "1 1      \n",
       "2 2      \n",
       "3 3      \n",
       "4 2      \n",
       "5 4      \n",
       "6 3      "
      ]
     },
     "metadata": {},
     "output_type": "display_data"
    }
   ],
   "source": [
    "df_during_facilitators_dist$cluster <-rockCluster(df_matrix, n=best_K_rock, theta=best_theta_rock, fun = \"dist\", funArgs = list(method=\"simple matching\"))$cl\n",
    "head(df_during_facilitators_dist)"
   ]
  },
  {
   "cell_type": "code",
   "execution_count": 32,
   "metadata": {
    "vscode": {
     "languageId": "r"
    }
   },
   "outputs": [
    {
     "data": {
      "text/html": [
       "1215"
      ],
      "text/latex": [
       "1215"
      ],
      "text/markdown": [
       "1215"
      ],
      "text/plain": [
       "[1] 1215"
      ]
     },
     "metadata": {},
     "output_type": "display_data"
    }
   ],
   "source": [
    "joint <- c(\n",
    "    'PA_easiness_outdoor_activities'='PA_easiness_outdoor_activities',\n",
    "    'PA_easiness_professional_guidance' = 'PA_easiness_professional_guidance',\n",
    "    'PA_easiness_music' = 'PA_easiness_music',\n",
    "    'PA_easiness_others' = 'PA_easiness_others',\n",
    "    'PA_facilitator_home' = 'PA_facilitator_home',\n",
    "    'PA_facilitator_group' = 'PA_facilitator_group'\n",
    ")\n",
    "\n",
    "df_during_facilitators <- left_join(df_during_facilitators, df_during_facilitators_dist, by = joint)\n",
    "df_during$cluster <- df_during_facilitators$cluster\n",
    "nrow(df_during_facilitators)"
   ]
  },
  {
   "cell_type": "code",
   "execution_count": 33,
   "metadata": {
    "vscode": {
     "languageId": "r"
    }
   },
   "outputs": [
    {
     "data": {
      "text/plain": [
       "\n",
       "  1   2   3   4   5   6   7   8 \n",
       "499 234 140 161  33 118  22   8 "
      ]
     },
     "metadata": {},
     "output_type": "display_data"
    }
   ],
   "source": [
    "table(df_during$cluster)"
   ]
  },
  {
   "cell_type": "markdown",
   "metadata": {},
   "source": [
    "### Profile Plots\n",
    "<hr />"
   ]
  },
  {
   "cell_type": "code",
   "execution_count": 34,
   "metadata": {
    "vscode": {
     "languageId": "r"
    }
   },
   "outputs": [],
   "source": [
    "colors <- c(\"pink1\", \"violet\", \"mediumpurple1\", \"slateblue1\", \"purple\", \"purple3\",\n",
    "        \"turquoise2\", \"skyblue\", \"steelblue\", \"blue2\", \"navyblue\",\n",
    "        \"orange\", \"tomato\", \"coral2\", \"palevioletred\", \"violetred\", \"red2\",\n",
    "        \"springgreen2\", \"yellowgreen\", \"palegreen4\",\n",
    "        \"wheat2\", \"tan\", \"tan2\", \"tan3\", \"brown\",\n",
    "        \"grey70\", \"grey50\", \"grey30\")"
   ]
  },
  {
   "cell_type": "markdown",
   "metadata": {},
   "source": [
    "#### Practice of Exercise "
   ]
  },
  {
   "cell_type": "code",
   "execution_count": 35,
   "metadata": {
    "vscode": {
     "languageId": "r"
    }
   },
   "outputs": [
    {
     "data": {
      "image/png": "[encoded data removed]",
      "text/plain": [
       "plot without title"
      ]
     },
     "metadata": {
      "image/png": {
       "height": 420,
       "width": 420
      }
     },
     "output_type": "display_data"
    }
   ],
   "source": [
    "\n",
    "\n",
    "myplots <- list()\n",
    "\n",
    "for(cl in 1:best_K_rock){\n",
    "  dist_values = length(unique(df_during[df_during$cluster == cl,]$PA_practice_during))\n",
    "  plt <- ggplot() + geom_histogram( \n",
    "          color='black',\n",
    "          data=df_during[df_during$cluster == cl,], \n",
    "          aes(x=PA_practice_during, y=..count../sum(..count..)*100),\n",
    "          fill=colors[cl],\n",
    "          bins = dist_values,\n",
    "          position=position_dodge()\n",
    "        ) + ylab(\"Relative Frequency\")+ ggtitle(cl) + ylim(0, 100)  \n",
    "  myplots[[cl]] <- plt \n",
    "}\n",
    "\n",
    "\n",
    "wrap_plots(myplots)\n"
   ]
  },
  {
   "cell_type": "markdown",
   "metadata": {},
   "source": [
    "#### Sedentary Behavior"
   ]
  },
  {
   "cell_type": "code",
   "execution_count": 36,
   "metadata": {
    "vscode": {
     "languageId": "r"
    }
   },
   "outputs": [
    {
     "data": {
      "image/png": "[encoded data removed]",
      "text/plain": [
       "plot without title"
      ]
     },
     "metadata": {
      "image/png": {
       "height": 420,
       "width": 420
      }
     },
     "output_type": "display_data"
    }
   ],
   "source": [
    "\n",
    "\n",
    "myplots <- list()\n",
    "\n",
    "for(cl in 1:best_K_rock){\n",
    "  dist_values = length(unique(df_during[df_during$cluster == cl,]$sedentary_time_range_during))\n",
    "  plt <- ggplot() + geom_histogram( \n",
    "          color='black',\n",
    "          data=df_during[df_during$cluster == cl,], \n",
    "          aes(x=sedentary_time_range_during, y=..count../sum(..count..)*100),\n",
    "          fill=colors[cl],\n",
    "          bins = dist_values,\n",
    "          position=position_dodge()\n",
    "        ) + ylab(\"Relative Frequency\")+ ggtitle(cl) + ylim(0, 100) \n",
    "  myplots[[cl]] <- plt \n",
    "}\n",
    "\n",
    "\n",
    "wrap_plots(myplots)\n"
   ]
  },
  {
   "cell_type": "markdown",
   "metadata": {},
   "source": [
    "#### Exercise Intensity"
   ]
  },
  {
   "cell_type": "code",
   "execution_count": 37,
   "metadata": {
    "vscode": {
     "languageId": "r"
    }
   },
   "outputs": [
    {
     "data": {
      "image/png": "[encoded data removed]",
      "text/plain": [
       "plot without title"
      ]
     },
     "metadata": {
      "image/png": {
       "height": 420,
       "width": 420
      }
     },
     "output_type": "display_data"
    }
   ],
   "source": [
    "myplots <- list()\n",
    "\n",
    "for(cl in 1:best_K_rock){\n",
    "  dist_values = length(unique(df_during[df_during$cluster == cl,]$PA_intensity))\n",
    "  plt <- ggplot() + geom_histogram( \n",
    "          color='black',\n",
    "          data=df_during[df_during$cluster == cl,], \n",
    "          aes(x=PA_intensity, y=..count../sum(..count..)*100),\n",
    "          fill=colors[cl],\n",
    "          bins = dist_values,\n",
    "          position=position_dodge()\n",
    "        ) + ylab(\"Relative Frequency\")+ ggtitle(cl) + ylim(0, 100) \n",
    "  myplots[[cl]] <- plt \n",
    "}\n",
    "\n",
    "\n",
    "wrap_plots(myplots)\n",
    "\n"
   ]
  },
  {
   "cell_type": "markdown",
   "metadata": {},
   "source": [
    "#### Exercise Duration"
   ]
  },
  {
   "cell_type": "code",
   "execution_count": 38,
   "metadata": {
    "vscode": {
     "languageId": "r"
    }
   },
   "outputs": [
    {
     "data": {
      "image/png": "[encoded data removed]",
      "text/plain": [
       "plot without title"
      ]
     },
     "metadata": {
      "image/png": {
       "height": 420,
       "width": 420
      }
     },
     "output_type": "display_data"
    }
   ],
   "source": [
    "myplots <- list()\n",
    "\n",
    "for(cl in 1:best_K_rock){\n",
    "  dist_values = length(unique(df_during[df_during$cluster == cl,]$PA_duration))\n",
    "  plt <- ggplot() + geom_histogram( \n",
    "          color='black',\n",
    "          data=df_during[df_during$cluster == cl,], \n",
    "          aes(x=PA_duration, y=..count../sum(..count..)*100),\n",
    "          fill=colors[cl],\n",
    "          bins = dist_values,\n",
    "          position=position_dodge()\n",
    "        ) + ylab(\"Relative Frequency\")+ ggtitle(cl) + ylim(0, 100) \n",
    "  myplots[[cl]] <- plt \n",
    "}\n",
    "\n",
    "\n",
    "wrap_plots(myplots)\n",
    "\n"
   ]
  },
  {
   "cell_type": "markdown",
   "metadata": {},
   "source": [
    "#### Exercise Weekly Frequency"
   ]
  },
  {
   "cell_type": "code",
   "execution_count": 39,
   "metadata": {
    "vscode": {
     "languageId": "r"
    }
   },
   "outputs": [
    {
     "data": {
      "image/png": "[encoded data removed]",
      "text/plain": [
       "plot without title"
      ]
     },
     "metadata": {
      "image/png": {
       "height": 420,
       "width": 420
      }
     },
     "output_type": "display_data"
    }
   ],
   "source": [
    "\n",
    "myplots <- list()\n",
    "\n",
    "for(cl in 1:best_K_rock){\n",
    "  dist_values = length(unique(df_during[df_during$cluster == cl,]$PA_weekly_frequency))\n",
    "  plt <- ggplot() + geom_histogram( \n",
    "          color='black',\n",
    "          data=df_during[df_during$cluster == cl,], \n",
    "          aes(x=PA_weekly_frequency, y=..count../sum(..count..)*100),\n",
    "          fill=colors[cl],\n",
    "          bins = dist_values,\n",
    "          position=position_dodge()\n",
    "        ) + ylab(\"Relative Frequency\")+ ggtitle(cl) + ylim(0, 100) \n",
    "  myplots[[cl]] <- plt \n",
    "}\n",
    "\n",
    "\n",
    "wrap_plots(myplots)\n",
    "\n"
   ]
  },
  {
   "cell_type": "markdown",
   "metadata": {},
   "source": [
    "#### Income Range"
   ]
  },
  {
   "cell_type": "code",
   "execution_count": 40,
   "metadata": {
    "vscode": {
     "languageId": "r"
    }
   },
   "outputs": [
    {
     "data": {
      "image/png": "[encoded data removed]",
      "text/plain": [
       "plot without title"
      ]
     },
     "metadata": {
      "image/png": {
       "height": 420,
       "width": 420
      }
     },
     "output_type": "display_data"
    }
   ],
   "source": [
    "\n",
    "myplots <- list()\n",
    "\n",
    "for(cl in 1:best_K_rock){\n",
    "  dist_values = length(unique(df_during[df_during$cluster == cl,]$income_range))\n",
    "  plt <- ggplot() + geom_histogram( \n",
    "          color='black',\n",
    "          data=df_during[df_during$cluster == cl,], \n",
    "          aes(x=income_range, y=..count../sum(..count..)*100),\n",
    "          fill=colors[cl],\n",
    "          bins = dist_values,\n",
    "          position=position_dodge()\n",
    "        ) + ylab(\"Relative Frequency\")+ ggtitle(cl) + ylim(0, 100) \n",
    "  myplots[[cl]] <- plt \n",
    "}\n",
    "\n",
    "\n",
    "wrap_plots(myplots)\n",
    "\n"
   ]
  },
  {
   "cell_type": "markdown",
   "metadata": {},
   "source": [
    "#### Age Range"
   ]
  },
  {
   "cell_type": "code",
   "execution_count": 41,
   "metadata": {
    "vscode": {
     "languageId": "r"
    }
   },
   "outputs": [
    {
     "data": {
      "image/png": "[encoded data removed]",
      "text/plain": [
       "plot without title"
      ]
     },
     "metadata": {
      "image/png": {
       "height": 420,
       "width": 420
      }
     },
     "output_type": "display_data"
    }
   ],
   "source": [
    "\n",
    "\n",
    "myplots <- list()\n",
    "\n",
    "for(cl in 1:best_K_rock){\n",
    "  dist_values = length(unique(df_during[df_during$cluster == cl,]$age_range))\n",
    "  plt <- ggplot() + geom_histogram( \n",
    "          color='black',\n",
    "          data=df_during[df_during$cluster == cl,], \n",
    "          aes(x=age_range, y=..count../sum(..count..)*100),\n",
    "          fill=colors[cl],\n",
    "          bins = dist_values,\n",
    "          position=position_dodge()\n",
    "        ) + ylab(\"Relative Frequency\")+ ggtitle(cl) + ylim(0, 100) \n",
    "  myplots[[cl]] <- plt \n",
    "}\n",
    "\n",
    "\n",
    "wrap_plots(myplots)\n",
    "\n"
   ]
  },
  {
   "cell_type": "markdown",
   "metadata": {},
   "source": [
    "#### Sex"
   ]
  },
  {
   "cell_type": "code",
   "execution_count": 42,
   "metadata": {
    "vscode": {
     "languageId": "r"
    }
   },
   "outputs": [
    {
     "data": {
      "image/png": "[encoded data removed]",
      "text/plain": [
       "plot without title"
      ]
     },
     "metadata": {
      "image/png": {
       "height": 420,
       "width": 420
      }
     },
     "output_type": "display_data"
    }
   ],
   "source": [
    "\n",
    "\n",
    "myplots <- list()\n",
    "\n",
    "for(cl in 1:best_K_rock){\n",
    "  dist_values = length(unique(df_during[df_during$cluster == cl,]$sex))\n",
    "  plt <- ggplot() + geom_histogram( \n",
    "          color='black',\n",
    "          data=df_during[df_during$cluster == cl,], \n",
    "          aes(x=sex, y=..count../sum(..count..)*100),\n",
    "          fill=colors[cl],\n",
    "          bins = dist_values,\n",
    "          position=position_dodge()\n",
    "        ) + ylab(\"Relative Frequency\")+ ggtitle(cl) + ylim(0, 100) \n",
    "  myplots[[cl]] <- plt \n",
    "}\n",
    "\n",
    "\n",
    "wrap_plots(myplots)\n",
    "\n"
   ]
  },
  {
   "cell_type": "markdown",
   "metadata": {},
   "source": [
    "#### Scholarity"
   ]
  },
  {
   "cell_type": "code",
   "execution_count": 43,
   "metadata": {
    "vscode": {
     "languageId": "r"
    }
   },
   "outputs": [
    {
     "data": {
      "image/png": "[encoded data removed]",
      "text/plain": [
       "plot without title"
      ]
     },
     "metadata": {
      "image/png": {
       "height": 420,
       "width": 420
      }
     },
     "output_type": "display_data"
    }
   ],
   "source": [
    "\n",
    "\n",
    "myplots <- list()\n",
    "\n",
    "for(cl in 1:best_K_rock){\n",
    "  dist_values = length(unique(df_during[df_during$cluster == cl,]$scholarity))\n",
    "  plt <- ggplot() + geom_histogram( \n",
    "          color='black',\n",
    "          data=df_during[df_during$cluster == cl,], \n",
    "          aes(x=scholarity, y=..count../sum(..count..)*100),\n",
    "          fill=colors[cl],\n",
    "          bins = dist_values,\n",
    "          position=position_dodge()\n",
    "        ) + ylab(\"Relative Frequency\")+ ggtitle(cl) + ylim(0, 100) \n",
    "  myplots[[cl]] <- plt \n",
    "}\n",
    "\n",
    "\n",
    "wrap_plots(myplots)"
   ]
  }
 ],
 "metadata": {
  "kernelspec": {
   "display_name": "R",
   "language": "R",
   "name": "ir"
  },
  "language_info": {
   "codemirror_mode": "r",
   "file_extension": ".r",
   "mimetype": "text/x-r-source",
   "name": "R",
   "pygments_lexer": "r",
   "version": "4.1.0"
  },
  "orig_nbformat": 4
 },
 "nbformat": 4,
 "nbformat_minor": 2
}
