{
 "cells": [
  {
   "cell_type": "markdown",
   "metadata": {},
   "source": [
    "## Importing packages"
   ]
  },
  {
   "cell_type": "code",
   "execution_count": null,
   "metadata": {
    "vscode": {
     "languageId": "r"
    }
   },
   "outputs": [],
   "source": [
    "library(here, help, pos = 2, lib.loc = NULL)\n",
    "source(here('Modules','modules.R'))\n",
    "source(here('Modules','preprocessing_clustering.R'))\n",
    "#install_all_packages()\n",
    "load_library_packages()"
   ]
  },
  {
   "cell_type": "markdown",
   "metadata": {},
   "source": [
    "## Clustering - Kmodes"
   ]
  },
  {
   "cell_type": "code",
   "execution_count": 2,
   "metadata": {
    "vscode": {
     "languageId": "r"
    }
   },
   "outputs": [
    {
     "data": {
      "text/html": [
       "<style>\n",
       ".list-inline {list-style: none; margin:0; padding: 0}\n",
       ".list-inline>li {display: inline-block}\n",
       ".list-inline>li:not(:last-child)::after {content: \"\\00b7\"; padding: 0 .5ex}\n",
       "</style>\n",
       "<ol class=list-inline><li>50</li><li>6</li></ol>\n"
      ],
      "text/latex": [
       "\\begin{enumerate*}\n",
       "\\item 50\n",
       "\\item 6\n",
       "\\end{enumerate*}\n"
      ],
      "text/markdown": [
       "1. 50\n",
       "2. 6\n",
       "\n",
       "\n"
      ],
      "text/plain": [
       "[1] 50  6"
      ]
     },
     "metadata": {},
     "output_type": "display_data"
    }
   ],
   "source": [
    "df_during_facilitators_dist <- distinct(df_during_facilitators)\n",
    "dim(df_during_facilitators_dist)"
   ]
  },
  {
   "cell_type": "markdown",
   "metadata": {},
   "source": [
    "### Silhoette \n",
    "<hr />"
   ]
  },
  {
   "cell_type": "code",
   "execution_count": 3,
   "metadata": {
    "vscode": {
     "languageId": "r"
    }
   },
   "outputs": [
    {
     "data": {
      "text/html": [
       "<table class=\"dataframe\">\n",
       "<caption>A matrix: 6 × 50 of type dbl</caption>\n",
       "<tbody>\n",
       "\t<tr><td>0</td><td>2</td><td>1</td><td>2</td><td>4</td><td>1</td><td>2</td><td>1</td><td>3</td><td>2</td><td>...</td><td>2</td><td>3</td><td>3</td><td>3</td><td>3</td><td>4</td><td>5</td><td>4</td><td>1</td><td>2</td></tr>\n",
       "\t<tr><td>2</td><td>0</td><td>3</td><td>2</td><td>4</td><td>3</td><td>2</td><td>1</td><td>1</td><td>2</td><td>...</td><td>4</td><td>3</td><td>3</td><td>3</td><td>3</td><td>4</td><td>5</td><td>2</td><td>3</td><td>4</td></tr>\n",
       "\t<tr><td>1</td><td>3</td><td>0</td><td>3</td><td>3</td><td>2</td><td>3</td><td>2</td><td>4</td><td>1</td><td>...</td><td>3</td><td>2</td><td>2</td><td>2</td><td>4</td><td>5</td><td>4</td><td>3</td><td>2</td><td>1</td></tr>\n",
       "\t<tr><td>2</td><td>2</td><td>3</td><td>0</td><td>2</td><td>3</td><td>2</td><td>1</td><td>3</td><td>2</td><td>...</td><td>2</td><td>5</td><td>3</td><td>3</td><td>5</td><td>2</td><td>3</td><td>4</td><td>3</td><td>4</td></tr>\n",
       "\t<tr><td>4</td><td>4</td><td>3</td><td>2</td><td>0</td><td>3</td><td>2</td><td>3</td><td>3</td><td>2</td><td>...</td><td>2</td><td>5</td><td>3</td><td>3</td><td>5</td><td>2</td><td>1</td><td>4</td><td>5</td><td>4</td></tr>\n",
       "\t<tr><td>1</td><td>3</td><td>2</td><td>3</td><td>3</td><td>0</td><td>1</td><td>2</td><td>2</td><td>3</td><td>...</td><td>1</td><td>4</td><td>4</td><td>4</td><td>2</td><td>3</td><td>4</td><td>5</td><td>2</td><td>3</td></tr>\n",
       "</tbody>\n",
       "</table>\n"
      ],
      "text/latex": [
       "A matrix: 6 × 50 of type dbl\n",
       "\\begin{tabular}{lllllllllllllllllllll}\n",
       "\t 0 & 2 & 1 & 2 & 4 & 1 & 2 & 1 & 3 & 2 & ... & 2 & 3 & 3 & 3 & 3 & 4 & 5 & 4 & 1 & 2\\\\\n",
       "\t 2 & 0 & 3 & 2 & 4 & 3 & 2 & 1 & 1 & 2 & ... & 4 & 3 & 3 & 3 & 3 & 4 & 5 & 2 & 3 & 4\\\\\n",
       "\t 1 & 3 & 0 & 3 & 3 & 2 & 3 & 2 & 4 & 1 & ... & 3 & 2 & 2 & 2 & 4 & 5 & 4 & 3 & 2 & 1\\\\\n",
       "\t 2 & 2 & 3 & 0 & 2 & 3 & 2 & 1 & 3 & 2 & ... & 2 & 5 & 3 & 3 & 5 & 2 & 3 & 4 & 3 & 4\\\\\n",
       "\t 4 & 4 & 3 & 2 & 0 & 3 & 2 & 3 & 3 & 2 & ... & 2 & 5 & 3 & 3 & 5 & 2 & 1 & 4 & 5 & 4\\\\\n",
       "\t 1 & 3 & 2 & 3 & 3 & 0 & 1 & 2 & 2 & 3 & ... & 1 & 4 & 4 & 4 & 2 & 3 & 4 & 5 & 2 & 3\\\\\n",
       "\\end{tabular}\n"
      ],
      "text/markdown": [
       "\n",
       "A matrix: 6 × 50 of type dbl\n",
       "\n",
       "| 0 | 2 | 1 | 2 | 4 | 1 | 2 | 1 | 3 | 2 | ... | 2 | 3 | 3 | 3 | 3 | 4 | 5 | 4 | 1 | 2 |\n",
       "| 2 | 0 | 3 | 2 | 4 | 3 | 2 | 1 | 1 | 2 | ... | 4 | 3 | 3 | 3 | 3 | 4 | 5 | 2 | 3 | 4 |\n",
       "| 1 | 3 | 0 | 3 | 3 | 2 | 3 | 2 | 4 | 1 | ... | 3 | 2 | 2 | 2 | 4 | 5 | 4 | 3 | 2 | 1 |\n",
       "| 2 | 2 | 3 | 0 | 2 | 3 | 2 | 1 | 3 | 2 | ... | 2 | 5 | 3 | 3 | 5 | 2 | 3 | 4 | 3 | 4 |\n",
       "| 4 | 4 | 3 | 2 | 0 | 3 | 2 | 3 | 3 | 2 | ... | 2 | 5 | 3 | 3 | 5 | 2 | 1 | 4 | 5 | 4 |\n",
       "| 1 | 3 | 2 | 3 | 3 | 0 | 1 | 2 | 2 | 3 | ... | 1 | 4 | 4 | 4 | 2 | 3 | 4 | 5 | 2 | 3 |\n",
       "\n"
      ],
      "text/plain": [
       "     [,1] [,2] [,3] [,4] [,5] [,6] [,7] [,8] [,9] [,10] [,11] [,12] [,13] [,14]\n",
       "[1,] 0    2    1    2    4    1    2    1    3    2     ...   2     3     3    \n",
       "[2,] 2    0    3    2    4    3    2    1    1    2     ...   4     3     3    \n",
       "[3,] 1    3    0    3    3    2    3    2    4    1     ...   3     2     2    \n",
       "[4,] 2    2    3    0    2    3    2    1    3    2     ...   2     5     3    \n",
       "[5,] 4    4    3    2    0    3    2    3    3    2     ...   2     5     3    \n",
       "[6,] 1    3    2    3    3    0    1    2    2    3     ...   1     4     4    \n",
       "     [,15] [,16] [,17] [,18] [,19] [,20] [,21]\n",
       "[1,] 3     3     4     5     4     1     2    \n",
       "[2,] 3     3     4     5     2     3     4    \n",
       "[3,] 2     4     5     4     3     2     1    \n",
       "[4,] 3     5     2     3     4     3     4    \n",
       "[5,] 3     5     2     1     4     5     4    \n",
       "[6,] 4     2     3     4     5     2     3    "
      ]
     },
     "metadata": {},
     "output_type": "display_data"
    }
   ],
   "source": [
    "df_matrix <- data.matrix(df_during_facilitators_dist) - 1\n",
    "similarity_matrix <- df_matrix %*% t(df_matrix) + ((!df_matrix) + 0) %*% ((!t(df_matrix)) + 0)\n",
    "dissimilarity_matrix <- ncol(df_during_facilitators_dist) - similarity_matrix\n",
    "head(dissimilarity_matrix)"
   ]
  },
  {
   "cell_type": "markdown",
   "metadata": {},
   "source": [
    "#### Scanning parameters\n"
   ]
  },
  {
   "cell_type": "code",
   "execution_count": 4,
   "metadata": {
    "vscode": {
     "languageId": "r"
    }
   },
   "outputs": [],
   "source": [
    "source(here('Modules','modules.R'))\n",
    "nseed <- 1000\n",
    "nk <- nrow(distinct(df_during_facilitators))\n",
    "# ks_by_seed <- data.frame(matrix(NA, nrow = nseed, ncol = nk-1))\n",
    "# for (seed in 1:nseed) {\n",
    "#     silhouette_scs <- c()\n",
    "#     for (k in 2:nk) {\n",
    "#         sc <- silhouette_values_kmodes(\n",
    "#             num_clusters = k,\n",
    "#             df = df_during_facilitators_dist,\n",
    "#             diss_matrix = dissimilarity_matrix,\n",
    "#             iters = 200,\n",
    "#             s = seed)[[1]]\n",
    "\n",
    "#         silhouette_scs <- append(silhouette_scs, sc)\n",
    "#     }\n",
    "\n",
    "#     ks_by_seed[seed, ] <- silhouette_scs\n",
    "# }\n",
    "\n",
    "# write.csv(\n",
    "#     ks_by_seed,\n",
    "#     \"silhouette_kmodes_facilitators.csv\", row.names = FALSE\n",
    "# )"
   ]
  },
  {
   "cell_type": "markdown",
   "metadata": {},
   "source": [
    "#### Results"
   ]
  },
  {
   "cell_type": "code",
   "execution_count": 5,
   "metadata": {
    "vscode": {
     "languageId": "r"
    }
   },
   "outputs": [
    {
     "data": {
      "text/html": [
       "<table class=\"dataframe\">\n",
       "<caption>A data.frame: 6 × 50</caption>\n",
       "<thead>\n",
       "\t<tr><th></th><th scope=col>2</th><th scope=col>3</th><th scope=col>4</th><th scope=col>5</th><th scope=col>6</th><th scope=col>7</th><th scope=col>8</th><th scope=col>9</th><th scope=col>10</th><th scope=col>11</th><th scope=col>...</th><th scope=col>42</th><th scope=col>43</th><th scope=col>44</th><th scope=col>45</th><th scope=col>46</th><th scope=col>47</th><th scope=col>48</th><th scope=col>49</th><th scope=col>50</th><th scope=col>seed</th></tr>\n",
       "\t<tr><th></th><th scope=col>&lt;dbl&gt;</th><th scope=col>&lt;dbl&gt;</th><th scope=col>&lt;dbl&gt;</th><th scope=col>&lt;dbl&gt;</th><th scope=col>&lt;dbl&gt;</th><th scope=col>&lt;dbl&gt;</th><th scope=col>&lt;dbl&gt;</th><th scope=col>&lt;dbl&gt;</th><th scope=col>&lt;dbl&gt;</th><th scope=col>&lt;dbl&gt;</th><th scope=col>...</th><th scope=col>&lt;dbl&gt;</th><th scope=col>&lt;dbl&gt;</th><th scope=col>&lt;dbl&gt;</th><th scope=col>&lt;dbl&gt;</th><th scope=col>&lt;dbl&gt;</th><th scope=col>&lt;dbl&gt;</th><th scope=col>&lt;dbl&gt;</th><th scope=col>&lt;dbl&gt;</th><th scope=col>&lt;int&gt;</th><th scope=col>&lt;int&gt;</th></tr>\n",
       "</thead>\n",
       "<tbody>\n",
       "\t<tr><th scope=row>1</th><td>0.1767410</td><td>0.2483919</td><td>0.2770006</td><td>0.2968379</td><td>0.2963784</td><td>0.3128294</td><td>0.3128386</td><td>0.3332191</td><td>0.3359331</td><td>0.3483126</td><td>...</td><td>0.08050000</td><td>0.06000000</td><td>0.05000000</td><td>0.05000000</td><td>0.04000000</td><td>0.03000000</td><td>0.02000000</td><td>0.01</td><td>0</td><td>1</td></tr>\n",
       "\t<tr><th scope=row>2</th><td>0.1797035</td><td>0.2118778</td><td>0.2254675</td><td>0.2496203</td><td>0.2625852</td><td>0.2701196</td><td>0.2885221</td><td>0.3107560</td><td>0.3236318</td><td>0.3113732</td><td>...</td><td>0.07733333</td><td>0.06733333</td><td>0.06733333</td><td>0.06733333</td><td>0.05733333</td><td>0.03000000</td><td>0.02000000</td><td>0.01</td><td>0</td><td>2</td></tr>\n",
       "\t<tr><th scope=row>3</th><td>0.1686111</td><td>0.2940836</td><td>0.3095977</td><td>0.3169967</td><td>0.2996128</td><td>0.2895942</td><td>0.3437470</td><td>0.2558095</td><td>0.2788511</td><td>0.2810096</td><td>...</td><td>0.10983333</td><td>0.09983333</td><td>0.08983333</td><td>0.07933333</td><td>0.06066667</td><td>0.03333333</td><td>0.02333333</td><td>0.01</td><td>0</td><td>3</td></tr>\n",
       "\t<tr><th scope=row>4</th><td>0.1846608</td><td>0.2595871</td><td>0.2737431</td><td>0.2769575</td><td>0.2567031</td><td>0.3573011</td><td>0.3638788</td><td>0.3640479</td><td>0.2878947</td><td>0.2784422</td><td>...</td><td>0.07650000</td><td>0.05266667</td><td>0.06266667</td><td>0.05266667</td><td>0.04333333</td><td>0.03333333</td><td>0.02000000</td><td>0.01</td><td>0</td><td>4</td></tr>\n",
       "\t<tr><th scope=row>5</th><td>0.2084108</td><td>0.2032385</td><td>0.2406899</td><td>0.2524334</td><td>0.2738169</td><td>0.2657069</td><td>0.2586491</td><td>0.2347075</td><td>0.2514419</td><td>0.3123584</td><td>...</td><td>0.06000000</td><td>0.05000000</td><td>0.04000000</td><td>0.03000000</td><td>0.03000000</td><td>0.03000000</td><td>0.02000000</td><td>0.01</td><td>0</td><td>5</td></tr>\n",
       "\t<tr><th scope=row>6</th><td>0.1624177</td><td>0.1786565</td><td>0.2634002</td><td>0.2544575</td><td>0.2587923</td><td>0.2661664</td><td>0.2814051</td><td>0.2844178</td><td>0.3013417</td><td>0.3106640</td><td>...</td><td>0.07666667</td><td>0.05800000</td><td>0.04800000</td><td>0.05266667</td><td>0.04866667</td><td>0.03866667</td><td>0.02866667</td><td>0.01</td><td>0</td><td>6</td></tr>\n",
       "</tbody>\n",
       "</table>\n"
      ],
      "text/latex": [
       "A data.frame: 6 × 50\n",
       "\\begin{tabular}{r|lllllllllllllllllllll}\n",
       "  & 2 & 3 & 4 & 5 & 6 & 7 & 8 & 9 & 10 & 11 & ... & 42 & 43 & 44 & 45 & 46 & 47 & 48 & 49 & 50 & seed\\\\\n",
       "  & <dbl> & <dbl> & <dbl> & <dbl> & <dbl> & <dbl> & <dbl> & <dbl> & <dbl> & <dbl> & ... & <dbl> & <dbl> & <dbl> & <dbl> & <dbl> & <dbl> & <dbl> & <dbl> & <int> & <int>\\\\\n",
       "\\hline\n",
       "\t1 & 0.1767410 & 0.2483919 & 0.2770006 & 0.2968379 & 0.2963784 & 0.3128294 & 0.3128386 & 0.3332191 & 0.3359331 & 0.3483126 & ... & 0.08050000 & 0.06000000 & 0.05000000 & 0.05000000 & 0.04000000 & 0.03000000 & 0.02000000 & 0.01 & 0 & 1\\\\\n",
       "\t2 & 0.1797035 & 0.2118778 & 0.2254675 & 0.2496203 & 0.2625852 & 0.2701196 & 0.2885221 & 0.3107560 & 0.3236318 & 0.3113732 & ... & 0.07733333 & 0.06733333 & 0.06733333 & 0.06733333 & 0.05733333 & 0.03000000 & 0.02000000 & 0.01 & 0 & 2\\\\\n",
       "\t3 & 0.1686111 & 0.2940836 & 0.3095977 & 0.3169967 & 0.2996128 & 0.2895942 & 0.3437470 & 0.2558095 & 0.2788511 & 0.2810096 & ... & 0.10983333 & 0.09983333 & 0.08983333 & 0.07933333 & 0.06066667 & 0.03333333 & 0.02333333 & 0.01 & 0 & 3\\\\\n",
       "\t4 & 0.1846608 & 0.2595871 & 0.2737431 & 0.2769575 & 0.2567031 & 0.3573011 & 0.3638788 & 0.3640479 & 0.2878947 & 0.2784422 & ... & 0.07650000 & 0.05266667 & 0.06266667 & 0.05266667 & 0.04333333 & 0.03333333 & 0.02000000 & 0.01 & 0 & 4\\\\\n",
       "\t5 & 0.2084108 & 0.2032385 & 0.2406899 & 0.2524334 & 0.2738169 & 0.2657069 & 0.2586491 & 0.2347075 & 0.2514419 & 0.3123584 & ... & 0.06000000 & 0.05000000 & 0.04000000 & 0.03000000 & 0.03000000 & 0.03000000 & 0.02000000 & 0.01 & 0 & 5\\\\\n",
       "\t6 & 0.1624177 & 0.1786565 & 0.2634002 & 0.2544575 & 0.2587923 & 0.2661664 & 0.2814051 & 0.2844178 & 0.3013417 & 0.3106640 & ... & 0.07666667 & 0.05800000 & 0.04800000 & 0.05266667 & 0.04866667 & 0.03866667 & 0.02866667 & 0.01 & 0 & 6\\\\\n",
       "\\end{tabular}\n"
      ],
      "text/markdown": [
       "\n",
       "A data.frame: 6 × 50\n",
       "\n",
       "| <!--/--> | 2 &lt;dbl&gt; | 3 &lt;dbl&gt; | 4 &lt;dbl&gt; | 5 &lt;dbl&gt; | 6 &lt;dbl&gt; | 7 &lt;dbl&gt; | 8 &lt;dbl&gt; | 9 &lt;dbl&gt; | 10 &lt;dbl&gt; | 11 &lt;dbl&gt; | ... ... | 42 &lt;dbl&gt; | 43 &lt;dbl&gt; | 44 &lt;dbl&gt; | 45 &lt;dbl&gt; | 46 &lt;dbl&gt; | 47 &lt;dbl&gt; | 48 &lt;dbl&gt; | 49 &lt;dbl&gt; | 50 &lt;int&gt; | seed &lt;int&gt; |\n",
       "|---|---|---|---|---|---|---|---|---|---|---|---|---|---|---|---|---|---|---|---|---|---|\n",
       "| 1 | 0.1767410 | 0.2483919 | 0.2770006 | 0.2968379 | 0.2963784 | 0.3128294 | 0.3128386 | 0.3332191 | 0.3359331 | 0.3483126 | ... | 0.08050000 | 0.06000000 | 0.05000000 | 0.05000000 | 0.04000000 | 0.03000000 | 0.02000000 | 0.01 | 0 | 1 |\n",
       "| 2 | 0.1797035 | 0.2118778 | 0.2254675 | 0.2496203 | 0.2625852 | 0.2701196 | 0.2885221 | 0.3107560 | 0.3236318 | 0.3113732 | ... | 0.07733333 | 0.06733333 | 0.06733333 | 0.06733333 | 0.05733333 | 0.03000000 | 0.02000000 | 0.01 | 0 | 2 |\n",
       "| 3 | 0.1686111 | 0.2940836 | 0.3095977 | 0.3169967 | 0.2996128 | 0.2895942 | 0.3437470 | 0.2558095 | 0.2788511 | 0.2810096 | ... | 0.10983333 | 0.09983333 | 0.08983333 | 0.07933333 | 0.06066667 | 0.03333333 | 0.02333333 | 0.01 | 0 | 3 |\n",
       "| 4 | 0.1846608 | 0.2595871 | 0.2737431 | 0.2769575 | 0.2567031 | 0.3573011 | 0.3638788 | 0.3640479 | 0.2878947 | 0.2784422 | ... | 0.07650000 | 0.05266667 | 0.06266667 | 0.05266667 | 0.04333333 | 0.03333333 | 0.02000000 | 0.01 | 0 | 4 |\n",
       "| 5 | 0.2084108 | 0.2032385 | 0.2406899 | 0.2524334 | 0.2738169 | 0.2657069 | 0.2586491 | 0.2347075 | 0.2514419 | 0.3123584 | ... | 0.06000000 | 0.05000000 | 0.04000000 | 0.03000000 | 0.03000000 | 0.03000000 | 0.02000000 | 0.01 | 0 | 5 |\n",
       "| 6 | 0.1624177 | 0.1786565 | 0.2634002 | 0.2544575 | 0.2587923 | 0.2661664 | 0.2814051 | 0.2844178 | 0.3013417 | 0.3106640 | ... | 0.07666667 | 0.05800000 | 0.04800000 | 0.05266667 | 0.04866667 | 0.03866667 | 0.02866667 | 0.01 | 0 | 6 |\n",
       "\n"
      ],
      "text/plain": [
       "  2         3         4         5         6         7         8        \n",
       "1 0.1767410 0.2483919 0.2770006 0.2968379 0.2963784 0.3128294 0.3128386\n",
       "2 0.1797035 0.2118778 0.2254675 0.2496203 0.2625852 0.2701196 0.2885221\n",
       "3 0.1686111 0.2940836 0.3095977 0.3169967 0.2996128 0.2895942 0.3437470\n",
       "4 0.1846608 0.2595871 0.2737431 0.2769575 0.2567031 0.3573011 0.3638788\n",
       "5 0.2084108 0.2032385 0.2406899 0.2524334 0.2738169 0.2657069 0.2586491\n",
       "6 0.1624177 0.1786565 0.2634002 0.2544575 0.2587923 0.2661664 0.2814051\n",
       "  9         10        11        ... 42         43         44         45        \n",
       "1 0.3332191 0.3359331 0.3483126 ... 0.08050000 0.06000000 0.05000000 0.05000000\n",
       "2 0.3107560 0.3236318 0.3113732 ... 0.07733333 0.06733333 0.06733333 0.06733333\n",
       "3 0.2558095 0.2788511 0.2810096 ... 0.10983333 0.09983333 0.08983333 0.07933333\n",
       "4 0.3640479 0.2878947 0.2784422 ... 0.07650000 0.05266667 0.06266667 0.05266667\n",
       "5 0.2347075 0.2514419 0.3123584 ... 0.06000000 0.05000000 0.04000000 0.03000000\n",
       "6 0.2844178 0.3013417 0.3106640 ... 0.07666667 0.05800000 0.04800000 0.05266667\n",
       "  46         47         48         49   50 seed\n",
       "1 0.04000000 0.03000000 0.02000000 0.01 0  1   \n",
       "2 0.05733333 0.03000000 0.02000000 0.01 0  2   \n",
       "3 0.06066667 0.03333333 0.02333333 0.01 0  3   \n",
       "4 0.04333333 0.03333333 0.02000000 0.01 0  4   \n",
       "5 0.03000000 0.03000000 0.02000000 0.01 0  5   \n",
       "6 0.04866667 0.03866667 0.02866667 0.01 0  6   "
      ]
     },
     "metadata": {},
     "output_type": "display_data"
    }
   ],
   "source": [
    "scs <- read.csv(\"silhouette_kmodes_facilitators.csv\")\n",
    "scs[, ncol(scs)+1] <-  seq.int(nrow(scs))\n",
    "colnames(scs) <- append(2:nrow(distinct(df_during_facilitators)), \"seed\")\n",
    "head(scs)"
   ]
  },
  {
   "cell_type": "markdown",
   "metadata": {},
   "source": [
    "####  Best K and best seed by highest sample mean"
   ]
  },
  {
   "cell_type": "code",
   "execution_count": 6,
   "metadata": {
    "vscode": {
     "languageId": "r"
    }
   },
   "outputs": [
    {
     "name": "stdout",
     "output_type": "stream",
     "text": [
      "[1] \"Best K\"\n",
      "[1] 12\n",
      "[1] \"Best Seed\"\n",
      "[1] 326\n",
      "[1] \"Silhouette\"\n",
      "[1] 0.4194691\n"
     ]
    }
   ],
   "source": [
    "print(\"Best K\")\n",
    "best_K_kmodes <- match(max(apply(scs, 2, mean)[1:ncol(scs)-1]), apply(scs, 2, mean)) + 1\n",
    "print(best_K_kmodes)\n",
    "print(\"Best Seed\")\n",
    "best_seed_kmodes <- match(max(scs[, best_K_kmodes-1]), scs[, best_K_kmodes-1])\n",
    "print(best_seed_kmodes)\n",
    "print(\"Silhouette\")\n",
    "print(max(scs[, best_K_kmodes-1]))"
   ]
  },
  {
   "cell_type": "code",
   "execution_count": 8,
   "metadata": {
    "vscode": {
     "languageId": "r"
    }
   },
   "outputs": [
    {
     "data": {
      "image/png": "[encoded data removed]",
      "text/plain": [
       "plot without title"
      ]
     },
     "metadata": {
      "image/png": {
       "height": 360,
       "width": 900
      }
     },
     "output_type": "display_data"
    }
   ],
   "source": [
    "\n",
    "means_df <- data.frame(mean = apply(scs, 2, mean)[1:(nk-2)], k = names(apply(scs, 2, mean)[1:(nk-2)]))\n",
    "options(repr.plot.width = 15, repr.plot.height =6)\n",
    "ggplot(data=means_df, aes(x=factor(as.numeric(k)), y=mean, group=1)) +\n",
    "    geom_line(size=0.7) + geom_point(size=1.5) + \n",
    "    geom_vline(xintercept = best_K_kmodes-1, color = \"red\", size=0.8) + \n",
    "    ggtitle(\"Kmodes (Adjusted Silhouette Score) - Facilitators dataset\") +\n",
    "    xlab('Number of clusters (K)') +\n",
    "    ylab('Mean of Adjusted Silhouette Score')+ \n",
    "    theme(text = element_text(size = 21)) \n",
    "\n",
    "\n",
    "ggsave(path=\"graphs\", file=\"metric_evolution_facilitators_KS.jpeg\", width = 15, height = 6)\n"
   ]
  },
  {
   "cell_type": "markdown",
   "metadata": {},
   "source": [
    "#### Evaluating the silhuette coefficient for best seed"
   ]
  },
  {
   "cell_type": "code",
   "execution_count": 13,
   "metadata": {
    "vscode": {
     "languageId": "r"
    }
   },
   "outputs": [],
   "source": [
    "# silhoutte_result <-  silhouette_values(num_clusters=3, df=df_during, diss_matrix=dissimilarity_matrix, iters=200, s=68)\n",
    "# coef_data <- data.frame(coef=silhoutte_result[[2]], clust=silhoutte_result[[3]]$cluster)\n",
    "# coef_data <- coef_data[order(coef_data$coef, decreasing=TRUE), ]\n",
    "# coef_data <- coef_data[order(coef_data$clust, decreasing=TRUE), ]\n",
    "# coef_data$clust <- as.factor(coef_data$clust )\n",
    "# coef_data$ID <- seq.int(nrow(coef_data))\n",
    "\n",
    "# ggplot(data = coef_data, aes(y=coef, x=ID, fill=clust)) + \n",
    "#   geom_bar(stat = \"identity\") + \n",
    "#   geom_hline(yintercept=mean(coef_data$coef), linetype=\"dashed\", color = \"red\") + \n",
    "#   coord_flip() + \n",
    "#   scale_x_reverse() + \n",
    "#   theme(panel.grid.major = element_blank(), panel.grid.minor = element_blank())"
   ]
  },
  {
   "cell_type": "markdown",
   "metadata": {},
   "source": [
    "## Exploring Kmodes best k"
   ]
  },
  {
   "cell_type": "code",
   "execution_count": 14,
   "metadata": {
    "vscode": {
     "languageId": "r"
    }
   },
   "outputs": [
    {
     "data": {
      "text/html": [
       "<table class=\"dataframe\">\n",
       "<caption>A data.frame: 6 × 7</caption>\n",
       "<thead>\n",
       "\t<tr><th></th><th scope=col>PA_easiness_outdoor_activities</th><th scope=col>PA_easiness_professional_guidance</th><th scope=col>PA_easiness_music</th><th scope=col>PA_easiness_others</th><th scope=col>PA_facilitator_home</th><th scope=col>PA_facilitator_group</th><th scope=col>cluster</th></tr>\n",
       "\t<tr><th></th><th scope=col>&lt;fct&gt;</th><th scope=col>&lt;fct&gt;</th><th scope=col>&lt;fct&gt;</th><th scope=col>&lt;fct&gt;</th><th scope=col>&lt;fct&gt;</th><th scope=col>&lt;fct&gt;</th><th scope=col>&lt;int&gt;</th></tr>\n",
       "</thead>\n",
       "<tbody>\n",
       "\t<tr><th scope=row>1</th><td>1</td><td>0</td><td>0</td><td>0</td><td>1</td><td>0</td><td> 3</td></tr>\n",
       "\t<tr><th scope=row>2</th><td>0</td><td>0</td><td>0</td><td>0</td><td>0</td><td>0</td><td> 2</td></tr>\n",
       "\t<tr><th scope=row>3</th><td>1</td><td>1</td><td>0</td><td>0</td><td>1</td><td>0</td><td> 2</td></tr>\n",
       "\t<tr><th scope=row>4</th><td>0</td><td>0</td><td>0</td><td>0</td><td>1</td><td>1</td><td>12</td></tr>\n",
       "\t<tr><th scope=row>5</th><td>0</td><td>1</td><td>1</td><td>0</td><td>1</td><td>1</td><td> 9</td></tr>\n",
       "\t<tr><th scope=row>6</th><td>1</td><td>0</td><td>1</td><td>0</td><td>1</td><td>0</td><td> 3</td></tr>\n",
       "</tbody>\n",
       "</table>\n"
      ],
      "text/latex": [
       "A data.frame: 6 × 7\n",
       "\\begin{tabular}{r|lllllll}\n",
       "  & PA\\_easiness\\_outdoor\\_activities & PA\\_easiness\\_professional\\_guidance & PA\\_easiness\\_music & PA\\_easiness\\_others & PA\\_facilitator\\_home & PA\\_facilitator\\_group & cluster\\\\\n",
       "  & <fct> & <fct> & <fct> & <fct> & <fct> & <fct> & <int>\\\\\n",
       "\\hline\n",
       "\t1 & 1 & 0 & 0 & 0 & 1 & 0 &  3\\\\\n",
       "\t2 & 0 & 0 & 0 & 0 & 0 & 0 &  2\\\\\n",
       "\t3 & 1 & 1 & 0 & 0 & 1 & 0 &  2\\\\\n",
       "\t4 & 0 & 0 & 0 & 0 & 1 & 1 & 12\\\\\n",
       "\t5 & 0 & 1 & 1 & 0 & 1 & 1 &  9\\\\\n",
       "\t6 & 1 & 0 & 1 & 0 & 1 & 0 &  3\\\\\n",
       "\\end{tabular}\n"
      ],
      "text/markdown": [
       "\n",
       "A data.frame: 6 × 7\n",
       "\n",
       "| <!--/--> | PA_easiness_outdoor_activities &lt;fct&gt; | PA_easiness_professional_guidance &lt;fct&gt; | PA_easiness_music &lt;fct&gt; | PA_easiness_others &lt;fct&gt; | PA_facilitator_home &lt;fct&gt; | PA_facilitator_group &lt;fct&gt; | cluster &lt;int&gt; |\n",
       "|---|---|---|---|---|---|---|---|\n",
       "| 1 | 1 | 0 | 0 | 0 | 1 | 0 |  3 |\n",
       "| 2 | 0 | 0 | 0 | 0 | 0 | 0 |  2 |\n",
       "| 3 | 1 | 1 | 0 | 0 | 1 | 0 |  2 |\n",
       "| 4 | 0 | 0 | 0 | 0 | 1 | 1 | 12 |\n",
       "| 5 | 0 | 1 | 1 | 0 | 1 | 1 |  9 |\n",
       "| 6 | 1 | 0 | 1 | 0 | 1 | 0 |  3 |\n",
       "\n"
      ],
      "text/plain": [
       "  PA_easiness_outdoor_activities PA_easiness_professional_guidance\n",
       "1 1                              0                                \n",
       "2 0                              0                                \n",
       "3 1                              1                                \n",
       "4 0                              0                                \n",
       "5 0                              1                                \n",
       "6 1                              0                                \n",
       "  PA_easiness_music PA_easiness_others PA_facilitator_home PA_facilitator_group\n",
       "1 0                 0                  1                   0                   \n",
       "2 0                 0                  0                   0                   \n",
       "3 0                 0                  1                   0                   \n",
       "4 0                 0                  1                   1                   \n",
       "5 1                 0                  1                   1                   \n",
       "6 1                 0                  1                   0                   \n",
       "  cluster\n",
       "1  3     \n",
       "2  2     \n",
       "3  2     \n",
       "4 12     \n",
       "5  9     \n",
       "6  3     "
      ]
     },
     "metadata": {},
     "output_type": "display_data"
    }
   ],
   "source": [
    "chosen_kmode <- kmodes_seed(df_during_facilitators_dist, best_K_kmodes, max_iter=200, seed=best_seed_kmodes)\n",
    "df_during_facilitators_dist$cluster <- chosen_kmode$cluster\n",
    "head(df_during_facilitators_dist)"
   ]
  },
  {
   "cell_type": "code",
   "execution_count": 15,
   "metadata": {
    "vscode": {
     "languageId": "r"
    }
   },
   "outputs": [
    {
     "data": {
      "text/html": [
       "1214"
      ],
      "text/latex": [
       "1214"
      ],
      "text/markdown": [
       "1214"
      ],
      "text/plain": [
       "[1] 1214"
      ]
     },
     "metadata": {},
     "output_type": "display_data"
    }
   ],
   "source": [
    "joint <- c(\n",
    "    'PA_easiness_outdoor_activities'='PA_easiness_outdoor_activities',\n",
    "    'PA_easiness_professional_guidance' = 'PA_easiness_professional_guidance',\n",
    "    'PA_easiness_music' = 'PA_easiness_music',\n",
    "    'PA_easiness_others' = 'PA_easiness_others',\n",
    "    'PA_facilitator_home' = 'PA_facilitator_home',\n",
    "    'PA_facilitator_group' = 'PA_facilitator_group'\n",
    ")\n",
    "\n",
    "df_during_facilitators <- left_join(df_during_facilitators, df_during_facilitators_dist, by = joint)\n",
    "df_during$cluster <- df_during_facilitators$cluster\n",
    "df_during_barriers$cluster <- df_during_facilitators$cluster\n",
    "\n",
    "nrow(df_during_facilitators)"
   ]
  },
  {
   "cell_type": "code",
   "execution_count": 16,
   "metadata": {
    "vscode": {
     "languageId": "r"
    }
   },
   "outputs": [
    {
     "data": {
      "text/plain": [
       "\n",
       "  1   2   3   4   5   6   7   8   9  10  11  12 \n",
       " 30 161 308  67   8  88  18  33  72 174  54 201 "
      ]
     },
     "metadata": {},
     "output_type": "display_data"
    }
   ],
   "source": [
    "table(df_during$cluster)"
   ]
  },
  {
   "cell_type": "markdown",
   "metadata": {},
   "source": [
    "### Profile Plots\n",
    "<hr />"
   ]
  },
  {
   "cell_type": "code",
   "execution_count": 17,
   "metadata": {
    "vscode": {
     "languageId": "r"
    }
   },
   "outputs": [],
   "source": [
    "colors <- c(\"pink1\", \"violet\", \"mediumpurple1\", \"slateblue1\", \"purple\", \"purple3\",\n",
    "        \"turquoise2\", \"skyblue\", \"steelblue\", \"blue2\", \"navyblue\",\n",
    "        \"orange\", \"tomato\", \"coral2\", \"palevioletred\", \"violetred\", \"red2\",\n",
    "        \"springgreen2\", \"yellowgreen\", \"palegreen4\",\n",
    "        \"wheat2\", \"tan\", \"tan2\", \"tan3\", \"brown\",\n",
    "        \"grey70\", \"grey50\", \"grey30\")"
   ]
  },
  {
   "cell_type": "code",
   "execution_count": null,
   "metadata": {
    "vscode": {
     "languageId": "r"
    }
   },
   "outputs": [],
   "source": [
    "create_cluster_histograms(\n",
    "    colors = colors, \n",
    "    df = df_during, \n",
    "    names = names(df_during[, 20:ncol(df_during)-1]),\n",
    "    best_k = best_K_kmodes\n",
    ")\n",
    "create_cluster_histograms(\n",
    "    colors = colors, \n",
    "    df = df_during_barriers, \n",
    "    names = names(df_during_barriers[, 1:ncol(df_during_barriers)-1]),\n",
    "    best_k = best_K_kmodes\n",
    ")"
   ]
  },
  {
   "cell_type": "markdown",
   "metadata": {},
   "source": [
    "#### Mode"
   ]
  },
  {
   "cell_type": "code",
   "execution_count": 19,
   "metadata": {
    "vscode": {
     "languageId": "r"
    }
   },
   "outputs": [
    {
     "data": {
      "text/html": [
       "<table class=\"dataframe\">\n",
       "<caption>A data.frame: 12 × 6</caption>\n",
       "<thead>\n",
       "\t<tr><th></th><th scope=col>PA_easiness_outdoor_activities</th><th scope=col>PA_easiness_professional_guidance</th><th scope=col>PA_easiness_music</th><th scope=col>PA_easiness_others</th><th scope=col>PA_facilitator_home</th><th scope=col>PA_facilitator_group</th></tr>\n",
       "\t<tr><th></th><th scope=col>&lt;fct&gt;</th><th scope=col>&lt;fct&gt;</th><th scope=col>&lt;fct&gt;</th><th scope=col>&lt;fct&gt;</th><th scope=col>&lt;fct&gt;</th><th scope=col>&lt;fct&gt;</th></tr>\n",
       "</thead>\n",
       "<tbody>\n",
       "\t<tr><th scope=row>1</th><td>1</td><td>1</td><td>1</td><td>1</td><td>1</td><td>0</td></tr>\n",
       "\t<tr><th scope=row>2</th><td>1</td><td>1</td><td>0</td><td>0</td><td>0</td><td>0</td></tr>\n",
       "\t<tr><th scope=row>3</th><td>1</td><td>0</td><td>0</td><td>0</td><td>1</td><td>0</td></tr>\n",
       "\t<tr><th scope=row>4</th><td>0</td><td>0</td><td>0</td><td>1</td><td>1</td><td>0</td></tr>\n",
       "\t<tr><th scope=row>5</th><td>1</td><td>0</td><td>0</td><td>1</td><td>0</td><td>0</td></tr>\n",
       "\t<tr><th scope=row>6</th><td>0</td><td>1</td><td>0</td><td>0</td><td>0</td><td>1</td></tr>\n",
       "\t<tr><th scope=row>7</th><td>1</td><td>0</td><td>0</td><td>0</td><td>0</td><td>1</td></tr>\n",
       "\t<tr><th scope=row>8</th><td>1</td><td>1</td><td>0</td><td>0</td><td>1</td><td>1</td></tr>\n",
       "\t<tr><th scope=row>9</th><td>0</td><td>1</td><td>1</td><td>1</td><td>1</td><td>1</td></tr>\n",
       "\t<tr><th scope=row>10</th><td>0</td><td>1</td><td>0</td><td>0</td><td>1</td><td>0</td></tr>\n",
       "\t<tr><th scope=row>11</th><td>1</td><td>1</td><td>1</td><td>0</td><td>0</td><td>0</td></tr>\n",
       "\t<tr><th scope=row>12</th><td>0</td><td>0</td><td>1</td><td>0</td><td>1</td><td>1</td></tr>\n",
       "</tbody>\n",
       "</table>\n"
      ],
      "text/latex": [
       "A data.frame: 12 × 6\n",
       "\\begin{tabular}{r|llllll}\n",
       "  & PA\\_easiness\\_outdoor\\_activities & PA\\_easiness\\_professional\\_guidance & PA\\_easiness\\_music & PA\\_easiness\\_others & PA\\_facilitator\\_home & PA\\_facilitator\\_group\\\\\n",
       "  & <fct> & <fct> & <fct> & <fct> & <fct> & <fct>\\\\\n",
       "\\hline\n",
       "\t1 & 1 & 1 & 1 & 1 & 1 & 0\\\\\n",
       "\t2 & 1 & 1 & 0 & 0 & 0 & 0\\\\\n",
       "\t3 & 1 & 0 & 0 & 0 & 1 & 0\\\\\n",
       "\t4 & 0 & 0 & 0 & 1 & 1 & 0\\\\\n",
       "\t5 & 1 & 0 & 0 & 1 & 0 & 0\\\\\n",
       "\t6 & 0 & 1 & 0 & 0 & 0 & 1\\\\\n",
       "\t7 & 1 & 0 & 0 & 0 & 0 & 1\\\\\n",
       "\t8 & 1 & 1 & 0 & 0 & 1 & 1\\\\\n",
       "\t9 & 0 & 1 & 1 & 1 & 1 & 1\\\\\n",
       "\t10 & 0 & 1 & 0 & 0 & 1 & 0\\\\\n",
       "\t11 & 1 & 1 & 1 & 0 & 0 & 0\\\\\n",
       "\t12 & 0 & 0 & 1 & 0 & 1 & 1\\\\\n",
       "\\end{tabular}\n"
      ],
      "text/markdown": [
       "\n",
       "A data.frame: 12 × 6\n",
       "\n",
       "| <!--/--> | PA_easiness_outdoor_activities &lt;fct&gt; | PA_easiness_professional_guidance &lt;fct&gt; | PA_easiness_music &lt;fct&gt; | PA_easiness_others &lt;fct&gt; | PA_facilitator_home &lt;fct&gt; | PA_facilitator_group &lt;fct&gt; |\n",
       "|---|---|---|---|---|---|---|\n",
       "| 1 | 1 | 1 | 1 | 1 | 1 | 0 |\n",
       "| 2 | 1 | 1 | 0 | 0 | 0 | 0 |\n",
       "| 3 | 1 | 0 | 0 | 0 | 1 | 0 |\n",
       "| 4 | 0 | 0 | 0 | 1 | 1 | 0 |\n",
       "| 5 | 1 | 0 | 0 | 1 | 0 | 0 |\n",
       "| 6 | 0 | 1 | 0 | 0 | 0 | 1 |\n",
       "| 7 | 1 | 0 | 0 | 0 | 0 | 1 |\n",
       "| 8 | 1 | 1 | 0 | 0 | 1 | 1 |\n",
       "| 9 | 0 | 1 | 1 | 1 | 1 | 1 |\n",
       "| 10 | 0 | 1 | 0 | 0 | 1 | 0 |\n",
       "| 11 | 1 | 1 | 1 | 0 | 0 | 0 |\n",
       "| 12 | 0 | 0 | 1 | 0 | 1 | 1 |\n",
       "\n"
      ],
      "text/plain": [
       "   PA_easiness_outdoor_activities PA_easiness_professional_guidance\n",
       "1  1                              1                                \n",
       "2  1                              1                                \n",
       "3  1                              0                                \n",
       "4  0                              0                                \n",
       "5  1                              0                                \n",
       "6  0                              1                                \n",
       "7  1                              0                                \n",
       "8  1                              1                                \n",
       "9  0                              1                                \n",
       "10 0                              1                                \n",
       "11 1                              1                                \n",
       "12 0                              0                                \n",
       "   PA_easiness_music PA_easiness_others PA_facilitator_home\n",
       "1  1                 1                  1                  \n",
       "2  0                 0                  0                  \n",
       "3  0                 0                  1                  \n",
       "4  0                 1                  1                  \n",
       "5  0                 1                  0                  \n",
       "6  0                 0                  0                  \n",
       "7  0                 0                  0                  \n",
       "8  0                 0                  1                  \n",
       "9  1                 1                  1                  \n",
       "10 0                 0                  1                  \n",
       "11 1                 0                  0                  \n",
       "12 1                 0                  1                  \n",
       "   PA_facilitator_group\n",
       "1  0                   \n",
       "2  0                   \n",
       "3  0                   \n",
       "4  0                   \n",
       "5  0                   \n",
       "6  1                   \n",
       "7  1                   \n",
       "8  1                   \n",
       "9  1                   \n",
       "10 0                   \n",
       "11 0                   \n",
       "12 1                   "
      ]
     },
     "metadata": {},
     "output_type": "display_data"
    }
   ],
   "source": [
    "chosen_kmode$mode"
   ]
  }
 ],
 "metadata": {
  "kernelspec": {
   "display_name": "R",
   "language": "R",
   "name": "ir"
  },
  "language_info": {
   "codemirror_mode": "r",
   "file_extension": ".r",
   "mimetype": "text/x-r-source",
   "name": "R",
   "pygments_lexer": "r",
   "version": "4.1.0"
  },
  "orig_nbformat": 4
 },
 "nbformat": 4,
 "nbformat_minor": 2
}
