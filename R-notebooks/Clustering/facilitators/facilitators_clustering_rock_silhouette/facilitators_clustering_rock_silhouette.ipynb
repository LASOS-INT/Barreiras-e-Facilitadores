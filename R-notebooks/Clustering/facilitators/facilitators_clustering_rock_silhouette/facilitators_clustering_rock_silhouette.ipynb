{
 "cells": [
  {
   "cell_type": "markdown",
   "metadata": {},
   "source": [
    "## Importing packages"
   ]
  },
  {
   "cell_type": "code",
   "execution_count": null,
   "metadata": {
    "vscode": {
     "languageId": "r"
    }
   },
   "outputs": [],
   "source": [
    "library(here, help, pos = 2, lib.loc = NULL)\n",
    "source(here('Modules','modules.R'))\n",
    "source(here('Modules','preprocessing_clustering.R'))\n",
    "# install_all_packages()\n",
    "load_library_packages()"
   ]
  },
  {
   "cell_type": "markdown",
   "metadata": {},
   "source": [
    "## Clustering - Rock Silhoette"
   ]
  },
  {
   "cell_type": "code",
   "execution_count": 3,
   "metadata": {
    "vscode": {
     "languageId": "r"
    }
   },
   "outputs": [
    {
     "data": {
      "text/html": [
       "50"
      ],
      "text/latex": [
       "50"
      ],
      "text/markdown": [
       "50"
      ],
      "text/plain": [
       "[1] 50"
      ]
     },
     "metadata": {},
     "output_type": "display_data"
    }
   ],
   "source": [
    "df_during_facilitators_dist <- distinct(df_during_facilitators)\n",
    "nrow(df_during_facilitators_dist)"
   ]
  },
  {
   "cell_type": "code",
   "execution_count": 4,
   "metadata": {
    "vscode": {
     "languageId": "r"
    }
   },
   "outputs": [
    {
     "data": {
      "text/html": [
       "<table class=\"dataframe\">\n",
       "<caption>A matrix: 6 × 50 of type dbl</caption>\n",
       "<tbody>\n",
       "\t<tr><td>0</td><td>2</td><td>1</td><td>2</td><td>4</td><td>1</td><td>2</td><td>1</td><td>3</td><td>2</td><td>...</td><td>2</td><td>3</td><td>3</td><td>3</td><td>3</td><td>4</td><td>5</td><td>4</td><td>1</td><td>2</td></tr>\n",
       "\t<tr><td>2</td><td>0</td><td>3</td><td>2</td><td>4</td><td>3</td><td>2</td><td>1</td><td>1</td><td>2</td><td>...</td><td>4</td><td>3</td><td>3</td><td>3</td><td>3</td><td>4</td><td>5</td><td>2</td><td>3</td><td>4</td></tr>\n",
       "\t<tr><td>1</td><td>3</td><td>0</td><td>3</td><td>3</td><td>2</td><td>3</td><td>2</td><td>4</td><td>1</td><td>...</td><td>3</td><td>2</td><td>2</td><td>2</td><td>4</td><td>5</td><td>4</td><td>3</td><td>2</td><td>1</td></tr>\n",
       "\t<tr><td>2</td><td>2</td><td>3</td><td>0</td><td>2</td><td>3</td><td>2</td><td>1</td><td>3</td><td>2</td><td>...</td><td>2</td><td>5</td><td>3</td><td>3</td><td>5</td><td>2</td><td>3</td><td>4</td><td>3</td><td>4</td></tr>\n",
       "\t<tr><td>4</td><td>4</td><td>3</td><td>2</td><td>0</td><td>3</td><td>2</td><td>3</td><td>3</td><td>2</td><td>...</td><td>2</td><td>5</td><td>3</td><td>3</td><td>5</td><td>2</td><td>1</td><td>4</td><td>5</td><td>4</td></tr>\n",
       "\t<tr><td>1</td><td>3</td><td>2</td><td>3</td><td>3</td><td>0</td><td>1</td><td>2</td><td>2</td><td>3</td><td>...</td><td>1</td><td>4</td><td>4</td><td>4</td><td>2</td><td>3</td><td>4</td><td>5</td><td>2</td><td>3</td></tr>\n",
       "</tbody>\n",
       "</table>\n"
      ],
      "text/latex": [
       "A matrix: 6 × 50 of type dbl\n",
       "\\begin{tabular}{lllllllllllllllllllll}\n",
       "\t 0 & 2 & 1 & 2 & 4 & 1 & 2 & 1 & 3 & 2 & ... & 2 & 3 & 3 & 3 & 3 & 4 & 5 & 4 & 1 & 2\\\\\n",
       "\t 2 & 0 & 3 & 2 & 4 & 3 & 2 & 1 & 1 & 2 & ... & 4 & 3 & 3 & 3 & 3 & 4 & 5 & 2 & 3 & 4\\\\\n",
       "\t 1 & 3 & 0 & 3 & 3 & 2 & 3 & 2 & 4 & 1 & ... & 3 & 2 & 2 & 2 & 4 & 5 & 4 & 3 & 2 & 1\\\\\n",
       "\t 2 & 2 & 3 & 0 & 2 & 3 & 2 & 1 & 3 & 2 & ... & 2 & 5 & 3 & 3 & 5 & 2 & 3 & 4 & 3 & 4\\\\\n",
       "\t 4 & 4 & 3 & 2 & 0 & 3 & 2 & 3 & 3 & 2 & ... & 2 & 5 & 3 & 3 & 5 & 2 & 1 & 4 & 5 & 4\\\\\n",
       "\t 1 & 3 & 2 & 3 & 3 & 0 & 1 & 2 & 2 & 3 & ... & 1 & 4 & 4 & 4 & 2 & 3 & 4 & 5 & 2 & 3\\\\\n",
       "\\end{tabular}\n"
      ],
      "text/markdown": [
       "\n",
       "A matrix: 6 × 50 of type dbl\n",
       "\n",
       "| 0 | 2 | 1 | 2 | 4 | 1 | 2 | 1 | 3 | 2 | ... | 2 | 3 | 3 | 3 | 3 | 4 | 5 | 4 | 1 | 2 |\n",
       "| 2 | 0 | 3 | 2 | 4 | 3 | 2 | 1 | 1 | 2 | ... | 4 | 3 | 3 | 3 | 3 | 4 | 5 | 2 | 3 | 4 |\n",
       "| 1 | 3 | 0 | 3 | 3 | 2 | 3 | 2 | 4 | 1 | ... | 3 | 2 | 2 | 2 | 4 | 5 | 4 | 3 | 2 | 1 |\n",
       "| 2 | 2 | 3 | 0 | 2 | 3 | 2 | 1 | 3 | 2 | ... | 2 | 5 | 3 | 3 | 5 | 2 | 3 | 4 | 3 | 4 |\n",
       "| 4 | 4 | 3 | 2 | 0 | 3 | 2 | 3 | 3 | 2 | ... | 2 | 5 | 3 | 3 | 5 | 2 | 1 | 4 | 5 | 4 |\n",
       "| 1 | 3 | 2 | 3 | 3 | 0 | 1 | 2 | 2 | 3 | ... | 1 | 4 | 4 | 4 | 2 | 3 | 4 | 5 | 2 | 3 |\n",
       "\n"
      ],
      "text/plain": [
       "     [,1] [,2] [,3] [,4] [,5] [,6] [,7] [,8] [,9] [,10] [,11] [,12] [,13] [,14]\n",
       "[1,] 0    2    1    2    4    1    2    1    3    2     ...   2     3     3    \n",
       "[2,] 2    0    3    2    4    3    2    1    1    2     ...   4     3     3    \n",
       "[3,] 1    3    0    3    3    2    3    2    4    1     ...   3     2     2    \n",
       "[4,] 2    2    3    0    2    3    2    1    3    2     ...   2     5     3    \n",
       "[5,] 4    4    3    2    0    3    2    3    3    2     ...   2     5     3    \n",
       "[6,] 1    3    2    3    3    0    1    2    2    3     ...   1     4     4    \n",
       "     [,15] [,16] [,17] [,18] [,19] [,20] [,21]\n",
       "[1,] 3     3     4     5     4     1     2    \n",
       "[2,] 3     3     4     5     2     3     4    \n",
       "[3,] 2     4     5     4     3     2     1    \n",
       "[4,] 3     5     2     3     4     3     4    \n",
       "[5,] 3     5     2     1     4     5     4    \n",
       "[6,] 4     2     3     4     5     2     3    "
      ]
     },
     "metadata": {},
     "output_type": "display_data"
    }
   ],
   "source": [
    "df_matrix <- data.matrix(df_during_facilitators_dist) - 1\n",
    "similarity_matrix <- df_matrix %*% t(df_matrix) + ((!df_matrix) + 0) %*% ((!t(df_matrix)) + 0)\n",
    "dissimilarity_matrix <- ncol(df_during_facilitators_dist) - similarity_matrix\n",
    "head(dissimilarity_matrix)"
   ]
  },
  {
   "cell_type": "markdown",
   "metadata": {},
   "source": [
    "### Silhoette \n",
    "<hr />"
   ]
  },
  {
   "cell_type": "code",
   "execution_count": 5,
   "metadata": {
    "vscode": {
     "languageId": "r"
    }
   },
   "outputs": [
    {
     "data": {
      "text/html": [
       "<table class=\"dataframe\">\n",
       "<caption>A matrix: 6 × 50 of type dbl</caption>\n",
       "<tbody>\n",
       "\t<tr><td>0</td><td>2</td><td>1</td><td>2</td><td>4</td><td>1</td><td>2</td><td>1</td><td>3</td><td>2</td><td>...</td><td>2</td><td>3</td><td>3</td><td>3</td><td>3</td><td>4</td><td>5</td><td>4</td><td>1</td><td>2</td></tr>\n",
       "\t<tr><td>2</td><td>0</td><td>3</td><td>2</td><td>4</td><td>3</td><td>2</td><td>1</td><td>1</td><td>2</td><td>...</td><td>4</td><td>3</td><td>3</td><td>3</td><td>3</td><td>4</td><td>5</td><td>2</td><td>3</td><td>4</td></tr>\n",
       "\t<tr><td>1</td><td>3</td><td>0</td><td>3</td><td>3</td><td>2</td><td>3</td><td>2</td><td>4</td><td>1</td><td>...</td><td>3</td><td>2</td><td>2</td><td>2</td><td>4</td><td>5</td><td>4</td><td>3</td><td>2</td><td>1</td></tr>\n",
       "\t<tr><td>2</td><td>2</td><td>3</td><td>0</td><td>2</td><td>3</td><td>2</td><td>1</td><td>3</td><td>2</td><td>...</td><td>2</td><td>5</td><td>3</td><td>3</td><td>5</td><td>2</td><td>3</td><td>4</td><td>3</td><td>4</td></tr>\n",
       "\t<tr><td>4</td><td>4</td><td>3</td><td>2</td><td>0</td><td>3</td><td>2</td><td>3</td><td>3</td><td>2</td><td>...</td><td>2</td><td>5</td><td>3</td><td>3</td><td>5</td><td>2</td><td>1</td><td>4</td><td>5</td><td>4</td></tr>\n",
       "\t<tr><td>1</td><td>3</td><td>2</td><td>3</td><td>3</td><td>0</td><td>1</td><td>2</td><td>2</td><td>3</td><td>...</td><td>1</td><td>4</td><td>4</td><td>4</td><td>2</td><td>3</td><td>4</td><td>5</td><td>2</td><td>3</td></tr>\n",
       "</tbody>\n",
       "</table>\n"
      ],
      "text/latex": [
       "A matrix: 6 × 50 of type dbl\n",
       "\\begin{tabular}{lllllllllllllllllllll}\n",
       "\t 0 & 2 & 1 & 2 & 4 & 1 & 2 & 1 & 3 & 2 & ... & 2 & 3 & 3 & 3 & 3 & 4 & 5 & 4 & 1 & 2\\\\\n",
       "\t 2 & 0 & 3 & 2 & 4 & 3 & 2 & 1 & 1 & 2 & ... & 4 & 3 & 3 & 3 & 3 & 4 & 5 & 2 & 3 & 4\\\\\n",
       "\t 1 & 3 & 0 & 3 & 3 & 2 & 3 & 2 & 4 & 1 & ... & 3 & 2 & 2 & 2 & 4 & 5 & 4 & 3 & 2 & 1\\\\\n",
       "\t 2 & 2 & 3 & 0 & 2 & 3 & 2 & 1 & 3 & 2 & ... & 2 & 5 & 3 & 3 & 5 & 2 & 3 & 4 & 3 & 4\\\\\n",
       "\t 4 & 4 & 3 & 2 & 0 & 3 & 2 & 3 & 3 & 2 & ... & 2 & 5 & 3 & 3 & 5 & 2 & 1 & 4 & 5 & 4\\\\\n",
       "\t 1 & 3 & 2 & 3 & 3 & 0 & 1 & 2 & 2 & 3 & ... & 1 & 4 & 4 & 4 & 2 & 3 & 4 & 5 & 2 & 3\\\\\n",
       "\\end{tabular}\n"
      ],
      "text/markdown": [
       "\n",
       "A matrix: 6 × 50 of type dbl\n",
       "\n",
       "| 0 | 2 | 1 | 2 | 4 | 1 | 2 | 1 | 3 | 2 | ... | 2 | 3 | 3 | 3 | 3 | 4 | 5 | 4 | 1 | 2 |\n",
       "| 2 | 0 | 3 | 2 | 4 | 3 | 2 | 1 | 1 | 2 | ... | 4 | 3 | 3 | 3 | 3 | 4 | 5 | 2 | 3 | 4 |\n",
       "| 1 | 3 | 0 | 3 | 3 | 2 | 3 | 2 | 4 | 1 | ... | 3 | 2 | 2 | 2 | 4 | 5 | 4 | 3 | 2 | 1 |\n",
       "| 2 | 2 | 3 | 0 | 2 | 3 | 2 | 1 | 3 | 2 | ... | 2 | 5 | 3 | 3 | 5 | 2 | 3 | 4 | 3 | 4 |\n",
       "| 4 | 4 | 3 | 2 | 0 | 3 | 2 | 3 | 3 | 2 | ... | 2 | 5 | 3 | 3 | 5 | 2 | 1 | 4 | 5 | 4 |\n",
       "| 1 | 3 | 2 | 3 | 3 | 0 | 1 | 2 | 2 | 3 | ... | 1 | 4 | 4 | 4 | 2 | 3 | 4 | 5 | 2 | 3 |\n",
       "\n"
      ],
      "text/plain": [
       "     [,1] [,2] [,3] [,4] [,5] [,6] [,7] [,8] [,9] [,10] [,11] [,12] [,13] [,14]\n",
       "[1,] 0    2    1    2    4    1    2    1    3    2     ...   2     3     3    \n",
       "[2,] 2    0    3    2    4    3    2    1    1    2     ...   4     3     3    \n",
       "[3,] 1    3    0    3    3    2    3    2    4    1     ...   3     2     2    \n",
       "[4,] 2    2    3    0    2    3    2    1    3    2     ...   2     5     3    \n",
       "[5,] 4    4    3    2    0    3    2    3    3    2     ...   2     5     3    \n",
       "[6,] 1    3    2    3    3    0    1    2    2    3     ...   1     4     4    \n",
       "     [,15] [,16] [,17] [,18] [,19] [,20] [,21]\n",
       "[1,] 3     3     4     5     4     1     2    \n",
       "[2,] 3     3     4     5     2     3     4    \n",
       "[3,] 2     4     5     4     3     2     1    \n",
       "[4,] 3     5     2     3     4     3     4    \n",
       "[5,] 3     5     2     1     4     5     4    \n",
       "[6,] 4     2     3     4     5     2     3    "
      ]
     },
     "metadata": {},
     "output_type": "display_data"
    }
   ],
   "source": [
    "df_matrix <- data.matrix(df_during_facilitators_dist) - 1\n",
    "similarity_matrix <- df_matrix %*% t(df_matrix) + ((!df_matrix) + 0) %*% ((!t(df_matrix)) + 0)\n",
    "dissimilarity_matrix <- ncol(df_during_facilitators_dist) - similarity_matrix\n",
    "head(dissimilarity_matrix)"
   ]
  },
  {
   "cell_type": "markdown",
   "metadata": {},
   "source": [
    "#### Scanning parameters\n"
   ]
  },
  {
   "cell_type": "code",
   "execution_count": 6,
   "metadata": {
    "vscode": {
     "languageId": "r"
    }
   },
   "outputs": [],
   "source": [
    "source(here('Modules','modules.R'))\n",
    "dists <- c(\"cosine\", \"jaccard\", \"hamman\", \"simple matching\", \"faith\")\n",
    "thetas <- linspace(0, 0.99, 15)\n",
    "nt <- length(thetas)\n",
    "nd <- length(dists)\n",
    "nk <- nrow(distinct(df_during_facilitators))\n",
    "scs <- c()\n",
    "# for (t in thetas) {\n",
    "#     for (d in dists){\n",
    "#         for (k in 2:nk) {\n",
    "#             sc <- silhouette_values_rock(\n",
    "#                 num_clusters = k,\n",
    "#                 theta = t,\n",
    "#                 df = df_during_facilitators_dist,\n",
    "#                 distmethod = d,\n",
    "#                 diss_matrix = dissimilarity_matrix)[[1]]\n",
    "#             scs <- append(scs, sc)\n",
    "#         }\n",
    "#     }\n",
    "# }\n"
   ]
  },
  {
   "cell_type": "code",
   "execution_count": 6,
   "metadata": {
    "vscode": {
     "languageId": "r"
    }
   },
   "outputs": [],
   "source": [
    "# ks_by_theta <- data.frame(\n",
    "#     theta=rep(thetas, each=((nk-1)*nd)), \n",
    "#     dist=rep(rep(dists, each=(nk-1)), nt), \n",
    "#     k=rep(2:nk, nd*nt), scs=scs\n",
    "# )\n",
    "\n",
    "# write.csv(\n",
    "#     ks_by_theta,\n",
    "#     \"silhouette_rock_facilitators.csv\", row.names = FALSE\n",
    "# )"
   ]
  },
  {
   "cell_type": "markdown",
   "metadata": {},
   "source": [
    "####  Best Situations"
   ]
  },
  {
   "cell_type": "code",
   "execution_count": 7,
   "metadata": {
    "vscode": {
     "languageId": "r"
    }
   },
   "outputs": [
    {
     "data": {
      "text/html": [
       "<table class=\"dataframe\">\n",
       "<caption>A grouped_df: 5 × 4</caption>\n",
       "<thead>\n",
       "\t<tr><th scope=col>theta</th><th scope=col>dist</th><th scope=col>k</th><th scope=col>scs</th></tr>\n",
       "\t<tr><th scope=col>&lt;dbl&gt;</th><th scope=col>&lt;chr&gt;</th><th scope=col>&lt;int&gt;</th><th scope=col>&lt;dbl&gt;</th></tr>\n",
       "</thead>\n",
       "<tbody>\n",
       "\t<tr><td>0.1414286</td><td>cosine         </td><td>15</td><td>0.27551969</td></tr>\n",
       "\t<tr><td>0.2121429</td><td>faith          </td><td> 8</td><td>0.27622018</td></tr>\n",
       "\t<tr><td>0.0000000</td><td>hamman         </td><td> 6</td><td>0.06613642</td></tr>\n",
       "\t<tr><td>0.1414286</td><td>jaccard        </td><td>15</td><td>0.27551969</td></tr>\n",
       "\t<tr><td>0.3535714</td><td>simple matching</td><td>14</td><td>0.20897274</td></tr>\n",
       "</tbody>\n",
       "</table>\n"
      ],
      "text/latex": [
       "A grouped\\_df: 5 × 4\n",
       "\\begin{tabular}{llll}\n",
       " theta & dist & k & scs\\\\\n",
       " <dbl> & <chr> & <int> & <dbl>\\\\\n",
       "\\hline\n",
       "\t 0.1414286 & cosine          & 15 & 0.27551969\\\\\n",
       "\t 0.2121429 & faith           &  8 & 0.27622018\\\\\n",
       "\t 0.0000000 & hamman          &  6 & 0.06613642\\\\\n",
       "\t 0.1414286 & jaccard         & 15 & 0.27551969\\\\\n",
       "\t 0.3535714 & simple matching & 14 & 0.20897274\\\\\n",
       "\\end{tabular}\n"
      ],
      "text/markdown": [
       "\n",
       "A grouped_df: 5 × 4\n",
       "\n",
       "| theta &lt;dbl&gt; | dist &lt;chr&gt; | k &lt;int&gt; | scs &lt;dbl&gt; |\n",
       "|---|---|---|---|\n",
       "| 0.1414286 | cosine          | 15 | 0.27551969 |\n",
       "| 0.2121429 | faith           |  8 | 0.27622018 |\n",
       "| 0.0000000 | hamman          |  6 | 0.06613642 |\n",
       "| 0.1414286 | jaccard         | 15 | 0.27551969 |\n",
       "| 0.3535714 | simple matching | 14 | 0.20897274 |\n",
       "\n"
      ],
      "text/plain": [
       "  theta     dist            k  scs       \n",
       "1 0.1414286 cosine          15 0.27551969\n",
       "2 0.2121429 faith            8 0.27622018\n",
       "3 0.0000000 hamman           6 0.06613642\n",
       "4 0.1414286 jaccard         15 0.27551969\n",
       "5 0.3535714 simple matching 14 0.20897274"
      ]
     },
     "metadata": {},
     "output_type": "display_data"
    }
   ],
   "source": [
    "scs <- read.csv(\"silhouette_rock_facilitators.csv\")\n",
    "scs %>% group_by(dist) %>% slice(which.max(scs))"
   ]
  },
  {
   "cell_type": "code",
   "execution_count": 9,
   "metadata": {
    "vscode": {
     "languageId": "r"
    }
   },
   "outputs": [
    {
     "data": {
      "text/html": [
       "<table class=\"dataframe\">\n",
       "<caption>A data.frame: 1 × 4</caption>\n",
       "<thead>\n",
       "\t<tr><th></th><th scope=col>theta</th><th scope=col>dist</th><th scope=col>k</th><th scope=col>scs</th></tr>\n",
       "\t<tr><th></th><th scope=col>&lt;dbl&gt;</th><th scope=col>&lt;chr&gt;</th><th scope=col>&lt;int&gt;</th><th scope=col>&lt;dbl&gt;</th></tr>\n",
       "</thead>\n",
       "<tbody>\n",
       "\t<tr><th scope=row>938</th><td>0.2121429</td><td>faith</td><td>8</td><td>0.2762202</td></tr>\n",
       "</tbody>\n",
       "</table>\n"
      ],
      "text/latex": [
       "A data.frame: 1 × 4\n",
       "\\begin{tabular}{r|llll}\n",
       "  & theta & dist & k & scs\\\\\n",
       "  & <dbl> & <chr> & <int> & <dbl>\\\\\n",
       "\\hline\n",
       "\t938 & 0.2121429 & faith & 8 & 0.2762202\\\\\n",
       "\\end{tabular}\n"
      ],
      "text/markdown": [
       "\n",
       "A data.frame: 1 × 4\n",
       "\n",
       "| <!--/--> | theta &lt;dbl&gt; | dist &lt;chr&gt; | k &lt;int&gt; | scs &lt;dbl&gt; |\n",
       "|---|---|---|---|---|\n",
       "| 938 | 0.2121429 | faith | 8 | 0.2762202 |\n",
       "\n"
      ],
      "text/plain": [
       "    theta     dist  k scs      \n",
       "938 0.2121429 faith 8 0.2762202"
      ]
     },
     "metadata": {},
     "output_type": "display_data"
    }
   ],
   "source": [
    "best_situtation <- scs[scs['scs'] == max(scs['scs']), ]\n",
    "best_situtation"
   ]
  },
  {
   "cell_type": "code",
   "execution_count": 12,
   "metadata": {
    "vscode": {
     "languageId": "r"
    }
   },
   "outputs": [
    {
     "name": "stdout",
     "output_type": "stream",
     "text": [
      "[1] \"Best K\"\n",
      "[1] 8\n",
      "[1] \"Best Theta\"\n",
      "[1] 0.2121429\n",
      "[1] \"Best dist\"\n",
      "[1] \"faith\"\n",
      "[1] \"Silhouette\"\n",
      "[1] 0.2762202\n"
     ]
    }
   ],
   "source": [
    "best_theta_rock <- best_situtation[1, 'theta']\n",
    "best_dist_rock <- best_situtation[1, 'dist']\n",
    "best_K_rock <- best_situtation[1, 'k']\n",
    "sil <- best_situtation[1, 'scs']\n",
    "\n",
    "print(\"Best K\")\n",
    "print(best_K_rock)\n",
    "print(\"Best Theta\")\n",
    "print(best_theta_rock)\n",
    "print('Best dist')\n",
    "print(best_dist_rock)\n",
    "print(\"Silhouette\")\n",
    "print(sil)"
   ]
  },
  {
   "cell_type": "code",
   "execution_count": 32,
   "metadata": {
    "vscode": {
     "languageId": "r"
    }
   },
   "outputs": [
    {
     "data": {
      "image/png": "[encoded data removed]",
      "text/plain": [
       "plot without title"
      ]
     },
     "metadata": {
      "image/png": {
       "height": 300,
       "width": 600
      }
     },
     "output_type": "display_data"
    }
   ],
   "source": [
    "label1 = paste(\"theta == \", round(best_theta_rock, 2))\n",
    "label2 =paste('distance function = 1 - ', best_dist_rock)\n",
    "options(repr.plot.width = 10, repr.plot.height =5)\n",
    "ggplot(data=scs[(scs$dist == best_dist_rock) & (scs$theta == best_theta_rock), ], aes(x=factor(k), y=scs, group=1)) +\n",
    "    geom_line(size=0.7) + geom_point(size=1.5) + \n",
    "    geom_vline(xintercept = best_K_rock-1, color = \"red\", size=0.8) + \n",
    "    ggtitle(\"Rock (Adjusted Silhouette Score) - Facilitators dataset\") +\n",
    "    xlab('Number of clusters (K)') +\n",
    "    ylab('Adjusted Silhouette Score') +\n",
    "    annotate(\"label\", x = 43, y = sil-0.03, parse = TRUE, label=label1) +\n",
    "    annotate(\"label\", x = 43, y = sil, label=label2) \n",
    "\n",
    "\n",
    "ggsave(path=\"graphs\", file=\"metric_evolution.jpeg\", width = 10, height = 5)"
   ]
  },
  {
   "cell_type": "markdown",
   "metadata": {},
   "source": [
    "#### Evaluating the silhuette coefficient for situation"
   ]
  },
  {
   "cell_type": "code",
   "execution_count": 22,
   "metadata": {
    "vscode": {
     "languageId": "r"
    }
   },
   "outputs": [
    {
     "name": "stdout",
     "output_type": "stream",
     "text": [
      "Clustering:\n",
      "computing distances ...\n",
      "computing links ...\n",
      "computing clusters ...\n"
     ]
    }
   ],
   "source": [
    "silhoutte_result <- silhouette_values_rock(best_K_rock, best_theta_rock, df_during_facilitators_dist, dissimilarity_matrix, best_dist_rock)"
   ]
  },
  {
   "cell_type": "code",
   "execution_count": 34,
   "metadata": {
    "vscode": {
     "languageId": "r"
    }
   },
   "outputs": [
    {
     "data": {
      "image/png": "[encoded data removed]",
      "text/plain": [
       "plot without title"
      ]
     },
     "metadata": {
      "image/png": {
       "height": 300,
       "width": 600
      }
     },
     "output_type": "display_data"
    }
   ],
   "source": [
    "\n",
    "coef_data <- data.frame(coef=silhoutte_result[[2]], clust=silhoutte_result[[3]]$cl)\n",
    "coef_data <- coef_data[order(coef_data$coef, decreasing=TRUE), ]\n",
    "coef_data <- coef_data[order(coef_data$clust, decreasing=TRUE), ]\n",
    "coef_data$clust <- as.factor(coef_data$clust )\n",
    "coef_data$ID <- seq.int(nrow(coef_data))\n",
    "\n",
    "ggplot(data = coef_data, aes(y=coef, x=ID, fill=clust)) + \n",
    "  geom_bar(stat = \"identity\") + \n",
    "  geom_hline(yintercept=mean(coef_data$coef), linetype=\"dashed\", color = \"red\") + \n",
    "  coord_flip() + \n",
    "  scale_x_reverse() + \n",
    "  theme(panel.grid.major = element_blank(), panel.grid.minor = element_blank()) +\n",
    "  ggtitle(\"Rock (Adjusted Silhouette Score) - Facilitators dataset\") +\n",
    "  xlab(\"Silhouette Coefficient\") +\n",
    "  ylab(\"Sample ID\") + scale_fill_discrete(name = \"Clusters\")\n",
    "  ggsave(path=\"graphs\", file=\"coefficients.jpeg\", width = 10, height = 5)\n"
   ]
  },
  {
   "cell_type": "markdown",
   "metadata": {},
   "source": [
    "## Exploring Kmodes best k"
   ]
  },
  {
   "cell_type": "code",
   "execution_count": 13,
   "metadata": {
    "vscode": {
     "languageId": "r"
    }
   },
   "outputs": [
    {
     "name": "stdout",
     "output_type": "stream",
     "text": [
      "Clustering:\n",
      "computing distances ...\n",
      "computing links ...\n",
      "computing clusters ...\n"
     ]
    },
    {
     "data": {
      "text/html": [
       "<table>\n",
       "<thead><tr><th scope=col>PA_easiness_outdoor_activities</th><th scope=col>PA_easiness_professional_guidance</th><th scope=col>PA_easiness_music</th><th scope=col>PA_easiness_others</th><th scope=col>PA_facilitator_home</th><th scope=col>PA_facilitator_group</th><th scope=col>cluster</th></tr></thead>\n",
       "<tbody>\n",
       "\t<tr><td>1</td><td>0</td><td>0</td><td>0</td><td>1</td><td>0</td><td>1</td></tr>\n",
       "\t<tr><td>0</td><td>0</td><td>0</td><td>0</td><td>0</td><td>0</td><td>2</td></tr>\n",
       "\t<tr><td>1</td><td>1</td><td>0</td><td>0</td><td>1</td><td>0</td><td>3</td></tr>\n",
       "\t<tr><td>0</td><td>0</td><td>0</td><td>0</td><td>1</td><td>1</td><td>2</td></tr>\n",
       "\t<tr><td>0</td><td>1</td><td>1</td><td>0</td><td>1</td><td>1</td><td>3</td></tr>\n",
       "\t<tr><td>1</td><td>0</td><td>1</td><td>0</td><td>1</td><td>0</td><td>1</td></tr>\n",
       "</tbody>\n",
       "</table>\n"
      ],
      "text/latex": [
       "\\begin{tabular}{r|lllllll}\n",
       " PA\\_easiness\\_outdoor\\_activities & PA\\_easiness\\_professional\\_guidance & PA\\_easiness\\_music & PA\\_easiness\\_others & PA\\_facilitator\\_home & PA\\_facilitator\\_group & cluster\\\\\n",
       "\\hline\n",
       "\t 1 & 0 & 0 & 0 & 1 & 0 & 1\\\\\n",
       "\t 0 & 0 & 0 & 0 & 0 & 0 & 2\\\\\n",
       "\t 1 & 1 & 0 & 0 & 1 & 0 & 3\\\\\n",
       "\t 0 & 0 & 0 & 0 & 1 & 1 & 2\\\\\n",
       "\t 0 & 1 & 1 & 0 & 1 & 1 & 3\\\\\n",
       "\t 1 & 0 & 1 & 0 & 1 & 0 & 1\\\\\n",
       "\\end{tabular}\n"
      ],
      "text/markdown": [
       "\n",
       "| PA_easiness_outdoor_activities | PA_easiness_professional_guidance | PA_easiness_music | PA_easiness_others | PA_facilitator_home | PA_facilitator_group | cluster |\n",
       "|---|---|---|---|---|---|---|\n",
       "| 1 | 0 | 0 | 0 | 1 | 0 | 1 |\n",
       "| 0 | 0 | 0 | 0 | 0 | 0 | 2 |\n",
       "| 1 | 1 | 0 | 0 | 1 | 0 | 3 |\n",
       "| 0 | 0 | 0 | 0 | 1 | 1 | 2 |\n",
       "| 0 | 1 | 1 | 0 | 1 | 1 | 3 |\n",
       "| 1 | 0 | 1 | 0 | 1 | 0 | 1 |\n",
       "\n"
      ],
      "text/plain": [
       "  PA_easiness_outdoor_activities PA_easiness_professional_guidance\n",
       "1 1                              0                                \n",
       "2 0                              0                                \n",
       "3 1                              1                                \n",
       "4 0                              0                                \n",
       "5 0                              1                                \n",
       "6 1                              0                                \n",
       "  PA_easiness_music PA_easiness_others PA_facilitator_home PA_facilitator_group\n",
       "1 0                 0                  1                   0                   \n",
       "2 0                 0                  0                   0                   \n",
       "3 0                 0                  1                   0                   \n",
       "4 0                 0                  1                   1                   \n",
       "5 1                 0                  1                   1                   \n",
       "6 1                 0                  1                   0                   \n",
       "  cluster\n",
       "1 1      \n",
       "2 2      \n",
       "3 3      \n",
       "4 2      \n",
       "5 3      \n",
       "6 1      "
      ]
     },
     "metadata": {},
     "output_type": "display_data"
    }
   ],
   "source": [
    "df_during_facilitators_dist$cluster <-rockCluster(df_matrix, n=best_K_rock, theta=best_theta_rock, fun = \"dist\", funArgs = list(method=best_dist_rock))$cl\n",
    "head(df_during_facilitators_dist)"
   ]
  },
  {
   "cell_type": "code",
   "execution_count": 14,
   "metadata": {
    "vscode": {
     "languageId": "r"
    }
   },
   "outputs": [
    {
     "data": {
      "text/html": [
       "1214"
      ],
      "text/latex": [
       "1214"
      ],
      "text/markdown": [
       "1214"
      ],
      "text/plain": [
       "[1] 1214"
      ]
     },
     "metadata": {},
     "output_type": "display_data"
    }
   ],
   "source": [
    "joint <- c(\n",
    "    'PA_easiness_outdoor_activities'='PA_easiness_outdoor_activities',\n",
    "    'PA_easiness_professional_guidance' = 'PA_easiness_professional_guidance',\n",
    "    'PA_easiness_music' = 'PA_easiness_music',\n",
    "    'PA_easiness_others' = 'PA_easiness_others',\n",
    "    'PA_facilitator_home' = 'PA_facilitator_home',\n",
    "    'PA_facilitator_group' = 'PA_facilitator_group'\n",
    ")\n",
    "\n",
    "df_during_facilitators <- left_join(df_during_facilitators, df_during_facilitators_dist, by = joint)\n",
    "df_during$cluster <- df_during_facilitators$cluster\n",
    "df_during_barriers$cluster <- df_during_facilitators$cluster\n",
    "\n",
    "nrow(df_during_facilitators)"
   ]
  },
  {
   "cell_type": "code",
   "execution_count": 15,
   "metadata": {
    "vscode": {
     "languageId": "r"
    }
   },
   "outputs": [
    {
     "data": {
      "text/plain": [
       "\n",
       "  1   2   3   4   5   6   7   8 \n",
       "112  87 242 503  52  56  89  73 "
      ]
     },
     "metadata": {},
     "output_type": "display_data"
    }
   ],
   "source": [
    "table(df_during$cluster)"
   ]
  },
  {
   "cell_type": "markdown",
   "metadata": {},
   "source": [
    "### Profile Plots\n",
    "<hr />"
   ]
  },
  {
   "cell_type": "code",
   "execution_count": 16,
   "metadata": {
    "vscode": {
     "languageId": "r"
    }
   },
   "outputs": [],
   "source": [
    "colors <- c(\"pink1\", \"violet\", \"mediumpurple1\", \"slateblue1\", \"purple\", \"purple3\",\n",
    "        \"turquoise2\", \"skyblue\", \"steelblue\", \"blue2\", \"navyblue\",\n",
    "        \"orange\", \"tomato\", \"coral2\", \"palevioletred\", \"violetred\", \"red2\",\n",
    "        \"springgreen2\", \"yellowgreen\", \"palegreen4\",\n",
    "        \"wheat2\", \"tan\", \"tan2\", \"tan3\", \"brown\",\n",
    "        \"grey70\", \"grey50\", \"grey30\")"
   ]
  },
  {
   "cell_type": "code",
   "execution_count": null,
   "metadata": {
    "vscode": {
     "languageId": "r"
    }
   },
   "outputs": [],
   "source": [
    "create_cluster_histograms(\n",
    "    colors = colors, \n",
    "    df = df_during, \n",
    "    names = names(df_during[, 20:ncol(df_during)-1]),\n",
    "    best_k = best_K_rock\n",
    ")\n",
    "create_cluster_histograms(\n",
    "    colors = colors, \n",
    "    df = df_during_barriers, \n",
    "    names = names(df_during_barriers[, 1:ncol(df_during_barriers)-1]),\n",
    "    best_k = best_K_rock\n",
    ")"
   ]
  },
  {
   "cell_type": "markdown",
   "metadata": {},
   "source": [
    "#### Mode"
   ]
  },
  {
   "cell_type": "code",
   "execution_count": 18,
   "metadata": {
    "vscode": {
     "languageId": "r"
    }
   },
   "outputs": [
    {
     "data": {
      "text/html": [
       "<table>\n",
       "<thead><tr><th scope=col>PA_easiness_outdoor_activities</th><th scope=col>PA_easiness_professional_guidance</th><th scope=col>PA_easiness_music</th><th scope=col>PA_easiness_others</th><th scope=col>PA_facilitator_home</th><th scope=col>PA_facilitator_group</th></tr></thead>\n",
       "<tbody>\n",
       "\t<tr><td>1</td><td>0</td><td>1</td><td>0</td><td>0</td><td>0</td></tr>\n",
       "\t<tr><td>0</td><td>0</td><td>0</td><td>0</td><td>0</td><td>1</td></tr>\n",
       "\t<tr><td>1</td><td>1</td><td>1</td><td>0</td><td>1</td><td>0</td></tr>\n",
       "\t<tr><td>0</td><td>0</td><td>0</td><td>0</td><td>1</td><td>1</td></tr>\n",
       "\t<tr><td>0</td><td>0</td><td>1</td><td>0</td><td>0</td><td>0</td></tr>\n",
       "\t<tr><td>0</td><td>0</td><td>0</td><td>1</td><td>0</td><td>0</td></tr>\n",
       "\t<tr><td>1</td><td>0</td><td>0</td><td>0</td><td>0</td><td>0</td></tr>\n",
       "\t<tr><td>0</td><td>1</td><td>0</td><td>0</td><td>0</td><td>0</td></tr>\n",
       "</tbody>\n",
       "</table>\n"
      ],
      "text/latex": [
       "\\begin{tabular}{r|llllll}\n",
       " PA\\_easiness\\_outdoor\\_activities & PA\\_easiness\\_professional\\_guidance & PA\\_easiness\\_music & PA\\_easiness\\_others & PA\\_facilitator\\_home & PA\\_facilitator\\_group\\\\\n",
       "\\hline\n",
       "\t 1 & 0 & 1 & 0 & 0 & 0\\\\\n",
       "\t 0 & 0 & 0 & 0 & 0 & 1\\\\\n",
       "\t 1 & 1 & 1 & 0 & 1 & 0\\\\\n",
       "\t 0 & 0 & 0 & 0 & 1 & 1\\\\\n",
       "\t 0 & 0 & 1 & 0 & 0 & 0\\\\\n",
       "\t 0 & 0 & 0 & 1 & 0 & 0\\\\\n",
       "\t 1 & 0 & 0 & 0 & 0 & 0\\\\\n",
       "\t 0 & 1 & 0 & 0 & 0 & 0\\\\\n",
       "\\end{tabular}\n"
      ],
      "text/markdown": [
       "\n",
       "| PA_easiness_outdoor_activities | PA_easiness_professional_guidance | PA_easiness_music | PA_easiness_others | PA_facilitator_home | PA_facilitator_group |\n",
       "|---|---|---|---|---|---|\n",
       "| 1 | 0 | 1 | 0 | 0 | 0 |\n",
       "| 0 | 0 | 0 | 0 | 0 | 1 |\n",
       "| 1 | 1 | 1 | 0 | 1 | 0 |\n",
       "| 0 | 0 | 0 | 0 | 1 | 1 |\n",
       "| 0 | 0 | 1 | 0 | 0 | 0 |\n",
       "| 0 | 0 | 0 | 1 | 0 | 0 |\n",
       "| 1 | 0 | 0 | 0 | 0 | 0 |\n",
       "| 0 | 1 | 0 | 0 | 0 | 0 |\n",
       "\n"
      ],
      "text/plain": [
       "  PA_easiness_outdoor_activities PA_easiness_professional_guidance\n",
       "1 1                              0                                \n",
       "2 0                              0                                \n",
       "3 1                              1                                \n",
       "4 0                              0                                \n",
       "5 0                              0                                \n",
       "6 0                              0                                \n",
       "7 1                              0                                \n",
       "8 0                              1                                \n",
       "  PA_easiness_music PA_easiness_others PA_facilitator_home PA_facilitator_group\n",
       "1 1                 0                  0                   0                   \n",
       "2 0                 0                  0                   1                   \n",
       "3 1                 0                  1                   0                   \n",
       "4 0                 0                  1                   1                   \n",
       "5 1                 0                  0                   0                   \n",
       "6 0                 1                  0                   0                   \n",
       "7 0                 0                  0                   0                   \n",
       "8 0                 0                  0                   0                   "
      ]
     },
     "metadata": {},
     "output_type": "display_data"
    }
   ],
   "source": [
    "modes <- data.frame(matrix(ncol = ncol(df_during_facilitators_dist)-1, nrow = 0))\n",
    "colnames(modes) <- colnames(df_during_facilitators_dist)[1:ncol(df_during_facilitators_dist)-1]\n",
    "for( cl in unique(df_during_facilitators_dist$cluster)){\n",
    "    cl_mode <- unname(apply(df_during_facilitators_dist[df_during_facilitators_dist$cluster == cl, ], 2, modefunc))\n",
    "    modes[nrow(modes) + 1,] <- cl_mode[1:length(cl_mode)-1]\n",
    "}\n",
    "\n",
    "modes"
   ]
  }
 ],
 "metadata": {
  "kernelspec": {
   "display_name": "R",
   "language": "R",
   "name": "ir"
  },
  "language_info": {
   "codemirror_mode": "r",
   "file_extension": ".r",
   "mimetype": "text/x-r-source",
   "name": "R",
   "pygments_lexer": "r",
   "version": "4.1.0"
  },
  "orig_nbformat": 4
 },
 "nbformat": 4,
 "nbformat_minor": 2
}
