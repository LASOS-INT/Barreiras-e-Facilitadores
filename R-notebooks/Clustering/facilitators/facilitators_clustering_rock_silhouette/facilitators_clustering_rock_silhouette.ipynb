{
 "cells": [
  {
   "cell_type": "markdown",
   "metadata": {},
   "source": [
    "## Importing packages"
   ]
  },
  {
   "cell_type": "code",
   "execution_count": 1,
   "metadata": {
    "vscode": {
     "languageId": "r"
    }
   },
   "outputs": [
    {
     "name": "stderr",
     "output_type": "stream",
     "text": [
      "Warning message:\n",
      "\"package 'here' was built under R version 4.1.1\"\n",
      "here() starts at C:/Users/maria/Desktop/Programacao/IC/projetos/Barreiras-e-Facilitadores\n",
      "\n",
      "Warning message:\n",
      "\"package 'ggplot2' was built under R version 4.1.1\"\n",
      "Warning message:\n",
      "\"package 'cluster' was built under R version 4.1.3\"\n",
      "Warning message:\n",
      "\"package 'cowplot' was built under R version 4.1.1\"\n",
      "Warning message:\n",
      "\"package 'randomForest' was built under R version 4.1.1\"\n",
      "randomForest 4.6-14\n",
      "\n",
      "Type rfNews() to see new features/changes/bug fixes.\n",
      "\n",
      "\n",
      "Attaching package: 'randomForest'\n",
      "\n",
      "\n",
      "The following object is masked from 'package:ggplot2':\n",
      "\n",
      "    margin\n",
      "\n",
      "\n",
      "Warning message:\n",
      "\"package 'caret' was built under R version 4.1.1\"\n",
      "Carregando pacotes exigidos: lattice\n",
      "\n",
      "Warning message:\n",
      "\"package 'lattice' was built under R version 4.1.1\"\n",
      "Warning message:\n",
      "\"package 'rpart.plot' was built under R version 4.1.1\"\n",
      "Carregando pacotes exigidos: rpart\n",
      "\n",
      "Warning message:\n",
      "\"package 'readxl' was built under R version 4.1.2\"\n",
      "Warning message:\n",
      "\"package 'e1071' was built under R version 4.1.1\"\n",
      "Warning message:\n",
      "\"package 'AugmenterR' was built under R version 4.1.1\"\n",
      "Warning message:\n",
      "\"package 'smotefamily' was built under R version 4.1.1\"\n",
      "Warning message:\n",
      "\"package 'ROSE' was built under R version 4.1.1\"\n",
      "Loaded ROSE 0.0-4\n",
      "\n",
      "\n",
      "Warning message:\n",
      "\"package 'xgboost' was built under R version 4.1.1\"\n",
      "Type 'citation(\"pROC\")' for a citation.\n",
      "\n",
      "\n",
      "Attaching package: 'pROC'\n",
      "\n",
      "\n",
      "The following objects are masked from 'package:stats':\n",
      "\n",
      "    cov, smooth, var\n",
      "\n",
      "\n",
      "Warning message:\n",
      "\"package 'klaR' was built under R version 4.1.2\"\n",
      "Carregando pacotes exigidos: MASS\n",
      "\n",
      "Warning message:\n",
      "\"package 'MASS' was built under R version 4.1.1\"\n",
      "\n",
      "Attaching package: 'MASS'\n",
      "\n",
      "\n",
      "The following object is masked _by_ '.GlobalEnv':\n",
      "\n",
      "    fbeta\n",
      "\n",
      "\n",
      "Warning message:\n",
      "\"package 'patchwork' was built under R version 4.1.2\"\n",
      "\n",
      "Attaching package: 'patchwork'\n",
      "\n",
      "\n",
      "The following object is masked from 'package:MASS':\n",
      "\n",
      "    area\n",
      "\n",
      "\n",
      "The following object is masked from 'package:cowplot':\n",
      "\n",
      "    align_plots\n",
      "\n",
      "\n",
      "Warning message:\n",
      "\"package 'DescTools' was built under R version 4.1.1\"\n",
      "\n",
      "Attaching package: 'DescTools'\n",
      "\n",
      "\n",
      "The following objects are masked from 'package:caret':\n",
      "\n",
      "    MAE, RMSE\n",
      "\n",
      "\n",
      "Warning message:\n",
      "\"package 'devtools' was built under R version 4.1.2\"\n",
      "Carregando pacotes exigidos: usethis\n",
      "\n",
      "Warning message:\n",
      "\"package 'usethis' was built under R version 4.1.2\"\n",
      "Warning message:\n",
      "\"package 'dplyr' was built under R version 4.1.1\"\n",
      "\n",
      "Attaching package: 'dplyr'\n",
      "\n",
      "\n",
      "The following object is masked from 'package:MASS':\n",
      "\n",
      "    select\n",
      "\n",
      "\n",
      "The following object is masked from 'package:xgboost':\n",
      "\n",
      "    slice\n",
      "\n",
      "\n",
      "The following object is masked from 'package:randomForest':\n",
      "\n",
      "    combine\n",
      "\n",
      "\n",
      "The following objects are masked from 'package:stats':\n",
      "\n",
      "    filter, lag\n",
      "\n",
      "\n",
      "The following objects are masked from 'package:base':\n",
      "\n",
      "    intersect, setdiff, setequal, union\n",
      "\n",
      "\n",
      "\n",
      "Attaching package: 'kernlab'\n",
      "\n",
      "\n",
      "The following object is masked from 'package:ggplot2':\n",
      "\n",
      "    alpha\n",
      "\n",
      "\n",
      "Warning message:\n",
      "\"package 'fastAdaboost' was built under R version 4.1.1\"\n",
      "Warning message:\n",
      "\"package 'DataExplorer' was built under R version 4.1.1\"\n",
      "dummies-1.5.6 provided by Decision Patterns\n",
      "\n",
      "\n",
      "Warning message:\n",
      "\"package 'mlbench' was built under R version 4.1.1\"\n",
      "Warning message:\n",
      "\"package 'h2o' was built under R version 4.1.1\"\n",
      "\n",
      "----------------------------------------------------------------------\n",
      "\n",
      "Your next step is to start H2O:\n",
      "    > h2o.init()\n",
      "\n",
      "For H2O package documentation, ask for help:\n",
      "    > ??h2o\n",
      "\n",
      "After starting H2O, you can use the Web UI at http://localhost:54321\n",
      "For more information visit https://docs.h2o.ai\n",
      "\n",
      "----------------------------------------------------------------------\n",
      "\n",
      "\n",
      "\n",
      "Attaching package: 'h2o'\n",
      "\n",
      "\n",
      "The following object is masked from 'package:pROC':\n",
      "\n",
      "    var\n",
      "\n",
      "\n",
      "The following objects are masked from 'package:stats':\n",
      "\n",
      "    cor, sd, var\n",
      "\n",
      "\n",
      "The following objects are masked from 'package:base':\n",
      "\n",
      "    %*%, %in%, &&, ||, apply, as.factor, as.numeric, colnames,\n",
      "    colnames<-, ifelse, is.character, is.factor, is.numeric, log,\n",
      "    log10, log1p, log2, round, signif, trunc\n",
      "\n",
      "\n",
      "Warning message:\n",
      "\"package 'rattle' was built under R version 4.1.1\"\n",
      "Carregando pacotes exigidos: tibble\n",
      "\n",
      "Carregando pacotes exigidos: bitops\n",
      "\n",
      "\n",
      "Attaching package: 'bitops'\n",
      "\n",
      "\n",
      "The following object is masked from 'package:DescTools':\n",
      "\n",
      "    %^%\n",
      "\n",
      "\n",
      "Rattle: A free graphical interface for data science with R.\n",
      "Version 5.4.0 Copyright (c) 2006-2020 Togaware Pty Ltd.\n",
      "Type 'rattle()' to shake, rattle, and roll your data.\n",
      "\n",
      "\n",
      "Attaching package: 'rattle'\n",
      "\n",
      "\n",
      "The following object is masked from 'package:xgboost':\n",
      "\n",
      "    xgboost\n",
      "\n",
      "\n",
      "The following object is masked from 'package:randomForest':\n",
      "\n",
      "    importance\n",
      "\n",
      "\n",
      "Warning message:\n",
      "\"package 'pracma' was built under R version 4.1.3\"\n",
      "\n",
      "Attaching package: 'pracma'\n",
      "\n",
      "\n",
      "The following objects are masked from 'package:kernlab':\n",
      "\n",
      "    cross, eig, size\n",
      "\n",
      "\n",
      "The following objects are masked from 'package:DescTools':\n",
      "\n",
      "    Mode, Rank\n",
      "\n",
      "\n",
      "The following object is masked from 'package:lsr':\n",
      "\n",
      "    who\n",
      "\n",
      "\n",
      "The following object is masked from 'package:e1071':\n",
      "\n",
      "    sigmoid\n",
      "\n",
      "\n",
      "Warning message:\n",
      "\"package 'MLmetrics' was built under R version 4.1.1\"\n",
      "\n",
      "Attaching package: 'MLmetrics'\n",
      "\n",
      "\n",
      "The following objects are masked from 'package:DescTools':\n",
      "\n",
      "    AUC, Gini, MAE, MAPE, MSE, RMSE\n",
      "\n",
      "\n",
      "The following objects are masked from 'package:caret':\n",
      "\n",
      "    MAE, RMSE\n",
      "\n",
      "\n",
      "The following object is masked from 'package:base':\n",
      "\n",
      "    Recall\n",
      "\n",
      "\n",
      "Warning message:\n",
      "\"package 'ggfortify' was built under R version 4.1.1\"\n",
      "Warning message:\n",
      "\"package 'Rtsne' was built under R version 4.1.1\"\n",
      "Warning message:\n",
      "\"package 'obliqueRF' was built under R version 4.1.2\"\n",
      "Carregando pacotes exigidos: ROCR\n",
      "\n",
      "Warning message:\n",
      "\"package 'ROCR' was built under R version 4.1.1\"\n",
      "Carregando pacotes exigidos: pls\n",
      "\n",
      "Warning message:\n",
      "\"package 'pls' was built under R version 4.1.2\"\n",
      "\n",
      "Attaching package: 'pls'\n",
      "\n",
      "\n",
      "The following object is masked from 'package:caret':\n",
      "\n",
      "    R2\n",
      "\n",
      "\n",
      "The following object is masked from 'package:stats':\n",
      "\n",
      "    loadings\n",
      "\n",
      "\n",
      "Carregando pacotes exigidos: mda\n",
      "\n",
      "Warning message:\n",
      "\"package 'mda' was built under R version 4.1.2\"\n",
      "Carregando pacotes exigidos: class\n",
      "\n",
      "Loaded mda 0.5-2\n",
      "\n",
      "\n",
      "\n",
      "Attaching package: 'mda'\n",
      "\n",
      "\n",
      "The following object is masked from 'package:pracma':\n",
      "\n",
      "    laplacian\n",
      "\n",
      "\n",
      "obliqueRF 0.3\n",
      "\n",
      "Type orfNews() to see new features/changes/bug fixes.\n",
      "\n",
      "\n",
      "Attaching package: 'obliqueRF'\n",
      "\n",
      "\n",
      "The following object is masked from 'package:rattle':\n",
      "\n",
      "    importance\n",
      "\n",
      "\n",
      "The following object is masked from 'package:randomForest':\n",
      "\n",
      "    importance\n",
      "\n",
      "\n",
      "Warning message:\n",
      "\"package 'gbm' was built under R version 4.1.2\"\n",
      "Loaded gbm 2.1.8\n",
      "\n",
      "Warning message:\n",
      "\"package 'MLeval' was built under R version 4.1.2\"\n",
      "Warning message:\n",
      "\"package 'fmsb' was built under R version 4.1.3\"\n",
      "Registered S3 methods overwritten by 'fmsb':\n",
      "  method    from\n",
      "  print.roc pROC\n",
      "  plot.roc  pROC\n",
      "\n",
      "\n",
      "Attaching package: 'fmsb'\n",
      "\n",
      "\n",
      "The following objects are masked from 'package:DescTools':\n",
      "\n",
      "    CronbachAlpha, VIF\n",
      "\n",
      "\n",
      "The following object is masked from 'package:pROC':\n",
      "\n",
      "    roc\n",
      "\n",
      "\n",
      "Warning message:\n",
      "\"package 'cba' was built under R version 4.1.3\"\n",
      "Carregando pacotes exigidos: proxy\n",
      "\n",
      "\n",
      "Attaching package: 'proxy'\n",
      "\n",
      "\n",
      "The following objects are masked from 'package:stats':\n",
      "\n",
      "    as.dist, dist\n",
      "\n",
      "\n",
      "The following object is masked from 'package:base':\n",
      "\n",
      "    as.matrix\n",
      "\n",
      "\n",
      "\n",
      "Attaching package: 'cba'\n",
      "\n",
      "\n",
      "The following object is masked from 'package:e1071':\n",
      "\n",
      "    gknn\n",
      "\n",
      "\n"
     ]
    },
    {
     "data": {
      "text/html": [
       "<ol>\n",
       "\t<li>TRUE</li>\n",
       "\t<li>TRUE</li>\n",
       "\t<li>TRUE</li>\n",
       "\t<li>TRUE</li>\n",
       "\t<li>TRUE</li>\n",
       "\t<li>TRUE</li>\n",
       "\t<li>TRUE</li>\n",
       "\t<li>TRUE</li>\n",
       "\t<li>TRUE</li>\n",
       "\t<li>TRUE</li>\n",
       "\t<li>TRUE</li>\n",
       "\t<li>TRUE</li>\n",
       "\t<li>TRUE</li>\n",
       "\t<li>TRUE</li>\n",
       "\t<li>TRUE</li>\n",
       "\t<li>TRUE</li>\n",
       "\t<li>TRUE</li>\n",
       "\t<li>TRUE</li>\n",
       "\t<li>TRUE</li>\n",
       "\t<li>TRUE</li>\n",
       "\t<li>TRUE</li>\n",
       "\t<li>TRUE</li>\n",
       "\t<li>TRUE</li>\n",
       "\t<li>TRUE</li>\n",
       "\t<li>TRUE</li>\n",
       "\t<li>TRUE</li>\n",
       "\t<li>TRUE</li>\n",
       "\t<li>TRUE</li>\n",
       "\t<li>TRUE</li>\n",
       "\t<li>TRUE</li>\n",
       "\t<li>TRUE</li>\n",
       "\t<li>TRUE</li>\n",
       "\t<li>TRUE</li>\n",
       "\t<li>TRUE</li>\n",
       "\t<li>TRUE</li>\n",
       "\t<li>TRUE</li>\n",
       "\t<li>TRUE</li>\n",
       "\t<li>TRUE</li>\n",
       "\t<li>TRUE</li>\n",
       "\t<li>TRUE</li>\n",
       "\t<li>TRUE</li>\n",
       "</ol>\n"
      ],
      "text/latex": [
       "\\begin{enumerate}\n",
       "\\item TRUE\n",
       "\\item TRUE\n",
       "\\item TRUE\n",
       "\\item TRUE\n",
       "\\item TRUE\n",
       "\\item TRUE\n",
       "\\item TRUE\n",
       "\\item TRUE\n",
       "\\item TRUE\n",
       "\\item TRUE\n",
       "\\item TRUE\n",
       "\\item TRUE\n",
       "\\item TRUE\n",
       "\\item TRUE\n",
       "\\item TRUE\n",
       "\\item TRUE\n",
       "\\item TRUE\n",
       "\\item TRUE\n",
       "\\item TRUE\n",
       "\\item TRUE\n",
       "\\item TRUE\n",
       "\\item TRUE\n",
       "\\item TRUE\n",
       "\\item TRUE\n",
       "\\item TRUE\n",
       "\\item TRUE\n",
       "\\item TRUE\n",
       "\\item TRUE\n",
       "\\item TRUE\n",
       "\\item TRUE\n",
       "\\item TRUE\n",
       "\\item TRUE\n",
       "\\item TRUE\n",
       "\\item TRUE\n",
       "\\item TRUE\n",
       "\\item TRUE\n",
       "\\item TRUE\n",
       "\\item TRUE\n",
       "\\item TRUE\n",
       "\\item TRUE\n",
       "\\item TRUE\n",
       "\\end{enumerate}\n"
      ],
      "text/markdown": [
       "1. TRUE\n",
       "2. TRUE\n",
       "3. TRUE\n",
       "4. TRUE\n",
       "5. TRUE\n",
       "6. TRUE\n",
       "7. TRUE\n",
       "8. TRUE\n",
       "9. TRUE\n",
       "10. TRUE\n",
       "11. TRUE\n",
       "12. TRUE\n",
       "13. TRUE\n",
       "14. TRUE\n",
       "15. TRUE\n",
       "16. TRUE\n",
       "17. TRUE\n",
       "18. TRUE\n",
       "19. TRUE\n",
       "20. TRUE\n",
       "21. TRUE\n",
       "22. TRUE\n",
       "23. TRUE\n",
       "24. TRUE\n",
       "25. TRUE\n",
       "26. TRUE\n",
       "27. TRUE\n",
       "28. TRUE\n",
       "29. TRUE\n",
       "30. TRUE\n",
       "31. TRUE\n",
       "32. TRUE\n",
       "33. TRUE\n",
       "34. TRUE\n",
       "35. TRUE\n",
       "36. TRUE\n",
       "37. TRUE\n",
       "38. TRUE\n",
       "39. TRUE\n",
       "40. TRUE\n",
       "41. TRUE\n",
       "\n",
       "\n"
      ],
      "text/plain": [
       "[[1]]\n",
       "[1] TRUE\n",
       "\n",
       "[[2]]\n",
       "[1] TRUE\n",
       "\n",
       "[[3]]\n",
       "[1] TRUE\n",
       "\n",
       "[[4]]\n",
       "[1] TRUE\n",
       "\n",
       "[[5]]\n",
       "[1] TRUE\n",
       "\n",
       "[[6]]\n",
       "[1] TRUE\n",
       "\n",
       "[[7]]\n",
       "[1] TRUE\n",
       "\n",
       "[[8]]\n",
       "[1] TRUE\n",
       "\n",
       "[[9]]\n",
       "[1] TRUE\n",
       "\n",
       "[[10]]\n",
       "[1] TRUE\n",
       "\n",
       "[[11]]\n",
       "[1] TRUE\n",
       "\n",
       "[[12]]\n",
       "[1] TRUE\n",
       "\n",
       "[[13]]\n",
       "[1] TRUE\n",
       "\n",
       "[[14]]\n",
       "[1] TRUE\n",
       "\n",
       "[[15]]\n",
       "[1] TRUE\n",
       "\n",
       "[[16]]\n",
       "[1] TRUE\n",
       "\n",
       "[[17]]\n",
       "[1] TRUE\n",
       "\n",
       "[[18]]\n",
       "[1] TRUE\n",
       "\n",
       "[[19]]\n",
       "[1] TRUE\n",
       "\n",
       "[[20]]\n",
       "[1] TRUE\n",
       "\n",
       "[[21]]\n",
       "[1] TRUE\n",
       "\n",
       "[[22]]\n",
       "[1] TRUE\n",
       "\n",
       "[[23]]\n",
       "[1] TRUE\n",
       "\n",
       "[[24]]\n",
       "[1] TRUE\n",
       "\n",
       "[[25]]\n",
       "[1] TRUE\n",
       "\n",
       "[[26]]\n",
       "[1] TRUE\n",
       "\n",
       "[[27]]\n",
       "[1] TRUE\n",
       "\n",
       "[[28]]\n",
       "[1] TRUE\n",
       "\n",
       "[[29]]\n",
       "[1] TRUE\n",
       "\n",
       "[[30]]\n",
       "[1] TRUE\n",
       "\n",
       "[[31]]\n",
       "[1] TRUE\n",
       "\n",
       "[[32]]\n",
       "[1] TRUE\n",
       "\n",
       "[[33]]\n",
       "[1] TRUE\n",
       "\n",
       "[[34]]\n",
       "[1] TRUE\n",
       "\n",
       "[[35]]\n",
       "[1] TRUE\n",
       "\n",
       "[[36]]\n",
       "[1] TRUE\n",
       "\n",
       "[[37]]\n",
       "[1] TRUE\n",
       "\n",
       "[[38]]\n",
       "[1] TRUE\n",
       "\n",
       "[[39]]\n",
       "[1] TRUE\n",
       "\n",
       "[[40]]\n",
       "[1] TRUE\n",
       "\n",
       "[[41]]\n",
       "[1] TRUE\n"
      ]
     },
     "metadata": {},
     "output_type": "display_data"
    }
   ],
   "source": [
    "library(here, help, pos = 2, lib.loc = NULL)\n",
    "source(here('Modules','modules.R'))\n",
    "source(here('Modules','preprocessing_clustering.R'))\n",
    "# install_all_packages()\n",
    "load_library_packages()"
   ]
  },
  {
   "cell_type": "markdown",
   "metadata": {},
   "source": [
    "## Clustering - Rock Silhoette"
   ]
  },
  {
   "cell_type": "code",
   "execution_count": 2,
   "metadata": {
    "vscode": {
     "languageId": "r"
    }
   },
   "outputs": [
    {
     "data": {
      "text/html": [
       "50"
      ],
      "text/latex": [
       "50"
      ],
      "text/markdown": [
       "50"
      ],
      "text/plain": [
       "[1] 50"
      ]
     },
     "metadata": {},
     "output_type": "display_data"
    }
   ],
   "source": [
    "df_during_facilitators_dist <- distinct(df_during_facilitators)\n",
    "nrow(df_during_facilitators_dist)"
   ]
  },
  {
   "cell_type": "code",
   "execution_count": 3,
   "metadata": {
    "vscode": {
     "languageId": "r"
    }
   },
   "outputs": [
    {
     "data": {
      "text/html": [
       "<table class=\"dataframe\">\n",
       "<caption>A matrix: 6 × 50 of type dbl</caption>\n",
       "<tbody>\n",
       "\t<tr><td>0</td><td>2</td><td>1</td><td>2</td><td>4</td><td>1</td><td>2</td><td>1</td><td>3</td><td>2</td><td>...</td><td>2</td><td>3</td><td>3</td><td>3</td><td>3</td><td>4</td><td>5</td><td>4</td><td>1</td><td>2</td></tr>\n",
       "\t<tr><td>2</td><td>0</td><td>3</td><td>2</td><td>4</td><td>3</td><td>2</td><td>1</td><td>1</td><td>2</td><td>...</td><td>4</td><td>3</td><td>3</td><td>3</td><td>3</td><td>4</td><td>5</td><td>2</td><td>3</td><td>4</td></tr>\n",
       "\t<tr><td>1</td><td>3</td><td>0</td><td>3</td><td>3</td><td>2</td><td>3</td><td>2</td><td>4</td><td>1</td><td>...</td><td>3</td><td>2</td><td>2</td><td>2</td><td>4</td><td>5</td><td>4</td><td>3</td><td>2</td><td>1</td></tr>\n",
       "\t<tr><td>2</td><td>2</td><td>3</td><td>0</td><td>2</td><td>3</td><td>2</td><td>1</td><td>3</td><td>2</td><td>...</td><td>2</td><td>5</td><td>3</td><td>3</td><td>5</td><td>2</td><td>3</td><td>4</td><td>3</td><td>4</td></tr>\n",
       "\t<tr><td>4</td><td>4</td><td>3</td><td>2</td><td>0</td><td>3</td><td>2</td><td>3</td><td>3</td><td>2</td><td>...</td><td>2</td><td>5</td><td>3</td><td>3</td><td>5</td><td>2</td><td>1</td><td>4</td><td>5</td><td>4</td></tr>\n",
       "\t<tr><td>1</td><td>3</td><td>2</td><td>3</td><td>3</td><td>0</td><td>1</td><td>2</td><td>2</td><td>3</td><td>...</td><td>1</td><td>4</td><td>4</td><td>4</td><td>2</td><td>3</td><td>4</td><td>5</td><td>2</td><td>3</td></tr>\n",
       "</tbody>\n",
       "</table>\n"
      ],
      "text/latex": [
       "A matrix: 6 × 50 of type dbl\n",
       "\\begin{tabular}{lllllllllllllllllllll}\n",
       "\t 0 & 2 & 1 & 2 & 4 & 1 & 2 & 1 & 3 & 2 & ... & 2 & 3 & 3 & 3 & 3 & 4 & 5 & 4 & 1 & 2\\\\\n",
       "\t 2 & 0 & 3 & 2 & 4 & 3 & 2 & 1 & 1 & 2 & ... & 4 & 3 & 3 & 3 & 3 & 4 & 5 & 2 & 3 & 4\\\\\n",
       "\t 1 & 3 & 0 & 3 & 3 & 2 & 3 & 2 & 4 & 1 & ... & 3 & 2 & 2 & 2 & 4 & 5 & 4 & 3 & 2 & 1\\\\\n",
       "\t 2 & 2 & 3 & 0 & 2 & 3 & 2 & 1 & 3 & 2 & ... & 2 & 5 & 3 & 3 & 5 & 2 & 3 & 4 & 3 & 4\\\\\n",
       "\t 4 & 4 & 3 & 2 & 0 & 3 & 2 & 3 & 3 & 2 & ... & 2 & 5 & 3 & 3 & 5 & 2 & 1 & 4 & 5 & 4\\\\\n",
       "\t 1 & 3 & 2 & 3 & 3 & 0 & 1 & 2 & 2 & 3 & ... & 1 & 4 & 4 & 4 & 2 & 3 & 4 & 5 & 2 & 3\\\\\n",
       "\\end{tabular}\n"
      ],
      "text/markdown": [
       "\n",
       "A matrix: 6 × 50 of type dbl\n",
       "\n",
       "| 0 | 2 | 1 | 2 | 4 | 1 | 2 | 1 | 3 | 2 | ... | 2 | 3 | 3 | 3 | 3 | 4 | 5 | 4 | 1 | 2 |\n",
       "| 2 | 0 | 3 | 2 | 4 | 3 | 2 | 1 | 1 | 2 | ... | 4 | 3 | 3 | 3 | 3 | 4 | 5 | 2 | 3 | 4 |\n",
       "| 1 | 3 | 0 | 3 | 3 | 2 | 3 | 2 | 4 | 1 | ... | 3 | 2 | 2 | 2 | 4 | 5 | 4 | 3 | 2 | 1 |\n",
       "| 2 | 2 | 3 | 0 | 2 | 3 | 2 | 1 | 3 | 2 | ... | 2 | 5 | 3 | 3 | 5 | 2 | 3 | 4 | 3 | 4 |\n",
       "| 4 | 4 | 3 | 2 | 0 | 3 | 2 | 3 | 3 | 2 | ... | 2 | 5 | 3 | 3 | 5 | 2 | 1 | 4 | 5 | 4 |\n",
       "| 1 | 3 | 2 | 3 | 3 | 0 | 1 | 2 | 2 | 3 | ... | 1 | 4 | 4 | 4 | 2 | 3 | 4 | 5 | 2 | 3 |\n",
       "\n"
      ],
      "text/plain": [
       "     [,1] [,2] [,3] [,4] [,5] [,6] [,7] [,8] [,9] [,10] [,11] [,12] [,13] [,14]\n",
       "[1,] 0    2    1    2    4    1    2    1    3    2     ...   2     3     3    \n",
       "[2,] 2    0    3    2    4    3    2    1    1    2     ...   4     3     3    \n",
       "[3,] 1    3    0    3    3    2    3    2    4    1     ...   3     2     2    \n",
       "[4,] 2    2    3    0    2    3    2    1    3    2     ...   2     5     3    \n",
       "[5,] 4    4    3    2    0    3    2    3    3    2     ...   2     5     3    \n",
       "[6,] 1    3    2    3    3    0    1    2    2    3     ...   1     4     4    \n",
       "     [,15] [,16] [,17] [,18] [,19] [,20] [,21]\n",
       "[1,] 3     3     4     5     4     1     2    \n",
       "[2,] 3     3     4     5     2     3     4    \n",
       "[3,] 2     4     5     4     3     2     1    \n",
       "[4,] 3     5     2     3     4     3     4    \n",
       "[5,] 3     5     2     1     4     5     4    \n",
       "[6,] 4     2     3     4     5     2     3    "
      ]
     },
     "metadata": {},
     "output_type": "display_data"
    }
   ],
   "source": [
    "df_matrix <- data.matrix(df_during_facilitators_dist) - 1\n",
    "similarity_matrix <- df_matrix %*% t(df_matrix) + ((!df_matrix) + 0) %*% ((!t(df_matrix)) + 0)\n",
    "dissimilarity_matrix <- ncol(df_during_facilitators_dist) - similarity_matrix\n",
    "head(dissimilarity_matrix)"
   ]
  },
  {
   "cell_type": "markdown",
   "metadata": {},
   "source": [
    "### Silhoette \n",
    "<hr />"
   ]
  },
  {
   "cell_type": "code",
   "execution_count": 4,
   "metadata": {
    "vscode": {
     "languageId": "r"
    }
   },
   "outputs": [
    {
     "data": {
      "text/html": [
       "<table class=\"dataframe\">\n",
       "<caption>A matrix: 6 × 50 of type dbl</caption>\n",
       "<tbody>\n",
       "\t<tr><td>0</td><td>2</td><td>1</td><td>2</td><td>4</td><td>1</td><td>2</td><td>1</td><td>3</td><td>2</td><td>...</td><td>2</td><td>3</td><td>3</td><td>3</td><td>3</td><td>4</td><td>5</td><td>4</td><td>1</td><td>2</td></tr>\n",
       "\t<tr><td>2</td><td>0</td><td>3</td><td>2</td><td>4</td><td>3</td><td>2</td><td>1</td><td>1</td><td>2</td><td>...</td><td>4</td><td>3</td><td>3</td><td>3</td><td>3</td><td>4</td><td>5</td><td>2</td><td>3</td><td>4</td></tr>\n",
       "\t<tr><td>1</td><td>3</td><td>0</td><td>3</td><td>3</td><td>2</td><td>3</td><td>2</td><td>4</td><td>1</td><td>...</td><td>3</td><td>2</td><td>2</td><td>2</td><td>4</td><td>5</td><td>4</td><td>3</td><td>2</td><td>1</td></tr>\n",
       "\t<tr><td>2</td><td>2</td><td>3</td><td>0</td><td>2</td><td>3</td><td>2</td><td>1</td><td>3</td><td>2</td><td>...</td><td>2</td><td>5</td><td>3</td><td>3</td><td>5</td><td>2</td><td>3</td><td>4</td><td>3</td><td>4</td></tr>\n",
       "\t<tr><td>4</td><td>4</td><td>3</td><td>2</td><td>0</td><td>3</td><td>2</td><td>3</td><td>3</td><td>2</td><td>...</td><td>2</td><td>5</td><td>3</td><td>3</td><td>5</td><td>2</td><td>1</td><td>4</td><td>5</td><td>4</td></tr>\n",
       "\t<tr><td>1</td><td>3</td><td>2</td><td>3</td><td>3</td><td>0</td><td>1</td><td>2</td><td>2</td><td>3</td><td>...</td><td>1</td><td>4</td><td>4</td><td>4</td><td>2</td><td>3</td><td>4</td><td>5</td><td>2</td><td>3</td></tr>\n",
       "</tbody>\n",
       "</table>\n"
      ],
      "text/latex": [
       "A matrix: 6 × 50 of type dbl\n",
       "\\begin{tabular}{lllllllllllllllllllll}\n",
       "\t 0 & 2 & 1 & 2 & 4 & 1 & 2 & 1 & 3 & 2 & ... & 2 & 3 & 3 & 3 & 3 & 4 & 5 & 4 & 1 & 2\\\\\n",
       "\t 2 & 0 & 3 & 2 & 4 & 3 & 2 & 1 & 1 & 2 & ... & 4 & 3 & 3 & 3 & 3 & 4 & 5 & 2 & 3 & 4\\\\\n",
       "\t 1 & 3 & 0 & 3 & 3 & 2 & 3 & 2 & 4 & 1 & ... & 3 & 2 & 2 & 2 & 4 & 5 & 4 & 3 & 2 & 1\\\\\n",
       "\t 2 & 2 & 3 & 0 & 2 & 3 & 2 & 1 & 3 & 2 & ... & 2 & 5 & 3 & 3 & 5 & 2 & 3 & 4 & 3 & 4\\\\\n",
       "\t 4 & 4 & 3 & 2 & 0 & 3 & 2 & 3 & 3 & 2 & ... & 2 & 5 & 3 & 3 & 5 & 2 & 1 & 4 & 5 & 4\\\\\n",
       "\t 1 & 3 & 2 & 3 & 3 & 0 & 1 & 2 & 2 & 3 & ... & 1 & 4 & 4 & 4 & 2 & 3 & 4 & 5 & 2 & 3\\\\\n",
       "\\end{tabular}\n"
      ],
      "text/markdown": [
       "\n",
       "A matrix: 6 × 50 of type dbl\n",
       "\n",
       "| 0 | 2 | 1 | 2 | 4 | 1 | 2 | 1 | 3 | 2 | ... | 2 | 3 | 3 | 3 | 3 | 4 | 5 | 4 | 1 | 2 |\n",
       "| 2 | 0 | 3 | 2 | 4 | 3 | 2 | 1 | 1 | 2 | ... | 4 | 3 | 3 | 3 | 3 | 4 | 5 | 2 | 3 | 4 |\n",
       "| 1 | 3 | 0 | 3 | 3 | 2 | 3 | 2 | 4 | 1 | ... | 3 | 2 | 2 | 2 | 4 | 5 | 4 | 3 | 2 | 1 |\n",
       "| 2 | 2 | 3 | 0 | 2 | 3 | 2 | 1 | 3 | 2 | ... | 2 | 5 | 3 | 3 | 5 | 2 | 3 | 4 | 3 | 4 |\n",
       "| 4 | 4 | 3 | 2 | 0 | 3 | 2 | 3 | 3 | 2 | ... | 2 | 5 | 3 | 3 | 5 | 2 | 1 | 4 | 5 | 4 |\n",
       "| 1 | 3 | 2 | 3 | 3 | 0 | 1 | 2 | 2 | 3 | ... | 1 | 4 | 4 | 4 | 2 | 3 | 4 | 5 | 2 | 3 |\n",
       "\n"
      ],
      "text/plain": [
       "     [,1] [,2] [,3] [,4] [,5] [,6] [,7] [,8] [,9] [,10] [,11] [,12] [,13] [,14]\n",
       "[1,] 0    2    1    2    4    1    2    1    3    2     ...   2     3     3    \n",
       "[2,] 2    0    3    2    4    3    2    1    1    2     ...   4     3     3    \n",
       "[3,] 1    3    0    3    3    2    3    2    4    1     ...   3     2     2    \n",
       "[4,] 2    2    3    0    2    3    2    1    3    2     ...   2     5     3    \n",
       "[5,] 4    4    3    2    0    3    2    3    3    2     ...   2     5     3    \n",
       "[6,] 1    3    2    3    3    0    1    2    2    3     ...   1     4     4    \n",
       "     [,15] [,16] [,17] [,18] [,19] [,20] [,21]\n",
       "[1,] 3     3     4     5     4     1     2    \n",
       "[2,] 3     3     4     5     2     3     4    \n",
       "[3,] 2     4     5     4     3     2     1    \n",
       "[4,] 3     5     2     3     4     3     4    \n",
       "[5,] 3     5     2     1     4     5     4    \n",
       "[6,] 4     2     3     4     5     2     3    "
      ]
     },
     "metadata": {},
     "output_type": "display_data"
    }
   ],
   "source": [
    "df_matrix <- data.matrix(df_during_facilitators_dist) - 1\n",
    "similarity_matrix <- df_matrix %*% t(df_matrix) + ((!df_matrix) + 0) %*% ((!t(df_matrix)) + 0)\n",
    "dissimilarity_matrix <- ncol(df_during_facilitators_dist) - similarity_matrix\n",
    "head(dissimilarity_matrix)"
   ]
  },
  {
   "cell_type": "markdown",
   "metadata": {},
   "source": [
    "#### Scanning parameters\n"
   ]
  },
  {
   "cell_type": "code",
   "execution_count": 5,
   "metadata": {
    "vscode": {
     "languageId": "r"
    }
   },
   "outputs": [],
   "source": [
    "source(here('Modules','modules.R'))\n",
    "dists <- c(\"cosine\", \"jaccard\", \"hamman\", \"simple matching\", \"faith\")\n",
    "thetas <- linspace(0, 0.99, 15)\n",
    "nt <- length(thetas)\n",
    "nd <- length(dists)\n",
    "nk <- nrow(distinct(df_during_facilitators))\n",
    "scs <- c()\n",
    "# for (t in thetas) {\n",
    "#     for (d in dists){\n",
    "#         for (k in 2:nk) {\n",
    "#             sc <- silhouette_values_rock(\n",
    "#                 num_clusters = k,\n",
    "#                 theta = t,\n",
    "#                 df = df_during_facilitators_dist,\n",
    "#                 distmethod = d,\n",
    "#                 diss_matrix = dissimilarity_matrix)[[1]]\n",
    "#             scs <- append(scs, sc)\n",
    "#         }\n",
    "#     }\n",
    "# }\n"
   ]
  },
  {
   "cell_type": "code",
   "execution_count": 6,
   "metadata": {
    "vscode": {
     "languageId": "r"
    }
   },
   "outputs": [],
   "source": [
    "# ks_by_theta <- data.frame(\n",
    "#     theta=rep(thetas, each=((nk-1)*nd)), \n",
    "#     dist=rep(rep(dists, each=(nk-1)), nt), \n",
    "#     k=rep(2:nk, nd*nt), scs=scs\n",
    "# )\n",
    "\n",
    "# write.csv(\n",
    "#     ks_by_theta,\n",
    "#     \"silhouette_rock_facilitators.csv\", row.names = FALSE\n",
    "# )"
   ]
  },
  {
   "cell_type": "markdown",
   "metadata": {},
   "source": [
    "####  Best Situations"
   ]
  },
  {
   "cell_type": "code",
   "execution_count": 6,
   "metadata": {
    "vscode": {
     "languageId": "r"
    }
   },
   "outputs": [
    {
     "data": {
      "text/html": [
       "<table class=\"dataframe\">\n",
       "<caption>A grouped_df: 5 × 4</caption>\n",
       "<thead>\n",
       "\t<tr><th scope=col>theta</th><th scope=col>dist</th><th scope=col>k</th><th scope=col>scs</th></tr>\n",
       "\t<tr><th scope=col>&lt;dbl&gt;</th><th scope=col>&lt;chr&gt;</th><th scope=col>&lt;int&gt;</th><th scope=col>&lt;dbl&gt;</th></tr>\n",
       "</thead>\n",
       "<tbody>\n",
       "\t<tr><td>0.1414286</td><td>cosine         </td><td>15</td><td>0.27551969</td></tr>\n",
       "\t<tr><td>0.2121429</td><td>faith          </td><td> 8</td><td>0.27622018</td></tr>\n",
       "\t<tr><td>0.0000000</td><td>hamman         </td><td> 6</td><td>0.06613642</td></tr>\n",
       "\t<tr><td>0.1414286</td><td>jaccard        </td><td>15</td><td>0.27551969</td></tr>\n",
       "\t<tr><td>0.3535714</td><td>simple matching</td><td>14</td><td>0.20897274</td></tr>\n",
       "</tbody>\n",
       "</table>\n"
      ],
      "text/latex": [
       "A grouped\\_df: 5 × 4\n",
       "\\begin{tabular}{llll}\n",
       " theta & dist & k & scs\\\\\n",
       " <dbl> & <chr> & <int> & <dbl>\\\\\n",
       "\\hline\n",
       "\t 0.1414286 & cosine          & 15 & 0.27551969\\\\\n",
       "\t 0.2121429 & faith           &  8 & 0.27622018\\\\\n",
       "\t 0.0000000 & hamman          &  6 & 0.06613642\\\\\n",
       "\t 0.1414286 & jaccard         & 15 & 0.27551969\\\\\n",
       "\t 0.3535714 & simple matching & 14 & 0.20897274\\\\\n",
       "\\end{tabular}\n"
      ],
      "text/markdown": [
       "\n",
       "A grouped_df: 5 × 4\n",
       "\n",
       "| theta &lt;dbl&gt; | dist &lt;chr&gt; | k &lt;int&gt; | scs &lt;dbl&gt; |\n",
       "|---|---|---|---|\n",
       "| 0.1414286 | cosine          | 15 | 0.27551969 |\n",
       "| 0.2121429 | faith           |  8 | 0.27622018 |\n",
       "| 0.0000000 | hamman          |  6 | 0.06613642 |\n",
       "| 0.1414286 | jaccard         | 15 | 0.27551969 |\n",
       "| 0.3535714 | simple matching | 14 | 0.20897274 |\n",
       "\n"
      ],
      "text/plain": [
       "  theta     dist            k  scs       \n",
       "1 0.1414286 cosine          15 0.27551969\n",
       "2 0.2121429 faith            8 0.27622018\n",
       "3 0.0000000 hamman           6 0.06613642\n",
       "4 0.1414286 jaccard         15 0.27551969\n",
       "5 0.3535714 simple matching 14 0.20897274"
      ]
     },
     "metadata": {},
     "output_type": "display_data"
    }
   ],
   "source": [
    "scs <- read.csv(\"silhouette_rock_facilitators.csv\")\n",
    "scs %>% group_by(dist) %>% slice(which.max(scs))"
   ]
  },
  {
   "cell_type": "code",
   "execution_count": 7,
   "metadata": {
    "vscode": {
     "languageId": "r"
    }
   },
   "outputs": [
    {
     "data": {
      "text/html": [
       "<table class=\"dataframe\">\n",
       "<caption>A data.frame: 1 × 4</caption>\n",
       "<thead>\n",
       "\t<tr><th></th><th scope=col>theta</th><th scope=col>dist</th><th scope=col>k</th><th scope=col>scs</th></tr>\n",
       "\t<tr><th></th><th scope=col>&lt;dbl&gt;</th><th scope=col>&lt;chr&gt;</th><th scope=col>&lt;int&gt;</th><th scope=col>&lt;dbl&gt;</th></tr>\n",
       "</thead>\n",
       "<tbody>\n",
       "\t<tr><th scope=row>938</th><td>0.2121429</td><td>faith</td><td>8</td><td>0.2762202</td></tr>\n",
       "</tbody>\n",
       "</table>\n"
      ],
      "text/latex": [
       "A data.frame: 1 × 4\n",
       "\\begin{tabular}{r|llll}\n",
       "  & theta & dist & k & scs\\\\\n",
       "  & <dbl> & <chr> & <int> & <dbl>\\\\\n",
       "\\hline\n",
       "\t938 & 0.2121429 & faith & 8 & 0.2762202\\\\\n",
       "\\end{tabular}\n"
      ],
      "text/markdown": [
       "\n",
       "A data.frame: 1 × 4\n",
       "\n",
       "| <!--/--> | theta &lt;dbl&gt; | dist &lt;chr&gt; | k &lt;int&gt; | scs &lt;dbl&gt; |\n",
       "|---|---|---|---|---|\n",
       "| 938 | 0.2121429 | faith | 8 | 0.2762202 |\n",
       "\n"
      ],
      "text/plain": [
       "    theta     dist  k scs      \n",
       "938 0.2121429 faith 8 0.2762202"
      ]
     },
     "metadata": {},
     "output_type": "display_data"
    }
   ],
   "source": [
    "best_situtation <- scs[scs['scs'] == max(scs['scs']), ]\n",
    "best_situtation"
   ]
  },
  {
   "cell_type": "code",
   "execution_count": 8,
   "metadata": {
    "vscode": {
     "languageId": "r"
    }
   },
   "outputs": [
    {
     "name": "stdout",
     "output_type": "stream",
     "text": [
      "[1] \"Best K\"\n",
      "[1] 8\n",
      "[1] \"Best Theta\"\n",
      "[1] 0.2121429\n",
      "[1] \"Best dist\"\n",
      "[1] \"faith\"\n",
      "[1] \"Silhouette\"\n",
      "[1] 0.2762202\n"
     ]
    }
   ],
   "source": [
    "best_theta_rock <- best_situtation[1, 'theta']\n",
    "best_dist_rock <- best_situtation[1, 'dist']\n",
    "best_K_rock <- best_situtation[1, 'k']\n",
    "sil <- best_situtation[1, 'scs']\n",
    "\n",
    "print(\"Best K\")\n",
    "print(best_K_rock)\n",
    "print(\"Best Theta\")\n",
    "print(best_theta_rock)\n",
    "print('Best dist')\n",
    "print(best_dist_rock)\n",
    "print(\"Silhouette\")\n",
    "print(sil)"
   ]
  },
  {
   "cell_type": "code",
   "execution_count": 11,
   "metadata": {
    "vscode": {
     "languageId": "r"
    }
   },
   "outputs": [
    {
     "data": {
      "image/png": "[encoded data removed]",
      "text/plain": [
       "plot without title"
      ]
     },
     "metadata": {
      "image/png": {
       "height": 360,
       "width": 900
      }
     },
     "output_type": "display_data"
    }
   ],
   "source": [
    "label1 = paste(\"theta == \", round(best_theta_rock, 2))\n",
    "label2 =paste('distance function = 1 - ', best_dist_rock)\n",
    "options(repr.plot.width = 15, repr.plot.height =6)\n",
    "ggplot(data=scs[(scs$dist == best_dist_rock) & (scs$theta == best_theta_rock), ], aes(x=factor(k), y=scs, group=1)) +\n",
    "    geom_line(size=0.7) + geom_point(size=1.5) + \n",
    "    geom_vline(xintercept = best_K_rock-1, color = \"red\", size=0.8) + \n",
    "    ggtitle(\"Rock (Adjusted Silhouette Score) - Facilitators dataset\") +\n",
    "    xlab('Number of clusters (K)') +\n",
    "    ylab('Adjusted Silhouette Score') +\n",
    "    annotate(\"label\", x = 41, y = sil-0.03, parse = TRUE, label=label1, size=8) +\n",
    "    annotate(\"label\", x = 41, y = sil, label=label2, size=8)  + \n",
    "    theme(text = element_text(size = 21)) \n",
    "\n",
    "\n",
    "ggsave(path=\"graphs\", file=\"metric_evolution_facilitators_RS.jpeg\", width = 15, height = 6)"
   ]
  },
  {
   "cell_type": "markdown",
   "metadata": {},
   "source": [
    "#### Evaluating the silhuette coefficient for situation"
   ]
  },
  {
   "cell_type": "code",
   "execution_count": 13,
   "metadata": {
    "vscode": {
     "languageId": "r"
    }
   },
   "outputs": [
    {
     "name": "stdout",
     "output_type": "stream",
     "text": [
      "Clustering:\n",
      "computing distances ...\n",
      "computing links ...\n",
      "computing clusters ...\n"
     ]
    }
   ],
   "source": [
    "silhoutte_result <- silhouette_values_rock(best_K_rock, best_theta_rock, df_during_facilitators_dist, dissimilarity_matrix, best_dist_rock)"
   ]
  },
  {
   "cell_type": "code",
   "execution_count": 14,
   "metadata": {
    "vscode": {
     "languageId": "r"
    }
   },
   "outputs": [
    {
     "data": {
      "image/png": "[encoded data removed]",
      "text/plain": [
       "plot without title"
      ]
     },
     "metadata": {
      "image/png": {
       "height": 360,
       "width": 900
      }
     },
     "output_type": "display_data"
    }
   ],
   "source": [
    "\n",
    "coef_data <- data.frame(coef=silhoutte_result[[2]], clust=silhoutte_result[[3]]$cl)\n",
    "coef_data <- coef_data[order(coef_data$coef, decreasing=TRUE), ]\n",
    "coef_data <- coef_data[order(coef_data$clust, decreasing=TRUE), ]\n",
    "coef_data$clust <- as.factor(coef_data$clust )\n",
    "coef_data$ID <- seq.int(nrow(coef_data))\n",
    "\n",
    "ggplot(data = coef_data, aes(y=coef, x=ID, fill=clust)) + \n",
    "  geom_bar(stat = \"identity\") + \n",
    "  geom_hline(yintercept=mean(coef_data$coef), linetype=\"dashed\", color = \"red\") + \n",
    "  coord_flip() + \n",
    "  scale_x_reverse() + \n",
    "  theme(panel.grid.major = element_blank(), panel.grid.minor = element_blank()) +\n",
    "  ggtitle(\"Rock (Adjusted Silhouette Score) - Facilitators dataset\") +\n",
    "  xlab(\"Sample ID\") +\n",
    "  ylab(\"Silhouette Coefficient\") + \n",
    "  scale_fill_discrete(name = \"Clusters\") + \n",
    "  theme(text = element_text(size = 22)) \n",
    "\n",
    "ggsave(path=\"graphs\", file=\"coefficients_RS.jpeg\", width = 11, height = 5)\n"
   ]
  },
  {
   "cell_type": "markdown",
   "metadata": {},
   "source": [
    "## Exploring Kmodes best k"
   ]
  },
  {
   "cell_type": "code",
   "execution_count": 13,
   "metadata": {
    "vscode": {
     "languageId": "r"
    }
   },
   "outputs": [
    {
     "name": "stdout",
     "output_type": "stream",
     "text": [
      "Clustering:\n",
      "computing distances ...\n",
      "computing links ...\n",
      "computing clusters ...\n"
     ]
    },
    {
     "data": {
      "text/html": [
       "<table>\n",
       "<thead><tr><th scope=col>PA_easiness_outdoor_activities</th><th scope=col>PA_easiness_professional_guidance</th><th scope=col>PA_easiness_music</th><th scope=col>PA_easiness_others</th><th scope=col>PA_facilitator_home</th><th scope=col>PA_facilitator_group</th><th scope=col>cluster</th></tr></thead>\n",
       "<tbody>\n",
       "\t<tr><td>1</td><td>0</td><td>0</td><td>0</td><td>1</td><td>0</td><td>1</td></tr>\n",
       "\t<tr><td>0</td><td>0</td><td>0</td><td>0</td><td>0</td><td>0</td><td>2</td></tr>\n",
       "\t<tr><td>1</td><td>1</td><td>0</td><td>0</td><td>1</td><td>0</td><td>3</td></tr>\n",
       "\t<tr><td>0</td><td>0</td><td>0</td><td>0</td><td>1</td><td>1</td><td>2</td></tr>\n",
       "\t<tr><td>0</td><td>1</td><td>1</td><td>0</td><td>1</td><td>1</td><td>3</td></tr>\n",
       "\t<tr><td>1</td><td>0</td><td>1</td><td>0</td><td>1</td><td>0</td><td>1</td></tr>\n",
       "</tbody>\n",
       "</table>\n"
      ],
      "text/latex": [
       "\\begin{tabular}{r|lllllll}\n",
       " PA\\_easiness\\_outdoor\\_activities & PA\\_easiness\\_professional\\_guidance & PA\\_easiness\\_music & PA\\_easiness\\_others & PA\\_facilitator\\_home & PA\\_facilitator\\_group & cluster\\\\\n",
       "\\hline\n",
       "\t 1 & 0 & 0 & 0 & 1 & 0 & 1\\\\\n",
       "\t 0 & 0 & 0 & 0 & 0 & 0 & 2\\\\\n",
       "\t 1 & 1 & 0 & 0 & 1 & 0 & 3\\\\\n",
       "\t 0 & 0 & 0 & 0 & 1 & 1 & 2\\\\\n",
       "\t 0 & 1 & 1 & 0 & 1 & 1 & 3\\\\\n",
       "\t 1 & 0 & 1 & 0 & 1 & 0 & 1\\\\\n",
       "\\end{tabular}\n"
      ],
      "text/markdown": [
       "\n",
       "| PA_easiness_outdoor_activities | PA_easiness_professional_guidance | PA_easiness_music | PA_easiness_others | PA_facilitator_home | PA_facilitator_group | cluster |\n",
       "|---|---|---|---|---|---|---|\n",
       "| 1 | 0 | 0 | 0 | 1 | 0 | 1 |\n",
       "| 0 | 0 | 0 | 0 | 0 | 0 | 2 |\n",
       "| 1 | 1 | 0 | 0 | 1 | 0 | 3 |\n",
       "| 0 | 0 | 0 | 0 | 1 | 1 | 2 |\n",
       "| 0 | 1 | 1 | 0 | 1 | 1 | 3 |\n",
       "| 1 | 0 | 1 | 0 | 1 | 0 | 1 |\n",
       "\n"
      ],
      "text/plain": [
       "  PA_easiness_outdoor_activities PA_easiness_professional_guidance\n",
       "1 1                              0                                \n",
       "2 0                              0                                \n",
       "3 1                              1                                \n",
       "4 0                              0                                \n",
       "5 0                              1                                \n",
       "6 1                              0                                \n",
       "  PA_easiness_music PA_easiness_others PA_facilitator_home PA_facilitator_group\n",
       "1 0                 0                  1                   0                   \n",
       "2 0                 0                  0                   0                   \n",
       "3 0                 0                  1                   0                   \n",
       "4 0                 0                  1                   1                   \n",
       "5 1                 0                  1                   1                   \n",
       "6 1                 0                  1                   0                   \n",
       "  cluster\n",
       "1 1      \n",
       "2 2      \n",
       "3 3      \n",
       "4 2      \n",
       "5 3      \n",
       "6 1      "
      ]
     },
     "metadata": {},
     "output_type": "display_data"
    }
   ],
   "source": [
    "df_during_facilitators_dist$cluster <-rockCluster(df_matrix, n=best_K_rock, theta=best_theta_rock, fun = \"dist\", funArgs = list(method=best_dist_rock))$cl\n",
    "head(df_during_facilitators_dist)"
   ]
  },
  {
   "cell_type": "code",
   "execution_count": 14,
   "metadata": {
    "vscode": {
     "languageId": "r"
    }
   },
   "outputs": [
    {
     "data": {
      "text/html": [
       "1214"
      ],
      "text/latex": [
       "1214"
      ],
      "text/markdown": [
       "1214"
      ],
      "text/plain": [
       "[1] 1214"
      ]
     },
     "metadata": {},
     "output_type": "display_data"
    }
   ],
   "source": [
    "joint <- c(\n",
    "    'PA_easiness_outdoor_activities'='PA_easiness_outdoor_activities',\n",
    "    'PA_easiness_professional_guidance' = 'PA_easiness_professional_guidance',\n",
    "    'PA_easiness_music' = 'PA_easiness_music',\n",
    "    'PA_easiness_others' = 'PA_easiness_others',\n",
    "    'PA_facilitator_home' = 'PA_facilitator_home',\n",
    "    'PA_facilitator_group' = 'PA_facilitator_group'\n",
    ")\n",
    "\n",
    "df_during_facilitators <- left_join(df_during_facilitators, df_during_facilitators_dist, by = joint)\n",
    "df_during$cluster <- df_during_facilitators$cluster\n",
    "df_during_barriers$cluster <- df_during_facilitators$cluster\n",
    "\n",
    "nrow(df_during_facilitators)"
   ]
  },
  {
   "cell_type": "code",
   "execution_count": 15,
   "metadata": {
    "vscode": {
     "languageId": "r"
    }
   },
   "outputs": [
    {
     "data": {
      "text/plain": [
       "\n",
       "  1   2   3   4   5   6   7   8 \n",
       "112  87 242 503  52  56  89  73 "
      ]
     },
     "metadata": {},
     "output_type": "display_data"
    }
   ],
   "source": [
    "table(df_during$cluster)"
   ]
  },
  {
   "cell_type": "markdown",
   "metadata": {},
   "source": [
    "### Profile Plots\n",
    "<hr />"
   ]
  },
  {
   "cell_type": "code",
   "execution_count": 16,
   "metadata": {
    "vscode": {
     "languageId": "r"
    }
   },
   "outputs": [],
   "source": [
    "colors <- c(\"pink1\", \"violet\", \"mediumpurple1\", \"slateblue1\", \"purple\", \"purple3\",\n",
    "        \"turquoise2\", \"skyblue\", \"steelblue\", \"blue2\", \"navyblue\",\n",
    "        \"orange\", \"tomato\", \"coral2\", \"palevioletred\", \"violetred\", \"red2\",\n",
    "        \"springgreen2\", \"yellowgreen\", \"palegreen4\",\n",
    "        \"wheat2\", \"tan\", \"tan2\", \"tan3\", \"brown\",\n",
    "        \"grey70\", \"grey50\", \"grey30\")"
   ]
  },
  {
   "cell_type": "code",
   "execution_count": null,
   "metadata": {
    "vscode": {
     "languageId": "r"
    }
   },
   "outputs": [],
   "source": [
    "create_cluster_histograms(\n",
    "    colors = colors, \n",
    "    df = df_during, \n",
    "    names = names(df_during[, 20:ncol(df_during)-1]),\n",
    "    best_k = best_K_rock\n",
    ")\n",
    "create_cluster_histograms(\n",
    "    colors = colors, \n",
    "    df = df_during_barriers, \n",
    "    names = names(df_during_barriers[, 1:ncol(df_during_barriers)-1]),\n",
    "    best_k = best_K_rock\n",
    ")"
   ]
  },
  {
   "cell_type": "markdown",
   "metadata": {},
   "source": [
    "#### Mode"
   ]
  },
  {
   "cell_type": "code",
   "execution_count": 18,
   "metadata": {
    "vscode": {
     "languageId": "r"
    }
   },
   "outputs": [
    {
     "data": {
      "text/html": [
       "<table>\n",
       "<thead><tr><th scope=col>PA_easiness_outdoor_activities</th><th scope=col>PA_easiness_professional_guidance</th><th scope=col>PA_easiness_music</th><th scope=col>PA_easiness_others</th><th scope=col>PA_facilitator_home</th><th scope=col>PA_facilitator_group</th></tr></thead>\n",
       "<tbody>\n",
       "\t<tr><td>1</td><td>0</td><td>1</td><td>0</td><td>0</td><td>0</td></tr>\n",
       "\t<tr><td>0</td><td>0</td><td>0</td><td>0</td><td>0</td><td>1</td></tr>\n",
       "\t<tr><td>1</td><td>1</td><td>1</td><td>0</td><td>1</td><td>0</td></tr>\n",
       "\t<tr><td>0</td><td>0</td><td>0</td><td>0</td><td>1</td><td>1</td></tr>\n",
       "\t<tr><td>0</td><td>0</td><td>1</td><td>0</td><td>0</td><td>0</td></tr>\n",
       "\t<tr><td>0</td><td>0</td><td>0</td><td>1</td><td>0</td><td>0</td></tr>\n",
       "\t<tr><td>1</td><td>0</td><td>0</td><td>0</td><td>0</td><td>0</td></tr>\n",
       "\t<tr><td>0</td><td>1</td><td>0</td><td>0</td><td>0</td><td>0</td></tr>\n",
       "</tbody>\n",
       "</table>\n"
      ],
      "text/latex": [
       "\\begin{tabular}{r|llllll}\n",
       " PA\\_easiness\\_outdoor\\_activities & PA\\_easiness\\_professional\\_guidance & PA\\_easiness\\_music & PA\\_easiness\\_others & PA\\_facilitator\\_home & PA\\_facilitator\\_group\\\\\n",
       "\\hline\n",
       "\t 1 & 0 & 1 & 0 & 0 & 0\\\\\n",
       "\t 0 & 0 & 0 & 0 & 0 & 1\\\\\n",
       "\t 1 & 1 & 1 & 0 & 1 & 0\\\\\n",
       "\t 0 & 0 & 0 & 0 & 1 & 1\\\\\n",
       "\t 0 & 0 & 1 & 0 & 0 & 0\\\\\n",
       "\t 0 & 0 & 0 & 1 & 0 & 0\\\\\n",
       "\t 1 & 0 & 0 & 0 & 0 & 0\\\\\n",
       "\t 0 & 1 & 0 & 0 & 0 & 0\\\\\n",
       "\\end{tabular}\n"
      ],
      "text/markdown": [
       "\n",
       "| PA_easiness_outdoor_activities | PA_easiness_professional_guidance | PA_easiness_music | PA_easiness_others | PA_facilitator_home | PA_facilitator_group |\n",
       "|---|---|---|---|---|---|\n",
       "| 1 | 0 | 1 | 0 | 0 | 0 |\n",
       "| 0 | 0 | 0 | 0 | 0 | 1 |\n",
       "| 1 | 1 | 1 | 0 | 1 | 0 |\n",
       "| 0 | 0 | 0 | 0 | 1 | 1 |\n",
       "| 0 | 0 | 1 | 0 | 0 | 0 |\n",
       "| 0 | 0 | 0 | 1 | 0 | 0 |\n",
       "| 1 | 0 | 0 | 0 | 0 | 0 |\n",
       "| 0 | 1 | 0 | 0 | 0 | 0 |\n",
       "\n"
      ],
      "text/plain": [
       "  PA_easiness_outdoor_activities PA_easiness_professional_guidance\n",
       "1 1                              0                                \n",
       "2 0                              0                                \n",
       "3 1                              1                                \n",
       "4 0                              0                                \n",
       "5 0                              0                                \n",
       "6 0                              0                                \n",
       "7 1                              0                                \n",
       "8 0                              1                                \n",
       "  PA_easiness_music PA_easiness_others PA_facilitator_home PA_facilitator_group\n",
       "1 1                 0                  0                   0                   \n",
       "2 0                 0                  0                   1                   \n",
       "3 1                 0                  1                   0                   \n",
       "4 0                 0                  1                   1                   \n",
       "5 1                 0                  0                   0                   \n",
       "6 0                 1                  0                   0                   \n",
       "7 0                 0                  0                   0                   \n",
       "8 0                 0                  0                   0                   "
      ]
     },
     "metadata": {},
     "output_type": "display_data"
    }
   ],
   "source": [
    "modes <- data.frame(matrix(ncol = ncol(df_during_facilitators_dist)-1, nrow = 0))\n",
    "colnames(modes) <- colnames(df_during_facilitators_dist)[1:ncol(df_during_facilitators_dist)-1]\n",
    "for( cl in unique(df_during_facilitators_dist$cluster)){\n",
    "    cl_mode <- unname(apply(df_during_facilitators_dist[df_during_facilitators_dist$cluster == cl, ], 2, modefunc))\n",
    "    modes[nrow(modes) + 1,] <- cl_mode[1:length(cl_mode)-1]\n",
    "}\n",
    "\n",
    "modes"
   ]
  }
 ],
 "metadata": {
  "kernelspec": {
   "display_name": "R",
   "language": "R",
   "name": "ir"
  },
  "language_info": {
   "codemirror_mode": "r",
   "file_extension": ".r",
   "mimetype": "text/x-r-source",
   "name": "R",
   "pygments_lexer": "r",
   "version": "4.1.0"
  },
  "orig_nbformat": 4
 },
 "nbformat": 4,
 "nbformat_minor": 2
}
