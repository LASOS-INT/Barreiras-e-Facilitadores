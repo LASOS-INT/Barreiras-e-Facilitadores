{
 "cells": [
  {
   "cell_type": "markdown",
   "metadata": {},
   "source": [
    "## Importing packages"
   ]
  },
  {
   "cell_type": "code",
   "execution_count": 1,
   "metadata": {
    "vscode": {
     "languageId": "r"
    }
   },
   "outputs": [
    {
     "name": "stderr",
     "output_type": "stream",
     "text": [
      "Warning message:\n",
      "\"package 'here' was built under R version 4.1.1\"\n",
      "here() starts at C:/Users/maria/Desktop/Programacao/IC/projetos/Barreiras-e-Facilitadores\n",
      "\n",
      "Warning message:\n",
      "\"package 'ggplot2' was built under R version 4.1.1\"\n",
      "Warning message:\n",
      "\"package 'cluster' was built under R version 4.1.3\"\n",
      "Warning message:\n",
      "\"package 'cowplot' was built under R version 4.1.1\"\n",
      "Warning message:\n",
      "\"package 'randomForest' was built under R version 4.1.1\"\n",
      "randomForest 4.6-14\n",
      "\n",
      "Type rfNews() to see new features/changes/bug fixes.\n",
      "\n",
      "\n",
      "Attaching package: 'randomForest'\n",
      "\n",
      "\n",
      "The following object is masked from 'package:ggplot2':\n",
      "\n",
      "    margin\n",
      "\n",
      "\n",
      "Warning message:\n",
      "\"package 'caret' was built under R version 4.1.1\"\n",
      "Carregando pacotes exigidos: lattice\n",
      "\n",
      "Warning message:\n",
      "\"package 'lattice' was built under R version 4.1.1\"\n",
      "Warning message:\n",
      "\"package 'rpart.plot' was built under R version 4.1.1\"\n",
      "Carregando pacotes exigidos: rpart\n",
      "\n",
      "Warning message:\n",
      "\"package 'readxl' was built under R version 4.1.2\"\n",
      "Warning message:\n",
      "\"package 'e1071' was built under R version 4.1.1\"\n",
      "Warning message:\n",
      "\"package 'AugmenterR' was built under R version 4.1.1\"\n",
      "Warning message:\n",
      "\"package 'smotefamily' was built under R version 4.1.1\"\n",
      "Warning message:\n",
      "\"package 'ROSE' was built under R version 4.1.1\"\n",
      "Loaded ROSE 0.0-4\n",
      "\n",
      "\n",
      "Warning message:\n",
      "\"package 'xgboost' was built under R version 4.1.1\"\n",
      "Type 'citation(\"pROC\")' for a citation.\n",
      "\n",
      "\n",
      "Attaching package: 'pROC'\n",
      "\n",
      "\n",
      "The following objects are masked from 'package:stats':\n",
      "\n",
      "    cov, smooth, var\n",
      "\n",
      "\n",
      "Warning message:\n",
      "\"package 'klaR' was built under R version 4.1.2\"\n",
      "Carregando pacotes exigidos: MASS\n",
      "\n",
      "Warning message:\n",
      "\"package 'MASS' was built under R version 4.1.1\"\n",
      "\n",
      "Attaching package: 'MASS'\n",
      "\n",
      "\n",
      "The following object is masked _by_ '.GlobalEnv':\n",
      "\n",
      "    fbeta\n",
      "\n",
      "\n",
      "Warning message:\n",
      "\"package 'patchwork' was built under R version 4.1.2\"\n",
      "\n",
      "Attaching package: 'patchwork'\n",
      "\n",
      "\n",
      "The following object is masked from 'package:MASS':\n",
      "\n",
      "    area\n",
      "\n",
      "\n",
      "The following object is masked from 'package:cowplot':\n",
      "\n",
      "    align_plots\n",
      "\n",
      "\n",
      "Warning message:\n",
      "\"package 'DescTools' was built under R version 4.1.1\"\n",
      "\n",
      "Attaching package: 'DescTools'\n",
      "\n",
      "\n",
      "The following objects are masked from 'package:caret':\n",
      "\n",
      "    MAE, RMSE\n",
      "\n",
      "\n",
      "Warning message:\n",
      "\"package 'devtools' was built under R version 4.1.2\"\n",
      "Carregando pacotes exigidos: usethis\n",
      "\n",
      "Warning message:\n",
      "\"package 'usethis' was built under R version 4.1.2\"\n",
      "Warning message:\n",
      "\"package 'dplyr' was built under R version 4.1.1\"\n",
      "\n",
      "Attaching package: 'dplyr'\n",
      "\n",
      "\n",
      "The following object is masked from 'package:MASS':\n",
      "\n",
      "    select\n",
      "\n",
      "\n",
      "The following object is masked from 'package:xgboost':\n",
      "\n",
      "    slice\n",
      "\n",
      "\n",
      "The following object is masked from 'package:randomForest':\n",
      "\n",
      "    combine\n",
      "\n",
      "\n",
      "The following objects are masked from 'package:stats':\n",
      "\n",
      "    filter, lag\n",
      "\n",
      "\n",
      "The following objects are masked from 'package:base':\n",
      "\n",
      "    intersect, setdiff, setequal, union\n",
      "\n",
      "\n",
      "\n",
      "Attaching package: 'kernlab'\n",
      "\n",
      "\n",
      "The following object is masked from 'package:ggplot2':\n",
      "\n",
      "    alpha\n",
      "\n",
      "\n",
      "Warning message:\n",
      "\"package 'fastAdaboost' was built under R version 4.1.1\"\n",
      "Warning message:\n",
      "\"package 'DataExplorer' was built under R version 4.1.1\"\n",
      "dummies-1.5.6 provided by Decision Patterns\n",
      "\n",
      "\n",
      "Warning message:\n",
      "\"package 'mlbench' was built under R version 4.1.1\"\n",
      "Warning message:\n",
      "\"package 'h2o' was built under R version 4.1.1\"\n",
      "\n",
      "----------------------------------------------------------------------\n",
      "\n",
      "Your next step is to start H2O:\n",
      "    > h2o.init()\n",
      "\n",
      "For H2O package documentation, ask for help:\n",
      "    > ??h2o\n",
      "\n",
      "After starting H2O, you can use the Web UI at http://localhost:54321\n",
      "For more information visit https://docs.h2o.ai\n",
      "\n",
      "----------------------------------------------------------------------\n",
      "\n",
      "\n",
      "\n",
      "Attaching package: 'h2o'\n",
      "\n",
      "\n",
      "The following object is masked from 'package:pROC':\n",
      "\n",
      "    var\n",
      "\n",
      "\n",
      "The following objects are masked from 'package:stats':\n",
      "\n",
      "    cor, sd, var\n",
      "\n",
      "\n",
      "The following objects are masked from 'package:base':\n",
      "\n",
      "    %*%, %in%, &&, ||, apply, as.factor, as.numeric, colnames,\n",
      "    colnames<-, ifelse, is.character, is.factor, is.numeric, log,\n",
      "    log10, log1p, log2, round, signif, trunc\n",
      "\n",
      "\n",
      "Warning message:\n",
      "\"package 'rattle' was built under R version 4.1.1\"\n",
      "Carregando pacotes exigidos: tibble\n",
      "\n",
      "Carregando pacotes exigidos: bitops\n",
      "\n",
      "\n",
      "Attaching package: 'bitops'\n",
      "\n",
      "\n",
      "The following object is masked from 'package:DescTools':\n",
      "\n",
      "    %^%\n",
      "\n",
      "\n",
      "Rattle: A free graphical interface for data science with R.\n",
      "Version 5.4.0 Copyright (c) 2006-2020 Togaware Pty Ltd.\n",
      "Type 'rattle()' to shake, rattle, and roll your data.\n",
      "\n",
      "\n",
      "Attaching package: 'rattle'\n",
      "\n",
      "\n",
      "The following object is masked from 'package:xgboost':\n",
      "\n",
      "    xgboost\n",
      "\n",
      "\n",
      "The following object is masked from 'package:randomForest':\n",
      "\n",
      "    importance\n",
      "\n",
      "\n",
      "Warning message:\n",
      "\"package 'pracma' was built under R version 4.1.3\"\n",
      "\n",
      "Attaching package: 'pracma'\n",
      "\n",
      "\n",
      "The following objects are masked from 'package:kernlab':\n",
      "\n",
      "    cross, eig, size\n",
      "\n",
      "\n",
      "The following objects are masked from 'package:DescTools':\n",
      "\n",
      "    Mode, Rank\n",
      "\n",
      "\n",
      "The following object is masked from 'package:lsr':\n",
      "\n",
      "    who\n",
      "\n",
      "\n",
      "The following object is masked from 'package:e1071':\n",
      "\n",
      "    sigmoid\n",
      "\n",
      "\n",
      "Warning message:\n",
      "\"package 'MLmetrics' was built under R version 4.1.1\"\n",
      "\n",
      "Attaching package: 'MLmetrics'\n",
      "\n",
      "\n",
      "The following objects are masked from 'package:DescTools':\n",
      "\n",
      "    AUC, Gini, MAE, MAPE, MSE, RMSE\n",
      "\n",
      "\n",
      "The following objects are masked from 'package:caret':\n",
      "\n",
      "    MAE, RMSE\n",
      "\n",
      "\n",
      "The following object is masked from 'package:base':\n",
      "\n",
      "    Recall\n",
      "\n",
      "\n",
      "Warning message:\n",
      "\"package 'ggfortify' was built under R version 4.1.1\"\n",
      "Warning message:\n",
      "\"package 'Rtsne' was built under R version 4.1.1\"\n",
      "Warning message:\n",
      "\"package 'obliqueRF' was built under R version 4.1.2\"\n",
      "Carregando pacotes exigidos: ROCR\n",
      "\n",
      "Warning message:\n",
      "\"package 'ROCR' was built under R version 4.1.1\"\n",
      "Carregando pacotes exigidos: pls\n",
      "\n",
      "Warning message:\n",
      "\"package 'pls' was built under R version 4.1.2\"\n",
      "\n",
      "Attaching package: 'pls'\n",
      "\n",
      "\n",
      "The following object is masked from 'package:caret':\n",
      "\n",
      "    R2\n",
      "\n",
      "\n",
      "The following object is masked from 'package:stats':\n",
      "\n",
      "    loadings\n",
      "\n",
      "\n",
      "Carregando pacotes exigidos: mda\n",
      "\n",
      "Warning message:\n",
      "\"package 'mda' was built under R version 4.1.2\"\n",
      "Carregando pacotes exigidos: class\n",
      "\n",
      "Loaded mda 0.5-2\n",
      "\n",
      "\n",
      "\n",
      "Attaching package: 'mda'\n",
      "\n",
      "\n",
      "The following object is masked from 'package:pracma':\n",
      "\n",
      "    laplacian\n",
      "\n",
      "\n",
      "obliqueRF 0.3\n",
      "\n",
      "Type orfNews() to see new features/changes/bug fixes.\n",
      "\n",
      "\n",
      "Attaching package: 'obliqueRF'\n",
      "\n",
      "\n",
      "The following object is masked from 'package:rattle':\n",
      "\n",
      "    importance\n",
      "\n",
      "\n",
      "The following object is masked from 'package:randomForest':\n",
      "\n",
      "    importance\n",
      "\n",
      "\n",
      "Warning message:\n",
      "\"package 'gbm' was built under R version 4.1.2\"\n",
      "Loaded gbm 2.1.8\n",
      "\n",
      "Warning message:\n",
      "\"package 'MLeval' was built under R version 4.1.2\"\n",
      "Warning message:\n",
      "\"package 'fmsb' was built under R version 4.1.3\"\n",
      "Registered S3 methods overwritten by 'fmsb':\n",
      "  method    from\n",
      "  print.roc pROC\n",
      "  plot.roc  pROC\n",
      "\n",
      "\n",
      "Attaching package: 'fmsb'\n",
      "\n",
      "\n",
      "The following objects are masked from 'package:DescTools':\n",
      "\n",
      "    CronbachAlpha, VIF\n",
      "\n",
      "\n",
      "The following object is masked from 'package:pROC':\n",
      "\n",
      "    roc\n",
      "\n",
      "\n",
      "Warning message:\n",
      "\"package 'cba' was built under R version 4.1.3\"\n",
      "Carregando pacotes exigidos: proxy\n",
      "\n",
      "\n",
      "Attaching package: 'proxy'\n",
      "\n",
      "\n",
      "The following objects are masked from 'package:stats':\n",
      "\n",
      "    as.dist, dist\n",
      "\n",
      "\n",
      "The following object is masked from 'package:base':\n",
      "\n",
      "    as.matrix\n",
      "\n",
      "\n",
      "\n",
      "Attaching package: 'cba'\n",
      "\n",
      "\n",
      "The following object is masked from 'package:e1071':\n",
      "\n",
      "    gknn\n",
      "\n",
      "\n"
     ]
    },
    {
     "data": {
      "text/html": [
       "<ol>\n",
       "\t<li>TRUE</li>\n",
       "\t<li>TRUE</li>\n",
       "\t<li>TRUE</li>\n",
       "\t<li>TRUE</li>\n",
       "\t<li>TRUE</li>\n",
       "\t<li>TRUE</li>\n",
       "\t<li>TRUE</li>\n",
       "\t<li>TRUE</li>\n",
       "\t<li>TRUE</li>\n",
       "\t<li>TRUE</li>\n",
       "\t<li>TRUE</li>\n",
       "\t<li>TRUE</li>\n",
       "\t<li>TRUE</li>\n",
       "\t<li>TRUE</li>\n",
       "\t<li>TRUE</li>\n",
       "\t<li>TRUE</li>\n",
       "\t<li>TRUE</li>\n",
       "\t<li>TRUE</li>\n",
       "\t<li>TRUE</li>\n",
       "\t<li>TRUE</li>\n",
       "\t<li>TRUE</li>\n",
       "\t<li>TRUE</li>\n",
       "\t<li>TRUE</li>\n",
       "\t<li>TRUE</li>\n",
       "\t<li>TRUE</li>\n",
       "\t<li>TRUE</li>\n",
       "\t<li>TRUE</li>\n",
       "\t<li>TRUE</li>\n",
       "\t<li>TRUE</li>\n",
       "\t<li>TRUE</li>\n",
       "\t<li>TRUE</li>\n",
       "\t<li>TRUE</li>\n",
       "\t<li>TRUE</li>\n",
       "\t<li>TRUE</li>\n",
       "\t<li>TRUE</li>\n",
       "\t<li>TRUE</li>\n",
       "\t<li>TRUE</li>\n",
       "\t<li>TRUE</li>\n",
       "\t<li>TRUE</li>\n",
       "\t<li>TRUE</li>\n",
       "\t<li>TRUE</li>\n",
       "</ol>\n"
      ],
      "text/latex": [
       "\\begin{enumerate}\n",
       "\\item TRUE\n",
       "\\item TRUE\n",
       "\\item TRUE\n",
       "\\item TRUE\n",
       "\\item TRUE\n",
       "\\item TRUE\n",
       "\\item TRUE\n",
       "\\item TRUE\n",
       "\\item TRUE\n",
       "\\item TRUE\n",
       "\\item TRUE\n",
       "\\item TRUE\n",
       "\\item TRUE\n",
       "\\item TRUE\n",
       "\\item TRUE\n",
       "\\item TRUE\n",
       "\\item TRUE\n",
       "\\item TRUE\n",
       "\\item TRUE\n",
       "\\item TRUE\n",
       "\\item TRUE\n",
       "\\item TRUE\n",
       "\\item TRUE\n",
       "\\item TRUE\n",
       "\\item TRUE\n",
       "\\item TRUE\n",
       "\\item TRUE\n",
       "\\item TRUE\n",
       "\\item TRUE\n",
       "\\item TRUE\n",
       "\\item TRUE\n",
       "\\item TRUE\n",
       "\\item TRUE\n",
       "\\item TRUE\n",
       "\\item TRUE\n",
       "\\item TRUE\n",
       "\\item TRUE\n",
       "\\item TRUE\n",
       "\\item TRUE\n",
       "\\item TRUE\n",
       "\\item TRUE\n",
       "\\end{enumerate}\n"
      ],
      "text/markdown": [
       "1. TRUE\n",
       "2. TRUE\n",
       "3. TRUE\n",
       "4. TRUE\n",
       "5. TRUE\n",
       "6. TRUE\n",
       "7. TRUE\n",
       "8. TRUE\n",
       "9. TRUE\n",
       "10. TRUE\n",
       "11. TRUE\n",
       "12. TRUE\n",
       "13. TRUE\n",
       "14. TRUE\n",
       "15. TRUE\n",
       "16. TRUE\n",
       "17. TRUE\n",
       "18. TRUE\n",
       "19. TRUE\n",
       "20. TRUE\n",
       "21. TRUE\n",
       "22. TRUE\n",
       "23. TRUE\n",
       "24. TRUE\n",
       "25. TRUE\n",
       "26. TRUE\n",
       "27. TRUE\n",
       "28. TRUE\n",
       "29. TRUE\n",
       "30. TRUE\n",
       "31. TRUE\n",
       "32. TRUE\n",
       "33. TRUE\n",
       "34. TRUE\n",
       "35. TRUE\n",
       "36. TRUE\n",
       "37. TRUE\n",
       "38. TRUE\n",
       "39. TRUE\n",
       "40. TRUE\n",
       "41. TRUE\n",
       "\n",
       "\n"
      ],
      "text/plain": [
       "[[1]]\n",
       "[1] TRUE\n",
       "\n",
       "[[2]]\n",
       "[1] TRUE\n",
       "\n",
       "[[3]]\n",
       "[1] TRUE\n",
       "\n",
       "[[4]]\n",
       "[1] TRUE\n",
       "\n",
       "[[5]]\n",
       "[1] TRUE\n",
       "\n",
       "[[6]]\n",
       "[1] TRUE\n",
       "\n",
       "[[7]]\n",
       "[1] TRUE\n",
       "\n",
       "[[8]]\n",
       "[1] TRUE\n",
       "\n",
       "[[9]]\n",
       "[1] TRUE\n",
       "\n",
       "[[10]]\n",
       "[1] TRUE\n",
       "\n",
       "[[11]]\n",
       "[1] TRUE\n",
       "\n",
       "[[12]]\n",
       "[1] TRUE\n",
       "\n",
       "[[13]]\n",
       "[1] TRUE\n",
       "\n",
       "[[14]]\n",
       "[1] TRUE\n",
       "\n",
       "[[15]]\n",
       "[1] TRUE\n",
       "\n",
       "[[16]]\n",
       "[1] TRUE\n",
       "\n",
       "[[17]]\n",
       "[1] TRUE\n",
       "\n",
       "[[18]]\n",
       "[1] TRUE\n",
       "\n",
       "[[19]]\n",
       "[1] TRUE\n",
       "\n",
       "[[20]]\n",
       "[1] TRUE\n",
       "\n",
       "[[21]]\n",
       "[1] TRUE\n",
       "\n",
       "[[22]]\n",
       "[1] TRUE\n",
       "\n",
       "[[23]]\n",
       "[1] TRUE\n",
       "\n",
       "[[24]]\n",
       "[1] TRUE\n",
       "\n",
       "[[25]]\n",
       "[1] TRUE\n",
       "\n",
       "[[26]]\n",
       "[1] TRUE\n",
       "\n",
       "[[27]]\n",
       "[1] TRUE\n",
       "\n",
       "[[28]]\n",
       "[1] TRUE\n",
       "\n",
       "[[29]]\n",
       "[1] TRUE\n",
       "\n",
       "[[30]]\n",
       "[1] TRUE\n",
       "\n",
       "[[31]]\n",
       "[1] TRUE\n",
       "\n",
       "[[32]]\n",
       "[1] TRUE\n",
       "\n",
       "[[33]]\n",
       "[1] TRUE\n",
       "\n",
       "[[34]]\n",
       "[1] TRUE\n",
       "\n",
       "[[35]]\n",
       "[1] TRUE\n",
       "\n",
       "[[36]]\n",
       "[1] TRUE\n",
       "\n",
       "[[37]]\n",
       "[1] TRUE\n",
       "\n",
       "[[38]]\n",
       "[1] TRUE\n",
       "\n",
       "[[39]]\n",
       "[1] TRUE\n",
       "\n",
       "[[40]]\n",
       "[1] TRUE\n",
       "\n",
       "[[41]]\n",
       "[1] TRUE\n"
      ]
     },
     "metadata": {},
     "output_type": "display_data"
    }
   ],
   "source": [
    "library(here, help, pos = 2, lib.loc = NULL)\n",
    "source(here('Modules','modules.R'))\n",
    "source(here('Modules','preprocessing_clustering.R'))\n",
    "#install_all_packages()\n",
    "load_library_packages()"
   ]
  },
  {
   "cell_type": "code",
   "execution_count": 2,
   "metadata": {
    "vscode": {
     "languageId": "r"
    }
   },
   "outputs": [
    {
     "data": {
      "text/html": [
       "<style>\n",
       ".list-inline {list-style: none; margin:0; padding: 0}\n",
       ".list-inline>li {display: inline-block}\n",
       ".list-inline>li:not(:last-child)::after {content: \"\\00b7\"; padding: 0 .5ex}\n",
       "</style>\n",
       "<ol class=list-inline><li>1214</li><li>6</li></ol>\n"
      ],
      "text/latex": [
       "\\begin{enumerate*}\n",
       "\\item 1214\n",
       "\\item 6\n",
       "\\end{enumerate*}\n"
      ],
      "text/markdown": [
       "1. 1214\n",
       "2. 6\n",
       "\n",
       "\n"
      ],
      "text/plain": [
       "[1] 1214    6"
      ]
     },
     "metadata": {},
     "output_type": "display_data"
    }
   ],
   "source": [
    "dim(df_during_facilitators)"
   ]
  },
  {
   "cell_type": "markdown",
   "metadata": {},
   "source": [
    "## Clustering - Kmodes Fisher"
   ]
  },
  {
   "cell_type": "code",
   "execution_count": 3,
   "metadata": {
    "vscode": {
     "languageId": "r"
    }
   },
   "outputs": [
    {
     "data": {
      "text/html": [
       "50"
      ],
      "text/latex": [
       "50"
      ],
      "text/markdown": [
       "50"
      ],
      "text/plain": [
       "[1] 50"
      ]
     },
     "metadata": {},
     "output_type": "display_data"
    }
   ],
   "source": [
    "df_during_facilitators_dist <- distinct(df_during_facilitators)\n",
    "nrow(df_during_facilitators_dist)"
   ]
  },
  {
   "cell_type": "markdown",
   "metadata": {},
   "source": [
    "### Caliski\n",
    "\n",
    "<hr />"
   ]
  },
  {
   "cell_type": "markdown",
   "metadata": {},
   "source": [
    "#### Scanning parameters"
   ]
  },
  {
   "cell_type": "code",
   "execution_count": 4,
   "metadata": {
    "vscode": {
     "languageId": "r"
    }
   },
   "outputs": [],
   "source": [
    "source(here('Modules','modules.R'))\n",
    "nseed <- 1000\n",
    "nk <- nrow(distinct(df_during_facilitators))\n",
    "# ks_by_seed <- data.frame(matrix(NA, nrow = nseed, ncol = nk-1))\n",
    "# for (seed in 1:nseed) {\n",
    "#     calisnki <- c()\n",
    "#     for (k in 2:nk) {\n",
    "#         fs <- calisnki_values_kmodes(k, df_during_facilitators_dist, 200, seed)[[1]]\n",
    "#         calisnki <- append(calisnki, fs)\n",
    "#     }\n",
    "\n",
    "#     ks_by_seed[seed, ] <- calisnki\n",
    "# }\n",
    "\n",
    "# write.csv(\n",
    "#     ks_by_seed,\n",
    "#     \"calisnki_kmodes_or_facilitators.csv\", row.names = FALSE\n",
    "# )"
   ]
  },
  {
   "cell_type": "markdown",
   "metadata": {},
   "source": [
    "#### Results"
   ]
  },
  {
   "cell_type": "code",
   "execution_count": 5,
   "metadata": {
    "vscode": {
     "languageId": "r"
    }
   },
   "outputs": [
    {
     "data": {
      "text/html": [
       "<table class=\"dataframe\">\n",
       "<caption>A data.frame: 6 × 50</caption>\n",
       "<thead>\n",
       "\t<tr><th></th><th scope=col>2</th><th scope=col>3</th><th scope=col>4</th><th scope=col>5</th><th scope=col>6</th><th scope=col>7</th><th scope=col>8</th><th scope=col>9</th><th scope=col>10</th><th scope=col>11</th><th scope=col>...</th><th scope=col>42</th><th scope=col>43</th><th scope=col>44</th><th scope=col>45</th><th scope=col>46</th><th scope=col>47</th><th scope=col>48</th><th scope=col>49</th><th scope=col>50</th><th scope=col>seed</th></tr>\n",
       "\t<tr><th></th><th scope=col>&lt;dbl&gt;</th><th scope=col>&lt;dbl&gt;</th><th scope=col>&lt;dbl&gt;</th><th scope=col>&lt;dbl&gt;</th><th scope=col>&lt;dbl&gt;</th><th scope=col>&lt;dbl&gt;</th><th scope=col>&lt;dbl&gt;</th><th scope=col>&lt;dbl&gt;</th><th scope=col>&lt;dbl&gt;</th><th scope=col>&lt;dbl&gt;</th><th scope=col>...</th><th scope=col>&lt;dbl&gt;</th><th scope=col>&lt;dbl&gt;</th><th scope=col>&lt;dbl&gt;</th><th scope=col>&lt;dbl&gt;</th><th scope=col>&lt;dbl&gt;</th><th scope=col>&lt;dbl&gt;</th><th scope=col>&lt;dbl&gt;</th><th scope=col>&lt;dbl&gt;</th><th scope=col>&lt;lgl&gt;</th><th scope=col>&lt;int&gt;</th></tr>\n",
       "</thead>\n",
       "<tbody>\n",
       "\t<tr><th scope=row>1</th><td> 91.38462</td><td>123.90909</td><td> 307.94444</td><td>411.42857</td><td> 116.1600</td><td> 967.5000</td><td> 216.00000</td><td>1491.3750</td><td> 442.9630</td><td>571.35000</td><td>...</td><td>4.0585366</td><td>1.1025641</td><td>0.1555471</td><td>1.4545455</td><td>0.06937669</td><td>0.31304348</td><td>0.05237316</td><td>0.006666667</td><td>NA</td><td>1</td></tr>\n",
       "\t<tr><th scope=row>2</th><td>154.28571</td><td>253.07692</td><td>1916.66667</td><td>410.62500</td><td> 397.2571</td><td> 800.2778</td><td> 710.00000</td><td> 285.5357</td><td> 862.2222</td><td>727.35000</td><td>...</td><td>0.4616300</td><td>0.6466667</td><td>0.9445438</td><td>0.6818182</td><td>0.41025641</td><td>0.09225875</td><td>0.34042553</td><td>0.004065041</td><td>NA</td><td>2</td></tr>\n",
       "\t<tr><th scope=row>3</th><td> 57.14286</td><td> 42.13793</td><td> 111.51515</td><td> 99.14062</td><td> 130.9000</td><td> 247.7619</td><td>1614.00000</td><td> 526.1667</td><td>1342.2222</td><td> 27.87073</td><td>...</td><td>5.1512195</td><td>0.8800000</td><td>0.6920930</td><td>0.9440559</td><td>0.35555556</td><td>0.21391304</td><td>0.05189414</td><td>0.028846154</td><td>NA</td><td>3</td></tr>\n",
       "\t<tr><th scope=row>4</th><td> 50.00000</td><td> 48.70290</td><td> 308.06061</td><td>691.87500</td><td>2279.2000</td><td> 791.9167</td><td> 202.28571</td><td>1178.7500</td><td> 526.6667</td><td>284.70000</td><td>...</td><td>0.2165052</td><td>0.2148148</td><td>1.3395349</td><td>0.1108647</td><td>0.05245902</td><td>0.36521739</td><td>0.06546645</td><td>0.001016260</td><td>NA</td><td>4</td></tr>\n",
       "\t<tr><th scope=row>5</th><td> 54.05825</td><td>170.37500</td><td> 475.33333</td><td>131.44737</td><td> 543.4000</td><td> 637.8333</td><td>  27.05085</td><td> 156.3125</td><td> 537.7778</td><td> 16.81034</td><td>...</td><td>2.7317073</td><td>0.4133333</td><td>0.1837777</td><td>0.8181818</td><td>0.11377778</td><td>0.36521739</td><td>0.08510638</td><td>0.004065041</td><td>NA</td><td>5</td></tr>\n",
       "\t<tr><th scope=row>6</th><td>246.40000</td><td>648.20833</td><td>  99.21569</td><td>334.68750</td><td>1007.6000</td><td>1619.6667</td><td>1434.00000</td><td>  28.7500</td><td> 508.8889</td><td>487.50000</td><td>...</td><td>0.4473528</td><td>1.1794872</td><td>0.1986598</td><td>0.3873967</td><td>1.17333333</td><td>0.44347826</td><td>0.04425532</td><td>0.028846154</td><td>NA</td><td>6</td></tr>\n",
       "</tbody>\n",
       "</table>\n"
      ],
      "text/latex": [
       "A data.frame: 6 × 50\n",
       "\\begin{tabular}{r|lllllllllllllllllllll}\n",
       "  & 2 & 3 & 4 & 5 & 6 & 7 & 8 & 9 & 10 & 11 & ... & 42 & 43 & 44 & 45 & 46 & 47 & 48 & 49 & 50 & seed\\\\\n",
       "  & <dbl> & <dbl> & <dbl> & <dbl> & <dbl> & <dbl> & <dbl> & <dbl> & <dbl> & <dbl> & ... & <dbl> & <dbl> & <dbl> & <dbl> & <dbl> & <dbl> & <dbl> & <dbl> & <lgl> & <int>\\\\\n",
       "\\hline\n",
       "\t1 &  91.38462 & 123.90909 &  307.94444 & 411.42857 &  116.1600 &  967.5000 &  216.00000 & 1491.3750 &  442.9630 & 571.35000 & ... & 4.0585366 & 1.1025641 & 0.1555471 & 1.4545455 & 0.06937669 & 0.31304348 & 0.05237316 & 0.006666667 & NA & 1\\\\\n",
       "\t2 & 154.28571 & 253.07692 & 1916.66667 & 410.62500 &  397.2571 &  800.2778 &  710.00000 &  285.5357 &  862.2222 & 727.35000 & ... & 0.4616300 & 0.6466667 & 0.9445438 & 0.6818182 & 0.41025641 & 0.09225875 & 0.34042553 & 0.004065041 & NA & 2\\\\\n",
       "\t3 &  57.14286 &  42.13793 &  111.51515 &  99.14062 &  130.9000 &  247.7619 & 1614.00000 &  526.1667 & 1342.2222 &  27.87073 & ... & 5.1512195 & 0.8800000 & 0.6920930 & 0.9440559 & 0.35555556 & 0.21391304 & 0.05189414 & 0.028846154 & NA & 3\\\\\n",
       "\t4 &  50.00000 &  48.70290 &  308.06061 & 691.87500 & 2279.2000 &  791.9167 &  202.28571 & 1178.7500 &  526.6667 & 284.70000 & ... & 0.2165052 & 0.2148148 & 1.3395349 & 0.1108647 & 0.05245902 & 0.36521739 & 0.06546645 & 0.001016260 & NA & 4\\\\\n",
       "\t5 &  54.05825 & 170.37500 &  475.33333 & 131.44737 &  543.4000 &  637.8333 &   27.05085 &  156.3125 &  537.7778 &  16.81034 & ... & 2.7317073 & 0.4133333 & 0.1837777 & 0.8181818 & 0.11377778 & 0.36521739 & 0.08510638 & 0.004065041 & NA & 5\\\\\n",
       "\t6 & 246.40000 & 648.20833 &   99.21569 & 334.68750 & 1007.6000 & 1619.6667 & 1434.00000 &   28.7500 &  508.8889 & 487.50000 & ... & 0.4473528 & 1.1794872 & 0.1986598 & 0.3873967 & 1.17333333 & 0.44347826 & 0.04425532 & 0.028846154 & NA & 6\\\\\n",
       "\\end{tabular}\n"
      ],
      "text/markdown": [
       "\n",
       "A data.frame: 6 × 50\n",
       "\n",
       "| <!--/--> | 2 &lt;dbl&gt; | 3 &lt;dbl&gt; | 4 &lt;dbl&gt; | 5 &lt;dbl&gt; | 6 &lt;dbl&gt; | 7 &lt;dbl&gt; | 8 &lt;dbl&gt; | 9 &lt;dbl&gt; | 10 &lt;dbl&gt; | 11 &lt;dbl&gt; | ... ... | 42 &lt;dbl&gt; | 43 &lt;dbl&gt; | 44 &lt;dbl&gt; | 45 &lt;dbl&gt; | 46 &lt;dbl&gt; | 47 &lt;dbl&gt; | 48 &lt;dbl&gt; | 49 &lt;dbl&gt; | 50 &lt;lgl&gt; | seed &lt;int&gt; |\n",
       "|---|---|---|---|---|---|---|---|---|---|---|---|---|---|---|---|---|---|---|---|---|---|\n",
       "| 1 |  91.38462 | 123.90909 |  307.94444 | 411.42857 |  116.1600 |  967.5000 |  216.00000 | 1491.3750 |  442.9630 | 571.35000 | ... | 4.0585366 | 1.1025641 | 0.1555471 | 1.4545455 | 0.06937669 | 0.31304348 | 0.05237316 | 0.006666667 | NA | 1 |\n",
       "| 2 | 154.28571 | 253.07692 | 1916.66667 | 410.62500 |  397.2571 |  800.2778 |  710.00000 |  285.5357 |  862.2222 | 727.35000 | ... | 0.4616300 | 0.6466667 | 0.9445438 | 0.6818182 | 0.41025641 | 0.09225875 | 0.34042553 | 0.004065041 | NA | 2 |\n",
       "| 3 |  57.14286 |  42.13793 |  111.51515 |  99.14062 |  130.9000 |  247.7619 | 1614.00000 |  526.1667 | 1342.2222 |  27.87073 | ... | 5.1512195 | 0.8800000 | 0.6920930 | 0.9440559 | 0.35555556 | 0.21391304 | 0.05189414 | 0.028846154 | NA | 3 |\n",
       "| 4 |  50.00000 |  48.70290 |  308.06061 | 691.87500 | 2279.2000 |  791.9167 |  202.28571 | 1178.7500 |  526.6667 | 284.70000 | ... | 0.2165052 | 0.2148148 | 1.3395349 | 0.1108647 | 0.05245902 | 0.36521739 | 0.06546645 | 0.001016260 | NA | 4 |\n",
       "| 5 |  54.05825 | 170.37500 |  475.33333 | 131.44737 |  543.4000 |  637.8333 |   27.05085 |  156.3125 |  537.7778 |  16.81034 | ... | 2.7317073 | 0.4133333 | 0.1837777 | 0.8181818 | 0.11377778 | 0.36521739 | 0.08510638 | 0.004065041 | NA | 5 |\n",
       "| 6 | 246.40000 | 648.20833 |   99.21569 | 334.68750 | 1007.6000 | 1619.6667 | 1434.00000 |   28.7500 |  508.8889 | 487.50000 | ... | 0.4473528 | 1.1794872 | 0.1986598 | 0.3873967 | 1.17333333 | 0.44347826 | 0.04425532 | 0.028846154 | NA | 6 |\n",
       "\n"
      ],
      "text/plain": [
       "  2         3         4          5         6         7         8         \n",
       "1  91.38462 123.90909  307.94444 411.42857  116.1600  967.5000  216.00000\n",
       "2 154.28571 253.07692 1916.66667 410.62500  397.2571  800.2778  710.00000\n",
       "3  57.14286  42.13793  111.51515  99.14062  130.9000  247.7619 1614.00000\n",
       "4  50.00000  48.70290  308.06061 691.87500 2279.2000  791.9167  202.28571\n",
       "5  54.05825 170.37500  475.33333 131.44737  543.4000  637.8333   27.05085\n",
       "6 246.40000 648.20833   99.21569 334.68750 1007.6000 1619.6667 1434.00000\n",
       "  9         10        11        ... 42        43        44        45       \n",
       "1 1491.3750  442.9630 571.35000 ... 4.0585366 1.1025641 0.1555471 1.4545455\n",
       "2  285.5357  862.2222 727.35000 ... 0.4616300 0.6466667 0.9445438 0.6818182\n",
       "3  526.1667 1342.2222  27.87073 ... 5.1512195 0.8800000 0.6920930 0.9440559\n",
       "4 1178.7500  526.6667 284.70000 ... 0.2165052 0.2148148 1.3395349 0.1108647\n",
       "5  156.3125  537.7778  16.81034 ... 2.7317073 0.4133333 0.1837777 0.8181818\n",
       "6   28.7500  508.8889 487.50000 ... 0.4473528 1.1794872 0.1986598 0.3873967\n",
       "  46         47         48         49          50 seed\n",
       "1 0.06937669 0.31304348 0.05237316 0.006666667 NA 1   \n",
       "2 0.41025641 0.09225875 0.34042553 0.004065041 NA 2   \n",
       "3 0.35555556 0.21391304 0.05189414 0.028846154 NA 3   \n",
       "4 0.05245902 0.36521739 0.06546645 0.001016260 NA 4   \n",
       "5 0.11377778 0.36521739 0.08510638 0.004065041 NA 5   \n",
       "6 1.17333333 0.44347826 0.04425532 0.028846154 NA 6   "
      ]
     },
     "metadata": {},
     "output_type": "display_data"
    }
   ],
   "source": [
    "cal <- read.csv(\"calisnki_kmodes_or_facilitators.csv\")\n",
    "cal[, ncol(cal)+1] <-  seq.int(nrow(cal))\n",
    "colnames(cal) <- append(2:nrow(distinct(df_during_facilitators)), \"seed\")\n",
    "head(cal)"
   ]
  },
  {
   "cell_type": "markdown",
   "metadata": {},
   "source": [
    "####  Best K and best seed by highest sample mean"
   ]
  },
  {
   "cell_type": "code",
   "execution_count": 6,
   "metadata": {
    "vscode": {
     "languageId": "r"
    }
   },
   "outputs": [
    {
     "name": "stdout",
     "output_type": "stream",
     "text": [
      "[1] \"Best K\"\n",
      "[1] 8\n",
      "[1] \"Best Seed\"\n",
      "[1] 679\n",
      "[1] \"Calisnki\"\n",
      "[1] 3180\n"
     ]
    }
   ],
   "source": [
    "print(\"Best K\")\n",
    "best_K_kmodes <- match(max(apply(cal, 2, mean)[1:(nk-2)]), apply(cal, 2, mean)) + 1\n",
    "print(best_K_kmodes)\n",
    "print(\"Best Seed\")\n",
    "best_seed_kmodes <- match(max(cal[, best_K_kmodes-1]), cal[, best_K_kmodes-1])\n",
    "print(best_seed_kmodes)\n",
    "print(\"Calisnki\")\n",
    "print(max(cal[, best_K_kmodes-1]))"
   ]
  },
  {
   "cell_type": "code",
   "execution_count": 11,
   "metadata": {
    "vscode": {
     "languageId": "r"
    }
   },
   "outputs": [
    {
     "data": {
      "image/png": "[encoded data removed]",
      "text/plain": [
       "plot without title"
      ]
     },
     "metadata": {
      "image/png": {
       "height": 300,
       "width": 600
      }
     },
     "output_type": "display_data"
    }
   ],
   "source": [
    "means_df <- data.frame(mean = apply(cal, 2, mean)[1:(nk-2)], k = names(apply(cal, 2, mean)[1:(nk-2)]))\n",
    "options(repr.plot.width = 10, repr.plot.height =5)\n",
    "ggplot(data=means_df, aes(x=factor(as.numeric(k)), y=mean, group=1)) +\n",
    "    geom_line(size=0.7) + geom_point(size=1.5) + \n",
    "    geom_vline(xintercept = best_K_kmodes-1, color = \"red\", size=0.8) + \n",
    "    ggtitle(\"Kmodes (Adjusted Calinski-Harabasz Index) - Facilitators dataset\") +\n",
    "    xlab('Number of clusters (K)') +\n",
    "    ylab('Mean of Adjusted Calinski-Harabasz Index')\n",
    "\n",
    "\n",
    "ggsave(path=\"graphs\", file=\"metric_evolution.jpeg\", width = 10, height = 5)"
   ]
  },
  {
   "cell_type": "markdown",
   "metadata": {},
   "source": [
    "## Exploring Kmodes best k"
   ]
  },
  {
   "cell_type": "code",
   "execution_count": 8,
   "metadata": {
    "vscode": {
     "languageId": "r"
    }
   },
   "outputs": [
    {
     "data": {
      "text/html": [
       "<table class=\"dataframe\">\n",
       "<caption>A data.frame: 6 × 7</caption>\n",
       "<thead>\n",
       "\t<tr><th></th><th scope=col>PA_easiness_outdoor_activities</th><th scope=col>PA_easiness_professional_guidance</th><th scope=col>PA_easiness_music</th><th scope=col>PA_easiness_others</th><th scope=col>PA_facilitator_home</th><th scope=col>PA_facilitator_group</th><th scope=col>cluster</th></tr>\n",
       "\t<tr><th></th><th scope=col>&lt;fct&gt;</th><th scope=col>&lt;fct&gt;</th><th scope=col>&lt;fct&gt;</th><th scope=col>&lt;fct&gt;</th><th scope=col>&lt;fct&gt;</th><th scope=col>&lt;fct&gt;</th><th scope=col>&lt;int&gt;</th></tr>\n",
       "</thead>\n",
       "<tbody>\n",
       "\t<tr><th scope=row>1</th><td>1</td><td>0</td><td>0</td><td>0</td><td>1</td><td>0</td><td>4</td></tr>\n",
       "\t<tr><th scope=row>2</th><td>0</td><td>0</td><td>0</td><td>0</td><td>0</td><td>0</td><td>4</td></tr>\n",
       "\t<tr><th scope=row>3</th><td>1</td><td>1</td><td>0</td><td>0</td><td>1</td><td>0</td><td>5</td></tr>\n",
       "\t<tr><th scope=row>4</th><td>0</td><td>0</td><td>0</td><td>0</td><td>1</td><td>1</td><td>2</td></tr>\n",
       "\t<tr><th scope=row>5</th><td>0</td><td>1</td><td>1</td><td>0</td><td>1</td><td>1</td><td>1</td></tr>\n",
       "\t<tr><th scope=row>6</th><td>1</td><td>0</td><td>1</td><td>0</td><td>1</td><td>0</td><td>4</td></tr>\n",
       "</tbody>\n",
       "</table>\n"
      ],
      "text/latex": [
       "A data.frame: 6 × 7\n",
       "\\begin{tabular}{r|lllllll}\n",
       "  & PA\\_easiness\\_outdoor\\_activities & PA\\_easiness\\_professional\\_guidance & PA\\_easiness\\_music & PA\\_easiness\\_others & PA\\_facilitator\\_home & PA\\_facilitator\\_group & cluster\\\\\n",
       "  & <fct> & <fct> & <fct> & <fct> & <fct> & <fct> & <int>\\\\\n",
       "\\hline\n",
       "\t1 & 1 & 0 & 0 & 0 & 1 & 0 & 4\\\\\n",
       "\t2 & 0 & 0 & 0 & 0 & 0 & 0 & 4\\\\\n",
       "\t3 & 1 & 1 & 0 & 0 & 1 & 0 & 5\\\\\n",
       "\t4 & 0 & 0 & 0 & 0 & 1 & 1 & 2\\\\\n",
       "\t5 & 0 & 1 & 1 & 0 & 1 & 1 & 1\\\\\n",
       "\t6 & 1 & 0 & 1 & 0 & 1 & 0 & 4\\\\\n",
       "\\end{tabular}\n"
      ],
      "text/markdown": [
       "\n",
       "A data.frame: 6 × 7\n",
       "\n",
       "| <!--/--> | PA_easiness_outdoor_activities &lt;fct&gt; | PA_easiness_professional_guidance &lt;fct&gt; | PA_easiness_music &lt;fct&gt; | PA_easiness_others &lt;fct&gt; | PA_facilitator_home &lt;fct&gt; | PA_facilitator_group &lt;fct&gt; | cluster &lt;int&gt; |\n",
       "|---|---|---|---|---|---|---|---|\n",
       "| 1 | 1 | 0 | 0 | 0 | 1 | 0 | 4 |\n",
       "| 2 | 0 | 0 | 0 | 0 | 0 | 0 | 4 |\n",
       "| 3 | 1 | 1 | 0 | 0 | 1 | 0 | 5 |\n",
       "| 4 | 0 | 0 | 0 | 0 | 1 | 1 | 2 |\n",
       "| 5 | 0 | 1 | 1 | 0 | 1 | 1 | 1 |\n",
       "| 6 | 1 | 0 | 1 | 0 | 1 | 0 | 4 |\n",
       "\n"
      ],
      "text/plain": [
       "  PA_easiness_outdoor_activities PA_easiness_professional_guidance\n",
       "1 1                              0                                \n",
       "2 0                              0                                \n",
       "3 1                              1                                \n",
       "4 0                              0                                \n",
       "5 0                              1                                \n",
       "6 1                              0                                \n",
       "  PA_easiness_music PA_easiness_others PA_facilitator_home PA_facilitator_group\n",
       "1 0                 0                  1                   0                   \n",
       "2 0                 0                  0                   0                   \n",
       "3 0                 0                  1                   0                   \n",
       "4 0                 0                  1                   1                   \n",
       "5 1                 0                  1                   1                   \n",
       "6 1                 0                  1                   0                   \n",
       "  cluster\n",
       "1 4      \n",
       "2 4      \n",
       "3 5      \n",
       "4 2      \n",
       "5 1      \n",
       "6 4      "
      ]
     },
     "metadata": {},
     "output_type": "display_data"
    }
   ],
   "source": [
    "chosen_kmode <- kmodes_seed(df_during_facilitators_dist, best_K_kmodes, max_iter=200, seed=best_seed_kmodes)\n",
    "df_during_facilitators_dist$cluster <- chosen_kmode$cluster\n",
    "head(df_during_facilitators_dist)"
   ]
  },
  {
   "cell_type": "code",
   "execution_count": 9,
   "metadata": {
    "vscode": {
     "languageId": "r"
    }
   },
   "outputs": [
    {
     "data": {
      "text/html": [
       "1214"
      ],
      "text/latex": [
       "1214"
      ],
      "text/markdown": [
       "1214"
      ],
      "text/plain": [
       "[1] 1214"
      ]
     },
     "metadata": {},
     "output_type": "display_data"
    }
   ],
   "source": [
    "joint <- c(\n",
    "    'PA_easiness_outdoor_activities'='PA_easiness_outdoor_activities',\n",
    "    'PA_easiness_professional_guidance' = 'PA_easiness_professional_guidance',\n",
    "    'PA_easiness_music' = 'PA_easiness_music',\n",
    "    'PA_easiness_others' = 'PA_easiness_others',\n",
    "    'PA_facilitator_home' = 'PA_facilitator_home',\n",
    "    'PA_facilitator_group' = 'PA_facilitator_group'\n",
    ")\n",
    "\n",
    "df_during_facilitators <- left_join(df_during_facilitators, df_during_facilitators_dist, by = joint)\n",
    "df_during$cluster <- df_during_facilitators$cluster\n",
    "df_during_barriers$cluster <- df_during_facilitators$cluster\n",
    "\n",
    "nrow(df_during_facilitators)"
   ]
  },
  {
   "cell_type": "code",
   "execution_count": 10,
   "metadata": {
    "vscode": {
     "languageId": "r"
    }
   },
   "outputs": [
    {
     "data": {
      "text/plain": [
       "\n",
       "  1   2   3   4   5   6   7   8 \n",
       "161 342  57 265 153 170  61   5 "
      ]
     },
     "metadata": {},
     "output_type": "display_data"
    }
   ],
   "source": [
    "table(df_during$cluster)"
   ]
  },
  {
   "cell_type": "markdown",
   "metadata": {},
   "source": [
    "### Profile Plots\n",
    "<hr />"
   ]
  },
  {
   "cell_type": "code",
   "execution_count": null,
   "metadata": {
    "vscode": {
     "languageId": "r"
    }
   },
   "outputs": [],
   "source": [
    "colors <- c('deepskyblue4', 'darkgreen', 'chocolate1', 'blueviolet', 'firebrick4', 'deeppink3', 'darkslategray', \"grey\")\n",
    "create_cluster_histograms(\n",
    "    colors = colors, \n",
    "    df = df_during, \n",
    "    names = names(df_during[, 20:ncol(df_during)-1]),\n",
    "    best_k = best_K_kmodes\n",
    ")\n",
    "create_cluster_histograms(\n",
    "    colors = colors, \n",
    "    df = df_during_barriers, \n",
    "    names = names(df_during_barriers[, 1:ncol(df_during_barriers)-1]),\n",
    "    best_k = best_K_kmodes\n",
    ")"
   ]
  },
  {
   "cell_type": "markdown",
   "metadata": {},
   "source": [
    "#### Mode"
   ]
  },
  {
   "cell_type": "code",
   "execution_count": 12,
   "metadata": {
    "vscode": {
     "languageId": "r"
    }
   },
   "outputs": [
    {
     "data": {
      "text/html": [
       "<table class=\"dataframe\">\n",
       "<caption>A data.frame: 8 × 6</caption>\n",
       "<thead>\n",
       "\t<tr><th></th><th scope=col>PA_easiness_outdoor_activities</th><th scope=col>PA_easiness_professional_guidance</th><th scope=col>PA_easiness_music</th><th scope=col>PA_easiness_others</th><th scope=col>PA_facilitator_home</th><th scope=col>PA_facilitator_group</th></tr>\n",
       "\t<tr><th></th><th scope=col>&lt;fct&gt;</th><th scope=col>&lt;fct&gt;</th><th scope=col>&lt;fct&gt;</th><th scope=col>&lt;fct&gt;</th><th scope=col>&lt;fct&gt;</th><th scope=col>&lt;fct&gt;</th></tr>\n",
       "</thead>\n",
       "<tbody>\n",
       "\t<tr><th scope=row>1</th><td>1</td><td>1</td><td>1</td><td>0</td><td>0</td><td>1</td></tr>\n",
       "\t<tr><th scope=row>2</th><td>0</td><td>0</td><td>0</td><td>1</td><td>1</td><td>1</td></tr>\n",
       "\t<tr><th scope=row>3</th><td>1</td><td>0</td><td>0</td><td>1</td><td>0</td><td>0</td></tr>\n",
       "\t<tr><th scope=row>4</th><td>1</td><td>0</td><td>0</td><td>0</td><td>0</td><td>0</td></tr>\n",
       "\t<tr><th scope=row>5</th><td>1</td><td>1</td><td>0</td><td>0</td><td>1</td><td>0</td></tr>\n",
       "\t<tr><th scope=row>6</th><td>0</td><td>1</td><td>1</td><td>1</td><td>1</td><td>0</td></tr>\n",
       "\t<tr><th scope=row>7</th><td>1</td><td>1</td><td>0</td><td>0</td><td>1</td><td>1</td></tr>\n",
       "\t<tr><th scope=row>8</th><td>1</td><td>0</td><td>1</td><td>1</td><td>0</td><td>0</td></tr>\n",
       "</tbody>\n",
       "</table>\n"
      ],
      "text/latex": [
       "A data.frame: 8 × 6\n",
       "\\begin{tabular}{r|llllll}\n",
       "  & PA\\_easiness\\_outdoor\\_activities & PA\\_easiness\\_professional\\_guidance & PA\\_easiness\\_music & PA\\_easiness\\_others & PA\\_facilitator\\_home & PA\\_facilitator\\_group\\\\\n",
       "  & <fct> & <fct> & <fct> & <fct> & <fct> & <fct>\\\\\n",
       "\\hline\n",
       "\t1 & 1 & 1 & 1 & 0 & 0 & 1\\\\\n",
       "\t2 & 0 & 0 & 0 & 1 & 1 & 1\\\\\n",
       "\t3 & 1 & 0 & 0 & 1 & 0 & 0\\\\\n",
       "\t4 & 1 & 0 & 0 & 0 & 0 & 0\\\\\n",
       "\t5 & 1 & 1 & 0 & 0 & 1 & 0\\\\\n",
       "\t6 & 0 & 1 & 1 & 1 & 1 & 0\\\\\n",
       "\t7 & 1 & 1 & 0 & 0 & 1 & 1\\\\\n",
       "\t8 & 1 & 0 & 1 & 1 & 0 & 0\\\\\n",
       "\\end{tabular}\n"
      ],
      "text/markdown": [
       "\n",
       "A data.frame: 8 × 6\n",
       "\n",
       "| <!--/--> | PA_easiness_outdoor_activities &lt;fct&gt; | PA_easiness_professional_guidance &lt;fct&gt; | PA_easiness_music &lt;fct&gt; | PA_easiness_others &lt;fct&gt; | PA_facilitator_home &lt;fct&gt; | PA_facilitator_group &lt;fct&gt; |\n",
       "|---|---|---|---|---|---|---|\n",
       "| 1 | 1 | 1 | 1 | 0 | 0 | 1 |\n",
       "| 2 | 0 | 0 | 0 | 1 | 1 | 1 |\n",
       "| 3 | 1 | 0 | 0 | 1 | 0 | 0 |\n",
       "| 4 | 1 | 0 | 0 | 0 | 0 | 0 |\n",
       "| 5 | 1 | 1 | 0 | 0 | 1 | 0 |\n",
       "| 6 | 0 | 1 | 1 | 1 | 1 | 0 |\n",
       "| 7 | 1 | 1 | 0 | 0 | 1 | 1 |\n",
       "| 8 | 1 | 0 | 1 | 1 | 0 | 0 |\n",
       "\n"
      ],
      "text/plain": [
       "  PA_easiness_outdoor_activities PA_easiness_professional_guidance\n",
       "1 1                              1                                \n",
       "2 0                              0                                \n",
       "3 1                              0                                \n",
       "4 1                              0                                \n",
       "5 1                              1                                \n",
       "6 0                              1                                \n",
       "7 1                              1                                \n",
       "8 1                              0                                \n",
       "  PA_easiness_music PA_easiness_others PA_facilitator_home PA_facilitator_group\n",
       "1 1                 0                  0                   1                   \n",
       "2 0                 1                  1                   1                   \n",
       "3 0                 1                  0                   0                   \n",
       "4 0                 0                  0                   0                   \n",
       "5 0                 0                  1                   0                   \n",
       "6 1                 1                  1                   0                   \n",
       "7 0                 0                  1                   1                   \n",
       "8 1                 1                  0                   0                   "
      ]
     },
     "metadata": {},
     "output_type": "display_data"
    }
   ],
   "source": [
    "chosen_kmode$mode"
   ]
  }
 ],
 "metadata": {
  "kernelspec": {
   "display_name": "R",
   "language": "R",
   "name": "ir"
  },
  "language_info": {
   "codemirror_mode": "r",
   "file_extension": ".r",
   "mimetype": "text/x-r-source",
   "name": "R",
   "pygments_lexer": "r",
   "version": "4.1.0"
  },
  "orig_nbformat": 4
 },
 "nbformat": 4,
 "nbformat_minor": 2
}
