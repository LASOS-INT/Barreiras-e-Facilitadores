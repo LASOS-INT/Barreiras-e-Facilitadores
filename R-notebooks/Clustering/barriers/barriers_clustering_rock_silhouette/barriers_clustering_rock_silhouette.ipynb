{
 "cells": [
  {
   "cell_type": "markdown",
   "metadata": {},
   "source": [
    "## Importing packages"
   ]
  },
  {
   "cell_type": "code",
   "execution_count": 1,
   "metadata": {
    "vscode": {
     "languageId": "r"
    }
   },
   "outputs": [
    {
     "name": "stderr",
     "output_type": "stream",
     "text": [
      "Warning message:\n",
      "\"package 'here' was built under R version 4.1.1\"\n",
      "here() starts at C:/Users/maria/Desktop/Programacao/IC/projetos/Barreiras-e-Facilitadores\n",
      "\n",
      "Warning message:\n",
      "\"package 'ggplot2' was built under R version 4.1.1\"\n",
      "Warning message:\n",
      "\"package 'cluster' was built under R version 4.1.3\"\n",
      "Warning message:\n",
      "\"package 'cowplot' was built under R version 4.1.1\"\n",
      "Warning message:\n",
      "\"package 'randomForest' was built under R version 4.1.1\"\n",
      "randomForest 4.6-14\n",
      "\n",
      "Type rfNews() to see new features/changes/bug fixes.\n",
      "\n",
      "\n",
      "Attaching package: 'randomForest'\n",
      "\n",
      "\n",
      "The following object is masked from 'package:ggplot2':\n",
      "\n",
      "    margin\n",
      "\n",
      "\n",
      "Warning message:\n",
      "\"package 'caret' was built under R version 4.1.1\"\n",
      "Carregando pacotes exigidos: lattice\n",
      "\n",
      "Warning message:\n",
      "\"package 'lattice' was built under R version 4.1.1\"\n",
      "Warning message:\n",
      "\"package 'rpart.plot' was built under R version 4.1.1\"\n",
      "Carregando pacotes exigidos: rpart\n",
      "\n",
      "Warning message:\n",
      "\"package 'readxl' was built under R version 4.1.2\"\n",
      "Warning message:\n",
      "\"package 'e1071' was built under R version 4.1.1\"\n",
      "Warning message:\n",
      "\"package 'AugmenterR' was built under R version 4.1.1\"\n",
      "Warning message:\n",
      "\"package 'smotefamily' was built under R version 4.1.1\"\n",
      "Warning message:\n",
      "\"package 'ROSE' was built under R version 4.1.1\"\n",
      "Loaded ROSE 0.0-4\n",
      "\n",
      "\n",
      "Warning message:\n",
      "\"package 'xgboost' was built under R version 4.1.1\"\n",
      "Type 'citation(\"pROC\")' for a citation.\n",
      "\n",
      "\n",
      "Attaching package: 'pROC'\n",
      "\n",
      "\n",
      "The following objects are masked from 'package:stats':\n",
      "\n",
      "    cov, smooth, var\n",
      "\n",
      "\n",
      "Warning message:\n",
      "\"package 'klaR' was built under R version 4.1.2\"\n",
      "Carregando pacotes exigidos: MASS\n",
      "\n",
      "Warning message:\n",
      "\"package 'MASS' was built under R version 4.1.1\"\n",
      "\n",
      "Attaching package: 'MASS'\n",
      "\n",
      "\n",
      "The following object is masked _by_ '.GlobalEnv':\n",
      "\n",
      "    fbeta\n",
      "\n",
      "\n",
      "Warning message:\n",
      "\"package 'patchwork' was built under R version 4.1.2\"\n",
      "\n",
      "Attaching package: 'patchwork'\n",
      "\n",
      "\n",
      "The following object is masked from 'package:MASS':\n",
      "\n",
      "    area\n",
      "\n",
      "\n",
      "The following object is masked from 'package:cowplot':\n",
      "\n",
      "    align_plots\n",
      "\n",
      "\n",
      "Warning message:\n",
      "\"package 'DescTools' was built under R version 4.1.1\"\n",
      "\n",
      "Attaching package: 'DescTools'\n",
      "\n",
      "\n",
      "The following objects are masked from 'package:caret':\n",
      "\n",
      "    MAE, RMSE\n",
      "\n",
      "\n",
      "Warning message:\n",
      "\"package 'devtools' was built under R version 4.1.2\"\n",
      "Carregando pacotes exigidos: usethis\n",
      "\n",
      "Warning message:\n",
      "\"package 'usethis' was built under R version 4.1.2\"\n",
      "Warning message:\n",
      "\"package 'dplyr' was built under R version 4.1.1\"\n",
      "\n",
      "Attaching package: 'dplyr'\n",
      "\n",
      "\n",
      "The following object is masked from 'package:MASS':\n",
      "\n",
      "    select\n",
      "\n",
      "\n",
      "The following object is masked from 'package:xgboost':\n",
      "\n",
      "    slice\n",
      "\n",
      "\n",
      "The following object is masked from 'package:randomForest':\n",
      "\n",
      "    combine\n",
      "\n",
      "\n",
      "The following objects are masked from 'package:stats':\n",
      "\n",
      "    filter, lag\n",
      "\n",
      "\n",
      "The following objects are masked from 'package:base':\n",
      "\n",
      "    intersect, setdiff, setequal, union\n",
      "\n",
      "\n",
      "\n",
      "Attaching package: 'kernlab'\n",
      "\n",
      "\n",
      "The following object is masked from 'package:ggplot2':\n",
      "\n",
      "    alpha\n",
      "\n",
      "\n",
      "Warning message:\n",
      "\"package 'fastAdaboost' was built under R version 4.1.1\"\n",
      "Warning message:\n",
      "\"package 'DataExplorer' was built under R version 4.1.1\"\n",
      "dummies-1.5.6 provided by Decision Patterns\n",
      "\n",
      "\n",
      "Warning message:\n",
      "\"package 'mlbench' was built under R version 4.1.1\"\n",
      "Warning message:\n",
      "\"package 'h2o' was built under R version 4.1.1\"\n",
      "\n",
      "----------------------------------------------------------------------\n",
      "\n",
      "Your next step is to start H2O:\n",
      "    > h2o.init()\n",
      "\n",
      "For H2O package documentation, ask for help:\n",
      "    > ??h2o\n",
      "\n",
      "After starting H2O, you can use the Web UI at http://localhost:54321\n",
      "For more information visit https://docs.h2o.ai\n",
      "\n",
      "----------------------------------------------------------------------\n",
      "\n",
      "\n",
      "\n",
      "Attaching package: 'h2o'\n",
      "\n",
      "\n",
      "The following object is masked from 'package:pROC':\n",
      "\n",
      "    var\n",
      "\n",
      "\n",
      "The following objects are masked from 'package:stats':\n",
      "\n",
      "    cor, sd, var\n",
      "\n",
      "\n",
      "The following objects are masked from 'package:base':\n",
      "\n",
      "    %*%, %in%, &&, ||, apply, as.factor, as.numeric, colnames,\n",
      "    colnames<-, ifelse, is.character, is.factor, is.numeric, log,\n",
      "    log10, log1p, log2, round, signif, trunc\n",
      "\n",
      "\n",
      "Warning message:\n",
      "\"package 'rattle' was built under R version 4.1.1\"\n",
      "Carregando pacotes exigidos: tibble\n",
      "\n",
      "Carregando pacotes exigidos: bitops\n",
      "\n",
      "\n",
      "Attaching package: 'bitops'\n",
      "\n",
      "\n",
      "The following object is masked from 'package:DescTools':\n",
      "\n",
      "    %^%\n",
      "\n",
      "\n",
      "Rattle: A free graphical interface for data science with R.\n",
      "Version 5.4.0 Copyright (c) 2006-2020 Togaware Pty Ltd.\n",
      "Type 'rattle()' to shake, rattle, and roll your data.\n",
      "\n",
      "\n",
      "Attaching package: 'rattle'\n",
      "\n",
      "\n",
      "The following object is masked from 'package:xgboost':\n",
      "\n",
      "    xgboost\n",
      "\n",
      "\n",
      "The following object is masked from 'package:randomForest':\n",
      "\n",
      "    importance\n",
      "\n",
      "\n",
      "Warning message:\n",
      "\"package 'pracma' was built under R version 4.1.3\"\n",
      "\n",
      "Attaching package: 'pracma'\n",
      "\n",
      "\n",
      "The following objects are masked from 'package:kernlab':\n",
      "\n",
      "    cross, eig, size\n",
      "\n",
      "\n",
      "The following objects are masked from 'package:DescTools':\n",
      "\n",
      "    Mode, Rank\n",
      "\n",
      "\n",
      "The following object is masked from 'package:lsr':\n",
      "\n",
      "    who\n",
      "\n",
      "\n",
      "The following object is masked from 'package:e1071':\n",
      "\n",
      "    sigmoid\n",
      "\n",
      "\n",
      "Warning message:\n",
      "\"package 'MLmetrics' was built under R version 4.1.1\"\n",
      "\n",
      "Attaching package: 'MLmetrics'\n",
      "\n",
      "\n",
      "The following objects are masked from 'package:DescTools':\n",
      "\n",
      "    AUC, Gini, MAE, MAPE, MSE, RMSE\n",
      "\n",
      "\n",
      "The following objects are masked from 'package:caret':\n",
      "\n",
      "    MAE, RMSE\n",
      "\n",
      "\n",
      "The following object is masked from 'package:base':\n",
      "\n",
      "    Recall\n",
      "\n",
      "\n",
      "Warning message:\n",
      "\"package 'ggfortify' was built under R version 4.1.1\"\n",
      "Warning message:\n",
      "\"package 'Rtsne' was built under R version 4.1.1\"\n",
      "Warning message:\n",
      "\"package 'obliqueRF' was built under R version 4.1.2\"\n",
      "Carregando pacotes exigidos: ROCR\n",
      "\n",
      "Warning message:\n",
      "\"package 'ROCR' was built under R version 4.1.1\"\n",
      "Carregando pacotes exigidos: pls\n",
      "\n",
      "Warning message:\n",
      "\"package 'pls' was built under R version 4.1.2\"\n",
      "\n",
      "Attaching package: 'pls'\n",
      "\n",
      "\n",
      "The following object is masked from 'package:caret':\n",
      "\n",
      "    R2\n",
      "\n",
      "\n",
      "The following object is masked from 'package:stats':\n",
      "\n",
      "    loadings\n",
      "\n",
      "\n",
      "Carregando pacotes exigidos: mda\n",
      "\n",
      "Warning message:\n",
      "\"package 'mda' was built under R version 4.1.2\"\n",
      "Carregando pacotes exigidos: class\n",
      "\n",
      "Loaded mda 0.5-2\n",
      "\n",
      "\n",
      "\n",
      "Attaching package: 'mda'\n",
      "\n",
      "\n",
      "The following object is masked from 'package:pracma':\n",
      "\n",
      "    laplacian\n",
      "\n",
      "\n",
      "obliqueRF 0.3\n",
      "\n",
      "Type orfNews() to see new features/changes/bug fixes.\n",
      "\n",
      "\n",
      "Attaching package: 'obliqueRF'\n",
      "\n",
      "\n",
      "The following object is masked from 'package:rattle':\n",
      "\n",
      "    importance\n",
      "\n",
      "\n",
      "The following object is masked from 'package:randomForest':\n",
      "\n",
      "    importance\n",
      "\n",
      "\n",
      "Warning message:\n",
      "\"package 'gbm' was built under R version 4.1.2\"\n",
      "Loaded gbm 2.1.8\n",
      "\n",
      "Warning message:\n",
      "\"package 'MLeval' was built under R version 4.1.2\"\n",
      "Warning message:\n",
      "\"package 'fmsb' was built under R version 4.1.3\"\n",
      "Registered S3 methods overwritten by 'fmsb':\n",
      "  method    from\n",
      "  print.roc pROC\n",
      "  plot.roc  pROC\n",
      "\n",
      "\n",
      "Attaching package: 'fmsb'\n",
      "\n",
      "\n",
      "The following objects are masked from 'package:DescTools':\n",
      "\n",
      "    CronbachAlpha, VIF\n",
      "\n",
      "\n",
      "The following object is masked from 'package:pROC':\n",
      "\n",
      "    roc\n",
      "\n",
      "\n",
      "Warning message:\n",
      "\"package 'cba' was built under R version 4.1.3\"\n",
      "Carregando pacotes exigidos: proxy\n",
      "\n",
      "\n",
      "Attaching package: 'proxy'\n",
      "\n",
      "\n",
      "The following objects are masked from 'package:stats':\n",
      "\n",
      "    as.dist, dist\n",
      "\n",
      "\n",
      "The following object is masked from 'package:base':\n",
      "\n",
      "    as.matrix\n",
      "\n",
      "\n",
      "\n",
      "Attaching package: 'cba'\n",
      "\n",
      "\n",
      "The following object is masked from 'package:e1071':\n",
      "\n",
      "    gknn\n",
      "\n",
      "\n"
     ]
    },
    {
     "data": {
      "text/html": [
       "<ol>\n",
       "\t<li>TRUE</li>\n",
       "\t<li>TRUE</li>\n",
       "\t<li>TRUE</li>\n",
       "\t<li>TRUE</li>\n",
       "\t<li>TRUE</li>\n",
       "\t<li>TRUE</li>\n",
       "\t<li>TRUE</li>\n",
       "\t<li>TRUE</li>\n",
       "\t<li>TRUE</li>\n",
       "\t<li>TRUE</li>\n",
       "\t<li>TRUE</li>\n",
       "\t<li>TRUE</li>\n",
       "\t<li>TRUE</li>\n",
       "\t<li>TRUE</li>\n",
       "\t<li>TRUE</li>\n",
       "\t<li>TRUE</li>\n",
       "\t<li>TRUE</li>\n",
       "\t<li>TRUE</li>\n",
       "\t<li>TRUE</li>\n",
       "\t<li>TRUE</li>\n",
       "\t<li>TRUE</li>\n",
       "\t<li>TRUE</li>\n",
       "\t<li>TRUE</li>\n",
       "\t<li>TRUE</li>\n",
       "\t<li>TRUE</li>\n",
       "\t<li>TRUE</li>\n",
       "\t<li>TRUE</li>\n",
       "\t<li>TRUE</li>\n",
       "\t<li>TRUE</li>\n",
       "\t<li>TRUE</li>\n",
       "\t<li>TRUE</li>\n",
       "\t<li>TRUE</li>\n",
       "\t<li>TRUE</li>\n",
       "\t<li>TRUE</li>\n",
       "\t<li>TRUE</li>\n",
       "\t<li>TRUE</li>\n",
       "\t<li>TRUE</li>\n",
       "\t<li>TRUE</li>\n",
       "\t<li>TRUE</li>\n",
       "\t<li>TRUE</li>\n",
       "\t<li>TRUE</li>\n",
       "</ol>\n"
      ],
      "text/latex": [
       "\\begin{enumerate}\n",
       "\\item TRUE\n",
       "\\item TRUE\n",
       "\\item TRUE\n",
       "\\item TRUE\n",
       "\\item TRUE\n",
       "\\item TRUE\n",
       "\\item TRUE\n",
       "\\item TRUE\n",
       "\\item TRUE\n",
       "\\item TRUE\n",
       "\\item TRUE\n",
       "\\item TRUE\n",
       "\\item TRUE\n",
       "\\item TRUE\n",
       "\\item TRUE\n",
       "\\item TRUE\n",
       "\\item TRUE\n",
       "\\item TRUE\n",
       "\\item TRUE\n",
       "\\item TRUE\n",
       "\\item TRUE\n",
       "\\item TRUE\n",
       "\\item TRUE\n",
       "\\item TRUE\n",
       "\\item TRUE\n",
       "\\item TRUE\n",
       "\\item TRUE\n",
       "\\item TRUE\n",
       "\\item TRUE\n",
       "\\item TRUE\n",
       "\\item TRUE\n",
       "\\item TRUE\n",
       "\\item TRUE\n",
       "\\item TRUE\n",
       "\\item TRUE\n",
       "\\item TRUE\n",
       "\\item TRUE\n",
       "\\item TRUE\n",
       "\\item TRUE\n",
       "\\item TRUE\n",
       "\\item TRUE\n",
       "\\end{enumerate}\n"
      ],
      "text/markdown": [
       "1. TRUE\n",
       "2. TRUE\n",
       "3. TRUE\n",
       "4. TRUE\n",
       "5. TRUE\n",
       "6. TRUE\n",
       "7. TRUE\n",
       "8. TRUE\n",
       "9. TRUE\n",
       "10. TRUE\n",
       "11. TRUE\n",
       "12. TRUE\n",
       "13. TRUE\n",
       "14. TRUE\n",
       "15. TRUE\n",
       "16. TRUE\n",
       "17. TRUE\n",
       "18. TRUE\n",
       "19. TRUE\n",
       "20. TRUE\n",
       "21. TRUE\n",
       "22. TRUE\n",
       "23. TRUE\n",
       "24. TRUE\n",
       "25. TRUE\n",
       "26. TRUE\n",
       "27. TRUE\n",
       "28. TRUE\n",
       "29. TRUE\n",
       "30. TRUE\n",
       "31. TRUE\n",
       "32. TRUE\n",
       "33. TRUE\n",
       "34. TRUE\n",
       "35. TRUE\n",
       "36. TRUE\n",
       "37. TRUE\n",
       "38. TRUE\n",
       "39. TRUE\n",
       "40. TRUE\n",
       "41. TRUE\n",
       "\n",
       "\n"
      ],
      "text/plain": [
       "[[1]]\n",
       "[1] TRUE\n",
       "\n",
       "[[2]]\n",
       "[1] TRUE\n",
       "\n",
       "[[3]]\n",
       "[1] TRUE\n",
       "\n",
       "[[4]]\n",
       "[1] TRUE\n",
       "\n",
       "[[5]]\n",
       "[1] TRUE\n",
       "\n",
       "[[6]]\n",
       "[1] TRUE\n",
       "\n",
       "[[7]]\n",
       "[1] TRUE\n",
       "\n",
       "[[8]]\n",
       "[1] TRUE\n",
       "\n",
       "[[9]]\n",
       "[1] TRUE\n",
       "\n",
       "[[10]]\n",
       "[1] TRUE\n",
       "\n",
       "[[11]]\n",
       "[1] TRUE\n",
       "\n",
       "[[12]]\n",
       "[1] TRUE\n",
       "\n",
       "[[13]]\n",
       "[1] TRUE\n",
       "\n",
       "[[14]]\n",
       "[1] TRUE\n",
       "\n",
       "[[15]]\n",
       "[1] TRUE\n",
       "\n",
       "[[16]]\n",
       "[1] TRUE\n",
       "\n",
       "[[17]]\n",
       "[1] TRUE\n",
       "\n",
       "[[18]]\n",
       "[1] TRUE\n",
       "\n",
       "[[19]]\n",
       "[1] TRUE\n",
       "\n",
       "[[20]]\n",
       "[1] TRUE\n",
       "\n",
       "[[21]]\n",
       "[1] TRUE\n",
       "\n",
       "[[22]]\n",
       "[1] TRUE\n",
       "\n",
       "[[23]]\n",
       "[1] TRUE\n",
       "\n",
       "[[24]]\n",
       "[1] TRUE\n",
       "\n",
       "[[25]]\n",
       "[1] TRUE\n",
       "\n",
       "[[26]]\n",
       "[1] TRUE\n",
       "\n",
       "[[27]]\n",
       "[1] TRUE\n",
       "\n",
       "[[28]]\n",
       "[1] TRUE\n",
       "\n",
       "[[29]]\n",
       "[1] TRUE\n",
       "\n",
       "[[30]]\n",
       "[1] TRUE\n",
       "\n",
       "[[31]]\n",
       "[1] TRUE\n",
       "\n",
       "[[32]]\n",
       "[1] TRUE\n",
       "\n",
       "[[33]]\n",
       "[1] TRUE\n",
       "\n",
       "[[34]]\n",
       "[1] TRUE\n",
       "\n",
       "[[35]]\n",
       "[1] TRUE\n",
       "\n",
       "[[36]]\n",
       "[1] TRUE\n",
       "\n",
       "[[37]]\n",
       "[1] TRUE\n",
       "\n",
       "[[38]]\n",
       "[1] TRUE\n",
       "\n",
       "[[39]]\n",
       "[1] TRUE\n",
       "\n",
       "[[40]]\n",
       "[1] TRUE\n",
       "\n",
       "[[41]]\n",
       "[1] TRUE\n"
      ]
     },
     "metadata": {},
     "output_type": "display_data"
    }
   ],
   "source": [
    "library(here, help, pos = 2, lib.loc = NULL)\n",
    "source(here('Modules','modules.R'))\n",
    "source(here('Modules','preprocessing_clustering.R'))\n",
    "# install_all_packages()\n",
    "load_library_packages()"
   ]
  },
  {
   "cell_type": "markdown",
   "metadata": {},
   "source": [
    "## Clustering - Kmodes Silhoette"
   ]
  },
  {
   "cell_type": "code",
   "execution_count": 2,
   "metadata": {
    "vscode": {
     "languageId": "r"
    }
   },
   "outputs": [
    {
     "data": {
      "text/html": [
       "33"
      ],
      "text/latex": [
       "33"
      ],
      "text/markdown": [
       "33"
      ],
      "text/plain": [
       "[1] 33"
      ]
     },
     "metadata": {},
     "output_type": "display_data"
    }
   ],
   "source": [
    "df_during_barriers_dist <- distinct(df_during_barriers)\n",
    "nrow(df_during_barriers_dist)"
   ]
  },
  {
   "cell_type": "markdown",
   "metadata": {},
   "source": [
    "### Silhoette \n",
    "<hr />"
   ]
  },
  {
   "cell_type": "code",
   "execution_count": 3,
   "metadata": {
    "vscode": {
     "languageId": "r"
    }
   },
   "outputs": [
    {
     "data": {
      "text/html": [
       "<table class=\"dataframe\">\n",
       "<caption>A matrix: 6 × 33 of type dbl</caption>\n",
       "<tbody>\n",
       "\t<tr><td>0</td><td>1</td><td>2</td><td>1</td><td>1</td><td>2</td><td>2</td><td>2</td><td>2</td><td>3</td><td>...</td><td>2</td><td>3</td><td>4</td><td>4</td><td>1</td><td>4</td><td>3</td><td>3</td><td>3</td><td>5</td></tr>\n",
       "\t<tr><td>1</td><td>0</td><td>3</td><td>2</td><td>2</td><td>3</td><td>3</td><td>1</td><td>3</td><td>2</td><td>...</td><td>3</td><td>4</td><td>3</td><td>3</td><td>2</td><td>5</td><td>4</td><td>2</td><td>2</td><td>4</td></tr>\n",
       "\t<tr><td>2</td><td>3</td><td>0</td><td>3</td><td>3</td><td>2</td><td>2</td><td>4</td><td>4</td><td>3</td><td>...</td><td>2</td><td>3</td><td>2</td><td>4</td><td>1</td><td>2</td><td>3</td><td>5</td><td>3</td><td>3</td></tr>\n",
       "\t<tr><td>1</td><td>2</td><td>3</td><td>0</td><td>2</td><td>1</td><td>1</td><td>1</td><td>1</td><td>2</td><td>...</td><td>3</td><td>2</td><td>3</td><td>3</td><td>2</td><td>3</td><td>4</td><td>2</td><td>4</td><td>4</td></tr>\n",
       "\t<tr><td>1</td><td>2</td><td>3</td><td>2</td><td>0</td><td>3</td><td>3</td><td>3</td><td>1</td><td>4</td><td>...</td><td>3</td><td>4</td><td>5</td><td>5</td><td>2</td><td>3</td><td>2</td><td>2</td><td>4</td><td>4</td></tr>\n",
       "\t<tr><td>2</td><td>3</td><td>2</td><td>1</td><td>3</td><td>0</td><td>2</td><td>2</td><td>2</td><td>1</td><td>...</td><td>2</td><td>1</td><td>2</td><td>2</td><td>1</td><td>2</td><td>3</td><td>3</td><td>3</td><td>3</td></tr>\n",
       "</tbody>\n",
       "</table>\n"
      ],
      "text/latex": [
       "A matrix: 6 × 33 of type dbl\n",
       "\\begin{tabular}{lllllllllllllllllllll}\n",
       "\t 0 & 1 & 2 & 1 & 1 & 2 & 2 & 2 & 2 & 3 & ... & 2 & 3 & 4 & 4 & 1 & 4 & 3 & 3 & 3 & 5\\\\\n",
       "\t 1 & 0 & 3 & 2 & 2 & 3 & 3 & 1 & 3 & 2 & ... & 3 & 4 & 3 & 3 & 2 & 5 & 4 & 2 & 2 & 4\\\\\n",
       "\t 2 & 3 & 0 & 3 & 3 & 2 & 2 & 4 & 4 & 3 & ... & 2 & 3 & 2 & 4 & 1 & 2 & 3 & 5 & 3 & 3\\\\\n",
       "\t 1 & 2 & 3 & 0 & 2 & 1 & 1 & 1 & 1 & 2 & ... & 3 & 2 & 3 & 3 & 2 & 3 & 4 & 2 & 4 & 4\\\\\n",
       "\t 1 & 2 & 3 & 2 & 0 & 3 & 3 & 3 & 1 & 4 & ... & 3 & 4 & 5 & 5 & 2 & 3 & 2 & 2 & 4 & 4\\\\\n",
       "\t 2 & 3 & 2 & 1 & 3 & 0 & 2 & 2 & 2 & 1 & ... & 2 & 1 & 2 & 2 & 1 & 2 & 3 & 3 & 3 & 3\\\\\n",
       "\\end{tabular}\n"
      ],
      "text/markdown": [
       "\n",
       "A matrix: 6 × 33 of type dbl\n",
       "\n",
       "| 0 | 1 | 2 | 1 | 1 | 2 | 2 | 2 | 2 | 3 | ... | 2 | 3 | 4 | 4 | 1 | 4 | 3 | 3 | 3 | 5 |\n",
       "| 1 | 0 | 3 | 2 | 2 | 3 | 3 | 1 | 3 | 2 | ... | 3 | 4 | 3 | 3 | 2 | 5 | 4 | 2 | 2 | 4 |\n",
       "| 2 | 3 | 0 | 3 | 3 | 2 | 2 | 4 | 4 | 3 | ... | 2 | 3 | 2 | 4 | 1 | 2 | 3 | 5 | 3 | 3 |\n",
       "| 1 | 2 | 3 | 0 | 2 | 1 | 1 | 1 | 1 | 2 | ... | 3 | 2 | 3 | 3 | 2 | 3 | 4 | 2 | 4 | 4 |\n",
       "| 1 | 2 | 3 | 2 | 0 | 3 | 3 | 3 | 1 | 4 | ... | 3 | 4 | 5 | 5 | 2 | 3 | 2 | 2 | 4 | 4 |\n",
       "| 2 | 3 | 2 | 1 | 3 | 0 | 2 | 2 | 2 | 1 | ... | 2 | 1 | 2 | 2 | 1 | 2 | 3 | 3 | 3 | 3 |\n",
       "\n"
      ],
      "text/plain": [
       "     [,1] [,2] [,3] [,4] [,5] [,6] [,7] [,8] [,9] [,10] [,11] [,12] [,13] [,14]\n",
       "[1,] 0    1    2    1    1    2    2    2    2    3     ...   2     3     4    \n",
       "[2,] 1    0    3    2    2    3    3    1    3    2     ...   3     4     3    \n",
       "[3,] 2    3    0    3    3    2    2    4    4    3     ...   2     3     2    \n",
       "[4,] 1    2    3    0    2    1    1    1    1    2     ...   3     2     3    \n",
       "[5,] 1    2    3    2    0    3    3    3    1    4     ...   3     4     5    \n",
       "[6,] 2    3    2    1    3    0    2    2    2    1     ...   2     1     2    \n",
       "     [,15] [,16] [,17] [,18] [,19] [,20] [,21]\n",
       "[1,] 4     1     4     3     3     3     5    \n",
       "[2,] 3     2     5     4     2     2     4    \n",
       "[3,] 4     1     2     3     5     3     3    \n",
       "[4,] 3     2     3     4     2     4     4    \n",
       "[5,] 5     2     3     2     2     4     4    \n",
       "[6,] 2     1     2     3     3     3     3    "
      ]
     },
     "metadata": {},
     "output_type": "display_data"
    }
   ],
   "source": [
    "df_matrix <- data.matrix(df_during_barriers_dist) - 1\n",
    "similarity_matrix <- df_matrix %*% t(df_matrix) + ((!df_matrix) + 0) %*% ((!t(df_matrix)) + 0)\n",
    "dissimilarity_matrix <- ncol(df_during_barriers_dist) - similarity_matrix\n",
    "head(dissimilarity_matrix)"
   ]
  },
  {
   "cell_type": "markdown",
   "metadata": {},
   "source": [
    "#### Scanning parameters\n"
   ]
  },
  {
   "cell_type": "code",
   "execution_count": 4,
   "metadata": {
    "vscode": {
     "languageId": "r"
    }
   },
   "outputs": [],
   "source": [
    "source(here('Modules','modules.R'))\n",
    "dists <- c(\"cosine\", \"jaccard\", \"hamman\", \"simple matching\", \"faith\")\n",
    "thetas <- linspace(0, 0.99, 15)\n",
    "nt <- length(thetas)\n",
    "nd <- length(dists)\n",
    "nk <- nrow(distinct(df_during_barriers))\n",
    "# scs <- c()\n",
    "# for (t in thetas) {\n",
    "#     for (d in dists){\n",
    "#         for (k in 2:nk) {\n",
    "#             sc <- silhouette_values_rock(\n",
    "#                 num_clusters = k,\n",
    "#                 theta = t,\n",
    "#                 df = df_during_barriers_dist,\n",
    "#                 distmethod = d,\n",
    "#                 diss_matrix = dissimilarity_matrix)[[1]]\n",
    "#             scs <- append(scs, sc)\n",
    "#         }\n",
    "#     }\n",
    "# }\n"
   ]
  },
  {
   "cell_type": "code",
   "execution_count": 5,
   "metadata": {
    "vscode": {
     "languageId": "r"
    }
   },
   "outputs": [],
   "source": [
    "# ks_by_theta <- data.frame(\n",
    "#     theta=rep(thetas, each=((nk-1)*nd)), \n",
    "#     dist=rep(rep(dists, each=(nk-1)), nt), \n",
    "#     k=rep(2:nk, nd*nt), scs=scs\n",
    "# )\n",
    "\n",
    "# write.csv(\n",
    "#     ks_by_theta,\n",
    "#     \"silhouette_rock_barriers.csv\", row.names = FALSE\n",
    "# )"
   ]
  },
  {
   "cell_type": "markdown",
   "metadata": {},
   "source": [
    "####  Best Situations"
   ]
  },
  {
   "cell_type": "code",
   "execution_count": 6,
   "metadata": {
    "vscode": {
     "languageId": "r"
    }
   },
   "outputs": [
    {
     "data": {
      "text/html": [
       "<table class=\"dataframe\">\n",
       "<caption>A grouped_df: 5 × 4</caption>\n",
       "<thead>\n",
       "\t<tr><th scope=col>theta</th><th scope=col>dist</th><th scope=col>k</th><th scope=col>scs</th></tr>\n",
       "\t<tr><th scope=col>&lt;dbl&gt;</th><th scope=col>&lt;chr&gt;</th><th scope=col>&lt;int&gt;</th><th scope=col>&lt;dbl&gt;</th></tr>\n",
       "</thead>\n",
       "<tbody>\n",
       "\t<tr><td>0.07071429</td><td>cosine         </td><td>19</td><td>0.27143160</td></tr>\n",
       "\t<tr><td>0.21214286</td><td>faith          </td><td>19</td><td>0.24574315</td></tr>\n",
       "\t<tr><td>0.00000000</td><td>hamman         </td><td> 2</td><td>0.04117254</td></tr>\n",
       "\t<tr><td>0.07071429</td><td>jaccard        </td><td>19</td><td>0.27143160</td></tr>\n",
       "\t<tr><td>0.35357143</td><td>simple matching</td><td> 7</td><td>0.13550828</td></tr>\n",
       "</tbody>\n",
       "</table>\n"
      ],
      "text/latex": [
       "A grouped\\_df: 5 × 4\n",
       "\\begin{tabular}{llll}\n",
       " theta & dist & k & scs\\\\\n",
       " <dbl> & <chr> & <int> & <dbl>\\\\\n",
       "\\hline\n",
       "\t 0.07071429 & cosine          & 19 & 0.27143160\\\\\n",
       "\t 0.21214286 & faith           & 19 & 0.24574315\\\\\n",
       "\t 0.00000000 & hamman          &  2 & 0.04117254\\\\\n",
       "\t 0.07071429 & jaccard         & 19 & 0.27143160\\\\\n",
       "\t 0.35357143 & simple matching &  7 & 0.13550828\\\\\n",
       "\\end{tabular}\n"
      ],
      "text/markdown": [
       "\n",
       "A grouped_df: 5 × 4\n",
       "\n",
       "| theta &lt;dbl&gt; | dist &lt;chr&gt; | k &lt;int&gt; | scs &lt;dbl&gt; |\n",
       "|---|---|---|---|\n",
       "| 0.07071429 | cosine          | 19 | 0.27143160 |\n",
       "| 0.21214286 | faith           | 19 | 0.24574315 |\n",
       "| 0.00000000 | hamman          |  2 | 0.04117254 |\n",
       "| 0.07071429 | jaccard         | 19 | 0.27143160 |\n",
       "| 0.35357143 | simple matching |  7 | 0.13550828 |\n",
       "\n"
      ],
      "text/plain": [
       "  theta      dist            k  scs       \n",
       "1 0.07071429 cosine          19 0.27143160\n",
       "2 0.21214286 faith           19 0.24574315\n",
       "3 0.00000000 hamman           2 0.04117254\n",
       "4 0.07071429 jaccard         19 0.27143160\n",
       "5 0.35357143 simple matching  7 0.13550828"
      ]
     },
     "metadata": {},
     "output_type": "display_data"
    }
   ],
   "source": [
    "scs <- read.csv(\"silhouette_rock_barriers.csv\")\n",
    "scs %>% group_by(dist) %>% slice(which.max(scs))"
   ]
  },
  {
   "cell_type": "code",
   "execution_count": 7,
   "metadata": {
    "vscode": {
     "languageId": "r"
    }
   },
   "outputs": [
    {
     "data": {
      "text/html": [
       "<table class=\"dataframe\">\n",
       "<caption>A data.frame: 2 × 4</caption>\n",
       "<thead>\n",
       "\t<tr><th></th><th scope=col>theta</th><th scope=col>dist</th><th scope=col>k</th><th scope=col>scs</th></tr>\n",
       "\t<tr><th></th><th scope=col>&lt;dbl&gt;</th><th scope=col>&lt;chr&gt;</th><th scope=col>&lt;int&gt;</th><th scope=col>&lt;dbl&gt;</th></tr>\n",
       "</thead>\n",
       "<tbody>\n",
       "\t<tr><th scope=row>178</th><td>0.07071429</td><td>cosine </td><td>19</td><td>0.2714316</td></tr>\n",
       "\t<tr><th scope=row>210</th><td>0.07071429</td><td>jaccard</td><td>19</td><td>0.2714316</td></tr>\n",
       "</tbody>\n",
       "</table>\n"
      ],
      "text/latex": [
       "A data.frame: 2 × 4\n",
       "\\begin{tabular}{r|llll}\n",
       "  & theta & dist & k & scs\\\\\n",
       "  & <dbl> & <chr> & <int> & <dbl>\\\\\n",
       "\\hline\n",
       "\t178 & 0.07071429 & cosine  & 19 & 0.2714316\\\\\n",
       "\t210 & 0.07071429 & jaccard & 19 & 0.2714316\\\\\n",
       "\\end{tabular}\n"
      ],
      "text/markdown": [
       "\n",
       "A data.frame: 2 × 4\n",
       "\n",
       "| <!--/--> | theta &lt;dbl&gt; | dist &lt;chr&gt; | k &lt;int&gt; | scs &lt;dbl&gt; |\n",
       "|---|---|---|---|---|\n",
       "| 178 | 0.07071429 | cosine  | 19 | 0.2714316 |\n",
       "| 210 | 0.07071429 | jaccard | 19 | 0.2714316 |\n",
       "\n"
      ],
      "text/plain": [
       "    theta      dist    k  scs      \n",
       "178 0.07071429 cosine  19 0.2714316\n",
       "210 0.07071429 jaccard 19 0.2714316"
      ]
     },
     "metadata": {},
     "output_type": "display_data"
    }
   ],
   "source": [
    "best_situtation <- scs[scs['scs'] == max(scs['scs']), ]\n",
    "best_situtation"
   ]
  },
  {
   "cell_type": "code",
   "execution_count": 8,
   "metadata": {
    "vscode": {
     "languageId": "r"
    }
   },
   "outputs": [],
   "source": [
    "best_theta_rock <- best_situtation[1, 'theta']\n",
    "best_dist_rock <- best_situtation[1, 'dist']\n",
    "best_K_rock <- best_situtation[1, 'k']"
   ]
  },
  {
   "cell_type": "markdown",
   "metadata": {},
   "source": [
    "#### Evaluating the silhuette coefficient for best seed"
   ]
  },
  {
   "cell_type": "code",
   "execution_count": 9,
   "metadata": {
    "vscode": {
     "languageId": "r"
    }
   },
   "outputs": [],
   "source": [
    "# silhoutte_result <-  silhouette_values(num_clusters=3, df=df_during, diss_matrix=dissimilarity_matrix, iters=200, s=68)\n",
    "# coef_data <- data.frame(coef=silhoutte_result[[2]], clust=silhoutte_result[[3]]$cluster)\n",
    "# coef_data <- coef_data[order(coef_data$coef, decreasing=TRUE), ]\n",
    "# coef_data <- coef_data[order(coef_data$clust, decreasing=TRUE), ]\n",
    "# coef_data$clust <- as.factor(coef_data$clust )\n",
    "# coef_data$ID <- seq.int(nrow(coef_data))\n",
    "\n",
    "# ggplot(data = coef_data, aes(y=coef, x=ID, fill=clust)) + \n",
    "#   geom_bar(stat = \"identity\") + \n",
    "#   geom_hline(yintercept=mean(coef_data$coef), linetype=\"dashed\", color = \"red\") + \n",
    "#   coord_flip() + \n",
    "#   scale_x_reverse() + \n",
    "#   theme(panel.grid.major = element_blank(), panel.grid.minor = element_blank())"
   ]
  },
  {
   "cell_type": "code",
   "execution_count": 10,
   "metadata": {
    "vscode": {
     "languageId": "r"
    }
   },
   "outputs": [],
   "source": [
    "# silhoutte_result <-  silhouette_values(num_clusters=4, df=df_during, diss_matrix=dissimilarity_matrix, iters=200, s=62)\n",
    "# coef_data <- data.frame(coef=silhoutte_result[[2]], clust=silhoutte_result[[3]]$cluster)\n",
    "# coef_data <- coef_data[order(coef_data$coef, decreasing=TRUE), ]\n",
    "# coef_data <- coef_data[order(coef_data$clust, decreasing=TRUE), ]\n",
    "# coef_data$clust <- as.factor(coef_data$clust )\n",
    "# coef_data$ID <- seq.int(nrow(coef_data))\n",
    "\n",
    "# ggplot(data = coef_data, aes(y=coef, x=ID, fill=clust)) + \n",
    "#   geom_bar(stat = \"identity\") + \n",
    "#   geom_hline(yintercept=mean(coef_data$coef), linetype=\"dashed\", color = \"red\") + \n",
    "#   coord_flip() + \n",
    "#   scale_x_reverse() "
   ]
  },
  {
   "cell_type": "code",
   "execution_count": 11,
   "metadata": {
    "vscode": {
     "languageId": "r"
    }
   },
   "outputs": [],
   "source": [
    "# silhoutte_result <-  silhouette_values(num_clusters=3, df=df_during, diss_matrix=dissimilarity_matrix, iters=200, s=13)\n",
    "# coef_data <- data.frame(coef=silhoutte_result[[2]], clust=silhoutte_result[[3]]$cluster)\n",
    "# coef_data <- coef_data[order(coef_data$coef, decreasing=TRUE), ]\n",
    "# coef_data <- coef_data[order(coef_data$clust, decreasing=TRUE), ]\n",
    "# coef_data$clust <- as.factor(coef_data$clust )\n",
    "# coef_data$ID <- seq.int(nrow(coef_data))\n",
    "\n",
    "# ggplot(data = coef_data, aes(y=coef, x=ID, fill=clust)) + \n",
    "#   geom_bar(stat = \"identity\") + \n",
    "#   geom_hline(yintercept=mean(coef_data$coef), linetype=\"dashed\", color = \"red\") + \n",
    "#   coord_flip() + \n",
    "#   scale_x_reverse() "
   ]
  },
  {
   "cell_type": "markdown",
   "metadata": {},
   "source": [
    "## Exploring Kmodes best k"
   ]
  },
  {
   "cell_type": "code",
   "execution_count": 12,
   "metadata": {
    "vscode": {
     "languageId": "r"
    }
   },
   "outputs": [
    {
     "name": "stdout",
     "output_type": "stream",
     "text": [
      "Clustering:\n",
      "computing distances ...\n",
      "computing links ...\n",
      "computing clusters ...\n"
     ]
    },
    {
     "data": {
      "text/plain": [
       " data: x \n",
       " beta: 0.9292857 \n",
       "theta: 0.07071429 \n",
       "  fun: dist \n",
       " args: list(\"cosine\") \n",
       " 1  2  3  4  5  6  7  8  9 10 11 12 13 14 15 16 17 18 19 \n",
       " 2  4  1  2  2  1  2  1  1  2  3  2  2  2  1  2  1  1  1 "
      ]
     },
     "metadata": {},
     "output_type": "display_data"
    }
   ],
   "source": [
    "rockCluster(df_matrix, n=best_K_rock, theta=best_theta_rock, fun = \"dist\", funArgs = list(method=best_dist_rock))"
   ]
  },
  {
   "cell_type": "code",
   "execution_count": 13,
   "metadata": {
    "vscode": {
     "languageId": "r"
    }
   },
   "outputs": [
    {
     "name": "stdout",
     "output_type": "stream",
     "text": [
      "Clustering:\n",
      "computing distances ...\n",
      "computing links ...\n",
      "computing clusters ...\n"
     ]
    },
    {
     "data": {
      "text/html": [
       "<table class=\"dataframe\">\n",
       "<caption>A data.frame: 6 × 7</caption>\n",
       "<thead>\n",
       "\t<tr><th></th><th scope=col>PA_barrier_places_closed_dangerous</th><th scope=col>PA_barrier_money</th><th scope=col>PA_barrier_no_interest</th><th scope=col>PA_barrier_percieve</th><th scope=col>PA_barrier_time</th><th scope=col>PA_barrier_hard</th><th scope=col>cluster</th></tr>\n",
       "\t<tr><th></th><th scope=col>&lt;fct&gt;</th><th scope=col>&lt;fct&gt;</th><th scope=col>&lt;fct&gt;</th><th scope=col>&lt;fct&gt;</th><th scope=col>&lt;dbl&gt;</th><th scope=col>&lt;dbl&gt;</th><th scope=col>&lt;fct&gt;</th></tr>\n",
       "</thead>\n",
       "<tbody>\n",
       "\t<tr><th scope=row>1</th><td>1</td><td>0</td><td>0</td><td>0</td><td>0</td><td>0</td><td>1</td></tr>\n",
       "\t<tr><th scope=row>2</th><td>1</td><td>0</td><td>1</td><td>0</td><td>0</td><td>0</td><td>2</td></tr>\n",
       "\t<tr><th scope=row>3</th><td>0</td><td>0</td><td>0</td><td>0</td><td>1</td><td>0</td><td>3</td></tr>\n",
       "\t<tr><th scope=row>4</th><td>1</td><td>0</td><td>0</td><td>0</td><td>0</td><td>1</td><td>4</td></tr>\n",
       "\t<tr><th scope=row>5</th><td>1</td><td>1</td><td>0</td><td>0</td><td>0</td><td>0</td><td>2</td></tr>\n",
       "\t<tr><th scope=row>6</th><td>0</td><td>0</td><td>0</td><td>0</td><td>0</td><td>1</td><td>5</td></tr>\n",
       "</tbody>\n",
       "</table>\n"
      ],
      "text/latex": [
       "A data.frame: 6 × 7\n",
       "\\begin{tabular}{r|lllllll}\n",
       "  & PA\\_barrier\\_places\\_closed\\_dangerous & PA\\_barrier\\_money & PA\\_barrier\\_no\\_interest & PA\\_barrier\\_percieve & PA\\_barrier\\_time & PA\\_barrier\\_hard & cluster\\\\\n",
       "  & <fct> & <fct> & <fct> & <fct> & <dbl> & <dbl> & <fct>\\\\\n",
       "\\hline\n",
       "\t1 & 1 & 0 & 0 & 0 & 0 & 0 & 1\\\\\n",
       "\t2 & 1 & 0 & 1 & 0 & 0 & 0 & 2\\\\\n",
       "\t3 & 0 & 0 & 0 & 0 & 1 & 0 & 3\\\\\n",
       "\t4 & 1 & 0 & 0 & 0 & 0 & 1 & 4\\\\\n",
       "\t5 & 1 & 1 & 0 & 0 & 0 & 0 & 2\\\\\n",
       "\t6 & 0 & 0 & 0 & 0 & 0 & 1 & 5\\\\\n",
       "\\end{tabular}\n"
      ],
      "text/markdown": [
       "\n",
       "A data.frame: 6 × 7\n",
       "\n",
       "| <!--/--> | PA_barrier_places_closed_dangerous &lt;fct&gt; | PA_barrier_money &lt;fct&gt; | PA_barrier_no_interest &lt;fct&gt; | PA_barrier_percieve &lt;fct&gt; | PA_barrier_time &lt;dbl&gt; | PA_barrier_hard &lt;dbl&gt; | cluster &lt;fct&gt; |\n",
       "|---|---|---|---|---|---|---|---|\n",
       "| 1 | 1 | 0 | 0 | 0 | 0 | 0 | 1 |\n",
       "| 2 | 1 | 0 | 1 | 0 | 0 | 0 | 2 |\n",
       "| 3 | 0 | 0 | 0 | 0 | 1 | 0 | 3 |\n",
       "| 4 | 1 | 0 | 0 | 0 | 0 | 1 | 4 |\n",
       "| 5 | 1 | 1 | 0 | 0 | 0 | 0 | 2 |\n",
       "| 6 | 0 | 0 | 0 | 0 | 0 | 1 | 5 |\n",
       "\n"
      ],
      "text/plain": [
       "  PA_barrier_places_closed_dangerous PA_barrier_money PA_barrier_no_interest\n",
       "1 1                                  0                0                     \n",
       "2 1                                  0                1                     \n",
       "3 0                                  0                0                     \n",
       "4 1                                  0                0                     \n",
       "5 1                                  1                0                     \n",
       "6 0                                  0                0                     \n",
       "  PA_barrier_percieve PA_barrier_time PA_barrier_hard cluster\n",
       "1 0                   0               0               1      \n",
       "2 0                   0               0               2      \n",
       "3 0                   1               0               3      \n",
       "4 0                   0               1               4      \n",
       "5 0                   0               0               2      \n",
       "6 0                   0               1               5      "
      ]
     },
     "metadata": {},
     "output_type": "display_data"
    }
   ],
   "source": [
    "df_during_barriers_dist$cluster <-rockCluster(df_matrix, n=best_K_rock, theta=best_theta_rock, fun = \"dist\", funArgs = list(method=best_dist_rock))$cl\n",
    "head(df_during_barriers_dist)"
   ]
  },
  {
   "cell_type": "code",
   "execution_count": 14,
   "metadata": {
    "vscode": {
     "languageId": "r"
    }
   },
   "outputs": [
    {
     "data": {
      "text/html": [
       "1215"
      ],
      "text/latex": [
       "1215"
      ],
      "text/markdown": [
       "1215"
      ],
      "text/plain": [
       "[1] 1215"
      ]
     },
     "metadata": {},
     "output_type": "display_data"
    }
   ],
   "source": [
    "joint <- c(\n",
    "    'PA_barrier_places_closed_dangerous'='PA_barrier_places_closed_dangerous',\n",
    "    'PA_barrier_money' = 'PA_barrier_money',\n",
    "    'PA_barrier_no_interest'='PA_barrier_no_interest',\n",
    "    'PA_barrier_percieve'='PA_barrier_percieve',\n",
    "    'PA_barrier_time' = 'PA_barrier_time',\n",
    "    'PA_barrier_hard' = 'PA_barrier_hard'\n",
    ")\n",
    "\n",
    "df_during_barriers <- left_join(df_during_barriers, df_during_barriers_dist, by = joint)\n",
    "df_during$cluster <- df_during_barriers$cluster\n",
    "df_during_barriers_facilitators$cluster <- df_during_barriers$cluster\n",
    "\n",
    "nrow(df_during_barriers)"
   ]
  },
  {
   "cell_type": "code",
   "execution_count": 15,
   "metadata": {
    "vscode": {
     "languageId": "r"
    }
   },
   "outputs": [
    {
     "data": {
      "text/plain": [
       "\n",
       "  1   2   3   4   5   6   7   8   9  10  11  12  13  14  15  16  17  18  19 \n",
       "313  60  94 117 147  39  13  22   7  58  19   5   9  27   6 273   3   2   1 "
      ]
     },
     "metadata": {},
     "output_type": "display_data"
    }
   ],
   "source": [
    "table(df_during$cluster)"
   ]
  },
  {
   "cell_type": "markdown",
   "metadata": {},
   "source": [
    "### Profile Plots\n",
    "<hr />"
   ]
  },
  {
   "cell_type": "code",
   "execution_count": 16,
   "metadata": {
    "vscode": {
     "languageId": "r"
    }
   },
   "outputs": [],
   "source": [
    "colors <- c(\"pink1\", \"violet\", \"mediumpurple1\", \"slateblue1\", \"purple\", \"purple3\",\n",
    "        \"turquoise2\", \"skyblue\", \"steelblue\", \"blue2\", \"navyblue\",\n",
    "        \"orange\", \"tomato\", \"coral2\", \"palevioletred\", \"violetred\", \"red2\",\n",
    "        \"springgreen2\", \"yellowgreen\", \"palegreen4\",\n",
    "        \"wheat2\", \"tan\", \"tan2\", \"tan3\", \"brown\",\n",
    "        \"grey70\", \"grey50\", \"grey30\")"
   ]
  },
  {
   "cell_type": "code",
   "execution_count": null,
   "metadata": {
    "vscode": {
     "languageId": "r"
    }
   },
   "outputs": [],
   "source": [
    "create_cluster_histograms(\n",
    "    colors = colors, \n",
    "    df = df_during, \n",
    "    names = names(df_during[, 20:ncol(df_during)-1]),\n",
    "    best_k = best_K_rock\n",
    ")\n",
    "create_cluster_histograms(\n",
    "    colors = colors, \n",
    "    df = df_during_facilitators, \n",
    "    names = names(df_during_facilitators[, 1:ncol(df_during_facilitators)-1]),\n",
    "    best_k = best_K_rock\n",
    ")"
   ]
  },
  {
   "cell_type": "markdown",
   "metadata": {},
   "source": [
    "#### Mode"
   ]
  },
  {
   "cell_type": "code",
   "execution_count": 26,
   "metadata": {
    "vscode": {
     "languageId": "r"
    }
   },
   "outputs": [
    {
     "data": {
      "text/html": [
       "<table class=\"dataframe\">\n",
       "<caption>A data.frame: 19 × 6</caption>\n",
       "<thead>\n",
       "\t<tr><th></th><th scope=col>PA_barrier_places_closed_dangerous</th><th scope=col>PA_barrier_money</th><th scope=col>PA_barrier_no_interest</th><th scope=col>PA_barrier_percieve</th><th scope=col>PA_barrier_time</th><th scope=col>PA_barrier_hard</th></tr>\n",
       "\t<tr><th></th><th scope=col>&lt;dbl&gt;</th><th scope=col>&lt;dbl&gt;</th><th scope=col>&lt;dbl&gt;</th><th scope=col>&lt;dbl&gt;</th><th scope=col>&lt;dbl&gt;</th><th scope=col>&lt;dbl&gt;</th></tr>\n",
       "</thead>\n",
       "<tbody>\n",
       "\t<tr><th scope=row>1</th><td>1</td><td>0</td><td>0</td><td>0</td><td>0</td><td>0</td></tr>\n",
       "\t<tr><th scope=row>2</th><td>1</td><td>0</td><td>1</td><td>0</td><td>0</td><td>0</td></tr>\n",
       "\t<tr><th scope=row>3</th><td>0</td><td>0</td><td>0</td><td>0</td><td>1</td><td>0</td></tr>\n",
       "\t<tr><th scope=row>4</th><td>1</td><td>0</td><td>0</td><td>0</td><td>0</td><td>1</td></tr>\n",
       "\t<tr><th scope=row>5</th><td>0</td><td>0</td><td>0</td><td>0</td><td>0</td><td>1</td></tr>\n",
       "\t<tr><th scope=row>6</th><td>1</td><td>0</td><td>0</td><td>0</td><td>1</td><td>1</td></tr>\n",
       "\t<tr><th scope=row>7</th><td>0</td><td>0</td><td>1</td><td>0</td><td>0</td><td>1</td></tr>\n",
       "\t<tr><th scope=row>8</th><td>0</td><td>0</td><td>0</td><td>0</td><td>1</td><td>1</td></tr>\n",
       "\t<tr><th scope=row>9</th><td>1</td><td>0</td><td>1</td><td>0</td><td>1</td><td>1</td></tr>\n",
       "\t<tr><th scope=row>10</th><td>1</td><td>0</td><td>0</td><td>0</td><td>1</td><td>0</td></tr>\n",
       "\t<tr><th scope=row>11</th><td>0</td><td>1</td><td>0</td><td>0</td><td>0</td><td>0</td></tr>\n",
       "\t<tr><th scope=row>12</th><td>1</td><td>0</td><td>1</td><td>0</td><td>1</td><td>0</td></tr>\n",
       "\t<tr><th scope=row>13</th><td>0</td><td>0</td><td>0</td><td>0</td><td>0</td><td>0</td></tr>\n",
       "\t<tr><th scope=row>14</th><td>0</td><td>0</td><td>1</td><td>0</td><td>0</td><td>0</td></tr>\n",
       "\t<tr><th scope=row>15</th><td>1</td><td>1</td><td>0</td><td>0</td><td>1</td><td>1</td></tr>\n",
       "\t<tr><th scope=row>16</th><td>0</td><td>0</td><td>0</td><td>0</td><td>0</td><td>0</td></tr>\n",
       "\t<tr><th scope=row>17</th><td>0</td><td>0</td><td>1</td><td>0</td><td>1</td><td>1</td></tr>\n",
       "\t<tr><th scope=row>18</th><td>0</td><td>1</td><td>0</td><td>0</td><td>1</td><td>1</td></tr>\n",
       "\t<tr><th scope=row>19</th><td>0</td><td>1</td><td>1</td><td>0</td><td>1</td><td>1</td></tr>\n",
       "</tbody>\n",
       "</table>\n"
      ],
      "text/latex": [
       "A data.frame: 19 × 6\n",
       "\\begin{tabular}{r|llllll}\n",
       "  & PA\\_barrier\\_places\\_closed\\_dangerous & PA\\_barrier\\_money & PA\\_barrier\\_no\\_interest & PA\\_barrier\\_percieve & PA\\_barrier\\_time & PA\\_barrier\\_hard\\\\\n",
       "  & <dbl> & <dbl> & <dbl> & <dbl> & <dbl> & <dbl>\\\\\n",
       "\\hline\n",
       "\t1 & 1 & 0 & 0 & 0 & 0 & 0\\\\\n",
       "\t2 & 1 & 0 & 1 & 0 & 0 & 0\\\\\n",
       "\t3 & 0 & 0 & 0 & 0 & 1 & 0\\\\\n",
       "\t4 & 1 & 0 & 0 & 0 & 0 & 1\\\\\n",
       "\t5 & 0 & 0 & 0 & 0 & 0 & 1\\\\\n",
       "\t6 & 1 & 0 & 0 & 0 & 1 & 1\\\\\n",
       "\t7 & 0 & 0 & 1 & 0 & 0 & 1\\\\\n",
       "\t8 & 0 & 0 & 0 & 0 & 1 & 1\\\\\n",
       "\t9 & 1 & 0 & 1 & 0 & 1 & 1\\\\\n",
       "\t10 & 1 & 0 & 0 & 0 & 1 & 0\\\\\n",
       "\t11 & 0 & 1 & 0 & 0 & 0 & 0\\\\\n",
       "\t12 & 1 & 0 & 1 & 0 & 1 & 0\\\\\n",
       "\t13 & 0 & 0 & 0 & 0 & 0 & 0\\\\\n",
       "\t14 & 0 & 0 & 1 & 0 & 0 & 0\\\\\n",
       "\t15 & 1 & 1 & 0 & 0 & 1 & 1\\\\\n",
       "\t16 & 0 & 0 & 0 & 0 & 0 & 0\\\\\n",
       "\t17 & 0 & 0 & 1 & 0 & 1 & 1\\\\\n",
       "\t18 & 0 & 1 & 0 & 0 & 1 & 1\\\\\n",
       "\t19 & 0 & 1 & 1 & 0 & 1 & 1\\\\\n",
       "\\end{tabular}\n"
      ],
      "text/markdown": [
       "\n",
       "A data.frame: 19 × 6\n",
       "\n",
       "| <!--/--> | PA_barrier_places_closed_dangerous &lt;dbl&gt; | PA_barrier_money &lt;dbl&gt; | PA_barrier_no_interest &lt;dbl&gt; | PA_barrier_percieve &lt;dbl&gt; | PA_barrier_time &lt;dbl&gt; | PA_barrier_hard &lt;dbl&gt; |\n",
       "|---|---|---|---|---|---|---|\n",
       "| 1 | 1 | 0 | 0 | 0 | 0 | 0 |\n",
       "| 2 | 1 | 0 | 1 | 0 | 0 | 0 |\n",
       "| 3 | 0 | 0 | 0 | 0 | 1 | 0 |\n",
       "| 4 | 1 | 0 | 0 | 0 | 0 | 1 |\n",
       "| 5 | 0 | 0 | 0 | 0 | 0 | 1 |\n",
       "| 6 | 1 | 0 | 0 | 0 | 1 | 1 |\n",
       "| 7 | 0 | 0 | 1 | 0 | 0 | 1 |\n",
       "| 8 | 0 | 0 | 0 | 0 | 1 | 1 |\n",
       "| 9 | 1 | 0 | 1 | 0 | 1 | 1 |\n",
       "| 10 | 1 | 0 | 0 | 0 | 1 | 0 |\n",
       "| 11 | 0 | 1 | 0 | 0 | 0 | 0 |\n",
       "| 12 | 1 | 0 | 1 | 0 | 1 | 0 |\n",
       "| 13 | 0 | 0 | 0 | 0 | 0 | 0 |\n",
       "| 14 | 0 | 0 | 1 | 0 | 0 | 0 |\n",
       "| 15 | 1 | 1 | 0 | 0 | 1 | 1 |\n",
       "| 16 | 0 | 0 | 0 | 0 | 0 | 0 |\n",
       "| 17 | 0 | 0 | 1 | 0 | 1 | 1 |\n",
       "| 18 | 0 | 1 | 0 | 0 | 1 | 1 |\n",
       "| 19 | 0 | 1 | 1 | 0 | 1 | 1 |\n",
       "\n"
      ],
      "text/plain": [
       "   PA_barrier_places_closed_dangerous PA_barrier_money PA_barrier_no_interest\n",
       "1  1                                  0                0                     \n",
       "2  1                                  0                1                     \n",
       "3  0                                  0                0                     \n",
       "4  1                                  0                0                     \n",
       "5  0                                  0                0                     \n",
       "6  1                                  0                0                     \n",
       "7  0                                  0                1                     \n",
       "8  0                                  0                0                     \n",
       "9  1                                  0                1                     \n",
       "10 1                                  0                0                     \n",
       "11 0                                  1                0                     \n",
       "12 1                                  0                1                     \n",
       "13 0                                  0                0                     \n",
       "14 0                                  0                1                     \n",
       "15 1                                  1                0                     \n",
       "16 0                                  0                0                     \n",
       "17 0                                  0                1                     \n",
       "18 0                                  1                0                     \n",
       "19 0                                  1                1                     \n",
       "   PA_barrier_percieve PA_barrier_time PA_barrier_hard\n",
       "1  0                   0               0              \n",
       "2  0                   0               0              \n",
       "3  0                   1               0              \n",
       "4  0                   0               1              \n",
       "5  0                   0               1              \n",
       "6  0                   1               1              \n",
       "7  0                   0               1              \n",
       "8  0                   1               1              \n",
       "9  0                   1               1              \n",
       "10 0                   1               0              \n",
       "11 0                   0               0              \n",
       "12 0                   1               0              \n",
       "13 0                   0               0              \n",
       "14 0                   0               0              \n",
       "15 0                   1               1              \n",
       "16 0                   0               0              \n",
       "17 0                   1               1              \n",
       "18 0                   1               1              \n",
       "19 0                   1               1              "
      ]
     },
     "metadata": {},
     "output_type": "display_data"
    }
   ],
   "source": [
    "modes <- data.frame(matrix(ncol = ncol(df_during_barriers_dist)-1, nrow = 0))\n",
    "colnames(modes) <- colnames(df_during_barriers_dist)[1:ncol(df_during_barriers_dist)-1]\n",
    "for( cl in unique(df_during_barriers_dist$cluster)){\n",
    "    cl_mode <- unname(apply(df_during_barriers_dist[df_during_barriers_dist$cluster == cl, ], 2, modefunc))\n",
    "    modes[nrow(modes) + 1,] <- cl_mode[1:length(cl_mode)-1]\n",
    "}\n",
    "\n",
    "modes"
   ]
  }
 ],
 "metadata": {
  "kernelspec": {
   "display_name": "R",
   "language": "R",
   "name": "ir"
  },
  "language_info": {
   "codemirror_mode": "r",
   "file_extension": ".r",
   "mimetype": "text/x-r-source",
   "name": "R",
   "pygments_lexer": "r",
   "version": "4.1.0"
  },
  "orig_nbformat": 4
 },
 "nbformat": 4,
 "nbformat_minor": 2
}
