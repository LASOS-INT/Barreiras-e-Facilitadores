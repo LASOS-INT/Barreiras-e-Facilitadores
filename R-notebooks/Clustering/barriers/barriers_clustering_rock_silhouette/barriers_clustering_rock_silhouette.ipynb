{
 "cells": [
  {
   "cell_type": "markdown",
   "metadata": {},
   "source": [
    "## Importing packages"
   ]
  },
  {
   "cell_type": "code",
   "execution_count": null,
   "metadata": {
    "vscode": {
     "languageId": "r"
    }
   },
   "outputs": [],
   "source": [
    "library(here, help, pos = 2, lib.loc = NULL)\n",
    "source(here('Modules','modules.R'))\n",
    "source(here('Modules','preprocessing_clustering.R'))\n",
    "# install_all_packages()\n",
    "load_library_packages()"
   ]
  },
  {
   "cell_type": "markdown",
   "metadata": {},
   "source": [
    "## Clustering - Kmodes Silhoette"
   ]
  },
  {
   "cell_type": "code",
   "execution_count": 3,
   "metadata": {
    "vscode": {
     "languageId": "r"
    }
   },
   "outputs": [
    {
     "data": {
      "text/html": [
       "33"
      ],
      "text/latex": [
       "33"
      ],
      "text/markdown": [
       "33"
      ],
      "text/plain": [
       "[1] 33"
      ]
     },
     "metadata": {},
     "output_type": "display_data"
    }
   ],
   "source": [
    "df_during_barriers_dist <- distinct(df_during_barriers)\n",
    "nrow(df_during_barriers_dist)"
   ]
  },
  {
   "cell_type": "markdown",
   "metadata": {},
   "source": [
    "### Silhoette \n",
    "<hr />"
   ]
  },
  {
   "cell_type": "code",
   "execution_count": 4,
   "metadata": {
    "vscode": {
     "languageId": "r"
    }
   },
   "outputs": [
    {
     "data": {
      "text/html": [
       "<table class=\"dataframe\">\n",
       "<caption>A matrix: 6 × 33 of type dbl</caption>\n",
       "<tbody>\n",
       "\t<tr><td>0</td><td>1</td><td>2</td><td>1</td><td>1</td><td>2</td><td>2</td><td>2</td><td>2</td><td>3</td><td>...</td><td>2</td><td>3</td><td>4</td><td>4</td><td>1</td><td>4</td><td>3</td><td>3</td><td>3</td><td>5</td></tr>\n",
       "\t<tr><td>1</td><td>0</td><td>3</td><td>2</td><td>2</td><td>3</td><td>3</td><td>1</td><td>3</td><td>2</td><td>...</td><td>3</td><td>4</td><td>3</td><td>3</td><td>2</td><td>5</td><td>4</td><td>2</td><td>2</td><td>4</td></tr>\n",
       "\t<tr><td>2</td><td>3</td><td>0</td><td>3</td><td>3</td><td>2</td><td>2</td><td>4</td><td>4</td><td>3</td><td>...</td><td>2</td><td>3</td><td>2</td><td>4</td><td>1</td><td>2</td><td>3</td><td>5</td><td>3</td><td>3</td></tr>\n",
       "\t<tr><td>1</td><td>2</td><td>3</td><td>0</td><td>2</td><td>1</td><td>1</td><td>1</td><td>1</td><td>2</td><td>...</td><td>3</td><td>2</td><td>3</td><td>3</td><td>2</td><td>3</td><td>4</td><td>2</td><td>4</td><td>4</td></tr>\n",
       "\t<tr><td>1</td><td>2</td><td>3</td><td>2</td><td>0</td><td>3</td><td>3</td><td>3</td><td>1</td><td>4</td><td>...</td><td>3</td><td>4</td><td>5</td><td>5</td><td>2</td><td>3</td><td>2</td><td>2</td><td>4</td><td>4</td></tr>\n",
       "\t<tr><td>2</td><td>3</td><td>2</td><td>1</td><td>3</td><td>0</td><td>2</td><td>2</td><td>2</td><td>1</td><td>...</td><td>2</td><td>1</td><td>2</td><td>2</td><td>1</td><td>2</td><td>3</td><td>3</td><td>3</td><td>3</td></tr>\n",
       "</tbody>\n",
       "</table>\n"
      ],
      "text/latex": [
       "A matrix: 6 × 33 of type dbl\n",
       "\\begin{tabular}{lllllllllllllllllllll}\n",
       "\t 0 & 1 & 2 & 1 & 1 & 2 & 2 & 2 & 2 & 3 & ... & 2 & 3 & 4 & 4 & 1 & 4 & 3 & 3 & 3 & 5\\\\\n",
       "\t 1 & 0 & 3 & 2 & 2 & 3 & 3 & 1 & 3 & 2 & ... & 3 & 4 & 3 & 3 & 2 & 5 & 4 & 2 & 2 & 4\\\\\n",
       "\t 2 & 3 & 0 & 3 & 3 & 2 & 2 & 4 & 4 & 3 & ... & 2 & 3 & 2 & 4 & 1 & 2 & 3 & 5 & 3 & 3\\\\\n",
       "\t 1 & 2 & 3 & 0 & 2 & 1 & 1 & 1 & 1 & 2 & ... & 3 & 2 & 3 & 3 & 2 & 3 & 4 & 2 & 4 & 4\\\\\n",
       "\t 1 & 2 & 3 & 2 & 0 & 3 & 3 & 3 & 1 & 4 & ... & 3 & 4 & 5 & 5 & 2 & 3 & 2 & 2 & 4 & 4\\\\\n",
       "\t 2 & 3 & 2 & 1 & 3 & 0 & 2 & 2 & 2 & 1 & ... & 2 & 1 & 2 & 2 & 1 & 2 & 3 & 3 & 3 & 3\\\\\n",
       "\\end{tabular}\n"
      ],
      "text/markdown": [
       "\n",
       "A matrix: 6 × 33 of type dbl\n",
       "\n",
       "| 0 | 1 | 2 | 1 | 1 | 2 | 2 | 2 | 2 | 3 | ... | 2 | 3 | 4 | 4 | 1 | 4 | 3 | 3 | 3 | 5 |\n",
       "| 1 | 0 | 3 | 2 | 2 | 3 | 3 | 1 | 3 | 2 | ... | 3 | 4 | 3 | 3 | 2 | 5 | 4 | 2 | 2 | 4 |\n",
       "| 2 | 3 | 0 | 3 | 3 | 2 | 2 | 4 | 4 | 3 | ... | 2 | 3 | 2 | 4 | 1 | 2 | 3 | 5 | 3 | 3 |\n",
       "| 1 | 2 | 3 | 0 | 2 | 1 | 1 | 1 | 1 | 2 | ... | 3 | 2 | 3 | 3 | 2 | 3 | 4 | 2 | 4 | 4 |\n",
       "| 1 | 2 | 3 | 2 | 0 | 3 | 3 | 3 | 1 | 4 | ... | 3 | 4 | 5 | 5 | 2 | 3 | 2 | 2 | 4 | 4 |\n",
       "| 2 | 3 | 2 | 1 | 3 | 0 | 2 | 2 | 2 | 1 | ... | 2 | 1 | 2 | 2 | 1 | 2 | 3 | 3 | 3 | 3 |\n",
       "\n"
      ],
      "text/plain": [
       "     [,1] [,2] [,3] [,4] [,5] [,6] [,7] [,8] [,9] [,10] [,11] [,12] [,13] [,14]\n",
       "[1,] 0    1    2    1    1    2    2    2    2    3     ...   2     3     4    \n",
       "[2,] 1    0    3    2    2    3    3    1    3    2     ...   3     4     3    \n",
       "[3,] 2    3    0    3    3    2    2    4    4    3     ...   2     3     2    \n",
       "[4,] 1    2    3    0    2    1    1    1    1    2     ...   3     2     3    \n",
       "[5,] 1    2    3    2    0    3    3    3    1    4     ...   3     4     5    \n",
       "[6,] 2    3    2    1    3    0    2    2    2    1     ...   2     1     2    \n",
       "     [,15] [,16] [,17] [,18] [,19] [,20] [,21]\n",
       "[1,] 4     1     4     3     3     3     5    \n",
       "[2,] 3     2     5     4     2     2     4    \n",
       "[3,] 4     1     2     3     5     3     3    \n",
       "[4,] 3     2     3     4     2     4     4    \n",
       "[5,] 5     2     3     2     2     4     4    \n",
       "[6,] 2     1     2     3     3     3     3    "
      ]
     },
     "metadata": {},
     "output_type": "display_data"
    }
   ],
   "source": [
    "df_matrix <- data.matrix(df_during_barriers_dist) - 1\n",
    "similarity_matrix <- df_matrix %*% t(df_matrix) + ((!df_matrix) + 0) %*% ((!t(df_matrix)) + 0)\n",
    "dissimilarity_matrix <- ncol(df_during_barriers_dist) - similarity_matrix\n",
    "head(dissimilarity_matrix)"
   ]
  },
  {
   "cell_type": "markdown",
   "metadata": {},
   "source": [
    "#### Scanning parameters\n"
   ]
  },
  {
   "cell_type": "code",
   "execution_count": 5,
   "metadata": {
    "vscode": {
     "languageId": "r"
    }
   },
   "outputs": [],
   "source": [
    "source(here('Modules','modules.R'))\n",
    "dists <- c(\"cosine\", \"jaccard\", \"hamman\", \"simple matching\", \"faith\")\n",
    "thetas <- linspace(0, 0.99, 15)\n",
    "nt <- length(thetas)\n",
    "nd <- length(dists)\n",
    "nk <- nrow(distinct(df_during_barriers))\n",
    "# scs <- c()\n",
    "# for (t in thetas) {\n",
    "#     for (d in dists){\n",
    "#         for (k in 2:nk) {\n",
    "#             sc <- silhouette_values_rock(\n",
    "#                 num_clusters = k,\n",
    "#                 theta = t,\n",
    "#                 df = df_during_barriers_dist,\n",
    "#                 distmethod = d,\n",
    "#                 diss_matrix = dissimilarity_matrix)[[1]]\n",
    "#             scs <- append(scs, sc)\n",
    "#         }\n",
    "#     }\n",
    "# }\n"
   ]
  },
  {
   "cell_type": "code",
   "execution_count": 21,
   "metadata": {
    "vscode": {
     "languageId": "r"
    }
   },
   "outputs": [],
   "source": [
    "# ks_by_theta <- data.frame(\n",
    "#     theta=rep(thetas, each=((nk-1)*nd)), \n",
    "#     dist=rep(rep(dists, each=(nk-1)), nt), \n",
    "#     k=rep(2:nk, nd*nt), scs=scs\n",
    "# )\n",
    "\n",
    "# write.csv(\n",
    "#     ks_by_theta,\n",
    "#     \"silhouette_rock_barriers.csv\", row.names = FALSE\n",
    "# )"
   ]
  },
  {
   "cell_type": "markdown",
   "metadata": {},
   "source": [
    "####  Best Situations"
   ]
  },
  {
   "cell_type": "code",
   "execution_count": 6,
   "metadata": {
    "vscode": {
     "languageId": "r"
    }
   },
   "outputs": [
    {
     "data": {
      "text/html": [
       "<table class=\"dataframe\">\n",
       "<caption>A grouped_df: 5 × 4</caption>\n",
       "<thead>\n",
       "\t<tr><th scope=col>theta</th><th scope=col>dist</th><th scope=col>k</th><th scope=col>scs</th></tr>\n",
       "\t<tr><th scope=col>&lt;dbl&gt;</th><th scope=col>&lt;chr&gt;</th><th scope=col>&lt;int&gt;</th><th scope=col>&lt;dbl&gt;</th></tr>\n",
       "</thead>\n",
       "<tbody>\n",
       "\t<tr><td>0.07071429</td><td>cosine         </td><td>19</td><td>0.27143160</td></tr>\n",
       "\t<tr><td>0.21214286</td><td>faith          </td><td>19</td><td>0.24574315</td></tr>\n",
       "\t<tr><td>0.00000000</td><td>hamman         </td><td> 2</td><td>0.04117254</td></tr>\n",
       "\t<tr><td>0.07071429</td><td>jaccard        </td><td>19</td><td>0.27143160</td></tr>\n",
       "\t<tr><td>0.35357143</td><td>simple matching</td><td> 7</td><td>0.13550828</td></tr>\n",
       "</tbody>\n",
       "</table>\n"
      ],
      "text/latex": [
       "A grouped\\_df: 5 × 4\n",
       "\\begin{tabular}{llll}\n",
       " theta & dist & k & scs\\\\\n",
       " <dbl> & <chr> & <int> & <dbl>\\\\\n",
       "\\hline\n",
       "\t 0.07071429 & cosine          & 19 & 0.27143160\\\\\n",
       "\t 0.21214286 & faith           & 19 & 0.24574315\\\\\n",
       "\t 0.00000000 & hamman          &  2 & 0.04117254\\\\\n",
       "\t 0.07071429 & jaccard         & 19 & 0.27143160\\\\\n",
       "\t 0.35357143 & simple matching &  7 & 0.13550828\\\\\n",
       "\\end{tabular}\n"
      ],
      "text/markdown": [
       "\n",
       "A grouped_df: 5 × 4\n",
       "\n",
       "| theta &lt;dbl&gt; | dist &lt;chr&gt; | k &lt;int&gt; | scs &lt;dbl&gt; |\n",
       "|---|---|---|---|\n",
       "| 0.07071429 | cosine          | 19 | 0.27143160 |\n",
       "| 0.21214286 | faith           | 19 | 0.24574315 |\n",
       "| 0.00000000 | hamman          |  2 | 0.04117254 |\n",
       "| 0.07071429 | jaccard         | 19 | 0.27143160 |\n",
       "| 0.35357143 | simple matching |  7 | 0.13550828 |\n",
       "\n"
      ],
      "text/plain": [
       "  theta      dist            k  scs       \n",
       "1 0.07071429 cosine          19 0.27143160\n",
       "2 0.21214286 faith           19 0.24574315\n",
       "3 0.00000000 hamman           2 0.04117254\n",
       "4 0.07071429 jaccard         19 0.27143160\n",
       "5 0.35357143 simple matching  7 0.13550828"
      ]
     },
     "metadata": {},
     "output_type": "display_data"
    }
   ],
   "source": [
    "scs <- read.csv(\"silhouette_rock_barriers.csv\")\n",
    "scs %>% group_by(dist) %>% slice(which.max(scs))"
   ]
  },
  {
   "cell_type": "code",
   "execution_count": 7,
   "metadata": {
    "vscode": {
     "languageId": "r"
    }
   },
   "outputs": [
    {
     "data": {
      "text/html": [
       "<table class=\"dataframe\">\n",
       "<caption>A data.frame: 2 × 4</caption>\n",
       "<thead>\n",
       "\t<tr><th></th><th scope=col>theta</th><th scope=col>dist</th><th scope=col>k</th><th scope=col>scs</th></tr>\n",
       "\t<tr><th></th><th scope=col>&lt;dbl&gt;</th><th scope=col>&lt;chr&gt;</th><th scope=col>&lt;int&gt;</th><th scope=col>&lt;dbl&gt;</th></tr>\n",
       "</thead>\n",
       "<tbody>\n",
       "\t<tr><th scope=row>178</th><td>0.07071429</td><td>cosine </td><td>19</td><td>0.2714316</td></tr>\n",
       "\t<tr><th scope=row>210</th><td>0.07071429</td><td>jaccard</td><td>19</td><td>0.2714316</td></tr>\n",
       "</tbody>\n",
       "</table>\n"
      ],
      "text/latex": [
       "A data.frame: 2 × 4\n",
       "\\begin{tabular}{r|llll}\n",
       "  & theta & dist & k & scs\\\\\n",
       "  & <dbl> & <chr> & <int> & <dbl>\\\\\n",
       "\\hline\n",
       "\t178 & 0.07071429 & cosine  & 19 & 0.2714316\\\\\n",
       "\t210 & 0.07071429 & jaccard & 19 & 0.2714316\\\\\n",
       "\\end{tabular}\n"
      ],
      "text/markdown": [
       "\n",
       "A data.frame: 2 × 4\n",
       "\n",
       "| <!--/--> | theta &lt;dbl&gt; | dist &lt;chr&gt; | k &lt;int&gt; | scs &lt;dbl&gt; |\n",
       "|---|---|---|---|---|\n",
       "| 178 | 0.07071429 | cosine  | 19 | 0.2714316 |\n",
       "| 210 | 0.07071429 | jaccard | 19 | 0.2714316 |\n",
       "\n"
      ],
      "text/plain": [
       "    theta      dist    k  scs      \n",
       "178 0.07071429 cosine  19 0.2714316\n",
       "210 0.07071429 jaccard 19 0.2714316"
      ]
     },
     "metadata": {},
     "output_type": "display_data"
    }
   ],
   "source": [
    "best_situtation <- scs[scs['scs'] == max(scs['scs']), ]\n",
    "best_situtation"
   ]
  },
  {
   "cell_type": "code",
   "execution_count": 16,
   "metadata": {
    "vscode": {
     "languageId": "r"
    }
   },
   "outputs": [
    {
     "name": "stdout",
     "output_type": "stream",
     "text": [
      "[1] \"Best K\"\n",
      "[1] 19\n",
      "[1] \"Best Theta\"\n",
      "[1] 0.07071429\n",
      "[1] \"Best dist\"\n",
      "[1] \"cosine\"\n",
      "[1] \"Silhouette\"\n",
      "[1] 0.2714316\n"
     ]
    }
   ],
   "source": [
    "best_theta_rock <- best_situtation[1, 'theta']\n",
    "best_dist_rock <- best_situtation[1, 'dist']\n",
    "best_K_rock <- best_situtation[1, 'k']\n",
    "sil <- best_situtation[1, 'scs']\n",
    "\n",
    "print(\"Best K\")\n",
    "print(best_K_rock)\n",
    "print(\"Best Theta\")\n",
    "print(best_theta_rock)\n",
    "print('Best dist')\n",
    "print(best_dist_rock)\n",
    "print(\"Silhouette\")\n",
    "print(sil)"
   ]
  },
  {
   "cell_type": "code",
   "execution_count": 15,
   "metadata": {
    "vscode": {
     "languageId": "r"
    }
   },
   "outputs": [
    {
     "data": {
      "image/png": "[encoded data removed]",
      "text/plain": [
       "plot without title"
      ]
     },
     "metadata": {
      "image/png": {
       "height": 300,
       "width": 600
      }
     },
     "output_type": "display_data"
    }
   ],
   "source": [
    "label1 = paste(\"theta == \", round(best_theta_rock, 2))\n",
    "label2 =paste('distance function = 1 - ', best_dist_rock)\n",
    "options(repr.plot.width = 10, repr.plot.height =5)\n",
    "ggplot(data=scs[(scs$dist == best_dist_rock) & (scs$theta == best_theta_rock), ], aes(x=factor(k), y=scs, group=1)) +\n",
    "    geom_line(size=0.7) + geom_point(size=1.5) + \n",
    "    geom_vline(xintercept = best_K_rock-1, color = \"red\", size=0.8) + \n",
    "    ggtitle(\"Rock (Adjusted Silhouette Score) - Barriers dataset\") +\n",
    "    xlab('Number of clusters (K)') +\n",
    "    ylab('Adjusted Silhouette Score') +\n",
    "    annotate(\"label\", x = 26, y = sil-0.03, parse = TRUE, label=label1) +\n",
    "    annotate(\"label\", x = 26, y = sil, label=label2) \n",
    "\n",
    "\n",
    "ggsave(path=\"graphs\", file=\"metric_evolution.jpeg\", width = 10, height = 5)"
   ]
  },
  {
   "cell_type": "markdown",
   "metadata": {},
   "source": [
    "#### Evaluating the silhuette coefficient for best seed"
   ]
  },
  {
   "cell_type": "code",
   "execution_count": 25,
   "metadata": {
    "vscode": {
     "languageId": "r"
    }
   },
   "outputs": [],
   "source": [
    "# silhoutte_result <-  silhouette_values(num_clusters=3, df=df_during, diss_matrix=dissimilarity_matrix, iters=200, s=68)\n",
    "# coef_data <- data.frame(coef=silhoutte_result[[2]], clust=silhoutte_result[[3]]$cluster)\n",
    "# coef_data <- coef_data[order(coef_data$coef, decreasing=TRUE), ]\n",
    "# coef_data <- coef_data[order(coef_data$clust, decreasing=TRUE), ]\n",
    "# coef_data$clust <- as.factor(coef_data$clust )\n",
    "# coef_data$ID <- seq.int(nrow(coef_data))\n",
    "\n",
    "# ggplot(data = coef_data, aes(y=coef, x=ID, fill=clust)) + \n",
    "#   geom_bar(stat = \"identity\") + \n",
    "#   geom_hline(yintercept=mean(coef_data$coef), linetype=\"dashed\", color = \"red\") + \n",
    "#   coord_flip() + \n",
    "#   scale_x_reverse() + \n",
    "#   theme(panel.grid.major = element_blank(), panel.grid.minor = element_blank())"
   ]
  },
  {
   "cell_type": "code",
   "execution_count": 26,
   "metadata": {
    "vscode": {
     "languageId": "r"
    }
   },
   "outputs": [],
   "source": [
    "# silhoutte_result <-  silhouette_values(num_clusters=4, df=df_during, diss_matrix=dissimilarity_matrix, iters=200, s=62)\n",
    "# coef_data <- data.frame(coef=silhoutte_result[[2]], clust=silhoutte_result[[3]]$cluster)\n",
    "# coef_data <- coef_data[order(coef_data$coef, decreasing=TRUE), ]\n",
    "# coef_data <- coef_data[order(coef_data$clust, decreasing=TRUE), ]\n",
    "# coef_data$clust <- as.factor(coef_data$clust )\n",
    "# coef_data$ID <- seq.int(nrow(coef_data))\n",
    "\n",
    "# ggplot(data = coef_data, aes(y=coef, x=ID, fill=clust)) + \n",
    "#   geom_bar(stat = \"identity\") + \n",
    "#   geom_hline(yintercept=mean(coef_data$coef), linetype=\"dashed\", color = \"red\") + \n",
    "#   coord_flip() + \n",
    "#   scale_x_reverse() "
   ]
  },
  {
   "cell_type": "code",
   "execution_count": 27,
   "metadata": {
    "vscode": {
     "languageId": "r"
    }
   },
   "outputs": [],
   "source": [
    "# silhoutte_result <-  silhouette_values(num_clusters=3, df=df_during, diss_matrix=dissimilarity_matrix, iters=200, s=13)\n",
    "# coef_data <- data.frame(coef=silhoutte_result[[2]], clust=silhoutte_result[[3]]$cluster)\n",
    "# coef_data <- coef_data[order(coef_data$coef, decreasing=TRUE), ]\n",
    "# coef_data <- coef_data[order(coef_data$clust, decreasing=TRUE), ]\n",
    "# coef_data$clust <- as.factor(coef_data$clust )\n",
    "# coef_data$ID <- seq.int(nrow(coef_data))\n",
    "\n",
    "# ggplot(data = coef_data, aes(y=coef, x=ID, fill=clust)) + \n",
    "#   geom_bar(stat = \"identity\") + \n",
    "#   geom_hline(yintercept=mean(coef_data$coef), linetype=\"dashed\", color = \"red\") + \n",
    "#   coord_flip() + \n",
    "#   scale_x_reverse() "
   ]
  },
  {
   "cell_type": "markdown",
   "metadata": {},
   "source": [
    "## Exploring Kmodes best k"
   ]
  },
  {
   "cell_type": "code",
   "execution_count": 28,
   "metadata": {
    "vscode": {
     "languageId": "r"
    }
   },
   "outputs": [
    {
     "name": "stdout",
     "output_type": "stream",
     "text": [
      "Clustering:\n",
      "computing distances ...\n",
      "computing links ...\n",
      "computing clusters ...\n"
     ]
    },
    {
     "data": {
      "text/plain": [
       " data: x \n",
       " beta: 0.9292857 \n",
       "theta: 0.07071429 \n",
       "  fun: dist \n",
       " args: list(1) \n",
       " 1  2  3  4  5  6  7  8  9 10 11 12 13 14 15 16 17 18 19 \n",
       " 1  2  1  2  2  1  4  2  3  4  2  1  2  1  1  1  1  1  1 "
      ]
     },
     "metadata": {},
     "output_type": "display_data"
    }
   ],
   "source": [
    "rockCluster(df_matrix, n=best_K_rock, theta=best_theta_rock, fun = \"dist\", funArgs = list(method=best_dist_rock))"
   ]
  },
  {
   "cell_type": "code",
   "execution_count": 29,
   "metadata": {
    "vscode": {
     "languageId": "r"
    }
   },
   "outputs": [
    {
     "name": "stdout",
     "output_type": "stream",
     "text": [
      "Clustering:\n",
      "computing distances ...\n",
      "computing links ...\n",
      "computing clusters ...\n"
     ]
    },
    {
     "data": {
      "text/html": [
       "<table>\n",
       "<thead><tr><th scope=col>PA_barrier_places_closed_dangerous</th><th scope=col>PA_barrier_money</th><th scope=col>PA_barrier_no_interest</th><th scope=col>PA_barrier_percieve</th><th scope=col>PA_barrier_time</th><th scope=col>PA_barrier_hard</th><th scope=col>cluster</th></tr></thead>\n",
       "<tbody>\n",
       "\t<tr><td>1</td><td>0</td><td>0</td><td>0</td><td>0</td><td>0</td><td>1</td></tr>\n",
       "\t<tr><td>1</td><td>0</td><td>1</td><td>0</td><td>0</td><td>0</td><td>2</td></tr>\n",
       "\t<tr><td>0</td><td>0</td><td>0</td><td>0</td><td>1</td><td>0</td><td>3</td></tr>\n",
       "\t<tr><td>1</td><td>0</td><td>0</td><td>0</td><td>0</td><td>1</td><td>4</td></tr>\n",
       "\t<tr><td>1</td><td>1</td><td>0</td><td>0</td><td>0</td><td>0</td><td>5</td></tr>\n",
       "\t<tr><td>0</td><td>0</td><td>0</td><td>0</td><td>0</td><td>1</td><td>6</td></tr>\n",
       "</tbody>\n",
       "</table>\n"
      ],
      "text/latex": [
       "\\begin{tabular}{r|lllllll}\n",
       " PA\\_barrier\\_places\\_closed\\_dangerous & PA\\_barrier\\_money & PA\\_barrier\\_no\\_interest & PA\\_barrier\\_percieve & PA\\_barrier\\_time & PA\\_barrier\\_hard & cluster\\\\\n",
       "\\hline\n",
       "\t 1 & 0 & 0 & 0 & 0 & 0 & 1\\\\\n",
       "\t 1 & 0 & 1 & 0 & 0 & 0 & 2\\\\\n",
       "\t 0 & 0 & 0 & 0 & 1 & 0 & 3\\\\\n",
       "\t 1 & 0 & 0 & 0 & 0 & 1 & 4\\\\\n",
       "\t 1 & 1 & 0 & 0 & 0 & 0 & 5\\\\\n",
       "\t 0 & 0 & 0 & 0 & 0 & 1 & 6\\\\\n",
       "\\end{tabular}\n"
      ],
      "text/markdown": [
       "\n",
       "| PA_barrier_places_closed_dangerous | PA_barrier_money | PA_barrier_no_interest | PA_barrier_percieve | PA_barrier_time | PA_barrier_hard | cluster |\n",
       "|---|---|---|---|---|---|---|\n",
       "| 1 | 0 | 0 | 0 | 0 | 0 | 1 |\n",
       "| 1 | 0 | 1 | 0 | 0 | 0 | 2 |\n",
       "| 0 | 0 | 0 | 0 | 1 | 0 | 3 |\n",
       "| 1 | 0 | 0 | 0 | 0 | 1 | 4 |\n",
       "| 1 | 1 | 0 | 0 | 0 | 0 | 5 |\n",
       "| 0 | 0 | 0 | 0 | 0 | 1 | 6 |\n",
       "\n"
      ],
      "text/plain": [
       "  PA_barrier_places_closed_dangerous PA_barrier_money PA_barrier_no_interest\n",
       "1 1                                  0                0                     \n",
       "2 1                                  0                1                     \n",
       "3 0                                  0                0                     \n",
       "4 1                                  0                0                     \n",
       "5 1                                  1                0                     \n",
       "6 0                                  0                0                     \n",
       "  PA_barrier_percieve PA_barrier_time PA_barrier_hard cluster\n",
       "1 0                   0               0               1      \n",
       "2 0                   0               0               2      \n",
       "3 0                   1               0               3      \n",
       "4 0                   0               1               4      \n",
       "5 0                   0               0               5      \n",
       "6 0                   0               1               6      "
      ]
     },
     "metadata": {},
     "output_type": "display_data"
    }
   ],
   "source": [
    "df_during_barriers_dist$cluster <-rockCluster(df_matrix, n=best_K_rock, theta=best_theta_rock, fun = \"dist\", funArgs = list(method=best_dist_rock))$cl\n",
    "head(df_during_barriers_dist)"
   ]
  },
  {
   "cell_type": "code",
   "execution_count": 30,
   "metadata": {
    "vscode": {
     "languageId": "r"
    }
   },
   "outputs": [
    {
     "data": {
      "text/html": [
       "1214"
      ],
      "text/latex": [
       "1214"
      ],
      "text/markdown": [
       "1214"
      ],
      "text/plain": [
       "[1] 1214"
      ]
     },
     "metadata": {},
     "output_type": "display_data"
    }
   ],
   "source": [
    "joint <- c(\n",
    "    'PA_barrier_places_closed_dangerous'='PA_barrier_places_closed_dangerous',\n",
    "    'PA_barrier_money' = 'PA_barrier_money',\n",
    "    'PA_barrier_no_interest'='PA_barrier_no_interest',\n",
    "    'PA_barrier_percieve'='PA_barrier_percieve',\n",
    "    'PA_barrier_time' = 'PA_barrier_time',\n",
    "    'PA_barrier_hard' = 'PA_barrier_hard'\n",
    ")\n",
    "\n",
    "df_during_barriers <- left_join(df_during_barriers, df_during_barriers_dist, by = joint)\n",
    "df_during$cluster <- df_during_barriers$cluster\n",
    "df_during_facilitators$cluster <- df_during_barriers$cluster\n",
    "\n",
    "nrow(df_during_barriers)"
   ]
  },
  {
   "cell_type": "code",
   "execution_count": 31,
   "metadata": {
    "vscode": {
     "languageId": "r"
    }
   },
   "outputs": [
    {
     "data": {
      "text/plain": [
       "\n",
       "  1   2   3   4   5   6   7   8   9  10  11  12  13  14  15  16  17  18  19 \n",
       "305  22  94 119  27 140  61  13  27  10  58  15  13  25   8 272   1   2   2 "
      ]
     },
     "metadata": {},
     "output_type": "display_data"
    }
   ],
   "source": [
    "table(df_during$cluster)"
   ]
  },
  {
   "cell_type": "markdown",
   "metadata": {},
   "source": [
    "### Profile Plots\n",
    "<hr />"
   ]
  },
  {
   "cell_type": "code",
   "execution_count": 32,
   "metadata": {
    "vscode": {
     "languageId": "r"
    }
   },
   "outputs": [],
   "source": [
    "colors <- c(\"pink1\", \"violet\", \"mediumpurple1\", \"slateblue1\", \"purple\", \"purple3\",\n",
    "        \"turquoise2\", \"skyblue\", \"steelblue\", \"blue2\", \"navyblue\",\n",
    "        \"orange\", \"tomato\", \"coral2\", \"palevioletred\", \"violetred\", \"red2\",\n",
    "        \"springgreen2\", \"yellowgreen\", \"palegreen4\",\n",
    "        \"wheat2\", \"tan\", \"tan2\", \"tan3\", \"brown\",\n",
    "        \"grey70\", \"grey50\", \"grey30\")"
   ]
  },
  {
   "cell_type": "code",
   "execution_count": null,
   "metadata": {
    "vscode": {
     "languageId": "r"
    }
   },
   "outputs": [],
   "source": [
    "create_cluster_histograms(\n",
    "    colors = colors, \n",
    "    df = df_during, \n",
    "    names = names(df_during[, 20:ncol(df_during)-1]),\n",
    "    best_k = best_K_rock\n",
    ")\n",
    "create_cluster_histograms(\n",
    "    colors = colors, \n",
    "    df = df_during_facilitators, \n",
    "    names = names(df_during_facilitators[, 1:ncol(df_during_facilitators)-1]),\n",
    "    best_k = best_K_rock\n",
    ")"
   ]
  },
  {
   "cell_type": "markdown",
   "metadata": {},
   "source": [
    "#### Mode"
   ]
  },
  {
   "cell_type": "code",
   "execution_count": 34,
   "metadata": {
    "vscode": {
     "languageId": "r"
    }
   },
   "outputs": [
    {
     "data": {
      "text/html": [
       "<table>\n",
       "<thead><tr><th scope=col>PA_barrier_places_closed_dangerous</th><th scope=col>PA_barrier_money</th><th scope=col>PA_barrier_no_interest</th><th scope=col>PA_barrier_percieve</th><th scope=col>PA_barrier_time</th><th scope=col>PA_barrier_hard</th></tr></thead>\n",
       "<tbody>\n",
       "\t<tr><td>1</td><td>0</td><td>0</td><td>0</td><td>0</td><td>0</td></tr>\n",
       "\t<tr><td>1</td><td>0</td><td>1</td><td>0</td><td>0</td><td>0</td></tr>\n",
       "\t<tr><td>0</td><td>0</td><td>0</td><td>0</td><td>1</td><td>0</td></tr>\n",
       "\t<tr><td>1</td><td>0</td><td>0</td><td>0</td><td>0</td><td>1</td></tr>\n",
       "\t<tr><td>0</td><td>1</td><td>0</td><td>0</td><td>0</td><td>0</td></tr>\n",
       "\t<tr><td>0</td><td>0</td><td>0</td><td>0</td><td>0</td><td>1</td></tr>\n",
       "\t<tr><td>1</td><td>1</td><td>0</td><td>0</td><td>1</td><td>1</td></tr>\n",
       "\t<tr><td>0</td><td>0</td><td>1</td><td>0</td><td>0</td><td>1</td></tr>\n",
       "\t<tr><td>0</td><td>0</td><td>1</td><td>0</td><td>1</td><td>1</td></tr>\n",
       "\t<tr><td>1</td><td>1</td><td>1</td><td>0</td><td>1</td><td>1</td></tr>\n",
       "\t<tr><td>1</td><td>0</td><td>0</td><td>0</td><td>1</td><td>0</td></tr>\n",
       "\t<tr><td>0</td><td>1</td><td>0</td><td>0</td><td>0</td><td>0</td></tr>\n",
       "\t<tr><td>0</td><td>0</td><td>0</td><td>0</td><td>0</td><td>1</td></tr>\n",
       "\t<tr><td>0</td><td>0</td><td>1</td><td>0</td><td>0</td><td>0</td></tr>\n",
       "\t<tr><td>1</td><td>0</td><td>0</td><td>1</td><td>0</td><td>0</td></tr>\n",
       "\t<tr><td>0</td><td>0</td><td>0</td><td>1</td><td>0</td><td>0</td></tr>\n",
       "\t<tr><td>0</td><td>0</td><td>0</td><td>0</td><td>0</td><td>0</td></tr>\n",
       "\t<tr><td>0</td><td>1</td><td>0</td><td>1</td><td>0</td><td>0</td></tr>\n",
       "\t<tr><td>0</td><td>0</td><td>1</td><td>1</td><td>0</td><td>0</td></tr>\n",
       "</tbody>\n",
       "</table>\n"
      ],
      "text/latex": [
       "\\begin{tabular}{r|llllll}\n",
       " PA\\_barrier\\_places\\_closed\\_dangerous & PA\\_barrier\\_money & PA\\_barrier\\_no\\_interest & PA\\_barrier\\_percieve & PA\\_barrier\\_time & PA\\_barrier\\_hard\\\\\n",
       "\\hline\n",
       "\t 1 & 0 & 0 & 0 & 0 & 0\\\\\n",
       "\t 1 & 0 & 1 & 0 & 0 & 0\\\\\n",
       "\t 0 & 0 & 0 & 0 & 1 & 0\\\\\n",
       "\t 1 & 0 & 0 & 0 & 0 & 1\\\\\n",
       "\t 0 & 1 & 0 & 0 & 0 & 0\\\\\n",
       "\t 0 & 0 & 0 & 0 & 0 & 1\\\\\n",
       "\t 1 & 1 & 0 & 0 & 1 & 1\\\\\n",
       "\t 0 & 0 & 1 & 0 & 0 & 1\\\\\n",
       "\t 0 & 0 & 1 & 0 & 1 & 1\\\\\n",
       "\t 1 & 1 & 1 & 0 & 1 & 1\\\\\n",
       "\t 1 & 0 & 0 & 0 & 1 & 0\\\\\n",
       "\t 0 & 1 & 0 & 0 & 0 & 0\\\\\n",
       "\t 0 & 0 & 0 & 0 & 0 & 1\\\\\n",
       "\t 0 & 0 & 1 & 0 & 0 & 0\\\\\n",
       "\t 1 & 0 & 0 & 1 & 0 & 0\\\\\n",
       "\t 0 & 0 & 0 & 1 & 0 & 0\\\\\n",
       "\t 0 & 0 & 0 & 0 & 0 & 0\\\\\n",
       "\t 0 & 1 & 0 & 1 & 0 & 0\\\\\n",
       "\t 0 & 0 & 1 & 1 & 0 & 0\\\\\n",
       "\\end{tabular}\n"
      ],
      "text/markdown": [
       "\n",
       "| PA_barrier_places_closed_dangerous | PA_barrier_money | PA_barrier_no_interest | PA_barrier_percieve | PA_barrier_time | PA_barrier_hard |\n",
       "|---|---|---|---|---|---|\n",
       "| 1 | 0 | 0 | 0 | 0 | 0 |\n",
       "| 1 | 0 | 1 | 0 | 0 | 0 |\n",
       "| 0 | 0 | 0 | 0 | 1 | 0 |\n",
       "| 1 | 0 | 0 | 0 | 0 | 1 |\n",
       "| 0 | 1 | 0 | 0 | 0 | 0 |\n",
       "| 0 | 0 | 0 | 0 | 0 | 1 |\n",
       "| 1 | 1 | 0 | 0 | 1 | 1 |\n",
       "| 0 | 0 | 1 | 0 | 0 | 1 |\n",
       "| 0 | 0 | 1 | 0 | 1 | 1 |\n",
       "| 1 | 1 | 1 | 0 | 1 | 1 |\n",
       "| 1 | 0 | 0 | 0 | 1 | 0 |\n",
       "| 0 | 1 | 0 | 0 | 0 | 0 |\n",
       "| 0 | 0 | 0 | 0 | 0 | 1 |\n",
       "| 0 | 0 | 1 | 0 | 0 | 0 |\n",
       "| 1 | 0 | 0 | 1 | 0 | 0 |\n",
       "| 0 | 0 | 0 | 1 | 0 | 0 |\n",
       "| 0 | 0 | 0 | 0 | 0 | 0 |\n",
       "| 0 | 1 | 0 | 1 | 0 | 0 |\n",
       "| 0 | 0 | 1 | 1 | 0 | 0 |\n",
       "\n"
      ],
      "text/plain": [
       "   PA_barrier_places_closed_dangerous PA_barrier_money PA_barrier_no_interest\n",
       "1  1                                  0                0                     \n",
       "2  1                                  0                1                     \n",
       "3  0                                  0                0                     \n",
       "4  1                                  0                0                     \n",
       "5  0                                  1                0                     \n",
       "6  0                                  0                0                     \n",
       "7  1                                  1                0                     \n",
       "8  0                                  0                1                     \n",
       "9  0                                  0                1                     \n",
       "10 1                                  1                1                     \n",
       "11 1                                  0                0                     \n",
       "12 0                                  1                0                     \n",
       "13 0                                  0                0                     \n",
       "14 0                                  0                1                     \n",
       "15 1                                  0                0                     \n",
       "16 0                                  0                0                     \n",
       "17 0                                  0                0                     \n",
       "18 0                                  1                0                     \n",
       "19 0                                  0                1                     \n",
       "   PA_barrier_percieve PA_barrier_time PA_barrier_hard\n",
       "1  0                   0               0              \n",
       "2  0                   0               0              \n",
       "3  0                   1               0              \n",
       "4  0                   0               1              \n",
       "5  0                   0               0              \n",
       "6  0                   0               1              \n",
       "7  0                   1               1              \n",
       "8  0                   0               1              \n",
       "9  0                   1               1              \n",
       "10 0                   1               1              \n",
       "11 0                   1               0              \n",
       "12 0                   0               0              \n",
       "13 0                   0               1              \n",
       "14 0                   0               0              \n",
       "15 1                   0               0              \n",
       "16 1                   0               0              \n",
       "17 0                   0               0              \n",
       "18 1                   0               0              \n",
       "19 1                   0               0              "
      ]
     },
     "metadata": {},
     "output_type": "display_data"
    }
   ],
   "source": [
    "modes <- data.frame(matrix(ncol = ncol(df_during_barriers_dist)-1, nrow = 0))\n",
    "colnames(modes) <- colnames(df_during_barriers_dist)[1:ncol(df_during_barriers_dist)-1]\n",
    "for( cl in unique(df_during_barriers_dist$cluster)){\n",
    "    cl_mode <- unname(apply(df_during_barriers_dist[df_during_barriers_dist$cluster == cl, ], 2, modefunc))\n",
    "    modes[nrow(modes) + 1,] <- cl_mode[1:length(cl_mode)-1]\n",
    "}\n",
    "\n",
    "modes"
   ]
  }
 ],
 "metadata": {
  "kernelspec": {
   "display_name": "R",
   "language": "R",
   "name": "ir"
  },
  "language_info": {
   "codemirror_mode": "r",
   "file_extension": ".r",
   "mimetype": "text/x-r-source",
   "name": "R",
   "pygments_lexer": "r",
   "version": "4.1.0"
  },
  "orig_nbformat": 4
 },
 "nbformat": 4,
 "nbformat_minor": 2
}
