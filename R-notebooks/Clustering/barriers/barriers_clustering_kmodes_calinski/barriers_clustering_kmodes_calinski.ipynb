{
 "cells": [
  {
   "cell_type": "markdown",
   "metadata": {},
   "source": [
    "## Importing packages"
   ]
  },
  {
   "cell_type": "code",
   "execution_count": null,
   "metadata": {
    "vscode": {
     "languageId": "r"
    }
   },
   "outputs": [],
   "source": [
    "library(here, help, pos = 2, lib.loc = NULL)\n",
    "source(here('Modules','modules.R'))\n",
    "source(here('Modules','preprocessing_clustering.R'))\n",
    "#install_all_packages()\n",
    "load_library_packages()\n"
   ]
  },
  {
   "cell_type": "code",
   "execution_count": 2,
   "metadata": {
    "vscode": {
     "languageId": "r"
    }
   },
   "outputs": [
    {
     "data": {
      "text/html": [
       "<style>\n",
       ".list-inline {list-style: none; margin:0; padding: 0}\n",
       ".list-inline>li {display: inline-block}\n",
       ".list-inline>li:not(:last-child)::after {content: \"\\00b7\"; padding: 0 .5ex}\n",
       "</style>\n",
       "<ol class=list-inline><li>1214</li><li>6</li></ol>\n"
      ],
      "text/latex": [
       "\\begin{enumerate*}\n",
       "\\item 1214\n",
       "\\item 6\n",
       "\\end{enumerate*}\n"
      ],
      "text/markdown": [
       "1. 1214\n",
       "2. 6\n",
       "\n",
       "\n"
      ],
      "text/plain": [
       "[1] 1214    6"
      ]
     },
     "metadata": {},
     "output_type": "display_data"
    }
   ],
   "source": [
    "dim(df_during_barriers)"
   ]
  },
  {
   "cell_type": "markdown",
   "metadata": {},
   "source": [
    "## Clustering - Kmodes Fisher"
   ]
  },
  {
   "cell_type": "code",
   "execution_count": 3,
   "metadata": {
    "vscode": {
     "languageId": "r"
    }
   },
   "outputs": [
    {
     "data": {
      "text/html": [
       "33"
      ],
      "text/latex": [
       "33"
      ],
      "text/markdown": [
       "33"
      ],
      "text/plain": [
       "[1] 33"
      ]
     },
     "metadata": {},
     "output_type": "display_data"
    }
   ],
   "source": [
    "df_during_barriers_dist <- distinct(df_during_barriers)\n",
    "nrow(df_during_barriers_dist)"
   ]
  },
  {
   "cell_type": "markdown",
   "metadata": {},
   "source": [
    "### Caliski\n",
    "\n",
    "<hr />"
   ]
  },
  {
   "cell_type": "markdown",
   "metadata": {},
   "source": [
    "#### Scanning parameters"
   ]
  },
  {
   "cell_type": "code",
   "execution_count": 4,
   "metadata": {
    "vscode": {
     "languageId": "r"
    }
   },
   "outputs": [],
   "source": [
    "source(here('Modules','modules.R'))\n",
    "nseed <- 1000\n",
    "nk <- nrow(distinct(df_during_barriers))\n",
    "# ks_by_seed <- data.frame(matrix(NA, nrow = nseed, ncol = nk-1))\n",
    "# for (seed in 1:nseed) {\n",
    "#     calisnki <- c()\n",
    "#     for (k in 2:nk) {\n",
    "#         fs <- calisnki_values_kmodes(k, df_during_barriers_dist, 200, seed)[[1]]\n",
    "#         calisnki <- append(calisnki, fs)\n",
    "#     }\n",
    "\n",
    "#     ks_by_seed[seed, ] <- calisnki\n",
    "# }\n",
    "\n",
    "# write.csv(\n",
    "#     ks_by_seed,\n",
    "#     \"calisnki_kmodes_or_barriers.csv\", row.names = FALSE\n",
    "# )"
   ]
  },
  {
   "cell_type": "markdown",
   "metadata": {},
   "source": [
    "#### Results"
   ]
  },
  {
   "cell_type": "code",
   "execution_count": 5,
   "metadata": {
    "vscode": {
     "languageId": "r"
    }
   },
   "outputs": [
    {
     "data": {
      "text/html": [
       "<table class=\"dataframe\">\n",
       "<caption>A data.frame: 6 × 33</caption>\n",
       "<thead>\n",
       "\t<tr><th></th><th scope=col>2</th><th scope=col>3</th><th scope=col>4</th><th scope=col>5</th><th scope=col>6</th><th scope=col>7</th><th scope=col>8</th><th scope=col>9</th><th scope=col>10</th><th scope=col>11</th><th scope=col>...</th><th scope=col>25</th><th scope=col>26</th><th scope=col>27</th><th scope=col>28</th><th scope=col>29</th><th scope=col>30</th><th scope=col>31</th><th scope=col>32</th><th scope=col>33</th><th scope=col>seed</th></tr>\n",
       "\t<tr><th></th><th scope=col>&lt;dbl&gt;</th><th scope=col>&lt;dbl&gt;</th><th scope=col>&lt;dbl&gt;</th><th scope=col>&lt;dbl&gt;</th><th scope=col>&lt;dbl&gt;</th><th scope=col>&lt;dbl&gt;</th><th scope=col>&lt;dbl&gt;</th><th scope=col>&lt;dbl&gt;</th><th scope=col>&lt;dbl&gt;</th><th scope=col>&lt;dbl&gt;</th><th scope=col>...</th><th scope=col>&lt;dbl&gt;</th><th scope=col>&lt;dbl&gt;</th><th scope=col>&lt;dbl&gt;</th><th scope=col>&lt;dbl&gt;</th><th scope=col>&lt;dbl&gt;</th><th scope=col>&lt;dbl&gt;</th><th scope=col>&lt;dbl&gt;</th><th scope=col>&lt;dbl&gt;</th><th scope=col>&lt;lgl&gt;</th><th scope=col>&lt;int&gt;</th></tr>\n",
       "</thead>\n",
       "<tbody>\n",
       "\t<tr><th scope=row>1</th><td>  7.233333</td><td>  94.09091</td><td> 35.64583</td><td>212.3333</td><td>243.00000</td><td>416.0000</td><td> 13.000000</td><td>363.000000</td><td>181.44444</td><td> 10.46897</td><td>...</td><td>3.7333333</td><td>0.6048000</td><td>1.7076923</td><td>1.6296296</td><td>0.4615385</td><td>0.19098143</td><td>0.04266667</td><td>0.010322581</td><td>NA</td><td>1</td></tr>\n",
       "\t<tr><th scope=row>2</th><td> 53.142857</td><td>  55.38462</td><td>971.50000</td><td>665.0000</td><td>345.60000</td><td>111.2222</td><td>460.714286</td><td> 10.026316</td><td>296.44444</td><td> 50.60000</td><td>...</td><td>2.7179487</td><td>5.8240000</td><td>0.4165103</td><td>0.9971510</td><td>0.2971429</td><td>0.08578638</td><td>0.13333333</td><td>0.051612903</td><td>NA</td><td>2</td></tr>\n",
       "\t<tr><th scope=row>3</th><td>119.490909</td><td>1260.00000</td><td>460.77778</td><td>223.0000</td><td>379.80000</td><td>888.3333</td><td>339.285714</td><td> 25.772727</td><td> 78.79630</td><td> 17.60000</td><td>...</td><td>3.6000000</td><td>0.2458537</td><td>0.6213018</td><td>0.0767841</td><td>0.1530612</td><td>0.05793103</td><td>0.13333333</td><td>0.004962779</td><td>NA</td><td>3</td></tr>\n",
       "\t<tr><th scope=row>4</th><td> 33.932432</td><td> 172.50000</td><td>129.80952</td><td>235.6667</td><td> 66.82500</td><td>227.5000</td><td> 15.000000</td><td> 22.071429</td><td> 92.85185</td><td>226.60000</td><td>...</td><td>4.0000000</td><td>0.2868293</td><td>0.2138837</td><td>0.2666667</td><td>0.1600000</td><td>0.08275862</td><td>0.26666667</td><td>0.014162077</td><td>NA</td><td>4</td></tr>\n",
       "\t<tr><th scope=row>5</th><td> 52.565217</td><td> 124.61538</td><td>153.59259</td><td>374.5000</td><td>345.60000</td><td>335.8333</td><td>  9.461153</td><td>483.000000</td><td> 16.35556</td><td>338.80000</td><td>...</td><td>0.9466667</td><td>0.5936000</td><td>0.1857411</td><td>0.2370370</td><td>0.3296703</td><td>0.57931034</td><td>0.02666667</td><td>0.002580645</td><td>NA</td><td>5</td></tr>\n",
       "\t<tr><th scope=row>6</th><td> 62.837838</td><td>  92.64706</td><td>309.33333</td><td>693.0000</td><td> 40.70769</td><td>192.8333</td><td> 10.837438</td><td>  8.689655</td><td>126.50000</td><td>  2.80000</td><td>...</td><td>0.8133333</td><td>1.2923077</td><td>0.5353846</td><td>0.2529359</td><td>0.5054945</td><td>0.22281167</td><td>0.05333333</td><td>0.044665012</td><td>NA</td><td>6</td></tr>\n",
       "</tbody>\n",
       "</table>\n"
      ],
      "text/latex": [
       "A data.frame: 6 × 33\n",
       "\\begin{tabular}{r|lllllllllllllllllllll}\n",
       "  & 2 & 3 & 4 & 5 & 6 & 7 & 8 & 9 & 10 & 11 & ... & 25 & 26 & 27 & 28 & 29 & 30 & 31 & 32 & 33 & seed\\\\\n",
       "  & <dbl> & <dbl> & <dbl> & <dbl> & <dbl> & <dbl> & <dbl> & <dbl> & <dbl> & <dbl> & ... & <dbl> & <dbl> & <dbl> & <dbl> & <dbl> & <dbl> & <dbl> & <dbl> & <lgl> & <int>\\\\\n",
       "\\hline\n",
       "\t1 &   7.233333 &   94.09091 &  35.64583 & 212.3333 & 243.00000 & 416.0000 &  13.000000 & 363.000000 & 181.44444 &  10.46897 & ... & 3.7333333 & 0.6048000 & 1.7076923 & 1.6296296 & 0.4615385 & 0.19098143 & 0.04266667 & 0.010322581 & NA & 1\\\\\n",
       "\t2 &  53.142857 &   55.38462 & 971.50000 & 665.0000 & 345.60000 & 111.2222 & 460.714286 &  10.026316 & 296.44444 &  50.60000 & ... & 2.7179487 & 5.8240000 & 0.4165103 & 0.9971510 & 0.2971429 & 0.08578638 & 0.13333333 & 0.051612903 & NA & 2\\\\\n",
       "\t3 & 119.490909 & 1260.00000 & 460.77778 & 223.0000 & 379.80000 & 888.3333 & 339.285714 &  25.772727 &  78.79630 &  17.60000 & ... & 3.6000000 & 0.2458537 & 0.6213018 & 0.0767841 & 0.1530612 & 0.05793103 & 0.13333333 & 0.004962779 & NA & 3\\\\\n",
       "\t4 &  33.932432 &  172.50000 & 129.80952 & 235.6667 &  66.82500 & 227.5000 &  15.000000 &  22.071429 &  92.85185 & 226.60000 & ... & 4.0000000 & 0.2868293 & 0.2138837 & 0.2666667 & 0.1600000 & 0.08275862 & 0.26666667 & 0.014162077 & NA & 4\\\\\n",
       "\t5 &  52.565217 &  124.61538 & 153.59259 & 374.5000 & 345.60000 & 335.8333 &   9.461153 & 483.000000 &  16.35556 & 338.80000 & ... & 0.9466667 & 0.5936000 & 0.1857411 & 0.2370370 & 0.3296703 & 0.57931034 & 0.02666667 & 0.002580645 & NA & 5\\\\\n",
       "\t6 &  62.837838 &   92.64706 & 309.33333 & 693.0000 &  40.70769 & 192.8333 &  10.837438 &   8.689655 & 126.50000 &   2.80000 & ... & 0.8133333 & 1.2923077 & 0.5353846 & 0.2529359 & 0.5054945 & 0.22281167 & 0.05333333 & 0.044665012 & NA & 6\\\\\n",
       "\\end{tabular}\n"
      ],
      "text/markdown": [
       "\n",
       "A data.frame: 6 × 33\n",
       "\n",
       "| <!--/--> | 2 &lt;dbl&gt; | 3 &lt;dbl&gt; | 4 &lt;dbl&gt; | 5 &lt;dbl&gt; | 6 &lt;dbl&gt; | 7 &lt;dbl&gt; | 8 &lt;dbl&gt; | 9 &lt;dbl&gt; | 10 &lt;dbl&gt; | 11 &lt;dbl&gt; | ... ... | 25 &lt;dbl&gt; | 26 &lt;dbl&gt; | 27 &lt;dbl&gt; | 28 &lt;dbl&gt; | 29 &lt;dbl&gt; | 30 &lt;dbl&gt; | 31 &lt;dbl&gt; | 32 &lt;dbl&gt; | 33 &lt;lgl&gt; | seed &lt;int&gt; |\n",
       "|---|---|---|---|---|---|---|---|---|---|---|---|---|---|---|---|---|---|---|---|---|---|\n",
       "| 1 |   7.233333 |   94.09091 |  35.64583 | 212.3333 | 243.00000 | 416.0000 |  13.000000 | 363.000000 | 181.44444 |  10.46897 | ... | 3.7333333 | 0.6048000 | 1.7076923 | 1.6296296 | 0.4615385 | 0.19098143 | 0.04266667 | 0.010322581 | NA | 1 |\n",
       "| 2 |  53.142857 |   55.38462 | 971.50000 | 665.0000 | 345.60000 | 111.2222 | 460.714286 |  10.026316 | 296.44444 |  50.60000 | ... | 2.7179487 | 5.8240000 | 0.4165103 | 0.9971510 | 0.2971429 | 0.08578638 | 0.13333333 | 0.051612903 | NA | 2 |\n",
       "| 3 | 119.490909 | 1260.00000 | 460.77778 | 223.0000 | 379.80000 | 888.3333 | 339.285714 |  25.772727 |  78.79630 |  17.60000 | ... | 3.6000000 | 0.2458537 | 0.6213018 | 0.0767841 | 0.1530612 | 0.05793103 | 0.13333333 | 0.004962779 | NA | 3 |\n",
       "| 4 |  33.932432 |  172.50000 | 129.80952 | 235.6667 |  66.82500 | 227.5000 |  15.000000 |  22.071429 |  92.85185 | 226.60000 | ... | 4.0000000 | 0.2868293 | 0.2138837 | 0.2666667 | 0.1600000 | 0.08275862 | 0.26666667 | 0.014162077 | NA | 4 |\n",
       "| 5 |  52.565217 |  124.61538 | 153.59259 | 374.5000 | 345.60000 | 335.8333 |   9.461153 | 483.000000 |  16.35556 | 338.80000 | ... | 0.9466667 | 0.5936000 | 0.1857411 | 0.2370370 | 0.3296703 | 0.57931034 | 0.02666667 | 0.002580645 | NA | 5 |\n",
       "| 6 |  62.837838 |   92.64706 | 309.33333 | 693.0000 |  40.70769 | 192.8333 |  10.837438 |   8.689655 | 126.50000 |   2.80000 | ... | 0.8133333 | 1.2923077 | 0.5353846 | 0.2529359 | 0.5054945 | 0.22281167 | 0.05333333 | 0.044665012 | NA | 6 |\n",
       "\n"
      ],
      "text/plain": [
       "  2          3          4         5        6         7        8         \n",
       "1   7.233333   94.09091  35.64583 212.3333 243.00000 416.0000  13.000000\n",
       "2  53.142857   55.38462 971.50000 665.0000 345.60000 111.2222 460.714286\n",
       "3 119.490909 1260.00000 460.77778 223.0000 379.80000 888.3333 339.285714\n",
       "4  33.932432  172.50000 129.80952 235.6667  66.82500 227.5000  15.000000\n",
       "5  52.565217  124.61538 153.59259 374.5000 345.60000 335.8333   9.461153\n",
       "6  62.837838   92.64706 309.33333 693.0000  40.70769 192.8333  10.837438\n",
       "  9          10        11        ... 25        26        27        28       \n",
       "1 363.000000 181.44444  10.46897 ... 3.7333333 0.6048000 1.7076923 1.6296296\n",
       "2  10.026316 296.44444  50.60000 ... 2.7179487 5.8240000 0.4165103 0.9971510\n",
       "3  25.772727  78.79630  17.60000 ... 3.6000000 0.2458537 0.6213018 0.0767841\n",
       "4  22.071429  92.85185 226.60000 ... 4.0000000 0.2868293 0.2138837 0.2666667\n",
       "5 483.000000  16.35556 338.80000 ... 0.9466667 0.5936000 0.1857411 0.2370370\n",
       "6   8.689655 126.50000   2.80000 ... 0.8133333 1.2923077 0.5353846 0.2529359\n",
       "  29        30         31         32          33 seed\n",
       "1 0.4615385 0.19098143 0.04266667 0.010322581 NA 1   \n",
       "2 0.2971429 0.08578638 0.13333333 0.051612903 NA 2   \n",
       "3 0.1530612 0.05793103 0.13333333 0.004962779 NA 3   \n",
       "4 0.1600000 0.08275862 0.26666667 0.014162077 NA 4   \n",
       "5 0.3296703 0.57931034 0.02666667 0.002580645 NA 5   \n",
       "6 0.5054945 0.22281167 0.05333333 0.044665012 NA 6   "
      ]
     },
     "metadata": {},
     "output_type": "display_data"
    }
   ],
   "source": [
    "cal <- read.csv(\"calisnki_kmodes_or_barriers.csv\")\n",
    "cal[, ncol(cal)+1] <-  seq.int(nrow(cal))\n",
    "colnames(cal) <- append(2:nrow(distinct(df_during_barriers)), \"seed\")\n",
    "head(cal)"
   ]
  },
  {
   "cell_type": "markdown",
   "metadata": {},
   "source": [
    "####  Best K and best seed by highest sample mean"
   ]
  },
  {
   "cell_type": "code",
   "execution_count": 6,
   "metadata": {
    "vscode": {
     "languageId": "r"
    }
   },
   "outputs": [
    {
     "name": "stdout",
     "output_type": "stream",
     "text": [
      "[1] \"Best K\"\n",
      "[1] 5\n",
      "[1] \"Best Seed\"\n",
      "[1] 637\n",
      "[1] \"Calisnki\"\n",
      "[1] 2226\n"
     ]
    }
   ],
   "source": [
    "print(\"Best K\")\n",
    "best_K_kmodes <- match(max(apply(cal, 2, mean)[1:(nk-2)]), apply(cal, 2, mean)) + 1\n",
    "print(best_K_kmodes)\n",
    "print(\"Best Seed\")\n",
    "best_seed_kmodes <- match(max(cal[, best_K_kmodes-1]), cal[, best_K_kmodes-1])\n",
    "print(best_seed_kmodes)\n",
    "print(\"Calisnki\")\n",
    "print(max(cal[, best_K_kmodes-1]))"
   ]
  },
  {
   "cell_type": "code",
   "execution_count": 23,
   "metadata": {
    "vscode": {
     "languageId": "r"
    }
   },
   "outputs": [
    {
     "data": {
      "image/png": "[encoded data removed]",
      "text/plain": [
       "plot without title"
      ]
     },
     "metadata": {
      "image/png": {
       "height": 360,
       "width": 660
      }
     },
     "output_type": "display_data"
    }
   ],
   "source": [
    "means_df <- data.frame(mean = apply(cal, 2, mean)[1:(nk-2)], k = names(apply(cal, 2, mean)[1:(nk-2)]))\n",
    "options(repr.plot.width = 11, repr.plot.height =6)\n",
    "ggplot(data=means_df, aes(x=factor(as.numeric(k)), y=mean, group=1)) +\n",
    "    geom_line(size=0.7) + geom_point(size=1.5) + \n",
    "    geom_vline(xintercept = best_K_kmodes-1, color = \"red\", size=0.8) + \n",
    "    ggtitle(\"Kmodes (Adjusted Calinski-Harabasz Index) - Barriers dataset\") +\n",
    "    xlab('Number of clusters (K)') +\n",
    "    ylab('Mean of Adjusted Calinski-Harabasz Index') + \n",
    "    theme(text = element_text(size = 21)) \n",
    "\n",
    "\n",
    "ggsave(path=\"graphs\", file=\"metric_evolution_barriers_KC.jpeg\", width = 11, height = 6)"
   ]
  },
  {
   "cell_type": "markdown",
   "metadata": {},
   "source": [
    "## Exploring Kmodes best k"
   ]
  },
  {
   "cell_type": "code",
   "execution_count": 8,
   "metadata": {
    "vscode": {
     "languageId": "r"
    }
   },
   "outputs": [
    {
     "data": {
      "text/html": [
       "<table class=\"dataframe\">\n",
       "<caption>A data.frame: 6 × 7</caption>\n",
       "<thead>\n",
       "\t<tr><th></th><th scope=col>PA_barrier_places_closed_dangerous</th><th scope=col>PA_barrier_money</th><th scope=col>PA_barrier_no_interest</th><th scope=col>PA_barrier_percieve</th><th scope=col>PA_barrier_time</th><th scope=col>PA_barrier_hard</th><th scope=col>cluster</th></tr>\n",
       "\t<tr><th></th><th scope=col>&lt;fct&gt;</th><th scope=col>&lt;fct&gt;</th><th scope=col>&lt;fct&gt;</th><th scope=col>&lt;fct&gt;</th><th scope=col>&lt;fct&gt;</th><th scope=col>&lt;fct&gt;</th><th scope=col>&lt;int&gt;</th></tr>\n",
       "</thead>\n",
       "<tbody>\n",
       "\t<tr><th scope=row>1</th><td>1</td><td>0</td><td>0</td><td>0</td><td>0</td><td>0</td><td>2</td></tr>\n",
       "\t<tr><th scope=row>2</th><td>1</td><td>0</td><td>1</td><td>0</td><td>0</td><td>0</td><td>2</td></tr>\n",
       "\t<tr><th scope=row>3</th><td>0</td><td>0</td><td>0</td><td>0</td><td>1</td><td>0</td><td>3</td></tr>\n",
       "\t<tr><th scope=row>4</th><td>1</td><td>0</td><td>0</td><td>0</td><td>0</td><td>1</td><td>2</td></tr>\n",
       "\t<tr><th scope=row>5</th><td>1</td><td>1</td><td>0</td><td>0</td><td>0</td><td>0</td><td>2</td></tr>\n",
       "\t<tr><th scope=row>6</th><td>0</td><td>0</td><td>0</td><td>0</td><td>0</td><td>1</td><td>4</td></tr>\n",
       "</tbody>\n",
       "</table>\n"
      ],
      "text/latex": [
       "A data.frame: 6 × 7\n",
       "\\begin{tabular}{r|lllllll}\n",
       "  & PA\\_barrier\\_places\\_closed\\_dangerous & PA\\_barrier\\_money & PA\\_barrier\\_no\\_interest & PA\\_barrier\\_percieve & PA\\_barrier\\_time & PA\\_barrier\\_hard & cluster\\\\\n",
       "  & <fct> & <fct> & <fct> & <fct> & <fct> & <fct> & <int>\\\\\n",
       "\\hline\n",
       "\t1 & 1 & 0 & 0 & 0 & 0 & 0 & 2\\\\\n",
       "\t2 & 1 & 0 & 1 & 0 & 0 & 0 & 2\\\\\n",
       "\t3 & 0 & 0 & 0 & 0 & 1 & 0 & 3\\\\\n",
       "\t4 & 1 & 0 & 0 & 0 & 0 & 1 & 2\\\\\n",
       "\t5 & 1 & 1 & 0 & 0 & 0 & 0 & 2\\\\\n",
       "\t6 & 0 & 0 & 0 & 0 & 0 & 1 & 4\\\\\n",
       "\\end{tabular}\n"
      ],
      "text/markdown": [
       "\n",
       "A data.frame: 6 × 7\n",
       "\n",
       "| <!--/--> | PA_barrier_places_closed_dangerous &lt;fct&gt; | PA_barrier_money &lt;fct&gt; | PA_barrier_no_interest &lt;fct&gt; | PA_barrier_percieve &lt;fct&gt; | PA_barrier_time &lt;fct&gt; | PA_barrier_hard &lt;fct&gt; | cluster &lt;int&gt; |\n",
       "|---|---|---|---|---|---|---|---|\n",
       "| 1 | 1 | 0 | 0 | 0 | 0 | 0 | 2 |\n",
       "| 2 | 1 | 0 | 1 | 0 | 0 | 0 | 2 |\n",
       "| 3 | 0 | 0 | 0 | 0 | 1 | 0 | 3 |\n",
       "| 4 | 1 | 0 | 0 | 0 | 0 | 1 | 2 |\n",
       "| 5 | 1 | 1 | 0 | 0 | 0 | 0 | 2 |\n",
       "| 6 | 0 | 0 | 0 | 0 | 0 | 1 | 4 |\n",
       "\n"
      ],
      "text/plain": [
       "  PA_barrier_places_closed_dangerous PA_barrier_money PA_barrier_no_interest\n",
       "1 1                                  0                0                     \n",
       "2 1                                  0                1                     \n",
       "3 0                                  0                0                     \n",
       "4 1                                  0                0                     \n",
       "5 1                                  1                0                     \n",
       "6 0                                  0                0                     \n",
       "  PA_barrier_percieve PA_barrier_time PA_barrier_hard cluster\n",
       "1 0                   0               0               2      \n",
       "2 0                   0               0               2      \n",
       "3 0                   1               0               3      \n",
       "4 0                   0               1               2      \n",
       "5 0                   0               0               2      \n",
       "6 0                   0               1               4      "
      ]
     },
     "metadata": {},
     "output_type": "display_data"
    }
   ],
   "source": [
    "chosen_kmode = kmodes_seed(df_during_barriers_dist, best_K_kmodes, max_iter=200, seed=best_seed_kmodes)\n",
    "df_during_barriers_dist$cluster <- chosen_kmode$cluster\n",
    "head(df_during_barriers_dist)"
   ]
  },
  {
   "cell_type": "code",
   "execution_count": 9,
   "metadata": {
    "vscode": {
     "languageId": "r"
    }
   },
   "outputs": [
    {
     "data": {
      "text/html": [
       "1214"
      ],
      "text/latex": [
       "1214"
      ],
      "text/markdown": [
       "1214"
      ],
      "text/plain": [
       "[1] 1214"
      ]
     },
     "metadata": {},
     "output_type": "display_data"
    }
   ],
   "source": [
    "joint <- c(\n",
    "    'PA_barrier_places_closed_dangerous'='PA_barrier_places_closed_dangerous',\n",
    "    'PA_barrier_money' = 'PA_barrier_money',\n",
    "    'PA_barrier_no_interest'='PA_barrier_no_interest',\n",
    "    'PA_barrier_percieve'='PA_barrier_percieve',\n",
    "    'PA_barrier_time' = 'PA_barrier_time',\n",
    "    'PA_barrier_hard' = 'PA_barrier_hard'\n",
    ")\n",
    "\n",
    "df_during_barriers <- left_join(df_during_barriers, df_during_barriers_dist, by = joint)\n",
    "df_during$cluster <- df_during_barriers$cluster\n",
    "df_during_facilitators$cluster <- df_during_barriers$cluster\n",
    "nrow(df_during_barriers)"
   ]
  },
  {
   "cell_type": "code",
   "execution_count": 10,
   "metadata": {
    "vscode": {
     "languageId": "r"
    }
   },
   "outputs": [
    {
     "data": {
      "text/plain": [
       "\n",
       "  1   2   3   4   5 \n",
       " 98 513 120 472  11 "
      ]
     },
     "metadata": {},
     "output_type": "display_data"
    }
   ],
   "source": [
    "table(df_during$cluster)"
   ]
  },
  {
   "cell_type": "markdown",
   "metadata": {},
   "source": [
    "### Profile Plots\n",
    "<hr />"
   ]
  },
  {
   "cell_type": "code",
   "execution_count": null,
   "metadata": {
    "vscode": {
     "languageId": "r"
    }
   },
   "outputs": [],
   "source": [
    "colors <- c('deepskyblue4', 'darkgreen', 'chocolate1', 'blueviolet', 'firebrick4', 'deeppink3', 'darkslategray', \"grey\")\n",
    "create_cluster_histograms(\n",
    "    colors = colors, \n",
    "    df = df_during, \n",
    "    names = names(df_during[, 20:ncol(df_during)-1]),\n",
    "    best_k = best_K_kmodes\n",
    ")\n",
    "create_cluster_histograms(\n",
    "    colors = colors, \n",
    "    df = df_during_facilitators, \n",
    "    names = names(df_during_facilitators[, 1:ncol(df_during_facilitators)-1]),\n",
    "    best_k = best_K_kmodes\n",
    ")"
   ]
  },
  {
   "cell_type": "markdown",
   "metadata": {},
   "source": [
    "#### Modas"
   ]
  },
  {
   "cell_type": "code",
   "execution_count": 12,
   "metadata": {
    "vscode": {
     "languageId": "r"
    }
   },
   "outputs": [
    {
     "data": {
      "text/html": [
       "<table class=\"dataframe\">\n",
       "<caption>A data.frame: 5 × 6</caption>\n",
       "<thead>\n",
       "\t<tr><th></th><th scope=col>PA_barrier_places_closed_dangerous</th><th scope=col>PA_barrier_money</th><th scope=col>PA_barrier_no_interest</th><th scope=col>PA_barrier_percieve</th><th scope=col>PA_barrier_time</th><th scope=col>PA_barrier_hard</th></tr>\n",
       "\t<tr><th></th><th scope=col>&lt;fct&gt;</th><th scope=col>&lt;fct&gt;</th><th scope=col>&lt;fct&gt;</th><th scope=col>&lt;fct&gt;</th><th scope=col>&lt;fct&gt;</th><th scope=col>&lt;fct&gt;</th></tr>\n",
       "</thead>\n",
       "<tbody>\n",
       "\t<tr><th scope=row>1</th><td>1</td><td>1</td><td>1</td><td>0</td><td>1</td><td>1</td></tr>\n",
       "\t<tr><th scope=row>2</th><td>1</td><td>0</td><td>0</td><td>0</td><td>0</td><td>0</td></tr>\n",
       "\t<tr><th scope=row>3</th><td>0</td><td>0</td><td>0</td><td>0</td><td>1</td><td>0</td></tr>\n",
       "\t<tr><th scope=row>4</th><td>0</td><td>0</td><td>0</td><td>0</td><td>0</td><td>0</td></tr>\n",
       "\t<tr><th scope=row>5</th><td>0</td><td>0</td><td>0</td><td>1</td><td>0</td><td>1</td></tr>\n",
       "</tbody>\n",
       "</table>\n"
      ],
      "text/latex": [
       "A data.frame: 5 × 6\n",
       "\\begin{tabular}{r|llllll}\n",
       "  & PA\\_barrier\\_places\\_closed\\_dangerous & PA\\_barrier\\_money & PA\\_barrier\\_no\\_interest & PA\\_barrier\\_percieve & PA\\_barrier\\_time & PA\\_barrier\\_hard\\\\\n",
       "  & <fct> & <fct> & <fct> & <fct> & <fct> & <fct>\\\\\n",
       "\\hline\n",
       "\t1 & 1 & 1 & 1 & 0 & 1 & 1\\\\\n",
       "\t2 & 1 & 0 & 0 & 0 & 0 & 0\\\\\n",
       "\t3 & 0 & 0 & 0 & 0 & 1 & 0\\\\\n",
       "\t4 & 0 & 0 & 0 & 0 & 0 & 0\\\\\n",
       "\t5 & 0 & 0 & 0 & 1 & 0 & 1\\\\\n",
       "\\end{tabular}\n"
      ],
      "text/markdown": [
       "\n",
       "A data.frame: 5 × 6\n",
       "\n",
       "| <!--/--> | PA_barrier_places_closed_dangerous &lt;fct&gt; | PA_barrier_money &lt;fct&gt; | PA_barrier_no_interest &lt;fct&gt; | PA_barrier_percieve &lt;fct&gt; | PA_barrier_time &lt;fct&gt; | PA_barrier_hard &lt;fct&gt; |\n",
       "|---|---|---|---|---|---|---|\n",
       "| 1 | 1 | 1 | 1 | 0 | 1 | 1 |\n",
       "| 2 | 1 | 0 | 0 | 0 | 0 | 0 |\n",
       "| 3 | 0 | 0 | 0 | 0 | 1 | 0 |\n",
       "| 4 | 0 | 0 | 0 | 0 | 0 | 0 |\n",
       "| 5 | 0 | 0 | 0 | 1 | 0 | 1 |\n",
       "\n"
      ],
      "text/plain": [
       "  PA_barrier_places_closed_dangerous PA_barrier_money PA_barrier_no_interest\n",
       "1 1                                  1                1                     \n",
       "2 1                                  0                0                     \n",
       "3 0                                  0                0                     \n",
       "4 0                                  0                0                     \n",
       "5 0                                  0                0                     \n",
       "  PA_barrier_percieve PA_barrier_time PA_barrier_hard\n",
       "1 0                   1               1              \n",
       "2 0                   0               0              \n",
       "3 0                   1               0              \n",
       "4 0                   0               0              \n",
       "5 1                   0               1              "
      ]
     },
     "metadata": {},
     "output_type": "display_data"
    }
   ],
   "source": [
    "chosen_kmode$modes"
   ]
  }
 ],
 "metadata": {
  "kernelspec": {
   "display_name": "R",
   "language": "R",
   "name": "ir"
  },
  "language_info": {
   "codemirror_mode": "r",
   "file_extension": ".r",
   "mimetype": "text/x-r-source",
   "name": "R",
   "pygments_lexer": "r",
   "version": "4.1.0"
  },
  "orig_nbformat": 4,
  "vscode": {
   "interpreter": {
    "hash": "335881d54c8464ab14b4bf0703dc60dd473e9c2417e322fb24b7132b04514daf"
   }
  }
 },
 "nbformat": 4,
 "nbformat_minor": 2
}
