{
 "cells": [
  {
   "cell_type": "markdown",
   "metadata": {},
   "source": [
    "## Importing packages"
   ]
  },
  {
   "cell_type": "code",
   "execution_count": null,
   "metadata": {
    "vscode": {
     "languageId": "r"
    }
   },
   "outputs": [],
   "source": [
    "library(here, help, pos = 2, lib.loc = NULL)\n",
    "source(here('Modules','modules.R'))\n",
    "source(here('Modules','preprocessing_clustering.R'))\n",
    "# install_all_packages()\n",
    "load_library_packages()"
   ]
  },
  {
   "cell_type": "markdown",
   "metadata": {},
   "source": [
    "## Clustering - Kmodes Silhoette"
   ]
  },
  {
   "cell_type": "code",
   "execution_count": 2,
   "metadata": {
    "vscode": {
     "languageId": "r"
    }
   },
   "outputs": [
    {
     "data": {
      "text/html": [
       "33"
      ],
      "text/latex": [
       "33"
      ],
      "text/markdown": [
       "33"
      ],
      "text/plain": [
       "[1] 33"
      ]
     },
     "metadata": {},
     "output_type": "display_data"
    }
   ],
   "source": [
    "df_during_barriers_dist <- distinct(df_during_barriers)\n",
    "nrow(df_during_barriers_dist)"
   ]
  },
  {
   "cell_type": "markdown",
   "metadata": {},
   "source": [
    "### Silhoette \n",
    "<hr />"
   ]
  },
  {
   "cell_type": "code",
   "execution_count": 3,
   "metadata": {
    "vscode": {
     "languageId": "r"
    }
   },
   "outputs": [
    {
     "data": {
      "text/html": [
       "<table class=\"dataframe\">\n",
       "<caption>A matrix: 6 × 33 of type dbl</caption>\n",
       "<tbody>\n",
       "\t<tr><td>0</td><td>1</td><td>2</td><td>1</td><td>1</td><td>2</td><td>2</td><td>2</td><td>2</td><td>3</td><td>...</td><td>2</td><td>3</td><td>4</td><td>4</td><td>1</td><td>4</td><td>3</td><td>3</td><td>3</td><td>5</td></tr>\n",
       "\t<tr><td>1</td><td>0</td><td>3</td><td>2</td><td>2</td><td>3</td><td>3</td><td>1</td><td>3</td><td>2</td><td>...</td><td>3</td><td>4</td><td>3</td><td>3</td><td>2</td><td>5</td><td>4</td><td>2</td><td>2</td><td>4</td></tr>\n",
       "\t<tr><td>2</td><td>3</td><td>0</td><td>3</td><td>3</td><td>2</td><td>2</td><td>4</td><td>4</td><td>3</td><td>...</td><td>2</td><td>3</td><td>2</td><td>4</td><td>1</td><td>2</td><td>3</td><td>5</td><td>3</td><td>3</td></tr>\n",
       "\t<tr><td>1</td><td>2</td><td>3</td><td>0</td><td>2</td><td>1</td><td>1</td><td>1</td><td>1</td><td>2</td><td>...</td><td>3</td><td>2</td><td>3</td><td>3</td><td>2</td><td>3</td><td>4</td><td>2</td><td>4</td><td>4</td></tr>\n",
       "\t<tr><td>1</td><td>2</td><td>3</td><td>2</td><td>0</td><td>3</td><td>3</td><td>3</td><td>1</td><td>4</td><td>...</td><td>3</td><td>4</td><td>5</td><td>5</td><td>2</td><td>3</td><td>2</td><td>2</td><td>4</td><td>4</td></tr>\n",
       "\t<tr><td>2</td><td>3</td><td>2</td><td>1</td><td>3</td><td>0</td><td>2</td><td>2</td><td>2</td><td>1</td><td>...</td><td>2</td><td>1</td><td>2</td><td>2</td><td>1</td><td>2</td><td>3</td><td>3</td><td>3</td><td>3</td></tr>\n",
       "</tbody>\n",
       "</table>\n"
      ],
      "text/latex": [
       "A matrix: 6 × 33 of type dbl\n",
       "\\begin{tabular}{lllllllllllllllllllll}\n",
       "\t 0 & 1 & 2 & 1 & 1 & 2 & 2 & 2 & 2 & 3 & ... & 2 & 3 & 4 & 4 & 1 & 4 & 3 & 3 & 3 & 5\\\\\n",
       "\t 1 & 0 & 3 & 2 & 2 & 3 & 3 & 1 & 3 & 2 & ... & 3 & 4 & 3 & 3 & 2 & 5 & 4 & 2 & 2 & 4\\\\\n",
       "\t 2 & 3 & 0 & 3 & 3 & 2 & 2 & 4 & 4 & 3 & ... & 2 & 3 & 2 & 4 & 1 & 2 & 3 & 5 & 3 & 3\\\\\n",
       "\t 1 & 2 & 3 & 0 & 2 & 1 & 1 & 1 & 1 & 2 & ... & 3 & 2 & 3 & 3 & 2 & 3 & 4 & 2 & 4 & 4\\\\\n",
       "\t 1 & 2 & 3 & 2 & 0 & 3 & 3 & 3 & 1 & 4 & ... & 3 & 4 & 5 & 5 & 2 & 3 & 2 & 2 & 4 & 4\\\\\n",
       "\t 2 & 3 & 2 & 1 & 3 & 0 & 2 & 2 & 2 & 1 & ... & 2 & 1 & 2 & 2 & 1 & 2 & 3 & 3 & 3 & 3\\\\\n",
       "\\end{tabular}\n"
      ],
      "text/markdown": [
       "\n",
       "A matrix: 6 × 33 of type dbl\n",
       "\n",
       "| 0 | 1 | 2 | 1 | 1 | 2 | 2 | 2 | 2 | 3 | ... | 2 | 3 | 4 | 4 | 1 | 4 | 3 | 3 | 3 | 5 |\n",
       "| 1 | 0 | 3 | 2 | 2 | 3 | 3 | 1 | 3 | 2 | ... | 3 | 4 | 3 | 3 | 2 | 5 | 4 | 2 | 2 | 4 |\n",
       "| 2 | 3 | 0 | 3 | 3 | 2 | 2 | 4 | 4 | 3 | ... | 2 | 3 | 2 | 4 | 1 | 2 | 3 | 5 | 3 | 3 |\n",
       "| 1 | 2 | 3 | 0 | 2 | 1 | 1 | 1 | 1 | 2 | ... | 3 | 2 | 3 | 3 | 2 | 3 | 4 | 2 | 4 | 4 |\n",
       "| 1 | 2 | 3 | 2 | 0 | 3 | 3 | 3 | 1 | 4 | ... | 3 | 4 | 5 | 5 | 2 | 3 | 2 | 2 | 4 | 4 |\n",
       "| 2 | 3 | 2 | 1 | 3 | 0 | 2 | 2 | 2 | 1 | ... | 2 | 1 | 2 | 2 | 1 | 2 | 3 | 3 | 3 | 3 |\n",
       "\n"
      ],
      "text/plain": [
       "     [,1] [,2] [,3] [,4] [,5] [,6] [,7] [,8] [,9] [,10] [,11] [,12] [,13] [,14]\n",
       "[1,] 0    1    2    1    1    2    2    2    2    3     ...   2     3     4    \n",
       "[2,] 1    0    3    2    2    3    3    1    3    2     ...   3     4     3    \n",
       "[3,] 2    3    0    3    3    2    2    4    4    3     ...   2     3     2    \n",
       "[4,] 1    2    3    0    2    1    1    1    1    2     ...   3     2     3    \n",
       "[5,] 1    2    3    2    0    3    3    3    1    4     ...   3     4     5    \n",
       "[6,] 2    3    2    1    3    0    2    2    2    1     ...   2     1     2    \n",
       "     [,15] [,16] [,17] [,18] [,19] [,20] [,21]\n",
       "[1,] 4     1     4     3     3     3     5    \n",
       "[2,] 3     2     5     4     2     2     4    \n",
       "[3,] 4     1     2     3     5     3     3    \n",
       "[4,] 3     2     3     4     2     4     4    \n",
       "[5,] 5     2     3     2     2     4     4    \n",
       "[6,] 2     1     2     3     3     3     3    "
      ]
     },
     "metadata": {},
     "output_type": "display_data"
    }
   ],
   "source": [
    "df_matrix <- data.matrix(df_during_barriers_dist) - 1\n",
    "similarity_matrix <- df_matrix %*% t(df_matrix) + ((!df_matrix) + 0) %*% ((!t(df_matrix)) + 0)\n",
    "dissimilarity_matrix <- ncol(df_during_barriers_dist) - similarity_matrix\n",
    "head(dissimilarity_matrix)"
   ]
  },
  {
   "cell_type": "markdown",
   "metadata": {},
   "source": [
    "#### Scanning parameters\n"
   ]
  },
  {
   "cell_type": "code",
   "execution_count": 4,
   "metadata": {
    "vscode": {
     "languageId": "r"
    }
   },
   "outputs": [],
   "source": [
    "nseed <- 1000\n",
    "nk <- nrow(distinct(df_during_barriers))\n",
    "# ks_by_seed <- data.frame(matrix(NA, nrow = nseed, ncol = nk-1))\n",
    "# for (seed in 1:nseed) {\n",
    "#     silhouette_scs <- c()\n",
    "#     for (k in 2:nk) {\n",
    "#         sc <- silhouette_values_kmodes(\n",
    "#             num_clusters = k,\n",
    "#             df = df_during_barriers_dist,\n",
    "#             diss_matrix = dissimilarity_matrix,\n",
    "#             iters = 200,\n",
    "#             s = seed)[[1]]\n",
    "\n",
    "#         silhouette_scs <- append(silhouette_scs, sc)\n",
    "#     }\n",
    "\n",
    "#     ks_by_seed[seed, ] <- silhouette_scs\n",
    "# }\n",
    "\n",
    "# write.csv(\n",
    "#     ks_by_seed,\n",
    "#     \"../../Data/silhouette_kmodes_barriers.csv\", row.names = FALSE\n",
    "# )"
   ]
  },
  {
   "cell_type": "markdown",
   "metadata": {},
   "source": [
    "#### Results"
   ]
  },
  {
   "cell_type": "code",
   "execution_count": 5,
   "metadata": {
    "vscode": {
     "languageId": "r"
    }
   },
   "outputs": [
    {
     "data": {
      "text/html": [
       "<table class=\"dataframe\">\n",
       "<caption>A data.frame: 6 × 33</caption>\n",
       "<thead>\n",
       "\t<tr><th></th><th scope=col>2</th><th scope=col>3</th><th scope=col>4</th><th scope=col>5</th><th scope=col>6</th><th scope=col>7</th><th scope=col>8</th><th scope=col>9</th><th scope=col>10</th><th scope=col>11</th><th scope=col>...</th><th scope=col>25</th><th scope=col>26</th><th scope=col>27</th><th scope=col>28</th><th scope=col>29</th><th scope=col>30</th><th scope=col>31</th><th scope=col>32</th><th scope=col>33</th><th scope=col>seed</th></tr>\n",
       "\t<tr><th></th><th scope=col>&lt;dbl&gt;</th><th scope=col>&lt;dbl&gt;</th><th scope=col>&lt;dbl&gt;</th><th scope=col>&lt;dbl&gt;</th><th scope=col>&lt;dbl&gt;</th><th scope=col>&lt;dbl&gt;</th><th scope=col>&lt;dbl&gt;</th><th scope=col>&lt;dbl&gt;</th><th scope=col>&lt;dbl&gt;</th><th scope=col>&lt;dbl&gt;</th><th scope=col>...</th><th scope=col>&lt;dbl&gt;</th><th scope=col>&lt;dbl&gt;</th><th scope=col>&lt;dbl&gt;</th><th scope=col>&lt;dbl&gt;</th><th scope=col>&lt;dbl&gt;</th><th scope=col>&lt;dbl&gt;</th><th scope=col>&lt;dbl&gt;</th><th scope=col>&lt;dbl&gt;</th><th scope=col>&lt;int&gt;</th><th scope=col>&lt;int&gt;</th></tr>\n",
       "</thead>\n",
       "<tbody>\n",
       "\t<tr><th scope=row>1</th><td>0.2881323</td><td>0.2665527</td><td>0.3439010</td><td>0.3234731</td><td>0.2598644</td><td>0.2622731</td><td>0.3022880</td><td>0.3467709</td><td>0.3451242</td><td>0.3287365</td><td>...</td><td>0.07575758</td><td>0.06060606</td><td>0.11085859</td><td>0.11515152</td><td>0.06060606</td><td>0.04545455</td><td>0.03030303</td><td>0.01515152</td><td>0</td><td>1</td></tr>\n",
       "\t<tr><th scope=row>2</th><td>0.1618269</td><td>0.2229722</td><td>0.2944947</td><td>0.2539509</td><td>0.3555802</td><td>0.3244430</td><td>0.2319111</td><td>0.2256046</td><td>0.2781298</td><td>0.2671375</td><td>...</td><td>0.10101010</td><td>0.08080808</td><td>0.07575758</td><td>0.07575758</td><td>0.06060606</td><td>0.04545455</td><td>0.03030303</td><td>0.01515152</td><td>0</td><td>2</td></tr>\n",
       "\t<tr><th scope=row>3</th><td>0.1962519</td><td>0.2000461</td><td>0.3142417</td><td>0.1911691</td><td>0.2510887</td><td>0.3602603</td><td>0.3275163</td><td>0.2733918</td><td>0.2340142</td><td>0.1997584</td><td>...</td><td>0.11085859</td><td>0.09570707</td><td>0.09570707</td><td>0.04545455</td><td>0.03030303</td><td>0.03030303</td><td>0.03030303</td><td>0.01515152</td><td>0</td><td>3</td></tr>\n",
       "\t<tr><th scope=row>4</th><td>0.1850108</td><td>0.1619804</td><td>0.2151636</td><td>0.3139007</td><td>0.3307145</td><td>0.3642887</td><td>0.2866069</td><td>0.2470239</td><td>0.2869228</td><td>0.2821110</td><td>...</td><td>0.14545455</td><td>0.10404040</td><td>0.10404040</td><td>0.07575758</td><td>0.06060606</td><td>0.04545455</td><td>0.03030303</td><td>0.01515152</td><td>0</td><td>4</td></tr>\n",
       "\t<tr><th scope=row>5</th><td>0.1860313</td><td>0.3223982</td><td>0.3547553</td><td>0.2991001</td><td>0.3337294</td><td>0.2834828</td><td>0.2115434</td><td>0.2516087</td><td>0.2488353</td><td>0.2627591</td><td>...</td><td>0.08888889</td><td>0.06060606</td><td>0.07575758</td><td>0.07575758</td><td>0.06060606</td><td>0.04545455</td><td>0.03030303</td><td>0.01515152</td><td>0</td><td>5</td></tr>\n",
       "\t<tr><th scope=row>6</th><td>0.2032734</td><td>0.2619444</td><td>0.3158120</td><td>0.2545863</td><td>0.1586734</td><td>0.2000767</td><td>0.2000767</td><td>0.2002438</td><td>0.2337434</td><td>0.2382888</td><td>...</td><td>0.16818182</td><td>0.16818182</td><td>0.12676768</td><td>0.11161616</td><td>0.06060606</td><td>0.04545455</td><td>0.03030303</td><td>0.01515152</td><td>0</td><td>6</td></tr>\n",
       "</tbody>\n",
       "</table>\n"
      ],
      "text/latex": [
       "A data.frame: 6 × 33\n",
       "\\begin{tabular}{r|lllllllllllllllllllll}\n",
       "  & 2 & 3 & 4 & 5 & 6 & 7 & 8 & 9 & 10 & 11 & ... & 25 & 26 & 27 & 28 & 29 & 30 & 31 & 32 & 33 & seed\\\\\n",
       "  & <dbl> & <dbl> & <dbl> & <dbl> & <dbl> & <dbl> & <dbl> & <dbl> & <dbl> & <dbl> & ... & <dbl> & <dbl> & <dbl> & <dbl> & <dbl> & <dbl> & <dbl> & <dbl> & <int> & <int>\\\\\n",
       "\\hline\n",
       "\t1 & 0.2881323 & 0.2665527 & 0.3439010 & 0.3234731 & 0.2598644 & 0.2622731 & 0.3022880 & 0.3467709 & 0.3451242 & 0.3287365 & ... & 0.07575758 & 0.06060606 & 0.11085859 & 0.11515152 & 0.06060606 & 0.04545455 & 0.03030303 & 0.01515152 & 0 & 1\\\\\n",
       "\t2 & 0.1618269 & 0.2229722 & 0.2944947 & 0.2539509 & 0.3555802 & 0.3244430 & 0.2319111 & 0.2256046 & 0.2781298 & 0.2671375 & ... & 0.10101010 & 0.08080808 & 0.07575758 & 0.07575758 & 0.06060606 & 0.04545455 & 0.03030303 & 0.01515152 & 0 & 2\\\\\n",
       "\t3 & 0.1962519 & 0.2000461 & 0.3142417 & 0.1911691 & 0.2510887 & 0.3602603 & 0.3275163 & 0.2733918 & 0.2340142 & 0.1997584 & ... & 0.11085859 & 0.09570707 & 0.09570707 & 0.04545455 & 0.03030303 & 0.03030303 & 0.03030303 & 0.01515152 & 0 & 3\\\\\n",
       "\t4 & 0.1850108 & 0.1619804 & 0.2151636 & 0.3139007 & 0.3307145 & 0.3642887 & 0.2866069 & 0.2470239 & 0.2869228 & 0.2821110 & ... & 0.14545455 & 0.10404040 & 0.10404040 & 0.07575758 & 0.06060606 & 0.04545455 & 0.03030303 & 0.01515152 & 0 & 4\\\\\n",
       "\t5 & 0.1860313 & 0.3223982 & 0.3547553 & 0.2991001 & 0.3337294 & 0.2834828 & 0.2115434 & 0.2516087 & 0.2488353 & 0.2627591 & ... & 0.08888889 & 0.06060606 & 0.07575758 & 0.07575758 & 0.06060606 & 0.04545455 & 0.03030303 & 0.01515152 & 0 & 5\\\\\n",
       "\t6 & 0.2032734 & 0.2619444 & 0.3158120 & 0.2545863 & 0.1586734 & 0.2000767 & 0.2000767 & 0.2002438 & 0.2337434 & 0.2382888 & ... & 0.16818182 & 0.16818182 & 0.12676768 & 0.11161616 & 0.06060606 & 0.04545455 & 0.03030303 & 0.01515152 & 0 & 6\\\\\n",
       "\\end{tabular}\n"
      ],
      "text/markdown": [
       "\n",
       "A data.frame: 6 × 33\n",
       "\n",
       "| <!--/--> | 2 &lt;dbl&gt; | 3 &lt;dbl&gt; | 4 &lt;dbl&gt; | 5 &lt;dbl&gt; | 6 &lt;dbl&gt; | 7 &lt;dbl&gt; | 8 &lt;dbl&gt; | 9 &lt;dbl&gt; | 10 &lt;dbl&gt; | 11 &lt;dbl&gt; | ... ... | 25 &lt;dbl&gt; | 26 &lt;dbl&gt; | 27 &lt;dbl&gt; | 28 &lt;dbl&gt; | 29 &lt;dbl&gt; | 30 &lt;dbl&gt; | 31 &lt;dbl&gt; | 32 &lt;dbl&gt; | 33 &lt;int&gt; | seed &lt;int&gt; |\n",
       "|---|---|---|---|---|---|---|---|---|---|---|---|---|---|---|---|---|---|---|---|---|---|\n",
       "| 1 | 0.2881323 | 0.2665527 | 0.3439010 | 0.3234731 | 0.2598644 | 0.2622731 | 0.3022880 | 0.3467709 | 0.3451242 | 0.3287365 | ... | 0.07575758 | 0.06060606 | 0.11085859 | 0.11515152 | 0.06060606 | 0.04545455 | 0.03030303 | 0.01515152 | 0 | 1 |\n",
       "| 2 | 0.1618269 | 0.2229722 | 0.2944947 | 0.2539509 | 0.3555802 | 0.3244430 | 0.2319111 | 0.2256046 | 0.2781298 | 0.2671375 | ... | 0.10101010 | 0.08080808 | 0.07575758 | 0.07575758 | 0.06060606 | 0.04545455 | 0.03030303 | 0.01515152 | 0 | 2 |\n",
       "| 3 | 0.1962519 | 0.2000461 | 0.3142417 | 0.1911691 | 0.2510887 | 0.3602603 | 0.3275163 | 0.2733918 | 0.2340142 | 0.1997584 | ... | 0.11085859 | 0.09570707 | 0.09570707 | 0.04545455 | 0.03030303 | 0.03030303 | 0.03030303 | 0.01515152 | 0 | 3 |\n",
       "| 4 | 0.1850108 | 0.1619804 | 0.2151636 | 0.3139007 | 0.3307145 | 0.3642887 | 0.2866069 | 0.2470239 | 0.2869228 | 0.2821110 | ... | 0.14545455 | 0.10404040 | 0.10404040 | 0.07575758 | 0.06060606 | 0.04545455 | 0.03030303 | 0.01515152 | 0 | 4 |\n",
       "| 5 | 0.1860313 | 0.3223982 | 0.3547553 | 0.2991001 | 0.3337294 | 0.2834828 | 0.2115434 | 0.2516087 | 0.2488353 | 0.2627591 | ... | 0.08888889 | 0.06060606 | 0.07575758 | 0.07575758 | 0.06060606 | 0.04545455 | 0.03030303 | 0.01515152 | 0 | 5 |\n",
       "| 6 | 0.2032734 | 0.2619444 | 0.3158120 | 0.2545863 | 0.1586734 | 0.2000767 | 0.2000767 | 0.2002438 | 0.2337434 | 0.2382888 | ... | 0.16818182 | 0.16818182 | 0.12676768 | 0.11161616 | 0.06060606 | 0.04545455 | 0.03030303 | 0.01515152 | 0 | 6 |\n",
       "\n"
      ],
      "text/plain": [
       "  2         3         4         5         6         7         8        \n",
       "1 0.2881323 0.2665527 0.3439010 0.3234731 0.2598644 0.2622731 0.3022880\n",
       "2 0.1618269 0.2229722 0.2944947 0.2539509 0.3555802 0.3244430 0.2319111\n",
       "3 0.1962519 0.2000461 0.3142417 0.1911691 0.2510887 0.3602603 0.3275163\n",
       "4 0.1850108 0.1619804 0.2151636 0.3139007 0.3307145 0.3642887 0.2866069\n",
       "5 0.1860313 0.3223982 0.3547553 0.2991001 0.3337294 0.2834828 0.2115434\n",
       "6 0.2032734 0.2619444 0.3158120 0.2545863 0.1586734 0.2000767 0.2000767\n",
       "  9         10        11        ... 25         26         27         28        \n",
       "1 0.3467709 0.3451242 0.3287365 ... 0.07575758 0.06060606 0.11085859 0.11515152\n",
       "2 0.2256046 0.2781298 0.2671375 ... 0.10101010 0.08080808 0.07575758 0.07575758\n",
       "3 0.2733918 0.2340142 0.1997584 ... 0.11085859 0.09570707 0.09570707 0.04545455\n",
       "4 0.2470239 0.2869228 0.2821110 ... 0.14545455 0.10404040 0.10404040 0.07575758\n",
       "5 0.2516087 0.2488353 0.2627591 ... 0.08888889 0.06060606 0.07575758 0.07575758\n",
       "6 0.2002438 0.2337434 0.2382888 ... 0.16818182 0.16818182 0.12676768 0.11161616\n",
       "  29         30         31         32         33 seed\n",
       "1 0.06060606 0.04545455 0.03030303 0.01515152 0  1   \n",
       "2 0.06060606 0.04545455 0.03030303 0.01515152 0  2   \n",
       "3 0.03030303 0.03030303 0.03030303 0.01515152 0  3   \n",
       "4 0.06060606 0.04545455 0.03030303 0.01515152 0  4   \n",
       "5 0.06060606 0.04545455 0.03030303 0.01515152 0  5   \n",
       "6 0.06060606 0.04545455 0.03030303 0.01515152 0  6   "
      ]
     },
     "metadata": {},
     "output_type": "display_data"
    }
   ],
   "source": [
    "scs <- read.csv(\"../../Data/silhouette_kmodes_barriers.csv\")\n",
    "scs[, ncol(scs)+1] <-  seq.int(nrow(scs))\n",
    "colnames(scs) <- append(2:nrow(distinct(df_during_barriers)), \"seed\")\n",
    "head(scs)"
   ]
  },
  {
   "cell_type": "code",
   "execution_count": 9,
   "metadata": {
    "vscode": {
     "languageId": "r"
    }
   },
   "outputs": [],
   "source": [
    "# options(repr.plot.width=20, repr.plot.height=10)\n",
    "# ggplot(\n",
    "#    data=melt(scs, id.vars='seed'), aes(x = variable, y = value)\n",
    "# ) + geom_point() + facet_wrap(~ seed) \n"
   ]
  },
  {
   "cell_type": "markdown",
   "metadata": {},
   "source": [
    "####  Best K and best seed by highest sample mean"
   ]
  },
  {
   "cell_type": "code",
   "execution_count": 6,
   "metadata": {
    "vscode": {
     "languageId": "r"
    }
   },
   "outputs": [
    {
     "name": "stdout",
     "output_type": "stream",
     "text": [
      "[1] \"Best K\"\n",
      "[1] 8\n",
      "[1] \"Best Seed\"\n",
      "[1] 911\n",
      "[1] \"Silhouette\"\n",
      "[1] 0.4432984\n"
     ]
    }
   ],
   "source": [
    "print(\"Best K\")\n",
    "best_K_kmodes <- match(max(apply(scs, 2, mean)[1:ncol(scs)-1]), apply(scs, 2, mean)) + 1\n",
    "print(best_K_kmodes)\n",
    "print(\"Best Seed\")\n",
    "best_seed_kmodes <- match(max(scs[, best_K_kmodes-1]), scs[, best_K_kmodes-1])\n",
    "print(best_seed_kmodes)\n",
    "print(\"Silhouette\")\n",
    "print(max(scs[, best_K_kmodes-1]))"
   ]
  },
  {
   "cell_type": "code",
   "execution_count": 9,
   "metadata": {
    "vscode": {
     "languageId": "r"
    }
   },
   "outputs": [
    {
     "data": {
      "text/html": [
       "<style>\n",
       ".dl-inline {width: auto; margin:0; padding: 0}\n",
       ".dl-inline>dt, .dl-inline>dd {float: none; width: auto; display: inline-block}\n",
       ".dl-inline>dt::after {content: \":\\0020\"; padding-right: .5ex}\n",
       ".dl-inline>dt:not(:first-of-type) {padding-left: .5ex}\n",
       "</style><dl class=dl-inline><dt>33</dt><dd>0</dd><dt>32</dt><dd>0.0151515151515152</dd><dt>31</dt><dd>0.0302555555555556</dd><dt>30</dt><dd>0.0443882154882155</dd><dt>29</dt><dd>0.0580343871616599</dd><dt>28</dt><dd>0.0715451965542875</dd><dt>27</dt><dd>0.0854861105645196</dd><dt>26</dt><dd>0.0984915525551889</dd><dt>25</dt><dd>0.11182100498127</dd><dt>24</dt><dd>0.123335473729413</dd><dt>23</dt><dd>0.135538149806554</dd><dt>22</dt><dd>0.147755952173693</dd><dt>21</dt><dd>0.16034769789965</dd><dt>20</dt><dd>0.17223345852693</dd><dt>19</dt><dd>0.184875068032631</dd><dt>18</dt><dd>0.196618485743391</dd><dt>2</dt><dd>0.203292933165922</dd><dt>17</dt><dd>0.208919685521164</dd><dt>16</dt><dd>0.221195643461396</dd><dt>15</dt><dd>0.23463323741452</dd><dt>14</dt><dd>0.247692851669922</dd><dt>3</dt><dd>0.248786373080092</dd><dt>13</dt><dd>0.259388718663559</dd><dt>12</dt><dd>0.27100461504316</dd><dt>4</dt><dd>0.276491350384422</dd><dt>11</dt><dd>0.283639167384816</dd><dt>5</dt><dd>0.291439168727955</dd><dt>10</dt><dd>0.293502709382802</dd><dt>6</dt><dd>0.29900794229982</dd><dt>9</dt><dd>0.29974829189176</dd><dt>7</dt><dd>0.302811756859138</dd><dt>8</dt><dd>0.303821107015559</dd></dl>\n"
      ],
      "text/latex": [
       "\\begin{description*}\n",
       "\\item[33] 0\n",
       "\\item[32] 0.0151515151515152\n",
       "\\item[31] 0.0302555555555556\n",
       "\\item[30] 0.0443882154882155\n",
       "\\item[29] 0.0580343871616599\n",
       "\\item[28] 0.0715451965542875\n",
       "\\item[27] 0.0854861105645196\n",
       "\\item[26] 0.0984915525551889\n",
       "\\item[25] 0.11182100498127\n",
       "\\item[24] 0.123335473729413\n",
       "\\item[23] 0.135538149806554\n",
       "\\item[22] 0.147755952173693\n",
       "\\item[21] 0.16034769789965\n",
       "\\item[20] 0.17223345852693\n",
       "\\item[19] 0.184875068032631\n",
       "\\item[18] 0.196618485743391\n",
       "\\item[2] 0.203292933165922\n",
       "\\item[17] 0.208919685521164\n",
       "\\item[16] 0.221195643461396\n",
       "\\item[15] 0.23463323741452\n",
       "\\item[14] 0.247692851669922\n",
       "\\item[3] 0.248786373080092\n",
       "\\item[13] 0.259388718663559\n",
       "\\item[12] 0.27100461504316\n",
       "\\item[4] 0.276491350384422\n",
       "\\item[11] 0.283639167384816\n",
       "\\item[5] 0.291439168727955\n",
       "\\item[10] 0.293502709382802\n",
       "\\item[6] 0.29900794229982\n",
       "\\item[9] 0.29974829189176\n",
       "\\item[7] 0.302811756859138\n",
       "\\item[8] 0.303821107015559\n",
       "\\end{description*}\n"
      ],
      "text/markdown": [
       "33\n",
       ":   032\n",
       ":   0.015151515151515231\n",
       ":   0.030255555555555630\n",
       ":   0.044388215488215529\n",
       ":   0.058034387161659928\n",
       ":   0.071545196554287527\n",
       ":   0.085486110564519626\n",
       ":   0.098491552555188925\n",
       ":   0.1118210049812724\n",
       ":   0.12333547372941323\n",
       ":   0.13553814980655422\n",
       ":   0.14775595217369321\n",
       ":   0.1603476978996520\n",
       ":   0.1722334585269319\n",
       ":   0.18487506803263118\n",
       ":   0.1966184857433912\n",
       ":   0.20329293316592217\n",
       ":   0.20891968552116416\n",
       ":   0.22119564346139615\n",
       ":   0.2346332374145214\n",
       ":   0.2476928516699223\n",
       ":   0.24878637308009213\n",
       ":   0.25938871866355912\n",
       ":   0.271004615043164\n",
       ":   0.27649135038442211\n",
       ":   0.2836391673848165\n",
       ":   0.29143916872795510\n",
       ":   0.2935027093828026\n",
       ":   0.299007942299829\n",
       ":   0.299748291891767\n",
       ":   0.3028117568591388\n",
       ":   0.303821107015559\n",
       "\n"
      ],
      "text/plain": [
       "        33         32         31         30         29         28         27 \n",
       "0.00000000 0.01515152 0.03025556 0.04438822 0.05803439 0.07154520 0.08548611 \n",
       "        26         25         24         23         22         21         20 \n",
       "0.09849155 0.11182100 0.12333547 0.13553815 0.14775595 0.16034770 0.17223346 \n",
       "        19         18          2         17         16         15         14 \n",
       "0.18487507 0.19661849 0.20329293 0.20891969 0.22119564 0.23463324 0.24769285 \n",
       "         3         13         12          4         11          5         10 \n",
       "0.24878637 0.25938872 0.27100462 0.27649135 0.28363917 0.29143917 0.29350271 \n",
       "         6          9          7          8 \n",
       "0.29900794 0.29974829 0.30281176 0.30382111 "
      ]
     },
     "metadata": {},
     "output_type": "display_data"
    }
   ],
   "source": [
    "apply(scs, 2, mean)[1:ncol(scs)-1][order(apply(scs, 2, mean)[1:ncol(scs)-1])]"
   ]
  },
  {
   "cell_type": "markdown",
   "metadata": {},
   "source": [
    "#### Evaluating the silhuette coefficient for best seed"
   ]
  },
  {
   "cell_type": "code",
   "execution_count": 16,
   "metadata": {
    "vscode": {
     "languageId": "r"
    }
   },
   "outputs": [
    {
     "name": "stdout",
     "output_type": "stream",
     "text": [
      " [1] 0.58750000 0.08928571 0.36250000 0.55000000 0.40000000 0.14285714\n",
      " [7] 0.43750000 0.14285714 0.08928571 0.44615385 0.46666667 0.31428571\n",
      "[13] 0.34545455 0.28000000 0.36470588 0.46428571 0.51785714 0.38636364\n",
      "[19] 0.45689655 0.40000000 0.50000000 0.47826087 0.63636364 0.62500000\n",
      "[25] 0.43750000 0.52631579 0.43750000 0.67857143 0.60869565 0.57142857\n",
      "[31] 0.59090909 0.64000000 0.65384615\n",
      "character(0)\n",
      "numeric(0)\n"
     ]
    }
   ],
   "source": [
    "source(here('Modules','modules.R'))\n",
    "silhoutte_result <-  silhouette_values_kmodes(num_clusters=8, df=df_during_barriers_dist, diss_matrix=dissimilarity_matrix, iters=200, s=911)"
   ]
  },
  {
   "cell_type": "code",
   "execution_count": 12,
   "metadata": {
    "vscode": {
     "languageId": "r"
    }
   },
   "outputs": [
    {
     "data": {
      "text/html": [],
      "text/latex": [],
      "text/markdown": [],
      "text/plain": [
       "numeric(0)"
      ]
     },
     "metadata": {},
     "output_type": "display_data"
    }
   ],
   "source": [
    "silhoutte_result[[2]]"
   ]
  },
  {
   "cell_type": "code",
   "execution_count": 10,
   "metadata": {
    "vscode": {
     "languageId": "r"
    }
   },
   "outputs": [
    {
     "ename": "ERROR",
     "evalue": "Error in data.frame(coef = silhoutte_result[[2]], clust = silhoutte_result[[3]]$cluster): arguments imply differing number of rows: 0, 33\n",
     "output_type": "error",
     "traceback": [
      "Error in data.frame(coef = silhoutte_result[[2]], clust = silhoutte_result[[3]]$cluster): arguments imply differing number of rows: 0, 33\nTraceback:\n",
      "1. data.frame(coef = silhoutte_result[[2]], clust = silhoutte_result[[3]]$cluster)",
      "2. stop(gettextf(\"arguments imply differing number of rows: %s\", \n .     paste(unique(nrows), collapse = \", \")), domain = NA)"
     ]
    }
   ],
   "source": [
    "silhoutte_result <-  silhouette_values_kmodes(num_clusters=8, df=df_during_barriers_dist, diss_matrix=dissimilarity_matrix, iters=200, s=911)\n",
    "coef_data <- data.frame(coef=silhoutte_result[[2]], clust=silhoutte_result[[3]]$cluster)\n",
    "coef_data <- coef_data[order(coef_data$coef, decreasing=TRUE), ]\n",
    "coef_data <- coef_data[order(coef_data$clust, decreasing=TRUE), ]\n",
    "coef_data$clust <- as.factor(coef_data$clust )\n",
    "coef_data$ID <- seq.int(nrow(coef_data))\n",
    "\n",
    "ggplot(data = coef_data, aes(y=coef, x=ID, fill=clust)) + \n",
    "  geom_bar(stat = \"identity\") + \n",
    "  geom_hline(yintercept=mean(coef_data$coef), linetype=\"dashed\", color = \"red\") + \n",
    "  coord_flip() + \n",
    "  scale_x_reverse() + \n",
    "  theme(panel.grid.major = element_blank(), panel.grid.minor = element_blank())"
   ]
  },
  {
   "cell_type": "code",
   "execution_count": 12,
   "metadata": {
    "vscode": {
     "languageId": "r"
    }
   },
   "outputs": [],
   "source": [
    "# silhoutte_result <-  silhouette_values(num_clusters=4, df=df_during, diss_matrix=dissimilarity_matrix, iters=200, s=62)\n",
    "# coef_data <- data.frame(coef=silhoutte_result[[2]], clust=silhoutte_result[[3]]$cluster)\n",
    "# coef_data <- coef_data[order(coef_data$coef, decreasing=TRUE), ]\n",
    "# coef_data <- coef_data[order(coef_data$clust, decreasing=TRUE), ]\n",
    "# coef_data$clust <- as.factor(coef_data$clust )\n",
    "# coef_data$ID <- seq.int(nrow(coef_data))\n",
    "\n",
    "# ggplot(data = coef_data, aes(y=coef, x=ID, fill=clust)) + \n",
    "#   geom_bar(stat = \"identity\") + \n",
    "#   geom_hline(yintercept=mean(coef_data$coef), linetype=\"dashed\", color = \"red\") + \n",
    "#   coord_flip() + \n",
    "#   scale_x_reverse() "
   ]
  },
  {
   "cell_type": "code",
   "execution_count": 13,
   "metadata": {
    "vscode": {
     "languageId": "r"
    }
   },
   "outputs": [],
   "source": [
    "# silhoutte_result <-  silhouette_values(num_clusters=3, df=df_during, diss_matrix=dissimilarity_matrix, iters=200, s=13)\n",
    "# coef_data <- data.frame(coef=silhoutte_result[[2]], clust=silhoutte_result[[3]]$cluster)\n",
    "# coef_data <- coef_data[order(coef_data$coef, decreasing=TRUE), ]\n",
    "# coef_data <- coef_data[order(coef_data$clust, decreasing=TRUE), ]\n",
    "# coef_data$clust <- as.factor(coef_data$clust )\n",
    "# coef_data$ID <- seq.int(nrow(coef_data))\n",
    "\n",
    "# ggplot(data = coef_data, aes(y=coef, x=ID, fill=clust)) + \n",
    "#   geom_bar(stat = \"identity\") + \n",
    "#   geom_hline(yintercept=mean(coef_data$coef), linetype=\"dashed\", color = \"red\") + \n",
    "#   coord_flip() + \n",
    "#   scale_x_reverse() "
   ]
  },
  {
   "cell_type": "markdown",
   "metadata": {},
   "source": [
    "## Exploring Kmodes best k"
   ]
  },
  {
   "cell_type": "code",
   "execution_count": 14,
   "metadata": {
    "vscode": {
     "languageId": "r"
    }
   },
   "outputs": [
    {
     "data": {
      "text/html": [
       "<table class=\"dataframe\">\n",
       "<caption>A data.frame: 6 × 7</caption>\n",
       "<thead>\n",
       "\t<tr><th></th><th scope=col>PA_barrier_places_closed_dangerous</th><th scope=col>PA_barrier_money</th><th scope=col>PA_barrier_no_interest</th><th scope=col>PA_barrier_percieve</th><th scope=col>PA_barrier_time</th><th scope=col>PA_barrier_hard</th><th scope=col>cluster</th></tr>\n",
       "\t<tr><th></th><th scope=col>&lt;fct&gt;</th><th scope=col>&lt;fct&gt;</th><th scope=col>&lt;fct&gt;</th><th scope=col>&lt;fct&gt;</th><th scope=col>&lt;dbl&gt;</th><th scope=col>&lt;dbl&gt;</th><th scope=col>&lt;int&gt;</th></tr>\n",
       "</thead>\n",
       "<tbody>\n",
       "\t<tr><th scope=row>1</th><td>1</td><td>0</td><td>0</td><td>0</td><td>0</td><td>0</td><td>3</td></tr>\n",
       "\t<tr><th scope=row>2</th><td>1</td><td>0</td><td>1</td><td>0</td><td>0</td><td>0</td><td>3</td></tr>\n",
       "\t<tr><th scope=row>3</th><td>0</td><td>0</td><td>0</td><td>0</td><td>1</td><td>0</td><td>1</td></tr>\n",
       "\t<tr><th scope=row>4</th><td>1</td><td>0</td><td>0</td><td>0</td><td>0</td><td>1</td><td>3</td></tr>\n",
       "\t<tr><th scope=row>5</th><td>1</td><td>1</td><td>0</td><td>0</td><td>0</td><td>0</td><td>2</td></tr>\n",
       "\t<tr><th scope=row>6</th><td>0</td><td>0</td><td>0</td><td>0</td><td>0</td><td>1</td><td>1</td></tr>\n",
       "</tbody>\n",
       "</table>\n"
      ],
      "text/latex": [
       "A data.frame: 6 × 7\n",
       "\\begin{tabular}{r|lllllll}\n",
       "  & PA\\_barrier\\_places\\_closed\\_dangerous & PA\\_barrier\\_money & PA\\_barrier\\_no\\_interest & PA\\_barrier\\_percieve & PA\\_barrier\\_time & PA\\_barrier\\_hard & cluster\\\\\n",
       "  & <fct> & <fct> & <fct> & <fct> & <dbl> & <dbl> & <int>\\\\\n",
       "\\hline\n",
       "\t1 & 1 & 0 & 0 & 0 & 0 & 0 & 3\\\\\n",
       "\t2 & 1 & 0 & 1 & 0 & 0 & 0 & 3\\\\\n",
       "\t3 & 0 & 0 & 0 & 0 & 1 & 0 & 1\\\\\n",
       "\t4 & 1 & 0 & 0 & 0 & 0 & 1 & 3\\\\\n",
       "\t5 & 1 & 1 & 0 & 0 & 0 & 0 & 2\\\\\n",
       "\t6 & 0 & 0 & 0 & 0 & 0 & 1 & 1\\\\\n",
       "\\end{tabular}\n"
      ],
      "text/markdown": [
       "\n",
       "A data.frame: 6 × 7\n",
       "\n",
       "| <!--/--> | PA_barrier_places_closed_dangerous &lt;fct&gt; | PA_barrier_money &lt;fct&gt; | PA_barrier_no_interest &lt;fct&gt; | PA_barrier_percieve &lt;fct&gt; | PA_barrier_time &lt;dbl&gt; | PA_barrier_hard &lt;dbl&gt; | cluster &lt;int&gt; |\n",
       "|---|---|---|---|---|---|---|---|\n",
       "| 1 | 1 | 0 | 0 | 0 | 0 | 0 | 3 |\n",
       "| 2 | 1 | 0 | 1 | 0 | 0 | 0 | 3 |\n",
       "| 3 | 0 | 0 | 0 | 0 | 1 | 0 | 1 |\n",
       "| 4 | 1 | 0 | 0 | 0 | 0 | 1 | 3 |\n",
       "| 5 | 1 | 1 | 0 | 0 | 0 | 0 | 2 |\n",
       "| 6 | 0 | 0 | 0 | 0 | 0 | 1 | 1 |\n",
       "\n"
      ],
      "text/plain": [
       "  PA_barrier_places_closed_dangerous PA_barrier_money PA_barrier_no_interest\n",
       "1 1                                  0                0                     \n",
       "2 1                                  0                1                     \n",
       "3 0                                  0                0                     \n",
       "4 1                                  0                0                     \n",
       "5 1                                  1                0                     \n",
       "6 0                                  0                0                     \n",
       "  PA_barrier_percieve PA_barrier_time PA_barrier_hard cluster\n",
       "1 0                   0               0               3      \n",
       "2 0                   0               0               3      \n",
       "3 0                   1               0               1      \n",
       "4 0                   0               1               3      \n",
       "5 0                   0               0               2      \n",
       "6 0                   0               1               1      "
      ]
     },
     "metadata": {},
     "output_type": "display_data"
    }
   ],
   "source": [
    "df_during_barriers_dist$cluster <- kmodes_seed(df_during_barriers_dist, best_K_kmodes, max_iter=200, seed=best_seed_kmodes)$cluster\n",
    "head(df_during_barriers_dist)"
   ]
  },
  {
   "cell_type": "code",
   "execution_count": 15,
   "metadata": {
    "vscode": {
     "languageId": "r"
    }
   },
   "outputs": [
    {
     "data": {
      "text/html": [
       "1215"
      ],
      "text/latex": [
       "1215"
      ],
      "text/markdown": [
       "1215"
      ],
      "text/plain": [
       "[1] 1215"
      ]
     },
     "metadata": {},
     "output_type": "display_data"
    }
   ],
   "source": [
    "joint <- c(\n",
    "    'PA_barrier_places_closed_dangerous'='PA_barrier_places_closed_dangerous',\n",
    "    'PA_barrier_money' = 'PA_barrier_money',\n",
    "    'PA_barrier_no_interest'='PA_barrier_no_interest',\n",
    "    'PA_barrier_percieve'='PA_barrier_percieve',\n",
    "    'PA_barrier_time' = 'PA_barrier_time',\n",
    "    'PA_barrier_hard' = 'PA_barrier_hard'\n",
    ")\n",
    "\n",
    "df_during_barriers <- left_join(df_during_barriers, df_during_barriers_dist, by = joint)\n",
    "df_during$cluster <- df_during_barriers$cluster\n",
    "nrow(df_during_barriers)"
   ]
  },
  {
   "cell_type": "code",
   "execution_count": 16,
   "metadata": {
    "vscode": {
     "languageId": "r"
    }
   },
   "outputs": [
    {
     "data": {
      "text/plain": [
       "\n",
       "  1   2   3   4   5   6   7   8 \n",
       "357  63 450  40  11   5  10 279 "
      ]
     },
     "metadata": {},
     "output_type": "display_data"
    }
   ],
   "source": [
    "table(df_during$cluster)"
   ]
  },
  {
   "cell_type": "markdown",
   "metadata": {},
   "source": [
    "### Profile Plots\n",
    "<hr />"
   ]
  },
  {
   "cell_type": "markdown",
   "metadata": {},
   "source": [
    "#### Practice of Exercise "
   ]
  },
  {
   "cell_type": "code",
   "execution_count": 17,
   "metadata": {
    "vscode": {
     "languageId": "r"
    }
   },
   "outputs": [
    {
     "data": {
      "image/png": "[encoded data removed]",
      "text/plain": [
       "plot without title"
      ]
     },
     "metadata": {
      "image/png": {
       "height": 420,
       "width": 420
      }
     },
     "output_type": "display_data"
    }
   ],
   "source": [
    "\n",
    "\n",
    "myplots <- list()\n",
    "colors <- c('deepskyblue4', 'darkgreen', 'chocolate1', 'blueviolet', 'firebrick4', 'deeppink3', 'darkslategray', \"grey\")\n",
    "for(cl in 1:best_K_kmodes){\n",
    "  dist_values = length(unique(df_during[df_during$cluster == cl,]$PA_practice_during))\n",
    "  plt <- ggplot() + geom_histogram( \n",
    "          color='black',\n",
    "          data=df_during[df_during$cluster == cl,], \n",
    "          aes(x=PA_practice_during, y=..count../sum(..count..)*100),\n",
    "          fill=colors[cl],\n",
    "          bins = dist_values,\n",
    "          position=position_dodge()\n",
    "        ) + ylab(\"Relative Frequency\")+ ggtitle(cl) + ylim(0, 100)  \n",
    "  myplots[[cl]] <- plt \n",
    "}\n",
    "\n",
    "\n",
    "wrap_plots(myplots)\n"
   ]
  },
  {
   "cell_type": "markdown",
   "metadata": {},
   "source": [
    "#### Sedentary Behavior"
   ]
  },
  {
   "cell_type": "code",
   "execution_count": 18,
   "metadata": {
    "vscode": {
     "languageId": "r"
    }
   },
   "outputs": [
    {
     "data": {
      "image/png": "[encoded data removed]",
      "text/plain": [
       "plot without title"
      ]
     },
     "metadata": {
      "image/png": {
       "height": 420,
       "width": 420
      }
     },
     "output_type": "display_data"
    }
   ],
   "source": [
    "\n",
    "\n",
    "myplots <- list()\n",
    "colors <- c('deepskyblue4', 'darkgreen', 'chocolate1', 'blueviolet', 'firebrick4', 'deeppink3', 'darkslategray', \"grey\")\n",
    "for(cl in 1:best_K_kmodes){\n",
    "  dist_values = length(unique(df_during[df_during$cluster == cl,]$sedentary_time_range_during))\n",
    "  plt <- ggplot() + geom_histogram( \n",
    "          color='black',\n",
    "          data=df_during[df_during$cluster == cl,], \n",
    "          aes(x=sedentary_time_range_during, y=..count../sum(..count..)*100),\n",
    "          fill=colors[cl],\n",
    "          bins = dist_values,\n",
    "          position=position_dodge()\n",
    "        ) + ylab(\"Relative Frequency\")+ ggtitle(cl) + ylim(0, 100) \n",
    "  myplots[[cl]] <- plt \n",
    "}\n",
    "\n",
    "\n",
    "wrap_plots(myplots)\n"
   ]
  },
  {
   "cell_type": "markdown",
   "metadata": {},
   "source": [
    "#### Exercise Intensity"
   ]
  },
  {
   "cell_type": "code",
   "execution_count": 19,
   "metadata": {
    "vscode": {
     "languageId": "r"
    }
   },
   "outputs": [
    {
     "data": {
      "image/png": "[encoded data removed]",
      "text/plain": [
       "plot without title"
      ]
     },
     "metadata": {
      "image/png": {
       "height": 420,
       "width": 420
      }
     },
     "output_type": "display_data"
    }
   ],
   "source": [
    "myplots <- list()\n",
    "colors <- c('deepskyblue4', 'darkgreen', 'chocolate1', 'blueviolet', 'firebrick4', 'deeppink3', 'darkslategray', \"grey\")\n",
    "for(cl in 1:best_K_kmodes){\n",
    "  dist_values = length(unique(df_during[df_during$cluster == cl,]$PA_intensity))\n",
    "  plt <- ggplot() + geom_histogram( \n",
    "          color='black',\n",
    "          data=df_during[df_during$cluster == cl,], \n",
    "          aes(x=PA_intensity, y=..count../sum(..count..)*100),\n",
    "          fill=colors[cl],\n",
    "          bins = dist_values,\n",
    "          position=position_dodge()\n",
    "        ) + ylab(\"Relative Frequency\")+ ggtitle(cl) + ylim(0, 100) \n",
    "  myplots[[cl]] <- plt \n",
    "}\n",
    "\n",
    "\n",
    "wrap_plots(myplots)\n",
    "\n"
   ]
  },
  {
   "cell_type": "markdown",
   "metadata": {},
   "source": [
    "#### Exercise Duration"
   ]
  },
  {
   "cell_type": "code",
   "execution_count": 20,
   "metadata": {
    "vscode": {
     "languageId": "r"
    }
   },
   "outputs": [
    {
     "data": {
      "image/png": "[encoded data removed]",
      "text/plain": [
       "plot without title"
      ]
     },
     "metadata": {
      "image/png": {
       "height": 420,
       "width": 420
      }
     },
     "output_type": "display_data"
    }
   ],
   "source": [
    "myplots <- list()\n",
    "colors <- c('deepskyblue4', 'darkgreen', 'chocolate1', 'blueviolet', 'firebrick4', 'deeppink3', 'darkslategray', \"grey\")\n",
    "for(cl in 1:best_K_kmodes){\n",
    "  dist_values = length(unique(df_during[df_during$cluster == cl,]$PA_duration))\n",
    "  plt <- ggplot() + geom_histogram( \n",
    "          color='black',\n",
    "          data=df_during[df_during$cluster == cl,], \n",
    "          aes(x=PA_duration, y=..count../sum(..count..)*100),\n",
    "          fill=colors[cl],\n",
    "          bins = dist_values,\n",
    "          position=position_dodge()\n",
    "        ) + ylab(\"Relative Frequency\")+ ggtitle(cl) + ylim(0, 100) \n",
    "  myplots[[cl]] <- plt \n",
    "}\n",
    "\n",
    "\n",
    "wrap_plots(myplots)\n",
    "\n"
   ]
  },
  {
   "cell_type": "markdown",
   "metadata": {},
   "source": [
    "#### Exercise Weekly Frequency"
   ]
  },
  {
   "cell_type": "code",
   "execution_count": 21,
   "metadata": {
    "vscode": {
     "languageId": "r"
    }
   },
   "outputs": [
    {
     "data": {
      "image/png": "[encoded data removed]",
      "text/plain": [
       "plot without title"
      ]
     },
     "metadata": {
      "image/png": {
       "height": 420,
       "width": 420
      }
     },
     "output_type": "display_data"
    }
   ],
   "source": [
    "\n",
    "myplots <- list()\n",
    "colors <- c('deepskyblue4', 'darkgreen', 'chocolate1', 'blueviolet', 'firebrick4', 'deeppink3', 'darkslategray', \"grey\")\n",
    "for(cl in 1:best_K_kmodes){\n",
    "  dist_values = length(unique(df_during[df_during$cluster == cl,]$PA_weekly_frequency))\n",
    "  plt <- ggplot() + geom_histogram( \n",
    "          color='black',\n",
    "          data=df_during[df_during$cluster == cl,], \n",
    "          aes(x=PA_weekly_frequency, y=..count../sum(..count..)*100),\n",
    "          fill=colors[cl],\n",
    "          bins = dist_values,\n",
    "          position=position_dodge()\n",
    "        ) + ylab(\"Relative Frequency\")+ ggtitle(cl) + ylim(0, 100) \n",
    "  myplots[[cl]] <- plt \n",
    "}\n",
    "\n",
    "\n",
    "wrap_plots(myplots)\n",
    "\n"
   ]
  },
  {
   "cell_type": "markdown",
   "metadata": {},
   "source": [
    "#### Income Range"
   ]
  },
  {
   "cell_type": "code",
   "execution_count": 22,
   "metadata": {
    "vscode": {
     "languageId": "r"
    }
   },
   "outputs": [
    {
     "data": {
      "image/png": "[encoded data removed]",
      "text/plain": [
       "plot without title"
      ]
     },
     "metadata": {
      "image/png": {
       "height": 420,
       "width": 420
      }
     },
     "output_type": "display_data"
    }
   ],
   "source": [
    "\n",
    "myplots <- list()\n",
    "colors <- c('deepskyblue4', 'darkgreen', 'chocolate1', 'blueviolet', 'firebrick4', 'deeppink3', 'darkslategray', \"grey\")\n",
    "for(cl in 1:best_K_kmodes){\n",
    "  dist_values = length(unique(df_during[df_during$cluster == cl,]$income_range))\n",
    "  plt <- ggplot() + geom_histogram( \n",
    "          color='black',\n",
    "          data=df_during[df_during$cluster == cl,], \n",
    "          aes(x=income_range, y=..count../sum(..count..)*100),\n",
    "          fill=colors[cl],\n",
    "          bins = dist_values,\n",
    "          position=position_dodge()\n",
    "        ) + ylab(\"Relative Frequency\")+ ggtitle(cl) + ylim(0, 100) \n",
    "  myplots[[cl]] <- plt \n",
    "}\n",
    "\n",
    "\n",
    "wrap_plots(myplots)\n",
    "\n"
   ]
  },
  {
   "cell_type": "markdown",
   "metadata": {},
   "source": [
    "#### Age Range"
   ]
  },
  {
   "cell_type": "code",
   "execution_count": 23,
   "metadata": {
    "vscode": {
     "languageId": "r"
    }
   },
   "outputs": [
    {
     "data": {
      "image/png": "[encoded data removed]",
      "text/plain": [
       "plot without title"
      ]
     },
     "metadata": {
      "image/png": {
       "height": 420,
       "width": 420
      }
     },
     "output_type": "display_data"
    }
   ],
   "source": [
    "\n",
    "\n",
    "myplots <- list()\n",
    "colors <- c('deepskyblue4', 'darkgreen', 'chocolate1', 'blueviolet', 'firebrick4', 'deeppink3', 'darkslategray', \"grey\")\n",
    "for(cl in 1:best_K_kmodes){\n",
    "  dist_values = length(unique(df_during[df_during$cluster == cl,]$age_range))\n",
    "  plt <- ggplot() + geom_histogram( \n",
    "          color='black',\n",
    "          data=df_during[df_during$cluster == cl,], \n",
    "          aes(x=age_range, y=..count../sum(..count..)*100),\n",
    "          fill=colors[cl],\n",
    "          bins = dist_values,\n",
    "          position=position_dodge()\n",
    "        ) + ylab(\"Relative Frequency\")+ ggtitle(cl) + ylim(0, 100) \n",
    "  myplots[[cl]] <- plt \n",
    "}\n",
    "\n",
    "\n",
    "wrap_plots(myplots)\n",
    "\n"
   ]
  },
  {
   "cell_type": "markdown",
   "metadata": {},
   "source": [
    "#### Sex"
   ]
  },
  {
   "cell_type": "code",
   "execution_count": 24,
   "metadata": {
    "vscode": {
     "languageId": "r"
    }
   },
   "outputs": [
    {
     "data": {
      "image/png": "[encoded data removed]",
      "text/plain": [
       "plot without title"
      ]
     },
     "metadata": {
      "image/png": {
       "height": 420,
       "width": 420
      }
     },
     "output_type": "display_data"
    }
   ],
   "source": [
    "\n",
    "\n",
    "myplots <- list()\n",
    "colors <- c('deepskyblue4', 'darkgreen', 'chocolate1', 'blueviolet', 'firebrick4', 'deeppink3', 'darkslategray', \"grey\")\n",
    "for(cl in 1:best_K_kmodes){\n",
    "  dist_values = length(unique(df_during[df_during$cluster == cl,]$sex))\n",
    "  plt <- ggplot() + geom_histogram( \n",
    "          color='black',\n",
    "          data=df_during[df_during$cluster == cl,], \n",
    "          aes(x=sex, y=..count../sum(..count..)*100),\n",
    "          fill=colors[cl],\n",
    "          bins = dist_values,\n",
    "          position=position_dodge()\n",
    "        ) + ylab(\"Relative Frequency\")+ ggtitle(cl) + ylim(0, 100) \n",
    "  myplots[[cl]] <- plt \n",
    "}\n",
    "\n",
    "\n",
    "wrap_plots(myplots)\n",
    "\n"
   ]
  },
  {
   "cell_type": "markdown",
   "metadata": {},
   "source": [
    "#### Scholarity"
   ]
  },
  {
   "cell_type": "code",
   "execution_count": 25,
   "metadata": {
    "vscode": {
     "languageId": "r"
    }
   },
   "outputs": [
    {
     "data": {
      "image/png": "[encoded data removed]",
      "text/plain": [
       "plot without title"
      ]
     },
     "metadata": {
      "image/png": {
       "height": 420,
       "width": 420
      }
     },
     "output_type": "display_data"
    }
   ],
   "source": [
    "\n",
    "\n",
    "myplots <- list()\n",
    "colors <- c('deepskyblue4', 'darkgreen', 'chocolate1', 'blueviolet', 'firebrick4', 'deeppink3', 'darkslategray', \"grey\")\n",
    "for(cl in 1:best_K_kmodes){\n",
    "  dist_values = length(unique(df_during[df_during$cluster == cl,]$scholarity))\n",
    "  plt <- ggplot() + geom_histogram( \n",
    "          color='black',\n",
    "          data=df_during[df_during$cluster == cl,], \n",
    "          aes(x=scholarity, y=..count../sum(..count..)*100),\n",
    "          fill=colors[cl],\n",
    "          bins = dist_values,\n",
    "          position=position_dodge()\n",
    "        ) + ylab(\"Relative Frequency\")+ ggtitle(cl) + ylim(0, 100) \n",
    "  myplots[[cl]] <- plt \n",
    "}\n",
    "\n",
    "\n",
    "wrap_plots(myplots)"
   ]
  },
  {
   "cell_type": "markdown",
   "metadata": {},
   "source": [
    "#### All charts"
   ]
  },
  {
   "cell_type": "code",
   "execution_count": 26,
   "metadata": {
    "vscode": {
     "languageId": "r"
    }
   },
   "outputs": [],
   "source": [
    "# df_during[, -c(ncol(df_during))] <- lapply(df_during[, -c(ncol(df_during))], as.factor)\n",
    "# lapply(df_during, levels)[c(\"volleyball\", \"basketball\")]\n",
    "# df_during <- subset(df_during, select = -c(volleyball, basketball))"
   ]
  },
  {
   "cell_type": "code",
   "execution_count": 27,
   "metadata": {
    "vscode": {
     "languageId": "r"
    }
   },
   "outputs": [],
   "source": [
    "# dummy <- dummyVars(\" ~ .\", data=df_during)\n",
    "# df_during_encoded <- data.frame(predict(dummy, newdata = df_during)) "
   ]
  },
  {
   "cell_type": "code",
   "execution_count": 28,
   "metadata": {
    "vscode": {
     "languageId": "r"
    }
   },
   "outputs": [],
   "source": [
    "# df_spider <- df_during_encoded %>% group_by(cluster) %>% summarise(\n",
    "#                                     practice = sum(PA_practice_during.1),\n",
    "#                                     sedentary = sum(sedentary_time_range_during.1),\n",
    "#                                     intesity1 = sum(PA_intensity.1),\n",
    "#                                     intesity2 = sum(PA_intensity.2),\n",
    "#                                     intesity3 = sum(PA_intensity.3),\n",
    "#                                     duration1 = sum(PA_duration.1),\n",
    "#                                     duration2 = sum(PA_duration.2),\n",
    "#                                     duration3 = sum(PA_duration.3),\n",
    "#                                     duration4 = sum(PA_duration.4),\n",
    "#                                     frequency1 = sum(PA_weekly_frequency.1),\n",
    "#                                     frequency2 = sum(PA_weekly_frequency.2),\n",
    "#                                     frequency3 = sum(PA_weekly_frequency.3)\n",
    "#                                 )\n",
    "# df_spider <- df_spider[, -c(1)]\n",
    "# df_spider"
   ]
  },
  {
   "cell_type": "code",
   "execution_count": 29,
   "metadata": {
    "vscode": {
     "languageId": "r"
    }
   },
   "outputs": [],
   "source": [
    "# max_min <- data.frame(\n",
    "#     practice = c(300, 0),\n",
    "#     sedentary = c(300, 0),\n",
    "#     intesity1 = c(300, 0),\n",
    "#     intesity2 = c(300, 0),\n",
    "#     intesity3 = c(300, 0),\n",
    "#     duration1 = c(300, 0),\n",
    "#     duration2 = c(300, 0),\n",
    "#     duration3 = c(300, 0),\n",
    "#     duration4 = c(300, 0),\n",
    "#     frequency1 = c(300, 0),\n",
    "#     frequency2 = c(300, 0),\n",
    "#     frequency3 = c(300, 0)\n",
    "# )\n",
    "# rownames(max_min) <- c(\"Max\", \"Min\")\n",
    "# df_spider <- rbind(max_min, df_spider)\n",
    "# df_spider"
   ]
  },
  {
   "cell_type": "code",
   "execution_count": 30,
   "metadata": {
    "vscode": {
     "languageId": "r"
    }
   },
   "outputs": [],
   "source": [
    "# create_beautiful_radarchart <- function(data, color = \"#00AFBB\", \n",
    "#                                         vlabels = colnames(data), vlcex = 0.7,\n",
    "#                                         caxislabels = NULL, title = NULL, ...){\n",
    "#   radarchart(\n",
    "#     data, axistype = 1,\n",
    "#     # Customize the polygon\n",
    "#     pcol = color, pfcol = scales::alpha(color, 0.5), plwd = 2, plty = 1,\n",
    "#     # Customize the grid\n",
    "#     cglcol = \"grey\", cglty = 1, cglwd = 0.8,\n",
    "#     # Customize the axis\n",
    "#     axislabcol = \"grey\", \n",
    "#     # Variable labels\n",
    "#     vlcex = vlcex, vlabels = vlabels,\n",
    "#     caxislabels = caxislabels, title = title, ...\n",
    "#   )\n",
    "# }"
   ]
  },
  {
   "cell_type": "code",
   "execution_count": 31,
   "metadata": {
    "vscode": {
     "languageId": "r"
    }
   },
   "outputs": [],
   "source": [
    "# df_spider <- df_spider[c(\"Max\", \"Min\", 3, 6, 8, 5, 7,  1, 2, 4), ]\n",
    "# df_spider"
   ]
  },
  {
   "cell_type": "code",
   "execution_count": 32,
   "metadata": {
    "vscode": {
     "languageId": "r"
    }
   },
   "outputs": [],
   "source": [
    "\n",
    "# colors <-  c(\"#00AFBB\", \"#E7B800\", \"#FC4E07\", '#a432a8')\n",
    "# titles <- c(\"Cluster 1\", \"Cluster 2\", \"Cluster 3\", \"Cluster 4\", \"Cluster 5\", \"Cluster 6\", \"Cluster 7\", \"Cluster 8\")\n",
    "# op <- par(mar = c(1, 3, 3, 3))\n",
    "\n",
    "\n",
    "# create_beautiful_radarchart(\n",
    "#   data = df_spider, \n",
    "#   caxislabels = c(0, 10, 20, 30),\n",
    "#   color = colors,\n",
    "\n",
    "# )\n",
    "\n",
    "\n",
    "# legend(\n",
    "#   x = \"bottom\", legend = rownames(df_spider[-c(1,2),]), horiz = TRUE,\n",
    "#   bty = \"n\", pch = 20 , col =colors,\n",
    "#   text.col = \"black\", cex = 1, pt.cex = 1.5\n",
    "# )\n",
    "# par(op)"
   ]
  }
 ],
 "metadata": {
  "kernelspec": {
   "display_name": "R",
   "language": "R",
   "name": "ir"
  },
  "language_info": {
   "codemirror_mode": "r",
   "file_extension": ".r",
   "mimetype": "text/x-r-source",
   "name": "R",
   "pygments_lexer": "r",
   "version": "4.1.0"
  },
  "orig_nbformat": 4
 },
 "nbformat": 4,
 "nbformat_minor": 2
}
