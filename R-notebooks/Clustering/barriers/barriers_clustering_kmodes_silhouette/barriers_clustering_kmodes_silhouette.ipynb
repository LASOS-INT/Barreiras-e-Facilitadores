{
 "cells": [
  {
   "cell_type": "markdown",
   "metadata": {},
   "source": [
    "## Importing packages"
   ]
  },
  {
   "cell_type": "code",
   "execution_count": null,
   "metadata": {
    "vscode": {
     "languageId": "r"
    }
   },
   "outputs": [],
   "source": [
    "library(here, help, pos = 2, lib.loc = NULL)\n",
    "source(here('Modules','modules.R'))\n",
    "source(here('Modules','preprocessing_clustering.R'))\n",
    "# install_all_packages()\n",
    "load_library_packages()"
   ]
  },
  {
   "cell_type": "markdown",
   "metadata": {},
   "source": [
    "## Clustering - Kmodes Silhoette"
   ]
  },
  {
   "cell_type": "code",
   "execution_count": 3,
   "metadata": {
    "vscode": {
     "languageId": "r"
    }
   },
   "outputs": [
    {
     "data": {
      "text/html": [
       "33"
      ],
      "text/latex": [
       "33"
      ],
      "text/markdown": [
       "33"
      ],
      "text/plain": [
       "[1] 33"
      ]
     },
     "metadata": {},
     "output_type": "display_data"
    }
   ],
   "source": [
    "df_during_barriers_dist <- distinct(df_during_barriers)\n",
    "nrow(df_during_barriers_dist)"
   ]
  },
  {
   "cell_type": "markdown",
   "metadata": {},
   "source": [
    "### Silhoette \n",
    "<hr />"
   ]
  },
  {
   "cell_type": "code",
   "execution_count": 4,
   "metadata": {
    "vscode": {
     "languageId": "r"
    }
   },
   "outputs": [
    {
     "data": {
      "text/html": [
       "<table class=\"dataframe\">\n",
       "<caption>A matrix: 6 × 33 of type dbl</caption>\n",
       "<tbody>\n",
       "\t<tr><td>0</td><td>1</td><td>2</td><td>1</td><td>1</td><td>2</td><td>2</td><td>2</td><td>2</td><td>3</td><td>...</td><td>2</td><td>3</td><td>4</td><td>4</td><td>1</td><td>4</td><td>3</td><td>3</td><td>3</td><td>5</td></tr>\n",
       "\t<tr><td>1</td><td>0</td><td>3</td><td>2</td><td>2</td><td>3</td><td>3</td><td>1</td><td>3</td><td>2</td><td>...</td><td>3</td><td>4</td><td>3</td><td>3</td><td>2</td><td>5</td><td>4</td><td>2</td><td>2</td><td>4</td></tr>\n",
       "\t<tr><td>2</td><td>3</td><td>0</td><td>3</td><td>3</td><td>2</td><td>2</td><td>4</td><td>4</td><td>3</td><td>...</td><td>2</td><td>3</td><td>2</td><td>4</td><td>1</td><td>2</td><td>3</td><td>5</td><td>3</td><td>3</td></tr>\n",
       "\t<tr><td>1</td><td>2</td><td>3</td><td>0</td><td>2</td><td>1</td><td>1</td><td>1</td><td>1</td><td>2</td><td>...</td><td>3</td><td>2</td><td>3</td><td>3</td><td>2</td><td>3</td><td>4</td><td>2</td><td>4</td><td>4</td></tr>\n",
       "\t<tr><td>1</td><td>2</td><td>3</td><td>2</td><td>0</td><td>3</td><td>3</td><td>3</td><td>1</td><td>4</td><td>...</td><td>3</td><td>4</td><td>5</td><td>5</td><td>2</td><td>3</td><td>2</td><td>2</td><td>4</td><td>4</td></tr>\n",
       "\t<tr><td>2</td><td>3</td><td>2</td><td>1</td><td>3</td><td>0</td><td>2</td><td>2</td><td>2</td><td>1</td><td>...</td><td>2</td><td>1</td><td>2</td><td>2</td><td>1</td><td>2</td><td>3</td><td>3</td><td>3</td><td>3</td></tr>\n",
       "</tbody>\n",
       "</table>\n"
      ],
      "text/latex": [
       "A matrix: 6 × 33 of type dbl\n",
       "\\begin{tabular}{lllllllllllllllllllll}\n",
       "\t 0 & 1 & 2 & 1 & 1 & 2 & 2 & 2 & 2 & 3 & ... & 2 & 3 & 4 & 4 & 1 & 4 & 3 & 3 & 3 & 5\\\\\n",
       "\t 1 & 0 & 3 & 2 & 2 & 3 & 3 & 1 & 3 & 2 & ... & 3 & 4 & 3 & 3 & 2 & 5 & 4 & 2 & 2 & 4\\\\\n",
       "\t 2 & 3 & 0 & 3 & 3 & 2 & 2 & 4 & 4 & 3 & ... & 2 & 3 & 2 & 4 & 1 & 2 & 3 & 5 & 3 & 3\\\\\n",
       "\t 1 & 2 & 3 & 0 & 2 & 1 & 1 & 1 & 1 & 2 & ... & 3 & 2 & 3 & 3 & 2 & 3 & 4 & 2 & 4 & 4\\\\\n",
       "\t 1 & 2 & 3 & 2 & 0 & 3 & 3 & 3 & 1 & 4 & ... & 3 & 4 & 5 & 5 & 2 & 3 & 2 & 2 & 4 & 4\\\\\n",
       "\t 2 & 3 & 2 & 1 & 3 & 0 & 2 & 2 & 2 & 1 & ... & 2 & 1 & 2 & 2 & 1 & 2 & 3 & 3 & 3 & 3\\\\\n",
       "\\end{tabular}\n"
      ],
      "text/markdown": [
       "\n",
       "A matrix: 6 × 33 of type dbl\n",
       "\n",
       "| 0 | 1 | 2 | 1 | 1 | 2 | 2 | 2 | 2 | 3 | ... | 2 | 3 | 4 | 4 | 1 | 4 | 3 | 3 | 3 | 5 |\n",
       "| 1 | 0 | 3 | 2 | 2 | 3 | 3 | 1 | 3 | 2 | ... | 3 | 4 | 3 | 3 | 2 | 5 | 4 | 2 | 2 | 4 |\n",
       "| 2 | 3 | 0 | 3 | 3 | 2 | 2 | 4 | 4 | 3 | ... | 2 | 3 | 2 | 4 | 1 | 2 | 3 | 5 | 3 | 3 |\n",
       "| 1 | 2 | 3 | 0 | 2 | 1 | 1 | 1 | 1 | 2 | ... | 3 | 2 | 3 | 3 | 2 | 3 | 4 | 2 | 4 | 4 |\n",
       "| 1 | 2 | 3 | 2 | 0 | 3 | 3 | 3 | 1 | 4 | ... | 3 | 4 | 5 | 5 | 2 | 3 | 2 | 2 | 4 | 4 |\n",
       "| 2 | 3 | 2 | 1 | 3 | 0 | 2 | 2 | 2 | 1 | ... | 2 | 1 | 2 | 2 | 1 | 2 | 3 | 3 | 3 | 3 |\n",
       "\n"
      ],
      "text/plain": [
       "     [,1] [,2] [,3] [,4] [,5] [,6] [,7] [,8] [,9] [,10] [,11] [,12] [,13] [,14]\n",
       "[1,] 0    1    2    1    1    2    2    2    2    3     ...   2     3     4    \n",
       "[2,] 1    0    3    2    2    3    3    1    3    2     ...   3     4     3    \n",
       "[3,] 2    3    0    3    3    2    2    4    4    3     ...   2     3     2    \n",
       "[4,] 1    2    3    0    2    1    1    1    1    2     ...   3     2     3    \n",
       "[5,] 1    2    3    2    0    3    3    3    1    4     ...   3     4     5    \n",
       "[6,] 2    3    2    1    3    0    2    2    2    1     ...   2     1     2    \n",
       "     [,15] [,16] [,17] [,18] [,19] [,20] [,21]\n",
       "[1,] 4     1     4     3     3     3     5    \n",
       "[2,] 3     2     5     4     2     2     4    \n",
       "[3,] 4     1     2     3     5     3     3    \n",
       "[4,] 3     2     3     4     2     4     4    \n",
       "[5,] 5     2     3     2     2     4     4    \n",
       "[6,] 2     1     2     3     3     3     3    "
      ]
     },
     "metadata": {},
     "output_type": "display_data"
    }
   ],
   "source": [
    "df_matrix <- data.matrix(df_during_barriers_dist) - 1\n",
    "similarity_matrix <- df_matrix %*% t(df_matrix) + ((!df_matrix) + 0) %*% ((!t(df_matrix)) + 0)\n",
    "dissimilarity_matrix <- ncol(df_during_barriers_dist) - similarity_matrix\n",
    "head(dissimilarity_matrix)"
   ]
  },
  {
   "cell_type": "markdown",
   "metadata": {},
   "source": [
    "#### Scanning parameters\n"
   ]
  },
  {
   "cell_type": "code",
   "execution_count": 5,
   "metadata": {
    "vscode": {
     "languageId": "r"
    }
   },
   "outputs": [],
   "source": [
    "nseed <- 1000\n",
    "nk <- nrow(distinct(df_during_barriers))\n",
    "# ks_by_seed <- data.frame(matrix(NA, nrow = nseed, ncol = nk-1))\n",
    "# for (seed in 1:nseed) {\n",
    "#     silhouette_scs <- c()\n",
    "#     for (k in 2:nk) {\n",
    "#         sc <- silhouette_values_kmodes(\n",
    "#             num_clusters = k,\n",
    "#             df = df_during_barriers_dist,\n",
    "#             diss_matrix = dissimilarity_matrix,\n",
    "#             iters = 200,\n",
    "#             s = seed)[[1]]\n",
    "\n",
    "#         silhouette_scs <- append(silhouette_scs, sc)\n",
    "#     }\n",
    "\n",
    "#     ks_by_seed[seed, ] <- silhouette_scs\n",
    "# }\n",
    "\n",
    "# write.csv(\n",
    "#     ks_by_seed,\n",
    "#     \"silhouette_kmodes_barriers.csv\", row.names = FALSE\n",
    "# )"
   ]
  },
  {
   "cell_type": "markdown",
   "metadata": {},
   "source": [
    "#### Results"
   ]
  },
  {
   "cell_type": "code",
   "execution_count": 6,
   "metadata": {
    "vscode": {
     "languageId": "r"
    }
   },
   "outputs": [
    {
     "data": {
      "text/html": [
       "<table class=\"dataframe\">\n",
       "<caption>A data.frame: 6 × 33</caption>\n",
       "<thead>\n",
       "\t<tr><th></th><th scope=col>2</th><th scope=col>3</th><th scope=col>4</th><th scope=col>5</th><th scope=col>6</th><th scope=col>7</th><th scope=col>8</th><th scope=col>9</th><th scope=col>10</th><th scope=col>11</th><th scope=col>...</th><th scope=col>25</th><th scope=col>26</th><th scope=col>27</th><th scope=col>28</th><th scope=col>29</th><th scope=col>30</th><th scope=col>31</th><th scope=col>32</th><th scope=col>33</th><th scope=col>seed</th></tr>\n",
       "\t<tr><th></th><th scope=col>&lt;dbl&gt;</th><th scope=col>&lt;dbl&gt;</th><th scope=col>&lt;dbl&gt;</th><th scope=col>&lt;dbl&gt;</th><th scope=col>&lt;dbl&gt;</th><th scope=col>&lt;dbl&gt;</th><th scope=col>&lt;dbl&gt;</th><th scope=col>&lt;dbl&gt;</th><th scope=col>&lt;dbl&gt;</th><th scope=col>&lt;dbl&gt;</th><th scope=col>...</th><th scope=col>&lt;dbl&gt;</th><th scope=col>&lt;dbl&gt;</th><th scope=col>&lt;dbl&gt;</th><th scope=col>&lt;dbl&gt;</th><th scope=col>&lt;dbl&gt;</th><th scope=col>&lt;dbl&gt;</th><th scope=col>&lt;dbl&gt;</th><th scope=col>&lt;dbl&gt;</th><th scope=col>&lt;int&gt;</th><th scope=col>&lt;int&gt;</th></tr>\n",
       "</thead>\n",
       "<tbody>\n",
       "\t<tr><th scope=row>1</th><td>0.2881323</td><td>0.2665527</td><td>0.3439010</td><td>0.3234731</td><td>0.2598644</td><td>0.2622731</td><td>0.3022880</td><td>0.3467709</td><td>0.3451242</td><td>0.3287365</td><td>...</td><td>0.07575758</td><td>0.06060606</td><td>0.11085859</td><td>0.11515152</td><td>0.06060606</td><td>0.04545455</td><td>0.03030303</td><td>0.01515152</td><td>0</td><td>1</td></tr>\n",
       "\t<tr><th scope=row>2</th><td>0.1618269</td><td>0.2229722</td><td>0.2944947</td><td>0.2539509</td><td>0.3555802</td><td>0.3244430</td><td>0.2319111</td><td>0.2256046</td><td>0.2781298</td><td>0.2671375</td><td>...</td><td>0.10101010</td><td>0.08080808</td><td>0.07575758</td><td>0.07575758</td><td>0.06060606</td><td>0.04545455</td><td>0.03030303</td><td>0.01515152</td><td>0</td><td>2</td></tr>\n",
       "\t<tr><th scope=row>3</th><td>0.1962519</td><td>0.2000461</td><td>0.3142417</td><td>0.1911691</td><td>0.2510887</td><td>0.3602603</td><td>0.3275163</td><td>0.2733918</td><td>0.2340142</td><td>0.1997584</td><td>...</td><td>0.11085859</td><td>0.09570707</td><td>0.09570707</td><td>0.04545455</td><td>0.03030303</td><td>0.03030303</td><td>0.03030303</td><td>0.01515152</td><td>0</td><td>3</td></tr>\n",
       "\t<tr><th scope=row>4</th><td>0.1850108</td><td>0.1619804</td><td>0.2151636</td><td>0.3139007</td><td>0.3307145</td><td>0.3642887</td><td>0.2866069</td><td>0.2470239</td><td>0.2869228</td><td>0.2821110</td><td>...</td><td>0.14545455</td><td>0.10404040</td><td>0.10404040</td><td>0.07575758</td><td>0.06060606</td><td>0.04545455</td><td>0.03030303</td><td>0.01515152</td><td>0</td><td>4</td></tr>\n",
       "\t<tr><th scope=row>5</th><td>0.1860313</td><td>0.3223982</td><td>0.3547553</td><td>0.2991001</td><td>0.3337294</td><td>0.2834828</td><td>0.2115434</td><td>0.2516087</td><td>0.2488353</td><td>0.2627591</td><td>...</td><td>0.08888889</td><td>0.06060606</td><td>0.07575758</td><td>0.07575758</td><td>0.06060606</td><td>0.04545455</td><td>0.03030303</td><td>0.01515152</td><td>0</td><td>5</td></tr>\n",
       "\t<tr><th scope=row>6</th><td>0.2032734</td><td>0.2619444</td><td>0.3158120</td><td>0.2545863</td><td>0.1586734</td><td>0.2000767</td><td>0.2000767</td><td>0.2002438</td><td>0.2337434</td><td>0.2382888</td><td>...</td><td>0.16818182</td><td>0.16818182</td><td>0.12676768</td><td>0.11161616</td><td>0.06060606</td><td>0.04545455</td><td>0.03030303</td><td>0.01515152</td><td>0</td><td>6</td></tr>\n",
       "</tbody>\n",
       "</table>\n"
      ],
      "text/latex": [
       "A data.frame: 6 × 33\n",
       "\\begin{tabular}{r|lllllllllllllllllllll}\n",
       "  & 2 & 3 & 4 & 5 & 6 & 7 & 8 & 9 & 10 & 11 & ... & 25 & 26 & 27 & 28 & 29 & 30 & 31 & 32 & 33 & seed\\\\\n",
       "  & <dbl> & <dbl> & <dbl> & <dbl> & <dbl> & <dbl> & <dbl> & <dbl> & <dbl> & <dbl> & ... & <dbl> & <dbl> & <dbl> & <dbl> & <dbl> & <dbl> & <dbl> & <dbl> & <int> & <int>\\\\\n",
       "\\hline\n",
       "\t1 & 0.2881323 & 0.2665527 & 0.3439010 & 0.3234731 & 0.2598644 & 0.2622731 & 0.3022880 & 0.3467709 & 0.3451242 & 0.3287365 & ... & 0.07575758 & 0.06060606 & 0.11085859 & 0.11515152 & 0.06060606 & 0.04545455 & 0.03030303 & 0.01515152 & 0 & 1\\\\\n",
       "\t2 & 0.1618269 & 0.2229722 & 0.2944947 & 0.2539509 & 0.3555802 & 0.3244430 & 0.2319111 & 0.2256046 & 0.2781298 & 0.2671375 & ... & 0.10101010 & 0.08080808 & 0.07575758 & 0.07575758 & 0.06060606 & 0.04545455 & 0.03030303 & 0.01515152 & 0 & 2\\\\\n",
       "\t3 & 0.1962519 & 0.2000461 & 0.3142417 & 0.1911691 & 0.2510887 & 0.3602603 & 0.3275163 & 0.2733918 & 0.2340142 & 0.1997584 & ... & 0.11085859 & 0.09570707 & 0.09570707 & 0.04545455 & 0.03030303 & 0.03030303 & 0.03030303 & 0.01515152 & 0 & 3\\\\\n",
       "\t4 & 0.1850108 & 0.1619804 & 0.2151636 & 0.3139007 & 0.3307145 & 0.3642887 & 0.2866069 & 0.2470239 & 0.2869228 & 0.2821110 & ... & 0.14545455 & 0.10404040 & 0.10404040 & 0.07575758 & 0.06060606 & 0.04545455 & 0.03030303 & 0.01515152 & 0 & 4\\\\\n",
       "\t5 & 0.1860313 & 0.3223982 & 0.3547553 & 0.2991001 & 0.3337294 & 0.2834828 & 0.2115434 & 0.2516087 & 0.2488353 & 0.2627591 & ... & 0.08888889 & 0.06060606 & 0.07575758 & 0.07575758 & 0.06060606 & 0.04545455 & 0.03030303 & 0.01515152 & 0 & 5\\\\\n",
       "\t6 & 0.2032734 & 0.2619444 & 0.3158120 & 0.2545863 & 0.1586734 & 0.2000767 & 0.2000767 & 0.2002438 & 0.2337434 & 0.2382888 & ... & 0.16818182 & 0.16818182 & 0.12676768 & 0.11161616 & 0.06060606 & 0.04545455 & 0.03030303 & 0.01515152 & 0 & 6\\\\\n",
       "\\end{tabular}\n"
      ],
      "text/markdown": [
       "\n",
       "A data.frame: 6 × 33\n",
       "\n",
       "| <!--/--> | 2 &lt;dbl&gt; | 3 &lt;dbl&gt; | 4 &lt;dbl&gt; | 5 &lt;dbl&gt; | 6 &lt;dbl&gt; | 7 &lt;dbl&gt; | 8 &lt;dbl&gt; | 9 &lt;dbl&gt; | 10 &lt;dbl&gt; | 11 &lt;dbl&gt; | ... ... | 25 &lt;dbl&gt; | 26 &lt;dbl&gt; | 27 &lt;dbl&gt; | 28 &lt;dbl&gt; | 29 &lt;dbl&gt; | 30 &lt;dbl&gt; | 31 &lt;dbl&gt; | 32 &lt;dbl&gt; | 33 &lt;int&gt; | seed &lt;int&gt; |\n",
       "|---|---|---|---|---|---|---|---|---|---|---|---|---|---|---|---|---|---|---|---|---|---|\n",
       "| 1 | 0.2881323 | 0.2665527 | 0.3439010 | 0.3234731 | 0.2598644 | 0.2622731 | 0.3022880 | 0.3467709 | 0.3451242 | 0.3287365 | ... | 0.07575758 | 0.06060606 | 0.11085859 | 0.11515152 | 0.06060606 | 0.04545455 | 0.03030303 | 0.01515152 | 0 | 1 |\n",
       "| 2 | 0.1618269 | 0.2229722 | 0.2944947 | 0.2539509 | 0.3555802 | 0.3244430 | 0.2319111 | 0.2256046 | 0.2781298 | 0.2671375 | ... | 0.10101010 | 0.08080808 | 0.07575758 | 0.07575758 | 0.06060606 | 0.04545455 | 0.03030303 | 0.01515152 | 0 | 2 |\n",
       "| 3 | 0.1962519 | 0.2000461 | 0.3142417 | 0.1911691 | 0.2510887 | 0.3602603 | 0.3275163 | 0.2733918 | 0.2340142 | 0.1997584 | ... | 0.11085859 | 0.09570707 | 0.09570707 | 0.04545455 | 0.03030303 | 0.03030303 | 0.03030303 | 0.01515152 | 0 | 3 |\n",
       "| 4 | 0.1850108 | 0.1619804 | 0.2151636 | 0.3139007 | 0.3307145 | 0.3642887 | 0.2866069 | 0.2470239 | 0.2869228 | 0.2821110 | ... | 0.14545455 | 0.10404040 | 0.10404040 | 0.07575758 | 0.06060606 | 0.04545455 | 0.03030303 | 0.01515152 | 0 | 4 |\n",
       "| 5 | 0.1860313 | 0.3223982 | 0.3547553 | 0.2991001 | 0.3337294 | 0.2834828 | 0.2115434 | 0.2516087 | 0.2488353 | 0.2627591 | ... | 0.08888889 | 0.06060606 | 0.07575758 | 0.07575758 | 0.06060606 | 0.04545455 | 0.03030303 | 0.01515152 | 0 | 5 |\n",
       "| 6 | 0.2032734 | 0.2619444 | 0.3158120 | 0.2545863 | 0.1586734 | 0.2000767 | 0.2000767 | 0.2002438 | 0.2337434 | 0.2382888 | ... | 0.16818182 | 0.16818182 | 0.12676768 | 0.11161616 | 0.06060606 | 0.04545455 | 0.03030303 | 0.01515152 | 0 | 6 |\n",
       "\n"
      ],
      "text/plain": [
       "  2         3         4         5         6         7         8        \n",
       "1 0.2881323 0.2665527 0.3439010 0.3234731 0.2598644 0.2622731 0.3022880\n",
       "2 0.1618269 0.2229722 0.2944947 0.2539509 0.3555802 0.3244430 0.2319111\n",
       "3 0.1962519 0.2000461 0.3142417 0.1911691 0.2510887 0.3602603 0.3275163\n",
       "4 0.1850108 0.1619804 0.2151636 0.3139007 0.3307145 0.3642887 0.2866069\n",
       "5 0.1860313 0.3223982 0.3547553 0.2991001 0.3337294 0.2834828 0.2115434\n",
       "6 0.2032734 0.2619444 0.3158120 0.2545863 0.1586734 0.2000767 0.2000767\n",
       "  9         10        11        ... 25         26         27         28        \n",
       "1 0.3467709 0.3451242 0.3287365 ... 0.07575758 0.06060606 0.11085859 0.11515152\n",
       "2 0.2256046 0.2781298 0.2671375 ... 0.10101010 0.08080808 0.07575758 0.07575758\n",
       "3 0.2733918 0.2340142 0.1997584 ... 0.11085859 0.09570707 0.09570707 0.04545455\n",
       "4 0.2470239 0.2869228 0.2821110 ... 0.14545455 0.10404040 0.10404040 0.07575758\n",
       "5 0.2516087 0.2488353 0.2627591 ... 0.08888889 0.06060606 0.07575758 0.07575758\n",
       "6 0.2002438 0.2337434 0.2382888 ... 0.16818182 0.16818182 0.12676768 0.11161616\n",
       "  29         30         31         32         33 seed\n",
       "1 0.06060606 0.04545455 0.03030303 0.01515152 0  1   \n",
       "2 0.06060606 0.04545455 0.03030303 0.01515152 0  2   \n",
       "3 0.03030303 0.03030303 0.03030303 0.01515152 0  3   \n",
       "4 0.06060606 0.04545455 0.03030303 0.01515152 0  4   \n",
       "5 0.06060606 0.04545455 0.03030303 0.01515152 0  5   \n",
       "6 0.06060606 0.04545455 0.03030303 0.01515152 0  6   "
      ]
     },
     "metadata": {},
     "output_type": "display_data"
    }
   ],
   "source": [
    "scs <- read.csv(\"silhouette_kmodes_barriers.csv\")\n",
    "scs[, ncol(scs)+1] <-  seq.int(nrow(scs))\n",
    "colnames(scs) <- append(2:nrow(distinct(df_during_barriers)), \"seed\")\n",
    "head(scs)"
   ]
  },
  {
   "cell_type": "markdown",
   "metadata": {},
   "source": [
    "####  Best K and best seed by highest sample mean"
   ]
  },
  {
   "cell_type": "code",
   "execution_count": 7,
   "metadata": {
    "vscode": {
     "languageId": "r"
    }
   },
   "outputs": [
    {
     "name": "stdout",
     "output_type": "stream",
     "text": [
      "[1] \"Best K\"\n",
      "[1] 8\n",
      "[1] \"Best Seed\"\n",
      "[1] 911\n",
      "[1] \"Silhouette\"\n",
      "[1] 0.4432984\n"
     ]
    }
   ],
   "source": [
    "print(\"Best K\")\n",
    "best_K_kmodes <- match(max(apply(scs, 2, mean)[1:ncol(scs)-1]), apply(scs, 2, mean)) + 1\n",
    "print(best_K_kmodes)\n",
    "print(\"Best Seed\")\n",
    "best_seed_kmodes <- match(max(scs[, best_K_kmodes-1]), scs[, best_K_kmodes-1])\n",
    "print(best_seed_kmodes)\n",
    "print(\"Silhouette\")\n",
    "print(scs[best_seed_kmodes, best_K_kmodes-1])"
   ]
  },
  {
   "cell_type": "code",
   "execution_count": 8,
   "metadata": {
    "vscode": {
     "languageId": "r"
    }
   },
   "outputs": [
    {
     "data": {
      "image/png": "[encoded data removed]",
      "text/plain": [
       "plot without title"
      ]
     },
     "metadata": {
      "image/png": {
       "height": 360,
       "width": 660
      }
     },
     "output_type": "display_data"
    }
   ],
   "source": [
    "\n",
    "means_df <- data.frame(mean = apply(scs, 2, mean)[1:(nk-2)], k = names(apply(scs, 2, mean)[1:(nk-2)]))\n",
    "options(repr.plot.width = 11, repr.plot.height =6)\n",
    "ggplot(data=means_df, aes(x=factor(as.numeric(k)), y=mean, group=1)) +\n",
    "    geom_line(size=0.7) + geom_point(size=1.5) + \n",
    "    geom_vline(xintercept = best_K_kmodes-1, color = \"red\", size=0.8) + \n",
    "    ggtitle(\"Kmodes (Adjusted Silhouette Score) - Barriers dataset\") +\n",
    "    xlab('Number of clusters (K)') +\n",
    "    ylab('Mean of Adjusted Silhouette Score')+ \n",
    "    theme(text = element_text(size = 21)) \n",
    "\n",
    "\n",
    "ggsave(path=\"graphs\", file=\"metric_evolution_barriers_KS.jpeg\", width = 11, height = 6)"
   ]
  },
  {
   "cell_type": "markdown",
   "metadata": {},
   "source": [
    "#### Evaluating the silhuette coefficient for best seed"
   ]
  },
  {
   "cell_type": "code",
   "execution_count": 9,
   "metadata": {
    "vscode": {
     "languageId": "r"
    }
   },
   "outputs": [],
   "source": [
    "silhoutte_result <-  silhouette_values_kmodes(num_clusters=best_K_kmodes, df=df_during_barriers_dist, diss_matrix=dissimilarity_matrix, iters=200, s=best_seed_kmodes)"
   ]
  },
  {
   "cell_type": "code",
   "execution_count": 10,
   "metadata": {
    "vscode": {
     "languageId": "r"
    }
   },
   "outputs": [],
   "source": [
    "silhoutte_result <-  silhouette_values_kmodes(num_clusters=8, df=df_during_barriers_dist, diss_matrix=dissimilarity_matrix, iters=200, s=911)\n",
    "coef_data <- data.frame(coef=silhoutte_result[[2]], clust=silhoutte_result[[3]]$cluster)\n",
    "coef_data <- coef_data[order(coef_data$coef, decreasing=TRUE), ]\n",
    "coef_data <- coef_data[order(coef_data$clust, decreasing=TRUE), ]\n",
    "coef_data$clust <- as.factor(coef_data$clust )\n",
    "coef_data$ID <- seq.int(nrow(coef_data))\n"
   ]
  },
  {
   "cell_type": "code",
   "execution_count": 11,
   "metadata": {
    "vscode": {
     "languageId": "r"
    }
   },
   "outputs": [
    {
     "data": {
      "image/png": "[encoded data removed]",
      "text/plain": [
       "plot without title"
      ]
     },
     "metadata": {
      "image/png": {
       "height": 360,
       "width": 660
      }
     },
     "output_type": "display_data"
    }
   ],
   "source": [
    "options(repr.plot.width = 11, repr.plot.height =6)\n",
    "ggplot(data = coef_data, aes(y=coef, x=ID, fill=clust)) + \n",
    "  geom_bar(stat = \"identity\") + \n",
    "  geom_hline(yintercept=mean(coef_data$coef), linetype=\"dashed\", color = \"red\") + \n",
    "  coord_flip() + \n",
    "  scale_x_reverse() + \n",
    "  theme(panel.grid.major = element_blank(), panel.grid.minor = element_blank()) +\n",
    "  ggtitle(\"Kmodes (Adjusted Silhouette Score) - Barriers dataset\") +\n",
    "  xlab(\"Sample ID\") +\n",
    "  ylab(\"Silhouette Coefficient\") + \n",
    "  scale_fill_discrete(name = \"Clusters\") + \n",
    "  theme(text = element_text(size = 22)) \n",
    "\n",
    "ggsave(path=\"graphs\", file=\"coefficients_KS.jpeg\", width = 11, height = 5)"
   ]
  },
  {
   "cell_type": "markdown",
   "metadata": {},
   "source": [
    "## Exploring Kmodes best k"
   ]
  },
  {
   "cell_type": "code",
   "execution_count": 10,
   "metadata": {
    "vscode": {
     "languageId": "r"
    }
   },
   "outputs": [
    {
     "data": {
      "text/html": [
       "<table class=\"dataframe\">\n",
       "<caption>A data.frame: 6 × 7</caption>\n",
       "<thead>\n",
       "\t<tr><th></th><th scope=col>PA_barrier_places_closed_dangerous</th><th scope=col>PA_barrier_money</th><th scope=col>PA_barrier_no_interest</th><th scope=col>PA_barrier_percieve</th><th scope=col>PA_barrier_time</th><th scope=col>PA_barrier_hard</th><th scope=col>cluster</th></tr>\n",
       "\t<tr><th></th><th scope=col>&lt;fct&gt;</th><th scope=col>&lt;fct&gt;</th><th scope=col>&lt;fct&gt;</th><th scope=col>&lt;fct&gt;</th><th scope=col>&lt;fct&gt;</th><th scope=col>&lt;fct&gt;</th><th scope=col>&lt;int&gt;</th></tr>\n",
       "</thead>\n",
       "<tbody>\n",
       "\t<tr><th scope=row>1</th><td>1</td><td>0</td><td>0</td><td>0</td><td>0</td><td>0</td><td>3</td></tr>\n",
       "\t<tr><th scope=row>2</th><td>1</td><td>0</td><td>1</td><td>0</td><td>0</td><td>0</td><td>3</td></tr>\n",
       "\t<tr><th scope=row>3</th><td>0</td><td>0</td><td>0</td><td>0</td><td>1</td><td>0</td><td>1</td></tr>\n",
       "\t<tr><th scope=row>4</th><td>1</td><td>0</td><td>0</td><td>0</td><td>0</td><td>1</td><td>3</td></tr>\n",
       "\t<tr><th scope=row>5</th><td>1</td><td>1</td><td>0</td><td>0</td><td>0</td><td>0</td><td>2</td></tr>\n",
       "\t<tr><th scope=row>6</th><td>0</td><td>0</td><td>0</td><td>0</td><td>0</td><td>1</td><td>1</td></tr>\n",
       "</tbody>\n",
       "</table>\n"
      ],
      "text/latex": [
       "A data.frame: 6 × 7\n",
       "\\begin{tabular}{r|lllllll}\n",
       "  & PA\\_barrier\\_places\\_closed\\_dangerous & PA\\_barrier\\_money & PA\\_barrier\\_no\\_interest & PA\\_barrier\\_percieve & PA\\_barrier\\_time & PA\\_barrier\\_hard & cluster\\\\\n",
       "  & <fct> & <fct> & <fct> & <fct> & <fct> & <fct> & <int>\\\\\n",
       "\\hline\n",
       "\t1 & 1 & 0 & 0 & 0 & 0 & 0 & 3\\\\\n",
       "\t2 & 1 & 0 & 1 & 0 & 0 & 0 & 3\\\\\n",
       "\t3 & 0 & 0 & 0 & 0 & 1 & 0 & 1\\\\\n",
       "\t4 & 1 & 0 & 0 & 0 & 0 & 1 & 3\\\\\n",
       "\t5 & 1 & 1 & 0 & 0 & 0 & 0 & 2\\\\\n",
       "\t6 & 0 & 0 & 0 & 0 & 0 & 1 & 1\\\\\n",
       "\\end{tabular}\n"
      ],
      "text/markdown": [
       "\n",
       "A data.frame: 6 × 7\n",
       "\n",
       "| <!--/--> | PA_barrier_places_closed_dangerous &lt;fct&gt; | PA_barrier_money &lt;fct&gt; | PA_barrier_no_interest &lt;fct&gt; | PA_barrier_percieve &lt;fct&gt; | PA_barrier_time &lt;fct&gt; | PA_barrier_hard &lt;fct&gt; | cluster &lt;int&gt; |\n",
       "|---|---|---|---|---|---|---|---|\n",
       "| 1 | 1 | 0 | 0 | 0 | 0 | 0 | 3 |\n",
       "| 2 | 1 | 0 | 1 | 0 | 0 | 0 | 3 |\n",
       "| 3 | 0 | 0 | 0 | 0 | 1 | 0 | 1 |\n",
       "| 4 | 1 | 0 | 0 | 0 | 0 | 1 | 3 |\n",
       "| 5 | 1 | 1 | 0 | 0 | 0 | 0 | 2 |\n",
       "| 6 | 0 | 0 | 0 | 0 | 0 | 1 | 1 |\n",
       "\n"
      ],
      "text/plain": [
       "  PA_barrier_places_closed_dangerous PA_barrier_money PA_barrier_no_interest\n",
       "1 1                                  0                0                     \n",
       "2 1                                  0                1                     \n",
       "3 0                                  0                0                     \n",
       "4 1                                  0                0                     \n",
       "5 1                                  1                0                     \n",
       "6 0                                  0                0                     \n",
       "  PA_barrier_percieve PA_barrier_time PA_barrier_hard cluster\n",
       "1 0                   0               0               3      \n",
       "2 0                   0               0               3      \n",
       "3 0                   1               0               1      \n",
       "4 0                   0               1               3      \n",
       "5 0                   0               0               2      \n",
       "6 0                   0               1               1      "
      ]
     },
     "metadata": {},
     "output_type": "display_data"
    }
   ],
   "source": [
    "chosen_kmode = kmodes_seed(df_during_barriers_dist, best_K_kmodes, max_iter=200, seed=best_seed_kmodes)\n",
    "df_during_barriers_dist$cluster <- chosen_kmode$cluster\n",
    "head(df_during_barriers_dist)"
   ]
  },
  {
   "cell_type": "code",
   "execution_count": 11,
   "metadata": {
    "vscode": {
     "languageId": "r"
    }
   },
   "outputs": [
    {
     "data": {
      "text/html": [
       "1214"
      ],
      "text/latex": [
       "1214"
      ],
      "text/markdown": [
       "1214"
      ],
      "text/plain": [
       "[1] 1214"
      ]
     },
     "metadata": {},
     "output_type": "display_data"
    }
   ],
   "source": [
    "joint <- c(\n",
    "    'PA_barrier_places_closed_dangerous'='PA_barrier_places_closed_dangerous',\n",
    "    'PA_barrier_money' = 'PA_barrier_money',\n",
    "    'PA_barrier_no_interest'='PA_barrier_no_interest',\n",
    "    'PA_barrier_percieve'='PA_barrier_percieve',\n",
    "    'PA_barrier_time' = 'PA_barrier_time',\n",
    "    'PA_barrier_hard' = 'PA_barrier_hard'\n",
    ")\n",
    "\n",
    "df_during_barriers <- left_join(df_during_barriers, df_during_barriers_dist, by = joint)\n",
    "df_during$cluster <- df_during_barriers$cluster\n",
    "df_during_facilitators$cluster <- df_during_barriers$cluster\n",
    "\n",
    "nrow(df_during_barriers)"
   ]
  },
  {
   "cell_type": "code",
   "execution_count": 12,
   "metadata": {
    "vscode": {
     "languageId": "r"
    }
   },
   "outputs": [
    {
     "data": {
      "text/plain": [
       "\n",
       "  1   2   3   4   5   6   7   8 \n",
       "356  63 450  40  11   5  10 279 "
      ]
     },
     "metadata": {},
     "output_type": "display_data"
    }
   ],
   "source": [
    "table(df_during$cluster)"
   ]
  },
  {
   "cell_type": "markdown",
   "metadata": {},
   "source": [
    "### Profile Plots\n",
    "<hr />"
   ]
  },
  {
   "cell_type": "code",
   "execution_count": null,
   "metadata": {
    "vscode": {
     "languageId": "r"
    }
   },
   "outputs": [],
   "source": [
    "colors <- c('deepskyblue4', 'darkgreen', 'chocolate1', 'blueviolet', 'firebrick4', 'deeppink3', 'darkslategray', \"grey\")\n",
    "create_cluster_histograms(\n",
    "    colors = colors, \n",
    "    df = df_during, \n",
    "    names = names(df_during[, 20:ncol(df_during)-1]),\n",
    "    best_k = best_K_kmodes\n",
    ")\n",
    "create_cluster_histograms(\n",
    "    colors = colors, \n",
    "    df = df_during_facilitators, \n",
    "    names = names(df_during_facilitators[, 1:ncol(df_during_facilitators)-1]),\n",
    "    best_k = best_K_kmodes\n",
    ")"
   ]
  },
  {
   "cell_type": "markdown",
   "metadata": {},
   "source": [
    "#### Modas"
   ]
  },
  {
   "cell_type": "code",
   "execution_count": null,
   "metadata": {
    "vscode": {
     "languageId": "r"
    }
   },
   "outputs": [
    {
     "data": {
      "text/html": [
       "<table class=\"dataframe\">\n",
       "<caption>A data.frame: 8 × 6</caption>\n",
       "<thead>\n",
       "\t<tr><th></th><th scope=col>PA_barrier_places_closed_dangerous</th><th scope=col>PA_barrier_money</th><th scope=col>PA_barrier_no_interest</th><th scope=col>PA_barrier_percieve</th><th scope=col>PA_barrier_time</th><th scope=col>PA_barrier_hard</th></tr>\n",
       "\t<tr><th></th><th scope=col>&lt;fct&gt;</th><th scope=col>&lt;fct&gt;</th><th scope=col>&lt;fct&gt;</th><th scope=col>&lt;fct&gt;</th><th scope=col>&lt;fct&gt;</th><th scope=col>&lt;fct&gt;</th></tr>\n",
       "</thead>\n",
       "<tbody>\n",
       "\t<tr><th scope=row>1</th><td>0</td><td>0</td><td>0</td><td>0</td><td>1</td><td>0</td></tr>\n",
       "\t<tr><th scope=row>2</th><td>0</td><td>1</td><td>0</td><td>0</td><td>0</td><td>0</td></tr>\n",
       "\t<tr><th scope=row>3</th><td>1</td><td>0</td><td>0</td><td>0</td><td>0</td><td>0</td></tr>\n",
       "\t<tr><th scope=row>4</th><td>0</td><td>0</td><td>1</td><td>0</td><td>0</td><td>0</td></tr>\n",
       "\t<tr><th scope=row>5</th><td>0</td><td>0</td><td>1</td><td>0</td><td>1</td><td>1</td></tr>\n",
       "\t<tr><th scope=row>6</th><td>1</td><td>0</td><td>1</td><td>0</td><td>1</td><td>0</td></tr>\n",
       "\t<tr><th scope=row>7</th><td>1</td><td>1</td><td>0</td><td>0</td><td>1</td><td>0</td></tr>\n",
       "\t<tr><th scope=row>8</th><td>0</td><td>0</td><td>0</td><td>1</td><td>0</td><td>0</td></tr>\n",
       "</tbody>\n",
       "</table>\n"
      ],
      "text/latex": [
       "A data.frame: 8 × 6\n",
       "\\begin{tabular}{r|llllll}\n",
       "  & PA\\_barrier\\_places\\_closed\\_dangerous & PA\\_barrier\\_money & PA\\_barrier\\_no\\_interest & PA\\_barrier\\_percieve & PA\\_barrier\\_time & PA\\_barrier\\_hard\\\\\n",
       "  & <fct> & <fct> & <fct> & <fct> & <fct> & <fct>\\\\\n",
       "\\hline\n",
       "\t1 & 0 & 0 & 0 & 0 & 1 & 0\\\\\n",
       "\t2 & 0 & 1 & 0 & 0 & 0 & 0\\\\\n",
       "\t3 & 1 & 0 & 0 & 0 & 0 & 0\\\\\n",
       "\t4 & 0 & 0 & 1 & 0 & 0 & 0\\\\\n",
       "\t5 & 0 & 0 & 1 & 0 & 1 & 1\\\\\n",
       "\t6 & 1 & 0 & 1 & 0 & 1 & 0\\\\\n",
       "\t7 & 1 & 1 & 0 & 0 & 1 & 0\\\\\n",
       "\t8 & 0 & 0 & 0 & 1 & 0 & 0\\\\\n",
       "\\end{tabular}\n"
      ],
      "text/markdown": [
       "\n",
       "A data.frame: 8 × 6\n",
       "\n",
       "| <!--/--> | PA_barrier_places_closed_dangerous &lt;fct&gt; | PA_barrier_money &lt;fct&gt; | PA_barrier_no_interest &lt;fct&gt; | PA_barrier_percieve &lt;fct&gt; | PA_barrier_time &lt;fct&gt; | PA_barrier_hard &lt;fct&gt; |\n",
       "|---|---|---|---|---|---|---|\n",
       "| 1 | 0 | 0 | 0 | 0 | 1 | 0 |\n",
       "| 2 | 0 | 1 | 0 | 0 | 0 | 0 |\n",
       "| 3 | 1 | 0 | 0 | 0 | 0 | 0 |\n",
       "| 4 | 0 | 0 | 1 | 0 | 0 | 0 |\n",
       "| 5 | 0 | 0 | 1 | 0 | 1 | 1 |\n",
       "| 6 | 1 | 0 | 1 | 0 | 1 | 0 |\n",
       "| 7 | 1 | 1 | 0 | 0 | 1 | 0 |\n",
       "| 8 | 0 | 0 | 0 | 1 | 0 | 0 |\n",
       "\n"
      ],
      "text/plain": [
       "  PA_barrier_places_closed_dangerous PA_barrier_money PA_barrier_no_interest\n",
       "1 0                                  0                0                     \n",
       "2 0                                  1                0                     \n",
       "3 1                                  0                0                     \n",
       "4 0                                  0                1                     \n",
       "5 0                                  0                1                     \n",
       "6 1                                  0                1                     \n",
       "7 1                                  1                0                     \n",
       "8 0                                  0                0                     \n",
       "  PA_barrier_percieve PA_barrier_time PA_barrier_hard\n",
       "1 0                   1               0              \n",
       "2 0                   0               0              \n",
       "3 0                   0               0              \n",
       "4 0                   0               0              \n",
       "5 0                   1               1              \n",
       "6 0                   1               0              \n",
       "7 0                   1               0              \n",
       "8 1                   0               0              "
      ]
     },
     "metadata": {},
     "output_type": "display_data"
    }
   ],
   "source": [
    "chosen_kmode$modes"
   ]
  }
 ],
 "metadata": {
  "kernelspec": {
   "display_name": "R",
   "language": "R",
   "name": "ir"
  },
  "language_info": {
   "codemirror_mode": "r",
   "file_extension": ".r",
   "mimetype": "text/x-r-source",
   "name": "R",
   "pygments_lexer": "r",
   "version": "4.1.0"
  },
  "orig_nbformat": 4
 },
 "nbformat": 4,
 "nbformat_minor": 2
}
