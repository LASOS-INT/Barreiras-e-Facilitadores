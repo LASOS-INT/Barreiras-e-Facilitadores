{
 "cells": [
  {
   "cell_type": "markdown",
   "metadata": {},
   "source": [
    "## Importing packages"
   ]
  },
  {
   "cell_type": "code",
   "execution_count": 28,
   "metadata": {
    "vscode": {
     "languageId": "r"
    }
   },
   "outputs": [
    {
     "name": "stderr",
     "output_type": "stream",
     "text": [
      "Warning message in FUN(X[[i]], ...):\n",
      "\"there is no package called 'cowplot'\"Warning message in FUN(X[[i]], ...):\n",
      "\"there is no package called 'rpart.plot'\"Warning message in FUN(X[[i]], ...):\n",
      "\"there is no package called 'e1071'\"Warning message in FUN(X[[i]], ...):\n",
      "\"there is no package called 'AugmenterR'\"Warning message in FUN(X[[i]], ...):\n",
      "\"there is no package called 'smotefamily'\"Warning message in FUN(X[[i]], ...):\n",
      "\"there is no package called 'ROSE'\"Warning message in FUN(X[[i]], ...):\n",
      "\"there is no package called 'xgboost'\"Warning message in FUN(X[[i]], ...):\n",
      "\"there is no package called 'pROC'\"Warning message in FUN(X[[i]], ...):\n",
      "\"there is no package called 'klaR'\"Warning message in FUN(X[[i]], ...):\n",
      "\"there is no package called 'patchwork'\"Warning message in FUN(X[[i]], ...):\n",
      "\"there is no package called 'lsr'\"Warning message in FUN(X[[i]], ...):\n",
      "\"there is no package called 'DescTools'\"Warning message in FUN(X[[i]], ...):\n",
      "\"there is no package called 'devtools'\"Warning message in FUN(X[[i]], ...):\n",
      "\"there is no package called 'kernlab'\"Warning message in FUN(X[[i]], ...):\n",
      "\"there is no package called 'fastAdaboost'\"Warning message in FUN(X[[i]], ...):\n",
      "\"there is no package called 'DataExplorer'\"Warning message in FUN(X[[i]], ...):\n",
      "\"there is no package called 'dummies'\"Warning message in FUN(X[[i]], ...):\n",
      "\"there is no package called 'mlbench'\"Warning message in FUN(X[[i]], ...):\n",
      "\"there is no package called 'h2o'\"Warning message in FUN(X[[i]], ...):\n",
      "\"there is no package called 'rattle'\"Warning message in FUN(X[[i]], ...):\n",
      "\"there is no package called 'pracma'\"Warning message in FUN(X[[i]], ...):\n",
      "\"there is no package called 'MLmetrics'\"Warning message in FUN(X[[i]], ...):\n",
      "\"there is no package called 'ggfortify'\"Warning message in FUN(X[[i]], ...):\n",
      "\"there is no package called 'Rtsne'\"Warning message in FUN(X[[i]], ...):\n",
      "\"there is no package called 'obliqueRF'\"Warning message in FUN(X[[i]], ...):\n",
      "\"there is no package called 'gbm'\"Warning message in FUN(X[[i]], ...):\n",
      "\"there is no package called 'MLeval'\"Warning message in FUN(X[[i]], ...):\n",
      "\"there is no package called 'fmsb'\"Warning message in FUN(X[[i]], ...):\n",
      "\"there is no package called 'DescTools'\"Warning message in FUN(X[[i]], ...):\n",
      "\"there is no package called 'cba'\""
     ]
    },
    {
     "data": {
      "text/html": [
       "<ol>\n",
       "\t<li>TRUE</li>\n",
       "\t<li>TRUE</li>\n",
       "\t<li>FALSE</li>\n",
       "\t<li>TRUE</li>\n",
       "\t<li>TRUE</li>\n",
       "\t<li>TRUE</li>\n",
       "\t<li>FALSE</li>\n",
       "\t<li>TRUE</li>\n",
       "\t<li>FALSE</li>\n",
       "\t<li>FALSE</li>\n",
       "\t<li>FALSE</li>\n",
       "\t<li>FALSE</li>\n",
       "\t<li>FALSE</li>\n",
       "\t<li>FALSE</li>\n",
       "\t<li>FALSE</li>\n",
       "\t<li>FALSE</li>\n",
       "\t<li>TRUE</li>\n",
       "\t<li>TRUE</li>\n",
       "\t<li>FALSE</li>\n",
       "\t<li>FALSE</li>\n",
       "\t<li>FALSE</li>\n",
       "\t<li>TRUE</li>\n",
       "\t<li>FALSE</li>\n",
       "\t<li>FALSE</li>\n",
       "\t<li>FALSE</li>\n",
       "\t<li>FALSE</li>\n",
       "\t<li>TRUE</li>\n",
       "\t<li>FALSE</li>\n",
       "\t<li>FALSE</li>\n",
       "\t<li>TRUE</li>\n",
       "\t<li>FALSE</li>\n",
       "\t<li>FALSE</li>\n",
       "\t<li>FALSE</li>\n",
       "\t<li>FALSE</li>\n",
       "\t<li>FALSE</li>\n",
       "\t<li>FALSE</li>\n",
       "\t<li>FALSE</li>\n",
       "\t<li>FALSE</li>\n",
       "\t<li>FALSE</li>\n",
       "\t<li>FALSE</li>\n",
       "\t<li>FALSE</li>\n",
       "</ol>\n"
      ],
      "text/latex": [
       "\\begin{enumerate}\n",
       "\\item TRUE\n",
       "\\item TRUE\n",
       "\\item FALSE\n",
       "\\item TRUE\n",
       "\\item TRUE\n",
       "\\item TRUE\n",
       "\\item FALSE\n",
       "\\item TRUE\n",
       "\\item FALSE\n",
       "\\item FALSE\n",
       "\\item FALSE\n",
       "\\item FALSE\n",
       "\\item FALSE\n",
       "\\item FALSE\n",
       "\\item FALSE\n",
       "\\item FALSE\n",
       "\\item TRUE\n",
       "\\item TRUE\n",
       "\\item FALSE\n",
       "\\item FALSE\n",
       "\\item FALSE\n",
       "\\item TRUE\n",
       "\\item FALSE\n",
       "\\item FALSE\n",
       "\\item FALSE\n",
       "\\item FALSE\n",
       "\\item TRUE\n",
       "\\item FALSE\n",
       "\\item FALSE\n",
       "\\item TRUE\n",
       "\\item FALSE\n",
       "\\item FALSE\n",
       "\\item FALSE\n",
       "\\item FALSE\n",
       "\\item FALSE\n",
       "\\item FALSE\n",
       "\\item FALSE\n",
       "\\item FALSE\n",
       "\\item FALSE\n",
       "\\item FALSE\n",
       "\\item FALSE\n",
       "\\end{enumerate}\n"
      ],
      "text/markdown": [
       "1. TRUE\n",
       "2. TRUE\n",
       "3. FALSE\n",
       "4. TRUE\n",
       "5. TRUE\n",
       "6. TRUE\n",
       "7. FALSE\n",
       "8. TRUE\n",
       "9. FALSE\n",
       "10. FALSE\n",
       "11. FALSE\n",
       "12. FALSE\n",
       "13. FALSE\n",
       "14. FALSE\n",
       "15. FALSE\n",
       "16. FALSE\n",
       "17. TRUE\n",
       "18. TRUE\n",
       "19. FALSE\n",
       "20. FALSE\n",
       "21. FALSE\n",
       "22. TRUE\n",
       "23. FALSE\n",
       "24. FALSE\n",
       "25. FALSE\n",
       "26. FALSE\n",
       "27. TRUE\n",
       "28. FALSE\n",
       "29. FALSE\n",
       "30. TRUE\n",
       "31. FALSE\n",
       "32. FALSE\n",
       "33. FALSE\n",
       "34. FALSE\n",
       "35. FALSE\n",
       "36. FALSE\n",
       "37. FALSE\n",
       "38. FALSE\n",
       "39. FALSE\n",
       "40. FALSE\n",
       "41. FALSE\n",
       "\n",
       "\n"
      ],
      "text/plain": [
       "[[1]]\n",
       "[1] TRUE\n",
       "\n",
       "[[2]]\n",
       "[1] TRUE\n",
       "\n",
       "[[3]]\n",
       "[1] FALSE\n",
       "\n",
       "[[4]]\n",
       "[1] TRUE\n",
       "\n",
       "[[5]]\n",
       "[1] TRUE\n",
       "\n",
       "[[6]]\n",
       "[1] TRUE\n",
       "\n",
       "[[7]]\n",
       "[1] FALSE\n",
       "\n",
       "[[8]]\n",
       "[1] TRUE\n",
       "\n",
       "[[9]]\n",
       "[1] FALSE\n",
       "\n",
       "[[10]]\n",
       "[1] FALSE\n",
       "\n",
       "[[11]]\n",
       "[1] FALSE\n",
       "\n",
       "[[12]]\n",
       "[1] FALSE\n",
       "\n",
       "[[13]]\n",
       "[1] FALSE\n",
       "\n",
       "[[14]]\n",
       "[1] FALSE\n",
       "\n",
       "[[15]]\n",
       "[1] FALSE\n",
       "\n",
       "[[16]]\n",
       "[1] FALSE\n",
       "\n",
       "[[17]]\n",
       "[1] TRUE\n",
       "\n",
       "[[18]]\n",
       "[1] TRUE\n",
       "\n",
       "[[19]]\n",
       "[1] FALSE\n",
       "\n",
       "[[20]]\n",
       "[1] FALSE\n",
       "\n",
       "[[21]]\n",
       "[1] FALSE\n",
       "\n",
       "[[22]]\n",
       "[1] TRUE\n",
       "\n",
       "[[23]]\n",
       "[1] FALSE\n",
       "\n",
       "[[24]]\n",
       "[1] FALSE\n",
       "\n",
       "[[25]]\n",
       "[1] FALSE\n",
       "\n",
       "[[26]]\n",
       "[1] FALSE\n",
       "\n",
       "[[27]]\n",
       "[1] TRUE\n",
       "\n",
       "[[28]]\n",
       "[1] FALSE\n",
       "\n",
       "[[29]]\n",
       "[1] FALSE\n",
       "\n",
       "[[30]]\n",
       "[1] TRUE\n",
       "\n",
       "[[31]]\n",
       "[1] FALSE\n",
       "\n",
       "[[32]]\n",
       "[1] FALSE\n",
       "\n",
       "[[33]]\n",
       "[1] FALSE\n",
       "\n",
       "[[34]]\n",
       "[1] FALSE\n",
       "\n",
       "[[35]]\n",
       "[1] FALSE\n",
       "\n",
       "[[36]]\n",
       "[1] FALSE\n",
       "\n",
       "[[37]]\n",
       "[1] FALSE\n",
       "\n",
       "[[38]]\n",
       "[1] FALSE\n",
       "\n",
       "[[39]]\n",
       "[1] FALSE\n",
       "\n",
       "[[40]]\n",
       "[1] FALSE\n",
       "\n",
       "[[41]]\n",
       "[1] FALSE\n"
      ]
     },
     "metadata": {},
     "output_type": "display_data"
    }
   ],
   "source": [
    "library(here, help, pos = 2, lib.loc = NULL) \n",
    "source(here('Modules','modules.R'))\n",
    "#install_all_packages()\n",
    "load_library_packages()"
   ]
  },
  {
   "cell_type": "markdown",
   "metadata": {},
   "source": [
    "## Importing and Cleaning dataset"
   ]
  },
  {
   "cell_type": "code",
   "execution_count": 29,
   "metadata": {
    "vscode": {
     "languageId": "r"
    }
   },
   "outputs": [
    {
     "data": {
      "text/html": [
       "'numeric'"
      ],
      "text/latex": [
       "'numeric'"
      ],
      "text/markdown": [
       "'numeric'"
      ],
      "text/plain": [
       "[1] \"numeric\""
      ]
     },
     "metadata": {},
     "output_type": "display_data"
    },
    {
     "data": {
      "text/html": [
       "<ol class=list-inline>\n",
       "\t<li>1250</li>\n",
       "\t<li>44</li>\n",
       "</ol>\n"
      ],
      "text/latex": [
       "\\begin{enumerate*}\n",
       "\\item 1250\n",
       "\\item 44\n",
       "\\end{enumerate*}\n"
      ],
      "text/markdown": [
       "1. 1250\n",
       "2. 44\n",
       "\n",
       "\n"
      ],
      "text/plain": [
       "[1] 1250   44"
      ]
     },
     "metadata": {},
     "output_type": "display_data"
    },
    {
     "data": {
      "text/html": [
       "<table>\n",
       "<thead><tr><th scope=col>PA_barrier_time_family_responsabilities</th><th scope=col>PA_barrier__tiredness</th><th scope=col>PA_barrier_places_closed_dangerous</th><th scope=col>PA_barrier_money</th><th scope=col>PA_barrier_time_convenience</th><th scope=col>PA_barrier_hard_work</th><th scope=col>PA_barrier_no_interest</th><th scope=col>PA_barrier_none</th><th scope=col>PA_easiness_outdoor_activities</th><th scope=col>PA_easiness_professional_guidance</th><th scope=col>...</th><th scope=col>soccer</th><th scope=col>tennis</th><th scope=col>volleyball</th><th scope=col>basketball</th><th scope=col>swimming</th><th scope=col>surfing</th><th scope=col>yoga</th><th scope=col>pilates</th><th scope=col>fighting</th><th scope=col>other_sports</th></tr></thead>\n",
       "<tbody>\n",
       "\t<tr><td>0  </td><td>0  </td><td>1  </td><td>0  </td><td>0  </td><td>1  </td><td>0  </td><td>0  </td><td>0  </td><td>0  </td><td>...</td><td>0  </td><td>0  </td><td>0  </td><td>0  </td><td>0  </td><td>0  </td><td>0  </td><td>0  </td><td>0  </td><td>0  </td></tr>\n",
       "\t<tr><td>0  </td><td>0  </td><td>1  </td><td>0  </td><td>0  </td><td>0  </td><td>0  </td><td>0  </td><td>1  </td><td>0  </td><td>...</td><td>0  </td><td>0  </td><td>0  </td><td>0  </td><td>0  </td><td>0  </td><td>0  </td><td>0  </td><td>0  </td><td>0  </td></tr>\n",
       "\t<tr><td>0  </td><td>0  </td><td>1  </td><td>0  </td><td>0  </td><td>0  </td><td>1  </td><td>0  </td><td>0  </td><td>0  </td><td>...</td><td>0  </td><td>0  </td><td>0  </td><td>0  </td><td>0  </td><td>0  </td><td>0  </td><td>0  </td><td>0  </td><td>1  </td></tr>\n",
       "\t<tr><td>0  </td><td>0  </td><td>1  </td><td>0  </td><td>0  </td><td>0  </td><td>0  </td><td>0  </td><td>1  </td><td>1  </td><td>...</td><td>0  </td><td>0  </td><td>0  </td><td>0  </td><td>0  </td><td>0  </td><td>0  </td><td>0  </td><td>0  </td><td>0  </td></tr>\n",
       "\t<tr><td>0  </td><td>0  </td><td>1  </td><td>0  </td><td>0  </td><td>0  </td><td>0  </td><td>0  </td><td>0  </td><td>0  </td><td>...</td><td>0  </td><td>0  </td><td>0  </td><td>0  </td><td>0  </td><td>0  </td><td>0  </td><td>0  </td><td>0  </td><td>0  </td></tr>\n",
       "\t<tr><td>1  </td><td>0  </td><td>0  </td><td>0  </td><td>0  </td><td>0  </td><td>0  </td><td>0  </td><td>1  </td><td>0  </td><td>...</td><td>0  </td><td>0  </td><td>0  </td><td>0  </td><td>0  </td><td>0  </td><td>0  </td><td>0  </td><td>0  </td><td>1  </td></tr>\n",
       "</tbody>\n",
       "</table>\n"
      ],
      "text/latex": [
       "\\begin{tabular}{r|llllllllllllllllllllllllllllllllllllllllllll}\n",
       " PA\\_barrier\\_time\\_family\\_responsabilities & PA\\_barrier\\_\\_tiredness & PA\\_barrier\\_places\\_closed\\_dangerous & PA\\_barrier\\_money & PA\\_barrier\\_time\\_convenience & PA\\_barrier\\_hard\\_work & PA\\_barrier\\_no\\_interest & PA\\_barrier\\_none & PA\\_easiness\\_outdoor\\_activities & PA\\_easiness\\_professional\\_guidance & ... & soccer & tennis & volleyball & basketball & swimming & surfing & yoga & pilates & fighting & other\\_sports\\\\\n",
       "\\hline\n",
       "\t 0   & 0   & 1   & 0   & 0   & 1   & 0   & 0   & 0   & 0   & ... & 0   & 0   & 0   & 0   & 0   & 0   & 0   & 0   & 0   & 0  \\\\\n",
       "\t 0   & 0   & 1   & 0   & 0   & 0   & 0   & 0   & 1   & 0   & ... & 0   & 0   & 0   & 0   & 0   & 0   & 0   & 0   & 0   & 0  \\\\\n",
       "\t 0   & 0   & 1   & 0   & 0   & 0   & 1   & 0   & 0   & 0   & ... & 0   & 0   & 0   & 0   & 0   & 0   & 0   & 0   & 0   & 1  \\\\\n",
       "\t 0   & 0   & 1   & 0   & 0   & 0   & 0   & 0   & 1   & 1   & ... & 0   & 0   & 0   & 0   & 0   & 0   & 0   & 0   & 0   & 0  \\\\\n",
       "\t 0   & 0   & 1   & 0   & 0   & 0   & 0   & 0   & 0   & 0   & ... & 0   & 0   & 0   & 0   & 0   & 0   & 0   & 0   & 0   & 0  \\\\\n",
       "\t 1   & 0   & 0   & 0   & 0   & 0   & 0   & 0   & 1   & 0   & ... & 0   & 0   & 0   & 0   & 0   & 0   & 0   & 0   & 0   & 1  \\\\\n",
       "\\end{tabular}\n"
      ],
      "text/markdown": [
       "\n",
       "| PA_barrier_time_family_responsabilities | PA_barrier__tiredness | PA_barrier_places_closed_dangerous | PA_barrier_money | PA_barrier_time_convenience | PA_barrier_hard_work | PA_barrier_no_interest | PA_barrier_none | PA_easiness_outdoor_activities | PA_easiness_professional_guidance | ... | soccer | tennis | volleyball | basketball | swimming | surfing | yoga | pilates | fighting | other_sports |\n",
       "|---|---|---|---|---|---|---|---|---|---|---|---|---|---|---|---|---|---|---|---|---|\n",
       "| 0   | 0   | 1   | 0   | 0   | 1   | 0   | 0   | 0   | 0   | ... | 0   | 0   | 0   | 0   | 0   | 0   | 0   | 0   | 0   | 0   |\n",
       "| 0   | 0   | 1   | 0   | 0   | 0   | 0   | 0   | 1   | 0   | ... | 0   | 0   | 0   | 0   | 0   | 0   | 0   | 0   | 0   | 0   |\n",
       "| 0   | 0   | 1   | 0   | 0   | 0   | 1   | 0   | 0   | 0   | ... | 0   | 0   | 0   | 0   | 0   | 0   | 0   | 0   | 0   | 1   |\n",
       "| 0   | 0   | 1   | 0   | 0   | 0   | 0   | 0   | 1   | 1   | ... | 0   | 0   | 0   | 0   | 0   | 0   | 0   | 0   | 0   | 0   |\n",
       "| 0   | 0   | 1   | 0   | 0   | 0   | 0   | 0   | 0   | 0   | ... | 0   | 0   | 0   | 0   | 0   | 0   | 0   | 0   | 0   | 0   |\n",
       "| 1   | 0   | 0   | 0   | 0   | 0   | 0   | 0   | 1   | 0   | ... | 0   | 0   | 0   | 0   | 0   | 0   | 0   | 0   | 0   | 1   |\n",
       "\n"
      ],
      "text/plain": [
       "  PA_barrier_time_family_responsabilities PA_barrier__tiredness\n",
       "1 0                                       0                    \n",
       "2 0                                       0                    \n",
       "3 0                                       0                    \n",
       "4 0                                       0                    \n",
       "5 0                                       0                    \n",
       "6 1                                       0                    \n",
       "  PA_barrier_places_closed_dangerous PA_barrier_money\n",
       "1 1                                  0               \n",
       "2 1                                  0               \n",
       "3 1                                  0               \n",
       "4 1                                  0               \n",
       "5 1                                  0               \n",
       "6 0                                  0               \n",
       "  PA_barrier_time_convenience PA_barrier_hard_work PA_barrier_no_interest\n",
       "1 0                           1                    0                     \n",
       "2 0                           0                    0                     \n",
       "3 0                           0                    1                     \n",
       "4 0                           0                    0                     \n",
       "5 0                           0                    0                     \n",
       "6 0                           0                    0                     \n",
       "  PA_barrier_none PA_easiness_outdoor_activities\n",
       "1 0               0                             \n",
       "2 0               1                             \n",
       "3 0               0                             \n",
       "4 0               1                             \n",
       "5 0               0                             \n",
       "6 0               1                             \n",
       "  PA_easiness_professional_guidance ... soccer tennis volleyball basketball\n",
       "1 0                                 ... 0      0      0          0         \n",
       "2 0                                 ... 0      0      0          0         \n",
       "3 0                                 ... 0      0      0          0         \n",
       "4 1                                 ... 0      0      0          0         \n",
       "5 0                                 ... 0      0      0          0         \n",
       "6 0                                 ... 0      0      0          0         \n",
       "  swimming surfing yoga pilates fighting other_sports\n",
       "1 0        0       0    0       0        0           \n",
       "2 0        0       0    0       0        0           \n",
       "3 0        0       0    0       0        1           \n",
       "4 0        0       0    0       0        0           \n",
       "5 0        0       0    0       0        0           \n",
       "6 0        0       0    0       0        1           "
      ]
     },
     "metadata": {},
     "output_type": "display_data"
    }
   ],
   "source": [
    "df_during <- read_excel(path = here('Data','during_dataset.xlsx'))\n",
    "df_during <- data.frame(df_during)\n",
    "unique(sapply(df_during, class))\n",
    "df_during <- df_during[complete.cases(df_during), ]\n",
    "dim(df_during)\n",
    "head(df_during)"
   ]
  },
  {
   "cell_type": "markdown",
   "metadata": {},
   "source": [
    "### Converting dataset types and labels"
   ]
  },
  {
   "cell_type": "markdown",
   "metadata": {},
   "source": [
    "- Intesity, duration and frequency >> convert dont practive to zero"
   ]
  },
  {
   "cell_type": "code",
   "execution_count": 30,
   "metadata": {
    "vscode": {
     "languageId": "r"
    }
   },
   "outputs": [],
   "source": [
    "df_during$PA_intensity[df_during$PA_intensity == 4] <- 0\n",
    "df_during$PA_duration[df_during$PA_duration == 5] <- 0\n",
    "df_during$PA_weekly_frequency[df_during$PA_weekly_frequency == 4] <- 0"
   ]
  },
  {
   "cell_type": "markdown",
   "metadata": {},
   "source": [
    "- Change practice of exercise boolean logic"
   ]
  },
  {
   "cell_type": "code",
   "execution_count": 31,
   "metadata": {
    "vscode": {
     "languageId": "r"
    }
   },
   "outputs": [],
   "source": [
    "df_during$PA_practice_during <- ifelse(df_during$PA_practice_during == 0, 1, 0)"
   ]
  },
  {
   "cell_type": "markdown",
   "metadata": {},
   "source": [
    "- Change sedentary range to boolean logic"
   ]
  },
  {
   "cell_type": "code",
   "execution_count": 32,
   "metadata": {
    "vscode": {
     "languageId": "r"
    }
   },
   "outputs": [],
   "source": [
    "df_during$sedentary_time_range_during[df_during$sedentary_time_range_during < 5] <- 0\n",
    "df_during$sedentary_time_range_during[df_during$sedentary_time_range_during == 5] <- 1"
   ]
  },
  {
   "cell_type": "markdown",
   "metadata": {},
   "source": [
    "- Change scholarity range"
   ]
  },
  {
   "cell_type": "code",
   "execution_count": 33,
   "metadata": {
    "vscode": {
     "languageId": "r"
    }
   },
   "outputs": [],
   "source": [
    "df_during$scholarity[df_during$scholarity <= 3] <- 1\n",
    "df_during$scholarity[df_during$scholarity > 3 & df_during$scholarity <= 5] <- 2\n",
    "df_during$scholarity[df_during$scholarity == 6] <- 3"
   ]
  },
  {
   "cell_type": "markdown",
   "metadata": {},
   "source": [
    "- Change barrier none label"
   ]
  },
  {
   "cell_type": "code",
   "execution_count": 34,
   "metadata": {
    "vscode": {
     "languageId": "r"
    }
   },
   "outputs": [],
   "source": [
    "names(df_during)[8] <- 'PA_barrier_percieve'"
   ]
  },
  {
   "cell_type": "markdown",
   "metadata": {},
   "source": [
    "- Removing sex others"
   ]
  },
  {
   "cell_type": "code",
   "execution_count": 35,
   "metadata": {
    "vscode": {
     "languageId": "r"
    }
   },
   "outputs": [],
   "source": [
    "df_during <- df_during[df_during$sex != 3, ]"
   ]
  },
  {
   "cell_type": "markdown",
   "metadata": {},
   "source": [
    "### Creating a number of exercises column"
   ]
  },
  {
   "cell_type": "code",
   "execution_count": 36,
   "metadata": {
    "vscode": {
     "languageId": "r"
    }
   },
   "outputs": [],
   "source": [
    "sports <- c(\"running\",\"hiking\",\"cycling\",\n",
    "            \"muscle_training\",\"soccer\",\"tennis\",\n",
    "            \"volleyball\",\"basketball\",\"swimming\",\n",
    "            \"surfing\",\"yoga\",\"pilates\",\"fighting\",\"other_sports\")\n",
    "\n",
    "df_during$PA_number <- rowSums(df_during[, sports])"
   ]
  },
  {
   "cell_type": "markdown",
   "metadata": {},
   "source": [
    "### Removing Strangers"
   ]
  },
  {
   "cell_type": "code",
   "execution_count": 37,
   "metadata": {
    "vscode": {
     "languageId": "r"
    }
   },
   "outputs": [
    {
     "data": {
      "text/plain": [
       "strange_p\n",
       "FALSE  TRUE \n",
       " 1241     6 "
      ]
     },
     "metadata": {},
     "output_type": "display_data"
    },
    {
     "data": {
      "text/plain": [
       "strange_dp\n",
       "FALSE  TRUE \n",
       " 1215    26 "
      ]
     },
     "metadata": {},
     "output_type": "display_data"
    }
   ],
   "source": [
    "differ_p <- (   df_during$PA_duration == 0 \n",
    "                | df_during$PA_intensity == 0 \n",
    "                | df_during$PA_weekly_frequency == 0\n",
    "                | df_during$PA_number == 0\n",
    "            )\n",
    "strange_p <- df_during$PA_practice_during == 1 & differ_p\n",
    "df_during <- df_during[!strange_p, ]\n",
    "table(strange_p)\n",
    "\n",
    "differ_dp <- ( df_during$PA_duration != 0 \n",
    "                | df_during$PA_intensity != 0 \n",
    "                | df_during$PA_weekly_frequency != 0\n",
    "                | df_during$PA_number != 0\n",
    "            ) \n",
    "strange_dp <- df_during$PA_practice_during == 0 & differ_dp \n",
    "\n",
    "\n",
    "table(strange_dp)\n",
    "df_during <- df_during[!strange_dp, ]"
   ]
  },
  {
   "cell_type": "markdown",
   "metadata": {},
   "source": [
    "## Creting barriers dataset"
   ]
  },
  {
   "cell_type": "markdown",
   "metadata": {},
   "source": [
    "### Separing Barriers from dataset\n",
    "<hr />"
   ]
  },
  {
   "cell_type": "code",
   "execution_count": 38,
   "metadata": {
    "vscode": {
     "languageId": "r"
    }
   },
   "outputs": [
    {
     "data": {
      "text/html": [
       "<ol class=list-inline>\n",
       "\t<li>1215</li>\n",
       "\t<li>8</li>\n",
       "</ol>\n"
      ],
      "text/latex": [
       "\\begin{enumerate*}\n",
       "\\item 1215\n",
       "\\item 8\n",
       "\\end{enumerate*}\n"
      ],
      "text/markdown": [
       "1. 1215\n",
       "2. 8\n",
       "\n",
       "\n"
      ],
      "text/plain": [
       "[1] 1215    8"
      ]
     },
     "metadata": {},
     "output_type": "display_data"
    },
    {
     "data": {
      "text/html": [
       "<table>\n",
       "<thead><tr><th></th><th scope=col>PA_barrier_time_family_responsabilities</th><th scope=col>PA_barrier__tiredness</th><th scope=col>PA_barrier_places_closed_dangerous</th><th scope=col>PA_barrier_money</th><th scope=col>PA_barrier_time_convenience</th><th scope=col>PA_barrier_hard_work</th><th scope=col>PA_barrier_no_interest</th><th scope=col>PA_barrier_percieve</th></tr></thead>\n",
       "<tbody>\n",
       "\t<tr><th scope=row>2</th><td>0</td><td>0</td><td>1</td><td>0</td><td>0</td><td>0</td><td>0</td><td>0</td></tr>\n",
       "\t<tr><th scope=row>3</th><td>0</td><td>0</td><td>1</td><td>0</td><td>0</td><td>0</td><td>1</td><td>0</td></tr>\n",
       "\t<tr><th scope=row>4</th><td>0</td><td>0</td><td>1</td><td>0</td><td>0</td><td>0</td><td>0</td><td>0</td></tr>\n",
       "\t<tr><th scope=row>5</th><td>0</td><td>0</td><td>1</td><td>0</td><td>0</td><td>0</td><td>0</td><td>0</td></tr>\n",
       "\t<tr><th scope=row>6</th><td>1</td><td>0</td><td>0</td><td>0</td><td>0</td><td>0</td><td>0</td><td>0</td></tr>\n",
       "\t<tr><th scope=row>8</th><td>0</td><td>0</td><td>1</td><td>0</td><td>0</td><td>1</td><td>0</td><td>0</td></tr>\n",
       "</tbody>\n",
       "</table>\n"
      ],
      "text/latex": [
       "\\begin{tabular}{r|llllllll}\n",
       "  & PA\\_barrier\\_time\\_family\\_responsabilities & PA\\_barrier\\_\\_tiredness & PA\\_barrier\\_places\\_closed\\_dangerous & PA\\_barrier\\_money & PA\\_barrier\\_time\\_convenience & PA\\_barrier\\_hard\\_work & PA\\_barrier\\_no\\_interest & PA\\_barrier\\_percieve\\\\\n",
       "\\hline\n",
       "\t2 & 0 & 0 & 1 & 0 & 0 & 0 & 0 & 0\\\\\n",
       "\t3 & 0 & 0 & 1 & 0 & 0 & 0 & 1 & 0\\\\\n",
       "\t4 & 0 & 0 & 1 & 0 & 0 & 0 & 0 & 0\\\\\n",
       "\t5 & 0 & 0 & 1 & 0 & 0 & 0 & 0 & 0\\\\\n",
       "\t6 & 1 & 0 & 0 & 0 & 0 & 0 & 0 & 0\\\\\n",
       "\t8 & 0 & 0 & 1 & 0 & 0 & 1 & 0 & 0\\\\\n",
       "\\end{tabular}\n"
      ],
      "text/markdown": [
       "\n",
       "| <!--/--> | PA_barrier_time_family_responsabilities | PA_barrier__tiredness | PA_barrier_places_closed_dangerous | PA_barrier_money | PA_barrier_time_convenience | PA_barrier_hard_work | PA_barrier_no_interest | PA_barrier_percieve |\n",
       "|---|---|---|---|---|---|---|---|---|\n",
       "| 2 | 0 | 0 | 1 | 0 | 0 | 0 | 0 | 0 |\n",
       "| 3 | 0 | 0 | 1 | 0 | 0 | 0 | 1 | 0 |\n",
       "| 4 | 0 | 0 | 1 | 0 | 0 | 0 | 0 | 0 |\n",
       "| 5 | 0 | 0 | 1 | 0 | 0 | 0 | 0 | 0 |\n",
       "| 6 | 1 | 0 | 0 | 0 | 0 | 0 | 0 | 0 |\n",
       "| 8 | 0 | 0 | 1 | 0 | 0 | 1 | 0 | 0 |\n",
       "\n"
      ],
      "text/plain": [
       "  PA_barrier_time_family_responsabilities PA_barrier__tiredness\n",
       "2 0                                       0                    \n",
       "3 0                                       0                    \n",
       "4 0                                       0                    \n",
       "5 0                                       0                    \n",
       "6 1                                       0                    \n",
       "8 0                                       0                    \n",
       "  PA_barrier_places_closed_dangerous PA_barrier_money\n",
       "2 1                                  0               \n",
       "3 1                                  0               \n",
       "4 1                                  0               \n",
       "5 1                                  0               \n",
       "6 0                                  0               \n",
       "8 1                                  0               \n",
       "  PA_barrier_time_convenience PA_barrier_hard_work PA_barrier_no_interest\n",
       "2 0                           0                    0                     \n",
       "3 0                           0                    1                     \n",
       "4 0                           0                    0                     \n",
       "5 0                           0                    0                     \n",
       "6 0                           0                    0                     \n",
       "8 0                           1                    0                     \n",
       "  PA_barrier_percieve\n",
       "2 0                  \n",
       "3 0                  \n",
       "4 0                  \n",
       "5 0                  \n",
       "6 0                  \n",
       "8 0                  "
      ]
     },
     "metadata": {},
     "output_type": "display_data"
    }
   ],
   "source": [
    "df_during[1:18] <- lapply(df_during[1:18], as.factor)\n",
    "df_during_barriers <- df_during[, 1:8]\n",
    "dim(df_during_barriers)\n",
    "head(df_during_barriers)"
   ]
  },
  {
   "cell_type": "markdown",
   "metadata": {},
   "source": [
    "### Agregating barriers \n",
    "<hr />"
   ]
  },
  {
   "cell_type": "code",
   "execution_count": 39,
   "metadata": {
    "vscode": {
     "languageId": "r"
    }
   },
   "outputs": [],
   "source": [
    "\n",
    "time_barrier_1 <- ifelse(df_during_barriers$PA_barrier_time_family_responsabilities=='0',0,1)\n",
    "time_barrier_2 <- ifelse(df_during_barriers$PA_barrier_time_convenience=='0',0,1)\n",
    "\n",
    "\n",
    "hard_barrier_1 <- ifelse(df_during_barriers$PA_barrier__tiredness=='0',0,1)\n",
    "hard_barrier_2 <- ifelse(df_during_barriers$PA_barrier_hard_work=='0',0,1)\n",
    "\n",
    "\n",
    "df_during_barriers$PA_barrier_time <- (time_barrier_1 | time_barrier_2) + 0 \n",
    "df_during_barriers$PA_barrier_hard <- (hard_barrier_1 | hard_barrier_2) + 0"
   ]
  },
  {
   "cell_type": "code",
   "execution_count": 40,
   "metadata": {
    "vscode": {
     "languageId": "r"
    }
   },
   "outputs": [],
   "source": [
    "df_during_barriers$PA_barrier_time_family_responsabilities <- NULL\n",
    "df_during_barriers$PA_barrier_time_convenience <- NULL\n",
    "\n",
    "df_during_barriers$PA_barrier__tiredness <- NULL\n",
    "df_during_barriers$PA_barrier_hard_work <- NULL"
   ]
  },
  {
   "cell_type": "code",
   "execution_count": 41,
   "metadata": {
    "vscode": {
     "languageId": "r"
    }
   },
   "outputs": [
    {
     "data": {
      "text/html": [
       "<ol class=list-inline>\n",
       "\t<li>'PA_barrier_places_closed_dangerous'</li>\n",
       "\t<li>'PA_barrier_money'</li>\n",
       "\t<li>'PA_barrier_no_interest'</li>\n",
       "\t<li>'PA_barrier_percieve'</li>\n",
       "\t<li>'PA_barrier_time'</li>\n",
       "\t<li>'PA_barrier_hard'</li>\n",
       "</ol>\n"
      ],
      "text/latex": [
       "\\begin{enumerate*}\n",
       "\\item 'PA\\_barrier\\_places\\_closed\\_dangerous'\n",
       "\\item 'PA\\_barrier\\_money'\n",
       "\\item 'PA\\_barrier\\_no\\_interest'\n",
       "\\item 'PA\\_barrier\\_percieve'\n",
       "\\item 'PA\\_barrier\\_time'\n",
       "\\item 'PA\\_barrier\\_hard'\n",
       "\\end{enumerate*}\n"
      ],
      "text/markdown": [
       "1. 'PA_barrier_places_closed_dangerous'\n",
       "2. 'PA_barrier_money'\n",
       "3. 'PA_barrier_no_interest'\n",
       "4. 'PA_barrier_percieve'\n",
       "5. 'PA_barrier_time'\n",
       "6. 'PA_barrier_hard'\n",
       "\n",
       "\n"
      ],
      "text/plain": [
       "[1] \"PA_barrier_places_closed_dangerous\" \"PA_barrier_money\"                  \n",
       "[3] \"PA_barrier_no_interest\"             \"PA_barrier_percieve\"               \n",
       "[5] \"PA_barrier_time\"                    \"PA_barrier_hard\"                   "
      ]
     },
     "metadata": {},
     "output_type": "display_data"
    }
   ],
   "source": [
    "names(df_during_barriers)"
   ]
  }
 ],
 "metadata": {
  "kernelspec": {
   "display_name": "R",
   "language": "R",
   "name": "ir"
  },
  "language_info": {
   "codemirror_mode": "r",
   "file_extension": ".r",
   "mimetype": "text/x-r-source",
   "name": "R",
   "pygments_lexer": "r",
   "version": "3.6.1"
  },
  "orig_nbformat": 4
 },
 "nbformat": 4,
 "nbformat_minor": 2
}
