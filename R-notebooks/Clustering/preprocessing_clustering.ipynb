{
 "cells": [
  {
   "cell_type": "markdown",
   "metadata": {},
   "source": [
    "## Importing packages"
   ]
  },
  {
   "cell_type": "code",
   "execution_count": 42,
   "metadata": {
    "vscode": {
     "languageId": "r"
    }
   },
   "outputs": [
    {
     "name": "stderr",
     "output_type": "stream",
     "text": [
      "Warning message:\n",
      "\"package 'cowplot' was built under R version 3.6.3\"Loading required package: rpart\n",
      "Warning message:\n",
      "\"package 'e1071' was built under R version 3.6.3\"Warning message:\n",
      "\"package 'AugmenterR' was built under R version 3.6.3\"Warning message:\n",
      "\"package 'smotefamily' was built under R version 3.6.3\"Loaded ROSE 0.0-4\n",
      "\n",
      "Warning message:\n",
      "\"package 'xgboost' was built under R version 3.6.3\"\n",
      "Attaching package: 'xgboost'\n",
      "\n",
      "The following object is masked from 'package:dplyr':\n",
      "\n",
      "    slice\n",
      "\n",
      "Warning message:\n",
      "\"package 'pROC' was built under R version 3.6.3\"Type 'citation(\"pROC\")' for a citation.\n",
      "\n",
      "Attaching package: 'pROC'\n",
      "\n",
      "The following objects are masked from 'package:stats':\n",
      "\n",
      "    cov, smooth, var\n",
      "\n",
      "Warning message in FUN(X[[i]], ...):\n",
      "\"there is no package called 'klaR'\"Warning message:\n",
      "\"package 'patchwork' was built under R version 3.6.3\"\n",
      "Attaching package: 'patchwork'\n",
      "\n",
      "The following object is masked from 'package:cowplot':\n",
      "\n",
      "    align_plots\n",
      "\n",
      "The following object is masked from 'package:MASS':\n",
      "\n",
      "    area\n",
      "\n",
      "Warning message:\n",
      "\"package 'DescTools' was built under R version 3.6.3\"\n",
      "Attaching package: 'DescTools'\n",
      "\n",
      "The following objects are masked from 'package:caret':\n",
      "\n",
      "    MAE, RMSE\n",
      "\n",
      "Warning message in FUN(X[[i]], ...):\n",
      "\"there is no package called 'devtools'\"\n",
      "Attaching package: 'kernlab'\n",
      "\n",
      "The following object is masked from 'package:ggplot2':\n",
      "\n",
      "    alpha\n",
      "\n",
      "Warning message:\n",
      "\"package 'fastAdaboost' was built under R version 3.6.3\"Warning message:\n",
      "\"package 'DataExplorer' was built under R version 3.6.3\"Error: package or namespace load failed for 'DataExplorer' in loadNamespace(i, c(lib.loc, .libPaths()), versionCheck = vI[[i]]):\n",
      " there is no package called 'rmarkdown'\n",
      "Warning message in FUN(X[[i]], ...):\n",
      "\"there is no package called 'dummies'\"Warning message:\n",
      "\"package 'mlbench' was built under R version 3.6.3\"\n",
      "----------------------------------------------------------------------\n",
      "\n",
      "Your next step is to start H2O:\n",
      "    > h2o.init()\n",
      "\n",
      "For H2O package documentation, ask for help:\n",
      "    > ??h2o\n",
      "\n",
      "After starting H2O, you can use the Web UI at http://localhost:54321\n",
      "For more information visit https://docs.h2o.ai\n",
      "\n",
      "----------------------------------------------------------------------\n",
      "\n",
      "\n",
      "Attaching package: 'h2o'\n",
      "\n",
      "The following object is masked from 'package:pROC':\n",
      "\n",
      "    var\n",
      "\n",
      "The following objects are masked from 'package:stats':\n",
      "\n",
      "    cor, sd, var\n",
      "\n",
      "The following objects are masked from 'package:base':\n",
      "\n",
      "    %*%, %in%, &&, ||, apply, as.factor, as.numeric, colnames,\n",
      "    colnames<-, ifelse, is.character, is.factor, is.numeric, log,\n",
      "    log10, log1p, log2, round, signif, trunc\n",
      "\n",
      "Loading required package: tibble\n",
      "Loading required package: bitops\n",
      "Warning message:\n",
      "\"package 'bitops' was built under R version 3.6.3\"\n",
      "Attaching package: 'bitops'\n",
      "\n",
      "The following object is masked from 'package:DescTools':\n",
      "\n",
      "    %^%\n",
      "\n",
      "Rattle: A free graphical interface for data science with R.\n",
      "Version 5.5.1 Copyright (c) 2006-2021 Togaware Pty Ltd.\n",
      "Type 'rattle()' to shake, rattle, and roll your data.\n",
      "\n",
      "Attaching package: 'rattle'\n",
      "\n",
      "The following object is masked from 'package:xgboost':\n",
      "\n",
      "    xgboost\n",
      "\n",
      "The following object is masked from 'package:randomForest':\n",
      "\n",
      "    importance\n",
      "\n",
      "\n",
      "Attaching package: 'pracma'\n",
      "\n",
      "The following objects are masked from 'package:kernlab':\n",
      "\n",
      "    cross, eig, size\n",
      "\n",
      "The following objects are masked from 'package:DescTools':\n",
      "\n",
      "    Mode, Rank\n",
      "\n",
      "The following object is masked from 'package:lsr':\n",
      "\n",
      "    who\n",
      "\n",
      "The following object is masked from 'package:e1071':\n",
      "\n",
      "    sigmoid\n",
      "\n",
      "Warning message:\n",
      "\"package 'MLmetrics' was built under R version 3.6.3\"\n",
      "Attaching package: 'MLmetrics'\n",
      "\n",
      "The following objects are masked from 'package:DescTools':\n",
      "\n",
      "    AUC, Gini, MAE, MAPE, MSE, RMSE\n",
      "\n",
      "The following objects are masked from 'package:caret':\n",
      "\n",
      "    MAE, RMSE\n",
      "\n",
      "The following object is masked from 'package:base':\n",
      "\n",
      "    Recall\n",
      "\n",
      "Warning message in FUN(X[[i]], ...):\n",
      "\"there is no package called 'ggfortify'\"Warning message:\n",
      "\"package 'Rtsne' was built under R version 3.6.3\"Warning message in FUN(X[[i]], ...):\n",
      "\"there is no package called 'obliqueRF'\"Warning message:\n",
      "\"package 'gbm' was built under R version 3.6.3\"Loaded gbm 2.1.8\n",
      "Warning message:\n",
      "\"package 'MLeval' was built under R version 3.6.3\"Registered S3 methods overwritten by 'fmsb':\n",
      "  method    from\n",
      "  print.roc pROC\n",
      "  plot.roc  pROC\n",
      "\n",
      "Attaching package: 'fmsb'\n",
      "\n",
      "The following objects are masked from 'package:DescTools':\n",
      "\n",
      "    CronbachAlpha, VIF\n",
      "\n",
      "The following object is masked from 'package:pROC':\n",
      "\n",
      "    roc\n",
      "\n",
      "Warning message:\n",
      "\"package 'cba' was built under R version 3.6.3\"Loading required package: proxy\n",
      "Warning message:\n",
      "\"package 'proxy' was built under R version 3.6.3\"\n",
      "Attaching package: 'proxy'\n",
      "\n",
      "The following objects are masked from 'package:stats':\n",
      "\n",
      "    as.dist, dist\n",
      "\n",
      "The following object is masked from 'package:base':\n",
      "\n",
      "    as.matrix\n",
      "\n",
      "\n",
      "Attaching package: 'cba'\n",
      "\n",
      "The following object is masked from 'package:e1071':\n",
      "\n",
      "    gknn\n",
      "\n"
     ]
    },
    {
     "data": {
      "text/html": [
       "<ol>\n",
       "\t<li>TRUE</li>\n",
       "\t<li>TRUE</li>\n",
       "\t<li>TRUE</li>\n",
       "\t<li>TRUE</li>\n",
       "\t<li>TRUE</li>\n",
       "\t<li>TRUE</li>\n",
       "\t<li>TRUE</li>\n",
       "\t<li>TRUE</li>\n",
       "\t<li>TRUE</li>\n",
       "\t<li>TRUE</li>\n",
       "\t<li>TRUE</li>\n",
       "\t<li>TRUE</li>\n",
       "\t<li>TRUE</li>\n",
       "\t<li>TRUE</li>\n",
       "\t<li>FALSE</li>\n",
       "\t<li>TRUE</li>\n",
       "\t<li>TRUE</li>\n",
       "\t<li>TRUE</li>\n",
       "\t<li>TRUE</li>\n",
       "\t<li>TRUE</li>\n",
       "\t<li>FALSE</li>\n",
       "\t<li>TRUE</li>\n",
       "\t<li>TRUE</li>\n",
       "\t<li>TRUE</li>\n",
       "\t<li>FALSE</li>\n",
       "\t<li>FALSE</li>\n",
       "\t<li>TRUE</li>\n",
       "\t<li>TRUE</li>\n",
       "\t<li>TRUE</li>\n",
       "\t<li>TRUE</li>\n",
       "\t<li>TRUE</li>\n",
       "\t<li>TRUE</li>\n",
       "\t<li>TRUE</li>\n",
       "\t<li>FALSE</li>\n",
       "\t<li>TRUE</li>\n",
       "\t<li>FALSE</li>\n",
       "\t<li>TRUE</li>\n",
       "\t<li>TRUE</li>\n",
       "\t<li>TRUE</li>\n",
       "\t<li>TRUE</li>\n",
       "\t<li>TRUE</li>\n",
       "</ol>\n"
      ],
      "text/latex": [
       "\\begin{enumerate}\n",
       "\\item TRUE\n",
       "\\item TRUE\n",
       "\\item TRUE\n",
       "\\item TRUE\n",
       "\\item TRUE\n",
       "\\item TRUE\n",
       "\\item TRUE\n",
       "\\item TRUE\n",
       "\\item TRUE\n",
       "\\item TRUE\n",
       "\\item TRUE\n",
       "\\item TRUE\n",
       "\\item TRUE\n",
       "\\item TRUE\n",
       "\\item FALSE\n",
       "\\item TRUE\n",
       "\\item TRUE\n",
       "\\item TRUE\n",
       "\\item TRUE\n",
       "\\item TRUE\n",
       "\\item FALSE\n",
       "\\item TRUE\n",
       "\\item TRUE\n",
       "\\item TRUE\n",
       "\\item FALSE\n",
       "\\item FALSE\n",
       "\\item TRUE\n",
       "\\item TRUE\n",
       "\\item TRUE\n",
       "\\item TRUE\n",
       "\\item TRUE\n",
       "\\item TRUE\n",
       "\\item TRUE\n",
       "\\item FALSE\n",
       "\\item TRUE\n",
       "\\item FALSE\n",
       "\\item TRUE\n",
       "\\item TRUE\n",
       "\\item TRUE\n",
       "\\item TRUE\n",
       "\\item TRUE\n",
       "\\end{enumerate}\n"
      ],
      "text/markdown": [
       "1. TRUE\n",
       "2. TRUE\n",
       "3. TRUE\n",
       "4. TRUE\n",
       "5. TRUE\n",
       "6. TRUE\n",
       "7. TRUE\n",
       "8. TRUE\n",
       "9. TRUE\n",
       "10. TRUE\n",
       "11. TRUE\n",
       "12. TRUE\n",
       "13. TRUE\n",
       "14. TRUE\n",
       "15. FALSE\n",
       "16. TRUE\n",
       "17. TRUE\n",
       "18. TRUE\n",
       "19. TRUE\n",
       "20. TRUE\n",
       "21. FALSE\n",
       "22. TRUE\n",
       "23. TRUE\n",
       "24. TRUE\n",
       "25. FALSE\n",
       "26. FALSE\n",
       "27. TRUE\n",
       "28. TRUE\n",
       "29. TRUE\n",
       "30. TRUE\n",
       "31. TRUE\n",
       "32. TRUE\n",
       "33. TRUE\n",
       "34. FALSE\n",
       "35. TRUE\n",
       "36. FALSE\n",
       "37. TRUE\n",
       "38. TRUE\n",
       "39. TRUE\n",
       "40. TRUE\n",
       "41. TRUE\n",
       "\n",
       "\n"
      ],
      "text/plain": [
       "[[1]]\n",
       "[1] TRUE\n",
       "\n",
       "[[2]]\n",
       "[1] TRUE\n",
       "\n",
       "[[3]]\n",
       "[1] TRUE\n",
       "\n",
       "[[4]]\n",
       "[1] TRUE\n",
       "\n",
       "[[5]]\n",
       "[1] TRUE\n",
       "\n",
       "[[6]]\n",
       "[1] TRUE\n",
       "\n",
       "[[7]]\n",
       "[1] TRUE\n",
       "\n",
       "[[8]]\n",
       "[1] TRUE\n",
       "\n",
       "[[9]]\n",
       "[1] TRUE\n",
       "\n",
       "[[10]]\n",
       "[1] TRUE\n",
       "\n",
       "[[11]]\n",
       "[1] TRUE\n",
       "\n",
       "[[12]]\n",
       "[1] TRUE\n",
       "\n",
       "[[13]]\n",
       "[1] TRUE\n",
       "\n",
       "[[14]]\n",
       "[1] TRUE\n",
       "\n",
       "[[15]]\n",
       "[1] FALSE\n",
       "\n",
       "[[16]]\n",
       "[1] TRUE\n",
       "\n",
       "[[17]]\n",
       "[1] TRUE\n",
       "\n",
       "[[18]]\n",
       "[1] TRUE\n",
       "\n",
       "[[19]]\n",
       "[1] TRUE\n",
       "\n",
       "[[20]]\n",
       "[1] TRUE\n",
       "\n",
       "[[21]]\n",
       "[1] FALSE\n",
       "\n",
       "[[22]]\n",
       "[1] TRUE\n",
       "\n",
       "[[23]]\n",
       "[1] TRUE\n",
       "\n",
       "[[24]]\n",
       "[1] TRUE\n",
       "\n",
       "[[25]]\n",
       "[1] FALSE\n",
       "\n",
       "[[26]]\n",
       "[1] FALSE\n",
       "\n",
       "[[27]]\n",
       "[1] TRUE\n",
       "\n",
       "[[28]]\n",
       "[1] TRUE\n",
       "\n",
       "[[29]]\n",
       "[1] TRUE\n",
       "\n",
       "[[30]]\n",
       "[1] TRUE\n",
       "\n",
       "[[31]]\n",
       "[1] TRUE\n",
       "\n",
       "[[32]]\n",
       "[1] TRUE\n",
       "\n",
       "[[33]]\n",
       "[1] TRUE\n",
       "\n",
       "[[34]]\n",
       "[1] FALSE\n",
       "\n",
       "[[35]]\n",
       "[1] TRUE\n",
       "\n",
       "[[36]]\n",
       "[1] FALSE\n",
       "\n",
       "[[37]]\n",
       "[1] TRUE\n",
       "\n",
       "[[38]]\n",
       "[1] TRUE\n",
       "\n",
       "[[39]]\n",
       "[1] TRUE\n",
       "\n",
       "[[40]]\n",
       "[1] TRUE\n",
       "\n",
       "[[41]]\n",
       "[1] TRUE\n"
      ]
     },
     "metadata": {},
     "output_type": "display_data"
    }
   ],
   "source": [
    "library(here, help, pos = 2, lib.loc = NULL) \n",
    "source(here('Modules','modules.R'))\n",
    "#install_all_packages()\n",
    "load_library_packages()"
   ]
  },
  {
   "cell_type": "markdown",
   "metadata": {},
   "source": [
    "## Importing and Cleaning dataset"
   ]
  },
  {
   "cell_type": "code",
   "execution_count": 43,
   "metadata": {
    "vscode": {
     "languageId": "r"
    }
   },
   "outputs": [
    {
     "data": {
      "text/html": [
       "'numeric'"
      ],
      "text/latex": [
       "'numeric'"
      ],
      "text/markdown": [
       "'numeric'"
      ],
      "text/plain": [
       "[1] \"numeric\""
      ]
     },
     "metadata": {},
     "output_type": "display_data"
    },
    {
     "data": {
      "text/html": [
       "<ol class=list-inline>\n",
       "\t<li>1250</li>\n",
       "\t<li>44</li>\n",
       "</ol>\n"
      ],
      "text/latex": [
       "\\begin{enumerate*}\n",
       "\\item 1250\n",
       "\\item 44\n",
       "\\end{enumerate*}\n"
      ],
      "text/markdown": [
       "1. 1250\n",
       "2. 44\n",
       "\n",
       "\n"
      ],
      "text/plain": [
       "[1] 1250   44"
      ]
     },
     "metadata": {},
     "output_type": "display_data"
    },
    {
     "data": {
      "text/html": [
       "<table>\n",
       "<thead><tr><th scope=col>PA_barrier_time_family_responsabilities</th><th scope=col>PA_barrier__tiredness</th><th scope=col>PA_barrier_places_closed_dangerous</th><th scope=col>PA_barrier_money</th><th scope=col>PA_barrier_time_convenience</th><th scope=col>PA_barrier_hard_work</th><th scope=col>PA_barrier_no_interest</th><th scope=col>PA_barrier_none</th><th scope=col>PA_easiness_outdoor_activities</th><th scope=col>PA_easiness_professional_guidance</th><th scope=col>...</th><th scope=col>soccer</th><th scope=col>tennis</th><th scope=col>volleyball</th><th scope=col>basketball</th><th scope=col>swimming</th><th scope=col>surfing</th><th scope=col>yoga</th><th scope=col>pilates</th><th scope=col>fighting</th><th scope=col>other_sports</th></tr></thead>\n",
       "<tbody>\n",
       "\t<tr><td>0  </td><td>0  </td><td>1  </td><td>0  </td><td>0  </td><td>1  </td><td>0  </td><td>0  </td><td>0  </td><td>0  </td><td>...</td><td>0  </td><td>0  </td><td>0  </td><td>0  </td><td>0  </td><td>0  </td><td>0  </td><td>0  </td><td>0  </td><td>0  </td></tr>\n",
       "\t<tr><td>0  </td><td>0  </td><td>1  </td><td>0  </td><td>0  </td><td>0  </td><td>0  </td><td>0  </td><td>1  </td><td>0  </td><td>...</td><td>0  </td><td>0  </td><td>0  </td><td>0  </td><td>0  </td><td>0  </td><td>0  </td><td>0  </td><td>0  </td><td>0  </td></tr>\n",
       "\t<tr><td>0  </td><td>0  </td><td>1  </td><td>0  </td><td>0  </td><td>0  </td><td>1  </td><td>0  </td><td>0  </td><td>0  </td><td>...</td><td>0  </td><td>0  </td><td>0  </td><td>0  </td><td>0  </td><td>0  </td><td>0  </td><td>0  </td><td>0  </td><td>1  </td></tr>\n",
       "\t<tr><td>0  </td><td>0  </td><td>1  </td><td>0  </td><td>0  </td><td>0  </td><td>0  </td><td>0  </td><td>1  </td><td>1  </td><td>...</td><td>0  </td><td>0  </td><td>0  </td><td>0  </td><td>0  </td><td>0  </td><td>0  </td><td>0  </td><td>0  </td><td>0  </td></tr>\n",
       "\t<tr><td>0  </td><td>0  </td><td>1  </td><td>0  </td><td>0  </td><td>0  </td><td>0  </td><td>0  </td><td>0  </td><td>0  </td><td>...</td><td>0  </td><td>0  </td><td>0  </td><td>0  </td><td>0  </td><td>0  </td><td>0  </td><td>0  </td><td>0  </td><td>0  </td></tr>\n",
       "\t<tr><td>1  </td><td>0  </td><td>0  </td><td>0  </td><td>0  </td><td>0  </td><td>0  </td><td>0  </td><td>1  </td><td>0  </td><td>...</td><td>0  </td><td>0  </td><td>0  </td><td>0  </td><td>0  </td><td>0  </td><td>0  </td><td>0  </td><td>0  </td><td>1  </td></tr>\n",
       "</tbody>\n",
       "</table>\n"
      ],
      "text/latex": [
       "\\begin{tabular}{r|llllllllllllllllllllllllllllllllllllllllllll}\n",
       " PA\\_barrier\\_time\\_family\\_responsabilities & PA\\_barrier\\_\\_tiredness & PA\\_barrier\\_places\\_closed\\_dangerous & PA\\_barrier\\_money & PA\\_barrier\\_time\\_convenience & PA\\_barrier\\_hard\\_work & PA\\_barrier\\_no\\_interest & PA\\_barrier\\_none & PA\\_easiness\\_outdoor\\_activities & PA\\_easiness\\_professional\\_guidance & ... & soccer & tennis & volleyball & basketball & swimming & surfing & yoga & pilates & fighting & other\\_sports\\\\\n",
       "\\hline\n",
       "\t 0   & 0   & 1   & 0   & 0   & 1   & 0   & 0   & 0   & 0   & ... & 0   & 0   & 0   & 0   & 0   & 0   & 0   & 0   & 0   & 0  \\\\\n",
       "\t 0   & 0   & 1   & 0   & 0   & 0   & 0   & 0   & 1   & 0   & ... & 0   & 0   & 0   & 0   & 0   & 0   & 0   & 0   & 0   & 0  \\\\\n",
       "\t 0   & 0   & 1   & 0   & 0   & 0   & 1   & 0   & 0   & 0   & ... & 0   & 0   & 0   & 0   & 0   & 0   & 0   & 0   & 0   & 1  \\\\\n",
       "\t 0   & 0   & 1   & 0   & 0   & 0   & 0   & 0   & 1   & 1   & ... & 0   & 0   & 0   & 0   & 0   & 0   & 0   & 0   & 0   & 0  \\\\\n",
       "\t 0   & 0   & 1   & 0   & 0   & 0   & 0   & 0   & 0   & 0   & ... & 0   & 0   & 0   & 0   & 0   & 0   & 0   & 0   & 0   & 0  \\\\\n",
       "\t 1   & 0   & 0   & 0   & 0   & 0   & 0   & 0   & 1   & 0   & ... & 0   & 0   & 0   & 0   & 0   & 0   & 0   & 0   & 0   & 1  \\\\\n",
       "\\end{tabular}\n"
      ],
      "text/markdown": [
       "\n",
       "| PA_barrier_time_family_responsabilities | PA_barrier__tiredness | PA_barrier_places_closed_dangerous | PA_barrier_money | PA_barrier_time_convenience | PA_barrier_hard_work | PA_barrier_no_interest | PA_barrier_none | PA_easiness_outdoor_activities | PA_easiness_professional_guidance | ... | soccer | tennis | volleyball | basketball | swimming | surfing | yoga | pilates | fighting | other_sports |\n",
       "|---|---|---|---|---|---|---|---|---|---|---|---|---|---|---|---|---|---|---|---|---|\n",
       "| 0   | 0   | 1   | 0   | 0   | 1   | 0   | 0   | 0   | 0   | ... | 0   | 0   | 0   | 0   | 0   | 0   | 0   | 0   | 0   | 0   |\n",
       "| 0   | 0   | 1   | 0   | 0   | 0   | 0   | 0   | 1   | 0   | ... | 0   | 0   | 0   | 0   | 0   | 0   | 0   | 0   | 0   | 0   |\n",
       "| 0   | 0   | 1   | 0   | 0   | 0   | 1   | 0   | 0   | 0   | ... | 0   | 0   | 0   | 0   | 0   | 0   | 0   | 0   | 0   | 1   |\n",
       "| 0   | 0   | 1   | 0   | 0   | 0   | 0   | 0   | 1   | 1   | ... | 0   | 0   | 0   | 0   | 0   | 0   | 0   | 0   | 0   | 0   |\n",
       "| 0   | 0   | 1   | 0   | 0   | 0   | 0   | 0   | 0   | 0   | ... | 0   | 0   | 0   | 0   | 0   | 0   | 0   | 0   | 0   | 0   |\n",
       "| 1   | 0   | 0   | 0   | 0   | 0   | 0   | 0   | 1   | 0   | ... | 0   | 0   | 0   | 0   | 0   | 0   | 0   | 0   | 0   | 1   |\n",
       "\n"
      ],
      "text/plain": [
       "  PA_barrier_time_family_responsabilities PA_barrier__tiredness\n",
       "1 0                                       0                    \n",
       "2 0                                       0                    \n",
       "3 0                                       0                    \n",
       "4 0                                       0                    \n",
       "5 0                                       0                    \n",
       "6 1                                       0                    \n",
       "  PA_barrier_places_closed_dangerous PA_barrier_money\n",
       "1 1                                  0               \n",
       "2 1                                  0               \n",
       "3 1                                  0               \n",
       "4 1                                  0               \n",
       "5 1                                  0               \n",
       "6 0                                  0               \n",
       "  PA_barrier_time_convenience PA_barrier_hard_work PA_barrier_no_interest\n",
       "1 0                           1                    0                     \n",
       "2 0                           0                    0                     \n",
       "3 0                           0                    1                     \n",
       "4 0                           0                    0                     \n",
       "5 0                           0                    0                     \n",
       "6 0                           0                    0                     \n",
       "  PA_barrier_none PA_easiness_outdoor_activities\n",
       "1 0               0                             \n",
       "2 0               1                             \n",
       "3 0               0                             \n",
       "4 0               1                             \n",
       "5 0               0                             \n",
       "6 0               1                             \n",
       "  PA_easiness_professional_guidance ... soccer tennis volleyball basketball\n",
       "1 0                                 ... 0      0      0          0         \n",
       "2 0                                 ... 0      0      0          0         \n",
       "3 0                                 ... 0      0      0          0         \n",
       "4 1                                 ... 0      0      0          0         \n",
       "5 0                                 ... 0      0      0          0         \n",
       "6 0                                 ... 0      0      0          0         \n",
       "  swimming surfing yoga pilates fighting other_sports\n",
       "1 0        0       0    0       0        0           \n",
       "2 0        0       0    0       0        0           \n",
       "3 0        0       0    0       0        1           \n",
       "4 0        0       0    0       0        0           \n",
       "5 0        0       0    0       0        0           \n",
       "6 0        0       0    0       0        1           "
      ]
     },
     "metadata": {},
     "output_type": "display_data"
    }
   ],
   "source": [
    "df_during <- read_excel(path = here('Data','during_dataset.xlsx'))\n",
    "df_during <- data.frame(df_during)\n",
    "unique(sapply(df_during, class))\n",
    "df_during <- df_during[complete.cases(df_during), ]\n",
    "dim(df_during)\n",
    "head(df_during)"
   ]
  },
  {
   "cell_type": "markdown",
   "metadata": {},
   "source": [
    "### Converting dataset types and labels"
   ]
  },
  {
   "cell_type": "markdown",
   "metadata": {},
   "source": [
    "- Intesity, duration and frequency >> convert dont practive to zero"
   ]
  },
  {
   "cell_type": "code",
   "execution_count": 44,
   "metadata": {
    "vscode": {
     "languageId": "r"
    }
   },
   "outputs": [],
   "source": [
    "df_during$PA_intensity[df_during$PA_intensity == 4] <- 0\n",
    "df_during$PA_duration[df_during$PA_duration == 5] <- 0\n",
    "df_during$PA_weekly_frequency[df_during$PA_weekly_frequency == 4] <- 0"
   ]
  },
  {
   "cell_type": "markdown",
   "metadata": {},
   "source": [
    "- Change practice of exercise boolean logic"
   ]
  },
  {
   "cell_type": "code",
   "execution_count": 45,
   "metadata": {
    "vscode": {
     "languageId": "r"
    }
   },
   "outputs": [],
   "source": [
    "df_during$PA_practice_during <- ifelse(df_during$PA_practice_during == 0, 1, 0)"
   ]
  },
  {
   "cell_type": "markdown",
   "metadata": {},
   "source": [
    "- Change sedentary range to boolean logic"
   ]
  },
  {
   "cell_type": "code",
   "execution_count": 46,
   "metadata": {
    "vscode": {
     "languageId": "r"
    }
   },
   "outputs": [],
   "source": [
    "df_during$sedentary_time_range_during[df_during$sedentary_time_range_during < 5] <- 0\n",
    "df_during$sedentary_time_range_during[df_during$sedentary_time_range_during == 5] <- 1"
   ]
  },
  {
   "cell_type": "markdown",
   "metadata": {},
   "source": [
    "- Change scholarity range"
   ]
  },
  {
   "cell_type": "code",
   "execution_count": 47,
   "metadata": {
    "vscode": {
     "languageId": "r"
    }
   },
   "outputs": [],
   "source": [
    "df_during$scholarity[df_during$scholarity <= 3] <- 1\n",
    "df_during$scholarity[df_during$scholarity > 3 & df_during$scholarity <= 5] <- 2\n",
    "df_during$scholarity[df_during$scholarity == 6] <- 3"
   ]
  },
  {
   "cell_type": "markdown",
   "metadata": {},
   "source": [
    "- Change barrier none label"
   ]
  },
  {
   "cell_type": "code",
   "execution_count": 48,
   "metadata": {
    "vscode": {
     "languageId": "r"
    }
   },
   "outputs": [],
   "source": [
    "names(df_during)[8] <- 'PA_barrier_percieve'"
   ]
  },
  {
   "cell_type": "markdown",
   "metadata": {},
   "source": [
    "- Removing sex others"
   ]
  },
  {
   "cell_type": "code",
   "execution_count": 49,
   "metadata": {
    "vscode": {
     "languageId": "r"
    }
   },
   "outputs": [],
   "source": [
    "df_during <- df_during[df_during$sex != 3, ]"
   ]
  },
  {
   "cell_type": "markdown",
   "metadata": {},
   "source": [
    "### Creating a number of exercises column"
   ]
  },
  {
   "cell_type": "code",
   "execution_count": 50,
   "metadata": {
    "vscode": {
     "languageId": "r"
    }
   },
   "outputs": [],
   "source": [
    "sports <- c(\"running\",\"hiking\",\"cycling\",\n",
    "            \"muscle_training\",\"soccer\",\"tennis\",\n",
    "            \"volleyball\",\"basketball\",\"swimming\",\n",
    "            \"surfing\",\"yoga\",\"pilates\",\"fighting\",\"other_sports\")\n",
    "\n",
    "df_during$PA_number <- rowSums(df_during[, sports])"
   ]
  },
  {
   "cell_type": "markdown",
   "metadata": {},
   "source": [
    "### Removing Strangers"
   ]
  },
  {
   "cell_type": "code",
   "execution_count": 51,
   "metadata": {
    "vscode": {
     "languageId": "r"
    }
   },
   "outputs": [
    {
     "data": {
      "text/plain": [
       "strange_p\n",
       "FALSE  TRUE \n",
       " 1241     6 "
      ]
     },
     "metadata": {},
     "output_type": "display_data"
    },
    {
     "data": {
      "text/plain": [
       "strange_dp\n",
       "FALSE  TRUE \n",
       " 1215    26 "
      ]
     },
     "metadata": {},
     "output_type": "display_data"
    }
   ],
   "source": [
    "differ_p <- (   df_during$PA_duration == 0 \n",
    "                | df_during$PA_intensity == 0 \n",
    "                | df_during$PA_weekly_frequency == 0\n",
    "                | df_during$PA_number == 0\n",
    "            )\n",
    "strange_p <- df_during$PA_practice_during == 1 & differ_p\n",
    "df_during <- df_during[!strange_p, ]\n",
    "table(strange_p)\n",
    "\n",
    "differ_dp <- ( df_during$PA_duration != 0 \n",
    "                | df_during$PA_intensity != 0 \n",
    "                | df_during$PA_weekly_frequency != 0\n",
    "                | df_during$PA_number != 0\n",
    "            ) \n",
    "strange_dp <- df_during$PA_practice_during == 0 & differ_dp \n",
    "\n",
    "\n",
    "table(strange_dp)\n",
    "df_during <- df_during[!strange_dp, ]"
   ]
  },
  {
   "cell_type": "markdown",
   "metadata": {},
   "source": [
    "## Creting barriers dataset"
   ]
  },
  {
   "cell_type": "markdown",
   "metadata": {},
   "source": [
    "### Separing Barriers from dataset\n",
    "<hr />"
   ]
  },
  {
   "cell_type": "code",
   "execution_count": 52,
   "metadata": {
    "vscode": {
     "languageId": "r"
    }
   },
   "outputs": [
    {
     "data": {
      "text/html": [
       "<ol class=list-inline>\n",
       "\t<li>1215</li>\n",
       "\t<li>8</li>\n",
       "</ol>\n"
      ],
      "text/latex": [
       "\\begin{enumerate*}\n",
       "\\item 1215\n",
       "\\item 8\n",
       "\\end{enumerate*}\n"
      ],
      "text/markdown": [
       "1. 1215\n",
       "2. 8\n",
       "\n",
       "\n"
      ],
      "text/plain": [
       "[1] 1215    8"
      ]
     },
     "metadata": {},
     "output_type": "display_data"
    },
    {
     "data": {
      "text/html": [
       "<table>\n",
       "<thead><tr><th></th><th scope=col>PA_barrier_time_family_responsabilities</th><th scope=col>PA_barrier__tiredness</th><th scope=col>PA_barrier_places_closed_dangerous</th><th scope=col>PA_barrier_money</th><th scope=col>PA_barrier_time_convenience</th><th scope=col>PA_barrier_hard_work</th><th scope=col>PA_barrier_no_interest</th><th scope=col>PA_barrier_percieve</th></tr></thead>\n",
       "<tbody>\n",
       "\t<tr><th scope=row>2</th><td>0</td><td>0</td><td>1</td><td>0</td><td>0</td><td>0</td><td>0</td><td>0</td></tr>\n",
       "\t<tr><th scope=row>3</th><td>0</td><td>0</td><td>1</td><td>0</td><td>0</td><td>0</td><td>1</td><td>0</td></tr>\n",
       "\t<tr><th scope=row>4</th><td>0</td><td>0</td><td>1</td><td>0</td><td>0</td><td>0</td><td>0</td><td>0</td></tr>\n",
       "\t<tr><th scope=row>5</th><td>0</td><td>0</td><td>1</td><td>0</td><td>0</td><td>0</td><td>0</td><td>0</td></tr>\n",
       "\t<tr><th scope=row>6</th><td>1</td><td>0</td><td>0</td><td>0</td><td>0</td><td>0</td><td>0</td><td>0</td></tr>\n",
       "\t<tr><th scope=row>8</th><td>0</td><td>0</td><td>1</td><td>0</td><td>0</td><td>1</td><td>0</td><td>0</td></tr>\n",
       "</tbody>\n",
       "</table>\n"
      ],
      "text/latex": [
       "\\begin{tabular}{r|llllllll}\n",
       "  & PA\\_barrier\\_time\\_family\\_responsabilities & PA\\_barrier\\_\\_tiredness & PA\\_barrier\\_places\\_closed\\_dangerous & PA\\_barrier\\_money & PA\\_barrier\\_time\\_convenience & PA\\_barrier\\_hard\\_work & PA\\_barrier\\_no\\_interest & PA\\_barrier\\_percieve\\\\\n",
       "\\hline\n",
       "\t2 & 0 & 0 & 1 & 0 & 0 & 0 & 0 & 0\\\\\n",
       "\t3 & 0 & 0 & 1 & 0 & 0 & 0 & 1 & 0\\\\\n",
       "\t4 & 0 & 0 & 1 & 0 & 0 & 0 & 0 & 0\\\\\n",
       "\t5 & 0 & 0 & 1 & 0 & 0 & 0 & 0 & 0\\\\\n",
       "\t6 & 1 & 0 & 0 & 0 & 0 & 0 & 0 & 0\\\\\n",
       "\t8 & 0 & 0 & 1 & 0 & 0 & 1 & 0 & 0\\\\\n",
       "\\end{tabular}\n"
      ],
      "text/markdown": [
       "\n",
       "| <!--/--> | PA_barrier_time_family_responsabilities | PA_barrier__tiredness | PA_barrier_places_closed_dangerous | PA_barrier_money | PA_barrier_time_convenience | PA_barrier_hard_work | PA_barrier_no_interest | PA_barrier_percieve |\n",
       "|---|---|---|---|---|---|---|---|---|\n",
       "| 2 | 0 | 0 | 1 | 0 | 0 | 0 | 0 | 0 |\n",
       "| 3 | 0 | 0 | 1 | 0 | 0 | 0 | 1 | 0 |\n",
       "| 4 | 0 | 0 | 1 | 0 | 0 | 0 | 0 | 0 |\n",
       "| 5 | 0 | 0 | 1 | 0 | 0 | 0 | 0 | 0 |\n",
       "| 6 | 1 | 0 | 0 | 0 | 0 | 0 | 0 | 0 |\n",
       "| 8 | 0 | 0 | 1 | 0 | 0 | 1 | 0 | 0 |\n",
       "\n"
      ],
      "text/plain": [
       "  PA_barrier_time_family_responsabilities PA_barrier__tiredness\n",
       "2 0                                       0                    \n",
       "3 0                                       0                    \n",
       "4 0                                       0                    \n",
       "5 0                                       0                    \n",
       "6 1                                       0                    \n",
       "8 0                                       0                    \n",
       "  PA_barrier_places_closed_dangerous PA_barrier_money\n",
       "2 1                                  0               \n",
       "3 1                                  0               \n",
       "4 1                                  0               \n",
       "5 1                                  0               \n",
       "6 0                                  0               \n",
       "8 1                                  0               \n",
       "  PA_barrier_time_convenience PA_barrier_hard_work PA_barrier_no_interest\n",
       "2 0                           0                    0                     \n",
       "3 0                           0                    1                     \n",
       "4 0                           0                    0                     \n",
       "5 0                           0                    0                     \n",
       "6 0                           0                    0                     \n",
       "8 0                           1                    0                     \n",
       "  PA_barrier_percieve\n",
       "2 0                  \n",
       "3 0                  \n",
       "4 0                  \n",
       "5 0                  \n",
       "6 0                  \n",
       "8 0                  "
      ]
     },
     "metadata": {},
     "output_type": "display_data"
    }
   ],
   "source": [
    "df_during[1:18] <- lapply(df_during[1:18], as.factor)\n",
    "df_during_barriers <- df_during[, 1:8]\n",
    "dim(df_during_barriers)\n",
    "head(df_during_barriers)"
   ]
  },
  {
   "cell_type": "markdown",
   "metadata": {},
   "source": [
    "### Agregating barriers \n",
    "<hr />"
   ]
  },
  {
   "cell_type": "code",
   "execution_count": 53,
   "metadata": {
    "vscode": {
     "languageId": "r"
    }
   },
   "outputs": [],
   "source": [
    "\n",
    "time_barrier_1 <- ifelse(df_during_barriers$PA_barrier_time_family_responsabilities=='0',0,1)\n",
    "time_barrier_2 <- ifelse(df_during_barriers$PA_barrier_time_convenience=='0',0,1)\n",
    "\n",
    "\n",
    "hard_barrier_1 <- ifelse(df_during_barriers$PA_barrier__tiredness=='0',0,1)\n",
    "hard_barrier_2 <- ifelse(df_during_barriers$PA_barrier_hard_work=='0',0,1)\n",
    "\n",
    "\n",
    "df_during_barriers$PA_barrier_time <- (time_barrier_1 | time_barrier_2) + 0 \n",
    "df_during_barriers$PA_barrier_hard <- (hard_barrier_1 | hard_barrier_2) + 0"
   ]
  },
  {
   "cell_type": "code",
   "execution_count": 54,
   "metadata": {
    "vscode": {
     "languageId": "r"
    }
   },
   "outputs": [],
   "source": [
    "df_during_barriers$PA_barrier_time_family_responsabilities <- NULL\n",
    "df_during_barriers$PA_barrier_time_convenience <- NULL\n",
    "\n",
    "df_during_barriers$PA_barrier__tiredness <- NULL\n",
    "df_during_barriers$PA_barrier_hard_work <- NULL"
   ]
  },
  {
   "cell_type": "code",
   "execution_count": 55,
   "metadata": {
    "vscode": {
     "languageId": "r"
    }
   },
   "outputs": [
    {
     "data": {
      "text/html": [
       "<ol class=list-inline>\n",
       "\t<li>'PA_barrier_places_closed_dangerous'</li>\n",
       "\t<li>'PA_barrier_money'</li>\n",
       "\t<li>'PA_barrier_no_interest'</li>\n",
       "\t<li>'PA_barrier_percieve'</li>\n",
       "\t<li>'PA_barrier_time'</li>\n",
       "\t<li>'PA_barrier_hard'</li>\n",
       "</ol>\n"
      ],
      "text/latex": [
       "\\begin{enumerate*}\n",
       "\\item 'PA\\_barrier\\_places\\_closed\\_dangerous'\n",
       "\\item 'PA\\_barrier\\_money'\n",
       "\\item 'PA\\_barrier\\_no\\_interest'\n",
       "\\item 'PA\\_barrier\\_percieve'\n",
       "\\item 'PA\\_barrier\\_time'\n",
       "\\item 'PA\\_barrier\\_hard'\n",
       "\\end{enumerate*}\n"
      ],
      "text/markdown": [
       "1. 'PA_barrier_places_closed_dangerous'\n",
       "2. 'PA_barrier_money'\n",
       "3. 'PA_barrier_no_interest'\n",
       "4. 'PA_barrier_percieve'\n",
       "5. 'PA_barrier_time'\n",
       "6. 'PA_barrier_hard'\n",
       "\n",
       "\n"
      ],
      "text/plain": [
       "[1] \"PA_barrier_places_closed_dangerous\" \"PA_barrier_money\"                  \n",
       "[3] \"PA_barrier_no_interest\"             \"PA_barrier_percieve\"               \n",
       "[5] \"PA_barrier_time\"                    \"PA_barrier_hard\"                   "
      ]
     },
     "metadata": {},
     "output_type": "display_data"
    }
   ],
   "source": [
    "names(df_during_barriers)"
   ]
  },
  {
   "cell_type": "markdown",
   "metadata": {},
   "source": [
    "## Creating Facilitators dataset"
   ]
  },
  {
   "cell_type": "markdown",
   "metadata": {},
   "source": [
    "### Separing facilitators from dataset\n",
    "<hr />"
   ]
  },
  {
   "cell_type": "code",
   "execution_count": 56,
   "metadata": {
    "vscode": {
     "languageId": "r"
    }
   },
   "outputs": [
    {
     "data": {
      "text/html": [
       "<ol class=list-inline>\n",
       "\t<li>1215</li>\n",
       "\t<li>10</li>\n",
       "</ol>\n"
      ],
      "text/latex": [
       "\\begin{enumerate*}\n",
       "\\item 1215\n",
       "\\item 10\n",
       "\\end{enumerate*}\n"
      ],
      "text/markdown": [
       "1. 1215\n",
       "2. 10\n",
       "\n",
       "\n"
      ],
      "text/plain": [
       "[1] 1215   10"
      ]
     },
     "metadata": {},
     "output_type": "display_data"
    },
    {
     "data": {
      "text/html": [
       "<table>\n",
       "<thead><tr><th></th><th scope=col>PA_easiness_outdoor_activities</th><th scope=col>PA_easiness_professional_guidance</th><th scope=col>PA_easiness_unguided</th><th scope=col>PA_easiness_music</th><th scope=col>PA_easiness_collective</th><th scope=col>PA_easiness_home_activity</th><th scope=col>PA_easiness_family_activity</th><th scope=col>PA_easiness_home_space</th><th scope=col>PA_easiness_home_equipament</th><th scope=col>PA_easiness_others</th></tr></thead>\n",
       "<tbody>\n",
       "\t<tr><th scope=row>2</th><td>1</td><td>0</td><td>0</td><td>0</td><td>0</td><td>0</td><td>0</td><td>1</td><td>1</td><td>0</td></tr>\n",
       "\t<tr><th scope=row>3</th><td>0</td><td>0</td><td>1</td><td>0</td><td>0</td><td>0</td><td>0</td><td>0</td><td>0</td><td>0</td></tr>\n",
       "\t<tr><th scope=row>4</th><td>1</td><td>1</td><td>0</td><td>0</td><td>0</td><td>1</td><td>0</td><td>1</td><td>1</td><td>0</td></tr>\n",
       "\t<tr><th scope=row>5</th><td>0</td><td>0</td><td>0</td><td>0</td><td>0</td><td>1</td><td>1</td><td>1</td><td>1</td><td>0</td></tr>\n",
       "\t<tr><th scope=row>6</th><td>1</td><td>0</td><td>0</td><td>0</td><td>0</td><td>0</td><td>0</td><td>0</td><td>1</td><td>0</td></tr>\n",
       "\t<tr><th scope=row>8</th><td>0</td><td>1</td><td>0</td><td>1</td><td>0</td><td>0</td><td>1</td><td>0</td><td>1</td><td>0</td></tr>\n",
       "</tbody>\n",
       "</table>\n"
      ],
      "text/latex": [
       "\\begin{tabular}{r|llllllllll}\n",
       "  & PA\\_easiness\\_outdoor\\_activities & PA\\_easiness\\_professional\\_guidance & PA\\_easiness\\_unguided & PA\\_easiness\\_music & PA\\_easiness\\_collective & PA\\_easiness\\_home\\_activity & PA\\_easiness\\_family\\_activity & PA\\_easiness\\_home\\_space & PA\\_easiness\\_home\\_equipament & PA\\_easiness\\_others\\\\\n",
       "\\hline\n",
       "\t2 & 1 & 0 & 0 & 0 & 0 & 0 & 0 & 1 & 1 & 0\\\\\n",
       "\t3 & 0 & 0 & 1 & 0 & 0 & 0 & 0 & 0 & 0 & 0\\\\\n",
       "\t4 & 1 & 1 & 0 & 0 & 0 & 1 & 0 & 1 & 1 & 0\\\\\n",
       "\t5 & 0 & 0 & 0 & 0 & 0 & 1 & 1 & 1 & 1 & 0\\\\\n",
       "\t6 & 1 & 0 & 0 & 0 & 0 & 0 & 0 & 0 & 1 & 0\\\\\n",
       "\t8 & 0 & 1 & 0 & 1 & 0 & 0 & 1 & 0 & 1 & 0\\\\\n",
       "\\end{tabular}\n"
      ],
      "text/markdown": [
       "\n",
       "| <!--/--> | PA_easiness_outdoor_activities | PA_easiness_professional_guidance | PA_easiness_unguided | PA_easiness_music | PA_easiness_collective | PA_easiness_home_activity | PA_easiness_family_activity | PA_easiness_home_space | PA_easiness_home_equipament | PA_easiness_others |\n",
       "|---|---|---|---|---|---|---|---|---|---|---|\n",
       "| 2 | 1 | 0 | 0 | 0 | 0 | 0 | 0 | 1 | 1 | 0 |\n",
       "| 3 | 0 | 0 | 1 | 0 | 0 | 0 | 0 | 0 | 0 | 0 |\n",
       "| 4 | 1 | 1 | 0 | 0 | 0 | 1 | 0 | 1 | 1 | 0 |\n",
       "| 5 | 0 | 0 | 0 | 0 | 0 | 1 | 1 | 1 | 1 | 0 |\n",
       "| 6 | 1 | 0 | 0 | 0 | 0 | 0 | 0 | 0 | 1 | 0 |\n",
       "| 8 | 0 | 1 | 0 | 1 | 0 | 0 | 1 | 0 | 1 | 0 |\n",
       "\n"
      ],
      "text/plain": [
       "  PA_easiness_outdoor_activities PA_easiness_professional_guidance\n",
       "2 1                              0                                \n",
       "3 0                              0                                \n",
       "4 1                              1                                \n",
       "5 0                              0                                \n",
       "6 1                              0                                \n",
       "8 0                              1                                \n",
       "  PA_easiness_unguided PA_easiness_music PA_easiness_collective\n",
       "2 0                    0                 0                     \n",
       "3 1                    0                 0                     \n",
       "4 0                    0                 0                     \n",
       "5 0                    0                 0                     \n",
       "6 0                    0                 0                     \n",
       "8 0                    1                 0                     \n",
       "  PA_easiness_home_activity PA_easiness_family_activity PA_easiness_home_space\n",
       "2 0                         0                           1                     \n",
       "3 0                         0                           0                     \n",
       "4 1                         0                           1                     \n",
       "5 1                         1                           1                     \n",
       "6 0                         0                           0                     \n",
       "8 0                         1                           0                     \n",
       "  PA_easiness_home_equipament PA_easiness_others\n",
       "2 1                           0                 \n",
       "3 0                           0                 \n",
       "4 1                           0                 \n",
       "5 1                           0                 \n",
       "6 1                           0                 \n",
       "8 1                           0                 "
      ]
     },
     "metadata": {},
     "output_type": "display_data"
    }
   ],
   "source": [
    "df_during[1:18] <- lapply(df_during[1:18], as.factor)\n",
    "df_during_facilitators <- df_during[, 9:18]\n",
    "dim(df_during_facilitators)\n",
    "head(df_during_facilitators)"
   ]
  },
  {
   "cell_type": "markdown",
   "metadata": {},
   "source": [
    "### Agregating facilitators\n",
    "<hr />"
   ]
  },
  {
   "cell_type": "code",
   "execution_count": 57,
   "metadata": {
    "vscode": {
     "languageId": "r"
    }
   },
   "outputs": [],
   "source": [
    "\n",
    "home_facilitator_1 <- ifelse(df_during_facilitators$PA_easiness_home_activity=='0',0,1)\n",
    "home_facilitator_2 <- ifelse(df_during_facilitators$PA_easiness_home_equipament=='0',0,1)\n",
    "home_facilitator_3 <- ifelse(df_during_facilitators$PA_easiness_home_space=='0',0,1)\n",
    "\n",
    "\n",
    "group_easiness_1 <- ifelse(df_during_facilitators$PA_easiness_family_activity=='0',0,1)\n",
    "group_easiness_2 <- ifelse(df_during_facilitators$PA_easiness_collective=='0',0,1)\n",
    "\n",
    "\n",
    "\n",
    "df_during_facilitators$PA_facilitator_home <- (home_facilitator_1 | home_facilitator_2 | home_facilitator_3) + 0 \n",
    "df_during_facilitators$PA_facilitator_group<- (group_easiness_1 | group_easiness_2) + 0\n"
   ]
  },
  {
   "cell_type": "code",
   "execution_count": 58,
   "metadata": {
    "vscode": {
     "languageId": "r"
    }
   },
   "outputs": [],
   "source": [
    "df_during_facilitators$PA_easiness_home_activity <- NULL\n",
    "df_during_facilitators$PA_easiness_home_equipament <- NULL\n",
    "df_during_facilitators$PA_easiness_home_space <- NULL\n",
    "df_during_facilitators$PA_easiness_family_activity <- NULL\n",
    "df_during_facilitators$PA_easiness_collective <- NULL\n",
    "df_during_facilitators$PA_easiness_unguided <- NULL"
   ]
  },
  {
   "cell_type": "code",
   "execution_count": 59,
   "metadata": {
    "vscode": {
     "languageId": "r"
    }
   },
   "outputs": [
    {
     "data": {
      "text/html": [
       "<ol class=list-inline>\n",
       "\t<li>'PA_easiness_outdoor_activities'</li>\n",
       "\t<li>'PA_easiness_professional_guidance'</li>\n",
       "\t<li>'PA_easiness_music'</li>\n",
       "\t<li>'PA_easiness_others'</li>\n",
       "\t<li>'PA_facilitator_home'</li>\n",
       "\t<li>'PA_facilitator_group'</li>\n",
       "</ol>\n"
      ],
      "text/latex": [
       "\\begin{enumerate*}\n",
       "\\item 'PA\\_easiness\\_outdoor\\_activities'\n",
       "\\item 'PA\\_easiness\\_professional\\_guidance'\n",
       "\\item 'PA\\_easiness\\_music'\n",
       "\\item 'PA\\_easiness\\_others'\n",
       "\\item 'PA\\_facilitator\\_home'\n",
       "\\item 'PA\\_facilitator\\_group'\n",
       "\\end{enumerate*}\n"
      ],
      "text/markdown": [
       "1. 'PA_easiness_outdoor_activities'\n",
       "2. 'PA_easiness_professional_guidance'\n",
       "3. 'PA_easiness_music'\n",
       "4. 'PA_easiness_others'\n",
       "5. 'PA_facilitator_home'\n",
       "6. 'PA_facilitator_group'\n",
       "\n",
       "\n"
      ],
      "text/plain": [
       "[1] \"PA_easiness_outdoor_activities\"    \"PA_easiness_professional_guidance\"\n",
       "[3] \"PA_easiness_music\"                 \"PA_easiness_others\"               \n",
       "[5] \"PA_facilitator_home\"               \"PA_facilitator_group\"             "
      ]
     },
     "metadata": {},
     "output_type": "display_data"
    }
   ],
   "source": [
    "names(df_during_facilitators)"
   ]
  }
 ],
 "metadata": {
  "kernelspec": {
   "display_name": "R",
   "language": "R",
   "name": "ir"
  },
  "language_info": {
   "codemirror_mode": "r",
   "file_extension": ".r",
   "mimetype": "text/x-r-source",
   "name": "R",
   "pygments_lexer": "r",
   "version": "3.6.1"
  },
  "orig_nbformat": 4
 },
 "nbformat": 4,
 "nbformat_minor": 2
}
