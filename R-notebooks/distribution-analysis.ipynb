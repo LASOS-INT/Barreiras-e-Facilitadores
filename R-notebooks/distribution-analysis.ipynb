{
 "cells": [
  {
   "cell_type": "markdown",
   "metadata": {},
   "source": [
    "# Importing Packages"
   ]
  },
  {
   "cell_type": "code",
   "execution_count": null,
   "metadata": {},
   "outputs": [],
   "source": [
    "#install.packages(\"here\")\n",
    "library(here, help, pos = 2, lib.loc = NULL)\n",
    "source(here('Modules','modules.R'))\n",
    "source(here('Modules','data_cleaning.R'))\n",
    "#install_all_packages()\n",
    "load_library_packages()"
   ]
  },
  {
   "cell_type": "markdown",
   "metadata": {},
   "source": [
    "# P-value analysis"
   ]
  },
  {
   "cell_type": "markdown",
   "metadata": {},
   "source": [
    "We wish to separate our data into different groups: people with tag ou depression and people without, so that we can analyse them individually. To do that, we need to reject the null hypothesis: these two groups have the same output variable distribution. The output variable is the one that we want to predict in the classification models."
   ]
  },
  {
   "cell_type": "code",
   "execution_count": 9,
   "metadata": {},
   "outputs": [
    {
     "name": "stdout",
     "output_type": "stream",
     "text": [
      "                  \n",
      "has_tag_depression dont_practice practice\n",
      "             FALSE           296      797\n",
      "             TRUE             50       99\n"
     ]
    },
    {
     "data": {
      "text/plain": [
       "\n",
       "\tPearson's Chi-squared test with simulated p-value (based on 2000\n",
       "\treplicates)\n",
       "\n",
       "data:  H\n",
       "X-squared = 2.7359, df = NA, p-value = 0.1174\n"
      ]
     },
     "metadata": {},
     "output_type": "display_data"
    }
   ],
   "source": [
    "H <- table(has_tag_depression, pa_dataset[, \"PA_practice_during\"])\n",
    "print(H)\n",
    "chisq.test(H, simulate.p.value = TRUE)"
   ]
  },
  {
   "cell_type": "code",
   "execution_count": 10,
   "metadata": {},
   "outputs": [
    {
     "name": "stdout",
     "output_type": "stream",
     "text": [
      "                  \n",
      "has_tag_depression   1   2   3   4   5\n",
      "             FALSE  46 138 238 305 366\n",
      "             TRUE    5   9  23  41  71\n"
     ]
    },
    {
     "data": {
      "text/plain": [
       "\n",
       "\tPearson's Chi-squared test\n",
       "\n",
       "data:  H\n",
       "X-squared = 15.029, df = 4, p-value = 0.004642\n"
      ]
     },
     "metadata": {},
     "output_type": "display_data"
    }
   ],
   "source": [
    "H <- table(has_tag_depression, sedentary_dataset[, \"sedentary_time_range_during\"])\n",
    "print(H)\n",
    "chisq.test(H)"
   ]
  },
  {
   "cell_type": "code",
   "execution_count": 11,
   "metadata": {},
   "outputs": [
    {
     "name": "stdout",
     "output_type": "stream",
     "text": [
      "                  \n",
      "has_tag_depression   0   1   2   3\n",
      "             FALSE 278 236 453 126\n",
      "             TRUE   50  32  55  12\n"
     ]
    },
    {
     "data": {
      "text/plain": [
       "\n",
       "\tPearson's Chi-squared test\n",
       "\n",
       "data:  H\n",
       "X-squared = 5.3597, df = 3, p-value = 0.1473\n"
      ]
     },
     "metadata": {},
     "output_type": "display_data"
    }
   ],
   "source": [
    "H <- table(has_tag_depression, intesity_dataset[, \"PA_intensity_during\"])\n",
    "print(H)\n",
    "chisq.test(H)"
   ]
  },
  {
   "cell_type": "markdown",
   "metadata": {},
   "source": [
    "Notice that the only chi-test that didn't fail to reject the null hypothesis was the one made with sedentary time range output variable. Therefore, groups will be separated for that output."
   ]
  }
 ],
 "metadata": {
  "kernelspec": {
   "display_name": "R",
   "language": "R",
   "name": "ir"
  },
  "language_info": {
   "codemirror_mode": "r",
   "file_extension": ".r",
   "mimetype": "text/x-r-source",
   "name": "R",
   "pygments_lexer": "r",
   "version": "4.1.0"
  },
  "orig_nbformat": 4
 },
 "nbformat": 4,
 "nbformat_minor": 2
}
