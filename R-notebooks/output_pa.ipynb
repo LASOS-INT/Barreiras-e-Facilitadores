{
 "cells": [
  {
   "cell_type": "markdown",
   "metadata": {},
   "source": [
    "# Predicting Practice of Exercise During"
   ]
  },
  {
   "cell_type": "markdown",
   "metadata": {},
   "source": [
    "## Importing packages"
   ]
  },
  {
   "cell_type": "code",
   "execution_count": 36,
   "metadata": {},
   "outputs": [
    {
     "name": "stderr",
     "output_type": "stream",
     "text": [
      "Type 'citation(\"pROC\")' for a citation.\n",
      "\n",
      "\n",
      "Attaching package: 'pROC'\n",
      "\n",
      "\n",
      "The following object is masked from 'package:h2o':\n",
      "\n",
      "    var\n",
      "\n",
      "\n",
      "The following objects are masked from 'package:stats':\n",
      "\n",
      "    cov, smooth, var\n",
      "\n",
      "\n"
     ]
    },
    {
     "name": "stdout",
     "output_type": "stream",
     "text": [
      "Performing PCA\n",
      "Read the 1242 x 50 data matrix successfully!\n",
      "OpenMP is working. 1 threads.\n",
      "Using no_dims = 2, perplexity = 100.000000, and theta = 0.500000\n",
      "Computing input similarities...\n",
      "Building tree...\n",
      "Done in 1.22 seconds (sparsity = 0.326346)!\n",
      "Learning embedding...\n",
      "Iteration 50: error is 57.596822 (50 iterations in 0.52 seconds)\n",
      "Iteration 100: error is 57.596822 (50 iterations in 0.44 seconds)\n",
      "Iteration 150: error is 57.596822 (50 iterations in 0.89 seconds)\n",
      "Iteration 200: error is 57.596822 (50 iterations in 1.34 seconds)\n",
      "Iteration 250: error is 57.596830 (50 iterations in 2.00 seconds)\n",
      "Iteration 300: error is 2.314829 (50 iterations in 1.40 seconds)\n",
      "Iteration 350: error is 1.307825 (50 iterations in 0.77 seconds)\n",
      "Iteration 400: error is 1.264104 (50 iterations in 0.43 seconds)\n",
      "Iteration 450: error is 1.259163 (50 iterations in 0.49 seconds)\n",
      "Iteration 500: error is 1.254181 (50 iterations in 0.55 seconds)\n",
      "Iteration 550: error is 1.251289 (50 iterations in 0.49 seconds)\n",
      "Iteration 600: error is 1.249738 (50 iterations in 0.48 seconds)\n",
      "Iteration 650: error is 1.247943 (50 iterations in 0.46 seconds)\n",
      "Iteration 700: error is 1.246239 (50 iterations in 0.53 seconds)\n",
      "Iteration 750: error is 1.245424 (50 iterations in 0.50 seconds)\n",
      "Iteration 800: error is 1.244529 (50 iterations in 0.53 seconds)\n",
      "Iteration 850: error is 1.244411 (50 iterations in 0.48 seconds)\n",
      "Iteration 900: error is 1.244227 (50 iterations in 0.53 seconds)\n",
      "Iteration 950: error is 1.243720 (50 iterations in 0.53 seconds)\n",
      "Iteration 1000: error is 1.243327 (50 iterations in 0.53 seconds)\n",
      "Fitting performed in 13.87 seconds.\n"
     ]
    },
    {
     "data": {
      "text/html": [
       "<ol>\n",
       "\t<li>TRUE</li>\n",
       "\t<li>TRUE</li>\n",
       "\t<li>TRUE</li>\n",
       "\t<li>TRUE</li>\n",
       "\t<li>TRUE</li>\n",
       "\t<li>TRUE</li>\n",
       "\t<li>TRUE</li>\n",
       "\t<li>TRUE</li>\n",
       "\t<li>TRUE</li>\n",
       "\t<li>TRUE</li>\n",
       "\t<li>TRUE</li>\n",
       "\t<li>TRUE</li>\n",
       "\t<li>TRUE</li>\n",
       "\t<li>TRUE</li>\n",
       "\t<li>TRUE</li>\n",
       "\t<li>TRUE</li>\n",
       "\t<li>TRUE</li>\n",
       "\t<li>TRUE</li>\n",
       "\t<li>TRUE</li>\n",
       "\t<li>TRUE</li>\n",
       "\t<li>TRUE</li>\n",
       "\t<li>TRUE</li>\n",
       "\t<li>TRUE</li>\n",
       "\t<li>TRUE</li>\n",
       "\t<li>TRUE</li>\n",
       "\t<li>TRUE</li>\n",
       "\t<li>TRUE</li>\n",
       "\t<li>TRUE</li>\n",
       "</ol>\n"
      ],
      "text/latex": [
       "\\begin{enumerate}\n",
       "\\item TRUE\n",
       "\\item TRUE\n",
       "\\item TRUE\n",
       "\\item TRUE\n",
       "\\item TRUE\n",
       "\\item TRUE\n",
       "\\item TRUE\n",
       "\\item TRUE\n",
       "\\item TRUE\n",
       "\\item TRUE\n",
       "\\item TRUE\n",
       "\\item TRUE\n",
       "\\item TRUE\n",
       "\\item TRUE\n",
       "\\item TRUE\n",
       "\\item TRUE\n",
       "\\item TRUE\n",
       "\\item TRUE\n",
       "\\item TRUE\n",
       "\\item TRUE\n",
       "\\item TRUE\n",
       "\\item TRUE\n",
       "\\item TRUE\n",
       "\\item TRUE\n",
       "\\item TRUE\n",
       "\\item TRUE\n",
       "\\item TRUE\n",
       "\\item TRUE\n",
       "\\end{enumerate}\n"
      ],
      "text/markdown": [
       "1. TRUE\n",
       "2. TRUE\n",
       "3. TRUE\n",
       "4. TRUE\n",
       "5. TRUE\n",
       "6. TRUE\n",
       "7. TRUE\n",
       "8. TRUE\n",
       "9. TRUE\n",
       "10. TRUE\n",
       "11. TRUE\n",
       "12. TRUE\n",
       "13. TRUE\n",
       "14. TRUE\n",
       "15. TRUE\n",
       "16. TRUE\n",
       "17. TRUE\n",
       "18. TRUE\n",
       "19. TRUE\n",
       "20. TRUE\n",
       "21. TRUE\n",
       "22. TRUE\n",
       "23. TRUE\n",
       "24. TRUE\n",
       "25. TRUE\n",
       "26. TRUE\n",
       "27. TRUE\n",
       "28. TRUE\n",
       "\n",
       "\n"
      ],
      "text/plain": [
       "[[1]]\n",
       "[1] TRUE\n",
       "\n",
       "[[2]]\n",
       "[1] TRUE\n",
       "\n",
       "[[3]]\n",
       "[1] TRUE\n",
       "\n",
       "[[4]]\n",
       "[1] TRUE\n",
       "\n",
       "[[5]]\n",
       "[1] TRUE\n",
       "\n",
       "[[6]]\n",
       "[1] TRUE\n",
       "\n",
       "[[7]]\n",
       "[1] TRUE\n",
       "\n",
       "[[8]]\n",
       "[1] TRUE\n",
       "\n",
       "[[9]]\n",
       "[1] TRUE\n",
       "\n",
       "[[10]]\n",
       "[1] TRUE\n",
       "\n",
       "[[11]]\n",
       "[1] TRUE\n",
       "\n",
       "[[12]]\n",
       "[1] TRUE\n",
       "\n",
       "[[13]]\n",
       "[1] TRUE\n",
       "\n",
       "[[14]]\n",
       "[1] TRUE\n",
       "\n",
       "[[15]]\n",
       "[1] TRUE\n",
       "\n",
       "[[16]]\n",
       "[1] TRUE\n",
       "\n",
       "[[17]]\n",
       "[1] TRUE\n",
       "\n",
       "[[18]]\n",
       "[1] TRUE\n",
       "\n",
       "[[19]]\n",
       "[1] TRUE\n",
       "\n",
       "[[20]]\n",
       "[1] TRUE\n",
       "\n",
       "[[21]]\n",
       "[1] TRUE\n",
       "\n",
       "[[22]]\n",
       "[1] TRUE\n",
       "\n",
       "[[23]]\n",
       "[1] TRUE\n",
       "\n",
       "[[24]]\n",
       "[1] TRUE\n",
       "\n",
       "[[25]]\n",
       "[1] TRUE\n",
       "\n",
       "[[26]]\n",
       "[1] TRUE\n",
       "\n",
       "[[27]]\n",
       "[1] TRUE\n",
       "\n",
       "[[28]]\n",
       "[1] TRUE\n"
      ]
     },
     "metadata": {},
     "output_type": "display_data"
    }
   ],
   "source": [
    "library(here, help, pos = 2, lib.loc = NULL)\n",
    "source(here('Modules','modules.R'))\n",
    "source(here('Modules','data_cleaning.R'))\n",
    "source(here('Modules','unsupervised_learning.R'))\n",
    "#install_all_packages()\n",
    "load_library_packages()"
   ]
  },
  {
   "cell_type": "markdown",
   "metadata": {},
   "source": [
    "## Outliers"
   ]
  },
  {
   "cell_type": "markdown",
   "metadata": {},
   "source": [
    "#### Outlier: Strange Dont Practice"
   ]
  },
  {
   "cell_type": "code",
   "execution_count": 37,
   "metadata": {},
   "outputs": [],
   "source": [
    "pa_dataset_copy <- pa_dataset\n",
    "pa_dataset_copy[\"outlier\"] <- strange_dp\n",
    "outliers_result_sdp <- outliers_checker(distances_sdp, pa_dataset_copy, \"PA_practice_during\")"
   ]
  },
  {
   "cell_type": "code",
   "execution_count": 38,
   "metadata": {},
   "outputs": [
    {
     "data": {
      "image/png": "[encoded data removed]",
      "text/plain": [
       "plot without title"
      ]
     },
     "metadata": {
      "image/png": {
       "height": 420,
       "width": 420
      }
     },
     "output_type": "display_data"
    }
   ],
   "source": [
    "plot <- outliers_result_sdp$kappa_x_alpha\n",
    "ggplot(plot, aes(plot[, \"alpha\"], plot[, \"kappa\"] )) + geom_point()"
   ]
  },
  {
   "cell_type": "markdown",
   "metadata": {},
   "source": [
    "#### Outlier: Strange Practice"
   ]
  },
  {
   "cell_type": "code",
   "execution_count": null,
   "metadata": {},
   "outputs": [],
   "source": [
    "pa_dataset_copy <- pa_dataset\n",
    "pa_dataset_copy[\"outlier\"] <- strange_p\n",
    "outliers_result_sp <- outliers_checker(distances_sp, pa_dataset_copy, \"PA_practice_during\")"
   ]
  },
  {
   "cell_type": "code",
   "execution_count": null,
   "metadata": {},
   "outputs": [
    {
     "data": {
      "image/png": "[encoded data removed]",
      "text/plain": [
       "plot without title"
      ]
     },
     "metadata": {
      "image/png": {
       "height": 420,
       "width": 420
      }
     },
     "output_type": "display_data"
    }
   ],
   "source": [
    "plot <- outliers_result_sp$kappa_x_alpha\n",
    "ggplot(plot, aes(plot[, \"alpha\"], plot[, \"kappa\"] )) + geom_point()"
   ]
  },
  {
   "cell_type": "markdown",
   "metadata": {},
   "source": [
    "#### New Train and Test\n",
    "The outliers check in the strange dont practice showed that we should delete 1 record"
   ]
  },
  {
   "cell_type": "code",
   "execution_count": 39,
   "metadata": {},
   "outputs": [],
   "source": [
    "pa_train <- outliers_result_sdp$best_model$train\n",
    "pa_test <- outliers_result_sdp$best_model$test"
   ]
  },
  {
   "cell_type": "markdown",
   "metadata": {},
   "source": [
    "## Models"
   ]
  },
  {
   "cell_type": "code",
   "execution_count": null,
   "metadata": {},
   "outputs": [
    {
     "data": {
      "text/html": [
       "<style>\n",
       ".list-inline {list-style: none; margin:0; padding: 0}\n",
       ".list-inline>li {display: inline-block}\n",
       ".list-inline>li:not(:last-child)::after {content: \"\\00b7\"; padding: 0 .5ex}\n",
       "</style>\n",
       "<ol class=list-inline><li>1242</li><li>74</li></ol>\n"
      ],
      "text/latex": [
       "\\begin{enumerate*}\n",
       "\\item 1242\n",
       "\\item 74\n",
       "\\end{enumerate*}\n"
      ],
      "text/markdown": [
       "1. 1242\n",
       "2. 74\n",
       "\n",
       "\n"
      ],
      "text/plain": [
       "[1] 1242   74"
      ]
     },
     "metadata": {},
     "output_type": "display_data"
    }
   ],
   "source": [
    "dim(pa_dataset)"
   ]
  },
  {
   "cell_type": "code",
   "execution_count": null,
   "metadata": {},
   "outputs": [
    {
     "data": {
      "text/plain": [
       "\n",
       "dont_practice      practice \n",
       "          346           896 "
      ]
     },
     "metadata": {},
     "output_type": "display_data"
    }
   ],
   "source": [
    "table(pa_dataset[, \"PA_practice_during\"])"
   ]
  },
  {
   "cell_type": "markdown",
   "metadata": {},
   "source": [
    "There is a majority class, we should apply data augmentation. We chose kappa metrict to optimize becouse data is unbalanced."
   ]
  },
  {
   "cell_type": "markdown",
   "metadata": {},
   "source": [
    "### Applying augmentation into the training set"
   ]
  },
  {
   "cell_type": "code",
   "execution_count": null,
   "metadata": {},
   "outputs": [
    {
     "data": {
      "text/plain": [
       "\n",
       "dont_practice      practice \n",
       "          628           628 "
      ]
     },
     "metadata": {},
     "output_type": "display_data"
    }
   ],
   "source": [
    "pa_train.aug <- data_augmentation(\n",
    "    train_data=pa_train,\n",
    "    yname=\"PA_practice_during\",\n",
    "    maj_class = \"practice\",\n",
    "    min_classes = c(\"dont_practice\"),\n",
    "    ycol=match(\"PA_practice_during\",names(pa_dataset))\n",
    ")\n",
    "\n",
    "table(pa_train.aug[, \"PA_practice_during\"])\n"
   ]
  },
  {
   "cell_type": "markdown",
   "metadata": {},
   "source": [
    "### Decision Tree: Kappa metric without augmentation"
   ]
  },
  {
   "cell_type": "code",
   "execution_count": 5,
   "metadata": {},
   "outputs": [
    {
     "name": "stdout",
     "output_type": "stream",
     "text": [
      "Confusion Matrix and Statistics\n",
      "\n",
      "               Reference\n",
      "Prediction      dont_practice practice\n",
      "  dont_practice            50       43\n",
      "  practice                 53      225\n",
      "                                          \n",
      "               Accuracy : 0.7412          \n",
      "                 95% CI : (0.6935, 0.7851)\n",
      "    No Information Rate : 0.7224          \n",
      "    P-Value [Acc > NIR] : 0.2267          \n",
      "                                          \n",
      "                  Kappa : 0.335           \n",
      "                                          \n",
      " Mcnemar's Test P-Value : 0.3583          \n",
      "                                          \n",
      "            Sensitivity : 0.4854          \n",
      "            Specificity : 0.8396          \n",
      "         Pos Pred Value : 0.5376          \n",
      "         Neg Pred Value : 0.8094          \n",
      "              Precision : 0.5376          \n",
      "                 Recall : 0.4854          \n",
      "                     F1 : 0.5102          \n",
      "             Prevalence : 0.2776          \n",
      "         Detection Rate : 0.1348          \n",
      "   Detection Prevalence : 0.2507          \n",
      "      Balanced Accuracy : 0.6625          \n",
      "                                          \n",
      "       'Positive' Class : dont_practice   \n",
      "                                          \n"
     ]
    },
    {
     "data": {
      "image/png": "[encoded data removed]",
      "text/plain": [
       "plot without title"
      ]
     },
     "metadata": {
      "image/png": {
       "height": 420,
       "width": 420
      }
     },
     "output_type": "display_data"
    }
   ],
   "source": [
    "set.seed(2)\n",
    "model <- fit_model(\n",
    "    model_method=\"rpart\",\n",
    "    model_metric=\"Kappa\",\n",
    "    trControl_func = trainControl(method = \"cv\"),\n",
    "    train_data = pa_train,\n",
    "    test_data= pa_test,\n",
    "    yname=\"PA_practice_during\",\n",
    "    length = 3\n",
    ")\n",
    "print(model$matrix)\n",
    "\n",
    "rpart.plot(model$result$finalModel)\n",
    "\n"
   ]
  },
  {
   "cell_type": "markdown",
   "metadata": {},
   "source": [
    "### Decision Tree: Accuracy metric with augmentation"
   ]
  },
  {
   "cell_type": "code",
   "execution_count": null,
   "metadata": {},
   "outputs": [
    {
     "name": "stdout",
     "output_type": "stream",
     "text": [
      "Confusion Matrix and Statistics\n",
      "\n",
      "               Reference\n",
      "Prediction      dont_practice practice\n",
      "  dont_practice            47       59\n",
      "  practice                 56      209\n",
      "                                          \n",
      "               Accuracy : 0.69            \n",
      "                 95% CI : (0.6402, 0.7368)\n",
      "    No Information Rate : 0.7224          \n",
      "    P-Value [Acc > NIR] : 0.9251          \n",
      "                                          \n",
      "                  Kappa : 0.2341          \n",
      "                                          \n",
      " Mcnemar's Test P-Value : 0.8521          \n",
      "                                          \n",
      "            Sensitivity : 0.4563          \n",
      "            Specificity : 0.7799          \n",
      "         Pos Pred Value : 0.4434          \n",
      "         Neg Pred Value : 0.7887          \n",
      "             Prevalence : 0.2776          \n",
      "         Detection Rate : 0.1267          \n",
      "   Detection Prevalence : 0.2857          \n",
      "      Balanced Accuracy : 0.6181          \n",
      "                                          \n",
      "       'Positive' Class : dont_practice   \n",
      "                                          \n"
     ]
    },
    {
     "data": {
      "image/png": "[encoded data removed]",
      "text/plain": [
       "plot without title"
      ]
     },
     "metadata": {
      "image/png": {
       "height": 420,
       "width": 420
      }
     },
     "output_type": "display_data"
    }
   ],
   "source": [
    "set.seed(2)\n",
    "model <- fit_model(\n",
    "    model_method=\"rpart\",\n",
    "    model_metric=\"Accuracy\",\n",
    "    trControl_func = trainControl(method = \"cv\"),\n",
    "    train_data = pa_train.aug,\n",
    "    test_data=pa_test,\n",
    "    yname=\"PA_practice_during\",\n",
    "    length=3\n",
    ")\n",
    "print(model$matrix)\n",
    "rpart.plot(model$result$finalModel)"
   ]
  },
  {
   "cell_type": "markdown",
   "metadata": {},
   "source": [
    "### RF: Kappa metric without augmentation"
   ]
  },
  {
   "cell_type": "code",
   "execution_count": null,
   "metadata": {},
   "outputs": [
    {
     "name": "stdout",
     "output_type": "stream",
     "text": [
      "Confusion Matrix and Statistics\n",
      "\n",
      "               Reference\n",
      "Prediction      dont_practice practice\n",
      "  dont_practice            44       28\n",
      "  practice                 59      240\n",
      "                                         \n",
      "               Accuracy : 0.7655         \n",
      "                 95% CI : (0.719, 0.8077)\n",
      "    No Information Rate : 0.7224         \n",
      "    P-Value [Acc > NIR] : 0.034526       \n",
      "                                         \n",
      "                  Kappa : 0.3557         \n",
      "                                         \n",
      " Mcnemar's Test P-Value : 0.001298       \n",
      "                                         \n",
      "            Sensitivity : 0.4272         \n",
      "            Specificity : 0.8955         \n",
      "         Pos Pred Value : 0.6111         \n",
      "         Neg Pred Value : 0.8027         \n",
      "             Prevalence : 0.2776         \n",
      "         Detection Rate : 0.1186         \n",
      "   Detection Prevalence : 0.1941         \n",
      "      Balanced Accuracy : 0.6614         \n",
      "                                         \n",
      "       'Positive' Class : dont_practice  \n",
      "                                         \n"
     ]
    }
   ],
   "source": [
    "set.seed(2)\n",
    "model <- fit_model(\n",
    "    model_method=\"rf\",\n",
    "    model_metric=\"Kappa\",\n",
    "    trControl_func = trainControl(method = \"cv\", search=\"grid\"),\n",
    "    train_data = pa_train,\n",
    "    test_data=pa_test,\n",
    "    yname=\"PA_practice_during\",\n",
    "    length = 15\n",
    ")\n",
    "print(model$matrix)"
   ]
  },
  {
   "cell_type": "code",
   "execution_count": null,
   "metadata": {},
   "outputs": [
    {
     "data": {
      "image/png": "[encoded data removed]",
      "text/plain": [
       "plot without title"
      ]
     },
     "metadata": {
      "image/png": {
       "height": 420,
       "width": 420
      }
     },
     "output_type": "display_data"
    },
    {
     "data": {
      "image/png": "[encoded data removed]",
      "text/plain": [
       "plot without title"
      ]
     },
     "metadata": {
      "image/png": {
       "height": 420,
       "width": 420
      }
     },
     "output_type": "display_data"
    }
   ],
   "source": [
    "plot(varImp(model$result), top=20)\n",
    "plot(model$result)\n"
   ]
  },
  {
   "cell_type": "markdown",
   "metadata": {},
   "source": [
    "### RF: Kappa metric with augmentation"
   ]
  },
  {
   "cell_type": "code",
   "execution_count": null,
   "metadata": {},
   "outputs": [
    {
     "name": "stdout",
     "output_type": "stream",
     "text": [
      "Confusion Matrix and Statistics\n",
      "\n",
      "               Reference\n",
      "Prediction      dont_practice practice\n",
      "  dont_practice            46       23\n",
      "  practice                 57      245\n",
      "                                         \n",
      "               Accuracy : 0.7844         \n",
      "                 95% CI : (0.739, 0.8251)\n",
      "    No Information Rate : 0.7224         \n",
      "    P-Value [Acc > NIR] : 0.0038418      \n",
      "                                         \n",
      "                  Kappa : 0.4016         \n",
      "                                         \n",
      " Mcnemar's Test P-Value : 0.0002247      \n",
      "                                         \n",
      "            Sensitivity : 0.4466         \n",
      "            Specificity : 0.9142         \n",
      "         Pos Pred Value : 0.6667         \n",
      "         Neg Pred Value : 0.8113         \n",
      "             Prevalence : 0.2776         \n",
      "         Detection Rate : 0.1240         \n",
      "   Detection Prevalence : 0.1860         \n",
      "      Balanced Accuracy : 0.6804         \n",
      "                                         \n",
      "       'Positive' Class : dont_practice  \n",
      "                                         \n"
     ]
    }
   ],
   "source": [
    "set.seed(2)\n",
    "model <- fit_model(\n",
    "    model_method=\"rf\",\n",
    "    model_metric=\"Accuracy\",\n",
    "    trControl_func = trainControl(method = \"cv\", search=\"grid\"),\n",
    "    train_data = pa_train.aug,\n",
    "    test_data=pa_test,\n",
    "    yname=\"PA_practice_during\",\n",
    "    length = 15\n",
    ")\n",
    "print(model$matrix)"
   ]
  },
  {
   "cell_type": "code",
   "execution_count": null,
   "metadata": {},
   "outputs": [
    {
     "data": {
      "image/png": "[encoded data removed]",
      "text/plain": [
       "plot without title"
      ]
     },
     "metadata": {
      "image/png": {
       "height": 420,
       "width": 420
      }
     },
     "output_type": "display_data"
    },
    {
     "data": {
      "image/png": "[encoded data removed]",
      "text/plain": [
       "plot without title"
      ]
     },
     "metadata": {
      "image/png": {
       "height": 420,
       "width": 420
      }
     },
     "output_type": "display_data"
    }
   ],
   "source": [
    "plot(varImp(model$result), top=20)\n",
    "plot(model$result)\n"
   ]
  },
  {
   "cell_type": "code",
   "execution_count": null,
   "metadata": {},
   "outputs": [],
   "source": [
    "real <- as.numeric(factor(ts$diabetes))-1"
   ]
  },
  {
   "cell_type": "code",
   "execution_count": 62,
   "metadata": {},
   "outputs": [
    {
     "name": "stderr",
     "output_type": "stream",
     "text": [
      "Warning message in .fun(piece, ...):\n",
      "\"The following columns have missing values (NA), which have been removed: 'Neg Pred Value'.\n",
      "\"\n",
      "Warning message in .fun(piece, ...):\n",
      "\"The following columns have missing values (NA), which have been removed: 'Neg Pred Value'.\n",
      "\"\n",
      "Warning message in .fun(piece, ...):\n",
      "\"The following columns have missing values (NA), which have been removed: 'Neg Pred Value'.\n",
      "\"\n",
      "Warning message in .fun(piece, ...):\n",
      "\"The following columns have missing values (NA), which have been removed: 'Neg Pred Value'.\n",
      "\"\n",
      "Warning message in .fun(piece, ...):\n",
      "\"The following columns have missing values (NA), which have been removed: 'Neg Pred Value'.\n",
      "\"\n",
      "Warning message in .fun(piece, ...):\n",
      "\"The following columns have missing values (NA), which have been removed: 'Neg Pred Value'.\n",
      "\"\n",
      "Warning message in .fun(piece, ...):\n",
      "\"The following columns have missing values (NA), which have been removed: 'Pos Pred Value', 'Precision', 'F1'.\n",
      "\"\n",
      "Warning message in .fun(piece, ...):\n",
      "\"The following columns have missing values (NA), which have been removed: 'Pos Pred Value', 'Precision', 'F1'.\n",
      "\"\n",
      "Warning message in .fun(piece, ...):\n",
      "\"The following columns have missing values (NA), which have been removed: 'Pos Pred Value', 'Precision', 'F1'.\n",
      "\"\n",
      "Warning message in .fun(piece, ...):\n",
      "\"The following columns have missing values (NA), which have been removed: 'Pos Pred Value', 'Precision', 'F1'.\n",
      "\"\n",
      "Warning message in .fun(piece, ...):\n",
      "\"The following columns have missing values (NA), which have been removed: 'Pos Pred Value', 'Precision', 'F1'.\n",
      "\"\n",
      "Warning message in .fun(piece, ...):\n",
      "\"The following columns have missing values (NA), which have been removed: 'Pos Pred Value', 'Precision', 'F1'.\n",
      "\"\n",
      "Warning message in .fun(piece, ...):\n",
      "\"The following columns have missing values (NA), which have been removed: 'Pos Pred Value', 'Precision', 'F1'.\n",
      "\"\n",
      "Warning message in .fun(piece, ...):\n",
      "\"The following columns have missing values (NA), which have been removed: 'Pos Pred Value', 'Precision', 'F1'.\n",
      "\"\n",
      "Warning message in .fun(piece, ...):\n",
      "\"The following columns have missing values (NA), which have been removed: 'Pos Pred Value', 'Precision', 'F1'.\n",
      "\"\n",
      "Warning message in .fun(piece, ...):\n",
      "\"The following columns have missing values (NA), which have been removed: 'Pos Pred Value', 'Precision', 'F1'.\n",
      "\"\n",
      "Warning message in .fun(piece, ...):\n",
      "\"The following columns have missing values (NA), which have been removed: 'Pos Pred Value', 'Precision', 'F1'.\n",
      "\"\n",
      "Warning message in .fun(piece, ...):\n",
      "\"The following columns have missing values (NA), which have been removed: 'Pos Pred Value', 'Precision', 'F1'.\n",
      "\"\n",
      "Warning message in .fun(piece, ...):\n",
      "\"The following columns have missing values (NA), which have been removed: 'Pos Pred Value', 'Precision', 'F1'.\n",
      "\"\n",
      "Warning message in .fun(piece, ...):\n",
      "\"The following columns have missing values (NA), which have been removed: 'Pos Pred Value', 'Precision', 'F1'.\n",
      "\"\n",
      "Warning message in .fun(piece, ...):\n",
      "\"The following columns have missing values (NA), which have been removed: 'Pos Pred Value', 'Precision', 'F1'.\n",
      "\"\n",
      "Warning message in .fun(piece, ...):\n",
      "\"The following columns have missing values (NA), which have been removed: 'Pos Pred Value', 'Precision', 'F1'.\n",
      "\"\n",
      "Warning message in .fun(piece, ...):\n",
      "\"The following columns have missing values (NA), which have been removed: 'Pos Pred Value', 'Precision', 'F1'.\n",
      "\"\n",
      "Warning message in .fun(piece, ...):\n",
      "\"The following columns have missing values (NA), which have been removed: 'Pos Pred Value', 'Precision', 'F1'.\n",
      "\"\n"
     ]
    }
   ],
   "source": [
    "source(here('Modules','modules.R'))\n",
    "set.seed(2)\n",
    "model <- fit_model_th(\n",
    "    model_method=\"rpart\",\n",
    "    model_metric=\"ROC\",\n",
    "    trControl_func = trainControl(method = \"cv\",returnResamp = 'none', classProbs = TRUE,  savePredictions = TRUE,  verboseIter = FALSE, summaryFunction = twoClassSummary),\n",
    "    train_data = pa_train,\n",
    "    test_data=pa_test,\n",
    "    yname=\"PA_practice_during\",\n",
    "    length = 3\n",
    ")\n",
    "# print(model$matrix)"
   ]
  }
 ],
 "metadata": {
  "kernelspec": {
   "display_name": "R",
   "language": "R",
   "name": "ir"
  },
  "language_info": {
   "codemirror_mode": "r",
   "file_extension": ".r",
   "mimetype": "text/x-r-source",
   "name": "R",
   "pygments_lexer": "r",
   "version": "4.1.0"
  },
  "orig_nbformat": 4
 },
 "nbformat": 4,
 "nbformat_minor": 2
}
