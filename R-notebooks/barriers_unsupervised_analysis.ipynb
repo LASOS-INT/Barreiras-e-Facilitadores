{
 "cells": [
  {
   "cell_type": "markdown",
   "metadata": {},
   "source": [
    "## Importing packages"
   ]
  },
  {
   "cell_type": "code",
   "execution_count": 1,
   "metadata": {},
   "outputs": [
    {
     "name": "stderr",
     "output_type": "stream",
     "text": [
      "Warning message:\n",
      "\"package 'here' was built under R version 4.1.1\"\n",
      "here() starts at C:/Users/maria/Desktop/Programacao/IC/projetos/Barreiras-e-Facilitadores\n",
      "\n",
      "Warning message:\n",
      "\"package 'ggplot2' was built under R version 4.1.1\"\n",
      "Warning message:\n",
      "\"package 'cowplot' was built under R version 4.1.1\"\n",
      "Warning message:\n",
      "\"package 'randomForest' was built under R version 4.1.1\"\n",
      "randomForest 4.6-14\n",
      "\n",
      "Type rfNews() to see new features/changes/bug fixes.\n",
      "\n",
      "\n",
      "Attaching package: 'randomForest'\n",
      "\n",
      "\n",
      "The following object is masked from 'package:ggplot2':\n",
      "\n",
      "    margin\n",
      "\n",
      "\n",
      "Warning message:\n",
      "\"package 'caret' was built under R version 4.1.1\"\n",
      "Carregando pacotes exigidos: lattice\n",
      "\n",
      "Warning message:\n",
      "\"package 'lattice' was built under R version 4.1.1\"\n",
      "Warning message:\n",
      "\"package 'rpart.plot' was built under R version 4.1.1\"\n",
      "Carregando pacotes exigidos: rpart\n",
      "\n",
      "Warning message:\n",
      "\"package 'readxl' was built under R version 4.1.2\"\n",
      "Warning message:\n",
      "\"package 'e1071' was built under R version 4.1.1\"\n",
      "Warning message:\n",
      "\"package 'AugmenterR' was built under R version 4.1.1\"\n",
      "Warning message:\n",
      "\"package 'smotefamily' was built under R version 4.1.1\"\n",
      "Warning message:\n",
      "\"package 'ROSE' was built under R version 4.1.1\"\n",
      "Loaded ROSE 0.0-4\n",
      "\n",
      "\n",
      "Warning message:\n",
      "\"package 'xgboost' was built under R version 4.1.1\"\n",
      "Type 'citation(\"pROC\")' for a citation.\n",
      "\n",
      "\n",
      "Attaching package: 'pROC'\n",
      "\n",
      "\n",
      "The following objects are masked from 'package:stats':\n",
      "\n",
      "    cov, smooth, var\n",
      "\n",
      "\n",
      "Warning message:\n",
      "\"package 'klaR' was built under R version 4.1.2\"\n",
      "Carregando pacotes exigidos: MASS\n",
      "\n",
      "Warning message:\n",
      "\"package 'MASS' was built under R version 4.1.1\"\n",
      "\n",
      "Attaching package: 'MASS'\n",
      "\n",
      "\n",
      "The following object is masked _by_ '.GlobalEnv':\n",
      "\n",
      "    fbeta\n",
      "\n",
      "\n",
      "Warning message:\n",
      "\"package 'patchwork' was built under R version 4.1.2\"\n",
      "\n",
      "Attaching package: 'patchwork'\n",
      "\n",
      "\n",
      "The following object is masked from 'package:MASS':\n",
      "\n",
      "    area\n",
      "\n",
      "\n",
      "The following object is masked from 'package:cowplot':\n",
      "\n",
      "    align_plots\n",
      "\n",
      "\n",
      "Warning message:\n",
      "\"package 'DescTools' was built under R version 4.1.1\"\n",
      "\n",
      "Attaching package: 'DescTools'\n",
      "\n",
      "\n",
      "The following objects are masked from 'package:caret':\n",
      "\n",
      "    MAE, RMSE\n",
      "\n",
      "\n",
      "Warning message:\n",
      "\"package 'devtools' was built under R version 4.1.2\"\n",
      "Carregando pacotes exigidos: usethis\n",
      "\n",
      "Warning message:\n",
      "\"package 'usethis' was built under R version 4.1.2\"\n",
      "Warning message:\n",
      "\"package 'dplyr' was built under R version 4.1.1\"\n",
      "\n",
      "Attaching package: 'dplyr'\n",
      "\n",
      "\n",
      "The following object is masked from 'package:MASS':\n",
      "\n",
      "    select\n",
      "\n",
      "\n",
      "The following object is masked from 'package:xgboost':\n",
      "\n",
      "    slice\n",
      "\n",
      "\n",
      "The following object is masked from 'package:randomForest':\n",
      "\n",
      "    combine\n",
      "\n",
      "\n",
      "The following objects are masked from 'package:stats':\n",
      "\n",
      "    filter, lag\n",
      "\n",
      "\n",
      "The following objects are masked from 'package:base':\n",
      "\n",
      "    intersect, setdiff, setequal, union\n",
      "\n",
      "\n",
      "\n",
      "Attaching package: 'kernlab'\n",
      "\n",
      "\n",
      "The following object is masked from 'package:ggplot2':\n",
      "\n",
      "    alpha\n",
      "\n",
      "\n",
      "Warning message:\n",
      "\"package 'fastAdaboost' was built under R version 4.1.1\"\n",
      "Warning message:\n",
      "\"package 'DataExplorer' was built under R version 4.1.1\"\n",
      "dummies-1.5.6 provided by Decision Patterns\n",
      "\n",
      "\n",
      "Warning message:\n",
      "\"package 'mlbench' was built under R version 4.1.1\"\n",
      "Warning message:\n",
      "\"package 'h2o' was built under R version 4.1.1\"\n",
      "\n",
      "----------------------------------------------------------------------\n",
      "\n",
      "Your next step is to start H2O:\n",
      "    > h2o.init()\n",
      "\n",
      "For H2O package documentation, ask for help:\n",
      "    > ??h2o\n",
      "\n",
      "After starting H2O, you can use the Web UI at http://localhost:54321\n",
      "For more information visit https://docs.h2o.ai\n",
      "\n",
      "----------------------------------------------------------------------\n",
      "\n",
      "\n",
      "\n",
      "Attaching package: 'h2o'\n",
      "\n",
      "\n",
      "The following object is masked from 'package:pROC':\n",
      "\n",
      "    var\n",
      "\n",
      "\n",
      "The following objects are masked from 'package:stats':\n",
      "\n",
      "    cor, sd, var\n",
      "\n",
      "\n",
      "The following objects are masked from 'package:base':\n",
      "\n",
      "    %*%, %in%, &&, ||, apply, as.factor, as.numeric, colnames,\n",
      "    colnames<-, ifelse, is.character, is.factor, is.numeric, log,\n",
      "    log10, log1p, log2, round, signif, trunc\n",
      "\n",
      "\n",
      "Warning message:\n",
      "\"package 'rattle' was built under R version 4.1.1\"\n",
      "Carregando pacotes exigidos: tibble\n",
      "\n",
      "Carregando pacotes exigidos: bitops\n",
      "\n",
      "\n",
      "Attaching package: 'bitops'\n",
      "\n",
      "\n",
      "The following object is masked from 'package:DescTools':\n",
      "\n",
      "    %^%\n",
      "\n",
      "\n",
      "Rattle: A free graphical interface for data science with R.\n",
      "Version 5.4.0 Copyright (c) 2006-2020 Togaware Pty Ltd.\n",
      "Type 'rattle()' to shake, rattle, and roll your data.\n",
      "\n",
      "\n",
      "Attaching package: 'rattle'\n",
      "\n",
      "\n",
      "The following object is masked from 'package:xgboost':\n",
      "\n",
      "    xgboost\n",
      "\n",
      "\n",
      "The following object is masked from 'package:randomForest':\n",
      "\n",
      "    importance\n",
      "\n",
      "\n",
      "Warning message:\n",
      "\"package 'MLmetrics' was built under R version 4.1.1\"\n",
      "\n",
      "Attaching package: 'MLmetrics'\n",
      "\n",
      "\n",
      "The following objects are masked from 'package:DescTools':\n",
      "\n",
      "    AUC, Gini, MAE, MAPE, MSE, RMSE\n",
      "\n",
      "\n",
      "The following objects are masked from 'package:caret':\n",
      "\n",
      "    MAE, RMSE\n",
      "\n",
      "\n",
      "The following object is masked from 'package:base':\n",
      "\n",
      "    Recall\n",
      "\n",
      "\n",
      "Warning message:\n",
      "\"package 'ggfortify' was built under R version 4.1.1\"\n",
      "Warning message:\n",
      "\"package 'Rtsne' was built under R version 4.1.1\"\n",
      "Warning message:\n",
      "\"package 'obliqueRF' was built under R version 4.1.2\"\n",
      "Carregando pacotes exigidos: ROCR\n",
      "\n",
      "Warning message:\n",
      "\"package 'ROCR' was built under R version 4.1.1\"\n",
      "Carregando pacotes exigidos: pls\n",
      "\n",
      "Warning message:\n",
      "\"package 'pls' was built under R version 4.1.2\"\n",
      "\n",
      "Attaching package: 'pls'\n",
      "\n",
      "\n",
      "The following object is masked from 'package:caret':\n",
      "\n",
      "    R2\n",
      "\n",
      "\n",
      "The following object is masked from 'package:stats':\n",
      "\n",
      "    loadings\n",
      "\n",
      "\n",
      "Carregando pacotes exigidos: mda\n",
      "\n",
      "Warning message:\n",
      "\"package 'mda' was built under R version 4.1.2\"\n",
      "Carregando pacotes exigidos: class\n",
      "\n",
      "Loaded mda 0.5-2\n",
      "\n",
      "\n",
      "obliqueRF 0.3\n",
      "\n",
      "Type orfNews() to see new features/changes/bug fixes.\n",
      "\n",
      "\n",
      "Attaching package: 'obliqueRF'\n",
      "\n",
      "\n",
      "The following object is masked from 'package:rattle':\n",
      "\n",
      "    importance\n",
      "\n",
      "\n",
      "The following object is masked from 'package:randomForest':\n",
      "\n",
      "    importance\n",
      "\n",
      "\n",
      "Warning message:\n",
      "\"package 'gbm' was built under R version 4.1.2\"\n",
      "Loaded gbm 2.1.8\n",
      "\n",
      "Warning message:\n",
      "\"package 'MLeval' was built under R version 4.1.2\"\n"
     ]
    },
    {
     "data": {
      "text/html": [
       "<ol>\n",
       "\t<li>TRUE</li>\n",
       "\t<li>TRUE</li>\n",
       "\t<li>TRUE</li>\n",
       "\t<li>TRUE</li>\n",
       "\t<li>TRUE</li>\n",
       "\t<li>TRUE</li>\n",
       "\t<li>TRUE</li>\n",
       "\t<li>TRUE</li>\n",
       "\t<li>TRUE</li>\n",
       "\t<li>TRUE</li>\n",
       "\t<li>TRUE</li>\n",
       "\t<li>TRUE</li>\n",
       "\t<li>TRUE</li>\n",
       "\t<li>TRUE</li>\n",
       "\t<li>TRUE</li>\n",
       "\t<li>TRUE</li>\n",
       "\t<li>TRUE</li>\n",
       "\t<li>TRUE</li>\n",
       "\t<li>TRUE</li>\n",
       "\t<li>TRUE</li>\n",
       "\t<li>TRUE</li>\n",
       "\t<li>TRUE</li>\n",
       "\t<li>TRUE</li>\n",
       "\t<li>TRUE</li>\n",
       "\t<li>TRUE</li>\n",
       "\t<li>TRUE</li>\n",
       "\t<li>TRUE</li>\n",
       "\t<li>TRUE</li>\n",
       "\t<li>TRUE</li>\n",
       "\t<li>TRUE</li>\n",
       "\t<li>TRUE</li>\n",
       "\t<li>TRUE</li>\n",
       "\t<li>TRUE</li>\n",
       "\t<li>TRUE</li>\n",
       "\t<li>TRUE</li>\n",
       "</ol>\n"
      ],
      "text/latex": [
       "\\begin{enumerate}\n",
       "\\item TRUE\n",
       "\\item TRUE\n",
       "\\item TRUE\n",
       "\\item TRUE\n",
       "\\item TRUE\n",
       "\\item TRUE\n",
       "\\item TRUE\n",
       "\\item TRUE\n",
       "\\item TRUE\n",
       "\\item TRUE\n",
       "\\item TRUE\n",
       "\\item TRUE\n",
       "\\item TRUE\n",
       "\\item TRUE\n",
       "\\item TRUE\n",
       "\\item TRUE\n",
       "\\item TRUE\n",
       "\\item TRUE\n",
       "\\item TRUE\n",
       "\\item TRUE\n",
       "\\item TRUE\n",
       "\\item TRUE\n",
       "\\item TRUE\n",
       "\\item TRUE\n",
       "\\item TRUE\n",
       "\\item TRUE\n",
       "\\item TRUE\n",
       "\\item TRUE\n",
       "\\item TRUE\n",
       "\\item TRUE\n",
       "\\item TRUE\n",
       "\\item TRUE\n",
       "\\item TRUE\n",
       "\\item TRUE\n",
       "\\item TRUE\n",
       "\\end{enumerate}\n"
      ],
      "text/markdown": [
       "1. TRUE\n",
       "2. TRUE\n",
       "3. TRUE\n",
       "4. TRUE\n",
       "5. TRUE\n",
       "6. TRUE\n",
       "7. TRUE\n",
       "8. TRUE\n",
       "9. TRUE\n",
       "10. TRUE\n",
       "11. TRUE\n",
       "12. TRUE\n",
       "13. TRUE\n",
       "14. TRUE\n",
       "15. TRUE\n",
       "16. TRUE\n",
       "17. TRUE\n",
       "18. TRUE\n",
       "19. TRUE\n",
       "20. TRUE\n",
       "21. TRUE\n",
       "22. TRUE\n",
       "23. TRUE\n",
       "24. TRUE\n",
       "25. TRUE\n",
       "26. TRUE\n",
       "27. TRUE\n",
       "28. TRUE\n",
       "29. TRUE\n",
       "30. TRUE\n",
       "31. TRUE\n",
       "32. TRUE\n",
       "33. TRUE\n",
       "34. TRUE\n",
       "35. TRUE\n",
       "\n",
       "\n"
      ],
      "text/plain": [
       "[[1]]\n",
       "[1] TRUE\n",
       "\n",
       "[[2]]\n",
       "[1] TRUE\n",
       "\n",
       "[[3]]\n",
       "[1] TRUE\n",
       "\n",
       "[[4]]\n",
       "[1] TRUE\n",
       "\n",
       "[[5]]\n",
       "[1] TRUE\n",
       "\n",
       "[[6]]\n",
       "[1] TRUE\n",
       "\n",
       "[[7]]\n",
       "[1] TRUE\n",
       "\n",
       "[[8]]\n",
       "[1] TRUE\n",
       "\n",
       "[[9]]\n",
       "[1] TRUE\n",
       "\n",
       "[[10]]\n",
       "[1] TRUE\n",
       "\n",
       "[[11]]\n",
       "[1] TRUE\n",
       "\n",
       "[[12]]\n",
       "[1] TRUE\n",
       "\n",
       "[[13]]\n",
       "[1] TRUE\n",
       "\n",
       "[[14]]\n",
       "[1] TRUE\n",
       "\n",
       "[[15]]\n",
       "[1] TRUE\n",
       "\n",
       "[[16]]\n",
       "[1] TRUE\n",
       "\n",
       "[[17]]\n",
       "[1] TRUE\n",
       "\n",
       "[[18]]\n",
       "[1] TRUE\n",
       "\n",
       "[[19]]\n",
       "[1] TRUE\n",
       "\n",
       "[[20]]\n",
       "[1] TRUE\n",
       "\n",
       "[[21]]\n",
       "[1] TRUE\n",
       "\n",
       "[[22]]\n",
       "[1] TRUE\n",
       "\n",
       "[[23]]\n",
       "[1] TRUE\n",
       "\n",
       "[[24]]\n",
       "[1] TRUE\n",
       "\n",
       "[[25]]\n",
       "[1] TRUE\n",
       "\n",
       "[[26]]\n",
       "[1] TRUE\n",
       "\n",
       "[[27]]\n",
       "[1] TRUE\n",
       "\n",
       "[[28]]\n",
       "[1] TRUE\n",
       "\n",
       "[[29]]\n",
       "[1] TRUE\n",
       "\n",
       "[[30]]\n",
       "[1] TRUE\n",
       "\n",
       "[[31]]\n",
       "[1] TRUE\n",
       "\n",
       "[[32]]\n",
       "[1] TRUE\n",
       "\n",
       "[[33]]\n",
       "[1] TRUE\n",
       "\n",
       "[[34]]\n",
       "[1] TRUE\n",
       "\n",
       "[[35]]\n",
       "[1] TRUE\n"
      ]
     },
     "metadata": {},
     "output_type": "display_data"
    }
   ],
   "source": [
    "library(here, help, pos = 2, lib.loc = NULL)\n",
    "source(here('Modules','modules.R'))\n",
    "#install_all_packages()\n",
    "load_library_packages()"
   ]
  },
  {
   "cell_type": "markdown",
   "metadata": {},
   "source": [
    "## Importing dataset"
   ]
  },
  {
   "cell_type": "code",
   "execution_count": 2,
   "metadata": {},
   "outputs": [
    {
     "data": {
      "text/html": [
       "'numeric'"
      ],
      "text/latex": [
       "'numeric'"
      ],
      "text/markdown": [
       "'numeric'"
      ],
      "text/plain": [
       "[1] \"numeric\""
      ]
     },
     "metadata": {},
     "output_type": "display_data"
    },
    {
     "data": {
      "text/html": [
       "<style>\n",
       ".list-inline {list-style: none; margin:0; padding: 0}\n",
       ".list-inline>li {display: inline-block}\n",
       ".list-inline>li:not(:last-child)::after {content: \"\\00b7\"; padding: 0 .5ex}\n",
       "</style>\n",
       "<ol class=list-inline><li>1250</li><li>44</li></ol>\n"
      ],
      "text/latex": [
       "\\begin{enumerate*}\n",
       "\\item 1250\n",
       "\\item 44\n",
       "\\end{enumerate*}\n"
      ],
      "text/markdown": [
       "1. 1250\n",
       "2. 44\n",
       "\n",
       "\n"
      ],
      "text/plain": [
       "[1] 1250   44"
      ]
     },
     "metadata": {},
     "output_type": "display_data"
    },
    {
     "data": {
      "text/html": [
       "<table class=\"dataframe\">\n",
       "<caption>A data.frame: 6 × 44</caption>\n",
       "<thead>\n",
       "\t<tr><th></th><th scope=col>PA_barrier_time_family_responsabilities</th><th scope=col>PA_barrier__tiredness</th><th scope=col>PA_barrier_places_closed_dangerous</th><th scope=col>PA_barrier_money</th><th scope=col>PA_barrier_time_convenience</th><th scope=col>PA_barrier_hard_work</th><th scope=col>PA_barrier_no_interest</th><th scope=col>PA_barrier_none</th><th scope=col>PA_easiness_outdoor_activities</th><th scope=col>PA_easiness_professional_guidance</th><th scope=col>...</th><th scope=col>soccer</th><th scope=col>tennis</th><th scope=col>volleyball</th><th scope=col>basketball</th><th scope=col>swimming</th><th scope=col>surfing</th><th scope=col>yoga</th><th scope=col>pilates</th><th scope=col>fighting</th><th scope=col>other_sports</th></tr>\n",
       "\t<tr><th></th><th scope=col>&lt;dbl&gt;</th><th scope=col>&lt;dbl&gt;</th><th scope=col>&lt;dbl&gt;</th><th scope=col>&lt;dbl&gt;</th><th scope=col>&lt;dbl&gt;</th><th scope=col>&lt;dbl&gt;</th><th scope=col>&lt;dbl&gt;</th><th scope=col>&lt;dbl&gt;</th><th scope=col>&lt;dbl&gt;</th><th scope=col>&lt;dbl&gt;</th><th scope=col>...</th><th scope=col>&lt;dbl&gt;</th><th scope=col>&lt;dbl&gt;</th><th scope=col>&lt;dbl&gt;</th><th scope=col>&lt;dbl&gt;</th><th scope=col>&lt;dbl&gt;</th><th scope=col>&lt;dbl&gt;</th><th scope=col>&lt;dbl&gt;</th><th scope=col>&lt;dbl&gt;</th><th scope=col>&lt;dbl&gt;</th><th scope=col>&lt;dbl&gt;</th></tr>\n",
       "</thead>\n",
       "<tbody>\n",
       "\t<tr><th scope=row>1</th><td>0</td><td>0</td><td>1</td><td>0</td><td>0</td><td>1</td><td>0</td><td>0</td><td>0</td><td>0</td><td>...</td><td>0</td><td>0</td><td>0</td><td>0</td><td>0</td><td>0</td><td>0</td><td>0</td><td>0</td><td>0</td></tr>\n",
       "\t<tr><th scope=row>2</th><td>0</td><td>0</td><td>1</td><td>0</td><td>0</td><td>0</td><td>0</td><td>0</td><td>1</td><td>0</td><td>...</td><td>0</td><td>0</td><td>0</td><td>0</td><td>0</td><td>0</td><td>0</td><td>0</td><td>0</td><td>0</td></tr>\n",
       "\t<tr><th scope=row>3</th><td>0</td><td>0</td><td>1</td><td>0</td><td>0</td><td>0</td><td>1</td><td>0</td><td>0</td><td>0</td><td>...</td><td>0</td><td>0</td><td>0</td><td>0</td><td>0</td><td>0</td><td>0</td><td>0</td><td>0</td><td>1</td></tr>\n",
       "\t<tr><th scope=row>4</th><td>0</td><td>0</td><td>1</td><td>0</td><td>0</td><td>0</td><td>0</td><td>0</td><td>1</td><td>1</td><td>...</td><td>0</td><td>0</td><td>0</td><td>0</td><td>0</td><td>0</td><td>0</td><td>0</td><td>0</td><td>0</td></tr>\n",
       "\t<tr><th scope=row>5</th><td>0</td><td>0</td><td>1</td><td>0</td><td>0</td><td>0</td><td>0</td><td>0</td><td>0</td><td>0</td><td>...</td><td>0</td><td>0</td><td>0</td><td>0</td><td>0</td><td>0</td><td>0</td><td>0</td><td>0</td><td>0</td></tr>\n",
       "\t<tr><th scope=row>6</th><td>1</td><td>0</td><td>0</td><td>0</td><td>0</td><td>0</td><td>0</td><td>0</td><td>1</td><td>0</td><td>...</td><td>0</td><td>0</td><td>0</td><td>0</td><td>0</td><td>0</td><td>0</td><td>0</td><td>0</td><td>1</td></tr>\n",
       "</tbody>\n",
       "</table>\n"
      ],
      "text/latex": [
       "A data.frame: 6 × 44\n",
       "\\begin{tabular}{r|lllllllllllllllllllll}\n",
       "  & PA\\_barrier\\_time\\_family\\_responsabilities & PA\\_barrier\\_\\_tiredness & PA\\_barrier\\_places\\_closed\\_dangerous & PA\\_barrier\\_money & PA\\_barrier\\_time\\_convenience & PA\\_barrier\\_hard\\_work & PA\\_barrier\\_no\\_interest & PA\\_barrier\\_none & PA\\_easiness\\_outdoor\\_activities & PA\\_easiness\\_professional\\_guidance & ... & soccer & tennis & volleyball & basketball & swimming & surfing & yoga & pilates & fighting & other\\_sports\\\\\n",
       "  & <dbl> & <dbl> & <dbl> & <dbl> & <dbl> & <dbl> & <dbl> & <dbl> & <dbl> & <dbl> & ... & <dbl> & <dbl> & <dbl> & <dbl> & <dbl> & <dbl> & <dbl> & <dbl> & <dbl> & <dbl>\\\\\n",
       "\\hline\n",
       "\t1 & 0 & 0 & 1 & 0 & 0 & 1 & 0 & 0 & 0 & 0 & ... & 0 & 0 & 0 & 0 & 0 & 0 & 0 & 0 & 0 & 0\\\\\n",
       "\t2 & 0 & 0 & 1 & 0 & 0 & 0 & 0 & 0 & 1 & 0 & ... & 0 & 0 & 0 & 0 & 0 & 0 & 0 & 0 & 0 & 0\\\\\n",
       "\t3 & 0 & 0 & 1 & 0 & 0 & 0 & 1 & 0 & 0 & 0 & ... & 0 & 0 & 0 & 0 & 0 & 0 & 0 & 0 & 0 & 1\\\\\n",
       "\t4 & 0 & 0 & 1 & 0 & 0 & 0 & 0 & 0 & 1 & 1 & ... & 0 & 0 & 0 & 0 & 0 & 0 & 0 & 0 & 0 & 0\\\\\n",
       "\t5 & 0 & 0 & 1 & 0 & 0 & 0 & 0 & 0 & 0 & 0 & ... & 0 & 0 & 0 & 0 & 0 & 0 & 0 & 0 & 0 & 0\\\\\n",
       "\t6 & 1 & 0 & 0 & 0 & 0 & 0 & 0 & 0 & 1 & 0 & ... & 0 & 0 & 0 & 0 & 0 & 0 & 0 & 0 & 0 & 1\\\\\n",
       "\\end{tabular}\n"
      ],
      "text/markdown": [
       "\n",
       "A data.frame: 6 × 44\n",
       "\n",
       "| <!--/--> | PA_barrier_time_family_responsabilities &lt;dbl&gt; | PA_barrier__tiredness &lt;dbl&gt; | PA_barrier_places_closed_dangerous &lt;dbl&gt; | PA_barrier_money &lt;dbl&gt; | PA_barrier_time_convenience &lt;dbl&gt; | PA_barrier_hard_work &lt;dbl&gt; | PA_barrier_no_interest &lt;dbl&gt; | PA_barrier_none &lt;dbl&gt; | PA_easiness_outdoor_activities &lt;dbl&gt; | PA_easiness_professional_guidance &lt;dbl&gt; | ... ... | soccer &lt;dbl&gt; | tennis &lt;dbl&gt; | volleyball &lt;dbl&gt; | basketball &lt;dbl&gt; | swimming &lt;dbl&gt; | surfing &lt;dbl&gt; | yoga &lt;dbl&gt; | pilates &lt;dbl&gt; | fighting &lt;dbl&gt; | other_sports &lt;dbl&gt; |\n",
       "|---|---|---|---|---|---|---|---|---|---|---|---|---|---|---|---|---|---|---|---|---|---|\n",
       "| 1 | 0 | 0 | 1 | 0 | 0 | 1 | 0 | 0 | 0 | 0 | ... | 0 | 0 | 0 | 0 | 0 | 0 | 0 | 0 | 0 | 0 |\n",
       "| 2 | 0 | 0 | 1 | 0 | 0 | 0 | 0 | 0 | 1 | 0 | ... | 0 | 0 | 0 | 0 | 0 | 0 | 0 | 0 | 0 | 0 |\n",
       "| 3 | 0 | 0 | 1 | 0 | 0 | 0 | 1 | 0 | 0 | 0 | ... | 0 | 0 | 0 | 0 | 0 | 0 | 0 | 0 | 0 | 1 |\n",
       "| 4 | 0 | 0 | 1 | 0 | 0 | 0 | 0 | 0 | 1 | 1 | ... | 0 | 0 | 0 | 0 | 0 | 0 | 0 | 0 | 0 | 0 |\n",
       "| 5 | 0 | 0 | 1 | 0 | 0 | 0 | 0 | 0 | 0 | 0 | ... | 0 | 0 | 0 | 0 | 0 | 0 | 0 | 0 | 0 | 0 |\n",
       "| 6 | 1 | 0 | 0 | 0 | 0 | 0 | 0 | 0 | 1 | 0 | ... | 0 | 0 | 0 | 0 | 0 | 0 | 0 | 0 | 0 | 1 |\n",
       "\n"
      ],
      "text/plain": [
       "  PA_barrier_time_family_responsabilities PA_barrier__tiredness\n",
       "1 0                                       0                    \n",
       "2 0                                       0                    \n",
       "3 0                                       0                    \n",
       "4 0                                       0                    \n",
       "5 0                                       0                    \n",
       "6 1                                       0                    \n",
       "  PA_barrier_places_closed_dangerous PA_barrier_money\n",
       "1 1                                  0               \n",
       "2 1                                  0               \n",
       "3 1                                  0               \n",
       "4 1                                  0               \n",
       "5 1                                  0               \n",
       "6 0                                  0               \n",
       "  PA_barrier_time_convenience PA_barrier_hard_work PA_barrier_no_interest\n",
       "1 0                           1                    0                     \n",
       "2 0                           0                    0                     \n",
       "3 0                           0                    1                     \n",
       "4 0                           0                    0                     \n",
       "5 0                           0                    0                     \n",
       "6 0                           0                    0                     \n",
       "  PA_barrier_none PA_easiness_outdoor_activities\n",
       "1 0               0                             \n",
       "2 0               1                             \n",
       "3 0               0                             \n",
       "4 0               1                             \n",
       "5 0               0                             \n",
       "6 0               1                             \n",
       "  PA_easiness_professional_guidance ... soccer tennis volleyball basketball\n",
       "1 0                                 ... 0      0      0          0         \n",
       "2 0                                 ... 0      0      0          0         \n",
       "3 0                                 ... 0      0      0          0         \n",
       "4 1                                 ... 0      0      0          0         \n",
       "5 0                                 ... 0      0      0          0         \n",
       "6 0                                 ... 0      0      0          0         \n",
       "  swimming surfing yoga pilates fighting other_sports\n",
       "1 0        0       0    0       0        0           \n",
       "2 0        0       0    0       0        0           \n",
       "3 0        0       0    0       0        1           \n",
       "4 0        0       0    0       0        0           \n",
       "5 0        0       0    0       0        0           \n",
       "6 0        0       0    0       0        1           "
      ]
     },
     "metadata": {},
     "output_type": "display_data"
    }
   ],
   "source": [
    "df_during <- read_excel(path = here('Data','during_dataset.xlsx'))\n",
    "df_during <- data.frame(df_during)\n",
    "unique(sapply(df_during, class))\n",
    "df_during <- df_during[complete.cases(df_during), ]\n",
    "dim(df_during)\n",
    "head(df_during)"
   ]
  },
  {
   "cell_type": "markdown",
   "metadata": {},
   "source": [
    "## Converting dataset types and labels"
   ]
  },
  {
   "cell_type": "code",
   "execution_count": 3,
   "metadata": {},
   "outputs": [
    {
     "data": {
      "text/html": [
       "900"
      ],
      "text/latex": [
       "900"
      ],
      "text/markdown": [
       "900"
      ],
      "text/plain": [
       "[1] 900"
      ]
     },
     "metadata": {},
     "output_type": "display_data"
    }
   ],
   "source": [
    "df_during$PA_intensity[df_during$PA_intensity == 4] <- 0\n",
    "df_during$PA_duration[df_during$PA_duration == 5] <- 0\n",
    "df_during$PA_weekly_frequency[df_during$PA_weekly_frequency == 4] <- 0\n",
    "df_during$PA_practice_during <- ifelse(df_during$PA_practice_during == 0, 1, 0)\n",
    "df_during$sedentary_time_range_during[df_during$sedentary_time_range_during < 5] <- 0\n",
    "df_during$sedentary_time_range_during[df_during$sedentary_time_range_during == 5] <- 1\n",
    "sum(df_during[, \"PA_practice_during\"])"
   ]
  },
  {
   "cell_type": "code",
   "execution_count": 4,
   "metadata": {},
   "outputs": [],
   "source": [
    "sports <- c(\"running\",\"hiking\",\"cycling\",\n",
    "            \"muscle_training\",\"soccer\",\"tennis\",\n",
    "            \"volleyball\",\"basketball\",\"swimming\",\n",
    "            \"surfing\",\"yoga\",\"pilates\",\"fighting\",\"other_sports\")\n",
    "\n",
    "df_during$PA_number <- rowSums(df_during[, sports])"
   ]
  },
  {
   "cell_type": "code",
   "execution_count": 5,
   "metadata": {},
   "outputs": [
    {
     "data": {
      "text/html": [
       "900"
      ],
      "text/latex": [
       "900"
      ],
      "text/markdown": [
       "900"
      ],
      "text/plain": [
       "[1] 900"
      ]
     },
     "metadata": {},
     "output_type": "display_data"
    }
   ],
   "source": [
    "sum(df_during$PA_number != 0 & df_during$PA_practice_during)"
   ]
  },
  {
   "cell_type": "code",
   "execution_count": 6,
   "metadata": {},
   "outputs": [
    {
     "data": {
      "text/html": [
       "903"
      ],
      "text/latex": [
       "903"
      ],
      "text/markdown": [
       "903"
      ],
      "text/plain": [
       "[1] 903"
      ]
     },
     "metadata": {},
     "output_type": "display_data"
    }
   ],
   "source": [
    "sum(df_during$PA_number != 0)"
   ]
  },
  {
   "cell_type": "markdown",
   "metadata": {},
   "source": [
    "## Separing barriers from dataset"
   ]
  },
  {
   "cell_type": "code",
   "execution_count": 7,
   "metadata": {},
   "outputs": [
    {
     "data": {
      "text/html": [
       "<style>\n",
       ".list-inline {list-style: none; margin:0; padding: 0}\n",
       ".list-inline>li {display: inline-block}\n",
       ".list-inline>li:not(:last-child)::after {content: \"\\00b7\"; padding: 0 .5ex}\n",
       "</style>\n",
       "<ol class=list-inline><li>'PA_barrier_time_family_responsabilities'</li><li>'PA_barrier__tiredness'</li><li>'PA_barrier_places_closed_dangerous'</li><li>'PA_barrier_money'</li><li>'PA_barrier_time_convenience'</li><li>'PA_barrier_hard_work'</li><li>'PA_barrier_no_interest'</li><li>'PA_barrier_none'</li><li>'PA_easiness_outdoor_activities'</li><li>'PA_easiness_professional_guidance'</li><li>'PA_easiness_unguided'</li><li>'PA_easiness_music'</li><li>'PA_easiness_collective'</li><li>'PA_easiness_home_activity'</li><li>'PA_easiness_family_activity'</li><li>'PA_easiness_home_space'</li><li>'PA_easiness_home_equipament'</li><li>'PA_easiness_others'</li><li>'PA_weekly_frequency'</li><li>'PA_intensity'</li><li>'PA_duration'</li><li>'PA_practice_during'</li><li>'sedentary_time_range_during'</li><li>'sex'</li><li>'age_range'</li><li>'martialStatus'</li><li>'co.resident_range'</li><li>'rooms_range'</li><li>'income_range'</li><li>'scholarity'</li><li>'running'</li><li>'hiking'</li><li>'cycling'</li><li>'muscle_training'</li><li>'soccer'</li><li>'tennis'</li><li>'volleyball'</li><li>'basketball'</li><li>'swimming'</li><li>'surfing'</li><li>'yoga'</li><li>'pilates'</li><li>'fighting'</li><li>'other_sports'</li><li>'PA_number'</li></ol>\n"
      ],
      "text/latex": [
       "\\begin{enumerate*}\n",
       "\\item 'PA\\_barrier\\_time\\_family\\_responsabilities'\n",
       "\\item 'PA\\_barrier\\_\\_tiredness'\n",
       "\\item 'PA\\_barrier\\_places\\_closed\\_dangerous'\n",
       "\\item 'PA\\_barrier\\_money'\n",
       "\\item 'PA\\_barrier\\_time\\_convenience'\n",
       "\\item 'PA\\_barrier\\_hard\\_work'\n",
       "\\item 'PA\\_barrier\\_no\\_interest'\n",
       "\\item 'PA\\_barrier\\_none'\n",
       "\\item 'PA\\_easiness\\_outdoor\\_activities'\n",
       "\\item 'PA\\_easiness\\_professional\\_guidance'\n",
       "\\item 'PA\\_easiness\\_unguided'\n",
       "\\item 'PA\\_easiness\\_music'\n",
       "\\item 'PA\\_easiness\\_collective'\n",
       "\\item 'PA\\_easiness\\_home\\_activity'\n",
       "\\item 'PA\\_easiness\\_family\\_activity'\n",
       "\\item 'PA\\_easiness\\_home\\_space'\n",
       "\\item 'PA\\_easiness\\_home\\_equipament'\n",
       "\\item 'PA\\_easiness\\_others'\n",
       "\\item 'PA\\_weekly\\_frequency'\n",
       "\\item 'PA\\_intensity'\n",
       "\\item 'PA\\_duration'\n",
       "\\item 'PA\\_practice\\_during'\n",
       "\\item 'sedentary\\_time\\_range\\_during'\n",
       "\\item 'sex'\n",
       "\\item 'age\\_range'\n",
       "\\item 'martialStatus'\n",
       "\\item 'co.resident\\_range'\n",
       "\\item 'rooms\\_range'\n",
       "\\item 'income\\_range'\n",
       "\\item 'scholarity'\n",
       "\\item 'running'\n",
       "\\item 'hiking'\n",
       "\\item 'cycling'\n",
       "\\item 'muscle\\_training'\n",
       "\\item 'soccer'\n",
       "\\item 'tennis'\n",
       "\\item 'volleyball'\n",
       "\\item 'basketball'\n",
       "\\item 'swimming'\n",
       "\\item 'surfing'\n",
       "\\item 'yoga'\n",
       "\\item 'pilates'\n",
       "\\item 'fighting'\n",
       "\\item 'other\\_sports'\n",
       "\\item 'PA\\_number'\n",
       "\\end{enumerate*}\n"
      ],
      "text/markdown": [
       "1. 'PA_barrier_time_family_responsabilities'\n",
       "2. 'PA_barrier__tiredness'\n",
       "3. 'PA_barrier_places_closed_dangerous'\n",
       "4. 'PA_barrier_money'\n",
       "5. 'PA_barrier_time_convenience'\n",
       "6. 'PA_barrier_hard_work'\n",
       "7. 'PA_barrier_no_interest'\n",
       "8. 'PA_barrier_none'\n",
       "9. 'PA_easiness_outdoor_activities'\n",
       "10. 'PA_easiness_professional_guidance'\n",
       "11. 'PA_easiness_unguided'\n",
       "12. 'PA_easiness_music'\n",
       "13. 'PA_easiness_collective'\n",
       "14. 'PA_easiness_home_activity'\n",
       "15. 'PA_easiness_family_activity'\n",
       "16. 'PA_easiness_home_space'\n",
       "17. 'PA_easiness_home_equipament'\n",
       "18. 'PA_easiness_others'\n",
       "19. 'PA_weekly_frequency'\n",
       "20. 'PA_intensity'\n",
       "21. 'PA_duration'\n",
       "22. 'PA_practice_during'\n",
       "23. 'sedentary_time_range_during'\n",
       "24. 'sex'\n",
       "25. 'age_range'\n",
       "26. 'martialStatus'\n",
       "27. 'co.resident_range'\n",
       "28. 'rooms_range'\n",
       "29. 'income_range'\n",
       "30. 'scholarity'\n",
       "31. 'running'\n",
       "32. 'hiking'\n",
       "33. 'cycling'\n",
       "34. 'muscle_training'\n",
       "35. 'soccer'\n",
       "36. 'tennis'\n",
       "37. 'volleyball'\n",
       "38. 'basketball'\n",
       "39. 'swimming'\n",
       "40. 'surfing'\n",
       "41. 'yoga'\n",
       "42. 'pilates'\n",
       "43. 'fighting'\n",
       "44. 'other_sports'\n",
       "45. 'PA_number'\n",
       "\n",
       "\n"
      ],
      "text/plain": [
       " [1] \"PA_barrier_time_family_responsabilities\"\n",
       " [2] \"PA_barrier__tiredness\"                  \n",
       " [3] \"PA_barrier_places_closed_dangerous\"     \n",
       " [4] \"PA_barrier_money\"                       \n",
       " [5] \"PA_barrier_time_convenience\"            \n",
       " [6] \"PA_barrier_hard_work\"                   \n",
       " [7] \"PA_barrier_no_interest\"                 \n",
       " [8] \"PA_barrier_none\"                        \n",
       " [9] \"PA_easiness_outdoor_activities\"         \n",
       "[10] \"PA_easiness_professional_guidance\"      \n",
       "[11] \"PA_easiness_unguided\"                   \n",
       "[12] \"PA_easiness_music\"                      \n",
       "[13] \"PA_easiness_collective\"                 \n",
       "[14] \"PA_easiness_home_activity\"              \n",
       "[15] \"PA_easiness_family_activity\"            \n",
       "[16] \"PA_easiness_home_space\"                 \n",
       "[17] \"PA_easiness_home_equipament\"            \n",
       "[18] \"PA_easiness_others\"                     \n",
       "[19] \"PA_weekly_frequency\"                    \n",
       "[20] \"PA_intensity\"                           \n",
       "[21] \"PA_duration\"                            \n",
       "[22] \"PA_practice_during\"                     \n",
       "[23] \"sedentary_time_range_during\"            \n",
       "[24] \"sex\"                                    \n",
       "[25] \"age_range\"                              \n",
       "[26] \"martialStatus\"                          \n",
       "[27] \"co.resident_range\"                      \n",
       "[28] \"rooms_range\"                            \n",
       "[29] \"income_range\"                           \n",
       "[30] \"scholarity\"                             \n",
       "[31] \"running\"                                \n",
       "[32] \"hiking\"                                 \n",
       "[33] \"cycling\"                                \n",
       "[34] \"muscle_training\"                        \n",
       "[35] \"soccer\"                                 \n",
       "[36] \"tennis\"                                 \n",
       "[37] \"volleyball\"                             \n",
       "[38] \"basketball\"                             \n",
       "[39] \"swimming\"                               \n",
       "[40] \"surfing\"                                \n",
       "[41] \"yoga\"                                   \n",
       "[42] \"pilates\"                                \n",
       "[43] \"fighting\"                               \n",
       "[44] \"other_sports\"                           \n",
       "[45] \"PA_number\"                              "
      ]
     },
     "metadata": {},
     "output_type": "display_data"
    },
    {
     "data": {
      "text/html": [
       "<table class=\"dataframe\">\n",
       "<caption>A data.frame: 6 × 45</caption>\n",
       "<thead>\n",
       "\t<tr><th></th><th scope=col>PA_barrier_time_family_responsabilities</th><th scope=col>PA_barrier__tiredness</th><th scope=col>PA_barrier_places_closed_dangerous</th><th scope=col>PA_barrier_money</th><th scope=col>PA_barrier_time_convenience</th><th scope=col>PA_barrier_hard_work</th><th scope=col>PA_barrier_no_interest</th><th scope=col>PA_barrier_none</th><th scope=col>PA_easiness_outdoor_activities</th><th scope=col>PA_easiness_professional_guidance</th><th scope=col>...</th><th scope=col>tennis</th><th scope=col>volleyball</th><th scope=col>basketball</th><th scope=col>swimming</th><th scope=col>surfing</th><th scope=col>yoga</th><th scope=col>pilates</th><th scope=col>fighting</th><th scope=col>other_sports</th><th scope=col>PA_number</th></tr>\n",
       "\t<tr><th></th><th scope=col>&lt;dbl&gt;</th><th scope=col>&lt;dbl&gt;</th><th scope=col>&lt;dbl&gt;</th><th scope=col>&lt;dbl&gt;</th><th scope=col>&lt;dbl&gt;</th><th scope=col>&lt;dbl&gt;</th><th scope=col>&lt;dbl&gt;</th><th scope=col>&lt;dbl&gt;</th><th scope=col>&lt;dbl&gt;</th><th scope=col>&lt;dbl&gt;</th><th scope=col>...</th><th scope=col>&lt;dbl&gt;</th><th scope=col>&lt;dbl&gt;</th><th scope=col>&lt;dbl&gt;</th><th scope=col>&lt;dbl&gt;</th><th scope=col>&lt;dbl&gt;</th><th scope=col>&lt;dbl&gt;</th><th scope=col>&lt;dbl&gt;</th><th scope=col>&lt;dbl&gt;</th><th scope=col>&lt;dbl&gt;</th><th scope=col>&lt;dbl&gt;</th></tr>\n",
       "</thead>\n",
       "<tbody>\n",
       "\t<tr><th scope=row>1</th><td>0</td><td>0</td><td>1</td><td>0</td><td>0</td><td>1</td><td>0</td><td>0</td><td>0</td><td>0</td><td>...</td><td>0</td><td>0</td><td>0</td><td>0</td><td>0</td><td>0</td><td>0</td><td>0</td><td>0</td><td>0</td></tr>\n",
       "\t<tr><th scope=row>2</th><td>0</td><td>0</td><td>1</td><td>0</td><td>0</td><td>0</td><td>0</td><td>0</td><td>1</td><td>0</td><td>...</td><td>0</td><td>0</td><td>0</td><td>0</td><td>0</td><td>0</td><td>0</td><td>0</td><td>0</td><td>2</td></tr>\n",
       "\t<tr><th scope=row>3</th><td>0</td><td>0</td><td>1</td><td>0</td><td>0</td><td>0</td><td>1</td><td>0</td><td>0</td><td>0</td><td>...</td><td>0</td><td>0</td><td>0</td><td>0</td><td>0</td><td>0</td><td>0</td><td>0</td><td>1</td><td>2</td></tr>\n",
       "\t<tr><th scope=row>4</th><td>0</td><td>0</td><td>1</td><td>0</td><td>0</td><td>0</td><td>0</td><td>0</td><td>1</td><td>1</td><td>...</td><td>0</td><td>0</td><td>0</td><td>0</td><td>0</td><td>0</td><td>0</td><td>0</td><td>0</td><td>3</td></tr>\n",
       "\t<tr><th scope=row>5</th><td>0</td><td>0</td><td>1</td><td>0</td><td>0</td><td>0</td><td>0</td><td>0</td><td>0</td><td>0</td><td>...</td><td>0</td><td>0</td><td>0</td><td>0</td><td>0</td><td>0</td><td>0</td><td>0</td><td>0</td><td>2</td></tr>\n",
       "\t<tr><th scope=row>6</th><td>1</td><td>0</td><td>0</td><td>0</td><td>0</td><td>0</td><td>0</td><td>0</td><td>1</td><td>0</td><td>...</td><td>0</td><td>0</td><td>0</td><td>0</td><td>0</td><td>0</td><td>0</td><td>0</td><td>1</td><td>2</td></tr>\n",
       "</tbody>\n",
       "</table>\n"
      ],
      "text/latex": [
       "A data.frame: 6 × 45\n",
       "\\begin{tabular}{r|lllllllllllllllllllll}\n",
       "  & PA\\_barrier\\_time\\_family\\_responsabilities & PA\\_barrier\\_\\_tiredness & PA\\_barrier\\_places\\_closed\\_dangerous & PA\\_barrier\\_money & PA\\_barrier\\_time\\_convenience & PA\\_barrier\\_hard\\_work & PA\\_barrier\\_no\\_interest & PA\\_barrier\\_none & PA\\_easiness\\_outdoor\\_activities & PA\\_easiness\\_professional\\_guidance & ... & tennis & volleyball & basketball & swimming & surfing & yoga & pilates & fighting & other\\_sports & PA\\_number\\\\\n",
       "  & <dbl> & <dbl> & <dbl> & <dbl> & <dbl> & <dbl> & <dbl> & <dbl> & <dbl> & <dbl> & ... & <dbl> & <dbl> & <dbl> & <dbl> & <dbl> & <dbl> & <dbl> & <dbl> & <dbl> & <dbl>\\\\\n",
       "\\hline\n",
       "\t1 & 0 & 0 & 1 & 0 & 0 & 1 & 0 & 0 & 0 & 0 & ... & 0 & 0 & 0 & 0 & 0 & 0 & 0 & 0 & 0 & 0\\\\\n",
       "\t2 & 0 & 0 & 1 & 0 & 0 & 0 & 0 & 0 & 1 & 0 & ... & 0 & 0 & 0 & 0 & 0 & 0 & 0 & 0 & 0 & 2\\\\\n",
       "\t3 & 0 & 0 & 1 & 0 & 0 & 0 & 1 & 0 & 0 & 0 & ... & 0 & 0 & 0 & 0 & 0 & 0 & 0 & 0 & 1 & 2\\\\\n",
       "\t4 & 0 & 0 & 1 & 0 & 0 & 0 & 0 & 0 & 1 & 1 & ... & 0 & 0 & 0 & 0 & 0 & 0 & 0 & 0 & 0 & 3\\\\\n",
       "\t5 & 0 & 0 & 1 & 0 & 0 & 0 & 0 & 0 & 0 & 0 & ... & 0 & 0 & 0 & 0 & 0 & 0 & 0 & 0 & 0 & 2\\\\\n",
       "\t6 & 1 & 0 & 0 & 0 & 0 & 0 & 0 & 0 & 1 & 0 & ... & 0 & 0 & 0 & 0 & 0 & 0 & 0 & 0 & 1 & 2\\\\\n",
       "\\end{tabular}\n"
      ],
      "text/markdown": [
       "\n",
       "A data.frame: 6 × 45\n",
       "\n",
       "| <!--/--> | PA_barrier_time_family_responsabilities &lt;dbl&gt; | PA_barrier__tiredness &lt;dbl&gt; | PA_barrier_places_closed_dangerous &lt;dbl&gt; | PA_barrier_money &lt;dbl&gt; | PA_barrier_time_convenience &lt;dbl&gt; | PA_barrier_hard_work &lt;dbl&gt; | PA_barrier_no_interest &lt;dbl&gt; | PA_barrier_none &lt;dbl&gt; | PA_easiness_outdoor_activities &lt;dbl&gt; | PA_easiness_professional_guidance &lt;dbl&gt; | ... ... | tennis &lt;dbl&gt; | volleyball &lt;dbl&gt; | basketball &lt;dbl&gt; | swimming &lt;dbl&gt; | surfing &lt;dbl&gt; | yoga &lt;dbl&gt; | pilates &lt;dbl&gt; | fighting &lt;dbl&gt; | other_sports &lt;dbl&gt; | PA_number &lt;dbl&gt; |\n",
       "|---|---|---|---|---|---|---|---|---|---|---|---|---|---|---|---|---|---|---|---|---|---|\n",
       "| 1 | 0 | 0 | 1 | 0 | 0 | 1 | 0 | 0 | 0 | 0 | ... | 0 | 0 | 0 | 0 | 0 | 0 | 0 | 0 | 0 | 0 |\n",
       "| 2 | 0 | 0 | 1 | 0 | 0 | 0 | 0 | 0 | 1 | 0 | ... | 0 | 0 | 0 | 0 | 0 | 0 | 0 | 0 | 0 | 2 |\n",
       "| 3 | 0 | 0 | 1 | 0 | 0 | 0 | 1 | 0 | 0 | 0 | ... | 0 | 0 | 0 | 0 | 0 | 0 | 0 | 0 | 1 | 2 |\n",
       "| 4 | 0 | 0 | 1 | 0 | 0 | 0 | 0 | 0 | 1 | 1 | ... | 0 | 0 | 0 | 0 | 0 | 0 | 0 | 0 | 0 | 3 |\n",
       "| 5 | 0 | 0 | 1 | 0 | 0 | 0 | 0 | 0 | 0 | 0 | ... | 0 | 0 | 0 | 0 | 0 | 0 | 0 | 0 | 0 | 2 |\n",
       "| 6 | 1 | 0 | 0 | 0 | 0 | 0 | 0 | 0 | 1 | 0 | ... | 0 | 0 | 0 | 0 | 0 | 0 | 0 | 0 | 1 | 2 |\n",
       "\n"
      ],
      "text/plain": [
       "  PA_barrier_time_family_responsabilities PA_barrier__tiredness\n",
       "1 0                                       0                    \n",
       "2 0                                       0                    \n",
       "3 0                                       0                    \n",
       "4 0                                       0                    \n",
       "5 0                                       0                    \n",
       "6 1                                       0                    \n",
       "  PA_barrier_places_closed_dangerous PA_barrier_money\n",
       "1 1                                  0               \n",
       "2 1                                  0               \n",
       "3 1                                  0               \n",
       "4 1                                  0               \n",
       "5 1                                  0               \n",
       "6 0                                  0               \n",
       "  PA_barrier_time_convenience PA_barrier_hard_work PA_barrier_no_interest\n",
       "1 0                           1                    0                     \n",
       "2 0                           0                    0                     \n",
       "3 0                           0                    1                     \n",
       "4 0                           0                    0                     \n",
       "5 0                           0                    0                     \n",
       "6 0                           0                    0                     \n",
       "  PA_barrier_none PA_easiness_outdoor_activities\n",
       "1 0               0                             \n",
       "2 0               1                             \n",
       "3 0               0                             \n",
       "4 0               1                             \n",
       "5 0               0                             \n",
       "6 0               1                             \n",
       "  PA_easiness_professional_guidance ... tennis volleyball basketball swimming\n",
       "1 0                                 ... 0      0          0          0       \n",
       "2 0                                 ... 0      0          0          0       \n",
       "3 0                                 ... 0      0          0          0       \n",
       "4 1                                 ... 0      0          0          0       \n",
       "5 0                                 ... 0      0          0          0       \n",
       "6 0                                 ... 0      0          0          0       \n",
       "  surfing yoga pilates fighting other_sports PA_number\n",
       "1 0       0    0       0        0            0        \n",
       "2 0       0    0       0        0            2        \n",
       "3 0       0    0       0        1            2        \n",
       "4 0       0    0       0        0            3        \n",
       "5 0       0    0       0        0            2        \n",
       "6 0       0    0       0        1            2        "
      ]
     },
     "metadata": {},
     "output_type": "display_data"
    }
   ],
   "source": [
    "colnames(df_during)\n",
    "head(df_during)"
   ]
  },
  {
   "cell_type": "code",
   "execution_count": 8,
   "metadata": {},
   "outputs": [
    {
     "data": {
      "text/html": [
       "<style>\n",
       ".list-inline {list-style: none; margin:0; padding: 0}\n",
       ".list-inline>li {display: inline-block}\n",
       ".list-inline>li:not(:last-child)::after {content: \"\\00b7\"; padding: 0 .5ex}\n",
       "</style>\n",
       "<ol class=list-inline><li>1250</li><li>18</li></ol>\n"
      ],
      "text/latex": [
       "\\begin{enumerate*}\n",
       "\\item 1250\n",
       "\\item 18\n",
       "\\end{enumerate*}\n"
      ],
      "text/markdown": [
       "1. 1250\n",
       "2. 18\n",
       "\n",
       "\n"
      ],
      "text/plain": [
       "[1] 1250   18"
      ]
     },
     "metadata": {},
     "output_type": "display_data"
    },
    {
     "data": {
      "text/html": [
       "<table class=\"dataframe\">\n",
       "<caption>A data.frame: 6 × 18</caption>\n",
       "<thead>\n",
       "\t<tr><th></th><th scope=col>PA_barrier_time_family_responsabilities</th><th scope=col>PA_barrier__tiredness</th><th scope=col>PA_barrier_places_closed_dangerous</th><th scope=col>PA_barrier_money</th><th scope=col>PA_barrier_time_convenience</th><th scope=col>PA_barrier_hard_work</th><th scope=col>PA_barrier_no_interest</th><th scope=col>PA_barrier_none</th><th scope=col>PA_easiness_outdoor_activities</th><th scope=col>PA_easiness_professional_guidance</th><th scope=col>PA_easiness_unguided</th><th scope=col>PA_easiness_music</th><th scope=col>PA_easiness_collective</th><th scope=col>PA_easiness_home_activity</th><th scope=col>PA_easiness_family_activity</th><th scope=col>PA_easiness_home_space</th><th scope=col>PA_easiness_home_equipament</th><th scope=col>PA_easiness_others</th></tr>\n",
       "\t<tr><th></th><th scope=col>&lt;fct&gt;</th><th scope=col>&lt;fct&gt;</th><th scope=col>&lt;fct&gt;</th><th scope=col>&lt;fct&gt;</th><th scope=col>&lt;fct&gt;</th><th scope=col>&lt;fct&gt;</th><th scope=col>&lt;fct&gt;</th><th scope=col>&lt;fct&gt;</th><th scope=col>&lt;fct&gt;</th><th scope=col>&lt;fct&gt;</th><th scope=col>&lt;fct&gt;</th><th scope=col>&lt;fct&gt;</th><th scope=col>&lt;fct&gt;</th><th scope=col>&lt;fct&gt;</th><th scope=col>&lt;fct&gt;</th><th scope=col>&lt;fct&gt;</th><th scope=col>&lt;fct&gt;</th><th scope=col>&lt;fct&gt;</th></tr>\n",
       "</thead>\n",
       "<tbody>\n",
       "\t<tr><th scope=row>1</th><td>0</td><td>0</td><td>1</td><td>0</td><td>0</td><td>1</td><td>0</td><td>0</td><td>0</td><td>0</td><td>0</td><td>0</td><td>0</td><td>1</td><td>0</td><td>0</td><td>0</td><td>0</td></tr>\n",
       "\t<tr><th scope=row>2</th><td>0</td><td>0</td><td>1</td><td>0</td><td>0</td><td>0</td><td>0</td><td>0</td><td>1</td><td>0</td><td>0</td><td>0</td><td>0</td><td>0</td><td>0</td><td>1</td><td>1</td><td>0</td></tr>\n",
       "\t<tr><th scope=row>3</th><td>0</td><td>0</td><td>1</td><td>0</td><td>0</td><td>0</td><td>1</td><td>0</td><td>0</td><td>0</td><td>1</td><td>0</td><td>0</td><td>0</td><td>0</td><td>0</td><td>0</td><td>0</td></tr>\n",
       "\t<tr><th scope=row>4</th><td>0</td><td>0</td><td>1</td><td>0</td><td>0</td><td>0</td><td>0</td><td>0</td><td>1</td><td>1</td><td>0</td><td>0</td><td>0</td><td>1</td><td>0</td><td>1</td><td>1</td><td>0</td></tr>\n",
       "\t<tr><th scope=row>5</th><td>0</td><td>0</td><td>1</td><td>0</td><td>0</td><td>0</td><td>0</td><td>0</td><td>0</td><td>0</td><td>0</td><td>0</td><td>0</td><td>1</td><td>1</td><td>1</td><td>1</td><td>0</td></tr>\n",
       "\t<tr><th scope=row>6</th><td>1</td><td>0</td><td>0</td><td>0</td><td>0</td><td>0</td><td>0</td><td>0</td><td>1</td><td>0</td><td>0</td><td>0</td><td>0</td><td>0</td><td>0</td><td>0</td><td>1</td><td>0</td></tr>\n",
       "</tbody>\n",
       "</table>\n"
      ],
      "text/latex": [
       "A data.frame: 6 × 18\n",
       "\\begin{tabular}{r|llllllllllllllllll}\n",
       "  & PA\\_barrier\\_time\\_family\\_responsabilities & PA\\_barrier\\_\\_tiredness & PA\\_barrier\\_places\\_closed\\_dangerous & PA\\_barrier\\_money & PA\\_barrier\\_time\\_convenience & PA\\_barrier\\_hard\\_work & PA\\_barrier\\_no\\_interest & PA\\_barrier\\_none & PA\\_easiness\\_outdoor\\_activities & PA\\_easiness\\_professional\\_guidance & PA\\_easiness\\_unguided & PA\\_easiness\\_music & PA\\_easiness\\_collective & PA\\_easiness\\_home\\_activity & PA\\_easiness\\_family\\_activity & PA\\_easiness\\_home\\_space & PA\\_easiness\\_home\\_equipament & PA\\_easiness\\_others\\\\\n",
       "  & <fct> & <fct> & <fct> & <fct> & <fct> & <fct> & <fct> & <fct> & <fct> & <fct> & <fct> & <fct> & <fct> & <fct> & <fct> & <fct> & <fct> & <fct>\\\\\n",
       "\\hline\n",
       "\t1 & 0 & 0 & 1 & 0 & 0 & 1 & 0 & 0 & 0 & 0 & 0 & 0 & 0 & 1 & 0 & 0 & 0 & 0\\\\\n",
       "\t2 & 0 & 0 & 1 & 0 & 0 & 0 & 0 & 0 & 1 & 0 & 0 & 0 & 0 & 0 & 0 & 1 & 1 & 0\\\\\n",
       "\t3 & 0 & 0 & 1 & 0 & 0 & 0 & 1 & 0 & 0 & 0 & 1 & 0 & 0 & 0 & 0 & 0 & 0 & 0\\\\\n",
       "\t4 & 0 & 0 & 1 & 0 & 0 & 0 & 0 & 0 & 1 & 1 & 0 & 0 & 0 & 1 & 0 & 1 & 1 & 0\\\\\n",
       "\t5 & 0 & 0 & 1 & 0 & 0 & 0 & 0 & 0 & 0 & 0 & 0 & 0 & 0 & 1 & 1 & 1 & 1 & 0\\\\\n",
       "\t6 & 1 & 0 & 0 & 0 & 0 & 0 & 0 & 0 & 1 & 0 & 0 & 0 & 0 & 0 & 0 & 0 & 1 & 0\\\\\n",
       "\\end{tabular}\n"
      ],
      "text/markdown": [
       "\n",
       "A data.frame: 6 × 18\n",
       "\n",
       "| <!--/--> | PA_barrier_time_family_responsabilities &lt;fct&gt; | PA_barrier__tiredness &lt;fct&gt; | PA_barrier_places_closed_dangerous &lt;fct&gt; | PA_barrier_money &lt;fct&gt; | PA_barrier_time_convenience &lt;fct&gt; | PA_barrier_hard_work &lt;fct&gt; | PA_barrier_no_interest &lt;fct&gt; | PA_barrier_none &lt;fct&gt; | PA_easiness_outdoor_activities &lt;fct&gt; | PA_easiness_professional_guidance &lt;fct&gt; | PA_easiness_unguided &lt;fct&gt; | PA_easiness_music &lt;fct&gt; | PA_easiness_collective &lt;fct&gt; | PA_easiness_home_activity &lt;fct&gt; | PA_easiness_family_activity &lt;fct&gt; | PA_easiness_home_space &lt;fct&gt; | PA_easiness_home_equipament &lt;fct&gt; | PA_easiness_others &lt;fct&gt; |\n",
       "|---|---|---|---|---|---|---|---|---|---|---|---|---|---|---|---|---|---|---|\n",
       "| 1 | 0 | 0 | 1 | 0 | 0 | 1 | 0 | 0 | 0 | 0 | 0 | 0 | 0 | 1 | 0 | 0 | 0 | 0 |\n",
       "| 2 | 0 | 0 | 1 | 0 | 0 | 0 | 0 | 0 | 1 | 0 | 0 | 0 | 0 | 0 | 0 | 1 | 1 | 0 |\n",
       "| 3 | 0 | 0 | 1 | 0 | 0 | 0 | 1 | 0 | 0 | 0 | 1 | 0 | 0 | 0 | 0 | 0 | 0 | 0 |\n",
       "| 4 | 0 | 0 | 1 | 0 | 0 | 0 | 0 | 0 | 1 | 1 | 0 | 0 | 0 | 1 | 0 | 1 | 1 | 0 |\n",
       "| 5 | 0 | 0 | 1 | 0 | 0 | 0 | 0 | 0 | 0 | 0 | 0 | 0 | 0 | 1 | 1 | 1 | 1 | 0 |\n",
       "| 6 | 1 | 0 | 0 | 0 | 0 | 0 | 0 | 0 | 1 | 0 | 0 | 0 | 0 | 0 | 0 | 0 | 1 | 0 |\n",
       "\n"
      ],
      "text/plain": [
       "  PA_barrier_time_family_responsabilities PA_barrier__tiredness\n",
       "1 0                                       0                    \n",
       "2 0                                       0                    \n",
       "3 0                                       0                    \n",
       "4 0                                       0                    \n",
       "5 0                                       0                    \n",
       "6 1                                       0                    \n",
       "  PA_barrier_places_closed_dangerous PA_barrier_money\n",
       "1 1                                  0               \n",
       "2 1                                  0               \n",
       "3 1                                  0               \n",
       "4 1                                  0               \n",
       "5 1                                  0               \n",
       "6 0                                  0               \n",
       "  PA_barrier_time_convenience PA_barrier_hard_work PA_barrier_no_interest\n",
       "1 0                           1                    0                     \n",
       "2 0                           0                    0                     \n",
       "3 0                           0                    1                     \n",
       "4 0                           0                    0                     \n",
       "5 0                           0                    0                     \n",
       "6 0                           0                    0                     \n",
       "  PA_barrier_none PA_easiness_outdoor_activities\n",
       "1 0               0                             \n",
       "2 0               1                             \n",
       "3 0               0                             \n",
       "4 0               1                             \n",
       "5 0               0                             \n",
       "6 0               1                             \n",
       "  PA_easiness_professional_guidance PA_easiness_unguided PA_easiness_music\n",
       "1 0                                 0                    0                \n",
       "2 0                                 0                    0                \n",
       "3 0                                 1                    0                \n",
       "4 1                                 0                    0                \n",
       "5 0                                 0                    0                \n",
       "6 0                                 0                    0                \n",
       "  PA_easiness_collective PA_easiness_home_activity PA_easiness_family_activity\n",
       "1 0                      1                         0                          \n",
       "2 0                      0                         0                          \n",
       "3 0                      0                         0                          \n",
       "4 0                      1                         0                          \n",
       "5 0                      1                         1                          \n",
       "6 0                      0                         0                          \n",
       "  PA_easiness_home_space PA_easiness_home_equipament PA_easiness_others\n",
       "1 0                      0                           0                 \n",
       "2 1                      1                           0                 \n",
       "3 0                      0                           0                 \n",
       "4 1                      1                           0                 \n",
       "5 1                      1                           0                 \n",
       "6 0                      1                           0                 "
      ]
     },
     "metadata": {},
     "output_type": "display_data"
    }
   ],
   "source": [
    "\n",
    "df_during[1:18] <- lapply(df_during[1:18], as.factor)\n",
    "df_during_barriers_facilitators <- df_during[, 1:18]\n",
    "dim(df_during_barriers_facilitators)\n",
    "head(df_during_barriers_facilitators)\n"
   ]
  },
  {
   "cell_type": "markdown",
   "metadata": {},
   "source": [
    "### Finding the best K"
   ]
  },
  {
   "cell_type": "markdown",
   "metadata": {},
   "source": [
    "#### Elbow Curve"
   ]
  },
  {
   "cell_type": "code",
   "execution_count": 9,
   "metadata": {},
   "outputs": [
    {
     "data": {
      "image/png": "[encoded data removed]",
      "text/plain": [
       "plot without title"
      ]
     },
     "metadata": {
      "image/png": {
       "height": 420,
       "width": 420
      }
     },
     "output_type": "display_data"
    }
   ],
   "source": [
    "cost <- c()\n",
    "K = seq(1, 15, 1)\n",
    "for(num_clusters in K){\n",
    "    set.seed(2)\n",
    "    kmode <- kmodes(df_during_barriers_facilitators, num_clusters, iter.max = 20, weighted = FALSE)\n",
    "    cost <<- append(cost, sum(kmode$withindiff))\n",
    "}\n",
    "\n",
    "p = ggplot() + \n",
    "    geom_line(data = data.frame(cost, K), aes(x = K,  y = cost), size=1, color=\"red\") +\n",
    "    geom_point(data = data.frame(cost, K), aes(x = K,  y = cost), size=3) +\n",
    "    xlab('Number of Clusters') +\n",
    "    ylab('Cost')\n",
    "\n",
    "p"
   ]
  },
  {
   "cell_type": "markdown",
   "metadata": {},
   "source": [
    "#### Silhouette method"
   ]
  },
  {
   "cell_type": "code",
   "execution_count": 10,
   "metadata": {},
   "outputs": [
    {
     "data": {
      "text/html": [
       "<table class=\"dataframe\">\n",
       "<caption>A matrix: 6 × 1250 of type dbl</caption>\n",
       "<thead>\n",
       "\t<tr><th></th><th scope=col>1</th><th scope=col>2</th><th scope=col>3</th><th scope=col>4</th><th scope=col>5</th><th scope=col>6</th><th scope=col>7</th><th scope=col>8</th><th scope=col>9</th><th scope=col>10</th><th scope=col>...</th><th scope=col>1246</th><th scope=col>1247</th><th scope=col>1248</th><th scope=col>1249</th><th scope=col>1250</th><th scope=col>1251</th><th scope=col>1252</th><th scope=col>1253</th><th scope=col>1254</th><th scope=col>1255</th></tr>\n",
       "</thead>\n",
       "<tbody>\n",
       "\t<tr><th scope=row>1</th><td>0</td><td>5</td><td>4</td><td>5</td><td>4</td><td>6</td><td>6</td><td>5</td><td>7</td><td>3</td><td>...</td><td>5</td><td>5</td><td>6</td><td> 8</td><td>5</td><td>4</td><td>4</td><td>5</td><td>3</td><td>3</td></tr>\n",
       "\t<tr><th scope=row>2</th><td>5</td><td>0</td><td>5</td><td>2</td><td>3</td><td>3</td><td>3</td><td>6</td><td>4</td><td>4</td><td>...</td><td>4</td><td>6</td><td>3</td><td> 7</td><td>6</td><td>1</td><td>7</td><td>4</td><td>6</td><td>2</td></tr>\n",
       "\t<tr><th scope=row>3</th><td>4</td><td>5</td><td>0</td><td>7</td><td>6</td><td>6</td><td>8</td><td>7</td><td>7</td><td>3</td><td>...</td><td>5</td><td>5</td><td>8</td><td>10</td><td>5</td><td>4</td><td>6</td><td>3</td><td>5</td><td>3</td></tr>\n",
       "\t<tr><th scope=row>4</th><td>5</td><td>2</td><td>7</td><td>0</td><td>3</td><td>5</td><td>3</td><td>6</td><td>4</td><td>6</td><td>...</td><td>6</td><td>6</td><td>3</td><td> 5</td><td>8</td><td>3</td><td>7</td><td>6</td><td>8</td><td>4</td></tr>\n",
       "\t<tr><th scope=row>5</th><td>4</td><td>3</td><td>6</td><td>3</td><td>0</td><td>6</td><td>6</td><td>5</td><td>5</td><td>5</td><td>...</td><td>5</td><td>7</td><td>4</td><td> 4</td><td>7</td><td>4</td><td>6</td><td>7</td><td>7</td><td>5</td></tr>\n",
       "\t<tr><th scope=row>6</th><td>6</td><td>3</td><td>6</td><td>5</td><td>6</td><td>0</td><td>6</td><td>7</td><td>7</td><td>5</td><td>...</td><td>3</td><td>5</td><td>4</td><td> 8</td><td>5</td><td>2</td><td>6</td><td>5</td><td>7</td><td>3</td></tr>\n",
       "</tbody>\n",
       "</table>\n"
      ],
      "text/latex": [
       "A matrix: 6 × 1250 of type dbl\n",
       "\\begin{tabular}{r|lllllllllllllllllllll}\n",
       "  & 1 & 2 & 3 & 4 & 5 & 6 & 7 & 8 & 9 & 10 & ... & 1246 & 1247 & 1248 & 1249 & 1250 & 1251 & 1252 & 1253 & 1254 & 1255\\\\\n",
       "\\hline\n",
       "\t1 & 0 & 5 & 4 & 5 & 4 & 6 & 6 & 5 & 7 & 3 & ... & 5 & 5 & 6 &  8 & 5 & 4 & 4 & 5 & 3 & 3\\\\\n",
       "\t2 & 5 & 0 & 5 & 2 & 3 & 3 & 3 & 6 & 4 & 4 & ... & 4 & 6 & 3 &  7 & 6 & 1 & 7 & 4 & 6 & 2\\\\\n",
       "\t3 & 4 & 5 & 0 & 7 & 6 & 6 & 8 & 7 & 7 & 3 & ... & 5 & 5 & 8 & 10 & 5 & 4 & 6 & 3 & 5 & 3\\\\\n",
       "\t4 & 5 & 2 & 7 & 0 & 3 & 5 & 3 & 6 & 4 & 6 & ... & 6 & 6 & 3 &  5 & 8 & 3 & 7 & 6 & 8 & 4\\\\\n",
       "\t5 & 4 & 3 & 6 & 3 & 0 & 6 & 6 & 5 & 5 & 5 & ... & 5 & 7 & 4 &  4 & 7 & 4 & 6 & 7 & 7 & 5\\\\\n",
       "\t6 & 6 & 3 & 6 & 5 & 6 & 0 & 6 & 7 & 7 & 5 & ... & 3 & 5 & 4 &  8 & 5 & 2 & 6 & 5 & 7 & 3\\\\\n",
       "\\end{tabular}\n"
      ],
      "text/markdown": [
       "\n",
       "A matrix: 6 × 1250 of type dbl\n",
       "\n",
       "| <!--/--> | 1 | 2 | 3 | 4 | 5 | 6 | 7 | 8 | 9 | 10 | ... | 1246 | 1247 | 1248 | 1249 | 1250 | 1251 | 1252 | 1253 | 1254 | 1255 |\n",
       "|---|---|---|---|---|---|---|---|---|---|---|---|---|---|---|---|---|---|---|---|---|---|\n",
       "| 1 | 0 | 5 | 4 | 5 | 4 | 6 | 6 | 5 | 7 | 3 | ... | 5 | 5 | 6 |  8 | 5 | 4 | 4 | 5 | 3 | 3 |\n",
       "| 2 | 5 | 0 | 5 | 2 | 3 | 3 | 3 | 6 | 4 | 4 | ... | 4 | 6 | 3 |  7 | 6 | 1 | 7 | 4 | 6 | 2 |\n",
       "| 3 | 4 | 5 | 0 | 7 | 6 | 6 | 8 | 7 | 7 | 3 | ... | 5 | 5 | 8 | 10 | 5 | 4 | 6 | 3 | 5 | 3 |\n",
       "| 4 | 5 | 2 | 7 | 0 | 3 | 5 | 3 | 6 | 4 | 6 | ... | 6 | 6 | 3 |  5 | 8 | 3 | 7 | 6 | 8 | 4 |\n",
       "| 5 | 4 | 3 | 6 | 3 | 0 | 6 | 6 | 5 | 5 | 5 | ... | 5 | 7 | 4 |  4 | 7 | 4 | 6 | 7 | 7 | 5 |\n",
       "| 6 | 6 | 3 | 6 | 5 | 6 | 0 | 6 | 7 | 7 | 5 | ... | 3 | 5 | 4 |  8 | 5 | 2 | 6 | 5 | 7 | 3 |\n",
       "\n"
      ],
      "text/plain": [
       "  1 2 3 4 5 6 7 8 9 10 ... 1246 1247 1248 1249 1250 1251 1252 1253 1254 1255\n",
       "1 0 5 4 5 4 6 6 5 7 3  ... 5    5    6     8   5    4    4    5    3    3   \n",
       "2 5 0 5 2 3 3 3 6 4 4  ... 4    6    3     7   6    1    7    4    6    2   \n",
       "3 4 5 0 7 6 6 8 7 7 3  ... 5    5    8    10   5    4    6    3    5    3   \n",
       "4 5 2 7 0 3 5 3 6 4 6  ... 6    6    3     5   8    3    7    6    8    4   \n",
       "5 4 3 6 3 0 6 6 5 5 5  ... 5    7    4     4   7    4    6    7    7    5   \n",
       "6 6 3 6 5 6 0 6 7 7 5  ... 3    5    4     8   5    2    6    5    7    3   "
      ]
     },
     "metadata": {},
     "output_type": "display_data"
    }
   ],
   "source": [
    "df_matrix <- data.matrix(df_during_barriers_facilitators) - 1\n",
    "similarity_matrix <- df_matrix %*% t(df_matrix) + ((!df_matrix) + 0) %*% ((!t(df_matrix)) + 0)\n",
    "dissimilarity_matrix <- ncol(df_during_barriers_facilitators) - similarity_matrix\n",
    "head(dissimilarity_matrix)"
   ]
  },
  {
   "cell_type": "code",
   "execution_count": 11,
   "metadata": {},
   "outputs": [],
   "source": [
    "K <- seq(2, 15, 1)\n",
    "source(here('Modules','modules.R'))\n",
    "silhouette_sc <- silhouette_score(K=K, df=df_during, diss_matrix = dissimilarity_matrix, iters=200)\n"
   ]
  },
  {
   "cell_type": "code",
   "execution_count": 12,
   "metadata": {},
   "outputs": [
    {
     "data": {
      "text/html": [
       "<style>\n",
       ".list-inline {list-style: none; margin:0; padding: 0}\n",
       ".list-inline>li {display: inline-block}\n",
       ".list-inline>li:not(:last-child)::after {content: \"\\00b7\"; padding: 0 .5ex}\n",
       "</style>\n",
       "<ol class=list-inline><li>0.113318618733298</li><li>0.129810434315127</li><li>0.12772249450367</li><li>0.121988262843727</li><li>0.12279661163487</li><li>0.127774363271988</li><li>0.129201660953002</li><li>0.126929570602726</li><li>0.118590023452026</li><li>0.124518566582653</li><li>0.175646621032146</li><li>0.132989962136757</li><li>0.0756119264167011</li><li>0.153840525515322</li></ol>\n"
      ],
      "text/latex": [
       "\\begin{enumerate*}\n",
       "\\item 0.113318618733298\n",
       "\\item 0.129810434315127\n",
       "\\item 0.12772249450367\n",
       "\\item 0.121988262843727\n",
       "\\item 0.12279661163487\n",
       "\\item 0.127774363271988\n",
       "\\item 0.129201660953002\n",
       "\\item 0.126929570602726\n",
       "\\item 0.118590023452026\n",
       "\\item 0.124518566582653\n",
       "\\item 0.175646621032146\n",
       "\\item 0.132989962136757\n",
       "\\item 0.0756119264167011\n",
       "\\item 0.153840525515322\n",
       "\\end{enumerate*}\n"
      ],
      "text/markdown": [
       "1. 0.113318618733298\n",
       "2. 0.129810434315127\n",
       "3. 0.12772249450367\n",
       "4. 0.121988262843727\n",
       "5. 0.12279661163487\n",
       "6. 0.127774363271988\n",
       "7. 0.129201660953002\n",
       "8. 0.126929570602726\n",
       "9. 0.118590023452026\n",
       "10. 0.124518566582653\n",
       "11. 0.175646621032146\n",
       "12. 0.132989962136757\n",
       "13. 0.0756119264167011\n",
       "14. 0.153840525515322\n",
       "\n",
       "\n"
      ],
      "text/plain": [
       " [1] 0.11331862 0.12981043 0.12772249 0.12198826 0.12279661 0.12777436\n",
       " [7] 0.12920166 0.12692957 0.11859002 0.12451857 0.17564662 0.13298996\n",
       "[13] 0.07561193 0.15384053"
      ]
     },
     "metadata": {},
     "output_type": "display_data"
    }
   ],
   "source": [
    "silhouette_sc"
   ]
  },
  {
   "cell_type": "code",
   "execution_count": 13,
   "metadata": {},
   "outputs": [
    {
     "data": {
      "image/png": "[encoded data removed]",
      "text/plain": [
       "plot without title"
      ]
     },
     "metadata": {
      "image/png": {
       "height": 420,
       "width": 420
      }
     },
     "output_type": "display_data"
    }
   ],
   "source": [
    "p = ggplot() + \n",
    "    geom_line(data = data.frame(silhouette_sc, K), aes(x = K,  y = silhouette_sc), size=1, color=\"red\") +\n",
    "    geom_point(data = data.frame(silhouette_sc, K), aes(x = K,  y = silhouette_sc), size=3) +\n",
    "    xlab('Number of Clusters') +\n",
    "    ylab('silhouette_score')\n",
    "\n",
    "p"
   ]
  },
  {
   "cell_type": "markdown",
   "metadata": {},
   "source": [
    "### Exploring best K"
   ]
  },
  {
   "cell_type": "markdown",
   "metadata": {},
   "source": [
    "Adding clusters to the dataset"
   ]
  },
  {
   "cell_type": "code",
   "execution_count": 14,
   "metadata": {},
   "outputs": [
    {
     "data": {
      "text/html": [
       "<table class=\"dataframe\">\n",
       "<caption>A data.frame: 6 × 46</caption>\n",
       "<thead>\n",
       "\t<tr><th></th><th scope=col>PA_barrier_time_family_responsabilities</th><th scope=col>PA_barrier__tiredness</th><th scope=col>PA_barrier_places_closed_dangerous</th><th scope=col>PA_barrier_money</th><th scope=col>PA_barrier_time_convenience</th><th scope=col>PA_barrier_hard_work</th><th scope=col>PA_barrier_no_interest</th><th scope=col>PA_barrier_none</th><th scope=col>PA_easiness_outdoor_activities</th><th scope=col>PA_easiness_professional_guidance</th><th scope=col>...</th><th scope=col>volleyball</th><th scope=col>basketball</th><th scope=col>swimming</th><th scope=col>surfing</th><th scope=col>yoga</th><th scope=col>pilates</th><th scope=col>fighting</th><th scope=col>other_sports</th><th scope=col>PA_number</th><th scope=col>cluster</th></tr>\n",
       "\t<tr><th></th><th scope=col>&lt;fct&gt;</th><th scope=col>&lt;fct&gt;</th><th scope=col>&lt;fct&gt;</th><th scope=col>&lt;fct&gt;</th><th scope=col>&lt;fct&gt;</th><th scope=col>&lt;fct&gt;</th><th scope=col>&lt;fct&gt;</th><th scope=col>&lt;fct&gt;</th><th scope=col>&lt;fct&gt;</th><th scope=col>&lt;fct&gt;</th><th scope=col>...</th><th scope=col>&lt;dbl&gt;</th><th scope=col>&lt;dbl&gt;</th><th scope=col>&lt;dbl&gt;</th><th scope=col>&lt;dbl&gt;</th><th scope=col>&lt;dbl&gt;</th><th scope=col>&lt;dbl&gt;</th><th scope=col>&lt;dbl&gt;</th><th scope=col>&lt;dbl&gt;</th><th scope=col>&lt;dbl&gt;</th><th scope=col>&lt;int&gt;</th></tr>\n",
       "</thead>\n",
       "<tbody>\n",
       "\t<tr><th scope=row>1</th><td>0</td><td>0</td><td>1</td><td>0</td><td>0</td><td>1</td><td>0</td><td>0</td><td>0</td><td>0</td><td>...</td><td>0</td><td>0</td><td>0</td><td>0</td><td>0</td><td>0</td><td>0</td><td>0</td><td>0</td><td>3</td></tr>\n",
       "\t<tr><th scope=row>2</th><td>0</td><td>0</td><td>1</td><td>0</td><td>0</td><td>0</td><td>0</td><td>0</td><td>1</td><td>0</td><td>...</td><td>0</td><td>0</td><td>0</td><td>0</td><td>0</td><td>0</td><td>0</td><td>0</td><td>2</td><td>3</td></tr>\n",
       "\t<tr><th scope=row>3</th><td>0</td><td>0</td><td>1</td><td>0</td><td>0</td><td>0</td><td>1</td><td>0</td><td>0</td><td>0</td><td>...</td><td>0</td><td>0</td><td>0</td><td>0</td><td>0</td><td>0</td><td>0</td><td>1</td><td>2</td><td>3</td></tr>\n",
       "\t<tr><th scope=row>4</th><td>0</td><td>0</td><td>1</td><td>0</td><td>0</td><td>0</td><td>0</td><td>0</td><td>1</td><td>1</td><td>...</td><td>0</td><td>0</td><td>0</td><td>0</td><td>0</td><td>0</td><td>0</td><td>0</td><td>3</td><td>4</td></tr>\n",
       "\t<tr><th scope=row>5</th><td>0</td><td>0</td><td>1</td><td>0</td><td>0</td><td>0</td><td>0</td><td>0</td><td>0</td><td>0</td><td>...</td><td>0</td><td>0</td><td>0</td><td>0</td><td>0</td><td>0</td><td>0</td><td>0</td><td>2</td><td>4</td></tr>\n",
       "\t<tr><th scope=row>6</th><td>1</td><td>0</td><td>0</td><td>0</td><td>0</td><td>0</td><td>0</td><td>0</td><td>1</td><td>0</td><td>...</td><td>0</td><td>0</td><td>0</td><td>0</td><td>0</td><td>0</td><td>0</td><td>1</td><td>2</td><td>1</td></tr>\n",
       "</tbody>\n",
       "</table>\n"
      ],
      "text/latex": [
       "A data.frame: 6 × 46\n",
       "\\begin{tabular}{r|lllllllllllllllllllll}\n",
       "  & PA\\_barrier\\_time\\_family\\_responsabilities & PA\\_barrier\\_\\_tiredness & PA\\_barrier\\_places\\_closed\\_dangerous & PA\\_barrier\\_money & PA\\_barrier\\_time\\_convenience & PA\\_barrier\\_hard\\_work & PA\\_barrier\\_no\\_interest & PA\\_barrier\\_none & PA\\_easiness\\_outdoor\\_activities & PA\\_easiness\\_professional\\_guidance & ... & volleyball & basketball & swimming & surfing & yoga & pilates & fighting & other\\_sports & PA\\_number & cluster\\\\\n",
       "  & <fct> & <fct> & <fct> & <fct> & <fct> & <fct> & <fct> & <fct> & <fct> & <fct> & ... & <dbl> & <dbl> & <dbl> & <dbl> & <dbl> & <dbl> & <dbl> & <dbl> & <dbl> & <int>\\\\\n",
       "\\hline\n",
       "\t1 & 0 & 0 & 1 & 0 & 0 & 1 & 0 & 0 & 0 & 0 & ... & 0 & 0 & 0 & 0 & 0 & 0 & 0 & 0 & 0 & 3\\\\\n",
       "\t2 & 0 & 0 & 1 & 0 & 0 & 0 & 0 & 0 & 1 & 0 & ... & 0 & 0 & 0 & 0 & 0 & 0 & 0 & 0 & 2 & 3\\\\\n",
       "\t3 & 0 & 0 & 1 & 0 & 0 & 0 & 1 & 0 & 0 & 0 & ... & 0 & 0 & 0 & 0 & 0 & 0 & 0 & 1 & 2 & 3\\\\\n",
       "\t4 & 0 & 0 & 1 & 0 & 0 & 0 & 0 & 0 & 1 & 1 & ... & 0 & 0 & 0 & 0 & 0 & 0 & 0 & 0 & 3 & 4\\\\\n",
       "\t5 & 0 & 0 & 1 & 0 & 0 & 0 & 0 & 0 & 0 & 0 & ... & 0 & 0 & 0 & 0 & 0 & 0 & 0 & 0 & 2 & 4\\\\\n",
       "\t6 & 1 & 0 & 0 & 0 & 0 & 0 & 0 & 0 & 1 & 0 & ... & 0 & 0 & 0 & 0 & 0 & 0 & 0 & 1 & 2 & 1\\\\\n",
       "\\end{tabular}\n"
      ],
      "text/markdown": [
       "\n",
       "A data.frame: 6 × 46\n",
       "\n",
       "| <!--/--> | PA_barrier_time_family_responsabilities &lt;fct&gt; | PA_barrier__tiredness &lt;fct&gt; | PA_barrier_places_closed_dangerous &lt;fct&gt; | PA_barrier_money &lt;fct&gt; | PA_barrier_time_convenience &lt;fct&gt; | PA_barrier_hard_work &lt;fct&gt; | PA_barrier_no_interest &lt;fct&gt; | PA_barrier_none &lt;fct&gt; | PA_easiness_outdoor_activities &lt;fct&gt; | PA_easiness_professional_guidance &lt;fct&gt; | ... ... | volleyball &lt;dbl&gt; | basketball &lt;dbl&gt; | swimming &lt;dbl&gt; | surfing &lt;dbl&gt; | yoga &lt;dbl&gt; | pilates &lt;dbl&gt; | fighting &lt;dbl&gt; | other_sports &lt;dbl&gt; | PA_number &lt;dbl&gt; | cluster &lt;int&gt; |\n",
       "|---|---|---|---|---|---|---|---|---|---|---|---|---|---|---|---|---|---|---|---|---|---|\n",
       "| 1 | 0 | 0 | 1 | 0 | 0 | 1 | 0 | 0 | 0 | 0 | ... | 0 | 0 | 0 | 0 | 0 | 0 | 0 | 0 | 0 | 3 |\n",
       "| 2 | 0 | 0 | 1 | 0 | 0 | 0 | 0 | 0 | 1 | 0 | ... | 0 | 0 | 0 | 0 | 0 | 0 | 0 | 0 | 2 | 3 |\n",
       "| 3 | 0 | 0 | 1 | 0 | 0 | 0 | 1 | 0 | 0 | 0 | ... | 0 | 0 | 0 | 0 | 0 | 0 | 0 | 1 | 2 | 3 |\n",
       "| 4 | 0 | 0 | 1 | 0 | 0 | 0 | 0 | 0 | 1 | 1 | ... | 0 | 0 | 0 | 0 | 0 | 0 | 0 | 0 | 3 | 4 |\n",
       "| 5 | 0 | 0 | 1 | 0 | 0 | 0 | 0 | 0 | 0 | 0 | ... | 0 | 0 | 0 | 0 | 0 | 0 | 0 | 0 | 2 | 4 |\n",
       "| 6 | 1 | 0 | 0 | 0 | 0 | 0 | 0 | 0 | 1 | 0 | ... | 0 | 0 | 0 | 0 | 0 | 0 | 0 | 1 | 2 | 1 |\n",
       "\n"
      ],
      "text/plain": [
       "  PA_barrier_time_family_responsabilities PA_barrier__tiredness\n",
       "1 0                                       0                    \n",
       "2 0                                       0                    \n",
       "3 0                                       0                    \n",
       "4 0                                       0                    \n",
       "5 0                                       0                    \n",
       "6 1                                       0                    \n",
       "  PA_barrier_places_closed_dangerous PA_barrier_money\n",
       "1 1                                  0               \n",
       "2 1                                  0               \n",
       "3 1                                  0               \n",
       "4 1                                  0               \n",
       "5 1                                  0               \n",
       "6 0                                  0               \n",
       "  PA_barrier_time_convenience PA_barrier_hard_work PA_barrier_no_interest\n",
       "1 0                           1                    0                     \n",
       "2 0                           0                    0                     \n",
       "3 0                           0                    1                     \n",
       "4 0                           0                    0                     \n",
       "5 0                           0                    0                     \n",
       "6 0                           0                    0                     \n",
       "  PA_barrier_none PA_easiness_outdoor_activities\n",
       "1 0               0                             \n",
       "2 0               1                             \n",
       "3 0               0                             \n",
       "4 0               1                             \n",
       "5 0               0                             \n",
       "6 0               1                             \n",
       "  PA_easiness_professional_guidance ... volleyball basketball swimming surfing\n",
       "1 0                                 ... 0          0          0        0      \n",
       "2 0                                 ... 0          0          0        0      \n",
       "3 0                                 ... 0          0          0        0      \n",
       "4 1                                 ... 0          0          0        0      \n",
       "5 0                                 ... 0          0          0        0      \n",
       "6 0                                 ... 0          0          0        0      \n",
       "  yoga pilates fighting other_sports PA_number cluster\n",
       "1 0    0       0        0            0         3      \n",
       "2 0    0       0        0            2         3      \n",
       "3 0    0       0        1            2         3      \n",
       "4 0    0       0        0            3         4      \n",
       "5 0    0       0        0            2         4      \n",
       "6 0    0       0        1            2         1      "
      ]
     },
     "metadata": {},
     "output_type": "display_data"
    },
    {
     "data": {
      "text/html": [
       "<style>\n",
       ".list-inline {list-style: none; margin:0; padding: 0}\n",
       ".list-inline>li {display: inline-block}\n",
       ".list-inline>li:not(:last-child)::after {content: \"\\00b7\"; padding: 0 .5ex}\n",
       "</style>\n",
       "<ol class=list-inline><li>'PA_barrier_time_family_responsabilities'</li><li>'PA_barrier__tiredness'</li><li>'PA_barrier_places_closed_dangerous'</li><li>'PA_barrier_money'</li><li>'PA_barrier_time_convenience'</li><li>'PA_barrier_hard_work'</li><li>'PA_barrier_no_interest'</li><li>'PA_barrier_none'</li><li>'PA_easiness_outdoor_activities'</li><li>'PA_easiness_professional_guidance'</li><li>'PA_easiness_unguided'</li><li>'PA_easiness_music'</li><li>'PA_easiness_collective'</li><li>'PA_easiness_home_activity'</li><li>'PA_easiness_family_activity'</li><li>'PA_easiness_home_space'</li><li>'PA_easiness_home_equipament'</li><li>'PA_easiness_others'</li><li>'PA_weekly_frequency'</li><li>'PA_intensity'</li><li>'PA_duration'</li><li>'PA_practice_during'</li><li>'sedentary_time_range_during'</li><li>'sex'</li><li>'age_range'</li><li>'martialStatus'</li><li>'co.resident_range'</li><li>'rooms_range'</li><li>'income_range'</li><li>'scholarity'</li><li>'running'</li><li>'hiking'</li><li>'cycling'</li><li>'muscle_training'</li><li>'soccer'</li><li>'tennis'</li><li>'volleyball'</li><li>'basketball'</li><li>'swimming'</li><li>'surfing'</li><li>'yoga'</li><li>'pilates'</li><li>'fighting'</li><li>'other_sports'</li><li>'PA_number'</li><li>'cluster'</li></ol>\n"
      ],
      "text/latex": [
       "\\begin{enumerate*}\n",
       "\\item 'PA\\_barrier\\_time\\_family\\_responsabilities'\n",
       "\\item 'PA\\_barrier\\_\\_tiredness'\n",
       "\\item 'PA\\_barrier\\_places\\_closed\\_dangerous'\n",
       "\\item 'PA\\_barrier\\_money'\n",
       "\\item 'PA\\_barrier\\_time\\_convenience'\n",
       "\\item 'PA\\_barrier\\_hard\\_work'\n",
       "\\item 'PA\\_barrier\\_no\\_interest'\n",
       "\\item 'PA\\_barrier\\_none'\n",
       "\\item 'PA\\_easiness\\_outdoor\\_activities'\n",
       "\\item 'PA\\_easiness\\_professional\\_guidance'\n",
       "\\item 'PA\\_easiness\\_unguided'\n",
       "\\item 'PA\\_easiness\\_music'\n",
       "\\item 'PA\\_easiness\\_collective'\n",
       "\\item 'PA\\_easiness\\_home\\_activity'\n",
       "\\item 'PA\\_easiness\\_family\\_activity'\n",
       "\\item 'PA\\_easiness\\_home\\_space'\n",
       "\\item 'PA\\_easiness\\_home\\_equipament'\n",
       "\\item 'PA\\_easiness\\_others'\n",
       "\\item 'PA\\_weekly\\_frequency'\n",
       "\\item 'PA\\_intensity'\n",
       "\\item 'PA\\_duration'\n",
       "\\item 'PA\\_practice\\_during'\n",
       "\\item 'sedentary\\_time\\_range\\_during'\n",
       "\\item 'sex'\n",
       "\\item 'age\\_range'\n",
       "\\item 'martialStatus'\n",
       "\\item 'co.resident\\_range'\n",
       "\\item 'rooms\\_range'\n",
       "\\item 'income\\_range'\n",
       "\\item 'scholarity'\n",
       "\\item 'running'\n",
       "\\item 'hiking'\n",
       "\\item 'cycling'\n",
       "\\item 'muscle\\_training'\n",
       "\\item 'soccer'\n",
       "\\item 'tennis'\n",
       "\\item 'volleyball'\n",
       "\\item 'basketball'\n",
       "\\item 'swimming'\n",
       "\\item 'surfing'\n",
       "\\item 'yoga'\n",
       "\\item 'pilates'\n",
       "\\item 'fighting'\n",
       "\\item 'other\\_sports'\n",
       "\\item 'PA\\_number'\n",
       "\\item 'cluster'\n",
       "\\end{enumerate*}\n"
      ],
      "text/markdown": [
       "1. 'PA_barrier_time_family_responsabilities'\n",
       "2. 'PA_barrier__tiredness'\n",
       "3. 'PA_barrier_places_closed_dangerous'\n",
       "4. 'PA_barrier_money'\n",
       "5. 'PA_barrier_time_convenience'\n",
       "6. 'PA_barrier_hard_work'\n",
       "7. 'PA_barrier_no_interest'\n",
       "8. 'PA_barrier_none'\n",
       "9. 'PA_easiness_outdoor_activities'\n",
       "10. 'PA_easiness_professional_guidance'\n",
       "11. 'PA_easiness_unguided'\n",
       "12. 'PA_easiness_music'\n",
       "13. 'PA_easiness_collective'\n",
       "14. 'PA_easiness_home_activity'\n",
       "15. 'PA_easiness_family_activity'\n",
       "16. 'PA_easiness_home_space'\n",
       "17. 'PA_easiness_home_equipament'\n",
       "18. 'PA_easiness_others'\n",
       "19. 'PA_weekly_frequency'\n",
       "20. 'PA_intensity'\n",
       "21. 'PA_duration'\n",
       "22. 'PA_practice_during'\n",
       "23. 'sedentary_time_range_during'\n",
       "24. 'sex'\n",
       "25. 'age_range'\n",
       "26. 'martialStatus'\n",
       "27. 'co.resident_range'\n",
       "28. 'rooms_range'\n",
       "29. 'income_range'\n",
       "30. 'scholarity'\n",
       "31. 'running'\n",
       "32. 'hiking'\n",
       "33. 'cycling'\n",
       "34. 'muscle_training'\n",
       "35. 'soccer'\n",
       "36. 'tennis'\n",
       "37. 'volleyball'\n",
       "38. 'basketball'\n",
       "39. 'swimming'\n",
       "40. 'surfing'\n",
       "41. 'yoga'\n",
       "42. 'pilates'\n",
       "43. 'fighting'\n",
       "44. 'other_sports'\n",
       "45. 'PA_number'\n",
       "46. 'cluster'\n",
       "\n",
       "\n"
      ],
      "text/plain": [
       " [1] \"PA_barrier_time_family_responsabilities\"\n",
       " [2] \"PA_barrier__tiredness\"                  \n",
       " [3] \"PA_barrier_places_closed_dangerous\"     \n",
       " [4] \"PA_barrier_money\"                       \n",
       " [5] \"PA_barrier_time_convenience\"            \n",
       " [6] \"PA_barrier_hard_work\"                   \n",
       " [7] \"PA_barrier_no_interest\"                 \n",
       " [8] \"PA_barrier_none\"                        \n",
       " [9] \"PA_easiness_outdoor_activities\"         \n",
       "[10] \"PA_easiness_professional_guidance\"      \n",
       "[11] \"PA_easiness_unguided\"                   \n",
       "[12] \"PA_easiness_music\"                      \n",
       "[13] \"PA_easiness_collective\"                 \n",
       "[14] \"PA_easiness_home_activity\"              \n",
       "[15] \"PA_easiness_family_activity\"            \n",
       "[16] \"PA_easiness_home_space\"                 \n",
       "[17] \"PA_easiness_home_equipament\"            \n",
       "[18] \"PA_easiness_others\"                     \n",
       "[19] \"PA_weekly_frequency\"                    \n",
       "[20] \"PA_intensity\"                           \n",
       "[21] \"PA_duration\"                            \n",
       "[22] \"PA_practice_during\"                     \n",
       "[23] \"sedentary_time_range_during\"            \n",
       "[24] \"sex\"                                    \n",
       "[25] \"age_range\"                              \n",
       "[26] \"martialStatus\"                          \n",
       "[27] \"co.resident_range\"                      \n",
       "[28] \"rooms_range\"                            \n",
       "[29] \"income_range\"                           \n",
       "[30] \"scholarity\"                             \n",
       "[31] \"running\"                                \n",
       "[32] \"hiking\"                                 \n",
       "[33] \"cycling\"                                \n",
       "[34] \"muscle_training\"                        \n",
       "[35] \"soccer\"                                 \n",
       "[36] \"tennis\"                                 \n",
       "[37] \"volleyball\"                             \n",
       "[38] \"basketball\"                             \n",
       "[39] \"swimming\"                               \n",
       "[40] \"surfing\"                                \n",
       "[41] \"yoga\"                                   \n",
       "[42] \"pilates\"                                \n",
       "[43] \"fighting\"                               \n",
       "[44] \"other_sports\"                           \n",
       "[45] \"PA_number\"                              \n",
       "[46] \"cluster\"                                "
      ]
     },
     "metadata": {},
     "output_type": "display_data"
    }
   ],
   "source": [
    "set.seed(2)\n",
    "k = 4\n",
    "kmode <- kmodes(df_during_barriers_facilitators, k, iter.max = 20, weighted = FALSE)\n",
    "df_during$cluster <- kmode$cluster\n",
    "head(df_during)\n",
    "colnames(df_during)"
   ]
  },
  {
   "cell_type": "code",
   "execution_count": 15,
   "metadata": {},
   "outputs": [
    {
     "data": {
      "text/html": [
       "<table class=\"dataframe\">\n",
       "<caption>A data.frame: 4 × 18</caption>\n",
       "<thead>\n",
       "\t<tr><th></th><th scope=col>PA_barrier_time_family_responsabilities</th><th scope=col>PA_barrier__tiredness</th><th scope=col>PA_barrier_places_closed_dangerous</th><th scope=col>PA_barrier_money</th><th scope=col>PA_barrier_time_convenience</th><th scope=col>PA_barrier_hard_work</th><th scope=col>PA_barrier_no_interest</th><th scope=col>PA_barrier_none</th><th scope=col>PA_easiness_outdoor_activities</th><th scope=col>PA_easiness_professional_guidance</th><th scope=col>PA_easiness_unguided</th><th scope=col>PA_easiness_music</th><th scope=col>PA_easiness_collective</th><th scope=col>PA_easiness_home_activity</th><th scope=col>PA_easiness_family_activity</th><th scope=col>PA_easiness_home_space</th><th scope=col>PA_easiness_home_equipament</th><th scope=col>PA_easiness_others</th></tr>\n",
       "\t<tr><th></th><th scope=col>&lt;fct&gt;</th><th scope=col>&lt;fct&gt;</th><th scope=col>&lt;fct&gt;</th><th scope=col>&lt;fct&gt;</th><th scope=col>&lt;fct&gt;</th><th scope=col>&lt;fct&gt;</th><th scope=col>&lt;fct&gt;</th><th scope=col>&lt;fct&gt;</th><th scope=col>&lt;fct&gt;</th><th scope=col>&lt;fct&gt;</th><th scope=col>&lt;fct&gt;</th><th scope=col>&lt;fct&gt;</th><th scope=col>&lt;fct&gt;</th><th scope=col>&lt;fct&gt;</th><th scope=col>&lt;fct&gt;</th><th scope=col>&lt;fct&gt;</th><th scope=col>&lt;fct&gt;</th><th scope=col>&lt;fct&gt;</th></tr>\n",
       "</thead>\n",
       "<tbody>\n",
       "\t<tr><th scope=row>1</th><td>0</td><td>0</td><td>0</td><td>0</td><td>0</td><td>1</td><td>0</td><td>0</td><td>1</td><td>0</td><td>0</td><td>0</td><td>0</td><td>0</td><td>0</td><td>0</td><td>0</td><td>0</td></tr>\n",
       "\t<tr><th scope=row>2</th><td>0</td><td>0</td><td>0</td><td>0</td><td>0</td><td>0</td><td>0</td><td>1</td><td>0</td><td>1</td><td>0</td><td>0</td><td>0</td><td>0</td><td>0</td><td>0</td><td>1</td><td>0</td></tr>\n",
       "\t<tr><th scope=row>3</th><td>0</td><td>0</td><td>1</td><td>0</td><td>0</td><td>0</td><td>0</td><td>0</td><td>0</td><td>0</td><td>0</td><td>0</td><td>0</td><td>0</td><td>0</td><td>0</td><td>0</td><td>0</td></tr>\n",
       "\t<tr><th scope=row>4</th><td>0</td><td>0</td><td>1</td><td>0</td><td>0</td><td>0</td><td>0</td><td>0</td><td>0</td><td>1</td><td>0</td><td>1</td><td>0</td><td>1</td><td>0</td><td>1</td><td>1</td><td>0</td></tr>\n",
       "</tbody>\n",
       "</table>\n"
      ],
      "text/latex": [
       "A data.frame: 4 × 18\n",
       "\\begin{tabular}{r|llllllllllllllllll}\n",
       "  & PA\\_barrier\\_time\\_family\\_responsabilities & PA\\_barrier\\_\\_tiredness & PA\\_barrier\\_places\\_closed\\_dangerous & PA\\_barrier\\_money & PA\\_barrier\\_time\\_convenience & PA\\_barrier\\_hard\\_work & PA\\_barrier\\_no\\_interest & PA\\_barrier\\_none & PA\\_easiness\\_outdoor\\_activities & PA\\_easiness\\_professional\\_guidance & PA\\_easiness\\_unguided & PA\\_easiness\\_music & PA\\_easiness\\_collective & PA\\_easiness\\_home\\_activity & PA\\_easiness\\_family\\_activity & PA\\_easiness\\_home\\_space & PA\\_easiness\\_home\\_equipament & PA\\_easiness\\_others\\\\\n",
       "  & <fct> & <fct> & <fct> & <fct> & <fct> & <fct> & <fct> & <fct> & <fct> & <fct> & <fct> & <fct> & <fct> & <fct> & <fct> & <fct> & <fct> & <fct>\\\\\n",
       "\\hline\n",
       "\t1 & 0 & 0 & 0 & 0 & 0 & 1 & 0 & 0 & 1 & 0 & 0 & 0 & 0 & 0 & 0 & 0 & 0 & 0\\\\\n",
       "\t2 & 0 & 0 & 0 & 0 & 0 & 0 & 0 & 1 & 0 & 1 & 0 & 0 & 0 & 0 & 0 & 0 & 1 & 0\\\\\n",
       "\t3 & 0 & 0 & 1 & 0 & 0 & 0 & 0 & 0 & 0 & 0 & 0 & 0 & 0 & 0 & 0 & 0 & 0 & 0\\\\\n",
       "\t4 & 0 & 0 & 1 & 0 & 0 & 0 & 0 & 0 & 0 & 1 & 0 & 1 & 0 & 1 & 0 & 1 & 1 & 0\\\\\n",
       "\\end{tabular}\n"
      ],
      "text/markdown": [
       "\n",
       "A data.frame: 4 × 18\n",
       "\n",
       "| <!--/--> | PA_barrier_time_family_responsabilities &lt;fct&gt; | PA_barrier__tiredness &lt;fct&gt; | PA_barrier_places_closed_dangerous &lt;fct&gt; | PA_barrier_money &lt;fct&gt; | PA_barrier_time_convenience &lt;fct&gt; | PA_barrier_hard_work &lt;fct&gt; | PA_barrier_no_interest &lt;fct&gt; | PA_barrier_none &lt;fct&gt; | PA_easiness_outdoor_activities &lt;fct&gt; | PA_easiness_professional_guidance &lt;fct&gt; | PA_easiness_unguided &lt;fct&gt; | PA_easiness_music &lt;fct&gt; | PA_easiness_collective &lt;fct&gt; | PA_easiness_home_activity &lt;fct&gt; | PA_easiness_family_activity &lt;fct&gt; | PA_easiness_home_space &lt;fct&gt; | PA_easiness_home_equipament &lt;fct&gt; | PA_easiness_others &lt;fct&gt; |\n",
       "|---|---|---|---|---|---|---|---|---|---|---|---|---|---|---|---|---|---|---|\n",
       "| 1 | 0 | 0 | 0 | 0 | 0 | 1 | 0 | 0 | 1 | 0 | 0 | 0 | 0 | 0 | 0 | 0 | 0 | 0 |\n",
       "| 2 | 0 | 0 | 0 | 0 | 0 | 0 | 0 | 1 | 0 | 1 | 0 | 0 | 0 | 0 | 0 | 0 | 1 | 0 |\n",
       "| 3 | 0 | 0 | 1 | 0 | 0 | 0 | 0 | 0 | 0 | 0 | 0 | 0 | 0 | 0 | 0 | 0 | 0 | 0 |\n",
       "| 4 | 0 | 0 | 1 | 0 | 0 | 0 | 0 | 0 | 0 | 1 | 0 | 1 | 0 | 1 | 0 | 1 | 1 | 0 |\n",
       "\n"
      ],
      "text/plain": [
       "  PA_barrier_time_family_responsabilities PA_barrier__tiredness\n",
       "1 0                                       0                    \n",
       "2 0                                       0                    \n",
       "3 0                                       0                    \n",
       "4 0                                       0                    \n",
       "  PA_barrier_places_closed_dangerous PA_barrier_money\n",
       "1 0                                  0               \n",
       "2 0                                  0               \n",
       "3 1                                  0               \n",
       "4 1                                  0               \n",
       "  PA_barrier_time_convenience PA_barrier_hard_work PA_barrier_no_interest\n",
       "1 0                           1                    0                     \n",
       "2 0                           0                    0                     \n",
       "3 0                           0                    0                     \n",
       "4 0                           0                    0                     \n",
       "  PA_barrier_none PA_easiness_outdoor_activities\n",
       "1 0               1                             \n",
       "2 1               0                             \n",
       "3 0               0                             \n",
       "4 0               0                             \n",
       "  PA_easiness_professional_guidance PA_easiness_unguided PA_easiness_music\n",
       "1 0                                 0                    0                \n",
       "2 1                                 0                    0                \n",
       "3 0                                 0                    0                \n",
       "4 1                                 0                    1                \n",
       "  PA_easiness_collective PA_easiness_home_activity PA_easiness_family_activity\n",
       "1 0                      0                         0                          \n",
       "2 0                      0                         0                          \n",
       "3 0                      0                         0                          \n",
       "4 0                      1                         0                          \n",
       "  PA_easiness_home_space PA_easiness_home_equipament PA_easiness_others\n",
       "1 0                      0                           0                 \n",
       "2 0                      1                           0                 \n",
       "3 0                      0                           0                 \n",
       "4 1                      1                           0                 "
      ]
     },
     "metadata": {},
     "output_type": "display_data"
    }
   ],
   "source": [
    "kmode$modes"
   ]
  },
  {
   "cell_type": "markdown",
   "metadata": {},
   "source": [
    "#### Practice of Exercise "
   ]
  },
  {
   "cell_type": "code",
   "execution_count": 16,
   "metadata": {},
   "outputs": [
    {
     "data": {
      "image/png": "[encoded data removed]",
      "text/plain": [
       "plot without title"
      ]
     },
     "metadata": {
      "image/png": {
       "height": 420,
       "width": 420
      }
     },
     "output_type": "display_data"
    }
   ],
   "source": [
    "myplots <- list()\n",
    "colors <- c('deepskyblue4', 'darkgreen', 'chocolate1', 'blueviolet', 'firebrick4', 'deeppink3', 'darkslategray')\n",
    "for(cl in 1:k){\n",
    "  \n",
    "  plt <- ggplot() + geom_histogram( \n",
    "          data=df_during[df_during$cluster == cl,], \n",
    "          aes(x=PA_practice_during, y=..count../sum(..count..)*100),\n",
    "          fill=colors[cl],\n",
    "          bins = 3,\n",
    "          position=position_dodge()\n",
    "        ) + ylab(\"Relative Frequency\")\n",
    "  myplots[[cl]] <- plt \n",
    "}\n",
    "wrap_plots(myplots)"
   ]
  },
  {
   "cell_type": "markdown",
   "metadata": {},
   "source": [
    "#### Sedentary Behavior"
   ]
  },
  {
   "cell_type": "code",
   "execution_count": 17,
   "metadata": {},
   "outputs": [
    {
     "data": {
      "image/png": "[encoded data removed]",
      "text/plain": [
       "plot without title"
      ]
     },
     "metadata": {
      "image/png": {
       "height": 420,
       "width": 420
      }
     },
     "output_type": "display_data"
    }
   ],
   "source": [
    "myplots <- list()\n",
    "colors <- c('deepskyblue4', 'darkgreen', 'chocolate1', 'blueviolet', 'firebrick4', 'deeppink3', 'darkslategray')\n",
    "for(cl in 1:k){\n",
    "  \n",
    "  plt <- ggplot() + geom_histogram( \n",
    "          data=df_during[df_during$cluster == cl,], \n",
    "          aes(x=sedentary_time_range_during\t, y=..count../sum(..count..)*100),\n",
    "          fill=colors[cl],\n",
    "          bins = 3,\n",
    "          position=position_dodge()\n",
    "        ) + ylab(\"Relative Frequency\")\n",
    "  myplots[[cl]] <- plt \n",
    "}\n",
    "wrap_plots(myplots)"
   ]
  },
  {
   "cell_type": "markdown",
   "metadata": {},
   "source": [
    "#### Exercise Intensity"
   ]
  },
  {
   "cell_type": "code",
   "execution_count": 18,
   "metadata": {},
   "outputs": [
    {
     "data": {
      "image/png": "[encoded data removed]",
      "text/plain": [
       "plot without title"
      ]
     },
     "metadata": {
      "image/png": {
       "height": 420,
       "width": 420
      }
     },
     "output_type": "display_data"
    }
   ],
   "source": [
    "myplots <- list()\n",
    "colors <- c('deepskyblue4', 'darkgreen', 'chocolate1', 'blueviolet', 'firebrick4', 'deeppink3', 'darkslategray')\n",
    "for(cl in 1:k){\n",
    "  \n",
    "  plt <- ggplot() + geom_histogram( \n",
    "          data=df_during[df_during$cluster == cl,], \n",
    "          aes(x=PA_intensity, y=..count../sum(..count..)*100),\n",
    "          fill=colors[cl],\n",
    "          bins = 4,\n",
    "          position=position_dodge()\n",
    "        ) + ylab(\"Relative Frequency\")\n",
    "  myplots[[cl]] <- plt \n",
    "}\n",
    "wrap_plots(myplots)"
   ]
  },
  {
   "cell_type": "markdown",
   "metadata": {},
   "source": [
    "#### Exercise Duration"
   ]
  },
  {
   "cell_type": "code",
   "execution_count": 19,
   "metadata": {},
   "outputs": [
    {
     "data": {
      "image/png": "[encoded data removed]",
      "text/plain": [
       "plot without title"
      ]
     },
     "metadata": {
      "image/png": {
       "height": 420,
       "width": 420
      }
     },
     "output_type": "display_data"
    }
   ],
   "source": [
    "myplots <- list()\n",
    "colors <- c('deepskyblue4', 'darkgreen', 'chocolate1', 'blueviolet', 'firebrick4', 'deeppink3', 'darkslategray')\n",
    "for(cl in 1:k){\n",
    "  \n",
    "  plt <- ggplot() + geom_histogram( \n",
    "          data=df_during[df_during$cluster == cl,], \n",
    "          aes(x=PA_duration, y=..count../sum(..count..)*100),\n",
    "          fill=colors[cl],\n",
    "          bins = 4,\n",
    "          position=position_dodge()\n",
    "        ) + ylab(\"Relative Frequency\")\n",
    "  myplots[[cl]] <- plt \n",
    "}\n",
    "wrap_plots(myplots)"
   ]
  },
  {
   "cell_type": "markdown",
   "metadata": {},
   "source": [
    "#### Exercise Weekly Frequency"
   ]
  },
  {
   "cell_type": "code",
   "execution_count": 20,
   "metadata": {},
   "outputs": [
    {
     "data": {
      "image/png": "[encoded data removed]",
      "text/plain": [
       "plot without title"
      ]
     },
     "metadata": {
      "image/png": {
       "height": 420,
       "width": 420
      }
     },
     "output_type": "display_data"
    }
   ],
   "source": [
    "\n",
    "myplots <- list()\n",
    "colors <- c('deepskyblue4', 'darkgreen', 'chocolate1', 'blueviolet', 'firebrick4', 'deeppink3', 'darkslategray')\n",
    "for(cl in 1:k){\n",
    "  \n",
    "  plt <- ggplot() + geom_histogram( \n",
    "          data=df_during[df_during$cluster == cl,], \n",
    "          aes(x=PA_weekly_frequency, y=..count../sum(..count..)*100),\n",
    "          fill=colors[cl],\n",
    "          bins = 4,\n",
    "          position=position_dodge()\n",
    "        ) + ylab(\"Relative Frequency\")\n",
    "  myplots[[cl]] <- plt \n",
    "}\n",
    "wrap_plots(myplots)\n",
    "\n"
   ]
  },
  {
   "cell_type": "markdown",
   "metadata": {},
   "source": [
    "#### Number of Exercises"
   ]
  },
  {
   "cell_type": "code",
   "execution_count": 21,
   "metadata": {},
   "outputs": [
    {
     "data": {
      "image/png": "[encoded data removed]",
      "text/plain": [
       "plot without title"
      ]
     },
     "metadata": {
      "image/png": {
       "height": 420,
       "width": 420
      }
     },
     "output_type": "display_data"
    }
   ],
   "source": [
    "myplots <- list()\n",
    "colors <- c('deepskyblue4', 'darkgreen', 'chocolate1', 'blueviolet', 'firebrick4', 'deeppink3', 'darkslategray')\n",
    "for(cl in 1:k){\n",
    "  \n",
    "  plt <- ggplot() + geom_histogram( \n",
    "          data=df_during[df_during$cluster == cl,], \n",
    "          aes(x=PA_number, y=..count../sum(..count..)*100),\n",
    "          fill=colors[cl],\n",
    "          bins = 4,\n",
    "          position=position_dodge()\n",
    "        ) + ylab(\"Relative Frequency\")\n",
    "  myplots[[cl]] <- plt \n",
    "}\n",
    "wrap_plots(myplots)"
   ]
  },
  {
   "cell_type": "markdown",
   "metadata": {},
   "source": [
    "#### Income Range"
   ]
  },
  {
   "cell_type": "code",
   "execution_count": 22,
   "metadata": {},
   "outputs": [
    {
     "data": {
      "image/png": "[encoded data removed]",
      "text/plain": [
       "plot without title"
      ]
     },
     "metadata": {
      "image/png": {
       "height": 420,
       "width": 420
      }
     },
     "output_type": "display_data"
    }
   ],
   "source": [
    "\n",
    "myplots <- list()\n",
    "colors <- c('deepskyblue4', 'darkgreen', 'chocolate1', 'blueviolet', 'firebrick4', 'deeppink3', 'darkslategray')\n",
    "for(cl in 1:k){\n",
    "  \n",
    "  plt <- ggplot() + geom_histogram( \n",
    "          data=df_during[df_during$cluster == cl,], \n",
    "          aes(x=income_range, y=..count../sum(..count..)*100),\n",
    "          fill=colors[cl],\n",
    "          bins = 6,\n",
    "          position=position_dodge()\n",
    "        ) + ylab(\"Relative Frequency\")\n",
    "  myplots[[cl]] <- plt \n",
    "}\n",
    "wrap_plots(myplots)\n",
    "\n"
   ]
  },
  {
   "cell_type": "markdown",
   "metadata": {},
   "source": [
    "#### Age Range"
   ]
  },
  {
   "cell_type": "code",
   "execution_count": 23,
   "metadata": {},
   "outputs": [
    {
     "data": {
      "image/png": "[encoded data removed]",
      "text/plain": [
       "plot without title"
      ]
     },
     "metadata": {
      "image/png": {
       "height": 420,
       "width": 420
      }
     },
     "output_type": "display_data"
    }
   ],
   "source": [
    "\n",
    "myplots <- list()\n",
    "colors <- c('deepskyblue4', 'darkgreen', 'chocolate1', 'blueviolet', 'firebrick4', 'deeppink3', 'darkslategray')\n",
    "for(cl in 1:k){\n",
    "  \n",
    "  plt <- ggplot() + geom_histogram( \n",
    "          data=df_during[df_during$cluster == cl,], \n",
    "          aes(x=age_range, y=..count../sum(..count..)*100),\n",
    "          fill=colors[cl],\n",
    "          bins = 8,\n",
    "          position=position_dodge()\n",
    "        ) + ylab(\"Relative Frequency\")\n",
    "  myplots[[cl]] <- plt \n",
    "}\n",
    "wrap_plots(myplots)\n",
    "\n"
   ]
  },
  {
   "cell_type": "markdown",
   "metadata": {},
   "source": [
    "#### Sex"
   ]
  },
  {
   "cell_type": "code",
   "execution_count": 24,
   "metadata": {},
   "outputs": [
    {
     "data": {
      "image/png": "[encoded data removed]",
      "text/plain": [
       "plot without title"
      ]
     },
     "metadata": {
      "image/png": {
       "height": 420,
       "width": 420
      }
     },
     "output_type": "display_data"
    }
   ],
   "source": [
    "\n",
    "myplots <- list()\n",
    "colors <- c('deepskyblue4', 'darkgreen', 'chocolate1', 'blueviolet', 'firebrick4', 'deeppink3', 'darkslategray')\n",
    "for(cl in 1:k){\n",
    "  \n",
    "  plt <- ggplot() + geom_histogram( \n",
    "          data=df_during[df_during$cluster == cl,], \n",
    "          aes(x=sex, y=..count../sum(..count..)*100),\n",
    "          fill=colors[cl],\n",
    "          bins = 3,\n",
    "          position=position_dodge()\n",
    "        ) + ylab(\"Relative Frequency\")\n",
    "  myplots[[cl]] <- plt \n",
    "}\n",
    "wrap_plots(myplots)\n",
    "\n"
   ]
  },
  {
   "cell_type": "markdown",
   "metadata": {},
   "source": [
    "#### Scholarity"
   ]
  },
  {
   "cell_type": "code",
   "execution_count": 25,
   "metadata": {},
   "outputs": [
    {
     "data": {
      "image/png": "[encoded data removed]",
      "text/plain": [
       "plot without title"
      ]
     },
     "metadata": {
      "image/png": {
       "height": 420,
       "width": 420
      }
     },
     "output_type": "display_data"
    }
   ],
   "source": [
    "\n",
    "myplots <- list()\n",
    "colors <- c('deepskyblue4', 'darkgreen', 'chocolate1', 'blueviolet', 'firebrick4', 'deeppink3', 'darkslategray')\n",
    "for(cl in 1:k){\n",
    "  \n",
    "  plt <- ggplot() + geom_histogram( \n",
    "          data=df_during[df_during$cluster == cl,], \n",
    "          aes(x=scholarity, y=..count../sum(..count..)*100),\n",
    "          fill=colors[cl],\n",
    "          bins = 6,\n",
    "          position=position_dodge()\n",
    "        ) + ylab(\"Relative Frequency\")\n",
    "  myplots[[cl]] <- plt \n",
    "}\n",
    "wrap_plots(myplots)\n",
    "\n"
   ]
  },
  {
   "cell_type": "markdown",
   "metadata": {},
   "source": [
    "## Clustering without Strange data"
   ]
  },
  {
   "cell_type": "code",
   "execution_count": 26,
   "metadata": {},
   "outputs": [
    {
     "data": {
      "text/plain": [
       "strange_p\n",
       "FALSE  TRUE \n",
       " 1244     6 "
      ]
     },
     "metadata": {},
     "output_type": "display_data"
    },
    {
     "data": {
      "text/plain": [
       "strange_dp\n",
       "FALSE  TRUE \n",
       " 1218    26 "
      ]
     },
     "metadata": {},
     "output_type": "display_data"
    }
   ],
   "source": [
    "differ_p <- (   df_during$PA_duration == 0 \n",
    "                | df_during$PA_intensity == 0 \n",
    "                | df_during$PA_weekly_frequency == 0\n",
    "                | df_during$PA_number == 0\n",
    "            )\n",
    "strange_p <- df_during$PA_practice_during == 1 & differ_p\n",
    "df_during <- df_during[!strange_p, ]\n",
    "table(strange_p)\n",
    "\n",
    "differ_dp <- ( df_during$PA_duration != 0 \n",
    "                | df_during$PA_intensity != 0 \n",
    "                | df_during$PA_weekly_frequency != 0\n",
    "                | df_during$PA_number != 0\n",
    "            ) \n",
    "strange_dp <- df_during$PA_practice_during == 0 & differ_dp \n",
    "\n",
    "\n",
    "table(strange_dp)\n",
    "df_during <- df_during[!strange_dp, ]"
   ]
  },
  {
   "cell_type": "markdown",
   "metadata": {},
   "source": [
    "### Finding the best K"
   ]
  },
  {
   "cell_type": "markdown",
   "metadata": {},
   "source": [
    "#### Elbow Curve"
   ]
  },
  {
   "cell_type": "code",
   "execution_count": 27,
   "metadata": {},
   "outputs": [
    {
     "data": {
      "image/png": "[encoded data removed]",
      "text/plain": [
       "plot without title"
      ]
     },
     "metadata": {
      "image/png": {
       "height": 420,
       "width": 420
      }
     },
     "output_type": "display_data"
    }
   ],
   "source": [
    "cost <- c()\n",
    "K = seq(1, 15, 1)\n",
    "for(num_clusters in K){\n",
    "    set.seed(2)\n",
    "    kmode <- kmodes(df_during_barriers_facilitators, num_clusters, iter.max = 20, weighted = FALSE)\n",
    "    cost <<- append(cost, sum(kmode$withindiff))\n",
    "}\n",
    "\n",
    "p = ggplot() + \n",
    "    geom_line(data = data.frame(cost, K), aes(x = K,  y = cost), size=1, color=\"red\") +\n",
    "    geom_point(data = data.frame(cost, K), aes(x = K,  y = cost), size=3) +\n",
    "    xlab('Number of Clusters') +\n",
    "    ylab('Cost')\n",
    "\n",
    "p"
   ]
  },
  {
   "cell_type": "markdown",
   "metadata": {},
   "source": [
    "#### Silhouette method"
   ]
  },
  {
   "cell_type": "code",
   "execution_count": 28,
   "metadata": {},
   "outputs": [
    {
     "data": {
      "text/html": [
       "<table class=\"dataframe\">\n",
       "<caption>A matrix: 6 × 1250 of type dbl</caption>\n",
       "<thead>\n",
       "\t<tr><th></th><th scope=col>1</th><th scope=col>2</th><th scope=col>3</th><th scope=col>4</th><th scope=col>5</th><th scope=col>6</th><th scope=col>7</th><th scope=col>8</th><th scope=col>9</th><th scope=col>10</th><th scope=col>...</th><th scope=col>1246</th><th scope=col>1247</th><th scope=col>1248</th><th scope=col>1249</th><th scope=col>1250</th><th scope=col>1251</th><th scope=col>1252</th><th scope=col>1253</th><th scope=col>1254</th><th scope=col>1255</th></tr>\n",
       "</thead>\n",
       "<tbody>\n",
       "\t<tr><th scope=row>1</th><td>0</td><td>5</td><td>4</td><td>5</td><td>4</td><td>6</td><td>6</td><td>5</td><td>7</td><td>3</td><td>...</td><td>5</td><td>5</td><td>6</td><td> 8</td><td>5</td><td>4</td><td>4</td><td>5</td><td>3</td><td>3</td></tr>\n",
       "\t<tr><th scope=row>2</th><td>5</td><td>0</td><td>5</td><td>2</td><td>3</td><td>3</td><td>3</td><td>6</td><td>4</td><td>4</td><td>...</td><td>4</td><td>6</td><td>3</td><td> 7</td><td>6</td><td>1</td><td>7</td><td>4</td><td>6</td><td>2</td></tr>\n",
       "\t<tr><th scope=row>3</th><td>4</td><td>5</td><td>0</td><td>7</td><td>6</td><td>6</td><td>8</td><td>7</td><td>7</td><td>3</td><td>...</td><td>5</td><td>5</td><td>8</td><td>10</td><td>5</td><td>4</td><td>6</td><td>3</td><td>5</td><td>3</td></tr>\n",
       "\t<tr><th scope=row>4</th><td>5</td><td>2</td><td>7</td><td>0</td><td>3</td><td>5</td><td>3</td><td>6</td><td>4</td><td>6</td><td>...</td><td>6</td><td>6</td><td>3</td><td> 5</td><td>8</td><td>3</td><td>7</td><td>6</td><td>8</td><td>4</td></tr>\n",
       "\t<tr><th scope=row>5</th><td>4</td><td>3</td><td>6</td><td>3</td><td>0</td><td>6</td><td>6</td><td>5</td><td>5</td><td>5</td><td>...</td><td>5</td><td>7</td><td>4</td><td> 4</td><td>7</td><td>4</td><td>6</td><td>7</td><td>7</td><td>5</td></tr>\n",
       "\t<tr><th scope=row>6</th><td>6</td><td>3</td><td>6</td><td>5</td><td>6</td><td>0</td><td>6</td><td>7</td><td>7</td><td>5</td><td>...</td><td>3</td><td>5</td><td>4</td><td> 8</td><td>5</td><td>2</td><td>6</td><td>5</td><td>7</td><td>3</td></tr>\n",
       "</tbody>\n",
       "</table>\n"
      ],
      "text/latex": [
       "A matrix: 6 × 1250 of type dbl\n",
       "\\begin{tabular}{r|lllllllllllllllllllll}\n",
       "  & 1 & 2 & 3 & 4 & 5 & 6 & 7 & 8 & 9 & 10 & ... & 1246 & 1247 & 1248 & 1249 & 1250 & 1251 & 1252 & 1253 & 1254 & 1255\\\\\n",
       "\\hline\n",
       "\t1 & 0 & 5 & 4 & 5 & 4 & 6 & 6 & 5 & 7 & 3 & ... & 5 & 5 & 6 &  8 & 5 & 4 & 4 & 5 & 3 & 3\\\\\n",
       "\t2 & 5 & 0 & 5 & 2 & 3 & 3 & 3 & 6 & 4 & 4 & ... & 4 & 6 & 3 &  7 & 6 & 1 & 7 & 4 & 6 & 2\\\\\n",
       "\t3 & 4 & 5 & 0 & 7 & 6 & 6 & 8 & 7 & 7 & 3 & ... & 5 & 5 & 8 & 10 & 5 & 4 & 6 & 3 & 5 & 3\\\\\n",
       "\t4 & 5 & 2 & 7 & 0 & 3 & 5 & 3 & 6 & 4 & 6 & ... & 6 & 6 & 3 &  5 & 8 & 3 & 7 & 6 & 8 & 4\\\\\n",
       "\t5 & 4 & 3 & 6 & 3 & 0 & 6 & 6 & 5 & 5 & 5 & ... & 5 & 7 & 4 &  4 & 7 & 4 & 6 & 7 & 7 & 5\\\\\n",
       "\t6 & 6 & 3 & 6 & 5 & 6 & 0 & 6 & 7 & 7 & 5 & ... & 3 & 5 & 4 &  8 & 5 & 2 & 6 & 5 & 7 & 3\\\\\n",
       "\\end{tabular}\n"
      ],
      "text/markdown": [
       "\n",
       "A matrix: 6 × 1250 of type dbl\n",
       "\n",
       "| <!--/--> | 1 | 2 | 3 | 4 | 5 | 6 | 7 | 8 | 9 | 10 | ... | 1246 | 1247 | 1248 | 1249 | 1250 | 1251 | 1252 | 1253 | 1254 | 1255 |\n",
       "|---|---|---|---|---|---|---|---|---|---|---|---|---|---|---|---|---|---|---|---|---|---|\n",
       "| 1 | 0 | 5 | 4 | 5 | 4 | 6 | 6 | 5 | 7 | 3 | ... | 5 | 5 | 6 |  8 | 5 | 4 | 4 | 5 | 3 | 3 |\n",
       "| 2 | 5 | 0 | 5 | 2 | 3 | 3 | 3 | 6 | 4 | 4 | ... | 4 | 6 | 3 |  7 | 6 | 1 | 7 | 4 | 6 | 2 |\n",
       "| 3 | 4 | 5 | 0 | 7 | 6 | 6 | 8 | 7 | 7 | 3 | ... | 5 | 5 | 8 | 10 | 5 | 4 | 6 | 3 | 5 | 3 |\n",
       "| 4 | 5 | 2 | 7 | 0 | 3 | 5 | 3 | 6 | 4 | 6 | ... | 6 | 6 | 3 |  5 | 8 | 3 | 7 | 6 | 8 | 4 |\n",
       "| 5 | 4 | 3 | 6 | 3 | 0 | 6 | 6 | 5 | 5 | 5 | ... | 5 | 7 | 4 |  4 | 7 | 4 | 6 | 7 | 7 | 5 |\n",
       "| 6 | 6 | 3 | 6 | 5 | 6 | 0 | 6 | 7 | 7 | 5 | ... | 3 | 5 | 4 |  8 | 5 | 2 | 6 | 5 | 7 | 3 |\n",
       "\n"
      ],
      "text/plain": [
       "  1 2 3 4 5 6 7 8 9 10 ... 1246 1247 1248 1249 1250 1251 1252 1253 1254 1255\n",
       "1 0 5 4 5 4 6 6 5 7 3  ... 5    5    6     8   5    4    4    5    3    3   \n",
       "2 5 0 5 2 3 3 3 6 4 4  ... 4    6    3     7   6    1    7    4    6    2   \n",
       "3 4 5 0 7 6 6 8 7 7 3  ... 5    5    8    10   5    4    6    3    5    3   \n",
       "4 5 2 7 0 3 5 3 6 4 6  ... 6    6    3     5   8    3    7    6    8    4   \n",
       "5 4 3 6 3 0 6 6 5 5 5  ... 5    7    4     4   7    4    6    7    7    5   \n",
       "6 6 3 6 5 6 0 6 7 7 5  ... 3    5    4     8   5    2    6    5    7    3   "
      ]
     },
     "metadata": {},
     "output_type": "display_data"
    }
   ],
   "source": [
    "df_matrix <- data.matrix(df_during_barriers_facilitators) - 1\n",
    "similarity_matrix <- df_matrix %*% t(df_matrix) + ((!df_matrix) + 0) %*% ((!t(df_matrix)) + 0)\n",
    "dissimilarity_matrix <- ncol(df_during_barriers_facilitators) - similarity_matrix\n",
    "head(dissimilarity_matrix)"
   ]
  },
  {
   "cell_type": "code",
   "execution_count": 29,
   "metadata": {},
   "outputs": [],
   "source": [
    "nearest_cluster <- function(modes, cluster){\n",
    "    cluster_mode <- modes[cluster, ]\n",
    "    diss_modes <- apply(modes, 1, function (row) sum(cluster_mode != row))\n",
    "\n",
    "    return(names(diss_modes[-(cluster)])[which.min(diss_modes[-(cluster)])])\n",
    "}"
   ]
  },
  {
   "cell_type": "code",
   "execution_count": 30,
   "metadata": {},
   "outputs": [],
   "source": [
    "K = seq(2, 15, 1)\n",
    "silhouette_score <- c()\n",
    "for(num_clusters in K){\n",
    "     set.seed(2)\n",
    "     kmode <- kmodes(df_during_barriers_facilitators, num_clusters, iter.max = 100, weighted = FALSE)\n",
    "     a <- c()\n",
    "     b <- c()\n",
    "     for(k in 1:num_clusters){\n",
    "          cluster <- kmode$cluster == k\n",
    "          nearest_k <- nearest_cluster(kmode$modes, k)\n",
    "\n",
    "          n_cluster <-  kmode$cluster == as.integer(nearest_k)\n",
    "          a_cluster <- rowSums(dissimilarity_matrix[cluster, cluster])/(sum(cluster)-1)\n",
    "\n",
    "          b_cluster <- rowSums(dissimilarity_matrix[cluster, n_cluster])/(sum(n_cluster))\n",
    "          a <- append(a, a_cluster)\n",
    "          b <-  append(b, b_cluster)\n",
    "     }\n",
    "     silhouette_coefficient <- (b-a)/pmax(b, a)\n",
    "     order <- as.character(sort(as.integer(names(silhouette_coefficient))))\n",
    "     silhouette_coefficient <- silhouette_coefficient[order]\n",
    "  \n",
    "     silhouette_score <- append(mean(silhouette_coefficient), silhouette_score)\n",
    "\n",
    "}\n"
   ]
  },
  {
   "cell_type": "code",
   "execution_count": 31,
   "metadata": {},
   "outputs": [
    {
     "data": {
      "image/png": "[encoded data removed]",
      "text/plain": [
       "plot without title"
      ]
     },
     "metadata": {
      "image/png": {
       "height": 420,
       "width": 420
      }
     },
     "output_type": "display_data"
    }
   ],
   "source": [
    "p = ggplot() + \n",
    "    geom_line(data = data.frame(silhouette_score, K), aes(x = K,  y = silhouette_score), size=1, color=\"red\") +\n",
    "    geom_point(data = data.frame(silhouette_score, K), aes(x = K,  y = silhouette_score), size=3) +\n",
    "    xlab('Number of Clusters') +\n",
    "    ylab('silhouette_score')\n",
    "\n",
    "p"
   ]
  },
  {
   "cell_type": "markdown",
   "metadata": {},
   "source": [
    "### Exploring K = 5"
   ]
  },
  {
   "cell_type": "markdown",
   "metadata": {},
   "source": [
    "Adding clusters to the dataset"
   ]
  },
  {
   "cell_type": "code",
   "execution_count": 32,
   "metadata": {},
   "outputs": [
    {
     "ename": "ERROR",
     "evalue": "Error in `$<-.data.frame`(`*tmp*`, cluster, value = c(3L, 3L, 3L, 4L, : replacement has 1250 rows, data has 1218\n",
     "output_type": "error",
     "traceback": [
      "Error in `$<-.data.frame`(`*tmp*`, cluster, value = c(3L, 3L, 3L, 4L, : replacement has 1250 rows, data has 1218\nTraceback:\n",
      "1. `$<-`(`*tmp*`, cluster, value = c(3L, 3L, 3L, 4L, 4L, 1L, 1L, \n . 4L, 4L, 3L, 4L, 3L, 1L, 4L, 1L, 3L, 1L, 3L, 4L, 3L, 4L, 4L, 4L, \n . 3L, 1L, 1L, 3L, 4L, 3L, 3L, 4L, 2L, 4L, 4L, 4L, 2L, 3L, 3L, 1L, \n . 3L, 4L, 3L, 4L, 1L, 1L, 1L, 3L, 1L, 1L, 4L, 4L, 3L, 4L, 4L, 1L, \n . 3L, 1L, 4L, 3L, 1L, 3L, 3L, 1L, 3L, 2L, 3L, 4L, 4L, 4L, 3L, 3L, \n . 3L, 4L, 3L, 4L, 4L, 4L, 4L, 3L, 4L, 1L, 4L, 3L, 4L, 3L, 3L, 4L, \n . 1L, 4L, 3L, 4L, 4L, 3L, 4L, 3L, 4L, 4L, 3L, 1L, 3L, 3L, 3L, 1L, \n . 1L, 4L, 2L, 1L, 4L, 1L, 1L, 4L, 3L, 4L, 1L, 1L, 4L, 3L, 4L, 4L, \n . 1L, 4L, 1L, 2L, 3L, 4L, 1L, 3L, 3L, 3L, 1L, 4L, 3L, 2L, 3L, 3L, \n . 1L, 3L, 4L, 4L, 3L, 3L, 4L, 3L, 4L, 4L, 4L, 2L, 2L, 3L, 1L, 2L, \n . 1L, 4L, 4L, 4L, 3L, 3L, 4L, 3L, 4L, 1L, 4L, 3L, 3L, 4L, 1L, 2L, \n . 4L, 3L, 3L, 3L, 4L, 3L, 3L, 2L, 4L, 1L, 3L, 4L, 4L, 2L, 1L, 3L, \n . 3L, 4L, 4L, 4L, 3L, 4L, 1L, 4L, 1L, 2L, 4L, 3L, 1L, 4L, 4L, 4L, \n . 1L, 2L, 1L, 1L, 1L, 4L, 1L, 1L, 1L, 2L, 1L, 4L, 1L, 2L, 4L, 1L, \n . 3L, 3L, 3L, 4L, 3L, 4L, 3L, 3L, 1L, 4L, 4L, 1L, 3L, 3L, 4L, 4L, \n . 2L, 2L, 4L, 4L, 2L, 3L, 3L, 4L, 4L, 3L, 3L, 3L, 3L, 4L, 1L, 3L, \n . 3L, 4L, 4L, 4L, 2L, 3L, 3L, 2L, 1L, 4L, 4L, 3L, 4L, 3L, 3L, 1L, \n . 4L, 4L, 4L, 1L, 4L, 3L, 3L, 2L, 4L, 3L, 3L, 4L, 3L, 1L, 1L, 3L, \n . 4L, 1L, 1L, 4L, 3L, 3L, 3L, 4L, 1L, 3L, 3L, 4L, 3L, 3L, 1L, 1L, \n . 3L, 4L, 1L, 3L, 4L, 4L, 3L, 1L, 2L, 4L, 2L, 3L, 4L, 2L, 3L, 1L, \n . 4L, 3L, 4L, 4L, 2L, 4L, 1L, 2L, 1L, 3L, 1L, 1L, 3L, 4L, 4L, 4L, \n . 3L, 3L, 4L, 4L, 2L, 4L, 4L, 1L, 2L, 1L, 2L, 3L, 3L, 2L, 1L, 1L, \n . 3L, 2L, 4L, 1L, 4L, 2L, 3L, 4L, 2L, 3L, 2L, 2L, 3L, 3L, 4L, 1L, \n . 2L, 3L, 3L, 3L, 4L, 2L, 1L, 2L, 3L, 1L, 3L, 1L, 3L, 2L, 1L, 4L, \n . 1L, 4L, 2L, 2L, 2L, 3L, 2L, 4L, 3L, 2L, 2L, 2L, 2L, 2L, 1L, 2L, \n . 3L, 2L, 4L, 3L, 3L, 2L, 2L, 1L, 1L, 3L, 3L, 3L, 4L, 2L, 3L, 3L, \n . 2L, 3L, 2L, 2L, 1L, 4L, 4L, 1L, 4L, 1L, 4L, 1L, 3L, 2L, 3L, 4L, \n . 2L, 1L, 1L, 1L, 3L, 2L, 4L, 1L, 1L, 1L, 2L, 4L, 4L, 2L, 4L, 3L, \n . 3L, 2L, 3L, 4L, 4L, 2L, 4L, 2L, 3L, 2L, 3L, 2L, 4L, 4L, 2L, 1L, \n . 1L, 3L, 4L, 1L, 1L, 1L, 1L, 2L, 1L, 3L, 4L, 2L, 2L, 1L, 4L, 1L, \n . 3L, 4L, 1L, 4L, 4L, 4L, 3L, 1L, 4L, 4L, 3L, 4L, 3L, 3L, 3L, 4L, \n . 4L, 2L, 3L, 4L, 2L, 3L, 1L, 3L, 3L, 1L, 2L, 4L, 4L, 4L, 2L, 3L, \n . 3L, 3L, 4L, 3L, 2L, 1L, 4L, 2L, 4L, 2L, 4L, 1L, 4L, 1L, 3L, 3L, \n . 3L, 3L, 4L, 1L, 3L, 3L, 4L, 2L, 3L, 3L, 1L, 3L, 2L, 3L, 2L, 1L, \n . 4L, 4L, 2L, 2L, 4L, 2L, 1L, 3L, 3L, 4L, 1L, 2L, 3L, 1L, 3L, 4L, \n . 1L, 2L, 3L, 1L, 3L, 4L, 4L, 2L, 1L, 1L, 1L, 2L, 2L, 3L, 2L, 3L, \n . 4L, 2L, 4L, 3L, 4L, 4L, 3L, 2L, 4L, 4L, 1L, 3L, 1L, 1L, 1L, 4L, \n . 2L, 1L, 2L, 2L, 3L, 3L, 1L, 1L, 4L, 3L, 2L, 4L, 4L, 3L, 2L, 2L, \n . 4L, 2L, 4L, 3L, 3L, 1L, 4L, 2L, 4L, 3L, 3L, 4L, 1L, 1L, 3L, 4L, \n . 4L, 4L, 4L, 3L, 2L, 3L, 3L, 4L, 3L, 4L, 3L, 4L, 2L, 2L, 3L, 2L, \n . 2L, 3L, 4L, 1L, 2L, 3L, 1L, 2L, 4L, 2L, 3L, 4L, 1L, 4L, 4L, 2L, \n . 3L, 1L, 3L, 1L, 4L, 1L, 4L, 2L, 4L, 3L, 3L, 4L, 1L, 4L, 2L, 4L, \n . 2L, 1L, 3L, 3L, 4L, 1L, 2L, 3L, 4L, 2L, 3L, 4L, 4L, 1L, 2L, 3L, \n . 4L, 3L, 1L, 4L, 1L, 4L, 2L, 4L, 4L, 3L, 3L, 2L, 4L, 2L, 1L, 2L, \n . 3L, 2L, 3L, 2L, 2L, 4L, 1L, 4L, 4L, 1L, 4L, 3L, 2L, 2L, 2L, 2L, \n . 2L, 2L, 4L, 4L, 2L, 1L, 3L, 4L, 1L, 4L, 1L, 2L, 1L, 1L, 1L, 4L, \n . 1L, 4L, 4L, 3L, 2L, 1L, 4L, 2L, 1L, 3L, 1L, 4L, 3L, 2L, 2L, 2L, \n . 4L, 4L, 2L, 4L, 2L, 3L, 4L, 1L, 3L, 4L, 2L, 4L, 1L, 4L, 3L, 3L, \n . 1L, 1L, 3L, 3L, 3L, 2L, 3L, 1L, 4L, 4L, 4L, 3L, 2L, 2L, 4L, 4L, \n . 3L, 3L, 4L, 2L, 4L, 3L, 3L, 4L, 1L, 4L, 4L, 3L, 1L, 2L, 1L, 2L, \n . 3L, 3L, 1L, 2L, 4L, 1L, 2L, 1L, 4L, 3L, 4L, 3L, 4L, 1L, 2L, 4L, \n . 3L, 4L, 2L, 4L, 4L, 3L, 3L, 3L, 1L, 2L, 4L, 3L, 4L, 4L, 4L, 3L, \n . 4L, 3L, 2L, 1L, 4L, 3L, 3L, 3L, 1L, 1L, 1L, 3L, 1L, 1L, 3L, 1L, \n . 1L, 1L, 4L, 4L, 1L, 1L, 2L, 3L, 4L, 2L, 2L, 3L, 1L, 3L, 4L, 2L, \n . 3L, 2L, 2L, 4L, 2L, 1L, 3L, 2L, 4L, 3L, 4L, 4L, 4L, 3L, 2L, 1L, \n . 4L, 2L, 2L, 2L, 2L, 2L, 1L, 1L, 4L, 1L, 1L, 2L, 1L, 2L, 3L, 3L, \n . 4L, 4L, 1L, 4L, 1L, 4L, 1L, 2L, 4L, 4L, 3L, 3L, 4L, 3L, 1L, 3L, \n . 1L, 2L, 1L, 2L, 3L, 4L, 4L, 3L, 2L, 4L, 4L, 3L, 2L, 4L, 4L, 3L, \n . 3L, 1L, 1L, 1L, 1L, 3L, 3L, 3L, 1L, 2L, 3L, 4L, 2L, 1L, 2L, 4L, \n . 3L, 2L, 4L, 1L, 2L, 3L, 3L, 4L, 3L, 1L, 3L, 2L, 4L, 4L, 3L, 1L, \n . 1L, 3L, 3L, 1L, 2L, 1L, 4L, 1L, 2L, 4L, 3L, 2L, 1L, 1L, 1L, 2L, \n . 2L, 1L, 2L, 2L, 2L, 1L, 2L, 4L, 2L, 4L, 2L, 4L, 4L, 2L, 4L, 4L, \n . 2L, 4L, 1L, 4L, 4L, 4L, 4L, 3L, 2L, 4L, 3L, 4L, 3L, 2L, 3L, 2L, \n . 3L, 4L, 3L, 4L, 3L, 2L, 4L, 4L, 2L, 4L, 2L, 3L, 2L, 2L, 2L, 2L, \n . 2L, 1L, 4L, 4L, 2L, 3L, 3L, 3L, 2L, 3L, 1L, 2L, 3L, 3L, 4L, 4L, \n . 2L, 4L, 2L, 1L, 3L, 4L, 3L, 4L, 4L, 2L, 3L, 3L, 2L, 4L, 4L, 3L, \n . 3L, 3L, 2L, 4L, 3L, 2L, 4L, 3L, 4L, 4L, 2L, 4L, 4L, 3L, 3L, 2L, \n . 4L, 3L, 3L, 4L, 3L, 2L, 3L, 3L, 2L, 2L, 2L, 4L, 4L, 4L, 3L, 4L, \n . 4L, 1L, 3L, 4L, 4L, 3L, 4L, 3L, 4L, 4L, 1L, 1L, 1L, 4L, 3L, 4L, \n . 3L, 4L, 2L, 4L, 3L, 3L, 4L, 1L, 3L, 3L, 3L, 2L, 3L, 4L, 4L, 4L, \n . 3L, 4L, 3L, 4L, 4L, 2L, 3L, 3L, 2L, 2L, 4L, 3L, 1L, 3L, 3L, 2L, \n . 2L, 2L, 1L, 2L, 4L, 3L, 2L, 3L, 2L, 4L, 2L, 1L, 1L, 3L, 3L, 1L, \n . 1L, 3L, 4L, 1L, 2L, 4L, 2L, 3L, 2L, 1L, 1L, 3L, 2L, 4L, 3L, 1L, \n . 3L, 4L, 1L, 4L, 1L, 3L, 3L, 3L, 3L, 1L, 1L, 3L, 3L, 4L, 1L, 2L, \n . 2L, 4L, 2L, 2L, 2L, 3L, 3L, 1L, 4L, 2L, 2L, 3L, 3L, 1L, 4L, 1L, \n . 4L, 3L, 3L, 4L, 3L, 3L, 4L, 4L, 2L, 3L, 4L, 4L, 2L, 4L, 2L, 4L, \n . 2L, 4L, 3L, 3L, 2L, 4L, 3L, 3L, 3L, 4L, 4L, 2L, 4L, 4L, 3L, 2L, \n . 2L, 2L, 1L, 2L, 3L, 4L, 3L, 4L, 2L, 2L, 4L, 2L, 4L, 2L, 2L, 2L, \n . 1L, 2L, 2L, 2L, 4L, 2L, 3L, 2L, 3L, 3L, 3L))",
      "2. `$<-.data.frame`(`*tmp*`, cluster, value = c(3L, 3L, 3L, 4L, \n . 4L, 1L, 1L, 4L, 4L, 3L, 4L, 3L, 1L, 4L, 1L, 3L, 1L, 3L, 4L, 3L, \n . 4L, 4L, 4L, 3L, 1L, 1L, 3L, 4L, 3L, 3L, 4L, 2L, 4L, 4L, 4L, 2L, \n . 3L, 3L, 1L, 3L, 4L, 3L, 4L, 1L, 1L, 1L, 3L, 1L, 1L, 4L, 4L, 3L, \n . 4L, 4L, 1L, 3L, 1L, 4L, 3L, 1L, 3L, 3L, 1L, 3L, 2L, 3L, 4L, 4L, \n . 4L, 3L, 3L, 3L, 4L, 3L, 4L, 4L, 4L, 4L, 3L, 4L, 1L, 4L, 3L, 4L, \n . 3L, 3L, 4L, 1L, 4L, 3L, 4L, 4L, 3L, 4L, 3L, 4L, 4L, 3L, 1L, 3L, \n . 3L, 3L, 1L, 1L, 4L, 2L, 1L, 4L, 1L, 1L, 4L, 3L, 4L, 1L, 1L, 4L, \n . 3L, 4L, 4L, 1L, 4L, 1L, 2L, 3L, 4L, 1L, 3L, 3L, 3L, 1L, 4L, 3L, \n . 2L, 3L, 3L, 1L, 3L, 4L, 4L, 3L, 3L, 4L, 3L, 4L, 4L, 4L, 2L, 2L, \n . 3L, 1L, 2L, 1L, 4L, 4L, 4L, 3L, 3L, 4L, 3L, 4L, 1L, 4L, 3L, 3L, \n . 4L, 1L, 2L, 4L, 3L, 3L, 3L, 4L, 3L, 3L, 2L, 4L, 1L, 3L, 4L, 4L, \n . 2L, 1L, 3L, 3L, 4L, 4L, 4L, 3L, 4L, 1L, 4L, 1L, 2L, 4L, 3L, 1L, \n . 4L, 4L, 4L, 1L, 2L, 1L, 1L, 1L, 4L, 1L, 1L, 1L, 2L, 1L, 4L, 1L, \n . 2L, 4L, 1L, 3L, 3L, 3L, 4L, 3L, 4L, 3L, 3L, 1L, 4L, 4L, 1L, 3L, \n . 3L, 4L, 4L, 2L, 2L, 4L, 4L, 2L, 3L, 3L, 4L, 4L, 3L, 3L, 3L, 3L, \n . 4L, 1L, 3L, 3L, 4L, 4L, 4L, 2L, 3L, 3L, 2L, 1L, 4L, 4L, 3L, 4L, \n . 3L, 3L, 1L, 4L, 4L, 4L, 1L, 4L, 3L, 3L, 2L, 4L, 3L, 3L, 4L, 3L, \n . 1L, 1L, 3L, 4L, 1L, 1L, 4L, 3L, 3L, 3L, 4L, 1L, 3L, 3L, 4L, 3L, \n . 3L, 1L, 1L, 3L, 4L, 1L, 3L, 4L, 4L, 3L, 1L, 2L, 4L, 2L, 3L, 4L, \n . 2L, 3L, 1L, 4L, 3L, 4L, 4L, 2L, 4L, 1L, 2L, 1L, 3L, 1L, 1L, 3L, \n . 4L, 4L, 4L, 3L, 3L, 4L, 4L, 2L, 4L, 4L, 1L, 2L, 1L, 2L, 3L, 3L, \n . 2L, 1L, 1L, 3L, 2L, 4L, 1L, 4L, 2L, 3L, 4L, 2L, 3L, 2L, 2L, 3L, \n . 3L, 4L, 1L, 2L, 3L, 3L, 3L, 4L, 2L, 1L, 2L, 3L, 1L, 3L, 1L, 3L, \n . 2L, 1L, 4L, 1L, 4L, 2L, 2L, 2L, 3L, 2L, 4L, 3L, 2L, 2L, 2L, 2L, \n . 2L, 1L, 2L, 3L, 2L, 4L, 3L, 3L, 2L, 2L, 1L, 1L, 3L, 3L, 3L, 4L, \n . 2L, 3L, 3L, 2L, 3L, 2L, 2L, 1L, 4L, 4L, 1L, 4L, 1L, 4L, 1L, 3L, \n . 2L, 3L, 4L, 2L, 1L, 1L, 1L, 3L, 2L, 4L, 1L, 1L, 1L, 2L, 4L, 4L, \n . 2L, 4L, 3L, 3L, 2L, 3L, 4L, 4L, 2L, 4L, 2L, 3L, 2L, 3L, 2L, 4L, \n . 4L, 2L, 1L, 1L, 3L, 4L, 1L, 1L, 1L, 1L, 2L, 1L, 3L, 4L, 2L, 2L, \n . 1L, 4L, 1L, 3L, 4L, 1L, 4L, 4L, 4L, 3L, 1L, 4L, 4L, 3L, 4L, 3L, \n . 3L, 3L, 4L, 4L, 2L, 3L, 4L, 2L, 3L, 1L, 3L, 3L, 1L, 2L, 4L, 4L, \n . 4L, 2L, 3L, 3L, 3L, 4L, 3L, 2L, 1L, 4L, 2L, 4L, 2L, 4L, 1L, 4L, \n . 1L, 3L, 3L, 3L, 3L, 4L, 1L, 3L, 3L, 4L, 2L, 3L, 3L, 1L, 3L, 2L, \n . 3L, 2L, 1L, 4L, 4L, 2L, 2L, 4L, 2L, 1L, 3L, 3L, 4L, 1L, 2L, 3L, \n . 1L, 3L, 4L, 1L, 2L, 3L, 1L, 3L, 4L, 4L, 2L, 1L, 1L, 1L, 2L, 2L, \n . 3L, 2L, 3L, 4L, 2L, 4L, 3L, 4L, 4L, 3L, 2L, 4L, 4L, 1L, 3L, 1L, \n . 1L, 1L, 4L, 2L, 1L, 2L, 2L, 3L, 3L, 1L, 1L, 4L, 3L, 2L, 4L, 4L, \n . 3L, 2L, 2L, 4L, 2L, 4L, 3L, 3L, 1L, 4L, 2L, 4L, 3L, 3L, 4L, 1L, \n . 1L, 3L, 4L, 4L, 4L, 4L, 3L, 2L, 3L, 3L, 4L, 3L, 4L, 3L, 4L, 2L, \n . 2L, 3L, 2L, 2L, 3L, 4L, 1L, 2L, 3L, 1L, 2L, 4L, 2L, 3L, 4L, 1L, \n . 4L, 4L, 2L, 3L, 1L, 3L, 1L, 4L, 1L, 4L, 2L, 4L, 3L, 3L, 4L, 1L, \n . 4L, 2L, 4L, 2L, 1L, 3L, 3L, 4L, 1L, 2L, 3L, 4L, 2L, 3L, 4L, 4L, \n . 1L, 2L, 3L, 4L, 3L, 1L, 4L, 1L, 4L, 2L, 4L, 4L, 3L, 3L, 2L, 4L, \n . 2L, 1L, 2L, 3L, 2L, 3L, 2L, 2L, 4L, 1L, 4L, 4L, 1L, 4L, 3L, 2L, \n . 2L, 2L, 2L, 2L, 2L, 4L, 4L, 2L, 1L, 3L, 4L, 1L, 4L, 1L, 2L, 1L, \n . 1L, 1L, 4L, 1L, 4L, 4L, 3L, 2L, 1L, 4L, 2L, 1L, 3L, 1L, 4L, 3L, \n . 2L, 2L, 2L, 4L, 4L, 2L, 4L, 2L, 3L, 4L, 1L, 3L, 4L, 2L, 4L, 1L, \n . 4L, 3L, 3L, 1L, 1L, 3L, 3L, 3L, 2L, 3L, 1L, 4L, 4L, 4L, 3L, 2L, \n . 2L, 4L, 4L, 3L, 3L, 4L, 2L, 4L, 3L, 3L, 4L, 1L, 4L, 4L, 3L, 1L, \n . 2L, 1L, 2L, 3L, 3L, 1L, 2L, 4L, 1L, 2L, 1L, 4L, 3L, 4L, 3L, 4L, \n . 1L, 2L, 4L, 3L, 4L, 2L, 4L, 4L, 3L, 3L, 3L, 1L, 2L, 4L, 3L, 4L, \n . 4L, 4L, 3L, 4L, 3L, 2L, 1L, 4L, 3L, 3L, 3L, 1L, 1L, 1L, 3L, 1L, \n . 1L, 3L, 1L, 1L, 1L, 4L, 4L, 1L, 1L, 2L, 3L, 4L, 2L, 2L, 3L, 1L, \n . 3L, 4L, 2L, 3L, 2L, 2L, 4L, 2L, 1L, 3L, 2L, 4L, 3L, 4L, 4L, 4L, \n . 3L, 2L, 1L, 4L, 2L, 2L, 2L, 2L, 2L, 1L, 1L, 4L, 1L, 1L, 2L, 1L, \n . 2L, 3L, 3L, 4L, 4L, 1L, 4L, 1L, 4L, 1L, 2L, 4L, 4L, 3L, 3L, 4L, \n . 3L, 1L, 3L, 1L, 2L, 1L, 2L, 3L, 4L, 4L, 3L, 2L, 4L, 4L, 3L, 2L, \n . 4L, 4L, 3L, 3L, 1L, 1L, 1L, 1L, 3L, 3L, 3L, 1L, 2L, 3L, 4L, 2L, \n . 1L, 2L, 4L, 3L, 2L, 4L, 1L, 2L, 3L, 3L, 4L, 3L, 1L, 3L, 2L, 4L, \n . 4L, 3L, 1L, 1L, 3L, 3L, 1L, 2L, 1L, 4L, 1L, 2L, 4L, 3L, 2L, 1L, \n . 1L, 1L, 2L, 2L, 1L, 2L, 2L, 2L, 1L, 2L, 4L, 2L, 4L, 2L, 4L, 4L, \n . 2L, 4L, 4L, 2L, 4L, 1L, 4L, 4L, 4L, 4L, 3L, 2L, 4L, 3L, 4L, 3L, \n . 2L, 3L, 2L, 3L, 4L, 3L, 4L, 3L, 2L, 4L, 4L, 2L, 4L, 2L, 3L, 2L, \n . 2L, 2L, 2L, 2L, 1L, 4L, 4L, 2L, 3L, 3L, 3L, 2L, 3L, 1L, 2L, 3L, \n . 3L, 4L, 4L, 2L, 4L, 2L, 1L, 3L, 4L, 3L, 4L, 4L, 2L, 3L, 3L, 2L, \n . 4L, 4L, 3L, 3L, 3L, 2L, 4L, 3L, 2L, 4L, 3L, 4L, 4L, 2L, 4L, 4L, \n . 3L, 3L, 2L, 4L, 3L, 3L, 4L, 3L, 2L, 3L, 3L, 2L, 2L, 2L, 4L, 4L, \n . 4L, 3L, 4L, 4L, 1L, 3L, 4L, 4L, 3L, 4L, 3L, 4L, 4L, 1L, 1L, 1L, \n . 4L, 3L, 4L, 3L, 4L, 2L, 4L, 3L, 3L, 4L, 1L, 3L, 3L, 3L, 2L, 3L, \n . 4L, 4L, 4L, 3L, 4L, 3L, 4L, 4L, 2L, 3L, 3L, 2L, 2L, 4L, 3L, 1L, \n . 3L, 3L, 2L, 2L, 2L, 1L, 2L, 4L, 3L, 2L, 3L, 2L, 4L, 2L, 1L, 1L, \n . 3L, 3L, 1L, 1L, 3L, 4L, 1L, 2L, 4L, 2L, 3L, 2L, 1L, 1L, 3L, 2L, \n . 4L, 3L, 1L, 3L, 4L, 1L, 4L, 1L, 3L, 3L, 3L, 3L, 1L, 1L, 3L, 3L, \n . 4L, 1L, 2L, 2L, 4L, 2L, 2L, 2L, 3L, 3L, 1L, 4L, 2L, 2L, 3L, 3L, \n . 1L, 4L, 1L, 4L, 3L, 3L, 4L, 3L, 3L, 4L, 4L, 2L, 3L, 4L, 4L, 2L, \n . 4L, 2L, 4L, 2L, 4L, 3L, 3L, 2L, 4L, 3L, 3L, 3L, 4L, 4L, 2L, 4L, \n . 4L, 3L, 2L, 2L, 2L, 1L, 2L, 3L, 4L, 3L, 4L, 2L, 2L, 4L, 2L, 4L, \n . 2L, 2L, 2L, 1L, 2L, 2L, 2L, 4L, 2L, 3L, 2L, 3L, 3L, 3L))",
      "3. stop(sprintf(ngettext(N, \"replacement has %d row, data has %d\", \n .     \"replacement has %d rows, data has %d\"), N, nrows), domain = NA)"
     ]
    }
   ],
   "source": [
    "set.seed(2)\n",
    "k = 4\n",
    "kmode <- kmodes(df_during_barriers_facilitators, k, iter.max = 20, weighted = FALSE)\n",
    "df_during$cluster <- kmode$cluster\n",
    "head(df_during)\n",
    "colnames(df_during)"
   ]
  },
  {
   "cell_type": "code",
   "execution_count": null,
   "metadata": {},
   "outputs": [
    {
     "data": {
      "text/html": [
       "<table class=\"dataframe\">\n",
       "<caption>A data.frame: 4 × 18</caption>\n",
       "<thead>\n",
       "\t<tr><th></th><th scope=col>PA_barrier_time_family_responsabilities</th><th scope=col>PA_barrier__tiredness</th><th scope=col>PA_barrier_places_closed_dangerous</th><th scope=col>PA_barrier_money</th><th scope=col>PA_barrier_time_convenience</th><th scope=col>PA_barrier_hard_work</th><th scope=col>PA_barrier_no_interest</th><th scope=col>PA_barrier_none</th><th scope=col>PA_easiness_outdoor_activities</th><th scope=col>PA_easiness_professional_guidance</th><th scope=col>PA_easiness_unguided</th><th scope=col>PA_easiness_music</th><th scope=col>PA_easiness_collective</th><th scope=col>PA_easiness_home_activity</th><th scope=col>PA_easiness_family_activity</th><th scope=col>PA_easiness_home_space</th><th scope=col>PA_easiness_home_equipament</th><th scope=col>PA_easiness_others</th></tr>\n",
       "\t<tr><th></th><th scope=col>&lt;fct&gt;</th><th scope=col>&lt;fct&gt;</th><th scope=col>&lt;fct&gt;</th><th scope=col>&lt;fct&gt;</th><th scope=col>&lt;fct&gt;</th><th scope=col>&lt;fct&gt;</th><th scope=col>&lt;fct&gt;</th><th scope=col>&lt;fct&gt;</th><th scope=col>&lt;fct&gt;</th><th scope=col>&lt;fct&gt;</th><th scope=col>&lt;fct&gt;</th><th scope=col>&lt;fct&gt;</th><th scope=col>&lt;fct&gt;</th><th scope=col>&lt;fct&gt;</th><th scope=col>&lt;fct&gt;</th><th scope=col>&lt;fct&gt;</th><th scope=col>&lt;fct&gt;</th><th scope=col>&lt;fct&gt;</th></tr>\n",
       "</thead>\n",
       "<tbody>\n",
       "\t<tr><th scope=row>1</th><td>0</td><td>0</td><td>1</td><td>0</td><td>0</td><td>0</td><td>0</td><td>0</td><td>0</td><td>0</td><td>0</td><td>1</td><td>0</td><td>0</td><td>0</td><td>0</td><td>0</td><td>0</td></tr>\n",
       "\t<tr><th scope=row>2</th><td>0</td><td>0</td><td>0</td><td>0</td><td>0</td><td>0</td><td>0</td><td>1</td><td>0</td><td>0</td><td>0</td><td>0</td><td>0</td><td>1</td><td>0</td><td>1</td><td>1</td><td>0</td></tr>\n",
       "\t<tr><th scope=row>3</th><td>0</td><td>0</td><td>1</td><td>0</td><td>0</td><td>0</td><td>0</td><td>0</td><td>0</td><td>1</td><td>0</td><td>0</td><td>0</td><td>1</td><td>1</td><td>1</td><td>1</td><td>0</td></tr>\n",
       "\t<tr><th scope=row>4</th><td>0</td><td>0</td><td>0</td><td>0</td><td>0</td><td>0</td><td>0</td><td>0</td><td>0</td><td>0</td><td>0</td><td>0</td><td>0</td><td>0</td><td>0</td><td>0</td><td>0</td><td>0</td></tr>\n",
       "</tbody>\n",
       "</table>\n"
      ],
      "text/latex": [
       "A data.frame: 4 × 18\n",
       "\\begin{tabular}{r|llllllllllllllllll}\n",
       "  & PA\\_barrier\\_time\\_family\\_responsabilities & PA\\_barrier\\_\\_tiredness & PA\\_barrier\\_places\\_closed\\_dangerous & PA\\_barrier\\_money & PA\\_barrier\\_time\\_convenience & PA\\_barrier\\_hard\\_work & PA\\_barrier\\_no\\_interest & PA\\_barrier\\_none & PA\\_easiness\\_outdoor\\_activities & PA\\_easiness\\_professional\\_guidance & PA\\_easiness\\_unguided & PA\\_easiness\\_music & PA\\_easiness\\_collective & PA\\_easiness\\_home\\_activity & PA\\_easiness\\_family\\_activity & PA\\_easiness\\_home\\_space & PA\\_easiness\\_home\\_equipament & PA\\_easiness\\_others\\\\\n",
       "  & <fct> & <fct> & <fct> & <fct> & <fct> & <fct> & <fct> & <fct> & <fct> & <fct> & <fct> & <fct> & <fct> & <fct> & <fct> & <fct> & <fct> & <fct>\\\\\n",
       "\\hline\n",
       "\t1 & 0 & 0 & 1 & 0 & 0 & 0 & 0 & 0 & 0 & 0 & 0 & 1 & 0 & 0 & 0 & 0 & 0 & 0\\\\\n",
       "\t2 & 0 & 0 & 0 & 0 & 0 & 0 & 0 & 1 & 0 & 0 & 0 & 0 & 0 & 1 & 0 & 1 & 1 & 0\\\\\n",
       "\t3 & 0 & 0 & 1 & 0 & 0 & 0 & 0 & 0 & 0 & 1 & 0 & 0 & 0 & 1 & 1 & 1 & 1 & 0\\\\\n",
       "\t4 & 0 & 0 & 0 & 0 & 0 & 0 & 0 & 0 & 0 & 0 & 0 & 0 & 0 & 0 & 0 & 0 & 0 & 0\\\\\n",
       "\\end{tabular}\n"
      ],
      "text/markdown": [
       "\n",
       "A data.frame: 4 × 18\n",
       "\n",
       "| <!--/--> | PA_barrier_time_family_responsabilities &lt;fct&gt; | PA_barrier__tiredness &lt;fct&gt; | PA_barrier_places_closed_dangerous &lt;fct&gt; | PA_barrier_money &lt;fct&gt; | PA_barrier_time_convenience &lt;fct&gt; | PA_barrier_hard_work &lt;fct&gt; | PA_barrier_no_interest &lt;fct&gt; | PA_barrier_none &lt;fct&gt; | PA_easiness_outdoor_activities &lt;fct&gt; | PA_easiness_professional_guidance &lt;fct&gt; | PA_easiness_unguided &lt;fct&gt; | PA_easiness_music &lt;fct&gt; | PA_easiness_collective &lt;fct&gt; | PA_easiness_home_activity &lt;fct&gt; | PA_easiness_family_activity &lt;fct&gt; | PA_easiness_home_space &lt;fct&gt; | PA_easiness_home_equipament &lt;fct&gt; | PA_easiness_others &lt;fct&gt; |\n",
       "|---|---|---|---|---|---|---|---|---|---|---|---|---|---|---|---|---|---|---|\n",
       "| 1 | 0 | 0 | 1 | 0 | 0 | 0 | 0 | 0 | 0 | 0 | 0 | 1 | 0 | 0 | 0 | 0 | 0 | 0 |\n",
       "| 2 | 0 | 0 | 0 | 0 | 0 | 0 | 0 | 1 | 0 | 0 | 0 | 0 | 0 | 1 | 0 | 1 | 1 | 0 |\n",
       "| 3 | 0 | 0 | 1 | 0 | 0 | 0 | 0 | 0 | 0 | 1 | 0 | 0 | 0 | 1 | 1 | 1 | 1 | 0 |\n",
       "| 4 | 0 | 0 | 0 | 0 | 0 | 0 | 0 | 0 | 0 | 0 | 0 | 0 | 0 | 0 | 0 | 0 | 0 | 0 |\n",
       "\n"
      ],
      "text/plain": [
       "  PA_barrier_time_family_responsabilities PA_barrier__tiredness\n",
       "1 0                                       0                    \n",
       "2 0                                       0                    \n",
       "3 0                                       0                    \n",
       "4 0                                       0                    \n",
       "  PA_barrier_places_closed_dangerous PA_barrier_money\n",
       "1 1                                  0               \n",
       "2 0                                  0               \n",
       "3 1                                  0               \n",
       "4 0                                  0               \n",
       "  PA_barrier_time_convenience PA_barrier_hard_work PA_barrier_no_interest\n",
       "1 0                           0                    0                     \n",
       "2 0                           0                    0                     \n",
       "3 0                           0                    0                     \n",
       "4 0                           0                    0                     \n",
       "  PA_barrier_none PA_easiness_outdoor_activities\n",
       "1 0               0                             \n",
       "2 1               0                             \n",
       "3 0               0                             \n",
       "4 0               0                             \n",
       "  PA_easiness_professional_guidance PA_easiness_unguided PA_easiness_music\n",
       "1 0                                 0                    1                \n",
       "2 0                                 0                    0                \n",
       "3 1                                 0                    0                \n",
       "4 0                                 0                    0                \n",
       "  PA_easiness_collective PA_easiness_home_activity PA_easiness_family_activity\n",
       "1 0                      0                         0                          \n",
       "2 0                      1                         0                          \n",
       "3 0                      1                         1                          \n",
       "4 0                      0                         0                          \n",
       "  PA_easiness_home_space PA_easiness_home_equipament PA_easiness_others\n",
       "1 0                      0                           0                 \n",
       "2 1                      1                           0                 \n",
       "3 1                      1                           0                 \n",
       "4 0                      0                           0                 "
      ]
     },
     "metadata": {},
     "output_type": "display_data"
    }
   ],
   "source": [
    "kmode$modes"
   ]
  },
  {
   "cell_type": "markdown",
   "metadata": {},
   "source": [
    "#### Practice of Exercise "
   ]
  },
  {
   "cell_type": "code",
   "execution_count": null,
   "metadata": {},
   "outputs": [
    {
     "data": {
      "image/png": "[encoded data removed]",
      "text/plain": [
       "plot without title"
      ]
     },
     "metadata": {},
     "output_type": "display_data"
    }
   ],
   "source": [
    "myplots <- list()\n",
    "colors <- c('deepskyblue4', 'darkgreen', 'chocolate1', 'blueviolet', 'firebrick4', 'deeppink3', 'darkslategray')\n",
    "for(cl in 1:k){\n",
    "  \n",
    "  plt <- ggplot() + geom_histogram( \n",
    "          data=df_during[df_during$cluster == cl,], \n",
    "          aes(x=PA_practice_during, y=..count../sum(..count..)*100),\n",
    "          fill=colors[cl],\n",
    "          bins = 3,\n",
    "          position=position_dodge()\n",
    "        ) + ylab(\"Relative Frequency\")\n",
    "  myplots[[cl]] <- plt \n",
    "}\n",
    "wrap_plots(myplots)"
   ]
  },
  {
   "cell_type": "markdown",
   "metadata": {},
   "source": [
    "#### Sedentary Behavior"
   ]
  },
  {
   "cell_type": "code",
   "execution_count": null,
   "metadata": {},
   "outputs": [
    {
     "data": {
      "image/png": "[encoded data removed]",
      "text/plain": [
       "plot without title"
      ]
     },
     "metadata": {},
     "output_type": "display_data"
    }
   ],
   "source": [
    "myplots <- list()\n",
    "colors <- c('deepskyblue4', 'darkgreen', 'chocolate1', 'blueviolet', 'firebrick4', 'deeppink3', 'darkslategray')\n",
    "for(cl in 1:k){\n",
    "  \n",
    "  plt <- ggplot() + geom_histogram( \n",
    "          data=df_during[df_during$cluster == cl,], \n",
    "          aes(x=sedentary_time_range_during\t, y=..count../sum(..count..)*100),\n",
    "          fill=colors[cl],\n",
    "          bins = 3,\n",
    "          position=position_dodge()\n",
    "        ) + ylab(\"Relative Frequency\")\n",
    "  myplots[[cl]] <- plt \n",
    "}\n",
    "wrap_plots(myplots)"
   ]
  },
  {
   "cell_type": "markdown",
   "metadata": {},
   "source": [
    "#### Exercise Intensity"
   ]
  },
  {
   "cell_type": "code",
   "execution_count": null,
   "metadata": {},
   "outputs": [
    {
     "data": {
      "image/png": "[encoded data removed]",
      "text/plain": [
       "plot without title"
      ]
     },
     "metadata": {},
     "output_type": "display_data"
    }
   ],
   "source": [
    "myplots <- list()\n",
    "colors <- c('deepskyblue4', 'darkgreen', 'chocolate1', 'blueviolet', 'firebrick4', 'deeppink3', 'darkslategray')\n",
    "for(cl in 1:k){\n",
    "  \n",
    "  plt <- ggplot() + geom_histogram( \n",
    "          data=df_during[df_during$cluster == cl,], \n",
    "          aes(x=PA_intensity, y=..count../sum(..count..)*100),\n",
    "          fill=colors[cl],\n",
    "          bins = 4,\n",
    "          position=position_dodge()\n",
    "        ) + ylab(\"Relative Frequency\")\n",
    "  myplots[[cl]] <- plt \n",
    "}\n",
    "wrap_plots(myplots)"
   ]
  },
  {
   "cell_type": "markdown",
   "metadata": {},
   "source": [
    "#### Exercise Duration"
   ]
  },
  {
   "cell_type": "code",
   "execution_count": null,
   "metadata": {},
   "outputs": [
    {
     "data": {
      "image/png": "[encoded data removed]",
      "text/plain": [
       "plot without title"
      ]
     },
     "metadata": {},
     "output_type": "display_data"
    }
   ],
   "source": [
    "myplots <- list()\n",
    "colors <- c('deepskyblue4', 'darkgreen', 'chocolate1', 'blueviolet', 'firebrick4', 'deeppink3', 'darkslategray')\n",
    "for(cl in 1:k){\n",
    "  \n",
    "  plt <- ggplot() + geom_histogram( \n",
    "          data=df_during[df_during$cluster == cl,], \n",
    "          aes(x=PA_duration, y=..count../sum(..count..)*100),\n",
    "          fill=colors[cl],\n",
    "          bins = 4,\n",
    "          position=position_dodge()\n",
    "        ) + ylab(\"Relative Frequency\")\n",
    "  myplots[[cl]] <- plt \n",
    "}\n",
    "wrap_plots(myplots)"
   ]
  },
  {
   "cell_type": "markdown",
   "metadata": {},
   "source": [
    "#### Exercise Weekly Frequency"
   ]
  },
  {
   "cell_type": "code",
   "execution_count": null,
   "metadata": {},
   "outputs": [
    {
     "data": {
      "image/png": "[encoded data removed]",
      "text/plain": [
       "plot without title"
      ]
     },
     "metadata": {},
     "output_type": "display_data"
    }
   ],
   "source": [
    "\n",
    "myplots <- list()\n",
    "colors <- c('deepskyblue4', 'darkgreen', 'chocolate1', 'blueviolet', 'firebrick4', 'deeppink3', 'darkslategray')\n",
    "for(cl in 1:k){\n",
    "  \n",
    "  plt <- ggplot() + geom_histogram( \n",
    "          data=df_during[df_during$cluster == cl,], \n",
    "          aes(x=PA_weekly_frequency, y=..count../sum(..count..)*100),\n",
    "          fill=colors[cl],\n",
    "          bins = 4,\n",
    "          position=position_dodge()\n",
    "        ) + ylab(\"Relative Frequency\")\n",
    "  myplots[[cl]] <- plt \n",
    "}\n",
    "wrap_plots(myplots)\n",
    "\n"
   ]
  },
  {
   "cell_type": "markdown",
   "metadata": {},
   "source": [
    "#### Number of Exercises"
   ]
  },
  {
   "cell_type": "code",
   "execution_count": null,
   "metadata": {},
   "outputs": [
    {
     "data": {
      "image/png": "[encoded data removed]",
      "text/plain": [
       "plot without title"
      ]
     },
     "metadata": {},
     "output_type": "display_data"
    }
   ],
   "source": [
    "myplots <- list()\n",
    "colors <- c('deepskyblue4', 'darkgreen', 'chocolate1', 'blueviolet', 'firebrick4', 'deeppink3', 'darkslategray')\n",
    "for(cl in 1:k){\n",
    "  \n",
    "  plt <- ggplot() + geom_histogram( \n",
    "          data=df_during[df_during$cluster == cl,], \n",
    "          aes(x=PA_number, y=..count../sum(..count..)*100),\n",
    "          fill=colors[cl],\n",
    "          bins = 4,\n",
    "          position=position_dodge()\n",
    "        ) + ylab(\"Relative Frequency\")\n",
    "  myplots[[cl]] <- plt \n",
    "}\n",
    "wrap_plots(myplots)"
   ]
  },
  {
   "cell_type": "markdown",
   "metadata": {},
   "source": [
    "#### Income Range"
   ]
  },
  {
   "cell_type": "code",
   "execution_count": null,
   "metadata": {},
   "outputs": [
    {
     "data": {
      "image/png": "[encoded data removed]",
      "text/plain": [
       "plot without title"
      ]
     },
     "metadata": {},
     "output_type": "display_data"
    }
   ],
   "source": [
    "\n",
    "myplots <- list()\n",
    "colors <- c('deepskyblue4', 'darkgreen', 'chocolate1', 'blueviolet', 'firebrick4', 'deeppink3', 'darkslategray')\n",
    "for(cl in 1:k){\n",
    "  \n",
    "  plt <- ggplot() + geom_histogram( \n",
    "          data=df_during[df_during$cluster == cl,], \n",
    "          aes(x=income_range, y=..count../sum(..count..)*100),\n",
    "          fill=colors[cl],\n",
    "          bins = 6,\n",
    "          position=position_dodge()\n",
    "        ) + ylab(\"Relative Frequency\")\n",
    "  myplots[[cl]] <- plt \n",
    "}\n",
    "wrap_plots(myplots)\n",
    "\n"
   ]
  },
  {
   "cell_type": "markdown",
   "metadata": {},
   "source": [
    "#### Age Range"
   ]
  },
  {
   "cell_type": "code",
   "execution_count": null,
   "metadata": {},
   "outputs": [
    {
     "data": {
      "image/png": "[encoded data removed]",
      "text/plain": [
       "plot without title"
      ]
     },
     "metadata": {},
     "output_type": "display_data"
    }
   ],
   "source": [
    "\n",
    "myplots <- list()\n",
    "colors <- c('deepskyblue4', 'darkgreen', 'chocolate1', 'blueviolet', 'firebrick4', 'deeppink3', 'darkslategray')\n",
    "for(cl in 1:k){\n",
    "  \n",
    "  plt <- ggplot() + geom_histogram( \n",
    "          data=df_during[df_during$cluster == cl,], \n",
    "          aes(x=age_range, y=..count../sum(..count..)*100),\n",
    "          fill=colors[cl],\n",
    "          bins = 8,\n",
    "          position=position_dodge()\n",
    "        ) + ylab(\"Relative Frequency\")\n",
    "  myplots[[cl]] <- plt \n",
    "}\n",
    "wrap_plots(myplots)\n",
    "\n"
   ]
  },
  {
   "cell_type": "markdown",
   "metadata": {},
   "source": [
    "#### Sex"
   ]
  },
  {
   "cell_type": "code",
   "execution_count": null,
   "metadata": {},
   "outputs": [
    {
     "data": {
      "image/png": "[encoded data removed]",
      "text/plain": [
       "plot without title"
      ]
     },
     "metadata": {},
     "output_type": "display_data"
    }
   ],
   "source": [
    "\n",
    "myplots <- list()\n",
    "colors <- c('deepskyblue4', 'darkgreen', 'chocolate1', 'blueviolet', 'firebrick4', 'deeppink3', 'darkslategray')\n",
    "for(cl in 1:k){\n",
    "  \n",
    "  plt <- ggplot() + geom_histogram( \n",
    "          data=df_during[df_during$cluster == cl,], \n",
    "          aes(x=sex, y=..count../sum(..count..)*100),\n",
    "          fill=colors[cl],\n",
    "          bins = 3,\n",
    "          position=position_dodge()\n",
    "        ) + ylab(\"Relative Frequency\")\n",
    "  myplots[[cl]] <- plt \n",
    "}\n",
    "wrap_plots(myplots)\n",
    "\n"
   ]
  },
  {
   "cell_type": "markdown",
   "metadata": {},
   "source": [
    "#### Scholarity"
   ]
  },
  {
   "cell_type": "code",
   "execution_count": null,
   "metadata": {},
   "outputs": [
    {
     "data": {
      "image/png": "[encoded data removed]",
      "text/plain": [
       "plot without title"
      ]
     },
     "metadata": {},
     "output_type": "display_data"
    }
   ],
   "source": [
    "\n",
    "myplots <- list()\n",
    "colors <- c('deepskyblue4', 'darkgreen', 'chocolate1', 'blueviolet', 'firebrick4', 'deeppink3', 'darkslategray')\n",
    "for(cl in 1:k){\n",
    "  \n",
    "  plt <- ggplot() + geom_histogram( \n",
    "          data=df_during[df_during$cluster == cl,], \n",
    "          aes(x=scholarity, y=..count../sum(..count..)*100),\n",
    "          fill=colors[cl],\n",
    "          bins = 6,\n",
    "          position=position_dodge()\n",
    "        ) + ylab(\"Relative Frequency\")\n",
    "  myplots[[cl]] <- plt \n",
    "}\n",
    "wrap_plots(myplots)\n",
    "\n"
   ]
  }
 ],
 "metadata": {
  "kernelspec": {
   "display_name": "R",
   "language": "R",
   "name": "ir"
  },
  "language_info": {
   "codemirror_mode": "r",
   "file_extension": ".r",
   "mimetype": "text/x-r-source",
   "name": "R",
   "pygments_lexer": "r",
   "version": "4.1.0"
  },
  "orig_nbformat": 4
 },
 "nbformat": 4,
 "nbformat_minor": 2
}
