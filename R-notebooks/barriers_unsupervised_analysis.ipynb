{
 "cells": [
  {
   "cell_type": "markdown",
   "metadata": {},
   "source": [
    "## Importing packages"
   ]
  },
  {
   "cell_type": "code",
   "execution_count": 1,
   "metadata": {},
   "outputs": [
    {
     "name": "stderr",
     "output_type": "stream",
     "text": [
      "\n",
      "Attaching package: 'obliqueRF'\n",
      "\n",
      "\n",
      "The following object is masked from 'package:rattle':\n",
      "\n",
      "    importance\n",
      "\n",
      "\n",
      "The following object is masked from 'package:randomForest':\n",
      "\n",
      "    importance\n",
      "\n",
      "\n",
      "Warning message:\n",
      "\"package 'gbm' was built under R version 4.1.2\"\n",
      "Loaded gbm 2.1.8\n",
      "\n",
      "Warning message:\n",
      "\"package 'MLeval' was built under R version 4.1.2\"\n"
     ]
    },
    {
     "data": {
      "text/html": [
       "<ol>\n",
       "\t<li>TRUE</li>\n",
       "\t<li>TRUE</li>\n",
       "\t<li>TRUE</li>\n",
       "\t<li>TRUE</li>\n",
       "\t<li>TRUE</li>\n",
       "\t<li>TRUE</li>\n",
       "\t<li>TRUE</li>\n",
       "\t<li>TRUE</li>\n",
       "\t<li>TRUE</li>\n",
       "\t<li>TRUE</li>\n",
       "\t<li>TRUE</li>\n",
       "\t<li>TRUE</li>\n",
       "\t<li>TRUE</li>\n",
       "\t<li>TRUE</li>\n",
       "\t<li>TRUE</li>\n",
       "\t<li>TRUE</li>\n",
       "\t<li>TRUE</li>\n",
       "\t<li>TRUE</li>\n",
       "\t<li>TRUE</li>\n",
       "\t<li>TRUE</li>\n",
       "\t<li>TRUE</li>\n",
       "\t<li>TRUE</li>\n",
       "\t<li>TRUE</li>\n",
       "\t<li>TRUE</li>\n",
       "\t<li>TRUE</li>\n",
       "\t<li>TRUE</li>\n",
       "\t<li>TRUE</li>\n",
       "\t<li>TRUE</li>\n",
       "\t<li>TRUE</li>\n",
       "\t<li>TRUE</li>\n",
       "\t<li>TRUE</li>\n",
       "\t<li>TRUE</li>\n",
       "\t<li>TRUE</li>\n",
       "\t<li>TRUE</li>\n",
       "\t<li>TRUE</li>\n",
       "</ol>\n"
      ],
      "text/latex": [
       "\\begin{enumerate}\n",
       "\\item TRUE\n",
       "\\item TRUE\n",
       "\\item TRUE\n",
       "\\item TRUE\n",
       "\\item TRUE\n",
       "\\item TRUE\n",
       "\\item TRUE\n",
       "\\item TRUE\n",
       "\\item TRUE\n",
       "\\item TRUE\n",
       "\\item TRUE\n",
       "\\item TRUE\n",
       "\\item TRUE\n",
       "\\item TRUE\n",
       "\\item TRUE\n",
       "\\item TRUE\n",
       "\\item TRUE\n",
       "\\item TRUE\n",
       "\\item TRUE\n",
       "\\item TRUE\n",
       "\\item TRUE\n",
       "\\item TRUE\n",
       "\\item TRUE\n",
       "\\item TRUE\n",
       "\\item TRUE\n",
       "\\item TRUE\n",
       "\\item TRUE\n",
       "\\item TRUE\n",
       "\\item TRUE\n",
       "\\item TRUE\n",
       "\\item TRUE\n",
       "\\item TRUE\n",
       "\\item TRUE\n",
       "\\item TRUE\n",
       "\\item TRUE\n",
       "\\end{enumerate}\n"
      ],
      "text/markdown": [
       "1. TRUE\n",
       "2. TRUE\n",
       "3. TRUE\n",
       "4. TRUE\n",
       "5. TRUE\n",
       "6. TRUE\n",
       "7. TRUE\n",
       "8. TRUE\n",
       "9. TRUE\n",
       "10. TRUE\n",
       "11. TRUE\n",
       "12. TRUE\n",
       "13. TRUE\n",
       "14. TRUE\n",
       "15. TRUE\n",
       "16. TRUE\n",
       "17. TRUE\n",
       "18. TRUE\n",
       "19. TRUE\n",
       "20. TRUE\n",
       "21. TRUE\n",
       "22. TRUE\n",
       "23. TRUE\n",
       "24. TRUE\n",
       "25. TRUE\n",
       "26. TRUE\n",
       "27. TRUE\n",
       "28. TRUE\n",
       "29. TRUE\n",
       "30. TRUE\n",
       "31. TRUE\n",
       "32. TRUE\n",
       "33. TRUE\n",
       "34. TRUE\n",
       "35. TRUE\n",
       "\n",
       "\n"
      ],
      "text/plain": [
       "[[1]]\n",
       "[1] TRUE\n",
       "\n",
       "[[2]]\n",
       "[1] TRUE\n",
       "\n",
       "[[3]]\n",
       "[1] TRUE\n",
       "\n",
       "[[4]]\n",
       "[1] TRUE\n",
       "\n",
       "[[5]]\n",
       "[1] TRUE\n",
       "\n",
       "[[6]]\n",
       "[1] TRUE\n",
       "\n",
       "[[7]]\n",
       "[1] TRUE\n",
       "\n",
       "[[8]]\n",
       "[1] TRUE\n",
       "\n",
       "[[9]]\n",
       "[1] TRUE\n",
       "\n",
       "[[10]]\n",
       "[1] TRUE\n",
       "\n",
       "[[11]]\n",
       "[1] TRUE\n",
       "\n",
       "[[12]]\n",
       "[1] TRUE\n",
       "\n",
       "[[13]]\n",
       "[1] TRUE\n",
       "\n",
       "[[14]]\n",
       "[1] TRUE\n",
       "\n",
       "[[15]]\n",
       "[1] TRUE\n",
       "\n",
       "[[16]]\n",
       "[1] TRUE\n",
       "\n",
       "[[17]]\n",
       "[1] TRUE\n",
       "\n",
       "[[18]]\n",
       "[1] TRUE\n",
       "\n",
       "[[19]]\n",
       "[1] TRUE\n",
       "\n",
       "[[20]]\n",
       "[1] TRUE\n",
       "\n",
       "[[21]]\n",
       "[1] TRUE\n",
       "\n",
       "[[22]]\n",
       "[1] TRUE\n",
       "\n",
       "[[23]]\n",
       "[1] TRUE\n",
       "\n",
       "[[24]]\n",
       "[1] TRUE\n",
       "\n",
       "[[25]]\n",
       "[1] TRUE\n",
       "\n",
       "[[26]]\n",
       "[1] TRUE\n",
       "\n",
       "[[27]]\n",
       "[1] TRUE\n",
       "\n",
       "[[28]]\n",
       "[1] TRUE\n",
       "\n",
       "[[29]]\n",
       "[1] TRUE\n",
       "\n",
       "[[30]]\n",
       "[1] TRUE\n",
       "\n",
       "[[31]]\n",
       "[1] TRUE\n",
       "\n",
       "[[32]]\n",
       "[1] TRUE\n",
       "\n",
       "[[33]]\n",
       "[1] TRUE\n",
       "\n",
       "[[34]]\n",
       "[1] TRUE\n",
       "\n",
       "[[35]]\n",
       "[1] TRUE\n"
      ]
     },
     "metadata": {},
     "output_type": "display_data"
    }
   ],
   "source": [
    "library(here, help, pos = 2, lib.loc = NULL)\n",
    "source(here('Modules','modules.R'))\n",
    "#install_all_packages()\n",
    "load_library_packages()"
   ]
  },
  {
   "cell_type": "markdown",
   "metadata": {},
   "source": [
    "## Importing dataset"
   ]
  },
  {
   "cell_type": "code",
   "execution_count": 3,
   "metadata": {},
   "outputs": [
    {
     "data": {
      "text/html": [
       "'numeric'"
      ],
      "text/latex": [
       "'numeric'"
      ],
      "text/markdown": [
       "'numeric'"
      ],
      "text/plain": [
       "[1] \"numeric\""
      ]
     },
     "metadata": {},
     "output_type": "display_data"
    },
    {
     "data": {
      "text/html": [
       "<style>\n",
       ".list-inline {list-style: none; margin:0; padding: 0}\n",
       ".list-inline>li {display: inline-block}\n",
       ".list-inline>li:not(:last-child)::after {content: \"\\00b7\"; padding: 0 .5ex}\n",
       "</style>\n",
       "<ol class=list-inline><li>1250</li><li>30</li></ol>\n"
      ],
      "text/latex": [
       "\\begin{enumerate*}\n",
       "\\item 1250\n",
       "\\item 30\n",
       "\\end{enumerate*}\n"
      ],
      "text/markdown": [
       "1. 1250\n",
       "2. 30\n",
       "\n",
       "\n"
      ],
      "text/plain": [
       "[1] 1250   30"
      ]
     },
     "metadata": {},
     "output_type": "display_data"
    },
    {
     "data": {
      "text/html": [
       "<table class=\"dataframe\">\n",
       "<caption>A data.frame: 6 × 30</caption>\n",
       "<thead>\n",
       "\t<tr><th></th><th scope=col>PA_barrier_time_family_responsabilities</th><th scope=col>PA_barrier__tiredness</th><th scope=col>PA_barrier_places_closed_dangerous</th><th scope=col>PA_barrier_money</th><th scope=col>PA_barrier_time_convenience</th><th scope=col>PA_barrier_hard_work</th><th scope=col>PA_barrier_no_interest</th><th scope=col>PA_barrier_none</th><th scope=col>PA_easiness_outdoor_activities</th><th scope=col>PA_easiness_professional_guidance</th><th scope=col>...</th><th scope=col>PA_duration</th><th scope=col>PA_practice_during</th><th scope=col>sedentary_time_range_during</th><th scope=col>sex</th><th scope=col>age_range</th><th scope=col>martialStatus</th><th scope=col>co.resident_range</th><th scope=col>rooms_range</th><th scope=col>income_range</th><th scope=col>scholarity</th></tr>\n",
       "\t<tr><th></th><th scope=col>&lt;dbl&gt;</th><th scope=col>&lt;dbl&gt;</th><th scope=col>&lt;dbl&gt;</th><th scope=col>&lt;dbl&gt;</th><th scope=col>&lt;dbl&gt;</th><th scope=col>&lt;dbl&gt;</th><th scope=col>&lt;dbl&gt;</th><th scope=col>&lt;dbl&gt;</th><th scope=col>&lt;dbl&gt;</th><th scope=col>&lt;dbl&gt;</th><th scope=col>...</th><th scope=col>&lt;dbl&gt;</th><th scope=col>&lt;dbl&gt;</th><th scope=col>&lt;dbl&gt;</th><th scope=col>&lt;dbl&gt;</th><th scope=col>&lt;dbl&gt;</th><th scope=col>&lt;dbl&gt;</th><th scope=col>&lt;dbl&gt;</th><th scope=col>&lt;dbl&gt;</th><th scope=col>&lt;dbl&gt;</th><th scope=col>&lt;dbl&gt;</th></tr>\n",
       "</thead>\n",
       "<tbody>\n",
       "\t<tr><th scope=row>1</th><td>0</td><td>0</td><td>1</td><td>0</td><td>0</td><td>1</td><td>0</td><td>0</td><td>0</td><td>0</td><td>...</td><td>1</td><td>1</td><td>5</td><td>1</td><td>2</td><td>1</td><td>1</td><td>1</td><td>4</td><td>4</td></tr>\n",
       "\t<tr><th scope=row>2</th><td>0</td><td>0</td><td>1</td><td>0</td><td>0</td><td>0</td><td>0</td><td>0</td><td>1</td><td>0</td><td>...</td><td>2</td><td>0</td><td>4</td><td>2</td><td>3</td><td>1</td><td>2</td><td>3</td><td>6</td><td>4</td></tr>\n",
       "\t<tr><th scope=row>3</th><td>0</td><td>0</td><td>1</td><td>0</td><td>0</td><td>0</td><td>1</td><td>0</td><td>0</td><td>0</td><td>...</td><td>2</td><td>0</td><td>2</td><td>1</td><td>3</td><td>1</td><td>2</td><td>2</td><td>5</td><td>3</td></tr>\n",
       "\t<tr><th scope=row>4</th><td>0</td><td>0</td><td>1</td><td>0</td><td>0</td><td>0</td><td>0</td><td>0</td><td>1</td><td>1</td><td>...</td><td>2</td><td>0</td><td>3</td><td>1</td><td>3</td><td>1</td><td>1</td><td>1</td><td>3</td><td>4</td></tr>\n",
       "\t<tr><th scope=row>5</th><td>0</td><td>0</td><td>1</td><td>0</td><td>0</td><td>0</td><td>0</td><td>0</td><td>0</td><td>0</td><td>...</td><td>2</td><td>0</td><td>5</td><td>1</td><td>2</td><td>2</td><td>2</td><td>2</td><td>6</td><td>4</td></tr>\n",
       "\t<tr><th scope=row>6</th><td>1</td><td>0</td><td>0</td><td>0</td><td>0</td><td>0</td><td>0</td><td>0</td><td>1</td><td>0</td><td>...</td><td>3</td><td>0</td><td>2</td><td>2</td><td>3</td><td>2</td><td>2</td><td>2</td><td>6</td><td>6</td></tr>\n",
       "</tbody>\n",
       "</table>\n"
      ],
      "text/latex": [
       "A data.frame: 6 × 30\n",
       "\\begin{tabular}{r|lllllllllllllllllllll}\n",
       "  & PA\\_barrier\\_time\\_family\\_responsabilities & PA\\_barrier\\_\\_tiredness & PA\\_barrier\\_places\\_closed\\_dangerous & PA\\_barrier\\_money & PA\\_barrier\\_time\\_convenience & PA\\_barrier\\_hard\\_work & PA\\_barrier\\_no\\_interest & PA\\_barrier\\_none & PA\\_easiness\\_outdoor\\_activities & PA\\_easiness\\_professional\\_guidance & ... & PA\\_duration & PA\\_practice\\_during & sedentary\\_time\\_range\\_during & sex & age\\_range & martialStatus & co.resident\\_range & rooms\\_range & income\\_range & scholarity\\\\\n",
       "  & <dbl> & <dbl> & <dbl> & <dbl> & <dbl> & <dbl> & <dbl> & <dbl> & <dbl> & <dbl> & ... & <dbl> & <dbl> & <dbl> & <dbl> & <dbl> & <dbl> & <dbl> & <dbl> & <dbl> & <dbl>\\\\\n",
       "\\hline\n",
       "\t1 & 0 & 0 & 1 & 0 & 0 & 1 & 0 & 0 & 0 & 0 & ... & 1 & 1 & 5 & 1 & 2 & 1 & 1 & 1 & 4 & 4\\\\\n",
       "\t2 & 0 & 0 & 1 & 0 & 0 & 0 & 0 & 0 & 1 & 0 & ... & 2 & 0 & 4 & 2 & 3 & 1 & 2 & 3 & 6 & 4\\\\\n",
       "\t3 & 0 & 0 & 1 & 0 & 0 & 0 & 1 & 0 & 0 & 0 & ... & 2 & 0 & 2 & 1 & 3 & 1 & 2 & 2 & 5 & 3\\\\\n",
       "\t4 & 0 & 0 & 1 & 0 & 0 & 0 & 0 & 0 & 1 & 1 & ... & 2 & 0 & 3 & 1 & 3 & 1 & 1 & 1 & 3 & 4\\\\\n",
       "\t5 & 0 & 0 & 1 & 0 & 0 & 0 & 0 & 0 & 0 & 0 & ... & 2 & 0 & 5 & 1 & 2 & 2 & 2 & 2 & 6 & 4\\\\\n",
       "\t6 & 1 & 0 & 0 & 0 & 0 & 0 & 0 & 0 & 1 & 0 & ... & 3 & 0 & 2 & 2 & 3 & 2 & 2 & 2 & 6 & 6\\\\\n",
       "\\end{tabular}\n"
      ],
      "text/markdown": [
       "\n",
       "A data.frame: 6 × 30\n",
       "\n",
       "| <!--/--> | PA_barrier_time_family_responsabilities &lt;dbl&gt; | PA_barrier__tiredness &lt;dbl&gt; | PA_barrier_places_closed_dangerous &lt;dbl&gt; | PA_barrier_money &lt;dbl&gt; | PA_barrier_time_convenience &lt;dbl&gt; | PA_barrier_hard_work &lt;dbl&gt; | PA_barrier_no_interest &lt;dbl&gt; | PA_barrier_none &lt;dbl&gt; | PA_easiness_outdoor_activities &lt;dbl&gt; | PA_easiness_professional_guidance &lt;dbl&gt; | ... ... | PA_duration &lt;dbl&gt; | PA_practice_during &lt;dbl&gt; | sedentary_time_range_during &lt;dbl&gt; | sex &lt;dbl&gt; | age_range &lt;dbl&gt; | martialStatus &lt;dbl&gt; | co.resident_range &lt;dbl&gt; | rooms_range &lt;dbl&gt; | income_range &lt;dbl&gt; | scholarity &lt;dbl&gt; |\n",
       "|---|---|---|---|---|---|---|---|---|---|---|---|---|---|---|---|---|---|---|---|---|---|\n",
       "| 1 | 0 | 0 | 1 | 0 | 0 | 1 | 0 | 0 | 0 | 0 | ... | 1 | 1 | 5 | 1 | 2 | 1 | 1 | 1 | 4 | 4 |\n",
       "| 2 | 0 | 0 | 1 | 0 | 0 | 0 | 0 | 0 | 1 | 0 | ... | 2 | 0 | 4 | 2 | 3 | 1 | 2 | 3 | 6 | 4 |\n",
       "| 3 | 0 | 0 | 1 | 0 | 0 | 0 | 1 | 0 | 0 | 0 | ... | 2 | 0 | 2 | 1 | 3 | 1 | 2 | 2 | 5 | 3 |\n",
       "| 4 | 0 | 0 | 1 | 0 | 0 | 0 | 0 | 0 | 1 | 1 | ... | 2 | 0 | 3 | 1 | 3 | 1 | 1 | 1 | 3 | 4 |\n",
       "| 5 | 0 | 0 | 1 | 0 | 0 | 0 | 0 | 0 | 0 | 0 | ... | 2 | 0 | 5 | 1 | 2 | 2 | 2 | 2 | 6 | 4 |\n",
       "| 6 | 1 | 0 | 0 | 0 | 0 | 0 | 0 | 0 | 1 | 0 | ... | 3 | 0 | 2 | 2 | 3 | 2 | 2 | 2 | 6 | 6 |\n",
       "\n"
      ],
      "text/plain": [
       "  PA_barrier_time_family_responsabilities PA_barrier__tiredness\n",
       "1 0                                       0                    \n",
       "2 0                                       0                    \n",
       "3 0                                       0                    \n",
       "4 0                                       0                    \n",
       "5 0                                       0                    \n",
       "6 1                                       0                    \n",
       "  PA_barrier_places_closed_dangerous PA_barrier_money\n",
       "1 1                                  0               \n",
       "2 1                                  0               \n",
       "3 1                                  0               \n",
       "4 1                                  0               \n",
       "5 1                                  0               \n",
       "6 0                                  0               \n",
       "  PA_barrier_time_convenience PA_barrier_hard_work PA_barrier_no_interest\n",
       "1 0                           1                    0                     \n",
       "2 0                           0                    0                     \n",
       "3 0                           0                    1                     \n",
       "4 0                           0                    0                     \n",
       "5 0                           0                    0                     \n",
       "6 0                           0                    0                     \n",
       "  PA_barrier_none PA_easiness_outdoor_activities\n",
       "1 0               0                             \n",
       "2 0               1                             \n",
       "3 0               0                             \n",
       "4 0               1                             \n",
       "5 0               0                             \n",
       "6 0               1                             \n",
       "  PA_easiness_professional_guidance ... PA_duration PA_practice_during\n",
       "1 0                                 ... 1           1                 \n",
       "2 0                                 ... 2           0                 \n",
       "3 0                                 ... 2           0                 \n",
       "4 1                                 ... 2           0                 \n",
       "5 0                                 ... 2           0                 \n",
       "6 0                                 ... 3           0                 \n",
       "  sedentary_time_range_during sex age_range martialStatus co.resident_range\n",
       "1 5                           1   2         1             1                \n",
       "2 4                           2   3         1             2                \n",
       "3 2                           1   3         1             2                \n",
       "4 3                           1   3         1             1                \n",
       "5 5                           1   2         2             2                \n",
       "6 2                           2   3         2             2                \n",
       "  rooms_range income_range scholarity\n",
       "1 1           4            4         \n",
       "2 3           6            4         \n",
       "3 2           5            3         \n",
       "4 1           3            4         \n",
       "5 2           6            4         \n",
       "6 2           6            6         "
      ]
     },
     "metadata": {},
     "output_type": "display_data"
    }
   ],
   "source": [
    "df_during <- read_excel(path = here('Data','during_dataset.xlsx'))\n",
    "df_during <- data.frame(df_during)\n",
    "unique(sapply(df_during, class))\n",
    "df_during <- df_during[complete.cases(df_during), ]\n",
    "dim(df_during)\n",
    "head(df_during)"
   ]
  },
  {
   "cell_type": "markdown",
   "metadata": {},
   "source": [
    "## Converting dataset types and labels"
   ]
  },
  {
   "cell_type": "code",
   "execution_count": 4,
   "metadata": {},
   "outputs": [
    {
     "data": {
      "text/html": [
       "900"
      ],
      "text/latex": [
       "900"
      ],
      "text/markdown": [
       "900"
      ],
      "text/plain": [
       "[1] 900"
      ]
     },
     "metadata": {},
     "output_type": "display_data"
    }
   ],
   "source": [
    "df_during$PA_intensity[df_during$PA_intensity == 4] <- 0\n",
    "df_during$PA_duration[df_during$PA_duration == 5] <- 0\n",
    "df_during$PA_practice_during <- ifelse(df_during$PA_practice_during == 0, 1, 0)\n",
    "df_during$sedentary_time_range_during[df_during$sedentary_time_range_during < 5] <- 0\n",
    "df_during$sedentary_time_range_during[df_during$sedentary_time_range_during == 5] <- 1\n",
    "sum(df_during[, \"PA_practice_during\"])"
   ]
  },
  {
   "cell_type": "markdown",
   "metadata": {},
   "source": [
    "## Separing barriers from dataset"
   ]
  },
  {
   "cell_type": "code",
   "execution_count": 5,
   "metadata": {},
   "outputs": [
    {
     "data": {
      "text/html": [
       "<style>\n",
       ".list-inline {list-style: none; margin:0; padding: 0}\n",
       ".list-inline>li {display: inline-block}\n",
       ".list-inline>li:not(:last-child)::after {content: \"\\00b7\"; padding: 0 .5ex}\n",
       "</style>\n",
       "<ol class=list-inline><li>'PA_barrier_time_family_responsabilities'</li><li>'PA_barrier__tiredness'</li><li>'PA_barrier_places_closed_dangerous'</li><li>'PA_barrier_money'</li><li>'PA_barrier_time_convenience'</li><li>'PA_barrier_hard_work'</li><li>'PA_barrier_no_interest'</li><li>'PA_barrier_none'</li><li>'PA_easiness_outdoor_activities'</li><li>'PA_easiness_professional_guidance'</li><li>'PA_easiness_unguided'</li><li>'PA_easiness_music'</li><li>'PA_easiness_collective'</li><li>'PA_easiness_home_activity'</li><li>'PA_easiness_family_activity'</li><li>'PA_easiness_home_space'</li><li>'PA_easiness_home_equipament'</li><li>'PA_easiness_others'</li><li>'PA_weekly_frequency'</li><li>'PA_intensity'</li><li>'PA_duration'</li><li>'PA_practice_during'</li><li>'sedentary_time_range_during'</li><li>'sex'</li><li>'age_range'</li><li>'martialStatus'</li><li>'co.resident_range'</li><li>'rooms_range'</li><li>'income_range'</li><li>'scholarity'</li></ol>\n"
      ],
      "text/latex": [
       "\\begin{enumerate*}\n",
       "\\item 'PA\\_barrier\\_time\\_family\\_responsabilities'\n",
       "\\item 'PA\\_barrier\\_\\_tiredness'\n",
       "\\item 'PA\\_barrier\\_places\\_closed\\_dangerous'\n",
       "\\item 'PA\\_barrier\\_money'\n",
       "\\item 'PA\\_barrier\\_time\\_convenience'\n",
       "\\item 'PA\\_barrier\\_hard\\_work'\n",
       "\\item 'PA\\_barrier\\_no\\_interest'\n",
       "\\item 'PA\\_barrier\\_none'\n",
       "\\item 'PA\\_easiness\\_outdoor\\_activities'\n",
       "\\item 'PA\\_easiness\\_professional\\_guidance'\n",
       "\\item 'PA\\_easiness\\_unguided'\n",
       "\\item 'PA\\_easiness\\_music'\n",
       "\\item 'PA\\_easiness\\_collective'\n",
       "\\item 'PA\\_easiness\\_home\\_activity'\n",
       "\\item 'PA\\_easiness\\_family\\_activity'\n",
       "\\item 'PA\\_easiness\\_home\\_space'\n",
       "\\item 'PA\\_easiness\\_home\\_equipament'\n",
       "\\item 'PA\\_easiness\\_others'\n",
       "\\item 'PA\\_weekly\\_frequency'\n",
       "\\item 'PA\\_intensity'\n",
       "\\item 'PA\\_duration'\n",
       "\\item 'PA\\_practice\\_during'\n",
       "\\item 'sedentary\\_time\\_range\\_during'\n",
       "\\item 'sex'\n",
       "\\item 'age\\_range'\n",
       "\\item 'martialStatus'\n",
       "\\item 'co.resident\\_range'\n",
       "\\item 'rooms\\_range'\n",
       "\\item 'income\\_range'\n",
       "\\item 'scholarity'\n",
       "\\end{enumerate*}\n"
      ],
      "text/markdown": [
       "1. 'PA_barrier_time_family_responsabilities'\n",
       "2. 'PA_barrier__tiredness'\n",
       "3. 'PA_barrier_places_closed_dangerous'\n",
       "4. 'PA_barrier_money'\n",
       "5. 'PA_barrier_time_convenience'\n",
       "6. 'PA_barrier_hard_work'\n",
       "7. 'PA_barrier_no_interest'\n",
       "8. 'PA_barrier_none'\n",
       "9. 'PA_easiness_outdoor_activities'\n",
       "10. 'PA_easiness_professional_guidance'\n",
       "11. 'PA_easiness_unguided'\n",
       "12. 'PA_easiness_music'\n",
       "13. 'PA_easiness_collective'\n",
       "14. 'PA_easiness_home_activity'\n",
       "15. 'PA_easiness_family_activity'\n",
       "16. 'PA_easiness_home_space'\n",
       "17. 'PA_easiness_home_equipament'\n",
       "18. 'PA_easiness_others'\n",
       "19. 'PA_weekly_frequency'\n",
       "20. 'PA_intensity'\n",
       "21. 'PA_duration'\n",
       "22. 'PA_practice_during'\n",
       "23. 'sedentary_time_range_during'\n",
       "24. 'sex'\n",
       "25. 'age_range'\n",
       "26. 'martialStatus'\n",
       "27. 'co.resident_range'\n",
       "28. 'rooms_range'\n",
       "29. 'income_range'\n",
       "30. 'scholarity'\n",
       "\n",
       "\n"
      ],
      "text/plain": [
       " [1] \"PA_barrier_time_family_responsabilities\"\n",
       " [2] \"PA_barrier__tiredness\"                  \n",
       " [3] \"PA_barrier_places_closed_dangerous\"     \n",
       " [4] \"PA_barrier_money\"                       \n",
       " [5] \"PA_barrier_time_convenience\"            \n",
       " [6] \"PA_barrier_hard_work\"                   \n",
       " [7] \"PA_barrier_no_interest\"                 \n",
       " [8] \"PA_barrier_none\"                        \n",
       " [9] \"PA_easiness_outdoor_activities\"         \n",
       "[10] \"PA_easiness_professional_guidance\"      \n",
       "[11] \"PA_easiness_unguided\"                   \n",
       "[12] \"PA_easiness_music\"                      \n",
       "[13] \"PA_easiness_collective\"                 \n",
       "[14] \"PA_easiness_home_activity\"              \n",
       "[15] \"PA_easiness_family_activity\"            \n",
       "[16] \"PA_easiness_home_space\"                 \n",
       "[17] \"PA_easiness_home_equipament\"            \n",
       "[18] \"PA_easiness_others\"                     \n",
       "[19] \"PA_weekly_frequency\"                    \n",
       "[20] \"PA_intensity\"                           \n",
       "[21] \"PA_duration\"                            \n",
       "[22] \"PA_practice_during\"                     \n",
       "[23] \"sedentary_time_range_during\"            \n",
       "[24] \"sex\"                                    \n",
       "[25] \"age_range\"                              \n",
       "[26] \"martialStatus\"                          \n",
       "[27] \"co.resident_range\"                      \n",
       "[28] \"rooms_range\"                            \n",
       "[29] \"income_range\"                           \n",
       "[30] \"scholarity\"                             "
      ]
     },
     "metadata": {},
     "output_type": "display_data"
    },
    {
     "data": {
      "text/html": [
       "<table class=\"dataframe\">\n",
       "<caption>A data.frame: 6 × 30</caption>\n",
       "<thead>\n",
       "\t<tr><th></th><th scope=col>PA_barrier_time_family_responsabilities</th><th scope=col>PA_barrier__tiredness</th><th scope=col>PA_barrier_places_closed_dangerous</th><th scope=col>PA_barrier_money</th><th scope=col>PA_barrier_time_convenience</th><th scope=col>PA_barrier_hard_work</th><th scope=col>PA_barrier_no_interest</th><th scope=col>PA_barrier_none</th><th scope=col>PA_easiness_outdoor_activities</th><th scope=col>PA_easiness_professional_guidance</th><th scope=col>...</th><th scope=col>PA_duration</th><th scope=col>PA_practice_during</th><th scope=col>sedentary_time_range_during</th><th scope=col>sex</th><th scope=col>age_range</th><th scope=col>martialStatus</th><th scope=col>co.resident_range</th><th scope=col>rooms_range</th><th scope=col>income_range</th><th scope=col>scholarity</th></tr>\n",
       "\t<tr><th></th><th scope=col>&lt;dbl&gt;</th><th scope=col>&lt;dbl&gt;</th><th scope=col>&lt;dbl&gt;</th><th scope=col>&lt;dbl&gt;</th><th scope=col>&lt;dbl&gt;</th><th scope=col>&lt;dbl&gt;</th><th scope=col>&lt;dbl&gt;</th><th scope=col>&lt;dbl&gt;</th><th scope=col>&lt;dbl&gt;</th><th scope=col>&lt;dbl&gt;</th><th scope=col>...</th><th scope=col>&lt;dbl&gt;</th><th scope=col>&lt;dbl&gt;</th><th scope=col>&lt;dbl&gt;</th><th scope=col>&lt;dbl&gt;</th><th scope=col>&lt;dbl&gt;</th><th scope=col>&lt;dbl&gt;</th><th scope=col>&lt;dbl&gt;</th><th scope=col>&lt;dbl&gt;</th><th scope=col>&lt;dbl&gt;</th><th scope=col>&lt;dbl&gt;</th></tr>\n",
       "</thead>\n",
       "<tbody>\n",
       "\t<tr><th scope=row>1</th><td>0</td><td>0</td><td>1</td><td>0</td><td>0</td><td>1</td><td>0</td><td>0</td><td>0</td><td>0</td><td>...</td><td>1</td><td>0</td><td>1</td><td>1</td><td>2</td><td>1</td><td>1</td><td>1</td><td>4</td><td>4</td></tr>\n",
       "\t<tr><th scope=row>2</th><td>0</td><td>0</td><td>1</td><td>0</td><td>0</td><td>0</td><td>0</td><td>0</td><td>1</td><td>0</td><td>...</td><td>2</td><td>1</td><td>0</td><td>2</td><td>3</td><td>1</td><td>2</td><td>3</td><td>6</td><td>4</td></tr>\n",
       "\t<tr><th scope=row>3</th><td>0</td><td>0</td><td>1</td><td>0</td><td>0</td><td>0</td><td>1</td><td>0</td><td>0</td><td>0</td><td>...</td><td>2</td><td>1</td><td>0</td><td>1</td><td>3</td><td>1</td><td>2</td><td>2</td><td>5</td><td>3</td></tr>\n",
       "\t<tr><th scope=row>4</th><td>0</td><td>0</td><td>1</td><td>0</td><td>0</td><td>0</td><td>0</td><td>0</td><td>1</td><td>1</td><td>...</td><td>2</td><td>1</td><td>0</td><td>1</td><td>3</td><td>1</td><td>1</td><td>1</td><td>3</td><td>4</td></tr>\n",
       "\t<tr><th scope=row>5</th><td>0</td><td>0</td><td>1</td><td>0</td><td>0</td><td>0</td><td>0</td><td>0</td><td>0</td><td>0</td><td>...</td><td>2</td><td>1</td><td>1</td><td>1</td><td>2</td><td>2</td><td>2</td><td>2</td><td>6</td><td>4</td></tr>\n",
       "\t<tr><th scope=row>6</th><td>1</td><td>0</td><td>0</td><td>0</td><td>0</td><td>0</td><td>0</td><td>0</td><td>1</td><td>0</td><td>...</td><td>3</td><td>1</td><td>0</td><td>2</td><td>3</td><td>2</td><td>2</td><td>2</td><td>6</td><td>6</td></tr>\n",
       "</tbody>\n",
       "</table>\n"
      ],
      "text/latex": [
       "A data.frame: 6 × 30\n",
       "\\begin{tabular}{r|lllllllllllllllllllll}\n",
       "  & PA\\_barrier\\_time\\_family\\_responsabilities & PA\\_barrier\\_\\_tiredness & PA\\_barrier\\_places\\_closed\\_dangerous & PA\\_barrier\\_money & PA\\_barrier\\_time\\_convenience & PA\\_barrier\\_hard\\_work & PA\\_barrier\\_no\\_interest & PA\\_barrier\\_none & PA\\_easiness\\_outdoor\\_activities & PA\\_easiness\\_professional\\_guidance & ... & PA\\_duration & PA\\_practice\\_during & sedentary\\_time\\_range\\_during & sex & age\\_range & martialStatus & co.resident\\_range & rooms\\_range & income\\_range & scholarity\\\\\n",
       "  & <dbl> & <dbl> & <dbl> & <dbl> & <dbl> & <dbl> & <dbl> & <dbl> & <dbl> & <dbl> & ... & <dbl> & <dbl> & <dbl> & <dbl> & <dbl> & <dbl> & <dbl> & <dbl> & <dbl> & <dbl>\\\\\n",
       "\\hline\n",
       "\t1 & 0 & 0 & 1 & 0 & 0 & 1 & 0 & 0 & 0 & 0 & ... & 1 & 0 & 1 & 1 & 2 & 1 & 1 & 1 & 4 & 4\\\\\n",
       "\t2 & 0 & 0 & 1 & 0 & 0 & 0 & 0 & 0 & 1 & 0 & ... & 2 & 1 & 0 & 2 & 3 & 1 & 2 & 3 & 6 & 4\\\\\n",
       "\t3 & 0 & 0 & 1 & 0 & 0 & 0 & 1 & 0 & 0 & 0 & ... & 2 & 1 & 0 & 1 & 3 & 1 & 2 & 2 & 5 & 3\\\\\n",
       "\t4 & 0 & 0 & 1 & 0 & 0 & 0 & 0 & 0 & 1 & 1 & ... & 2 & 1 & 0 & 1 & 3 & 1 & 1 & 1 & 3 & 4\\\\\n",
       "\t5 & 0 & 0 & 1 & 0 & 0 & 0 & 0 & 0 & 0 & 0 & ... & 2 & 1 & 1 & 1 & 2 & 2 & 2 & 2 & 6 & 4\\\\\n",
       "\t6 & 1 & 0 & 0 & 0 & 0 & 0 & 0 & 0 & 1 & 0 & ... & 3 & 1 & 0 & 2 & 3 & 2 & 2 & 2 & 6 & 6\\\\\n",
       "\\end{tabular}\n"
      ],
      "text/markdown": [
       "\n",
       "A data.frame: 6 × 30\n",
       "\n",
       "| <!--/--> | PA_barrier_time_family_responsabilities &lt;dbl&gt; | PA_barrier__tiredness &lt;dbl&gt; | PA_barrier_places_closed_dangerous &lt;dbl&gt; | PA_barrier_money &lt;dbl&gt; | PA_barrier_time_convenience &lt;dbl&gt; | PA_barrier_hard_work &lt;dbl&gt; | PA_barrier_no_interest &lt;dbl&gt; | PA_barrier_none &lt;dbl&gt; | PA_easiness_outdoor_activities &lt;dbl&gt; | PA_easiness_professional_guidance &lt;dbl&gt; | ... ... | PA_duration &lt;dbl&gt; | PA_practice_during &lt;dbl&gt; | sedentary_time_range_during &lt;dbl&gt; | sex &lt;dbl&gt; | age_range &lt;dbl&gt; | martialStatus &lt;dbl&gt; | co.resident_range &lt;dbl&gt; | rooms_range &lt;dbl&gt; | income_range &lt;dbl&gt; | scholarity &lt;dbl&gt; |\n",
       "|---|---|---|---|---|---|---|---|---|---|---|---|---|---|---|---|---|---|---|---|---|---|\n",
       "| 1 | 0 | 0 | 1 | 0 | 0 | 1 | 0 | 0 | 0 | 0 | ... | 1 | 0 | 1 | 1 | 2 | 1 | 1 | 1 | 4 | 4 |\n",
       "| 2 | 0 | 0 | 1 | 0 | 0 | 0 | 0 | 0 | 1 | 0 | ... | 2 | 1 | 0 | 2 | 3 | 1 | 2 | 3 | 6 | 4 |\n",
       "| 3 | 0 | 0 | 1 | 0 | 0 | 0 | 1 | 0 | 0 | 0 | ... | 2 | 1 | 0 | 1 | 3 | 1 | 2 | 2 | 5 | 3 |\n",
       "| 4 | 0 | 0 | 1 | 0 | 0 | 0 | 0 | 0 | 1 | 1 | ... | 2 | 1 | 0 | 1 | 3 | 1 | 1 | 1 | 3 | 4 |\n",
       "| 5 | 0 | 0 | 1 | 0 | 0 | 0 | 0 | 0 | 0 | 0 | ... | 2 | 1 | 1 | 1 | 2 | 2 | 2 | 2 | 6 | 4 |\n",
       "| 6 | 1 | 0 | 0 | 0 | 0 | 0 | 0 | 0 | 1 | 0 | ... | 3 | 1 | 0 | 2 | 3 | 2 | 2 | 2 | 6 | 6 |\n",
       "\n"
      ],
      "text/plain": [
       "  PA_barrier_time_family_responsabilities PA_barrier__tiredness\n",
       "1 0                                       0                    \n",
       "2 0                                       0                    \n",
       "3 0                                       0                    \n",
       "4 0                                       0                    \n",
       "5 0                                       0                    \n",
       "6 1                                       0                    \n",
       "  PA_barrier_places_closed_dangerous PA_barrier_money\n",
       "1 1                                  0               \n",
       "2 1                                  0               \n",
       "3 1                                  0               \n",
       "4 1                                  0               \n",
       "5 1                                  0               \n",
       "6 0                                  0               \n",
       "  PA_barrier_time_convenience PA_barrier_hard_work PA_barrier_no_interest\n",
       "1 0                           1                    0                     \n",
       "2 0                           0                    0                     \n",
       "3 0                           0                    1                     \n",
       "4 0                           0                    0                     \n",
       "5 0                           0                    0                     \n",
       "6 0                           0                    0                     \n",
       "  PA_barrier_none PA_easiness_outdoor_activities\n",
       "1 0               0                             \n",
       "2 0               1                             \n",
       "3 0               0                             \n",
       "4 0               1                             \n",
       "5 0               0                             \n",
       "6 0               1                             \n",
       "  PA_easiness_professional_guidance ... PA_duration PA_practice_during\n",
       "1 0                                 ... 1           0                 \n",
       "2 0                                 ... 2           1                 \n",
       "3 0                                 ... 2           1                 \n",
       "4 1                                 ... 2           1                 \n",
       "5 0                                 ... 2           1                 \n",
       "6 0                                 ... 3           1                 \n",
       "  sedentary_time_range_during sex age_range martialStatus co.resident_range\n",
       "1 1                           1   2         1             1                \n",
       "2 0                           2   3         1             2                \n",
       "3 0                           1   3         1             2                \n",
       "4 0                           1   3         1             1                \n",
       "5 1                           1   2         2             2                \n",
       "6 0                           2   3         2             2                \n",
       "  rooms_range income_range scholarity\n",
       "1 1           4            4         \n",
       "2 3           6            4         \n",
       "3 2           5            3         \n",
       "4 1           3            4         \n",
       "5 2           6            4         \n",
       "6 2           6            6         "
      ]
     },
     "metadata": {},
     "output_type": "display_data"
    }
   ],
   "source": [
    "colnames(df_during)\n",
    "head(df_during)"
   ]
  },
  {
   "cell_type": "code",
   "execution_count": 6,
   "metadata": {},
   "outputs": [
    {
     "data": {
      "text/html": [
       "<style>\n",
       ".list-inline {list-style: none; margin:0; padding: 0}\n",
       ".list-inline>li {display: inline-block}\n",
       ".list-inline>li:not(:last-child)::after {content: \"\\00b7\"; padding: 0 .5ex}\n",
       "</style>\n",
       "<ol class=list-inline><li>1250</li><li>18</li></ol>\n"
      ],
      "text/latex": [
       "\\begin{enumerate*}\n",
       "\\item 1250\n",
       "\\item 18\n",
       "\\end{enumerate*}\n"
      ],
      "text/markdown": [
       "1. 1250\n",
       "2. 18\n",
       "\n",
       "\n"
      ],
      "text/plain": [
       "[1] 1250   18"
      ]
     },
     "metadata": {},
     "output_type": "display_data"
    },
    {
     "data": {
      "text/html": [
       "<table class=\"dataframe\">\n",
       "<caption>A data.frame: 6 × 18</caption>\n",
       "<thead>\n",
       "\t<tr><th></th><th scope=col>PA_barrier_time_family_responsabilities</th><th scope=col>PA_barrier__tiredness</th><th scope=col>PA_barrier_places_closed_dangerous</th><th scope=col>PA_barrier_money</th><th scope=col>PA_barrier_time_convenience</th><th scope=col>PA_barrier_hard_work</th><th scope=col>PA_barrier_no_interest</th><th scope=col>PA_barrier_none</th><th scope=col>PA_easiness_outdoor_activities</th><th scope=col>PA_easiness_professional_guidance</th><th scope=col>PA_easiness_unguided</th><th scope=col>PA_easiness_music</th><th scope=col>PA_easiness_collective</th><th scope=col>PA_easiness_home_activity</th><th scope=col>PA_easiness_family_activity</th><th scope=col>PA_easiness_home_space</th><th scope=col>PA_easiness_home_equipament</th><th scope=col>PA_easiness_others</th></tr>\n",
       "\t<tr><th></th><th scope=col>&lt;fct&gt;</th><th scope=col>&lt;fct&gt;</th><th scope=col>&lt;fct&gt;</th><th scope=col>&lt;fct&gt;</th><th scope=col>&lt;fct&gt;</th><th scope=col>&lt;fct&gt;</th><th scope=col>&lt;fct&gt;</th><th scope=col>&lt;fct&gt;</th><th scope=col>&lt;fct&gt;</th><th scope=col>&lt;fct&gt;</th><th scope=col>&lt;fct&gt;</th><th scope=col>&lt;fct&gt;</th><th scope=col>&lt;fct&gt;</th><th scope=col>&lt;fct&gt;</th><th scope=col>&lt;fct&gt;</th><th scope=col>&lt;fct&gt;</th><th scope=col>&lt;fct&gt;</th><th scope=col>&lt;fct&gt;</th></tr>\n",
       "</thead>\n",
       "<tbody>\n",
       "\t<tr><th scope=row>1</th><td>0</td><td>0</td><td>1</td><td>0</td><td>0</td><td>1</td><td>0</td><td>0</td><td>0</td><td>0</td><td>0</td><td>0</td><td>0</td><td>1</td><td>0</td><td>0</td><td>0</td><td>0</td></tr>\n",
       "\t<tr><th scope=row>2</th><td>0</td><td>0</td><td>1</td><td>0</td><td>0</td><td>0</td><td>0</td><td>0</td><td>1</td><td>0</td><td>0</td><td>0</td><td>0</td><td>0</td><td>0</td><td>1</td><td>1</td><td>0</td></tr>\n",
       "\t<tr><th scope=row>3</th><td>0</td><td>0</td><td>1</td><td>0</td><td>0</td><td>0</td><td>1</td><td>0</td><td>0</td><td>0</td><td>1</td><td>0</td><td>0</td><td>0</td><td>0</td><td>0</td><td>0</td><td>0</td></tr>\n",
       "\t<tr><th scope=row>4</th><td>0</td><td>0</td><td>1</td><td>0</td><td>0</td><td>0</td><td>0</td><td>0</td><td>1</td><td>1</td><td>0</td><td>0</td><td>0</td><td>1</td><td>0</td><td>1</td><td>1</td><td>0</td></tr>\n",
       "\t<tr><th scope=row>5</th><td>0</td><td>0</td><td>1</td><td>0</td><td>0</td><td>0</td><td>0</td><td>0</td><td>0</td><td>0</td><td>0</td><td>0</td><td>0</td><td>1</td><td>1</td><td>1</td><td>1</td><td>0</td></tr>\n",
       "\t<tr><th scope=row>6</th><td>1</td><td>0</td><td>0</td><td>0</td><td>0</td><td>0</td><td>0</td><td>0</td><td>1</td><td>0</td><td>0</td><td>0</td><td>0</td><td>0</td><td>0</td><td>0</td><td>1</td><td>0</td></tr>\n",
       "</tbody>\n",
       "</table>\n"
      ],
      "text/latex": [
       "A data.frame: 6 × 18\n",
       "\\begin{tabular}{r|llllllllllllllllll}\n",
       "  & PA\\_barrier\\_time\\_family\\_responsabilities & PA\\_barrier\\_\\_tiredness & PA\\_barrier\\_places\\_closed\\_dangerous & PA\\_barrier\\_money & PA\\_barrier\\_time\\_convenience & PA\\_barrier\\_hard\\_work & PA\\_barrier\\_no\\_interest & PA\\_barrier\\_none & PA\\_easiness\\_outdoor\\_activities & PA\\_easiness\\_professional\\_guidance & PA\\_easiness\\_unguided & PA\\_easiness\\_music & PA\\_easiness\\_collective & PA\\_easiness\\_home\\_activity & PA\\_easiness\\_family\\_activity & PA\\_easiness\\_home\\_space & PA\\_easiness\\_home\\_equipament & PA\\_easiness\\_others\\\\\n",
       "  & <fct> & <fct> & <fct> & <fct> & <fct> & <fct> & <fct> & <fct> & <fct> & <fct> & <fct> & <fct> & <fct> & <fct> & <fct> & <fct> & <fct> & <fct>\\\\\n",
       "\\hline\n",
       "\t1 & 0 & 0 & 1 & 0 & 0 & 1 & 0 & 0 & 0 & 0 & 0 & 0 & 0 & 1 & 0 & 0 & 0 & 0\\\\\n",
       "\t2 & 0 & 0 & 1 & 0 & 0 & 0 & 0 & 0 & 1 & 0 & 0 & 0 & 0 & 0 & 0 & 1 & 1 & 0\\\\\n",
       "\t3 & 0 & 0 & 1 & 0 & 0 & 0 & 1 & 0 & 0 & 0 & 1 & 0 & 0 & 0 & 0 & 0 & 0 & 0\\\\\n",
       "\t4 & 0 & 0 & 1 & 0 & 0 & 0 & 0 & 0 & 1 & 1 & 0 & 0 & 0 & 1 & 0 & 1 & 1 & 0\\\\\n",
       "\t5 & 0 & 0 & 1 & 0 & 0 & 0 & 0 & 0 & 0 & 0 & 0 & 0 & 0 & 1 & 1 & 1 & 1 & 0\\\\\n",
       "\t6 & 1 & 0 & 0 & 0 & 0 & 0 & 0 & 0 & 1 & 0 & 0 & 0 & 0 & 0 & 0 & 0 & 1 & 0\\\\\n",
       "\\end{tabular}\n"
      ],
      "text/markdown": [
       "\n",
       "A data.frame: 6 × 18\n",
       "\n",
       "| <!--/--> | PA_barrier_time_family_responsabilities &lt;fct&gt; | PA_barrier__tiredness &lt;fct&gt; | PA_barrier_places_closed_dangerous &lt;fct&gt; | PA_barrier_money &lt;fct&gt; | PA_barrier_time_convenience &lt;fct&gt; | PA_barrier_hard_work &lt;fct&gt; | PA_barrier_no_interest &lt;fct&gt; | PA_barrier_none &lt;fct&gt; | PA_easiness_outdoor_activities &lt;fct&gt; | PA_easiness_professional_guidance &lt;fct&gt; | PA_easiness_unguided &lt;fct&gt; | PA_easiness_music &lt;fct&gt; | PA_easiness_collective &lt;fct&gt; | PA_easiness_home_activity &lt;fct&gt; | PA_easiness_family_activity &lt;fct&gt; | PA_easiness_home_space &lt;fct&gt; | PA_easiness_home_equipament &lt;fct&gt; | PA_easiness_others &lt;fct&gt; |\n",
       "|---|---|---|---|---|---|---|---|---|---|---|---|---|---|---|---|---|---|---|\n",
       "| 1 | 0 | 0 | 1 | 0 | 0 | 1 | 0 | 0 | 0 | 0 | 0 | 0 | 0 | 1 | 0 | 0 | 0 | 0 |\n",
       "| 2 | 0 | 0 | 1 | 0 | 0 | 0 | 0 | 0 | 1 | 0 | 0 | 0 | 0 | 0 | 0 | 1 | 1 | 0 |\n",
       "| 3 | 0 | 0 | 1 | 0 | 0 | 0 | 1 | 0 | 0 | 0 | 1 | 0 | 0 | 0 | 0 | 0 | 0 | 0 |\n",
       "| 4 | 0 | 0 | 1 | 0 | 0 | 0 | 0 | 0 | 1 | 1 | 0 | 0 | 0 | 1 | 0 | 1 | 1 | 0 |\n",
       "| 5 | 0 | 0 | 1 | 0 | 0 | 0 | 0 | 0 | 0 | 0 | 0 | 0 | 0 | 1 | 1 | 1 | 1 | 0 |\n",
       "| 6 | 1 | 0 | 0 | 0 | 0 | 0 | 0 | 0 | 1 | 0 | 0 | 0 | 0 | 0 | 0 | 0 | 1 | 0 |\n",
       "\n"
      ],
      "text/plain": [
       "  PA_barrier_time_family_responsabilities PA_barrier__tiredness\n",
       "1 0                                       0                    \n",
       "2 0                                       0                    \n",
       "3 0                                       0                    \n",
       "4 0                                       0                    \n",
       "5 0                                       0                    \n",
       "6 1                                       0                    \n",
       "  PA_barrier_places_closed_dangerous PA_barrier_money\n",
       "1 1                                  0               \n",
       "2 1                                  0               \n",
       "3 1                                  0               \n",
       "4 1                                  0               \n",
       "5 1                                  0               \n",
       "6 0                                  0               \n",
       "  PA_barrier_time_convenience PA_barrier_hard_work PA_barrier_no_interest\n",
       "1 0                           1                    0                     \n",
       "2 0                           0                    0                     \n",
       "3 0                           0                    1                     \n",
       "4 0                           0                    0                     \n",
       "5 0                           0                    0                     \n",
       "6 0                           0                    0                     \n",
       "  PA_barrier_none PA_easiness_outdoor_activities\n",
       "1 0               0                             \n",
       "2 0               1                             \n",
       "3 0               0                             \n",
       "4 0               1                             \n",
       "5 0               0                             \n",
       "6 0               1                             \n",
       "  PA_easiness_professional_guidance PA_easiness_unguided PA_easiness_music\n",
       "1 0                                 0                    0                \n",
       "2 0                                 0                    0                \n",
       "3 0                                 1                    0                \n",
       "4 1                                 0                    0                \n",
       "5 0                                 0                    0                \n",
       "6 0                                 0                    0                \n",
       "  PA_easiness_collective PA_easiness_home_activity PA_easiness_family_activity\n",
       "1 0                      1                         0                          \n",
       "2 0                      0                         0                          \n",
       "3 0                      0                         0                          \n",
       "4 0                      1                         0                          \n",
       "5 0                      1                         1                          \n",
       "6 0                      0                         0                          \n",
       "  PA_easiness_home_space PA_easiness_home_equipament PA_easiness_others\n",
       "1 0                      0                           0                 \n",
       "2 1                      1                           0                 \n",
       "3 0                      0                           0                 \n",
       "4 1                      1                           0                 \n",
       "5 1                      1                           0                 \n",
       "6 0                      1                           0                 "
      ]
     },
     "metadata": {},
     "output_type": "display_data"
    }
   ],
   "source": [
    "\n",
    "df_during[1:18] <- lapply(df_during[1:18], as.factor)\n",
    "df_during_barriers_facilitators <- df_during[, 1:18]\n",
    "dim(df_during_barriers_facilitators)\n",
    "head(df_during_barriers_facilitators)\n"
   ]
  },
  {
   "cell_type": "markdown",
   "metadata": {},
   "source": [
    "## Clustering "
   ]
  },
  {
   "cell_type": "markdown",
   "metadata": {},
   "source": [
    "### Finding the best K"
   ]
  },
  {
   "cell_type": "code",
   "execution_count": 83,
   "metadata": {},
   "outputs": [
    {
     "data": {
      "image/png": "[encoded data removed]",
      "text/plain": [
       "plot without title"
      ]
     },
     "metadata": {
      "image/png": {
       "height": 420,
       "width": 420
      }
     },
     "output_type": "display_data"
    }
   ],
   "source": [
    "cost <- c()\n",
    "for(num_clusters in 1:15){\n",
    "    set.seed(1)\n",
    "    kmode <- kmodes(df_during_barriers_facilitators, num_clusters, iter.max = 20, weighted = FALSE)\n",
    "    cost <<- append(cost, sum(kmode$withindiff))\n",
    "}\n",
    "\n",
    "p = ggplot() + \n",
    "    geom_line(data = data.frame(cost, K), aes(x = K,  y = cost), size=1, color=\"red\") +\n",
    "    geom_point(data = data.frame(cost, K), aes(x = K,  y = cost), size=3) +\n",
    "    xlab('Number of Clusters') +\n",
    "    ylab('Cost')\n",
    "\n",
    "p"
   ]
  },
  {
   "cell_type": "markdown",
   "metadata": {},
   "source": [
    "### Exploring K = 7"
   ]
  },
  {
   "cell_type": "markdown",
   "metadata": {},
   "source": [
    "Adding clusters to the dataset"
   ]
  },
  {
   "cell_type": "code",
   "execution_count": 8,
   "metadata": {},
   "outputs": [
    {
     "data": {
      "text/html": [
       "<table class=\"dataframe\">\n",
       "<caption>A data.frame: 6 × 31</caption>\n",
       "<thead>\n",
       "\t<tr><th></th><th scope=col>PA_barrier_time_family_responsabilities</th><th scope=col>PA_barrier__tiredness</th><th scope=col>PA_barrier_places_closed_dangerous</th><th scope=col>PA_barrier_money</th><th scope=col>PA_barrier_time_convenience</th><th scope=col>PA_barrier_hard_work</th><th scope=col>PA_barrier_no_interest</th><th scope=col>PA_barrier_none</th><th scope=col>PA_easiness_outdoor_activities</th><th scope=col>PA_easiness_professional_guidance</th><th scope=col>...</th><th scope=col>PA_practice_during</th><th scope=col>sedentary_time_range_during</th><th scope=col>sex</th><th scope=col>age_range</th><th scope=col>martialStatus</th><th scope=col>co.resident_range</th><th scope=col>rooms_range</th><th scope=col>income_range</th><th scope=col>scholarity</th><th scope=col>cluster</th></tr>\n",
       "\t<tr><th></th><th scope=col>&lt;fct&gt;</th><th scope=col>&lt;fct&gt;</th><th scope=col>&lt;fct&gt;</th><th scope=col>&lt;fct&gt;</th><th scope=col>&lt;fct&gt;</th><th scope=col>&lt;fct&gt;</th><th scope=col>&lt;fct&gt;</th><th scope=col>&lt;fct&gt;</th><th scope=col>&lt;fct&gt;</th><th scope=col>&lt;fct&gt;</th><th scope=col>...</th><th scope=col>&lt;dbl&gt;</th><th scope=col>&lt;dbl&gt;</th><th scope=col>&lt;dbl&gt;</th><th scope=col>&lt;dbl&gt;</th><th scope=col>&lt;dbl&gt;</th><th scope=col>&lt;dbl&gt;</th><th scope=col>&lt;dbl&gt;</th><th scope=col>&lt;dbl&gt;</th><th scope=col>&lt;dbl&gt;</th><th scope=col>&lt;int&gt;</th></tr>\n",
       "</thead>\n",
       "<tbody>\n",
       "\t<tr><th scope=row>1</th><td>0</td><td>0</td><td>1</td><td>0</td><td>0</td><td>1</td><td>0</td><td>0</td><td>0</td><td>0</td><td>...</td><td>0</td><td>1</td><td>1</td><td>2</td><td>1</td><td>1</td><td>1</td><td>4</td><td>4</td><td>1</td></tr>\n",
       "\t<tr><th scope=row>2</th><td>0</td><td>0</td><td>1</td><td>0</td><td>0</td><td>0</td><td>0</td><td>0</td><td>1</td><td>0</td><td>...</td><td>1</td><td>0</td><td>2</td><td>3</td><td>1</td><td>2</td><td>3</td><td>6</td><td>4</td><td>2</td></tr>\n",
       "\t<tr><th scope=row>3</th><td>0</td><td>0</td><td>1</td><td>0</td><td>0</td><td>0</td><td>1</td><td>0</td><td>0</td><td>0</td><td>...</td><td>1</td><td>0</td><td>1</td><td>3</td><td>1</td><td>2</td><td>2</td><td>5</td><td>3</td><td>6</td></tr>\n",
       "\t<tr><th scope=row>4</th><td>0</td><td>0</td><td>1</td><td>0</td><td>0</td><td>0</td><td>0</td><td>0</td><td>1</td><td>1</td><td>...</td><td>1</td><td>0</td><td>1</td><td>3</td><td>1</td><td>1</td><td>1</td><td>3</td><td>4</td><td>2</td></tr>\n",
       "\t<tr><th scope=row>5</th><td>0</td><td>0</td><td>1</td><td>0</td><td>0</td><td>0</td><td>0</td><td>0</td><td>0</td><td>0</td><td>...</td><td>1</td><td>1</td><td>1</td><td>2</td><td>2</td><td>2</td><td>2</td><td>6</td><td>4</td><td>2</td></tr>\n",
       "\t<tr><th scope=row>6</th><td>1</td><td>0</td><td>0</td><td>0</td><td>0</td><td>0</td><td>0</td><td>0</td><td>1</td><td>0</td><td>...</td><td>1</td><td>0</td><td>2</td><td>3</td><td>2</td><td>2</td><td>2</td><td>6</td><td>6</td><td>6</td></tr>\n",
       "</tbody>\n",
       "</table>\n"
      ],
      "text/latex": [
       "A data.frame: 6 × 31\n",
       "\\begin{tabular}{r|lllllllllllllllllllll}\n",
       "  & PA\\_barrier\\_time\\_family\\_responsabilities & PA\\_barrier\\_\\_tiredness & PA\\_barrier\\_places\\_closed\\_dangerous & PA\\_barrier\\_money & PA\\_barrier\\_time\\_convenience & PA\\_barrier\\_hard\\_work & PA\\_barrier\\_no\\_interest & PA\\_barrier\\_none & PA\\_easiness\\_outdoor\\_activities & PA\\_easiness\\_professional\\_guidance & ... & PA\\_practice\\_during & sedentary\\_time\\_range\\_during & sex & age\\_range & martialStatus & co.resident\\_range & rooms\\_range & income\\_range & scholarity & cluster\\\\\n",
       "  & <fct> & <fct> & <fct> & <fct> & <fct> & <fct> & <fct> & <fct> & <fct> & <fct> & ... & <dbl> & <dbl> & <dbl> & <dbl> & <dbl> & <dbl> & <dbl> & <dbl> & <dbl> & <int>\\\\\n",
       "\\hline\n",
       "\t1 & 0 & 0 & 1 & 0 & 0 & 1 & 0 & 0 & 0 & 0 & ... & 0 & 1 & 1 & 2 & 1 & 1 & 1 & 4 & 4 & 1\\\\\n",
       "\t2 & 0 & 0 & 1 & 0 & 0 & 0 & 0 & 0 & 1 & 0 & ... & 1 & 0 & 2 & 3 & 1 & 2 & 3 & 6 & 4 & 2\\\\\n",
       "\t3 & 0 & 0 & 1 & 0 & 0 & 0 & 1 & 0 & 0 & 0 & ... & 1 & 0 & 1 & 3 & 1 & 2 & 2 & 5 & 3 & 6\\\\\n",
       "\t4 & 0 & 0 & 1 & 0 & 0 & 0 & 0 & 0 & 1 & 1 & ... & 1 & 0 & 1 & 3 & 1 & 1 & 1 & 3 & 4 & 2\\\\\n",
       "\t5 & 0 & 0 & 1 & 0 & 0 & 0 & 0 & 0 & 0 & 0 & ... & 1 & 1 & 1 & 2 & 2 & 2 & 2 & 6 & 4 & 2\\\\\n",
       "\t6 & 1 & 0 & 0 & 0 & 0 & 0 & 0 & 0 & 1 & 0 & ... & 1 & 0 & 2 & 3 & 2 & 2 & 2 & 6 & 6 & 6\\\\\n",
       "\\end{tabular}\n"
      ],
      "text/markdown": [
       "\n",
       "A data.frame: 6 × 31\n",
       "\n",
       "| <!--/--> | PA_barrier_time_family_responsabilities &lt;fct&gt; | PA_barrier__tiredness &lt;fct&gt; | PA_barrier_places_closed_dangerous &lt;fct&gt; | PA_barrier_money &lt;fct&gt; | PA_barrier_time_convenience &lt;fct&gt; | PA_barrier_hard_work &lt;fct&gt; | PA_barrier_no_interest &lt;fct&gt; | PA_barrier_none &lt;fct&gt; | PA_easiness_outdoor_activities &lt;fct&gt; | PA_easiness_professional_guidance &lt;fct&gt; | ... ... | PA_practice_during &lt;dbl&gt; | sedentary_time_range_during &lt;dbl&gt; | sex &lt;dbl&gt; | age_range &lt;dbl&gt; | martialStatus &lt;dbl&gt; | co.resident_range &lt;dbl&gt; | rooms_range &lt;dbl&gt; | income_range &lt;dbl&gt; | scholarity &lt;dbl&gt; | cluster &lt;int&gt; |\n",
       "|---|---|---|---|---|---|---|---|---|---|---|---|---|---|---|---|---|---|---|---|---|---|\n",
       "| 1 | 0 | 0 | 1 | 0 | 0 | 1 | 0 | 0 | 0 | 0 | ... | 0 | 1 | 1 | 2 | 1 | 1 | 1 | 4 | 4 | 1 |\n",
       "| 2 | 0 | 0 | 1 | 0 | 0 | 0 | 0 | 0 | 1 | 0 | ... | 1 | 0 | 2 | 3 | 1 | 2 | 3 | 6 | 4 | 2 |\n",
       "| 3 | 0 | 0 | 1 | 0 | 0 | 0 | 1 | 0 | 0 | 0 | ... | 1 | 0 | 1 | 3 | 1 | 2 | 2 | 5 | 3 | 6 |\n",
       "| 4 | 0 | 0 | 1 | 0 | 0 | 0 | 0 | 0 | 1 | 1 | ... | 1 | 0 | 1 | 3 | 1 | 1 | 1 | 3 | 4 | 2 |\n",
       "| 5 | 0 | 0 | 1 | 0 | 0 | 0 | 0 | 0 | 0 | 0 | ... | 1 | 1 | 1 | 2 | 2 | 2 | 2 | 6 | 4 | 2 |\n",
       "| 6 | 1 | 0 | 0 | 0 | 0 | 0 | 0 | 0 | 1 | 0 | ... | 1 | 0 | 2 | 3 | 2 | 2 | 2 | 6 | 6 | 6 |\n",
       "\n"
      ],
      "text/plain": [
       "  PA_barrier_time_family_responsabilities PA_barrier__tiredness\n",
       "1 0                                       0                    \n",
       "2 0                                       0                    \n",
       "3 0                                       0                    \n",
       "4 0                                       0                    \n",
       "5 0                                       0                    \n",
       "6 1                                       0                    \n",
       "  PA_barrier_places_closed_dangerous PA_barrier_money\n",
       "1 1                                  0               \n",
       "2 1                                  0               \n",
       "3 1                                  0               \n",
       "4 1                                  0               \n",
       "5 1                                  0               \n",
       "6 0                                  0               \n",
       "  PA_barrier_time_convenience PA_barrier_hard_work PA_barrier_no_interest\n",
       "1 0                           1                    0                     \n",
       "2 0                           0                    0                     \n",
       "3 0                           0                    1                     \n",
       "4 0                           0                    0                     \n",
       "5 0                           0                    0                     \n",
       "6 0                           0                    0                     \n",
       "  PA_barrier_none PA_easiness_outdoor_activities\n",
       "1 0               0                             \n",
       "2 0               1                             \n",
       "3 0               0                             \n",
       "4 0               1                             \n",
       "5 0               0                             \n",
       "6 0               1                             \n",
       "  PA_easiness_professional_guidance ... PA_practice_during\n",
       "1 0                                 ... 0                 \n",
       "2 0                                 ... 1                 \n",
       "3 0                                 ... 1                 \n",
       "4 1                                 ... 1                 \n",
       "5 0                                 ... 1                 \n",
       "6 0                                 ... 1                 \n",
       "  sedentary_time_range_during sex age_range martialStatus co.resident_range\n",
       "1 1                           1   2         1             1                \n",
       "2 0                           2   3         1             2                \n",
       "3 0                           1   3         1             2                \n",
       "4 0                           1   3         1             1                \n",
       "5 1                           1   2         2             2                \n",
       "6 0                           2   3         2             2                \n",
       "  rooms_range income_range scholarity cluster\n",
       "1 1           4            4          1      \n",
       "2 3           6            4          2      \n",
       "3 2           5            3          6      \n",
       "4 1           3            4          2      \n",
       "5 2           6            4          2      \n",
       "6 2           6            6          6      "
      ]
     },
     "metadata": {},
     "output_type": "display_data"
    },
    {
     "data": {
      "text/html": [
       "<style>\n",
       ".list-inline {list-style: none; margin:0; padding: 0}\n",
       ".list-inline>li {display: inline-block}\n",
       ".list-inline>li:not(:last-child)::after {content: \"\\00b7\"; padding: 0 .5ex}\n",
       "</style>\n",
       "<ol class=list-inline><li>'PA_barrier_time_family_responsabilities'</li><li>'PA_barrier__tiredness'</li><li>'PA_barrier_places_closed_dangerous'</li><li>'PA_barrier_money'</li><li>'PA_barrier_time_convenience'</li><li>'PA_barrier_hard_work'</li><li>'PA_barrier_no_interest'</li><li>'PA_barrier_none'</li><li>'PA_easiness_outdoor_activities'</li><li>'PA_easiness_professional_guidance'</li><li>'PA_easiness_unguided'</li><li>'PA_easiness_music'</li><li>'PA_easiness_collective'</li><li>'PA_easiness_home_activity'</li><li>'PA_easiness_family_activity'</li><li>'PA_easiness_home_space'</li><li>'PA_easiness_home_equipament'</li><li>'PA_easiness_others'</li><li>'PA_weekly_frequency'</li><li>'PA_intensity'</li><li>'PA_duration'</li><li>'PA_practice_during'</li><li>'sedentary_time_range_during'</li><li>'sex'</li><li>'age_range'</li><li>'martialStatus'</li><li>'co.resident_range'</li><li>'rooms_range'</li><li>'income_range'</li><li>'scholarity'</li><li>'cluster'</li></ol>\n"
      ],
      "text/latex": [
       "\\begin{enumerate*}\n",
       "\\item 'PA\\_barrier\\_time\\_family\\_responsabilities'\n",
       "\\item 'PA\\_barrier\\_\\_tiredness'\n",
       "\\item 'PA\\_barrier\\_places\\_closed\\_dangerous'\n",
       "\\item 'PA\\_barrier\\_money'\n",
       "\\item 'PA\\_barrier\\_time\\_convenience'\n",
       "\\item 'PA\\_barrier\\_hard\\_work'\n",
       "\\item 'PA\\_barrier\\_no\\_interest'\n",
       "\\item 'PA\\_barrier\\_none'\n",
       "\\item 'PA\\_easiness\\_outdoor\\_activities'\n",
       "\\item 'PA\\_easiness\\_professional\\_guidance'\n",
       "\\item 'PA\\_easiness\\_unguided'\n",
       "\\item 'PA\\_easiness\\_music'\n",
       "\\item 'PA\\_easiness\\_collective'\n",
       "\\item 'PA\\_easiness\\_home\\_activity'\n",
       "\\item 'PA\\_easiness\\_family\\_activity'\n",
       "\\item 'PA\\_easiness\\_home\\_space'\n",
       "\\item 'PA\\_easiness\\_home\\_equipament'\n",
       "\\item 'PA\\_easiness\\_others'\n",
       "\\item 'PA\\_weekly\\_frequency'\n",
       "\\item 'PA\\_intensity'\n",
       "\\item 'PA\\_duration'\n",
       "\\item 'PA\\_practice\\_during'\n",
       "\\item 'sedentary\\_time\\_range\\_during'\n",
       "\\item 'sex'\n",
       "\\item 'age\\_range'\n",
       "\\item 'martialStatus'\n",
       "\\item 'co.resident\\_range'\n",
       "\\item 'rooms\\_range'\n",
       "\\item 'income\\_range'\n",
       "\\item 'scholarity'\n",
       "\\item 'cluster'\n",
       "\\end{enumerate*}\n"
      ],
      "text/markdown": [
       "1. 'PA_barrier_time_family_responsabilities'\n",
       "2. 'PA_barrier__tiredness'\n",
       "3. 'PA_barrier_places_closed_dangerous'\n",
       "4. 'PA_barrier_money'\n",
       "5. 'PA_barrier_time_convenience'\n",
       "6. 'PA_barrier_hard_work'\n",
       "7. 'PA_barrier_no_interest'\n",
       "8. 'PA_barrier_none'\n",
       "9. 'PA_easiness_outdoor_activities'\n",
       "10. 'PA_easiness_professional_guidance'\n",
       "11. 'PA_easiness_unguided'\n",
       "12. 'PA_easiness_music'\n",
       "13. 'PA_easiness_collective'\n",
       "14. 'PA_easiness_home_activity'\n",
       "15. 'PA_easiness_family_activity'\n",
       "16. 'PA_easiness_home_space'\n",
       "17. 'PA_easiness_home_equipament'\n",
       "18. 'PA_easiness_others'\n",
       "19. 'PA_weekly_frequency'\n",
       "20. 'PA_intensity'\n",
       "21. 'PA_duration'\n",
       "22. 'PA_practice_during'\n",
       "23. 'sedentary_time_range_during'\n",
       "24. 'sex'\n",
       "25. 'age_range'\n",
       "26. 'martialStatus'\n",
       "27. 'co.resident_range'\n",
       "28. 'rooms_range'\n",
       "29. 'income_range'\n",
       "30. 'scholarity'\n",
       "31. 'cluster'\n",
       "\n",
       "\n"
      ],
      "text/plain": [
       " [1] \"PA_barrier_time_family_responsabilities\"\n",
       " [2] \"PA_barrier__tiredness\"                  \n",
       " [3] \"PA_barrier_places_closed_dangerous\"     \n",
       " [4] \"PA_barrier_money\"                       \n",
       " [5] \"PA_barrier_time_convenience\"            \n",
       " [6] \"PA_barrier_hard_work\"                   \n",
       " [7] \"PA_barrier_no_interest\"                 \n",
       " [8] \"PA_barrier_none\"                        \n",
       " [9] \"PA_easiness_outdoor_activities\"         \n",
       "[10] \"PA_easiness_professional_guidance\"      \n",
       "[11] \"PA_easiness_unguided\"                   \n",
       "[12] \"PA_easiness_music\"                      \n",
       "[13] \"PA_easiness_collective\"                 \n",
       "[14] \"PA_easiness_home_activity\"              \n",
       "[15] \"PA_easiness_family_activity\"            \n",
       "[16] \"PA_easiness_home_space\"                 \n",
       "[17] \"PA_easiness_home_equipament\"            \n",
       "[18] \"PA_easiness_others\"                     \n",
       "[19] \"PA_weekly_frequency\"                    \n",
       "[20] \"PA_intensity\"                           \n",
       "[21] \"PA_duration\"                            \n",
       "[22] \"PA_practice_during\"                     \n",
       "[23] \"sedentary_time_range_during\"            \n",
       "[24] \"sex\"                                    \n",
       "[25] \"age_range\"                              \n",
       "[26] \"martialStatus\"                          \n",
       "[27] \"co.resident_range\"                      \n",
       "[28] \"rooms_range\"                            \n",
       "[29] \"income_range\"                           \n",
       "[30] \"scholarity\"                             \n",
       "[31] \"cluster\"                                "
      ]
     },
     "metadata": {},
     "output_type": "display_data"
    }
   ],
   "source": [
    "set.seed(1)\n",
    "k = 7\n",
    "kmode <- kmodes(df_during_barriers_facilitators, k, iter.max = 20, weighted = FALSE)\n",
    "df_during$cluster <- kmode$cluster\n",
    "head(df_during)\n",
    "colnames(df_during)"
   ]
  },
  {
   "cell_type": "markdown",
   "metadata": {},
   "source": [
    "#### Practice of Exercise "
   ]
  },
  {
   "cell_type": "code",
   "execution_count": 213,
   "metadata": {},
   "outputs": [
    {
     "data": {
      "image/png": "[encoded data removed]",
      "text/plain": [
       "plot without title"
      ]
     },
     "metadata": {
      "image/png": {
       "height": 420,
       "width": 420
      }
     },
     "output_type": "display_data"
    }
   ],
   "source": [
    "myplots <- list()\n",
    "colors <- c('deepskyblue4', 'darkgreen', 'chocolate1', 'blueviolet', 'firebrick4', 'deeppink3', 'darkslategray')\n",
    "for(cl in 1:k){\n",
    "  \n",
    "  plt <- ggplot() + geom_histogram( \n",
    "          data=df_during[df_during$cluster == cl,], \n",
    "          aes(x=PA_practice_during, y=..count../sum(..count..)*100),\n",
    "          fill=colors[cl],\n",
    "          bins = 3,\n",
    "          position=position_dodge()\n",
    "        ) + ylab(\"Relative Frequency\")\n",
    "  myplots[[cl]] <- plt \n",
    "}\n",
    "wrap_plots(myplots)"
   ]
  },
  {
   "cell_type": "markdown",
   "metadata": {},
   "source": [
    "#### Sedentary Behavior"
   ]
  },
  {
   "cell_type": "code",
   "execution_count": 214,
   "metadata": {},
   "outputs": [
    {
     "data": {
      "image/png": "[encoded data removed]",
      "text/plain": [
       "plot without title"
      ]
     },
     "metadata": {
      "image/png": {
       "height": 420,
       "width": 420
      }
     },
     "output_type": "display_data"
    }
   ],
   "source": [
    "myplots <- list()\n",
    "colors <- c('deepskyblue4', 'darkgreen', 'chocolate1', 'blueviolet', 'firebrick4', 'deeppink3', 'darkslategray')\n",
    "for(cl in 1:k){\n",
    "  \n",
    "  plt <- ggplot() + geom_histogram( \n",
    "          data=df_during[df_during$cluster == cl,], \n",
    "          aes(x=sedentary_time_range_during\t, y=..count../sum(..count..)*100),\n",
    "          fill=colors[cl],\n",
    "          bins = 3,\n",
    "          position=position_dodge()\n",
    "        ) + ylab(\"Relative Frequency\")\n",
    "  myplots[[cl]] <- plt \n",
    "}\n",
    "wrap_plots(myplots)"
   ]
  },
  {
   "cell_type": "markdown",
   "metadata": {},
   "source": [
    "#### Exercise Intensity"
   ]
  },
  {
   "cell_type": "code",
   "execution_count": 223,
   "metadata": {},
   "outputs": [
    {
     "data": {
      "image/png": "[encoded data removed]",
      "text/plain": [
       "plot without title"
      ]
     },
     "metadata": {
      "image/png": {
       "height": 420,
       "width": 420
      }
     },
     "output_type": "display_data"
    }
   ],
   "source": [
    "myplots <- list()\n",
    "colors <- c('deepskyblue4', 'darkgreen', 'chocolate1', 'blueviolet', 'firebrick4', 'deeppink3', 'darkslategray')\n",
    "for(cl in 1:k){\n",
    "  \n",
    "  plt <- ggplot() + geom_histogram( \n",
    "          data=df_during[df_during$cluster == cl,], \n",
    "          aes(x=PA_intensity, y=..count../sum(..count..)*100),\n",
    "          fill=colors[cl],\n",
    "          bins = 4,\n",
    "          position=position_dodge()\n",
    "        ) + ylab(\"Relative Frequency\")\n",
    "  myplots[[cl]] <- plt \n",
    "}\n",
    "wrap_plots(myplots)"
   ]
  },
  {
   "cell_type": "markdown",
   "metadata": {},
   "source": [
    "#### Exercise Duration"
   ]
  },
  {
   "cell_type": "code",
   "execution_count": 225,
   "metadata": {},
   "outputs": [
    {
     "data": {
      "image/png": "[encoded data removed]",
      "text/plain": [
       "plot without title"
      ]
     },
     "metadata": {
      "image/png": {
       "height": 420,
       "width": 420
      }
     },
     "output_type": "display_data"
    }
   ],
   "source": [
    "myplots <- list()\n",
    "colors <- c('deepskyblue4', 'darkgreen', 'chocolate1', 'blueviolet', 'firebrick4', 'deeppink3', 'darkslategray')\n",
    "for(cl in 1:k){\n",
    "  \n",
    "  plt <- ggplot() + geom_histogram( \n",
    "          data=df_during[df_during$cluster == cl,], \n",
    "          aes(x=PA_duration, y=..count../sum(..count..)*100),\n",
    "          fill=colors[cl],\n",
    "          bins = 4,\n",
    "          position=position_dodge()\n",
    "        ) + ylab(\"Relative Frequency\")\n",
    "  myplots[[cl]] <- plt \n",
    "}\n",
    "wrap_plots(myplots)"
   ]
  },
  {
   "cell_type": "markdown",
   "metadata": {},
   "source": [
    "#### Exercise Weekly Frequency"
   ]
  },
  {
   "cell_type": "code",
   "execution_count": 228,
   "metadata": {},
   "outputs": [
    {
     "data": {
      "image/png": "[encoded data removed]",
      "text/plain": [
       "plot without title"
      ]
     },
     "metadata": {
      "image/png": {
       "height": 420,
       "width": 420
      }
     },
     "output_type": "display_data"
    }
   ],
   "source": [
    "\n",
    "myplots <- list()\n",
    "colors <- c('deepskyblue4', 'darkgreen', 'chocolate1', 'blueviolet', 'firebrick4', 'deeppink3', 'darkslategray')\n",
    "for(cl in 1:k){\n",
    "  \n",
    "  plt <- ggplot() + geom_histogram( \n",
    "          data=df_during[df_during$cluster == cl,], \n",
    "          aes(x=PA_weekly_frequency, y=..count../sum(..count..)*100),\n",
    "          fill=colors[cl],\n",
    "          bins = 4,\n",
    "          position=position_dodge()\n",
    "        ) + ylab(\"Relative Frequency\")\n",
    "  myplots[[cl]] <- plt \n",
    "}\n",
    "wrap_plots(myplots)\n",
    "\n"
   ]
  },
  {
   "cell_type": "markdown",
   "metadata": {},
   "source": [
    "#### Income Range"
   ]
  },
  {
   "cell_type": "code",
   "execution_count": 233,
   "metadata": {},
   "outputs": [
    {
     "data": {
      "image/png": "[encoded data removed]",
      "text/plain": [
       "plot without title"
      ]
     },
     "metadata": {
      "image/png": {
       "height": 420,
       "width": 420
      }
     },
     "output_type": "display_data"
    }
   ],
   "source": [
    "\n",
    "myplots <- list()\n",
    "colors <- c('deepskyblue4', 'darkgreen', 'chocolate1', 'blueviolet', 'firebrick4', 'deeppink3', 'darkslategray')\n",
    "for(cl in 1:k){\n",
    "  \n",
    "  plt <- ggplot() + geom_histogram( \n",
    "          data=df_during[df_during$cluster == cl,], \n",
    "          aes(x=income_range, y=..count../sum(..count..)*100),\n",
    "          fill=colors[cl],\n",
    "          bins = 6,\n",
    "          position=position_dodge()\n",
    "        ) + ylab(\"Relative Frequency\")\n",
    "  myplots[[cl]] <- plt \n",
    "}\n",
    "wrap_plots(myplots)\n",
    "\n"
   ]
  },
  {
   "cell_type": "markdown",
   "metadata": {},
   "source": [
    "#### Age Range"
   ]
  },
  {
   "cell_type": "code",
   "execution_count": 238,
   "metadata": {},
   "outputs": [
    {
     "data": {
      "image/png": "[encoded data removed]",
      "text/plain": [
       "plot without title"
      ]
     },
     "metadata": {
      "image/png": {
       "height": 420,
       "width": 420
      }
     },
     "output_type": "display_data"
    }
   ],
   "source": [
    "\n",
    "myplots <- list()\n",
    "colors <- c('deepskyblue4', 'darkgreen', 'chocolate1', 'blueviolet', 'firebrick4', 'deeppink3', 'darkslategray')\n",
    "for(cl in 1:k){\n",
    "  \n",
    "  plt <- ggplot() + geom_histogram( \n",
    "          data=df_during[df_during$cluster == cl,], \n",
    "          aes(x=age_range, y=..count../sum(..count..)*100),\n",
    "          fill=colors[cl],\n",
    "          bins = 8,\n",
    "          position=position_dodge()\n",
    "        ) + ylab(\"Relative Frequency\")\n",
    "  myplots[[cl]] <- plt \n",
    "}\n",
    "wrap_plots(myplots)\n",
    "\n"
   ]
  },
  {
   "cell_type": "markdown",
   "metadata": {},
   "source": [
    "#### Sex"
   ]
  },
  {
   "cell_type": "code",
   "execution_count": 245,
   "metadata": {},
   "outputs": [
    {
     "data": {
      "image/png": "[encoded data removed]",
      "text/plain": [
       "plot without title"
      ]
     },
     "metadata": {
      "image/png": {
       "height": 420,
       "width": 420
      }
     },
     "output_type": "display_data"
    }
   ],
   "source": [
    "\n",
    "myplots <- list()\n",
    "colors <- c('deepskyblue4', 'darkgreen', 'chocolate1', 'blueviolet', 'firebrick4', 'deeppink3', 'darkslategray')\n",
    "for(cl in 1:k){\n",
    "  \n",
    "  plt <- ggplot() + geom_histogram( \n",
    "          data=df_during[df_during$cluster == cl,], \n",
    "          aes(x=sex, y=..count../sum(..count..)*100),\n",
    "          fill=colors[cl],\n",
    "          bins = 3,\n",
    "          position=position_dodge()\n",
    "        ) + ylab(\"Relative Frequency\")\n",
    "  myplots[[cl]] <- plt \n",
    "}\n",
    "wrap_plots(myplots)\n",
    "\n"
   ]
  },
  {
   "cell_type": "markdown",
   "metadata": {},
   "source": [
    "#### Scholarity"
   ]
  },
  {
   "cell_type": "code",
   "execution_count": 251,
   "metadata": {},
   "outputs": [
    {
     "data": {
      "image/png": "[encoded data removed]",
      "text/plain": [
       "plot without title"
      ]
     },
     "metadata": {
      "image/png": {
       "height": 420,
       "width": 420
      }
     },
     "output_type": "display_data"
    }
   ],
   "source": [
    "\n",
    "myplots <- list()\n",
    "colors <- c('deepskyblue4', 'darkgreen', 'chocolate1', 'blueviolet', 'firebrick4', 'deeppink3', 'darkslategray')\n",
    "for(cl in 1:k){\n",
    "  \n",
    "  plt <- ggplot() + geom_histogram( \n",
    "          data=df_during[df_during$cluster == cl,], \n",
    "          aes(x=scholarity, y=..count../sum(..count..)*100),\n",
    "          fill=colors[cl],\n",
    "          bins = 6,\n",
    "          position=position_dodge()\n",
    "        ) + ylab(\"Relative Frequency\")\n",
    "  myplots[[cl]] <- plt \n",
    "}\n",
    "wrap_plots(myplots)\n",
    "\n"
   ]
  }
 ],
 "metadata": {
  "kernelspec": {
   "display_name": "R",
   "language": "R",
   "name": "ir"
  },
  "language_info": {
   "codemirror_mode": "r",
   "file_extension": ".r",
   "mimetype": "text/x-r-source",
   "name": "R",
   "pygments_lexer": "r",
   "version": "4.1.0"
  },
  "orig_nbformat": 4
 },
 "nbformat": 4,
 "nbformat_minor": 2
}
