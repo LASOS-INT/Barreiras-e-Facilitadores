{
 "cells": [
  {
   "cell_type": "markdown",
   "metadata": {},
   "source": [
    "## Importing packages"
   ]
  },
  {
   "cell_type": "code",
   "execution_count": 176,
   "metadata": {
    "vscode": {
     "languageId": "r"
    }
   },
   "outputs": [
    {
     "data": {
      "text/html": [
       "<ol>\n",
       "\t<li>TRUE</li>\n",
       "\t<li>TRUE</li>\n",
       "\t<li>TRUE</li>\n",
       "\t<li>TRUE</li>\n",
       "\t<li>TRUE</li>\n",
       "\t<li>TRUE</li>\n",
       "\t<li>TRUE</li>\n",
       "\t<li>TRUE</li>\n",
       "\t<li>TRUE</li>\n",
       "\t<li>TRUE</li>\n",
       "\t<li>TRUE</li>\n",
       "\t<li>TRUE</li>\n",
       "\t<li>TRUE</li>\n",
       "\t<li>TRUE</li>\n",
       "\t<li>TRUE</li>\n",
       "\t<li>TRUE</li>\n",
       "\t<li>TRUE</li>\n",
       "\t<li>TRUE</li>\n",
       "\t<li>TRUE</li>\n",
       "\t<li>TRUE</li>\n",
       "\t<li>TRUE</li>\n",
       "\t<li>TRUE</li>\n",
       "\t<li>TRUE</li>\n",
       "\t<li>TRUE</li>\n",
       "\t<li>TRUE</li>\n",
       "\t<li>TRUE</li>\n",
       "\t<li>TRUE</li>\n",
       "\t<li>TRUE</li>\n",
       "\t<li>TRUE</li>\n",
       "\t<li>TRUE</li>\n",
       "\t<li>TRUE</li>\n",
       "\t<li>TRUE</li>\n",
       "\t<li>TRUE</li>\n",
       "\t<li>TRUE</li>\n",
       "\t<li>TRUE</li>\n",
       "\t<li>TRUE</li>\n",
       "\t<li>TRUE</li>\n",
       "</ol>\n"
      ],
      "text/latex": [
       "\\begin{enumerate}\n",
       "\\item TRUE\n",
       "\\item TRUE\n",
       "\\item TRUE\n",
       "\\item TRUE\n",
       "\\item TRUE\n",
       "\\item TRUE\n",
       "\\item TRUE\n",
       "\\item TRUE\n",
       "\\item TRUE\n",
       "\\item TRUE\n",
       "\\item TRUE\n",
       "\\item TRUE\n",
       "\\item TRUE\n",
       "\\item TRUE\n",
       "\\item TRUE\n",
       "\\item TRUE\n",
       "\\item TRUE\n",
       "\\item TRUE\n",
       "\\item TRUE\n",
       "\\item TRUE\n",
       "\\item TRUE\n",
       "\\item TRUE\n",
       "\\item TRUE\n",
       "\\item TRUE\n",
       "\\item TRUE\n",
       "\\item TRUE\n",
       "\\item TRUE\n",
       "\\item TRUE\n",
       "\\item TRUE\n",
       "\\item TRUE\n",
       "\\item TRUE\n",
       "\\item TRUE\n",
       "\\item TRUE\n",
       "\\item TRUE\n",
       "\\item TRUE\n",
       "\\item TRUE\n",
       "\\item TRUE\n",
       "\\end{enumerate}\n"
      ],
      "text/markdown": [
       "1. TRUE\n",
       "2. TRUE\n",
       "3. TRUE\n",
       "4. TRUE\n",
       "5. TRUE\n",
       "6. TRUE\n",
       "7. TRUE\n",
       "8. TRUE\n",
       "9. TRUE\n",
       "10. TRUE\n",
       "11. TRUE\n",
       "12. TRUE\n",
       "13. TRUE\n",
       "14. TRUE\n",
       "15. TRUE\n",
       "16. TRUE\n",
       "17. TRUE\n",
       "18. TRUE\n",
       "19. TRUE\n",
       "20. TRUE\n",
       "21. TRUE\n",
       "22. TRUE\n",
       "23. TRUE\n",
       "24. TRUE\n",
       "25. TRUE\n",
       "26. TRUE\n",
       "27. TRUE\n",
       "28. TRUE\n",
       "29. TRUE\n",
       "30. TRUE\n",
       "31. TRUE\n",
       "32. TRUE\n",
       "33. TRUE\n",
       "34. TRUE\n",
       "35. TRUE\n",
       "36. TRUE\n",
       "37. TRUE\n",
       "\n",
       "\n"
      ],
      "text/plain": [
       "[[1]]\n",
       "[1] TRUE\n",
       "\n",
       "[[2]]\n",
       "[1] TRUE\n",
       "\n",
       "[[3]]\n",
       "[1] TRUE\n",
       "\n",
       "[[4]]\n",
       "[1] TRUE\n",
       "\n",
       "[[5]]\n",
       "[1] TRUE\n",
       "\n",
       "[[6]]\n",
       "[1] TRUE\n",
       "\n",
       "[[7]]\n",
       "[1] TRUE\n",
       "\n",
       "[[8]]\n",
       "[1] TRUE\n",
       "\n",
       "[[9]]\n",
       "[1] TRUE\n",
       "\n",
       "[[10]]\n",
       "[1] TRUE\n",
       "\n",
       "[[11]]\n",
       "[1] TRUE\n",
       "\n",
       "[[12]]\n",
       "[1] TRUE\n",
       "\n",
       "[[13]]\n",
       "[1] TRUE\n",
       "\n",
       "[[14]]\n",
       "[1] TRUE\n",
       "\n",
       "[[15]]\n",
       "[1] TRUE\n",
       "\n",
       "[[16]]\n",
       "[1] TRUE\n",
       "\n",
       "[[17]]\n",
       "[1] TRUE\n",
       "\n",
       "[[18]]\n",
       "[1] TRUE\n",
       "\n",
       "[[19]]\n",
       "[1] TRUE\n",
       "\n",
       "[[20]]\n",
       "[1] TRUE\n",
       "\n",
       "[[21]]\n",
       "[1] TRUE\n",
       "\n",
       "[[22]]\n",
       "[1] TRUE\n",
       "\n",
       "[[23]]\n",
       "[1] TRUE\n",
       "\n",
       "[[24]]\n",
       "[1] TRUE\n",
       "\n",
       "[[25]]\n",
       "[1] TRUE\n",
       "\n",
       "[[26]]\n",
       "[1] TRUE\n",
       "\n",
       "[[27]]\n",
       "[1] TRUE\n",
       "\n",
       "[[28]]\n",
       "[1] TRUE\n",
       "\n",
       "[[29]]\n",
       "[1] TRUE\n",
       "\n",
       "[[30]]\n",
       "[1] TRUE\n",
       "\n",
       "[[31]]\n",
       "[1] TRUE\n",
       "\n",
       "[[32]]\n",
       "[1] TRUE\n",
       "\n",
       "[[33]]\n",
       "[1] TRUE\n",
       "\n",
       "[[34]]\n",
       "[1] TRUE\n",
       "\n",
       "[[35]]\n",
       "[1] TRUE\n",
       "\n",
       "[[36]]\n",
       "[1] TRUE\n",
       "\n",
       "[[37]]\n",
       "[1] TRUE\n"
      ]
     },
     "metadata": {},
     "output_type": "display_data"
    }
   ],
   "source": [
    "library(here, help, pos = 2, lib.loc = NULL)\n",
    "source(here('Modules','modules.R'))\n",
    "#install_all_packages()\n",
    "load_library_packages()"
   ]
  },
  {
   "cell_type": "markdown",
   "metadata": {},
   "source": [
    "## Importing and Cleaning dataset"
   ]
  },
  {
   "cell_type": "code",
   "execution_count": 177,
   "metadata": {
    "vscode": {
     "languageId": "r"
    }
   },
   "outputs": [
    {
     "data": {
      "text/html": [
       "'numeric'"
      ],
      "text/latex": [
       "'numeric'"
      ],
      "text/markdown": [
       "'numeric'"
      ],
      "text/plain": [
       "[1] \"numeric\""
      ]
     },
     "metadata": {},
     "output_type": "display_data"
    },
    {
     "data": {
      "text/html": [
       "<style>\n",
       ".list-inline {list-style: none; margin:0; padding: 0}\n",
       ".list-inline>li {display: inline-block}\n",
       ".list-inline>li:not(:last-child)::after {content: \"\\00b7\"; padding: 0 .5ex}\n",
       "</style>\n",
       "<ol class=list-inline><li>1250</li><li>44</li></ol>\n"
      ],
      "text/latex": [
       "\\begin{enumerate*}\n",
       "\\item 1250\n",
       "\\item 44\n",
       "\\end{enumerate*}\n"
      ],
      "text/markdown": [
       "1. 1250\n",
       "2. 44\n",
       "\n",
       "\n"
      ],
      "text/plain": [
       "[1] 1250   44"
      ]
     },
     "metadata": {},
     "output_type": "display_data"
    },
    {
     "data": {
      "text/html": [
       "<table class=\"dataframe\">\n",
       "<caption>A data.frame: 6 × 44</caption>\n",
       "<thead>\n",
       "\t<tr><th></th><th scope=col>PA_barrier_time_family_responsabilities</th><th scope=col>PA_barrier__tiredness</th><th scope=col>PA_barrier_places_closed_dangerous</th><th scope=col>PA_barrier_money</th><th scope=col>PA_barrier_time_convenience</th><th scope=col>PA_barrier_hard_work</th><th scope=col>PA_barrier_no_interest</th><th scope=col>PA_barrier_none</th><th scope=col>PA_easiness_outdoor_activities</th><th scope=col>PA_easiness_professional_guidance</th><th scope=col>...</th><th scope=col>soccer</th><th scope=col>tennis</th><th scope=col>volleyball</th><th scope=col>basketball</th><th scope=col>swimming</th><th scope=col>surfing</th><th scope=col>yoga</th><th scope=col>pilates</th><th scope=col>fighting</th><th scope=col>other_sports</th></tr>\n",
       "\t<tr><th></th><th scope=col>&lt;dbl&gt;</th><th scope=col>&lt;dbl&gt;</th><th scope=col>&lt;dbl&gt;</th><th scope=col>&lt;dbl&gt;</th><th scope=col>&lt;dbl&gt;</th><th scope=col>&lt;dbl&gt;</th><th scope=col>&lt;dbl&gt;</th><th scope=col>&lt;dbl&gt;</th><th scope=col>&lt;dbl&gt;</th><th scope=col>&lt;dbl&gt;</th><th scope=col>...</th><th scope=col>&lt;dbl&gt;</th><th scope=col>&lt;dbl&gt;</th><th scope=col>&lt;dbl&gt;</th><th scope=col>&lt;dbl&gt;</th><th scope=col>&lt;dbl&gt;</th><th scope=col>&lt;dbl&gt;</th><th scope=col>&lt;dbl&gt;</th><th scope=col>&lt;dbl&gt;</th><th scope=col>&lt;dbl&gt;</th><th scope=col>&lt;dbl&gt;</th></tr>\n",
       "</thead>\n",
       "<tbody>\n",
       "\t<tr><th scope=row>1</th><td>0</td><td>0</td><td>1</td><td>0</td><td>0</td><td>1</td><td>0</td><td>0</td><td>0</td><td>0</td><td>...</td><td>0</td><td>0</td><td>0</td><td>0</td><td>0</td><td>0</td><td>0</td><td>0</td><td>0</td><td>0</td></tr>\n",
       "\t<tr><th scope=row>2</th><td>0</td><td>0</td><td>1</td><td>0</td><td>0</td><td>0</td><td>0</td><td>0</td><td>1</td><td>0</td><td>...</td><td>0</td><td>0</td><td>0</td><td>0</td><td>0</td><td>0</td><td>0</td><td>0</td><td>0</td><td>0</td></tr>\n",
       "\t<tr><th scope=row>3</th><td>0</td><td>0</td><td>1</td><td>0</td><td>0</td><td>0</td><td>1</td><td>0</td><td>0</td><td>0</td><td>...</td><td>0</td><td>0</td><td>0</td><td>0</td><td>0</td><td>0</td><td>0</td><td>0</td><td>0</td><td>1</td></tr>\n",
       "\t<tr><th scope=row>4</th><td>0</td><td>0</td><td>1</td><td>0</td><td>0</td><td>0</td><td>0</td><td>0</td><td>1</td><td>1</td><td>...</td><td>0</td><td>0</td><td>0</td><td>0</td><td>0</td><td>0</td><td>0</td><td>0</td><td>0</td><td>0</td></tr>\n",
       "\t<tr><th scope=row>5</th><td>0</td><td>0</td><td>1</td><td>0</td><td>0</td><td>0</td><td>0</td><td>0</td><td>0</td><td>0</td><td>...</td><td>0</td><td>0</td><td>0</td><td>0</td><td>0</td><td>0</td><td>0</td><td>0</td><td>0</td><td>0</td></tr>\n",
       "\t<tr><th scope=row>6</th><td>1</td><td>0</td><td>0</td><td>0</td><td>0</td><td>0</td><td>0</td><td>0</td><td>1</td><td>0</td><td>...</td><td>0</td><td>0</td><td>0</td><td>0</td><td>0</td><td>0</td><td>0</td><td>0</td><td>0</td><td>1</td></tr>\n",
       "</tbody>\n",
       "</table>\n"
      ],
      "text/latex": [
       "A data.frame: 6 × 44\n",
       "\\begin{tabular}{r|lllllllllllllllllllll}\n",
       "  & PA\\_barrier\\_time\\_family\\_responsabilities & PA\\_barrier\\_\\_tiredness & PA\\_barrier\\_places\\_closed\\_dangerous & PA\\_barrier\\_money & PA\\_barrier\\_time\\_convenience & PA\\_barrier\\_hard\\_work & PA\\_barrier\\_no\\_interest & PA\\_barrier\\_none & PA\\_easiness\\_outdoor\\_activities & PA\\_easiness\\_professional\\_guidance & ... & soccer & tennis & volleyball & basketball & swimming & surfing & yoga & pilates & fighting & other\\_sports\\\\\n",
       "  & <dbl> & <dbl> & <dbl> & <dbl> & <dbl> & <dbl> & <dbl> & <dbl> & <dbl> & <dbl> & ... & <dbl> & <dbl> & <dbl> & <dbl> & <dbl> & <dbl> & <dbl> & <dbl> & <dbl> & <dbl>\\\\\n",
       "\\hline\n",
       "\t1 & 0 & 0 & 1 & 0 & 0 & 1 & 0 & 0 & 0 & 0 & ... & 0 & 0 & 0 & 0 & 0 & 0 & 0 & 0 & 0 & 0\\\\\n",
       "\t2 & 0 & 0 & 1 & 0 & 0 & 0 & 0 & 0 & 1 & 0 & ... & 0 & 0 & 0 & 0 & 0 & 0 & 0 & 0 & 0 & 0\\\\\n",
       "\t3 & 0 & 0 & 1 & 0 & 0 & 0 & 1 & 0 & 0 & 0 & ... & 0 & 0 & 0 & 0 & 0 & 0 & 0 & 0 & 0 & 1\\\\\n",
       "\t4 & 0 & 0 & 1 & 0 & 0 & 0 & 0 & 0 & 1 & 1 & ... & 0 & 0 & 0 & 0 & 0 & 0 & 0 & 0 & 0 & 0\\\\\n",
       "\t5 & 0 & 0 & 1 & 0 & 0 & 0 & 0 & 0 & 0 & 0 & ... & 0 & 0 & 0 & 0 & 0 & 0 & 0 & 0 & 0 & 0\\\\\n",
       "\t6 & 1 & 0 & 0 & 0 & 0 & 0 & 0 & 0 & 1 & 0 & ... & 0 & 0 & 0 & 0 & 0 & 0 & 0 & 0 & 0 & 1\\\\\n",
       "\\end{tabular}\n"
      ],
      "text/markdown": [
       "\n",
       "A data.frame: 6 × 44\n",
       "\n",
       "| <!--/--> | PA_barrier_time_family_responsabilities &lt;dbl&gt; | PA_barrier__tiredness &lt;dbl&gt; | PA_barrier_places_closed_dangerous &lt;dbl&gt; | PA_barrier_money &lt;dbl&gt; | PA_barrier_time_convenience &lt;dbl&gt; | PA_barrier_hard_work &lt;dbl&gt; | PA_barrier_no_interest &lt;dbl&gt; | PA_barrier_none &lt;dbl&gt; | PA_easiness_outdoor_activities &lt;dbl&gt; | PA_easiness_professional_guidance &lt;dbl&gt; | ... ... | soccer &lt;dbl&gt; | tennis &lt;dbl&gt; | volleyball &lt;dbl&gt; | basketball &lt;dbl&gt; | swimming &lt;dbl&gt; | surfing &lt;dbl&gt; | yoga &lt;dbl&gt; | pilates &lt;dbl&gt; | fighting &lt;dbl&gt; | other_sports &lt;dbl&gt; |\n",
       "|---|---|---|---|---|---|---|---|---|---|---|---|---|---|---|---|---|---|---|---|---|---|\n",
       "| 1 | 0 | 0 | 1 | 0 | 0 | 1 | 0 | 0 | 0 | 0 | ... | 0 | 0 | 0 | 0 | 0 | 0 | 0 | 0 | 0 | 0 |\n",
       "| 2 | 0 | 0 | 1 | 0 | 0 | 0 | 0 | 0 | 1 | 0 | ... | 0 | 0 | 0 | 0 | 0 | 0 | 0 | 0 | 0 | 0 |\n",
       "| 3 | 0 | 0 | 1 | 0 | 0 | 0 | 1 | 0 | 0 | 0 | ... | 0 | 0 | 0 | 0 | 0 | 0 | 0 | 0 | 0 | 1 |\n",
       "| 4 | 0 | 0 | 1 | 0 | 0 | 0 | 0 | 0 | 1 | 1 | ... | 0 | 0 | 0 | 0 | 0 | 0 | 0 | 0 | 0 | 0 |\n",
       "| 5 | 0 | 0 | 1 | 0 | 0 | 0 | 0 | 0 | 0 | 0 | ... | 0 | 0 | 0 | 0 | 0 | 0 | 0 | 0 | 0 | 0 |\n",
       "| 6 | 1 | 0 | 0 | 0 | 0 | 0 | 0 | 0 | 1 | 0 | ... | 0 | 0 | 0 | 0 | 0 | 0 | 0 | 0 | 0 | 1 |\n",
       "\n"
      ],
      "text/plain": [
       "  PA_barrier_time_family_responsabilities PA_barrier__tiredness\n",
       "1 0                                       0                    \n",
       "2 0                                       0                    \n",
       "3 0                                       0                    \n",
       "4 0                                       0                    \n",
       "5 0                                       0                    \n",
       "6 1                                       0                    \n",
       "  PA_barrier_places_closed_dangerous PA_barrier_money\n",
       "1 1                                  0               \n",
       "2 1                                  0               \n",
       "3 1                                  0               \n",
       "4 1                                  0               \n",
       "5 1                                  0               \n",
       "6 0                                  0               \n",
       "  PA_barrier_time_convenience PA_barrier_hard_work PA_barrier_no_interest\n",
       "1 0                           1                    0                     \n",
       "2 0                           0                    0                     \n",
       "3 0                           0                    1                     \n",
       "4 0                           0                    0                     \n",
       "5 0                           0                    0                     \n",
       "6 0                           0                    0                     \n",
       "  PA_barrier_none PA_easiness_outdoor_activities\n",
       "1 0               0                             \n",
       "2 0               1                             \n",
       "3 0               0                             \n",
       "4 0               1                             \n",
       "5 0               0                             \n",
       "6 0               1                             \n",
       "  PA_easiness_professional_guidance ... soccer tennis volleyball basketball\n",
       "1 0                                 ... 0      0      0          0         \n",
       "2 0                                 ... 0      0      0          0         \n",
       "3 0                                 ... 0      0      0          0         \n",
       "4 1                                 ... 0      0      0          0         \n",
       "5 0                                 ... 0      0      0          0         \n",
       "6 0                                 ... 0      0      0          0         \n",
       "  swimming surfing yoga pilates fighting other_sports\n",
       "1 0        0       0    0       0        0           \n",
       "2 0        0       0    0       0        0           \n",
       "3 0        0       0    0       0        1           \n",
       "4 0        0       0    0       0        0           \n",
       "5 0        0       0    0       0        0           \n",
       "6 0        0       0    0       0        1           "
      ]
     },
     "metadata": {},
     "output_type": "display_data"
    }
   ],
   "source": [
    "df_during <- read_excel(path = here('Data','during_dataset.xlsx'))\n",
    "df_during <- data.frame(df_during)\n",
    "unique(sapply(df_during, class))\n",
    "df_during <- df_during[complete.cases(df_during), ]\n",
    "dim(df_during)\n",
    "head(df_during)"
   ]
  },
  {
   "cell_type": "markdown",
   "metadata": {},
   "source": [
    "### Converting dataset types and labels"
   ]
  },
  {
   "cell_type": "code",
   "execution_count": 178,
   "metadata": {
    "vscode": {
     "languageId": "r"
    }
   },
   "outputs": [
    {
     "data": {
      "text/html": [
       "900"
      ],
      "text/latex": [
       "900"
      ],
      "text/markdown": [
       "900"
      ],
      "text/plain": [
       "[1] 900"
      ]
     },
     "metadata": {},
     "output_type": "display_data"
    }
   ],
   "source": [
    "df_during$PA_intensity[df_during$PA_intensity == 4] <- 0\n",
    "df_during$PA_duration[df_during$PA_duration == 5] <- 0\n",
    "df_during$PA_weekly_frequency[df_during$PA_weekly_frequency == 4] <- 0\n",
    "df_during$PA_practice_during <- ifelse(df_during$PA_practice_during == 0, 1, 0)\n",
    "df_during$sedentary_time_range_during[df_during$sedentary_time_range_during < 5] <- 0\n",
    "df_during$sedentary_time_range_during[df_during$sedentary_time_range_during == 5] <- 1\n",
    "sum(df_during[, \"PA_practice_during\"])"
   ]
  },
  {
   "cell_type": "code",
   "execution_count": 179,
   "metadata": {
    "vscode": {
     "languageId": "r"
    }
   },
   "outputs": [],
   "source": [
    "sports <- c(\"running\",\"hiking\",\"cycling\",\n",
    "            \"muscle_training\",\"soccer\",\"tennis\",\n",
    "            \"volleyball\",\"basketball\",\"swimming\",\n",
    "            \"surfing\",\"yoga\",\"pilates\",\"fighting\",\"other_sports\")\n",
    "\n",
    "df_during$PA_number <- rowSums(df_during[, sports])"
   ]
  },
  {
   "cell_type": "markdown",
   "metadata": {},
   "source": [
    "### Separing barriers from dataset"
   ]
  },
  {
   "cell_type": "code",
   "execution_count": 180,
   "metadata": {
    "vscode": {
     "languageId": "r"
    }
   },
   "outputs": [
    {
     "data": {
      "text/html": [
       "<style>\n",
       ".list-inline {list-style: none; margin:0; padding: 0}\n",
       ".list-inline>li {display: inline-block}\n",
       ".list-inline>li:not(:last-child)::after {content: \"\\00b7\"; padding: 0 .5ex}\n",
       "</style>\n",
       "<ol class=list-inline><li>'PA_barrier_time_family_responsabilities'</li><li>'PA_barrier__tiredness'</li><li>'PA_barrier_places_closed_dangerous'</li><li>'PA_barrier_money'</li><li>'PA_barrier_time_convenience'</li><li>'PA_barrier_hard_work'</li><li>'PA_barrier_no_interest'</li><li>'PA_barrier_none'</li><li>'PA_easiness_outdoor_activities'</li><li>'PA_easiness_professional_guidance'</li><li>'PA_easiness_unguided'</li><li>'PA_easiness_music'</li><li>'PA_easiness_collective'</li><li>'PA_easiness_home_activity'</li><li>'PA_easiness_family_activity'</li><li>'PA_easiness_home_space'</li><li>'PA_easiness_home_equipament'</li><li>'PA_easiness_others'</li><li>'PA_weekly_frequency'</li><li>'PA_intensity'</li><li>'PA_duration'</li><li>'PA_practice_during'</li><li>'sedentary_time_range_during'</li><li>'sex'</li><li>'age_range'</li><li>'martialStatus'</li><li>'co.resident_range'</li><li>'rooms_range'</li><li>'income_range'</li><li>'scholarity'</li><li>'running'</li><li>'hiking'</li><li>'cycling'</li><li>'muscle_training'</li><li>'soccer'</li><li>'tennis'</li><li>'volleyball'</li><li>'basketball'</li><li>'swimming'</li><li>'surfing'</li><li>'yoga'</li><li>'pilates'</li><li>'fighting'</li><li>'other_sports'</li><li>'PA_number'</li></ol>\n"
      ],
      "text/latex": [
       "\\begin{enumerate*}\n",
       "\\item 'PA\\_barrier\\_time\\_family\\_responsabilities'\n",
       "\\item 'PA\\_barrier\\_\\_tiredness'\n",
       "\\item 'PA\\_barrier\\_places\\_closed\\_dangerous'\n",
       "\\item 'PA\\_barrier\\_money'\n",
       "\\item 'PA\\_barrier\\_time\\_convenience'\n",
       "\\item 'PA\\_barrier\\_hard\\_work'\n",
       "\\item 'PA\\_barrier\\_no\\_interest'\n",
       "\\item 'PA\\_barrier\\_none'\n",
       "\\item 'PA\\_easiness\\_outdoor\\_activities'\n",
       "\\item 'PA\\_easiness\\_professional\\_guidance'\n",
       "\\item 'PA\\_easiness\\_unguided'\n",
       "\\item 'PA\\_easiness\\_music'\n",
       "\\item 'PA\\_easiness\\_collective'\n",
       "\\item 'PA\\_easiness\\_home\\_activity'\n",
       "\\item 'PA\\_easiness\\_family\\_activity'\n",
       "\\item 'PA\\_easiness\\_home\\_space'\n",
       "\\item 'PA\\_easiness\\_home\\_equipament'\n",
       "\\item 'PA\\_easiness\\_others'\n",
       "\\item 'PA\\_weekly\\_frequency'\n",
       "\\item 'PA\\_intensity'\n",
       "\\item 'PA\\_duration'\n",
       "\\item 'PA\\_practice\\_during'\n",
       "\\item 'sedentary\\_time\\_range\\_during'\n",
       "\\item 'sex'\n",
       "\\item 'age\\_range'\n",
       "\\item 'martialStatus'\n",
       "\\item 'co.resident\\_range'\n",
       "\\item 'rooms\\_range'\n",
       "\\item 'income\\_range'\n",
       "\\item 'scholarity'\n",
       "\\item 'running'\n",
       "\\item 'hiking'\n",
       "\\item 'cycling'\n",
       "\\item 'muscle\\_training'\n",
       "\\item 'soccer'\n",
       "\\item 'tennis'\n",
       "\\item 'volleyball'\n",
       "\\item 'basketball'\n",
       "\\item 'swimming'\n",
       "\\item 'surfing'\n",
       "\\item 'yoga'\n",
       "\\item 'pilates'\n",
       "\\item 'fighting'\n",
       "\\item 'other\\_sports'\n",
       "\\item 'PA\\_number'\n",
       "\\end{enumerate*}\n"
      ],
      "text/markdown": [
       "1. 'PA_barrier_time_family_responsabilities'\n",
       "2. 'PA_barrier__tiredness'\n",
       "3. 'PA_barrier_places_closed_dangerous'\n",
       "4. 'PA_barrier_money'\n",
       "5. 'PA_barrier_time_convenience'\n",
       "6. 'PA_barrier_hard_work'\n",
       "7. 'PA_barrier_no_interest'\n",
       "8. 'PA_barrier_none'\n",
       "9. 'PA_easiness_outdoor_activities'\n",
       "10. 'PA_easiness_professional_guidance'\n",
       "11. 'PA_easiness_unguided'\n",
       "12. 'PA_easiness_music'\n",
       "13. 'PA_easiness_collective'\n",
       "14. 'PA_easiness_home_activity'\n",
       "15. 'PA_easiness_family_activity'\n",
       "16. 'PA_easiness_home_space'\n",
       "17. 'PA_easiness_home_equipament'\n",
       "18. 'PA_easiness_others'\n",
       "19. 'PA_weekly_frequency'\n",
       "20. 'PA_intensity'\n",
       "21. 'PA_duration'\n",
       "22. 'PA_practice_during'\n",
       "23. 'sedentary_time_range_during'\n",
       "24. 'sex'\n",
       "25. 'age_range'\n",
       "26. 'martialStatus'\n",
       "27. 'co.resident_range'\n",
       "28. 'rooms_range'\n",
       "29. 'income_range'\n",
       "30. 'scholarity'\n",
       "31. 'running'\n",
       "32. 'hiking'\n",
       "33. 'cycling'\n",
       "34. 'muscle_training'\n",
       "35. 'soccer'\n",
       "36. 'tennis'\n",
       "37. 'volleyball'\n",
       "38. 'basketball'\n",
       "39. 'swimming'\n",
       "40. 'surfing'\n",
       "41. 'yoga'\n",
       "42. 'pilates'\n",
       "43. 'fighting'\n",
       "44. 'other_sports'\n",
       "45. 'PA_number'\n",
       "\n",
       "\n"
      ],
      "text/plain": [
       " [1] \"PA_barrier_time_family_responsabilities\"\n",
       " [2] \"PA_barrier__tiredness\"                  \n",
       " [3] \"PA_barrier_places_closed_dangerous\"     \n",
       " [4] \"PA_barrier_money\"                       \n",
       " [5] \"PA_barrier_time_convenience\"            \n",
       " [6] \"PA_barrier_hard_work\"                   \n",
       " [7] \"PA_barrier_no_interest\"                 \n",
       " [8] \"PA_barrier_none\"                        \n",
       " [9] \"PA_easiness_outdoor_activities\"         \n",
       "[10] \"PA_easiness_professional_guidance\"      \n",
       "[11] \"PA_easiness_unguided\"                   \n",
       "[12] \"PA_easiness_music\"                      \n",
       "[13] \"PA_easiness_collective\"                 \n",
       "[14] \"PA_easiness_home_activity\"              \n",
       "[15] \"PA_easiness_family_activity\"            \n",
       "[16] \"PA_easiness_home_space\"                 \n",
       "[17] \"PA_easiness_home_equipament\"            \n",
       "[18] \"PA_easiness_others\"                     \n",
       "[19] \"PA_weekly_frequency\"                    \n",
       "[20] \"PA_intensity\"                           \n",
       "[21] \"PA_duration\"                            \n",
       "[22] \"PA_practice_during\"                     \n",
       "[23] \"sedentary_time_range_during\"            \n",
       "[24] \"sex\"                                    \n",
       "[25] \"age_range\"                              \n",
       "[26] \"martialStatus\"                          \n",
       "[27] \"co.resident_range\"                      \n",
       "[28] \"rooms_range\"                            \n",
       "[29] \"income_range\"                           \n",
       "[30] \"scholarity\"                             \n",
       "[31] \"running\"                                \n",
       "[32] \"hiking\"                                 \n",
       "[33] \"cycling\"                                \n",
       "[34] \"muscle_training\"                        \n",
       "[35] \"soccer\"                                 \n",
       "[36] \"tennis\"                                 \n",
       "[37] \"volleyball\"                             \n",
       "[38] \"basketball\"                             \n",
       "[39] \"swimming\"                               \n",
       "[40] \"surfing\"                                \n",
       "[41] \"yoga\"                                   \n",
       "[42] \"pilates\"                                \n",
       "[43] \"fighting\"                               \n",
       "[44] \"other_sports\"                           \n",
       "[45] \"PA_number\"                              "
      ]
     },
     "metadata": {},
     "output_type": "display_data"
    },
    {
     "data": {
      "text/html": [
       "<table class=\"dataframe\">\n",
       "<caption>A data.frame: 6 × 45</caption>\n",
       "<thead>\n",
       "\t<tr><th></th><th scope=col>PA_barrier_time_family_responsabilities</th><th scope=col>PA_barrier__tiredness</th><th scope=col>PA_barrier_places_closed_dangerous</th><th scope=col>PA_barrier_money</th><th scope=col>PA_barrier_time_convenience</th><th scope=col>PA_barrier_hard_work</th><th scope=col>PA_barrier_no_interest</th><th scope=col>PA_barrier_none</th><th scope=col>PA_easiness_outdoor_activities</th><th scope=col>PA_easiness_professional_guidance</th><th scope=col>...</th><th scope=col>tennis</th><th scope=col>volleyball</th><th scope=col>basketball</th><th scope=col>swimming</th><th scope=col>surfing</th><th scope=col>yoga</th><th scope=col>pilates</th><th scope=col>fighting</th><th scope=col>other_sports</th><th scope=col>PA_number</th></tr>\n",
       "\t<tr><th></th><th scope=col>&lt;dbl&gt;</th><th scope=col>&lt;dbl&gt;</th><th scope=col>&lt;dbl&gt;</th><th scope=col>&lt;dbl&gt;</th><th scope=col>&lt;dbl&gt;</th><th scope=col>&lt;dbl&gt;</th><th scope=col>&lt;dbl&gt;</th><th scope=col>&lt;dbl&gt;</th><th scope=col>&lt;dbl&gt;</th><th scope=col>&lt;dbl&gt;</th><th scope=col>...</th><th scope=col>&lt;dbl&gt;</th><th scope=col>&lt;dbl&gt;</th><th scope=col>&lt;dbl&gt;</th><th scope=col>&lt;dbl&gt;</th><th scope=col>&lt;dbl&gt;</th><th scope=col>&lt;dbl&gt;</th><th scope=col>&lt;dbl&gt;</th><th scope=col>&lt;dbl&gt;</th><th scope=col>&lt;dbl&gt;</th><th scope=col>&lt;dbl&gt;</th></tr>\n",
       "</thead>\n",
       "<tbody>\n",
       "\t<tr><th scope=row>1</th><td>0</td><td>0</td><td>1</td><td>0</td><td>0</td><td>1</td><td>0</td><td>0</td><td>0</td><td>0</td><td>...</td><td>0</td><td>0</td><td>0</td><td>0</td><td>0</td><td>0</td><td>0</td><td>0</td><td>0</td><td>0</td></tr>\n",
       "\t<tr><th scope=row>2</th><td>0</td><td>0</td><td>1</td><td>0</td><td>0</td><td>0</td><td>0</td><td>0</td><td>1</td><td>0</td><td>...</td><td>0</td><td>0</td><td>0</td><td>0</td><td>0</td><td>0</td><td>0</td><td>0</td><td>0</td><td>2</td></tr>\n",
       "\t<tr><th scope=row>3</th><td>0</td><td>0</td><td>1</td><td>0</td><td>0</td><td>0</td><td>1</td><td>0</td><td>0</td><td>0</td><td>...</td><td>0</td><td>0</td><td>0</td><td>0</td><td>0</td><td>0</td><td>0</td><td>0</td><td>1</td><td>2</td></tr>\n",
       "\t<tr><th scope=row>4</th><td>0</td><td>0</td><td>1</td><td>0</td><td>0</td><td>0</td><td>0</td><td>0</td><td>1</td><td>1</td><td>...</td><td>0</td><td>0</td><td>0</td><td>0</td><td>0</td><td>0</td><td>0</td><td>0</td><td>0</td><td>3</td></tr>\n",
       "\t<tr><th scope=row>5</th><td>0</td><td>0</td><td>1</td><td>0</td><td>0</td><td>0</td><td>0</td><td>0</td><td>0</td><td>0</td><td>...</td><td>0</td><td>0</td><td>0</td><td>0</td><td>0</td><td>0</td><td>0</td><td>0</td><td>0</td><td>2</td></tr>\n",
       "\t<tr><th scope=row>6</th><td>1</td><td>0</td><td>0</td><td>0</td><td>0</td><td>0</td><td>0</td><td>0</td><td>1</td><td>0</td><td>...</td><td>0</td><td>0</td><td>0</td><td>0</td><td>0</td><td>0</td><td>0</td><td>0</td><td>1</td><td>2</td></tr>\n",
       "</tbody>\n",
       "</table>\n"
      ],
      "text/latex": [
       "A data.frame: 6 × 45\n",
       "\\begin{tabular}{r|lllllllllllllllllllll}\n",
       "  & PA\\_barrier\\_time\\_family\\_responsabilities & PA\\_barrier\\_\\_tiredness & PA\\_barrier\\_places\\_closed\\_dangerous & PA\\_barrier\\_money & PA\\_barrier\\_time\\_convenience & PA\\_barrier\\_hard\\_work & PA\\_barrier\\_no\\_interest & PA\\_barrier\\_none & PA\\_easiness\\_outdoor\\_activities & PA\\_easiness\\_professional\\_guidance & ... & tennis & volleyball & basketball & swimming & surfing & yoga & pilates & fighting & other\\_sports & PA\\_number\\\\\n",
       "  & <dbl> & <dbl> & <dbl> & <dbl> & <dbl> & <dbl> & <dbl> & <dbl> & <dbl> & <dbl> & ... & <dbl> & <dbl> & <dbl> & <dbl> & <dbl> & <dbl> & <dbl> & <dbl> & <dbl> & <dbl>\\\\\n",
       "\\hline\n",
       "\t1 & 0 & 0 & 1 & 0 & 0 & 1 & 0 & 0 & 0 & 0 & ... & 0 & 0 & 0 & 0 & 0 & 0 & 0 & 0 & 0 & 0\\\\\n",
       "\t2 & 0 & 0 & 1 & 0 & 0 & 0 & 0 & 0 & 1 & 0 & ... & 0 & 0 & 0 & 0 & 0 & 0 & 0 & 0 & 0 & 2\\\\\n",
       "\t3 & 0 & 0 & 1 & 0 & 0 & 0 & 1 & 0 & 0 & 0 & ... & 0 & 0 & 0 & 0 & 0 & 0 & 0 & 0 & 1 & 2\\\\\n",
       "\t4 & 0 & 0 & 1 & 0 & 0 & 0 & 0 & 0 & 1 & 1 & ... & 0 & 0 & 0 & 0 & 0 & 0 & 0 & 0 & 0 & 3\\\\\n",
       "\t5 & 0 & 0 & 1 & 0 & 0 & 0 & 0 & 0 & 0 & 0 & ... & 0 & 0 & 0 & 0 & 0 & 0 & 0 & 0 & 0 & 2\\\\\n",
       "\t6 & 1 & 0 & 0 & 0 & 0 & 0 & 0 & 0 & 1 & 0 & ... & 0 & 0 & 0 & 0 & 0 & 0 & 0 & 0 & 1 & 2\\\\\n",
       "\\end{tabular}\n"
      ],
      "text/markdown": [
       "\n",
       "A data.frame: 6 × 45\n",
       "\n",
       "| <!--/--> | PA_barrier_time_family_responsabilities &lt;dbl&gt; | PA_barrier__tiredness &lt;dbl&gt; | PA_barrier_places_closed_dangerous &lt;dbl&gt; | PA_barrier_money &lt;dbl&gt; | PA_barrier_time_convenience &lt;dbl&gt; | PA_barrier_hard_work &lt;dbl&gt; | PA_barrier_no_interest &lt;dbl&gt; | PA_barrier_none &lt;dbl&gt; | PA_easiness_outdoor_activities &lt;dbl&gt; | PA_easiness_professional_guidance &lt;dbl&gt; | ... ... | tennis &lt;dbl&gt; | volleyball &lt;dbl&gt; | basketball &lt;dbl&gt; | swimming &lt;dbl&gt; | surfing &lt;dbl&gt; | yoga &lt;dbl&gt; | pilates &lt;dbl&gt; | fighting &lt;dbl&gt; | other_sports &lt;dbl&gt; | PA_number &lt;dbl&gt; |\n",
       "|---|---|---|---|---|---|---|---|---|---|---|---|---|---|---|---|---|---|---|---|---|---|\n",
       "| 1 | 0 | 0 | 1 | 0 | 0 | 1 | 0 | 0 | 0 | 0 | ... | 0 | 0 | 0 | 0 | 0 | 0 | 0 | 0 | 0 | 0 |\n",
       "| 2 | 0 | 0 | 1 | 0 | 0 | 0 | 0 | 0 | 1 | 0 | ... | 0 | 0 | 0 | 0 | 0 | 0 | 0 | 0 | 0 | 2 |\n",
       "| 3 | 0 | 0 | 1 | 0 | 0 | 0 | 1 | 0 | 0 | 0 | ... | 0 | 0 | 0 | 0 | 0 | 0 | 0 | 0 | 1 | 2 |\n",
       "| 4 | 0 | 0 | 1 | 0 | 0 | 0 | 0 | 0 | 1 | 1 | ... | 0 | 0 | 0 | 0 | 0 | 0 | 0 | 0 | 0 | 3 |\n",
       "| 5 | 0 | 0 | 1 | 0 | 0 | 0 | 0 | 0 | 0 | 0 | ... | 0 | 0 | 0 | 0 | 0 | 0 | 0 | 0 | 0 | 2 |\n",
       "| 6 | 1 | 0 | 0 | 0 | 0 | 0 | 0 | 0 | 1 | 0 | ... | 0 | 0 | 0 | 0 | 0 | 0 | 0 | 0 | 1 | 2 |\n",
       "\n"
      ],
      "text/plain": [
       "  PA_barrier_time_family_responsabilities PA_barrier__tiredness\n",
       "1 0                                       0                    \n",
       "2 0                                       0                    \n",
       "3 0                                       0                    \n",
       "4 0                                       0                    \n",
       "5 0                                       0                    \n",
       "6 1                                       0                    \n",
       "  PA_barrier_places_closed_dangerous PA_barrier_money\n",
       "1 1                                  0               \n",
       "2 1                                  0               \n",
       "3 1                                  0               \n",
       "4 1                                  0               \n",
       "5 1                                  0               \n",
       "6 0                                  0               \n",
       "  PA_barrier_time_convenience PA_barrier_hard_work PA_barrier_no_interest\n",
       "1 0                           1                    0                     \n",
       "2 0                           0                    0                     \n",
       "3 0                           0                    1                     \n",
       "4 0                           0                    0                     \n",
       "5 0                           0                    0                     \n",
       "6 0                           0                    0                     \n",
       "  PA_barrier_none PA_easiness_outdoor_activities\n",
       "1 0               0                             \n",
       "2 0               1                             \n",
       "3 0               0                             \n",
       "4 0               1                             \n",
       "5 0               0                             \n",
       "6 0               1                             \n",
       "  PA_easiness_professional_guidance ... tennis volleyball basketball swimming\n",
       "1 0                                 ... 0      0          0          0       \n",
       "2 0                                 ... 0      0          0          0       \n",
       "3 0                                 ... 0      0          0          0       \n",
       "4 1                                 ... 0      0          0          0       \n",
       "5 0                                 ... 0      0          0          0       \n",
       "6 0                                 ... 0      0          0          0       \n",
       "  surfing yoga pilates fighting other_sports PA_number\n",
       "1 0       0    0       0        0            0        \n",
       "2 0       0    0       0        0            2        \n",
       "3 0       0    0       0        1            2        \n",
       "4 0       0    0       0        0            3        \n",
       "5 0       0    0       0        0            2        \n",
       "6 0       0    0       0        1            2        "
      ]
     },
     "metadata": {},
     "output_type": "display_data"
    }
   ],
   "source": [
    "colnames(df_during)\n",
    "head(df_during)"
   ]
  },
  {
   "cell_type": "code",
   "execution_count": 181,
   "metadata": {
    "vscode": {
     "languageId": "r"
    }
   },
   "outputs": [
    {
     "data": {
      "text/html": [
       "<style>\n",
       ".list-inline {list-style: none; margin:0; padding: 0}\n",
       ".list-inline>li {display: inline-block}\n",
       ".list-inline>li:not(:last-child)::after {content: \"\\00b7\"; padding: 0 .5ex}\n",
       "</style>\n",
       "<ol class=list-inline><li>1250</li><li>18</li></ol>\n"
      ],
      "text/latex": [
       "\\begin{enumerate*}\n",
       "\\item 1250\n",
       "\\item 18\n",
       "\\end{enumerate*}\n"
      ],
      "text/markdown": [
       "1. 1250\n",
       "2. 18\n",
       "\n",
       "\n"
      ],
      "text/plain": [
       "[1] 1250   18"
      ]
     },
     "metadata": {},
     "output_type": "display_data"
    },
    {
     "data": {
      "text/html": [
       "<table class=\"dataframe\">\n",
       "<caption>A data.frame: 6 × 18</caption>\n",
       "<thead>\n",
       "\t<tr><th></th><th scope=col>PA_barrier_time_family_responsabilities</th><th scope=col>PA_barrier__tiredness</th><th scope=col>PA_barrier_places_closed_dangerous</th><th scope=col>PA_barrier_money</th><th scope=col>PA_barrier_time_convenience</th><th scope=col>PA_barrier_hard_work</th><th scope=col>PA_barrier_no_interest</th><th scope=col>PA_barrier_none</th><th scope=col>PA_easiness_outdoor_activities</th><th scope=col>PA_easiness_professional_guidance</th><th scope=col>PA_easiness_unguided</th><th scope=col>PA_easiness_music</th><th scope=col>PA_easiness_collective</th><th scope=col>PA_easiness_home_activity</th><th scope=col>PA_easiness_family_activity</th><th scope=col>PA_easiness_home_space</th><th scope=col>PA_easiness_home_equipament</th><th scope=col>PA_easiness_others</th></tr>\n",
       "\t<tr><th></th><th scope=col>&lt;fct&gt;</th><th scope=col>&lt;fct&gt;</th><th scope=col>&lt;fct&gt;</th><th scope=col>&lt;fct&gt;</th><th scope=col>&lt;fct&gt;</th><th scope=col>&lt;fct&gt;</th><th scope=col>&lt;fct&gt;</th><th scope=col>&lt;fct&gt;</th><th scope=col>&lt;fct&gt;</th><th scope=col>&lt;fct&gt;</th><th scope=col>&lt;fct&gt;</th><th scope=col>&lt;fct&gt;</th><th scope=col>&lt;fct&gt;</th><th scope=col>&lt;fct&gt;</th><th scope=col>&lt;fct&gt;</th><th scope=col>&lt;fct&gt;</th><th scope=col>&lt;fct&gt;</th><th scope=col>&lt;fct&gt;</th></tr>\n",
       "</thead>\n",
       "<tbody>\n",
       "\t<tr><th scope=row>1</th><td>0</td><td>0</td><td>1</td><td>0</td><td>0</td><td>1</td><td>0</td><td>0</td><td>0</td><td>0</td><td>0</td><td>0</td><td>0</td><td>1</td><td>0</td><td>0</td><td>0</td><td>0</td></tr>\n",
       "\t<tr><th scope=row>2</th><td>0</td><td>0</td><td>1</td><td>0</td><td>0</td><td>0</td><td>0</td><td>0</td><td>1</td><td>0</td><td>0</td><td>0</td><td>0</td><td>0</td><td>0</td><td>1</td><td>1</td><td>0</td></tr>\n",
       "\t<tr><th scope=row>3</th><td>0</td><td>0</td><td>1</td><td>0</td><td>0</td><td>0</td><td>1</td><td>0</td><td>0</td><td>0</td><td>1</td><td>0</td><td>0</td><td>0</td><td>0</td><td>0</td><td>0</td><td>0</td></tr>\n",
       "\t<tr><th scope=row>4</th><td>0</td><td>0</td><td>1</td><td>0</td><td>0</td><td>0</td><td>0</td><td>0</td><td>1</td><td>1</td><td>0</td><td>0</td><td>0</td><td>1</td><td>0</td><td>1</td><td>1</td><td>0</td></tr>\n",
       "\t<tr><th scope=row>5</th><td>0</td><td>0</td><td>1</td><td>0</td><td>0</td><td>0</td><td>0</td><td>0</td><td>0</td><td>0</td><td>0</td><td>0</td><td>0</td><td>1</td><td>1</td><td>1</td><td>1</td><td>0</td></tr>\n",
       "\t<tr><th scope=row>6</th><td>1</td><td>0</td><td>0</td><td>0</td><td>0</td><td>0</td><td>0</td><td>0</td><td>1</td><td>0</td><td>0</td><td>0</td><td>0</td><td>0</td><td>0</td><td>0</td><td>1</td><td>0</td></tr>\n",
       "</tbody>\n",
       "</table>\n"
      ],
      "text/latex": [
       "A data.frame: 6 × 18\n",
       "\\begin{tabular}{r|llllllllllllllllll}\n",
       "  & PA\\_barrier\\_time\\_family\\_responsabilities & PA\\_barrier\\_\\_tiredness & PA\\_barrier\\_places\\_closed\\_dangerous & PA\\_barrier\\_money & PA\\_barrier\\_time\\_convenience & PA\\_barrier\\_hard\\_work & PA\\_barrier\\_no\\_interest & PA\\_barrier\\_none & PA\\_easiness\\_outdoor\\_activities & PA\\_easiness\\_professional\\_guidance & PA\\_easiness\\_unguided & PA\\_easiness\\_music & PA\\_easiness\\_collective & PA\\_easiness\\_home\\_activity & PA\\_easiness\\_family\\_activity & PA\\_easiness\\_home\\_space & PA\\_easiness\\_home\\_equipament & PA\\_easiness\\_others\\\\\n",
       "  & <fct> & <fct> & <fct> & <fct> & <fct> & <fct> & <fct> & <fct> & <fct> & <fct> & <fct> & <fct> & <fct> & <fct> & <fct> & <fct> & <fct> & <fct>\\\\\n",
       "\\hline\n",
       "\t1 & 0 & 0 & 1 & 0 & 0 & 1 & 0 & 0 & 0 & 0 & 0 & 0 & 0 & 1 & 0 & 0 & 0 & 0\\\\\n",
       "\t2 & 0 & 0 & 1 & 0 & 0 & 0 & 0 & 0 & 1 & 0 & 0 & 0 & 0 & 0 & 0 & 1 & 1 & 0\\\\\n",
       "\t3 & 0 & 0 & 1 & 0 & 0 & 0 & 1 & 0 & 0 & 0 & 1 & 0 & 0 & 0 & 0 & 0 & 0 & 0\\\\\n",
       "\t4 & 0 & 0 & 1 & 0 & 0 & 0 & 0 & 0 & 1 & 1 & 0 & 0 & 0 & 1 & 0 & 1 & 1 & 0\\\\\n",
       "\t5 & 0 & 0 & 1 & 0 & 0 & 0 & 0 & 0 & 0 & 0 & 0 & 0 & 0 & 1 & 1 & 1 & 1 & 0\\\\\n",
       "\t6 & 1 & 0 & 0 & 0 & 0 & 0 & 0 & 0 & 1 & 0 & 0 & 0 & 0 & 0 & 0 & 0 & 1 & 0\\\\\n",
       "\\end{tabular}\n"
      ],
      "text/markdown": [
       "\n",
       "A data.frame: 6 × 18\n",
       "\n",
       "| <!--/--> | PA_barrier_time_family_responsabilities &lt;fct&gt; | PA_barrier__tiredness &lt;fct&gt; | PA_barrier_places_closed_dangerous &lt;fct&gt; | PA_barrier_money &lt;fct&gt; | PA_barrier_time_convenience &lt;fct&gt; | PA_barrier_hard_work &lt;fct&gt; | PA_barrier_no_interest &lt;fct&gt; | PA_barrier_none &lt;fct&gt; | PA_easiness_outdoor_activities &lt;fct&gt; | PA_easiness_professional_guidance &lt;fct&gt; | PA_easiness_unguided &lt;fct&gt; | PA_easiness_music &lt;fct&gt; | PA_easiness_collective &lt;fct&gt; | PA_easiness_home_activity &lt;fct&gt; | PA_easiness_family_activity &lt;fct&gt; | PA_easiness_home_space &lt;fct&gt; | PA_easiness_home_equipament &lt;fct&gt; | PA_easiness_others &lt;fct&gt; |\n",
       "|---|---|---|---|---|---|---|---|---|---|---|---|---|---|---|---|---|---|---|\n",
       "| 1 | 0 | 0 | 1 | 0 | 0 | 1 | 0 | 0 | 0 | 0 | 0 | 0 | 0 | 1 | 0 | 0 | 0 | 0 |\n",
       "| 2 | 0 | 0 | 1 | 0 | 0 | 0 | 0 | 0 | 1 | 0 | 0 | 0 | 0 | 0 | 0 | 1 | 1 | 0 |\n",
       "| 3 | 0 | 0 | 1 | 0 | 0 | 0 | 1 | 0 | 0 | 0 | 1 | 0 | 0 | 0 | 0 | 0 | 0 | 0 |\n",
       "| 4 | 0 | 0 | 1 | 0 | 0 | 0 | 0 | 0 | 1 | 1 | 0 | 0 | 0 | 1 | 0 | 1 | 1 | 0 |\n",
       "| 5 | 0 | 0 | 1 | 0 | 0 | 0 | 0 | 0 | 0 | 0 | 0 | 0 | 0 | 1 | 1 | 1 | 1 | 0 |\n",
       "| 6 | 1 | 0 | 0 | 0 | 0 | 0 | 0 | 0 | 1 | 0 | 0 | 0 | 0 | 0 | 0 | 0 | 1 | 0 |\n",
       "\n"
      ],
      "text/plain": [
       "  PA_barrier_time_family_responsabilities PA_barrier__tiredness\n",
       "1 0                                       0                    \n",
       "2 0                                       0                    \n",
       "3 0                                       0                    \n",
       "4 0                                       0                    \n",
       "5 0                                       0                    \n",
       "6 1                                       0                    \n",
       "  PA_barrier_places_closed_dangerous PA_barrier_money\n",
       "1 1                                  0               \n",
       "2 1                                  0               \n",
       "3 1                                  0               \n",
       "4 1                                  0               \n",
       "5 1                                  0               \n",
       "6 0                                  0               \n",
       "  PA_barrier_time_convenience PA_barrier_hard_work PA_barrier_no_interest\n",
       "1 0                           1                    0                     \n",
       "2 0                           0                    0                     \n",
       "3 0                           0                    1                     \n",
       "4 0                           0                    0                     \n",
       "5 0                           0                    0                     \n",
       "6 0                           0                    0                     \n",
       "  PA_barrier_none PA_easiness_outdoor_activities\n",
       "1 0               0                             \n",
       "2 0               1                             \n",
       "3 0               0                             \n",
       "4 0               1                             \n",
       "5 0               0                             \n",
       "6 0               1                             \n",
       "  PA_easiness_professional_guidance PA_easiness_unguided PA_easiness_music\n",
       "1 0                                 0                    0                \n",
       "2 0                                 0                    0                \n",
       "3 0                                 1                    0                \n",
       "4 1                                 0                    0                \n",
       "5 0                                 0                    0                \n",
       "6 0                                 0                    0                \n",
       "  PA_easiness_collective PA_easiness_home_activity PA_easiness_family_activity\n",
       "1 0                      1                         0                          \n",
       "2 0                      0                         0                          \n",
       "3 0                      0                         0                          \n",
       "4 0                      1                         0                          \n",
       "5 0                      1                         1                          \n",
       "6 0                      0                         0                          \n",
       "  PA_easiness_home_space PA_easiness_home_equipament PA_easiness_others\n",
       "1 0                      0                           0                 \n",
       "2 1                      1                           0                 \n",
       "3 0                      0                           0                 \n",
       "4 1                      1                           0                 \n",
       "5 1                      1                           0                 \n",
       "6 0                      1                           0                 "
      ]
     },
     "metadata": {},
     "output_type": "display_data"
    }
   ],
   "source": [
    "df_during[1:18] <- lapply(df_during[1:18], as.factor)\n",
    "df_during_barriers_facilitators <- df_during[, 1:18]\n",
    "dim(df_during_barriers_facilitators)\n",
    "head(df_during_barriers_facilitators)"
   ]
  },
  {
   "cell_type": "markdown",
   "metadata": {},
   "source": [
    "### Removing Strangers"
   ]
  },
  {
   "cell_type": "code",
   "execution_count": 182,
   "metadata": {
    "vscode": {
     "languageId": "r"
    }
   },
   "outputs": [
    {
     "data": {
      "text/plain": [
       "strange_p\n",
       "FALSE  TRUE \n",
       " 1244     6 "
      ]
     },
     "metadata": {},
     "output_type": "display_data"
    },
    {
     "data": {
      "text/plain": [
       "strange_dp\n",
       "FALSE  TRUE \n",
       " 1218    26 "
      ]
     },
     "metadata": {},
     "output_type": "display_data"
    }
   ],
   "source": [
    "differ_p <- (   df_during$PA_duration == 0 \n",
    "                | df_during$PA_intensity == 0 \n",
    "                | df_during$PA_weekly_frequency == 0\n",
    "                | df_during$PA_number == 0\n",
    "            )\n",
    "strange_p <- df_during$PA_practice_during == 1 & differ_p\n",
    "df_during <- df_during[!strange_p, ]\n",
    "df_during_barriers_facilitators <- df_during_barriers_facilitators[!strange_p, ]\n",
    "table(strange_p)\n",
    "\n",
    "differ_dp <- ( df_during$PA_duration != 0 \n",
    "                | df_during$PA_intensity != 0 \n",
    "                | df_during$PA_weekly_frequency != 0\n",
    "                | df_during$PA_number != 0\n",
    "            ) \n",
    "strange_dp <- df_during$PA_practice_during == 0 & differ_dp \n",
    "\n",
    "\n",
    "table(strange_dp)\n",
    "df_during <- df_during[!strange_dp, ]\n",
    "df_during_barriers_facilitators <- df_during_barriers_facilitators[!strange_dp, ]"
   ]
  },
  {
   "cell_type": "code",
   "execution_count": 183,
   "metadata": {
    "vscode": {
     "languageId": "r"
    }
   },
   "outputs": [
    {
     "data": {
      "text/html": [
       "<table class=\"dataframe\">\n",
       "<caption>A data.frame: 1218 × 18</caption>\n",
       "<thead>\n",
       "\t<tr><th></th><th scope=col>PA_barrier_time_family_responsabilities</th><th scope=col>PA_barrier__tiredness</th><th scope=col>PA_barrier_places_closed_dangerous</th><th scope=col>PA_barrier_money</th><th scope=col>PA_barrier_time_convenience</th><th scope=col>PA_barrier_hard_work</th><th scope=col>PA_barrier_no_interest</th><th scope=col>PA_barrier_none</th><th scope=col>PA_easiness_outdoor_activities</th><th scope=col>PA_easiness_professional_guidance</th><th scope=col>PA_easiness_unguided</th><th scope=col>PA_easiness_music</th><th scope=col>PA_easiness_collective</th><th scope=col>PA_easiness_home_activity</th><th scope=col>PA_easiness_family_activity</th><th scope=col>PA_easiness_home_space</th><th scope=col>PA_easiness_home_equipament</th><th scope=col>PA_easiness_others</th></tr>\n",
       "\t<tr><th></th><th scope=col>&lt;fct&gt;</th><th scope=col>&lt;fct&gt;</th><th scope=col>&lt;fct&gt;</th><th scope=col>&lt;fct&gt;</th><th scope=col>&lt;fct&gt;</th><th scope=col>&lt;fct&gt;</th><th scope=col>&lt;fct&gt;</th><th scope=col>&lt;fct&gt;</th><th scope=col>&lt;fct&gt;</th><th scope=col>&lt;fct&gt;</th><th scope=col>&lt;fct&gt;</th><th scope=col>&lt;fct&gt;</th><th scope=col>&lt;fct&gt;</th><th scope=col>&lt;fct&gt;</th><th scope=col>&lt;fct&gt;</th><th scope=col>&lt;fct&gt;</th><th scope=col>&lt;fct&gt;</th><th scope=col>&lt;fct&gt;</th></tr>\n",
       "</thead>\n",
       "<tbody>\n",
       "\t<tr><th scope=row>2</th><td>0</td><td>0</td><td>1</td><td>0</td><td>0</td><td>0</td><td>0</td><td>0</td><td>1</td><td>0</td><td>0</td><td>0</td><td>0</td><td>0</td><td>0</td><td>1</td><td>1</td><td>0</td></tr>\n",
       "\t<tr><th scope=row>3</th><td>0</td><td>0</td><td>1</td><td>0</td><td>0</td><td>0</td><td>1</td><td>0</td><td>0</td><td>0</td><td>1</td><td>0</td><td>0</td><td>0</td><td>0</td><td>0</td><td>0</td><td>0</td></tr>\n",
       "\t<tr><th scope=row>4</th><td>0</td><td>0</td><td>1</td><td>0</td><td>0</td><td>0</td><td>0</td><td>0</td><td>1</td><td>1</td><td>0</td><td>0</td><td>0</td><td>1</td><td>0</td><td>1</td><td>1</td><td>0</td></tr>\n",
       "\t<tr><th scope=row>5</th><td>0</td><td>0</td><td>1</td><td>0</td><td>0</td><td>0</td><td>0</td><td>0</td><td>0</td><td>0</td><td>0</td><td>0</td><td>0</td><td>1</td><td>1</td><td>1</td><td>1</td><td>0</td></tr>\n",
       "\t<tr><th scope=row>6</th><td>1</td><td>0</td><td>0</td><td>0</td><td>0</td><td>0</td><td>0</td><td>0</td><td>1</td><td>0</td><td>0</td><td>0</td><td>0</td><td>0</td><td>0</td><td>0</td><td>1</td><td>0</td></tr>\n",
       "\t<tr><th scope=row>8</th><td>0</td><td>0</td><td>1</td><td>0</td><td>0</td><td>1</td><td>0</td><td>0</td><td>0</td><td>1</td><td>0</td><td>1</td><td>0</td><td>0</td><td>1</td><td>0</td><td>1</td><td>0</td></tr>\n",
       "\t<tr><th scope=row>9</th><td>0</td><td>0</td><td>1</td><td>1</td><td>0</td><td>0</td><td>0</td><td>0</td><td>1</td><td>0</td><td>1</td><td>1</td><td>0</td><td>1</td><td>0</td><td>1</td><td>1</td><td>0</td></tr>\n",
       "\t<tr><th scope=row>11</th><td>0</td><td>0</td><td>0</td><td>0</td><td>0</td><td>1</td><td>0</td><td>0</td><td>0</td><td>0</td><td>1</td><td>1</td><td>0</td><td>1</td><td>0</td><td>1</td><td>1</td><td>0</td></tr>\n",
       "\t<tr><th scope=row>12</th><td>0</td><td>0</td><td>1</td><td>0</td><td>0</td><td>0</td><td>0</td><td>0</td><td>0</td><td>0</td><td>1</td><td>0</td><td>0</td><td>0</td><td>0</td><td>1</td><td>1</td><td>0</td></tr>\n",
       "\t<tr><th scope=row>14</th><td>0</td><td>0</td><td>1</td><td>0</td><td>0</td><td>1</td><td>0</td><td>0</td><td>0</td><td>0</td><td>0</td><td>1</td><td>0</td><td>1</td><td>0</td><td>1</td><td>1</td><td>0</td></tr>\n",
       "\t<tr><th scope=row>15</th><td>0</td><td>0</td><td>0</td><td>0</td><td>0</td><td>1</td><td>0</td><td>0</td><td>0</td><td>0</td><td>1</td><td>1</td><td>0</td><td>0</td><td>0</td><td>0</td><td>0</td><td>0</td></tr>\n",
       "\t<tr><th scope=row>16</th><td>0</td><td>0</td><td>1</td><td>0</td><td>0</td><td>0</td><td>0</td><td>0</td><td>0</td><td>0</td><td>0</td><td>0</td><td>0</td><td>1</td><td>0</td><td>0</td><td>0</td><td>0</td></tr>\n",
       "\t<tr><th scope=row>17</th><td>0</td><td>0</td><td>0</td><td>0</td><td>0</td><td>1</td><td>0</td><td>0</td><td>0</td><td>1</td><td>0</td><td>0</td><td>0</td><td>1</td><td>0</td><td>1</td><td>0</td><td>0</td></tr>\n",
       "\t<tr><th scope=row>18</th><td>0</td><td>1</td><td>0</td><td>0</td><td>0</td><td>0</td><td>0</td><td>0</td><td>0</td><td>0</td><td>0</td><td>0</td><td>0</td><td>0</td><td>0</td><td>0</td><td>0</td><td>1</td></tr>\n",
       "\t<tr><th scope=row>20</th><td>0</td><td>0</td><td>1</td><td>0</td><td>0</td><td>0</td><td>0</td><td>0</td><td>0</td><td>0</td><td>0</td><td>1</td><td>0</td><td>0</td><td>1</td><td>0</td><td>0</td><td>0</td></tr>\n",
       "\t<tr><th scope=row>23</th><td>1</td><td>1</td><td>1</td><td>0</td><td>1</td><td>1</td><td>0</td><td>0</td><td>0</td><td>1</td><td>0</td><td>0</td><td>0</td><td>0</td><td>0</td><td>1</td><td>1</td><td>0</td></tr>\n",
       "\t<tr><th scope=row>25</th><td>0</td><td>0</td><td>1</td><td>0</td><td>0</td><td>1</td><td>0</td><td>0</td><td>1</td><td>0</td><td>0</td><td>1</td><td>1</td><td>0</td><td>0</td><td>0</td><td>0</td><td>0</td></tr>\n",
       "\t<tr><th scope=row>26</th><td>0</td><td>0</td><td>1</td><td>0</td><td>0</td><td>1</td><td>0</td><td>0</td><td>1</td><td>0</td><td>0</td><td>0</td><td>0</td><td>1</td><td>0</td><td>0</td><td>0</td><td>0</td></tr>\n",
       "\t<tr><th scope=row>27</th><td>0</td><td>0</td><td>1</td><td>0</td><td>0</td><td>0</td><td>0</td><td>0</td><td>1</td><td>1</td><td>0</td><td>0</td><td>0</td><td>0</td><td>0</td><td>0</td><td>0</td><td>0</td></tr>\n",
       "\t<tr><th scope=row>28</th><td>0</td><td>1</td><td>0</td><td>0</td><td>0</td><td>0</td><td>0</td><td>0</td><td>0</td><td>0</td><td>0</td><td>1</td><td>0</td><td>1</td><td>0</td><td>1</td><td>1</td><td>0</td></tr>\n",
       "\t<tr><th scope=row>29</th><td>0</td><td>0</td><td>1</td><td>0</td><td>0</td><td>0</td><td>0</td><td>0</td><td>0</td><td>0</td><td>0</td><td>0</td><td>0</td><td>0</td><td>0</td><td>1</td><td>1</td><td>0</td></tr>\n",
       "\t<tr><th scope=row>30</th><td>0</td><td>0</td><td>1</td><td>0</td><td>0</td><td>0</td><td>0</td><td>0</td><td>1</td><td>0</td><td>0</td><td>0</td><td>0</td><td>0</td><td>1</td><td>0</td><td>0</td><td>0</td></tr>\n",
       "\t<tr><th scope=row>31</th><td>0</td><td>0</td><td>1</td><td>0</td><td>0</td><td>1</td><td>1</td><td>0</td><td>0</td><td>0</td><td>0</td><td>0</td><td>0</td><td>1</td><td>0</td><td>1</td><td>1</td><td>0</td></tr>\n",
       "\t<tr><th scope=row>32</th><td>0</td><td>1</td><td>0</td><td>0</td><td>0</td><td>0</td><td>0</td><td>0</td><td>0</td><td>0</td><td>0</td><td>0</td><td>0</td><td>0</td><td>0</td><td>1</td><td>1</td><td>0</td></tr>\n",
       "\t<tr><th scope=row>33</th><td>0</td><td>0</td><td>1</td><td>0</td><td>0</td><td>0</td><td>0</td><td>0</td><td>1</td><td>0</td><td>0</td><td>1</td><td>0</td><td>1</td><td>0</td><td>0</td><td>1</td><td>0</td></tr>\n",
       "\t<tr><th scope=row>34</th><td>0</td><td>0</td><td>1</td><td>0</td><td>0</td><td>0</td><td>0</td><td>0</td><td>1</td><td>1</td><td>0</td><td>1</td><td>1</td><td>1</td><td>0</td><td>1</td><td>0</td><td>0</td></tr>\n",
       "\t<tr><th scope=row>35</th><td>1</td><td>0</td><td>0</td><td>0</td><td>0</td><td>0</td><td>0</td><td>0</td><td>0</td><td>1</td><td>0</td><td>1</td><td>0</td><td>1</td><td>1</td><td>1</td><td>1</td><td>0</td></tr>\n",
       "\t<tr><th scope=row>36</th><td>0</td><td>0</td><td>1</td><td>0</td><td>0</td><td>0</td><td>0</td><td>0</td><td>1</td><td>1</td><td>1</td><td>0</td><td>0</td><td>0</td><td>1</td><td>0</td><td>1</td><td>0</td></tr>\n",
       "\t<tr><th scope=row>37</th><td>0</td><td>0</td><td>1</td><td>0</td><td>0</td><td>0</td><td>0</td><td>0</td><td>1</td><td>0</td><td>0</td><td>0</td><td>0</td><td>0</td><td>0</td><td>0</td><td>0</td><td>0</td></tr>\n",
       "\t<tr><th scope=row>38</th><td>0</td><td>1</td><td>1</td><td>1</td><td>0</td><td>1</td><td>0</td><td>0</td><td>0</td><td>0</td><td>0</td><td>0</td><td>0</td><td>0</td><td>0</td><td>0</td><td>0</td><td>1</td></tr>\n",
       "\t<tr><th scope=row>...</th><td>...</td><td>...</td><td>...</td><td>...</td><td>...</td><td>...</td><td>...</td><td>...</td><td>...</td><td>...</td><td>...</td><td>...</td><td>...</td><td>...</td><td>...</td><td>...</td><td>...</td><td>...</td></tr>\n",
       "\t<tr><th scope=row>1226</th><td>0</td><td>0</td><td>0</td><td>0</td><td>0</td><td>1</td><td>0</td><td>1</td><td>0</td><td>0</td><td>0</td><td>1</td><td>0</td><td>1</td><td>0</td><td>1</td><td>1</td><td>0</td></tr>\n",
       "\t<tr><th scope=row>1227</th><td>0</td><td>0</td><td>1</td><td>0</td><td>0</td><td>0</td><td>0</td><td>0</td><td>1</td><td>1</td><td>0</td><td>1</td><td>1</td><td>0</td><td>0</td><td>0</td><td>0</td><td>0</td></tr>\n",
       "\t<tr><th scope=row>1228</th><td>0</td><td>0</td><td>0</td><td>0</td><td>0</td><td>0</td><td>0</td><td>1</td><td>0</td><td>1</td><td>0</td><td>0</td><td>0</td><td>1</td><td>1</td><td>1</td><td>0</td><td>0</td></tr>\n",
       "\t<tr><th scope=row>1229</th><td>0</td><td>0</td><td>0</td><td>0</td><td>0</td><td>0</td><td>0</td><td>1</td><td>0</td><td>0</td><td>0</td><td>0</td><td>0</td><td>0</td><td>0</td><td>1</td><td>0</td><td>0</td></tr>\n",
       "\t<tr><th scope=row>1230</th><td>0</td><td>0</td><td>0</td><td>0</td><td>0</td><td>0</td><td>0</td><td>1</td><td>0</td><td>0</td><td>0</td><td>0</td><td>1</td><td>1</td><td>0</td><td>0</td><td>0</td><td>0</td></tr>\n",
       "\t<tr><th scope=row>1231</th><td>0</td><td>0</td><td>0</td><td>0</td><td>1</td><td>1</td><td>1</td><td>0</td><td>1</td><td>0</td><td>0</td><td>1</td><td>0</td><td>0</td><td>0</td><td>0</td><td>0</td><td>0</td></tr>\n",
       "\t<tr><th scope=row>1232</th><td>0</td><td>0</td><td>0</td><td>0</td><td>0</td><td>0</td><td>0</td><td>1</td><td>1</td><td>1</td><td>0</td><td>0</td><td>0</td><td>0</td><td>0</td><td>1</td><td>0</td><td>0</td></tr>\n",
       "\t<tr><th scope=row>1233</th><td>0</td><td>0</td><td>1</td><td>0</td><td>0</td><td>0</td><td>0</td><td>0</td><td>0</td><td>0</td><td>0</td><td>0</td><td>0</td><td>0</td><td>0</td><td>1</td><td>1</td><td>0</td></tr>\n",
       "\t<tr><th scope=row>1234</th><td>0</td><td>0</td><td>0</td><td>0</td><td>0</td><td>0</td><td>0</td><td>1</td><td>0</td><td>1</td><td>0</td><td>1</td><td>1</td><td>1</td><td>1</td><td>1</td><td>1</td><td>0</td></tr>\n",
       "\t<tr><th scope=row>1235</th><td>0</td><td>0</td><td>1</td><td>0</td><td>0</td><td>0</td><td>0</td><td>0</td><td>1</td><td>0</td><td>0</td><td>0</td><td>0</td><td>0</td><td>0</td><td>0</td><td>0</td><td>0</td></tr>\n",
       "\t<tr><th scope=row>1236</th><td>0</td><td>0</td><td>0</td><td>0</td><td>0</td><td>0</td><td>0</td><td>1</td><td>0</td><td>1</td><td>0</td><td>1</td><td>0</td><td>1</td><td>1</td><td>1</td><td>1</td><td>0</td></tr>\n",
       "\t<tr><th scope=row>1237</th><td>0</td><td>0</td><td>0</td><td>0</td><td>0</td><td>0</td><td>0</td><td>1</td><td>1</td><td>0</td><td>0</td><td>0</td><td>0</td><td>1</td><td>0</td><td>1</td><td>1</td><td>0</td></tr>\n",
       "\t<tr><th scope=row>1238</th><td>0</td><td>0</td><td>0</td><td>0</td><td>0</td><td>0</td><td>0</td><td>1</td><td>0</td><td>0</td><td>0</td><td>0</td><td>0</td><td>0</td><td>0</td><td>0</td><td>1</td><td>0</td></tr>\n",
       "\t<tr><th scope=row>1239</th><td>0</td><td>1</td><td>1</td><td>0</td><td>0</td><td>0</td><td>0</td><td>0</td><td>0</td><td>1</td><td>0</td><td>1</td><td>0</td><td>0</td><td>0</td><td>1</td><td>1</td><td>0</td></tr>\n",
       "\t<tr><th scope=row>1240</th><td>0</td><td>0</td><td>0</td><td>0</td><td>0</td><td>0</td><td>0</td><td>1</td><td>0</td><td>0</td><td>0</td><td>0</td><td>0</td><td>1</td><td>0</td><td>0</td><td>0</td><td>0</td></tr>\n",
       "\t<tr><th scope=row>1241</th><td>0</td><td>0</td><td>1</td><td>0</td><td>0</td><td>0</td><td>1</td><td>0</td><td>1</td><td>0</td><td>0</td><td>1</td><td>0</td><td>0</td><td>1</td><td>1</td><td>1</td><td>0</td></tr>\n",
       "\t<tr><th scope=row>1242</th><td>0</td><td>0</td><td>0</td><td>0</td><td>0</td><td>0</td><td>0</td><td>1</td><td>0</td><td>1</td><td>1</td><td>0</td><td>0</td><td>1</td><td>1</td><td>1</td><td>1</td><td>0</td></tr>\n",
       "\t<tr><th scope=row>1243</th><td>0</td><td>0</td><td>0</td><td>0</td><td>0</td><td>0</td><td>0</td><td>1</td><td>0</td><td>1</td><td>0</td><td>0</td><td>0</td><td>0</td><td>0</td><td>1</td><td>1</td><td>0</td></tr>\n",
       "\t<tr><th scope=row>1244</th><td>0</td><td>0</td><td>0</td><td>0</td><td>0</td><td>0</td><td>0</td><td>1</td><td>0</td><td>0</td><td>0</td><td>0</td><td>0</td><td>0</td><td>0</td><td>0</td><td>1</td><td>0</td></tr>\n",
       "\t<tr><th scope=row>1245</th><td>0</td><td>0</td><td>0</td><td>0</td><td>0</td><td>1</td><td>0</td><td>0</td><td>0</td><td>0</td><td>0</td><td>1</td><td>0</td><td>0</td><td>0</td><td>0</td><td>0</td><td>0</td></tr>\n",
       "\t<tr><th scope=row>1246</th><td>0</td><td>0</td><td>0</td><td>0</td><td>0</td><td>0</td><td>0</td><td>1</td><td>0</td><td>0</td><td>0</td><td>0</td><td>0</td><td>0</td><td>0</td><td>0</td><td>1</td><td>0</td></tr>\n",
       "\t<tr><th scope=row>1247</th><td>0</td><td>0</td><td>0</td><td>0</td><td>0</td><td>0</td><td>0</td><td>1</td><td>0</td><td>1</td><td>0</td><td>0</td><td>0</td><td>0</td><td>0</td><td>0</td><td>0</td><td>0</td></tr>\n",
       "\t<tr><th scope=row>1248</th><td>0</td><td>0</td><td>0</td><td>0</td><td>0</td><td>0</td><td>0</td><td>1</td><td>1</td><td>0</td><td>0</td><td>0</td><td>0</td><td>1</td><td>0</td><td>1</td><td>1</td><td>0</td></tr>\n",
       "\t<tr><th scope=row>1249</th><td>0</td><td>0</td><td>0</td><td>0</td><td>0</td><td>0</td><td>0</td><td>1</td><td>0</td><td>1</td><td>0</td><td>1</td><td>0</td><td>1</td><td>1</td><td>1</td><td>1</td><td>0</td></tr>\n",
       "\t<tr><th scope=row>1250</th><td>0</td><td>0</td><td>0</td><td>0</td><td>0</td><td>0</td><td>0</td><td>1</td><td>0</td><td>0</td><td>0</td><td>0</td><td>0</td><td>0</td><td>0</td><td>0</td><td>0</td><td>1</td></tr>\n",
       "\t<tr><th scope=row>1251</th><td>0</td><td>0</td><td>1</td><td>0</td><td>0</td><td>0</td><td>0</td><td>0</td><td>1</td><td>0</td><td>0</td><td>0</td><td>0</td><td>0</td><td>0</td><td>0</td><td>1</td><td>0</td></tr>\n",
       "\t<tr><th scope=row>1252</th><td>0</td><td>0</td><td>0</td><td>0</td><td>0</td><td>0</td><td>0</td><td>1</td><td>0</td><td>0</td><td>0</td><td>0</td><td>1</td><td>1</td><td>0</td><td>0</td><td>0</td><td>0</td></tr>\n",
       "\t<tr><th scope=row>1253</th><td>0</td><td>0</td><td>1</td><td>0</td><td>0</td><td>0</td><td>0</td><td>0</td><td>1</td><td>0</td><td>1</td><td>1</td><td>0</td><td>0</td><td>0</td><td>0</td><td>0</td><td>0</td></tr>\n",
       "\t<tr><th scope=row>1254</th><td>0</td><td>0</td><td>1</td><td>0</td><td>1</td><td>1</td><td>0</td><td>0</td><td>0</td><td>0</td><td>0</td><td>0</td><td>0</td><td>0</td><td>0</td><td>0</td><td>0</td><td>1</td></tr>\n",
       "\t<tr><th scope=row>1255</th><td>0</td><td>0</td><td>1</td><td>0</td><td>0</td><td>0</td><td>0</td><td>0</td><td>1</td><td>0</td><td>0</td><td>0</td><td>0</td><td>0</td><td>0</td><td>0</td><td>0</td><td>0</td></tr>\n",
       "</tbody>\n",
       "</table>\n"
      ],
      "text/latex": [
       "A data.frame: 1218 × 18\n",
       "\\begin{tabular}{r|llllllllllllllllll}\n",
       "  & PA\\_barrier\\_time\\_family\\_responsabilities & PA\\_barrier\\_\\_tiredness & PA\\_barrier\\_places\\_closed\\_dangerous & PA\\_barrier\\_money & PA\\_barrier\\_time\\_convenience & PA\\_barrier\\_hard\\_work & PA\\_barrier\\_no\\_interest & PA\\_barrier\\_none & PA\\_easiness\\_outdoor\\_activities & PA\\_easiness\\_professional\\_guidance & PA\\_easiness\\_unguided & PA\\_easiness\\_music & PA\\_easiness\\_collective & PA\\_easiness\\_home\\_activity & PA\\_easiness\\_family\\_activity & PA\\_easiness\\_home\\_space & PA\\_easiness\\_home\\_equipament & PA\\_easiness\\_others\\\\\n",
       "  & <fct> & <fct> & <fct> & <fct> & <fct> & <fct> & <fct> & <fct> & <fct> & <fct> & <fct> & <fct> & <fct> & <fct> & <fct> & <fct> & <fct> & <fct>\\\\\n",
       "\\hline\n",
       "\t2 & 0 & 0 & 1 & 0 & 0 & 0 & 0 & 0 & 1 & 0 & 0 & 0 & 0 & 0 & 0 & 1 & 1 & 0\\\\\n",
       "\t3 & 0 & 0 & 1 & 0 & 0 & 0 & 1 & 0 & 0 & 0 & 1 & 0 & 0 & 0 & 0 & 0 & 0 & 0\\\\\n",
       "\t4 & 0 & 0 & 1 & 0 & 0 & 0 & 0 & 0 & 1 & 1 & 0 & 0 & 0 & 1 & 0 & 1 & 1 & 0\\\\\n",
       "\t5 & 0 & 0 & 1 & 0 & 0 & 0 & 0 & 0 & 0 & 0 & 0 & 0 & 0 & 1 & 1 & 1 & 1 & 0\\\\\n",
       "\t6 & 1 & 0 & 0 & 0 & 0 & 0 & 0 & 0 & 1 & 0 & 0 & 0 & 0 & 0 & 0 & 0 & 1 & 0\\\\\n",
       "\t8 & 0 & 0 & 1 & 0 & 0 & 1 & 0 & 0 & 0 & 1 & 0 & 1 & 0 & 0 & 1 & 0 & 1 & 0\\\\\n",
       "\t9 & 0 & 0 & 1 & 1 & 0 & 0 & 0 & 0 & 1 & 0 & 1 & 1 & 0 & 1 & 0 & 1 & 1 & 0\\\\\n",
       "\t11 & 0 & 0 & 0 & 0 & 0 & 1 & 0 & 0 & 0 & 0 & 1 & 1 & 0 & 1 & 0 & 1 & 1 & 0\\\\\n",
       "\t12 & 0 & 0 & 1 & 0 & 0 & 0 & 0 & 0 & 0 & 0 & 1 & 0 & 0 & 0 & 0 & 1 & 1 & 0\\\\\n",
       "\t14 & 0 & 0 & 1 & 0 & 0 & 1 & 0 & 0 & 0 & 0 & 0 & 1 & 0 & 1 & 0 & 1 & 1 & 0\\\\\n",
       "\t15 & 0 & 0 & 0 & 0 & 0 & 1 & 0 & 0 & 0 & 0 & 1 & 1 & 0 & 0 & 0 & 0 & 0 & 0\\\\\n",
       "\t16 & 0 & 0 & 1 & 0 & 0 & 0 & 0 & 0 & 0 & 0 & 0 & 0 & 0 & 1 & 0 & 0 & 0 & 0\\\\\n",
       "\t17 & 0 & 0 & 0 & 0 & 0 & 1 & 0 & 0 & 0 & 1 & 0 & 0 & 0 & 1 & 0 & 1 & 0 & 0\\\\\n",
       "\t18 & 0 & 1 & 0 & 0 & 0 & 0 & 0 & 0 & 0 & 0 & 0 & 0 & 0 & 0 & 0 & 0 & 0 & 1\\\\\n",
       "\t20 & 0 & 0 & 1 & 0 & 0 & 0 & 0 & 0 & 0 & 0 & 0 & 1 & 0 & 0 & 1 & 0 & 0 & 0\\\\\n",
       "\t23 & 1 & 1 & 1 & 0 & 1 & 1 & 0 & 0 & 0 & 1 & 0 & 0 & 0 & 0 & 0 & 1 & 1 & 0\\\\\n",
       "\t25 & 0 & 0 & 1 & 0 & 0 & 1 & 0 & 0 & 1 & 0 & 0 & 1 & 1 & 0 & 0 & 0 & 0 & 0\\\\\n",
       "\t26 & 0 & 0 & 1 & 0 & 0 & 1 & 0 & 0 & 1 & 0 & 0 & 0 & 0 & 1 & 0 & 0 & 0 & 0\\\\\n",
       "\t27 & 0 & 0 & 1 & 0 & 0 & 0 & 0 & 0 & 1 & 1 & 0 & 0 & 0 & 0 & 0 & 0 & 0 & 0\\\\\n",
       "\t28 & 0 & 1 & 0 & 0 & 0 & 0 & 0 & 0 & 0 & 0 & 0 & 1 & 0 & 1 & 0 & 1 & 1 & 0\\\\\n",
       "\t29 & 0 & 0 & 1 & 0 & 0 & 0 & 0 & 0 & 0 & 0 & 0 & 0 & 0 & 0 & 0 & 1 & 1 & 0\\\\\n",
       "\t30 & 0 & 0 & 1 & 0 & 0 & 0 & 0 & 0 & 1 & 0 & 0 & 0 & 0 & 0 & 1 & 0 & 0 & 0\\\\\n",
       "\t31 & 0 & 0 & 1 & 0 & 0 & 1 & 1 & 0 & 0 & 0 & 0 & 0 & 0 & 1 & 0 & 1 & 1 & 0\\\\\n",
       "\t32 & 0 & 1 & 0 & 0 & 0 & 0 & 0 & 0 & 0 & 0 & 0 & 0 & 0 & 0 & 0 & 1 & 1 & 0\\\\\n",
       "\t33 & 0 & 0 & 1 & 0 & 0 & 0 & 0 & 0 & 1 & 0 & 0 & 1 & 0 & 1 & 0 & 0 & 1 & 0\\\\\n",
       "\t34 & 0 & 0 & 1 & 0 & 0 & 0 & 0 & 0 & 1 & 1 & 0 & 1 & 1 & 1 & 0 & 1 & 0 & 0\\\\\n",
       "\t35 & 1 & 0 & 0 & 0 & 0 & 0 & 0 & 0 & 0 & 1 & 0 & 1 & 0 & 1 & 1 & 1 & 1 & 0\\\\\n",
       "\t36 & 0 & 0 & 1 & 0 & 0 & 0 & 0 & 0 & 1 & 1 & 1 & 0 & 0 & 0 & 1 & 0 & 1 & 0\\\\\n",
       "\t37 & 0 & 0 & 1 & 0 & 0 & 0 & 0 & 0 & 1 & 0 & 0 & 0 & 0 & 0 & 0 & 0 & 0 & 0\\\\\n",
       "\t38 & 0 & 1 & 1 & 1 & 0 & 1 & 0 & 0 & 0 & 0 & 0 & 0 & 0 & 0 & 0 & 0 & 0 & 1\\\\\n",
       "\t... & ... & ... & ... & ... & ... & ... & ... & ... & ... & ... & ... & ... & ... & ... & ... & ... & ... & ...\\\\\n",
       "\t1226 & 0 & 0 & 0 & 0 & 0 & 1 & 0 & 1 & 0 & 0 & 0 & 1 & 0 & 1 & 0 & 1 & 1 & 0\\\\\n",
       "\t1227 & 0 & 0 & 1 & 0 & 0 & 0 & 0 & 0 & 1 & 1 & 0 & 1 & 1 & 0 & 0 & 0 & 0 & 0\\\\\n",
       "\t1228 & 0 & 0 & 0 & 0 & 0 & 0 & 0 & 1 & 0 & 1 & 0 & 0 & 0 & 1 & 1 & 1 & 0 & 0\\\\\n",
       "\t1229 & 0 & 0 & 0 & 0 & 0 & 0 & 0 & 1 & 0 & 0 & 0 & 0 & 0 & 0 & 0 & 1 & 0 & 0\\\\\n",
       "\t1230 & 0 & 0 & 0 & 0 & 0 & 0 & 0 & 1 & 0 & 0 & 0 & 0 & 1 & 1 & 0 & 0 & 0 & 0\\\\\n",
       "\t1231 & 0 & 0 & 0 & 0 & 1 & 1 & 1 & 0 & 1 & 0 & 0 & 1 & 0 & 0 & 0 & 0 & 0 & 0\\\\\n",
       "\t1232 & 0 & 0 & 0 & 0 & 0 & 0 & 0 & 1 & 1 & 1 & 0 & 0 & 0 & 0 & 0 & 1 & 0 & 0\\\\\n",
       "\t1233 & 0 & 0 & 1 & 0 & 0 & 0 & 0 & 0 & 0 & 0 & 0 & 0 & 0 & 0 & 0 & 1 & 1 & 0\\\\\n",
       "\t1234 & 0 & 0 & 0 & 0 & 0 & 0 & 0 & 1 & 0 & 1 & 0 & 1 & 1 & 1 & 1 & 1 & 1 & 0\\\\\n",
       "\t1235 & 0 & 0 & 1 & 0 & 0 & 0 & 0 & 0 & 1 & 0 & 0 & 0 & 0 & 0 & 0 & 0 & 0 & 0\\\\\n",
       "\t1236 & 0 & 0 & 0 & 0 & 0 & 0 & 0 & 1 & 0 & 1 & 0 & 1 & 0 & 1 & 1 & 1 & 1 & 0\\\\\n",
       "\t1237 & 0 & 0 & 0 & 0 & 0 & 0 & 0 & 1 & 1 & 0 & 0 & 0 & 0 & 1 & 0 & 1 & 1 & 0\\\\\n",
       "\t1238 & 0 & 0 & 0 & 0 & 0 & 0 & 0 & 1 & 0 & 0 & 0 & 0 & 0 & 0 & 0 & 0 & 1 & 0\\\\\n",
       "\t1239 & 0 & 1 & 1 & 0 & 0 & 0 & 0 & 0 & 0 & 1 & 0 & 1 & 0 & 0 & 0 & 1 & 1 & 0\\\\\n",
       "\t1240 & 0 & 0 & 0 & 0 & 0 & 0 & 0 & 1 & 0 & 0 & 0 & 0 & 0 & 1 & 0 & 0 & 0 & 0\\\\\n",
       "\t1241 & 0 & 0 & 1 & 0 & 0 & 0 & 1 & 0 & 1 & 0 & 0 & 1 & 0 & 0 & 1 & 1 & 1 & 0\\\\\n",
       "\t1242 & 0 & 0 & 0 & 0 & 0 & 0 & 0 & 1 & 0 & 1 & 1 & 0 & 0 & 1 & 1 & 1 & 1 & 0\\\\\n",
       "\t1243 & 0 & 0 & 0 & 0 & 0 & 0 & 0 & 1 & 0 & 1 & 0 & 0 & 0 & 0 & 0 & 1 & 1 & 0\\\\\n",
       "\t1244 & 0 & 0 & 0 & 0 & 0 & 0 & 0 & 1 & 0 & 0 & 0 & 0 & 0 & 0 & 0 & 0 & 1 & 0\\\\\n",
       "\t1245 & 0 & 0 & 0 & 0 & 0 & 1 & 0 & 0 & 0 & 0 & 0 & 1 & 0 & 0 & 0 & 0 & 0 & 0\\\\\n",
       "\t1246 & 0 & 0 & 0 & 0 & 0 & 0 & 0 & 1 & 0 & 0 & 0 & 0 & 0 & 0 & 0 & 0 & 1 & 0\\\\\n",
       "\t1247 & 0 & 0 & 0 & 0 & 0 & 0 & 0 & 1 & 0 & 1 & 0 & 0 & 0 & 0 & 0 & 0 & 0 & 0\\\\\n",
       "\t1248 & 0 & 0 & 0 & 0 & 0 & 0 & 0 & 1 & 1 & 0 & 0 & 0 & 0 & 1 & 0 & 1 & 1 & 0\\\\\n",
       "\t1249 & 0 & 0 & 0 & 0 & 0 & 0 & 0 & 1 & 0 & 1 & 0 & 1 & 0 & 1 & 1 & 1 & 1 & 0\\\\\n",
       "\t1250 & 0 & 0 & 0 & 0 & 0 & 0 & 0 & 1 & 0 & 0 & 0 & 0 & 0 & 0 & 0 & 0 & 0 & 1\\\\\n",
       "\t1251 & 0 & 0 & 1 & 0 & 0 & 0 & 0 & 0 & 1 & 0 & 0 & 0 & 0 & 0 & 0 & 0 & 1 & 0\\\\\n",
       "\t1252 & 0 & 0 & 0 & 0 & 0 & 0 & 0 & 1 & 0 & 0 & 0 & 0 & 1 & 1 & 0 & 0 & 0 & 0\\\\\n",
       "\t1253 & 0 & 0 & 1 & 0 & 0 & 0 & 0 & 0 & 1 & 0 & 1 & 1 & 0 & 0 & 0 & 0 & 0 & 0\\\\\n",
       "\t1254 & 0 & 0 & 1 & 0 & 1 & 1 & 0 & 0 & 0 & 0 & 0 & 0 & 0 & 0 & 0 & 0 & 0 & 1\\\\\n",
       "\t1255 & 0 & 0 & 1 & 0 & 0 & 0 & 0 & 0 & 1 & 0 & 0 & 0 & 0 & 0 & 0 & 0 & 0 & 0\\\\\n",
       "\\end{tabular}\n"
      ],
      "text/markdown": [
       "\n",
       "A data.frame: 1218 × 18\n",
       "\n",
       "| <!--/--> | PA_barrier_time_family_responsabilities &lt;fct&gt; | PA_barrier__tiredness &lt;fct&gt; | PA_barrier_places_closed_dangerous &lt;fct&gt; | PA_barrier_money &lt;fct&gt; | PA_barrier_time_convenience &lt;fct&gt; | PA_barrier_hard_work &lt;fct&gt; | PA_barrier_no_interest &lt;fct&gt; | PA_barrier_none &lt;fct&gt; | PA_easiness_outdoor_activities &lt;fct&gt; | PA_easiness_professional_guidance &lt;fct&gt; | PA_easiness_unguided &lt;fct&gt; | PA_easiness_music &lt;fct&gt; | PA_easiness_collective &lt;fct&gt; | PA_easiness_home_activity &lt;fct&gt; | PA_easiness_family_activity &lt;fct&gt; | PA_easiness_home_space &lt;fct&gt; | PA_easiness_home_equipament &lt;fct&gt; | PA_easiness_others &lt;fct&gt; |\n",
       "|---|---|---|---|---|---|---|---|---|---|---|---|---|---|---|---|---|---|---|\n",
       "| 2 | 0 | 0 | 1 | 0 | 0 | 0 | 0 | 0 | 1 | 0 | 0 | 0 | 0 | 0 | 0 | 1 | 1 | 0 |\n",
       "| 3 | 0 | 0 | 1 | 0 | 0 | 0 | 1 | 0 | 0 | 0 | 1 | 0 | 0 | 0 | 0 | 0 | 0 | 0 |\n",
       "| 4 | 0 | 0 | 1 | 0 | 0 | 0 | 0 | 0 | 1 | 1 | 0 | 0 | 0 | 1 | 0 | 1 | 1 | 0 |\n",
       "| 5 | 0 | 0 | 1 | 0 | 0 | 0 | 0 | 0 | 0 | 0 | 0 | 0 | 0 | 1 | 1 | 1 | 1 | 0 |\n",
       "| 6 | 1 | 0 | 0 | 0 | 0 | 0 | 0 | 0 | 1 | 0 | 0 | 0 | 0 | 0 | 0 | 0 | 1 | 0 |\n",
       "| 8 | 0 | 0 | 1 | 0 | 0 | 1 | 0 | 0 | 0 | 1 | 0 | 1 | 0 | 0 | 1 | 0 | 1 | 0 |\n",
       "| 9 | 0 | 0 | 1 | 1 | 0 | 0 | 0 | 0 | 1 | 0 | 1 | 1 | 0 | 1 | 0 | 1 | 1 | 0 |\n",
       "| 11 | 0 | 0 | 0 | 0 | 0 | 1 | 0 | 0 | 0 | 0 | 1 | 1 | 0 | 1 | 0 | 1 | 1 | 0 |\n",
       "| 12 | 0 | 0 | 1 | 0 | 0 | 0 | 0 | 0 | 0 | 0 | 1 | 0 | 0 | 0 | 0 | 1 | 1 | 0 |\n",
       "| 14 | 0 | 0 | 1 | 0 | 0 | 1 | 0 | 0 | 0 | 0 | 0 | 1 | 0 | 1 | 0 | 1 | 1 | 0 |\n",
       "| 15 | 0 | 0 | 0 | 0 | 0 | 1 | 0 | 0 | 0 | 0 | 1 | 1 | 0 | 0 | 0 | 0 | 0 | 0 |\n",
       "| 16 | 0 | 0 | 1 | 0 | 0 | 0 | 0 | 0 | 0 | 0 | 0 | 0 | 0 | 1 | 0 | 0 | 0 | 0 |\n",
       "| 17 | 0 | 0 | 0 | 0 | 0 | 1 | 0 | 0 | 0 | 1 | 0 | 0 | 0 | 1 | 0 | 1 | 0 | 0 |\n",
       "| 18 | 0 | 1 | 0 | 0 | 0 | 0 | 0 | 0 | 0 | 0 | 0 | 0 | 0 | 0 | 0 | 0 | 0 | 1 |\n",
       "| 20 | 0 | 0 | 1 | 0 | 0 | 0 | 0 | 0 | 0 | 0 | 0 | 1 | 0 | 0 | 1 | 0 | 0 | 0 |\n",
       "| 23 | 1 | 1 | 1 | 0 | 1 | 1 | 0 | 0 | 0 | 1 | 0 | 0 | 0 | 0 | 0 | 1 | 1 | 0 |\n",
       "| 25 | 0 | 0 | 1 | 0 | 0 | 1 | 0 | 0 | 1 | 0 | 0 | 1 | 1 | 0 | 0 | 0 | 0 | 0 |\n",
       "| 26 | 0 | 0 | 1 | 0 | 0 | 1 | 0 | 0 | 1 | 0 | 0 | 0 | 0 | 1 | 0 | 0 | 0 | 0 |\n",
       "| 27 | 0 | 0 | 1 | 0 | 0 | 0 | 0 | 0 | 1 | 1 | 0 | 0 | 0 | 0 | 0 | 0 | 0 | 0 |\n",
       "| 28 | 0 | 1 | 0 | 0 | 0 | 0 | 0 | 0 | 0 | 0 | 0 | 1 | 0 | 1 | 0 | 1 | 1 | 0 |\n",
       "| 29 | 0 | 0 | 1 | 0 | 0 | 0 | 0 | 0 | 0 | 0 | 0 | 0 | 0 | 0 | 0 | 1 | 1 | 0 |\n",
       "| 30 | 0 | 0 | 1 | 0 | 0 | 0 | 0 | 0 | 1 | 0 | 0 | 0 | 0 | 0 | 1 | 0 | 0 | 0 |\n",
       "| 31 | 0 | 0 | 1 | 0 | 0 | 1 | 1 | 0 | 0 | 0 | 0 | 0 | 0 | 1 | 0 | 1 | 1 | 0 |\n",
       "| 32 | 0 | 1 | 0 | 0 | 0 | 0 | 0 | 0 | 0 | 0 | 0 | 0 | 0 | 0 | 0 | 1 | 1 | 0 |\n",
       "| 33 | 0 | 0 | 1 | 0 | 0 | 0 | 0 | 0 | 1 | 0 | 0 | 1 | 0 | 1 | 0 | 0 | 1 | 0 |\n",
       "| 34 | 0 | 0 | 1 | 0 | 0 | 0 | 0 | 0 | 1 | 1 | 0 | 1 | 1 | 1 | 0 | 1 | 0 | 0 |\n",
       "| 35 | 1 | 0 | 0 | 0 | 0 | 0 | 0 | 0 | 0 | 1 | 0 | 1 | 0 | 1 | 1 | 1 | 1 | 0 |\n",
       "| 36 | 0 | 0 | 1 | 0 | 0 | 0 | 0 | 0 | 1 | 1 | 1 | 0 | 0 | 0 | 1 | 0 | 1 | 0 |\n",
       "| 37 | 0 | 0 | 1 | 0 | 0 | 0 | 0 | 0 | 1 | 0 | 0 | 0 | 0 | 0 | 0 | 0 | 0 | 0 |\n",
       "| 38 | 0 | 1 | 1 | 1 | 0 | 1 | 0 | 0 | 0 | 0 | 0 | 0 | 0 | 0 | 0 | 0 | 0 | 1 |\n",
       "| ... | ... | ... | ... | ... | ... | ... | ... | ... | ... | ... | ... | ... | ... | ... | ... | ... | ... | ... |\n",
       "| 1226 | 0 | 0 | 0 | 0 | 0 | 1 | 0 | 1 | 0 | 0 | 0 | 1 | 0 | 1 | 0 | 1 | 1 | 0 |\n",
       "| 1227 | 0 | 0 | 1 | 0 | 0 | 0 | 0 | 0 | 1 | 1 | 0 | 1 | 1 | 0 | 0 | 0 | 0 | 0 |\n",
       "| 1228 | 0 | 0 | 0 | 0 | 0 | 0 | 0 | 1 | 0 | 1 | 0 | 0 | 0 | 1 | 1 | 1 | 0 | 0 |\n",
       "| 1229 | 0 | 0 | 0 | 0 | 0 | 0 | 0 | 1 | 0 | 0 | 0 | 0 | 0 | 0 | 0 | 1 | 0 | 0 |\n",
       "| 1230 | 0 | 0 | 0 | 0 | 0 | 0 | 0 | 1 | 0 | 0 | 0 | 0 | 1 | 1 | 0 | 0 | 0 | 0 |\n",
       "| 1231 | 0 | 0 | 0 | 0 | 1 | 1 | 1 | 0 | 1 | 0 | 0 | 1 | 0 | 0 | 0 | 0 | 0 | 0 |\n",
       "| 1232 | 0 | 0 | 0 | 0 | 0 | 0 | 0 | 1 | 1 | 1 | 0 | 0 | 0 | 0 | 0 | 1 | 0 | 0 |\n",
       "| 1233 | 0 | 0 | 1 | 0 | 0 | 0 | 0 | 0 | 0 | 0 | 0 | 0 | 0 | 0 | 0 | 1 | 1 | 0 |\n",
       "| 1234 | 0 | 0 | 0 | 0 | 0 | 0 | 0 | 1 | 0 | 1 | 0 | 1 | 1 | 1 | 1 | 1 | 1 | 0 |\n",
       "| 1235 | 0 | 0 | 1 | 0 | 0 | 0 | 0 | 0 | 1 | 0 | 0 | 0 | 0 | 0 | 0 | 0 | 0 | 0 |\n",
       "| 1236 | 0 | 0 | 0 | 0 | 0 | 0 | 0 | 1 | 0 | 1 | 0 | 1 | 0 | 1 | 1 | 1 | 1 | 0 |\n",
       "| 1237 | 0 | 0 | 0 | 0 | 0 | 0 | 0 | 1 | 1 | 0 | 0 | 0 | 0 | 1 | 0 | 1 | 1 | 0 |\n",
       "| 1238 | 0 | 0 | 0 | 0 | 0 | 0 | 0 | 1 | 0 | 0 | 0 | 0 | 0 | 0 | 0 | 0 | 1 | 0 |\n",
       "| 1239 | 0 | 1 | 1 | 0 | 0 | 0 | 0 | 0 | 0 | 1 | 0 | 1 | 0 | 0 | 0 | 1 | 1 | 0 |\n",
       "| 1240 | 0 | 0 | 0 | 0 | 0 | 0 | 0 | 1 | 0 | 0 | 0 | 0 | 0 | 1 | 0 | 0 | 0 | 0 |\n",
       "| 1241 | 0 | 0 | 1 | 0 | 0 | 0 | 1 | 0 | 1 | 0 | 0 | 1 | 0 | 0 | 1 | 1 | 1 | 0 |\n",
       "| 1242 | 0 | 0 | 0 | 0 | 0 | 0 | 0 | 1 | 0 | 1 | 1 | 0 | 0 | 1 | 1 | 1 | 1 | 0 |\n",
       "| 1243 | 0 | 0 | 0 | 0 | 0 | 0 | 0 | 1 | 0 | 1 | 0 | 0 | 0 | 0 | 0 | 1 | 1 | 0 |\n",
       "| 1244 | 0 | 0 | 0 | 0 | 0 | 0 | 0 | 1 | 0 | 0 | 0 | 0 | 0 | 0 | 0 | 0 | 1 | 0 |\n",
       "| 1245 | 0 | 0 | 0 | 0 | 0 | 1 | 0 | 0 | 0 | 0 | 0 | 1 | 0 | 0 | 0 | 0 | 0 | 0 |\n",
       "| 1246 | 0 | 0 | 0 | 0 | 0 | 0 | 0 | 1 | 0 | 0 | 0 | 0 | 0 | 0 | 0 | 0 | 1 | 0 |\n",
       "| 1247 | 0 | 0 | 0 | 0 | 0 | 0 | 0 | 1 | 0 | 1 | 0 | 0 | 0 | 0 | 0 | 0 | 0 | 0 |\n",
       "| 1248 | 0 | 0 | 0 | 0 | 0 | 0 | 0 | 1 | 1 | 0 | 0 | 0 | 0 | 1 | 0 | 1 | 1 | 0 |\n",
       "| 1249 | 0 | 0 | 0 | 0 | 0 | 0 | 0 | 1 | 0 | 1 | 0 | 1 | 0 | 1 | 1 | 1 | 1 | 0 |\n",
       "| 1250 | 0 | 0 | 0 | 0 | 0 | 0 | 0 | 1 | 0 | 0 | 0 | 0 | 0 | 0 | 0 | 0 | 0 | 1 |\n",
       "| 1251 | 0 | 0 | 1 | 0 | 0 | 0 | 0 | 0 | 1 | 0 | 0 | 0 | 0 | 0 | 0 | 0 | 1 | 0 |\n",
       "| 1252 | 0 | 0 | 0 | 0 | 0 | 0 | 0 | 1 | 0 | 0 | 0 | 0 | 1 | 1 | 0 | 0 | 0 | 0 |\n",
       "| 1253 | 0 | 0 | 1 | 0 | 0 | 0 | 0 | 0 | 1 | 0 | 1 | 1 | 0 | 0 | 0 | 0 | 0 | 0 |\n",
       "| 1254 | 0 | 0 | 1 | 0 | 1 | 1 | 0 | 0 | 0 | 0 | 0 | 0 | 0 | 0 | 0 | 0 | 0 | 1 |\n",
       "| 1255 | 0 | 0 | 1 | 0 | 0 | 0 | 0 | 0 | 1 | 0 | 0 | 0 | 0 | 0 | 0 | 0 | 0 | 0 |\n",
       "\n"
      ],
      "text/plain": [
       "     PA_barrier_time_family_responsabilities PA_barrier__tiredness\n",
       "2    0                                       0                    \n",
       "3    0                                       0                    \n",
       "4    0                                       0                    \n",
       "5    0                                       0                    \n",
       "6    1                                       0                    \n",
       "8    0                                       0                    \n",
       "9    0                                       0                    \n",
       "11   0                                       0                    \n",
       "12   0                                       0                    \n",
       "14   0                                       0                    \n",
       "15   0                                       0                    \n",
       "16   0                                       0                    \n",
       "17   0                                       0                    \n",
       "18   0                                       1                    \n",
       "20   0                                       0                    \n",
       "23   1                                       1                    \n",
       "25   0                                       0                    \n",
       "26   0                                       0                    \n",
       "27   0                                       0                    \n",
       "28   0                                       1                    \n",
       "29   0                                       0                    \n",
       "30   0                                       0                    \n",
       "31   0                                       0                    \n",
       "32   0                                       1                    \n",
       "33   0                                       0                    \n",
       "34   0                                       0                    \n",
       "35   1                                       0                    \n",
       "36   0                                       0                    \n",
       "37   0                                       0                    \n",
       "38   0                                       1                    \n",
       "...  ...                                     ...                  \n",
       "1226 0                                       0                    \n",
       "1227 0                                       0                    \n",
       "1228 0                                       0                    \n",
       "1229 0                                       0                    \n",
       "1230 0                                       0                    \n",
       "1231 0                                       0                    \n",
       "1232 0                                       0                    \n",
       "1233 0                                       0                    \n",
       "1234 0                                       0                    \n",
       "1235 0                                       0                    \n",
       "1236 0                                       0                    \n",
       "1237 0                                       0                    \n",
       "1238 0                                       0                    \n",
       "1239 0                                       1                    \n",
       "1240 0                                       0                    \n",
       "1241 0                                       0                    \n",
       "1242 0                                       0                    \n",
       "1243 0                                       0                    \n",
       "1244 0                                       0                    \n",
       "1245 0                                       0                    \n",
       "1246 0                                       0                    \n",
       "1247 0                                       0                    \n",
       "1248 0                                       0                    \n",
       "1249 0                                       0                    \n",
       "1250 0                                       0                    \n",
       "1251 0                                       0                    \n",
       "1252 0                                       0                    \n",
       "1253 0                                       0                    \n",
       "1254 0                                       0                    \n",
       "1255 0                                       0                    \n",
       "     PA_barrier_places_closed_dangerous PA_barrier_money\n",
       "2    1                                  0               \n",
       "3    1                                  0               \n",
       "4    1                                  0               \n",
       "5    1                                  0               \n",
       "6    0                                  0               \n",
       "8    1                                  0               \n",
       "9    1                                  1               \n",
       "11   0                                  0               \n",
       "12   1                                  0               \n",
       "14   1                                  0               \n",
       "15   0                                  0               \n",
       "16   1                                  0               \n",
       "17   0                                  0               \n",
       "18   0                                  0               \n",
       "20   1                                  0               \n",
       "23   1                                  0               \n",
       "25   1                                  0               \n",
       "26   1                                  0               \n",
       "27   1                                  0               \n",
       "28   0                                  0               \n",
       "29   1                                  0               \n",
       "30   1                                  0               \n",
       "31   1                                  0               \n",
       "32   0                                  0               \n",
       "33   1                                  0               \n",
       "34   1                                  0               \n",
       "35   0                                  0               \n",
       "36   1                                  0               \n",
       "37   1                                  0               \n",
       "38   1                                  1               \n",
       "...  ...                                ...             \n",
       "1226 0                                  0               \n",
       "1227 1                                  0               \n",
       "1228 0                                  0               \n",
       "1229 0                                  0               \n",
       "1230 0                                  0               \n",
       "1231 0                                  0               \n",
       "1232 0                                  0               \n",
       "1233 1                                  0               \n",
       "1234 0                                  0               \n",
       "1235 1                                  0               \n",
       "1236 0                                  0               \n",
       "1237 0                                  0               \n",
       "1238 0                                  0               \n",
       "1239 1                                  0               \n",
       "1240 0                                  0               \n",
       "1241 1                                  0               \n",
       "1242 0                                  0               \n",
       "1243 0                                  0               \n",
       "1244 0                                  0               \n",
       "1245 0                                  0               \n",
       "1246 0                                  0               \n",
       "1247 0                                  0               \n",
       "1248 0                                  0               \n",
       "1249 0                                  0               \n",
       "1250 0                                  0               \n",
       "1251 1                                  0               \n",
       "1252 0                                  0               \n",
       "1253 1                                  0               \n",
       "1254 1                                  0               \n",
       "1255 1                                  0               \n",
       "     PA_barrier_time_convenience PA_barrier_hard_work PA_barrier_no_interest\n",
       "2    0                           0                    0                     \n",
       "3    0                           0                    1                     \n",
       "4    0                           0                    0                     \n",
       "5    0                           0                    0                     \n",
       "6    0                           0                    0                     \n",
       "8    0                           1                    0                     \n",
       "9    0                           0                    0                     \n",
       "11   0                           1                    0                     \n",
       "12   0                           0                    0                     \n",
       "14   0                           1                    0                     \n",
       "15   0                           1                    0                     \n",
       "16   0                           0                    0                     \n",
       "17   0                           1                    0                     \n",
       "18   0                           0                    0                     \n",
       "20   0                           0                    0                     \n",
       "23   1                           1                    0                     \n",
       "25   0                           1                    0                     \n",
       "26   0                           1                    0                     \n",
       "27   0                           0                    0                     \n",
       "28   0                           0                    0                     \n",
       "29   0                           0                    0                     \n",
       "30   0                           0                    0                     \n",
       "31   0                           1                    1                     \n",
       "32   0                           0                    0                     \n",
       "33   0                           0                    0                     \n",
       "34   0                           0                    0                     \n",
       "35   0                           0                    0                     \n",
       "36   0                           0                    0                     \n",
       "37   0                           0                    0                     \n",
       "38   0                           1                    0                     \n",
       "...  ...                         ...                  ...                   \n",
       "1226 0                           1                    0                     \n",
       "1227 0                           0                    0                     \n",
       "1228 0                           0                    0                     \n",
       "1229 0                           0                    0                     \n",
       "1230 0                           0                    0                     \n",
       "1231 1                           1                    1                     \n",
       "1232 0                           0                    0                     \n",
       "1233 0                           0                    0                     \n",
       "1234 0                           0                    0                     \n",
       "1235 0                           0                    0                     \n",
       "1236 0                           0                    0                     \n",
       "1237 0                           0                    0                     \n",
       "1238 0                           0                    0                     \n",
       "1239 0                           0                    0                     \n",
       "1240 0                           0                    0                     \n",
       "1241 0                           0                    1                     \n",
       "1242 0                           0                    0                     \n",
       "1243 0                           0                    0                     \n",
       "1244 0                           0                    0                     \n",
       "1245 0                           1                    0                     \n",
       "1246 0                           0                    0                     \n",
       "1247 0                           0                    0                     \n",
       "1248 0                           0                    0                     \n",
       "1249 0                           0                    0                     \n",
       "1250 0                           0                    0                     \n",
       "1251 0                           0                    0                     \n",
       "1252 0                           0                    0                     \n",
       "1253 0                           0                    0                     \n",
       "1254 1                           1                    0                     \n",
       "1255 0                           0                    0                     \n",
       "     PA_barrier_none PA_easiness_outdoor_activities\n",
       "2    0               1                             \n",
       "3    0               0                             \n",
       "4    0               1                             \n",
       "5    0               0                             \n",
       "6    0               1                             \n",
       "8    0               0                             \n",
       "9    0               1                             \n",
       "11   0               0                             \n",
       "12   0               0                             \n",
       "14   0               0                             \n",
       "15   0               0                             \n",
       "16   0               0                             \n",
       "17   0               0                             \n",
       "18   0               0                             \n",
       "20   0               0                             \n",
       "23   0               0                             \n",
       "25   0               1                             \n",
       "26   0               1                             \n",
       "27   0               1                             \n",
       "28   0               0                             \n",
       "29   0               0                             \n",
       "30   0               1                             \n",
       "31   0               0                             \n",
       "32   0               0                             \n",
       "33   0               1                             \n",
       "34   0               1                             \n",
       "35   0               0                             \n",
       "36   0               1                             \n",
       "37   0               1                             \n",
       "38   0               0                             \n",
       "...  ...             ...                           \n",
       "1226 1               0                             \n",
       "1227 0               1                             \n",
       "1228 1               0                             \n",
       "1229 1               0                             \n",
       "1230 1               0                             \n",
       "1231 0               1                             \n",
       "1232 1               1                             \n",
       "1233 0               0                             \n",
       "1234 1               0                             \n",
       "1235 0               1                             \n",
       "1236 1               0                             \n",
       "1237 1               1                             \n",
       "1238 1               0                             \n",
       "1239 0               0                             \n",
       "1240 1               0                             \n",
       "1241 0               1                             \n",
       "1242 1               0                             \n",
       "1243 1               0                             \n",
       "1244 1               0                             \n",
       "1245 0               0                             \n",
       "1246 1               0                             \n",
       "1247 1               0                             \n",
       "1248 1               1                             \n",
       "1249 1               0                             \n",
       "1250 1               0                             \n",
       "1251 0               1                             \n",
       "1252 1               0                             \n",
       "1253 0               1                             \n",
       "1254 0               0                             \n",
       "1255 0               1                             \n",
       "     PA_easiness_professional_guidance PA_easiness_unguided PA_easiness_music\n",
       "2    0                                 0                    0                \n",
       "3    0                                 1                    0                \n",
       "4    1                                 0                    0                \n",
       "5    0                                 0                    0                \n",
       "6    0                                 0                    0                \n",
       "8    1                                 0                    1                \n",
       "9    0                                 1                    1                \n",
       "11   0                                 1                    1                \n",
       "12   0                                 1                    0                \n",
       "14   0                                 0                    1                \n",
       "15   0                                 1                    1                \n",
       "16   0                                 0                    0                \n",
       "17   1                                 0                    0                \n",
       "18   0                                 0                    0                \n",
       "20   0                                 0                    1                \n",
       "23   1                                 0                    0                \n",
       "25   0                                 0                    1                \n",
       "26   0                                 0                    0                \n",
       "27   1                                 0                    0                \n",
       "28   0                                 0                    1                \n",
       "29   0                                 0                    0                \n",
       "30   0                                 0                    0                \n",
       "31   0                                 0                    0                \n",
       "32   0                                 0                    0                \n",
       "33   0                                 0                    1                \n",
       "34   1                                 0                    1                \n",
       "35   1                                 0                    1                \n",
       "36   1                                 1                    0                \n",
       "37   0                                 0                    0                \n",
       "38   0                                 0                    0                \n",
       "...  ...                               ...                  ...              \n",
       "1226 0                                 0                    1                \n",
       "1227 1                                 0                    1                \n",
       "1228 1                                 0                    0                \n",
       "1229 0                                 0                    0                \n",
       "1230 0                                 0                    0                \n",
       "1231 0                                 0                    1                \n",
       "1232 1                                 0                    0                \n",
       "1233 0                                 0                    0                \n",
       "1234 1                                 0                    1                \n",
       "1235 0                                 0                    0                \n",
       "1236 1                                 0                    1                \n",
       "1237 0                                 0                    0                \n",
       "1238 0                                 0                    0                \n",
       "1239 1                                 0                    1                \n",
       "1240 0                                 0                    0                \n",
       "1241 0                                 0                    1                \n",
       "1242 1                                 1                    0                \n",
       "1243 1                                 0                    0                \n",
       "1244 0                                 0                    0                \n",
       "1245 0                                 0                    1                \n",
       "1246 0                                 0                    0                \n",
       "1247 1                                 0                    0                \n",
       "1248 0                                 0                    0                \n",
       "1249 1                                 0                    1                \n",
       "1250 0                                 0                    0                \n",
       "1251 0                                 0                    0                \n",
       "1252 0                                 0                    0                \n",
       "1253 0                                 1                    1                \n",
       "1254 0                                 0                    0                \n",
       "1255 0                                 0                    0                \n",
       "     PA_easiness_collective PA_easiness_home_activity\n",
       "2    0                      0                        \n",
       "3    0                      0                        \n",
       "4    0                      1                        \n",
       "5    0                      1                        \n",
       "6    0                      0                        \n",
       "8    0                      0                        \n",
       "9    0                      1                        \n",
       "11   0                      1                        \n",
       "12   0                      0                        \n",
       "14   0                      1                        \n",
       "15   0                      0                        \n",
       "16   0                      1                        \n",
       "17   0                      1                        \n",
       "18   0                      0                        \n",
       "20   0                      0                        \n",
       "23   0                      0                        \n",
       "25   1                      0                        \n",
       "26   0                      1                        \n",
       "27   0                      0                        \n",
       "28   0                      1                        \n",
       "29   0                      0                        \n",
       "30   0                      0                        \n",
       "31   0                      1                        \n",
       "32   0                      0                        \n",
       "33   0                      1                        \n",
       "34   1                      1                        \n",
       "35   0                      1                        \n",
       "36   0                      0                        \n",
       "37   0                      0                        \n",
       "38   0                      0                        \n",
       "...  ...                    ...                      \n",
       "1226 0                      1                        \n",
       "1227 1                      0                        \n",
       "1228 0                      1                        \n",
       "1229 0                      0                        \n",
       "1230 1                      1                        \n",
       "1231 0                      0                        \n",
       "1232 0                      0                        \n",
       "1233 0                      0                        \n",
       "1234 1                      1                        \n",
       "1235 0                      0                        \n",
       "1236 0                      1                        \n",
       "1237 0                      1                        \n",
       "1238 0                      0                        \n",
       "1239 0                      0                        \n",
       "1240 0                      1                        \n",
       "1241 0                      0                        \n",
       "1242 0                      1                        \n",
       "1243 0                      0                        \n",
       "1244 0                      0                        \n",
       "1245 0                      0                        \n",
       "1246 0                      0                        \n",
       "1247 0                      0                        \n",
       "1248 0                      1                        \n",
       "1249 0                      1                        \n",
       "1250 0                      0                        \n",
       "1251 0                      0                        \n",
       "1252 1                      1                        \n",
       "1253 0                      0                        \n",
       "1254 0                      0                        \n",
       "1255 0                      0                        \n",
       "     PA_easiness_family_activity PA_easiness_home_space\n",
       "2    0                           1                     \n",
       "3    0                           0                     \n",
       "4    0                           1                     \n",
       "5    1                           1                     \n",
       "6    0                           0                     \n",
       "8    1                           0                     \n",
       "9    0                           1                     \n",
       "11   0                           1                     \n",
       "12   0                           1                     \n",
       "14   0                           1                     \n",
       "15   0                           0                     \n",
       "16   0                           0                     \n",
       "17   0                           1                     \n",
       "18   0                           0                     \n",
       "20   1                           0                     \n",
       "23   0                           1                     \n",
       "25   0                           0                     \n",
       "26   0                           0                     \n",
       "27   0                           0                     \n",
       "28   0                           1                     \n",
       "29   0                           1                     \n",
       "30   1                           0                     \n",
       "31   0                           1                     \n",
       "32   0                           1                     \n",
       "33   0                           0                     \n",
       "34   0                           1                     \n",
       "35   1                           1                     \n",
       "36   1                           0                     \n",
       "37   0                           0                     \n",
       "38   0                           0                     \n",
       "...  ...                         ...                   \n",
       "1226 0                           1                     \n",
       "1227 0                           0                     \n",
       "1228 1                           1                     \n",
       "1229 0                           1                     \n",
       "1230 0                           0                     \n",
       "1231 0                           0                     \n",
       "1232 0                           1                     \n",
       "1233 0                           1                     \n",
       "1234 1                           1                     \n",
       "1235 0                           0                     \n",
       "1236 1                           1                     \n",
       "1237 0                           1                     \n",
       "1238 0                           0                     \n",
       "1239 0                           1                     \n",
       "1240 0                           0                     \n",
       "1241 1                           1                     \n",
       "1242 1                           1                     \n",
       "1243 0                           1                     \n",
       "1244 0                           0                     \n",
       "1245 0                           0                     \n",
       "1246 0                           0                     \n",
       "1247 0                           0                     \n",
       "1248 0                           1                     \n",
       "1249 1                           1                     \n",
       "1250 0                           0                     \n",
       "1251 0                           0                     \n",
       "1252 0                           0                     \n",
       "1253 0                           0                     \n",
       "1254 0                           0                     \n",
       "1255 0                           0                     \n",
       "     PA_easiness_home_equipament PA_easiness_others\n",
       "2    1                           0                 \n",
       "3    0                           0                 \n",
       "4    1                           0                 \n",
       "5    1                           0                 \n",
       "6    1                           0                 \n",
       "8    1                           0                 \n",
       "9    1                           0                 \n",
       "11   1                           0                 \n",
       "12   1                           0                 \n",
       "14   1                           0                 \n",
       "15   0                           0                 \n",
       "16   0                           0                 \n",
       "17   0                           0                 \n",
       "18   0                           1                 \n",
       "20   0                           0                 \n",
       "23   1                           0                 \n",
       "25   0                           0                 \n",
       "26   0                           0                 \n",
       "27   0                           0                 \n",
       "28   1                           0                 \n",
       "29   1                           0                 \n",
       "30   0                           0                 \n",
       "31   1                           0                 \n",
       "32   1                           0                 \n",
       "33   1                           0                 \n",
       "34   0                           0                 \n",
       "35   1                           0                 \n",
       "36   1                           0                 \n",
       "37   0                           0                 \n",
       "38   0                           1                 \n",
       "...  ...                         ...               \n",
       "1226 1                           0                 \n",
       "1227 0                           0                 \n",
       "1228 0                           0                 \n",
       "1229 0                           0                 \n",
       "1230 0                           0                 \n",
       "1231 0                           0                 \n",
       "1232 0                           0                 \n",
       "1233 1                           0                 \n",
       "1234 1                           0                 \n",
       "1235 0                           0                 \n",
       "1236 1                           0                 \n",
       "1237 1                           0                 \n",
       "1238 1                           0                 \n",
       "1239 1                           0                 \n",
       "1240 0                           0                 \n",
       "1241 1                           0                 \n",
       "1242 1                           0                 \n",
       "1243 1                           0                 \n",
       "1244 1                           0                 \n",
       "1245 0                           0                 \n",
       "1246 1                           0                 \n",
       "1247 0                           0                 \n",
       "1248 1                           0                 \n",
       "1249 1                           0                 \n",
       "1250 0                           1                 \n",
       "1251 1                           0                 \n",
       "1252 0                           0                 \n",
       "1253 0                           0                 \n",
       "1254 0                           1                 \n",
       "1255 0                           0                 "
      ]
     },
     "metadata": {},
     "output_type": "display_data"
    }
   ],
   "source": [
    "df_during_barriers_facilitators"
   ]
  },
  {
   "cell_type": "markdown",
   "metadata": {},
   "source": [
    "## Finding the best K"
   ]
  },
  {
   "cell_type": "markdown",
   "metadata": {},
   "source": [
    "#### Elbow Curve"
   ]
  },
  {
   "cell_type": "code",
   "execution_count": 184,
   "metadata": {
    "vscode": {
     "languageId": "r"
    }
   },
   "outputs": [
    {
     "data": {
      "image/png": "[encoded data removed]",
      "text/plain": [
       "plot without title"
      ]
     },
     "metadata": {
      "image/png": {
       "height": 420,
       "width": 420
      }
     },
     "output_type": "display_data"
    }
   ],
   "source": [
    "cost <- c()\n",
    "K = seq(1, 15, 1)\n",
    "for(num_clusters in K){\n",
    "    set.seed(2)\n",
    "    kmode <- kmodes(df_during_barriers_facilitators, num_clusters, iter.max = 20, weighted = FALSE)\n",
    "    cost <<- append(cost, sum(kmode$withindiff))\n",
    "}\n",
    "\n",
    "p = ggplot() + \n",
    "    geom_line(data = data.frame(cost, K), aes(x = K,  y = cost), size=1, color=\"red\") +\n",
    "    geom_point(data = data.frame(cost, K), aes(x = K,  y = cost), size=3) +\n",
    "    xlab('Number of Clusters') +\n",
    "    ylab('Cost')\n",
    "\n",
    "p"
   ]
  },
  {
   "cell_type": "markdown",
   "metadata": {},
   "source": [
    "#### Silhouette method"
   ]
  },
  {
   "cell_type": "code",
   "execution_count": 185,
   "metadata": {
    "vscode": {
     "languageId": "r"
    }
   },
   "outputs": [
    {
     "data": {
      "text/html": [
       "<table class=\"dataframe\">\n",
       "<caption>A matrix: 6 × 1218 of type dbl</caption>\n",
       "<thead>\n",
       "\t<tr><th></th><th scope=col>2</th><th scope=col>3</th><th scope=col>4</th><th scope=col>5</th><th scope=col>6</th><th scope=col>8</th><th scope=col>9</th><th scope=col>11</th><th scope=col>12</th><th scope=col>14</th><th scope=col>...</th><th scope=col>1246</th><th scope=col>1247</th><th scope=col>1248</th><th scope=col>1249</th><th scope=col>1250</th><th scope=col>1251</th><th scope=col>1252</th><th scope=col>1253</th><th scope=col>1254</th><th scope=col>1255</th></tr>\n",
       "</thead>\n",
       "<tbody>\n",
       "\t<tr><th scope=row>2</th><td>0</td><td>5</td><td>2</td><td>3</td><td>3</td><td>6</td><td>4</td><td>6</td><td>2</td><td>4</td><td>...</td><td>4</td><td>6</td><td>3</td><td> 7</td><td>6</td><td>1</td><td>7</td><td>4</td><td>6</td><td>2</td></tr>\n",
       "\t<tr><th scope=row>3</th><td>5</td><td>0</td><td>7</td><td>6</td><td>6</td><td>7</td><td>7</td><td>7</td><td>3</td><td>7</td><td>...</td><td>5</td><td>5</td><td>8</td><td>10</td><td>5</td><td>4</td><td>6</td><td>3</td><td>5</td><td>3</td></tr>\n",
       "\t<tr><th scope=row>4</th><td>2</td><td>7</td><td>0</td><td>3</td><td>5</td><td>6</td><td>4</td><td>6</td><td>4</td><td>4</td><td>...</td><td>6</td><td>6</td><td>3</td><td> 5</td><td>8</td><td>3</td><td>7</td><td>6</td><td>8</td><td>4</td></tr>\n",
       "\t<tr><th scope=row>5</th><td>3</td><td>6</td><td>3</td><td>0</td><td>6</td><td>5</td><td>5</td><td>5</td><td>3</td><td>3</td><td>...</td><td>5</td><td>7</td><td>4</td><td> 4</td><td>7</td><td>4</td><td>6</td><td>7</td><td>7</td><td>5</td></tr>\n",
       "\t<tr><th scope=row>6</th><td>3</td><td>6</td><td>5</td><td>6</td><td>0</td><td>7</td><td>7</td><td>7</td><td>5</td><td>7</td><td>...</td><td>3</td><td>5</td><td>4</td><td> 8</td><td>5</td><td>2</td><td>6</td><td>5</td><td>7</td><td>3</td></tr>\n",
       "\t<tr><th scope=row>8</th><td>6</td><td>7</td><td>6</td><td>5</td><td>7</td><td>0</td><td>8</td><td>6</td><td>6</td><td>4</td><td>...</td><td>6</td><td>6</td><td>9</td><td> 5</td><td>8</td><td>5</td><td>9</td><td>6</td><td>6</td><td>6</td></tr>\n",
       "</tbody>\n",
       "</table>\n"
      ],
      "text/latex": [
       "A matrix: 6 × 1218 of type dbl\n",
       "\\begin{tabular}{r|lllllllllllllllllllll}\n",
       "  & 2 & 3 & 4 & 5 & 6 & 8 & 9 & 11 & 12 & 14 & ... & 1246 & 1247 & 1248 & 1249 & 1250 & 1251 & 1252 & 1253 & 1254 & 1255\\\\\n",
       "\\hline\n",
       "\t2 & 0 & 5 & 2 & 3 & 3 & 6 & 4 & 6 & 2 & 4 & ... & 4 & 6 & 3 &  7 & 6 & 1 & 7 & 4 & 6 & 2\\\\\n",
       "\t3 & 5 & 0 & 7 & 6 & 6 & 7 & 7 & 7 & 3 & 7 & ... & 5 & 5 & 8 & 10 & 5 & 4 & 6 & 3 & 5 & 3\\\\\n",
       "\t4 & 2 & 7 & 0 & 3 & 5 & 6 & 4 & 6 & 4 & 4 & ... & 6 & 6 & 3 &  5 & 8 & 3 & 7 & 6 & 8 & 4\\\\\n",
       "\t5 & 3 & 6 & 3 & 0 & 6 & 5 & 5 & 5 & 3 & 3 & ... & 5 & 7 & 4 &  4 & 7 & 4 & 6 & 7 & 7 & 5\\\\\n",
       "\t6 & 3 & 6 & 5 & 6 & 0 & 7 & 7 & 7 & 5 & 7 & ... & 3 & 5 & 4 &  8 & 5 & 2 & 6 & 5 & 7 & 3\\\\\n",
       "\t8 & 6 & 7 & 6 & 5 & 7 & 0 & 8 & 6 & 6 & 4 & ... & 6 & 6 & 9 &  5 & 8 & 5 & 9 & 6 & 6 & 6\\\\\n",
       "\\end{tabular}\n"
      ],
      "text/markdown": [
       "\n",
       "A matrix: 6 × 1218 of type dbl\n",
       "\n",
       "| <!--/--> | 2 | 3 | 4 | 5 | 6 | 8 | 9 | 11 | 12 | 14 | ... | 1246 | 1247 | 1248 | 1249 | 1250 | 1251 | 1252 | 1253 | 1254 | 1255 |\n",
       "|---|---|---|---|---|---|---|---|---|---|---|---|---|---|---|---|---|---|---|---|---|---|\n",
       "| 2 | 0 | 5 | 2 | 3 | 3 | 6 | 4 | 6 | 2 | 4 | ... | 4 | 6 | 3 |  7 | 6 | 1 | 7 | 4 | 6 | 2 |\n",
       "| 3 | 5 | 0 | 7 | 6 | 6 | 7 | 7 | 7 | 3 | 7 | ... | 5 | 5 | 8 | 10 | 5 | 4 | 6 | 3 | 5 | 3 |\n",
       "| 4 | 2 | 7 | 0 | 3 | 5 | 6 | 4 | 6 | 4 | 4 | ... | 6 | 6 | 3 |  5 | 8 | 3 | 7 | 6 | 8 | 4 |\n",
       "| 5 | 3 | 6 | 3 | 0 | 6 | 5 | 5 | 5 | 3 | 3 | ... | 5 | 7 | 4 |  4 | 7 | 4 | 6 | 7 | 7 | 5 |\n",
       "| 6 | 3 | 6 | 5 | 6 | 0 | 7 | 7 | 7 | 5 | 7 | ... | 3 | 5 | 4 |  8 | 5 | 2 | 6 | 5 | 7 | 3 |\n",
       "| 8 | 6 | 7 | 6 | 5 | 7 | 0 | 8 | 6 | 6 | 4 | ... | 6 | 6 | 9 |  5 | 8 | 5 | 9 | 6 | 6 | 6 |\n",
       "\n"
      ],
      "text/plain": [
       "  2 3 4 5 6 8 9 11 12 14 ... 1246 1247 1248 1249 1250 1251 1252 1253 1254 1255\n",
       "2 0 5 2 3 3 6 4 6  2  4  ... 4    6    3     7   6    1    7    4    6    2   \n",
       "3 5 0 7 6 6 7 7 7  3  7  ... 5    5    8    10   5    4    6    3    5    3   \n",
       "4 2 7 0 3 5 6 4 6  4  4  ... 6    6    3     5   8    3    7    6    8    4   \n",
       "5 3 6 3 0 6 5 5 5  3  3  ... 5    7    4     4   7    4    6    7    7    5   \n",
       "6 3 6 5 6 0 7 7 7  5  7  ... 3    5    4     8   5    2    6    5    7    3   \n",
       "8 6 7 6 5 7 0 8 6  6  4  ... 6    6    9     5   8    5    9    6    6    6   "
      ]
     },
     "metadata": {},
     "output_type": "display_data"
    }
   ],
   "source": [
    "df_matrix <- data.matrix(df_during_barriers_facilitators) - 1\n",
    "similarity_matrix <- df_matrix %*% t(df_matrix) + ((!df_matrix) + 0) %*% ((!t(df_matrix)) + 0)\n",
    "dissimilarity_matrix <- ncol(df_during_barriers_facilitators) - similarity_matrix\n",
    "head(dissimilarity_matrix)"
   ]
  },
  {
   "cell_type": "markdown",
   "metadata": {},
   "source": [
    "Genrating Ks samples"
   ]
  },
  {
   "cell_type": "code",
   "execution_count": 186,
   "metadata": {
    "vscode": {
     "languageId": "r"
    }
   },
   "outputs": [],
   "source": [
    "# num_seeds = 100\n",
    "# max_index <- c()\n",
    "# max_value <- c()\n",
    "# seed_k <- data.frame(matrix(NA, ncol=num_seeds))\n",
    "# for(seed in 1:num_seeds){\n",
    "#     silhouette_scs <- c()\n",
    "#     for(k in 2:8){\n",
    "#         sc <- silhouette_values(num_clusters=k, df=df_during, diss_matrix=dissimilarity_matrix, iters=200, s=seed)[[1]]\n",
    "\n",
    "#         silhouette_scs <- append(sc, silhouette_scs)\n",
    "#     }\n",
    "#     max_index <- append(match(max(silhouette_scs), silhouette_scs), max_index)\n",
    "#     max_value <- append(max(silhouette_scs), max_value)\n",
    "# }\n",
    "# write.csv(data.frame(max_index, max_value),\"../Data/silhouette.csv\", row.names = FALSE)"
   ]
  },
  {
   "cell_type": "code",
   "execution_count": 187,
   "metadata": {
    "vscode": {
     "languageId": "r"
    }
   },
   "outputs": [
    {
     "name": "stderr",
     "output_type": "stream",
     "text": [
      "Warning message in xtfrm.data.frame(x):\n",
      "\"cannot xtfrm data frames\"\n"
     ]
    },
    {
     "data": {
      "text/html": [
       "<table class=\"dataframe\">\n",
       "<caption>A data.frame: 6 × 3</caption>\n",
       "<thead>\n",
       "\t<tr><th></th><th scope=col>max_index</th><th scope=col>max_value</th><th scope=col>ID</th></tr>\n",
       "\t<tr><th></th><th scope=col>&lt;int&gt;</th><th scope=col>&lt;dbl&gt;</th><th scope=col>&lt;int&gt;</th></tr>\n",
       "</thead>\n",
       "<tbody>\n",
       "\t<tr><th scope=row>75</th><td>3</td><td>0.03790605</td><td>75</td></tr>\n",
       "\t<tr><th scope=row>76</th><td>3</td><td>0.03299618</td><td>76</td></tr>\n",
       "\t<tr><th scope=row>85</th><td>1</td><td>0.03089509</td><td>85</td></tr>\n",
       "\t<tr><th scope=row>23</th><td>2</td><td>0.03081560</td><td>23</td></tr>\n",
       "\t<tr><th scope=row>89</th><td>1</td><td>0.02914475</td><td>89</td></tr>\n",
       "\t<tr><th scope=row>88</th><td>1</td><td>0.02650517</td><td>88</td></tr>\n",
       "</tbody>\n",
       "</table>\n"
      ],
      "text/latex": [
       "A data.frame: 6 × 3\n",
       "\\begin{tabular}{r|lll}\n",
       "  & max\\_index & max\\_value & ID\\\\\n",
       "  & <int> & <dbl> & <int>\\\\\n",
       "\\hline\n",
       "\t75 & 3 & 0.03790605 & 75\\\\\n",
       "\t76 & 3 & 0.03299618 & 76\\\\\n",
       "\t85 & 1 & 0.03089509 & 85\\\\\n",
       "\t23 & 2 & 0.03081560 & 23\\\\\n",
       "\t89 & 1 & 0.02914475 & 89\\\\\n",
       "\t88 & 1 & 0.02650517 & 88\\\\\n",
       "\\end{tabular}\n"
      ],
      "text/markdown": [
       "\n",
       "A data.frame: 6 × 3\n",
       "\n",
       "| <!--/--> | max_index &lt;int&gt; | max_value &lt;dbl&gt; | ID &lt;int&gt; |\n",
       "|---|---|---|---|\n",
       "| 75 | 3 | 0.03790605 | 75 |\n",
       "| 76 | 3 | 0.03299618 | 76 |\n",
       "| 85 | 1 | 0.03089509 | 85 |\n",
       "| 23 | 2 | 0.03081560 | 23 |\n",
       "| 89 | 1 | 0.02914475 | 89 |\n",
       "| 88 | 1 | 0.02650517 | 88 |\n",
       "\n"
      ],
      "text/plain": [
       "   max_index max_value  ID\n",
       "75 3         0.03790605 75\n",
       "76 3         0.03299618 76\n",
       "85 1         0.03089509 85\n",
       "23 2         0.03081560 23\n",
       "89 1         0.02914475 89\n",
       "88 1         0.02650517 88"
      ]
     },
     "metadata": {},
     "output_type": "display_data"
    }
   ],
   "source": [
    "best_silhouettes <- read.csv('../Data/silhouette.csv')\n",
    "best_silhouettes$ID <- seq.int(nrow(best_silhouettes))\n",
    "head(best_silhouettes[order(best_silhouettes['max_value'], decreasing = TRUE), ])"
   ]
  },
  {
   "cell_type": "code",
   "execution_count": 188,
   "metadata": {
    "vscode": {
     "languageId": "r"
    }
   },
   "outputs": [],
   "source": [
    "silhouette_scs <- c()\n",
    "for(k in 2:8){\n",
    "    sc <- silhouette_values(num_clusters=k, df=df_during, diss_matrix=dissimilarity_matrix, iters=200, s=75)\n",
    "\n",
    "    silhouette_scs <- append(sc, silhouette_scs)\n",
    "}\n"
   ]
  },
  {
   "cell_type": "code",
   "execution_count": 189,
   "metadata": {
    "vscode": {
     "languageId": "r"
    }
   },
   "outputs": [],
   "source": [
    "sc <- silhouette_values(num_clusters=3, df=df_during, diss_matrix=dissimilarity_matrix, iters=200, s=75)\n"
   ]
  },
  {
   "cell_type": "code",
   "execution_count": 264,
   "metadata": {
    "vscode": {
     "languageId": "r"
    }
   },
   "outputs": [
    {
     "data": {
      "text/html": [
       "<table class=\"dataframe\">\n",
       "<caption>A data.frame: 6 × 3</caption>\n",
       "<thead>\n",
       "\t<tr><th></th><th scope=col>coef</th><th scope=col>clust</th><th scope=col>ID</th></tr>\n",
       "\t<tr><th></th><th scope=col>&lt;dbl&gt;</th><th scope=col>&lt;fct&gt;</th><th scope=col>&lt;int&gt;</th></tr>\n",
       "</thead>\n",
       "<tbody>\n",
       "\t<tr><th scope=row>152</th><td>0.2427290</td><td>3</td><td>1</td></tr>\n",
       "\t<tr><th scope=row>166</th><td>0.2427290</td><td>3</td><td>2</td></tr>\n",
       "\t<tr><th scope=row>224</th><td>0.2427290</td><td>3</td><td>3</td></tr>\n",
       "\t<tr><th scope=row>323</th><td>0.2427290</td><td>3</td><td>4</td></tr>\n",
       "\t<tr><th scope=row>347</th><td>0.2353159</td><td>3</td><td>5</td></tr>\n",
       "\t<tr><th scope=row>419</th><td>0.2353159</td><td>3</td><td>6</td></tr>\n",
       "</tbody>\n",
       "</table>\n"
      ],
      "text/latex": [
       "A data.frame: 6 × 3\n",
       "\\begin{tabular}{r|lll}\n",
       "  & coef & clust & ID\\\\\n",
       "  & <dbl> & <fct> & <int>\\\\\n",
       "\\hline\n",
       "\t152 & 0.2427290 & 3 & 1\\\\\n",
       "\t166 & 0.2427290 & 3 & 2\\\\\n",
       "\t224 & 0.2427290 & 3 & 3\\\\\n",
       "\t323 & 0.2427290 & 3 & 4\\\\\n",
       "\t347 & 0.2353159 & 3 & 5\\\\\n",
       "\t419 & 0.2353159 & 3 & 6\\\\\n",
       "\\end{tabular}\n"
      ],
      "text/markdown": [
       "\n",
       "A data.frame: 6 × 3\n",
       "\n",
       "| <!--/--> | coef &lt;dbl&gt; | clust &lt;fct&gt; | ID &lt;int&gt; |\n",
       "|---|---|---|---|\n",
       "| 152 | 0.2427290 | 3 | 1 |\n",
       "| 166 | 0.2427290 | 3 | 2 |\n",
       "| 224 | 0.2427290 | 3 | 3 |\n",
       "| 323 | 0.2427290 | 3 | 4 |\n",
       "| 347 | 0.2353159 | 3 | 5 |\n",
       "| 419 | 0.2353159 | 3 | 6 |\n",
       "\n"
      ],
      "text/plain": [
       "    coef      clust ID\n",
       "152 0.2427290 3     1 \n",
       "166 0.2427290 3     2 \n",
       "224 0.2427290 3     3 \n",
       "323 0.2427290 3     4 \n",
       "347 0.2353159 3     5 \n",
       "419 0.2353159 3     6 "
      ]
     },
     "metadata": {},
     "output_type": "display_data"
    }
   ],
   "source": [
    "coef_data <- data.frame(coef=sc[[2]], clust=sc[[3]]$cluster)\n",
    "coef_data <- coef_data[order(coef_data$coef, decreasing=TRUE), ]\n",
    "coef_data <- coef_data[order(coef_data$clust, decreasing=TRUE), ]\n",
    "coef_data$clust <- as.factor(coef_data$clust )\n",
    "coef_data$ID <- seq.int(nrow(coef_data))\n",
    "head(coef_data)"
   ]
  },
  {
   "cell_type": "code",
   "execution_count": 267,
   "metadata": {
    "vscode": {
     "languageId": "r"
    }
   },
   "outputs": [
    {
     "data": {
      "image/png": "[encoded data removed]",
      "text/plain": [
       "plot without title"
      ]
     },
     "metadata": {
      "image/png": {
       "height": 420,
       "width": 420
      }
     },
     "output_type": "display_data"
    }
   ],
   "source": [
    "\n",
    "ggplot(data = coef_data, aes(y=coef, x=ID, fill=clust)) + \n",
    "  geom_bar(stat = \"identity\") + \n",
    "  geom_hline(yintercept=mean(coef_data$coef), linetype=\"dashed\", color = \"red\") + \n",
    "  coord_flip() + \n",
    "  scale_x_reverse() \n"
   ]
  },
  {
   "cell_type": "markdown",
   "metadata": {},
   "source": [
    "## Exploring K = 4"
   ]
  },
  {
   "cell_type": "markdown",
   "metadata": {},
   "source": [
    "Adding clusters to the dataset"
   ]
  },
  {
   "cell_type": "code",
   "execution_count": null,
   "metadata": {
    "vscode": {
     "languageId": "r"
    }
   },
   "outputs": [
    {
     "data": {
      "text/html": [
       "<table class=\"dataframe\">\n",
       "<caption>A data.frame: 6 × 46</caption>\n",
       "<thead>\n",
       "\t<tr><th></th><th scope=col>PA_barrier_time_family_responsabilities</th><th scope=col>PA_barrier__tiredness</th><th scope=col>PA_barrier_places_closed_dangerous</th><th scope=col>PA_barrier_money</th><th scope=col>PA_barrier_time_convenience</th><th scope=col>PA_barrier_hard_work</th><th scope=col>PA_barrier_no_interest</th><th scope=col>PA_barrier_none</th><th scope=col>PA_easiness_outdoor_activities</th><th scope=col>PA_easiness_professional_guidance</th><th scope=col>...</th><th scope=col>volleyball</th><th scope=col>basketball</th><th scope=col>swimming</th><th scope=col>surfing</th><th scope=col>yoga</th><th scope=col>pilates</th><th scope=col>fighting</th><th scope=col>other_sports</th><th scope=col>PA_number</th><th scope=col>cluster</th></tr>\n",
       "\t<tr><th></th><th scope=col>&lt;fct&gt;</th><th scope=col>&lt;fct&gt;</th><th scope=col>&lt;fct&gt;</th><th scope=col>&lt;fct&gt;</th><th scope=col>&lt;fct&gt;</th><th scope=col>&lt;fct&gt;</th><th scope=col>&lt;fct&gt;</th><th scope=col>&lt;fct&gt;</th><th scope=col>&lt;fct&gt;</th><th scope=col>&lt;fct&gt;</th><th scope=col>...</th><th scope=col>&lt;dbl&gt;</th><th scope=col>&lt;dbl&gt;</th><th scope=col>&lt;dbl&gt;</th><th scope=col>&lt;dbl&gt;</th><th scope=col>&lt;dbl&gt;</th><th scope=col>&lt;dbl&gt;</th><th scope=col>&lt;dbl&gt;</th><th scope=col>&lt;dbl&gt;</th><th scope=col>&lt;dbl&gt;</th><th scope=col>&lt;int&gt;</th></tr>\n",
       "</thead>\n",
       "<tbody>\n",
       "\t<tr><th scope=row>2</th><td>0</td><td>0</td><td>1</td><td>0</td><td>0</td><td>0</td><td>0</td><td>0</td><td>1</td><td>0</td><td>...</td><td>0</td><td>0</td><td>0</td><td>0</td><td>0</td><td>0</td><td>0</td><td>0</td><td>2</td><td>1</td></tr>\n",
       "\t<tr><th scope=row>3</th><td>0</td><td>0</td><td>1</td><td>0</td><td>0</td><td>0</td><td>1</td><td>0</td><td>0</td><td>0</td><td>...</td><td>0</td><td>0</td><td>0</td><td>0</td><td>0</td><td>0</td><td>0</td><td>1</td><td>2</td><td>2</td></tr>\n",
       "\t<tr><th scope=row>4</th><td>0</td><td>0</td><td>1</td><td>0</td><td>0</td><td>0</td><td>0</td><td>0</td><td>1</td><td>1</td><td>...</td><td>0</td><td>0</td><td>0</td><td>0</td><td>0</td><td>0</td><td>0</td><td>0</td><td>3</td><td>1</td></tr>\n",
       "\t<tr><th scope=row>5</th><td>0</td><td>0</td><td>1</td><td>0</td><td>0</td><td>0</td><td>0</td><td>0</td><td>0</td><td>0</td><td>...</td><td>0</td><td>0</td><td>0</td><td>0</td><td>0</td><td>0</td><td>0</td><td>0</td><td>2</td><td>3</td></tr>\n",
       "\t<tr><th scope=row>6</th><td>1</td><td>0</td><td>0</td><td>0</td><td>0</td><td>0</td><td>0</td><td>0</td><td>1</td><td>0</td><td>...</td><td>0</td><td>0</td><td>0</td><td>0</td><td>0</td><td>0</td><td>0</td><td>1</td><td>2</td><td>1</td></tr>\n",
       "\t<tr><th scope=row>8</th><td>0</td><td>0</td><td>1</td><td>0</td><td>0</td><td>1</td><td>0</td><td>0</td><td>0</td><td>1</td><td>...</td><td>0</td><td>0</td><td>0</td><td>0</td><td>0</td><td>0</td><td>0</td><td>0</td><td>1</td><td>4</td></tr>\n",
       "</tbody>\n",
       "</table>\n"
      ],
      "text/latex": [
       "A data.frame: 6 × 46\n",
       "\\begin{tabular}{r|lllllllllllllllllllll}\n",
       "  & PA\\_barrier\\_time\\_family\\_responsabilities & PA\\_barrier\\_\\_tiredness & PA\\_barrier\\_places\\_closed\\_dangerous & PA\\_barrier\\_money & PA\\_barrier\\_time\\_convenience & PA\\_barrier\\_hard\\_work & PA\\_barrier\\_no\\_interest & PA\\_barrier\\_none & PA\\_easiness\\_outdoor\\_activities & PA\\_easiness\\_professional\\_guidance & ... & volleyball & basketball & swimming & surfing & yoga & pilates & fighting & other\\_sports & PA\\_number & cluster\\\\\n",
       "  & <fct> & <fct> & <fct> & <fct> & <fct> & <fct> & <fct> & <fct> & <fct> & <fct> & ... & <dbl> & <dbl> & <dbl> & <dbl> & <dbl> & <dbl> & <dbl> & <dbl> & <dbl> & <int>\\\\\n",
       "\\hline\n",
       "\t2 & 0 & 0 & 1 & 0 & 0 & 0 & 0 & 0 & 1 & 0 & ... & 0 & 0 & 0 & 0 & 0 & 0 & 0 & 0 & 2 & 1\\\\\n",
       "\t3 & 0 & 0 & 1 & 0 & 0 & 0 & 1 & 0 & 0 & 0 & ... & 0 & 0 & 0 & 0 & 0 & 0 & 0 & 1 & 2 & 2\\\\\n",
       "\t4 & 0 & 0 & 1 & 0 & 0 & 0 & 0 & 0 & 1 & 1 & ... & 0 & 0 & 0 & 0 & 0 & 0 & 0 & 0 & 3 & 1\\\\\n",
       "\t5 & 0 & 0 & 1 & 0 & 0 & 0 & 0 & 0 & 0 & 0 & ... & 0 & 0 & 0 & 0 & 0 & 0 & 0 & 0 & 2 & 3\\\\\n",
       "\t6 & 1 & 0 & 0 & 0 & 0 & 0 & 0 & 0 & 1 & 0 & ... & 0 & 0 & 0 & 0 & 0 & 0 & 0 & 1 & 2 & 1\\\\\n",
       "\t8 & 0 & 0 & 1 & 0 & 0 & 1 & 0 & 0 & 0 & 1 & ... & 0 & 0 & 0 & 0 & 0 & 0 & 0 & 0 & 1 & 4\\\\\n",
       "\\end{tabular}\n"
      ],
      "text/markdown": [
       "\n",
       "A data.frame: 6 × 46\n",
       "\n",
       "| <!--/--> | PA_barrier_time_family_responsabilities &lt;fct&gt; | PA_barrier__tiredness &lt;fct&gt; | PA_barrier_places_closed_dangerous &lt;fct&gt; | PA_barrier_money &lt;fct&gt; | PA_barrier_time_convenience &lt;fct&gt; | PA_barrier_hard_work &lt;fct&gt; | PA_barrier_no_interest &lt;fct&gt; | PA_barrier_none &lt;fct&gt; | PA_easiness_outdoor_activities &lt;fct&gt; | PA_easiness_professional_guidance &lt;fct&gt; | ... ... | volleyball &lt;dbl&gt; | basketball &lt;dbl&gt; | swimming &lt;dbl&gt; | surfing &lt;dbl&gt; | yoga &lt;dbl&gt; | pilates &lt;dbl&gt; | fighting &lt;dbl&gt; | other_sports &lt;dbl&gt; | PA_number &lt;dbl&gt; | cluster &lt;int&gt; |\n",
       "|---|---|---|---|---|---|---|---|---|---|---|---|---|---|---|---|---|---|---|---|---|---|\n",
       "| 2 | 0 | 0 | 1 | 0 | 0 | 0 | 0 | 0 | 1 | 0 | ... | 0 | 0 | 0 | 0 | 0 | 0 | 0 | 0 | 2 | 1 |\n",
       "| 3 | 0 | 0 | 1 | 0 | 0 | 0 | 1 | 0 | 0 | 0 | ... | 0 | 0 | 0 | 0 | 0 | 0 | 0 | 1 | 2 | 2 |\n",
       "| 4 | 0 | 0 | 1 | 0 | 0 | 0 | 0 | 0 | 1 | 1 | ... | 0 | 0 | 0 | 0 | 0 | 0 | 0 | 0 | 3 | 1 |\n",
       "| 5 | 0 | 0 | 1 | 0 | 0 | 0 | 0 | 0 | 0 | 0 | ... | 0 | 0 | 0 | 0 | 0 | 0 | 0 | 0 | 2 | 3 |\n",
       "| 6 | 1 | 0 | 0 | 0 | 0 | 0 | 0 | 0 | 1 | 0 | ... | 0 | 0 | 0 | 0 | 0 | 0 | 0 | 1 | 2 | 1 |\n",
       "| 8 | 0 | 0 | 1 | 0 | 0 | 1 | 0 | 0 | 0 | 1 | ... | 0 | 0 | 0 | 0 | 0 | 0 | 0 | 0 | 1 | 4 |\n",
       "\n"
      ],
      "text/plain": [
       "  PA_barrier_time_family_responsabilities PA_barrier__tiredness\n",
       "2 0                                       0                    \n",
       "3 0                                       0                    \n",
       "4 0                                       0                    \n",
       "5 0                                       0                    \n",
       "6 1                                       0                    \n",
       "8 0                                       0                    \n",
       "  PA_barrier_places_closed_dangerous PA_barrier_money\n",
       "2 1                                  0               \n",
       "3 1                                  0               \n",
       "4 1                                  0               \n",
       "5 1                                  0               \n",
       "6 0                                  0               \n",
       "8 1                                  0               \n",
       "  PA_barrier_time_convenience PA_barrier_hard_work PA_barrier_no_interest\n",
       "2 0                           0                    0                     \n",
       "3 0                           0                    1                     \n",
       "4 0                           0                    0                     \n",
       "5 0                           0                    0                     \n",
       "6 0                           0                    0                     \n",
       "8 0                           1                    0                     \n",
       "  PA_barrier_none PA_easiness_outdoor_activities\n",
       "2 0               1                             \n",
       "3 0               0                             \n",
       "4 0               1                             \n",
       "5 0               0                             \n",
       "6 0               1                             \n",
       "8 0               0                             \n",
       "  PA_easiness_professional_guidance ... volleyball basketball swimming surfing\n",
       "2 0                                 ... 0          0          0        0      \n",
       "3 0                                 ... 0          0          0        0      \n",
       "4 1                                 ... 0          0          0        0      \n",
       "5 0                                 ... 0          0          0        0      \n",
       "6 0                                 ... 0          0          0        0      \n",
       "8 1                                 ... 0          0          0        0      \n",
       "  yoga pilates fighting other_sports PA_number cluster\n",
       "2 0    0       0        0            2         1      \n",
       "3 0    0       0        1            2         2      \n",
       "4 0    0       0        0            3         1      \n",
       "5 0    0       0        0            2         3      \n",
       "6 0    0       0        1            2         1      \n",
       "8 0    0       0        0            1         4      "
      ]
     },
     "metadata": {},
     "output_type": "display_data"
    },
    {
     "data": {
      "text/html": [
       "<style>\n",
       ".list-inline {list-style: none; margin:0; padding: 0}\n",
       ".list-inline>li {display: inline-block}\n",
       ".list-inline>li:not(:last-child)::after {content: \"\\00b7\"; padding: 0 .5ex}\n",
       "</style>\n",
       "<ol class=list-inline><li>'PA_barrier_time_family_responsabilities'</li><li>'PA_barrier__tiredness'</li><li>'PA_barrier_places_closed_dangerous'</li><li>'PA_barrier_money'</li><li>'PA_barrier_time_convenience'</li><li>'PA_barrier_hard_work'</li><li>'PA_barrier_no_interest'</li><li>'PA_barrier_none'</li><li>'PA_easiness_outdoor_activities'</li><li>'PA_easiness_professional_guidance'</li><li>'PA_easiness_unguided'</li><li>'PA_easiness_music'</li><li>'PA_easiness_collective'</li><li>'PA_easiness_home_activity'</li><li>'PA_easiness_family_activity'</li><li>'PA_easiness_home_space'</li><li>'PA_easiness_home_equipament'</li><li>'PA_easiness_others'</li><li>'PA_weekly_frequency'</li><li>'PA_intensity'</li><li>'PA_duration'</li><li>'PA_practice_during'</li><li>'sedentary_time_range_during'</li><li>'sex'</li><li>'age_range'</li><li>'martialStatus'</li><li>'co.resident_range'</li><li>'rooms_range'</li><li>'income_range'</li><li>'scholarity'</li><li>'running'</li><li>'hiking'</li><li>'cycling'</li><li>'muscle_training'</li><li>'soccer'</li><li>'tennis'</li><li>'volleyball'</li><li>'basketball'</li><li>'swimming'</li><li>'surfing'</li><li>'yoga'</li><li>'pilates'</li><li>'fighting'</li><li>'other_sports'</li><li>'PA_number'</li><li>'cluster'</li></ol>\n"
      ],
      "text/latex": [
       "\\begin{enumerate*}\n",
       "\\item 'PA\\_barrier\\_time\\_family\\_responsabilities'\n",
       "\\item 'PA\\_barrier\\_\\_tiredness'\n",
       "\\item 'PA\\_barrier\\_places\\_closed\\_dangerous'\n",
       "\\item 'PA\\_barrier\\_money'\n",
       "\\item 'PA\\_barrier\\_time\\_convenience'\n",
       "\\item 'PA\\_barrier\\_hard\\_work'\n",
       "\\item 'PA\\_barrier\\_no\\_interest'\n",
       "\\item 'PA\\_barrier\\_none'\n",
       "\\item 'PA\\_easiness\\_outdoor\\_activities'\n",
       "\\item 'PA\\_easiness\\_professional\\_guidance'\n",
       "\\item 'PA\\_easiness\\_unguided'\n",
       "\\item 'PA\\_easiness\\_music'\n",
       "\\item 'PA\\_easiness\\_collective'\n",
       "\\item 'PA\\_easiness\\_home\\_activity'\n",
       "\\item 'PA\\_easiness\\_family\\_activity'\n",
       "\\item 'PA\\_easiness\\_home\\_space'\n",
       "\\item 'PA\\_easiness\\_home\\_equipament'\n",
       "\\item 'PA\\_easiness\\_others'\n",
       "\\item 'PA\\_weekly\\_frequency'\n",
       "\\item 'PA\\_intensity'\n",
       "\\item 'PA\\_duration'\n",
       "\\item 'PA\\_practice\\_during'\n",
       "\\item 'sedentary\\_time\\_range\\_during'\n",
       "\\item 'sex'\n",
       "\\item 'age\\_range'\n",
       "\\item 'martialStatus'\n",
       "\\item 'co.resident\\_range'\n",
       "\\item 'rooms\\_range'\n",
       "\\item 'income\\_range'\n",
       "\\item 'scholarity'\n",
       "\\item 'running'\n",
       "\\item 'hiking'\n",
       "\\item 'cycling'\n",
       "\\item 'muscle\\_training'\n",
       "\\item 'soccer'\n",
       "\\item 'tennis'\n",
       "\\item 'volleyball'\n",
       "\\item 'basketball'\n",
       "\\item 'swimming'\n",
       "\\item 'surfing'\n",
       "\\item 'yoga'\n",
       "\\item 'pilates'\n",
       "\\item 'fighting'\n",
       "\\item 'other\\_sports'\n",
       "\\item 'PA\\_number'\n",
       "\\item 'cluster'\n",
       "\\end{enumerate*}\n"
      ],
      "text/markdown": [
       "1. 'PA_barrier_time_family_responsabilities'\n",
       "2. 'PA_barrier__tiredness'\n",
       "3. 'PA_barrier_places_closed_dangerous'\n",
       "4. 'PA_barrier_money'\n",
       "5. 'PA_barrier_time_convenience'\n",
       "6. 'PA_barrier_hard_work'\n",
       "7. 'PA_barrier_no_interest'\n",
       "8. 'PA_barrier_none'\n",
       "9. 'PA_easiness_outdoor_activities'\n",
       "10. 'PA_easiness_professional_guidance'\n",
       "11. 'PA_easiness_unguided'\n",
       "12. 'PA_easiness_music'\n",
       "13. 'PA_easiness_collective'\n",
       "14. 'PA_easiness_home_activity'\n",
       "15. 'PA_easiness_family_activity'\n",
       "16. 'PA_easiness_home_space'\n",
       "17. 'PA_easiness_home_equipament'\n",
       "18. 'PA_easiness_others'\n",
       "19. 'PA_weekly_frequency'\n",
       "20. 'PA_intensity'\n",
       "21. 'PA_duration'\n",
       "22. 'PA_practice_during'\n",
       "23. 'sedentary_time_range_during'\n",
       "24. 'sex'\n",
       "25. 'age_range'\n",
       "26. 'martialStatus'\n",
       "27. 'co.resident_range'\n",
       "28. 'rooms_range'\n",
       "29. 'income_range'\n",
       "30. 'scholarity'\n",
       "31. 'running'\n",
       "32. 'hiking'\n",
       "33. 'cycling'\n",
       "34. 'muscle_training'\n",
       "35. 'soccer'\n",
       "36. 'tennis'\n",
       "37. 'volleyball'\n",
       "38. 'basketball'\n",
       "39. 'swimming'\n",
       "40. 'surfing'\n",
       "41. 'yoga'\n",
       "42. 'pilates'\n",
       "43. 'fighting'\n",
       "44. 'other_sports'\n",
       "45. 'PA_number'\n",
       "46. 'cluster'\n",
       "\n",
       "\n"
      ],
      "text/plain": [
       " [1] \"PA_barrier_time_family_responsabilities\"\n",
       " [2] \"PA_barrier__tiredness\"                  \n",
       " [3] \"PA_barrier_places_closed_dangerous\"     \n",
       " [4] \"PA_barrier_money\"                       \n",
       " [5] \"PA_barrier_time_convenience\"            \n",
       " [6] \"PA_barrier_hard_work\"                   \n",
       " [7] \"PA_barrier_no_interest\"                 \n",
       " [8] \"PA_barrier_none\"                        \n",
       " [9] \"PA_easiness_outdoor_activities\"         \n",
       "[10] \"PA_easiness_professional_guidance\"      \n",
       "[11] \"PA_easiness_unguided\"                   \n",
       "[12] \"PA_easiness_music\"                      \n",
       "[13] \"PA_easiness_collective\"                 \n",
       "[14] \"PA_easiness_home_activity\"              \n",
       "[15] \"PA_easiness_family_activity\"            \n",
       "[16] \"PA_easiness_home_space\"                 \n",
       "[17] \"PA_easiness_home_equipament\"            \n",
       "[18] \"PA_easiness_others\"                     \n",
       "[19] \"PA_weekly_frequency\"                    \n",
       "[20] \"PA_intensity\"                           \n",
       "[21] \"PA_duration\"                            \n",
       "[22] \"PA_practice_during\"                     \n",
       "[23] \"sedentary_time_range_during\"            \n",
       "[24] \"sex\"                                    \n",
       "[25] \"age_range\"                              \n",
       "[26] \"martialStatus\"                          \n",
       "[27] \"co.resident_range\"                      \n",
       "[28] \"rooms_range\"                            \n",
       "[29] \"income_range\"                           \n",
       "[30] \"scholarity\"                             \n",
       "[31] \"running\"                                \n",
       "[32] \"hiking\"                                 \n",
       "[33] \"cycling\"                                \n",
       "[34] \"muscle_training\"                        \n",
       "[35] \"soccer\"                                 \n",
       "[36] \"tennis\"                                 \n",
       "[37] \"volleyball\"                             \n",
       "[38] \"basketball\"                             \n",
       "[39] \"swimming\"                               \n",
       "[40] \"surfing\"                                \n",
       "[41] \"yoga\"                                   \n",
       "[42] \"pilates\"                                \n",
       "[43] \"fighting\"                               \n",
       "[44] \"other_sports\"                           \n",
       "[45] \"PA_number\"                              \n",
       "[46] \"cluster\"                                "
      ]
     },
     "metadata": {},
     "output_type": "display_data"
    }
   ],
   "source": [
    "set.seed(1)\n",
    "k = 4\n",
    "\n",
    "kmode <- kmodes_seed(df_during_barriers_facilitators, k, max_iter=200, seed=47)\n",
    "\n",
    "cls <- kmode$cluster[!strange_p]\n",
    "cls <- cls[!strange_dp]\n",
    "\n",
    "df_during$cluster <- cls\n",
    "head(df_during)\n",
    "colnames(df_during)"
   ]
  },
  {
   "cell_type": "code",
   "execution_count": null,
   "metadata": {
    "vscode": {
     "languageId": "r"
    }
   },
   "outputs": [
    {
     "data": {
      "text/html": [
       "<table class=\"dataframe\">\n",
       "<caption>A data.frame: 4 × 18</caption>\n",
       "<thead>\n",
       "\t<tr><th></th><th scope=col>PA_barrier_time_family_responsabilities</th><th scope=col>PA_barrier__tiredness</th><th scope=col>PA_barrier_places_closed_dangerous</th><th scope=col>PA_barrier_money</th><th scope=col>PA_barrier_time_convenience</th><th scope=col>PA_barrier_hard_work</th><th scope=col>PA_barrier_no_interest</th><th scope=col>PA_barrier_none</th><th scope=col>PA_easiness_outdoor_activities</th><th scope=col>PA_easiness_professional_guidance</th><th scope=col>PA_easiness_unguided</th><th scope=col>PA_easiness_music</th><th scope=col>PA_easiness_collective</th><th scope=col>PA_easiness_home_activity</th><th scope=col>PA_easiness_family_activity</th><th scope=col>PA_easiness_home_space</th><th scope=col>PA_easiness_home_equipament</th><th scope=col>PA_easiness_others</th></tr>\n",
       "\t<tr><th></th><th scope=col>&lt;fct&gt;</th><th scope=col>&lt;fct&gt;</th><th scope=col>&lt;fct&gt;</th><th scope=col>&lt;fct&gt;</th><th scope=col>&lt;fct&gt;</th><th scope=col>&lt;fct&gt;</th><th scope=col>&lt;fct&gt;</th><th scope=col>&lt;fct&gt;</th><th scope=col>&lt;fct&gt;</th><th scope=col>&lt;fct&gt;</th><th scope=col>&lt;fct&gt;</th><th scope=col>&lt;fct&gt;</th><th scope=col>&lt;fct&gt;</th><th scope=col>&lt;fct&gt;</th><th scope=col>&lt;fct&gt;</th><th scope=col>&lt;fct&gt;</th><th scope=col>&lt;fct&gt;</th><th scope=col>&lt;fct&gt;</th></tr>\n",
       "</thead>\n",
       "<tbody>\n",
       "\t<tr><th scope=row>1</th><td>0</td><td>0</td><td>1</td><td>0</td><td>0</td><td>0</td><td>0</td><td>0</td><td>0</td><td>0</td><td>0</td><td>1</td><td>0</td><td>0</td><td>0</td><td>0</td><td>1</td><td>0</td></tr>\n",
       "\t<tr><th scope=row>2</th><td>0</td><td>0</td><td>0</td><td>0</td><td>0</td><td>0</td><td>0</td><td>1</td><td>0</td><td>1</td><td>0</td><td>0</td><td>0</td><td>1</td><td>0</td><td>1</td><td>1</td><td>0</td></tr>\n",
       "\t<tr><th scope=row>3</th><td>0</td><td>0</td><td>0</td><td>0</td><td>0</td><td>0</td><td>0</td><td>0</td><td>1</td><td>0</td><td>0</td><td>0</td><td>0</td><td>0</td><td>0</td><td>0</td><td>0</td><td>0</td></tr>\n",
       "\t<tr><th scope=row>4</th><td>0</td><td>0</td><td>0</td><td>0</td><td>0</td><td>1</td><td>0</td><td>0</td><td>0</td><td>0</td><td>0</td><td>0</td><td>0</td><td>0</td><td>0</td><td>1</td><td>1</td><td>0</td></tr>\n",
       "</tbody>\n",
       "</table>\n"
      ],
      "text/latex": [
       "A data.frame: 4 × 18\n",
       "\\begin{tabular}{r|llllllllllllllllll}\n",
       "  & PA\\_barrier\\_time\\_family\\_responsabilities & PA\\_barrier\\_\\_tiredness & PA\\_barrier\\_places\\_closed\\_dangerous & PA\\_barrier\\_money & PA\\_barrier\\_time\\_convenience & PA\\_barrier\\_hard\\_work & PA\\_barrier\\_no\\_interest & PA\\_barrier\\_none & PA\\_easiness\\_outdoor\\_activities & PA\\_easiness\\_professional\\_guidance & PA\\_easiness\\_unguided & PA\\_easiness\\_music & PA\\_easiness\\_collective & PA\\_easiness\\_home\\_activity & PA\\_easiness\\_family\\_activity & PA\\_easiness\\_home\\_space & PA\\_easiness\\_home\\_equipament & PA\\_easiness\\_others\\\\\n",
       "  & <fct> & <fct> & <fct> & <fct> & <fct> & <fct> & <fct> & <fct> & <fct> & <fct> & <fct> & <fct> & <fct> & <fct> & <fct> & <fct> & <fct> & <fct>\\\\\n",
       "\\hline\n",
       "\t1 & 0 & 0 & 1 & 0 & 0 & 0 & 0 & 0 & 0 & 0 & 0 & 1 & 0 & 0 & 0 & 0 & 1 & 0\\\\\n",
       "\t2 & 0 & 0 & 0 & 0 & 0 & 0 & 0 & 1 & 0 & 1 & 0 & 0 & 0 & 1 & 0 & 1 & 1 & 0\\\\\n",
       "\t3 & 0 & 0 & 0 & 0 & 0 & 0 & 0 & 0 & 1 & 0 & 0 & 0 & 0 & 0 & 0 & 0 & 0 & 0\\\\\n",
       "\t4 & 0 & 0 & 0 & 0 & 0 & 1 & 0 & 0 & 0 & 0 & 0 & 0 & 0 & 0 & 0 & 1 & 1 & 0\\\\\n",
       "\\end{tabular}\n"
      ],
      "text/markdown": [
       "\n",
       "A data.frame: 4 × 18\n",
       "\n",
       "| <!--/--> | PA_barrier_time_family_responsabilities &lt;fct&gt; | PA_barrier__tiredness &lt;fct&gt; | PA_barrier_places_closed_dangerous &lt;fct&gt; | PA_barrier_money &lt;fct&gt; | PA_barrier_time_convenience &lt;fct&gt; | PA_barrier_hard_work &lt;fct&gt; | PA_barrier_no_interest &lt;fct&gt; | PA_barrier_none &lt;fct&gt; | PA_easiness_outdoor_activities &lt;fct&gt; | PA_easiness_professional_guidance &lt;fct&gt; | PA_easiness_unguided &lt;fct&gt; | PA_easiness_music &lt;fct&gt; | PA_easiness_collective &lt;fct&gt; | PA_easiness_home_activity &lt;fct&gt; | PA_easiness_family_activity &lt;fct&gt; | PA_easiness_home_space &lt;fct&gt; | PA_easiness_home_equipament &lt;fct&gt; | PA_easiness_others &lt;fct&gt; |\n",
       "|---|---|---|---|---|---|---|---|---|---|---|---|---|---|---|---|---|---|---|\n",
       "| 1 | 0 | 0 | 1 | 0 | 0 | 0 | 0 | 0 | 0 | 0 | 0 | 1 | 0 | 0 | 0 | 0 | 1 | 0 |\n",
       "| 2 | 0 | 0 | 0 | 0 | 0 | 0 | 0 | 1 | 0 | 1 | 0 | 0 | 0 | 1 | 0 | 1 | 1 | 0 |\n",
       "| 3 | 0 | 0 | 0 | 0 | 0 | 0 | 0 | 0 | 1 | 0 | 0 | 0 | 0 | 0 | 0 | 0 | 0 | 0 |\n",
       "| 4 | 0 | 0 | 0 | 0 | 0 | 1 | 0 | 0 | 0 | 0 | 0 | 0 | 0 | 0 | 0 | 1 | 1 | 0 |\n",
       "\n"
      ],
      "text/plain": [
       "  PA_barrier_time_family_responsabilities PA_barrier__tiredness\n",
       "1 0                                       0                    \n",
       "2 0                                       0                    \n",
       "3 0                                       0                    \n",
       "4 0                                       0                    \n",
       "  PA_barrier_places_closed_dangerous PA_barrier_money\n",
       "1 1                                  0               \n",
       "2 0                                  0               \n",
       "3 0                                  0               \n",
       "4 0                                  0               \n",
       "  PA_barrier_time_convenience PA_barrier_hard_work PA_barrier_no_interest\n",
       "1 0                           0                    0                     \n",
       "2 0                           0                    0                     \n",
       "3 0                           0                    0                     \n",
       "4 0                           1                    0                     \n",
       "  PA_barrier_none PA_easiness_outdoor_activities\n",
       "1 0               0                             \n",
       "2 1               0                             \n",
       "3 0               1                             \n",
       "4 0               0                             \n",
       "  PA_easiness_professional_guidance PA_easiness_unguided PA_easiness_music\n",
       "1 0                                 0                    1                \n",
       "2 1                                 0                    0                \n",
       "3 0                                 0                    0                \n",
       "4 0                                 0                    0                \n",
       "  PA_easiness_collective PA_easiness_home_activity PA_easiness_family_activity\n",
       "1 0                      0                         0                          \n",
       "2 0                      1                         0                          \n",
       "3 0                      0                         0                          \n",
       "4 0                      0                         0                          \n",
       "  PA_easiness_home_space PA_easiness_home_equipament PA_easiness_others\n",
       "1 0                      1                           0                 \n",
       "2 1                      1                           0                 \n",
       "3 0                      0                           0                 \n",
       "4 1                      1                           0                 "
      ]
     },
     "metadata": {},
     "output_type": "display_data"
    }
   ],
   "source": [
    "kmode$modes"
   ]
  },
  {
   "cell_type": "markdown",
   "metadata": {},
   "source": [
    "#### Practice of Exercise "
   ]
  },
  {
   "cell_type": "code",
   "execution_count": null,
   "metadata": {
    "vscode": {
     "languageId": "r"
    }
   },
   "outputs": [
    {
     "name": "stderr",
     "output_type": "stream",
     "text": [
      "Warning message:\n",
      "\"Removed 32 rows containing non-finite values (stat_bin).\"\n",
      "Warning message:\n",
      "\"Removed 32 rows containing non-finite values (stat_bin).\"\n",
      "Warning message:\n",
      "\"Removed 32 rows containing non-finite values (stat_bin).\"\n",
      "Warning message:\n",
      "\"Removed 32 rows containing non-finite values (stat_bin).\"\n"
     ]
    },
    {
     "data": {
      "image/png": "[encoded data removed]",
      "text/plain": [
       "plot without title"
      ]
     },
     "metadata": {
      "image/png": {
       "height": 420,
       "width": 420
      }
     },
     "output_type": "display_data"
    }
   ],
   "source": [
    "myplots <- list()\n",
    "colors <- c('deepskyblue4', 'darkgreen', 'chocolate1', 'blueviolet', 'firebrick4', 'deeppink3', 'darkslategray')\n",
    "for(cl in 1:k){\n",
    "  \n",
    "  plt <- ggplot() + geom_histogram( \n",
    "          data=df_during[df_during$cluster == cl,], \n",
    "          aes(x=PA_practice_during, y=..count../sum(..count..)*100),\n",
    "          fill=colors[cl],\n",
    "          bins = 3,\n",
    "          position=position_dodge()\n",
    "        ) + ylab(\"Relative Frequency\")\n",
    "  myplots[[cl]] <- plt \n",
    "}\n",
    "wrap_plots(myplots)"
   ]
  },
  {
   "cell_type": "markdown",
   "metadata": {},
   "source": [
    "#### Sedentary Behavior"
   ]
  },
  {
   "cell_type": "code",
   "execution_count": null,
   "metadata": {
    "vscode": {
     "languageId": "r"
    }
   },
   "outputs": [
    {
     "name": "stderr",
     "output_type": "stream",
     "text": [
      "Warning message:\n",
      "\"Removed 32 rows containing non-finite values (stat_bin).\"\n",
      "Warning message:\n",
      "\"Removed 32 rows containing non-finite values (stat_bin).\"\n",
      "Warning message:\n",
      "\"Removed 32 rows containing non-finite values (stat_bin).\"\n",
      "Warning message:\n",
      "\"Removed 32 rows containing non-finite values (stat_bin).\"\n"
     ]
    },
    {
     "data": {
      "image/png": "[encoded data removed]",
      "text/plain": [
       "plot without title"
      ]
     },
     "metadata": {
      "image/png": {
       "height": 420,
       "width": 420
      }
     },
     "output_type": "display_data"
    }
   ],
   "source": [
    "myplots <- list()\n",
    "colors <- c('deepskyblue4', 'darkgreen', 'chocolate1', 'blueviolet', 'firebrick4', 'deeppink3', 'darkslategray')\n",
    "for(cl in 1:k){\n",
    "  \n",
    "  plt <- ggplot() + geom_histogram( \n",
    "          data=df_during[df_during$cluster == cl,], \n",
    "          aes(x=sedentary_time_range_during\t, y=..count../sum(..count..)*100),\n",
    "          fill=colors[cl],\n",
    "          bins = 3,\n",
    "          position=position_dodge()\n",
    "        ) + ylab(\"Relative Frequency\")\n",
    "  myplots[[cl]] <- plt \n",
    "}\n",
    "wrap_plots(myplots)"
   ]
  },
  {
   "cell_type": "markdown",
   "metadata": {},
   "source": [
    "#### Exercise Intensity"
   ]
  },
  {
   "cell_type": "code",
   "execution_count": null,
   "metadata": {
    "vscode": {
     "languageId": "r"
    }
   },
   "outputs": [
    {
     "name": "stderr",
     "output_type": "stream",
     "text": [
      "Warning message:\n",
      "\"Removed 32 rows containing non-finite values (stat_bin).\"\n",
      "Warning message:\n",
      "\"Removed 32 rows containing non-finite values (stat_bin).\"\n",
      "Warning message:\n",
      "\"Removed 32 rows containing non-finite values (stat_bin).\"\n",
      "Warning message:\n",
      "\"Removed 32 rows containing non-finite values (stat_bin).\"\n"
     ]
    },
    {
     "data": {
      "image/png": "[encoded data removed]",
      "text/plain": [
       "plot without title"
      ]
     },
     "metadata": {
      "image/png": {
       "height": 420,
       "width": 420
      }
     },
     "output_type": "display_data"
    }
   ],
   "source": [
    "myplots <- list()\n",
    "colors <- c('deepskyblue4', 'darkgreen', 'chocolate1', 'blueviolet', 'firebrick4', 'deeppink3', 'darkslategray')\n",
    "for(cl in 1:k){\n",
    "  \n",
    "  plt <- ggplot() + geom_histogram( \n",
    "          data=df_during[df_during$cluster == cl,], \n",
    "          aes(x=PA_intensity, y=..count../sum(..count..)*100),\n",
    "          fill=colors[cl],\n",
    "          bins = 4,\n",
    "          position=position_dodge()\n",
    "        ) + ylab(\"Relative Frequency\")\n",
    "  myplots[[cl]] <- plt \n",
    "}\n",
    "wrap_plots(myplots)"
   ]
  },
  {
   "cell_type": "markdown",
   "metadata": {},
   "source": [
    "#### Exercise Duration"
   ]
  },
  {
   "cell_type": "code",
   "execution_count": null,
   "metadata": {
    "vscode": {
     "languageId": "r"
    }
   },
   "outputs": [
    {
     "name": "stderr",
     "output_type": "stream",
     "text": [
      "Warning message:\n",
      "\"Removed 32 rows containing non-finite values (stat_bin).\"\n",
      "Warning message:\n",
      "\"Removed 32 rows containing non-finite values (stat_bin).\"\n",
      "Warning message:\n",
      "\"Removed 32 rows containing non-finite values (stat_bin).\"\n",
      "Warning message:\n",
      "\"Removed 32 rows containing non-finite values (stat_bin).\"\n"
     ]
    },
    {
     "data": {
      "image/png": "[encoded data removed]",
      "text/plain": [
       "plot without title"
      ]
     },
     "metadata": {
      "image/png": {
       "height": 420,
       "width": 420
      }
     },
     "output_type": "display_data"
    }
   ],
   "source": [
    "myplots <- list()\n",
    "colors <- c('deepskyblue4', 'darkgreen', 'chocolate1', 'blueviolet', 'firebrick4', 'deeppink3', 'darkslategray')\n",
    "for(cl in 1:k){\n",
    "  \n",
    "  plt <- ggplot() + geom_histogram( \n",
    "          data=df_during[df_during$cluster == cl,], \n",
    "          aes(x=PA_duration, y=..count../sum(..count..)*100),\n",
    "          fill=colors[cl],\n",
    "          bins = 4,\n",
    "          position=position_dodge()\n",
    "        ) + ylab(\"Relative Frequency\")\n",
    "  myplots[[cl]] <- plt \n",
    "}\n",
    "wrap_plots(myplots)"
   ]
  },
  {
   "cell_type": "markdown",
   "metadata": {},
   "source": [
    "#### Exercise Weekly Frequency"
   ]
  },
  {
   "cell_type": "code",
   "execution_count": null,
   "metadata": {
    "vscode": {
     "languageId": "r"
    }
   },
   "outputs": [
    {
     "name": "stderr",
     "output_type": "stream",
     "text": [
      "Warning message:\n",
      "\"Removed 32 rows containing non-finite values (stat_bin).\"\n",
      "Warning message:\n",
      "\"Removed 32 rows containing non-finite values (stat_bin).\"\n",
      "Warning message:\n",
      "\"Removed 32 rows containing non-finite values (stat_bin).\"\n",
      "Warning message:\n",
      "\"Removed 32 rows containing non-finite values (stat_bin).\"\n"
     ]
    },
    {
     "data": {
      "image/png": "[encoded data removed]",
      "text/plain": [
       "plot without title"
      ]
     },
     "metadata": {
      "image/png": {
       "height": 420,
       "width": 420
      }
     },
     "output_type": "display_data"
    }
   ],
   "source": [
    "\n",
    "myplots <- list()\n",
    "colors <- c('deepskyblue4', 'darkgreen', 'chocolate1', 'blueviolet', 'firebrick4', 'deeppink3', 'darkslategray')\n",
    "for(cl in 1:k){\n",
    "  \n",
    "  plt <- ggplot() + geom_histogram( \n",
    "          data=df_during[df_during$cluster == cl,], \n",
    "          aes(x=PA_weekly_frequency, y=..count../sum(..count..)*100),\n",
    "          fill=colors[cl],\n",
    "          bins = 4,\n",
    "          position=position_dodge()\n",
    "        ) + ylab(\"Relative Frequency\")\n",
    "  myplots[[cl]] <- plt \n",
    "}\n",
    "wrap_plots(myplots)\n",
    "\n"
   ]
  },
  {
   "cell_type": "markdown",
   "metadata": {},
   "source": [
    "#### Number of Exercises"
   ]
  },
  {
   "cell_type": "code",
   "execution_count": null,
   "metadata": {
    "vscode": {
     "languageId": "r"
    }
   },
   "outputs": [
    {
     "name": "stderr",
     "output_type": "stream",
     "text": [
      "Warning message:\n",
      "\"Removed 32 rows containing non-finite values (stat_bin).\"\n",
      "Warning message:\n",
      "\"Removed 32 rows containing non-finite values (stat_bin).\"\n",
      "Warning message:\n",
      "\"Removed 32 rows containing non-finite values (stat_bin).\"\n",
      "Warning message:\n",
      "\"Removed 32 rows containing non-finite values (stat_bin).\"\n"
     ]
    },
    {
     "data": {
      "image/png": "[encoded data removed]",
      "text/plain": [
       "plot without title"
      ]
     },
     "metadata": {
      "image/png": {
       "height": 420,
       "width": 420
      }
     },
     "output_type": "display_data"
    }
   ],
   "source": [
    "myplots <- list()\n",
    "colors <- c('deepskyblue4', 'darkgreen', 'chocolate1', 'blueviolet', 'firebrick4', 'deeppink3', 'darkslategray')\n",
    "for(cl in 1:k){\n",
    "  \n",
    "  plt <- ggplot() + geom_histogram( \n",
    "          data=df_during[df_during$cluster == cl,], \n",
    "          aes(x=PA_number, y=..count../sum(..count..)*100),\n",
    "          fill=colors[cl],\n",
    "          bins = 4,\n",
    "          position=position_dodge()\n",
    "        ) + ylab(\"Relative Frequency\")\n",
    "  myplots[[cl]] <- plt \n",
    "}\n",
    "wrap_plots(myplots)"
   ]
  },
  {
   "cell_type": "markdown",
   "metadata": {},
   "source": [
    "#### Income Range"
   ]
  },
  {
   "cell_type": "code",
   "execution_count": null,
   "metadata": {
    "vscode": {
     "languageId": "r"
    }
   },
   "outputs": [
    {
     "name": "stderr",
     "output_type": "stream",
     "text": [
      "Warning message:\n",
      "\"Removed 32 rows containing non-finite values (stat_bin).\"\n",
      "Warning message:\n",
      "\"Removed 32 rows containing non-finite values (stat_bin).\"\n",
      "Warning message:\n",
      "\"Removed 32 rows containing non-finite values (stat_bin).\"\n",
      "Warning message:\n",
      "\"Removed 32 rows containing non-finite values (stat_bin).\"\n"
     ]
    },
    {
     "data": {
      "image/png": "[encoded data removed]",
      "text/plain": [
       "plot without title"
      ]
     },
     "metadata": {
      "image/png": {
       "height": 420,
       "width": 420
      }
     },
     "output_type": "display_data"
    }
   ],
   "source": [
    "\n",
    "myplots <- list()\n",
    "colors <- c('deepskyblue4', 'darkgreen', 'chocolate1', 'blueviolet', 'firebrick4', 'deeppink3', 'darkslategray')\n",
    "for(cl in 1:k){\n",
    "  \n",
    "  plt <- ggplot() + geom_histogram( \n",
    "          data=df_during[df_during$cluster == cl,], \n",
    "          aes(x=income_range, y=..count../sum(..count..)*100),\n",
    "          fill=colors[cl],\n",
    "          bins = 6,\n",
    "          position=position_dodge()\n",
    "        ) + ylab(\"Relative Frequency\")\n",
    "  myplots[[cl]] <- plt \n",
    "}\n",
    "wrap_plots(myplots)\n",
    "\n"
   ]
  },
  {
   "cell_type": "markdown",
   "metadata": {},
   "source": [
    "#### Age Range"
   ]
  },
  {
   "cell_type": "code",
   "execution_count": null,
   "metadata": {
    "vscode": {
     "languageId": "r"
    }
   },
   "outputs": [
    {
     "name": "stderr",
     "output_type": "stream",
     "text": [
      "Warning message:\n",
      "\"Removed 32 rows containing non-finite values (stat_bin).\"\n",
      "Warning message:\n",
      "\"Removed 32 rows containing non-finite values (stat_bin).\"\n",
      "Warning message:\n",
      "\"Removed 32 rows containing non-finite values (stat_bin).\"\n",
      "Warning message:\n",
      "\"Removed 32 rows containing non-finite values (stat_bin).\"\n"
     ]
    },
    {
     "data": {
      "image/png": "[encoded data removed]",
      "text/plain": [
       "plot without title"
      ]
     },
     "metadata": {
      "image/png": {
       "height": 420,
       "width": 420
      }
     },
     "output_type": "display_data"
    }
   ],
   "source": [
    "\n",
    "myplots <- list()\n",
    "colors <- c('deepskyblue4', 'darkgreen', 'chocolate1', 'blueviolet', 'firebrick4', 'deeppink3', 'darkslategray')\n",
    "for(cl in 1:k){\n",
    "  \n",
    "  plt <- ggplot() + geom_histogram( \n",
    "          data=df_during[df_during$cluster == cl,], \n",
    "          aes(x=age_range, y=..count../sum(..count..)*100),\n",
    "          fill=colors[cl],\n",
    "          bins = 8,\n",
    "          position=position_dodge()\n",
    "        ) + ylab(\"Relative Frequency\")\n",
    "  myplots[[cl]] <- plt \n",
    "}\n",
    "wrap_plots(myplots)\n",
    "\n"
   ]
  },
  {
   "cell_type": "markdown",
   "metadata": {},
   "source": [
    "#### Sex"
   ]
  },
  {
   "cell_type": "code",
   "execution_count": null,
   "metadata": {
    "vscode": {
     "languageId": "r"
    }
   },
   "outputs": [
    {
     "name": "stderr",
     "output_type": "stream",
     "text": [
      "Warning message:\n",
      "\"Removed 32 rows containing non-finite values (stat_bin).\"\n",
      "Warning message:\n",
      "\"Removed 32 rows containing non-finite values (stat_bin).\"\n",
      "Warning message:\n",
      "\"Removed 32 rows containing non-finite values (stat_bin).\"\n",
      "Warning message:\n",
      "\"Removed 32 rows containing non-finite values (stat_bin).\"\n"
     ]
    },
    {
     "data": {
      "image/png": "[encoded data removed]",
      "text/plain": [
       "plot without title"
      ]
     },
     "metadata": {
      "image/png": {
       "height": 420,
       "width": 420
      }
     },
     "output_type": "display_data"
    }
   ],
   "source": [
    "\n",
    "myplots <- list()\n",
    "colors <- c('deepskyblue4', 'darkgreen', 'chocolate1', 'blueviolet', 'firebrick4', 'deeppink3', 'darkslategray')\n",
    "for(cl in 1:k){\n",
    "  \n",
    "  plt <- ggplot() + geom_histogram( \n",
    "          data=df_during[df_during$cluster == cl,], \n",
    "          aes(x=sex, y=..count../sum(..count..)*100),\n",
    "          fill=colors[cl],\n",
    "          bins = 3,\n",
    "          position=position_dodge()\n",
    "        ) + ylab(\"Relative Frequency\")\n",
    "  myplots[[cl]] <- plt \n",
    "}\n",
    "wrap_plots(myplots)\n",
    "\n"
   ]
  },
  {
   "cell_type": "markdown",
   "metadata": {},
   "source": [
    "#### Scholarity"
   ]
  },
  {
   "cell_type": "code",
   "execution_count": null,
   "metadata": {
    "vscode": {
     "languageId": "r"
    }
   },
   "outputs": [
    {
     "name": "stderr",
     "output_type": "stream",
     "text": [
      "Warning message:\n",
      "\"Removed 32 rows containing non-finite values (stat_bin).\"\n",
      "Warning message:\n",
      "\"Removed 32 rows containing non-finite values (stat_bin).\"\n",
      "Warning message:\n",
      "\"Removed 32 rows containing non-finite values (stat_bin).\"\n",
      "Warning message:\n",
      "\"Removed 32 rows containing non-finite values (stat_bin).\"\n"
     ]
    },
    {
     "data": {
      "image/png": "[encoded data removed]",
      "text/plain": [
       "plot without title"
      ]
     },
     "metadata": {
      "image/png": {
       "height": 420,
       "width": 420
      }
     },
     "output_type": "display_data"
    }
   ],
   "source": [
    "\n",
    "myplots <- list()\n",
    "colors <- c('deepskyblue4', 'darkgreen', 'chocolate1', 'blueviolet', 'firebrick4', 'deeppink3', 'darkslategray')\n",
    "for(cl in 1:k){\n",
    "  \n",
    "  plt <- ggplot() + geom_histogram( \n",
    "          data=df_during[df_during$cluster == cl,], \n",
    "          aes(x=scholarity, y=..count../sum(..count..)*100),\n",
    "          fill=colors[cl],\n",
    "          bins = 6,\n",
    "          position=position_dodge()\n",
    "        ) + ylab(\"Relative Frequency\")\n",
    "  myplots[[cl]] <- plt \n",
    "}\n",
    "wrap_plots(myplots)\n",
    "\n"
   ]
  },
  {
   "cell_type": "markdown",
   "metadata": {},
   "source": [
    "#### All charts"
   ]
  },
  {
   "cell_type": "code",
   "execution_count": null,
   "metadata": {
    "vscode": {
     "languageId": "r"
    }
   },
   "outputs": [
    {
     "data": {
      "text/html": [
       "<dl>\n",
       "\t<dt>$volleyball</dt>\n",
       "\t\t<dd>'0'</dd>\n",
       "\t<dt>$basketball</dt>\n",
       "\t\t<dd>'0'</dd>\n",
       "</dl>\n"
      ],
      "text/latex": [
       "\\begin{description}\n",
       "\\item[\\$volleyball] '0'\n",
       "\\item[\\$basketball] '0'\n",
       "\\end{description}\n"
      ],
      "text/markdown": [
       "$volleyball\n",
       ":   '0'\n",
       "$basketball\n",
       ":   '0'\n",
       "\n",
       "\n"
      ],
      "text/plain": [
       "$volleyball\n",
       "[1] \"0\"\n",
       "\n",
       "$basketball\n",
       "[1] \"0\"\n"
      ]
     },
     "metadata": {},
     "output_type": "display_data"
    }
   ],
   "source": [
    "df_during[, -c(ncol(df_during))] <- lapply(df_during[, -c(ncol(df_during))], as.factor)\n",
    "lapply(df_during, levels)[c(\"volleyball\", \"basketball\")]\n",
    "df_during <- subset(df_during, select = -c(volleyball, basketball))"
   ]
  },
  {
   "cell_type": "code",
   "execution_count": null,
   "metadata": {
    "vscode": {
     "languageId": "r"
    }
   },
   "outputs": [
    {
     "data": {
      "text/html": [
       "<style>\n",
       ".list-inline {list-style: none; margin:0; padding: 0}\n",
       ".list-inline>li {display: inline-block}\n",
       ".list-inline>li:not(:last-child)::after {content: \"\\00b7\"; padding: 0 .5ex}\n",
       "</style>\n",
       "<ol class=list-inline><li>'PA_barrier_time_family_responsabilities.0'</li><li>'PA_barrier_time_family_responsabilities.1'</li><li>'PA_barrier__tiredness.0'</li><li>'PA_barrier__tiredness.1'</li><li>'PA_barrier_places_closed_dangerous.0'</li><li>'PA_barrier_places_closed_dangerous.1'</li><li>'PA_barrier_money.0'</li><li>'PA_barrier_money.1'</li><li>'PA_barrier_time_convenience.0'</li><li>'PA_barrier_time_convenience.1'</li><li>'PA_barrier_hard_work.0'</li><li>'PA_barrier_hard_work.1'</li><li>'PA_barrier_no_interest.0'</li><li>'PA_barrier_no_interest.1'</li><li>'PA_barrier_none.0'</li><li>'PA_barrier_none.1'</li><li>'PA_easiness_outdoor_activities.0'</li><li>'PA_easiness_outdoor_activities.1'</li><li>'PA_easiness_professional_guidance.0'</li><li>'PA_easiness_professional_guidance.1'</li><li>'PA_easiness_unguided.0'</li><li>'PA_easiness_unguided.1'</li><li>'PA_easiness_music.0'</li><li>'PA_easiness_music.1'</li><li>'PA_easiness_collective.0'</li><li>'PA_easiness_collective.1'</li><li>'PA_easiness_home_activity.0'</li><li>'PA_easiness_home_activity.1'</li><li>'PA_easiness_family_activity.0'</li><li>'PA_easiness_family_activity.1'</li><li>'PA_easiness_home_space.0'</li><li>'PA_easiness_home_space.1'</li><li>'PA_easiness_home_equipament.0'</li><li>'PA_easiness_home_equipament.1'</li><li>'PA_easiness_others.0'</li><li>'PA_easiness_others.1'</li><li>'PA_weekly_frequency.0'</li><li>'PA_weekly_frequency.1'</li><li>'PA_weekly_frequency.2'</li><li>'PA_weekly_frequency.3'</li><li>'PA_intensity.0'</li><li>'PA_intensity.1'</li><li>'PA_intensity.2'</li><li>'PA_intensity.3'</li><li>'PA_duration.0'</li><li>'PA_duration.1'</li><li>'PA_duration.2'</li><li>'PA_duration.3'</li><li>'PA_duration.4'</li><li>'PA_practice_during.0'</li><li>'PA_practice_during.1'</li><li>'sedentary_time_range_during.0'</li><li>'sedentary_time_range_during.1'</li><li>'sex.1'</li><li>'sex.2'</li><li>'sex.3'</li><li>'age_range.1'</li><li>'age_range.2'</li><li>'age_range.3'</li><li>'age_range.4'</li><li>'age_range.5'</li><li>'age_range.6'</li><li>'age_range.7'</li><li>'age_range.8'</li><li>'martialStatus.1'</li><li>'martialStatus.2'</li><li>'martialStatus.3'</li><li>'martialStatus.4'</li><li>'co.resident_range.1'</li><li>'co.resident_range.2'</li><li>'co.resident_range.3'</li><li>'co.resident_range.4'</li><li>'rooms_range.1'</li><li>'rooms_range.2'</li><li>'rooms_range.3'</li><li>'rooms_range.4'</li><li>'income_range.1'</li><li>'income_range.2'</li><li>'income_range.3'</li><li>'income_range.4'</li><li>'income_range.5'</li><li>'income_range.6'</li><li>'scholarity.2'</li><li>'scholarity.3'</li><li>'scholarity.4'</li><li>'scholarity.5'</li><li>'scholarity.6'</li><li>'running.0'</li><li>'running.1'</li><li>'hiking.0'</li><li>'hiking.1'</li><li>'cycling.0'</li><li>'cycling.1'</li><li>'muscle_training.0'</li><li>'muscle_training.1'</li><li>'soccer.0'</li><li>'soccer.1'</li><li>'tennis.0'</li><li>'tennis.1'</li><li>'swimming.0'</li><li>'swimming.1'</li><li>'surfing.0'</li><li>'surfing.1'</li><li>'yoga.0'</li><li>'yoga.1'</li><li>'pilates.0'</li><li>'pilates.1'</li><li>'fighting.0'</li><li>'fighting.1'</li><li>'other_sports.0'</li><li>'other_sports.1'</li><li>'PA_number.0'</li><li>'PA_number.1'</li><li>'PA_number.2'</li><li>'PA_number.3'</li><li>'PA_number.4'</li><li>'PA_number.5'</li><li>'PA_number.6'</li><li>'PA_number.7'</li><li>'cluster'</li></ol>\n"
      ],
      "text/latex": [
       "\\begin{enumerate*}\n",
       "\\item 'PA\\_barrier\\_time\\_family\\_responsabilities.0'\n",
       "\\item 'PA\\_barrier\\_time\\_family\\_responsabilities.1'\n",
       "\\item 'PA\\_barrier\\_\\_tiredness.0'\n",
       "\\item 'PA\\_barrier\\_\\_tiredness.1'\n",
       "\\item 'PA\\_barrier\\_places\\_closed\\_dangerous.0'\n",
       "\\item 'PA\\_barrier\\_places\\_closed\\_dangerous.1'\n",
       "\\item 'PA\\_barrier\\_money.0'\n",
       "\\item 'PA\\_barrier\\_money.1'\n",
       "\\item 'PA\\_barrier\\_time\\_convenience.0'\n",
       "\\item 'PA\\_barrier\\_time\\_convenience.1'\n",
       "\\item 'PA\\_barrier\\_hard\\_work.0'\n",
       "\\item 'PA\\_barrier\\_hard\\_work.1'\n",
       "\\item 'PA\\_barrier\\_no\\_interest.0'\n",
       "\\item 'PA\\_barrier\\_no\\_interest.1'\n",
       "\\item 'PA\\_barrier\\_none.0'\n",
       "\\item 'PA\\_barrier\\_none.1'\n",
       "\\item 'PA\\_easiness\\_outdoor\\_activities.0'\n",
       "\\item 'PA\\_easiness\\_outdoor\\_activities.1'\n",
       "\\item 'PA\\_easiness\\_professional\\_guidance.0'\n",
       "\\item 'PA\\_easiness\\_professional\\_guidance.1'\n",
       "\\item 'PA\\_easiness\\_unguided.0'\n",
       "\\item 'PA\\_easiness\\_unguided.1'\n",
       "\\item 'PA\\_easiness\\_music.0'\n",
       "\\item 'PA\\_easiness\\_music.1'\n",
       "\\item 'PA\\_easiness\\_collective.0'\n",
       "\\item 'PA\\_easiness\\_collective.1'\n",
       "\\item 'PA\\_easiness\\_home\\_activity.0'\n",
       "\\item 'PA\\_easiness\\_home\\_activity.1'\n",
       "\\item 'PA\\_easiness\\_family\\_activity.0'\n",
       "\\item 'PA\\_easiness\\_family\\_activity.1'\n",
       "\\item 'PA\\_easiness\\_home\\_space.0'\n",
       "\\item 'PA\\_easiness\\_home\\_space.1'\n",
       "\\item 'PA\\_easiness\\_home\\_equipament.0'\n",
       "\\item 'PA\\_easiness\\_home\\_equipament.1'\n",
       "\\item 'PA\\_easiness\\_others.0'\n",
       "\\item 'PA\\_easiness\\_others.1'\n",
       "\\item 'PA\\_weekly\\_frequency.0'\n",
       "\\item 'PA\\_weekly\\_frequency.1'\n",
       "\\item 'PA\\_weekly\\_frequency.2'\n",
       "\\item 'PA\\_weekly\\_frequency.3'\n",
       "\\item 'PA\\_intensity.0'\n",
       "\\item 'PA\\_intensity.1'\n",
       "\\item 'PA\\_intensity.2'\n",
       "\\item 'PA\\_intensity.3'\n",
       "\\item 'PA\\_duration.0'\n",
       "\\item 'PA\\_duration.1'\n",
       "\\item 'PA\\_duration.2'\n",
       "\\item 'PA\\_duration.3'\n",
       "\\item 'PA\\_duration.4'\n",
       "\\item 'PA\\_practice\\_during.0'\n",
       "\\item 'PA\\_practice\\_during.1'\n",
       "\\item 'sedentary\\_time\\_range\\_during.0'\n",
       "\\item 'sedentary\\_time\\_range\\_during.1'\n",
       "\\item 'sex.1'\n",
       "\\item 'sex.2'\n",
       "\\item 'sex.3'\n",
       "\\item 'age\\_range.1'\n",
       "\\item 'age\\_range.2'\n",
       "\\item 'age\\_range.3'\n",
       "\\item 'age\\_range.4'\n",
       "\\item 'age\\_range.5'\n",
       "\\item 'age\\_range.6'\n",
       "\\item 'age\\_range.7'\n",
       "\\item 'age\\_range.8'\n",
       "\\item 'martialStatus.1'\n",
       "\\item 'martialStatus.2'\n",
       "\\item 'martialStatus.3'\n",
       "\\item 'martialStatus.4'\n",
       "\\item 'co.resident\\_range.1'\n",
       "\\item 'co.resident\\_range.2'\n",
       "\\item 'co.resident\\_range.3'\n",
       "\\item 'co.resident\\_range.4'\n",
       "\\item 'rooms\\_range.1'\n",
       "\\item 'rooms\\_range.2'\n",
       "\\item 'rooms\\_range.3'\n",
       "\\item 'rooms\\_range.4'\n",
       "\\item 'income\\_range.1'\n",
       "\\item 'income\\_range.2'\n",
       "\\item 'income\\_range.3'\n",
       "\\item 'income\\_range.4'\n",
       "\\item 'income\\_range.5'\n",
       "\\item 'income\\_range.6'\n",
       "\\item 'scholarity.2'\n",
       "\\item 'scholarity.3'\n",
       "\\item 'scholarity.4'\n",
       "\\item 'scholarity.5'\n",
       "\\item 'scholarity.6'\n",
       "\\item 'running.0'\n",
       "\\item 'running.1'\n",
       "\\item 'hiking.0'\n",
       "\\item 'hiking.1'\n",
       "\\item 'cycling.0'\n",
       "\\item 'cycling.1'\n",
       "\\item 'muscle\\_training.0'\n",
       "\\item 'muscle\\_training.1'\n",
       "\\item 'soccer.0'\n",
       "\\item 'soccer.1'\n",
       "\\item 'tennis.0'\n",
       "\\item 'tennis.1'\n",
       "\\item 'swimming.0'\n",
       "\\item 'swimming.1'\n",
       "\\item 'surfing.0'\n",
       "\\item 'surfing.1'\n",
       "\\item 'yoga.0'\n",
       "\\item 'yoga.1'\n",
       "\\item 'pilates.0'\n",
       "\\item 'pilates.1'\n",
       "\\item 'fighting.0'\n",
       "\\item 'fighting.1'\n",
       "\\item 'other\\_sports.0'\n",
       "\\item 'other\\_sports.1'\n",
       "\\item 'PA\\_number.0'\n",
       "\\item 'PA\\_number.1'\n",
       "\\item 'PA\\_number.2'\n",
       "\\item 'PA\\_number.3'\n",
       "\\item 'PA\\_number.4'\n",
       "\\item 'PA\\_number.5'\n",
       "\\item 'PA\\_number.6'\n",
       "\\item 'PA\\_number.7'\n",
       "\\item 'cluster'\n",
       "\\end{enumerate*}\n"
      ],
      "text/markdown": [
       "1. 'PA_barrier_time_family_responsabilities.0'\n",
       "2. 'PA_barrier_time_family_responsabilities.1'\n",
       "3. 'PA_barrier__tiredness.0'\n",
       "4. 'PA_barrier__tiredness.1'\n",
       "5. 'PA_barrier_places_closed_dangerous.0'\n",
       "6. 'PA_barrier_places_closed_dangerous.1'\n",
       "7. 'PA_barrier_money.0'\n",
       "8. 'PA_barrier_money.1'\n",
       "9. 'PA_barrier_time_convenience.0'\n",
       "10. 'PA_barrier_time_convenience.1'\n",
       "11. 'PA_barrier_hard_work.0'\n",
       "12. 'PA_barrier_hard_work.1'\n",
       "13. 'PA_barrier_no_interest.0'\n",
       "14. 'PA_barrier_no_interest.1'\n",
       "15. 'PA_barrier_none.0'\n",
       "16. 'PA_barrier_none.1'\n",
       "17. 'PA_easiness_outdoor_activities.0'\n",
       "18. 'PA_easiness_outdoor_activities.1'\n",
       "19. 'PA_easiness_professional_guidance.0'\n",
       "20. 'PA_easiness_professional_guidance.1'\n",
       "21. 'PA_easiness_unguided.0'\n",
       "22. 'PA_easiness_unguided.1'\n",
       "23. 'PA_easiness_music.0'\n",
       "24. 'PA_easiness_music.1'\n",
       "25. 'PA_easiness_collective.0'\n",
       "26. 'PA_easiness_collective.1'\n",
       "27. 'PA_easiness_home_activity.0'\n",
       "28. 'PA_easiness_home_activity.1'\n",
       "29. 'PA_easiness_family_activity.0'\n",
       "30. 'PA_easiness_family_activity.1'\n",
       "31. 'PA_easiness_home_space.0'\n",
       "32. 'PA_easiness_home_space.1'\n",
       "33. 'PA_easiness_home_equipament.0'\n",
       "34. 'PA_easiness_home_equipament.1'\n",
       "35. 'PA_easiness_others.0'\n",
       "36. 'PA_easiness_others.1'\n",
       "37. 'PA_weekly_frequency.0'\n",
       "38. 'PA_weekly_frequency.1'\n",
       "39. 'PA_weekly_frequency.2'\n",
       "40. 'PA_weekly_frequency.3'\n",
       "41. 'PA_intensity.0'\n",
       "42. 'PA_intensity.1'\n",
       "43. 'PA_intensity.2'\n",
       "44. 'PA_intensity.3'\n",
       "45. 'PA_duration.0'\n",
       "46. 'PA_duration.1'\n",
       "47. 'PA_duration.2'\n",
       "48. 'PA_duration.3'\n",
       "49. 'PA_duration.4'\n",
       "50. 'PA_practice_during.0'\n",
       "51. 'PA_practice_during.1'\n",
       "52. 'sedentary_time_range_during.0'\n",
       "53. 'sedentary_time_range_during.1'\n",
       "54. 'sex.1'\n",
       "55. 'sex.2'\n",
       "56. 'sex.3'\n",
       "57. 'age_range.1'\n",
       "58. 'age_range.2'\n",
       "59. 'age_range.3'\n",
       "60. 'age_range.4'\n",
       "61. 'age_range.5'\n",
       "62. 'age_range.6'\n",
       "63. 'age_range.7'\n",
       "64. 'age_range.8'\n",
       "65. 'martialStatus.1'\n",
       "66. 'martialStatus.2'\n",
       "67. 'martialStatus.3'\n",
       "68. 'martialStatus.4'\n",
       "69. 'co.resident_range.1'\n",
       "70. 'co.resident_range.2'\n",
       "71. 'co.resident_range.3'\n",
       "72. 'co.resident_range.4'\n",
       "73. 'rooms_range.1'\n",
       "74. 'rooms_range.2'\n",
       "75. 'rooms_range.3'\n",
       "76. 'rooms_range.4'\n",
       "77. 'income_range.1'\n",
       "78. 'income_range.2'\n",
       "79. 'income_range.3'\n",
       "80. 'income_range.4'\n",
       "81. 'income_range.5'\n",
       "82. 'income_range.6'\n",
       "83. 'scholarity.2'\n",
       "84. 'scholarity.3'\n",
       "85. 'scholarity.4'\n",
       "86. 'scholarity.5'\n",
       "87. 'scholarity.6'\n",
       "88. 'running.0'\n",
       "89. 'running.1'\n",
       "90. 'hiking.0'\n",
       "91. 'hiking.1'\n",
       "92. 'cycling.0'\n",
       "93. 'cycling.1'\n",
       "94. 'muscle_training.0'\n",
       "95. 'muscle_training.1'\n",
       "96. 'soccer.0'\n",
       "97. 'soccer.1'\n",
       "98. 'tennis.0'\n",
       "99. 'tennis.1'\n",
       "100. 'swimming.0'\n",
       "101. 'swimming.1'\n",
       "102. 'surfing.0'\n",
       "103. 'surfing.1'\n",
       "104. 'yoga.0'\n",
       "105. 'yoga.1'\n",
       "106. 'pilates.0'\n",
       "107. 'pilates.1'\n",
       "108. 'fighting.0'\n",
       "109. 'fighting.1'\n",
       "110. 'other_sports.0'\n",
       "111. 'other_sports.1'\n",
       "112. 'PA_number.0'\n",
       "113. 'PA_number.1'\n",
       "114. 'PA_number.2'\n",
       "115. 'PA_number.3'\n",
       "116. 'PA_number.4'\n",
       "117. 'PA_number.5'\n",
       "118. 'PA_number.6'\n",
       "119. 'PA_number.7'\n",
       "120. 'cluster'\n",
       "\n",
       "\n"
      ],
      "text/plain": [
       "  [1] \"PA_barrier_time_family_responsabilities.0\"\n",
       "  [2] \"PA_barrier_time_family_responsabilities.1\"\n",
       "  [3] \"PA_barrier__tiredness.0\"                  \n",
       "  [4] \"PA_barrier__tiredness.1\"                  \n",
       "  [5] \"PA_barrier_places_closed_dangerous.0\"     \n",
       "  [6] \"PA_barrier_places_closed_dangerous.1\"     \n",
       "  [7] \"PA_barrier_money.0\"                       \n",
       "  [8] \"PA_barrier_money.1\"                       \n",
       "  [9] \"PA_barrier_time_convenience.0\"            \n",
       " [10] \"PA_barrier_time_convenience.1\"            \n",
       " [11] \"PA_barrier_hard_work.0\"                   \n",
       " [12] \"PA_barrier_hard_work.1\"                   \n",
       " [13] \"PA_barrier_no_interest.0\"                 \n",
       " [14] \"PA_barrier_no_interest.1\"                 \n",
       " [15] \"PA_barrier_none.0\"                        \n",
       " [16] \"PA_barrier_none.1\"                        \n",
       " [17] \"PA_easiness_outdoor_activities.0\"         \n",
       " [18] \"PA_easiness_outdoor_activities.1\"         \n",
       " [19] \"PA_easiness_professional_guidance.0\"      \n",
       " [20] \"PA_easiness_professional_guidance.1\"      \n",
       " [21] \"PA_easiness_unguided.0\"                   \n",
       " [22] \"PA_easiness_unguided.1\"                   \n",
       " [23] \"PA_easiness_music.0\"                      \n",
       " [24] \"PA_easiness_music.1\"                      \n",
       " [25] \"PA_easiness_collective.0\"                 \n",
       " [26] \"PA_easiness_collective.1\"                 \n",
       " [27] \"PA_easiness_home_activity.0\"              \n",
       " [28] \"PA_easiness_home_activity.1\"              \n",
       " [29] \"PA_easiness_family_activity.0\"            \n",
       " [30] \"PA_easiness_family_activity.1\"            \n",
       " [31] \"PA_easiness_home_space.0\"                 \n",
       " [32] \"PA_easiness_home_space.1\"                 \n",
       " [33] \"PA_easiness_home_equipament.0\"            \n",
       " [34] \"PA_easiness_home_equipament.1\"            \n",
       " [35] \"PA_easiness_others.0\"                     \n",
       " [36] \"PA_easiness_others.1\"                     \n",
       " [37] \"PA_weekly_frequency.0\"                    \n",
       " [38] \"PA_weekly_frequency.1\"                    \n",
       " [39] \"PA_weekly_frequency.2\"                    \n",
       " [40] \"PA_weekly_frequency.3\"                    \n",
       " [41] \"PA_intensity.0\"                           \n",
       " [42] \"PA_intensity.1\"                           \n",
       " [43] \"PA_intensity.2\"                           \n",
       " [44] \"PA_intensity.3\"                           \n",
       " [45] \"PA_duration.0\"                            \n",
       " [46] \"PA_duration.1\"                            \n",
       " [47] \"PA_duration.2\"                            \n",
       " [48] \"PA_duration.3\"                            \n",
       " [49] \"PA_duration.4\"                            \n",
       " [50] \"PA_practice_during.0\"                     \n",
       " [51] \"PA_practice_during.1\"                     \n",
       " [52] \"sedentary_time_range_during.0\"            \n",
       " [53] \"sedentary_time_range_during.1\"            \n",
       " [54] \"sex.1\"                                    \n",
       " [55] \"sex.2\"                                    \n",
       " [56] \"sex.3\"                                    \n",
       " [57] \"age_range.1\"                              \n",
       " [58] \"age_range.2\"                              \n",
       " [59] \"age_range.3\"                              \n",
       " [60] \"age_range.4\"                              \n",
       " [61] \"age_range.5\"                              \n",
       " [62] \"age_range.6\"                              \n",
       " [63] \"age_range.7\"                              \n",
       " [64] \"age_range.8\"                              \n",
       " [65] \"martialStatus.1\"                          \n",
       " [66] \"martialStatus.2\"                          \n",
       " [67] \"martialStatus.3\"                          \n",
       " [68] \"martialStatus.4\"                          \n",
       " [69] \"co.resident_range.1\"                      \n",
       " [70] \"co.resident_range.2\"                      \n",
       " [71] \"co.resident_range.3\"                      \n",
       " [72] \"co.resident_range.4\"                      \n",
       " [73] \"rooms_range.1\"                            \n",
       " [74] \"rooms_range.2\"                            \n",
       " [75] \"rooms_range.3\"                            \n",
       " [76] \"rooms_range.4\"                            \n",
       " [77] \"income_range.1\"                           \n",
       " [78] \"income_range.2\"                           \n",
       " [79] \"income_range.3\"                           \n",
       " [80] \"income_range.4\"                           \n",
       " [81] \"income_range.5\"                           \n",
       " [82] \"income_range.6\"                           \n",
       " [83] \"scholarity.2\"                             \n",
       " [84] \"scholarity.3\"                             \n",
       " [85] \"scholarity.4\"                             \n",
       " [86] \"scholarity.5\"                             \n",
       " [87] \"scholarity.6\"                             \n",
       " [88] \"running.0\"                                \n",
       " [89] \"running.1\"                                \n",
       " [90] \"hiking.0\"                                 \n",
       " [91] \"hiking.1\"                                 \n",
       " [92] \"cycling.0\"                                \n",
       " [93] \"cycling.1\"                                \n",
       " [94] \"muscle_training.0\"                        \n",
       " [95] \"muscle_training.1\"                        \n",
       " [96] \"soccer.0\"                                 \n",
       " [97] \"soccer.1\"                                 \n",
       " [98] \"tennis.0\"                                 \n",
       " [99] \"tennis.1\"                                 \n",
       "[100] \"swimming.0\"                               \n",
       "[101] \"swimming.1\"                               \n",
       "[102] \"surfing.0\"                                \n",
       "[103] \"surfing.1\"                                \n",
       "[104] \"yoga.0\"                                   \n",
       "[105] \"yoga.1\"                                   \n",
       "[106] \"pilates.0\"                                \n",
       "[107] \"pilates.1\"                                \n",
       "[108] \"fighting.0\"                               \n",
       "[109] \"fighting.1\"                               \n",
       "[110] \"other_sports.0\"                           \n",
       "[111] \"other_sports.1\"                           \n",
       "[112] \"PA_number.0\"                              \n",
       "[113] \"PA_number.1\"                              \n",
       "[114] \"PA_number.2\"                              \n",
       "[115] \"PA_number.3\"                              \n",
       "[116] \"PA_number.4\"                              \n",
       "[117] \"PA_number.5\"                              \n",
       "[118] \"PA_number.6\"                              \n",
       "[119] \"PA_number.7\"                              \n",
       "[120] \"cluster\"                                  "
      ]
     },
     "metadata": {},
     "output_type": "display_data"
    }
   ],
   "source": [
    "dummy <- dummyVars(\" ~ .\", data=df_during)\n",
    "df_during_encoded <- data.frame(predict(dummy, newdata = df_during)) \n",
    "colnames(df_during_encoded)"
   ]
  },
  {
   "cell_type": "code",
   "execution_count": null,
   "metadata": {
    "vscode": {
     "languageId": "r"
    }
   },
   "outputs": [
    {
     "data": {
      "text/html": [
       "<table class=\"dataframe\">\n",
       "<caption>A tibble: 5 × 12</caption>\n",
       "<thead>\n",
       "\t<tr><th scope=col>practice</th><th scope=col>sedentary</th><th scope=col>intesity1</th><th scope=col>intesity2</th><th scope=col>intesity3</th><th scope=col>duration1</th><th scope=col>duration2</th><th scope=col>duration3</th><th scope=col>duration4</th><th scope=col>frequency1</th><th scope=col>frequency2</th><th scope=col>frequency3</th></tr>\n",
       "\t<tr><th scope=col>&lt;dbl&gt;</th><th scope=col>&lt;dbl&gt;</th><th scope=col>&lt;dbl&gt;</th><th scope=col>&lt;dbl&gt;</th><th scope=col>&lt;dbl&gt;</th><th scope=col>&lt;dbl&gt;</th><th scope=col>&lt;dbl&gt;</th><th scope=col>&lt;dbl&gt;</th><th scope=col>&lt;dbl&gt;</th><th scope=col>&lt;dbl&gt;</th><th scope=col>&lt;dbl&gt;</th><th scope=col>&lt;dbl&gt;</th></tr>\n",
       "</thead>\n",
       "<tbody>\n",
       "\t<tr><td>408</td><td>219</td><td>128</td><td>221</td><td>59</td><td>102</td><td>242</td><td>54</td><td>10</td><td>198</td><td>133</td><td>77</td></tr>\n",
       "\t<tr><td>204</td><td> 93</td><td> 62</td><td>105</td><td>37</td><td> 38</td><td>133</td><td>30</td><td> 3</td><td> 88</td><td> 65</td><td>51</td></tr>\n",
       "\t<tr><td>182</td><td> 78</td><td> 43</td><td>110</td><td>29</td><td> 34</td><td>106</td><td>34</td><td> 8</td><td> 79</td><td> 61</td><td>42</td></tr>\n",
       "\t<tr><td> 78</td><td> 32</td><td> 19</td><td> 53</td><td> 6</td><td> 17</td><td> 52</td><td> 7</td><td> 2</td><td> 37</td><td> 20</td><td>21</td></tr>\n",
       "\t<tr><td> 22</td><td>  9</td><td>  2</td><td> 15</td><td> 5</td><td>  0</td><td> 13</td><td> 8</td><td> 1</td><td>  8</td><td>  7</td><td> 7</td></tr>\n",
       "</tbody>\n",
       "</table>\n"
      ],
      "text/latex": [
       "A tibble: 5 × 12\n",
       "\\begin{tabular}{llllllllllll}\n",
       " practice & sedentary & intesity1 & intesity2 & intesity3 & duration1 & duration2 & duration3 & duration4 & frequency1 & frequency2 & frequency3\\\\\n",
       " <dbl> & <dbl> & <dbl> & <dbl> & <dbl> & <dbl> & <dbl> & <dbl> & <dbl> & <dbl> & <dbl> & <dbl>\\\\\n",
       "\\hline\n",
       "\t 408 & 219 & 128 & 221 & 59 & 102 & 242 & 54 & 10 & 198 & 133 & 77\\\\\n",
       "\t 204 &  93 &  62 & 105 & 37 &  38 & 133 & 30 &  3 &  88 &  65 & 51\\\\\n",
       "\t 182 &  78 &  43 & 110 & 29 &  34 & 106 & 34 &  8 &  79 &  61 & 42\\\\\n",
       "\t  78 &  32 &  19 &  53 &  6 &  17 &  52 &  7 &  2 &  37 &  20 & 21\\\\\n",
       "\t  22 &   9 &   2 &  15 &  5 &   0 &  13 &  8 &  1 &   8 &   7 &  7\\\\\n",
       "\\end{tabular}\n"
      ],
      "text/markdown": [
       "\n",
       "A tibble: 5 × 12\n",
       "\n",
       "| practice &lt;dbl&gt; | sedentary &lt;dbl&gt; | intesity1 &lt;dbl&gt; | intesity2 &lt;dbl&gt; | intesity3 &lt;dbl&gt; | duration1 &lt;dbl&gt; | duration2 &lt;dbl&gt; | duration3 &lt;dbl&gt; | duration4 &lt;dbl&gt; | frequency1 &lt;dbl&gt; | frequency2 &lt;dbl&gt; | frequency3 &lt;dbl&gt; |\n",
       "|---|---|---|---|---|---|---|---|---|---|---|---|\n",
       "| 408 | 219 | 128 | 221 | 59 | 102 | 242 | 54 | 10 | 198 | 133 | 77 |\n",
       "| 204 |  93 |  62 | 105 | 37 |  38 | 133 | 30 |  3 |  88 |  65 | 51 |\n",
       "| 182 |  78 |  43 | 110 | 29 |  34 | 106 | 34 |  8 |  79 |  61 | 42 |\n",
       "|  78 |  32 |  19 |  53 |  6 |  17 |  52 |  7 |  2 |  37 |  20 | 21 |\n",
       "|  22 |   9 |   2 |  15 |  5 |   0 |  13 |  8 |  1 |   8 |   7 |  7 |\n",
       "\n"
      ],
      "text/plain": [
       "  practice sedentary intesity1 intesity2 intesity3 duration1 duration2\n",
       "1 408      219       128       221       59        102       242      \n",
       "2 204       93        62       105       37         38       133      \n",
       "3 182       78        43       110       29         34       106      \n",
       "4  78       32        19        53        6         17        52      \n",
       "5  22        9         2        15        5          0        13      \n",
       "  duration3 duration4 frequency1 frequency2 frequency3\n",
       "1 54        10        198        133        77        \n",
       "2 30         3         88         65        51        \n",
       "3 34         8         79         61        42        \n",
       "4  7         2         37         20        21        \n",
       "5  8         1          8          7         7        "
      ]
     },
     "metadata": {},
     "output_type": "display_data"
    }
   ],
   "source": [
    "df_spider <- df_during_encoded %>% group_by(cluster) %>% summarise(\n",
    "                                    practice = sum(PA_practice_during.1),\n",
    "                                    sedentary = sum(sedentary_time_range_during.1),\n",
    "                                    intesity1 = sum(PA_intensity.1),\n",
    "                                    intesity2 = sum(PA_intensity.2),\n",
    "                                    intesity3 = sum(PA_intensity.3),\n",
    "                                    duration1 = sum(PA_duration.1),\n",
    "                                    duration2 = sum(PA_duration.2),\n",
    "                                    duration3 = sum(PA_duration.3),\n",
    "                                    duration4 = sum(PA_duration.4),\n",
    "                                    frequency1 = sum(PA_weekly_frequency.1),\n",
    "                                    frequency2 = sum(PA_weekly_frequency.2),\n",
    "                                    frequency3 = sum(PA_weekly_frequency.3)\n",
    "                                )\n",
    "# df_spider['max'] <- apply(df_spider, 1, max)  \n",
    "# df_spider['min'] <- apply(df_spider, 1, min)  \n",
    "df_spider <- df_spider[, -c(1)]\n",
    "df_spider"
   ]
  },
  {
   "cell_type": "code",
   "execution_count": null,
   "metadata": {
    "vscode": {
     "languageId": "r"
    }
   },
   "outputs": [
    {
     "data": {
      "text/html": [
       "<table class=\"dataframe\">\n",
       "<caption>A data.frame: 7 × 12</caption>\n",
       "<thead>\n",
       "\t<tr><th></th><th scope=col>practice</th><th scope=col>sedentary</th><th scope=col>intesity1</th><th scope=col>intesity2</th><th scope=col>intesity3</th><th scope=col>duration1</th><th scope=col>duration2</th><th scope=col>duration3</th><th scope=col>duration4</th><th scope=col>frequency1</th><th scope=col>frequency2</th><th scope=col>frequency3</th></tr>\n",
       "\t<tr><th></th><th scope=col>&lt;dbl&gt;</th><th scope=col>&lt;dbl&gt;</th><th scope=col>&lt;dbl&gt;</th><th scope=col>&lt;dbl&gt;</th><th scope=col>&lt;dbl&gt;</th><th scope=col>&lt;dbl&gt;</th><th scope=col>&lt;dbl&gt;</th><th scope=col>&lt;dbl&gt;</th><th scope=col>&lt;dbl&gt;</th><th scope=col>&lt;dbl&gt;</th><th scope=col>&lt;dbl&gt;</th><th scope=col>&lt;dbl&gt;</th></tr>\n",
       "</thead>\n",
       "<tbody>\n",
       "\t<tr><th scope=row>Max</th><td>400</td><td>400</td><td>400</td><td>400</td><td>400</td><td>400</td><td>400</td><td>400</td><td>400</td><td>400</td><td>400</td><td>400</td></tr>\n",
       "\t<tr><th scope=row>Min</th><td>  0</td><td>  0</td><td>  0</td><td>  0</td><td>  0</td><td>  0</td><td>  0</td><td>  0</td><td>  0</td><td>  0</td><td>  0</td><td>  0</td></tr>\n",
       "\t<tr><th scope=row>1</th><td>408</td><td>219</td><td>128</td><td>221</td><td> 59</td><td>102</td><td>242</td><td> 54</td><td> 10</td><td>198</td><td>133</td><td> 77</td></tr>\n",
       "\t<tr><th scope=row>2</th><td>204</td><td> 93</td><td> 62</td><td>105</td><td> 37</td><td> 38</td><td>133</td><td> 30</td><td>  3</td><td> 88</td><td> 65</td><td> 51</td></tr>\n",
       "\t<tr><th scope=row>3</th><td>182</td><td> 78</td><td> 43</td><td>110</td><td> 29</td><td> 34</td><td>106</td><td> 34</td><td>  8</td><td> 79</td><td> 61</td><td> 42</td></tr>\n",
       "\t<tr><th scope=row>4</th><td> 78</td><td> 32</td><td> 19</td><td> 53</td><td>  6</td><td> 17</td><td> 52</td><td>  7</td><td>  2</td><td> 37</td><td> 20</td><td> 21</td></tr>\n",
       "\t<tr><th scope=row>5</th><td> 22</td><td>  9</td><td>  2</td><td> 15</td><td>  5</td><td>  0</td><td> 13</td><td>  8</td><td>  1</td><td>  8</td><td>  7</td><td>  7</td></tr>\n",
       "</tbody>\n",
       "</table>\n"
      ],
      "text/latex": [
       "A data.frame: 7 × 12\n",
       "\\begin{tabular}{r|llllllllllll}\n",
       "  & practice & sedentary & intesity1 & intesity2 & intesity3 & duration1 & duration2 & duration3 & duration4 & frequency1 & frequency2 & frequency3\\\\\n",
       "  & <dbl> & <dbl> & <dbl> & <dbl> & <dbl> & <dbl> & <dbl> & <dbl> & <dbl> & <dbl> & <dbl> & <dbl>\\\\\n",
       "\\hline\n",
       "\tMax & 400 & 400 & 400 & 400 & 400 & 400 & 400 & 400 & 400 & 400 & 400 & 400\\\\\n",
       "\tMin &   0 &   0 &   0 &   0 &   0 &   0 &   0 &   0 &   0 &   0 &   0 &   0\\\\\n",
       "\t1 & 408 & 219 & 128 & 221 &  59 & 102 & 242 &  54 &  10 & 198 & 133 &  77\\\\\n",
       "\t2 & 204 &  93 &  62 & 105 &  37 &  38 & 133 &  30 &   3 &  88 &  65 &  51\\\\\n",
       "\t3 & 182 &  78 &  43 & 110 &  29 &  34 & 106 &  34 &   8 &  79 &  61 &  42\\\\\n",
       "\t4 &  78 &  32 &  19 &  53 &   6 &  17 &  52 &   7 &   2 &  37 &  20 &  21\\\\\n",
       "\t5 &  22 &   9 &   2 &  15 &   5 &   0 &  13 &   8 &   1 &   8 &   7 &   7\\\\\n",
       "\\end{tabular}\n"
      ],
      "text/markdown": [
       "\n",
       "A data.frame: 7 × 12\n",
       "\n",
       "| <!--/--> | practice &lt;dbl&gt; | sedentary &lt;dbl&gt; | intesity1 &lt;dbl&gt; | intesity2 &lt;dbl&gt; | intesity3 &lt;dbl&gt; | duration1 &lt;dbl&gt; | duration2 &lt;dbl&gt; | duration3 &lt;dbl&gt; | duration4 &lt;dbl&gt; | frequency1 &lt;dbl&gt; | frequency2 &lt;dbl&gt; | frequency3 &lt;dbl&gt; |\n",
       "|---|---|---|---|---|---|---|---|---|---|---|---|---|\n",
       "| Max | 400 | 400 | 400 | 400 | 400 | 400 | 400 | 400 | 400 | 400 | 400 | 400 |\n",
       "| Min |   0 |   0 |   0 |   0 |   0 |   0 |   0 |   0 |   0 |   0 |   0 |   0 |\n",
       "| 1 | 408 | 219 | 128 | 221 |  59 | 102 | 242 |  54 |  10 | 198 | 133 |  77 |\n",
       "| 2 | 204 |  93 |  62 | 105 |  37 |  38 | 133 |  30 |   3 |  88 |  65 |  51 |\n",
       "| 3 | 182 |  78 |  43 | 110 |  29 |  34 | 106 |  34 |   8 |  79 |  61 |  42 |\n",
       "| 4 |  78 |  32 |  19 |  53 |   6 |  17 |  52 |   7 |   2 |  37 |  20 |  21 |\n",
       "| 5 |  22 |   9 |   2 |  15 |   5 |   0 |  13 |   8 |   1 |   8 |   7 |   7 |\n",
       "\n"
      ],
      "text/plain": [
       "    practice sedentary intesity1 intesity2 intesity3 duration1 duration2\n",
       "Max 400      400       400       400       400       400       400      \n",
       "Min   0        0         0         0         0         0         0      \n",
       "1   408      219       128       221        59       102       242      \n",
       "2   204       93        62       105        37        38       133      \n",
       "3   182       78        43       110        29        34       106      \n",
       "4    78       32        19        53         6        17        52      \n",
       "5    22        9         2        15         5         0        13      \n",
       "    duration3 duration4 frequency1 frequency2 frequency3\n",
       "Max 400       400       400        400        400       \n",
       "Min   0         0         0          0          0       \n",
       "1    54        10       198        133         77       \n",
       "2    30         3        88         65         51       \n",
       "3    34         8        79         61         42       \n",
       "4     7         2        37         20         21       \n",
       "5     8         1         8          7          7       "
      ]
     },
     "metadata": {},
     "output_type": "display_data"
    }
   ],
   "source": [
    "max_min <- data.frame(\n",
    "    practice = c(400, 0),\n",
    "    sedentary = c(400, 0),\n",
    "    intesity1 = c(400, 0),\n",
    "    intesity2 = c(400, 0),\n",
    "    intesity3 = c(400, 0),\n",
    "    duration1 = c(400, 0),\n",
    "    duration2 = c(400, 0),\n",
    "    duration3 = c(400, 0),\n",
    "    duration4 = c(400, 0),\n",
    "    frequency1 = c(400, 0),\n",
    "    frequency2 = c(400, 0),\n",
    "    frequency3 = c(400, 0)\n",
    ")\n",
    "rownames(max_min) <- c(\"Max\", \"Min\")\n",
    "df_spider <- rbind(max_min, df_spider)\n",
    "df_spider"
   ]
  },
  {
   "cell_type": "code",
   "execution_count": null,
   "metadata": {
    "vscode": {
     "languageId": "r"
    }
   },
   "outputs": [],
   "source": [
    "create_beautiful_radarchart <- function(data, color = \"#00AFBB\", \n",
    "                                        vlabels = colnames(data), vlcex = 0.7,\n",
    "                                        caxislabels = NULL, title = NULL, ...){\n",
    "  radarchart(\n",
    "    data, axistype = 1,\n",
    "    # Customize the polygon\n",
    "    pcol = color, pfcol = scales::alpha(color, 0.5), plwd = 2, plty = 1,\n",
    "    # Customize the grid\n",
    "    cglcol = \"grey\", cglty = 1, cglwd = 0.8,\n",
    "    # Customize the axis\n",
    "    axislabcol = \"grey\", \n",
    "    # Variable labels\n",
    "    vlcex = vlcex, vlabels = vlabels,\n",
    "    caxislabels = caxislabels, title = title, ...\n",
    "  )\n",
    "}"
   ]
  },
  {
   "cell_type": "code",
   "execution_count": null,
   "metadata": {
    "vscode": {
     "languageId": "r"
    }
   },
   "outputs": [
    {
     "data": {
      "text/html": [
       "<table class=\"dataframe\">\n",
       "<caption>A data.frame: 6 × 12</caption>\n",
       "<thead>\n",
       "\t<tr><th></th><th scope=col>practice</th><th scope=col>sedentary</th><th scope=col>intesity1</th><th scope=col>intesity2</th><th scope=col>intesity3</th><th scope=col>duration1</th><th scope=col>duration2</th><th scope=col>duration3</th><th scope=col>duration4</th><th scope=col>frequency1</th><th scope=col>frequency2</th><th scope=col>frequency3</th></tr>\n",
       "\t<tr><th></th><th scope=col>&lt;dbl&gt;</th><th scope=col>&lt;dbl&gt;</th><th scope=col>&lt;dbl&gt;</th><th scope=col>&lt;dbl&gt;</th><th scope=col>&lt;dbl&gt;</th><th scope=col>&lt;dbl&gt;</th><th scope=col>&lt;dbl&gt;</th><th scope=col>&lt;dbl&gt;</th><th scope=col>&lt;dbl&gt;</th><th scope=col>&lt;dbl&gt;</th><th scope=col>&lt;dbl&gt;</th><th scope=col>&lt;dbl&gt;</th></tr>\n",
       "</thead>\n",
       "<tbody>\n",
       "\t<tr><th scope=row>Max</th><td>400</td><td>400</td><td>400</td><td>400</td><td>400</td><td>400</td><td>400</td><td>400</td><td>400</td><td>400</td><td>400</td><td>400</td></tr>\n",
       "\t<tr><th scope=row>Min</th><td>  0</td><td>  0</td><td>  0</td><td>  0</td><td>  0</td><td>  0</td><td>  0</td><td>  0</td><td>  0</td><td>  0</td><td>  0</td><td>  0</td></tr>\n",
       "\t<tr><th scope=row>3</th><td>182</td><td> 78</td><td> 43</td><td>110</td><td> 29</td><td> 34</td><td>106</td><td> 34</td><td>  8</td><td> 79</td><td> 61</td><td> 42</td></tr>\n",
       "\t<tr><th scope=row>1</th><td>408</td><td>219</td><td>128</td><td>221</td><td> 59</td><td>102</td><td>242</td><td> 54</td><td> 10</td><td>198</td><td>133</td><td> 77</td></tr>\n",
       "\t<tr><th scope=row>2</th><td>204</td><td> 93</td><td> 62</td><td>105</td><td> 37</td><td> 38</td><td>133</td><td> 30</td><td>  3</td><td> 88</td><td> 65</td><td> 51</td></tr>\n",
       "\t<tr><th scope=row>4</th><td> 78</td><td> 32</td><td> 19</td><td> 53</td><td>  6</td><td> 17</td><td> 52</td><td>  7</td><td>  2</td><td> 37</td><td> 20</td><td> 21</td></tr>\n",
       "</tbody>\n",
       "</table>\n"
      ],
      "text/latex": [
       "A data.frame: 6 × 12\n",
       "\\begin{tabular}{r|llllllllllll}\n",
       "  & practice & sedentary & intesity1 & intesity2 & intesity3 & duration1 & duration2 & duration3 & duration4 & frequency1 & frequency2 & frequency3\\\\\n",
       "  & <dbl> & <dbl> & <dbl> & <dbl> & <dbl> & <dbl> & <dbl> & <dbl> & <dbl> & <dbl> & <dbl> & <dbl>\\\\\n",
       "\\hline\n",
       "\tMax & 400 & 400 & 400 & 400 & 400 & 400 & 400 & 400 & 400 & 400 & 400 & 400\\\\\n",
       "\tMin &   0 &   0 &   0 &   0 &   0 &   0 &   0 &   0 &   0 &   0 &   0 &   0\\\\\n",
       "\t3 & 182 &  78 &  43 & 110 &  29 &  34 & 106 &  34 &   8 &  79 &  61 &  42\\\\\n",
       "\t1 & 408 & 219 & 128 & 221 &  59 & 102 & 242 &  54 &  10 & 198 & 133 &  77\\\\\n",
       "\t2 & 204 &  93 &  62 & 105 &  37 &  38 & 133 &  30 &   3 &  88 &  65 &  51\\\\\n",
       "\t4 &  78 &  32 &  19 &  53 &   6 &  17 &  52 &   7 &   2 &  37 &  20 &  21\\\\\n",
       "\\end{tabular}\n"
      ],
      "text/markdown": [
       "\n",
       "A data.frame: 6 × 12\n",
       "\n",
       "| <!--/--> | practice &lt;dbl&gt; | sedentary &lt;dbl&gt; | intesity1 &lt;dbl&gt; | intesity2 &lt;dbl&gt; | intesity3 &lt;dbl&gt; | duration1 &lt;dbl&gt; | duration2 &lt;dbl&gt; | duration3 &lt;dbl&gt; | duration4 &lt;dbl&gt; | frequency1 &lt;dbl&gt; | frequency2 &lt;dbl&gt; | frequency3 &lt;dbl&gt; |\n",
       "|---|---|---|---|---|---|---|---|---|---|---|---|---|\n",
       "| Max | 400 | 400 | 400 | 400 | 400 | 400 | 400 | 400 | 400 | 400 | 400 | 400 |\n",
       "| Min |   0 |   0 |   0 |   0 |   0 |   0 |   0 |   0 |   0 |   0 |   0 |   0 |\n",
       "| 3 | 182 |  78 |  43 | 110 |  29 |  34 | 106 |  34 |   8 |  79 |  61 |  42 |\n",
       "| 1 | 408 | 219 | 128 | 221 |  59 | 102 | 242 |  54 |  10 | 198 | 133 |  77 |\n",
       "| 2 | 204 |  93 |  62 | 105 |  37 |  38 | 133 |  30 |   3 |  88 |  65 |  51 |\n",
       "| 4 |  78 |  32 |  19 |  53 |   6 |  17 |  52 |   7 |   2 |  37 |  20 |  21 |\n",
       "\n"
      ],
      "text/plain": [
       "    practice sedentary intesity1 intesity2 intesity3 duration1 duration2\n",
       "Max 400      400       400       400       400       400       400      \n",
       "Min   0        0         0         0         0         0         0      \n",
       "3   182       78        43       110        29        34       106      \n",
       "1   408      219       128       221        59       102       242      \n",
       "2   204       93        62       105        37        38       133      \n",
       "4    78       32        19        53         6        17        52      \n",
       "    duration3 duration4 frequency1 frequency2 frequency3\n",
       "Max 400       400       400        400        400       \n",
       "Min   0         0         0          0          0       \n",
       "3    34         8        79         61         42       \n",
       "1    54        10       198        133         77       \n",
       "2    30         3        88         65         51       \n",
       "4     7         2        37         20         21       "
      ]
     },
     "metadata": {},
     "output_type": "display_data"
    }
   ],
   "source": [
    "df_spider <- df_spider[c(\"Max\", \"Min\", 3, 1, 2, 4), ]\n",
    "df_spider"
   ]
  },
  {
   "cell_type": "code",
   "execution_count": null,
   "metadata": {
    "vscode": {
     "languageId": "r"
    }
   },
   "outputs": [
    {
     "data": {
      "image/png": "[encoded data removed]",
      "text/plain": [
       "plot without title"
      ]
     },
     "metadata": {
      "image/png": {
       "height": 420,
       "width": 420
      }
     },
     "output_type": "display_data"
    }
   ],
   "source": [
    "\n",
    "colors <-  c(\"#00AFBB\", \"#E7B800\", \"#FC4E07\", '#a432a8')\n",
    "titles <- c(\"Cluster 1\", \"Cluster 2\", \"Cluster 3\", \"Cluster 4\")\n",
    "op <- par(mar = c(1, 3, 3, 3))\n",
    "\n",
    "\n",
    "create_beautiful_radarchart(\n",
    "  data = df_spider, \n",
    "  caxislabels = c(0, 10, 20, 30),\n",
    "  color = colors,\n",
    "\n",
    ")\n",
    "\n",
    "\n",
    "legend(\n",
    "  x = \"bottom\", legend = rownames(df_spider[-c(1,2),]), horiz = TRUE,\n",
    "  bty = \"n\", pch = 20 , col =colors,\n",
    "  text.col = \"black\", cex = 1, pt.cex = 1.5\n",
    ")\n",
    "par(op)"
   ]
  }
 ],
 "metadata": {
  "kernelspec": {
   "display_name": "R",
   "language": "R",
   "name": "ir"
  },
  "language_info": {
   "codemirror_mode": "r",
   "file_extension": ".r",
   "mimetype": "text/x-r-source",
   "name": "R",
   "pygments_lexer": "r",
   "version": "4.1.0"
  },
  "orig_nbformat": 4
 },
 "nbformat": 4,
 "nbformat_minor": 2
}
