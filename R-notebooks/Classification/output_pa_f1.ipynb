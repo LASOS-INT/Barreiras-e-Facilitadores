{
 "cells": [
  {
   "cell_type": "markdown",
   "metadata": {},
   "source": [
    "# Predicting Practice of Exercise During"
   ]
  },
  {
   "cell_type": "markdown",
   "metadata": {},
   "source": [
    "## Importing packages"
   ]
  },
  {
   "cell_type": "code",
   "execution_count": null,
   "metadata": {
    "vscode": {
     "languageId": "r"
    }
   },
   "outputs": [],
   "source": [
    "library(here, help, pos = 2, lib.loc = NULL)\n",
    "source(here('Modules','modules.R'))\n",
    "source(here('Modules','data_cleaning.R'))\n",
    "source(here('Modules','unsupervised_learning.R'))\n",
    "#install_all_packages()\n",
    "load_library_packages()"
   ]
  },
  {
   "cell_type": "markdown",
   "metadata": {},
   "source": [
    "## Outliers"
   ]
  },
  {
   "cell_type": "markdown",
   "metadata": {},
   "source": [
    "#### Outlier: Strange Dont Practice"
   ]
  },
  {
   "cell_type": "code",
   "execution_count": null,
   "metadata": {
    "vscode": {
     "languageId": "r"
    }
   },
   "outputs": [],
   "source": [
    "pa_dataset_copy <- pa_dataset\n",
    "pa_dataset_copy[\"outlier\"] <- strange_dp\n",
    "outliers_result_sdp <- outliers_checker(distances_sdp, pa_dataset_copy, \"PA_practice_during\")"
   ]
  },
  {
   "cell_type": "code",
   "execution_count": 3,
   "metadata": {
    "vscode": {
     "languageId": "r"
    }
   },
   "outputs": [
    {
     "data": {
      "image/png": "[encoded data removed]",
      "text/plain": [
       "plot without title"
      ]
     },
     "metadata": {
      "image/png": {
       "height": 420,
       "width": 420
      }
     },
     "output_type": "display_data"
    }
   ],
   "source": [
    "plot <- outliers_result_sdp$kappa_x_alpha\n",
    "ggplot(plot, aes(plot[, \"alpha\"], plot[, \"kappa\"] )) + geom_point()"
   ]
  },
  {
   "cell_type": "markdown",
   "metadata": {},
   "source": [
    "#### Outlier: Strange Practice"
   ]
  },
  {
   "cell_type": "code",
   "execution_count": 4,
   "metadata": {
    "vscode": {
     "languageId": "r"
    }
   },
   "outputs": [],
   "source": [
    "pa_dataset_copy <- pa_dataset\n",
    "pa_dataset_copy[\"outlier\"] <- strange_p\n",
    "outliers_result_sp <- outliers_checker(distances_sp, pa_dataset_copy, \"PA_practice_during\")"
   ]
  },
  {
   "cell_type": "code",
   "execution_count": 5,
   "metadata": {
    "vscode": {
     "languageId": "r"
    }
   },
   "outputs": [
    {
     "data": {
      "image/png": "[encoded data removed]",
      "text/plain": [
       "plot without title"
      ]
     },
     "metadata": {
      "image/png": {
       "height": 420,
       "width": 420
      }
     },
     "output_type": "display_data"
    }
   ],
   "source": [
    "plot <- outliers_result_sp$kappa_x_alpha\n",
    "ggplot(plot, aes(plot[, \"alpha\"], plot[, \"kappa\"] )) + geom_point()"
   ]
  },
  {
   "cell_type": "markdown",
   "metadata": {},
   "source": [
    "#### New Train and Test\n",
    "The outliers check in the strange dont practice showed that we should delete 1 record"
   ]
  },
  {
   "cell_type": "code",
   "execution_count": 6,
   "metadata": {
    "vscode": {
     "languageId": "r"
    }
   },
   "outputs": [],
   "source": [
    "pa_train <- outliers_result_sdp$best_model$train\n",
    "pa_test <- outliers_result_sdp$best_model$test"
   ]
  },
  {
   "cell_type": "markdown",
   "metadata": {},
   "source": [
    "## Models"
   ]
  },
  {
   "cell_type": "code",
   "execution_count": 23,
   "metadata": {
    "vscode": {
     "languageId": "r"
    }
   },
   "outputs": [],
   "source": [
    "f1_score <- function (data, lev=NULL, model = NULL){\n",
    "    fb_val <- FBeta_Score(data$obs, data$pred, beta = 1)\n",
    "    c(f1_score = fb_val)\n",
    "}"
   ]
  },
  {
   "cell_type": "code",
   "execution_count": 8,
   "metadata": {
    "vscode": {
     "languageId": "r"
    }
   },
   "outputs": [
    {
     "data": {
      "text/html": [
       "<style>\n",
       ".list-inline {list-style: none; margin:0; padding: 0}\n",
       ".list-inline>li {display: inline-block}\n",
       ".list-inline>li:not(:last-child)::after {content: \"\\00b7\"; padding: 0 .5ex}\n",
       "</style>\n",
       "<ol class=list-inline><li>1242</li><li>74</li></ol>\n"
      ],
      "text/latex": [
       "\\begin{enumerate*}\n",
       "\\item 1242\n",
       "\\item 74\n",
       "\\end{enumerate*}\n"
      ],
      "text/markdown": [
       "1. 1242\n",
       "2. 74\n",
       "\n",
       "\n"
      ],
      "text/plain": [
       "[1] 1242   74"
      ]
     },
     "metadata": {},
     "output_type": "display_data"
    }
   ],
   "source": [
    "dim(pa_dataset)"
   ]
  },
  {
   "cell_type": "code",
   "execution_count": 9,
   "metadata": {
    "vscode": {
     "languageId": "r"
    }
   },
   "outputs": [
    {
     "data": {
      "text/plain": [
       "\n",
       "dont_practice      practice \n",
       "          346           896 "
      ]
     },
     "metadata": {},
     "output_type": "display_data"
    }
   ],
   "source": [
    "table(pa_dataset[, \"PA_practice_during\"])"
   ]
  },
  {
   "cell_type": "markdown",
   "metadata": {},
   "source": [
    "There is a majority class, we should apply data augmentation. We chose f1 metrict to optimize becouse data is unbalanced."
   ]
  },
  {
   "cell_type": "markdown",
   "metadata": {},
   "source": [
    "### Applying augmentation into the training set"
   ]
  },
  {
   "cell_type": "code",
   "execution_count": 10,
   "metadata": {
    "vscode": {
     "languageId": "r"
    }
   },
   "outputs": [
    {
     "data": {
      "text/plain": [
       "\n",
       "dont_practice      practice \n",
       "          628           628 "
      ]
     },
     "metadata": {},
     "output_type": "display_data"
    }
   ],
   "source": [
    "set.seed(2)\n",
    "pa_train.aug <- data_augmentation(\n",
    "    train_data=pa_train,\n",
    "    yname=\"PA_practice_during\",\n",
    "    maj_class = \"practice\",\n",
    "    min_classes = c(\"dont_practice\"),\n",
    "    ycol=match(\"PA_practice_during\",names(pa_dataset))\n",
    ")\n",
    "\n",
    "table(pa_train.aug[, \"PA_practice_during\"])\n"
   ]
  },
  {
   "cell_type": "markdown",
   "metadata": {},
   "source": [
    "### Decision Tree: f1_score Metric without augmentation"
   ]
  },
  {
   "cell_type": "code",
   "execution_count": 17,
   "metadata": {
    "vscode": {
     "languageId": "r"
    }
   },
   "outputs": [
    {
     "name": "stderr",
     "output_type": "stream",
     "text": [
      "Warning message in nominalTrainWorkflow(x = x, y = y, wts = weights, info = trainInfo, :\n",
      "\"There were missing values in resampled performance measures.\"\n"
     ]
    },
    {
     "name": "stdout",
     "output_type": "stream",
     "text": [
      "Confusion Matrix and Statistics\n",
      "\n",
      "               Reference\n",
      "Prediction      dont_practice practice\n",
      "  dont_practice            50       43\n",
      "  practice                 53      225\n",
      "                                          \n",
      "               Accuracy : 0.7412          \n",
      "                 95% CI : (0.6935, 0.7851)\n",
      "    No Information Rate : 0.7224          \n",
      "    P-Value [Acc > NIR] : 0.2267          \n",
      "                                          \n",
      "                  Kappa : 0.335           \n",
      "                                          \n",
      " Mcnemar's Test P-Value : 0.3583          \n",
      "                                          \n",
      "            Sensitivity : 0.4854          \n",
      "            Specificity : 0.8396          \n",
      "         Pos Pred Value : 0.5376          \n",
      "         Neg Pred Value : 0.8094          \n",
      "              Precision : 0.5376          \n",
      "                 Recall : 0.4854          \n",
      "                     F1 : 0.5102          \n",
      "             Prevalence : 0.2776          \n",
      "         Detection Rate : 0.1348          \n",
      "   Detection Prevalence : 0.2507          \n",
      "      Balanced Accuracy : 0.6625          \n",
      "                                          \n",
      "       'Positive' Class : dont_practice   \n",
      "                                          \n"
     ]
    },
    {
     "data": {
      "image/png": "[encoded data removed]",
      "text/plain": [
       "plot without title"
      ]
     },
     "metadata": {
      "image/png": {
       "height": 420,
       "width": 420
      }
     },
     "output_type": "display_data"
    }
   ],
   "source": [
    "set.seed(2)\n",
    "model <- fit_model(\n",
    "    model_method=\"rpart\",\n",
    "    model_metric=\"f1_score\",\n",
    "    trControl_func = trainControl(method = \"cv\", summaryFunction = f1_score),\n",
    "    train_data = pa_train,\n",
    "    test_data= pa_test,\n",
    "    yname=\"PA_practice_during\",\n",
    "    length = 3\n",
    ")\n",
    "print(model$matrix)\n",
    "\n",
    "rpart.plot(model$result$finalModel)\n",
    "roc_dt_na <- model$roc"
   ]
  },
  {
   "cell_type": "markdown",
   "metadata": {},
   "source": [
    "### Decision Tree: f1_score_score Metric with augmentation"
   ]
  },
  {
   "cell_type": "code",
   "execution_count": 21,
   "metadata": {
    "vscode": {
     "languageId": "r"
    }
   },
   "outputs": [
    {
     "name": "stderr",
     "output_type": "stream",
     "text": [
      "Warning message in nominalTrainWorkflow(x = x, y = y, wts = weights, info = trainInfo, :\n",
      "\"There were missing values in resampled performance measures.\"\n"
     ]
    },
    {
     "name": "stdout",
     "output_type": "stream",
     "text": [
      "Confusion Matrix and Statistics\n",
      "\n",
      "               Reference\n",
      "Prediction      dont_practice practice\n",
      "  dont_practice            10       33\n",
      "  practice                 93      235\n",
      "                                          \n",
      "               Accuracy : 0.6604          \n",
      "                 95% CI : (0.6097, 0.7085)\n",
      "    No Information Rate : 0.7224          \n",
      "    P-Value [Acc > NIR] : 0.9963          \n",
      "                                          \n",
      "                  Kappa : -0.0317         \n",
      "                                          \n",
      " Mcnemar's Test P-Value : 1.471e-07       \n",
      "                                          \n",
      "            Sensitivity : 0.09709         \n",
      "            Specificity : 0.87687         \n",
      "         Pos Pred Value : 0.23256         \n",
      "         Neg Pred Value : 0.71646         \n",
      "              Precision : 0.23256         \n",
      "                 Recall : 0.09709         \n",
      "                     F1 : 0.13699         \n",
      "             Prevalence : 0.27763         \n",
      "         Detection Rate : 0.02695         \n",
      "   Detection Prevalence : 0.11590         \n",
      "      Balanced Accuracy : 0.48698         \n",
      "                                          \n",
      "       'Positive' Class : dont_practice   \n",
      "                                          \n"
     ]
    },
    {
     "data": {
      "image/png": "[encoded data removed]",
      "text/plain": [
       "plot without title"
      ]
     },
     "metadata": {
      "image/png": {
       "height": 420,
       "width": 420
      }
     },
     "output_type": "display_data"
    }
   ],
   "source": [
    "\n",
    "set.seed(2)\n",
    "model <- fit_model(\n",
    "    model_method=\"rpart\",\n",
    "    model_metric=\"f1_score\",\n",
    "    trControl_func = trainControl(method = \"cv\", summaryFunction = f1_score),\n",
    "    train_data = pa_train.aug,\n",
    "    test_data=pa_test,\n",
    "    yname=\"PA_practice_during\",\n",
    "    length=3\n",
    ")\n",
    "print(model$matrix)\n",
    "rpart.plot(model$result$finalModel)\n",
    "roc_dt_a <- model$roc"
   ]
  },
  {
   "cell_type": "markdown",
   "metadata": {},
   "source": [
    "### RF: f1 Metric without augmentation\n"
   ]
  },
  {
   "cell_type": "code",
   "execution_count": 22,
   "metadata": {
    "vscode": {
     "languageId": "r"
    }
   },
   "outputs": [
    {
     "name": "stderr",
     "output_type": "stream",
     "text": [
      "Warning message in nominalTrainWorkflow(x = x, y = y, wts = weights, info = trainInfo, :\n",
      "\"There were missing values in resampled performance measures.\"\n"
     ]
    },
    {
     "name": "stdout",
     "output_type": "stream",
     "text": [
      "Confusion Matrix and Statistics\n",
      "\n",
      "               Reference\n",
      "Prediction      dont_practice practice\n",
      "  dont_practice            44       28\n",
      "  practice                 59      240\n",
      "                                         \n",
      "               Accuracy : 0.7655         \n",
      "                 95% CI : (0.719, 0.8077)\n",
      "    No Information Rate : 0.7224         \n",
      "    P-Value [Acc > NIR] : 0.034526       \n",
      "                                         \n",
      "                  Kappa : 0.3557         \n",
      "                                         \n",
      " Mcnemar's Test P-Value : 0.001298       \n",
      "                                         \n",
      "            Sensitivity : 0.4272         \n",
      "            Specificity : 0.8955         \n",
      "         Pos Pred Value : 0.6111         \n",
      "         Neg Pred Value : 0.8027         \n",
      "              Precision : 0.6111         \n",
      "                 Recall : 0.4272         \n",
      "                     F1 : 0.5029         \n",
      "             Prevalence : 0.2776         \n",
      "         Detection Rate : 0.1186         \n",
      "   Detection Prevalence : 0.1941         \n",
      "      Balanced Accuracy : 0.6614         \n",
      "                                         \n",
      "       'Positive' Class : dont_practice  \n",
      "                                         \n"
     ]
    }
   ],
   "source": [
    "set.seed(2)\n",
    "model <- fit_model(\n",
    "    model_method=\"rf\",\n",
    "    model_metric=\"f1_score\",\n",
    "    trControl_func = trainControl(method = \"cv\", search=\"grid\", summaryFunction = f1_score),\n",
    "    train_data = pa_train,\n",
    "    test_data=pa_test,\n",
    "    yname=\"PA_practice_during\",\n",
    "    length = 15\n",
    ")\n",
    "print(model$matrix)\n",
    "roc_rf_na <- model$roc"
   ]
  },
  {
   "cell_type": "code",
   "execution_count": null,
   "metadata": {
    "vscode": {
     "languageId": "r"
    }
   },
   "outputs": [
    {
     "data": {
      "image/png": "[encoded data removed]",
      "text/plain": [
       "plot without title"
      ]
     },
     "metadata": {
      "image/png": {
       "height": 420,
       "width": 420
      }
     },
     "output_type": "display_data"
    },
    {
     "data": {
      "image/png": "[encoded data removed]",
      "text/plain": [
       "plot without title"
      ]
     },
     "metadata": {
      "image/png": {
       "height": 420,
       "width": 420
      }
     },
     "output_type": "display_data"
    }
   ],
   "source": [
    "plot(varImp(model$result), top=20)\n",
    "plot(model$result)\n"
   ]
  },
  {
   "cell_type": "markdown",
   "metadata": {},
   "source": [
    "### RF: f1 metric with augmentation"
   ]
  },
  {
   "cell_type": "code",
   "execution_count": 11,
   "metadata": {
    "vscode": {
     "languageId": "r"
    }
   },
   "outputs": [
    {
     "name": "stdout",
     "output_type": "stream",
     "text": [
      "Confusion Matrix and Statistics\n",
      "\n",
      "               Reference\n",
      "Prediction      dont_practice practice\n",
      "  dont_practice            47       23\n",
      "  practice                 56      245\n",
      "                                          \n",
      "               Accuracy : 0.7871          \n",
      "                 95% CI : (0.7418, 0.8276)\n",
      "    No Information Rate : 0.7224          \n",
      "    P-Value [Acc > NIR] : 0.0026512       \n",
      "                                          \n",
      "                  Kappa : 0.411           \n",
      "                                          \n",
      " Mcnemar's Test P-Value : 0.0003179       \n",
      "                                          \n",
      "            Sensitivity : 0.4563          \n",
      "            Specificity : 0.9142          \n",
      "         Pos Pred Value : 0.6714          \n",
      "         Neg Pred Value : 0.8140          \n",
      "              Precision : 0.6714          \n",
      "                 Recall : 0.4563          \n",
      "                     F1 : 0.5434          \n",
      "             Prevalence : 0.2776          \n",
      "         Detection Rate : 0.1267          \n",
      "   Detection Prevalence : 0.1887          \n",
      "      Balanced Accuracy : 0.6852          \n",
      "                                          \n",
      "       'Positive' Class : dont_practice   \n",
      "                                          \n"
     ]
    }
   ],
   "source": [
    "set.seed(2)\n",
    "model <- fit_model(\n",
    "    model_method=\"rf\",\n",
    "    model_metric=\"f1\",\n",
    "    trControl_func = trainControl(method = \"cv\", search=\"grid\", summaryFunction = f1),\n",
    "    train_data = pa_train.aug,\n",
    "    test_data=pa_test,\n",
    "    yname=\"PA_practice_during\",\n",
    "    length = 15\n",
    ")\n",
    "print(model$matrix)\n",
    "roc_rf_a <- model$roc"
   ]
  },
  {
   "cell_type": "code",
   "execution_count": 12,
   "metadata": {
    "vscode": {
     "languageId": "r"
    }
   },
   "outputs": [
    {
     "data": {
      "image/png": "[encoded data removed]",
      "text/plain": [
       "plot without title"
      ]
     },
     "metadata": {
      "image/png": {
       "height": 420,
       "width": 420
      }
     },
     "output_type": "display_data"
    },
    {
     "data": {
      "image/png": "[encoded data removed]",
      "text/plain": [
       "plot without title"
      ]
     },
     "metadata": {
      "image/png": {
       "height": 420,
       "width": 420
      }
     },
     "output_type": "display_data"
    }
   ],
   "source": [
    "plot(varImp(model$result), top=20)\n",
    "plot(model$result)\n"
   ]
  },
  {
   "cell_type": "markdown",
   "metadata": {},
   "source": [
    "## Roc Results\n"
   ]
  },
  {
   "cell_type": "code",
   "execution_count": null,
   "metadata": {
    "vscode": {
     "languageId": "r"
    }
   },
   "outputs": [],
   "source": [
    "ggroc(list(DT_not_augmented = roc_dt_na,\n",
    "            DT_augmented = roc_dt_a, \n",
    "            RF_not_augmented = roc_rf_na, \n",
    "            RF_augmented = roc_rf_a))"
   ]
  },
  {
   "cell_type": "markdown",
   "metadata": {},
   "source": [
    "## Sensibility and Specificity Analysis"
   ]
  },
  {
   "cell_type": "markdown",
   "metadata": {},
   "source": [
    "### Vectorized Metrics"
   ]
  },
  {
   "cell_type": "code",
   "execution_count": 25,
   "metadata": {
    "vscode": {
     "languageId": "r"
    }
   },
   "outputs": [],
   "source": [
    "# f1 <- function(ths){\n",
    "    \n",
    "#   diff <- abs(ths$Sensitivity - ths$Specificity)\n",
    "#   indexOfMin = match(min(diff), diff)\n",
    "#   return(ths[indexOfMin, \"prob_threshold\"])\n",
    "# }\n",
    "\n",
    "f2 <- function(ths){\n",
    "    desv <- function(x){\n",
    "      sd(c(unname(x[\"Sensitivity\"]), unname(x[\"Specificity\"])))\n",
    "    }\n",
    "    avg <- (ths$Sensitivity + ths$Specificity)/2\n",
    "    deviation <- apply(ths, desv, MARGIN=1)\n",
    "    metric <- avg - deviation\n",
    "    indexOfMin = match(max(metric), metric)\n",
    "    return(ths[indexOfMin, \"prob_threshold\"])\n",
    "}"
   ]
  },
  {
   "cell_type": "markdown",
   "metadata": {},
   "source": [
    "#### Find Optimal threshhold"
   ]
  },
  {
   "cell_type": "code",
   "execution_count": 26,
   "metadata": {
    "vscode": {
     "languageId": "r"
    }
   },
   "outputs": [
    {
     "name": "stderr",
     "output_type": "stream",
     "text": [
      "Warning message in nominalTrainWorkflow(x = x, y = y, wts = weights, info = trainInfo, :\n",
      "\"There were missing values in resampled performance measures.\"\n",
      "Warning message in .fun(piece, ...):\n",
      "\"The following columns have missing values (NA), which have been removed: 'Pos Pred Value', 'Precision', 'F1'.\n",
      "\"\n",
      "Warning message in .fun(piece, ...):\n",
      "\"The following columns have missing values (NA), which have been removed: 'Pos Pred Value', 'Precision', 'F1'.\n",
      "\"\n",
      "Warning message in .fun(piece, ...):\n",
      "\"The following columns have missing values (NA), which have been removed: 'Pos Pred Value', 'Precision', 'F1'.\n",
      "\"\n",
      "Warning message in .fun(piece, ...):\n",
      "\"The following columns have missing values (NA), which have been removed: 'Pos Pred Value', 'Precision', 'F1'.\n",
      "\"\n"
     ]
    },
    {
     "name": "stdout",
     "output_type": "stream",
     "text": [
      "[1] 0.32\n",
      "Confusion Matrix and Statistics\n",
      "\n",
      "               Reference\n",
      "Prediction      dont_practice practice\n",
      "  dont_practice            75       79\n",
      "  practice                 28      189\n",
      "                                          \n",
      "               Accuracy : 0.7116          \n",
      "                 95% CI : (0.6626, 0.7572)\n",
      "    No Information Rate : 0.7224          \n",
      "    P-Value [Acc > NIR] : 0.7012          \n",
      "                                          \n",
      "                  Kappa : 0.3761          \n",
      "                                          \n",
      " Mcnemar's Test P-Value : 1.34e-06        \n",
      "                                          \n",
      "            Sensitivity : 0.7282          \n",
      "            Specificity : 0.7052          \n",
      "         Pos Pred Value : 0.4870          \n",
      "         Neg Pred Value : 0.8710          \n",
      "              Precision : 0.4870          \n",
      "                 Recall : 0.7282          \n",
      "                     F1 : 0.5837          \n",
      "             Prevalence : 0.2776          \n",
      "         Detection Rate : 0.2022          \n",
      "   Detection Prevalence : 0.4151          \n",
      "      Balanced Accuracy : 0.7167          \n",
      "                                          \n",
      "       'Positive' Class : dont_practice   \n",
      "                                          \n"
     ]
    },
    {
     "data": {
      "image/png": "[encoded data removed]",
      "text/plain": [
       "plot without title"
      ]
     },
     "metadata": {
      "image/png": {
       "height": 420,
       "width": 420
      }
     },
     "output_type": "display_data"
    }
   ],
   "source": [
    "source(here('Modules','modules.R'))\n",
    "set.seed(2)\n",
    "model <- fit_model_thresholder(\n",
    "    model_method=\"rf\",\n",
    "    model_metric=\"f1_score\",\n",
    "    trControl_func = trainControl( summaryFunction = f1_score, method = \"cv\", search=\"grid\",  classProbs=TRUE, savePredictions=TRUE),\n",
    "    train_data = pa_train,\n",
    "    test_data=pa_test,\n",
    "    yname=\"PA_practice_during\",\n",
    "    length = 15,\n",
    "    best_th = f2\n",
    ")\n",
    "\n",
    "print(model$matrix)"
   ]
  }
 ],
 "metadata": {
  "interpreter": {
   "hash": "504f3c59030ce497617f317a9428f4b93383e33452cdf68ecc4d09fa55919cc8"
  },
  "kernelspec": {
   "display_name": "R",
   "language": "R",
   "name": "ir"
  },
  "language_info": {
   "codemirror_mode": "r",
   "file_extension": ".r",
   "mimetype": "text/x-r-source",
   "name": "R",
   "pygments_lexer": "r",
   "version": "4.1.0"
  },
  "orig_nbformat": 4
 },
 "nbformat": 4,
 "nbformat_minor": 2
}
