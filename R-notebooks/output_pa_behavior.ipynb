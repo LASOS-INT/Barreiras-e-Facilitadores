{
 "cells": [
  {
   "cell_type": "markdown",
   "metadata": {},
   "source": [
    "# Predicting practice behavior of those who practice before"
   ]
  },
  {
   "cell_type": "markdown",
   "metadata": {},
   "source": [
    "## Importing packages"
   ]
  },
  {
   "cell_type": "code",
   "execution_count": 1,
   "metadata": {},
   "outputs": [
    {
     "name": "stderr",
     "output_type": "stream",
     "text": [
      "Warning message:\n",
      "\"package 'here' was built under R version 4.1.1\"\n",
      "here() starts at C:/Users/maria/Desktop/Programacao/IC/projetos/Barreiras-e-Facilitadores\n",
      "\n",
      "Warning message:\n",
      "\"package 'ggplot2' was built under R version 4.1.1\"\n",
      "Warning message:\n",
      "\"package 'cowplot' was built under R version 4.1.1\"\n",
      "Warning message:\n",
      "\"package 'randomForest' was built under R version 4.1.1\"\n",
      "randomForest 4.6-14\n",
      "\n",
      "Type rfNews() to see new features/changes/bug fixes.\n",
      "\n",
      "\n",
      "Attaching package: 'randomForest'\n",
      "\n",
      "\n",
      "The following object is masked from 'package:ggplot2':\n",
      "\n",
      "    margin\n",
      "\n",
      "\n",
      "Warning message:\n",
      "\"package 'caret' was built under R version 4.1.1\"\n",
      "Carregando pacotes exigidos: lattice\n",
      "\n",
      "Warning message:\n",
      "\"package 'lattice' was built under R version 4.1.1\"\n",
      "Warning message:\n",
      "\"package 'rpart.plot' was built under R version 4.1.1\"\n",
      "Carregando pacotes exigidos: rpart\n",
      "\n",
      "Warning message:\n",
      "\"package 'readxl' was built under R version 4.1.2\"\n",
      "Warning message:\n",
      "\"package 'e1071' was built under R version 4.1.1\"\n",
      "Warning message:\n",
      "\"package 'AugmenterR' was built under R version 4.1.1\"\n",
      "Warning message:\n",
      "\"package 'smotefamily' was built under R version 4.1.1\"\n",
      "Warning message:\n",
      "\"package 'ROSE' was built under R version 4.1.1\"\n",
      "Loaded ROSE 0.0-4\n",
      "\n",
      "\n",
      "Warning message:\n",
      "\"package 'xgboost' was built under R version 4.1.1\"\n",
      "Warning message:\n",
      "\"package 'ROCR' was built under R version 4.1.1\"\n",
      "Warning message:\n",
      "\"package 'MASS' was built under R version 4.1.1\"\n",
      "\n",
      "Attaching package: 'MASS'\n",
      "\n",
      "\n",
      "The following object is masked _by_ '.GlobalEnv':\n",
      "\n",
      "    fbeta\n",
      "\n",
      "\n",
      "Warning message:\n",
      "\"package 'DescTools' was built under R version 4.1.1\"\n",
      "\n",
      "Attaching package: 'DescTools'\n",
      "\n",
      "\n",
      "The following objects are masked from 'package:caret':\n",
      "\n",
      "    MAE, RMSE\n",
      "\n",
      "\n",
      "Warning message:\n",
      "\"package 'dplyr' was built under R version 4.1.1\"\n",
      "\n",
      "Attaching package: 'dplyr'\n",
      "\n",
      "\n",
      "The following object is masked from 'package:MASS':\n",
      "\n",
      "    select\n",
      "\n",
      "\n",
      "The following object is masked from 'package:xgboost':\n",
      "\n",
      "    slice\n",
      "\n",
      "\n",
      "The following object is masked from 'package:randomForest':\n",
      "\n",
      "    combine\n",
      "\n",
      "\n",
      "The following objects are masked from 'package:stats':\n",
      "\n",
      "    filter, lag\n",
      "\n",
      "\n",
      "The following objects are masked from 'package:base':\n",
      "\n",
      "    intersect, setdiff, setequal, union\n",
      "\n",
      "\n",
      "\n",
      "Attaching package: 'kernlab'\n",
      "\n",
      "\n",
      "The following object is masked from 'package:ggplot2':\n",
      "\n",
      "    alpha\n",
      "\n",
      "\n",
      "Warning message:\n",
      "\"package 'fastAdaboost' was built under R version 4.1.1\"\n",
      "Warning message:\n",
      "\"package 'DataExplorer' was built under R version 4.1.1\"\n",
      "dummies-1.5.6 provided by Decision Patterns\n",
      "\n",
      "\n",
      "Warning message:\n",
      "\"package 'mlbench' was built under R version 4.1.1\"\n",
      "Warning message:\n",
      "\"package 'h2o' was built under R version 4.1.1\"\n",
      "\n",
      "----------------------------------------------------------------------\n",
      "\n",
      "Your next step is to start H2O:\n",
      "    > h2o.init()\n",
      "\n",
      "For H2O package documentation, ask for help:\n",
      "    > ??h2o\n",
      "\n",
      "After starting H2O, you can use the Web UI at http://localhost:54321\n",
      "For more information visit https://docs.h2o.ai\n",
      "\n",
      "----------------------------------------------------------------------\n",
      "\n",
      "\n",
      "\n",
      "Attaching package: 'h2o'\n",
      "\n",
      "\n",
      "The following objects are masked from 'package:stats':\n",
      "\n",
      "    cor, sd, var\n",
      "\n",
      "\n",
      "The following objects are masked from 'package:base':\n",
      "\n",
      "    %*%, %in%, &&, ||, apply, as.factor, as.numeric, colnames,\n",
      "    colnames<-, ifelse, is.character, is.factor, is.numeric, log,\n",
      "    log10, log1p, log2, round, signif, trunc\n",
      "\n",
      "\n",
      "Warning message:\n",
      "\"package 'rattle' was built under R version 4.1.1\"\n",
      "Carregando pacotes exigidos: tibble\n",
      "\n",
      "Carregando pacotes exigidos: bitops\n",
      "\n",
      "\n",
      "Attaching package: 'bitops'\n",
      "\n",
      "\n",
      "The following object is masked from 'package:DescTools':\n",
      "\n",
      "    %^%\n",
      "\n",
      "\n",
      "Rattle: A free graphical interface for data science with R.\n",
      "Version 5.4.0 Copyright (c) 2006-2020 Togaware Pty Ltd.\n",
      "Type 'rattle()' to shake, rattle, and roll your data.\n",
      "\n",
      "\n",
      "Attaching package: 'rattle'\n",
      "\n",
      "\n",
      "The following object is masked from 'package:xgboost':\n",
      "\n",
      "    xgboost\n",
      "\n",
      "\n",
      "The following object is masked from 'package:randomForest':\n",
      "\n",
      "    importance\n",
      "\n",
      "\n",
      "Warning message:\n",
      "\"package 'MLmetrics' was built under R version 4.1.1\"\n",
      "\n",
      "Attaching package: 'MLmetrics'\n",
      "\n",
      "\n",
      "The following objects are masked from 'package:DescTools':\n",
      "\n",
      "    AUC, Gini, MAE, MAPE, MSE, RMSE\n",
      "\n",
      "\n",
      "The following objects are masked from 'package:caret':\n",
      "\n",
      "    MAE, RMSE\n",
      "\n",
      "\n",
      "The following object is masked from 'package:base':\n",
      "\n",
      "    Recall\n",
      "\n",
      "\n",
      "Warning message:\n",
      "\"package 'ggfortify' was built under R version 4.1.1\"\n",
      "Warning message:\n",
      "\"package 'Rtsne' was built under R version 4.1.1\"\n"
     ]
    },
    {
     "name": "stdout",
     "output_type": "stream",
     "text": [
      "Performing PCA\n",
      "Read the 1242 x 50 data matrix successfully!\n",
      "OpenMP is working. 1 threads.\n",
      "Using no_dims = 2, perplexity = 100.000000, and theta = 0.500000\n",
      "Computing input similarities...\n",
      "Building tree...\n",
      "Done in 1.05 seconds (sparsity = 0.326346)!\n",
      "Learning embedding...\n",
      "Iteration 50: error is 57.596822 (50 iterations in 0.46 seconds)\n",
      "Iteration 100: error is 57.596822 (50 iterations in 0.46 seconds)\n",
      "Iteration 150: error is 57.596822 (50 iterations in 0.62 seconds)\n",
      "Iteration 200: error is 57.596822 (50 iterations in 0.79 seconds)\n",
      "Iteration 250: error is 57.596830 (50 iterations in 1.01 seconds)\n",
      "Iteration 300: error is 2.314829 (50 iterations in 0.98 seconds)\n",
      "Iteration 350: error is 1.307825 (50 iterations in 0.46 seconds)\n",
      "Iteration 400: error is 1.264104 (50 iterations in 0.30 seconds)\n",
      "Iteration 450: error is 1.259163 (50 iterations in 0.31 seconds)\n",
      "Iteration 500: error is 1.254181 (50 iterations in 0.32 seconds)\n",
      "Iteration 550: error is 1.251289 (50 iterations in 0.32 seconds)\n",
      "Iteration 600: error is 1.249738 (50 iterations in 0.33 seconds)\n",
      "Iteration 650: error is 1.247943 (50 iterations in 0.34 seconds)\n",
      "Iteration 700: error is 1.246239 (50 iterations in 0.36 seconds)\n",
      "Iteration 750: error is 1.245424 (50 iterations in 0.39 seconds)\n",
      "Iteration 800: error is 1.244529 (50 iterations in 0.43 seconds)\n",
      "Iteration 850: error is 1.244411 (50 iterations in 0.35 seconds)\n",
      "Iteration 900: error is 1.244227 (50 iterations in 0.34 seconds)\n",
      "Iteration 950: error is 1.243720 (50 iterations in 0.38 seconds)\n",
      "Iteration 1000: error is 1.243327 (50 iterations in 0.35 seconds)\n",
      "Fitting performed in 9.31 seconds.\n"
     ]
    },
    {
     "data": {
      "text/html": [
       "<ol>\n",
       "\t<li>TRUE</li>\n",
       "\t<li>TRUE</li>\n",
       "\t<li>TRUE</li>\n",
       "\t<li>TRUE</li>\n",
       "\t<li>TRUE</li>\n",
       "\t<li>TRUE</li>\n",
       "\t<li>TRUE</li>\n",
       "\t<li>TRUE</li>\n",
       "\t<li>TRUE</li>\n",
       "\t<li>TRUE</li>\n",
       "\t<li>TRUE</li>\n",
       "\t<li>TRUE</li>\n",
       "\t<li>TRUE</li>\n",
       "\t<li>TRUE</li>\n",
       "\t<li>TRUE</li>\n",
       "\t<li>TRUE</li>\n",
       "\t<li>TRUE</li>\n",
       "\t<li>TRUE</li>\n",
       "\t<li>TRUE</li>\n",
       "\t<li>TRUE</li>\n",
       "\t<li>TRUE</li>\n",
       "\t<li>TRUE</li>\n",
       "\t<li>TRUE</li>\n",
       "\t<li>TRUE</li>\n",
       "\t<li>TRUE</li>\n",
       "\t<li>TRUE</li>\n",
       "\t<li>TRUE</li>\n",
       "\t<li>TRUE</li>\n",
       "</ol>\n"
      ],
      "text/latex": [
       "\\begin{enumerate}\n",
       "\\item TRUE\n",
       "\\item TRUE\n",
       "\\item TRUE\n",
       "\\item TRUE\n",
       "\\item TRUE\n",
       "\\item TRUE\n",
       "\\item TRUE\n",
       "\\item TRUE\n",
       "\\item TRUE\n",
       "\\item TRUE\n",
       "\\item TRUE\n",
       "\\item TRUE\n",
       "\\item TRUE\n",
       "\\item TRUE\n",
       "\\item TRUE\n",
       "\\item TRUE\n",
       "\\item TRUE\n",
       "\\item TRUE\n",
       "\\item TRUE\n",
       "\\item TRUE\n",
       "\\item TRUE\n",
       "\\item TRUE\n",
       "\\item TRUE\n",
       "\\item TRUE\n",
       "\\item TRUE\n",
       "\\item TRUE\n",
       "\\item TRUE\n",
       "\\item TRUE\n",
       "\\end{enumerate}\n"
      ],
      "text/markdown": [
       "1. TRUE\n",
       "2. TRUE\n",
       "3. TRUE\n",
       "4. TRUE\n",
       "5. TRUE\n",
       "6. TRUE\n",
       "7. TRUE\n",
       "8. TRUE\n",
       "9. TRUE\n",
       "10. TRUE\n",
       "11. TRUE\n",
       "12. TRUE\n",
       "13. TRUE\n",
       "14. TRUE\n",
       "15. TRUE\n",
       "16. TRUE\n",
       "17. TRUE\n",
       "18. TRUE\n",
       "19. TRUE\n",
       "20. TRUE\n",
       "21. TRUE\n",
       "22. TRUE\n",
       "23. TRUE\n",
       "24. TRUE\n",
       "25. TRUE\n",
       "26. TRUE\n",
       "27. TRUE\n",
       "28. TRUE\n",
       "\n",
       "\n"
      ],
      "text/plain": [
       "[[1]]\n",
       "[1] TRUE\n",
       "\n",
       "[[2]]\n",
       "[1] TRUE\n",
       "\n",
       "[[3]]\n",
       "[1] TRUE\n",
       "\n",
       "[[4]]\n",
       "[1] TRUE\n",
       "\n",
       "[[5]]\n",
       "[1] TRUE\n",
       "\n",
       "[[6]]\n",
       "[1] TRUE\n",
       "\n",
       "[[7]]\n",
       "[1] TRUE\n",
       "\n",
       "[[8]]\n",
       "[1] TRUE\n",
       "\n",
       "[[9]]\n",
       "[1] TRUE\n",
       "\n",
       "[[10]]\n",
       "[1] TRUE\n",
       "\n",
       "[[11]]\n",
       "[1] TRUE\n",
       "\n",
       "[[12]]\n",
       "[1] TRUE\n",
       "\n",
       "[[13]]\n",
       "[1] TRUE\n",
       "\n",
       "[[14]]\n",
       "[1] TRUE\n",
       "\n",
       "[[15]]\n",
       "[1] TRUE\n",
       "\n",
       "[[16]]\n",
       "[1] TRUE\n",
       "\n",
       "[[17]]\n",
       "[1] TRUE\n",
       "\n",
       "[[18]]\n",
       "[1] TRUE\n",
       "\n",
       "[[19]]\n",
       "[1] TRUE\n",
       "\n",
       "[[20]]\n",
       "[1] TRUE\n",
       "\n",
       "[[21]]\n",
       "[1] TRUE\n",
       "\n",
       "[[22]]\n",
       "[1] TRUE\n",
       "\n",
       "[[23]]\n",
       "[1] TRUE\n",
       "\n",
       "[[24]]\n",
       "[1] TRUE\n",
       "\n",
       "[[25]]\n",
       "[1] TRUE\n",
       "\n",
       "[[26]]\n",
       "[1] TRUE\n",
       "\n",
       "[[27]]\n",
       "[1] TRUE\n",
       "\n",
       "[[28]]\n",
       "[1] TRUE\n"
      ]
     },
     "metadata": {},
     "output_type": "display_data"
    }
   ],
   "source": [
    "#install.packages(\"here\")\n",
    "library(here, help, pos = 2, lib.loc = NULL)\n",
    "source(here('Modules','modules.R'))\n",
    "source(here('Modules','data_cleaning.R'))\n",
    "source(here('Modules','unsupervised_learning.R'))\n",
    "#install_all_packages()\n",
    "load_library_packages()"
   ]
  },
  {
   "cell_type": "markdown",
   "metadata": {},
   "source": [
    "## Outliers"
   ]
  },
  {
   "cell_type": "code",
   "execution_count": 2,
   "metadata": {},
   "outputs": [
    {
     "data": {
      "text/plain": [
       "\n",
       "change_to_dont_practice      change_to_practice     still_dont_practice \n",
       "                    270                      69                      76 \n",
       "         still_practice \n",
       "                    827 "
      ]
     },
     "metadata": {},
     "output_type": "display_data"
    },
    {
     "data": {
      "text/plain": [
       "\n",
       "change_to_dont_practice          still_practice \n",
       "                    270                     827 "
      ]
     },
     "metadata": {},
     "output_type": "display_data"
    }
   ],
   "source": [
    "table(pa_behavior_dataset[, \"pa_behavior\"])\n",
    "practice_before <- c(\"change_to_dont_practice\", \"still_practice\")\n",
    "dont_practice_before <- c(\"change_to_practice\", \"still_dont_practice\")\n",
    "pa_behavior_dataset_1 <- pa_behavior_dataset[pa_behavior_dataset$pa_behavior %in% practice_before, ]\n",
    "\n",
    "new_levels <- droplevels(pa_behavior_dataset_1[, \"pa_behavior\"], exclude = levels(pa_behavior_dataset_1[, \"pa_behavior\"]) %in% dont_practice_before)\n",
    "pa_behavior_dataset_1[, \"pa_behavior\"] <- new_levels\n",
    "\n",
    "table(pa_behavior_dataset_1[, \"pa_behavior\"])"
   ]
  },
  {
   "cell_type": "markdown",
   "metadata": {},
   "source": [
    "#### Outlier: Strange Dont Practice"
   ]
  },
  {
   "cell_type": "code",
   "execution_count": 3,
   "metadata": {},
   "outputs": [
    {
     "ename": "ERROR",
     "evalue": "Error: `data` and `reference` should be factors with the same levels.\n",
     "output_type": "error",
     "traceback": [
      "Error: `data` and `reference` should be factors with the same levels.\nTraceback:\n",
      "1. outliers_checker(distances_sp, pa_behavior_dataset_copy, \"pa_behavior\")",
      "2. fit_model(model_method = \"rpart\", model_metric = \"Kappa\", trControl_func = trainControl(method = \"cv\"), \n .     train_data = train_copy, test_data = test, yname = y, length = 3)",
      "3. confusionMatrix(pred, test_data[, yname], mode = \"everything\")",
      "4. confusionMatrix.default(pred, test_data[, yname], mode = \"everything\")",
      "5. stop(\"`data` and `reference` should be factors with the same levels.\", \n .     call. = FALSE)"
     ]
    }
   ],
   "source": [
    "pa_behavior_dataset_copy <- pa_behavior_dataset_1\n",
    "pa_behavior_dataset_copy[\"outlier\"] <- strange_p[as.numeric(rownames(pa_behavior_dataset_1))]\n",
    "outliers_result <- outliers_checker(distances_sp, pa_behavior_dataset_copy, \"pa_behavior\")"
   ]
  },
  {
   "cell_type": "code",
   "execution_count": 4,
   "metadata": {},
   "outputs": [
    {
     "data": {
      "image/png": "[encoded data removed]",
      "text/plain": [
       "plot without title"
      ]
     },
     "metadata": {
      "image/png": {
       "height": 420,
       "width": 420
      }
     },
     "output_type": "display_data"
    }
   ],
   "source": [
    "plot <- outliers_result$kappa_x_alpha\n",
    "ggplot(plot, aes(plot[, \"alpha\"], plot[, \"kappa\"] )) + geom_point()"
   ]
  },
  {
   "cell_type": "markdown",
   "metadata": {},
   "source": [
    "#### New Train and Test\n",
    "The outliers check in the strange dont practice showed that we should delete 1 record"
   ]
  },
  {
   "cell_type": "code",
   "execution_count": 5,
   "metadata": {},
   "outputs": [],
   "source": [
    "pa_behavior_train <- outliers_result$best_model$train\n",
    "pa_behavior_test <- outliers_result$best_model$test"
   ]
  },
  {
   "cell_type": "markdown",
   "metadata": {},
   "source": [
    "## Models"
   ]
  },
  {
   "cell_type": "code",
   "execution_count": 6,
   "metadata": {},
   "outputs": [
    {
     "data": {
      "text/html": [
       "<style>\n",
       ".list-inline {list-style: none; margin:0; padding: 0}\n",
       ".list-inline>li {display: inline-block}\n",
       ".list-inline>li:not(:last-child)::after {content: \"\\00b7\"; padding: 0 .5ex}\n",
       "</style>\n",
       "<ol class=list-inline><li>1097</li><li>73</li></ol>\n"
      ],
      "text/latex": [
       "\\begin{enumerate*}\n",
       "\\item 1097\n",
       "\\item 73\n",
       "\\end{enumerate*}\n"
      ],
      "text/markdown": [
       "1. 1097\n",
       "2. 73\n",
       "\n",
       "\n"
      ],
      "text/plain": [
       "[1] 1097   73"
      ]
     },
     "metadata": {},
     "output_type": "display_data"
    },
    {
     "data": {
      "text/plain": [
       "\n",
       "change_to_dont_practice          still_practice \n",
       "                    270                     827 "
      ]
     },
     "metadata": {},
     "output_type": "display_data"
    }
   ],
   "source": [
    "dim(pa_behavior_dataset_1)\n",
    "table(pa_behavior_dataset_1[, \"pa_behavior\"])"
   ]
  },
  {
   "cell_type": "markdown",
   "metadata": {},
   "source": [
    "There is a majority class, we should apply data augmentation. We chose kappa metrict to optimize becouse data is unbalanced."
   ]
  },
  {
   "cell_type": "markdown",
   "metadata": {},
   "source": [
    "### Applying augmentation into the training set: practice before"
   ]
  },
  {
   "cell_type": "code",
   "execution_count": 7,
   "metadata": {},
   "outputs": [
    {
     "data": {
      "text/plain": [
       "\n",
       "change_to_dont_practice          still_practice \n",
       "                    579                     579 "
      ]
     },
     "metadata": {},
     "output_type": "display_data"
    }
   ],
   "source": [
    "pa_behavior_train.aug <- data_augmentation(\n",
    "    train_data=pa_behavior_train,\n",
    "    yname=\"pa_behavior\",\n",
    "    maj_class = \"still_practice\",\n",
    "    min_classes = c(\"change_to_dont_practice\"),\n",
    "    ycol=match(\"pa_behavior\",names(pa_behavior_dataset_1))\n",
    ")\n",
    "\n",
    "table(pa_behavior_train.aug[, \"pa_behavior\"])\n"
   ]
  },
  {
   "cell_type": "markdown",
   "metadata": {},
   "source": [
    "### Kappa metric without augmentation: practice before"
   ]
  },
  {
   "cell_type": "code",
   "execution_count": 8,
   "metadata": {},
   "outputs": [
    {
     "name": "stdout",
     "output_type": "stream",
     "text": [
      "Confusion Matrix and Statistics\n",
      "\n",
      "                         Reference\n",
      "Prediction                change_to_dont_practice still_practice\n",
      "  change_to_dont_practice                      21             11\n",
      "  still_practice                               60            237\n",
      "                                                 \n",
      "               Accuracy : 0.7842                 \n",
      "                 95% CI : (0.7358, 0.8274)       \n",
      "    No Information Rate : 0.7538                 \n",
      "    P-Value [Acc > NIR] : 0.1109                 \n",
      "                                                 \n",
      "                  Kappa : 0.2699                 \n",
      "                                                 \n",
      " Mcnemar's Test P-Value : 1.223e-08              \n",
      "                                                 \n",
      "            Sensitivity : 0.25926                \n",
      "            Specificity : 0.95565                \n",
      "         Pos Pred Value : 0.65625                \n",
      "         Neg Pred Value : 0.79798                \n",
      "             Prevalence : 0.24620                \n",
      "         Detection Rate : 0.06383                \n",
      "   Detection Prevalence : 0.09726                \n",
      "      Balanced Accuracy : 0.60745                \n",
      "                                                 \n",
      "       'Positive' Class : change_to_dont_practice\n",
      "                                                 \n"
     ]
    },
    {
     "data": {
      "image/png": "[encoded data removed]",
      "text/plain": [
       "plot without title"
      ]
     },
     "metadata": {
      "image/png": {
       "height": 420,
       "width": 420
      }
     },
     "output_type": "display_data"
    }
   ],
   "source": [
    "set.seed(2)\n",
    "model <- fit_model(\n",
    "    model_method=\"rpart\",\n",
    "    model_metric=\"Kappa\",\n",
    "    trControl_func = trainControl(method = \"cv\"),\n",
    "    train_data = pa_behavior_train,\n",
    "    test_data=pa_behavior_test,\n",
    "    yname=\"pa_behavior\",\n",
    "    length = 3\n",
    ")\n",
    "print(model$matrix)\n",
    "# print(model$result)\n",
    "rpart.plot(model$result$finalModel)\n",
    "\n"
   ]
  },
  {
   "cell_type": "markdown",
   "metadata": {},
   "source": [
    "### Accuracy metric with augmentation: practice before"
   ]
  },
  {
   "cell_type": "code",
   "execution_count": 9,
   "metadata": {},
   "outputs": [
    {
     "name": "stdout",
     "output_type": "stream",
     "text": [
      "Confusion Matrix and Statistics\n",
      "\n",
      "                         Reference\n",
      "Prediction                change_to_dont_practice still_practice\n",
      "  change_to_dont_practice                      50             85\n",
      "  still_practice                               31            163\n",
      "                                                 \n",
      "               Accuracy : 0.6474                 \n",
      "                 95% CI : (0.5931, 0.699)        \n",
      "    No Information Rate : 0.7538                 \n",
      "    P-Value [Acc > NIR] : 1                      \n",
      "                                                 \n",
      "                  Kappa : 0.2242                 \n",
      "                                                 \n",
      " Mcnemar's Test P-Value : 8.614e-07              \n",
      "                                                 \n",
      "            Sensitivity : 0.6173                 \n",
      "            Specificity : 0.6573                 \n",
      "         Pos Pred Value : 0.3704                 \n",
      "         Neg Pred Value : 0.8402                 \n",
      "             Prevalence : 0.2462                 \n",
      "         Detection Rate : 0.1520                 \n",
      "   Detection Prevalence : 0.4103                 \n",
      "      Balanced Accuracy : 0.6373                 \n",
      "                                                 \n",
      "       'Positive' Class : change_to_dont_practice\n",
      "                                                 \n"
     ]
    },
    {
     "data": {
      "image/png": "[encoded data removed]",
      "text/plain": [
       "plot without title"
      ]
     },
     "metadata": {
      "image/png": {
       "height": 420,
       "width": 420
      }
     },
     "output_type": "display_data"
    }
   ],
   "source": [
    "model <- fit_model(\n",
    "    model_method=\"rpart\",\n",
    "    model_metric=\"Accuracy\",\n",
    "    trControl_func = trainControl(method = \"cv\"),\n",
    "    train_data = pa_behavior_train.aug,\n",
    "    test_data=pa_behavior_test,\n",
    "    yname=\"pa_behavior\",\n",
    "    length=3\n",
    ")\n",
    "print(model$matrix)\n",
    "rpart.plot(model$result$finalModel)"
   ]
  },
  {
   "cell_type": "markdown",
   "metadata": {},
   "source": [
    "### RF practice before: Kappa metric without augmentation"
   ]
  },
  {
   "cell_type": "code",
   "execution_count": 10,
   "metadata": {},
   "outputs": [
    {
     "name": "stdout",
     "output_type": "stream",
     "text": [
      "Confusion Matrix and Statistics\n",
      "\n",
      "                         Reference\n",
      "Prediction                change_to_dont_practice still_practice\n",
      "  change_to_dont_practice                      25             10\n",
      "  still_practice                               56            238\n",
      "                                                 \n",
      "               Accuracy : 0.7994                 \n",
      "                 95% CI : (0.752, 0.8413)        \n",
      "    No Information Rate : 0.7538                 \n",
      "    P-Value [Acc > NIR] : 0.0297                 \n",
      "                                                 \n",
      "                  Kappa : 0.3318                 \n",
      "                                                 \n",
      " Mcnemar's Test P-Value : 3.04e-08               \n",
      "                                                 \n",
      "            Sensitivity : 0.30864                \n",
      "            Specificity : 0.95968                \n",
      "         Pos Pred Value : 0.71429                \n",
      "         Neg Pred Value : 0.80952                \n",
      "             Prevalence : 0.24620                \n",
      "         Detection Rate : 0.07599                \n",
      "   Detection Prevalence : 0.10638                \n",
      "      Balanced Accuracy : 0.63416                \n",
      "                                                 \n",
      "       'Positive' Class : change_to_dont_practice\n",
      "                                                 \n"
     ]
    }
   ],
   "source": [
    "set.seed(2)\n",
    "model <- fit_model(\n",
    "    model_method=\"rf\",\n",
    "    model_metric=\"Kappa\",\n",
    "    trControl_func = trainControl(method = \"cv\", search=\"grid\"),\n",
    "    train_data = pa_behavior_train,\n",
    "    test_data=pa_behavior_test,\n",
    "    yname=\"pa_behavior\",\n",
    "    length = 15\n",
    ")\n",
    "print(model$matrix)"
   ]
  },
  {
   "cell_type": "code",
   "execution_count": 11,
   "metadata": {},
   "outputs": [
    {
     "data": {
      "image/png": "[encoded data removed]",
      "text/plain": [
       "plot without title"
      ]
     },
     "metadata": {
      "image/png": {
       "height": 420,
       "width": 420
      }
     },
     "output_type": "display_data"
    },
    {
     "data": {
      "image/png": "[encoded data removed]",
      "text/plain": [
       "plot without title"
      ]
     },
     "metadata": {
      "image/png": {
       "height": 420,
       "width": 420
      }
     },
     "output_type": "display_data"
    }
   ],
   "source": [
    "plot(varImp(model$result), top=20)\n",
    "plot(model$result)\n"
   ]
  },
  {
   "cell_type": "markdown",
   "metadata": {},
   "source": [
    "### RF practice before: Accuracy metric with augmentation"
   ]
  },
  {
   "cell_type": "code",
   "execution_count": 12,
   "metadata": {},
   "outputs": [
    {
     "name": "stdout",
     "output_type": "stream",
     "text": [
      "Confusion Matrix and Statistics\n",
      "\n",
      "                         Reference\n",
      "Prediction                change_to_dont_practice still_practice\n",
      "  change_to_dont_practice                      23              4\n",
      "  still_practice                               58            244\n",
      "                                                 \n",
      "               Accuracy : 0.8116                 \n",
      "                 95% CI : (0.765, 0.8524)        \n",
      "    No Information Rate : 0.7538                 \n",
      "    P-Value [Acc > NIR] : 0.00766                \n",
      "                                                 \n",
      "                  Kappa : 0.3453                 \n",
      "                                                 \n",
      " Mcnemar's Test P-Value : 1.685e-11              \n",
      "                                                 \n",
      "            Sensitivity : 0.28395                \n",
      "            Specificity : 0.98387                \n",
      "         Pos Pred Value : 0.85185                \n",
      "         Neg Pred Value : 0.80795                \n",
      "             Prevalence : 0.24620                \n",
      "         Detection Rate : 0.06991                \n",
      "   Detection Prevalence : 0.08207                \n",
      "      Balanced Accuracy : 0.63391                \n",
      "                                                 \n",
      "       'Positive' Class : change_to_dont_practice\n",
      "                                                 \n"
     ]
    }
   ],
   "source": [
    "set.seed(2)\n",
    "model <- fit_model(\n",
    "    model_method=\"rf\",\n",
    "    model_metric=\"Accuracy\",\n",
    "    trControl_func = trainControl(method = \"cv\", search=\"grid\"),\n",
    "    train_data = pa_behavior_train.aug,\n",
    "    test_data=pa_behavior_test,\n",
    "    yname=\"pa_behavior\",\n",
    "    length = 15\n",
    ")\n",
    "print(model$matrix)"
   ]
  },
  {
   "cell_type": "code",
   "execution_count": 13,
   "metadata": {},
   "outputs": [
    {
     "data": {
      "image/png": "[encoded data removed]",
      "text/plain": [
       "plot without title"
      ]
     },
     "metadata": {
      "image/png": {
       "height": 420,
       "width": 420
      }
     },
     "output_type": "display_data"
    },
    {
     "data": {
      "image/png": "[encoded data removed]",
      "text/plain": [
       "plot without title"
      ]
     },
     "metadata": {
      "image/png": {
       "height": 420,
       "width": 420
      }
     },
     "output_type": "display_data"
    }
   ],
   "source": [
    "plot(varImp(model$result), top=20)\n",
    "plot(model$result)\n"
   ]
  }
 ],
 "metadata": {
  "kernelspec": {
   "display_name": "R",
   "language": "R",
   "name": "ir"
  },
  "language_info": {
   "codemirror_mode": "r",
   "file_extension": ".r",
   "mimetype": "text/x-r-source",
   "name": "R",
   "pygments_lexer": "r",
   "version": "4.1.0"
  },
  "orig_nbformat": 4
 },
 "nbformat": 4,
 "nbformat_minor": 2
}
