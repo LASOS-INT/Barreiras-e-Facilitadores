{
 "cells": [
  {
   "cell_type": "markdown",
   "metadata": {},
   "source": [
    "# Importing packages"
   ]
  },
  {
   "cell_type": "code",
   "execution_count": 1,
   "metadata": {},
   "outputs": [
    {
     "name": "stderr",
     "output_type": "stream",
     "text": [
      "Warning message:\n",
      "\"package 'here' was built under R version 4.1.1\"\n",
      "here() starts at C:/Users/maria/Desktop/Programacao/IC/projetos/Barreiras-e-Facilitadores\n",
      "\n",
      "Warning message:\n",
      "\"package 'ggplot2' was built under R version 4.1.1\"\n",
      "Warning message:\n",
      "\"package 'cowplot' was built under R version 4.1.1\"\n",
      "Warning message:\n",
      "\"package 'randomForest' was built under R version 4.1.1\"\n",
      "randomForest 4.6-14\n",
      "\n",
      "Type rfNews() to see new features/changes/bug fixes.\n",
      "\n",
      "\n",
      "Attaching package: 'randomForest'\n",
      "\n",
      "\n",
      "The following object is masked from 'package:ggplot2':\n",
      "\n",
      "    margin\n",
      "\n",
      "\n",
      "Warning message:\n",
      "\"package 'caret' was built under R version 4.1.1\"\n",
      "Carregando pacotes exigidos: lattice\n",
      "\n",
      "Warning message:\n",
      "\"package 'lattice' was built under R version 4.1.1\"\n",
      "Warning message:\n",
      "\"package 'rpart.plot' was built under R version 4.1.1\"\n",
      "Carregando pacotes exigidos: rpart\n",
      "\n",
      "Warning message:\n",
      "\"package 'readxl' was built under R version 4.1.1\"\n",
      "Warning message:\n",
      "\"package 'e1071' was built under R version 4.1.1\"\n",
      "Warning message:\n",
      "\"package 'AugmenterR' was built under R version 4.1.1\"\n",
      "Warning message:\n",
      "\"package 'smotefamily' was built under R version 4.1.1\"\n",
      "Warning message:\n",
      "\"package 'ROSE' was built under R version 4.1.1\"\n",
      "Loaded ROSE 0.0-4\n",
      "\n",
      "\n",
      "Warning message:\n",
      "\"package 'xgboost' was built under R version 4.1.1\"\n",
      "Warning message:\n",
      "\"package 'ROCR' was built under R version 4.1.1\"\n",
      "Warning message:\n",
      "\"package 'MASS' was built under R version 4.1.1\"\n",
      "\n",
      "Attaching package: 'MASS'\n",
      "\n",
      "\n",
      "The following object is masked _by_ '.GlobalEnv':\n",
      "\n",
      "    fbeta\n",
      "\n",
      "\n",
      "Warning message:\n",
      "\"package 'DescTools' was built under R version 4.1.1\"\n",
      "\n",
      "Attaching package: 'DescTools'\n",
      "\n",
      "\n",
      "The following objects are masked from 'package:caret':\n",
      "\n",
      "    MAE, RMSE\n",
      "\n",
      "\n",
      "Warning message:\n",
      "\"package 'dplyr' was built under R version 4.1.1\"\n",
      "\n",
      "Attaching package: 'dplyr'\n",
      "\n",
      "\n",
      "The following object is masked from 'package:MASS':\n",
      "\n",
      "    select\n",
      "\n",
      "\n",
      "The following object is masked from 'package:xgboost':\n",
      "\n",
      "    slice\n",
      "\n",
      "\n",
      "The following object is masked from 'package:randomForest':\n",
      "\n",
      "    combine\n",
      "\n",
      "\n",
      "The following objects are masked from 'package:stats':\n",
      "\n",
      "    filter, lag\n",
      "\n",
      "\n",
      "The following objects are masked from 'package:base':\n",
      "\n",
      "    intersect, setdiff, setequal, union\n",
      "\n",
      "\n",
      "\n",
      "Attaching package: 'kernlab'\n",
      "\n",
      "\n",
      "The following object is masked from 'package:ggplot2':\n",
      "\n",
      "    alpha\n",
      "\n",
      "\n",
      "Warning message:\n",
      "\"package 'fastAdaboost' was built under R version 4.1.1\"\n",
      "Warning message:\n",
      "\"package 'DataExplorer' was built under R version 4.1.1\"\n",
      "dummies-1.5.6 provided by Decision Patterns\n",
      "\n",
      "\n",
      "Warning message:\n",
      "\"package 'mlbench' was built under R version 4.1.1\"\n",
      "Warning message:\n",
      "\"package 'h2o' was built under R version 4.1.1\"\n",
      "\n",
      "----------------------------------------------------------------------\n",
      "\n",
      "Your next step is to start H2O:\n",
      "    > h2o.init()\n",
      "\n",
      "For H2O package documentation, ask for help:\n",
      "    > ??h2o\n",
      "\n",
      "After starting H2O, you can use the Web UI at http://localhost:54321\n",
      "For more information visit https://docs.h2o.ai\n",
      "\n",
      "----------------------------------------------------------------------\n",
      "\n",
      "\n",
      "\n",
      "Attaching package: 'h2o'\n",
      "\n",
      "\n",
      "The following objects are masked from 'package:stats':\n",
      "\n",
      "    cor, sd, var\n",
      "\n",
      "\n",
      "The following objects are masked from 'package:base':\n",
      "\n",
      "    %*%, %in%, &&, ||, apply, as.factor, as.numeric, colnames,\n",
      "    colnames<-, ifelse, is.character, is.factor, is.numeric, log,\n",
      "    log10, log1p, log2, round, signif, trunc\n",
      "\n",
      "\n",
      "Warning message:\n",
      "\"package 'rattle' was built under R version 4.1.1\"\n",
      "Carregando pacotes exigidos: tibble\n",
      "\n",
      "Carregando pacotes exigidos: bitops\n",
      "\n",
      "\n",
      "Attaching package: 'bitops'\n",
      "\n",
      "\n",
      "The following object is masked from 'package:DescTools':\n",
      "\n",
      "    %^%\n",
      "\n",
      "\n",
      "Rattle: A free graphical interface for data science with R.\n",
      "Version 5.4.0 Copyright (c) 2006-2020 Togaware Pty Ltd.\n",
      "Type 'rattle()' to shake, rattle, and roll your data.\n",
      "\n",
      "\n",
      "Attaching package: 'rattle'\n",
      "\n",
      "\n",
      "The following object is masked from 'package:xgboost':\n",
      "\n",
      "    xgboost\n",
      "\n",
      "\n",
      "The following object is masked from 'package:randomForest':\n",
      "\n",
      "    importance\n",
      "\n",
      "\n",
      "Warning message:\n",
      "\"package 'MLmetrics' was built under R version 4.1.1\"\n",
      "\n",
      "Attaching package: 'MLmetrics'\n",
      "\n",
      "\n",
      "The following objects are masked from 'package:DescTools':\n",
      "\n",
      "    AUC, Gini, MAE, MAPE, MSE, RMSE\n",
      "\n",
      "\n",
      "The following objects are masked from 'package:caret':\n",
      "\n",
      "    MAE, RMSE\n",
      "\n",
      "\n",
      "The following object is masked from 'package:base':\n",
      "\n",
      "    Recall\n",
      "\n",
      "\n",
      "Warning message:\n",
      "\"package 'ggfortify' was built under R version 4.1.1\"\n",
      "Warning message:\n",
      "\"package 'Rtsne' was built under R version 4.1.1\"\n"
     ]
    }
   ],
   "source": [
    "#install.packages(\"here\")\n",
    "library(here, help, pos = 2, lib.loc = NULL)\n",
    "source(here('Modules','modules.R'))\n",
    "source(here('Modules','data_cleaning.R'))\n"
   ]
  },
  {
   "cell_type": "code",
   "execution_count": 2,
   "metadata": {},
   "outputs": [],
   "source": [
    "pa_dataset <- pa_dataset[pa_dataset[\"Health_professional\"] == 1, ]\n",
    "sedentary_dataset <- sedentary_dataset[sedentary_dataset[\"Health_professional\"] == 1, ]\n",
    "pa_behavior_dataset <- pa_behavior_dataset[pa_behavior_dataset[\"Health_professional\"] == 1, ]"
   ]
  },
  {
   "cell_type": "code",
   "execution_count": 3,
   "metadata": {},
   "outputs": [],
   "source": [
    "practice_before <- c(\"change_to_dont_practice\", \"still_practice\")\n",
    "dont_practice_before <- c(\"change_to_practice\", \"still_dont_practice\")\n",
    "pa_behavior_dataset_1 <- pa_behavior_dataset[pa_behavior_dataset$pa_behavior %in% practice_before, ]\n",
    "\n",
    "new_levels <- droplevels(pa_behavior_dataset_1[, \"pa_behavior\"], exclude = levels(pa_behavior_dataset_1[, \"pa_behavior\"]) %in% dont_practice_before)\n",
    "pa_behavior_dataset_1[, \"pa_behavior\"] <- new_levels\n"
   ]
  },
  {
   "cell_type": "markdown",
   "metadata": {},
   "source": [
    "# Decision Trees and Random Fortest"
   ]
  },
  {
   "cell_type": "markdown",
   "metadata": {},
   "source": [
    "## Output variable: Practice of exercise During"
   ]
  },
  {
   "cell_type": "code",
   "execution_count": 4,
   "metadata": {},
   "outputs": [
    {
     "data": {
      "text/html": [
       "<style>\n",
       ".list-inline {list-style: none; margin:0; padding: 0}\n",
       ".list-inline>li {display: inline-block}\n",
       ".list-inline>li:not(:last-child)::after {content: \"\\00b7\"; padding: 0 .5ex}\n",
       "</style>\n",
       "<ol class=list-inline><li>344</li><li>74</li></ol>\n"
      ],
      "text/latex": [
       "\\begin{enumerate*}\n",
       "\\item 344\n",
       "\\item 74\n",
       "\\end{enumerate*}\n"
      ],
      "text/markdown": [
       "1. 344\n",
       "2. 74\n",
       "\n",
       "\n"
      ],
      "text/plain": [
       "[1] 344  74"
      ]
     },
     "metadata": {},
     "output_type": "display_data"
    }
   ],
   "source": [
    "dim(pa_dataset)"
   ]
  },
  {
   "cell_type": "code",
   "execution_count": 5,
   "metadata": {},
   "outputs": [
    {
     "data": {
      "text/plain": [
       "\n",
       "dont_practice      practice \n",
       "           89           255 "
      ]
     },
     "metadata": {},
     "output_type": "display_data"
    }
   ],
   "source": [
    "table(pa_dataset[, \"PA_practice_during\"])"
   ]
  },
  {
   "cell_type": "markdown",
   "metadata": {},
   "source": [
    "There is a majority class, we should apply data augmentation. We chose kappa metrict to optimize becouse data is unbalanced."
   ]
  },
  {
   "cell_type": "markdown",
   "metadata": {},
   "source": [
    "### Creating the dataset partition"
   ]
  },
  {
   "cell_type": "code",
   "execution_count": 6,
   "metadata": {},
   "outputs": [],
   "source": [
    "set.seed(2)\n",
    "lista_treino <- createDataPartition(pa_dataset$PA_practice_during, p=0.7, list=FALSE)\n",
    "treino <- pa_dataset[lista_treino,]\n",
    "teste <- pa_dataset[-lista_treino,]"
   ]
  },
  {
   "cell_type": "markdown",
   "metadata": {},
   "source": [
    "### Applying augmentation into the training set"
   ]
  },
  {
   "cell_type": "code",
   "execution_count": 7,
   "metadata": {},
   "outputs": [
    {
     "data": {
      "text/plain": [
       "\n",
       "dont_practice      practice \n",
       "          179           179 "
      ]
     },
     "metadata": {},
     "output_type": "display_data"
    }
   ],
   "source": [
    "treino.aug <- data_augmentation(\n",
    "    train_data=treino,\n",
    "    yname=\"PA_practice_during\",\n",
    "    maj_class = \"practice\",\n",
    "    min_classes = c(\"dont_practice\"),\n",
    "    ycol=match(\"PA_practice_during\",names(pa_dataset))\n",
    ")\n",
    "\n",
    "table(treino.aug[, \"PA_practice_during\"])\n"
   ]
  },
  {
   "cell_type": "markdown",
   "metadata": {},
   "source": [
    "### Decision Tree: Kappa metric without augmentation"
   ]
  },
  {
   "cell_type": "code",
   "execution_count": 8,
   "metadata": {},
   "outputs": [
    {
     "name": "stdout",
     "output_type": "stream",
     "text": [
      "Confusion Matrix and Statistics\n",
      "\n",
      "               Reference\n",
      "Prediction      dont_practice practice\n",
      "  dont_practice             3       10\n",
      "  practice                 23       66\n",
      "                                          \n",
      "               Accuracy : 0.6765          \n",
      "                 95% CI : (0.5766, 0.7658)\n",
      "    No Information Rate : 0.7451          \n",
      "    P-Value [Acc > NIR] : 0.95295         \n",
      "                                          \n",
      "                  Kappa : -0.0194         \n",
      "                                          \n",
      " Mcnemar's Test P-Value : 0.03671         \n",
      "                                          \n",
      "            Sensitivity : 0.11538         \n",
      "            Specificity : 0.86842         \n",
      "         Pos Pred Value : 0.23077         \n",
      "         Neg Pred Value : 0.74157         \n",
      "             Prevalence : 0.25490         \n",
      "         Detection Rate : 0.02941         \n",
      "   Detection Prevalence : 0.12745         \n",
      "      Balanced Accuracy : 0.49190         \n",
      "                                          \n",
      "       'Positive' Class : dont_practice   \n",
      "                                          \n"
     ]
    },
    {
     "data": {
      "image/png": "[encoded data removed]",
      "text/plain": [
       "plot without title"
      ]
     },
     "metadata": {
      "image/png": {
       "height": 420,
       "width": 420
      }
     },
     "output_type": "display_data"
    }
   ],
   "source": [
    "set.seed(2)\n",
    "model <- fit_model(\n",
    "    model_method=\"rpart\",\n",
    "    model_metric=\"Kappa\",\n",
    "    trControl_func = trainControl(method = \"cv\"),\n",
    "    train_data = treino,\n",
    "    test_data=teste,\n",
    "    yname=\"PA_practice_during\",\n",
    "    length = 3\n",
    ")\n",
    "print(model$matrix)\n",
    "# print(model$result)\n",
    "rpart.plot(model$result$finalModel)\n",
    "\n"
   ]
  },
  {
   "cell_type": "markdown",
   "metadata": {},
   "source": [
    "### Decision Tree: Accuracy metric with augmentation"
   ]
  },
  {
   "cell_type": "code",
   "execution_count": 9,
   "metadata": {},
   "outputs": [
    {
     "name": "stdout",
     "output_type": "stream",
     "text": [
      "Confusion Matrix and Statistics\n",
      "\n",
      "               Reference\n",
      "Prediction      dont_practice practice\n",
      "  dont_practice            16       28\n",
      "  practice                 10       48\n",
      "                                          \n",
      "               Accuracy : 0.6275          \n",
      "                 95% CI : (0.5261, 0.7212)\n",
      "    No Information Rate : 0.7451          \n",
      "    P-Value [Acc > NIR] : 0.99690         \n",
      "                                          \n",
      "                  Kappa : 0.2012          \n",
      "                                          \n",
      " Mcnemar's Test P-Value : 0.00582         \n",
      "                                          \n",
      "            Sensitivity : 0.6154          \n",
      "            Specificity : 0.6316          \n",
      "         Pos Pred Value : 0.3636          \n",
      "         Neg Pred Value : 0.8276          \n",
      "             Prevalence : 0.2549          \n",
      "         Detection Rate : 0.1569          \n",
      "   Detection Prevalence : 0.4314          \n",
      "      Balanced Accuracy : 0.6235          \n",
      "                                          \n",
      "       'Positive' Class : dont_practice   \n",
      "                                          \n"
     ]
    },
    {
     "data": {
      "image/png": "[encoded data removed]",
      "text/plain": [
       "plot without title"
      ]
     },
     "metadata": {
      "image/png": {
       "height": 420,
       "width": 420
      }
     },
     "output_type": "display_data"
    }
   ],
   "source": [
    "model <- fit_model(\n",
    "    model_method=\"rpart\",\n",
    "    model_metric=\"Accuracy\",\n",
    "    trControl_func = trainControl(method = \"cv\"),\n",
    "    train_data = treino.aug,\n",
    "    test_data=teste,\n",
    "    yname=\"PA_practice_during\",\n",
    "    length=3\n",
    ")\n",
    "print(model$matrix)\n",
    "rpart.plot(model$result$finalModel)"
   ]
  },
  {
   "cell_type": "markdown",
   "metadata": {},
   "source": [
    "### RF: Kappa metric without augmentation"
   ]
  },
  {
   "cell_type": "code",
   "execution_count": 10,
   "metadata": {},
   "outputs": [
    {
     "name": "stdout",
     "output_type": "stream",
     "text": [
      "Confusion Matrix and Statistics\n",
      "\n",
      "               Reference\n",
      "Prediction      dont_practice practice\n",
      "  dont_practice            14       12\n",
      "  practice                 12       64\n",
      "                                          \n",
      "               Accuracy : 0.7647          \n",
      "                 95% CI : (0.6704, 0.8431)\n",
      "    No Information Rate : 0.7451          \n",
      "    P-Value [Acc > NIR] : 0.373           \n",
      "                                          \n",
      "                  Kappa : 0.3806          \n",
      "                                          \n",
      " Mcnemar's Test P-Value : 1.000           \n",
      "                                          \n",
      "            Sensitivity : 0.5385          \n",
      "            Specificity : 0.8421          \n",
      "         Pos Pred Value : 0.5385          \n",
      "         Neg Pred Value : 0.8421          \n",
      "             Prevalence : 0.2549          \n",
      "         Detection Rate : 0.1373          \n",
      "   Detection Prevalence : 0.2549          \n",
      "      Balanced Accuracy : 0.6903          \n",
      "                                          \n",
      "       'Positive' Class : dont_practice   \n",
      "                                          \n"
     ]
    }
   ],
   "source": [
    "set.seed(2)\n",
    "model <- fit_model(\n",
    "    model_method=\"rf\",\n",
    "    model_metric=\"Kappa\",\n",
    "    trControl_func = trainControl(method = \"cv\", search=\"grid\"),\n",
    "    train_data = treino,\n",
    "    test_data=teste,\n",
    "    yname=\"PA_practice_during\",\n",
    "    length = 15\n",
    ")\n",
    "print(model$matrix)"
   ]
  },
  {
   "cell_type": "code",
   "execution_count": 11,
   "metadata": {},
   "outputs": [
    {
     "data": {
      "image/png": "[encoded data removed]",
      "text/plain": [
       "plot without title"
      ]
     },
     "metadata": {
      "image/png": {
       "height": 420,
       "width": 420
      }
     },
     "output_type": "display_data"
    },
    {
     "data": {
      "image/png": "[encoded data removed]",
      "text/plain": [
       "plot without title"
      ]
     },
     "metadata": {
      "image/png": {
       "height": 420,
       "width": 420
      }
     },
     "output_type": "display_data"
    }
   ],
   "source": [
    "plot(varImp(model$result), top=20)\n",
    "plot(model$result)\n"
   ]
  },
  {
   "cell_type": "markdown",
   "metadata": {},
   "source": [
    "### RF: Accuracy metric with augmentation"
   ]
  },
  {
   "cell_type": "code",
   "execution_count": 12,
   "metadata": {},
   "outputs": [
    {
     "name": "stdout",
     "output_type": "stream",
     "text": [
      "Confusion Matrix and Statistics\n",
      "\n",
      "               Reference\n",
      "Prediction      dont_practice practice\n",
      "  dont_practice            12       11\n",
      "  practice                 14       65\n",
      "                                          \n",
      "               Accuracy : 0.7549          \n",
      "                 95% CI : (0.6598, 0.8347)\n",
      "    No Information Rate : 0.7451          \n",
      "    P-Value [Acc > NIR] : 0.4621          \n",
      "                                          \n",
      "                  Kappa : 0.3293          \n",
      "                                          \n",
      " Mcnemar's Test P-Value : 0.6892          \n",
      "                                          \n",
      "            Sensitivity : 0.4615          \n",
      "            Specificity : 0.8553          \n",
      "         Pos Pred Value : 0.5217          \n",
      "         Neg Pred Value : 0.8228          \n",
      "             Prevalence : 0.2549          \n",
      "         Detection Rate : 0.1176          \n",
      "   Detection Prevalence : 0.2255          \n",
      "      Balanced Accuracy : 0.6584          \n",
      "                                          \n",
      "       'Positive' Class : dont_practice   \n",
      "                                          \n"
     ]
    }
   ],
   "source": [
    "set.seed(2)\n",
    "model <- fit_model(\n",
    "    model_method=\"rf\",\n",
    "    model_metric=\"Accuracy\",\n",
    "    trControl_func = trainControl(method = \"cv\", search=\"grid\"),\n",
    "    train_data = treino.aug,\n",
    "    test_data=teste,\n",
    "    yname=\"PA_practice_during\",\n",
    "    length = 15\n",
    ")\n",
    "print(model$matrix)"
   ]
  },
  {
   "cell_type": "code",
   "execution_count": 13,
   "metadata": {},
   "outputs": [
    {
     "data": {
      "image/png": "[encoded data removed]",
      "text/plain": [
       "plot without title"
      ]
     },
     "metadata": {
      "image/png": {
       "height": 420,
       "width": 420
      }
     },
     "output_type": "display_data"
    },
    {
     "data": {
      "image/png": "[encoded data removed]",
      "text/plain": [
       "plot without title"
      ]
     },
     "metadata": {
      "image/png": {
       "height": 420,
       "width": 420
      }
     },
     "output_type": "display_data"
    }
   ],
   "source": [
    "plot(varImp(model$result), top=20)\n",
    "plot(model$result)\n"
   ]
  },
  {
   "cell_type": "markdown",
   "metadata": {},
   "source": [
    "## Output variable: sedentary time range"
   ]
  },
  {
   "cell_type": "code",
   "execution_count": 14,
   "metadata": {},
   "outputs": [
    {
     "data": {
      "text/plain": [
       "\n",
       "   8_hour_or_more less_then_8_hours \n",
       "              111               233 "
      ]
     },
     "metadata": {},
     "output_type": "display_data"
    }
   ],
   "source": [
    "table(sedentary_dataset[, \"sedentary_time_range_during\"])"
   ]
  },
  {
   "cell_type": "markdown",
   "metadata": {},
   "source": [
    "### Creating dataset partition"
   ]
  },
  {
   "cell_type": "code",
   "execution_count": 15,
   "metadata": {},
   "outputs": [],
   "source": [
    "set.seed(2)\n",
    "lista_treino <- createDataPartition(sedentary_dataset$sedentary_time_range_during, p=0.7, list=FALSE)\n",
    "treino <- sedentary_dataset[lista_treino,]\n",
    "teste <- sedentary_dataset[-lista_treino,]"
   ]
  },
  {
   "cell_type": "markdown",
   "metadata": {},
   "source": [
    "### Applying augmentation into the training set"
   ]
  },
  {
   "cell_type": "code",
   "execution_count": 16,
   "metadata": {},
   "outputs": [
    {
     "data": {
      "text/plain": [
       "\n",
       "   8_hour_or_more less_then_8_hours \n",
       "              164               164 "
      ]
     },
     "metadata": {},
     "output_type": "display_data"
    }
   ],
   "source": [
    "treino.aug <- data_augmentation(\n",
    "    train_data=treino,\n",
    "    yname=\"sedentary_time_range_during\",\n",
    "    maj_class = \"less_then_8_hours\",\n",
    "    min_classes = c(\"8_hour_or_more\"),\n",
    "    ycol=match(\"sedentary_time_range_during\",names(sedentary_dataset))\n",
    ")\n",
    "\n",
    "table(treino.aug[, \"sedentary_time_range_during\"])\n"
   ]
  },
  {
   "cell_type": "markdown",
   "metadata": {},
   "source": [
    "### Kappa metric without augmentation"
   ]
  },
  {
   "cell_type": "code",
   "execution_count": 17,
   "metadata": {},
   "outputs": [
    {
     "name": "stdout",
     "output_type": "stream",
     "text": [
      "Confusion Matrix and Statistics\n",
      "\n",
      "                   Reference\n",
      "Prediction          8_hour_or_more less_then_8_hours\n",
      "  8_hour_or_more                12                 5\n",
      "  less_then_8_hours             21                64\n",
      "                                          \n",
      "               Accuracy : 0.7451          \n",
      "                 95% CI : (0.6492, 0.8262)\n",
      "    No Information Rate : 0.6765          \n",
      "    P-Value [Acc > NIR] : 0.082448        \n",
      "                                          \n",
      "                  Kappa : 0.3333          \n",
      "                                          \n",
      " Mcnemar's Test P-Value : 0.003264        \n",
      "                                          \n",
      "            Sensitivity : 0.3636          \n",
      "            Specificity : 0.9275          \n",
      "         Pos Pred Value : 0.7059          \n",
      "         Neg Pred Value : 0.7529          \n",
      "             Prevalence : 0.3235          \n",
      "         Detection Rate : 0.1176          \n",
      "   Detection Prevalence : 0.1667          \n",
      "      Balanced Accuracy : 0.6456          \n",
      "                                          \n",
      "       'Positive' Class : 8_hour_or_more  \n",
      "                                          \n"
     ]
    },
    {
     "data": {
      "image/png": "[encoded data removed]",
      "text/plain": [
       "plot without title"
      ]
     },
     "metadata": {
      "image/png": {
       "height": 420,
       "width": 420
      }
     },
     "output_type": "display_data"
    }
   ],
   "source": [
    "set.seed(2)\n",
    "model <- fit_model(\n",
    "    model_method=\"rpart\",\n",
    "    model_metric=\"Kappa\",\n",
    "    trControl_func = trainControl(method = \"cv\"),\n",
    "    train_data = treino,\n",
    "    test_data=teste,\n",
    "    yname=\"sedentary_time_range_during\",\n",
    "    length = 3\n",
    ")\n",
    "print(model$matrix)\n",
    "# print(model$result)\n",
    "rpart.plot(model$result$finalModel, extra=101)\n",
    "\n"
   ]
  },
  {
   "cell_type": "markdown",
   "metadata": {},
   "source": [
    "### Accuracy metric with augmentation"
   ]
  },
  {
   "cell_type": "code",
   "execution_count": 18,
   "metadata": {},
   "outputs": [
    {
     "name": "stdout",
     "output_type": "stream",
     "text": [
      "Confusion Matrix and Statistics\n",
      "\n",
      "                   Reference\n",
      "Prediction          8_hour_or_more less_then_8_hours\n",
      "  8_hour_or_more                13                 5\n",
      "  less_then_8_hours             20                64\n",
      "                                          \n",
      "               Accuracy : 0.7549          \n",
      "                 95% CI : (0.6598, 0.8347)\n",
      "    No Information Rate : 0.6765          \n",
      "    P-Value [Acc > NIR] : 0.05370         \n",
      "                                          \n",
      "                  Kappa : 0.3647          \n",
      "                                          \n",
      " Mcnemar's Test P-Value : 0.00511         \n",
      "                                          \n",
      "            Sensitivity : 0.3939          \n",
      "            Specificity : 0.9275          \n",
      "         Pos Pred Value : 0.7222          \n",
      "         Neg Pred Value : 0.7619          \n",
      "             Prevalence : 0.3235          \n",
      "         Detection Rate : 0.1275          \n",
      "   Detection Prevalence : 0.1765          \n",
      "      Balanced Accuracy : 0.6607          \n",
      "                                          \n",
      "       'Positive' Class : 8_hour_or_more  \n",
      "                                          \n"
     ]
    },
    {
     "data": {
      "image/png": "[encoded data removed]",
      "text/plain": [
       "plot without title"
      ]
     },
     "metadata": {
      "image/png": {
       "height": 420,
       "width": 420
      }
     },
     "output_type": "display_data"
    }
   ],
   "source": [
    "set.seed(2)\n",
    "model <- fit_model(\n",
    "    model_method=\"rpart\",\n",
    "    model_metric=\"Accuracy\",\n",
    "    trControl_func = trainControl(method = \"cv\"),\n",
    "    train_data = treino.aug,\n",
    "    test_data=teste,\n",
    "    yname=\"sedentary_time_range_during\",\n",
    "    length = 3\n",
    ")\n",
    "print(model$matrix)\n",
    "# print(model$result)\n",
    "rpart.plot(model$result$finalModel, extra=101)\n",
    "\n"
   ]
  },
  {
   "cell_type": "markdown",
   "metadata": {},
   "source": [
    "### RF: Kappa metric without augmentation"
   ]
  },
  {
   "cell_type": "code",
   "execution_count": 19,
   "metadata": {},
   "outputs": [
    {
     "name": "stdout",
     "output_type": "stream",
     "text": [
      "Confusion Matrix and Statistics\n",
      "\n",
      "                   Reference\n",
      "Prediction          8_hour_or_more less_then_8_hours\n",
      "  8_hour_or_more                15                 5\n",
      "  less_then_8_hours             18                64\n",
      "                                          \n",
      "               Accuracy : 0.7745          \n",
      "                 95% CI : (0.6811, 0.8514)\n",
      "    No Information Rate : 0.6765          \n",
      "    P-Value [Acc > NIR] : 0.01981         \n",
      "                                          \n",
      "                  Kappa : 0.4258          \n",
      "                                          \n",
      " Mcnemar's Test P-Value : 0.01234         \n",
      "                                          \n",
      "            Sensitivity : 0.4545          \n",
      "            Specificity : 0.9275          \n",
      "         Pos Pred Value : 0.7500          \n",
      "         Neg Pred Value : 0.7805          \n",
      "             Prevalence : 0.3235          \n",
      "         Detection Rate : 0.1471          \n",
      "   Detection Prevalence : 0.1961          \n",
      "      Balanced Accuracy : 0.6910          \n",
      "                                          \n",
      "       'Positive' Class : 8_hour_or_more  \n",
      "                                          \n"
     ]
    }
   ],
   "source": [
    "set.seed(2)\n",
    "model <- fit_model(\n",
    "    model_method=\"rf\",\n",
    "    model_metric=\"Kappa\",\n",
    "    trControl_func = trainControl(method = \"cv\", search=\"grid\"),\n",
    "    train_data = treino,\n",
    "    test_data=teste,\n",
    "    yname=\"sedentary_time_range_during\",\n",
    "    length = 15\n",
    ")\n",
    "print(model$matrix)"
   ]
  },
  {
   "cell_type": "code",
   "execution_count": 20,
   "metadata": {},
   "outputs": [
    {
     "data": {
      "image/png": "[encoded data removed]",
      "text/plain": [
       "plot without title"
      ]
     },
     "metadata": {
      "image/png": {
       "height": 420,
       "width": 420
      }
     },
     "output_type": "display_data"
    },
    {
     "data": {
      "image/png": "[encoded data removed]",
      "text/plain": [
       "plot without title"
      ]
     },
     "metadata": {
      "image/png": {
       "height": 420,
       "width": 420
      }
     },
     "output_type": "display_data"
    }
   ],
   "source": [
    "plot(varImp(model$result), top=20)\n",
    "plot(model$result)\n"
   ]
  },
  {
   "cell_type": "markdown",
   "metadata": {},
   "source": [
    "### RF: Accuracy metric with augmentation"
   ]
  },
  {
   "cell_type": "code",
   "execution_count": 21,
   "metadata": {},
   "outputs": [
    {
     "name": "stdout",
     "output_type": "stream",
     "text": [
      "Confusion Matrix and Statistics\n",
      "\n",
      "                   Reference\n",
      "Prediction          8_hour_or_more less_then_8_hours\n",
      "  8_hour_or_more                12                 1\n",
      "  less_then_8_hours             21                68\n",
      "                                          \n",
      "               Accuracy : 0.7843          \n",
      "                 95% CI : (0.6919, 0.8596)\n",
      "    No Information Rate : 0.6765          \n",
      "    P-Value [Acc > NIR] : 0.01117         \n",
      "                                          \n",
      "                  Kappa : 0.4147          \n",
      "                                          \n",
      " Mcnemar's Test P-Value : 5.104e-05       \n",
      "                                          \n",
      "            Sensitivity : 0.3636          \n",
      "            Specificity : 0.9855          \n",
      "         Pos Pred Value : 0.9231          \n",
      "         Neg Pred Value : 0.7640          \n",
      "             Prevalence : 0.3235          \n",
      "         Detection Rate : 0.1176          \n",
      "   Detection Prevalence : 0.1275          \n",
      "      Balanced Accuracy : 0.6746          \n",
      "                                          \n",
      "       'Positive' Class : 8_hour_or_more  \n",
      "                                          \n"
     ]
    }
   ],
   "source": [
    "set.seed(2)\n",
    "model <- fit_model(\n",
    "    model_method=\"rf\",\n",
    "    model_metric=\"Accuracy\",\n",
    "    trControl_func = trainControl(method = \"cv\", search=\"grid\"),\n",
    "    train_data = treino.aug,\n",
    "    test_data=teste,\n",
    "    yname=\"sedentary_time_range_during\",\n",
    "    length = 15\n",
    ")\n",
    "print(model$matrix)"
   ]
  },
  {
   "cell_type": "code",
   "execution_count": 22,
   "metadata": {},
   "outputs": [
    {
     "data": {
      "image/png": "[encoded data removed]",
      "text/plain": [
       "plot without title"
      ]
     },
     "metadata": {
      "image/png": {
       "height": 420,
       "width": 420
      }
     },
     "output_type": "display_data"
    },
    {
     "data": {
      "image/png": "[encoded data removed]",
      "text/plain": [
       "plot without title"
      ]
     },
     "metadata": {
      "image/png": {
       "height": 420,
       "width": 420
      }
     },
     "output_type": "display_data"
    }
   ],
   "source": [
    "plot(varImp(model$result), top=20)\n",
    "plot(model$result)\n"
   ]
  },
  {
   "cell_type": "markdown",
   "metadata": {},
   "source": [
    "## Output variable: Practice of exercise behavior"
   ]
  },
  {
   "cell_type": "code",
   "execution_count": 23,
   "metadata": {},
   "outputs": [
    {
     "data": {
      "text/html": [
       "<style>\n",
       ".list-inline {list-style: none; margin:0; padding: 0}\n",
       ".list-inline>li {display: inline-block}\n",
       ".list-inline>li:not(:last-child)::after {content: \"\\00b7\"; padding: 0 .5ex}\n",
       "</style>\n",
       "<ol class=list-inline><li>344</li><li>73</li></ol>\n"
      ],
      "text/latex": [
       "\\begin{enumerate*}\n",
       "\\item 344\n",
       "\\item 73\n",
       "\\end{enumerate*}\n"
      ],
      "text/markdown": [
       "1. 344\n",
       "2. 73\n",
       "\n",
       "\n"
      ],
      "text/plain": [
       "[1] 344  73"
      ]
     },
     "metadata": {},
     "output_type": "display_data"
    }
   ],
   "source": [
    "dim(pa_behavior_dataset)"
   ]
  },
  {
   "cell_type": "code",
   "execution_count": 24,
   "metadata": {},
   "outputs": [
    {
     "data": {
      "text/plain": [
       "\n",
       "change_to_dont_practice          still_practice \n",
       "                     70                     234 "
      ]
     },
     "metadata": {},
     "output_type": "display_data"
    }
   ],
   "source": [
    "table(pa_behavior_dataset_1[, \"pa_behavior\"])"
   ]
  },
  {
   "cell_type": "markdown",
   "metadata": {},
   "source": [
    "There is a majority class, we should apply data augmentation. We chose kappa metrict to optimize becouse data is unbalanced."
   ]
  },
  {
   "cell_type": "markdown",
   "metadata": {},
   "source": [
    "### Creating the dataset partition: practice before"
   ]
  },
  {
   "cell_type": "code",
   "execution_count": 25,
   "metadata": {},
   "outputs": [],
   "source": [
    "set.seed(2)\n",
    "lista_treino <- createDataPartition(pa_behavior_dataset_1$pa_behavior, p=0.7, list=FALSE)\n",
    "treino <- pa_behavior_dataset_1[lista_treino,]\n",
    "teste <- pa_behavior_dataset_1[-lista_treino,]"
   ]
  },
  {
   "cell_type": "markdown",
   "metadata": {},
   "source": [
    "### Applying augmentation into the training set: practice before"
   ]
  },
  {
   "cell_type": "code",
   "execution_count": 26,
   "metadata": {},
   "outputs": [
    {
     "data": {
      "text/plain": [
       "\n",
       "change_to_dont_practice          still_practice \n",
       "                    164                     164 "
      ]
     },
     "metadata": {},
     "output_type": "display_data"
    }
   ],
   "source": [
    "treino.aug <- data_augmentation(\n",
    "    train_data=treino,\n",
    "    yname=\"pa_behavior\",\n",
    "    maj_class = \"still_practice\",\n",
    "    min_classes = c(\"change_to_dont_practice\"),\n",
    "    ycol=match(\"pa_behavior\",names(pa_behavior_dataset_1))\n",
    ")\n",
    "\n",
    "table(treino.aug[, \"pa_behavior\"])\n"
   ]
  },
  {
   "cell_type": "markdown",
   "metadata": {},
   "source": [
    "### Kappa metric without augmentation: practice before"
   ]
  },
  {
   "cell_type": "code",
   "execution_count": 27,
   "metadata": {},
   "outputs": [
    {
     "name": "stdout",
     "output_type": "stream",
     "text": [
      "Confusion Matrix and Statistics\n",
      "\n",
      "                         Reference\n",
      "Prediction                change_to_dont_practice still_practice\n",
      "  change_to_dont_practice                       7              4\n",
      "  still_practice                               14             66\n",
      "                                                 \n",
      "               Accuracy : 0.8022                 \n",
      "                 95% CI : (0.7055, 0.8784)       \n",
      "    No Information Rate : 0.7692                 \n",
      "    P-Value [Acc > NIR] : 0.27167                \n",
      "                                                 \n",
      "                  Kappa : 0.3314                 \n",
      "                                                 \n",
      " Mcnemar's Test P-Value : 0.03389                \n",
      "                                                 \n",
      "            Sensitivity : 0.33333                \n",
      "            Specificity : 0.94286                \n",
      "         Pos Pred Value : 0.63636                \n",
      "         Neg Pred Value : 0.82500                \n",
      "             Prevalence : 0.23077                \n",
      "         Detection Rate : 0.07692                \n",
      "   Detection Prevalence : 0.12088                \n",
      "      Balanced Accuracy : 0.63810                \n",
      "                                                 \n",
      "       'Positive' Class : change_to_dont_practice\n",
      "                                                 \n"
     ]
    },
    {
     "data": {
      "image/png": "[encoded data removed]",
      "text/plain": [
       "plot without title"
      ]
     },
     "metadata": {
      "image/png": {
       "height": 420,
       "width": 420
      }
     },
     "output_type": "display_data"
    }
   ],
   "source": [
    "set.seed(2)\n",
    "model <- fit_model(\n",
    "    model_method=\"rpart\",\n",
    "    model_metric=\"Kappa\",\n",
    "    trControl_func = trainControl(method = \"cv\"),\n",
    "    train_data = treino,\n",
    "    test_data=teste,\n",
    "    yname=\"pa_behavior\",\n",
    "    length = 3\n",
    ")\n",
    "print(model$matrix)\n",
    "# print(model$result)\n",
    "rpart.plot(model$result$finalModel)\n",
    "\n"
   ]
  },
  {
   "cell_type": "markdown",
   "metadata": {},
   "source": [
    "### Accuracy metric with augmentation: practice before"
   ]
  },
  {
   "cell_type": "code",
   "execution_count": 28,
   "metadata": {},
   "outputs": [
    {
     "name": "stdout",
     "output_type": "stream",
     "text": [
      "Confusion Matrix and Statistics\n",
      "\n",
      "                         Reference\n",
      "Prediction                change_to_dont_practice still_practice\n",
      "  change_to_dont_practice                      11             18\n",
      "  still_practice                               10             52\n",
      "                                                 \n",
      "               Accuracy : 0.6923                 \n",
      "                 95% CI : (0.5868, 0.7849)       \n",
      "    No Information Rate : 0.7692                 \n",
      "    P-Value [Acc > NIR] : 0.9656                 \n",
      "                                                 \n",
      "                  Kappa : 0.2353                 \n",
      "                                                 \n",
      " Mcnemar's Test P-Value : 0.1859                 \n",
      "                                                 \n",
      "            Sensitivity : 0.5238                 \n",
      "            Specificity : 0.7429                 \n",
      "         Pos Pred Value : 0.3793                 \n",
      "         Neg Pred Value : 0.8387                 \n",
      "             Prevalence : 0.2308                 \n",
      "         Detection Rate : 0.1209                 \n",
      "   Detection Prevalence : 0.3187                 \n",
      "      Balanced Accuracy : 0.6333                 \n",
      "                                                 \n",
      "       'Positive' Class : change_to_dont_practice\n",
      "                                                 \n"
     ]
    },
    {
     "data": {
      "image/png": "[encoded data removed]",
      "text/plain": [
       "plot without title"
      ]
     },
     "metadata": {
      "image/png": {
       "height": 420,
       "width": 420
      }
     },
     "output_type": "display_data"
    }
   ],
   "source": [
    "model <- fit_model(\n",
    "    model_method=\"rpart\",\n",
    "    model_metric=\"Kappa\",\n",
    "    trControl_func = trainControl(method = \"cv\"),\n",
    "    train_data = treino.aug,\n",
    "    test_data=teste,\n",
    "    yname=\"pa_behavior\",\n",
    "    length=3\n",
    ")\n",
    "print(model$matrix)\n",
    "rpart.plot(model$result$finalModel)"
   ]
  },
  {
   "cell_type": "markdown",
   "metadata": {},
   "source": [
    "### RF practice before: Kappa metric without augmentation"
   ]
  },
  {
   "cell_type": "code",
   "execution_count": 29,
   "metadata": {},
   "outputs": [
    {
     "name": "stdout",
     "output_type": "stream",
     "text": [
      "Confusion Matrix and Statistics\n",
      "\n",
      "                         Reference\n",
      "Prediction                change_to_dont_practice still_practice\n",
      "  change_to_dont_practice                       7              5\n",
      "  still_practice                               14             65\n",
      "                                                 \n",
      "               Accuracy : 0.7912                 \n",
      "                 95% CI : (0.6933, 0.8694)       \n",
      "    No Information Rate : 0.7692                 \n",
      "    P-Value [Acc > NIR] : 0.36190                \n",
      "                                                 \n",
      "                  Kappa : 0.3081                 \n",
      "                                                 \n",
      " Mcnemar's Test P-Value : 0.06646                \n",
      "                                                 \n",
      "            Sensitivity : 0.33333                \n",
      "            Specificity : 0.92857                \n",
      "         Pos Pred Value : 0.58333                \n",
      "         Neg Pred Value : 0.82278                \n",
      "             Prevalence : 0.23077                \n",
      "         Detection Rate : 0.07692                \n",
      "   Detection Prevalence : 0.13187                \n",
      "      Balanced Accuracy : 0.63095                \n",
      "                                                 \n",
      "       'Positive' Class : change_to_dont_practice\n",
      "                                                 \n"
     ]
    }
   ],
   "source": [
    "set.seed(2)\n",
    "model <- fit_model(\n",
    "    model_method=\"rf\",\n",
    "    model_metric=\"Kappa\",\n",
    "    trControl_func = trainControl(method = \"cv\", search=\"grid\"),\n",
    "    train_data = treino,\n",
    "    test_data=teste,\n",
    "    yname=\"pa_behavior\",\n",
    "    length = 15\n",
    ")\n",
    "print(model$matrix)"
   ]
  },
  {
   "cell_type": "code",
   "execution_count": 30,
   "metadata": {},
   "outputs": [
    {
     "data": {
      "image/png": "[encoded data removed]",
      "text/plain": [
       "plot without title"
      ]
     },
     "metadata": {
      "image/png": {
       "height": 420,
       "width": 420
      }
     },
     "output_type": "display_data"
    },
    {
     "data": {
      "image/png": "[encoded data removed]",
      "text/plain": [
       "plot without title"
      ]
     },
     "metadata": {
      "image/png": {
       "height": 420,
       "width": 420
      }
     },
     "output_type": "display_data"
    }
   ],
   "source": [
    "plot(varImp(model$result), top=20)\n",
    "plot(model$result)\n"
   ]
  },
  {
   "cell_type": "markdown",
   "metadata": {},
   "source": [
    "### RF practice before: Accuracy metric with augmentation"
   ]
  },
  {
   "cell_type": "code",
   "execution_count": 31,
   "metadata": {},
   "outputs": [
    {
     "name": "stdout",
     "output_type": "stream",
     "text": [
      "Confusion Matrix and Statistics\n",
      "\n",
      "                         Reference\n",
      "Prediction                change_to_dont_practice still_practice\n",
      "  change_to_dont_practice                       7              4\n",
      "  still_practice                               14             66\n",
      "                                                 \n",
      "               Accuracy : 0.8022                 \n",
      "                 95% CI : (0.7055, 0.8784)       \n",
      "    No Information Rate : 0.7692                 \n",
      "    P-Value [Acc > NIR] : 0.27167                \n",
      "                                                 \n",
      "                  Kappa : 0.3314                 \n",
      "                                                 \n",
      " Mcnemar's Test P-Value : 0.03389                \n",
      "                                                 \n",
      "            Sensitivity : 0.33333                \n",
      "            Specificity : 0.94286                \n",
      "         Pos Pred Value : 0.63636                \n",
      "         Neg Pred Value : 0.82500                \n",
      "             Prevalence : 0.23077                \n",
      "         Detection Rate : 0.07692                \n",
      "   Detection Prevalence : 0.12088                \n",
      "      Balanced Accuracy : 0.63810                \n",
      "                                                 \n",
      "       'Positive' Class : change_to_dont_practice\n",
      "                                                 \n"
     ]
    }
   ],
   "source": [
    "set.seed(2)\n",
    "model <- fit_model(\n",
    "    model_method=\"rf\",\n",
    "    model_metric=\"Accuracy\",\n",
    "    trControl_func = trainControl(method = \"cv\", search=\"grid\"),\n",
    "    train_data = treino.aug,\n",
    "    test_data=teste,\n",
    "    yname=\"pa_behavior\",\n",
    "    length = 15\n",
    ")\n",
    "print(model$matrix)"
   ]
  },
  {
   "cell_type": "code",
   "execution_count": 32,
   "metadata": {},
   "outputs": [
    {
     "data": {
      "image/png": "[encoded data removed]",
      "text/plain": [
       "plot without title"
      ]
     },
     "metadata": {
      "image/png": {
       "height": 420,
       "width": 420
      }
     },
     "output_type": "display_data"
    },
    {
     "data": {
      "image/png": "[encoded data removed]",
      "text/plain": [
       "plot without title"
      ]
     },
     "metadata": {
      "image/png": {
       "height": 420,
       "width": 420
      }
     },
     "output_type": "display_data"
    }
   ],
   "source": [
    "plot(varImp(model$result), top=20)\n",
    "plot(model$result)\n"
   ]
  }
 ],
 "metadata": {
  "kernelspec": {
   "display_name": "R",
   "language": "R",
   "name": "ir"
  },
  "language_info": {
   "codemirror_mode": "r",
   "file_extension": ".r",
   "mimetype": "text/x-r-source",
   "name": "R",
   "pygments_lexer": "r",
   "version": "4.1.0"
  },
  "orig_nbformat": 4
 },
 "nbformat": 4,
 "nbformat_minor": 2
}
