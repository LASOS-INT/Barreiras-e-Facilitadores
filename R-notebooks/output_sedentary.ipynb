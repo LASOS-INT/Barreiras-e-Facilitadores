{
 "cells": [
  {
   "cell_type": "markdown",
   "metadata": {},
   "source": [
    "# Predicting Sedentary Lifestyle During"
   ]
  },
  {
   "cell_type": "markdown",
   "metadata": {},
   "source": [
    "## Importing packages"
   ]
  },
  {
   "cell_type": "code",
   "execution_count": 1,
   "metadata": {},
   "outputs": [
    {
     "name": "stderr",
     "output_type": "stream",
     "text": [
      "Warning message:\n",
      "\"package 'here' was built under R version 4.1.1\"\n",
      "here() starts at C:/Users/maria/Desktop/Programacao/IC/projetos/Barreiras-e-Facilitadores\n",
      "\n",
      "Warning message:\n",
      "\"package 'ggplot2' was built under R version 4.1.1\"\n",
      "Warning message:\n",
      "\"package 'cowplot' was built under R version 4.1.1\"\n",
      "Warning message:\n",
      "\"package 'randomForest' was built under R version 4.1.1\"\n",
      "randomForest 4.6-14\n",
      "\n",
      "Type rfNews() to see new features/changes/bug fixes.\n",
      "\n",
      "\n",
      "Attaching package: 'randomForest'\n",
      "\n",
      "\n",
      "The following object is masked from 'package:ggplot2':\n",
      "\n",
      "    margin\n",
      "\n",
      "\n",
      "Warning message:\n",
      "\"package 'caret' was built under R version 4.1.1\"\n",
      "Carregando pacotes exigidos: lattice\n",
      "\n",
      "Warning message:\n",
      "\"package 'lattice' was built under R version 4.1.1\"\n",
      "Warning message:\n",
      "\"package 'rpart.plot' was built under R version 4.1.1\"\n",
      "Carregando pacotes exigidos: rpart\n",
      "\n",
      "Warning message:\n",
      "\"package 'readxl' was built under R version 4.1.2\"\n",
      "Warning message:\n",
      "\"package 'e1071' was built under R version 4.1.1\"\n",
      "Warning message:\n",
      "\"package 'AugmenterR' was built under R version 4.1.1\"\n",
      "Warning message:\n",
      "\"package 'smotefamily' was built under R version 4.1.1\"\n",
      "Warning message:\n",
      "\"package 'ROSE' was built under R version 4.1.1\"\n",
      "Loaded ROSE 0.0-4\n",
      "\n",
      "\n",
      "Warning message:\n",
      "\"package 'xgboost' was built under R version 4.1.1\"\n",
      "Type 'citation(\"pROC\")' for a citation.\n",
      "\n",
      "\n",
      "Attaching package: 'pROC'\n",
      "\n",
      "\n",
      "The following objects are masked from 'package:stats':\n",
      "\n",
      "    cov, smooth, var\n",
      "\n",
      "\n",
      "Warning message:\n",
      "\"package 'MASS' was built under R version 4.1.1\"\n",
      "\n",
      "Attaching package: 'MASS'\n",
      "\n",
      "\n",
      "The following object is masked _by_ '.GlobalEnv':\n",
      "\n",
      "    fbeta\n",
      "\n",
      "\n",
      "Warning message:\n",
      "\"package 'DescTools' was built under R version 4.1.1\"\n",
      "\n",
      "Attaching package: 'DescTools'\n",
      "\n",
      "\n",
      "The following objects are masked from 'package:caret':\n",
      "\n",
      "    MAE, RMSE\n",
      "\n",
      "\n",
      "Warning message:\n",
      "\"package 'dplyr' was built under R version 4.1.1\"\n",
      "\n",
      "Attaching package: 'dplyr'\n",
      "\n",
      "\n",
      "The following object is masked from 'package:MASS':\n",
      "\n",
      "    select\n",
      "\n",
      "\n",
      "The following object is masked from 'package:xgboost':\n",
      "\n",
      "    slice\n",
      "\n",
      "\n",
      "The following object is masked from 'package:randomForest':\n",
      "\n",
      "    combine\n",
      "\n",
      "\n",
      "The following objects are masked from 'package:stats':\n",
      "\n",
      "    filter, lag\n",
      "\n",
      "\n",
      "The following objects are masked from 'package:base':\n",
      "\n",
      "    intersect, setdiff, setequal, union\n",
      "\n",
      "\n",
      "\n",
      "Attaching package: 'kernlab'\n",
      "\n",
      "\n",
      "The following object is masked from 'package:ggplot2':\n",
      "\n",
      "    alpha\n",
      "\n",
      "\n",
      "Warning message:\n",
      "\"package 'fastAdaboost' was built under R version 4.1.1\"\n",
      "Warning message:\n",
      "\"package 'DataExplorer' was built under R version 4.1.1\"\n",
      "dummies-1.5.6 provided by Decision Patterns\n",
      "\n",
      "\n",
      "Warning message:\n",
      "\"package 'mlbench' was built under R version 4.1.1\"\n",
      "Warning message:\n",
      "\"package 'h2o' was built under R version 4.1.1\"\n",
      "\n",
      "----------------------------------------------------------------------\n",
      "\n",
      "Your next step is to start H2O:\n",
      "    > h2o.init()\n",
      "\n",
      "For H2O package documentation, ask for help:\n",
      "    > ??h2o\n",
      "\n",
      "After starting H2O, you can use the Web UI at http://localhost:54321\n",
      "For more information visit https://docs.h2o.ai\n",
      "\n",
      "----------------------------------------------------------------------\n",
      "\n",
      "\n",
      "\n",
      "Attaching package: 'h2o'\n",
      "\n",
      "\n",
      "The following object is masked from 'package:pROC':\n",
      "\n",
      "    var\n",
      "\n",
      "\n",
      "The following objects are masked from 'package:stats':\n",
      "\n",
      "    cor, sd, var\n",
      "\n",
      "\n",
      "The following objects are masked from 'package:base':\n",
      "\n",
      "    %*%, %in%, &&, ||, apply, as.factor, as.numeric, colnames,\n",
      "    colnames<-, ifelse, is.character, is.factor, is.numeric, log,\n",
      "    log10, log1p, log2, round, signif, trunc\n",
      "\n",
      "\n",
      "Warning message:\n",
      "\"package 'rattle' was built under R version 4.1.1\"\n",
      "Carregando pacotes exigidos: tibble\n",
      "\n",
      "Carregando pacotes exigidos: bitops\n",
      "\n",
      "\n",
      "Attaching package: 'bitops'\n",
      "\n",
      "\n",
      "The following object is masked from 'package:DescTools':\n",
      "\n",
      "    %^%\n",
      "\n",
      "\n",
      "Rattle: A free graphical interface for data science with R.\n",
      "Version 5.4.0 Copyright (c) 2006-2020 Togaware Pty Ltd.\n",
      "Type 'rattle()' to shake, rattle, and roll your data.\n",
      "\n",
      "\n",
      "Attaching package: 'rattle'\n",
      "\n",
      "\n",
      "The following object is masked from 'package:xgboost':\n",
      "\n",
      "    xgboost\n",
      "\n",
      "\n",
      "The following object is masked from 'package:randomForest':\n",
      "\n",
      "    importance\n",
      "\n",
      "\n",
      "Warning message:\n",
      "\"package 'MLmetrics' was built under R version 4.1.1\"\n",
      "\n",
      "Attaching package: 'MLmetrics'\n",
      "\n",
      "\n",
      "The following objects are masked from 'package:DescTools':\n",
      "\n",
      "    AUC, Gini, MAE, MAPE, MSE, RMSE\n",
      "\n",
      "\n",
      "The following objects are masked from 'package:caret':\n",
      "\n",
      "    MAE, RMSE\n",
      "\n",
      "\n",
      "The following object is masked from 'package:base':\n",
      "\n",
      "    Recall\n",
      "\n",
      "\n",
      "Warning message:\n",
      "\"package 'ggfortify' was built under R version 4.1.1\"\n",
      "Warning message:\n",
      "\"package 'Rtsne' was built under R version 4.1.1\"\n",
      "Warning message:\n",
      "\"package 'obliqueRF' was built under R version 4.1.2\"\n",
      "Carregando pacotes exigidos: ROCR\n",
      "\n",
      "Warning message:\n",
      "\"package 'ROCR' was built under R version 4.1.1\"\n",
      "Carregando pacotes exigidos: pls\n",
      "\n",
      "Warning message:\n",
      "\"package 'pls' was built under R version 4.1.2\"\n",
      "\n",
      "Attaching package: 'pls'\n",
      "\n",
      "\n",
      "The following object is masked from 'package:caret':\n",
      "\n",
      "    R2\n",
      "\n",
      "\n",
      "The following object is masked from 'package:stats':\n",
      "\n",
      "    loadings\n",
      "\n",
      "\n",
      "Carregando pacotes exigidos: mda\n",
      "\n",
      "Warning message:\n",
      "\"package 'mda' was built under R version 4.1.2\"\n",
      "Carregando pacotes exigidos: class\n",
      "\n",
      "Loaded mda 0.5-2\n",
      "\n",
      "\n",
      "obliqueRF 0.3\n",
      "\n",
      "Type orfNews() to see new features/changes/bug fixes.\n",
      "\n",
      "\n",
      "Attaching package: 'obliqueRF'\n",
      "\n",
      "\n",
      "The following object is masked from 'package:rattle':\n",
      "\n",
      "    importance\n",
      "\n",
      "\n",
      "The following object is masked from 'package:randomForest':\n",
      "\n",
      "    importance\n",
      "\n",
      "\n",
      "Warning message:\n",
      "\"package 'gbm' was built under R version 4.1.2\"\n",
      "Loaded gbm 2.1.8\n",
      "\n",
      "Warning message:\n",
      "\"package 'MLeval' was built under R version 4.1.2\"\n"
     ]
    },
    {
     "name": "stdout",
     "output_type": "stream",
     "text": [
      "Performing PCA\n",
      "Read the 1242 x 50 data matrix successfully!\n",
      "OpenMP is working. 1 threads.\n",
      "Using no_dims = 2, perplexity = 100.000000, and theta = 0.500000\n",
      "Computing input similarities...\n",
      "Building tree...\n",
      "Done in 1.28 seconds (sparsity = 0.326346)!\n",
      "Learning embedding...\n",
      "Iteration 50: error is 57.596822 (50 iterations in 0.60 seconds)\n",
      "Iteration 100: error is 57.596822 (50 iterations in 0.51 seconds)\n",
      "Iteration 150: error is 57.596822 (50 iterations in 0.80 seconds)\n",
      "Iteration 200: error is 57.596822 (50 iterations in 0.94 seconds)\n",
      "Iteration 250: error is 57.596830 (50 iterations in 1.12 seconds)\n",
      "Iteration 300: error is 2.314829 (50 iterations in 1.05 seconds)\n",
      "Iteration 350: error is 1.308008 (50 iterations in 0.46 seconds)\n",
      "Iteration 400: error is 1.263160 (50 iterations in 0.33 seconds)\n",
      "Iteration 450: error is 1.258562 (50 iterations in 0.43 seconds)\n",
      "Iteration 500: error is 1.254343 (50 iterations in 0.42 seconds)\n",
      "Iteration 550: error is 1.251567 (50 iterations in 0.35 seconds)\n",
      "Iteration 600: error is 1.249091 (50 iterations in 0.34 seconds)\n",
      "Iteration 650: error is 1.247671 (50 iterations in 0.35 seconds)\n",
      "Iteration 700: error is 1.246860 (50 iterations in 0.41 seconds)\n",
      "Iteration 750: error is 1.245604 (50 iterations in 0.37 seconds)\n",
      "Iteration 800: error is 1.244255 (50 iterations in 0.56 seconds)\n",
      "Iteration 850: error is 1.244026 (50 iterations in 0.45 seconds)\n",
      "Iteration 900: error is 1.243845 (50 iterations in 0.44 seconds)\n",
      "Iteration 950: error is 1.243040 (50 iterations in 0.42 seconds)\n",
      "Iteration 1000: error is 1.242951 (50 iterations in 0.40 seconds)\n",
      "Fitting performed in 10.73 seconds.\n"
     ]
    },
    {
     "data": {
      "text/html": [
       "<ol>\n",
       "\t<li>TRUE</li>\n",
       "\t<li>TRUE</li>\n",
       "\t<li>TRUE</li>\n",
       "\t<li>TRUE</li>\n",
       "\t<li>TRUE</li>\n",
       "\t<li>TRUE</li>\n",
       "\t<li>TRUE</li>\n",
       "\t<li>TRUE</li>\n",
       "\t<li>TRUE</li>\n",
       "\t<li>TRUE</li>\n",
       "\t<li>TRUE</li>\n",
       "\t<li>TRUE</li>\n",
       "\t<li>TRUE</li>\n",
       "\t<li>TRUE</li>\n",
       "\t<li>TRUE</li>\n",
       "\t<li>TRUE</li>\n",
       "\t<li>TRUE</li>\n",
       "\t<li>TRUE</li>\n",
       "\t<li>TRUE</li>\n",
       "\t<li>TRUE</li>\n",
       "\t<li>TRUE</li>\n",
       "\t<li>TRUE</li>\n",
       "\t<li>TRUE</li>\n",
       "\t<li>TRUE</li>\n",
       "\t<li>TRUE</li>\n",
       "\t<li>TRUE</li>\n",
       "\t<li>TRUE</li>\n",
       "\t<li>TRUE</li>\n",
       "\t<li>TRUE</li>\n",
       "\t<li>TRUE</li>\n",
       "\t<li>TRUE</li>\n",
       "</ol>\n"
      ],
      "text/latex": [
       "\\begin{enumerate}\n",
       "\\item TRUE\n",
       "\\item TRUE\n",
       "\\item TRUE\n",
       "\\item TRUE\n",
       "\\item TRUE\n",
       "\\item TRUE\n",
       "\\item TRUE\n",
       "\\item TRUE\n",
       "\\item TRUE\n",
       "\\item TRUE\n",
       "\\item TRUE\n",
       "\\item TRUE\n",
       "\\item TRUE\n",
       "\\item TRUE\n",
       "\\item TRUE\n",
       "\\item TRUE\n",
       "\\item TRUE\n",
       "\\item TRUE\n",
       "\\item TRUE\n",
       "\\item TRUE\n",
       "\\item TRUE\n",
       "\\item TRUE\n",
       "\\item TRUE\n",
       "\\item TRUE\n",
       "\\item TRUE\n",
       "\\item TRUE\n",
       "\\item TRUE\n",
       "\\item TRUE\n",
       "\\item TRUE\n",
       "\\item TRUE\n",
       "\\item TRUE\n",
       "\\end{enumerate}\n"
      ],
      "text/markdown": [
       "1. TRUE\n",
       "2. TRUE\n",
       "3. TRUE\n",
       "4. TRUE\n",
       "5. TRUE\n",
       "6. TRUE\n",
       "7. TRUE\n",
       "8. TRUE\n",
       "9. TRUE\n",
       "10. TRUE\n",
       "11. TRUE\n",
       "12. TRUE\n",
       "13. TRUE\n",
       "14. TRUE\n",
       "15. TRUE\n",
       "16. TRUE\n",
       "17. TRUE\n",
       "18. TRUE\n",
       "19. TRUE\n",
       "20. TRUE\n",
       "21. TRUE\n",
       "22. TRUE\n",
       "23. TRUE\n",
       "24. TRUE\n",
       "25. TRUE\n",
       "26. TRUE\n",
       "27. TRUE\n",
       "28. TRUE\n",
       "29. TRUE\n",
       "30. TRUE\n",
       "31. TRUE\n",
       "\n",
       "\n"
      ],
      "text/plain": [
       "[[1]]\n",
       "[1] TRUE\n",
       "\n",
       "[[2]]\n",
       "[1] TRUE\n",
       "\n",
       "[[3]]\n",
       "[1] TRUE\n",
       "\n",
       "[[4]]\n",
       "[1] TRUE\n",
       "\n",
       "[[5]]\n",
       "[1] TRUE\n",
       "\n",
       "[[6]]\n",
       "[1] TRUE\n",
       "\n",
       "[[7]]\n",
       "[1] TRUE\n",
       "\n",
       "[[8]]\n",
       "[1] TRUE\n",
       "\n",
       "[[9]]\n",
       "[1] TRUE\n",
       "\n",
       "[[10]]\n",
       "[1] TRUE\n",
       "\n",
       "[[11]]\n",
       "[1] TRUE\n",
       "\n",
       "[[12]]\n",
       "[1] TRUE\n",
       "\n",
       "[[13]]\n",
       "[1] TRUE\n",
       "\n",
       "[[14]]\n",
       "[1] TRUE\n",
       "\n",
       "[[15]]\n",
       "[1] TRUE\n",
       "\n",
       "[[16]]\n",
       "[1] TRUE\n",
       "\n",
       "[[17]]\n",
       "[1] TRUE\n",
       "\n",
       "[[18]]\n",
       "[1] TRUE\n",
       "\n",
       "[[19]]\n",
       "[1] TRUE\n",
       "\n",
       "[[20]]\n",
       "[1] TRUE\n",
       "\n",
       "[[21]]\n",
       "[1] TRUE\n",
       "\n",
       "[[22]]\n",
       "[1] TRUE\n",
       "\n",
       "[[23]]\n",
       "[1] TRUE\n",
       "\n",
       "[[24]]\n",
       "[1] TRUE\n",
       "\n",
       "[[25]]\n",
       "[1] TRUE\n",
       "\n",
       "[[26]]\n",
       "[1] TRUE\n",
       "\n",
       "[[27]]\n",
       "[1] TRUE\n",
       "\n",
       "[[28]]\n",
       "[1] TRUE\n",
       "\n",
       "[[29]]\n",
       "[1] TRUE\n",
       "\n",
       "[[30]]\n",
       "[1] TRUE\n",
       "\n",
       "[[31]]\n",
       "[1] TRUE\n"
      ]
     },
     "metadata": {},
     "output_type": "display_data"
    }
   ],
   "source": [
    "#install.packages(\"here\")\n",
    "library(here, help, pos = 2, lib.loc = NULL)\n",
    "source(here('Modules','modules.R'))\n",
    "source(here('Modules','data_cleaning.R'))\n",
    "source(here('Modules','unsupervised_learning.R'))\n",
    "#install_all_packages()\n",
    "load_library_packages()"
   ]
  },
  {
   "cell_type": "markdown",
   "metadata": {},
   "source": [
    "## Outliers"
   ]
  },
  {
   "cell_type": "markdown",
   "metadata": {},
   "source": [
    "### Outlier: Strange Dont Practice"
   ]
  },
  {
   "cell_type": "code",
   "execution_count": 2,
   "metadata": {},
   "outputs": [
    {
     "name": "stderr",
     "output_type": "stream",
     "text": [
      "Setting levels: control = 1, case = 2\n",
      "\n",
      "Setting direction: controls < cases\n",
      "\n",
      "Setting levels: control = 1, case = 2\n",
      "\n",
      "Setting direction: controls < cases\n",
      "\n",
      "Setting levels: control = 1, case = 2\n",
      "\n",
      "Setting direction: controls < cases\n",
      "\n",
      "Setting levels: control = 1, case = 2\n",
      "\n",
      "Setting direction: controls < cases\n",
      "\n",
      "Setting levels: control = 1, case = 2\n",
      "\n",
      "Setting direction: controls < cases\n",
      "\n",
      "Setting levels: control = 1, case = 2\n",
      "\n",
      "Setting direction: controls < cases\n",
      "\n",
      "Setting levels: control = 1, case = 2\n",
      "\n",
      "Setting direction: controls < cases\n",
      "\n",
      "Setting levels: control = 1, case = 2\n",
      "\n",
      "Setting direction: controls < cases\n",
      "\n",
      "Setting levels: control = 1, case = 2\n",
      "\n",
      "Setting direction: controls < cases\n",
      "\n",
      "Setting levels: control = 1, case = 2\n",
      "\n",
      "Setting direction: controls < cases\n",
      "\n",
      "Setting levels: control = 1, case = 2\n",
      "\n",
      "Setting direction: controls < cases\n",
      "\n",
      "Setting levels: control = 1, case = 2\n",
      "\n",
      "Setting direction: controls < cases\n",
      "\n",
      "Setting levels: control = 1, case = 2\n",
      "\n",
      "Setting direction: controls < cases\n",
      "\n",
      "Setting levels: control = 1, case = 2\n",
      "\n",
      "Setting direction: controls < cases\n",
      "\n",
      "Setting levels: control = 1, case = 2\n",
      "\n",
      "Setting direction: controls < cases\n",
      "\n",
      "Setting levels: control = 1, case = 2\n",
      "\n",
      "Setting direction: controls < cases\n",
      "\n"
     ]
    }
   ],
   "source": [
    "sedentery_dataset_copy <- sedentary_dataset\n",
    "sedentery_dataset_copy[\"outlier\"] <- strange_dp\n",
    "outliers_result <- outliers_checker(distances_sdp, sedentery_dataset_copy, \"sedentary_time_range_during\")"
   ]
  },
  {
   "cell_type": "code",
   "execution_count": 3,
   "metadata": {},
   "outputs": [
    {
     "data": {
      "image/png": "[encoded data removed]",
      "text/plain": [
       "plot without title"
      ]
     },
     "metadata": {
      "image/png": {
       "height": 420,
       "width": 420
      }
     },
     "output_type": "display_data"
    }
   ],
   "source": [
    "plot <- outliers_result$kappa_x_alpha\n",
    "\n",
    "ggplot(plot, aes(plot[, \"alpha\"], plot[, \"kappa\"] )) + geom_point()"
   ]
  },
  {
   "cell_type": "markdown",
   "metadata": {},
   "source": [
    "### Outlier: Strange Practice"
   ]
  },
  {
   "cell_type": "code",
   "execution_count": 4,
   "metadata": {},
   "outputs": [],
   "source": [
    "sedentary_dataset_copy <- sedentary_dataset\n",
    "sedentary_dataset_copy[\"outlier\"] <- strange_p\n",
    "outliers_result <- outliers_checker(distances_sp, sedentary_dataset_copy, \"sedentary_time_range_during\")"
   ]
  },
  {
   "cell_type": "code",
   "execution_count": 5,
   "metadata": {},
   "outputs": [
    {
     "data": {
      "image/png": "[encoded data removed]",
      "text/plain": [
       "plot without title"
      ]
     },
     "metadata": {
      "image/png": {
       "height": 420,
       "width": 420
      }
     },
     "output_type": "display_data"
    }
   ],
   "source": [
    "plot <- outliers_result$kappa_x_alpha\n",
    "ggplot(plot, aes(plot[, \"alpha\"], plot[, \"kappa\"] )) + geom_point()"
   ]
  },
  {
   "cell_type": "markdown",
   "metadata": {},
   "source": [
    "### New Train and Test"
   ]
  },
  {
   "cell_type": "code",
   "execution_count": 3,
   "metadata": {},
   "outputs": [],
   "source": [
    "sedentary_train <- outliers_result$best_model$train\n",
    "sedentary_test <- outliers_result$best_model$test"
   ]
  },
  {
   "cell_type": "markdown",
   "metadata": {},
   "source": [
    "## Models"
   ]
  },
  {
   "cell_type": "code",
   "execution_count": 2,
   "metadata": {},
   "outputs": [
    {
     "data": {
      "text/plain": [
       "\n",
       "less_then_8_hours   more_or_8_hours \n",
       "              805               437 "
      ]
     },
     "metadata": {},
     "output_type": "display_data"
    }
   ],
   "source": [
    "table(sedentary_dataset[, \"sedentary_time_range_during\"])"
   ]
  },
  {
   "cell_type": "markdown",
   "metadata": {},
   "source": [
    "### Applying augmentation into the training set"
   ]
  },
  {
   "cell_type": "code",
   "execution_count": 8,
   "metadata": {},
   "outputs": [
    {
     "data": {
      "text/plain": [
       "\n",
       "less_then_8_hours   more_or_8_hours \n",
       "              564               564 "
      ]
     },
     "metadata": {},
     "output_type": "display_data"
    }
   ],
   "source": [
    "set.seed(2)\n",
    "sedentary_train.aug <- data_augmentation(\n",
    "    train_data=sedentary_train,\n",
    "    yname=\"sedentary_time_range_during\",\n",
    "    maj_class = \"less_then_8_hours\",\n",
    "    min_classes = c(\"more_or_8_hours\"),\n",
    "    ycol=match(\"sedentary_time_range_during\",names(sedentary_dataset))\n",
    ")\n",
    "\n",
    "table(sedentary_train.aug[, \"sedentary_time_range_during\"])\n"
   ]
  },
  {
   "cell_type": "markdown",
   "metadata": {},
   "source": [
    "### Decision Tree: Kappa metric without augmentation"
   ]
  },
  {
   "cell_type": "code",
   "execution_count": 9,
   "metadata": {},
   "outputs": [
    {
     "name": "stdout",
     "output_type": "stream",
     "text": [
      "Confusion Matrix and Statistics\n",
      "\n",
      "                   Reference\n",
      "Prediction          less_then_8_hours more_or_8_hours\n",
      "  less_then_8_hours               223              88\n",
      "  more_or_8_hours                  18              43\n",
      "                                           \n",
      "               Accuracy : 0.7151           \n",
      "                 95% CI : (0.6663, 0.7604) \n",
      "    No Information Rate : 0.6478           \n",
      "    P-Value [Acc > NIR] : 0.003495         \n",
      "                                           \n",
      "                  Kappa : 0.2888           \n",
      "                                           \n",
      " Mcnemar's Test P-Value : 2.058e-11        \n",
      "                                           \n",
      "            Sensitivity : 0.9253           \n",
      "            Specificity : 0.3282           \n",
      "         Pos Pred Value : 0.7170           \n",
      "         Neg Pred Value : 0.7049           \n",
      "              Precision : 0.7170           \n",
      "                 Recall : 0.9253           \n",
      "                     F1 : 0.8080           \n",
      "             Prevalence : 0.6478           \n",
      "         Detection Rate : 0.5995           \n",
      "   Detection Prevalence : 0.8360           \n",
      "      Balanced Accuracy : 0.6268           \n",
      "                                           \n",
      "       'Positive' Class : less_then_8_hours\n",
      "                                           \n"
     ]
    },
    {
     "data": {
      "image/png": "[encoded data removed]",
      "text/plain": [
       "plot without title"
      ]
     },
     "metadata": {
      "image/png": {
       "height": 420,
       "width": 420
      }
     },
     "output_type": "display_data"
    }
   ],
   "source": [
    "set.seed(2)\n",
    "model <- fit_model(\n",
    "    model_method=\"rpart\",\n",
    "    model_metric=\"Kappa\",\n",
    "    trControl_func = trainControl(method = \"cv\"),\n",
    "    train_data = sedentary_train,\n",
    "    test_data=sedentary_test,\n",
    "    yname=\"sedentary_time_range_during\",\n",
    "    length = 3\n",
    ")\n",
    "print(model$matrix)\n",
    "# print(model$result)\n",
    "rpart.plot(model$result$finalModel, extra=101)\n",
    "\n"
   ]
  },
  {
   "cell_type": "markdown",
   "metadata": {},
   "source": [
    "### Decision Tree: Kappa metric with augmentation"
   ]
  },
  {
   "cell_type": "code",
   "execution_count": 10,
   "metadata": {},
   "outputs": [
    {
     "name": "stdout",
     "output_type": "stream",
     "text": [
      "Confusion Matrix and Statistics\n",
      "\n",
      "                   Reference\n",
      "Prediction          less_then_8_hours more_or_8_hours\n",
      "  less_then_8_hours               230             100\n",
      "  more_or_8_hours                  11              31\n",
      "                                           \n",
      "               Accuracy : 0.7016           \n",
      "                 95% CI : (0.6523, 0.7477) \n",
      "    No Information Rate : 0.6478           \n",
      "    P-Value [Acc > NIR] : 0.01627          \n",
      "                                           \n",
      "                  Kappa : 0.226            \n",
      "                                           \n",
      " Mcnemar's Test P-Value : < 2e-16          \n",
      "                                           \n",
      "            Sensitivity : 0.9544           \n",
      "            Specificity : 0.2366           \n",
      "         Pos Pred Value : 0.6970           \n",
      "         Neg Pred Value : 0.7381           \n",
      "              Precision : 0.6970           \n",
      "                 Recall : 0.9544           \n",
      "                     F1 : 0.8056           \n",
      "             Prevalence : 0.6478           \n",
      "         Detection Rate : 0.6183           \n",
      "   Detection Prevalence : 0.8871           \n",
      "      Balanced Accuracy : 0.5955           \n",
      "                                           \n",
      "       'Positive' Class : less_then_8_hours\n",
      "                                           \n"
     ]
    },
    {
     "data": {
      "image/png": "[encoded data removed]",
      "text/plain": [
       "plot without title"
      ]
     },
     "metadata": {
      "image/png": {
       "height": 420,
       "width": 420
      }
     },
     "output_type": "display_data"
    }
   ],
   "source": [
    "set.seed(2)\n",
    "model <- fit_model(\n",
    "    model_method=\"rpart\",\n",
    "    model_metric=\"Kappa\",\n",
    "    trControl_func = trainControl(method = \"cv\"),\n",
    "    train_data = sedentary_train.aug,\n",
    "    test_data=sedentary_test,\n",
    "    yname=\"sedentary_time_range_during\",\n",
    "    length = 3\n",
    ")\n",
    "print(model$matrix)\n",
    "# print(model$result)\n",
    "rpart.plot(model$result$finalModel, extra=101)\n",
    "\n"
   ]
  },
  {
   "cell_type": "markdown",
   "metadata": {},
   "source": [
    "### RF: Kappa metric without augmentation"
   ]
  },
  {
   "cell_type": "code",
   "execution_count": 11,
   "metadata": {},
   "outputs": [
    {
     "name": "stdout",
     "output_type": "stream",
     "text": [
      "Confusion Matrix and Statistics\n",
      "\n",
      "                   Reference\n",
      "Prediction          less_then_8_hours more_or_8_hours\n",
      "  less_then_8_hours               218              68\n",
      "  more_or_8_hours                  23              63\n",
      "                                           \n",
      "               Accuracy : 0.7554           \n",
      "                 95% CI : (0.7084, 0.7982) \n",
      "    No Information Rate : 0.6478           \n",
      "    P-Value [Acc > NIR] : 5.251e-06        \n",
      "                                           \n",
      "                  Kappa : 0.4183           \n",
      "                                           \n",
      " Mcnemar's Test P-Value : 3.979e-06        \n",
      "                                           \n",
      "            Sensitivity : 0.9046           \n",
      "            Specificity : 0.4809           \n",
      "         Pos Pred Value : 0.7622           \n",
      "         Neg Pred Value : 0.7326           \n",
      "              Precision : 0.7622           \n",
      "                 Recall : 0.9046           \n",
      "                     F1 : 0.8273           \n",
      "             Prevalence : 0.6478           \n",
      "         Detection Rate : 0.5860           \n",
      "   Detection Prevalence : 0.7688           \n",
      "      Balanced Accuracy : 0.6927           \n",
      "                                           \n",
      "       'Positive' Class : less_then_8_hours\n",
      "                                           \n"
     ]
    }
   ],
   "source": [
    "set.seed(2)\n",
    "model <- fit_model(\n",
    "    model_method=\"rf\",\n",
    "    model_metric=\"Kappa\",\n",
    "    trControl_func = trainControl(method = \"cv\", search=\"grid\"),\n",
    "    train_data = sedentary_train,\n",
    "    test_data=sedentary_test,\n",
    "    yname=\"sedentary_time_range_during\",\n",
    "    length = 15\n",
    ")\n",
    "print(model$matrix)"
   ]
  },
  {
   "cell_type": "code",
   "execution_count": 12,
   "metadata": {},
   "outputs": [
    {
     "data": {
      "image/png": "[encoded data removed]",
      "text/plain": [
       "plot without title"
      ]
     },
     "metadata": {
      "image/png": {
       "height": 420,
       "width": 420
      }
     },
     "output_type": "display_data"
    },
    {
     "data": {
      "image/png": "[encoded data removed]",
      "text/plain": [
       "plot without title"
      ]
     },
     "metadata": {
      "image/png": {
       "height": 420,
       "width": 420
      }
     },
     "output_type": "display_data"
    }
   ],
   "source": [
    "plot(varImp(model$result), top=20)\n",
    "plot(model$result)\n"
   ]
  },
  {
   "cell_type": "markdown",
   "metadata": {},
   "source": [
    "### RF: Kappa metric with augmentation"
   ]
  },
  {
   "cell_type": "code",
   "execution_count": 13,
   "metadata": {},
   "outputs": [
    {
     "name": "stdout",
     "output_type": "stream",
     "text": [
      "Confusion Matrix and Statistics\n",
      "\n",
      "                   Reference\n",
      "Prediction          less_then_8_hours more_or_8_hours\n",
      "  less_then_8_hours               206              63\n",
      "  more_or_8_hours                  35              68\n",
      "                                           \n",
      "               Accuracy : 0.7366           \n",
      "                 95% CI : (0.6887, 0.7806) \n",
      "    No Information Rate : 0.6478           \n",
      "    P-Value [Acc > NIR] : 0.0001574        \n",
      "                                           \n",
      "                  Kappa : 0.393            \n",
      "                                           \n",
      " Mcnemar's Test P-Value : 0.0063833        \n",
      "                                           \n",
      "            Sensitivity : 0.8548           \n",
      "            Specificity : 0.5191           \n",
      "         Pos Pred Value : 0.7658           \n",
      "         Neg Pred Value : 0.6602           \n",
      "              Precision : 0.7658           \n",
      "                 Recall : 0.8548           \n",
      "                     F1 : 0.8078           \n",
      "             Prevalence : 0.6478           \n",
      "         Detection Rate : 0.5538           \n",
      "   Detection Prevalence : 0.7231           \n",
      "      Balanced Accuracy : 0.6869           \n",
      "                                           \n",
      "       'Positive' Class : less_then_8_hours\n",
      "                                           \n"
     ]
    }
   ],
   "source": [
    "set.seed(2)\n",
    "model <- fit_model(\n",
    "    model_method=\"rf\",\n",
    "    model_metric=\"Kappa\",\n",
    "    trControl_func = trainControl(method = \"cv\", search=\"grid\"),\n",
    "    train_data = sedentary_train.aug,\n",
    "    test_data=sedentary_test,\n",
    "    yname=\"sedentary_time_range_during\",\n",
    "    length = 15\n",
    ")\n",
    "print(model$matrix)"
   ]
  },
  {
   "cell_type": "code",
   "execution_count": 14,
   "metadata": {},
   "outputs": [
    {
     "data": {
      "image/png": "[encoded data removed]",
      "text/plain": [
       "plot without title"
      ]
     },
     "metadata": {
      "image/png": {
       "height": 420,
       "width": 420
      }
     },
     "output_type": "display_data"
    },
    {
     "data": {
      "image/png": "[encoded data removed]",
      "text/plain": [
       "plot without title"
      ]
     },
     "metadata": {
      "image/png": {
       "height": 420,
       "width": 420
      }
     },
     "output_type": "display_data"
    }
   ],
   "source": [
    "plot(varImp(model$result), top=20)\n",
    "plot(model$result)\n"
   ]
  },
  {
   "cell_type": "markdown",
   "metadata": {},
   "source": [
    "## Sensibility and Specificity Analysis"
   ]
  },
  {
   "cell_type": "markdown",
   "metadata": {},
   "source": [
    "### Vectorized Metrics"
   ]
  },
  {
   "cell_type": "code",
   "execution_count": 6,
   "metadata": {},
   "outputs": [],
   "source": [
    "f1 <- function(ths){\n",
    "    \n",
    "  diff <- abs(ths$Sensitivity - ths$Specificity)\n",
    "  indexOfMin = match(min(diff), diff)\n",
    "  return(ths[indexOfMin, \"prob_threshold\"])\n",
    "}\n",
    "\n",
    "f2 <- function(ths){\n",
    "    desv <- function(x){\n",
    "      sd(c(unname(x[\"Sensitivity\"]), unname(x[\"Specificity\"])))\n",
    "    }\n",
    "    avg <- (ths$Sensitivity + ths$Specificity)/2\n",
    "    deviation <- apply(ths, desv, MARGIN=1)\n",
    "    metric <- avg - deviation\n",
    "    indexOfMin = match(max(metric), metric)\n",
    "    return(ths[indexOfMin, \"prob_threshold\"])\n",
    "}"
   ]
  },
  {
   "cell_type": "code",
   "execution_count": 28,
   "metadata": {},
   "outputs": [
    {
     "name": "stderr",
     "output_type": "stream",
     "text": [
      "Setting levels: control = 1, case = 2\n",
      "\n",
      "Setting direction: controls < cases\n",
      "\n"
     ]
    },
    {
     "name": "stdout",
     "output_type": "stream",
     "text": [
      " [1] 0.4000000 0.9574468 0.9574468 1.0000000 0.9361702 1.0000000 0.9787234\n",
      " [8] 1.0000000 0.9787234 1.0000000 0.9361702 0.9787234 0.9787234\n",
      "CART \n",
      "\n",
      "870 samples\n",
      " 73 predictor\n",
      "  2 classes: 'less_then_8_hours', 'more_or_8_hours' \n",
      "\n",
      "No pre-processing\n",
      "Resampling: Cross-Validated (12 fold) \n",
      "Summary of sample sizes: 797, 798, 798, 797, 798, 797, ... \n",
      "Resampling results:\n",
      "\n",
      "  Bal       \n",
      "  0.09872756\n",
      "\n",
      "Tuning parameter 'cp' was held constant at a value of 0.1\n",
      "Confusion Matrix and Statistics\n",
      "\n",
      "                   Reference\n",
      "Prediction          less_then_8_hours more_or_8_hours\n",
      "  less_then_8_hours               230             100\n",
      "  more_or_8_hours                  11              31\n",
      "                                           \n",
      "               Accuracy : 0.7016           \n",
      "                 95% CI : (0.6523, 0.7477) \n",
      "    No Information Rate : 0.6478           \n",
      "    P-Value [Acc > NIR] : 0.01627          \n",
      "                                           \n",
      "                  Kappa : 0.226            \n",
      "                                           \n",
      " Mcnemar's Test P-Value : < 2e-16          \n",
      "                                           \n",
      "            Sensitivity : 0.9544           \n",
      "            Specificity : 0.2366           \n",
      "         Pos Pred Value : 0.6970           \n",
      "         Neg Pred Value : 0.7381           \n",
      "              Precision : 0.6970           \n",
      "                 Recall : 0.9544           \n",
      "                     F1 : 0.8056           \n",
      "             Prevalence : 0.6478           \n",
      "         Detection Rate : 0.6183           \n",
      "   Detection Prevalence : 0.8871           \n",
      "      Balanced Accuracy : 0.5955           \n",
      "                                           \n",
      "       'Positive' Class : less_then_8_hours\n",
      "                                           \n"
     ]
    }
   ],
   "source": [
    "Sensitivities <- c()\n",
    "Specificities <- c()\n",
    "Metric <- c()\n",
    "sensitivity_specificity_balanced <- function(data, lev=NULL, model = NULL){ \n",
    "    Sensitivity <- caret::sensitivity(data$pred, data$obs)\n",
    "    Sensitivities <<- append(Sensitivities, Sensitivity)\n",
    "    Specificity <- caret::specificity(data$pred, data$obs)\n",
    "    Specificities <<- append(Specificities, Specificity)\n",
    "    balanced <- (Sensitivity + Specificity)/2 - sd(c(Sensitivity, Specificity))\n",
    "    Metric <<- append(Metric, balanced)\n",
    "    names(balanced) <- \"Bal\" \n",
    "    balanced\n",
    "}\n",
    "set.seed(2)\n",
    "model <- fit_model(\n",
    "\n",
    "    model_method=\"rpart\",\n",
    "    model_metric=\"Bal\",\n",
    "    trControl_func = trainControl(method = \"cv\",number=12, summaryFunction = sensitivity_specificity_balanced),\n",
    "    train_data = sedentary_train,\n",
    "    test_data=sedentary_test,\n",
    "    yname=\"sedentary_time_range_during\",\n",
    "    tunegrid=expand.grid(cp=c(0.1))\n",
    ")\n",
    "save(model, file=\"save_model.RData\")\n",
    "    print(Sensitivities)\n",
    "print(model$result)\n",
    "print(model$matrix)\n",
    "#results <- data.frame(mtrys, Sensitivities, Specificities)\n",
    "\n",
    "# p = ggplot() + \n",
    "#     geom_line(data = results, aes(x = mtrys,  y = Sensitivities, colour = \"Sensitivity\"), size=1) +\n",
    "#     geom_line(data = results, aes(x = mtrys, y = Specificities, colour = \"Specificity\"), size=1) +\n",
    "#     scale_color_manual(name = \"Metric\", values = c(\"Sensitivity\" = \"darkblue\", \"Specificity\" = \"red\")) + \n",
    "#     xlab('probability threshold') +\n",
    "#     ylab('Sensitivity and Specificity')\n",
    "# p \n",
    "\n"
   ]
  },
  {
   "cell_type": "markdown",
   "metadata": {},
   "source": [
    "### Metric 1: \n",
    "\n",
    " $$ \\frac{(S+E)}{2} - \\sigma(S, E)$$"
   ]
  },
  {
   "cell_type": "code",
   "execution_count": 20,
   "metadata": {},
   "outputs": [
    {
     "data": {
      "text/html": [
       "<style>\n",
       ".list-inline {list-style: none; margin:0; padding: 0}\n",
       ".list-inline>li {display: inline-block}\n",
       ".list-inline>li:not(:last-child)::after {content: \"\\00b7\"; padding: 0 .5ex}\n",
       "</style>\n",
       "<ol class=list-inline><li>870</li><li>74</li></ol>\n"
      ],
      "text/latex": [
       "\\begin{enumerate*}\n",
       "\\item 870\n",
       "\\item 74\n",
       "\\end{enumerate*}\n"
      ],
      "text/markdown": [
       "1. 870\n",
       "2. 74\n",
       "\n",
       "\n"
      ],
      "text/plain": [
       "[1] 870  74"
      ]
     },
     "metadata": {},
     "output_type": "display_data"
    }
   ],
   "source": [
    "dim(sedentary_train)"
   ]
  },
  {
   "cell_type": "markdown",
   "metadata": {},
   "source": [
    "#### Change Model Metric"
   ]
  },
  {
   "cell_type": "markdown",
   "metadata": {},
   "source": [
    "##### Optimizing mtry"
   ]
  },
  {
   "cell_type": "code",
   "execution_count": 41,
   "metadata": {},
   "outputs": [],
   "source": [
    "customRF <- list(type = \"Classification\",\n",
    "                 library = \"randomForest\",\n",
    "                 loop = NULL)\n",
    "\n",
    "customRF$parameters <- data.frame(parameter = c(\"mtry\", \"ntree\"),\n",
    "                                  class = rep(\"numeric\", 2),\n",
    "                                  label = c(\"mtry\", \"ntree\"))\n",
    "\n",
    "customRF$grid <- function(x, y, len = NULL, search = \"grid\") {}\n",
    "\n",
    "customRF$fit <- function(x, y, wts, param, lev, last, weights, classProbs) {\n",
    "  randomForest(x, y,\n",
    "               mtry = param$mtry,\n",
    "               ntree=param$ntree)\n",
    "}\n",
    "\n",
    "#Predict label\n",
    "customRF$predict <- function(modelFit, newdata, preProc = NULL, submodels = NULL)\n",
    "   predict(modelFit, newdata)\n",
    "\n",
    "#Predict prob\n",
    "customRF$prob <- function(modelFit, newdata, preProc = NULL, submodels = NULL)\n",
    "   predict(modelFit, newdata, type = \"prob\")\n",
    "\n",
    "customRF$sort <- function(x) x[order(x[,1]),]\n",
    "customRF$levels <- function(x) x$classes"
   ]
  },
  {
   "cell_type": "code",
   "execution_count": 47,
   "metadata": {},
   "outputs": [
    {
     "name": "stderr",
     "output_type": "stream",
     "text": [
      "Setting levels: control = 1, case = 2\n",
      "\n",
      "Setting direction: controls < cases\n",
      "\n"
     ]
    },
    {
     "name": "stdout",
     "output_type": "stream",
     "text": [
      "Confusion Matrix and Statistics\n",
      "\n",
      "                   Reference\n",
      "Prediction          less_then_8_hours more_or_8_hours\n",
      "  less_then_8_hours               212              66\n",
      "  more_or_8_hours                  29              65\n",
      "                                           \n",
      "               Accuracy : 0.7446           \n",
      "                 95% CI : (0.6971, 0.7882) \n",
      "    No Information Rate : 0.6478           \n",
      "    P-Value [Acc > NIR] : 3.976e-05        \n",
      "                                           \n",
      "                  Kappa : 0.4017           \n",
      "                                           \n",
      " Mcnemar's Test P-Value : 0.0002212        \n",
      "                                           \n",
      "            Sensitivity : 0.8797           \n",
      "            Specificity : 0.4962           \n",
      "         Pos Pred Value : 0.7626           \n",
      "         Neg Pred Value : 0.6915           \n",
      "              Precision : 0.7626           \n",
      "                 Recall : 0.8797           \n",
      "                     F1 : 0.8170           \n",
      "             Prevalence : 0.6478           \n",
      "         Detection Rate : 0.5699           \n",
      "   Detection Prevalence : 0.7473           \n",
      "      Balanced Accuracy : 0.6879           \n",
      "                                           \n",
      "       'Positive' Class : less_then_8_hours\n",
      "                                           \n"
     ]
    }
   ],
   "source": [
    "# Sensitivities <- c()\n",
    "# Specificities <- c()\n",
    "# Metric <- c()\n",
    "sensitivity_specificity_balanced <- function(data, lev=NULL, model = NULL){ \n",
    "    Sensitivity <- caret::sensitivity(data$pred, data$obs)\n",
    "    # Sensitivities <<- append(Sensitivities, Sensitivity)\n",
    "    Specificity <- caret::specificity(data$pred, data$obs)\n",
    "    # Specificities <<- append(Specificities, Specificity)\n",
    "    balanced <- (Sensitivity + Specificity)/2 - sd(c(Sensitivity, Specificity))\n",
    "    # Metric <<- append(Metric, balanced)\n",
    "    names(balanced) <- \"Bal\" \n",
    "    balanced\n",
    "}\n",
    "set.seed(2)\n",
    "model <- fit_model(\n",
    "\n",
    "    model_method=\"rf\",\n",
    "    model_metric=\"Bal\",\n",
    "    trControl_func = trainControl(method = \"cv\", search=\"grid\",  summaryFunction = sensitivity_specificity_balanced),\n",
    "    train_data = sedentary_train,\n",
    "    test_data=sedentary_test,\n",
    "    yname=\"sedentary_time_range_during\",\n",
    "    length=15\n",
    ")\n",
    "\n",
    "print(model$matrix)\n",
    "#results <- data.frame(mtrys, Sensitivities, Specificities)\n",
    "\n",
    "# p = ggplot() + \n",
    "#     geom_line(data = results, aes(x = mtrys,  y = Sensitivities, colour = \"Sensitivity\"), size=1) +\n",
    "#     geom_line(data = results, aes(x = mtrys, y = Specificities, colour = \"Specificity\"), size=1) +\n",
    "#     scale_color_manual(name = \"Metric\", values = c(\"Sensitivity\" = \"darkblue\", \"Specificity\" = \"red\")) + \n",
    "#     xlab('probability threshold') +\n",
    "#     ylab('Sensitivity and Specificity')\n",
    "# p \n",
    "\n"
   ]
  },
  {
   "cell_type": "code",
   "execution_count": null,
   "metadata": {},
   "outputs": [
    {
     "data": {
      "image/png": "[encoded data removed]",
      "text/plain": [
       "plot without title"
      ]
     },
     "metadata": {
      "image/png": {
       "height": 420,
       "width": 420
      }
     },
     "output_type": "display_data"
    },
    {
     "data": {
      "image/png": "[encoded data removed]",
      "text/plain": [
       "plot without title"
      ]
     },
     "metadata": {
      "image/png": {
       "height": 420,
       "width": 420
      }
     },
     "output_type": "display_data"
    }
   ],
   "source": [
    "plot(varImp(model$result), top=20)\n",
    "plot(model$result)"
   ]
  },
  {
   "cell_type": "markdown",
   "metadata": {},
   "source": [
    "#### Find Optimal threshhold"
   ]
  },
  {
   "cell_type": "code",
   "execution_count": 8,
   "metadata": {},
   "outputs": [
    {
     "name": "stderr",
     "output_type": "stream",
     "text": [
      "Warning message in .fun(piece, ...):\n",
      "\"The following columns have missing values (NA), which have been removed: 'Neg Pred Value'.\n",
      "\"\n",
      "Warning message in .fun(piece, ...):\n",
      "\"The following columns have missing values (NA), which have been removed: 'Neg Pred Value'.\n",
      "\"\n",
      "Warning message in .fun(piece, ...):\n",
      "\"The following columns have missing values (NA), which have been removed: 'Neg Pred Value'.\n",
      "\"\n",
      "Warning message in .fun(piece, ...):\n",
      "\"The following columns have missing values (NA), which have been removed: 'Neg Pred Value'.\n",
      "\"\n",
      "Warning message in .fun(piece, ...):\n",
      "\"The following columns have missing values (NA), which have been removed: 'Neg Pred Value'.\n",
      "\"\n",
      "Warning message in .fun(piece, ...):\n",
      "\"The following columns have missing values (NA), which have been removed: 'Neg Pred Value'.\n",
      "\"\n",
      "Warning message in .fun(piece, ...):\n",
      "\"The following columns have missing values (NA), which have been removed: 'Neg Pred Value'.\n",
      "\"\n",
      "Warning message in .fun(piece, ...):\n",
      "\"The following columns have missing values (NA), which have been removed: 'Neg Pred Value'.\n",
      "\"\n",
      "Warning message in .fun(piece, ...):\n",
      "\"The following columns have missing values (NA), which have been removed: 'Neg Pred Value'.\n",
      "\"\n"
     ]
    },
    {
     "name": "stdout",
     "output_type": "stream",
     "text": [
      "[1] 0.66\n",
      "Confusion Matrix and Statistics\n",
      "\n",
      "                   Reference\n",
      "Prediction          less_then_8_hours more_or_8_hours\n",
      "  less_then_8_hours               160              29\n",
      "  more_or_8_hours                  81             102\n",
      "                                           \n",
      "               Accuracy : 0.7043           \n",
      "                 95% CI : (0.6551, 0.7502) \n",
      "    No Information Rate : 0.6478           \n",
      "    P-Value [Acc > NIR] : 0.01225          \n",
      "                                           \n",
      "                  Kappa : 0.4058           \n",
      "                                           \n",
      " Mcnemar's Test P-Value : 1.158e-06        \n",
      "                                           \n",
      "            Sensitivity : 0.6639           \n",
      "            Specificity : 0.7786           \n",
      "         Pos Pred Value : 0.8466           \n",
      "         Neg Pred Value : 0.5574           \n",
      "              Precision : 0.8466           \n",
      "                 Recall : 0.6639           \n",
      "                     F1 : 0.7442           \n",
      "             Prevalence : 0.6478           \n",
      "         Detection Rate : 0.4301           \n",
      "   Detection Prevalence : 0.5081           \n",
      "      Balanced Accuracy : 0.7213           \n",
      "                                           \n",
      "       'Positive' Class : less_then_8_hours\n",
      "                                           \n"
     ]
    },
    {
     "data": {
      "image/png": "[encoded data removed]",
      "text/plain": [
       "plot without title"
      ]
     },
     "metadata": {
      "image/png": {
       "height": 420,
       "width": 420
      }
     },
     "output_type": "display_data"
    }
   ],
   "source": [
    "source(here('Modules','modules.R'))\n",
    "set.seed(2)\n",
    "model <- fit_model_thresholder(\n",
    "    model_method=\"rf\",\n",
    "    model_metric=\"Kappa\",\n",
    "    trControl_func = trainControl(method = \"cv\", search=\"grid\",  classProbs=TRUE, savePredictions=TRUE),\n",
    "    train_data = sedentary_train,\n",
    "    test_data=sedentary_test,\n",
    "    yname=\"sedentary_time_range_during\",\n",
    "    length = 15,\n",
    "    best_th = f2\n",
    ")\n",
    "\n",
    "print(model$matrix)"
   ]
  },
  {
   "cell_type": "markdown",
   "metadata": {},
   "source": [
    "### Metric 2: abs(S - E)\n"
   ]
  },
  {
   "cell_type": "markdown",
   "metadata": {},
   "source": [
    "#### Find Optimal threshold"
   ]
  },
  {
   "cell_type": "code",
   "execution_count": 11,
   "metadata": {},
   "outputs": [
    {
     "name": "stderr",
     "output_type": "stream",
     "text": [
      "Warning message in .fun(piece, ...):\n",
      "\"The following columns have missing values (NA), which have been removed: 'Neg Pred Value'.\n",
      "\"\n",
      "Warning message in .fun(piece, ...):\n",
      "\"The following columns have missing values (NA), which have been removed: 'Neg Pred Value'.\n",
      "\"\n",
      "Warning message in .fun(piece, ...):\n",
      "\"The following columns have missing values (NA), which have been removed: 'Neg Pred Value'.\n",
      "\"\n",
      "Warning message in .fun(piece, ...):\n",
      "\"The following columns have missing values (NA), which have been removed: 'Neg Pred Value'.\n",
      "\"\n",
      "Warning message in .fun(piece, ...):\n",
      "\"The following columns have missing values (NA), which have been removed: 'Neg Pred Value'.\n",
      "\"\n",
      "Warning message in .fun(piece, ...):\n",
      "\"The following columns have missing values (NA), which have been removed: 'Neg Pred Value'.\n",
      "\"\n",
      "Warning message in .fun(piece, ...):\n",
      "\"The following columns have missing values (NA), which have been removed: 'Neg Pred Value'.\n",
      "\"\n",
      "Warning message in .fun(piece, ...):\n",
      "\"The following columns have missing values (NA), which have been removed: 'Neg Pred Value'.\n",
      "\"\n",
      "Warning message in .fun(piece, ...):\n",
      "\"The following columns have missing values (NA), which have been removed: 'Neg Pred Value'.\n",
      "\"\n"
     ]
    },
    {
     "name": "stdout",
     "output_type": "stream",
     "text": [
      "[1] 0.66\n",
      "Confusion Matrix and Statistics\n",
      "\n",
      "                   Reference\n",
      "Prediction          less_then_8_hours more_or_8_hours\n",
      "  less_then_8_hours               160              29\n",
      "  more_or_8_hours                  81             102\n",
      "                                           \n",
      "               Accuracy : 0.7043           \n",
      "                 95% CI : (0.6551, 0.7502) \n",
      "    No Information Rate : 0.6478           \n",
      "    P-Value [Acc > NIR] : 0.01225          \n",
      "                                           \n",
      "                  Kappa : 0.4058           \n",
      "                                           \n",
      " Mcnemar's Test P-Value : 1.158e-06        \n",
      "                                           \n",
      "            Sensitivity : 0.6639           \n",
      "            Specificity : 0.7786           \n",
      "         Pos Pred Value : 0.8466           \n",
      "         Neg Pred Value : 0.5574           \n",
      "              Precision : 0.8466           \n",
      "                 Recall : 0.6639           \n",
      "                     F1 : 0.7442           \n",
      "             Prevalence : 0.6478           \n",
      "         Detection Rate : 0.4301           \n",
      "   Detection Prevalence : 0.5081           \n",
      "      Balanced Accuracy : 0.7213           \n",
      "                                           \n",
      "       'Positive' Class : less_then_8_hours\n",
      "                                           \n"
     ]
    },
    {
     "data": {
      "image/png": "[encoded data removed]",
      "text/plain": [
       "plot without title"
      ]
     },
     "metadata": {
      "image/png": {
       "height": 420,
       "width": 420
      }
     },
     "output_type": "display_data"
    }
   ],
   "source": [
    "set.seed(2)\n",
    "model <- fit_model_thresholder(\n",
    "    model_method=\"rf\",\n",
    "    model_metric=\"Kappa\",\n",
    "    trControl_func = trainControl(method = \"cv\", search=\"grid\", classProbs=TRUE, savePredictions=TRUE),\n",
    "    train_data = sedentary_train,\n",
    "    test_data=sedentary_test,\n",
    "    yname=\"sedentary_time_range_during\",\n",
    "    length = 15,\n",
    "    best_th= f1\n",
    ")\n",
    "\n",
    "print(model$matrix)"
   ]
  }
 ],
 "metadata": {
  "kernelspec": {
   "display_name": "R",
   "language": "R",
   "name": "ir"
  },
  "language_info": {
   "codemirror_mode": "r",
   "file_extension": ".r",
   "mimetype": "text/x-r-source",
   "name": "R",
   "pygments_lexer": "r",
   "version": "4.1.0"
  },
  "orig_nbformat": 4
 },
 "nbformat": 4,
 "nbformat_minor": 2
}
