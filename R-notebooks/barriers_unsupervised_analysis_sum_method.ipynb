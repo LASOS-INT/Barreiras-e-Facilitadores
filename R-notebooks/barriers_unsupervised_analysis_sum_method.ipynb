{
 "cells": [
  {
   "cell_type": "markdown",
   "metadata": {},
   "source": [
    "## Importing packages"
   ]
  },
  {
   "cell_type": "code",
   "execution_count": 73,
   "metadata": {
    "vscode": {
     "languageId": "r"
    }
   },
   "outputs": [
    {
     "name": "stderr",
     "output_type": "stream",
     "text": [
      "Warning message:\n",
      "\"package 'cluster' was built under R version 4.1.3\"\n"
     ]
    },
    {
     "data": {
      "text/html": [
       "<ol>\n",
       "\t<li>TRUE</li>\n",
       "\t<li>TRUE</li>\n",
       "\t<li>TRUE</li>\n",
       "\t<li>TRUE</li>\n",
       "\t<li>TRUE</li>\n",
       "\t<li>TRUE</li>\n",
       "\t<li>TRUE</li>\n",
       "\t<li>TRUE</li>\n",
       "\t<li>TRUE</li>\n",
       "\t<li>TRUE</li>\n",
       "\t<li>TRUE</li>\n",
       "\t<li>TRUE</li>\n",
       "\t<li>TRUE</li>\n",
       "\t<li>TRUE</li>\n",
       "\t<li>TRUE</li>\n",
       "\t<li>TRUE</li>\n",
       "\t<li>TRUE</li>\n",
       "\t<li>TRUE</li>\n",
       "\t<li>TRUE</li>\n",
       "\t<li>TRUE</li>\n",
       "\t<li>TRUE</li>\n",
       "\t<li>TRUE</li>\n",
       "\t<li>TRUE</li>\n",
       "\t<li>TRUE</li>\n",
       "\t<li>TRUE</li>\n",
       "\t<li>TRUE</li>\n",
       "\t<li>TRUE</li>\n",
       "\t<li>TRUE</li>\n",
       "\t<li>TRUE</li>\n",
       "\t<li>TRUE</li>\n",
       "\t<li>TRUE</li>\n",
       "\t<li>TRUE</li>\n",
       "\t<li>TRUE</li>\n",
       "\t<li>TRUE</li>\n",
       "\t<li>TRUE</li>\n",
       "\t<li>TRUE</li>\n",
       "\t<li>TRUE</li>\n",
       "\t<li>TRUE</li>\n",
       "</ol>\n"
      ],
      "text/latex": [
       "\\begin{enumerate}\n",
       "\\item TRUE\n",
       "\\item TRUE\n",
       "\\item TRUE\n",
       "\\item TRUE\n",
       "\\item TRUE\n",
       "\\item TRUE\n",
       "\\item TRUE\n",
       "\\item TRUE\n",
       "\\item TRUE\n",
       "\\item TRUE\n",
       "\\item TRUE\n",
       "\\item TRUE\n",
       "\\item TRUE\n",
       "\\item TRUE\n",
       "\\item TRUE\n",
       "\\item TRUE\n",
       "\\item TRUE\n",
       "\\item TRUE\n",
       "\\item TRUE\n",
       "\\item TRUE\n",
       "\\item TRUE\n",
       "\\item TRUE\n",
       "\\item TRUE\n",
       "\\item TRUE\n",
       "\\item TRUE\n",
       "\\item TRUE\n",
       "\\item TRUE\n",
       "\\item TRUE\n",
       "\\item TRUE\n",
       "\\item TRUE\n",
       "\\item TRUE\n",
       "\\item TRUE\n",
       "\\item TRUE\n",
       "\\item TRUE\n",
       "\\item TRUE\n",
       "\\item TRUE\n",
       "\\item TRUE\n",
       "\\item TRUE\n",
       "\\end{enumerate}\n"
      ],
      "text/markdown": [
       "1. TRUE\n",
       "2. TRUE\n",
       "3. TRUE\n",
       "4. TRUE\n",
       "5. TRUE\n",
       "6. TRUE\n",
       "7. TRUE\n",
       "8. TRUE\n",
       "9. TRUE\n",
       "10. TRUE\n",
       "11. TRUE\n",
       "12. TRUE\n",
       "13. TRUE\n",
       "14. TRUE\n",
       "15. TRUE\n",
       "16. TRUE\n",
       "17. TRUE\n",
       "18. TRUE\n",
       "19. TRUE\n",
       "20. TRUE\n",
       "21. TRUE\n",
       "22. TRUE\n",
       "23. TRUE\n",
       "24. TRUE\n",
       "25. TRUE\n",
       "26. TRUE\n",
       "27. TRUE\n",
       "28. TRUE\n",
       "29. TRUE\n",
       "30. TRUE\n",
       "31. TRUE\n",
       "32. TRUE\n",
       "33. TRUE\n",
       "34. TRUE\n",
       "35. TRUE\n",
       "36. TRUE\n",
       "37. TRUE\n",
       "38. TRUE\n",
       "\n",
       "\n"
      ],
      "text/plain": [
       "[[1]]\n",
       "[1] TRUE\n",
       "\n",
       "[[2]]\n",
       "[1] TRUE\n",
       "\n",
       "[[3]]\n",
       "[1] TRUE\n",
       "\n",
       "[[4]]\n",
       "[1] TRUE\n",
       "\n",
       "[[5]]\n",
       "[1] TRUE\n",
       "\n",
       "[[6]]\n",
       "[1] TRUE\n",
       "\n",
       "[[7]]\n",
       "[1] TRUE\n",
       "\n",
       "[[8]]\n",
       "[1] TRUE\n",
       "\n",
       "[[9]]\n",
       "[1] TRUE\n",
       "\n",
       "[[10]]\n",
       "[1] TRUE\n",
       "\n",
       "[[11]]\n",
       "[1] TRUE\n",
       "\n",
       "[[12]]\n",
       "[1] TRUE\n",
       "\n",
       "[[13]]\n",
       "[1] TRUE\n",
       "\n",
       "[[14]]\n",
       "[1] TRUE\n",
       "\n",
       "[[15]]\n",
       "[1] TRUE\n",
       "\n",
       "[[16]]\n",
       "[1] TRUE\n",
       "\n",
       "[[17]]\n",
       "[1] TRUE\n",
       "\n",
       "[[18]]\n",
       "[1] TRUE\n",
       "\n",
       "[[19]]\n",
       "[1] TRUE\n",
       "\n",
       "[[20]]\n",
       "[1] TRUE\n",
       "\n",
       "[[21]]\n",
       "[1] TRUE\n",
       "\n",
       "[[22]]\n",
       "[1] TRUE\n",
       "\n",
       "[[23]]\n",
       "[1] TRUE\n",
       "\n",
       "[[24]]\n",
       "[1] TRUE\n",
       "\n",
       "[[25]]\n",
       "[1] TRUE\n",
       "\n",
       "[[26]]\n",
       "[1] TRUE\n",
       "\n",
       "[[27]]\n",
       "[1] TRUE\n",
       "\n",
       "[[28]]\n",
       "[1] TRUE\n",
       "\n",
       "[[29]]\n",
       "[1] TRUE\n",
       "\n",
       "[[30]]\n",
       "[1] TRUE\n",
       "\n",
       "[[31]]\n",
       "[1] TRUE\n",
       "\n",
       "[[32]]\n",
       "[1] TRUE\n",
       "\n",
       "[[33]]\n",
       "[1] TRUE\n",
       "\n",
       "[[34]]\n",
       "[1] TRUE\n",
       "\n",
       "[[35]]\n",
       "[1] TRUE\n",
       "\n",
       "[[36]]\n",
       "[1] TRUE\n",
       "\n",
       "[[37]]\n",
       "[1] TRUE\n",
       "\n",
       "[[38]]\n",
       "[1] TRUE\n"
      ]
     },
     "metadata": {},
     "output_type": "display_data"
    }
   ],
   "source": [
    "library(here, help, pos = 2, lib.loc = NULL)\n",
    "source(here('Modules','modules.R'))\n",
    "#install_all_packages()\n",
    "load_library_packages()"
   ]
  },
  {
   "cell_type": "markdown",
   "metadata": {},
   "source": [
    "## Importing and Cleaning dataset"
   ]
  },
  {
   "cell_type": "code",
   "execution_count": 74,
   "metadata": {
    "vscode": {
     "languageId": "r"
    }
   },
   "outputs": [
    {
     "data": {
      "text/html": [
       "'numeric'"
      ],
      "text/latex": [
       "'numeric'"
      ],
      "text/markdown": [
       "'numeric'"
      ],
      "text/plain": [
       "[1] \"numeric\""
      ]
     },
     "metadata": {},
     "output_type": "display_data"
    },
    {
     "data": {
      "text/html": [
       "<style>\n",
       ".list-inline {list-style: none; margin:0; padding: 0}\n",
       ".list-inline>li {display: inline-block}\n",
       ".list-inline>li:not(:last-child)::after {content: \"\\00b7\"; padding: 0 .5ex}\n",
       "</style>\n",
       "<ol class=list-inline><li>1250</li><li>44</li></ol>\n"
      ],
      "text/latex": [
       "\\begin{enumerate*}\n",
       "\\item 1250\n",
       "\\item 44\n",
       "\\end{enumerate*}\n"
      ],
      "text/markdown": [
       "1. 1250\n",
       "2. 44\n",
       "\n",
       "\n"
      ],
      "text/plain": [
       "[1] 1250   44"
      ]
     },
     "metadata": {},
     "output_type": "display_data"
    },
    {
     "data": {
      "text/html": [
       "<table class=\"dataframe\">\n",
       "<caption>A data.frame: 6 × 44</caption>\n",
       "<thead>\n",
       "\t<tr><th></th><th scope=col>PA_barrier_time_family_responsabilities</th><th scope=col>PA_barrier__tiredness</th><th scope=col>PA_barrier_places_closed_dangerous</th><th scope=col>PA_barrier_money</th><th scope=col>PA_barrier_time_convenience</th><th scope=col>PA_barrier_hard_work</th><th scope=col>PA_barrier_no_interest</th><th scope=col>PA_barrier_none</th><th scope=col>PA_easiness_outdoor_activities</th><th scope=col>PA_easiness_professional_guidance</th><th scope=col>...</th><th scope=col>soccer</th><th scope=col>tennis</th><th scope=col>volleyball</th><th scope=col>basketball</th><th scope=col>swimming</th><th scope=col>surfing</th><th scope=col>yoga</th><th scope=col>pilates</th><th scope=col>fighting</th><th scope=col>other_sports</th></tr>\n",
       "\t<tr><th></th><th scope=col>&lt;dbl&gt;</th><th scope=col>&lt;dbl&gt;</th><th scope=col>&lt;dbl&gt;</th><th scope=col>&lt;dbl&gt;</th><th scope=col>&lt;dbl&gt;</th><th scope=col>&lt;dbl&gt;</th><th scope=col>&lt;dbl&gt;</th><th scope=col>&lt;dbl&gt;</th><th scope=col>&lt;dbl&gt;</th><th scope=col>&lt;dbl&gt;</th><th scope=col>...</th><th scope=col>&lt;dbl&gt;</th><th scope=col>&lt;dbl&gt;</th><th scope=col>&lt;dbl&gt;</th><th scope=col>&lt;dbl&gt;</th><th scope=col>&lt;dbl&gt;</th><th scope=col>&lt;dbl&gt;</th><th scope=col>&lt;dbl&gt;</th><th scope=col>&lt;dbl&gt;</th><th scope=col>&lt;dbl&gt;</th><th scope=col>&lt;dbl&gt;</th></tr>\n",
       "</thead>\n",
       "<tbody>\n",
       "\t<tr><th scope=row>1</th><td>0</td><td>0</td><td>1</td><td>0</td><td>0</td><td>1</td><td>0</td><td>0</td><td>0</td><td>0</td><td>...</td><td>0</td><td>0</td><td>0</td><td>0</td><td>0</td><td>0</td><td>0</td><td>0</td><td>0</td><td>0</td></tr>\n",
       "\t<tr><th scope=row>2</th><td>0</td><td>0</td><td>1</td><td>0</td><td>0</td><td>0</td><td>0</td><td>0</td><td>1</td><td>0</td><td>...</td><td>0</td><td>0</td><td>0</td><td>0</td><td>0</td><td>0</td><td>0</td><td>0</td><td>0</td><td>0</td></tr>\n",
       "\t<tr><th scope=row>3</th><td>0</td><td>0</td><td>1</td><td>0</td><td>0</td><td>0</td><td>1</td><td>0</td><td>0</td><td>0</td><td>...</td><td>0</td><td>0</td><td>0</td><td>0</td><td>0</td><td>0</td><td>0</td><td>0</td><td>0</td><td>1</td></tr>\n",
       "\t<tr><th scope=row>4</th><td>0</td><td>0</td><td>1</td><td>0</td><td>0</td><td>0</td><td>0</td><td>0</td><td>1</td><td>1</td><td>...</td><td>0</td><td>0</td><td>0</td><td>0</td><td>0</td><td>0</td><td>0</td><td>0</td><td>0</td><td>0</td></tr>\n",
       "\t<tr><th scope=row>5</th><td>0</td><td>0</td><td>1</td><td>0</td><td>0</td><td>0</td><td>0</td><td>0</td><td>0</td><td>0</td><td>...</td><td>0</td><td>0</td><td>0</td><td>0</td><td>0</td><td>0</td><td>0</td><td>0</td><td>0</td><td>0</td></tr>\n",
       "\t<tr><th scope=row>6</th><td>1</td><td>0</td><td>0</td><td>0</td><td>0</td><td>0</td><td>0</td><td>0</td><td>1</td><td>0</td><td>...</td><td>0</td><td>0</td><td>0</td><td>0</td><td>0</td><td>0</td><td>0</td><td>0</td><td>0</td><td>1</td></tr>\n",
       "</tbody>\n",
       "</table>\n"
      ],
      "text/latex": [
       "A data.frame: 6 × 44\n",
       "\\begin{tabular}{r|lllllllllllllllllllll}\n",
       "  & PA\\_barrier\\_time\\_family\\_responsabilities & PA\\_barrier\\_\\_tiredness & PA\\_barrier\\_places\\_closed\\_dangerous & PA\\_barrier\\_money & PA\\_barrier\\_time\\_convenience & PA\\_barrier\\_hard\\_work & PA\\_barrier\\_no\\_interest & PA\\_barrier\\_none & PA\\_easiness\\_outdoor\\_activities & PA\\_easiness\\_professional\\_guidance & ... & soccer & tennis & volleyball & basketball & swimming & surfing & yoga & pilates & fighting & other\\_sports\\\\\n",
       "  & <dbl> & <dbl> & <dbl> & <dbl> & <dbl> & <dbl> & <dbl> & <dbl> & <dbl> & <dbl> & ... & <dbl> & <dbl> & <dbl> & <dbl> & <dbl> & <dbl> & <dbl> & <dbl> & <dbl> & <dbl>\\\\\n",
       "\\hline\n",
       "\t1 & 0 & 0 & 1 & 0 & 0 & 1 & 0 & 0 & 0 & 0 & ... & 0 & 0 & 0 & 0 & 0 & 0 & 0 & 0 & 0 & 0\\\\\n",
       "\t2 & 0 & 0 & 1 & 0 & 0 & 0 & 0 & 0 & 1 & 0 & ... & 0 & 0 & 0 & 0 & 0 & 0 & 0 & 0 & 0 & 0\\\\\n",
       "\t3 & 0 & 0 & 1 & 0 & 0 & 0 & 1 & 0 & 0 & 0 & ... & 0 & 0 & 0 & 0 & 0 & 0 & 0 & 0 & 0 & 1\\\\\n",
       "\t4 & 0 & 0 & 1 & 0 & 0 & 0 & 0 & 0 & 1 & 1 & ... & 0 & 0 & 0 & 0 & 0 & 0 & 0 & 0 & 0 & 0\\\\\n",
       "\t5 & 0 & 0 & 1 & 0 & 0 & 0 & 0 & 0 & 0 & 0 & ... & 0 & 0 & 0 & 0 & 0 & 0 & 0 & 0 & 0 & 0\\\\\n",
       "\t6 & 1 & 0 & 0 & 0 & 0 & 0 & 0 & 0 & 1 & 0 & ... & 0 & 0 & 0 & 0 & 0 & 0 & 0 & 0 & 0 & 1\\\\\n",
       "\\end{tabular}\n"
      ],
      "text/markdown": [
       "\n",
       "A data.frame: 6 × 44\n",
       "\n",
       "| <!--/--> | PA_barrier_time_family_responsabilities &lt;dbl&gt; | PA_barrier__tiredness &lt;dbl&gt; | PA_barrier_places_closed_dangerous &lt;dbl&gt; | PA_barrier_money &lt;dbl&gt; | PA_barrier_time_convenience &lt;dbl&gt; | PA_barrier_hard_work &lt;dbl&gt; | PA_barrier_no_interest &lt;dbl&gt; | PA_barrier_none &lt;dbl&gt; | PA_easiness_outdoor_activities &lt;dbl&gt; | PA_easiness_professional_guidance &lt;dbl&gt; | ... ... | soccer &lt;dbl&gt; | tennis &lt;dbl&gt; | volleyball &lt;dbl&gt; | basketball &lt;dbl&gt; | swimming &lt;dbl&gt; | surfing &lt;dbl&gt; | yoga &lt;dbl&gt; | pilates &lt;dbl&gt; | fighting &lt;dbl&gt; | other_sports &lt;dbl&gt; |\n",
       "|---|---|---|---|---|---|---|---|---|---|---|---|---|---|---|---|---|---|---|---|---|---|\n",
       "| 1 | 0 | 0 | 1 | 0 | 0 | 1 | 0 | 0 | 0 | 0 | ... | 0 | 0 | 0 | 0 | 0 | 0 | 0 | 0 | 0 | 0 |\n",
       "| 2 | 0 | 0 | 1 | 0 | 0 | 0 | 0 | 0 | 1 | 0 | ... | 0 | 0 | 0 | 0 | 0 | 0 | 0 | 0 | 0 | 0 |\n",
       "| 3 | 0 | 0 | 1 | 0 | 0 | 0 | 1 | 0 | 0 | 0 | ... | 0 | 0 | 0 | 0 | 0 | 0 | 0 | 0 | 0 | 1 |\n",
       "| 4 | 0 | 0 | 1 | 0 | 0 | 0 | 0 | 0 | 1 | 1 | ... | 0 | 0 | 0 | 0 | 0 | 0 | 0 | 0 | 0 | 0 |\n",
       "| 5 | 0 | 0 | 1 | 0 | 0 | 0 | 0 | 0 | 0 | 0 | ... | 0 | 0 | 0 | 0 | 0 | 0 | 0 | 0 | 0 | 0 |\n",
       "| 6 | 1 | 0 | 0 | 0 | 0 | 0 | 0 | 0 | 1 | 0 | ... | 0 | 0 | 0 | 0 | 0 | 0 | 0 | 0 | 0 | 1 |\n",
       "\n"
      ],
      "text/plain": [
       "  PA_barrier_time_family_responsabilities PA_barrier__tiredness\n",
       "1 0                                       0                    \n",
       "2 0                                       0                    \n",
       "3 0                                       0                    \n",
       "4 0                                       0                    \n",
       "5 0                                       0                    \n",
       "6 1                                       0                    \n",
       "  PA_barrier_places_closed_dangerous PA_barrier_money\n",
       "1 1                                  0               \n",
       "2 1                                  0               \n",
       "3 1                                  0               \n",
       "4 1                                  0               \n",
       "5 1                                  0               \n",
       "6 0                                  0               \n",
       "  PA_barrier_time_convenience PA_barrier_hard_work PA_barrier_no_interest\n",
       "1 0                           1                    0                     \n",
       "2 0                           0                    0                     \n",
       "3 0                           0                    1                     \n",
       "4 0                           0                    0                     \n",
       "5 0                           0                    0                     \n",
       "6 0                           0                    0                     \n",
       "  PA_barrier_none PA_easiness_outdoor_activities\n",
       "1 0               0                             \n",
       "2 0               1                             \n",
       "3 0               0                             \n",
       "4 0               1                             \n",
       "5 0               0                             \n",
       "6 0               1                             \n",
       "  PA_easiness_professional_guidance ... soccer tennis volleyball basketball\n",
       "1 0                                 ... 0      0      0          0         \n",
       "2 0                                 ... 0      0      0          0         \n",
       "3 0                                 ... 0      0      0          0         \n",
       "4 1                                 ... 0      0      0          0         \n",
       "5 0                                 ... 0      0      0          0         \n",
       "6 0                                 ... 0      0      0          0         \n",
       "  swimming surfing yoga pilates fighting other_sports\n",
       "1 0        0       0    0       0        0           \n",
       "2 0        0       0    0       0        0           \n",
       "3 0        0       0    0       0        1           \n",
       "4 0        0       0    0       0        0           \n",
       "5 0        0       0    0       0        0           \n",
       "6 0        0       0    0       0        1           "
      ]
     },
     "metadata": {},
     "output_type": "display_data"
    }
   ],
   "source": [
    "df_during <- read_excel(path = here('Data','during_dataset.xlsx'))\n",
    "df_during <- data.frame(df_during)\n",
    "unique(sapply(df_during, class))\n",
    "df_during <- df_during[complete.cases(df_during), ]\n",
    "dim(df_during)\n",
    "head(df_during)"
   ]
  },
  {
   "cell_type": "markdown",
   "metadata": {},
   "source": [
    "### Converting dataset types and labels"
   ]
  },
  {
   "cell_type": "code",
   "execution_count": 75,
   "metadata": {
    "vscode": {
     "languageId": "r"
    }
   },
   "outputs": [
    {
     "data": {
      "text/html": [
       "900"
      ],
      "text/latex": [
       "900"
      ],
      "text/markdown": [
       "900"
      ],
      "text/plain": [
       "[1] 900"
      ]
     },
     "metadata": {},
     "output_type": "display_data"
    }
   ],
   "source": [
    "df_during$PA_intensity[df_during$PA_intensity == 4] <- 0\n",
    "df_during$PA_duration[df_during$PA_duration == 5] <- 0\n",
    "df_during$PA_weekly_frequency[df_during$PA_weekly_frequency == 4] <- 0\n",
    "df_during$PA_practice_during <- ifelse(df_during$PA_practice_during == 0, 1, 0)\n",
    "df_during$sedentary_time_range_during[df_during$sedentary_time_range_during < 5] <- 0\n",
    "df_during$sedentary_time_range_during[df_during$sedentary_time_range_during == 5] <- 1\n",
    "sum(df_during[, \"PA_practice_during\"])"
   ]
  },
  {
   "cell_type": "code",
   "execution_count": 76,
   "metadata": {
    "vscode": {
     "languageId": "r"
    }
   },
   "outputs": [],
   "source": [
    "sports <- c(\"running\",\"hiking\",\"cycling\",\n",
    "            \"muscle_training\",\"soccer\",\"tennis\",\n",
    "            \"volleyball\",\"basketball\",\"swimming\",\n",
    "            \"surfing\",\"yoga\",\"pilates\",\"fighting\",\"other_sports\")\n",
    "\n",
    "df_during$PA_number <- rowSums(df_during[, sports])"
   ]
  },
  {
   "cell_type": "markdown",
   "metadata": {},
   "source": [
    "### Separing barriers from dataset"
   ]
  },
  {
   "cell_type": "code",
   "execution_count": 77,
   "metadata": {
    "vscode": {
     "languageId": "r"
    }
   },
   "outputs": [
    {
     "data": {
      "text/html": [
       "<style>\n",
       ".list-inline {list-style: none; margin:0; padding: 0}\n",
       ".list-inline>li {display: inline-block}\n",
       ".list-inline>li:not(:last-child)::after {content: \"\\00b7\"; padding: 0 .5ex}\n",
       "</style>\n",
       "<ol class=list-inline><li>1250</li><li>18</li></ol>\n"
      ],
      "text/latex": [
       "\\begin{enumerate*}\n",
       "\\item 1250\n",
       "\\item 18\n",
       "\\end{enumerate*}\n"
      ],
      "text/markdown": [
       "1. 1250\n",
       "2. 18\n",
       "\n",
       "\n"
      ],
      "text/plain": [
       "[1] 1250   18"
      ]
     },
     "metadata": {},
     "output_type": "display_data"
    },
    {
     "data": {
      "text/html": [
       "<table class=\"dataframe\">\n",
       "<caption>A data.frame: 6 × 18</caption>\n",
       "<thead>\n",
       "\t<tr><th></th><th scope=col>PA_barrier_time_family_responsabilities</th><th scope=col>PA_barrier__tiredness</th><th scope=col>PA_barrier_places_closed_dangerous</th><th scope=col>PA_barrier_money</th><th scope=col>PA_barrier_time_convenience</th><th scope=col>PA_barrier_hard_work</th><th scope=col>PA_barrier_no_interest</th><th scope=col>PA_barrier_none</th><th scope=col>PA_easiness_outdoor_activities</th><th scope=col>PA_easiness_professional_guidance</th><th scope=col>PA_easiness_unguided</th><th scope=col>PA_easiness_music</th><th scope=col>PA_easiness_collective</th><th scope=col>PA_easiness_home_activity</th><th scope=col>PA_easiness_family_activity</th><th scope=col>PA_easiness_home_space</th><th scope=col>PA_easiness_home_equipament</th><th scope=col>PA_easiness_others</th></tr>\n",
       "\t<tr><th></th><th scope=col>&lt;dbl&gt;</th><th scope=col>&lt;dbl&gt;</th><th scope=col>&lt;dbl&gt;</th><th scope=col>&lt;dbl&gt;</th><th scope=col>&lt;dbl&gt;</th><th scope=col>&lt;dbl&gt;</th><th scope=col>&lt;dbl&gt;</th><th scope=col>&lt;dbl&gt;</th><th scope=col>&lt;dbl&gt;</th><th scope=col>&lt;dbl&gt;</th><th scope=col>&lt;dbl&gt;</th><th scope=col>&lt;dbl&gt;</th><th scope=col>&lt;dbl&gt;</th><th scope=col>&lt;dbl&gt;</th><th scope=col>&lt;dbl&gt;</th><th scope=col>&lt;dbl&gt;</th><th scope=col>&lt;dbl&gt;</th><th scope=col>&lt;dbl&gt;</th></tr>\n",
       "</thead>\n",
       "<tbody>\n",
       "\t<tr><th scope=row>1</th><td>0</td><td>0</td><td>1</td><td>0</td><td>0</td><td>1</td><td>0</td><td>0</td><td>0</td><td>0</td><td>0</td><td>0</td><td>0</td><td>1</td><td>0</td><td>0</td><td>0</td><td>0</td></tr>\n",
       "\t<tr><th scope=row>2</th><td>0</td><td>0</td><td>1</td><td>0</td><td>0</td><td>0</td><td>0</td><td>0</td><td>1</td><td>0</td><td>0</td><td>0</td><td>0</td><td>0</td><td>0</td><td>1</td><td>1</td><td>0</td></tr>\n",
       "\t<tr><th scope=row>3</th><td>0</td><td>0</td><td>1</td><td>0</td><td>0</td><td>0</td><td>1</td><td>0</td><td>0</td><td>0</td><td>1</td><td>0</td><td>0</td><td>0</td><td>0</td><td>0</td><td>0</td><td>0</td></tr>\n",
       "\t<tr><th scope=row>4</th><td>0</td><td>0</td><td>1</td><td>0</td><td>0</td><td>0</td><td>0</td><td>0</td><td>1</td><td>1</td><td>0</td><td>0</td><td>0</td><td>1</td><td>0</td><td>1</td><td>1</td><td>0</td></tr>\n",
       "\t<tr><th scope=row>5</th><td>0</td><td>0</td><td>1</td><td>0</td><td>0</td><td>0</td><td>0</td><td>0</td><td>0</td><td>0</td><td>0</td><td>0</td><td>0</td><td>1</td><td>1</td><td>1</td><td>1</td><td>0</td></tr>\n",
       "\t<tr><th scope=row>6</th><td>1</td><td>0</td><td>0</td><td>0</td><td>0</td><td>0</td><td>0</td><td>0</td><td>1</td><td>0</td><td>0</td><td>0</td><td>0</td><td>0</td><td>0</td><td>0</td><td>1</td><td>0</td></tr>\n",
       "</tbody>\n",
       "</table>\n"
      ],
      "text/latex": [
       "A data.frame: 6 × 18\n",
       "\\begin{tabular}{r|llllllllllllllllll}\n",
       "  & PA\\_barrier\\_time\\_family\\_responsabilities & PA\\_barrier\\_\\_tiredness & PA\\_barrier\\_places\\_closed\\_dangerous & PA\\_barrier\\_money & PA\\_barrier\\_time\\_convenience & PA\\_barrier\\_hard\\_work & PA\\_barrier\\_no\\_interest & PA\\_barrier\\_none & PA\\_easiness\\_outdoor\\_activities & PA\\_easiness\\_professional\\_guidance & PA\\_easiness\\_unguided & PA\\_easiness\\_music & PA\\_easiness\\_collective & PA\\_easiness\\_home\\_activity & PA\\_easiness\\_family\\_activity & PA\\_easiness\\_home\\_space & PA\\_easiness\\_home\\_equipament & PA\\_easiness\\_others\\\\\n",
       "  & <dbl> & <dbl> & <dbl> & <dbl> & <dbl> & <dbl> & <dbl> & <dbl> & <dbl> & <dbl> & <dbl> & <dbl> & <dbl> & <dbl> & <dbl> & <dbl> & <dbl> & <dbl>\\\\\n",
       "\\hline\n",
       "\t1 & 0 & 0 & 1 & 0 & 0 & 1 & 0 & 0 & 0 & 0 & 0 & 0 & 0 & 1 & 0 & 0 & 0 & 0\\\\\n",
       "\t2 & 0 & 0 & 1 & 0 & 0 & 0 & 0 & 0 & 1 & 0 & 0 & 0 & 0 & 0 & 0 & 1 & 1 & 0\\\\\n",
       "\t3 & 0 & 0 & 1 & 0 & 0 & 0 & 1 & 0 & 0 & 0 & 1 & 0 & 0 & 0 & 0 & 0 & 0 & 0\\\\\n",
       "\t4 & 0 & 0 & 1 & 0 & 0 & 0 & 0 & 0 & 1 & 1 & 0 & 0 & 0 & 1 & 0 & 1 & 1 & 0\\\\\n",
       "\t5 & 0 & 0 & 1 & 0 & 0 & 0 & 0 & 0 & 0 & 0 & 0 & 0 & 0 & 1 & 1 & 1 & 1 & 0\\\\\n",
       "\t6 & 1 & 0 & 0 & 0 & 0 & 0 & 0 & 0 & 1 & 0 & 0 & 0 & 0 & 0 & 0 & 0 & 1 & 0\\\\\n",
       "\\end{tabular}\n"
      ],
      "text/markdown": [
       "\n",
       "A data.frame: 6 × 18\n",
       "\n",
       "| <!--/--> | PA_barrier_time_family_responsabilities &lt;dbl&gt; | PA_barrier__tiredness &lt;dbl&gt; | PA_barrier_places_closed_dangerous &lt;dbl&gt; | PA_barrier_money &lt;dbl&gt; | PA_barrier_time_convenience &lt;dbl&gt; | PA_barrier_hard_work &lt;dbl&gt; | PA_barrier_no_interest &lt;dbl&gt; | PA_barrier_none &lt;dbl&gt; | PA_easiness_outdoor_activities &lt;dbl&gt; | PA_easiness_professional_guidance &lt;dbl&gt; | PA_easiness_unguided &lt;dbl&gt; | PA_easiness_music &lt;dbl&gt; | PA_easiness_collective &lt;dbl&gt; | PA_easiness_home_activity &lt;dbl&gt; | PA_easiness_family_activity &lt;dbl&gt; | PA_easiness_home_space &lt;dbl&gt; | PA_easiness_home_equipament &lt;dbl&gt; | PA_easiness_others &lt;dbl&gt; |\n",
       "|---|---|---|---|---|---|---|---|---|---|---|---|---|---|---|---|---|---|---|\n",
       "| 1 | 0 | 0 | 1 | 0 | 0 | 1 | 0 | 0 | 0 | 0 | 0 | 0 | 0 | 1 | 0 | 0 | 0 | 0 |\n",
       "| 2 | 0 | 0 | 1 | 0 | 0 | 0 | 0 | 0 | 1 | 0 | 0 | 0 | 0 | 0 | 0 | 1 | 1 | 0 |\n",
       "| 3 | 0 | 0 | 1 | 0 | 0 | 0 | 1 | 0 | 0 | 0 | 1 | 0 | 0 | 0 | 0 | 0 | 0 | 0 |\n",
       "| 4 | 0 | 0 | 1 | 0 | 0 | 0 | 0 | 0 | 1 | 1 | 0 | 0 | 0 | 1 | 0 | 1 | 1 | 0 |\n",
       "| 5 | 0 | 0 | 1 | 0 | 0 | 0 | 0 | 0 | 0 | 0 | 0 | 0 | 0 | 1 | 1 | 1 | 1 | 0 |\n",
       "| 6 | 1 | 0 | 0 | 0 | 0 | 0 | 0 | 0 | 1 | 0 | 0 | 0 | 0 | 0 | 0 | 0 | 1 | 0 |\n",
       "\n"
      ],
      "text/plain": [
       "  PA_barrier_time_family_responsabilities PA_barrier__tiredness\n",
       "1 0                                       0                    \n",
       "2 0                                       0                    \n",
       "3 0                                       0                    \n",
       "4 0                                       0                    \n",
       "5 0                                       0                    \n",
       "6 1                                       0                    \n",
       "  PA_barrier_places_closed_dangerous PA_barrier_money\n",
       "1 1                                  0               \n",
       "2 1                                  0               \n",
       "3 1                                  0               \n",
       "4 1                                  0               \n",
       "5 1                                  0               \n",
       "6 0                                  0               \n",
       "  PA_barrier_time_convenience PA_barrier_hard_work PA_barrier_no_interest\n",
       "1 0                           1                    0                     \n",
       "2 0                           0                    0                     \n",
       "3 0                           0                    1                     \n",
       "4 0                           0                    0                     \n",
       "5 0                           0                    0                     \n",
       "6 0                           0                    0                     \n",
       "  PA_barrier_none PA_easiness_outdoor_activities\n",
       "1 0               0                             \n",
       "2 0               1                             \n",
       "3 0               0                             \n",
       "4 0               1                             \n",
       "5 0               0                             \n",
       "6 0               1                             \n",
       "  PA_easiness_professional_guidance PA_easiness_unguided PA_easiness_music\n",
       "1 0                                 0                    0                \n",
       "2 0                                 0                    0                \n",
       "3 0                                 1                    0                \n",
       "4 1                                 0                    0                \n",
       "5 0                                 0                    0                \n",
       "6 0                                 0                    0                \n",
       "  PA_easiness_collective PA_easiness_home_activity PA_easiness_family_activity\n",
       "1 0                      1                         0                          \n",
       "2 0                      0                         0                          \n",
       "3 0                      0                         0                          \n",
       "4 0                      1                         0                          \n",
       "5 0                      1                         1                          \n",
       "6 0                      0                         0                          \n",
       "  PA_easiness_home_space PA_easiness_home_equipament PA_easiness_others\n",
       "1 0                      0                           0                 \n",
       "2 1                      1                           0                 \n",
       "3 0                      0                           0                 \n",
       "4 1                      1                           0                 \n",
       "5 1                      1                           0                 \n",
       "6 0                      1                           0                 "
      ]
     },
     "metadata": {},
     "output_type": "display_data"
    }
   ],
   "source": [
    "df_during_barriers_facilitators <- df_during[, 1:18]\n",
    "dim(df_during_barriers_facilitators)\n",
    "head(df_during_barriers_facilitators)"
   ]
  },
  {
   "cell_type": "markdown",
   "metadata": {},
   "source": [
    "### Removing Strangers"
   ]
  },
  {
   "cell_type": "code",
   "execution_count": 78,
   "metadata": {
    "vscode": {
     "languageId": "r"
    }
   },
   "outputs": [
    {
     "data": {
      "text/plain": [
       "strange_p\n",
       "FALSE  TRUE \n",
       " 1244     6 "
      ]
     },
     "metadata": {},
     "output_type": "display_data"
    },
    {
     "data": {
      "text/plain": [
       "strange_dp\n",
       "FALSE  TRUE \n",
       " 1218    26 "
      ]
     },
     "metadata": {},
     "output_type": "display_data"
    }
   ],
   "source": [
    "differ_p <- (   df_during$PA_duration == 0 \n",
    "                | df_during$PA_intensity == 0 \n",
    "                | df_during$PA_weekly_frequency == 0\n",
    "                | df_during$PA_number == 0\n",
    "            )\n",
    "strange_p <- df_during$PA_practice_during == 1 & differ_p\n",
    "df_during <- df_during[!strange_p, ]\n",
    "df_during_barriers_facilitators <- df_during_barriers_facilitators[!strange_p, ]\n",
    "table(strange_p)\n",
    "\n",
    "differ_dp <- ( df_during$PA_duration != 0 \n",
    "                | df_during$PA_intensity != 0 \n",
    "                | df_during$PA_weekly_frequency != 0\n",
    "                | df_during$PA_number != 0\n",
    "            ) \n",
    "strange_dp <- df_during$PA_practice_during == 0 & differ_dp \n",
    "\n",
    "\n",
    "table(strange_dp)\n",
    "df_during <- df_during[!strange_dp, ]\n",
    "df_during_barriers_facilitators <- df_during_barriers_facilitators[!strange_dp, ]"
   ]
  },
  {
   "cell_type": "markdown",
   "metadata": {},
   "source": [
    "### Agregate barriers and clean them\n"
   ]
  },
  {
   "cell_type": "code",
   "execution_count": 79,
   "metadata": {
    "vscode": {
     "languageId": "r"
    }
   },
   "outputs": [
    {
     "data": {
      "text/html": [
       "<style>\n",
       ".list-inline {list-style: none; margin:0; padding: 0}\n",
       ".list-inline>li {display: inline-block}\n",
       ".list-inline>li:not(:last-child)::after {content: \"\\00b7\"; padding: 0 .5ex}\n",
       "</style>\n",
       "<ol class=list-inline><li>'PA_barrier_time_family_responsabilities'</li><li>'PA_barrier__tiredness'</li><li>'PA_barrier_places_closed_dangerous'</li><li>'PA_barrier_money'</li><li>'PA_barrier_time_convenience'</li><li>'PA_barrier_hard_work'</li><li>'PA_barrier_no_interest'</li><li>'PA_easiness_outdoor_activities'</li><li>'PA_easiness_professional_guidance'</li><li>'PA_easiness_unguided'</li><li>'PA_easiness_music'</li><li>'PA_easiness_collective'</li><li>'PA_easiness_home_activity'</li><li>'PA_easiness_family_activity'</li><li>'PA_easiness_home_space'</li><li>'PA_easiness_home_equipament'</li></ol>\n"
      ],
      "text/latex": [
       "\\begin{enumerate*}\n",
       "\\item 'PA\\_barrier\\_time\\_family\\_responsabilities'\n",
       "\\item 'PA\\_barrier\\_\\_tiredness'\n",
       "\\item 'PA\\_barrier\\_places\\_closed\\_dangerous'\n",
       "\\item 'PA\\_barrier\\_money'\n",
       "\\item 'PA\\_barrier\\_time\\_convenience'\n",
       "\\item 'PA\\_barrier\\_hard\\_work'\n",
       "\\item 'PA\\_barrier\\_no\\_interest'\n",
       "\\item 'PA\\_easiness\\_outdoor\\_activities'\n",
       "\\item 'PA\\_easiness\\_professional\\_guidance'\n",
       "\\item 'PA\\_easiness\\_unguided'\n",
       "\\item 'PA\\_easiness\\_music'\n",
       "\\item 'PA\\_easiness\\_collective'\n",
       "\\item 'PA\\_easiness\\_home\\_activity'\n",
       "\\item 'PA\\_easiness\\_family\\_activity'\n",
       "\\item 'PA\\_easiness\\_home\\_space'\n",
       "\\item 'PA\\_easiness\\_home\\_equipament'\n",
       "\\end{enumerate*}\n"
      ],
      "text/markdown": [
       "1. 'PA_barrier_time_family_responsabilities'\n",
       "2. 'PA_barrier__tiredness'\n",
       "3. 'PA_barrier_places_closed_dangerous'\n",
       "4. 'PA_barrier_money'\n",
       "5. 'PA_barrier_time_convenience'\n",
       "6. 'PA_barrier_hard_work'\n",
       "7. 'PA_barrier_no_interest'\n",
       "8. 'PA_easiness_outdoor_activities'\n",
       "9. 'PA_easiness_professional_guidance'\n",
       "10. 'PA_easiness_unguided'\n",
       "11. 'PA_easiness_music'\n",
       "12. 'PA_easiness_collective'\n",
       "13. 'PA_easiness_home_activity'\n",
       "14. 'PA_easiness_family_activity'\n",
       "15. 'PA_easiness_home_space'\n",
       "16. 'PA_easiness_home_equipament'\n",
       "\n",
       "\n"
      ],
      "text/plain": [
       " [1] \"PA_barrier_time_family_responsabilities\"\n",
       " [2] \"PA_barrier__tiredness\"                  \n",
       " [3] \"PA_barrier_places_closed_dangerous\"     \n",
       " [4] \"PA_barrier_money\"                       \n",
       " [5] \"PA_barrier_time_convenience\"            \n",
       " [6] \"PA_barrier_hard_work\"                   \n",
       " [7] \"PA_barrier_no_interest\"                 \n",
       " [8] \"PA_easiness_outdoor_activities\"         \n",
       " [9] \"PA_easiness_professional_guidance\"      \n",
       "[10] \"PA_easiness_unguided\"                   \n",
       "[11] \"PA_easiness_music\"                      \n",
       "[12] \"PA_easiness_collective\"                 \n",
       "[13] \"PA_easiness_home_activity\"              \n",
       "[14] \"PA_easiness_family_activity\"            \n",
       "[15] \"PA_easiness_home_space\"                 \n",
       "[16] \"PA_easiness_home_equipament\"            "
      ]
     },
     "metadata": {},
     "output_type": "display_data"
    }
   ],
   "source": [
    "df_during_barriers_facilitators$PA_easiness_others <- NULL\n",
    "df_during_barriers_facilitators$PA_barrier_none <- NULL\n",
    "names(df_during_barriers_facilitators)"
   ]
  },
  {
   "cell_type": "code",
   "execution_count": 80,
   "metadata": {
    "vscode": {
     "languageId": "r"
    }
   },
   "outputs": [],
   "source": [
    "\n",
    "time_barrier_1 <- df_during_barriers_facilitators$PA_barrier_time_family_responsabilities\n",
    "time_barrier_2 <- df_during_barriers_facilitators$PA_barrier_time_convenience\n",
    "\n",
    "\n",
    "hard_barrier_1 <- df_during_barriers_facilitators$PA_barrier__tiredness\n",
    "hard_barrier_2 <- df_during_barriers_facilitators$PA_barrier_hard_work\n",
    "\n",
    "group_easiness_1 <- df_during_barriers_facilitators$PA_easiness_family_activity\n",
    "group_easiness_2 <- df_during_barriers_facilitators$PA_easiness_collective\n",
    "\n",
    "\n",
    "home_easiness_1 <- df_during_barriers_facilitators$PA_easiness_home_space\n",
    "home_easiness_2 <- df_during_barriers_facilitators$PA_easiness_home_equipament\n",
    "\n",
    "\n",
    "df_during_barriers_facilitators$PA_barrier_time <- time_barrier_1 + time_barrier_2\n",
    "df_during_barriers_facilitators$PA_barrier_hard <- hard_barrier_1 + hard_barrier_2\n",
    "df_during_barriers_facilitators$PA_easiness_group <- group_easiness_1 + group_easiness_2\n",
    "df_during_barriers_facilitators$PA_easiness_home <- home_easiness_1 + home_easiness_2\n"
   ]
  },
  {
   "cell_type": "code",
   "execution_count": 81,
   "metadata": {
    "vscode": {
     "languageId": "r"
    }
   },
   "outputs": [],
   "source": [
    "df_during_barriers_facilitators$PA_barrier_time_family_responsabilities <- NULL\n",
    "df_during_barriers_facilitators$PA_barrier_time_convenience <- NULL\n",
    "\n",
    "df_during_barriers_facilitators$PA_barrier__tiredness <- NULL\n",
    "df_during_barriers_facilitators$PA_barrier_hard_work <- NULL\n",
    "\n",
    "df_during_barriers_facilitators$PA_easiness_family_activity <- NULL\n",
    "df_during_barriers_facilitators$PA_easiness_collective <- NULL\n",
    "\n",
    "df_during_barriers_facilitators$PA_easiness_home_space <- NULL\n",
    "df_during_barriers_facilitators$PA_easiness_home_equipament <- NULL"
   ]
  },
  {
   "cell_type": "markdown",
   "metadata": {},
   "source": [
    "## Kmeans and Silhouette method"
   ]
  },
  {
   "cell_type": "code",
   "execution_count": 82,
   "metadata": {
    "vscode": {
     "languageId": "r"
    }
   },
   "outputs": [],
   "source": [
    "dis = dist(df_during_barriers_facilitators)^2"
   ]
  },
  {
   "cell_type": "code",
   "execution_count": 105,
   "metadata": {
    "vscode": {
     "languageId": "r"
    }
   },
   "outputs": [],
   "source": [
    "num_seeds = 100\n",
    "max_indexs <- c()\n",
    "max_values <- c()\n",
    "dis <- dist(df_during_barriers_facilitators)^2\n",
    "seed_k <- data.frame(matrix(NA, ncol=num_seeds))\n",
    "for(seed in 1:num_seeds){\n",
    "    silhouette_scs <- c()\n",
    "    for(k in 2:8){\n",
    "        set.seed(seed)\n",
    " \n",
    "        km <- kmeans(df_during_barriers_facilitators, centers = k, nstart=200)\n",
    "        ss <- silhouette(km$cluster, dis)\n",
    "        sc <- mean(ss[, 3])\n",
    "        silhouette_scs <- append(sc, silhouette_scs)\n",
    "    }\n",
    "    mvalue <- max(silhouette_scs)\n",
    "    max_values <- append(mvalue, max_values)\n",
    "    max_indexs <- append(9 - match(max(mvalue), silhouette_scs), max_indexs)\n",
    "}\n",
    "\n",
    "\n",
    "write.csv(data.frame(k=rev(max_indexs), sc=rev(max_values)),\"../Data/silhouette.csv\", row.names = FALSE)"
   ]
  },
  {
   "cell_type": "code",
   "execution_count": 106,
   "metadata": {
    "vscode": {
     "languageId": "r"
    }
   },
   "outputs": [
    {
     "data": {
      "text/html": [
       "<table class=\"dataframe\">\n",
       "<caption>A data.frame: 10 × 3</caption>\n",
       "<thead>\n",
       "\t<tr><th></th><th scope=col>k</th><th scope=col>sc</th><th scope=col>seed</th></tr>\n",
       "\t<tr><th></th><th scope=col>&lt;int&gt;</th><th scope=col>&lt;dbl&gt;</th><th scope=col>&lt;int&gt;</th></tr>\n",
       "</thead>\n",
       "<tbody>\n",
       "\t<tr><th scope=row>1</th><td>2</td><td>0.3339729</td><td> 1</td></tr>\n",
       "\t<tr><th scope=row>2</th><td>2</td><td>0.3339729</td><td> 2</td></tr>\n",
       "\t<tr><th scope=row>3</th><td>2</td><td>0.3339729</td><td> 3</td></tr>\n",
       "\t<tr><th scope=row>4</th><td>2</td><td>0.3339729</td><td> 4</td></tr>\n",
       "\t<tr><th scope=row>5</th><td>2</td><td>0.3339729</td><td> 5</td></tr>\n",
       "\t<tr><th scope=row>6</th><td>2</td><td>0.3339729</td><td> 6</td></tr>\n",
       "\t<tr><th scope=row>7</th><td>2</td><td>0.3339729</td><td> 7</td></tr>\n",
       "\t<tr><th scope=row>8</th><td>2</td><td>0.3339729</td><td> 8</td></tr>\n",
       "\t<tr><th scope=row>9</th><td>2</td><td>0.3339729</td><td> 9</td></tr>\n",
       "\t<tr><th scope=row>10</th><td>2</td><td>0.3339729</td><td>10</td></tr>\n",
       "</tbody>\n",
       "</table>\n"
      ],
      "text/latex": [
       "A data.frame: 10 × 3\n",
       "\\begin{tabular}{r|lll}\n",
       "  & k & sc & seed\\\\\n",
       "  & <int> & <dbl> & <int>\\\\\n",
       "\\hline\n",
       "\t1 & 2 & 0.3339729 &  1\\\\\n",
       "\t2 & 2 & 0.3339729 &  2\\\\\n",
       "\t3 & 2 & 0.3339729 &  3\\\\\n",
       "\t4 & 2 & 0.3339729 &  4\\\\\n",
       "\t5 & 2 & 0.3339729 &  5\\\\\n",
       "\t6 & 2 & 0.3339729 &  6\\\\\n",
       "\t7 & 2 & 0.3339729 &  7\\\\\n",
       "\t8 & 2 & 0.3339729 &  8\\\\\n",
       "\t9 & 2 & 0.3339729 &  9\\\\\n",
       "\t10 & 2 & 0.3339729 & 10\\\\\n",
       "\\end{tabular}\n"
      ],
      "text/markdown": [
       "\n",
       "A data.frame: 10 × 3\n",
       "\n",
       "| <!--/--> | k &lt;int&gt; | sc &lt;dbl&gt; | seed &lt;int&gt; |\n",
       "|---|---|---|---|\n",
       "| 1 | 2 | 0.3339729 |  1 |\n",
       "| 2 | 2 | 0.3339729 |  2 |\n",
       "| 3 | 2 | 0.3339729 |  3 |\n",
       "| 4 | 2 | 0.3339729 |  4 |\n",
       "| 5 | 2 | 0.3339729 |  5 |\n",
       "| 6 | 2 | 0.3339729 |  6 |\n",
       "| 7 | 2 | 0.3339729 |  7 |\n",
       "| 8 | 2 | 0.3339729 |  8 |\n",
       "| 9 | 2 | 0.3339729 |  9 |\n",
       "| 10 | 2 | 0.3339729 | 10 |\n",
       "\n"
      ],
      "text/plain": [
       "   k sc        seed\n",
       "1  2 0.3339729  1  \n",
       "2  2 0.3339729  2  \n",
       "3  2 0.3339729  3  \n",
       "4  2 0.3339729  4  \n",
       "5  2 0.3339729  5  \n",
       "6  2 0.3339729  6  \n",
       "7  2 0.3339729  7  \n",
       "8  2 0.3339729  8  \n",
       "9  2 0.3339729  9  \n",
       "10 2 0.3339729 10  "
      ]
     },
     "metadata": {},
     "output_type": "display_data"
    }
   ],
   "source": [
    "best_silhouettes <- read.csv('../Data/silhouette.csv')\n",
    "best_silhouettes$seed <- seq.int(nrow(best_silhouettes))\n",
    "head(best_silhouettes[order(best_silhouettes$sc, decreasing=TRUE), ], 10)"
   ]
  }
 ],
 "metadata": {
  "kernelspec": {
   "display_name": "R",
   "language": "R",
   "name": "ir"
  },
  "language_info": {
   "codemirror_mode": "r",
   "file_extension": ".r",
   "mimetype": "text/x-r-source",
   "name": "R",
   "pygments_lexer": "r",
   "version": "4.1.0"
  },
  "orig_nbformat": 4
 },
 "nbformat": 4,
 "nbformat_minor": 2
}
